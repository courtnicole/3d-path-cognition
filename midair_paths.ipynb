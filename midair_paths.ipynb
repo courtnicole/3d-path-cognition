{
 "cells": [
  {
   "cell_type": "markdown",
   "metadata": {},
   "source": [
    "## Imports"
   ]
  },
  {
   "cell_type": "code",
   "execution_count": 1,
   "metadata": {},
   "outputs": [],
   "source": [
    "import numpy as np\n",
    "import pandas as pd\n",
    "from lmfit.models import Model\n",
    "from scipy import stats\n",
    "import plotly.express as px\n",
    "import plotly.graph_objects as go\n",
    "from plotly.subplots import make_subplots\n",
    "import math\n",
    "from pandas.api.types import CategoricalDtype"
   ]
  },
  {
   "cell_type": "markdown",
   "metadata": {},
   "source": [
    "## Pupillary Functions\n"
   ]
  },
  {
   "cell_type": "markdown",
   "metadata": {},
   "source": [
    "Task evoked pupillary response is calculated after correcting for luminance-induced pupil dilation: $𝑇𝐸𝑃𝑅 = 𝑑_m − 𝑑(𝑌)$, where $d_m$ is the measured pupil dilation, and $d(Y)$ is the predicted pupil dilation for the given luminance level. \n",
    "\n",
    "Predicted pupil dilation is calculated from a calibration sequence that produces and individual mapping model for each participant. The calibration sequence consists of 8 solid gray colors with varying luminance levels displayed in a psuedo-random order for 6 seconds each. The luminance levels span the range from 0.0 to 0.78, and for each calibration level, the first 0.5s of data is discarded to account for the initial pupillary response to the change in luminance, which can take a maximum of 0.5s. . The individual mapping model is calculated using a non-linear least squares regression to fit the equation $𝑑(𝑌) = 𝑎 · 𝑒^{−𝑏·𝑌} + c$ to the measured pupil dilation data for each participant. \n",
    "\n",
    "Pupil dilation data and the average luminance data were collected at 90 Hz, the display rate of the HMD.\n",
    "\n",
    "See: Eckert, M., Robotham, T., Habets, E. A. P., and Rummukainen, O. S. (2022). Pupillary Light Reflex Correction for Robust Pupillometry in Virtual Reality. Proc. ACM Comput. Graph. Interact. Tech. 5, 1–16. doi: 10.1145/3530798"
   ]
  },
  {
   "cell_type": "code",
   "execution_count": 2,
   "metadata": {},
   "outputs": [],
   "source": [
    "def pupil_func(x, a, b, c):\n",
    "    return a * np.exp(-b * x) + c"
   ]
  },
  {
   "cell_type": "code",
   "execution_count": 3,
   "metadata": {},
   "outputs": [],
   "source": [
    "def modmax(d):\n",
    "    # compute signal modulus\n",
    "    m = [0.0]*len(d)\n",
    "    for i in range(len(d)):\n",
    "        m[i] = math.fabs(d[i])\n",
    "    # if value is larger than both neighbours , and strictly larger than either , then it is a local maximum\n",
    "    t = [0.0]*len(d)\n",
    "    for i in range(len(d)):\n",
    "        ll = m[i -1] if i >= 1 else m[i]\n",
    "        oo = m[i]\n",
    "        rr = m[i+1] if i < len(d)-2 else m[i]\n",
    "        if (ll <= oo and oo >= rr) and (ll < oo or oo > rr):\n",
    "        # compute magnitude\n",
    "            t[i] = math.sqrt(d[i]**2)\n",
    "        else:\n",
    "            t[i] = 0.0\n",
    "    return t"
   ]
  },
  {
   "cell_type": "code",
   "execution_count": 4,
   "metadata": {},
   "outputs": [],
   "source": [
    "def ipa_func(d):\n",
    "    # obtain 2-level DWT of pupil diameter signal d\n",
    "    try:\n",
    "        (cA2 ,cD2 ,cD1) = pywt.wavedec(d,'sym16', 'per', level=2)\n",
    "    except ValueError :\n",
    "        return\n",
    "    # get signal duration (in seconds)\n",
    "    tt = d.index[-1] - d.index[0]\n",
    "    # normalize by 1/2 j , j = 2 for 2-level DWT\n",
    "    cA2 [:] = [x / math.sqrt (4.0) for x in cA2]\n",
    "    cD1 [:] = [x / math.sqrt (2.0) for x in cD1]\n",
    "    cD2 [:] = [x / math.sqrt (4.0) for x in cD2]\n",
    "\n",
    "    # detect modulus maxima , see Listing 2\n",
    "    cD2m = modmax(cD2)\n",
    "    # threshold using universal threshold λuniv = σˆp(2logn)\n",
    "    # where σˆ is the standard deviation of the noise\n",
    "    λuniv = np.std(cD2m) * math.sqrt (2.0* np.log2(len(cD2m )))\n",
    "    cD2t = pywt. threshold (cD2m ,λuniv,mode=\"hard\")\n",
    "    # compute IPA\n",
    "    ctr = 0\n",
    "    for i in range(len(cD2t )):\n",
    "        if math.fabs(cD2t[i]) > 0: ctr += 1\n",
    "    IPA = float(ctr)/tt.total_seconds()\n",
    "\n",
    "    return IPA"
   ]
  },
  {
   "cell_type": "markdown",
   "metadata": {},
   "source": [
    "## Statistical Functions"
   ]
  },
  {
   "cell_type": "code",
   "execution_count": 5,
   "metadata": {},
   "outputs": [],
   "source": [
    "def iqr_outlier_indices(data):\n",
    "    q1 = data.quantile(.25)\n",
    "    q3 = data.quantile(.75)\n",
    "    iqr = stats.iqr(data, nan_policy='omit', rng=(25, 75))\n",
    "    return np.where((data < (q1 - 1.5 * iqr)) | (data > (q3 + 1.5 * iqr)))"
   ]
  },
  {
   "cell_type": "code",
   "execution_count": 6,
   "metadata": {},
   "outputs": [],
   "source": [
    "def iqr_stats(data):\n",
    "    q1 = np.percentile(data, 25)\n",
    "    q3 = np.percentile(data, 75)\n",
    "    iqr = stats.iqr(data, nan_policy='omit', rng=(25, 75))\n",
    "    return iqr, q1, q3"
   ]
  },
  {
   "cell_type": "code",
   "execution_count": 7,
   "metadata": {},
   "outputs": [],
   "source": [
    "def get_results_colors(np, wp, tp):\n",
    "    pastels = px.colors.qualitative.Pastel2\n",
    "    default_color = 'white'\n",
    "    significant_color = pastels[0]\n",
    "    non_significant_color = pastels[3]\n",
    "\n",
    "    normal_color = non_significant_color if np < 0.05 else significant_color\n",
    "    wilcox_color = default_color\n",
    "    ttest_color = default_color\n",
    "    if np < 0.05:\n",
    "        wilcox_color = significant_color if wp < 0.05 else non_significant_color\n",
    "    else:\n",
    "        ttest_color = significant_color if tp < 0.05 else non_significant_color\n",
    "\n",
    "    fill_color = [[default_color, default_color, default_color],\n",
    "                  [default_color, wilcox_color, ttest_color] , \n",
    "                  [normal_color, wilcox_color, ttest_color]]\n",
    "    \n",
    "    return fill_color"
   ]
  },
  {
   "cell_type": "markdown",
   "metadata": {},
   "source": [
    "## Data Processing Functions"
   ]
  },
  {
   "cell_type": "code",
   "execution_count": 8,
   "metadata": {},
   "outputs": [],
   "source": [
    "method_cats = CategoricalDtype(['4DoF','6DoF', 'unimanual','bimanual'], ordered=False)\n",
    "model_cats = CategoricalDtype(['A', 'B', 'C', 'D'], ordered=True)\n",
    "block_cats = CategoricalDtype(['0', '1', '2', '3'], ordered=True)\n",
    "event_cats = CategoricalDtype(['Start', 'PointPlaced', 'Move', 'End', 'Draw', 'Erase', 'PointDeleted'], ordered=False)\n",
    "target_cats = CategoricalDtype(['1','2'], ordered=False)\n",
    "trial_cats = CategoricalDtype(['0','1','2','3'], ordered=True)\n",
    "data_names = ['id', 'model', 'method']"
   ]
  },
  {
   "cell_type": "markdown",
   "metadata": {},
   "source": [
    "## Import Data"
   ]
  },
  {
   "cell_type": "code",
   "execution_count": 9,
   "metadata": {},
   "outputs": [],
   "source": [
    "user_data_nav = pd.read_pickle('user_data_nav.pkl')\n",
    "user_data_crt = pd.read_pickle('user_data_crt.pkl')"
   ]
  },
  {
   "cell_type": "markdown",
   "metadata": {},
   "source": [
    "## Dataframe Structure"
   ]
  },
  {
   "cell_type": "code",
   "execution_count": 10,
   "metadata": {},
   "outputs": [
    {
     "data": {
      "text/html": [
       "<div>\n",
       "<style scoped>\n",
       "    .dataframe tbody tr th:only-of-type {\n",
       "        vertical-align: middle;\n",
       "    }\n",
       "\n",
       "    .dataframe tbody tr th {\n",
       "        vertical-align: top;\n",
       "    }\n",
       "\n",
       "    .dataframe thead th {\n",
       "        text-align: right;\n",
       "    }\n",
       "</style>\n",
       "<table border=\"1\" class=\"dataframe\">\n",
       "  <thead>\n",
       "    <tr style=\"text-align: right;\">\n",
       "      <th></th>\n",
       "      <th></th>\n",
       "      <th></th>\n",
       "      <th>luminance</th>\n",
       "      <th>pupilDiameter</th>\n",
       "      <th>pupil_lum_base</th>\n",
       "      <th>adj_pupil</th>\n",
       "      <th>total_time</th>\n",
       "      <th>IPA</th>\n",
       "      <th>discomfort</th>\n",
       "      <th>seq</th>\n",
       "    </tr>\n",
       "    <tr>\n",
       "      <th>id</th>\n",
       "      <th>model</th>\n",
       "      <th>method</th>\n",
       "      <th></th>\n",
       "      <th></th>\n",
       "      <th></th>\n",
       "      <th></th>\n",
       "      <th></th>\n",
       "      <th></th>\n",
       "      <th></th>\n",
       "      <th></th>\n",
       "    </tr>\n",
       "  </thead>\n",
       "  <tbody>\n",
       "    <tr>\n",
       "      <th rowspan=\"5\" valign=\"top\">108</th>\n",
       "      <th rowspan=\"2\" valign=\"top\">A</th>\n",
       "      <th>4DoF</th>\n",
       "      <td>0.224356</td>\n",
       "      <td>4.866458</td>\n",
       "      <td>3.831577</td>\n",
       "      <td>1.034881</td>\n",
       "      <td>37.0822</td>\n",
       "      <td>0.242846</td>\n",
       "      <td>2</td>\n",
       "      <td>0</td>\n",
       "    </tr>\n",
       "    <tr>\n",
       "      <th>6DoF</th>\n",
       "      <td>0.225511</td>\n",
       "      <td>4.359483</td>\n",
       "      <td>3.829147</td>\n",
       "      <td>0.530336</td>\n",
       "      <td>61.0043</td>\n",
       "      <td>0.098389</td>\n",
       "      <td>1</td>\n",
       "      <td>0</td>\n",
       "    </tr>\n",
       "    <tr>\n",
       "      <th rowspan=\"2\" valign=\"top\">B</th>\n",
       "      <th>4DoF</th>\n",
       "      <td>0.242239</td>\n",
       "      <td>4.650883</td>\n",
       "      <td>3.771303</td>\n",
       "      <td>0.879580</td>\n",
       "      <td>67.7005</td>\n",
       "      <td>0.147757</td>\n",
       "      <td>1</td>\n",
       "      <td>0</td>\n",
       "    </tr>\n",
       "    <tr>\n",
       "      <th>6DoF</th>\n",
       "      <td>0.256185</td>\n",
       "      <td>4.437137</td>\n",
       "      <td>3.746679</td>\n",
       "      <td>0.690458</td>\n",
       "      <td>96.4316</td>\n",
       "      <td>0.197076</td>\n",
       "      <td>1</td>\n",
       "      <td>0</td>\n",
       "    </tr>\n",
       "    <tr>\n",
       "      <th>C</th>\n",
       "      <th>4DoF</th>\n",
       "      <td>0.223505</td>\n",
       "      <td>4.658904</td>\n",
       "      <td>3.852900</td>\n",
       "      <td>0.806004</td>\n",
       "      <td>88.0356</td>\n",
       "      <td>0.227236</td>\n",
       "      <td>1</td>\n",
       "      <td>1</td>\n",
       "    </tr>\n",
       "  </tbody>\n",
       "</table>\n",
       "</div>"
      ],
      "text/plain": [
       "                  luminance  pupilDiameter  pupil_lum_base  adj_pupil  \\\n",
       "id  model method                                                        \n",
       "108 A     4DoF     0.224356       4.866458        3.831577   1.034881   \n",
       "          6DoF     0.225511       4.359483        3.829147   0.530336   \n",
       "    B     4DoF     0.242239       4.650883        3.771303   0.879580   \n",
       "          6DoF     0.256185       4.437137        3.746679   0.690458   \n",
       "    C     4DoF     0.223505       4.658904        3.852900   0.806004   \n",
       "\n",
       "                  total_time       IPA  discomfort  seq  \n",
       "id  model method                                         \n",
       "108 A     4DoF       37.0822  0.242846           2    0  \n",
       "          6DoF       61.0043  0.098389           1    0  \n",
       "    B     4DoF       67.7005  0.147757           1    0  \n",
       "          6DoF       96.4316  0.197076           1    0  \n",
       "    C     4DoF       88.0356  0.227236           1    1  "
      ]
     },
     "execution_count": 10,
     "metadata": {},
     "output_type": "execute_result"
    }
   ],
   "source": [
    "user_data_nav.head()"
   ]
  },
  {
   "cell_type": "code",
   "execution_count": 11,
   "metadata": {},
   "outputs": [
    {
     "data": {
      "text/html": [
       "<div>\n",
       "<style scoped>\n",
       "    .dataframe tbody tr th:only-of-type {\n",
       "        vertical-align: middle;\n",
       "    }\n",
       "\n",
       "    .dataframe tbody tr th {\n",
       "        vertical-align: top;\n",
       "    }\n",
       "\n",
       "    .dataframe thead th {\n",
       "        text-align: right;\n",
       "    }\n",
       "</style>\n",
       "<table border=\"1\" class=\"dataframe\">\n",
       "  <thead>\n",
       "    <tr style=\"text-align: right;\">\n",
       "      <th></th>\n",
       "      <th>luminance</th>\n",
       "      <th>pupilDiameter</th>\n",
       "      <th>pupil_lum_base</th>\n",
       "      <th>adj_pupil</th>\n",
       "      <th>total_time</th>\n",
       "      <th>IPA</th>\n",
       "      <th>discomfort</th>\n",
       "      <th>seq</th>\n",
       "    </tr>\n",
       "  </thead>\n",
       "  <tbody>\n",
       "    <tr>\n",
       "      <th>count</th>\n",
       "      <td>270.000000</td>\n",
       "      <td>270.000000</td>\n",
       "      <td>270.000000</td>\n",
       "      <td>270.000000</td>\n",
       "      <td>270.000000</td>\n",
       "      <td>270.000000</td>\n",
       "      <td>270.000000</td>\n",
       "      <td>270.000000</td>\n",
       "    </tr>\n",
       "    <tr>\n",
       "      <th>mean</th>\n",
       "      <td>0.227208</td>\n",
       "      <td>3.697572</td>\n",
       "      <td>3.232291</td>\n",
       "      <td>0.465281</td>\n",
       "      <td>66.730551</td>\n",
       "      <td>0.174273</td>\n",
       "      <td>2.459259</td>\n",
       "      <td>0.670370</td>\n",
       "    </tr>\n",
       "    <tr>\n",
       "      <th>std</th>\n",
       "      <td>0.021534</td>\n",
       "      <td>0.512666</td>\n",
       "      <td>0.482426</td>\n",
       "      <td>0.293403</td>\n",
       "      <td>27.594378</td>\n",
       "      <td>0.054892</td>\n",
       "      <td>2.555737</td>\n",
       "      <td>0.865839</td>\n",
       "    </tr>\n",
       "    <tr>\n",
       "      <th>min</th>\n",
       "      <td>0.158152</td>\n",
       "      <td>2.448724</td>\n",
       "      <td>2.170120</td>\n",
       "      <td>-0.354323</td>\n",
       "      <td>24.187100</td>\n",
       "      <td>0.054860</td>\n",
       "      <td>0.000000</td>\n",
       "      <td>0.000000</td>\n",
       "    </tr>\n",
       "    <tr>\n",
       "      <th>25%</th>\n",
       "      <td>0.214954</td>\n",
       "      <td>3.304627</td>\n",
       "      <td>3.006914</td>\n",
       "      <td>0.230412</td>\n",
       "      <td>48.380099</td>\n",
       "      <td>0.130967</td>\n",
       "      <td>0.000000</td>\n",
       "      <td>0.000000</td>\n",
       "    </tr>\n",
       "    <tr>\n",
       "      <th>50%</th>\n",
       "      <td>0.224900</td>\n",
       "      <td>3.689174</td>\n",
       "      <td>3.196184</td>\n",
       "      <td>0.465254</td>\n",
       "      <td>57.755500</td>\n",
       "      <td>0.171791</td>\n",
       "      <td>1.000000</td>\n",
       "      <td>0.000000</td>\n",
       "    </tr>\n",
       "    <tr>\n",
       "      <th>75%</th>\n",
       "      <td>0.240174</td>\n",
       "      <td>4.055160</td>\n",
       "      <td>3.480494</td>\n",
       "      <td>0.694074</td>\n",
       "      <td>76.352525</td>\n",
       "      <td>0.213827</td>\n",
       "      <td>4.000000</td>\n",
       "      <td>1.000000</td>\n",
       "    </tr>\n",
       "    <tr>\n",
       "      <th>max</th>\n",
       "      <td>0.294793</td>\n",
       "      <td>5.205173</td>\n",
       "      <td>4.245193</td>\n",
       "      <td>1.268353</td>\n",
       "      <td>212.109400</td>\n",
       "      <td>0.342511</td>\n",
       "      <td>10.000000</td>\n",
       "      <td>4.000000</td>\n",
       "    </tr>\n",
       "  </tbody>\n",
       "</table>\n",
       "</div>"
      ],
      "text/plain": [
       "        luminance  pupilDiameter  pupil_lum_base   adj_pupil  total_time  \\\n",
       "count  270.000000     270.000000      270.000000  270.000000  270.000000   \n",
       "mean     0.227208       3.697572        3.232291    0.465281   66.730551   \n",
       "std      0.021534       0.512666        0.482426    0.293403   27.594378   \n",
       "min      0.158152       2.448724        2.170120   -0.354323   24.187100   \n",
       "25%      0.214954       3.304627        3.006914    0.230412   48.380099   \n",
       "50%      0.224900       3.689174        3.196184    0.465254   57.755500   \n",
       "75%      0.240174       4.055160        3.480494    0.694074   76.352525   \n",
       "max      0.294793       5.205173        4.245193    1.268353  212.109400   \n",
       "\n",
       "              IPA  discomfort         seq  \n",
       "count  270.000000  270.000000  270.000000  \n",
       "mean     0.174273    2.459259    0.670370  \n",
       "std      0.054892    2.555737    0.865839  \n",
       "min      0.054860    0.000000    0.000000  \n",
       "25%      0.130967    0.000000    0.000000  \n",
       "50%      0.171791    1.000000    0.000000  \n",
       "75%      0.213827    4.000000    1.000000  \n",
       "max      0.342511   10.000000    4.000000  "
      ]
     },
     "execution_count": 11,
     "metadata": {},
     "output_type": "execute_result"
    }
   ],
   "source": [
    "user_data_nav.describe()"
   ]
  },
  {
   "cell_type": "code",
   "execution_count": 12,
   "metadata": {},
   "outputs": [
    {
     "data": {
      "text/html": [
       "<div>\n",
       "<style scoped>\n",
       "    .dataframe tbody tr th:only-of-type {\n",
       "        vertical-align: middle;\n",
       "    }\n",
       "\n",
       "    .dataframe tbody tr th {\n",
       "        vertical-align: top;\n",
       "    }\n",
       "\n",
       "    .dataframe thead th {\n",
       "        text-align: right;\n",
       "    }\n",
       "</style>\n",
       "<table border=\"1\" class=\"dataframe\">\n",
       "  <thead>\n",
       "    <tr style=\"text-align: right;\">\n",
       "      <th></th>\n",
       "      <th></th>\n",
       "      <th></th>\n",
       "      <th>luminance</th>\n",
       "      <th>pupilDiameter</th>\n",
       "      <th>pupil_lum_base</th>\n",
       "      <th>adj_pupil</th>\n",
       "      <th>total_time</th>\n",
       "      <th>IPA</th>\n",
       "      <th>seq</th>\n",
       "      <th>PointPlaced</th>\n",
       "      <th>Move</th>\n",
       "      <th>Draw</th>\n",
       "      <th>Erase</th>\n",
       "      <th>PointDeleted</th>\n",
       "    </tr>\n",
       "    <tr>\n",
       "      <th>id</th>\n",
       "      <th>model</th>\n",
       "      <th>method</th>\n",
       "      <th></th>\n",
       "      <th></th>\n",
       "      <th></th>\n",
       "      <th></th>\n",
       "      <th></th>\n",
       "      <th></th>\n",
       "      <th></th>\n",
       "      <th></th>\n",
       "      <th></th>\n",
       "      <th></th>\n",
       "      <th></th>\n",
       "      <th></th>\n",
       "    </tr>\n",
       "  </thead>\n",
       "  <tbody>\n",
       "    <tr>\n",
       "      <th rowspan=\"5\" valign=\"top\">108</th>\n",
       "      <th rowspan=\"2\" valign=\"top\">A</th>\n",
       "      <th>unimanual</th>\n",
       "      <td>0.280843</td>\n",
       "      <td>4.402825</td>\n",
       "      <td>3.651643</td>\n",
       "      <td>0.751182</td>\n",
       "      <td>98.3030</td>\n",
       "      <td>0.111912</td>\n",
       "      <td>1</td>\n",
       "      <td>19</td>\n",
       "      <td>6</td>\n",
       "      <td>0</td>\n",
       "      <td>0</td>\n",
       "      <td>0</td>\n",
       "    </tr>\n",
       "    <tr>\n",
       "      <th>bimanual</th>\n",
       "      <td>0.259386</td>\n",
       "      <td>5.104381</td>\n",
       "      <td>3.717137</td>\n",
       "      <td>1.387243</td>\n",
       "      <td>62.7652</td>\n",
       "      <td>0.107009</td>\n",
       "      <td>2</td>\n",
       "      <td>0</td>\n",
       "      <td>0</td>\n",
       "      <td>4</td>\n",
       "      <td>0</td>\n",
       "      <td>0</td>\n",
       "    </tr>\n",
       "    <tr>\n",
       "      <th rowspan=\"2\" valign=\"top\">B</th>\n",
       "      <th>unimanual</th>\n",
       "      <td>0.320817</td>\n",
       "      <td>4.189030</td>\n",
       "      <td>3.540984</td>\n",
       "      <td>0.648046</td>\n",
       "      <td>95.2104</td>\n",
       "      <td>0.136582</td>\n",
       "      <td>2</td>\n",
       "      <td>17</td>\n",
       "      <td>3</td>\n",
       "      <td>0</td>\n",
       "      <td>0</td>\n",
       "      <td>0</td>\n",
       "    </tr>\n",
       "    <tr>\n",
       "      <th>bimanual</th>\n",
       "      <td>0.263313</td>\n",
       "      <td>4.835740</td>\n",
       "      <td>3.714536</td>\n",
       "      <td>1.121204</td>\n",
       "      <td>40.4416</td>\n",
       "      <td>0.173139</td>\n",
       "      <td>2</td>\n",
       "      <td>0</td>\n",
       "      <td>0</td>\n",
       "      <td>4</td>\n",
       "      <td>0</td>\n",
       "      <td>0</td>\n",
       "    </tr>\n",
       "    <tr>\n",
       "      <th>C</th>\n",
       "      <th>unimanual</th>\n",
       "      <td>0.237598</td>\n",
       "      <td>4.375924</td>\n",
       "      <td>3.783636</td>\n",
       "      <td>0.592288</td>\n",
       "      <td>36.4409</td>\n",
       "      <td>0.247039</td>\n",
       "      <td>1</td>\n",
       "      <td>12</td>\n",
       "      <td>1</td>\n",
       "      <td>0</td>\n",
       "      <td>0</td>\n",
       "      <td>0</td>\n",
       "    </tr>\n",
       "  </tbody>\n",
       "</table>\n",
       "</div>"
      ],
      "text/plain": [
       "                     luminance  pupilDiameter  pupil_lum_base  adj_pupil  \\\n",
       "id  model method                                                           \n",
       "108 A     unimanual   0.280843       4.402825        3.651643   0.751182   \n",
       "          bimanual    0.259386       5.104381        3.717137   1.387243   \n",
       "    B     unimanual   0.320817       4.189030        3.540984   0.648046   \n",
       "          bimanual    0.263313       4.835740        3.714536   1.121204   \n",
       "    C     unimanual   0.237598       4.375924        3.783636   0.592288   \n",
       "\n",
       "                     total_time       IPA  seq  PointPlaced  Move  Draw  \\\n",
       "id  model method                                                          \n",
       "108 A     unimanual     98.3030  0.111912    1           19     6     0   \n",
       "          bimanual      62.7652  0.107009    2            0     0     4   \n",
       "    B     unimanual     95.2104  0.136582    2           17     3     0   \n",
       "          bimanual      40.4416  0.173139    2            0     0     4   \n",
       "    C     unimanual     36.4409  0.247039    1           12     1     0   \n",
       "\n",
       "                     Erase  PointDeleted  \n",
       "id  model method                          \n",
       "108 A     unimanual      0             0  \n",
       "          bimanual       0             0  \n",
       "    B     unimanual      0             0  \n",
       "          bimanual       0             0  \n",
       "    C     unimanual      0             0  "
      ]
     },
     "execution_count": 12,
     "metadata": {},
     "output_type": "execute_result"
    }
   ],
   "source": [
    "user_data_crt.head()"
   ]
  },
  {
   "cell_type": "code",
   "execution_count": 13,
   "metadata": {},
   "outputs": [
    {
     "data": {
      "text/html": [
       "<div>\n",
       "<style scoped>\n",
       "    .dataframe tbody tr th:only-of-type {\n",
       "        vertical-align: middle;\n",
       "    }\n",
       "\n",
       "    .dataframe tbody tr th {\n",
       "        vertical-align: top;\n",
       "    }\n",
       "\n",
       "    .dataframe thead th {\n",
       "        text-align: right;\n",
       "    }\n",
       "</style>\n",
       "<table border=\"1\" class=\"dataframe\">\n",
       "  <thead>\n",
       "    <tr style=\"text-align: right;\">\n",
       "      <th></th>\n",
       "      <th>luminance</th>\n",
       "      <th>pupilDiameter</th>\n",
       "      <th>pupil_lum_base</th>\n",
       "      <th>adj_pupil</th>\n",
       "      <th>total_time</th>\n",
       "      <th>IPA</th>\n",
       "      <th>seq</th>\n",
       "      <th>PointPlaced</th>\n",
       "      <th>Move</th>\n",
       "      <th>Draw</th>\n",
       "      <th>Erase</th>\n",
       "      <th>PointDeleted</th>\n",
       "    </tr>\n",
       "  </thead>\n",
       "  <tbody>\n",
       "    <tr>\n",
       "      <th>count</th>\n",
       "      <td>272.000000</td>\n",
       "      <td>272.000000</td>\n",
       "      <td>272.000000</td>\n",
       "      <td>272.000000</td>\n",
       "      <td>272.000000</td>\n",
       "      <td>272.000000</td>\n",
       "      <td>272.000000</td>\n",
       "      <td>272.000000</td>\n",
       "      <td>272.000000</td>\n",
       "      <td>272.000000</td>\n",
       "      <td>272.000000</td>\n",
       "      <td>272.000000</td>\n",
       "    </tr>\n",
       "    <tr>\n",
       "      <th>mean</th>\n",
       "      <td>0.245325</td>\n",
       "      <td>3.760838</td>\n",
       "      <td>3.201510</td>\n",
       "      <td>0.559328</td>\n",
       "      <td>58.287357</td>\n",
       "      <td>0.177029</td>\n",
       "      <td>0.812500</td>\n",
       "      <td>5.069853</td>\n",
       "      <td>3.625000</td>\n",
       "      <td>2.566176</td>\n",
       "      <td>0.621324</td>\n",
       "      <td>0.238971</td>\n",
       "    </tr>\n",
       "    <tr>\n",
       "      <th>std</th>\n",
       "      <td>0.036036</td>\n",
       "      <td>0.592617</td>\n",
       "      <td>0.486131</td>\n",
       "      <td>0.328117</td>\n",
       "      <td>41.766342</td>\n",
       "      <td>0.065565</td>\n",
       "      <td>0.985948</td>\n",
       "      <td>6.891267</td>\n",
       "      <td>7.754477</td>\n",
       "      <td>6.273828</td>\n",
       "      <td>2.357368</td>\n",
       "      <td>0.827272</td>\n",
       "    </tr>\n",
       "    <tr>\n",
       "      <th>min</th>\n",
       "      <td>0.164554</td>\n",
       "      <td>2.419907</td>\n",
       "      <td>2.162557</td>\n",
       "      <td>-0.141567</td>\n",
       "      <td>11.261400</td>\n",
       "      <td>0.043479</td>\n",
       "      <td>0.000000</td>\n",
       "      <td>0.000000</td>\n",
       "      <td>0.000000</td>\n",
       "      <td>0.000000</td>\n",
       "      <td>0.000000</td>\n",
       "      <td>0.000000</td>\n",
       "    </tr>\n",
       "    <tr>\n",
       "      <th>25%</th>\n",
       "      <td>0.214720</td>\n",
       "      <td>3.303979</td>\n",
       "      <td>2.946377</td>\n",
       "      <td>0.311914</td>\n",
       "      <td>32.817550</td>\n",
       "      <td>0.133438</td>\n",
       "      <td>0.000000</td>\n",
       "      <td>0.000000</td>\n",
       "      <td>0.000000</td>\n",
       "      <td>0.000000</td>\n",
       "      <td>0.000000</td>\n",
       "      <td>0.000000</td>\n",
       "    </tr>\n",
       "    <tr>\n",
       "      <th>50%</th>\n",
       "      <td>0.243208</td>\n",
       "      <td>3.776663</td>\n",
       "      <td>3.124938</td>\n",
       "      <td>0.536255</td>\n",
       "      <td>46.113950</td>\n",
       "      <td>0.171491</td>\n",
       "      <td>1.000000</td>\n",
       "      <td>2.500000</td>\n",
       "      <td>0.000000</td>\n",
       "      <td>0.500000</td>\n",
       "      <td>0.000000</td>\n",
       "      <td>0.000000</td>\n",
       "    </tr>\n",
       "    <tr>\n",
       "      <th>75%</th>\n",
       "      <td>0.272621</td>\n",
       "      <td>4.207483</td>\n",
       "      <td>3.486466</td>\n",
       "      <td>0.752358</td>\n",
       "      <td>70.038900</td>\n",
       "      <td>0.217677</td>\n",
       "      <td>1.000000</td>\n",
       "      <td>8.000000</td>\n",
       "      <td>2.000000</td>\n",
       "      <td>2.000000</td>\n",
       "      <td>0.000000</td>\n",
       "      <td>0.000000</td>\n",
       "    </tr>\n",
       "    <tr>\n",
       "      <th>max</th>\n",
       "      <td>0.336842</td>\n",
       "      <td>5.373014</td>\n",
       "      <td>4.248593</td>\n",
       "      <td>1.713309</td>\n",
       "      <td>371.058100</td>\n",
       "      <td>0.401104</td>\n",
       "      <td>4.000000</td>\n",
       "      <td>50.000000</td>\n",
       "      <td>38.000000</td>\n",
       "      <td>61.000000</td>\n",
       "      <td>19.000000</td>\n",
       "      <td>6.000000</td>\n",
       "    </tr>\n",
       "  </tbody>\n",
       "</table>\n",
       "</div>"
      ],
      "text/plain": [
       "        luminance  pupilDiameter  pupil_lum_base   adj_pupil  total_time  \\\n",
       "count  272.000000     272.000000      272.000000  272.000000  272.000000   \n",
       "mean     0.245325       3.760838        3.201510    0.559328   58.287357   \n",
       "std      0.036036       0.592617        0.486131    0.328117   41.766342   \n",
       "min      0.164554       2.419907        2.162557   -0.141567   11.261400   \n",
       "25%      0.214720       3.303979        2.946377    0.311914   32.817550   \n",
       "50%      0.243208       3.776663        3.124938    0.536255   46.113950   \n",
       "75%      0.272621       4.207483        3.486466    0.752358   70.038900   \n",
       "max      0.336842       5.373014        4.248593    1.713309  371.058100   \n",
       "\n",
       "              IPA         seq  PointPlaced        Move        Draw  \\\n",
       "count  272.000000  272.000000   272.000000  272.000000  272.000000   \n",
       "mean     0.177029    0.812500     5.069853    3.625000    2.566176   \n",
       "std      0.065565    0.985948     6.891267    7.754477    6.273828   \n",
       "min      0.043479    0.000000     0.000000    0.000000    0.000000   \n",
       "25%      0.133438    0.000000     0.000000    0.000000    0.000000   \n",
       "50%      0.171491    1.000000     2.500000    0.000000    0.500000   \n",
       "75%      0.217677    1.000000     8.000000    2.000000    2.000000   \n",
       "max      0.401104    4.000000    50.000000   38.000000   61.000000   \n",
       "\n",
       "            Erase  PointDeleted  \n",
       "count  272.000000    272.000000  \n",
       "mean     0.621324      0.238971  \n",
       "std      2.357368      0.827272  \n",
       "min      0.000000      0.000000  \n",
       "25%      0.000000      0.000000  \n",
       "50%      0.000000      0.000000  \n",
       "75%      0.000000      0.000000  \n",
       "max     19.000000      6.000000  "
      ]
     },
     "execution_count": 13,
     "metadata": {},
     "output_type": "execute_result"
    }
   ],
   "source": [
    "user_data_crt.describe()"
   ]
  },
  {
   "cell_type": "markdown",
   "metadata": {},
   "source": [
    "## Statistical Analysis"
   ]
  },
  {
   "cell_type": "markdown",
   "metadata": {},
   "source": [
    "### Navigation Workload"
   ]
  },
  {
   "cell_type": "markdown",
   "metadata": {},
   "source": [
    "#### IPA Evaluation"
   ]
  },
  {
   "cell_type": "code",
   "execution_count": 14,
   "metadata": {},
   "outputs": [
    {
     "data": {
      "text/html": [
       "<div>\n",
       "<style scoped>\n",
       "    .dataframe tbody tr th:only-of-type {\n",
       "        vertical-align: middle;\n",
       "    }\n",
       "\n",
       "    .dataframe tbody tr th {\n",
       "        vertical-align: top;\n",
       "    }\n",
       "\n",
       "    .dataframe thead th {\n",
       "        text-align: right;\n",
       "    }\n",
       "</style>\n",
       "<table border=\"1\" class=\"dataframe\">\n",
       "  <thead>\n",
       "    <tr style=\"text-align: right;\">\n",
       "      <th></th>\n",
       "      <th></th>\n",
       "      <th></th>\n",
       "      <th>luminance</th>\n",
       "      <th>pupilDiameter</th>\n",
       "      <th>pupil_lum_base</th>\n",
       "      <th>adj_pupil</th>\n",
       "      <th>total_time</th>\n",
       "      <th>IPA</th>\n",
       "      <th>discomfort</th>\n",
       "      <th>seq</th>\n",
       "    </tr>\n",
       "    <tr>\n",
       "      <th>id</th>\n",
       "      <th>model</th>\n",
       "      <th>method</th>\n",
       "      <th></th>\n",
       "      <th></th>\n",
       "      <th></th>\n",
       "      <th></th>\n",
       "      <th></th>\n",
       "      <th></th>\n",
       "      <th></th>\n",
       "      <th></th>\n",
       "    </tr>\n",
       "  </thead>\n",
       "  <tbody>\n",
       "    <tr>\n",
       "      <th rowspan=\"5\" valign=\"top\">108</th>\n",
       "      <th rowspan=\"2\" valign=\"top\">A</th>\n",
       "      <th>4DoF</th>\n",
       "      <td>0.224356</td>\n",
       "      <td>4.866458</td>\n",
       "      <td>3.831577</td>\n",
       "      <td>1.034881</td>\n",
       "      <td>37.0822</td>\n",
       "      <td>0.242846</td>\n",
       "      <td>2</td>\n",
       "      <td>0</td>\n",
       "    </tr>\n",
       "    <tr>\n",
       "      <th>6DoF</th>\n",
       "      <td>0.225511</td>\n",
       "      <td>4.359483</td>\n",
       "      <td>3.829147</td>\n",
       "      <td>0.530336</td>\n",
       "      <td>61.0043</td>\n",
       "      <td>0.098389</td>\n",
       "      <td>1</td>\n",
       "      <td>0</td>\n",
       "    </tr>\n",
       "    <tr>\n",
       "      <th rowspan=\"2\" valign=\"top\">B</th>\n",
       "      <th>4DoF</th>\n",
       "      <td>0.242239</td>\n",
       "      <td>4.650883</td>\n",
       "      <td>3.771303</td>\n",
       "      <td>0.879580</td>\n",
       "      <td>67.7005</td>\n",
       "      <td>0.147757</td>\n",
       "      <td>1</td>\n",
       "      <td>0</td>\n",
       "    </tr>\n",
       "    <tr>\n",
       "      <th>6DoF</th>\n",
       "      <td>0.256185</td>\n",
       "      <td>4.437137</td>\n",
       "      <td>3.746679</td>\n",
       "      <td>0.690458</td>\n",
       "      <td>96.4316</td>\n",
       "      <td>0.197076</td>\n",
       "      <td>1</td>\n",
       "      <td>0</td>\n",
       "    </tr>\n",
       "    <tr>\n",
       "      <th>C</th>\n",
       "      <th>4DoF</th>\n",
       "      <td>0.223505</td>\n",
       "      <td>4.658904</td>\n",
       "      <td>3.852900</td>\n",
       "      <td>0.806004</td>\n",
       "      <td>88.0356</td>\n",
       "      <td>0.227236</td>\n",
       "      <td>1</td>\n",
       "      <td>1</td>\n",
       "    </tr>\n",
       "    <tr>\n",
       "      <th>...</th>\n",
       "      <th>...</th>\n",
       "      <th>...</th>\n",
       "      <td>...</td>\n",
       "      <td>...</td>\n",
       "      <td>...</td>\n",
       "      <td>...</td>\n",
       "      <td>...</td>\n",
       "      <td>...</td>\n",
       "      <td>...</td>\n",
       "      <td>...</td>\n",
       "    </tr>\n",
       "    <tr>\n",
       "      <th rowspan=\"5\" valign=\"top\">149</th>\n",
       "      <th>B</th>\n",
       "      <th>6DoF</th>\n",
       "      <td>0.245416</td>\n",
       "      <td>4.517930</td>\n",
       "      <td>3.847571</td>\n",
       "      <td>0.670359</td>\n",
       "      <td>75.7743</td>\n",
       "      <td>0.118807</td>\n",
       "      <td>1</td>\n",
       "      <td>2</td>\n",
       "    </tr>\n",
       "    <tr>\n",
       "      <th rowspan=\"2\" valign=\"top\">C</th>\n",
       "      <th>4DoF</th>\n",
       "      <td>0.209773</td>\n",
       "      <td>4.522400</td>\n",
       "      <td>3.910984</td>\n",
       "      <td>0.611416</td>\n",
       "      <td>44.9334</td>\n",
       "      <td>0.200391</td>\n",
       "      <td>1</td>\n",
       "      <td>0</td>\n",
       "    </tr>\n",
       "    <tr>\n",
       "      <th>6DoF</th>\n",
       "      <td>0.210505</td>\n",
       "      <td>4.735390</td>\n",
       "      <td>3.906888</td>\n",
       "      <td>0.828502</td>\n",
       "      <td>71.3219</td>\n",
       "      <td>0.112203</td>\n",
       "      <td>2</td>\n",
       "      <td>2</td>\n",
       "    </tr>\n",
       "    <tr>\n",
       "      <th rowspan=\"2\" valign=\"top\">D</th>\n",
       "      <th>4DoF</th>\n",
       "      <td>0.216912</td>\n",
       "      <td>4.532409</td>\n",
       "      <td>3.873535</td>\n",
       "      <td>0.658874</td>\n",
       "      <td>37.5156</td>\n",
       "      <td>0.186698</td>\n",
       "      <td>1</td>\n",
       "      <td>0</td>\n",
       "    </tr>\n",
       "    <tr>\n",
       "      <th>6DoF</th>\n",
       "      <td>0.223390</td>\n",
       "      <td>4.741807</td>\n",
       "      <td>3.869410</td>\n",
       "      <td>0.872397</td>\n",
       "      <td>50.2986</td>\n",
       "      <td>0.218790</td>\n",
       "      <td>2</td>\n",
       "      <td>3</td>\n",
       "    </tr>\n",
       "  </tbody>\n",
       "</table>\n",
       "<p>270 rows × 8 columns</p>\n",
       "</div>"
      ],
      "text/plain": [
       "                  luminance  pupilDiameter  pupil_lum_base  adj_pupil  \\\n",
       "id  model method                                                        \n",
       "108 A     4DoF     0.224356       4.866458        3.831577   1.034881   \n",
       "          6DoF     0.225511       4.359483        3.829147   0.530336   \n",
       "    B     4DoF     0.242239       4.650883        3.771303   0.879580   \n",
       "          6DoF     0.256185       4.437137        3.746679   0.690458   \n",
       "    C     4DoF     0.223505       4.658904        3.852900   0.806004   \n",
       "...                     ...            ...             ...        ...   \n",
       "149 B     6DoF     0.245416       4.517930        3.847571   0.670359   \n",
       "    C     4DoF     0.209773       4.522400        3.910984   0.611416   \n",
       "          6DoF     0.210505       4.735390        3.906888   0.828502   \n",
       "    D     4DoF     0.216912       4.532409        3.873535   0.658874   \n",
       "          6DoF     0.223390       4.741807        3.869410   0.872397   \n",
       "\n",
       "                  total_time       IPA  discomfort  seq  \n",
       "id  model method                                         \n",
       "108 A     4DoF       37.0822  0.242846           2    0  \n",
       "          6DoF       61.0043  0.098389           1    0  \n",
       "    B     4DoF       67.7005  0.147757           1    0  \n",
       "          6DoF       96.4316  0.197076           1    0  \n",
       "    C     4DoF       88.0356  0.227236           1    1  \n",
       "...                      ...       ...         ...  ...  \n",
       "149 B     6DoF       75.7743  0.118807           1    2  \n",
       "    C     4DoF       44.9334  0.200391           1    0  \n",
       "          6DoF       71.3219  0.112203           2    2  \n",
       "    D     4DoF       37.5156  0.186698           1    0  \n",
       "          6DoF       50.2986  0.218790           2    3  \n",
       "\n",
       "[270 rows x 8 columns]"
      ]
     },
     "execution_count": 14,
     "metadata": {},
     "output_type": "execute_result"
    }
   ],
   "source": [
    "user_data_nav"
   ]
  },
  {
   "cell_type": "code",
   "execution_count": 15,
   "metadata": {},
   "outputs": [],
   "source": [
    "ipa_nav = user_data_nav.loc[(slice(None), slice(None), slice(None)), 'IPA']\n",
    "ipa_nav = ipa_nav.unstack(level=(2))\n",
    "\n",
    "outliers_4dof = iqr_outlier_indices(ipa_nav['4DoF'])\n",
    "ipa_nav = ipa_nav.drop(ipa_nav.iloc[outliers_4dof].index)\n",
    "\n",
    "outliers_6dof = iqr_outlier_indices(ipa_nav['6DoF'])\n",
    "ipa_nav = ipa_nav.drop(ipa_nav.iloc[outliers_6dof].index)\n",
    "\n",
    "ipa_4dof = ipa_nav['4DoF']\n",
    "ipa_6dof = ipa_nav['6DoF']\n",
    "\n",
    "n_stat, n_p = stats.shapiro(ipa_nav.stack())\n",
    "w_stat, w_p = stats.wilcoxon(ipa_4dof, ipa_6dof, nan_policy='omit')\n",
    "t_stat, t_p = stats.ttest_rel(ipa_4dof, ipa_6dof, nan_policy='omit')\n",
    "\n",
    "results_colors = get_results_colors(n_p, w_p, t_p)\n",
    "results_header = ['<b>Test</b>', '<b>Result</b>', '<b>p-value</b>']\n",
    "results_values=[['Shapiro-Wilk', 'Wilcoxon', 'T-test'], [n_stat, w_stat, t_stat], [n_p, w_p, t_p]]\n",
    "results_prefix = ['','', 'p = ',]\n",
    "fill_color = results_colors\n",
    "\n",
    "if n_p < 0.05:\n",
    "    iqr_4dof, q1_4dof, q3_4dof = iqr_stats(ipa_4dof)\n",
    "    iqr_6dof, q1_6dof, q3_6dof = iqr_stats(ipa_6dof)\n",
    "    summary_header = ['', '<b>Median</b>', '<b>IQR</b>', '<b>Min</b>', '<b>Max</b>', '<b>Skewness</b>']\n",
    "    summary_values = [['<b>4-DoF</b>', '<b>6-DoF</b>'], [ipa_4dof.median(), ipa_6dof.median()], [iqr_4dof, iqr_6dof], [ipa_4dof.min(), ipa_6dof.min()], [ipa_4dof.max(), ipa_6dof.max()], [ipa_4dof.skew(), ipa_6dof.skew()]]\n",
    "    \n",
    "\n",
    "else:\n",
    "    summary_header = ['', '<b>Mean</b>', '<b>STD</b>', '<b>Min</b>', '<b>Max</b>', '<b>Skewness</b>']\n",
    "    summary_values = [['<b>4-DoF</b>', '<b>6-DoF</b>'], [ipa_4dof.mean(), ipa_6dof.mean()], [ipa_4dof.std(), ipa_6dof.std()], [ipa_4dof.min(), ipa_6dof.min()], [ipa_4dof.max(), ipa_6dof.max()], [ipa_4dof.skew(), ipa_6dof.skew()]]"
   ]
  },
  {
   "cell_type": "code",
   "execution_count": 16,
   "metadata": {},
   "outputs": [
    {
     "data": {
      "application/vnd.plotly.v1+json": {
       "config": {
        "plotlyServerURL": "https://plot.ly"
       },
       "data": [
        {
         "cells": {
          "align": [
           "right",
           "center"
          ],
          "format": [
           "",
           ".3f"
          ],
          "values": [
           [
            "<b>4-DoF</b>",
            "<b>6-DoF</b>"
           ],
           [
            0.1786810737939424,
            0.15825737425301312
           ],
           [
            0.0732457040560886,
            0.08404721224346307
           ],
           [
            0.06645213701766131,
            0.05485985136637603
           ],
           [
            0.30769636522679417,
            0.3173161884955795
           ],
           [
            0.27766609925934294,
            0.4360248168113007
           ]
          ]
         },
         "columnwidth": [
          5,
          4,
          4,
          4,
          4
         ],
         "domain": {
          "x": [
           0,
           0.45
          ],
          "y": [
           0,
           0.425
          ]
         },
         "header": {
          "align": [
           "right",
           "center"
          ],
          "values": [
           "",
           "<b>Median</b>",
           "<b>IQR</b>",
           "<b>Min</b>",
           "<b>Max</b>",
           "<b>Skewness</b>"
          ]
         },
         "type": "table"
        },
        {
         "name": "4-DoF",
         "notched": true,
         "notchwidth": 0.15,
         "type": "box",
         "xaxis": "x",
         "y": [
          0.24284615695956613,
          0.14775675691649381,
          0.22723631781725884,
          0.10275422422615794,
          0.10634790654145973,
          0.14307720923134154,
          0.15388640105873844,
          0.1889954263106833,
          0.1808752388375313,
          0.1050835479883725,
          0.14027547297382598,
          0.1384900887259835,
          0.30769636522679417,
          0.23528772974489381,
          0.22069744807540792,
          0.11476286549103587,
          0.2434545505133413,
          0.18479819267367567,
          0.20773256132359635,
          0.21388029654503116,
          0.15320605557877964,
          0.12633714330061202,
          0.1059322033898305,
          0.09677581688467032,
          0.3029973567936463,
          0.1630800699846472,
          0.24211157033806632,
          0.18048840161476956,
          0.157464196578303,
          null,
          0.18467561727825077,
          0.2607289982791886,
          0.18541397084511688,
          0.16665457604056175,
          0.23084895309999767,
          0.250934731876239,
          0.23474729453743046,
          0.29383245673317077,
          0.24184930067763152,
          0.18691326757101534,
          0.10464410539754296,
          0.1078785503280407,
          0.16971237523783303,
          0.14562081795213444,
          0.2199919922914806,
          0.1383141806613723,
          0.152699731248473,
          0.1301727392249515,
          0.17153712992651066,
          0.12108166285483654,
          0.2261591869900312,
          0.18165101207560036,
          0.21580024665968195,
          0.21449610028591312,
          0.12643762005495174,
          0.20900061132678813,
          0.09406753672866972,
          0.1793348827867206,
          0.18175605429416855,
          0.12419737446750374,
          0.1784264570750551,
          0.1516836410141189,
          0.16210068841602884,
          0.2657715480926905,
          0.20294076783420054,
          0.24839629144336875,
          0.15864669833556952,
          0.09808575834023203,
          null,
          0.14809580529209782,
          0.16152566373587324,
          0.193225824631462,
          0.1789356905128297,
          0.2408804179275251,
          0.18896960778176844,
          0.16928961063389553,
          0.14329873692399026,
          0.2136668435353316,
          0.19128261368563337,
          0.24983822974623932,
          0.1264264059248471,
          0.18035444156628813,
          0.23577454295104847,
          0.24597825552221184,
          0.18286314199753242,
          0.19402579647589452,
          0.15111414298851963,
          0.15336560827356335,
          0.1720441207147573,
          0.1954468697229345,
          0.14300068830997972,
          0.1199442430618681,
          0.12734500521053313,
          0.11784198332771621,
          0.2244366639734267,
          0.1352511952824383,
          0.1423327989922838,
          0.1919216959480532,
          0.11775372984939297,
          0.13042613478888898,
          0.13642857282069973,
          0.11343553118456189,
          0.06645213701766131,
          0.24792810986370717,
          0.16240771761474107,
          0.26297519617949633,
          0.20280332133896548,
          0.21567644220140947,
          0.23683269427977993,
          0.1753319618477651,
          0.2665408175904397,
          0.14936905154725968,
          0.18669673728781916,
          0.27725289302730305,
          0.1342783974832392,
          0.1591687570830097,
          0.17252563730970422,
          0.1539992053641003,
          0.2372438305820238,
          0.1862808789663274,
          0.2148600813245408,
          0.16187319663141878,
          0.10624177511590978,
          0.10181225819588678,
          0.1446548583298536,
          0.13005138398629396,
          0.1231747048426135,
          0.2112633548620752,
          0.20469194885157582,
          0.23642338700144216,
          0.17459167372308015,
          0.2169239746546028,
          0.2003905388946903,
          0.18669803193603193
         ],
         "yaxis": "y"
        },
        {
         "name": "6-DoF",
         "notched": true,
         "notchwidth": 0.15,
         "type": "box",
         "xaxis": "x",
         "y": [
          0.09838936607731437,
          0.19707601429319727,
          0.15289841887745037,
          0.1738850706625456,
          0.14777946574767542,
          0.10625795606446033,
          0.09594350846221744,
          0.09966949595142507,
          0.1474022459890796,
          0.12575895529520656,
          0.179725020718301,
          0.11801108832185873,
          0.30177186511261894,
          0.2341516579001705,
          0.27881766440018885,
          0.17368725005319172,
          0.19943161988333252,
          0.12793628307879829,
          0.07974125557391376,
          0.22375869861940884,
          0.21783577050067993,
          0.10743149707325908,
          0.11666542223549616,
          0.1358514762979929,
          0.2909531977433241,
          0.16275923929948424,
          0.23617584078599319,
          0.1863907631515628,
          0.07841264918006506,
          0.14690466621685858,
          0.19067622590145852,
          0.1999770935329226,
          0.1667468639679084,
          0.2120966899864258,
          0.16216176373031024,
          0.23216358603446738,
          0.3173161884955795,
          0.24523277699553062,
          0.2636317380976861,
          0.17719548614944666,
          0.09061254077564336,
          0.05485985136637603,
          0.07358469045986751,
          0.21509717428496736,
          0.137357320083763,
          0.15000252276970114,
          0.1408031765196623,
          0.14108929400328174,
          0.19207908536207977,
          0.20472886453649386,
          0.16231295967537407,
          0.2069082527425689,
          0.10602092853129208,
          0.15979868145244497,
          0.0779596837064261,
          0.12139632257430834,
          0.12317839680852985,
          0.13846484031542292,
          0.12188040572245917,
          0.14526498408310817,
          0.1308943355476292,
          0.19074391318290793,
          0.1363951002333493,
          0.18125719993877534,
          0.2755105554981575,
          0.2097143499903722,
          0.27083683164240874,
          0.10672757253472648,
          0.11405076970013202,
          0.12677002649493554,
          0.058976869271871575,
          0.1410479510140466,
          0.11706744255365516,
          0.15001012568348362,
          0.19043115199738475,
          0.258810335159384,
          0.14965178392802853,
          0.26730310262529833,
          0.19633936167891972,
          0.16028323829130944,
          0.15347545160151635,
          0.18425300148139412,
          0.11499861180247181,
          0.19752045982763047,
          0.202148398017891,
          0.15357571519029214,
          0.17351772483559194,
          0.10703500981377247,
          0.2264917052560489,
          0.13118625168082385,
          0.11403217780726489,
          0.13889274702075058,
          0.17324154418850413,
          0.08719783226188997,
          0.11803161624380609,
          0.11407181798700723,
          0.16846276046448552,
          0.11517592546735511,
          0.21518487967578812,
          0.18360785768187735,
          0.12915335669574052,
          0.149361054745094,
          0.11163473115964563,
          0.21690091965989933,
          0.20675986613775524,
          0.15671606705358124,
          0.10340914085100553,
          0.1880109740559318,
          0.19260326794972416,
          0.22313052121261298,
          0.19334880123743234,
          0.2191598974957851,
          0.1800885135043874,
          0.13849488376816882,
          0.10766445296588652,
          0.13852800145652297,
          0.24181457658267638,
          0.2068342637044936,
          0.22068981751894623,
          0.2592595547117433,
          0.23895900766841177,
          0.26699712932051994,
          0.0989751127079096,
          0.11150890363749014,
          0.14055271717151713,
          0.14148801054180002,
          0.2721917266676604,
          0.22890488849279866,
          0.12726061122114654,
          0.17589197526688224,
          0.1390177009252621,
          0.11880670545045563,
          0.11220290773835404,
          0.21878965562508204
         ],
         "yaxis": "y"
        },
        {
         "cells": {
          "align": [
           "right",
           "center"
          ],
          "fill": {
           "color": [
            [
             "white",
             "white",
             "white"
            ],
            [
             "white",
             "rgb(179,226,205)",
             "white"
            ],
            [
             "rgb(244,202,228)",
             "rgb(179,226,205)",
             "white"
            ]
           ]
          },
          "format": [
           "",
           ".2f",
           ".5f"
          ],
          "prefix": [
           "",
           "",
           "p = "
          ],
          "values": [
           [
            "Shapiro-Wilk",
            "Wilcoxon",
            "T-test"
           ],
           [
            0.9841356662552806,
            3480,
            2.2152250670868048
           ],
           [
            0.004745665255801076,
            0.03896182755225585,
            0.028472174431366622
           ]
          ]
         },
         "columnwidth": [
          5,
          4,
          4
         ],
         "domain": {
          "x": [
           0,
           0.45
          ],
          "y": [
           0.575,
           1
          ]
         },
         "header": {
          "align": [
           "right",
           "center"
          ],
          "values": [
           "<b>Test</b>",
           "<b>Result</b>",
           "<b>p-value</b>"
          ]
         },
         "type": "table"
        }
       ],
       "layout": {
        "template": {
         "data": {
          "bar": [
           {
            "error_x": {
             "color": "#2a3f5f"
            },
            "error_y": {
             "color": "#2a3f5f"
            },
            "marker": {
             "line": {
              "color": "#E5ECF6",
              "width": 0.5
             },
             "pattern": {
              "fillmode": "overlay",
              "size": 10,
              "solidity": 0.2
             }
            },
            "type": "bar"
           }
          ],
          "barpolar": [
           {
            "marker": {
             "line": {
              "color": "#E5ECF6",
              "width": 0.5
             },
             "pattern": {
              "fillmode": "overlay",
              "size": 10,
              "solidity": 0.2
             }
            },
            "type": "barpolar"
           }
          ],
          "carpet": [
           {
            "aaxis": {
             "endlinecolor": "#2a3f5f",
             "gridcolor": "white",
             "linecolor": "white",
             "minorgridcolor": "white",
             "startlinecolor": "#2a3f5f"
            },
            "baxis": {
             "endlinecolor": "#2a3f5f",
             "gridcolor": "white",
             "linecolor": "white",
             "minorgridcolor": "white",
             "startlinecolor": "#2a3f5f"
            },
            "type": "carpet"
           }
          ],
          "choropleth": [
           {
            "colorbar": {
             "outlinewidth": 0,
             "ticks": ""
            },
            "type": "choropleth"
           }
          ],
          "contour": [
           {
            "colorbar": {
             "outlinewidth": 0,
             "ticks": ""
            },
            "colorscale": [
             [
              0,
              "#0d0887"
             ],
             [
              0.1111111111111111,
              "#46039f"
             ],
             [
              0.2222222222222222,
              "#7201a8"
             ],
             [
              0.3333333333333333,
              "#9c179e"
             ],
             [
              0.4444444444444444,
              "#bd3786"
             ],
             [
              0.5555555555555556,
              "#d8576b"
             ],
             [
              0.6666666666666666,
              "#ed7953"
             ],
             [
              0.7777777777777778,
              "#fb9f3a"
             ],
             [
              0.8888888888888888,
              "#fdca26"
             ],
             [
              1,
              "#f0f921"
             ]
            ],
            "type": "contour"
           }
          ],
          "contourcarpet": [
           {
            "colorbar": {
             "outlinewidth": 0,
             "ticks": ""
            },
            "type": "contourcarpet"
           }
          ],
          "heatmap": [
           {
            "colorbar": {
             "outlinewidth": 0,
             "ticks": ""
            },
            "colorscale": [
             [
              0,
              "#0d0887"
             ],
             [
              0.1111111111111111,
              "#46039f"
             ],
             [
              0.2222222222222222,
              "#7201a8"
             ],
             [
              0.3333333333333333,
              "#9c179e"
             ],
             [
              0.4444444444444444,
              "#bd3786"
             ],
             [
              0.5555555555555556,
              "#d8576b"
             ],
             [
              0.6666666666666666,
              "#ed7953"
             ],
             [
              0.7777777777777778,
              "#fb9f3a"
             ],
             [
              0.8888888888888888,
              "#fdca26"
             ],
             [
              1,
              "#f0f921"
             ]
            ],
            "type": "heatmap"
           }
          ],
          "heatmapgl": [
           {
            "colorbar": {
             "outlinewidth": 0,
             "ticks": ""
            },
            "colorscale": [
             [
              0,
              "#0d0887"
             ],
             [
              0.1111111111111111,
              "#46039f"
             ],
             [
              0.2222222222222222,
              "#7201a8"
             ],
             [
              0.3333333333333333,
              "#9c179e"
             ],
             [
              0.4444444444444444,
              "#bd3786"
             ],
             [
              0.5555555555555556,
              "#d8576b"
             ],
             [
              0.6666666666666666,
              "#ed7953"
             ],
             [
              0.7777777777777778,
              "#fb9f3a"
             ],
             [
              0.8888888888888888,
              "#fdca26"
             ],
             [
              1,
              "#f0f921"
             ]
            ],
            "type": "heatmapgl"
           }
          ],
          "histogram": [
           {
            "marker": {
             "pattern": {
              "fillmode": "overlay",
              "size": 10,
              "solidity": 0.2
             }
            },
            "type": "histogram"
           }
          ],
          "histogram2d": [
           {
            "colorbar": {
             "outlinewidth": 0,
             "ticks": ""
            },
            "colorscale": [
             [
              0,
              "#0d0887"
             ],
             [
              0.1111111111111111,
              "#46039f"
             ],
             [
              0.2222222222222222,
              "#7201a8"
             ],
             [
              0.3333333333333333,
              "#9c179e"
             ],
             [
              0.4444444444444444,
              "#bd3786"
             ],
             [
              0.5555555555555556,
              "#d8576b"
             ],
             [
              0.6666666666666666,
              "#ed7953"
             ],
             [
              0.7777777777777778,
              "#fb9f3a"
             ],
             [
              0.8888888888888888,
              "#fdca26"
             ],
             [
              1,
              "#f0f921"
             ]
            ],
            "type": "histogram2d"
           }
          ],
          "histogram2dcontour": [
           {
            "colorbar": {
             "outlinewidth": 0,
             "ticks": ""
            },
            "colorscale": [
             [
              0,
              "#0d0887"
             ],
             [
              0.1111111111111111,
              "#46039f"
             ],
             [
              0.2222222222222222,
              "#7201a8"
             ],
             [
              0.3333333333333333,
              "#9c179e"
             ],
             [
              0.4444444444444444,
              "#bd3786"
             ],
             [
              0.5555555555555556,
              "#d8576b"
             ],
             [
              0.6666666666666666,
              "#ed7953"
             ],
             [
              0.7777777777777778,
              "#fb9f3a"
             ],
             [
              0.8888888888888888,
              "#fdca26"
             ],
             [
              1,
              "#f0f921"
             ]
            ],
            "type": "histogram2dcontour"
           }
          ],
          "mesh3d": [
           {
            "colorbar": {
             "outlinewidth": 0,
             "ticks": ""
            },
            "type": "mesh3d"
           }
          ],
          "parcoords": [
           {
            "line": {
             "colorbar": {
              "outlinewidth": 0,
              "ticks": ""
             }
            },
            "type": "parcoords"
           }
          ],
          "pie": [
           {
            "automargin": true,
            "type": "pie"
           }
          ],
          "scatter": [
           {
            "fillpattern": {
             "fillmode": "overlay",
             "size": 10,
             "solidity": 0.2
            },
            "type": "scatter"
           }
          ],
          "scatter3d": [
           {
            "line": {
             "colorbar": {
              "outlinewidth": 0,
              "ticks": ""
             }
            },
            "marker": {
             "colorbar": {
              "outlinewidth": 0,
              "ticks": ""
             }
            },
            "type": "scatter3d"
           }
          ],
          "scattercarpet": [
           {
            "marker": {
             "colorbar": {
              "outlinewidth": 0,
              "ticks": ""
             }
            },
            "type": "scattercarpet"
           }
          ],
          "scattergeo": [
           {
            "marker": {
             "colorbar": {
              "outlinewidth": 0,
              "ticks": ""
             }
            },
            "type": "scattergeo"
           }
          ],
          "scattergl": [
           {
            "marker": {
             "colorbar": {
              "outlinewidth": 0,
              "ticks": ""
             }
            },
            "type": "scattergl"
           }
          ],
          "scattermapbox": [
           {
            "marker": {
             "colorbar": {
              "outlinewidth": 0,
              "ticks": ""
             }
            },
            "type": "scattermapbox"
           }
          ],
          "scatterpolar": [
           {
            "marker": {
             "colorbar": {
              "outlinewidth": 0,
              "ticks": ""
             }
            },
            "type": "scatterpolar"
           }
          ],
          "scatterpolargl": [
           {
            "marker": {
             "colorbar": {
              "outlinewidth": 0,
              "ticks": ""
             }
            },
            "type": "scatterpolargl"
           }
          ],
          "scatterternary": [
           {
            "marker": {
             "colorbar": {
              "outlinewidth": 0,
              "ticks": ""
             }
            },
            "type": "scatterternary"
           }
          ],
          "surface": [
           {
            "colorbar": {
             "outlinewidth": 0,
             "ticks": ""
            },
            "colorscale": [
             [
              0,
              "#0d0887"
             ],
             [
              0.1111111111111111,
              "#46039f"
             ],
             [
              0.2222222222222222,
              "#7201a8"
             ],
             [
              0.3333333333333333,
              "#9c179e"
             ],
             [
              0.4444444444444444,
              "#bd3786"
             ],
             [
              0.5555555555555556,
              "#d8576b"
             ],
             [
              0.6666666666666666,
              "#ed7953"
             ],
             [
              0.7777777777777778,
              "#fb9f3a"
             ],
             [
              0.8888888888888888,
              "#fdca26"
             ],
             [
              1,
              "#f0f921"
             ]
            ],
            "type": "surface"
           }
          ],
          "table": [
           {
            "cells": {
             "fill": {
              "color": "#EBF0F8"
             },
             "line": {
              "color": "white"
             }
            },
            "header": {
             "fill": {
              "color": "#C8D4E3"
             },
             "line": {
              "color": "white"
             }
            },
            "type": "table"
           }
          ]
         },
         "layout": {
          "annotationdefaults": {
           "arrowcolor": "#2a3f5f",
           "arrowhead": 0,
           "arrowwidth": 1
          },
          "autotypenumbers": "strict",
          "coloraxis": {
           "colorbar": {
            "outlinewidth": 0,
            "ticks": ""
           }
          },
          "colorscale": {
           "diverging": [
            [
             0,
             "#8e0152"
            ],
            [
             0.1,
             "#c51b7d"
            ],
            [
             0.2,
             "#de77ae"
            ],
            [
             0.3,
             "#f1b6da"
            ],
            [
             0.4,
             "#fde0ef"
            ],
            [
             0.5,
             "#f7f7f7"
            ],
            [
             0.6,
             "#e6f5d0"
            ],
            [
             0.7,
             "#b8e186"
            ],
            [
             0.8,
             "#7fbc41"
            ],
            [
             0.9,
             "#4d9221"
            ],
            [
             1,
             "#276419"
            ]
           ],
           "sequential": [
            [
             0,
             "#0d0887"
            ],
            [
             0.1111111111111111,
             "#46039f"
            ],
            [
             0.2222222222222222,
             "#7201a8"
            ],
            [
             0.3333333333333333,
             "#9c179e"
            ],
            [
             0.4444444444444444,
             "#bd3786"
            ],
            [
             0.5555555555555556,
             "#d8576b"
            ],
            [
             0.6666666666666666,
             "#ed7953"
            ],
            [
             0.7777777777777778,
             "#fb9f3a"
            ],
            [
             0.8888888888888888,
             "#fdca26"
            ],
            [
             1,
             "#f0f921"
            ]
           ],
           "sequentialminus": [
            [
             0,
             "#0d0887"
            ],
            [
             0.1111111111111111,
             "#46039f"
            ],
            [
             0.2222222222222222,
             "#7201a8"
            ],
            [
             0.3333333333333333,
             "#9c179e"
            ],
            [
             0.4444444444444444,
             "#bd3786"
            ],
            [
             0.5555555555555556,
             "#d8576b"
            ],
            [
             0.6666666666666666,
             "#ed7953"
            ],
            [
             0.7777777777777778,
             "#fb9f3a"
            ],
            [
             0.8888888888888888,
             "#fdca26"
            ],
            [
             1,
             "#f0f921"
            ]
           ]
          },
          "colorway": [
           "#636efa",
           "#EF553B",
           "#00cc96",
           "#ab63fa",
           "#FFA15A",
           "#19d3f3",
           "#FF6692",
           "#B6E880",
           "#FF97FF",
           "#FECB52"
          ],
          "font": {
           "color": "#2a3f5f"
          },
          "geo": {
           "bgcolor": "white",
           "lakecolor": "white",
           "landcolor": "#E5ECF6",
           "showlakes": true,
           "showland": true,
           "subunitcolor": "white"
          },
          "hoverlabel": {
           "align": "left"
          },
          "hovermode": "closest",
          "mapbox": {
           "style": "light"
          },
          "paper_bgcolor": "white",
          "plot_bgcolor": "#E5ECF6",
          "polar": {
           "angularaxis": {
            "gridcolor": "white",
            "linecolor": "white",
            "ticks": ""
           },
           "bgcolor": "#E5ECF6",
           "radialaxis": {
            "gridcolor": "white",
            "linecolor": "white",
            "ticks": ""
           }
          },
          "scene": {
           "xaxis": {
            "backgroundcolor": "#E5ECF6",
            "gridcolor": "white",
            "gridwidth": 2,
            "linecolor": "white",
            "showbackground": true,
            "ticks": "",
            "zerolinecolor": "white"
           },
           "yaxis": {
            "backgroundcolor": "#E5ECF6",
            "gridcolor": "white",
            "gridwidth": 2,
            "linecolor": "white",
            "showbackground": true,
            "ticks": "",
            "zerolinecolor": "white"
           },
           "zaxis": {
            "backgroundcolor": "#E5ECF6",
            "gridcolor": "white",
            "gridwidth": 2,
            "linecolor": "white",
            "showbackground": true,
            "ticks": "",
            "zerolinecolor": "white"
           }
          },
          "shapedefaults": {
           "line": {
            "color": "#2a3f5f"
           }
          },
          "ternary": {
           "aaxis": {
            "gridcolor": "white",
            "linecolor": "white",
            "ticks": ""
           },
           "baxis": {
            "gridcolor": "white",
            "linecolor": "white",
            "ticks": ""
           },
           "bgcolor": "#E5ECF6",
           "caxis": {
            "gridcolor": "white",
            "linecolor": "white",
            "ticks": ""
           }
          },
          "title": {
           "x": 0.05
          },
          "xaxis": {
           "automargin": true,
           "gridcolor": "white",
           "linecolor": "white",
           "ticks": "",
           "title": {
            "standoff": 15
           },
           "zerolinecolor": "white",
           "zerolinewidth": 2
          },
          "yaxis": {
           "automargin": true,
           "gridcolor": "white",
           "linecolor": "white",
           "ticks": "",
           "title": {
            "standoff": 15
           },
           "zerolinecolor": "white",
           "zerolinewidth": 2
          }
         }
        },
        "title": {
         "text": "IPA by Navigation Method"
        },
        "width": 1200,
        "xaxis": {
         "anchor": "y",
         "domain": [
          0.55,
          1
         ],
         "title": {
          "text": "Method"
         }
        },
        "yaxis": {
         "anchor": "x",
         "domain": [
          0,
          1
         ],
         "range": [
          0,
          0.3490478073451375
         ],
         "title": {
          "text": "IPA"
         }
        }
       }
      }
     },
     "metadata": {},
     "output_type": "display_data"
    }
   ],
   "source": [
    "stats_table = go.Table(columnwidth=[5,4,4,4,4])\n",
    "stats_table.header = dict(\n",
    "    values=summary_header, \n",
    "    align = ['right', 'center'],)\n",
    "stats_table.cells = dict(\n",
    "        values=summary_values,\n",
    "        align = ['right', 'center'],\n",
    "        format=[\"\", \".3f\"],\n",
    "        )\n",
    "\n",
    "results_table = go.Table(columnwidth=[5,4,4])\n",
    "results_table.header = dict(\n",
    "    values= results_header, \n",
    "    align = ['right', 'center'],)\n",
    "results_table.cells = dict(\n",
    "        values=results_values,\n",
    "        align = ['right', 'center'],\n",
    "        format=[\"\", \".2f\", \".5f\"],\n",
    "        fill_color=fill_color,\n",
    "        prefix=results_prefix,\n",
    "        )\n",
    "\n",
    "iqr_fig = make_subplots(\n",
    "    rows=2, cols=2,\n",
    "    shared_xaxes=False,\n",
    "    specs=[\n",
    "        [{\"type\": \"table\"}, {\"type\": \"box\", \"rowspan\": 2}],\n",
    "        [{\"type\": \"table\"}, None]\n",
    "    ])\n",
    "\n",
    "iqr_fig.add_trace(stats_table, row=2, col=1)\n",
    "iqr_fig.add_trace(go.Box(y=ipa_nav['4DoF'], name=\"4-DoF\", notched=True, notchwidth=0.15), row=1, col=2)\n",
    "iqr_fig.add_trace(go.Box(y=ipa_nav['6DoF'], name=\"6-DoF\", notched=True, notchwidth=0.15), row=1, col=2)\n",
    "iqr_fig.add_trace(results_table, row=1, col=1)\n",
    "\n",
    "iqr_fig.update_layout(\n",
    "    title_text=\"IPA by Navigation Method\",\n",
    "    width=1200,\n",
    "    xaxis_title='Method',\n",
    "    yaxis_title='IPA',\n",
    ")\n",
    "\n",
    "iqr_fig.update_yaxes(range=[0,max(1.1*ipa_4dof.max(), 1.1*ipa_6dof.max())])\n",
    "iqr_fig.show()"
   ]
  },
  {
   "cell_type": "markdown",
   "metadata": {},
   "source": [
    "#### TEPR Evaluation"
   ]
  },
  {
   "cell_type": "code",
   "execution_count": 17,
   "metadata": {},
   "outputs": [],
   "source": [
    "tepr_nav = user_data_nav.loc[(slice(None), slice(None),  slice(None)), 'adj_pupil']\n",
    "tepr_nav = tepr_nav.unstack(level=(2))\n",
    "\n",
    "outliers_4dof = iqr_outlier_indices(tepr_nav['4DoF'])\n",
    "tepr_nav = tepr_nav.drop(ipa_nav.iloc[outliers_4dof].index)\n",
    "\n",
    "outliers_6dof = iqr_outlier_indices(tepr_nav['6DoF'])\n",
    "tepr_nav = tepr_nav.drop(tepr_nav.iloc[outliers_6dof].index)\n",
    "\n",
    "tepr_4dof = tepr_nav['4DoF']\n",
    "tepr_6dof = tepr_nav['6DoF']\n",
    "\n",
    "n_stat, n_p = stats.shapiro(tepr_nav.stack())\n",
    "w_stat, w_p = stats.wilcoxon(tepr_4dof, tepr_6dof, nan_policy='omit')\n",
    "t_stat, t_p = stats.ttest_rel(tepr_4dof, tepr_6dof, nan_policy='omit')\n",
    "\n",
    "results_colors = get_results_colors(n_p, w_p, t_p)\n",
    "results_header = ['<b>Test</b>', '<b>Result</b>', '<b>p-value</b>']\n",
    "results_values=[['Shapiro-Wilk', 'Wilcoxon', 'T-test'], [n_stat, w_stat, t_stat], [n_p, w_p, t_p]]\n",
    "results_prefix = ['','', 'p = ',]\n",
    "fill_color = results_colors\n",
    "\n",
    "if n_p < 0.05:\n",
    "    iqr_4dof, q1_4dof, q3_4dof = iqr_stats(tepr_4dof)\n",
    "    iqr_6dof, q1_6dof, q3_6dof = iqr_stats(tepr_6dof)\n",
    "    summary_header = ['', '<b>Median</b>', '<b>IQR</b>', '<b>Min</b>', '<b>Max</b>', '<b>Skewness</b>']\n",
    "    summary_values = [['<b>4-DoF</b>', '<b>6-DoF</b>'], \n",
    "                      [tepr_4dof.median(), tepr_6dof.median()], \n",
    "                      [iqr_4dof, iqr_6dof], \n",
    "                      [tepr_4dof.min(), tepr_6dof.min()], \n",
    "                      [tepr_4dof.max(), tepr_6dof.max()], \n",
    "                      [tepr_4dof.skew(), tepr_6dof.skew()]]\n",
    "    \n",
    "\n",
    "else:\n",
    "    header = ['', '<b>Mean</b>', '<b>STD</b>', '<b>Min</b>', '<b>Max</b>', '<b>Skewness</b>']\n",
    "    values = [['<b>4-DoF</b>', '<b>6-DoF</b'], \n",
    "              [ipa_4dof.mean(), tepr_6dof.mean()], \n",
    "              [ipa_4dof.std(), tepr_6dof.std()], \n",
    "              [ipa_4dof.min(), tepr_6dof.min()], \n",
    "              [ipa_4dof.max(), tepr_6dof.max()], \n",
    "              [ipa_4dof.skew(), tepr_6dof.skew()]]\n",
    "    prefix=['t = ','']"
   ]
  },
  {
   "cell_type": "code",
   "execution_count": 18,
   "metadata": {},
   "outputs": [
    {
     "data": {
      "application/vnd.plotly.v1+json": {
       "config": {
        "plotlyServerURL": "https://plot.ly"
       },
       "data": [
        {
         "cells": {
          "align": [
           "right",
           "center"
          ],
          "format": [
           "",
           ".3f"
          ],
          "values": [
           [
            "<b>4-DoF</b>",
            "<b>6-DoF</b>"
           ],
           [
            0.4401419162750244,
            0.496856153011322
           ],
           [
            0.4328122027218342,
            0.4813036248087883
           ],
           [
            -0.35432296991348267,
            -0.1200249046087265
           ],
           [
            1.2683532238006592,
            1.1112946271896362
           ],
           [
            0.18329014339683095,
            0.12360103173043863
           ]
          ]
         },
         "columnwidth": [
          5,
          4,
          4,
          4,
          4
         ],
         "domain": {
          "x": [
           0,
           0.45
          ],
          "y": [
           0,
           0.425
          ]
         },
         "header": {
          "align": [
           "right",
           "center"
          ],
          "values": [
           "",
           "<b>Median</b>",
           "<b>IQR</b>",
           "<b>Min</b>",
           "<b>Max</b>",
           "<b>Skewness</b>"
          ]
         },
         "type": "table"
        },
        {
         "name": "4-DoF",
         "notched": true,
         "notchwidth": 0.15,
         "type": "box",
         "xaxis": "x",
         "y": [
          1.0348811149597168,
          0.8795796632766724,
          0.8060040473937988,
          1.2683532238006592,
          0.4126676917076111,
          0.2339106947183609,
          0.3134157359600067,
          0.16210836172103882,
          0.6092342734336853,
          0.677227258682251,
          0.8654860854148865,
          0.6555644273757935,
          0.2943052351474762,
          0.40116047859191895,
          0.6003977656364441,
          0.49366557598114014,
          0.3980284631252289,
          0.4318135380744934,
          0.528428316116333,
          0.5896434783935547,
          0.15884818136692047,
          0.2808269262313843,
          0.21034295856952667,
          0.07388059794902802,
          0.49450576305389404,
          0.4829946756362915,
          0.8989161849021912,
          0.4484702944755554,
          0.20096085965633392,
          0.12302107363939285,
          null,
          0.2513553202152252,
          0.3934841454029083,
          0.5000987648963928,
          0.7023778557777405,
          0.21307498216629028,
          0.009366840124130249,
          0.032684098929166794,
          0.10449957102537155,
          0.0572332963347435,
          0.6253582239151001,
          0.7281326651573181,
          0.7572097778320312,
          0.5854337811470032,
          0.08829550445079803,
          0.03145220875740051,
          0.04619599133729935,
          -0.03975613787770271,
          0.5195550918579102,
          0.5777131915092468,
          0.8889498710632324,
          0.6968556642532349,
          0.21157722175121307,
          0.31755924224853516,
          0.49746739864349365,
          0.3563937246799469,
          0.37548428773880005,
          0.23264440894126892,
          0.3217141330242157,
          0.332448273897171,
          0.8312544226646423,
          0.7144200801849365,
          1.0818569660186768,
          1.0201703310012817,
          0.04255225509405136,
          0.0754774659872055,
          0.5293781757354736,
          0.2425442785024643,
          1.013879418373108,
          null,
          0.9271350502967834,
          1.0053656101226807,
          0.3762816786766052,
          0.4690280556678772,
          0.5713517069816589,
          0.5285757780075073,
          0.7754248976707458,
          0.8696057200431824,
          0.6952787041664124,
          0.9568375945091248,
          0.20219245553016663,
          0.23172397911548615,
          0.09543334692716599,
          0.12676288187503815,
          0.4119293689727783,
          0.2504187822341919,
          0.1981879323720932,
          0.08053816854953766,
          0.49506306648254395,
          0.5647890567779541,
          0.7243813872337341,
          0.7255685925483704,
          0.461479514837265,
          0.38449063897132874,
          0.5105094313621521,
          0.3970334827899933,
          0.37764397263526917,
          0.32538169622421265,
          0.23904742300510406,
          0.5104919075965881,
          0.022086739540100098,
          0.11693844199180603,
          0.09359976649284363,
          0.015627197921276093,
          0.25303715467453003,
          0.1592140942811966,
          0.1806352138519287,
          0.0210065096616745,
          0.6526226997375488,
          0.6313202977180481,
          0.8552412390708923,
          0.7440829873085022,
          0.22669269144535065,
          0.03339545801281929,
          0.03466365486383438,
          0.07172159850597382,
          0.2846165597438812,
          0.18638446927070618,
          0.45112690329551697,
          0.5243868827819824,
          0.5030338168144226,
          0.6350011825561523,
          0.545325756072998,
          0.6779249906539917,
          0.7840433716773987,
          0.765152633190155,
          0.5313510298728943,
          0.5665593147277832,
          -0.35432296991348267,
          -0.18103459477424622,
          0.03269975259900093,
          -0.0464046373963356,
          0.6155999302864075,
          0.6105928421020508,
          0.6114159822463989,
          0.6588739156723022
         ],
         "yaxis": "y"
        },
        {
         "name": "6-DoF",
         "notched": true,
         "notchwidth": 0.15,
         "type": "box",
         "xaxis": "x",
         "y": [
          0.5303362011909485,
          0.6904584169387817,
          0.9923869967460632,
          1.008360505104065,
          0.2420806884765625,
          0.32237571477890015,
          0.4557444751262665,
          0.21962511539459229,
          0.521500825881958,
          0.7055187821388245,
          0.5071447491645813,
          0.6205980181694031,
          0.6131526231765747,
          0.7099944353103638,
          0.7209700345993042,
          0.7299903035163879,
          0.47589364647865295,
          0.48656755685806274,
          0.8237665891647339,
          0.8723488450050354,
          0.03926897421479225,
          0.17349554598331451,
          0.07518664747476578,
          0.3781120479106903,
          0.374401718378067,
          0.2713027894496918,
          0.5268340706825256,
          0.5555135607719421,
          -0.1200249046087265,
          0.23031571507453918,
          0.24803373217582703,
          0.07540194690227509,
          0.13680444657802582,
          0.2954421639442444,
          0.15842179954051971,
          0.16486893594264984,
          0.22225411236286163,
          0.21032777428627014,
          0.05262761190533638,
          0.19973845779895782,
          0.9398908019065857,
          0.7304108738899231,
          0.842604398727417,
          1.1112946271896362,
          0.2337496280670166,
          0.06009272485971451,
          0.13984113931655884,
          0.14664852619171143,
          0.5278339385986328,
          0.7932499051094055,
          0.7961285710334778,
          0.7294407486915588,
          0.11553547531366348,
          0.2728240489959717,
          0.40109312534332275,
          0.34227657318115234,
          0.20877781510353088,
          0.2995304763317108,
          0.4072844386100769,
          0.424255907535553,
          0.8714947700500488,
          0.5464932918548584,
          0.9063816666603088,
          1.101011037826538,
          0.33785170316696167,
          0.6216132044792175,
          0.5476747751235962,
          0.45552733540534973,
          0.871268093585968,
          0.9046590924263,
          0.7800809144973755,
          0.9634385704994202,
          0.5938265323638916,
          0.595009446144104,
          0.5815413594245911,
          0.6596320867538452,
          0.12314984202384949,
          0.7777234315872192,
          0.6787693500518799,
          0.8188732862472534,
          0.1839994639158249,
          0.22617579996585846,
          0.1955944150686264,
          0.3456762731075287,
          0.2314223349094391,
          0.2616215944290161,
          0.5510652661323547,
          0.2731800079345703,
          0.7192299365997314,
          0.61262446641922,
          0.6360997557640076,
          0.7117622494697571,
          0.3683541715145111,
          0.2365877479314804,
          0.40641769766807556,
          0.5257049798965454,
          0.44058936834335327,
          0.3713054955005646,
          0.3998507559299469,
          0.568514347076416,
          0.09594643115997314,
          0.38004523515701294,
          0.10571815818548203,
          0.29676100611686707,
          0.23070038855075836,
          0.06390157341957092,
          0.14970164000988007,
          0.11736196279525757,
          0.7334967255592346,
          0.6581764221191406,
          0.988036572933197,
          0.8537009954452515,
          0.3147294223308563,
          0.24801433086395264,
          0.24089428782463074,
          0.41009801626205444,
          0.7894624471664429,
          0.716135561466217,
          0.4473775327205658,
          0.8584288954734802,
          0.7542350888252258,
          0.7572250962257385,
          0.8210259079933167,
          1.0283775329589844,
          0.6601700782775879,
          0.7517042756080627,
          0.644170880317688,
          0.6355926394462585,
          0.31817519664764404,
          0.6375375986099243,
          0.4706326723098755,
          0.09278766810894012,
          0.9454607963562012,
          0.6703585386276245,
          0.8285019993782043,
          0.8723974823951721
         ],
         "yaxis": "y"
        },
        {
         "cells": {
          "align": [
           "right",
           "center"
          ],
          "fill": {
           "color": [
            [
             "white",
             "white",
             "white"
            ],
            [
             "white",
             "rgb(179,226,205)",
             "white"
            ],
            [
             "rgb(244,202,228)",
             "rgb(179,226,205)",
             "white"
            ]
           ]
          },
          "format": [
           "",
           ".2f",
           ".5f"
          ],
          "prefix": [
           "",
           "",
           "p = "
          ],
          "values": [
           [
            "Shapiro-Wilk",
            "Wilcoxon",
            "T-test"
           ],
           [
            0.9843415033504672,
            2988,
            -3.321459057388635
           ],
           [
            0.004716106020104615,
            0.0006548324235044774,
            0.001156320724958674
           ]
          ]
         },
         "columnwidth": [
          5,
          4,
          4
         ],
         "domain": {
          "x": [
           0,
           0.45
          ],
          "y": [
           0.575,
           1
          ]
         },
         "header": {
          "align": [
           "right",
           "center"
          ],
          "values": [
           "<b>Test</b>",
           "<b>Result</b>",
           "<b>p-value</b>"
          ]
         },
         "type": "table"
        }
       ],
       "layout": {
        "template": {
         "data": {
          "bar": [
           {
            "error_x": {
             "color": "#2a3f5f"
            },
            "error_y": {
             "color": "#2a3f5f"
            },
            "marker": {
             "line": {
              "color": "#E5ECF6",
              "width": 0.5
             },
             "pattern": {
              "fillmode": "overlay",
              "size": 10,
              "solidity": 0.2
             }
            },
            "type": "bar"
           }
          ],
          "barpolar": [
           {
            "marker": {
             "line": {
              "color": "#E5ECF6",
              "width": 0.5
             },
             "pattern": {
              "fillmode": "overlay",
              "size": 10,
              "solidity": 0.2
             }
            },
            "type": "barpolar"
           }
          ],
          "carpet": [
           {
            "aaxis": {
             "endlinecolor": "#2a3f5f",
             "gridcolor": "white",
             "linecolor": "white",
             "minorgridcolor": "white",
             "startlinecolor": "#2a3f5f"
            },
            "baxis": {
             "endlinecolor": "#2a3f5f",
             "gridcolor": "white",
             "linecolor": "white",
             "minorgridcolor": "white",
             "startlinecolor": "#2a3f5f"
            },
            "type": "carpet"
           }
          ],
          "choropleth": [
           {
            "colorbar": {
             "outlinewidth": 0,
             "ticks": ""
            },
            "type": "choropleth"
           }
          ],
          "contour": [
           {
            "colorbar": {
             "outlinewidth": 0,
             "ticks": ""
            },
            "colorscale": [
             [
              0,
              "#0d0887"
             ],
             [
              0.1111111111111111,
              "#46039f"
             ],
             [
              0.2222222222222222,
              "#7201a8"
             ],
             [
              0.3333333333333333,
              "#9c179e"
             ],
             [
              0.4444444444444444,
              "#bd3786"
             ],
             [
              0.5555555555555556,
              "#d8576b"
             ],
             [
              0.6666666666666666,
              "#ed7953"
             ],
             [
              0.7777777777777778,
              "#fb9f3a"
             ],
             [
              0.8888888888888888,
              "#fdca26"
             ],
             [
              1,
              "#f0f921"
             ]
            ],
            "type": "contour"
           }
          ],
          "contourcarpet": [
           {
            "colorbar": {
             "outlinewidth": 0,
             "ticks": ""
            },
            "type": "contourcarpet"
           }
          ],
          "heatmap": [
           {
            "colorbar": {
             "outlinewidth": 0,
             "ticks": ""
            },
            "colorscale": [
             [
              0,
              "#0d0887"
             ],
             [
              0.1111111111111111,
              "#46039f"
             ],
             [
              0.2222222222222222,
              "#7201a8"
             ],
             [
              0.3333333333333333,
              "#9c179e"
             ],
             [
              0.4444444444444444,
              "#bd3786"
             ],
             [
              0.5555555555555556,
              "#d8576b"
             ],
             [
              0.6666666666666666,
              "#ed7953"
             ],
             [
              0.7777777777777778,
              "#fb9f3a"
             ],
             [
              0.8888888888888888,
              "#fdca26"
             ],
             [
              1,
              "#f0f921"
             ]
            ],
            "type": "heatmap"
           }
          ],
          "heatmapgl": [
           {
            "colorbar": {
             "outlinewidth": 0,
             "ticks": ""
            },
            "colorscale": [
             [
              0,
              "#0d0887"
             ],
             [
              0.1111111111111111,
              "#46039f"
             ],
             [
              0.2222222222222222,
              "#7201a8"
             ],
             [
              0.3333333333333333,
              "#9c179e"
             ],
             [
              0.4444444444444444,
              "#bd3786"
             ],
             [
              0.5555555555555556,
              "#d8576b"
             ],
             [
              0.6666666666666666,
              "#ed7953"
             ],
             [
              0.7777777777777778,
              "#fb9f3a"
             ],
             [
              0.8888888888888888,
              "#fdca26"
             ],
             [
              1,
              "#f0f921"
             ]
            ],
            "type": "heatmapgl"
           }
          ],
          "histogram": [
           {
            "marker": {
             "pattern": {
              "fillmode": "overlay",
              "size": 10,
              "solidity": 0.2
             }
            },
            "type": "histogram"
           }
          ],
          "histogram2d": [
           {
            "colorbar": {
             "outlinewidth": 0,
             "ticks": ""
            },
            "colorscale": [
             [
              0,
              "#0d0887"
             ],
             [
              0.1111111111111111,
              "#46039f"
             ],
             [
              0.2222222222222222,
              "#7201a8"
             ],
             [
              0.3333333333333333,
              "#9c179e"
             ],
             [
              0.4444444444444444,
              "#bd3786"
             ],
             [
              0.5555555555555556,
              "#d8576b"
             ],
             [
              0.6666666666666666,
              "#ed7953"
             ],
             [
              0.7777777777777778,
              "#fb9f3a"
             ],
             [
              0.8888888888888888,
              "#fdca26"
             ],
             [
              1,
              "#f0f921"
             ]
            ],
            "type": "histogram2d"
           }
          ],
          "histogram2dcontour": [
           {
            "colorbar": {
             "outlinewidth": 0,
             "ticks": ""
            },
            "colorscale": [
             [
              0,
              "#0d0887"
             ],
             [
              0.1111111111111111,
              "#46039f"
             ],
             [
              0.2222222222222222,
              "#7201a8"
             ],
             [
              0.3333333333333333,
              "#9c179e"
             ],
             [
              0.4444444444444444,
              "#bd3786"
             ],
             [
              0.5555555555555556,
              "#d8576b"
             ],
             [
              0.6666666666666666,
              "#ed7953"
             ],
             [
              0.7777777777777778,
              "#fb9f3a"
             ],
             [
              0.8888888888888888,
              "#fdca26"
             ],
             [
              1,
              "#f0f921"
             ]
            ],
            "type": "histogram2dcontour"
           }
          ],
          "mesh3d": [
           {
            "colorbar": {
             "outlinewidth": 0,
             "ticks": ""
            },
            "type": "mesh3d"
           }
          ],
          "parcoords": [
           {
            "line": {
             "colorbar": {
              "outlinewidth": 0,
              "ticks": ""
             }
            },
            "type": "parcoords"
           }
          ],
          "pie": [
           {
            "automargin": true,
            "type": "pie"
           }
          ],
          "scatter": [
           {
            "fillpattern": {
             "fillmode": "overlay",
             "size": 10,
             "solidity": 0.2
            },
            "type": "scatter"
           }
          ],
          "scatter3d": [
           {
            "line": {
             "colorbar": {
              "outlinewidth": 0,
              "ticks": ""
             }
            },
            "marker": {
             "colorbar": {
              "outlinewidth": 0,
              "ticks": ""
             }
            },
            "type": "scatter3d"
           }
          ],
          "scattercarpet": [
           {
            "marker": {
             "colorbar": {
              "outlinewidth": 0,
              "ticks": ""
             }
            },
            "type": "scattercarpet"
           }
          ],
          "scattergeo": [
           {
            "marker": {
             "colorbar": {
              "outlinewidth": 0,
              "ticks": ""
             }
            },
            "type": "scattergeo"
           }
          ],
          "scattergl": [
           {
            "marker": {
             "colorbar": {
              "outlinewidth": 0,
              "ticks": ""
             }
            },
            "type": "scattergl"
           }
          ],
          "scattermapbox": [
           {
            "marker": {
             "colorbar": {
              "outlinewidth": 0,
              "ticks": ""
             }
            },
            "type": "scattermapbox"
           }
          ],
          "scatterpolar": [
           {
            "marker": {
             "colorbar": {
              "outlinewidth": 0,
              "ticks": ""
             }
            },
            "type": "scatterpolar"
           }
          ],
          "scatterpolargl": [
           {
            "marker": {
             "colorbar": {
              "outlinewidth": 0,
              "ticks": ""
             }
            },
            "type": "scatterpolargl"
           }
          ],
          "scatterternary": [
           {
            "marker": {
             "colorbar": {
              "outlinewidth": 0,
              "ticks": ""
             }
            },
            "type": "scatterternary"
           }
          ],
          "surface": [
           {
            "colorbar": {
             "outlinewidth": 0,
             "ticks": ""
            },
            "colorscale": [
             [
              0,
              "#0d0887"
             ],
             [
              0.1111111111111111,
              "#46039f"
             ],
             [
              0.2222222222222222,
              "#7201a8"
             ],
             [
              0.3333333333333333,
              "#9c179e"
             ],
             [
              0.4444444444444444,
              "#bd3786"
             ],
             [
              0.5555555555555556,
              "#d8576b"
             ],
             [
              0.6666666666666666,
              "#ed7953"
             ],
             [
              0.7777777777777778,
              "#fb9f3a"
             ],
             [
              0.8888888888888888,
              "#fdca26"
             ],
             [
              1,
              "#f0f921"
             ]
            ],
            "type": "surface"
           }
          ],
          "table": [
           {
            "cells": {
             "fill": {
              "color": "#EBF0F8"
             },
             "line": {
              "color": "white"
             }
            },
            "header": {
             "fill": {
              "color": "#C8D4E3"
             },
             "line": {
              "color": "white"
             }
            },
            "type": "table"
           }
          ]
         },
         "layout": {
          "annotationdefaults": {
           "arrowcolor": "#2a3f5f",
           "arrowhead": 0,
           "arrowwidth": 1
          },
          "autotypenumbers": "strict",
          "coloraxis": {
           "colorbar": {
            "outlinewidth": 0,
            "ticks": ""
           }
          },
          "colorscale": {
           "diverging": [
            [
             0,
             "#8e0152"
            ],
            [
             0.1,
             "#c51b7d"
            ],
            [
             0.2,
             "#de77ae"
            ],
            [
             0.3,
             "#f1b6da"
            ],
            [
             0.4,
             "#fde0ef"
            ],
            [
             0.5,
             "#f7f7f7"
            ],
            [
             0.6,
             "#e6f5d0"
            ],
            [
             0.7,
             "#b8e186"
            ],
            [
             0.8,
             "#7fbc41"
            ],
            [
             0.9,
             "#4d9221"
            ],
            [
             1,
             "#276419"
            ]
           ],
           "sequential": [
            [
             0,
             "#0d0887"
            ],
            [
             0.1111111111111111,
             "#46039f"
            ],
            [
             0.2222222222222222,
             "#7201a8"
            ],
            [
             0.3333333333333333,
             "#9c179e"
            ],
            [
             0.4444444444444444,
             "#bd3786"
            ],
            [
             0.5555555555555556,
             "#d8576b"
            ],
            [
             0.6666666666666666,
             "#ed7953"
            ],
            [
             0.7777777777777778,
             "#fb9f3a"
            ],
            [
             0.8888888888888888,
             "#fdca26"
            ],
            [
             1,
             "#f0f921"
            ]
           ],
           "sequentialminus": [
            [
             0,
             "#0d0887"
            ],
            [
             0.1111111111111111,
             "#46039f"
            ],
            [
             0.2222222222222222,
             "#7201a8"
            ],
            [
             0.3333333333333333,
             "#9c179e"
            ],
            [
             0.4444444444444444,
             "#bd3786"
            ],
            [
             0.5555555555555556,
             "#d8576b"
            ],
            [
             0.6666666666666666,
             "#ed7953"
            ],
            [
             0.7777777777777778,
             "#fb9f3a"
            ],
            [
             0.8888888888888888,
             "#fdca26"
            ],
            [
             1,
             "#f0f921"
            ]
           ]
          },
          "colorway": [
           "#636efa",
           "#EF553B",
           "#00cc96",
           "#ab63fa",
           "#FFA15A",
           "#19d3f3",
           "#FF6692",
           "#B6E880",
           "#FF97FF",
           "#FECB52"
          ],
          "font": {
           "color": "#2a3f5f"
          },
          "geo": {
           "bgcolor": "white",
           "lakecolor": "white",
           "landcolor": "#E5ECF6",
           "showlakes": true,
           "showland": true,
           "subunitcolor": "white"
          },
          "hoverlabel": {
           "align": "left"
          },
          "hovermode": "closest",
          "mapbox": {
           "style": "light"
          },
          "paper_bgcolor": "white",
          "plot_bgcolor": "#E5ECF6",
          "polar": {
           "angularaxis": {
            "gridcolor": "white",
            "linecolor": "white",
            "ticks": ""
           },
           "bgcolor": "#E5ECF6",
           "radialaxis": {
            "gridcolor": "white",
            "linecolor": "white",
            "ticks": ""
           }
          },
          "scene": {
           "xaxis": {
            "backgroundcolor": "#E5ECF6",
            "gridcolor": "white",
            "gridwidth": 2,
            "linecolor": "white",
            "showbackground": true,
            "ticks": "",
            "zerolinecolor": "white"
           },
           "yaxis": {
            "backgroundcolor": "#E5ECF6",
            "gridcolor": "white",
            "gridwidth": 2,
            "linecolor": "white",
            "showbackground": true,
            "ticks": "",
            "zerolinecolor": "white"
           },
           "zaxis": {
            "backgroundcolor": "#E5ECF6",
            "gridcolor": "white",
            "gridwidth": 2,
            "linecolor": "white",
            "showbackground": true,
            "ticks": "",
            "zerolinecolor": "white"
           }
          },
          "shapedefaults": {
           "line": {
            "color": "#2a3f5f"
           }
          },
          "ternary": {
           "aaxis": {
            "gridcolor": "white",
            "linecolor": "white",
            "ticks": ""
           },
           "baxis": {
            "gridcolor": "white",
            "linecolor": "white",
            "ticks": ""
           },
           "bgcolor": "#E5ECF6",
           "caxis": {
            "gridcolor": "white",
            "linecolor": "white",
            "ticks": ""
           }
          },
          "title": {
           "x": 0.05
          },
          "xaxis": {
           "automargin": true,
           "gridcolor": "white",
           "linecolor": "white",
           "ticks": "",
           "title": {
            "standoff": 15
           },
           "zerolinecolor": "white",
           "zerolinewidth": 2
          },
          "yaxis": {
           "automargin": true,
           "gridcolor": "white",
           "linecolor": "white",
           "ticks": "",
           "title": {
            "standoff": 15
           },
           "zerolinecolor": "white",
           "zerolinewidth": 2
          }
         }
        },
        "title": {
         "text": "TEPR by Navigation Method"
        },
        "width": 1200,
        "xaxis": {
         "anchor": "y",
         "domain": [
          0.55,
          1
         ],
         "title": {
          "text": "Method"
         }
        },
        "yaxis": {
         "anchor": "x",
         "domain": [
          0,
          1
         ],
         "range": [
          -0.3948898747563362,
          1.3089201286435128
         ],
         "title": {
          "text": "TEPR"
         }
        }
       }
      }
     },
     "metadata": {},
     "output_type": "display_data"
    }
   ],
   "source": [
    "stats_table = go.Table(columnwidth=[5,4,4,4,4])\n",
    "stats_table.header = dict(\n",
    "    values=summary_header, \n",
    "    align = ['right', 'center'],)\n",
    "stats_table.cells = dict(\n",
    "        values=summary_values,\n",
    "        align = ['right', 'center'],\n",
    "        format=[\"\", \".3f\"],\n",
    "        )\n",
    "\n",
    "results_table = go.Table(columnwidth=[5,4,4])\n",
    "results_table.header = dict(\n",
    "    values= results_header, \n",
    "    align = ['right', 'center'],)\n",
    "results_table.cells = dict(\n",
    "        values=results_values,\n",
    "        align = ['right', 'center'],\n",
    "        format=[\"\", \".2f\", \".5f\"],\n",
    "        fill_color=fill_color,\n",
    "        prefix=results_prefix,\n",
    "        )\n",
    "\n",
    "tepr_fig = make_subplots(\n",
    "    rows=2, cols=2,\n",
    "    shared_xaxes=False,\n",
    "    specs=[\n",
    "        [{\"type\": \"table\"}, {\"type\": \"box\", \"rowspan\": 2}],\n",
    "        [{\"type\": \"table\"}, None]\n",
    "    ])\n",
    "\n",
    "tepr_fig.add_trace(stats_table, row=2, col=1)\n",
    "tepr_fig.add_trace(go.Box(y=tepr_nav['4DoF'], name=\"4-DoF\", notched=True, notchwidth=0.15), row=1, col=2)\n",
    "tepr_fig.add_trace(go.Box(y=tepr_nav['6DoF'], name=\"6-DoF\", notched=True, notchwidth=0.15), row=1, col=2)\n",
    "tepr_fig.add_trace(results_table, row=1, col=1)\n",
    "\n",
    "tepr_fig.update_layout(\n",
    "    title_text=\"TEPR by Navigation Method\",\n",
    "    width=1200,\n",
    "    xaxis_title='Method',\n",
    "    yaxis_title='TEPR',\n",
    ")\n",
    "\n",
    "tepr_max = max(tepr_4dof.max(), tepr_6dof.max())\n",
    "tepr_min = min(tepr_4dof.min(), tepr_6dof.min())\n",
    "tepr_range = 0.025 * (tepr_max - tepr_min)\n",
    "tepr_fig.update_yaxes(range=[min(tepr_4dof.min() - tepr_range, tepr_6dof.min() - tepr_range), max(tepr_4dof.max() + tepr_range, tepr_6dof.max() + tepr_range)])\n",
    "tepr_fig.show()"
   ]
  },
  {
   "cell_type": "markdown",
   "metadata": {},
   "source": [
    "### Creation Workload"
   ]
  },
  {
   "cell_type": "markdown",
   "metadata": {},
   "source": [
    "#### IPA Evaluation"
   ]
  },
  {
   "cell_type": "code",
   "execution_count": 19,
   "metadata": {},
   "outputs": [],
   "source": [
    "ipa_crt = user_data_crt.loc[(slice(None), slice(None), slice(None)), 'IPA']\n",
    "ipa_crt = ipa_crt.unstack(level=(2))\n",
    "\n",
    "uni_outliers = iqr_outlier_indices(ipa_crt['unimanual'])\n",
    "ipa_crt = ipa_crt.drop(ipa_crt.iloc[uni_outliers].index)\n",
    "\n",
    "bi_outliers = iqr_outlier_indices(ipa_crt['bimanual'])\n",
    "ipa_crt = ipa_crt.drop(ipa_crt.iloc[bi_outliers].index)\n",
    "\n",
    "ipa_uni = ipa_crt['unimanual']\n",
    "ipa_bi = ipa_crt['bimanual']\n",
    "\n",
    "n_stat, n_p = stats.shapiro(ipa_crt.stack())\n",
    "w_stat, w_p = stats.wilcoxon(ipa_uni, ipa_bi)\n",
    "t_stat, t_p = stats.ttest_rel(ipa_uni, ipa_bi)\n",
    "\n",
    "results_colors = get_results_colors(n_p, w_p, t_p)\n",
    "results_header = ['<b>Test</b>', '<b>Result</b>', '<b>p-value</b>']\n",
    "results_values=[['Shapiro-Wilk', 'Wilcoxon', 'T-test'], [n_stat, w_stat, t_stat], [n_p, w_p, t_p]]\n",
    "results_prefix = ['','', 'p = ',]\n",
    "fill_color = results_colors\n",
    "\n",
    "if n_p < 0.05:\n",
    "    uni_iqr, uni_q1, uni_q3 = iqr_stats(ipa_uni)\n",
    "    bi_iqr, bi_q1, bi_q3 = iqr_stats(ipa_bi)\n",
    "    summary_header = ['', '<b>Median</b>', '<b>IQR</b>', '<b>Min</b>', '<b>Max</b>', '<b>Skewness</b>']\n",
    "    summary_values = [['<b>Unimanual</b>', '<b>Bimanual</b>'], [ipa_uni.median(), ipa_bi.median()], [uni_iqr, bi_iqr], [ipa_uni.min(), ipa_bi.min()], [ipa_uni.max(), ipa_bi.max()], [ipa_uni.skew(), ipa_bi.skew()]]\n",
    "\n",
    "else:\n",
    "    summary_header = ['', '<b>Mean</b>', '<b>STD</b>', '<b>Min</b>', '<b>Max</b>', '<b>Skewness</b>']\n",
    "    summary_values = [['<b>Unimanual</b>', '<b>Bimanual</b>'], [ipa_uni.mean(), ipa_bi.mean()], [ipa_uni.std(), ipa_bi.std()], [ipa_uni.min(), ipa_bi.min()], [ipa_uni.max(), ipa_bi.max()], [ipa_uni.skew(), ipa_bi.skew()]]\n"
   ]
  },
  {
   "cell_type": "code",
   "execution_count": 20,
   "metadata": {},
   "outputs": [
    {
     "data": {
      "application/vnd.plotly.v1+json": {
       "config": {
        "plotlyServerURL": "https://plot.ly"
       },
       "data": [
        {
         "cells": {
          "align": [
           "right",
           "center"
          ],
          "format": [
           "",
           ".3f"
          ],
          "values": [
           [
            "<b>Unimanual</b>",
            "<b>Bimanual</b>"
           ],
           [
            0.15126819472754707,
            0.18098946942937036
           ],
           [
            0.06284990100501706,
            0.08516136467209331
           ],
           [
            0.05417059403473418,
            0.043478638944686475
           ],
           [
            0.2916500588160952,
            0.3507438692894514
           ],
           [
            0.3934984156617394,
            0.3247433718962892
           ]
          ]
         },
         "columnwidth": [
          5,
          4,
          4,
          4,
          4
         ],
         "domain": {
          "x": [
           0,
           0.45
          ],
          "y": [
           0,
           0.425
          ]
         },
         "header": {
          "align": [
           "right",
           "center"
          ],
          "values": [
           "",
           "<b>Median</b>",
           "<b>IQR</b>",
           "<b>Min</b>",
           "<b>Max</b>",
           "<b>Skewness</b>"
          ]
         },
         "name": "Summary",
         "type": "table"
        },
        {
         "name": "Bimanual",
         "notched": true,
         "notchwidth": 0.15,
         "type": "box",
         "xaxis": "x",
         "y": [
          0.10700932708276159,
          0.17313875834776157,
          0.09955161950574612,
          0.23133932852708353,
          0.15627002209658114,
          0.05590996259623503,
          0.23499277397220036,
          0.1914709275330407,
          0.16205715350661296,
          0.19595835884874463,
          0.14038476656821017,
          0.15542672407093674,
          0.26231190050801073,
          0.21671602976233473,
          0.31226719365473066,
          0.3507438692894514,
          0.1594096625442362,
          0.1871586154869435,
          0.23004370830457788,
          0.06296693920856854,
          0.0984222906803933,
          0.14570189807944084,
          0.13679048485387355,
          0.17241304994375026,
          0.15853569387109814,
          0.19056959982924965,
          0.20415610796795772,
          0.270929287455974,
          0.15032711179526648,
          0.09457302172153163,
          0.06996358395455166,
          0.11507479861910243,
          0.2631158555493953,
          0.23601535279869956,
          0.261657381463755,
          0.225464527384076,
          0.09331230696016499,
          0.14202225488734085,
          0.19919326726756637,
          0.14310689846804067,
          0.17010852924165618,
          0.23530795929172305,
          0.341375156666813,
          0.18098946942937036,
          0.043478638944686475,
          0.24011490589678552,
          0.13642843987257583,
          0.10904084942821704,
          0.1759757857318833,
          0.2363965599572595,
          0.22643975246900203,
          0.333826992643667,
          0.2286642009043669,
          0.23024674776468781,
          0.16178640958206975,
          0.21430189626563637,
          0.15328818485328788,
          0.2207298919483033,
          0.1403008283594741,
          0.17969738959592046,
          0.2223621012876476,
          0.1585062372204346,
          0.16628421297681997,
          0.21469447444149134,
          0.14209667191832284,
          0.09340111763777366,
          0.19205838574926778,
          0.1647935137272997,
          0.1815722339739807,
          0.286379387229934,
          0.19220567544918465,
          0.25559758715877723,
          0.15718204038006617,
          0.09482268158543525,
          0.19633250873679667,
          0.21983457448270177,
          0.2804026582171999,
          0.14119678394068122,
          0.18938927640039166,
          0.17926608464944516,
          0.18933029142665106,
          0.13493055124527406,
          0.2362540735370336,
          0.17855421084395431,
          0.24748731627504092,
          0.13162808001047482,
          0.3188521323236349,
          0.0625125025005001,
          0.18100947337762033,
          0.21497979189956143,
          0.21729588311219855,
          0.1761253307853869,
          0.112353724093824,
          0.06487510461110618,
          0.2217270318510881,
          0.14258338276223936,
          0.22096273463480384,
          0.1334614563314115,
          0.273024124411633,
          0.15015766554882629,
          0.2176013369426142,
          0.1711840228245364,
          0.12967519605268704,
          0.14174444893301866,
          0.2182444417108777,
          0.12971778968298825,
          0.18085144862010347,
          0.1961630507277649,
          0.20571959244009888,
          0.1278178510410764,
          0.14998950073494854,
          0.07647025536477076,
          0.3157300665795778,
          0.23081361800346223,
          0.342563516985441,
          0.2413959583419546,
          0.23503088305803382,
          0.22377121630844626,
          0.2901879174042276,
          0.1090550597185507,
          0.11727000127824301,
          0.18549188473004308,
          0.09613535858488753,
          0.34827641033018114,
          0.13534546931041483,
          0.23505537512879077,
          0.21640993235025516,
          0.1592069371769426,
          0.19845116498466583,
          0.0859034573994017,
          0.12114604155309225
         ],
         "yaxis": "y"
        },
        {
         "name": "Unimanual",
         "notched": true,
         "notchwidth": 0.15,
         "type": "box",
         "xaxis": "x",
         "y": [
          0.11191190294999775,
          0.13658202433471422,
          0.2470389635343041,
          0.06035512958246321,
          0.16759823351461878,
          0.14866904041567863,
          0.1433078802614891,
          0.2566800995918786,
          0.1404956123220272,
          0.09277100497901984,
          0.24496880730520312,
          0.2012337458015323,
          0.1893659307245321,
          0.1418873540530911,
          0.1789264057800386,
          0.2865405751688031,
          0.14252345698562888,
          0.15037593984962405,
          0.12637298987962975,
          0.09958699849054563,
          0.17179805997040778,
          0.06714639032196694,
          0.07424401036446385,
          0.05690888034623363,
          0.23964723926380369,
          0.18929642305478997,
          0.2531789144498321,
          0.2828673401369078,
          0.13933814381686987,
          0.14608776953193478,
          0.09421052755540167,
          0.13635542404832435,
          0.2395794900790133,
          0.17947056184256444,
          0.2314015800871227,
          0.17397481714521823,
          0.20192026168865915,
          0.13279013316194554,
          0.2582226301618117,
          0.10479653752240027,
          0.13935485669094924,
          0.1086818306802287,
          0.11490892191172696,
          0.23528258418704967,
          0.21184645369036523,
          0.11993082390077403,
          0.08906872288175492,
          0.15917568220044462,
          0.1425331745963873,
          0.19020326388800832,
          0.2517965685163643,
          0.18571136739279812,
          0.18789399021072312,
          0.15163835768076714,
          0.16659170040148602,
          0.1564596314593381,
          0.14008970410719662,
          0.15289701621472856,
          0.13842767692210675,
          0.11333021465372267,
          0.11699801103381242,
          0.16657227571043076,
          0.18378182435780926,
          0.19137999007375783,
          0.2179022693795015,
          0.09840153731316008,
          0.10098418266386176,
          0.12904391364381299,
          0.1791661161041224,
          0.12996201047981162,
          0.15775168585514868,
          0.2030268401482676,
          0.18458542498102232,
          0.09310348621772166,
          0.137351631622924,
          0.0906866338481815,
          0.2139952921035737,
          0.1287264519986212,
          0.22331065489571394,
          0.28159891866015235,
          0.13213914780820796,
          0.09427891946930396,
          0.27474708004908815,
          0.12532396244291494,
          0.11121903476707026,
          0.14170854449382594,
          0.20501950839476032,
          0.11647364395560024,
          0.17510812926982414,
          0.06161151067316736,
          0.20590112627916074,
          0.18467902784959742,
          0.13638113702003019,
          0.1744234722829474,
          0.07635122581893053,
          0.20362768713683901,
          0.1416370409189411,
          0.12918922992453197,
          0.08452085129401424,
          0.17569340329835084,
          0.17788164849765264,
          0.1514620824143056,
          0.13631159012013594,
          0.21992341167188525,
          0.1863772228395968,
          0.15126819472754707,
          0.1551898592738356,
          0.20445112822947595,
          0.1357074906463612,
          0.20905569542377084,
          0.18270513218716317,
          0.15018344466049266,
          0.15916836298875742,
          0.12185592669147449,
          0.1105132868546024,
          0.2582548286479212,
          0.05417059403473418,
          0.14507076733368998,
          0.2916500588160952,
          0.12715699995311086,
          0.13336711967031648,
          0.12166726328687627,
          0.15613066026390301,
          0.12983168620200772,
          0.17194861550101137,
          0.21219743502269697,
          0.21739813085918158,
          0.12410354579343275,
          0.15005970232442478,
          0.132765602329088,
          0.20541367746971434
         ],
         "yaxis": "y"
        },
        {
         "cells": {
          "align": [
           "right",
           "center"
          ],
          "fill": {
           "color": [
            [
             "white",
             "white",
             "white"
            ],
            [
             "white",
             "rgb(179,226,205)",
             "white"
            ],
            [
             "rgb(244,202,228)",
             "rgb(179,226,205)",
             "white"
            ]
           ]
          },
          "format": [
           "",
           ".2f",
           ".5f"
          ],
          "prefix": [
           "",
           "",
           "p = "
          ],
          "values": [
           [
            "Shapiro-Wilk",
            "Wilcoxon",
            "T-test"
           ],
           [
            0.9825849612178207,
            2972,
            -3.549824678032589
           ],
           [
            0.0027327720285014734,
            0.0019120590683972232,
            0.0005373106240210423
           ]
          ]
         },
         "columnwidth": [
          5,
          4,
          4
         ],
         "domain": {
          "x": [
           0,
           0.45
          ],
          "y": [
           0.575,
           1
          ]
         },
         "header": {
          "align": [
           "right",
           "center"
          ],
          "values": [
           "<b>Test</b>",
           "<b>Result</b>",
           "<b>p-value</b>"
          ]
         },
         "type": "table"
        }
       ],
       "layout": {
        "template": {
         "data": {
          "bar": [
           {
            "error_x": {
             "color": "#2a3f5f"
            },
            "error_y": {
             "color": "#2a3f5f"
            },
            "marker": {
             "line": {
              "color": "#E5ECF6",
              "width": 0.5
             },
             "pattern": {
              "fillmode": "overlay",
              "size": 10,
              "solidity": 0.2
             }
            },
            "type": "bar"
           }
          ],
          "barpolar": [
           {
            "marker": {
             "line": {
              "color": "#E5ECF6",
              "width": 0.5
             },
             "pattern": {
              "fillmode": "overlay",
              "size": 10,
              "solidity": 0.2
             }
            },
            "type": "barpolar"
           }
          ],
          "carpet": [
           {
            "aaxis": {
             "endlinecolor": "#2a3f5f",
             "gridcolor": "white",
             "linecolor": "white",
             "minorgridcolor": "white",
             "startlinecolor": "#2a3f5f"
            },
            "baxis": {
             "endlinecolor": "#2a3f5f",
             "gridcolor": "white",
             "linecolor": "white",
             "minorgridcolor": "white",
             "startlinecolor": "#2a3f5f"
            },
            "type": "carpet"
           }
          ],
          "choropleth": [
           {
            "colorbar": {
             "outlinewidth": 0,
             "ticks": ""
            },
            "type": "choropleth"
           }
          ],
          "contour": [
           {
            "colorbar": {
             "outlinewidth": 0,
             "ticks": ""
            },
            "colorscale": [
             [
              0,
              "#0d0887"
             ],
             [
              0.1111111111111111,
              "#46039f"
             ],
             [
              0.2222222222222222,
              "#7201a8"
             ],
             [
              0.3333333333333333,
              "#9c179e"
             ],
             [
              0.4444444444444444,
              "#bd3786"
             ],
             [
              0.5555555555555556,
              "#d8576b"
             ],
             [
              0.6666666666666666,
              "#ed7953"
             ],
             [
              0.7777777777777778,
              "#fb9f3a"
             ],
             [
              0.8888888888888888,
              "#fdca26"
             ],
             [
              1,
              "#f0f921"
             ]
            ],
            "type": "contour"
           }
          ],
          "contourcarpet": [
           {
            "colorbar": {
             "outlinewidth": 0,
             "ticks": ""
            },
            "type": "contourcarpet"
           }
          ],
          "heatmap": [
           {
            "colorbar": {
             "outlinewidth": 0,
             "ticks": ""
            },
            "colorscale": [
             [
              0,
              "#0d0887"
             ],
             [
              0.1111111111111111,
              "#46039f"
             ],
             [
              0.2222222222222222,
              "#7201a8"
             ],
             [
              0.3333333333333333,
              "#9c179e"
             ],
             [
              0.4444444444444444,
              "#bd3786"
             ],
             [
              0.5555555555555556,
              "#d8576b"
             ],
             [
              0.6666666666666666,
              "#ed7953"
             ],
             [
              0.7777777777777778,
              "#fb9f3a"
             ],
             [
              0.8888888888888888,
              "#fdca26"
             ],
             [
              1,
              "#f0f921"
             ]
            ],
            "type": "heatmap"
           }
          ],
          "heatmapgl": [
           {
            "colorbar": {
             "outlinewidth": 0,
             "ticks": ""
            },
            "colorscale": [
             [
              0,
              "#0d0887"
             ],
             [
              0.1111111111111111,
              "#46039f"
             ],
             [
              0.2222222222222222,
              "#7201a8"
             ],
             [
              0.3333333333333333,
              "#9c179e"
             ],
             [
              0.4444444444444444,
              "#bd3786"
             ],
             [
              0.5555555555555556,
              "#d8576b"
             ],
             [
              0.6666666666666666,
              "#ed7953"
             ],
             [
              0.7777777777777778,
              "#fb9f3a"
             ],
             [
              0.8888888888888888,
              "#fdca26"
             ],
             [
              1,
              "#f0f921"
             ]
            ],
            "type": "heatmapgl"
           }
          ],
          "histogram": [
           {
            "marker": {
             "pattern": {
              "fillmode": "overlay",
              "size": 10,
              "solidity": 0.2
             }
            },
            "type": "histogram"
           }
          ],
          "histogram2d": [
           {
            "colorbar": {
             "outlinewidth": 0,
             "ticks": ""
            },
            "colorscale": [
             [
              0,
              "#0d0887"
             ],
             [
              0.1111111111111111,
              "#46039f"
             ],
             [
              0.2222222222222222,
              "#7201a8"
             ],
             [
              0.3333333333333333,
              "#9c179e"
             ],
             [
              0.4444444444444444,
              "#bd3786"
             ],
             [
              0.5555555555555556,
              "#d8576b"
             ],
             [
              0.6666666666666666,
              "#ed7953"
             ],
             [
              0.7777777777777778,
              "#fb9f3a"
             ],
             [
              0.8888888888888888,
              "#fdca26"
             ],
             [
              1,
              "#f0f921"
             ]
            ],
            "type": "histogram2d"
           }
          ],
          "histogram2dcontour": [
           {
            "colorbar": {
             "outlinewidth": 0,
             "ticks": ""
            },
            "colorscale": [
             [
              0,
              "#0d0887"
             ],
             [
              0.1111111111111111,
              "#46039f"
             ],
             [
              0.2222222222222222,
              "#7201a8"
             ],
             [
              0.3333333333333333,
              "#9c179e"
             ],
             [
              0.4444444444444444,
              "#bd3786"
             ],
             [
              0.5555555555555556,
              "#d8576b"
             ],
             [
              0.6666666666666666,
              "#ed7953"
             ],
             [
              0.7777777777777778,
              "#fb9f3a"
             ],
             [
              0.8888888888888888,
              "#fdca26"
             ],
             [
              1,
              "#f0f921"
             ]
            ],
            "type": "histogram2dcontour"
           }
          ],
          "mesh3d": [
           {
            "colorbar": {
             "outlinewidth": 0,
             "ticks": ""
            },
            "type": "mesh3d"
           }
          ],
          "parcoords": [
           {
            "line": {
             "colorbar": {
              "outlinewidth": 0,
              "ticks": ""
             }
            },
            "type": "parcoords"
           }
          ],
          "pie": [
           {
            "automargin": true,
            "type": "pie"
           }
          ],
          "scatter": [
           {
            "fillpattern": {
             "fillmode": "overlay",
             "size": 10,
             "solidity": 0.2
            },
            "type": "scatter"
           }
          ],
          "scatter3d": [
           {
            "line": {
             "colorbar": {
              "outlinewidth": 0,
              "ticks": ""
             }
            },
            "marker": {
             "colorbar": {
              "outlinewidth": 0,
              "ticks": ""
             }
            },
            "type": "scatter3d"
           }
          ],
          "scattercarpet": [
           {
            "marker": {
             "colorbar": {
              "outlinewidth": 0,
              "ticks": ""
             }
            },
            "type": "scattercarpet"
           }
          ],
          "scattergeo": [
           {
            "marker": {
             "colorbar": {
              "outlinewidth": 0,
              "ticks": ""
             }
            },
            "type": "scattergeo"
           }
          ],
          "scattergl": [
           {
            "marker": {
             "colorbar": {
              "outlinewidth": 0,
              "ticks": ""
             }
            },
            "type": "scattergl"
           }
          ],
          "scattermapbox": [
           {
            "marker": {
             "colorbar": {
              "outlinewidth": 0,
              "ticks": ""
             }
            },
            "type": "scattermapbox"
           }
          ],
          "scatterpolar": [
           {
            "marker": {
             "colorbar": {
              "outlinewidth": 0,
              "ticks": ""
             }
            },
            "type": "scatterpolar"
           }
          ],
          "scatterpolargl": [
           {
            "marker": {
             "colorbar": {
              "outlinewidth": 0,
              "ticks": ""
             }
            },
            "type": "scatterpolargl"
           }
          ],
          "scatterternary": [
           {
            "marker": {
             "colorbar": {
              "outlinewidth": 0,
              "ticks": ""
             }
            },
            "type": "scatterternary"
           }
          ],
          "surface": [
           {
            "colorbar": {
             "outlinewidth": 0,
             "ticks": ""
            },
            "colorscale": [
             [
              0,
              "#0d0887"
             ],
             [
              0.1111111111111111,
              "#46039f"
             ],
             [
              0.2222222222222222,
              "#7201a8"
             ],
             [
              0.3333333333333333,
              "#9c179e"
             ],
             [
              0.4444444444444444,
              "#bd3786"
             ],
             [
              0.5555555555555556,
              "#d8576b"
             ],
             [
              0.6666666666666666,
              "#ed7953"
             ],
             [
              0.7777777777777778,
              "#fb9f3a"
             ],
             [
              0.8888888888888888,
              "#fdca26"
             ],
             [
              1,
              "#f0f921"
             ]
            ],
            "type": "surface"
           }
          ],
          "table": [
           {
            "cells": {
             "fill": {
              "color": "#EBF0F8"
             },
             "line": {
              "color": "white"
             }
            },
            "header": {
             "fill": {
              "color": "#C8D4E3"
             },
             "line": {
              "color": "white"
             }
            },
            "type": "table"
           }
          ]
         },
         "layout": {
          "annotationdefaults": {
           "arrowcolor": "#2a3f5f",
           "arrowhead": 0,
           "arrowwidth": 1
          },
          "autotypenumbers": "strict",
          "coloraxis": {
           "colorbar": {
            "outlinewidth": 0,
            "ticks": ""
           }
          },
          "colorscale": {
           "diverging": [
            [
             0,
             "#8e0152"
            ],
            [
             0.1,
             "#c51b7d"
            ],
            [
             0.2,
             "#de77ae"
            ],
            [
             0.3,
             "#f1b6da"
            ],
            [
             0.4,
             "#fde0ef"
            ],
            [
             0.5,
             "#f7f7f7"
            ],
            [
             0.6,
             "#e6f5d0"
            ],
            [
             0.7,
             "#b8e186"
            ],
            [
             0.8,
             "#7fbc41"
            ],
            [
             0.9,
             "#4d9221"
            ],
            [
             1,
             "#276419"
            ]
           ],
           "sequential": [
            [
             0,
             "#0d0887"
            ],
            [
             0.1111111111111111,
             "#46039f"
            ],
            [
             0.2222222222222222,
             "#7201a8"
            ],
            [
             0.3333333333333333,
             "#9c179e"
            ],
            [
             0.4444444444444444,
             "#bd3786"
            ],
            [
             0.5555555555555556,
             "#d8576b"
            ],
            [
             0.6666666666666666,
             "#ed7953"
            ],
            [
             0.7777777777777778,
             "#fb9f3a"
            ],
            [
             0.8888888888888888,
             "#fdca26"
            ],
            [
             1,
             "#f0f921"
            ]
           ],
           "sequentialminus": [
            [
             0,
             "#0d0887"
            ],
            [
             0.1111111111111111,
             "#46039f"
            ],
            [
             0.2222222222222222,
             "#7201a8"
            ],
            [
             0.3333333333333333,
             "#9c179e"
            ],
            [
             0.4444444444444444,
             "#bd3786"
            ],
            [
             0.5555555555555556,
             "#d8576b"
            ],
            [
             0.6666666666666666,
             "#ed7953"
            ],
            [
             0.7777777777777778,
             "#fb9f3a"
            ],
            [
             0.8888888888888888,
             "#fdca26"
            ],
            [
             1,
             "#f0f921"
            ]
           ]
          },
          "colorway": [
           "#636efa",
           "#EF553B",
           "#00cc96",
           "#ab63fa",
           "#FFA15A",
           "#19d3f3",
           "#FF6692",
           "#B6E880",
           "#FF97FF",
           "#FECB52"
          ],
          "font": {
           "color": "#2a3f5f"
          },
          "geo": {
           "bgcolor": "white",
           "lakecolor": "white",
           "landcolor": "#E5ECF6",
           "showlakes": true,
           "showland": true,
           "subunitcolor": "white"
          },
          "hoverlabel": {
           "align": "left"
          },
          "hovermode": "closest",
          "mapbox": {
           "style": "light"
          },
          "paper_bgcolor": "white",
          "plot_bgcolor": "#E5ECF6",
          "polar": {
           "angularaxis": {
            "gridcolor": "white",
            "linecolor": "white",
            "ticks": ""
           },
           "bgcolor": "#E5ECF6",
           "radialaxis": {
            "gridcolor": "white",
            "linecolor": "white",
            "ticks": ""
           }
          },
          "scene": {
           "xaxis": {
            "backgroundcolor": "#E5ECF6",
            "gridcolor": "white",
            "gridwidth": 2,
            "linecolor": "white",
            "showbackground": true,
            "ticks": "",
            "zerolinecolor": "white"
           },
           "yaxis": {
            "backgroundcolor": "#E5ECF6",
            "gridcolor": "white",
            "gridwidth": 2,
            "linecolor": "white",
            "showbackground": true,
            "ticks": "",
            "zerolinecolor": "white"
           },
           "zaxis": {
            "backgroundcolor": "#E5ECF6",
            "gridcolor": "white",
            "gridwidth": 2,
            "linecolor": "white",
            "showbackground": true,
            "ticks": "",
            "zerolinecolor": "white"
           }
          },
          "shapedefaults": {
           "line": {
            "color": "#2a3f5f"
           }
          },
          "ternary": {
           "aaxis": {
            "gridcolor": "white",
            "linecolor": "white",
            "ticks": ""
           },
           "baxis": {
            "gridcolor": "white",
            "linecolor": "white",
            "ticks": ""
           },
           "bgcolor": "#E5ECF6",
           "caxis": {
            "gridcolor": "white",
            "linecolor": "white",
            "ticks": ""
           }
          },
          "title": {
           "x": 0.05
          },
          "xaxis": {
           "automargin": true,
           "gridcolor": "white",
           "linecolor": "white",
           "ticks": "",
           "title": {
            "standoff": 15
           },
           "zerolinecolor": "white",
           "zerolinewidth": 2
          },
          "yaxis": {
           "automargin": true,
           "gridcolor": "white",
           "linecolor": "white",
           "ticks": "",
           "title": {
            "standoff": 15
           },
           "zerolinecolor": "white",
           "zerolinewidth": 2
          }
         }
        },
        "title": {
         "text": "IPA by Creation Method"
        },
        "width": 1200,
        "xaxis": {
         "anchor": "y",
         "domain": [
          0.55,
          1
         ],
         "title": {
          "text": "Method"
         }
        },
        "yaxis": {
         "anchor": "x",
         "domain": [
          0,
          1
         ],
         "range": [
          0,
          0.38581825621839655
         ],
         "title": {
          "text": "IPA"
         }
        }
       }
      }
     },
     "metadata": {},
     "output_type": "display_data"
    }
   ],
   "source": [
    "stats_table = go.Table(columnwidth=[5,4,4,4,4], name='Summary')\n",
    "stats_table.header = dict(\n",
    "    values=summary_header, \n",
    "    align = ['right', 'center'],)\n",
    "stats_table.cells = dict(\n",
    "        values=summary_values,\n",
    "        align = ['right', 'center'],\n",
    "        format=[\"\", \".3f\"],\n",
    "        )\n",
    "\n",
    "results_table = go.Table(columnwidth=[5,4,4])\n",
    "results_table.header = dict(\n",
    "    values= results_header, \n",
    "    align = ['right', 'center'],)\n",
    "results_table.cells = dict(\n",
    "        values=results_values,\n",
    "        align = ['right', 'center'],\n",
    "        format=[\"\", \".2f\", \".5f\"],\n",
    "        fill_color=fill_color,\n",
    "        prefix=results_prefix,\n",
    "        )\n",
    "\n",
    "ipa_fig = make_subplots(\n",
    "    rows=2, cols=2,\n",
    "    shared_xaxes=False,\n",
    "    specs=[\n",
    "        [{\"type\": \"table\"}, {\"type\": \"box\", \"rowspan\": 2}],\n",
    "        [{\"type\": \"table\"}, None]\n",
    "    ])\n",
    "\n",
    "ipa_fig.add_trace(stats_table, row=2, col=1)\n",
    "ipa_fig.add_trace(go.Box(y=ipa_crt['bimanual'], name=\"Bimanual\", notched=True, notchwidth=0.15), row=1, col=2)\n",
    "ipa_fig.add_trace(go.Box(y=ipa_crt['unimanual'], name=\"Unimanual\", notched=True, notchwidth=0.15), row=1, col=2)\n",
    "ipa_fig.add_trace(results_table, row=1, col=1)\n",
    "\n",
    "ipa_fig.update_layout(\n",
    "    title_text=\"IPA by Creation Method\",\n",
    "    width=1200,\n",
    "    xaxis_title='Method',\n",
    "    yaxis_title='IPA',\n",
    ")\n",
    "\n",
    "ipa_max = max(ipa_uni.max(), ipa_bi.max())\n",
    "ipa_min = min(ipa_uni.min(), ipa_bi.min())\n",
    "ipa_min = 0 if ipa_min > 0 else ipa_min\n",
    "ipa_range = 0.025 * (ipa_max - ipa_min)\n",
    "ipa_fig.update_yaxes(range=[0,max(1.1*ipa_uni.max(), 1.1*ipa_bi.max())])\n",
    "ipa_fig.show()"
   ]
  },
  {
   "cell_type": "markdown",
   "metadata": {},
   "source": [
    "#### TEPR Evaluation"
   ]
  },
  {
   "cell_type": "code",
   "execution_count": 21,
   "metadata": {},
   "outputs": [],
   "source": [
    "tepr_crt = user_data_crt.loc[(slice(None), slice(None), slice(None)), 'adj_pupil']\n",
    "tepr_crt = tepr_crt.unstack(level=(2))\n",
    "\n",
    "uni_outliers = iqr_outlier_indices(tepr_crt['unimanual'])\n",
    "tepr_crt = tepr_crt.drop(tepr_crt.iloc[uni_outliers].index)\n",
    "\n",
    "bi_outliers = iqr_outlier_indices(tepr_crt['bimanual'])\n",
    "tepr_crt = tepr_crt.drop(tepr_crt.iloc[bi_outliers].index)\n",
    "\n",
    "tepr_uni = tepr_crt['unimanual']\n",
    "tepr_bi = tepr_crt['bimanual']\n",
    "\n",
    "n_stat, n_p = stats.shapiro(tepr_crt.stack())\n",
    "w_stat, w_p = stats.wilcoxon(tepr_uni, tepr_bi)\n",
    "t_stat, t_p = stats.ttest_rel(tepr_uni, tepr_bi)\n",
    "\n",
    "results_colors = get_results_colors(n_p, w_p, t_p)\n",
    "results_header = ['<b>Test</b>', '<b>Result</b>', '<b>p-value</b>']\n",
    "results_values=[['Shapiro-Wilk', 'Wilcoxon', 'T-test'], [n_stat, w_stat, t_stat], [n_p, w_p, t_p]]\n",
    "results_prefix = ['','', 'p = ',]\n",
    "fill_color = results_colors\n",
    "\n",
    "if n_p < 0.05:\n",
    "    uni_iqr, uni_q1, uni_q3 = iqr_stats(tepr_uni)\n",
    "    bi_iqr, bi_q1, bi_q3 = iqr_stats(tepr_bi)\n",
    "    summary_header = ['', '<b>Median</b>', '<b>IQR</b>', '<b>Min</b>', '<b>Max</b>', '<b>Skewness</b>']\n",
    "    summary_values = [['<b>Unimanual</b>', '<b>Bimanual</b>'], \n",
    "                      [tepr_uni.median(), tepr_bi.median()], \n",
    "                      [uni_iqr, bi_iqr], \n",
    "                      [tepr_uni.min(), tepr_bi.min()], \n",
    "                      [tepr_uni.max(), tepr_bi.max()], \n",
    "                      [tepr_uni.skew(), tepr_bi.skew()]]\n",
    "\n",
    "else:\n",
    "    summary_header = ['', '<b>Mean</b>', '<b>STD</b>', '<b>Min</b>', '<b>Max</b>', '<b>Skewness</b>']\n",
    "    summary_values = [['<b>Unimanual</b>', '<b>Bimanual</b>'], \n",
    "                      [tepr_uni.mean(), tepr_bi.mean()], \n",
    "                      [tepr_uni.std(), tepr_bi.std()], \n",
    "                      [tepr_uni.min(), tepr_bi.min()], \n",
    "                      [tepr_uni.max(), tepr_bi.max()], \n",
    "                      [tepr_uni.skew(), tepr_bi.skew()]]"
   ]
  },
  {
   "cell_type": "code",
   "execution_count": 22,
   "metadata": {},
   "outputs": [
    {
     "data": {
      "application/vnd.plotly.v1+json": {
       "config": {
        "plotlyServerURL": "https://plot.ly"
       },
       "data": [
        {
         "cells": {
          "align": [
           "right",
           "center"
          ],
          "format": [
           "",
           ".3f"
          ],
          "values": [
           [
            "<b>Unimanual</b>",
            "<b>Bimanual</b>"
           ],
           [
            0.4341476857662201,
            0.6288179159164429
           ],
           [
            0.39076854288578033,
            0.4027049243450165
           ],
           [
            -0.14156679809093475,
            -0.01659107394516468
           ],
           [
            1.044426679611206,
            1.4523454904556274
           ],
           [
            0.24647483476633672,
            0.2775259636393732
           ]
          ]
         },
         "columnwidth": [
          5,
          4,
          4,
          4,
          4
         ],
         "domain": {
          "x": [
           0,
           0.45
          ],
          "y": [
           0,
           0.425
          ]
         },
         "header": {
          "align": [
           "right",
           "center"
          ],
          "values": [
           "",
           "<b>Median</b>",
           "<b>IQR</b>",
           "<b>Min</b>",
           "<b>Max</b>",
           "<b>Skewness</b>"
          ]
         },
         "type": "table"
        },
        {
         "name": "Bimanual",
         "notched": true,
         "notchwidth": 0.15,
         "type": "box",
         "xaxis": "x",
         "y": [
          1.3872432708740234,
          1.1212035417556763,
          1.4523454904556274,
          0.6154969334602356,
          0.576646089553833,
          0.6905087828636169,
          0.4749581515789032,
          0.8500179648399353,
          0.7553759217262268,
          0.7597828507423401,
          1.029757022857666,
          0.896602213382721,
          0.6738156080245972,
          0.6935681700706482,
          0.8088850378990173,
          0.8219415545463562,
          0.630327045917511,
          0.5048259496688843,
          0.6288179159164429,
          0.2573886811733246,
          0.05189792066812515,
          0.09824227541685104,
          0.11551832407712936,
          0.8485360145568848,
          0.5102697014808655,
          0.6000465750694275,
          0.6503149271011353,
          0.447010338306427,
          0.4443967938423157,
          0.26422613859176636,
          0.33396652340888977,
          0.11235968768596649,
          0.19003868103027344,
          0.1796901524066925,
          0.3324516713619232,
          0.29744699597358704,
          0.24671730399131775,
          0.1451665461063385,
          0.32448506355285645,
          0.7513517141342163,
          0.6572447419166565,
          0.4986264705657959,
          0.6871070861816406,
          0.57813960313797,
          0.49960511922836304,
          0.5325482487678528,
          0.2595529556274414,
          0.6371369361877441,
          0.5517915487289429,
          0.7495816349983215,
          0.8336756229400635,
          0.3900942802429199,
          0.3645247519016266,
          0.30332162976264954,
          0.37618666887283325,
          0.8063096404075623,
          0.6974391341209412,
          0.8386010527610779,
          0.7834954857826233,
          0.6204348802566528,
          0.4385731518268585,
          0.6390699148178101,
          0.520686686038971,
          1.0157033205032349,
          0.8554757833480835,
          0.841278076171875,
          0.7329328060150146,
          1.3342920541763306,
          1.051113247871399,
          1.1792198419570923,
          1.197109341621399,
          0.4359583258628845,
          0.23204755783081055,
          0.3055896461009979,
          0.30621376633644104,
          1.2705811262130737,
          1.3043160438537598,
          1.184449315071106,
          0.534777820110321,
          0.48271894454956055,
          0.6774869561195374,
          0.5682052969932556,
          0.08919000625610352,
          -0.01659107394516468,
          0.1581731140613556,
          0.2991699278354645,
          1.116703748703003,
          1.0027543306350708,
          1.000146746635437,
          0.7092456817626953,
          0.6046792268753052,
          0.5296397805213928,
          0.5592767596244812,
          0.5662335753440857,
          0.4361179769039154,
          0.5078088045120239,
          0.5033103227615356,
          0.5517382025718689,
          0.3856028616428375,
          0.4084252715110779,
          0.3620617687702179,
          1.050023078918457,
          0.8146162629127502,
          0.6744012236595154,
          0.7142251133918762,
          0.8871973156929016,
          0.806266188621521,
          1.0623654127120972,
          1.1555882692337036,
          0.5438783764839172,
          0.24215759336948395,
          0.4659247398376465,
          0.43145641684532166,
          1.1150938272476196,
          1.0450501441955566,
          0.9069066643714905,
          0.983566164970398,
          1.0247763395309448,
          1.0696098804473877,
          0.806437075138092,
          0.8958818912506104,
          0.6327682137489319,
          0.4964645504951477,
          0.6418342590332031,
          0.5827058553695679,
          0.6273266673088074,
          0.6272129416465759,
          0.5268425941467285,
          0.6543604135513306,
          1.1481752395629883,
          0.8275256752967834,
          1.2217992544174194,
          1.0914071798324585
         ],
         "yaxis": "y"
        },
        {
         "name": "Unimanual",
         "notched": true,
         "notchwidth": 0.15,
         "type": "box",
         "xaxis": "x",
         "y": [
          0.751182496547699,
          0.6480458974838257,
          0.5922877788543701,
          0.4785538911819458,
          0.4817998707294464,
          0.3480207026004791,
          0.45875152945518494,
          0.8502189517021179,
          0.8570816516876221,
          0.6522998809814453,
          0.7485929131507874,
          0.7468442916870117,
          0.6661780476570129,
          0.757361888885498,
          0.7601312398910522,
          0.3230246901512146,
          0.2547743022441864,
          0.15575776994228363,
          0.1743496209383011,
          0.11995232850313187,
          0.05815456062555313,
          -0.08179822564125061,
          -0.10575778782367706,
          0.4965595006942749,
          0.4341476857662201,
          0.40495166182518005,
          0.5808985233306885,
          0.12770389020442963,
          -0.14156679809093475,
          0.14466093480587006,
          0.07033592462539673,
          0.11888088285923004,
          0.25468385219573975,
          0.27780964970588684,
          0.17789453268051147,
          0.21092277765274048,
          0.16482411324977875,
          0.06324993073940277,
          0.14084620773792267,
          0.6736869812011719,
          0.5377318263053894,
          0.4611893594264984,
          0.40286827087402344,
          0.3015211522579193,
          0.15758652985095978,
          0.3138137757778168,
          0.25046756863594055,
          0.6297550797462463,
          0.43610572814941406,
          0.7313847541809082,
          0.6359551548957825,
          0.2992221713066101,
          0.1930495947599411,
          0.25796791911125183,
          0.33287543058395386,
          0.4568764269351959,
          0.41697022318840027,
          0.5390027761459351,
          0.5484347343444824,
          0.402996301651001,
          0.3769102096557617,
          0.6315906643867493,
          0.5466901659965515,
          0.44309690594673157,
          0.5763525366783142,
          0.3573406934738159,
          0.6101849675178528,
          0.7305546402931213,
          0.49219220876693726,
          0.676683247089386,
          0.6753706932067871,
          0.22095242142677307,
          0.1718527376651764,
          0.2281816005706787,
          0.10236895829439163,
          0.8557713627815247,
          0.7812049984931946,
          0.957927942276001,
          0.2414265125989914,
          0.11237261444330215,
          0.3673439621925354,
          0.18123553693294525,
          0.09097129851579666,
          0.014634335413575172,
          0.1470520794391632,
          0.020096533000469208,
          0.7903430461883545,
          0.5575344562530518,
          0.799293577671051,
          0.2675313353538513,
          0.2440824955701828,
          0.2430548220872879,
          0.2581261992454529,
          0.3283543884754181,
          0.238986536860466,
          0.32389339804649353,
          0.25731196999549866,
          0.1811007708311081,
          -0.021324362605810165,
          0.11554557830095291,
          0.19518086314201355,
          0.5870069861412048,
          0.5544652342796326,
          0.5921622514724731,
          0.37445905804634094,
          0.829171895980835,
          0.7510218620300293,
          0.9985158443450928,
          0.9992970824241638,
          0.405567467212677,
          0.23557864129543304,
          0.4759473204612732,
          0.3140431046485901,
          0.8001075983047485,
          1.031332015991211,
          0.9406190514564514,
          0.7292007803916931,
          0.5260249376296997,
          0.4984143078327179,
          0.4614294171333313,
          0.4567328989505768,
          0.38941729068756104,
          0.3546026349067688,
          0.4605932831764221,
          0.3378591239452362,
          0.6183459758758545,
          0.4377618730068207,
          0.5748562812805176,
          1.044426679611206,
          0.6548839211463928,
          0.53252774477005,
          0.4418115019798279,
          0.9855771064758301
         ],
         "yaxis": "y"
        },
        {
         "cells": {
          "align": [
           "right",
           "center"
          ],
          "fill": {
           "color": [
            [
             "white",
             "white",
             "white"
            ],
            [
             "white",
             "rgb(179,226,205)",
             "white"
            ],
            [
             "rgb(244,202,228)",
             "rgb(179,226,205)",
             "white"
            ]
           ]
          },
          "format": [
           "",
           ".2f",
           ".5f"
          ],
          "prefix": [
           "",
           "",
           "p = "
          ],
          "values": [
           [
            "Shapiro-Wilk",
            "Wilcoxon",
            "T-test"
           ],
           [
            0.9856716875737792,
            345,
            -12.760732051195967
           ],
           [
            0.009232079275606438,
            2.671782035238926e-20,
            8.564350739403036e-25
           ]
          ]
         },
         "columnwidth": [
          5,
          4,
          4
         ],
         "domain": {
          "x": [
           0,
           0.45
          ],
          "y": [
           0.575,
           1
          ]
         },
         "header": {
          "align": [
           "right",
           "center"
          ],
          "values": [
           "<b>Test</b>",
           "<b>Result</b>",
           "<b>p-value</b>"
          ]
         },
         "type": "table"
        }
       ],
       "layout": {
        "template": {
         "data": {
          "bar": [
           {
            "error_x": {
             "color": "#2a3f5f"
            },
            "error_y": {
             "color": "#2a3f5f"
            },
            "marker": {
             "line": {
              "color": "#E5ECF6",
              "width": 0.5
             },
             "pattern": {
              "fillmode": "overlay",
              "size": 10,
              "solidity": 0.2
             }
            },
            "type": "bar"
           }
          ],
          "barpolar": [
           {
            "marker": {
             "line": {
              "color": "#E5ECF6",
              "width": 0.5
             },
             "pattern": {
              "fillmode": "overlay",
              "size": 10,
              "solidity": 0.2
             }
            },
            "type": "barpolar"
           }
          ],
          "carpet": [
           {
            "aaxis": {
             "endlinecolor": "#2a3f5f",
             "gridcolor": "white",
             "linecolor": "white",
             "minorgridcolor": "white",
             "startlinecolor": "#2a3f5f"
            },
            "baxis": {
             "endlinecolor": "#2a3f5f",
             "gridcolor": "white",
             "linecolor": "white",
             "minorgridcolor": "white",
             "startlinecolor": "#2a3f5f"
            },
            "type": "carpet"
           }
          ],
          "choropleth": [
           {
            "colorbar": {
             "outlinewidth": 0,
             "ticks": ""
            },
            "type": "choropleth"
           }
          ],
          "contour": [
           {
            "colorbar": {
             "outlinewidth": 0,
             "ticks": ""
            },
            "colorscale": [
             [
              0,
              "#0d0887"
             ],
             [
              0.1111111111111111,
              "#46039f"
             ],
             [
              0.2222222222222222,
              "#7201a8"
             ],
             [
              0.3333333333333333,
              "#9c179e"
             ],
             [
              0.4444444444444444,
              "#bd3786"
             ],
             [
              0.5555555555555556,
              "#d8576b"
             ],
             [
              0.6666666666666666,
              "#ed7953"
             ],
             [
              0.7777777777777778,
              "#fb9f3a"
             ],
             [
              0.8888888888888888,
              "#fdca26"
             ],
             [
              1,
              "#f0f921"
             ]
            ],
            "type": "contour"
           }
          ],
          "contourcarpet": [
           {
            "colorbar": {
             "outlinewidth": 0,
             "ticks": ""
            },
            "type": "contourcarpet"
           }
          ],
          "heatmap": [
           {
            "colorbar": {
             "outlinewidth": 0,
             "ticks": ""
            },
            "colorscale": [
             [
              0,
              "#0d0887"
             ],
             [
              0.1111111111111111,
              "#46039f"
             ],
             [
              0.2222222222222222,
              "#7201a8"
             ],
             [
              0.3333333333333333,
              "#9c179e"
             ],
             [
              0.4444444444444444,
              "#bd3786"
             ],
             [
              0.5555555555555556,
              "#d8576b"
             ],
             [
              0.6666666666666666,
              "#ed7953"
             ],
             [
              0.7777777777777778,
              "#fb9f3a"
             ],
             [
              0.8888888888888888,
              "#fdca26"
             ],
             [
              1,
              "#f0f921"
             ]
            ],
            "type": "heatmap"
           }
          ],
          "heatmapgl": [
           {
            "colorbar": {
             "outlinewidth": 0,
             "ticks": ""
            },
            "colorscale": [
             [
              0,
              "#0d0887"
             ],
             [
              0.1111111111111111,
              "#46039f"
             ],
             [
              0.2222222222222222,
              "#7201a8"
             ],
             [
              0.3333333333333333,
              "#9c179e"
             ],
             [
              0.4444444444444444,
              "#bd3786"
             ],
             [
              0.5555555555555556,
              "#d8576b"
             ],
             [
              0.6666666666666666,
              "#ed7953"
             ],
             [
              0.7777777777777778,
              "#fb9f3a"
             ],
             [
              0.8888888888888888,
              "#fdca26"
             ],
             [
              1,
              "#f0f921"
             ]
            ],
            "type": "heatmapgl"
           }
          ],
          "histogram": [
           {
            "marker": {
             "pattern": {
              "fillmode": "overlay",
              "size": 10,
              "solidity": 0.2
             }
            },
            "type": "histogram"
           }
          ],
          "histogram2d": [
           {
            "colorbar": {
             "outlinewidth": 0,
             "ticks": ""
            },
            "colorscale": [
             [
              0,
              "#0d0887"
             ],
             [
              0.1111111111111111,
              "#46039f"
             ],
             [
              0.2222222222222222,
              "#7201a8"
             ],
             [
              0.3333333333333333,
              "#9c179e"
             ],
             [
              0.4444444444444444,
              "#bd3786"
             ],
             [
              0.5555555555555556,
              "#d8576b"
             ],
             [
              0.6666666666666666,
              "#ed7953"
             ],
             [
              0.7777777777777778,
              "#fb9f3a"
             ],
             [
              0.8888888888888888,
              "#fdca26"
             ],
             [
              1,
              "#f0f921"
             ]
            ],
            "type": "histogram2d"
           }
          ],
          "histogram2dcontour": [
           {
            "colorbar": {
             "outlinewidth": 0,
             "ticks": ""
            },
            "colorscale": [
             [
              0,
              "#0d0887"
             ],
             [
              0.1111111111111111,
              "#46039f"
             ],
             [
              0.2222222222222222,
              "#7201a8"
             ],
             [
              0.3333333333333333,
              "#9c179e"
             ],
             [
              0.4444444444444444,
              "#bd3786"
             ],
             [
              0.5555555555555556,
              "#d8576b"
             ],
             [
              0.6666666666666666,
              "#ed7953"
             ],
             [
              0.7777777777777778,
              "#fb9f3a"
             ],
             [
              0.8888888888888888,
              "#fdca26"
             ],
             [
              1,
              "#f0f921"
             ]
            ],
            "type": "histogram2dcontour"
           }
          ],
          "mesh3d": [
           {
            "colorbar": {
             "outlinewidth": 0,
             "ticks": ""
            },
            "type": "mesh3d"
           }
          ],
          "parcoords": [
           {
            "line": {
             "colorbar": {
              "outlinewidth": 0,
              "ticks": ""
             }
            },
            "type": "parcoords"
           }
          ],
          "pie": [
           {
            "automargin": true,
            "type": "pie"
           }
          ],
          "scatter": [
           {
            "fillpattern": {
             "fillmode": "overlay",
             "size": 10,
             "solidity": 0.2
            },
            "type": "scatter"
           }
          ],
          "scatter3d": [
           {
            "line": {
             "colorbar": {
              "outlinewidth": 0,
              "ticks": ""
             }
            },
            "marker": {
             "colorbar": {
              "outlinewidth": 0,
              "ticks": ""
             }
            },
            "type": "scatter3d"
           }
          ],
          "scattercarpet": [
           {
            "marker": {
             "colorbar": {
              "outlinewidth": 0,
              "ticks": ""
             }
            },
            "type": "scattercarpet"
           }
          ],
          "scattergeo": [
           {
            "marker": {
             "colorbar": {
              "outlinewidth": 0,
              "ticks": ""
             }
            },
            "type": "scattergeo"
           }
          ],
          "scattergl": [
           {
            "marker": {
             "colorbar": {
              "outlinewidth": 0,
              "ticks": ""
             }
            },
            "type": "scattergl"
           }
          ],
          "scattermapbox": [
           {
            "marker": {
             "colorbar": {
              "outlinewidth": 0,
              "ticks": ""
             }
            },
            "type": "scattermapbox"
           }
          ],
          "scatterpolar": [
           {
            "marker": {
             "colorbar": {
              "outlinewidth": 0,
              "ticks": ""
             }
            },
            "type": "scatterpolar"
           }
          ],
          "scatterpolargl": [
           {
            "marker": {
             "colorbar": {
              "outlinewidth": 0,
              "ticks": ""
             }
            },
            "type": "scatterpolargl"
           }
          ],
          "scatterternary": [
           {
            "marker": {
             "colorbar": {
              "outlinewidth": 0,
              "ticks": ""
             }
            },
            "type": "scatterternary"
           }
          ],
          "surface": [
           {
            "colorbar": {
             "outlinewidth": 0,
             "ticks": ""
            },
            "colorscale": [
             [
              0,
              "#0d0887"
             ],
             [
              0.1111111111111111,
              "#46039f"
             ],
             [
              0.2222222222222222,
              "#7201a8"
             ],
             [
              0.3333333333333333,
              "#9c179e"
             ],
             [
              0.4444444444444444,
              "#bd3786"
             ],
             [
              0.5555555555555556,
              "#d8576b"
             ],
             [
              0.6666666666666666,
              "#ed7953"
             ],
             [
              0.7777777777777778,
              "#fb9f3a"
             ],
             [
              0.8888888888888888,
              "#fdca26"
             ],
             [
              1,
              "#f0f921"
             ]
            ],
            "type": "surface"
           }
          ],
          "table": [
           {
            "cells": {
             "fill": {
              "color": "#EBF0F8"
             },
             "line": {
              "color": "white"
             }
            },
            "header": {
             "fill": {
              "color": "#C8D4E3"
             },
             "line": {
              "color": "white"
             }
            },
            "type": "table"
           }
          ]
         },
         "layout": {
          "annotationdefaults": {
           "arrowcolor": "#2a3f5f",
           "arrowhead": 0,
           "arrowwidth": 1
          },
          "autotypenumbers": "strict",
          "coloraxis": {
           "colorbar": {
            "outlinewidth": 0,
            "ticks": ""
           }
          },
          "colorscale": {
           "diverging": [
            [
             0,
             "#8e0152"
            ],
            [
             0.1,
             "#c51b7d"
            ],
            [
             0.2,
             "#de77ae"
            ],
            [
             0.3,
             "#f1b6da"
            ],
            [
             0.4,
             "#fde0ef"
            ],
            [
             0.5,
             "#f7f7f7"
            ],
            [
             0.6,
             "#e6f5d0"
            ],
            [
             0.7,
             "#b8e186"
            ],
            [
             0.8,
             "#7fbc41"
            ],
            [
             0.9,
             "#4d9221"
            ],
            [
             1,
             "#276419"
            ]
           ],
           "sequential": [
            [
             0,
             "#0d0887"
            ],
            [
             0.1111111111111111,
             "#46039f"
            ],
            [
             0.2222222222222222,
             "#7201a8"
            ],
            [
             0.3333333333333333,
             "#9c179e"
            ],
            [
             0.4444444444444444,
             "#bd3786"
            ],
            [
             0.5555555555555556,
             "#d8576b"
            ],
            [
             0.6666666666666666,
             "#ed7953"
            ],
            [
             0.7777777777777778,
             "#fb9f3a"
            ],
            [
             0.8888888888888888,
             "#fdca26"
            ],
            [
             1,
             "#f0f921"
            ]
           ],
           "sequentialminus": [
            [
             0,
             "#0d0887"
            ],
            [
             0.1111111111111111,
             "#46039f"
            ],
            [
             0.2222222222222222,
             "#7201a8"
            ],
            [
             0.3333333333333333,
             "#9c179e"
            ],
            [
             0.4444444444444444,
             "#bd3786"
            ],
            [
             0.5555555555555556,
             "#d8576b"
            ],
            [
             0.6666666666666666,
             "#ed7953"
            ],
            [
             0.7777777777777778,
             "#fb9f3a"
            ],
            [
             0.8888888888888888,
             "#fdca26"
            ],
            [
             1,
             "#f0f921"
            ]
           ]
          },
          "colorway": [
           "#636efa",
           "#EF553B",
           "#00cc96",
           "#ab63fa",
           "#FFA15A",
           "#19d3f3",
           "#FF6692",
           "#B6E880",
           "#FF97FF",
           "#FECB52"
          ],
          "font": {
           "color": "#2a3f5f"
          },
          "geo": {
           "bgcolor": "white",
           "lakecolor": "white",
           "landcolor": "#E5ECF6",
           "showlakes": true,
           "showland": true,
           "subunitcolor": "white"
          },
          "hoverlabel": {
           "align": "left"
          },
          "hovermode": "closest",
          "mapbox": {
           "style": "light"
          },
          "paper_bgcolor": "white",
          "plot_bgcolor": "#E5ECF6",
          "polar": {
           "angularaxis": {
            "gridcolor": "white",
            "linecolor": "white",
            "ticks": ""
           },
           "bgcolor": "#E5ECF6",
           "radialaxis": {
            "gridcolor": "white",
            "linecolor": "white",
            "ticks": ""
           }
          },
          "scene": {
           "xaxis": {
            "backgroundcolor": "#E5ECF6",
            "gridcolor": "white",
            "gridwidth": 2,
            "linecolor": "white",
            "showbackground": true,
            "ticks": "",
            "zerolinecolor": "white"
           },
           "yaxis": {
            "backgroundcolor": "#E5ECF6",
            "gridcolor": "white",
            "gridwidth": 2,
            "linecolor": "white",
            "showbackground": true,
            "ticks": "",
            "zerolinecolor": "white"
           },
           "zaxis": {
            "backgroundcolor": "#E5ECF6",
            "gridcolor": "white",
            "gridwidth": 2,
            "linecolor": "white",
            "showbackground": true,
            "ticks": "",
            "zerolinecolor": "white"
           }
          },
          "shapedefaults": {
           "line": {
            "color": "#2a3f5f"
           }
          },
          "ternary": {
           "aaxis": {
            "gridcolor": "white",
            "linecolor": "white",
            "ticks": ""
           },
           "baxis": {
            "gridcolor": "white",
            "linecolor": "white",
            "ticks": ""
           },
           "bgcolor": "#E5ECF6",
           "caxis": {
            "gridcolor": "white",
            "linecolor": "white",
            "ticks": ""
           }
          },
          "title": {
           "x": 0.05
          },
          "xaxis": {
           "automargin": true,
           "gridcolor": "white",
           "linecolor": "white",
           "ticks": "",
           "title": {
            "standoff": 15
           },
           "zerolinecolor": "white",
           "zerolinewidth": 2
          },
          "yaxis": {
           "automargin": true,
           "gridcolor": "white",
           "linecolor": "white",
           "ticks": "",
           "title": {
            "standoff": 15
           },
           "zerolinecolor": "white",
           "zerolinewidth": 2
          }
         }
        },
        "title": {
         "text": "TEPR by Creation Method"
        },
        "width": 1200,
        "xaxis": {
         "anchor": "y",
         "domain": [
          0.55,
          1
         ],
         "title": {
          "text": "Method"
         }
        },
        "yaxis": {
         "anchor": "x",
         "domain": [
          0,
          1
         ],
         "range": [
          -0.1814146053045988,
          1.4921932976692915
         ],
         "title": {
          "text": "TEPR"
         }
        }
       }
      }
     },
     "metadata": {},
     "output_type": "display_data"
    }
   ],
   "source": [
    "stats_table = go.Table(columnwidth=[5,4,4,4,4])\n",
    "stats_table.header = dict(\n",
    "    values=summary_header, \n",
    "    align = ['right', 'center'],)\n",
    "stats_table.cells = dict(\n",
    "        values=summary_values,\n",
    "        align = ['right', 'center'],\n",
    "        format=[\"\", \".3f\"],\n",
    "        )\n",
    "\n",
    "results_table = go.Table(columnwidth=[5,4,4])\n",
    "results_table.header = dict(\n",
    "    values= results_header, \n",
    "    align = ['right', 'center'],)\n",
    "results_table.cells = dict(\n",
    "        values=results_values,\n",
    "        align = ['right', 'center'],\n",
    "        format=[\"\", \".2f\", \".5f\"],\n",
    "        fill_color=fill_color,\n",
    "        prefix=results_prefix,\n",
    "        )\n",
    "\n",
    "tepr_fig = make_subplots(\n",
    "    rows=2, cols=2,\n",
    "    shared_xaxes=False,\n",
    "    specs=[\n",
    "        [{\"type\": \"table\"}, {\"type\": \"box\", \"rowspan\": 2}],\n",
    "        [{\"type\": \"table\"}, None]\n",
    "    ])\n",
    "\n",
    "tepr_fig.add_trace(stats_table, row=2, col=1)\n",
    "tepr_fig.add_trace(go.Box(y=tepr_crt['bimanual'], name=\"Bimanual\", notched=True, notchwidth=0.15), row=1, col=2)\n",
    "tepr_fig.add_trace(go.Box(y=tepr_crt['unimanual'], name=\"Unimanual\", notched=True, notchwidth=0.15), row=1, col=2)\n",
    "tepr_fig.add_trace(results_table, row=1, col=1)\n",
    "\n",
    "tepr_fig.update_layout(\n",
    "    title_text=\"TEPR by Creation Method\",\n",
    "    width=1200,\n",
    "    xaxis_title='Method',\n",
    "    yaxis_title='TEPR',\n",
    ")\n",
    "\n",
    "tepr_max = max(tepr_uni.max(), tepr_bi.max())\n",
    "tepr_min = min(tepr_uni.min(), tepr_bi.min())\n",
    "tepr_range = 0.025 * (tepr_max - tepr_min)\n",
    "tepr_fig.update_yaxes(range=[min(tepr_uni.min() - tepr_range, tepr_bi.min() - tepr_range), max(tepr_uni.max() + tepr_range, tepr_bi.max() + tepr_range)])\n",
    "tepr_fig.show()\n"
   ]
  },
  {
   "cell_type": "markdown",
   "metadata": {},
   "source": [
    "### Survey Analysis"
   ]
  },
  {
   "cell_type": "markdown",
   "metadata": {},
   "source": [
    "N.B: \n",
    "\n",
    "Non-normally distributed Likert data is known to be poorly suited to non-parametric tests. Mixed models are a better alternative for this type of data for null hypothesis testing, especially for repeated measures designs. This will be refactored soon."
   ]
  },
  {
   "cell_type": "code",
   "execution_count": 23,
   "metadata": {},
   "outputs": [],
   "source": [
    "discomfort = user_data_nav.loc[(slice(None), slice(None), slice(None)), 'discomfort']\n",
    "discomfort = discomfort.unstack(level=(2))\n",
    "\n",
    "outliers_4dof = iqr_outlier_indices(discomfort['4DoF'])\n",
    "discomfort = discomfort.drop(discomfort.iloc[outliers_4dof].index)\n",
    "\n",
    "outliers_6dof = iqr_outlier_indices(discomfort['6DoF'])\n",
    "discomfort = discomfort.drop(discomfort.iloc[outliers_6dof].index)\n",
    "\n",
    "discomfort_4dof = discomfort['4DoF']\n",
    "discomfort_6dof = discomfort['6DoF']\n",
    "\n",
    "n_stat, n_p = stats.shapiro(discomfort.stack())\n",
    "w_stat, w_p = stats.wilcoxon(discomfort_4dof, discomfort_6dof, nan_policy='omit', zero_method='pratt')\n",
    "t_stat, t_p = stats.ttest_rel(discomfort_4dof, discomfort_6dof, nan_policy='omit')\n",
    "\n",
    "results_colors = get_results_colors(n_p, w_p, t_p)\n",
    "results_header = ['<b>Test</b>', '<b>Result</b>', '<b>p-value</b>']\n",
    "results_values=[['Shapiro-Wilk', 'Wilcoxon', 'T-test'], [n_stat, w_stat, t_stat], [n_p, w_p, t_p]]\n",
    "results_prefix = ['','', 'p = ',]\n",
    "fill_color = results_colors \n",
    "\n",
    "if n_p < 0.05:\n",
    "    iqr_4dof, q1_4dof, q3_4dof = iqr_stats(discomfort_4dof)\n",
    "    iqr_6dof, q1_6dof, q3_6dof = iqr_stats(discomfort_6dof)\n",
    "    summary_header = ['', '<b>Median</b>', '<b>IQR</b>', '<b>Min</b>', '<b>Max</b>', '<b>Skewness</b>']\n",
    "    summary_values = [['<b>4-DoF</b>', '<b>6-DoF</b>'], [discomfort_4dof.median(), discomfort_6dof.median()], [iqr_4dof, iqr_6dof], [discomfort_4dof.min(), discomfort_6dof.min()], [discomfort_4dof.max(), discomfort_6dof.max()], [discomfort_4dof.skew(), discomfort_6dof.skew()]]\n",
    "\n",
    "else:\n",
    "    summary_header = ['', '<b>Mean</b>', '<b>STD</b>', '<b>Min</b>', '<b>Max</b>', '<b>Skewness</b>']\n",
    "    summary_values = [['<b>4-DoF</b>', '<b>6-DoF</b>'], [discomfort_4dof.mean(), discomfort_6dof.mean()], [discomfort_4dof.std(), discomfort_6dof.std()], [discomfort_4dof.min(), discomfort_6dof.min()], [discomfort_4dof.max(), discomfort_6dof.max()], [discomfort_4dof.skew(), discomfort_6dof.skew()]]"
   ]
  },
  {
   "cell_type": "code",
   "execution_count": 24,
   "metadata": {},
   "outputs": [
    {
     "data": {
      "application/vnd.plotly.v1+json": {
       "config": {
        "plotlyServerURL": "https://plot.ly"
       },
       "data": [
        {
         "cells": {
          "align": [
           "right",
           "center"
          ],
          "format": [
           "",
           ".3f"
          ],
          "values": [
           [
            "<b>4-DoF</b>",
            "<b>6-DoF</b>"
           ],
           [
            1,
            2
           ],
           [
            4,
            3
           ],
           [
            0,
            0
           ],
           [
            9,
            8
           ],
           [
            1.0833073276957277,
            0.9297350538112948
           ]
          ]
         },
         "columnwidth": [
          5,
          4,
          4,
          4,
          4
         ],
         "domain": {
          "x": [
           0,
           0.45
          ],
          "y": [
           0,
           0.425
          ]
         },
         "header": {
          "align": [
           "right",
           "center"
          ],
          "values": [
           "",
           "<b>Median</b>",
           "<b>IQR</b>",
           "<b>Min</b>",
           "<b>Max</b>",
           "<b>Skewness</b>"
          ]
         },
         "type": "table"
        },
        {
         "name": "4-DoF",
         "notched": true,
         "notchwidth": 0.15,
         "type": "box",
         "xaxis": "x",
         "y": [
          2,
          1,
          1,
          2,
          0,
          0,
          0,
          0,
          5,
          5,
          5,
          5,
          0,
          0,
          2,
          1,
          4,
          5,
          4,
          5,
          1,
          1,
          0,
          0,
          0,
          0,
          0,
          0,
          3,
          2,
          null,
          1,
          1,
          1,
          0,
          0,
          0,
          0,
          0,
          0,
          0,
          1,
          1,
          0,
          1,
          0,
          1,
          0,
          3,
          4,
          5,
          4,
          7,
          6,
          8,
          0,
          1,
          1,
          0,
          1,
          2,
          3,
          2,
          2,
          3,
          3,
          3,
          0,
          null,
          2,
          1,
          1,
          1,
          1,
          0,
          3,
          4,
          3,
          2,
          4,
          5,
          5,
          5,
          1,
          0,
          0,
          0,
          0,
          0,
          0,
          0,
          8,
          8,
          8,
          7,
          7,
          7,
          7,
          8,
          1,
          1,
          1,
          0,
          1,
          1,
          1,
          1,
          1,
          1,
          2,
          2,
          4,
          6,
          7,
          6,
          5,
          2,
          3,
          0,
          0,
          0,
          0,
          3,
          2,
          0,
          1,
          9,
          9,
          9,
          8,
          1,
          1,
          1,
          1
         ],
         "yaxis": "y"
        },
        {
         "name": "6-DoF",
         "notched": true,
         "notchwidth": 0.15,
         "type": "box",
         "xaxis": "x",
         "y": [
          1,
          1,
          2,
          1,
          0,
          0,
          0,
          0,
          6,
          5,
          5,
          6,
          2,
          4,
          1,
          1,
          5,
          5,
          5,
          5,
          0,
          0,
          0,
          0,
          0,
          0,
          0,
          0,
          2,
          3,
          2,
          1,
          0,
          0,
          0,
          0,
          0,
          0,
          0,
          0,
          4,
          4,
          5,
          0,
          2,
          0,
          0,
          1,
          5,
          4,
          6,
          6,
          8,
          6,
          8,
          2,
          2,
          3,
          2,
          3,
          3,
          3,
          4,
          5,
          4,
          4,
          4,
          1,
          1,
          1,
          0,
          1,
          2,
          2,
          0,
          2,
          3,
          2,
          2,
          2,
          4,
          2,
          2,
          1,
          2,
          1,
          1,
          0,
          0,
          0,
          0,
          8,
          7,
          7,
          8,
          5,
          7,
          6,
          4,
          1,
          1,
          1,
          1,
          1,
          1,
          2,
          1,
          1,
          1,
          1,
          0,
          8,
          8,
          8,
          1,
          1,
          1,
          1,
          0,
          0,
          2,
          1,
          2,
          1,
          5,
          2,
          5,
          3,
          3,
          7,
          2,
          1,
          2,
          2
         ],
         "yaxis": "y"
        },
        {
         "cells": {
          "align": [
           "right",
           "center"
          ],
          "fill": {
           "color": [
            [
             "white",
             "white",
             "white"
            ],
            [
             "white",
             "rgb(244,202,228)",
             "white"
            ],
            [
             "rgb(244,202,228)",
             "rgb(244,202,228)",
             "white"
            ]
           ]
          },
          "format": [
           "",
           ".2f",
           ".5f"
          ],
          "prefix": [
           "",
           "",
           "p = "
          ],
          "values": [
           [
            "Shapiro-Wilk",
            "Wilcoxon",
            "T-test"
           ],
           [
            0.84525812557854,
            3206,
            -0.6125185691988164
           ],
           [
            1.2946681038868225e-15,
            0.19866479213512023,
            0.5412565146614344
           ]
          ]
         },
         "columnwidth": [
          5,
          4,
          4
         ],
         "domain": {
          "x": [
           0,
           0.45
          ],
          "y": [
           0.575,
           1
          ]
         },
         "header": {
          "align": [
           "right",
           "center"
          ],
          "values": [
           "<b>Test</b>",
           "<b>Result</b>",
           "<b>p-value</b>"
          ]
         },
         "type": "table"
        }
       ],
       "layout": {
        "template": {
         "data": {
          "bar": [
           {
            "error_x": {
             "color": "#2a3f5f"
            },
            "error_y": {
             "color": "#2a3f5f"
            },
            "marker": {
             "line": {
              "color": "#E5ECF6",
              "width": 0.5
             },
             "pattern": {
              "fillmode": "overlay",
              "size": 10,
              "solidity": 0.2
             }
            },
            "type": "bar"
           }
          ],
          "barpolar": [
           {
            "marker": {
             "line": {
              "color": "#E5ECF6",
              "width": 0.5
             },
             "pattern": {
              "fillmode": "overlay",
              "size": 10,
              "solidity": 0.2
             }
            },
            "type": "barpolar"
           }
          ],
          "carpet": [
           {
            "aaxis": {
             "endlinecolor": "#2a3f5f",
             "gridcolor": "white",
             "linecolor": "white",
             "minorgridcolor": "white",
             "startlinecolor": "#2a3f5f"
            },
            "baxis": {
             "endlinecolor": "#2a3f5f",
             "gridcolor": "white",
             "linecolor": "white",
             "minorgridcolor": "white",
             "startlinecolor": "#2a3f5f"
            },
            "type": "carpet"
           }
          ],
          "choropleth": [
           {
            "colorbar": {
             "outlinewidth": 0,
             "ticks": ""
            },
            "type": "choropleth"
           }
          ],
          "contour": [
           {
            "colorbar": {
             "outlinewidth": 0,
             "ticks": ""
            },
            "colorscale": [
             [
              0,
              "#0d0887"
             ],
             [
              0.1111111111111111,
              "#46039f"
             ],
             [
              0.2222222222222222,
              "#7201a8"
             ],
             [
              0.3333333333333333,
              "#9c179e"
             ],
             [
              0.4444444444444444,
              "#bd3786"
             ],
             [
              0.5555555555555556,
              "#d8576b"
             ],
             [
              0.6666666666666666,
              "#ed7953"
             ],
             [
              0.7777777777777778,
              "#fb9f3a"
             ],
             [
              0.8888888888888888,
              "#fdca26"
             ],
             [
              1,
              "#f0f921"
             ]
            ],
            "type": "contour"
           }
          ],
          "contourcarpet": [
           {
            "colorbar": {
             "outlinewidth": 0,
             "ticks": ""
            },
            "type": "contourcarpet"
           }
          ],
          "heatmap": [
           {
            "colorbar": {
             "outlinewidth": 0,
             "ticks": ""
            },
            "colorscale": [
             [
              0,
              "#0d0887"
             ],
             [
              0.1111111111111111,
              "#46039f"
             ],
             [
              0.2222222222222222,
              "#7201a8"
             ],
             [
              0.3333333333333333,
              "#9c179e"
             ],
             [
              0.4444444444444444,
              "#bd3786"
             ],
             [
              0.5555555555555556,
              "#d8576b"
             ],
             [
              0.6666666666666666,
              "#ed7953"
             ],
             [
              0.7777777777777778,
              "#fb9f3a"
             ],
             [
              0.8888888888888888,
              "#fdca26"
             ],
             [
              1,
              "#f0f921"
             ]
            ],
            "type": "heatmap"
           }
          ],
          "heatmapgl": [
           {
            "colorbar": {
             "outlinewidth": 0,
             "ticks": ""
            },
            "colorscale": [
             [
              0,
              "#0d0887"
             ],
             [
              0.1111111111111111,
              "#46039f"
             ],
             [
              0.2222222222222222,
              "#7201a8"
             ],
             [
              0.3333333333333333,
              "#9c179e"
             ],
             [
              0.4444444444444444,
              "#bd3786"
             ],
             [
              0.5555555555555556,
              "#d8576b"
             ],
             [
              0.6666666666666666,
              "#ed7953"
             ],
             [
              0.7777777777777778,
              "#fb9f3a"
             ],
             [
              0.8888888888888888,
              "#fdca26"
             ],
             [
              1,
              "#f0f921"
             ]
            ],
            "type": "heatmapgl"
           }
          ],
          "histogram": [
           {
            "marker": {
             "pattern": {
              "fillmode": "overlay",
              "size": 10,
              "solidity": 0.2
             }
            },
            "type": "histogram"
           }
          ],
          "histogram2d": [
           {
            "colorbar": {
             "outlinewidth": 0,
             "ticks": ""
            },
            "colorscale": [
             [
              0,
              "#0d0887"
             ],
             [
              0.1111111111111111,
              "#46039f"
             ],
             [
              0.2222222222222222,
              "#7201a8"
             ],
             [
              0.3333333333333333,
              "#9c179e"
             ],
             [
              0.4444444444444444,
              "#bd3786"
             ],
             [
              0.5555555555555556,
              "#d8576b"
             ],
             [
              0.6666666666666666,
              "#ed7953"
             ],
             [
              0.7777777777777778,
              "#fb9f3a"
             ],
             [
              0.8888888888888888,
              "#fdca26"
             ],
             [
              1,
              "#f0f921"
             ]
            ],
            "type": "histogram2d"
           }
          ],
          "histogram2dcontour": [
           {
            "colorbar": {
             "outlinewidth": 0,
             "ticks": ""
            },
            "colorscale": [
             [
              0,
              "#0d0887"
             ],
             [
              0.1111111111111111,
              "#46039f"
             ],
             [
              0.2222222222222222,
              "#7201a8"
             ],
             [
              0.3333333333333333,
              "#9c179e"
             ],
             [
              0.4444444444444444,
              "#bd3786"
             ],
             [
              0.5555555555555556,
              "#d8576b"
             ],
             [
              0.6666666666666666,
              "#ed7953"
             ],
             [
              0.7777777777777778,
              "#fb9f3a"
             ],
             [
              0.8888888888888888,
              "#fdca26"
             ],
             [
              1,
              "#f0f921"
             ]
            ],
            "type": "histogram2dcontour"
           }
          ],
          "mesh3d": [
           {
            "colorbar": {
             "outlinewidth": 0,
             "ticks": ""
            },
            "type": "mesh3d"
           }
          ],
          "parcoords": [
           {
            "line": {
             "colorbar": {
              "outlinewidth": 0,
              "ticks": ""
             }
            },
            "type": "parcoords"
           }
          ],
          "pie": [
           {
            "automargin": true,
            "type": "pie"
           }
          ],
          "scatter": [
           {
            "fillpattern": {
             "fillmode": "overlay",
             "size": 10,
             "solidity": 0.2
            },
            "type": "scatter"
           }
          ],
          "scatter3d": [
           {
            "line": {
             "colorbar": {
              "outlinewidth": 0,
              "ticks": ""
             }
            },
            "marker": {
             "colorbar": {
              "outlinewidth": 0,
              "ticks": ""
             }
            },
            "type": "scatter3d"
           }
          ],
          "scattercarpet": [
           {
            "marker": {
             "colorbar": {
              "outlinewidth": 0,
              "ticks": ""
             }
            },
            "type": "scattercarpet"
           }
          ],
          "scattergeo": [
           {
            "marker": {
             "colorbar": {
              "outlinewidth": 0,
              "ticks": ""
             }
            },
            "type": "scattergeo"
           }
          ],
          "scattergl": [
           {
            "marker": {
             "colorbar": {
              "outlinewidth": 0,
              "ticks": ""
             }
            },
            "type": "scattergl"
           }
          ],
          "scattermapbox": [
           {
            "marker": {
             "colorbar": {
              "outlinewidth": 0,
              "ticks": ""
             }
            },
            "type": "scattermapbox"
           }
          ],
          "scatterpolar": [
           {
            "marker": {
             "colorbar": {
              "outlinewidth": 0,
              "ticks": ""
             }
            },
            "type": "scatterpolar"
           }
          ],
          "scatterpolargl": [
           {
            "marker": {
             "colorbar": {
              "outlinewidth": 0,
              "ticks": ""
             }
            },
            "type": "scatterpolargl"
           }
          ],
          "scatterternary": [
           {
            "marker": {
             "colorbar": {
              "outlinewidth": 0,
              "ticks": ""
             }
            },
            "type": "scatterternary"
           }
          ],
          "surface": [
           {
            "colorbar": {
             "outlinewidth": 0,
             "ticks": ""
            },
            "colorscale": [
             [
              0,
              "#0d0887"
             ],
             [
              0.1111111111111111,
              "#46039f"
             ],
             [
              0.2222222222222222,
              "#7201a8"
             ],
             [
              0.3333333333333333,
              "#9c179e"
             ],
             [
              0.4444444444444444,
              "#bd3786"
             ],
             [
              0.5555555555555556,
              "#d8576b"
             ],
             [
              0.6666666666666666,
              "#ed7953"
             ],
             [
              0.7777777777777778,
              "#fb9f3a"
             ],
             [
              0.8888888888888888,
              "#fdca26"
             ],
             [
              1,
              "#f0f921"
             ]
            ],
            "type": "surface"
           }
          ],
          "table": [
           {
            "cells": {
             "fill": {
              "color": "#EBF0F8"
             },
             "line": {
              "color": "white"
             }
            },
            "header": {
             "fill": {
              "color": "#C8D4E3"
             },
             "line": {
              "color": "white"
             }
            },
            "type": "table"
           }
          ]
         },
         "layout": {
          "annotationdefaults": {
           "arrowcolor": "#2a3f5f",
           "arrowhead": 0,
           "arrowwidth": 1
          },
          "autotypenumbers": "strict",
          "coloraxis": {
           "colorbar": {
            "outlinewidth": 0,
            "ticks": ""
           }
          },
          "colorscale": {
           "diverging": [
            [
             0,
             "#8e0152"
            ],
            [
             0.1,
             "#c51b7d"
            ],
            [
             0.2,
             "#de77ae"
            ],
            [
             0.3,
             "#f1b6da"
            ],
            [
             0.4,
             "#fde0ef"
            ],
            [
             0.5,
             "#f7f7f7"
            ],
            [
             0.6,
             "#e6f5d0"
            ],
            [
             0.7,
             "#b8e186"
            ],
            [
             0.8,
             "#7fbc41"
            ],
            [
             0.9,
             "#4d9221"
            ],
            [
             1,
             "#276419"
            ]
           ],
           "sequential": [
            [
             0,
             "#0d0887"
            ],
            [
             0.1111111111111111,
             "#46039f"
            ],
            [
             0.2222222222222222,
             "#7201a8"
            ],
            [
             0.3333333333333333,
             "#9c179e"
            ],
            [
             0.4444444444444444,
             "#bd3786"
            ],
            [
             0.5555555555555556,
             "#d8576b"
            ],
            [
             0.6666666666666666,
             "#ed7953"
            ],
            [
             0.7777777777777778,
             "#fb9f3a"
            ],
            [
             0.8888888888888888,
             "#fdca26"
            ],
            [
             1,
             "#f0f921"
            ]
           ],
           "sequentialminus": [
            [
             0,
             "#0d0887"
            ],
            [
             0.1111111111111111,
             "#46039f"
            ],
            [
             0.2222222222222222,
             "#7201a8"
            ],
            [
             0.3333333333333333,
             "#9c179e"
            ],
            [
             0.4444444444444444,
             "#bd3786"
            ],
            [
             0.5555555555555556,
             "#d8576b"
            ],
            [
             0.6666666666666666,
             "#ed7953"
            ],
            [
             0.7777777777777778,
             "#fb9f3a"
            ],
            [
             0.8888888888888888,
             "#fdca26"
            ],
            [
             1,
             "#f0f921"
            ]
           ]
          },
          "colorway": [
           "#636efa",
           "#EF553B",
           "#00cc96",
           "#ab63fa",
           "#FFA15A",
           "#19d3f3",
           "#FF6692",
           "#B6E880",
           "#FF97FF",
           "#FECB52"
          ],
          "font": {
           "color": "#2a3f5f"
          },
          "geo": {
           "bgcolor": "white",
           "lakecolor": "white",
           "landcolor": "#E5ECF6",
           "showlakes": true,
           "showland": true,
           "subunitcolor": "white"
          },
          "hoverlabel": {
           "align": "left"
          },
          "hovermode": "closest",
          "mapbox": {
           "style": "light"
          },
          "paper_bgcolor": "white",
          "plot_bgcolor": "#E5ECF6",
          "polar": {
           "angularaxis": {
            "gridcolor": "white",
            "linecolor": "white",
            "ticks": ""
           },
           "bgcolor": "#E5ECF6",
           "radialaxis": {
            "gridcolor": "white",
            "linecolor": "white",
            "ticks": ""
           }
          },
          "scene": {
           "xaxis": {
            "backgroundcolor": "#E5ECF6",
            "gridcolor": "white",
            "gridwidth": 2,
            "linecolor": "white",
            "showbackground": true,
            "ticks": "",
            "zerolinecolor": "white"
           },
           "yaxis": {
            "backgroundcolor": "#E5ECF6",
            "gridcolor": "white",
            "gridwidth": 2,
            "linecolor": "white",
            "showbackground": true,
            "ticks": "",
            "zerolinecolor": "white"
           },
           "zaxis": {
            "backgroundcolor": "#E5ECF6",
            "gridcolor": "white",
            "gridwidth": 2,
            "linecolor": "white",
            "showbackground": true,
            "ticks": "",
            "zerolinecolor": "white"
           }
          },
          "shapedefaults": {
           "line": {
            "color": "#2a3f5f"
           }
          },
          "ternary": {
           "aaxis": {
            "gridcolor": "white",
            "linecolor": "white",
            "ticks": ""
           },
           "baxis": {
            "gridcolor": "white",
            "linecolor": "white",
            "ticks": ""
           },
           "bgcolor": "#E5ECF6",
           "caxis": {
            "gridcolor": "white",
            "linecolor": "white",
            "ticks": ""
           }
          },
          "title": {
           "x": 0.05
          },
          "xaxis": {
           "automargin": true,
           "gridcolor": "white",
           "linecolor": "white",
           "ticks": "",
           "title": {
            "standoff": 15
           },
           "zerolinecolor": "white",
           "zerolinewidth": 2
          },
          "yaxis": {
           "automargin": true,
           "gridcolor": "white",
           "linecolor": "white",
           "ticks": "",
           "title": {
            "standoff": 15
           },
           "zerolinecolor": "white",
           "zerolinewidth": 2
          }
         }
        },
        "title": {
         "text": "Discomfort by Navigation Method"
        },
        "width": 1200,
        "xaxis": {
         "anchor": "y",
         "domain": [
          0.55,
          1
         ],
         "title": {
          "text": "Method"
         }
        },
        "yaxis": {
         "anchor": "x",
         "domain": [
          0,
          1
         ],
         "range": [
          0,
          9.9
         ],
         "title": {
          "text": "Discomfort"
         }
        }
       }
      }
     },
     "metadata": {},
     "output_type": "display_data"
    }
   ],
   "source": [
    "stats_table = go.Table(columnwidth=[5,4,4,4,4])\n",
    "stats_table.header = dict(\n",
    "    values=summary_header, \n",
    "    align = ['right', 'center'],)\n",
    "stats_table.cells = dict(\n",
    "        values=summary_values,\n",
    "        align = ['right', 'center'],\n",
    "        format=[\"\", \".3f\"],\n",
    "        )\n",
    "\n",
    "results_table = go.Table(columnwidth=[5,4,4])\n",
    "results_table.header = dict(\n",
    "    values= results_header, \n",
    "    align = ['right', 'center'],)\n",
    "results_table.cells = dict(\n",
    "        values=results_values,\n",
    "        align = ['right', 'center'],\n",
    "        format=[\"\", \".2f\", \".5f\"],\n",
    "        fill_color=fill_color,\n",
    "        prefix=results_prefix,\n",
    "        )\n",
    "\n",
    "discomfort_fig = make_subplots(\n",
    "    rows=2, cols=2,\n",
    "    shared_xaxes=False,\n",
    "    specs=[\n",
    "        [{\"type\": \"table\"}, {\"type\": \"box\", \"rowspan\": 2}],\n",
    "        [{\"type\": \"table\"}, None]\n",
    "    ])\n",
    "\n",
    "discomfort_fig.add_trace(stats_table, row=2, col=1)\n",
    "discomfort_fig.add_trace(go.Box(y=discomfort['4DoF'], name=\"4-DoF\", notched=True, notchwidth=0.15), row=1, col=2)\n",
    "discomfort_fig.add_trace(go.Box(y=discomfort['6DoF'], name=\"6-DoF\", notched=True, notchwidth=0.15), row=1, col=2)\n",
    "discomfort_fig.add_trace(results_table, row=1, col=1)\n",
    "\n",
    "discomfort_fig.update_layout(\n",
    "    title_text=\"Discomfort by Navigation Method\",\n",
    "    width=1200,\n",
    "    xaxis_title='Method',\n",
    "    yaxis_title='Discomfort',\n",
    ")\n",
    "\n",
    "discomfort_fig.update_yaxes(range=[0,max(1.1*discomfort_4dof.max(), 1.1*discomfort_6dof.max())])\n",
    "discomfort_fig.show()"
   ]
  },
  {
   "cell_type": "code",
   "execution_count": 25,
   "metadata": {},
   "outputs": [],
   "source": [
    "seq_nav = user_data_nav.loc[(slice(None), slice(None), slice(None)), 'seq']\n",
    "seq_nav = seq_nav.unstack(level=(2))\n",
    "\n",
    "outliers_4dof = iqr_outlier_indices(seq_nav['4DoF'])\n",
    "seq_nav = seq_nav.drop(seq_nav.iloc[outliers_4dof].index)\n",
    "\n",
    "outliers_6dof = iqr_outlier_indices(seq_nav['6DoF'])\n",
    "seq_nav = seq_nav.drop(seq_nav.iloc[outliers_6dof].index)\n",
    "\n",
    "seq_4dof = seq_nav['4DoF']\n",
    "seq_6dof = seq_nav['6DoF']\n",
    "\n",
    "n_stat, n_p = stats.shapiro(seq_nav.stack())\n",
    "w_stat, w_p = stats.wilcoxon(seq_4dof, seq_6dof, nan_policy='omit', zero_method='pratt')\n",
    "t_stat, t_p = stats.ttest_rel(seq_4dof, seq_6dof, nan_policy='omit')\n",
    "\n",
    "results_colors = get_results_colors(n_p, w_p, t_p)\n",
    "results_header = ['<b>Test</b>', '<b>Result</b>', '<b>p-value</b>']\n",
    "results_values=[['Shapiro-Wilk', 'Wilcoxon', 'T-test'], [n_stat, w_stat, t_stat], [n_p, w_p, t_p]]\n",
    "results_prefix = ['','', 'p = ',]\n",
    "fill_color = results_colors\n",
    "\n",
    "if n_p < 0.05:\n",
    "    iqr_4dof, q1_4dof, q3_4dof = iqr_stats(seq_4dof)\n",
    "    iqr_6dof, q1_6dof, q3_6dof = iqr_stats(seq_6dof)\n",
    "    summary_header = ['', '<b>Median</b>', '<b>IQR</b>', '<b>Min</b>', '<b>Max</b>', '<b>Skewness</b>']\n",
    "    summary_values = [['<b>4-DoF</b>', '<b>6-DoF</b>'], [seq_4dof.median(), seq_6dof.median()], [iqr_4dof, iqr_6dof], [seq_4dof.min(), seq_6dof.min()], [seq_4dof.max(), seq_6dof.max()], [seq_4dof.skew(), seq_6dof.skew()]]\n",
    "\n",
    "else:\n",
    "    summary_header = ['', '<b>Mean</b>', '<b>STD</b>', '<b>Min</b>', '<b>Max</b>', '<b>Skewness</b>']\n",
    "    summary_values = [['<b>4-DoF</b>', '<b>6-DoF</b>'], [seq_4dof.mean(), seq_6dof.mean()], [seq_4dof.std(), seq_6dof.std()], [seq_4dof.min(), seq_6dof.min()], [seq_4dof.max(), seq_6dof.max()], [seq_4dof.skew(), seq_6dof.skew()]]"
   ]
  },
  {
   "cell_type": "code",
   "execution_count": 26,
   "metadata": {},
   "outputs": [
    {
     "data": {
      "application/vnd.plotly.v1+json": {
       "config": {
        "plotlyServerURL": "https://plot.ly"
       },
       "data": [
        {
         "cells": {
          "align": [
           "right",
           "center"
          ],
          "format": [
           "",
           ".3f"
          ],
          "values": [
           [
            "<b>4-DoF</b>",
            "<b>6-DoF</b>"
           ],
           [
            0,
            1
           ],
           [
            1,
            2
           ],
           [
            0,
            0
           ],
           [
            2,
            4
           ],
           [
            1.6780088305995122,
            0.7599633554661482
           ]
          ]
         },
         "columnwidth": [
          5,
          4,
          4,
          4,
          4
         ],
         "domain": {
          "x": [
           0,
           0.45
          ],
          "y": [
           0,
           0.425
          ]
         },
         "header": {
          "align": [
           "right",
           "center"
          ],
          "values": [
           "",
           "<b>Median</b>",
           "<b>IQR</b>",
           "<b>Min</b>",
           "<b>Max</b>",
           "<b>Skewness</b>"
          ]
         },
         "type": "table"
        },
        {
         "name": "4-DoF",
         "notched": true,
         "notchwidth": 0.15,
         "type": "box",
         "xaxis": "x",
         "y": [
          0,
          0,
          1,
          1,
          0,
          0,
          1,
          0,
          1,
          0,
          0,
          0,
          0,
          0,
          0,
          0,
          1,
          1,
          2,
          0,
          0,
          0,
          0,
          0,
          0,
          0,
          0,
          2,
          null,
          1,
          1,
          0,
          0,
          0,
          0,
          0,
          0,
          0,
          0,
          0,
          0,
          0,
          0,
          0,
          0,
          0,
          1,
          1,
          1,
          1,
          0,
          1,
          2,
          2,
          0,
          0,
          0,
          0,
          0,
          0,
          0,
          0,
          1,
          1,
          1,
          1,
          0,
          null,
          0,
          0,
          0,
          0,
          0,
          0,
          1,
          1,
          2,
          1,
          0,
          0,
          0,
          0,
          0,
          0,
          0,
          0,
          0,
          0,
          0,
          0,
          1,
          0,
          1,
          1,
          0,
          0,
          0,
          0,
          0,
          0,
          0,
          0,
          0,
          0,
          0,
          0,
          0,
          0,
          0,
          0,
          2,
          2,
          2,
          2,
          0,
          0,
          0,
          0,
          0,
          0,
          0,
          0,
          1,
          1,
          0,
          0,
          0,
          0,
          0,
          0,
          0,
          0,
          0,
          0
         ],
         "yaxis": "y"
        },
        {
         "name": "6-DoF",
         "notched": true,
         "notchwidth": 0.15,
         "type": "box",
         "xaxis": "x",
         "y": [
          0,
          0,
          0,
          0,
          0,
          0,
          0,
          0,
          0,
          0,
          0,
          0,
          0,
          1,
          0,
          0,
          2,
          1,
          2,
          0,
          0,
          0,
          0,
          0,
          0,
          0,
          0,
          4,
          4,
          1,
          0,
          0,
          0,
          0,
          1,
          0,
          0,
          0,
          2,
          1,
          2,
          3,
          1,
          1,
          0,
          1,
          1,
          1,
          1,
          1,
          1,
          1,
          2,
          1,
          1,
          2,
          1,
          1,
          2,
          2,
          2,
          1,
          2,
          3,
          2,
          2,
          0,
          0,
          0,
          1,
          1,
          2,
          1,
          1,
          1,
          2,
          1,
          1,
          2,
          2,
          2,
          2,
          2,
          3,
          2,
          2,
          0,
          1,
          1,
          1,
          2,
          2,
          1,
          1,
          1,
          0,
          0,
          1,
          0,
          1,
          0,
          0,
          0,
          0,
          1,
          1,
          1,
          1,
          1,
          0,
          2,
          2,
          2,
          2,
          0,
          0,
          0,
          0,
          0,
          0,
          0,
          2,
          1,
          1,
          1,
          1,
          1,
          1,
          1,
          1,
          2,
          2,
          2,
          3
         ],
         "yaxis": "y"
        },
        {
         "cells": {
          "align": [
           "right",
           "center"
          ],
          "fill": {
           "color": [
            [
             "white",
             "white",
             "white"
            ],
            [
             "white",
             "rgb(179,226,205)",
             "white"
            ],
            [
             "rgb(244,202,228)",
             "rgb(179,226,205)",
             "white"
            ]
           ]
          },
          "format": [
           "",
           ".2f",
           ".5f"
          ],
          "prefix": [
           "",
           "",
           "p = "
          ],
          "values": [
           [
            "Shapiro-Wilk",
            "Wilcoxon",
            "T-test"
           ],
           [
            0.7414720967268396,
            602,
            -7.969711193634996
           ],
           [
            4.234043554617565e-20,
            1.6765212483412673e-11,
            6.818171691345627e-13
           ]
          ]
         },
         "columnwidth": [
          5,
          4,
          4
         ],
         "domain": {
          "x": [
           0,
           0.45
          ],
          "y": [
           0.575,
           1
          ]
         },
         "header": {
          "align": [
           "right",
           "center"
          ],
          "values": [
           "<b>Test</b>",
           "<b>Result</b>",
           "<b>p-value</b>"
          ]
         },
         "type": "table"
        }
       ],
       "layout": {
        "template": {
         "data": {
          "bar": [
           {
            "error_x": {
             "color": "#2a3f5f"
            },
            "error_y": {
             "color": "#2a3f5f"
            },
            "marker": {
             "line": {
              "color": "#E5ECF6",
              "width": 0.5
             },
             "pattern": {
              "fillmode": "overlay",
              "size": 10,
              "solidity": 0.2
             }
            },
            "type": "bar"
           }
          ],
          "barpolar": [
           {
            "marker": {
             "line": {
              "color": "#E5ECF6",
              "width": 0.5
             },
             "pattern": {
              "fillmode": "overlay",
              "size": 10,
              "solidity": 0.2
             }
            },
            "type": "barpolar"
           }
          ],
          "carpet": [
           {
            "aaxis": {
             "endlinecolor": "#2a3f5f",
             "gridcolor": "white",
             "linecolor": "white",
             "minorgridcolor": "white",
             "startlinecolor": "#2a3f5f"
            },
            "baxis": {
             "endlinecolor": "#2a3f5f",
             "gridcolor": "white",
             "linecolor": "white",
             "minorgridcolor": "white",
             "startlinecolor": "#2a3f5f"
            },
            "type": "carpet"
           }
          ],
          "choropleth": [
           {
            "colorbar": {
             "outlinewidth": 0,
             "ticks": ""
            },
            "type": "choropleth"
           }
          ],
          "contour": [
           {
            "colorbar": {
             "outlinewidth": 0,
             "ticks": ""
            },
            "colorscale": [
             [
              0,
              "#0d0887"
             ],
             [
              0.1111111111111111,
              "#46039f"
             ],
             [
              0.2222222222222222,
              "#7201a8"
             ],
             [
              0.3333333333333333,
              "#9c179e"
             ],
             [
              0.4444444444444444,
              "#bd3786"
             ],
             [
              0.5555555555555556,
              "#d8576b"
             ],
             [
              0.6666666666666666,
              "#ed7953"
             ],
             [
              0.7777777777777778,
              "#fb9f3a"
             ],
             [
              0.8888888888888888,
              "#fdca26"
             ],
             [
              1,
              "#f0f921"
             ]
            ],
            "type": "contour"
           }
          ],
          "contourcarpet": [
           {
            "colorbar": {
             "outlinewidth": 0,
             "ticks": ""
            },
            "type": "contourcarpet"
           }
          ],
          "heatmap": [
           {
            "colorbar": {
             "outlinewidth": 0,
             "ticks": ""
            },
            "colorscale": [
             [
              0,
              "#0d0887"
             ],
             [
              0.1111111111111111,
              "#46039f"
             ],
             [
              0.2222222222222222,
              "#7201a8"
             ],
             [
              0.3333333333333333,
              "#9c179e"
             ],
             [
              0.4444444444444444,
              "#bd3786"
             ],
             [
              0.5555555555555556,
              "#d8576b"
             ],
             [
              0.6666666666666666,
              "#ed7953"
             ],
             [
              0.7777777777777778,
              "#fb9f3a"
             ],
             [
              0.8888888888888888,
              "#fdca26"
             ],
             [
              1,
              "#f0f921"
             ]
            ],
            "type": "heatmap"
           }
          ],
          "heatmapgl": [
           {
            "colorbar": {
             "outlinewidth": 0,
             "ticks": ""
            },
            "colorscale": [
             [
              0,
              "#0d0887"
             ],
             [
              0.1111111111111111,
              "#46039f"
             ],
             [
              0.2222222222222222,
              "#7201a8"
             ],
             [
              0.3333333333333333,
              "#9c179e"
             ],
             [
              0.4444444444444444,
              "#bd3786"
             ],
             [
              0.5555555555555556,
              "#d8576b"
             ],
             [
              0.6666666666666666,
              "#ed7953"
             ],
             [
              0.7777777777777778,
              "#fb9f3a"
             ],
             [
              0.8888888888888888,
              "#fdca26"
             ],
             [
              1,
              "#f0f921"
             ]
            ],
            "type": "heatmapgl"
           }
          ],
          "histogram": [
           {
            "marker": {
             "pattern": {
              "fillmode": "overlay",
              "size": 10,
              "solidity": 0.2
             }
            },
            "type": "histogram"
           }
          ],
          "histogram2d": [
           {
            "colorbar": {
             "outlinewidth": 0,
             "ticks": ""
            },
            "colorscale": [
             [
              0,
              "#0d0887"
             ],
             [
              0.1111111111111111,
              "#46039f"
             ],
             [
              0.2222222222222222,
              "#7201a8"
             ],
             [
              0.3333333333333333,
              "#9c179e"
             ],
             [
              0.4444444444444444,
              "#bd3786"
             ],
             [
              0.5555555555555556,
              "#d8576b"
             ],
             [
              0.6666666666666666,
              "#ed7953"
             ],
             [
              0.7777777777777778,
              "#fb9f3a"
             ],
             [
              0.8888888888888888,
              "#fdca26"
             ],
             [
              1,
              "#f0f921"
             ]
            ],
            "type": "histogram2d"
           }
          ],
          "histogram2dcontour": [
           {
            "colorbar": {
             "outlinewidth": 0,
             "ticks": ""
            },
            "colorscale": [
             [
              0,
              "#0d0887"
             ],
             [
              0.1111111111111111,
              "#46039f"
             ],
             [
              0.2222222222222222,
              "#7201a8"
             ],
             [
              0.3333333333333333,
              "#9c179e"
             ],
             [
              0.4444444444444444,
              "#bd3786"
             ],
             [
              0.5555555555555556,
              "#d8576b"
             ],
             [
              0.6666666666666666,
              "#ed7953"
             ],
             [
              0.7777777777777778,
              "#fb9f3a"
             ],
             [
              0.8888888888888888,
              "#fdca26"
             ],
             [
              1,
              "#f0f921"
             ]
            ],
            "type": "histogram2dcontour"
           }
          ],
          "mesh3d": [
           {
            "colorbar": {
             "outlinewidth": 0,
             "ticks": ""
            },
            "type": "mesh3d"
           }
          ],
          "parcoords": [
           {
            "line": {
             "colorbar": {
              "outlinewidth": 0,
              "ticks": ""
             }
            },
            "type": "parcoords"
           }
          ],
          "pie": [
           {
            "automargin": true,
            "type": "pie"
           }
          ],
          "scatter": [
           {
            "fillpattern": {
             "fillmode": "overlay",
             "size": 10,
             "solidity": 0.2
            },
            "type": "scatter"
           }
          ],
          "scatter3d": [
           {
            "line": {
             "colorbar": {
              "outlinewidth": 0,
              "ticks": ""
             }
            },
            "marker": {
             "colorbar": {
              "outlinewidth": 0,
              "ticks": ""
             }
            },
            "type": "scatter3d"
           }
          ],
          "scattercarpet": [
           {
            "marker": {
             "colorbar": {
              "outlinewidth": 0,
              "ticks": ""
             }
            },
            "type": "scattercarpet"
           }
          ],
          "scattergeo": [
           {
            "marker": {
             "colorbar": {
              "outlinewidth": 0,
              "ticks": ""
             }
            },
            "type": "scattergeo"
           }
          ],
          "scattergl": [
           {
            "marker": {
             "colorbar": {
              "outlinewidth": 0,
              "ticks": ""
             }
            },
            "type": "scattergl"
           }
          ],
          "scattermapbox": [
           {
            "marker": {
             "colorbar": {
              "outlinewidth": 0,
              "ticks": ""
             }
            },
            "type": "scattermapbox"
           }
          ],
          "scatterpolar": [
           {
            "marker": {
             "colorbar": {
              "outlinewidth": 0,
              "ticks": ""
             }
            },
            "type": "scatterpolar"
           }
          ],
          "scatterpolargl": [
           {
            "marker": {
             "colorbar": {
              "outlinewidth": 0,
              "ticks": ""
             }
            },
            "type": "scatterpolargl"
           }
          ],
          "scatterternary": [
           {
            "marker": {
             "colorbar": {
              "outlinewidth": 0,
              "ticks": ""
             }
            },
            "type": "scatterternary"
           }
          ],
          "surface": [
           {
            "colorbar": {
             "outlinewidth": 0,
             "ticks": ""
            },
            "colorscale": [
             [
              0,
              "#0d0887"
             ],
             [
              0.1111111111111111,
              "#46039f"
             ],
             [
              0.2222222222222222,
              "#7201a8"
             ],
             [
              0.3333333333333333,
              "#9c179e"
             ],
             [
              0.4444444444444444,
              "#bd3786"
             ],
             [
              0.5555555555555556,
              "#d8576b"
             ],
             [
              0.6666666666666666,
              "#ed7953"
             ],
             [
              0.7777777777777778,
              "#fb9f3a"
             ],
             [
              0.8888888888888888,
              "#fdca26"
             ],
             [
              1,
              "#f0f921"
             ]
            ],
            "type": "surface"
           }
          ],
          "table": [
           {
            "cells": {
             "fill": {
              "color": "#EBF0F8"
             },
             "line": {
              "color": "white"
             }
            },
            "header": {
             "fill": {
              "color": "#C8D4E3"
             },
             "line": {
              "color": "white"
             }
            },
            "type": "table"
           }
          ]
         },
         "layout": {
          "annotationdefaults": {
           "arrowcolor": "#2a3f5f",
           "arrowhead": 0,
           "arrowwidth": 1
          },
          "autotypenumbers": "strict",
          "coloraxis": {
           "colorbar": {
            "outlinewidth": 0,
            "ticks": ""
           }
          },
          "colorscale": {
           "diverging": [
            [
             0,
             "#8e0152"
            ],
            [
             0.1,
             "#c51b7d"
            ],
            [
             0.2,
             "#de77ae"
            ],
            [
             0.3,
             "#f1b6da"
            ],
            [
             0.4,
             "#fde0ef"
            ],
            [
             0.5,
             "#f7f7f7"
            ],
            [
             0.6,
             "#e6f5d0"
            ],
            [
             0.7,
             "#b8e186"
            ],
            [
             0.8,
             "#7fbc41"
            ],
            [
             0.9,
             "#4d9221"
            ],
            [
             1,
             "#276419"
            ]
           ],
           "sequential": [
            [
             0,
             "#0d0887"
            ],
            [
             0.1111111111111111,
             "#46039f"
            ],
            [
             0.2222222222222222,
             "#7201a8"
            ],
            [
             0.3333333333333333,
             "#9c179e"
            ],
            [
             0.4444444444444444,
             "#bd3786"
            ],
            [
             0.5555555555555556,
             "#d8576b"
            ],
            [
             0.6666666666666666,
             "#ed7953"
            ],
            [
             0.7777777777777778,
             "#fb9f3a"
            ],
            [
             0.8888888888888888,
             "#fdca26"
            ],
            [
             1,
             "#f0f921"
            ]
           ],
           "sequentialminus": [
            [
             0,
             "#0d0887"
            ],
            [
             0.1111111111111111,
             "#46039f"
            ],
            [
             0.2222222222222222,
             "#7201a8"
            ],
            [
             0.3333333333333333,
             "#9c179e"
            ],
            [
             0.4444444444444444,
             "#bd3786"
            ],
            [
             0.5555555555555556,
             "#d8576b"
            ],
            [
             0.6666666666666666,
             "#ed7953"
            ],
            [
             0.7777777777777778,
             "#fb9f3a"
            ],
            [
             0.8888888888888888,
             "#fdca26"
            ],
            [
             1,
             "#f0f921"
            ]
           ]
          },
          "colorway": [
           "#636efa",
           "#EF553B",
           "#00cc96",
           "#ab63fa",
           "#FFA15A",
           "#19d3f3",
           "#FF6692",
           "#B6E880",
           "#FF97FF",
           "#FECB52"
          ],
          "font": {
           "color": "#2a3f5f"
          },
          "geo": {
           "bgcolor": "white",
           "lakecolor": "white",
           "landcolor": "#E5ECF6",
           "showlakes": true,
           "showland": true,
           "subunitcolor": "white"
          },
          "hoverlabel": {
           "align": "left"
          },
          "hovermode": "closest",
          "mapbox": {
           "style": "light"
          },
          "paper_bgcolor": "white",
          "plot_bgcolor": "#E5ECF6",
          "polar": {
           "angularaxis": {
            "gridcolor": "white",
            "linecolor": "white",
            "ticks": ""
           },
           "bgcolor": "#E5ECF6",
           "radialaxis": {
            "gridcolor": "white",
            "linecolor": "white",
            "ticks": ""
           }
          },
          "scene": {
           "xaxis": {
            "backgroundcolor": "#E5ECF6",
            "gridcolor": "white",
            "gridwidth": 2,
            "linecolor": "white",
            "showbackground": true,
            "ticks": "",
            "zerolinecolor": "white"
           },
           "yaxis": {
            "backgroundcolor": "#E5ECF6",
            "gridcolor": "white",
            "gridwidth": 2,
            "linecolor": "white",
            "showbackground": true,
            "ticks": "",
            "zerolinecolor": "white"
           },
           "zaxis": {
            "backgroundcolor": "#E5ECF6",
            "gridcolor": "white",
            "gridwidth": 2,
            "linecolor": "white",
            "showbackground": true,
            "ticks": "",
            "zerolinecolor": "white"
           }
          },
          "shapedefaults": {
           "line": {
            "color": "#2a3f5f"
           }
          },
          "ternary": {
           "aaxis": {
            "gridcolor": "white",
            "linecolor": "white",
            "ticks": ""
           },
           "baxis": {
            "gridcolor": "white",
            "linecolor": "white",
            "ticks": ""
           },
           "bgcolor": "#E5ECF6",
           "caxis": {
            "gridcolor": "white",
            "linecolor": "white",
            "ticks": ""
           }
          },
          "title": {
           "x": 0.05
          },
          "xaxis": {
           "automargin": true,
           "gridcolor": "white",
           "linecolor": "white",
           "ticks": "",
           "title": {
            "standoff": 15
           },
           "zerolinecolor": "white",
           "zerolinewidth": 2
          },
          "yaxis": {
           "automargin": true,
           "gridcolor": "white",
           "linecolor": "white",
           "ticks": "",
           "title": {
            "standoff": 15
           },
           "zerolinecolor": "white",
           "zerolinewidth": 2
          }
         }
        },
        "title": {
         "text": "SEQ by Navigation Method"
        },
        "width": 1200,
        "xaxis": {
         "anchor": "y",
         "domain": [
          0.55,
          1
         ],
         "title": {
          "text": "Method"
         }
        },
        "yaxis": {
         "anchor": "x",
         "domain": [
          0,
          1
         ],
         "range": [
          0,
          4.4
         ],
         "title": {
          "text": "SEQ"
         }
        }
       }
      }
     },
     "metadata": {},
     "output_type": "display_data"
    }
   ],
   "source": [
    "stats_table = go.Table(columnwidth=[5,4,4,4,4])\n",
    "stats_table.header = dict(\n",
    "    values=summary_header, \n",
    "    align = ['right', 'center'],)\n",
    "stats_table.cells = dict(\n",
    "        values=summary_values,\n",
    "        align = ['right', 'center'],\n",
    "        format=[\"\", \".3f\"],\n",
    "        )\n",
    "\n",
    "results_table = go.Table(columnwidth=[5,4,4])\n",
    "results_table.header = dict(\n",
    "    values= results_header, \n",
    "    align = ['right', 'center'],)\n",
    "results_table.cells = dict(\n",
    "        values=results_values,\n",
    "        align = ['right', 'center'],\n",
    "        format=[\"\", \".2f\", \".5f\"],\n",
    "        fill_color=fill_color,\n",
    "        prefix=results_prefix,\n",
    "        )\n",
    "\n",
    "seq_fig = make_subplots(\n",
    "    rows=2, cols=2,\n",
    "    shared_xaxes=False,\n",
    "    specs=[\n",
    "        [{\"type\": \"table\"}, {\"type\": \"box\", \"rowspan\": 2}],\n",
    "        [{\"type\": \"table\"}, None]\n",
    "    ])\n",
    "\n",
    "seq_fig.add_trace(stats_table, row=2, col=1)\n",
    "seq_fig.add_trace(go.Box(y=seq_nav['4DoF'], name=\"4-DoF\", notched=True, notchwidth=0.15), row=1, col=2)\n",
    "seq_fig.add_trace(go.Box(y=seq_nav['6DoF'], name=\"6-DoF\", notched=True, notchwidth=0.15), row=1, col=2)\n",
    "seq_fig.add_trace(results_table, row=1, col=1)\n",
    "\n",
    "seq_fig.update_layout(\n",
    "    title_text=\"SEQ by Navigation Method\",\n",
    "    width=1200,\n",
    "    xaxis_title='Method',\n",
    "    yaxis_title='SEQ',\n",
    ")\n",
    "\n",
    "seq_fig.update_yaxes(range=[0,max(1.1*seq_4dof.max(), 1.1*seq_6dof.max())])\n",
    "seq_fig.show()\n"
   ]
  },
  {
   "cell_type": "code",
   "execution_count": 27,
   "metadata": {},
   "outputs": [],
   "source": [
    "seq_crt = user_data_crt.loc[(slice(None), slice(None), slice(None)), 'seq']\n",
    "seq_crt = seq_crt.unstack(level=(2))\n",
    "\n",
    "outliers_uni = iqr_outlier_indices(seq_crt['unimanual'])\n",
    "seq_crt = seq_crt.drop(seq_crt.iloc[outliers_uni].index)\n",
    "\n",
    "outliers_bi = iqr_outlier_indices(seq_crt['bimanual'])\n",
    "seq_crt = seq_crt.drop(seq_crt.iloc[outliers_bi].index)\n",
    "\n",
    "seq_uni = seq_crt['unimanual']\n",
    "seq_bi = seq_crt['bimanual']\n",
    "\n",
    "n_stat, n_p = stats.shapiro(seq_crt.stack())\n",
    "w_stat, w_p = stats.wilcoxon(seq_uni, seq_bi, nan_policy='omit', zero_method='pratt')\n",
    "t_stat, t_p = stats.ttest_rel(seq_uni, seq_bi, nan_policy='omit')\n",
    "\n",
    "results_colors = get_results_colors(n_p, w_p, t_p)\n",
    "results_header = ['<b>Test</b>', '<b>Result</b>', '<b>p-value</b>']\n",
    "results_values=[['Shapiro-Wilk', 'Wilcoxon', 'T-test'], [n_stat, w_stat, t_stat], [n_p, w_p, t_p]]\n",
    "results_prefix = ['','', 'p = ',]\n",
    "fill_color = results_colors\n",
    "\n",
    "if n_p < 0.05:\n",
    "    iqr_uni, q1_uni, q3_uni = iqr_stats(seq_uni)\n",
    "    iqr_bi, q1_bi, q3_bi = iqr_stats(seq_bi)\n",
    "    summary_header = ['', '<b>Median</b>', '<b>IQR</b>', '<b>Min</b>', '<b>Max</b>', '<b>Skewness</b>']\n",
    "    summary_values = [['<b>Unimanual</b>', '<b>Bimanual</b>'], [seq_uni.median(), seq_bi.median()], [iqr_uni, iqr_bi], [seq_uni.min(), seq_bi.min()], [seq_uni.max(), seq_bi.max()], [seq_uni.skew(), seq_bi.skew()]]\n",
    "\n",
    "else:\n",
    "    summary_header = ['', '<b>Mean</b>', '<b>STD</b>', '<b>Min</b>', '<b>Max</b>', '<b>Skewness</b>']\n",
    "    summary_values = [['<b>Unimanual</b>', '<b>Bimanual</b>'], [seq_uni.mean(), seq_bi.mean()], [seq_uni.std(), seq_bi.std()], [seq_uni.min(), seq_bi.min()], [seq_uni.max(), seq_bi.max()], [seq_uni.skew(), seq_bi.skew()]]\n",
    "    \n"
   ]
  },
  {
   "cell_type": "code",
   "execution_count": 28,
   "metadata": {},
   "outputs": [
    {
     "data": {
      "application/vnd.plotly.v1+json": {
       "config": {
        "plotlyServerURL": "https://plot.ly"
       },
       "data": [
        {
         "cells": {
          "align": [
           "right",
           "center"
          ],
          "format": [
           "",
           ".3f"
          ],
          "values": [
           [
            "<b>Unimanual</b>",
            "<b>Bimanual</b>"
           ],
           [
            1,
            0
           ],
           [
            2,
            1
           ],
           [
            0,
            0
           ],
           [
            4,
            2
           ],
           [
            1.0585711356873686,
            0.9354997727357948
           ]
          ]
         },
         "columnwidth": [
          5,
          4,
          4,
          4,
          4
         ],
         "domain": {
          "x": [
           0,
           0.45
          ],
          "y": [
           0,
           0.425
          ]
         },
         "header": {
          "align": [
           "right",
           "center"
          ],
          "values": [
           "",
           "<b>Median</b>",
           "<b>IQR</b>",
           "<b>Min</b>",
           "<b>Max</b>",
           "<b>Skewness</b>"
          ]
         },
         "type": "table"
        },
        {
         "name": "Bimanual",
         "notched": true,
         "notchwidth": 0.15,
         "type": "box",
         "xaxis": "x",
         "y": [
          2,
          2,
          1,
          2,
          0,
          1,
          0,
          0,
          0,
          0,
          0,
          0,
          0,
          0,
          0,
          0,
          0,
          2,
          2,
          0,
          0,
          0,
          0,
          0,
          0,
          0,
          0,
          1,
          2,
          0,
          0,
          0,
          0,
          0,
          0,
          0,
          0,
          0,
          0,
          0,
          0,
          0,
          0,
          0,
          0,
          0,
          0,
          1,
          1,
          1,
          2,
          1,
          1,
          1,
          1,
          1,
          1,
          2,
          0,
          2,
          1,
          1,
          0,
          1,
          2,
          2,
          0,
          0,
          0,
          0,
          0,
          0,
          0,
          1,
          1,
          1,
          1,
          0,
          2,
          1,
          2,
          2,
          1,
          1,
          0,
          0,
          1,
          2,
          1,
          1,
          0,
          1,
          1,
          0,
          0,
          0,
          0,
          0,
          0,
          0,
          0,
          0,
          0,
          0,
          0,
          0,
          2,
          1,
          1,
          1,
          1,
          1,
          1,
          1,
          1,
          0,
          1,
          0,
          1,
          1,
          0,
          0,
          0,
          0,
          0,
          0,
          0,
          0,
          0,
          0
         ],
         "yaxis": "y"
        },
        {
         "name": "Unimanual",
         "notched": true,
         "notchwidth": 0.15,
         "type": "box",
         "xaxis": "x",
         "y": [
          1,
          2,
          1,
          1,
          0,
          0,
          1,
          0,
          0,
          0,
          1,
          0,
          0,
          0,
          0,
          0,
          4,
          4,
          4,
          0,
          0,
          0,
          0,
          0,
          0,
          0,
          0,
          1,
          2,
          0,
          0,
          0,
          0,
          1,
          0,
          1,
          0,
          1,
          2,
          2,
          3,
          2,
          1,
          0,
          0,
          0,
          0,
          2,
          2,
          4,
          3,
          3,
          1,
          2,
          1,
          0,
          0,
          0,
          0,
          1,
          1,
          1,
          1,
          2,
          2,
          2,
          1,
          0,
          0,
          0,
          0,
          0,
          0,
          0,
          2,
          1,
          2,
          2,
          2,
          0,
          1,
          1,
          0,
          1,
          0,
          0,
          2,
          3,
          2,
          2,
          3,
          3,
          3,
          3,
          0,
          0,
          0,
          0,
          1,
          1,
          1,
          1,
          0,
          0,
          1,
          0,
          2,
          2,
          1,
          1,
          0,
          1,
          1,
          0,
          1,
          1,
          1,
          0,
          1,
          0,
          1,
          1,
          0,
          0,
          0,
          0,
          2,
          1,
          2,
          0
         ],
         "yaxis": "y"
        },
        {
         "cells": {
          "align": [
           "right",
           "center"
          ],
          "fill": {
           "color": [
            [
             "white",
             "white",
             "white"
            ],
            [
             "white",
             "rgb(179,226,205)",
             "white"
            ],
            [
             "rgb(244,202,228)",
             "rgb(179,226,205)",
             "white"
            ]
           ]
          },
          "format": [
           "",
           ".2f",
           ".5f"
          ],
          "prefix": [
           "",
           "",
           "p = "
          ],
          "values": [
           [
            "Shapiro-Wilk",
            "Wilcoxon",
            "T-test"
           ],
           [
            0.7610751491462707,
            1407.5,
            4.580937642055967
           ],
           [
            3.7859396475368806e-19,
            0.00004273503197479348,
            0.000010774332128803124
           ]
          ]
         },
         "columnwidth": [
          5,
          4,
          4
         ],
         "domain": {
          "x": [
           0,
           0.45
          ],
          "y": [
           0.575,
           1
          ]
         },
         "header": {
          "align": [
           "right",
           "center"
          ],
          "values": [
           "<b>Test</b>",
           "<b>Result</b>",
           "<b>p-value</b>"
          ]
         },
         "type": "table"
        }
       ],
       "layout": {
        "template": {
         "data": {
          "bar": [
           {
            "error_x": {
             "color": "#2a3f5f"
            },
            "error_y": {
             "color": "#2a3f5f"
            },
            "marker": {
             "line": {
              "color": "#E5ECF6",
              "width": 0.5
             },
             "pattern": {
              "fillmode": "overlay",
              "size": 10,
              "solidity": 0.2
             }
            },
            "type": "bar"
           }
          ],
          "barpolar": [
           {
            "marker": {
             "line": {
              "color": "#E5ECF6",
              "width": 0.5
             },
             "pattern": {
              "fillmode": "overlay",
              "size": 10,
              "solidity": 0.2
             }
            },
            "type": "barpolar"
           }
          ],
          "carpet": [
           {
            "aaxis": {
             "endlinecolor": "#2a3f5f",
             "gridcolor": "white",
             "linecolor": "white",
             "minorgridcolor": "white",
             "startlinecolor": "#2a3f5f"
            },
            "baxis": {
             "endlinecolor": "#2a3f5f",
             "gridcolor": "white",
             "linecolor": "white",
             "minorgridcolor": "white",
             "startlinecolor": "#2a3f5f"
            },
            "type": "carpet"
           }
          ],
          "choropleth": [
           {
            "colorbar": {
             "outlinewidth": 0,
             "ticks": ""
            },
            "type": "choropleth"
           }
          ],
          "contour": [
           {
            "colorbar": {
             "outlinewidth": 0,
             "ticks": ""
            },
            "colorscale": [
             [
              0,
              "#0d0887"
             ],
             [
              0.1111111111111111,
              "#46039f"
             ],
             [
              0.2222222222222222,
              "#7201a8"
             ],
             [
              0.3333333333333333,
              "#9c179e"
             ],
             [
              0.4444444444444444,
              "#bd3786"
             ],
             [
              0.5555555555555556,
              "#d8576b"
             ],
             [
              0.6666666666666666,
              "#ed7953"
             ],
             [
              0.7777777777777778,
              "#fb9f3a"
             ],
             [
              0.8888888888888888,
              "#fdca26"
             ],
             [
              1,
              "#f0f921"
             ]
            ],
            "type": "contour"
           }
          ],
          "contourcarpet": [
           {
            "colorbar": {
             "outlinewidth": 0,
             "ticks": ""
            },
            "type": "contourcarpet"
           }
          ],
          "heatmap": [
           {
            "colorbar": {
             "outlinewidth": 0,
             "ticks": ""
            },
            "colorscale": [
             [
              0,
              "#0d0887"
             ],
             [
              0.1111111111111111,
              "#46039f"
             ],
             [
              0.2222222222222222,
              "#7201a8"
             ],
             [
              0.3333333333333333,
              "#9c179e"
             ],
             [
              0.4444444444444444,
              "#bd3786"
             ],
             [
              0.5555555555555556,
              "#d8576b"
             ],
             [
              0.6666666666666666,
              "#ed7953"
             ],
             [
              0.7777777777777778,
              "#fb9f3a"
             ],
             [
              0.8888888888888888,
              "#fdca26"
             ],
             [
              1,
              "#f0f921"
             ]
            ],
            "type": "heatmap"
           }
          ],
          "heatmapgl": [
           {
            "colorbar": {
             "outlinewidth": 0,
             "ticks": ""
            },
            "colorscale": [
             [
              0,
              "#0d0887"
             ],
             [
              0.1111111111111111,
              "#46039f"
             ],
             [
              0.2222222222222222,
              "#7201a8"
             ],
             [
              0.3333333333333333,
              "#9c179e"
             ],
             [
              0.4444444444444444,
              "#bd3786"
             ],
             [
              0.5555555555555556,
              "#d8576b"
             ],
             [
              0.6666666666666666,
              "#ed7953"
             ],
             [
              0.7777777777777778,
              "#fb9f3a"
             ],
             [
              0.8888888888888888,
              "#fdca26"
             ],
             [
              1,
              "#f0f921"
             ]
            ],
            "type": "heatmapgl"
           }
          ],
          "histogram": [
           {
            "marker": {
             "pattern": {
              "fillmode": "overlay",
              "size": 10,
              "solidity": 0.2
             }
            },
            "type": "histogram"
           }
          ],
          "histogram2d": [
           {
            "colorbar": {
             "outlinewidth": 0,
             "ticks": ""
            },
            "colorscale": [
             [
              0,
              "#0d0887"
             ],
             [
              0.1111111111111111,
              "#46039f"
             ],
             [
              0.2222222222222222,
              "#7201a8"
             ],
             [
              0.3333333333333333,
              "#9c179e"
             ],
             [
              0.4444444444444444,
              "#bd3786"
             ],
             [
              0.5555555555555556,
              "#d8576b"
             ],
             [
              0.6666666666666666,
              "#ed7953"
             ],
             [
              0.7777777777777778,
              "#fb9f3a"
             ],
             [
              0.8888888888888888,
              "#fdca26"
             ],
             [
              1,
              "#f0f921"
             ]
            ],
            "type": "histogram2d"
           }
          ],
          "histogram2dcontour": [
           {
            "colorbar": {
             "outlinewidth": 0,
             "ticks": ""
            },
            "colorscale": [
             [
              0,
              "#0d0887"
             ],
             [
              0.1111111111111111,
              "#46039f"
             ],
             [
              0.2222222222222222,
              "#7201a8"
             ],
             [
              0.3333333333333333,
              "#9c179e"
             ],
             [
              0.4444444444444444,
              "#bd3786"
             ],
             [
              0.5555555555555556,
              "#d8576b"
             ],
             [
              0.6666666666666666,
              "#ed7953"
             ],
             [
              0.7777777777777778,
              "#fb9f3a"
             ],
             [
              0.8888888888888888,
              "#fdca26"
             ],
             [
              1,
              "#f0f921"
             ]
            ],
            "type": "histogram2dcontour"
           }
          ],
          "mesh3d": [
           {
            "colorbar": {
             "outlinewidth": 0,
             "ticks": ""
            },
            "type": "mesh3d"
           }
          ],
          "parcoords": [
           {
            "line": {
             "colorbar": {
              "outlinewidth": 0,
              "ticks": ""
             }
            },
            "type": "parcoords"
           }
          ],
          "pie": [
           {
            "automargin": true,
            "type": "pie"
           }
          ],
          "scatter": [
           {
            "fillpattern": {
             "fillmode": "overlay",
             "size": 10,
             "solidity": 0.2
            },
            "type": "scatter"
           }
          ],
          "scatter3d": [
           {
            "line": {
             "colorbar": {
              "outlinewidth": 0,
              "ticks": ""
             }
            },
            "marker": {
             "colorbar": {
              "outlinewidth": 0,
              "ticks": ""
             }
            },
            "type": "scatter3d"
           }
          ],
          "scattercarpet": [
           {
            "marker": {
             "colorbar": {
              "outlinewidth": 0,
              "ticks": ""
             }
            },
            "type": "scattercarpet"
           }
          ],
          "scattergeo": [
           {
            "marker": {
             "colorbar": {
              "outlinewidth": 0,
              "ticks": ""
             }
            },
            "type": "scattergeo"
           }
          ],
          "scattergl": [
           {
            "marker": {
             "colorbar": {
              "outlinewidth": 0,
              "ticks": ""
             }
            },
            "type": "scattergl"
           }
          ],
          "scattermapbox": [
           {
            "marker": {
             "colorbar": {
              "outlinewidth": 0,
              "ticks": ""
             }
            },
            "type": "scattermapbox"
           }
          ],
          "scatterpolar": [
           {
            "marker": {
             "colorbar": {
              "outlinewidth": 0,
              "ticks": ""
             }
            },
            "type": "scatterpolar"
           }
          ],
          "scatterpolargl": [
           {
            "marker": {
             "colorbar": {
              "outlinewidth": 0,
              "ticks": ""
             }
            },
            "type": "scatterpolargl"
           }
          ],
          "scatterternary": [
           {
            "marker": {
             "colorbar": {
              "outlinewidth": 0,
              "ticks": ""
             }
            },
            "type": "scatterternary"
           }
          ],
          "surface": [
           {
            "colorbar": {
             "outlinewidth": 0,
             "ticks": ""
            },
            "colorscale": [
             [
              0,
              "#0d0887"
             ],
             [
              0.1111111111111111,
              "#46039f"
             ],
             [
              0.2222222222222222,
              "#7201a8"
             ],
             [
              0.3333333333333333,
              "#9c179e"
             ],
             [
              0.4444444444444444,
              "#bd3786"
             ],
             [
              0.5555555555555556,
              "#d8576b"
             ],
             [
              0.6666666666666666,
              "#ed7953"
             ],
             [
              0.7777777777777778,
              "#fb9f3a"
             ],
             [
              0.8888888888888888,
              "#fdca26"
             ],
             [
              1,
              "#f0f921"
             ]
            ],
            "type": "surface"
           }
          ],
          "table": [
           {
            "cells": {
             "fill": {
              "color": "#EBF0F8"
             },
             "line": {
              "color": "white"
             }
            },
            "header": {
             "fill": {
              "color": "#C8D4E3"
             },
             "line": {
              "color": "white"
             }
            },
            "type": "table"
           }
          ]
         },
         "layout": {
          "annotationdefaults": {
           "arrowcolor": "#2a3f5f",
           "arrowhead": 0,
           "arrowwidth": 1
          },
          "autotypenumbers": "strict",
          "coloraxis": {
           "colorbar": {
            "outlinewidth": 0,
            "ticks": ""
           }
          },
          "colorscale": {
           "diverging": [
            [
             0,
             "#8e0152"
            ],
            [
             0.1,
             "#c51b7d"
            ],
            [
             0.2,
             "#de77ae"
            ],
            [
             0.3,
             "#f1b6da"
            ],
            [
             0.4,
             "#fde0ef"
            ],
            [
             0.5,
             "#f7f7f7"
            ],
            [
             0.6,
             "#e6f5d0"
            ],
            [
             0.7,
             "#b8e186"
            ],
            [
             0.8,
             "#7fbc41"
            ],
            [
             0.9,
             "#4d9221"
            ],
            [
             1,
             "#276419"
            ]
           ],
           "sequential": [
            [
             0,
             "#0d0887"
            ],
            [
             0.1111111111111111,
             "#46039f"
            ],
            [
             0.2222222222222222,
             "#7201a8"
            ],
            [
             0.3333333333333333,
             "#9c179e"
            ],
            [
             0.4444444444444444,
             "#bd3786"
            ],
            [
             0.5555555555555556,
             "#d8576b"
            ],
            [
             0.6666666666666666,
             "#ed7953"
            ],
            [
             0.7777777777777778,
             "#fb9f3a"
            ],
            [
             0.8888888888888888,
             "#fdca26"
            ],
            [
             1,
             "#f0f921"
            ]
           ],
           "sequentialminus": [
            [
             0,
             "#0d0887"
            ],
            [
             0.1111111111111111,
             "#46039f"
            ],
            [
             0.2222222222222222,
             "#7201a8"
            ],
            [
             0.3333333333333333,
             "#9c179e"
            ],
            [
             0.4444444444444444,
             "#bd3786"
            ],
            [
             0.5555555555555556,
             "#d8576b"
            ],
            [
             0.6666666666666666,
             "#ed7953"
            ],
            [
             0.7777777777777778,
             "#fb9f3a"
            ],
            [
             0.8888888888888888,
             "#fdca26"
            ],
            [
             1,
             "#f0f921"
            ]
           ]
          },
          "colorway": [
           "#636efa",
           "#EF553B",
           "#00cc96",
           "#ab63fa",
           "#FFA15A",
           "#19d3f3",
           "#FF6692",
           "#B6E880",
           "#FF97FF",
           "#FECB52"
          ],
          "font": {
           "color": "#2a3f5f"
          },
          "geo": {
           "bgcolor": "white",
           "lakecolor": "white",
           "landcolor": "#E5ECF6",
           "showlakes": true,
           "showland": true,
           "subunitcolor": "white"
          },
          "hoverlabel": {
           "align": "left"
          },
          "hovermode": "closest",
          "mapbox": {
           "style": "light"
          },
          "paper_bgcolor": "white",
          "plot_bgcolor": "#E5ECF6",
          "polar": {
           "angularaxis": {
            "gridcolor": "white",
            "linecolor": "white",
            "ticks": ""
           },
           "bgcolor": "#E5ECF6",
           "radialaxis": {
            "gridcolor": "white",
            "linecolor": "white",
            "ticks": ""
           }
          },
          "scene": {
           "xaxis": {
            "backgroundcolor": "#E5ECF6",
            "gridcolor": "white",
            "gridwidth": 2,
            "linecolor": "white",
            "showbackground": true,
            "ticks": "",
            "zerolinecolor": "white"
           },
           "yaxis": {
            "backgroundcolor": "#E5ECF6",
            "gridcolor": "white",
            "gridwidth": 2,
            "linecolor": "white",
            "showbackground": true,
            "ticks": "",
            "zerolinecolor": "white"
           },
           "zaxis": {
            "backgroundcolor": "#E5ECF6",
            "gridcolor": "white",
            "gridwidth": 2,
            "linecolor": "white",
            "showbackground": true,
            "ticks": "",
            "zerolinecolor": "white"
           }
          },
          "shapedefaults": {
           "line": {
            "color": "#2a3f5f"
           }
          },
          "ternary": {
           "aaxis": {
            "gridcolor": "white",
            "linecolor": "white",
            "ticks": ""
           },
           "baxis": {
            "gridcolor": "white",
            "linecolor": "white",
            "ticks": ""
           },
           "bgcolor": "#E5ECF6",
           "caxis": {
            "gridcolor": "white",
            "linecolor": "white",
            "ticks": ""
           }
          },
          "title": {
           "x": 0.05
          },
          "xaxis": {
           "automargin": true,
           "gridcolor": "white",
           "linecolor": "white",
           "ticks": "",
           "title": {
            "standoff": 15
           },
           "zerolinecolor": "white",
           "zerolinewidth": 2
          },
          "yaxis": {
           "automargin": true,
           "gridcolor": "white",
           "linecolor": "white",
           "ticks": "",
           "title": {
            "standoff": 15
           },
           "zerolinecolor": "white",
           "zerolinewidth": 2
          }
         }
        },
        "title": {
         "text": "SEQ by Creation Method"
        },
        "width": 1200,
        "xaxis": {
         "anchor": "y",
         "domain": [
          0.55,
          1
         ],
         "title": {
          "text": "Method"
         }
        },
        "yaxis": {
         "anchor": "x",
         "domain": [
          0,
          1
         ],
         "range": [
          0,
          7
         ],
         "title": {
          "text": "SEQ"
         }
        }
       }
      }
     },
     "metadata": {},
     "output_type": "display_data"
    }
   ],
   "source": [
    "stats_table = go.Table(columnwidth=[5,4,4,4,4])\n",
    "stats_table.header = dict(\n",
    "    values=summary_header, \n",
    "    align = ['right', 'center'],)\n",
    "stats_table.cells = dict(\n",
    "        values=summary_values,\n",
    "        align = ['right', 'center'],\n",
    "        format=[\"\", \".3f\"],\n",
    "        )\n",
    "\n",
    "results_table = go.Table(columnwidth=[5,4,4])\n",
    "results_table.header = dict(\n",
    "    values= results_header, \n",
    "    align = ['right', 'center'],)\n",
    "results_table.cells = dict(\n",
    "        values=results_values,\n",
    "        align = ['right', 'center'],\n",
    "        format=[\"\", \".2f\", \".5f\"],\n",
    "        fill_color=fill_color,\n",
    "        prefix=results_prefix,\n",
    "        )\n",
    "\n",
    "seq_fig = make_subplots(\n",
    "    rows=2, cols=2,\n",
    "    shared_xaxes=False,\n",
    "    specs=[\n",
    "        [{\"type\": \"table\"}, {\"type\": \"box\", \"rowspan\": 2}],\n",
    "        [{\"type\": \"table\"}, None]\n",
    "    ])\n",
    "\n",
    "seq_fig.add_trace(stats_table, row=2, col=1)\n",
    "seq_fig.add_trace(go.Box(y=seq_crt['bimanual'], name=\"Bimanual\", notched=True, notchwidth=0.15), row=1, col=2)\n",
    "seq_fig.add_trace(go.Box(y=seq_crt['unimanual'], name=\"Unimanual\", notched=True, notchwidth=0.15), row=1, col=2)\n",
    "seq_fig.add_trace(results_table, row=1, col=1)\n",
    "\n",
    "seq_fig.update_layout(\n",
    "    title_text=\"SEQ by Creation Method\",\n",
    "    width=1200,\n",
    "    xaxis_title='Method',\n",
    "    yaxis_title='SEQ',\n",
    ")\n",
    "\n",
    "seq_fig.update_yaxes(range=[0,7])\n",
    "seq_fig.show()\n",
    "\n"
   ]
  }
 ],
 "metadata": {
  "kernelspec": {
   "display_name": ".venv",
   "language": "python",
   "name": "python3"
  },
  "language_info": {
   "codemirror_mode": {
    "name": "ipython",
    "version": 3
   },
   "file_extension": ".py",
   "mimetype": "text/x-python",
   "name": "python",
   "nbconvert_exporter": "python",
   "pygments_lexer": "ipython3",
   "version": "3.12.2"
  }
 },
 "nbformat": 4,
 "nbformat_minor": 2
}
