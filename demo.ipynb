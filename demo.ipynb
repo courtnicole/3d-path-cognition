{
 "cells": [
  {
   "cell_type": "code",
   "execution_count": 1,
   "metadata": {},
   "outputs": [],
   "source": [
    "import pyxdf \n",
    "import numpy as np\n",
    "import matplotlib.pyplot as plt\n",
    "import pandas as pd"
   ]
  },
  {
   "cell_type": "markdown",
   "metadata": {},
   "source": [
    "# Load Data\n",
    "\n",
    "Load the data from the experimental input files for a single participant."
   ]
  },
  {
   "cell_type": "code",
   "execution_count": 2,
   "metadata": {},
   "outputs": [],
   "source": [
    "streams, header = pyxdf.load_xdf('./Path_Data/ID_100.xdf')\n",
    "# for strm in streams:\n",
    "#     print(f\"Found stream {strm['info']['name'][0]} ({strm['info']['type'][0]}) with data shape \"\n",
    "#           f\"{np.array(strm['time_series']).shape}\")\n",
    "\n",
    "stream_names = [strm['info']['name'][0] for strm in streams]\n",
    "stream_types = [strm['info']['type'][0] for strm in streams]"
   ]
  },
  {
   "cell_type": "code",
   "execution_count": 3,
   "metadata": {},
   "outputs": [],
   "source": [
    "data = {}\n",
    "\n",
    "for stream in streams:\n",
    "    stream_name = stream['info']['name'][0]\n",
    "    stream_channels = {}\n",
    "    for i, channels in enumerate(stream['info']['desc'][0]['channels'][0]['channel']):\n",
    "        stream_channels[channels['label'][0]] = i\n",
    "    stream_data = stream['time_series']\n",
    "    \n",
    "    #example of data layout\n",
    "    #stream_name: LuminanceStream\n",
    "    #stream_channels: {'UserID': 0, 'BlockID': 1, 'ModelID': 2, 'MethodID': 3, 'Luminance': 4}\n",
    "    #stream_data: [[1.0000000e+02 0.0000000e+00 9.9000000e+01 9.9000000e+01 1.1425743e-02][1.0000000e+02 0.0000000e+00 9.9000000e+01 9.9000000e+01 1.1425743e-02][1.0000000e+02 0.0000000e+00 9.9000000e+01 9.9000000e+01 1.1425743e-02]\n",
    "    data_dict= {}\n",
    "    for key in stream_channels.keys():\n",
    "        data_dict[key] = np.array(stream_data)[:, stream_channels[key]]\n",
    "    time_stamps = np.array(stream['time_stamps'])\n",
    "    for i in range(len(time_stamps)):\n",
    "        time_stamps[i] = round(time_stamps[i], 4)\n",
    "    data_dict['time'] = time_stamps\n",
    "    data[stream_name] = data_dict\n",
    "\n"
   ]
  },
  {
   "cell_type": "code",
   "execution_count": 4,
   "metadata": {},
   "outputs": [],
   "source": [
    "dfs = {}\n",
    "for stream_name, stream_data in data.items():\n",
    "    dfs[stream_name] = pd.DataFrame(stream_data)\n",
    "    dfs[stream_name].drop_duplicates(subset=['time'], keep='first', inplace=True)\n",
    "    dfs[stream_name].reset_index(drop=True, inplace=True)"
   ]
  },
  {
   "cell_type": "code",
   "execution_count": 5,
   "metadata": {},
   "outputs": [],
   "source": [
    "gaze = dfs['GazeStream']\n",
    "luminance = dfs['LuminanceStream']\n",
    "\n",
    "pupil_calib_d = gaze.loc[(gaze['MethodID']>98.0) & (gaze['LeftEyeIsBlinking']==0) & (gaze['RightEyeIsBlinking']==0) & (gaze['LeftPupilDiameter']>0) & (gaze['RightPupilDiameter']>0), ['time', 'LeftPupilDiameter', 'RightPupilDiameter']]\n",
    "pupil_calib_d.reset_index(drop=True, inplace=True)\n",
    "\n",
    "lum_calib = luminance.loc[(luminance['MethodID']>98.0), ['time', 'Luminance']]\n",
    "lum_calib.reset_index(drop=True, inplace=True)\n",
    "\n",
    "gaze_luminance_time = np.intersect1d(pupil_calib_d['time'], lum_calib['time'])\n",
    "\n",
    "pupil_calib_d = pupil_calib_d[pupil_calib_d['time'].isin(gaze_luminance_time)]\n",
    "lum_calib = lum_calib[lum_calib['time'].isin(gaze_luminance_time)]\n",
    "pupil_calib_d.reset_index(drop=True, inplace=True)\n",
    "lum_calib.reset_index(drop=True, inplace=True)"
   ]
  },
  {
   "cell_type": "code",
   "execution_count": 6,
   "metadata": {},
   "outputs": [],
   "source": [
    "#The predicted pupil dilation, d(Y), caused by the luminance Y was computed using the following equation:\n",
    "#𝑑(𝑌) = 𝑎 · 𝑒^(−𝑏·𝑌) + c\n",
    "from scipy.optimize import curve_fit\n",
    "\n",
    "def func(x, a, b, c):\n",
    "    return a * np.exp(-b * x) + c\n"
   ]
  },
  {
   "cell_type": "code",
   "execution_count": 29,
   "metadata": {},
   "outputs": [
    {
     "name": "stdout",
     "output_type": "stream",
     "text": [
      "                 time  LeftPupilDiameter  RightPupilDiameter\n",
      "Luminance                                                   \n",
      "0.000000   76535.2037           2.893082            2.664780\n",
      "0.000000   76539.3235           5.143188            5.005020\n",
      "0.000000   76539.1565           5.452744            5.088104\n",
      "0.000000   76539.1455           5.368622            5.116898\n",
      "0.000000   76539.1333           5.416656            5.104034\n",
      "...               ...                ...                 ...\n",
      "0.761598   76531.1496           2.781387            2.758011\n",
      "0.761598   76531.1376           2.781128            2.769394\n",
      "0.761598   76531.1277           2.795319            2.774780\n",
      "0.761598   76531.2716           2.745865            2.712677\n",
      "0.761598   76532.8594           2.820587            2.821014\n",
      "\n",
      "[3443 rows x 3 columns]\n"
     ]
    }
   ],
   "source": [
    "#create a single array from lum_calib['time'], pupil_calib_d['LeftPupilDiameter'], pupil_calib_d['RightPupilDiameter'], lum_calib['Luminance']\n",
    "luminance_pupil_diameter = pd.DataFrame()\n",
    "luminance_pupil_diameter['time'] = lum_calib['time']\n",
    "luminance_pupil_diameter['Luminance'] = lum_calib['Luminance']\n",
    "luminance_pupil_diameter['LeftPupilDiameter'] = pupil_calib_d['LeftPupilDiameter']\n",
    "luminance_pupil_diameter['RightPupilDiameter'] = pupil_calib_d['RightPupilDiameter']\n",
    "#print(luminance_pupil_diameter)\n",
    "luminance_pupil_diameter.set_index('Luminance', inplace = True)\n",
    "#print(luminance_pupil_diameter)\n",
    "luminance_pupil_diameter.sort_index(inplace=True)\n",
    "print(luminance_pupil_diameter)\n"
   ]
  },
  {
   "cell_type": "code",
   "execution_count": 91,
   "metadata": {},
   "outputs": [
    {
     "name": "stderr",
     "output_type": "stream",
     "text": [
      "C:\\Users\\court\\AppData\\Local\\Temp\\ipykernel_12004\\2745851080.py:5: UserWarning: You are merging on int and float columns where the float values are not equal to their int representation.\n",
      "  luminance_pupil_diameter = pupil_calib_d.join(lum_calib['Luminance'], how='inner', on='time')\n"
     ]
    }
   ],
   "source": [
    "#𝑎, 𝑏, and 𝑐 were fitted using least squares optimization with empirically determined bounds of a: [1, 4], b: [4, 8], and c: [0, 8]\n",
    "\n",
    "popt_l, pcov_l = curve_fit(func, lum_calib['Luminance'], pupil_calib_d['LeftPupilDiameter'], bounds=([1, 4, 0], [4, 8, 8]))\n",
    "\n",
    "luminance_pupil_diameter = pupil_calib_d.join(lum_calib['Luminance'], how='inner', on='time')\n",
    "sorted_luminance = np.sort(luminance_pupil_diameter['Luminance'])\n",
    "#popt_r, pcov_r = curve_fit(func, lum_calib['Luminance'], pupil_calib_d['RightPupilDiameter'], bounds=([1, 4, 0], [4, 8, 8]))"
   ]
  },
  {
   "cell_type": "code",
   "execution_count": 103,
   "metadata": {},
   "outputs": [
    {
     "ename": "ValueError",
     "evalue": "x and y must have same first dimension, but have shapes (3443,) and (0,)",
     "output_type": "error",
     "traceback": [
      "\u001b[1;31m---------------------------------------------------------------------------\u001b[0m",
      "\u001b[1;31mValueError\u001b[0m                                Traceback (most recent call last)",
      "Cell \u001b[1;32mIn[103], line 5\u001b[0m\n\u001b[0;32m      2\u001b[0m fig, ax \u001b[38;5;241m=\u001b[39m plt\u001b[38;5;241m.\u001b[39msubplots()\n\u001b[0;32m      3\u001b[0m \u001b[38;5;66;03m#ax.scatter(sorted_luminance, func(sorted_luminance, *popt_l), label='Left Pupil Diameter')\u001b[39;00m\n\u001b[0;32m      4\u001b[0m \u001b[38;5;66;03m#ax.plot(lum_calib['Luminance'], func(lum_calib['Luminance'], *popt_r), label='Right Pupil Diameter')\u001b[39;00m\n\u001b[1;32m----> 5\u001b[0m \u001b[43max\u001b[49m\u001b[38;5;241;43m.\u001b[39;49m\u001b[43mplot\u001b[49m\u001b[43m(\u001b[49m\u001b[43mlum_calib\u001b[49m\u001b[43m[\u001b[49m\u001b[38;5;124;43m'\u001b[39;49m\u001b[38;5;124;43mtime\u001b[39;49m\u001b[38;5;124;43m'\u001b[39;49m\u001b[43m]\u001b[49m\u001b[43m,\u001b[49m\u001b[43m \u001b[49m\u001b[43mfunc\u001b[49m\u001b[43m(\u001b[49m\u001b[43msorted_luminance\u001b[49m\u001b[43m,\u001b[49m\u001b[43m \u001b[49m\u001b[38;5;241;43m*\u001b[39;49m\u001b[43mpopt_l\u001b[49m\u001b[43m)\u001b[49m\u001b[43m,\u001b[49m\u001b[43m \u001b[49m\u001b[43mlabel\u001b[49m\u001b[38;5;241;43m=\u001b[39;49m\u001b[38;5;124;43m'\u001b[39;49m\u001b[38;5;124;43mLeft Pupil Diameter\u001b[39;49m\u001b[38;5;124;43m'\u001b[39;49m\u001b[43m)\u001b[49m\n\u001b[0;32m      6\u001b[0m ax\u001b[38;5;241m.\u001b[39mplot(lum_calib[\u001b[38;5;124m'\u001b[39m\u001b[38;5;124mtime\u001b[39m\u001b[38;5;124m'\u001b[39m], pupil_calib_d[\u001b[38;5;124m'\u001b[39m\u001b[38;5;124mLeftPupilDiameter\u001b[39m\u001b[38;5;124m'\u001b[39m], label\u001b[38;5;241m=\u001b[39m\u001b[38;5;124m'\u001b[39m\u001b[38;5;124mLeft Pupil Diameter\u001b[39m\u001b[38;5;124m'\u001b[39m)\n\u001b[0;32m      7\u001b[0m \u001b[38;5;66;03m#ax.scatter(lum_calib['Luminance'], pupil_calib_d['RightPupilDiameter'], label='Right Pupil Diameter')\u001b[39;00m\n",
      "File \u001b[1;32mc:\\Users\\court\\Documents\\Github Projects\\CurrentStudy\\.venv\\Lib\\site-packages\\matplotlib\\axes\\_axes.py:1724\u001b[0m, in \u001b[0;36mAxes.plot\u001b[1;34m(self, scalex, scaley, data, *args, **kwargs)\u001b[0m\n\u001b[0;32m   1481\u001b[0m \u001b[38;5;250m\u001b[39m\u001b[38;5;124;03m\"\"\"\u001b[39;00m\n\u001b[0;32m   1482\u001b[0m \u001b[38;5;124;03mPlot y versus x as lines and/or markers.\u001b[39;00m\n\u001b[0;32m   1483\u001b[0m \n\u001b[1;32m   (...)\u001b[0m\n\u001b[0;32m   1721\u001b[0m \u001b[38;5;124;03m(``'green'``) or hex strings (``'#008000'``).\u001b[39;00m\n\u001b[0;32m   1722\u001b[0m \u001b[38;5;124;03m\"\"\"\u001b[39;00m\n\u001b[0;32m   1723\u001b[0m kwargs \u001b[38;5;241m=\u001b[39m cbook\u001b[38;5;241m.\u001b[39mnormalize_kwargs(kwargs, mlines\u001b[38;5;241m.\u001b[39mLine2D)\n\u001b[1;32m-> 1724\u001b[0m lines \u001b[38;5;241m=\u001b[39m [\u001b[38;5;241m*\u001b[39m\u001b[38;5;28mself\u001b[39m\u001b[38;5;241m.\u001b[39m_get_lines(\u001b[38;5;28mself\u001b[39m, \u001b[38;5;241m*\u001b[39margs, data\u001b[38;5;241m=\u001b[39mdata, \u001b[38;5;241m*\u001b[39m\u001b[38;5;241m*\u001b[39mkwargs)]\n\u001b[0;32m   1725\u001b[0m \u001b[38;5;28;01mfor\u001b[39;00m line \u001b[38;5;129;01min\u001b[39;00m lines:\n\u001b[0;32m   1726\u001b[0m     \u001b[38;5;28mself\u001b[39m\u001b[38;5;241m.\u001b[39madd_line(line)\n",
      "File \u001b[1;32mc:\\Users\\court\\Documents\\Github Projects\\CurrentStudy\\.venv\\Lib\\site-packages\\matplotlib\\axes\\_base.py:303\u001b[0m, in \u001b[0;36m_process_plot_var_args.__call__\u001b[1;34m(self, axes, data, *args, **kwargs)\u001b[0m\n\u001b[0;32m    301\u001b[0m     this \u001b[38;5;241m+\u001b[39m\u001b[38;5;241m=\u001b[39m args[\u001b[38;5;241m0\u001b[39m],\n\u001b[0;32m    302\u001b[0m     args \u001b[38;5;241m=\u001b[39m args[\u001b[38;5;241m1\u001b[39m:]\n\u001b[1;32m--> 303\u001b[0m \u001b[38;5;28;01myield from\u001b[39;00m \u001b[38;5;28;43mself\u001b[39;49m\u001b[38;5;241;43m.\u001b[39;49m\u001b[43m_plot_args\u001b[49m\u001b[43m(\u001b[49m\n\u001b[0;32m    304\u001b[0m \u001b[43m    \u001b[49m\u001b[43maxes\u001b[49m\u001b[43m,\u001b[49m\u001b[43m \u001b[49m\u001b[43mthis\u001b[49m\u001b[43m,\u001b[49m\u001b[43m \u001b[49m\u001b[43mkwargs\u001b[49m\u001b[43m,\u001b[49m\u001b[43m \u001b[49m\u001b[43mambiguous_fmt_datakey\u001b[49m\u001b[38;5;241;43m=\u001b[39;49m\u001b[43mambiguous_fmt_datakey\u001b[49m\u001b[43m)\u001b[49m\n",
      "File \u001b[1;32mc:\\Users\\court\\Documents\\Github Projects\\CurrentStudy\\.venv\\Lib\\site-packages\\matplotlib\\axes\\_base.py:499\u001b[0m, in \u001b[0;36m_process_plot_var_args._plot_args\u001b[1;34m(self, axes, tup, kwargs, return_kwargs, ambiguous_fmt_datakey)\u001b[0m\n\u001b[0;32m    496\u001b[0m     axes\u001b[38;5;241m.\u001b[39myaxis\u001b[38;5;241m.\u001b[39mupdate_units(y)\n\u001b[0;32m    498\u001b[0m \u001b[38;5;28;01mif\u001b[39;00m x\u001b[38;5;241m.\u001b[39mshape[\u001b[38;5;241m0\u001b[39m] \u001b[38;5;241m!=\u001b[39m y\u001b[38;5;241m.\u001b[39mshape[\u001b[38;5;241m0\u001b[39m]:\n\u001b[1;32m--> 499\u001b[0m     \u001b[38;5;28;01mraise\u001b[39;00m \u001b[38;5;167;01mValueError\u001b[39;00m(\u001b[38;5;124mf\u001b[39m\u001b[38;5;124m\"\u001b[39m\u001b[38;5;124mx and y must have same first dimension, but \u001b[39m\u001b[38;5;124m\"\u001b[39m\n\u001b[0;32m    500\u001b[0m                      \u001b[38;5;124mf\u001b[39m\u001b[38;5;124m\"\u001b[39m\u001b[38;5;124mhave shapes \u001b[39m\u001b[38;5;132;01m{\u001b[39;00mx\u001b[38;5;241m.\u001b[39mshape\u001b[38;5;132;01m}\u001b[39;00m\u001b[38;5;124m and \u001b[39m\u001b[38;5;132;01m{\u001b[39;00my\u001b[38;5;241m.\u001b[39mshape\u001b[38;5;132;01m}\u001b[39;00m\u001b[38;5;124m\"\u001b[39m)\n\u001b[0;32m    501\u001b[0m \u001b[38;5;28;01mif\u001b[39;00m x\u001b[38;5;241m.\u001b[39mndim \u001b[38;5;241m>\u001b[39m \u001b[38;5;241m2\u001b[39m \u001b[38;5;129;01mor\u001b[39;00m y\u001b[38;5;241m.\u001b[39mndim \u001b[38;5;241m>\u001b[39m \u001b[38;5;241m2\u001b[39m:\n\u001b[0;32m    502\u001b[0m     \u001b[38;5;28;01mraise\u001b[39;00m \u001b[38;5;167;01mValueError\u001b[39;00m(\u001b[38;5;124mf\u001b[39m\u001b[38;5;124m\"\u001b[39m\u001b[38;5;124mx and y can be no greater than 2D, but have \u001b[39m\u001b[38;5;124m\"\u001b[39m\n\u001b[0;32m    503\u001b[0m                      \u001b[38;5;124mf\u001b[39m\u001b[38;5;124m\"\u001b[39m\u001b[38;5;124mshapes \u001b[39m\u001b[38;5;132;01m{\u001b[39;00mx\u001b[38;5;241m.\u001b[39mshape\u001b[38;5;132;01m}\u001b[39;00m\u001b[38;5;124m and \u001b[39m\u001b[38;5;132;01m{\u001b[39;00my\u001b[38;5;241m.\u001b[39mshape\u001b[38;5;132;01m}\u001b[39;00m\u001b[38;5;124m\"\u001b[39m)\n",
      "\u001b[1;31mValueError\u001b[0m: x and y must have same first dimension, but have shapes (3443,) and (0,)"
     ]
    },
    {
     "data": {
      "image/png": "[encoded data removed]",
      "text/plain": [
       "<Figure size 640x480 with 1 Axes>"
      ]
     },
     "metadata": {},
     "output_type": "display_data"
    }
   ],
   "source": [
    "#plot popt_l and sorted_luminance[luminance] and pupil_diameter\n",
    "fig, ax = plt.subplots()\n",
    "#ax.scatter(sorted_luminance, func(sorted_luminance, *popt_l), label='Left Pupil Diameter')\n",
    "#ax.plot(lum_calib['Luminance'], func(lum_calib['Luminance'], *popt_r), label='Right Pupil Diameter')\n",
    "ax.plot(lum_calib['time'], func(sorted_luminance, *popt_l), label='Left Pupil Diameter')\n",
    "ax.plot(lum_calib['time'], pupil_calib_d['LeftPupilDiameter'], label='Left Pupil Diameter')\n",
    "#ax.scatter(lum_calib['Luminance'], pupil_calib_d['RightPupilDiameter'], label='Right Pupil Diameter')\n",
    "ax.legend()\n",
    "plt.show()\n",
    "\n"
   ]
  }
 ],
 "metadata": {
  "kernelspec": {
   "display_name": ".venv",
   "language": "python",
   "name": "python3"
  },
  "language_info": {
   "codemirror_mode": {
    "name": "ipython",
    "version": 3
   },
   "file_extension": ".py",
   "mimetype": "text/x-python",
   "name": "python",
   "nbconvert_exporter": "python",
   "pygments_lexer": "ipython3",
   "version": "3.11.7"
  }
 },
 "nbformat": 4,
 "nbformat_minor": 2
}
