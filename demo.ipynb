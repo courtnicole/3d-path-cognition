{
 "cells": [
  {
   "cell_type": "code",
   "execution_count": 16,
   "metadata": {},
   "outputs": [],
   "source": [
    "import pyxdf \n",
    "import numpy as np\n",
    "import matplotlib.pyplot as plt\n",
    "import pandas as pd\n",
    "from ydata_profiling import ProfileReport"
   ]
  },
  {
   "cell_type": "markdown",
   "metadata": {},
   "source": [
    "# Load Data\n",
    "\n",
    "Load the data from the experimental input files for a single participant."
   ]
  },
  {
   "cell_type": "code",
   "execution_count": 17,
   "metadata": {},
   "outputs": [],
   "source": [
    "streams, header = pyxdf.load_xdf('./Path_Data/ID_100.xdf')\n",
    "# for strm in streams:\n",
    "#     print(f\"Found stream {strm['info']['name'][0]} ({strm['info']['type'][0]}) with data shape \"\n",
    "#           f\"{np.array(strm['time_series']).shape}\")\n",
    "\n",
    "stream_names = [strm['info']['name'][0] for strm in streams]\n",
    "stream_types = [strm['info']['type'][0] for strm in streams]"
   ]
  },
  {
   "cell_type": "code",
   "execution_count": 68,
   "metadata": {},
   "outputs": [],
   "source": [
    "data = {}\n",
    "\n",
    "for stream in streams:\n",
    "    stream_name = stream['info']['name'][0]\n",
    "    stream_channels = {}\n",
    "    for i, channels in enumerate(stream['info']['desc'][0]['channels'][0]['channel']):\n",
    "        stream_channels[channels['label'][0]] = i\n",
    "    stream_data = stream['time_series']\n",
    "    #print(stream_name)\n",
    "    #print(stream_channels)\n",
    "    #print(stream_data)\n",
    "    \n",
    "    #example of data layout\n",
    "    #stream_name: LuminanceStream\n",
    "    #stream_channels: {'UserID': 0, 'BlockID': 1, 'ModelID': 2, 'MethodID': 3, 'Luminance': 4}\n",
    "    #stream_data: [[1.0000000e+02 0.0000000e+00 9.9000000e+01 9.9000000e+01 1.1425743e-02][1.0000000e+02 0.0000000e+00 9.9000000e+01 9.9000000e+01 1.1425743e-02][1.0000000e+02 0.0000000e+00 9.9000000e+01 9.9000000e+01 1.1425743e-02]\n",
    "    data_dict= {}\n",
    "    for key in stream_channels.keys():\n",
    "        data_dict[key] = np.array(stream_data)[:, stream_channels[key]]\n",
    "    time_stamps = np.array(stream['time_stamps'])\n",
    "    for i in range(len(time_stamps)):\n",
    "        time_stamps[i] = round(time_stamps[i], 4)\n",
    "    data_dict['time'] = time_stamps\n",
    "    data[stream_name] = data_dict\n",
    "\n"
   ]
  },
  {
   "cell_type": "code",
   "execution_count": 69,
   "metadata": {},
   "outputs": [],
   "source": [
    "dfs = {}\n",
    "for stream_name, stream_data in data.items():\n",
    "    dfs[stream_name] = pd.DataFrame(stream_data)"
   ]
  },
  {
   "cell_type": "code",
   "execution_count": 70,
   "metadata": {},
   "outputs": [
    {
     "name": "stdout",
     "output_type": "stream",
     "text": [
      "<class 'pandas.core.frame.DataFrame'>\n",
      "Index: 132161 entries, 3 to 132386\n",
      "Data columns (total 18 columns):\n",
      " #   Column                      Non-Null Count   Dtype  \n",
      "---  ------                      --------------   -----  \n",
      " 0   UserID                      132161 non-null  float32\n",
      " 1   BlockID                     132161 non-null  float32\n",
      " 2   ModelID                     132161 non-null  float32\n",
      " 3   MethodID                    132161 non-null  float32\n",
      " 4   ConvergenceDistance         132161 non-null  float32\n",
      " 5   ConvergenceDistanceIsValid  132161 non-null  float32\n",
      " 6   GazeOriginX                 132161 non-null  float32\n",
      " 7   GazeOriginY                 132161 non-null  float32\n",
      " 8   GazeOriginZ                 132161 non-null  float32\n",
      " 9   GazeDirectionNormalizedX    132161 non-null  float32\n",
      " 10  GazeDirectionNormalizedY    132161 non-null  float32\n",
      " 11  GazeDirectionNormalizedZ    132161 non-null  float32\n",
      " 12  GazeRayIsValid              132161 non-null  float32\n",
      " 13  LeftEyeIsBlinking           132161 non-null  float32\n",
      " 14  RightEyeIsBlinking          132161 non-null  float32\n",
      " 15  LeftPupilDiameter           132161 non-null  float32\n",
      " 16  RightPupilDiameter          132161 non-null  float32\n",
      " 17  time                        132161 non-null  float64\n",
      "dtypes: float32(17), float64(1)\n",
      "memory usage: 10.6 MB\n",
      "<class 'pandas.core.frame.DataFrame'>\n",
      "Index: 81580 entries, 0 to 81673\n",
      "Data columns (total 6 columns):\n",
      " #   Column     Non-Null Count  Dtype  \n",
      "---  ------     --------------  -----  \n",
      " 0   UserID     81580 non-null  float32\n",
      " 1   BlockID    81580 non-null  float32\n",
      " 2   ModelID    81580 non-null  float32\n",
      " 3   MethodID   81580 non-null  float32\n",
      " 4   Luminance  81580 non-null  float32\n",
      " 5   time       81580 non-null  float64\n",
      "dtypes: float32(5), float64(1)\n",
      "memory usage: 2.8 MB\n"
     ]
    }
   ],
   "source": [
    "gaze_time = np.array(dfs['GazeStream']['time'])\n",
    "luminance_time = np.array(dfs['LuminanceStream']['time'])\n",
    "\n",
    "#loop through gaze time and round to 3 decimal places\n",
    "for i in range(len(gaze_time)):\n",
    "    gaze_time[i] = round(gaze_time[i], 4)\n",
    "\n",
    "#loop through luminance time and round to 3 decimal places\n",
    "# for i in range(len(luminance_time)):\n",
    "#     luminance_time[i] = round(luminance_time[i], 4)\n",
    "\n",
    "gaze_luminance_time = np.intersect1d(luminance_time, gaze_time)\n",
    "\n",
    "gaze = dfs['GazeStream']\n",
    "luminance = dfs['LuminanceStream']\n",
    "\n",
    "#filter out data that is not in gaze_luminance_time\n",
    "gaze = gaze[gaze['time'].isin(gaze_luminance_time)]\n",
    "\n",
    "\n",
    "gaze.info()\n",
    "luminance.info()"
   ]
  }
 ],
 "metadata": {
  "kernelspec": {
   "display_name": ".venv",
   "language": "python",
   "name": "python3"
  },
  "language_info": {
   "codemirror_mode": {
    "name": "ipython",
    "version": 3
   },
   "file_extension": ".py",
   "mimetype": "text/x-python",
   "name": "python",
   "nbconvert_exporter": "python",
   "pygments_lexer": "ipython3",
   "version": "3.11.7"
  }
 },
 "nbformat": 4,
 "nbformat_minor": 2
}
