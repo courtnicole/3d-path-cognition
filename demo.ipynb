{
 "cells": [
  {
   "cell_type": "markdown",
   "metadata": {},
   "source": [
    "## Imports"
   ]
  },
  {
   "cell_type": "code",
   "execution_count": 1,
   "metadata": {},
   "outputs": [],
   "source": [
    "import pyxdf \n",
    "import numpy as np\n",
    "import matplotlib.pyplot as plt\n",
    "import pandas as pd\n",
    "from scipy.optimize import curve_fit"
   ]
  },
  {
   "cell_type": "markdown",
   "metadata": {},
   "source": [
    "## Function Definitions\n",
    "\n",
    "Predicted pupil dilation, $d(Y)$, caused by luminance $Y$, is computed with the following equation: $𝑑(𝑌) = 𝑎 · 𝑒^{−𝑏·𝑌} + c$"
   ]
  },
  {
   "cell_type": "code",
   "execution_count": 2,
   "metadata": {},
   "outputs": [],
   "source": [
    "def func(x, a, b, c):\n",
    "    return a * np.exp(-b * x) + c"
   ]
  },
  {
   "cell_type": "markdown",
   "metadata": {},
   "source": [
    "## Load Data\n",
    "\n",
    "Load the data from the experimental input files for a single participant."
   ]
  },
  {
   "cell_type": "code",
   "execution_count": 3,
   "metadata": {},
   "outputs": [],
   "source": [
    "streams, header = pyxdf.load_xdf('./Path_Data/ID_109.xdf')\n",
    "\n",
    "dfs = {}\n",
    "for stream in streams:\n",
    "    stream_name = stream['info']['name'][0]\n",
    "    stream_channels = {}\n",
    "    for i, channels in enumerate(stream['info']['desc'][0]['channels'][0]['channel']):\n",
    "        stream_channels[channels['label'][0]] = i\n",
    "    stream_data = stream['time_series']\n",
    "    #example of data layout\n",
    "    #stream_name: LuminanceStream\n",
    "    #stream_channels: {'UserID': 0, 'BlockID': 1, 'ModelID': 2, 'MethodID': 3, 'Luminance': 4}\n",
    "    #stream_data: [[1.0000000e+02 0.0000000e+00 9.9000000e+01 9.9000000e+01 1.1425743e-02][1.0000000e+02 0.0000000e+00 9.9000000e+01 9.9000000e+01 1.1425743e-02][1.0000000e+02 0.0000000e+00 9.9000000e+01 9.9000000e+01 1.1425743e-02]\n",
    "    data_dict= {}\n",
    "    for key in stream_channels.keys():\n",
    "        data_dict[key] = np.array(stream_data)[:, stream_channels[key]]\n",
    "    time_stamps = np.array(stream['time_stamps'])\n",
    "    for i in range(len(time_stamps)):\n",
    "        time_stamps[i] = round(time_stamps[i], 4)\n",
    "    data_dict['time'] = time_stamps\n",
    "    dfs[stream_name] = pd.DataFrame(data_dict)\n",
    "    dfs[stream_name].drop_duplicates(subset=['time'], keep='first', inplace=True)\n",
    "    dfs[stream_name].reset_index(drop=True, inplace=True)"
   ]
  },
  {
   "cell_type": "code",
   "execution_count": 7,
   "metadata": {},
   "outputs": [],
   "source": [
    "gaze = dfs['GazeStream']\n",
    "luminance = dfs['LuminanceStream']\n",
    "stimulus_events = dfs['ExperimentStream']\n",
    "\n",
    "calibration_events = stimulus_events.loc[(stimulus_events['EventType'] == 'CalibrationColorChange') | (stimulus_events['SceneEvent'] == 'Calibration'), ['time','SceneEvent', 'EventType']]\n",
    "calibration_events.reset_index(drop=True, inplace=True)\n",
    "start_time = calibration_events.loc[0, 'time']\n",
    "\n",
    "pupil_calib_d = gaze.loc[(gaze['MethodID']>98.0) & (gaze['LeftEyeIsBlinking']==0) & (gaze['RightEyeIsBlinking']==0) & (gaze['LeftPupilDiameter']>0) & (gaze['RightPupilDiameter']>0), ['time', 'LeftPupilDiameter', 'RightPupilDiameter']]\n",
    "pupil_calib_d.reset_index(drop=True, inplace=True)\n",
    "lum_calib = luminance.loc[(luminance['MethodID']>98.0), ['time', 'Luminance']]\n",
    "lum_calib.reset_index(drop=True, inplace=True)\n",
    "gaze_luminance_time = np.intersect1d(pupil_calib_d['time'], lum_calib['time'])\n",
    "pupil_calib_d = pupil_calib_d[pupil_calib_d['time'].isin(gaze_luminance_time)]\n",
    "lum_calib = lum_calib[lum_calib['time'].isin(gaze_luminance_time)]\n",
    "pupil_calib_d.reset_index(drop=True, inplace=True)\n",
    "lum_calib.reset_index(drop=True, inplace=True)\n",
    "print(luminance)\n"
   ]
  },
  {
   "cell_type": "code",
   "execution_count": 8,
   "metadata": {},
   "outputs": [
    {
     "name": "stdout",
     "output_type": "stream",
     "text": [
      "    Luminance  pupilDiameter                   time\n",
      "0    0.205574       4.059823 0 days 00:00:01.674400\n",
      "1    0.205574       2.895248 0 days 00:00:02.174400\n",
      "2    0.205574       2.816653 0 days 00:00:02.674400\n",
      "3    0.205574       2.831728 0 days 00:00:03.174400\n",
      "4    0.205574       2.848754 0 days 00:00:03.674400\n",
      "..        ...            ...                    ...\n",
      "88   0.369418       2.776748 0 days 00:00:45.674400\n",
      "89   0.369418       2.744246 0 days 00:00:46.174400\n",
      "90   0.369418       2.734839 0 days 00:00:46.674400\n",
      "91   0.369418       2.700307 0 days 00:00:47.174400\n",
      "92   0.369418       2.627306 0 days 00:00:47.674400\n",
      "\n",
      "[93 rows x 3 columns]\n"
     ]
    }
   ],
   "source": [
    "luminance_pupil_diameter = pd.DataFrame()\n",
    "luminance_pupil_diameter['time'] = pd.to_timedelta(lum_calib['time'] - start_time, unit='s')\n",
    "luminance_pupil_diameter['Luminance'] = lum_calib['Luminance']\n",
    "luminance_pupil_diameter['pupilDiameter'] = 0.5 * (pupil_calib_d['LeftPupilDiameter'] + pupil_calib_d['RightPupilDiameter'])\n",
    "luminance_pupil_diameter = luminance_pupil_diameter.resample('0.5s', on='time').mean()\n",
    "luminance_pupil_diameter['time'] = luminance_pupil_diameter.index\n",
    "luminance_pupil_diameter.reset_index(drop=True, inplace=True)\n",
    "print(luminance_pupil_diameter)"
   ]
  },
  {
   "cell_type": "code",
   "execution_count": null,
   "metadata": {},
   "outputs": [],
   "source": [
    "#for luminance_pupil_diameter['time'][x] = "
   ]
  },
  {
   "cell_type": "code",
   "execution_count": 37,
   "metadata": {},
   "outputs": [],
   "source": [
    "#𝑎, 𝑏, and 𝑐 were fitted using least squares optimization with empirically determined bounds of a: [1, 4], b: [4, 8], and c: [0, 8]\n",
    "x_data = luminance_pupil_diameter['Luminance']\n",
    "y_data = luminance_pupil_diameter['pupilDiameter']\n",
    "\n",
    "popt_l, pcov_l = curve_fit(func, x_data, y_data, bounds=([1, 4, 0], [4, 8, 8]))"
   ]
  },
  {
   "cell_type": "code",
   "execution_count": 38,
   "metadata": {},
   "outputs": [
    {
     "data": {
      "image/png": "[encoded data removed]",
      "text/plain": [
       "<Figure size 640x480 with 1 Axes>"
      ]
     },
     "metadata": {},
     "output_type": "display_data"
    }
   ],
   "source": [
    "ans = func(x_data, *popt_l)\n",
    "\n",
    "plt.plot(x_data, y_data, 'o', color ='red', label =\"data\")\n",
    "plt.plot(x_data, ans, '--', color ='blue', label =\"optimized data\")\n",
    "plt.legend()\n",
    "plt.show()"
   ]
  }
 ],
 "metadata": {
  "kernelspec": {
   "display_name": ".venv",
   "language": "python",
   "name": "python3"
  },
  "language_info": {
   "codemirror_mode": {
    "name": "ipython",
    "version": 3
   },
   "file_extension": ".py",
   "mimetype": "text/x-python",
   "name": "python",
   "nbconvert_exporter": "python",
   "pygments_lexer": "ipython3",
   "version": "3.11.7"
  }
 },
 "nbformat": 4,
 "nbformat_minor": 2
}
