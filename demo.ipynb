{
 "cells": [
  {
   "cell_type": "markdown",
   "metadata": {},
   "source": [
    "## Imports"
   ]
  },
  {
   "cell_type": "code",
   "execution_count": 1,
   "metadata": {},
   "outputs": [],
   "source": [
    "import pyxdf \n",
    "import numpy as np\n",
    "import matplotlib.pyplot as plt\n",
    "import pandas as pd\n",
    "from scipy.optimize import curve_fit\n",
    "from lmfit.models import ExponentialModel"
   ]
  },
  {
   "cell_type": "markdown",
   "metadata": {},
   "source": [
    "## Function Definitions\n",
    "\n",
    "Predicted pupil dilation, $d(Y)$, caused by luminance $Y$, is computed with the following equation: $𝑑(𝑌) = 𝑎 · 𝑒^{−𝑏·𝑌} + c$"
   ]
  },
  {
   "cell_type": "code",
   "execution_count": 11,
   "metadata": {},
   "outputs": [],
   "source": [
    "def decay_func(x, a, b):\n",
    "    return a * np.exp(-x/b)"
   ]
  },
  {
   "cell_type": "code",
   "execution_count": 12,
   "metadata": {},
   "outputs": [],
   "source": [
    "def pupil_func(x, a, b, c):\n",
    "    return a * np.exp(-b * x) + c"
   ]
  },
  {
   "cell_type": "markdown",
   "metadata": {},
   "source": [
    "## Load Data\n",
    "\n",
    "Load the data from the experimental input files for a single participant."
   ]
  },
  {
   "cell_type": "code",
   "execution_count": 3,
   "metadata": {},
   "outputs": [],
   "source": [
    "streams, header = pyxdf.load_xdf('./Path_Data/ID_109.xdf')\n",
    "\n",
    "dfs = {}\n",
    "for stream in streams:\n",
    "    stream_name = stream['info']['name'][0]\n",
    "    stream_channels = {}\n",
    "    for i, channels in enumerate(stream['info']['desc'][0]['channels'][0]['channel']):\n",
    "        stream_channels[channels['label'][0]] = i\n",
    "    stream_data = stream['time_series']\n",
    "    #example of data layout\n",
    "    #stream_name: LuminanceStream\n",
    "    #stream_channels: {'UserID': 0, 'BlockID': 1, 'ModelID': 2, 'MethodID': 3, 'Luminance': 4}\n",
    "    #stream_data: [[1.0000000e+02 0.0000000e+00 9.9000000e+01 9.9000000e+01 1.1425743e-02][1.0000000e+02 0.0000000e+00 9.9000000e+01 9.9000000e+01 1.1425743e-02][1.0000000e+02 0.0000000e+00 9.9000000e+01 9.9000000e+01 1.1425743e-02]\n",
    "    data_dict= {}\n",
    "    for key in stream_channels.keys():\n",
    "        data_dict[key] = np.array(stream_data)[:, stream_channels[key]]\n",
    "    time_stamps = np.array(stream['time_stamps'])\n",
    "    for i in range(len(time_stamps)):\n",
    "        time_stamps[i] = round(time_stamps[i], 4)\n",
    "    data_dict['time'] = time_stamps\n",
    "    dfs[stream_name] = pd.DataFrame(data_dict)\n",
    "    dfs[stream_name].drop_duplicates(subset=['time'], keep='first', inplace=True)\n",
    "    dfs[stream_name].reset_index(drop=True, inplace=True)"
   ]
  },
  {
   "cell_type": "code",
   "execution_count": 4,
   "metadata": {},
   "outputs": [
    {
     "name": "stdout",
     "output_type": "stream",
     "text": [
      "          time          SceneEvent               EventType\n",
      "0  250149.9771         Calibration             SceneLoaded\n",
      "1  250155.9845  CalibrationColor_1  CalibrationColorChange\n",
      "2  250161.9925  CalibrationColor_2  CalibrationColorChange\n",
      "3  250168.0011  CalibrationColor_3  CalibrationColorChange\n",
      "4  250174.0085  CalibrationColor_4  CalibrationColorChange\n",
      "5  250180.0177  CalibrationColor_5  CalibrationColorChange\n",
      "6  250186.0256  CalibrationColor_6  CalibrationColorChange\n",
      "7  250192.0343  CalibrationColor_7  CalibrationColorChange\n"
     ]
    }
   ],
   "source": [
    "gaze = dfs['GazeStream']\n",
    "luminance = dfs['LuminanceStream']\n",
    "stimulus_events = dfs['ExperimentStream']\n",
    "\n",
    "calibration_events = stimulus_events.loc[(stimulus_events['EventType'] == 'CalibrationColorChange') | (stimulus_events['SceneEvent'] == 'Calibration'), ['time','SceneEvent', 'EventType']]\n",
    "calibration_events.reset_index(drop=True, inplace=True)\n",
    "start_time = calibration_events.loc[0, 'time']\n",
    "print(calibration_events)\n",
    "\n",
    "pupil_calib_d = gaze.loc[(gaze['MethodID']>98.0) & (gaze['LeftEyeIsBlinking']==0) & (gaze['RightEyeIsBlinking']==0) & (gaze['LeftPupilDiameter']>0) & (gaze['RightPupilDiameter']>0), ['time', 'LeftPupilDiameter', 'RightPupilDiameter']]\n",
    "pupil_calib_d.reset_index(drop=True, inplace=True)\n",
    "lum_calib = luminance.loc[(luminance['MethodID']>98.0), ['time', 'Luminance']]\n",
    "lum_calib.reset_index(drop=True, inplace=True)\n",
    "\n",
    "gaze_luminance_time = np.intersect1d(pupil_calib_d['time'], lum_calib['time'])\n",
    "pupil_calib_d = pupil_calib_d[pupil_calib_d['time'].isin(gaze_luminance_time)]\n",
    "lum_calib = lum_calib[lum_calib['time'].isin(gaze_luminance_time)]\n",
    "pupil_calib_d.reset_index(drop=True, inplace=True)\n",
    "lum_calib.reset_index(drop=True, inplace=True)\n"
   ]
  },
  {
   "cell_type": "code",
   "execution_count": 17,
   "metadata": {},
   "outputs": [
    {
     "name": "stdout",
     "output_type": "stream",
     "text": [
      "                                           Luminance  \\\n",
      "0  [[0.20557446777820587, 0.20557446777820587, 0....   \n",
      "\n",
      "                                       PupilDiameter  \n",
      "0  [[3.2901153564453125, 3.2028121948242188, 3.15...  \n"
     ]
    }
   ],
   "source": [
    "luminance_pupil_diameter = pd.DataFrame()\n",
    "luminance_pupil_diameter['time'] = lum_calib['time']# //pd.to_timedelta(lum_calib['time'] - start_time, unit='s')\n",
    "luminance_pupil_diameter['Luminance'] = lum_calib['Luminance']\n",
    "luminance_pupil_diameter['pupilDiameter'] = 0.5 * (pupil_calib_d['LeftPupilDiameter'] + pupil_calib_d['RightPupilDiameter'])\n",
    "\n",
    "\n",
    "color1 = luminance_pupil_diameter.loc[(luminance_pupil_diameter['time']>=calibration_events.loc[0, 'time']) & (luminance_pupil_diameter['time']<=calibration_events.loc[1, 'time']), ['time', 'Luminance', 'pupilDiameter']]\n",
    "color2 = luminance_pupil_diameter.loc[(luminance_pupil_diameter['time']>=calibration_events.loc[1, 'time']) & (luminance_pupil_diameter['time']<=calibration_events.loc[2, 'time']), ['time', 'Luminance', 'pupilDiameter']]\n",
    "color3 = luminance_pupil_diameter.loc[(luminance_pupil_diameter['time']>=calibration_events.loc[2, 'time']) & (luminance_pupil_diameter['time']<=calibration_events.loc[3, 'time']), ['time', 'Luminance', 'pupilDiameter']]\n",
    "color4 = luminance_pupil_diameter.loc[(luminance_pupil_diameter['time']>=calibration_events.loc[3, 'time']) & (luminance_pupil_diameter['time']<=calibration_events.loc[4, 'time']), ['time', 'Luminance', 'pupilDiameter']]\n",
    "color5 = luminance_pupil_diameter.loc[(luminance_pupil_diameter['time']>=calibration_events.loc[4, 'time']) & (luminance_pupil_diameter['time']<=calibration_events.loc[5, 'time']), ['time', 'Luminance', 'pupilDiameter']]\n",
    "color6 = luminance_pupil_diameter.loc[(luminance_pupil_diameter['time']>=calibration_events.loc[5, 'time']) & (luminance_pupil_diameter['time']<=calibration_events.loc[6, 'time']), ['time', 'Luminance', 'pupilDiameter']]\n",
    "color7 = luminance_pupil_diameter.loc[(luminance_pupil_diameter['time']>=calibration_events.loc[6, 'time']) & (luminance_pupil_diameter['time']<=calibration_events.loc[7, 'time']), ['time', 'Luminance', 'pupilDiameter']]\n",
    "color8 = luminance_pupil_diameter.loc[(luminance_pupil_diameter['time']>=calibration_events.loc[7, 'time']), ['time', 'Luminance', 'pupilDiameter']]\n",
    "\n",
    "color1.reset_index(drop=True, inplace=True)\n",
    "color2.reset_index(drop=True, inplace=True)\n",
    "color3.reset_index(drop=True, inplace=True)\n",
    "color4.reset_index(drop=True, inplace=True)\n",
    "color5.reset_index(drop=True, inplace=True)\n",
    "color6.reset_index(drop=True, inplace=True)\n",
    "color7.reset_index(drop=True, inplace=True)\n",
    "color8.reset_index(drop=True, inplace=True)\n",
    "\n",
    "color1['time'] = color1['time'] - color1['time'][0]\n",
    "color2['time'] = color2['time'] - color2['time'][0]\n",
    "color3['time'] = color3['time'] - color3['time'][0]\n",
    "color4['time'] = color4['time'] - color4['time'][0]\n",
    "color5['time'] = color5['time'] - color5['time'][0]\n",
    "color6['time'] = color6['time'] - color6['time'][0]\n",
    "color7['time'] = color7['time'] - color7['time'][0]\n",
    "color8['time'] = color8['time'] - color8['time'][0]\n",
    "\n",
    "color1=color1.loc[(color1['time']>=0.5), ['time', 'Luminance', 'pupilDiameter']]\n",
    "color2=color2.loc[(color2['time']>=0.5), ['time', 'Luminance', 'pupilDiameter']]\n",
    "color3=color3.loc[(color3['time']>=0.5), ['time', 'Luminance', 'pupilDiameter']]\n",
    "color4=color4.loc[(color4['time']>=0.5), ['time', 'Luminance', 'pupilDiameter']]\n",
    "color5=color5.loc[(color5['time']>=0.5), ['time', 'Luminance', 'pupilDiameter']]\n",
    "color6=color6.loc[(color6['time']>=0.5), ['time', 'Luminance', 'pupilDiameter']]\n",
    "color7=color7.loc[(color7['time']>=0.5), ['time', 'Luminance', 'pupilDiameter']]\n",
    "color8=color8.loc[(color8['time']>=0.5), ['time', 'Luminance', 'pupilDiameter']]\n",
    "\n",
    "calibration_data = pd.DataFrame()\n",
    "calibration_data['Luminance'] = [color1['Luminance'], color2['Luminance'], color3['Luminance'],color4['Luminance'],color5['Luminance'],color6['Luminance'],color7['Luminance'], color8['Luminance']] \n",
    "#[color1['Luminance'].mean(), color2['Luminance'].mean(), color3['Luminance'].mean(), color4['Luminance'].mean(), color5['Luminance'].mean(), color6['Luminance'].mean(), color7['Luminance'].mean(), color8['Luminance'].mean()]\n",
    "calibration_data['PupilDiameter'] = [color1['pupilDiameter'], color2['pupilDiameter'], color3['pupilDiameter'],color4['pupilDiameter'],color5['pupilDiameter'],color6['pupilDiameter'],color7['pupilDiameter'], color8['pupilDiameter']]\n",
    "#[color1['pupilDiameter'].mean(), color2['pupilDiameter'].mean(), color3['pupilDiameter'].mean(), color4['pupilDiameter'].mean(), color5['pupilDiameter'].mean(), color6['pupilDiameter'].mean(), color7['pupilDiameter'].mean(), color8['pupilDiameter'].mean()]\n",
    "print(calibration_data)\n",
    "calibration_data.sort_values(by=['Luminance'], inplace=True)\n",
    "calibration_data.reset_index(drop=True, inplace=True)\n"
   ]
  },
  {
   "cell_type": "code",
   "execution_count": 13,
   "metadata": {},
   "outputs": [
    {
     "name": "stdout",
     "output_type": "stream",
     "text": [
      "Parameters([('exp_amplitude', <Parameter 'exp_amplitude', value=3.827723808288084, bounds=[-inf:inf]>), ('exp_decay', <Parameter 'exp_decay', value=1.4361059811453294, bounds=[-inf:inf]>)])\n"
     ]
    },
    {
     "data": {
      "image/png": "[encoded data removed]",
      "text/plain": [
       "<Figure size 640x480 with 1 Axes>"
      ]
     },
     "metadata": {},
     "output_type": "display_data"
    }
   ],
   "source": [
    "#𝑎, 𝑏, and 𝑐 were fitted using least squares optimization with empirically determined bounds of a: [1, 4], b: [4, 8], and c: [0, 8]\n",
    "x_data = calibration_data['Luminance']\n",
    "y_data = calibration_data['PupilDiameter']\n",
    "\n",
    "exp_mod = ExponentialModel(prefix='exp_')\n",
    "pars = exp_mod.guess(y_data, x=x_data)\n",
    "print(pars)\n",
    "\n",
    "# bounds=([1, 4, 1], [4, 8, 4])\n",
    "# #𝑑(𝑌) = 𝑎 · 𝑒^{−𝑏·𝑌} + c$\n",
    "# p, c, info, msg, ier = curve_fit(func, x_data, y_data, bounds=bounds, full_output=True)\n",
    "# print(info)\n",
    "# print(msg)\n",
    "# print(ier)\n",
    "# print(np.linalg.cond(c))\n",
    "# print(np.diag(c))\n",
    "plt.plot(x_data, y_data, 'o', color ='red', label =\"data\")\n",
    "plt.plot(x_data, decay_func(x_data, 3.827723808288084, 1.4361059811453294), '--', color ='blue', label =\"optimized data\")\n",
    "plt.legend()\n",
    "plt.show()"
   ]
  }
 ],
 "metadata": {
  "kernelspec": {
   "display_name": ".venv",
   "language": "python",
   "name": "python3"
  },
  "language_info": {
   "codemirror_mode": {
    "name": "ipython",
    "version": 3
   },
   "file_extension": ".py",
   "mimetype": "text/x-python",
   "name": "python",
   "nbconvert_exporter": "python",
   "pygments_lexer": "ipython3",
   "version": "3.11.7"
  }
 },
 "nbformat": 4,
 "nbformat_minor": 2
}
