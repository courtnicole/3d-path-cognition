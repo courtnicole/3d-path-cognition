{
 "cells": [
  {
   "cell_type": "markdown",
   "metadata": {},
   "source": [
    "## Imports"
   ]
  },
  {
   "cell_type": "code",
   "execution_count": 37,
   "metadata": {},
   "outputs": [],
   "source": [
    "import pyxdf \n",
    "import numpy as np\n",
    "import matplotlib.pyplot as plt\n",
    "import pandas as pd\n",
    "from lmfit.models import Model\n",
    "from scipy import stats\n",
    "import pywt\n",
    "import math"
   ]
  },
  {
   "cell_type": "markdown",
   "metadata": {},
   "source": [
    "## Function Definitions\n",
    "\n",
    "Predicted pupil dilation, $d(Y)$, caused by luminance $Y$, is computed with the following equation: $𝑑(𝑌) = 𝑎 · 𝑒^{−𝑏·𝑌} + c$"
   ]
  },
  {
   "cell_type": "code",
   "execution_count": 38,
   "metadata": {},
   "outputs": [],
   "source": [
    "def pupil_func(x, a, b, c):\n",
    "    return a * np.exp(-b * x) + c"
   ]
  },
  {
   "cell_type": "code",
   "execution_count": 39,
   "metadata": {},
   "outputs": [],
   "source": [
    "def import_data(file):\n",
    "    streams, header = pyxdf.load_xdf(file)\n",
    "    dfs = {}\n",
    "    for stream in streams:\n",
    "        stream_name = stream['info']['name'][0]\n",
    "        stream_channels = {channel['label'][0]: i for i, channel in enumerate(stream['info']['desc'][0]['channels'][0]['channel'])}\n",
    "        stream_data = stream['time_series']\n",
    "        data_dict = {key: np.array(stream_data)[:, index] for key, index in stream_channels.items()}\n",
    "        data_dict['time'] = np.round(np.array(stream['time_stamps']), decimals=4)\n",
    "        dfs[stream_name] = pd.DataFrame(data_dict).drop_duplicates(subset=['time']).reset_index(drop=True)\n",
    "    return dfs"
   ]
  },
  {
   "cell_type": "code",
   "execution_count": 40,
   "metadata": {},
   "outputs": [],
   "source": [
    "accom_time = pd.to_timedelta(0.5, unit='s')"
   ]
  },
  {
   "cell_type": "code",
   "execution_count": 41,
   "metadata": {},
   "outputs": [],
   "source": [
    "def process_gaze_luminance_data(stream_df):\n",
    "    pupil = stream_df['GazeStream'].loc[(stream_df['GazeStream']['LeftEyeIsBlinking'] == 0) & (stream_df['GazeStream']['RightEyeIsBlinking'] == 0) & (stream_df['GazeStream']['LeftPupilDiameter'] > 0) & (stream_df['GazeStream']['RightPupilDiameter'] > 0), ['time', 'MethodID', 'ModelID', 'LeftPupilDiameter', 'RightPupilDiameter']]\n",
    "    pupil['time'] = pd.to_timedelta(pupil['time'], unit='s')\n",
    "\n",
    "    lum = stream_df['LuminanceStream'].loc[:, ['time', 'MethodID', 'ModelID', 'Luminance']]\n",
    "    lum['time'] = pd.to_timedelta(lum['time'], unit='s')\n",
    "\n",
    "    # Intersection of time stamps\n",
    "    pupil_lum_time_intersection = np.intersect1d(pupil['time'], lum['time'])\n",
    "\n",
    "    # Filter pupil and luminance data by intersection\n",
    "    pupil = pupil[pupil['time'].isin(pupil_lum_time_intersection)].reset_index(drop=True)\n",
    "    lum = lum[lum['time'].isin(pupil_lum_time_intersection)].reset_index(drop=True)\n",
    "\n",
    "    # Combined DataFrame for pupil and luminance\n",
    "    pupil_lum = pd.DataFrame({\n",
    "        'time': pd.to_timedelta(lum['time'], unit='s'),\n",
    "        'luminance': lum['Luminance'],\n",
    "        'pupilDiameter': 0.5 * (pupil['LeftPupilDiameter'] + pupil['RightPupilDiameter']),\n",
    "        'methodID': pupil['MethodID'],\n",
    "        'modelID': pupil['ModelID']\n",
    "    }).resample('0.01s', on='time').mean()\n",
    "\n",
    "    pupil_lum['time'] = pupil_lum.index\n",
    "\n",
    "    return pupil_lum"
   ]
  },
  {
   "cell_type": "code",
   "execution_count": 42,
   "metadata": {},
   "outputs": [],
   "source": [
    "def process_calibration_data(pupil_lum_df, stream_df):\n",
    "    calibration_events = stream_df['ExperimentStream'].loc[(stream_df['ExperimentStream']['EventType'] == 'CalibrationColorChange') | (stream_df['ExperimentStream']['SceneEvent'] == 'Calibration') | (stream_df['ExperimentStream']['SceneEvent'] == 'CalibrationComplete'), ['time','SceneEvent', 'EventType']]\n",
    "    calibration_events['time'] = pd.to_timedelta(calibration_events['time'], unit='s')\n",
    "    c_start_times = calibration_events[:8]['time']\n",
    "    c_end_times = calibration_events[1:]['time']\n",
    "    c_start_times.reset_index(drop=True, inplace=True)\n",
    "    c_end_times.reset_index(drop=True, inplace=True)\n",
    "\n",
    "    calib_data = {}\n",
    "    for i in range(8):\n",
    "        calib_data[i] = pupil_lum_df.loc[(pupil_lum_df['time'] >= c_start_times[i]) & (pupil_lum_df['time'] <= c_end_times[i]), ['time','luminance', 'pupilDiameter']]\n",
    "        calib_data[i]['time'] -= calib_data[i]['time'].iloc[0]\n",
    "        calib_data[i] = calib_data[i].loc[(calib_data[i]['time'] >= accom_time), ['luminance', 'pupilDiameter']]\n",
    "\n",
    "    calibration_data = pd.concat(calib_data).groupby(level=0).mean().sort_values(by=['luminance']).reset_index(drop=True)\n",
    "    return calibration_data"
   ]
  },
  {
   "cell_type": "code",
   "execution_count": 43,
   "metadata": {},
   "outputs": [],
   "source": [
    "def process_navigation_data(pupil_lum_df, stream_df, a, b, c):\n",
    "    navigation_events = stream_df['ExperimentStream'].loc[(stream_df['ExperimentStream']['SceneEvent'] == 'NavigationComplete') | (stream_df['ExperimentStream']['SceneEvent'] == 'Navigation_Trial'), ['time','SceneEvent', 'EventType', 'ModelID', 'MethodID']]\n",
    "    navigation_events['time'] = pd.to_timedelta(navigation_events['time'], unit='s')\n",
    "    nav_start_times = navigation_events.loc[navigation_events['SceneEvent'] == 'Navigation_Trial', 'time']\n",
    "    nav_end_times = navigation_events.loc[navigation_events['SceneEvent'] == 'NavigationComplete', 'time']\n",
    "\n",
    "    nav_start_times.reset_index(drop=True, inplace=True)\n",
    "    nav_end_times.reset_index(drop=True, inplace=True)\n",
    "\n",
    "    #Correct for occasions when Unity emitted multiple SceneLoaded events for a single trial\n",
    "    if len(nav_start_times) > 8:\n",
    "        nav_diff = nav_start_times.diff().dt.total_seconds()\n",
    "        nav_start_times = nav_start_times.loc[(nav_diff.isnull()) | (nav_diff > 3)]\n",
    "\n",
    "    nav_start_times.reset_index(drop=True, inplace=True)\n",
    "    nav_end_times.reset_index(drop=True, inplace=True)\n",
    "\n",
    "    nav_data = {}\n",
    "    for i in range(8):\n",
    "        nav_data[i] = pupil_lum_df.loc[(pupil_lum_df['time']>=nav_start_times.loc[i]) & (pupil_lum_df['time']<=nav_end_times.loc[i]), ['time', 'methodID', 'modelID', 'luminance', 'pupilDiameter']]\n",
    "        nav_data[i].set_index('time', inplace=True, drop=False)\n",
    "\n",
    "    navigation_data = pd.concat(nav_data, names=['trial'])\n",
    "    navigation_data = navigation_data.groupby(level=0).resample('0.01s', on='time', ).mean()\n",
    "    navigation_data['plr'] = pupil_func(navigation_data['luminance'], a, b, c)\n",
    "    navigation_data['tepr'] = navigation_data['pupilDiameter'] - navigation_data['plr']\n",
    "    \n",
    "    return navigation_data"
   ]
  },
  {
   "cell_type": "code",
   "execution_count": 44,
   "metadata": {},
   "outputs": [],
   "source": [
    "def modmax(d):\n",
    "    # compute signal modulus\n",
    "    m = [0.0]*len(d)\n",
    "    for i in range(len(d)):\n",
    "        m[i] = math.fabs(d[i])\n",
    "    # if value is larger than both neighbours , and strictly larger than either , then it is a local maximum\n",
    "    t = [0.0]*len(d)\n",
    "    for i in range(len(d)):\n",
    "        ll = m[i -1] if i >= 1 else m[i]\n",
    "        oo = m[i]\n",
    "        rr = m[i+1] if i < len(d)-2 else m[i]\n",
    "        if (ll <= oo and oo >= rr) and (ll < oo or oo > rr):\n",
    "        # compute magnitude\n",
    "            t[i] = math.sqrt(d[i]**2)\n",
    "        else:\n",
    "            t[i] = 0.0\n",
    "    return t"
   ]
  },
  {
   "cell_type": "code",
   "execution_count": 45,
   "metadata": {},
   "outputs": [],
   "source": [
    "def ipa(d):\n",
    "    # obtain 2-level DWT of pupil diameter signal d\n",
    "    try:\n",
    "        (cA2 ,cD2 ,cD1) = pywt.wavedec(d,'sym16', 'per', level=2)\n",
    "    except ValueError :\n",
    "        return\n",
    "    # get signal duration (in seconds)\n",
    "    tt = d.index[-1] - d.index[0]\n",
    "    # normalize by 1/2 j , j = 2 for 2-level DWT\n",
    "    cA2 [:] = [x / math.sqrt (4.0) for x in cA2]\n",
    "    cD1 [:] = [x / math.sqrt (2.0) for x in cD1]\n",
    "    cD2 [:] = [x / math.sqrt (4.0) for x in cD2]\n",
    "\n",
    "    # detect modulus maxima , see Listing 2\n",
    "    cD2m = modmax(cD2)\n",
    "    # threshold using universal threshold λuniv = σˆp(2logn)\n",
    "    # where σˆ is the standard deviation of the noise\n",
    "    λuniv = np.std(cD2m) * math.sqrt (2.0* np.log2(len(cD2m )))\n",
    "    cD2t = pywt. threshold (cD2m ,λuniv,mode=\"hard\")\n",
    "    # compute IPA\n",
    "    ctr = 0\n",
    "    for i in range(len(cD2t )):\n",
    "        if math.fabs(cD2t[i]) > 0: ctr += 1\n",
    "    IPA = float(ctr)/tt.total_seconds()\n",
    "\n",
    "    return IPA\n"
   ]
  },
  {
   "cell_type": "markdown",
   "metadata": {},
   "source": [
    "## Load Data\n",
    "\n",
    "Load the data from the xdf file for a single participant."
   ]
  },
  {
   "cell_type": "code",
   "execution_count": 46,
   "metadata": {},
   "outputs": [],
   "source": [
    "file = './Path_Data/ID_114.xdf'\n",
    "df = import_data(file)\n",
    "pupil_lum_df = process_gaze_luminance_data(df)\n",
    "calibration_data = process_calibration_data(pupil_lum_df, df)"
   ]
  },
  {
   "cell_type": "code",
   "execution_count": 53,
   "metadata": {},
   "outputs": [
    {
     "name": "stdout",
     "output_type": "stream",
     "text": [
      "                            time  luminance  pupilDiameter  methodID  modelID\n",
      "0         0 days 23:26:51.338600   0.205574       5.002632      99.0     99.0\n",
      "1         0 days 23:26:51.347400   0.205574       4.994835      99.0     99.0\n",
      "2         0 days 23:26:51.352400   0.205574       4.994766      99.0     99.0\n",
      "3         0 days 23:26:51.359900   0.205574       4.994705      99.0     99.0\n",
      "4         0 days 23:26:51.371400   0.205574       5.002335      99.0     99.0\n",
      "...                          ...        ...            ...       ...      ...\n",
      "104512    0 days 23:50:54.240300   0.110209       4.070908       3.0      3.0\n",
      "104513 0 days 23:50:54.250699999   0.108743       4.011909       3.0      3.0\n",
      "104514    0 days 23:50:54.262200   0.107625       4.055649       3.0      3.0\n",
      "104515    0 days 23:50:54.273700   0.106651       4.047478       3.0      3.0\n",
      "104516    0 days 23:50:54.284200   0.105890       4.036377       3.0      3.0\n",
      "\n",
      "[104517 rows x 5 columns]\n"
     ]
    }
   ],
   "source": [
    "pupil = df['GazeStream'].loc[(df['GazeStream']['LeftEyeIsBlinking'] == 0) & (df['GazeStream']['RightEyeIsBlinking'] == 0) & (df['GazeStream']['LeftPupilDiameter'] > 0) & (df['GazeStream']['RightPupilDiameter'] > 0), ['time', 'MethodID', 'ModelID', 'LeftPupilDiameter', 'RightPupilDiameter']]\n",
    "pupil['time'] = pd.to_timedelta(pupil['time'], unit='s')\n",
    "\n",
    "lum = df['LuminanceStream'].loc[:, ['time', 'MethodID', 'ModelID', 'Luminance']]\n",
    "lum['time'] = pd.to_timedelta(lum['time'], unit='s')\n",
    "\n",
    "# Intersection of time stamps\n",
    "pupil_lum_time_intersection = np.intersect1d(pupil['time'], lum['time'])\n",
    "\n",
    "# Filter pupil and luminance data by intersection\n",
    "pupil = pupil[pupil['time'].isin(pupil_lum_time_intersection)].reset_index(drop=True)\n",
    "lum = lum[lum['time'].isin(pupil_lum_time_intersection)].reset_index(drop=True)\n",
    "\n",
    "# Combined DataFrame for pupil and luminance\n",
    "pupil_lum = pd.DataFrame({\n",
    "    'time': pd.to_timedelta(pupil_lum_time_intersection, unit='s'),\n",
    "    'luminance': lum['Luminance'],\n",
    "    'pupilDiameter': 0.5 * (pupil['LeftPupilDiameter'] + pupil['RightPupilDiameter']),\n",
    "    'methodID': pupil['MethodID'],\n",
    "    'modelID': pupil['ModelID']\n",
    "})\n",
    "\n",
    "print(pupil_lum)"
   ]
  },
  {
   "cell_type": "code",
   "execution_count": 54,
   "metadata": {},
   "outputs": [
    {
     "name": "stdout",
     "output_type": "stream",
     "text": [
      "0 days 23:41:40.653500\n",
      "                                         time  methodID  modelID  luminance  \\\n",
      "time                                                                          \n",
      "0 days 23:40:13.438600 0 days 23:40:13.438600       NaN      NaN        NaN   \n",
      "0 days 23:40:13.448600 0 days 23:40:13.448600       NaN      NaN        NaN   \n",
      "0 days 23:40:13.458600 0 days 23:40:13.458600       NaN      NaN        NaN   \n",
      "0 days 23:40:13.468600 0 days 23:40:13.468600       NaN      NaN        NaN   \n",
      "0 days 23:40:13.478600 0 days 23:40:13.478600       NaN      NaN        NaN   \n",
      "...                                       ...       ...      ...        ...   \n",
      "0 days 23:41:37.188600 0 days 23:41:37.188600       2.0      0.0   0.157140   \n",
      "0 days 23:41:37.198600 0 days 23:41:37.198600       2.0      0.0   0.155279   \n",
      "0 days 23:41:37.208600 0 days 23:41:37.208600       NaN      NaN        NaN   \n",
      "0 days 23:41:37.218600 0 days 23:41:37.218600       NaN      NaN        NaN   \n",
      "0 days 23:41:37.228600 0 days 23:41:37.228600       NaN      NaN        NaN   \n",
      "\n",
      "                        pupilDiameter  \n",
      "time                                   \n",
      "0 days 23:40:13.438600            NaN  \n",
      "0 days 23:40:13.448600            NaN  \n",
      "0 days 23:40:13.458600            NaN  \n",
      "0 days 23:40:13.468600            NaN  \n",
      "0 days 23:40:13.478600            NaN  \n",
      "...                               ...  \n",
      "0 days 23:41:37.188600       3.467796  \n",
      "0 days 23:41:37.198600       3.458847  \n",
      "0 days 23:41:37.208600            NaN  \n",
      "0 days 23:41:37.218600            NaN  \n",
      "0 days 23:41:37.228600            NaN  \n",
      "\n",
      "[8380 rows x 5 columns]\n"
     ]
    }
   ],
   "source": [
    "navigation_events = df['ExperimentStream'].loc[(df['ExperimentStream']['SceneEvent'] == 'NavigationComplete') | (df['ExperimentStream']['SceneEvent'] == 'Navigation_Trial'), ['time','SceneEvent', 'EventType', 'ModelID', 'MethodID']]\n",
    "navigation_events['time'] = pd.to_timedelta(navigation_events['time'], unit='s')\n",
    "nav_start_times = navigation_events.loc[navigation_events['SceneEvent'] == 'Navigation_Trial', 'time']\n",
    "nav_end_times = navigation_events.loc[navigation_events['SceneEvent'] == 'NavigationComplete', 'time']\n",
    "\n",
    "nav_start_times.reset_index(drop=True, inplace=True)\n",
    "nav_end_times.reset_index(drop=True, inplace=True)\n",
    "\n",
    "print(nav_start_times.loc[1])\n",
    "nav_data = {}\n",
    "for i in range(8):\n",
    "    nav_data[i] = pupil_lum_df.loc[(pupil_lum_df['time']>=nav_start_times.loc[i]) & (pupil_lum_df['time']<=nav_end_times.loc[i]), ['time', 'methodID', 'modelID', 'luminance', 'pupilDiameter']]\n",
    "\n",
    "print(nav_data[0])\n",
    "navigation_data = pd.concat(nav_data, names=['trial'])"
   ]
  },
  {
   "cell_type": "code",
   "execution_count": null,
   "metadata": {},
   "outputs": [],
   "source": []
  },
  {
   "cell_type": "code",
   "execution_count": 49,
   "metadata": {},
   "outputs": [
    {
     "name": "stdout",
     "output_type": "stream",
     "text": [
      "                              methodID  modelID  luminance  pupilDiameter  \\\n",
      "trial time                                                                  \n",
      "0     0 days 23:40:31.448600       2.0      0.0   0.000000       5.061028   \n",
      "      0 days 23:40:31.468600       2.0      0.0   0.000000       5.058205   \n",
      "      0 days 23:40:31.498600       2.0      0.0   0.000000       5.058891   \n",
      "      0 days 23:40:31.518600       2.0      0.0   0.000000       5.058914   \n",
      "      0 days 23:40:31.538600       2.0      0.0   0.000000       5.064980   \n",
      "      0 days 23:40:31.558600       2.0      0.0   0.000000       5.066452   \n",
      "      0 days 23:40:31.588600       2.0      0.0   0.000000       5.075096   \n",
      "      0 days 23:40:31.608600       2.0      0.0   0.000000       5.078613   \n",
      "      0 days 23:40:31.628600       2.0      0.0   0.000000       5.080360   \n",
      "      0 days 23:40:31.648600       2.0      0.0   0.000000       5.157593   \n",
      "      0 days 23:40:31.668600       2.0      0.0   0.000000       5.208229   \n",
      "      0 days 23:40:31.698600       2.0      0.0   0.000000       5.272125   \n",
      "      0 days 23:40:31.718600       2.0      0.0   0.000000       5.246231   \n",
      "      0 days 23:40:31.738600       2.0      0.0   0.000000       5.250504   \n",
      "      0 days 23:40:31.758600       2.0      0.0   0.000000       5.288315   \n",
      "      0 days 23:40:31.788600       2.0      0.0   0.000000       5.288528   \n",
      "      0 days 23:40:31.808600       2.0      0.0   0.000000       5.301041   \n",
      "      0 days 23:40:31.828600       2.0      0.0   0.000000       5.305443   \n",
      "      0 days 23:40:31.848600       2.0      0.0   0.003106       5.308182   \n",
      "      0 days 23:40:31.868600       2.0      0.0   0.007361       5.317284   \n",
      "      0 days 23:40:31.898600       2.0      0.0   0.010984       5.330055   \n",
      "      0 days 23:40:31.918600       2.0      0.0   0.014727       5.336845   \n",
      "      0 days 23:40:31.938600       2.0      0.0   0.018341       5.279892   \n",
      "      0 days 23:40:31.948600       2.0      0.0   0.021938       5.413612   \n",
      "\n",
      "                                   plr      tepr  \n",
      "trial time                                        \n",
      "0     0 days 23:40:31.448600  1.000000  4.061028  \n",
      "      0 days 23:40:31.468600  1.000000  4.058205  \n",
      "      0 days 23:40:31.498600  1.000000  4.058891  \n",
      "      0 days 23:40:31.518600  1.000000  4.058914  \n",
      "      0 days 23:40:31.538600  1.000000  4.064980  \n",
      "      0 days 23:40:31.558600  1.000000  4.066452  \n",
      "      0 days 23:40:31.588600  1.000000  4.075096  \n",
      "      0 days 23:40:31.608600  1.000000  4.078613  \n",
      "      0 days 23:40:31.628600  1.000000  4.080360  \n",
      "      0 days 23:40:31.648600  1.000000  4.157593  \n",
      "      0 days 23:40:31.668600  1.000000  4.208229  \n",
      "      0 days 23:40:31.698600  1.000000  4.272125  \n",
      "      0 days 23:40:31.718600  1.000000  4.246231  \n",
      "      0 days 23:40:31.738600  1.000000  4.250504  \n",
      "      0 days 23:40:31.758600  1.000000  4.288315  \n",
      "      0 days 23:40:31.788600  1.000000  4.288528  \n",
      "      0 days 23:40:31.808600  1.000000  4.301041  \n",
      "      0 days 23:40:31.828600  1.000000  4.305443  \n",
      "      0 days 23:40:31.848600  0.999224  4.308958  \n",
      "      0 days 23:40:31.868600  0.998163  4.319120  \n",
      "      0 days 23:40:31.898600  0.997261  4.332794  \n",
      "      0 days 23:40:31.918600  0.996332  4.340514  \n",
      "      0 days 23:40:31.938600  0.995436  4.284456  \n",
      "      0 days 23:40:31.948600  0.994545  4.419067  \n"
     ]
    }
   ],
   "source": [
    "navigation = process_navigation_data(pupil_lum_df, df, 0.5, 0.5, 0.5).dropna()\n",
    "print(navigation[0:24])"
   ]
  },
  {
   "cell_type": "code",
   "execution_count": 50,
   "metadata": {},
   "outputs": [
    {
     "name": "stdout",
     "output_type": "stream",
     "text": [
      "0.040195555535842795\n"
     ]
    }
   ],
   "source": [
    "dtime = np.array(lum['time'], dtype='datetime64')\n",
    "pdil = np.array(0.5 * (pupil['LeftPupilDiameter'] + pupil['RightPupilDiameter']))\n",
    "\n",
    "data = pd.Series(pdil, index=dtime)\n",
    "ipa_data = ipa(data)\n",
    "print(ipa_data)"
   ]
  },
  {
   "cell_type": "code",
   "execution_count": 51,
   "metadata": {},
   "outputs": [],
   "source": [
    "x_data = calibration_data['luminance']\n",
    "y_data = calibration_data['pupilDiameter']\n",
    "\n",
    "exp_mod = Model(pupil_func)\n",
    "params = exp_mod.make_params(a=1, b=4, c=0)\n",
    "\n",
    "result = exp_mod.fit(y_data, params, x=x_data)\n",
    "a = result.params['a'].value\n",
    "b = result.params['b'].value\n",
    "c = result.params['c'].value\n",
    "\n",
    "# plt.plot(x_data, y_data, 'o')\n",
    "# plt.plot(x_data, result.init_fit, '--', label='initial fit')\n",
    "# plt.plot(x_data, result.best_fit, '-', label='best fit')\n",
    "# plt.legend()\n",
    "# plt.show()"
   ]
  },
  {
   "cell_type": "code",
   "execution_count": 52,
   "metadata": {},
   "outputs": [],
   "source": [
    "# idx = 1\n",
    "\n",
    "# for i in range(8):\n",
    "#     nav_data[i] = nav_data[i].resample('0.5s', origin='start').mean()\n",
    "\n",
    "# lum_nav = nav_data[idx]['Luminance']\n",
    "# pupil_nav = nav_data[idx]['pupilDiameter']\n",
    "\n",
    "# plr = pd.DataFrame(pupil_func(lum_nav, a, b, c))\n",
    "# plr['time'] = plr.index\n",
    "# plr.rename(columns={\"Luminance\": \"pupilDiameter\"}, inplace=True)\n",
    "# plr.reset_index(drop=True, inplace=True)\n",
    "\n",
    "# predicted_plr = pd.DataFrame(columns=['pupilDiameter'])\n",
    "# for t in range(len(plr)):\n",
    "#     if t==0:\n",
    "#         predicted_plr.loc[t, \"pupilDiameter\"] = plr.loc[t,'pupilDiameter']\n",
    "#     else:\n",
    "#         predicted_plr.loc[t, \"pupilDiameter\"] = plr.loc[t-1,'pupilDiameter']\n",
    "# predicted_plr['time'] = plr['time']\n",
    "# predicted_plr.set_index('time', inplace=True)\n",
    "\n",
    "# plot_dif = pupil_nav - predicted_plr['pupilDiameter']\n",
    "\n",
    "# x_data = pupil_nav.index\n",
    "\n",
    "# plt.plot(x_data, predicted_plr['pupilDiameter'], '--', label='predicted')\n",
    "# plt.plot(x_data, pupil_nav, '--', label='actual')\n",
    "# plt.plot(x_data, plot_dif, '-', label='difference')\n",
    "# plt.legend()\n"
   ]
  }
 ],
 "metadata": {
  "kernelspec": {
   "display_name": ".venv",
   "language": "python",
   "name": "python3"
  },
  "language_info": {
   "codemirror_mode": {
    "name": "ipython",
    "version": 3
   },
   "file_extension": ".py",
   "mimetype": "text/x-python",
   "name": "python",
   "nbconvert_exporter": "python",
   "pygments_lexer": "ipython3",
   "version": "3.11.7"
  }
 },
 "nbformat": 4,
 "nbformat_minor": 2
}
