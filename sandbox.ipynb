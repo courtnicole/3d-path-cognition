{
 "cells": [
  {
   "cell_type": "code",
   "execution_count": 4,
   "metadata": {},
   "outputs": [],
   "source": [
    "import pyxdf \n",
    "import numpy as np\n",
    "import matplotlib.pyplot as plt"
   ]
  },
  {
   "cell_type": "markdown",
   "metadata": {},
   "source": [
    "# Load Data\n",
    "\n",
    "Load the data from the experimental input files for a single participant."
   ]
  },
  {
   "cell_type": "code",
   "execution_count": 2,
   "metadata": {},
   "outputs": [
    {
     "name": "stdout",
     "output_type": "stream",
     "text": [
      "Found stream LuminanceStream (Luminance) with data shape (81675, 5)\n",
      "Found stream ExperimentStream (Experiment) with data shape (88, 6)\n",
      "Found stream SurveyStream (Survey) with data shape (26, 6)\n",
      "Found stream GazeStream (Gaze) with data shape (132387, 17)\n",
      "Found stream TrackedPoseStream (Pose) with data shape (128717, 25)\n",
      "Found stream NavigationStream (Navigation) with data shape (38492, 9)\n",
      "Found stream CreationStream (Creation) with data shape (94, 7)\n",
      "Found stream PoseStream (Pose) with data shape (128717, 25)\n"
     ]
    }
   ],
   "source": [
    "streams, header = pyxdf.load_xdf('./Path_Data/ID_100.xdf')\n",
    "for strm in streams:\n",
    "    print(f\"Found stream {strm['info']['name'][0]} ({strm['info']['type'][0]}) with data shape \"\n",
    "          f\"{np.array(strm['time_series']).shape}\")\n",
    "\n",
    "stream_names = [strm['info']['name'][0] for strm in streams]\n",
    "stream_types = [strm['info']['type'][0] for strm in streams]\n",
    "\n",
    "luminance_idx = stream_types.index('Luminance')\n",
    "luminance_tvec = streams[luminance_idx]['time_stamps']\n",
    "\n",
    "exp_idx = stream_types.index('Experiment')\n",
    "exp_tvec = streams[exp_idx]['time_stamps']\n",
    "\n",
    "survey_idx = stream_types.index('Survey')\n",
    "survey_tvec = streams[survey_idx]['time_stamps']\n",
    "\n",
    "gaze_idx = stream_types.index('Gaze')\n",
    "gaze_tvec = streams[gaze_idx]['time_stamps']\n",
    "\n",
    "pose_idx = stream_names.index('PoseStream')\n",
    "pose_tvec = streams[pose_idx]['time_stamps']\n",
    "\n",
    "nav_idx = stream_types.index('Navigation')\n",
    "nav_tvec = streams[nav_idx]['time_stamps']\n",
    "\n",
    "creation_idx = stream_types.index('Creation')\n",
    "creation_tvec = streams[creation_idx]['time_stamps']\n",
    "\n",
    "tracked_idx = stream_names.index('TrackedPoseStream')\n",
    "tracked_tvec = streams[tracked_idx]['time_stamps']"
   ]
  },
  {
   "cell_type": "code",
   "execution_count": 7,
   "metadata": {},
   "outputs": [
    {
     "name": "stdout",
     "output_type": "stream",
     "text": [
      "Nominal srate: 0.000 Hz\tEst. Srate: 91.304 Hz\n"
     ]
    }
   ],
   "source": [
    "nominal_srate = float(streams[gaze_idx]['info']['nominal_srate'][0])\n",
    "est_srate = 1 / np.median(np.diff(gaze_tvec))\n",
    "print(f\"Nominal srate: {nominal_srate:.3f} Hz\\tEst. Srate: {est_srate:.3f} Hz\")\n",
    "\n",
    "chan_labels = [_['label'][0] for _ in streams[gaze_idx]['info']['desc'][0]['channels'][0]['channel']]\n",
    "\n",
    "#Create an array of all channels where the label starts with \"GazeOrigin\"\n",
    "b_gaze_origin = [chan.startswith('GazeOrigin') for chan in chan_labels]\n",
    "gaze_origin_dat = streams[gaze_idx]['time_series'][:, b_gaze_origin]\n",
    "\n",
    "#Create a mask of b_gaze_origin using the \"GazeRayIsValid\" channel\n",
    "b_gaze_origin = [_.startswith('GazeOrigin') for _ in chan_labels]\n",
    "gaze_origin_dat = streams[gaze_idx]['time_series'][:, b_gaze_origin]\n",
    "b_gaze_dir = [_.startswith('GazeDirectionNormalized') for _ in chan_labels]\n",
    "gaze_dir_dat = streams[gaze_idx]['time_series'][:, b_gaze_dir]\n",
    "\n",
    "b_valid = streams[gaze_idx]['time_series'][:, chan_labels.index('GazeRayIsValid')] > 0.0\n",
    "\n",
    "# plt.figure(figsize=(6, 8))\n",
    "# plt.subplot(2, 1, 1)\n",
    "# plt.plot(gaze_tvec[b_valid] - gaze_tvec[0], gaze_origin_dat[b_valid])\n",
    "# plt.title('Gaze Origin')\n",
    "# plt.subplot(2, 1, 2)\n",
    "# plt.plot(gaze_tvec[b_valid] - gaze_tvec[0], gaze_dir_dat[b_valid])\n",
    "# plt.title('Gaze Direction')\n",
    "# plt.show()"
   ]
  },
  {
   "cell_type": "code",
   "execution_count": 11,
   "metadata": {},
   "outputs": [
    {
     "name": "stdout",
     "output_type": "stream",
     "text": [
      "['UserID', 'BlockID', 'ModelID', 'MethodID', 'Luminance']\n"
     ]
    },
    {
     "data": {
      "image/png": "[encoded data removed]",
      "text/plain": [
       "<Figure size 640x480 with 1 Axes>"
      ]
     },
     "metadata": {},
     "output_type": "display_data"
    }
   ],
   "source": [
    "#get nominal and estimated sampling rates for each stream\n",
    "nominal_srates = [float(_['info']['nominal_srate'][0]) for _ in streams]\n",
    "est_srates = [1 / np.median(np.diff(_['time_stamps'])) for _ in streams]\n",
    "\n",
    "#get the channel labels for the luminance stream\n",
    "chan_lum = [_['label'][0] for _ in streams[luminance_idx]['info']['desc'][0]['channels'][0]['channel']] \n",
    "#print(chan_lum)\n",
    "\n",
    "#get the index of the luminance channel label in the luminance stream\n",
    "b_luminance = [chan.startswith('Luminance') for chan in chan_lum]\n",
    "luminance = streams[luminance_idx]['time_series'][:, b_luminance]\n",
    "\n",
    "#plot the luminance values\n",
    "plt.figure()\n",
    "plt.plot(luminance_tvec, luminance)\n",
    "plt.xlabel('Time (s)')\n",
    "plt.ylabel('Luminance')\n",
    "plt.title('Luminance')\n",
    "plt.show()\n",
    "\n"
   ]
  }
 ],
 "metadata": {
  "kernelspec": {
   "display_name": ".venv",
   "language": "python",
   "name": "python3"
  },
  "language_info": {
   "codemirror_mode": {
    "name": "ipython",
    "version": 3
   },
   "file_extension": ".py",
   "mimetype": "text/x-python",
   "name": "python",
   "nbconvert_exporter": "python",
   "pygments_lexer": "ipython3",
   "version": "3.11.7"
  }
 },
 "nbformat": 4,
 "nbformat_minor": 2
}
