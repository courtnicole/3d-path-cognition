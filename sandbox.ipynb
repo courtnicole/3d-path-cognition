{
 "cells": [
  {
   "cell_type": "markdown",
   "metadata": {},
   "source": [
    "## Imports"
   ]
  },
  {
   "cell_type": "code",
   "execution_count": 3,
   "metadata": {},
   "outputs": [],
   "source": [
    "import pyxdf \n",
    "import numpy as np\n",
    "import matplotlib.pyplot as plt\n",
    "import pandas as pd\n",
    "from lmfit.models import Model\n",
    "from scipy import stats\n",
    "import pywt\n",
    "import math"
   ]
  },
  {
   "cell_type": "markdown",
   "metadata": {},
   "source": [
    "## Function Definitions\n",
    "\n",
    "Predicted pupil dilation, $d(Y)$, caused by luminance $Y$, is computed with the following equation: $𝑑(𝑌) = 𝑎 · 𝑒^{−𝑏·𝑌} + c$"
   ]
  },
  {
   "cell_type": "code",
   "execution_count": 4,
   "metadata": {},
   "outputs": [],
   "source": [
    "def pupil_func(x, a, b, c):\n",
    "    return a * np.exp(-b * x) + c"
   ]
  },
  {
   "cell_type": "code",
   "execution_count": 5,
   "metadata": {},
   "outputs": [],
   "source": [
    "def import_data(file):\n",
    "    streams, header = pyxdf.load_xdf(file)\n",
    "    dfs = {}\n",
    "    for stream in streams:\n",
    "        stream_name = stream['info']['name'][0]\n",
    "        stream_channels = {channel['label'][0]: i for i, channel in enumerate(stream['info']['desc'][0]['channels'][0]['channel'])}\n",
    "        stream_data = stream['time_series']\n",
    "        data_dict = {key: np.array(stream_data)[:, index] for key, index in stream_channels.items()}\n",
    "        data_dict['time'] = np.round(np.array(stream['time_stamps']), decimals=4)\n",
    "        dfs[stream_name] = pd.DataFrame(data_dict).drop_duplicates(subset=['time']).reset_index(drop=True)\n",
    "    return dfs"
   ]
  },
  {
   "cell_type": "code",
   "execution_count": 6,
   "metadata": {},
   "outputs": [],
   "source": [
    "accom_time = pd.to_timedelta(0.5, unit='s')"
   ]
  },
  {
   "cell_type": "code",
   "execution_count": 7,
   "metadata": {},
   "outputs": [],
   "source": [
    "def process_gaze_luminance_data(stream_df):\n",
    "    pupil = stream_df['GazeStream'].loc[(stream_df['GazeStream']['LeftEyeIsBlinking'] == 0) & (stream_df['GazeStream']['RightEyeIsBlinking'] == 0) & (stream_df['GazeStream']['LeftPupilDiameter'] > 0) & (stream_df['GazeStream']['RightPupilDiameter'] > 0), ['time', 'MethodID', 'ModelID', 'LeftPupilDiameter', 'RightPupilDiameter']]\n",
    "    pupil['time'] = pd.to_timedelta(pupil['time'], unit='s')\n",
    "\n",
    "    lum = stream_df['LuminanceStream'].loc[:, ['time', 'MethodID', 'ModelID', 'Luminance']]\n",
    "    lum['time'] = pd.to_timedelta(lum['time'], unit='s')\n",
    "\n",
    "    # Intersection of time stamps\n",
    "    pupil_lum_time_intersection = np.intersect1d(pupil['time'], lum['time'])\n",
    "\n",
    "    # Filter pupil and luminance data by intersection\n",
    "    pupil = pupil[pupil['time'].isin(pupil_lum_time_intersection)].reset_index(drop=True)\n",
    "    lum = lum[lum['time'].isin(pupil_lum_time_intersection)].reset_index(drop=True)\n",
    "\n",
    "    # Combined DataFrame for pupil and luminance\n",
    "    pupil_lum = pd.DataFrame({\n",
    "        'time': pd.to_timedelta(lum['time'], unit='s'),\n",
    "        'luminance': lum['Luminance'],\n",
    "        'pupilDiameter': 0.5 * (pupil['LeftPupilDiameter'] + pupil['RightPupilDiameter']),\n",
    "        'methodID': pupil['MethodID'],\n",
    "        'modelID': pupil['ModelID']\n",
    "    }).resample('0.01s', on='time').mean()\n",
    "\n",
    "    pupil_lum['time'] = pupil_lum.index\n",
    "\n",
    "    return pupil_lum"
   ]
  },
  {
   "cell_type": "code",
   "execution_count": 8,
   "metadata": {},
   "outputs": [],
   "source": [
    "def process_calibration_data(pupil_lum_df, stream_df):\n",
    "    calibration_events = stream_df['ExperimentStream'].loc[(stream_df['ExperimentStream']['EventType'] == 'CalibrationColorChange') | (stream_df['ExperimentStream']['SceneEvent'] == 'Calibration') | (stream_df['ExperimentStream']['SceneEvent'] == 'CalibrationComplete'), ['time','SceneEvent', 'EventType']]\n",
    "    calibration_events['time'] = pd.to_timedelta(calibration_events['time'], unit='s')\n",
    "    c_start_times = calibration_events[:8]['time']\n",
    "    c_end_times = calibration_events[1:]['time']\n",
    "    c_start_times.reset_index(drop=True, inplace=True)\n",
    "    c_end_times.reset_index(drop=True, inplace=True)\n",
    "\n",
    "    calib_data = {}\n",
    "    for i in range(8):\n",
    "        calib_data[i] = pupil_lum_df.loc[(pupil_lum_df['time'] >= c_start_times[i]) & (pupil_lum_df['time'] <= c_end_times[i]), ['time','luminance', 'pupilDiameter']]\n",
    "        calib_data[i]['time'] -= calib_data[i]['time'].iloc[0]\n",
    "        calib_data[i] = calib_data[i].loc[(calib_data[i]['time'] >= accom_time), ['luminance', 'pupilDiameter']]\n",
    "\n",
    "    calibration_data = pd.concat(calib_data).groupby(level=0).mean().sort_values(by=['luminance']).reset_index(drop=True)\n",
    "    return calibration_data"
   ]
  },
  {
   "cell_type": "code",
   "execution_count": 9,
   "metadata": {},
   "outputs": [],
   "source": [
    "def process_navigation_data(pupil_lum_df, stream_df, a, b, c):\n",
    "    navigation_events = stream_df['ExperimentStream'].loc[(stream_df['ExperimentStream']['SceneEvent'] == 'NavigationComplete') | (stream_df['ExperimentStream']['SceneEvent'] == 'Navigation_Trial'), ['time','SceneEvent', 'EventType', 'ModelID', 'MethodID']]\n",
    "    navigation_events['time'] = pd.to_timedelta(navigation_events['time'], unit='s')\n",
    "    nav_start_times = navigation_events.loc[navigation_events['SceneEvent'] == 'Navigation_Trial', 'time']\n",
    "    nav_end_times = navigation_events.loc[navigation_events['SceneEvent'] == 'NavigationComplete', 'time']\n",
    "\n",
    "    nav_start_times.reset_index(drop=True, inplace=True)\n",
    "    nav_end_times.reset_index(drop=True, inplace=True)\n",
    "\n",
    "    #Correct for occasions when Unity emitted multiple SceneLoaded events for a single trial\n",
    "    if len(nav_start_times) > 8:\n",
    "        nav_diff = nav_start_times.diff().dt.total_seconds()\n",
    "        nav_start_times = nav_start_times.loc[(nav_diff.isnull()) | (nav_diff > 3)]\n",
    "\n",
    "    nav_start_times.reset_index(drop=True, inplace=True)\n",
    "    nav_end_times.reset_index(drop=True, inplace=True)\n",
    "\n",
    "    nav_data = {}\n",
    "    for i in range(8):\n",
    "        nav_data[i] = pupil_lum_df.loc[(pupil_lum_df['time']>=nav_start_times.loc[i]) & (pupil_lum_df['time']<=nav_end_times.loc[i]), ['time', 'methodID', 'modelID', 'luminance', 'pupilDiameter']]\n",
    "        nav_data[i].set_index('time', inplace=True, drop=False)\n",
    "\n",
    "    navigation_data = pd.concat(nav_data, names=['trial'])\n",
    "    navigation_data = navigation_data.groupby(level=0).resample('0.01s', on='time', ).mean()\n",
    "    navigation_data['plr'] = pupil_func(navigation_data['luminance'], a, b, c)\n",
    "    navigation_data['tepr'] = navigation_data['pupilDiameter'] - navigation_data['plr']\n",
    "    \n",
    "    return navigation_data"
   ]
  },
  {
   "cell_type": "code",
   "execution_count": 10,
   "metadata": {},
   "outputs": [],
   "source": [
    "def modmax(d):\n",
    "    # compute signal modulus\n",
    "    m = [0.0]*len(d)\n",
    "    for i in range(len(d)):\n",
    "        m[i] = math.fabs(d[i])\n",
    "    # if value is larger than both neighbours , and strictly larger than either , then it is a local maximum\n",
    "    t = [0.0]*len(d)\n",
    "    for i in range(len(d)):\n",
    "        ll = m[i -1] if i >= 1 else m[i]\n",
    "        oo = m[i]\n",
    "        rr = m[i+1] if i < len(d)-2 else m[i]\n",
    "        if (ll <= oo and oo >= rr) and (ll < oo or oo > rr):\n",
    "        # compute magnitude\n",
    "            t[i] = math.sqrt(d[i]**2)\n",
    "        else:\n",
    "            t[i] = 0.0\n",
    "    return t"
   ]
  },
  {
   "cell_type": "code",
   "execution_count": 11,
   "metadata": {},
   "outputs": [],
   "source": [
    "def ipa(d):\n",
    "    # obtain 2-level DWT of pupil diameter signal d\n",
    "    try:\n",
    "        (cA2 ,cD2 ,cD1) = pywt.wavedec(d,'sym16', 'per', level=2)\n",
    "    except ValueError :\n",
    "        return\n",
    "    # get signal duration (in seconds)\n",
    "    tt = d.index[-1] - d.index[0]\n",
    "    # normalize by 1/2 j , j = 2 for 2-level DWT\n",
    "    cA2 [:] = [x / math.sqrt (4.0) for x in cA2]\n",
    "    cD1 [:] = [x / math.sqrt (2.0) for x in cD1]\n",
    "    cD2 [:] = [x / math.sqrt (4.0) for x in cD2]\n",
    "\n",
    "    # detect modulus maxima , see Listing 2\n",
    "    cD2m = modmax(cD2)\n",
    "    # threshold using universal threshold λuniv = σˆp(2logn)\n",
    "    # where σˆ is the standard deviation of the noise\n",
    "    λuniv = np.std(cD2m) * math.sqrt (2.0* np.log2(len(cD2m )))\n",
    "    cD2t = pywt. threshold (cD2m ,λuniv,mode=\"hard\")\n",
    "    # compute IPA\n",
    "    ctr = 0\n",
    "    for i in range(len(cD2t )):\n",
    "        if math.fabs(cD2t[i]) > 0: ctr += 1\n",
    "    IPA = float(ctr)/tt.total_seconds()\n",
    "\n",
    "    return IPA\n"
   ]
  },
  {
   "cell_type": "markdown",
   "metadata": {},
   "source": [
    "## Load Data\n",
    "\n",
    "Load the data from the xdf file for a single participant."
   ]
  },
  {
   "cell_type": "code",
   "execution_count": 12,
   "metadata": {},
   "outputs": [],
   "source": [
    "file = './Path_Data/ID_114.xdf'\n",
    "df = import_data(file)"
   ]
  },
  {
   "cell_type": "code",
   "execution_count": 13,
   "metadata": {},
   "outputs": [],
   "source": [
    "pupil = df['GazeStream'].loc[(df['GazeStream']['LeftEyeIsBlinking'] == 0) & (df['GazeStream']['RightEyeIsBlinking'] == 0) & (df['GazeStream']['LeftPupilDiameter'] > 0) & (df['GazeStream']['RightPupilDiameter'] > 0), ['time', 'MethodID', 'ModelID', 'LeftPupilDiameter', 'RightPupilDiameter']]\n",
    "pupil['time'] = pd.to_timedelta(pupil['time'], unit='s')\n",
    "\n",
    "lum = df['LuminanceStream'].loc[:, ['time', 'MethodID', 'ModelID', 'Luminance']]\n",
    "lum['time'] = pd.to_timedelta(lum['time'], unit='s')\n",
    "\n",
    "# Intersection of time stamps\n",
    "pupil_lum_time_intersection = np.intersect1d(pupil['time'], lum['time'])\n",
    "\n",
    "# Filter pupil and luminance data by intersection\n",
    "pupil = pupil[pupil['time'].isin(pupil_lum_time_intersection)].reset_index(drop=True)\n",
    "lum = lum[lum['time'].isin(pupil_lum_time_intersection)].reset_index(drop=True)\n",
    "\n",
    "# Combined DataFrame for pupil and luminance\n",
    "pupil_lum_df = pd.DataFrame({\n",
    "    'time': pd.to_timedelta(pupil_lum_time_intersection, unit='s'),\n",
    "    'luminance': lum['Luminance'],\n",
    "    'pupilDiameter': 0.5 * (pupil['LeftPupilDiameter'] + pupil['RightPupilDiameter']),\n",
    "    'methodID': pupil['MethodID'],\n",
    "    'modelID': pupil['ModelID']\n",
    "})\n"
   ]
  },
  {
   "cell_type": "code",
   "execution_count": 14,
   "metadata": {},
   "outputs": [],
   "source": [
    "calibration_events = df['ExperimentStream'].loc[(df['ExperimentStream']['EventType'] == 'CalibrationColorChange') | (df['ExperimentStream']['SceneEvent'] == 'Calibration') | (df['ExperimentStream']['SceneEvent'] == 'CalibrationComplete'), ['time','SceneEvent', 'EventType']]\n",
    "calibration_events['time'] = pd.to_timedelta(calibration_events['time'], unit='s')\n",
    "c_start_times = calibration_events[:8]['time']\n",
    "c_end_times = calibration_events[1:]['time']\n",
    "c_start_times.reset_index(drop=True, inplace=True)\n",
    "c_end_times.reset_index(drop=True, inplace=True)\n",
    "\n",
    "calib_data = {}\n",
    "for i in range(8):\n",
    "    calib_data[i] = pupil_lum_df.loc[(pupil_lum_df['time'] >= c_start_times[i]) & (pupil_lum_df['time'] <= c_end_times[i]), ['time','luminance', 'pupilDiameter']]\n",
    "    calib_data[i]['time'] -= calib_data[i]['time'].iloc[0]\n",
    "    calib_data[i] = calib_data[i].loc[(calib_data[i]['time'] >= accom_time), ['luminance', 'pupilDiameter']]\n",
    "\n",
    "calibration_data = pd.concat(calib_data).groupby(level=0).mean().sort_values(by=['luminance']).reset_index(drop=True)\n"
   ]
  },
  {
   "cell_type": "code",
   "execution_count": 15,
   "metadata": {},
   "outputs": [],
   "source": [
    "x_data = calibration_data['luminance']\n",
    "y_data = calibration_data['pupilDiameter']\n",
    "exp_mod = Model(pupil_func)\n",
    "params = exp_mod.make_params(a=1, b=4, c=0)\n",
    "result = exp_mod.fit(y_data, params, x=x_data)\n",
    "a = result.params['a'].value\n",
    "b = result.params['b'].value\n",
    "c = result.params['c'].value"
   ]
  },
  {
   "cell_type": "code",
   "execution_count": 126,
   "metadata": {},
   "outputs": [
    {
     "name": "stdout",
     "output_type": "stream",
     "text": [
      "0   0 days 23:40:32.816500\n",
      "1   0 days 23:46:29.833200\n",
      "2   0 days 23:41:43.825900\n",
      "3   0 days 23:47:50.628800\n",
      "4   0 days 23:42:56.892300\n",
      "5   0 days 23:48:47.933700\n",
      "6   0 days 23:44:07.401900\n",
      "7   0 days 23:50:06.562500\n",
      "Name: time, dtype: timedelta64[ns]\n",
      "                    time  ModelID MethodID\n",
      "0 0 days 23:41:28.288000      0.0        2\n",
      "1 0 days 23:42:44.773800      1.0        2\n",
      "2 0 days 23:43:54.695300      2.0        2\n",
      "3 0 days 23:45:09.681900      3.0        2\n",
      "4 0 days 23:47:38.365200      0.0        3\n",
      "5 0 days 23:48:35.671900      1.0        3\n",
      "6 0 days 23:49:53.845200      2.0        3\n",
      "7 0 days 23:50:48.341400      3.0        3\n"
     ]
    },
    {
     "ename": "ValueError",
     "evalue": "Can only compare identically-labeled Series objects",
     "output_type": "error",
     "traceback": [
      "\u001b[1;31m---------------------------------------------------------------------------\u001b[0m",
      "\u001b[1;31mValueError\u001b[0m                                Traceback (most recent call last)",
      "Cell \u001b[1;32mIn[126], line 21\u001b[0m\n\u001b[0;32m     16\u001b[0m nav_data \u001b[38;5;241m=\u001b[39m {}\n\u001b[0;32m     17\u001b[0m \u001b[38;5;28;01mfor\u001b[39;00m i \u001b[38;5;129;01min\u001b[39;00m \u001b[38;5;28mrange\u001b[39m(\u001b[38;5;241m8\u001b[39m):\n\u001b[0;32m     18\u001b[0m     nav_data[i] \u001b[38;5;241m=\u001b[39m pupil_lum_df\u001b[38;5;241m.\u001b[39mloc[(pupil_lum_df[\u001b[38;5;124m'\u001b[39m\u001b[38;5;124mluminance\u001b[39m\u001b[38;5;124m'\u001b[39m] \u001b[38;5;241m>\u001b[39m \u001b[38;5;241m0\u001b[39m) \n\u001b[0;32m     19\u001b[0m                                    \u001b[38;5;241m&\u001b[39m (pupil_lum_df[\u001b[38;5;124m'\u001b[39m\u001b[38;5;124mmodelID\u001b[39m\u001b[38;5;124m'\u001b[39m]\u001b[38;5;241m<\u001b[39m \u001b[38;5;241m4\u001b[39m)\n\u001b[0;32m     20\u001b[0m                                    \u001b[38;5;241m&\u001b[39m (pupil_lum_df[\u001b[38;5;124m'\u001b[39m\u001b[38;5;124mtime\u001b[39m\u001b[38;5;124m'\u001b[39m]\u001b[38;5;241m>\u001b[39mnav_start_times\u001b[38;5;241m.\u001b[39mloc[i]) \n\u001b[1;32m---> 21\u001b[0m                                    \u001b[38;5;241m&\u001b[39m (\u001b[43mpupil_lum_df\u001b[49m\u001b[43m[\u001b[49m\u001b[38;5;124;43m'\u001b[39;49m\u001b[38;5;124;43mtime\u001b[39;49m\u001b[38;5;124;43m'\u001b[39;49m\u001b[43m]\u001b[49m\u001b[38;5;241;43m<\u001b[39;49m\u001b[43mnav_end_times\u001b[49m\u001b[38;5;241;43m.\u001b[39;49m\u001b[43mloc\u001b[49m\u001b[43m[\u001b[49m\u001b[43mi\u001b[49m\u001b[43m]\u001b[49m), [\u001b[38;5;124m'\u001b[39m\u001b[38;5;124mtime\u001b[39m\u001b[38;5;124m'\u001b[39m, \u001b[38;5;124m'\u001b[39m\u001b[38;5;124mmethodID\u001b[39m\u001b[38;5;124m'\u001b[39m, \u001b[38;5;124m'\u001b[39m\u001b[38;5;124mmodelID\u001b[39m\u001b[38;5;124m'\u001b[39m, \u001b[38;5;124m'\u001b[39m\u001b[38;5;124mluminance\u001b[39m\u001b[38;5;124m'\u001b[39m, \u001b[38;5;124m'\u001b[39m\u001b[38;5;124mpupilDiameter\u001b[39m\u001b[38;5;124m'\u001b[39m]]\n\u001b[0;32m     22\u001b[0m     nav_data[i]\u001b[38;5;241m.\u001b[39mreset_index(\u001b[38;5;124m'\u001b[39m\u001b[38;5;124mtime\u001b[39m\u001b[38;5;124m'\u001b[39m, inplace\u001b[38;5;241m=\u001b[39m\u001b[38;5;28;01mTrue\u001b[39;00m, drop\u001b[38;5;241m=\u001b[39m\u001b[38;5;28;01mFalse\u001b[39;00m)\n\u001b[0;32m     25\u001b[0m navigation_data \u001b[38;5;241m=\u001b[39m pd\u001b[38;5;241m.\u001b[39mconcat(nav_data, names\u001b[38;5;241m=\u001b[39m[\u001b[38;5;124m'\u001b[39m\u001b[38;5;124mtrial\u001b[39m\u001b[38;5;124m'\u001b[39m])\n",
      "File \u001b[1;32mc:\\Users\\Courtney\\Documents\\CurrentStudy\\.venv\\Lib\\site-packages\\pandas\\core\\ops\\common.py:76\u001b[0m, in \u001b[0;36m_unpack_zerodim_and_defer.<locals>.new_method\u001b[1;34m(self, other)\u001b[0m\n\u001b[0;32m     72\u001b[0m             \u001b[38;5;28;01mreturn\u001b[39;00m \u001b[38;5;28mNotImplemented\u001b[39m\n\u001b[0;32m     74\u001b[0m other \u001b[38;5;241m=\u001b[39m item_from_zerodim(other)\n\u001b[1;32m---> 76\u001b[0m \u001b[38;5;28;01mreturn\u001b[39;00m \u001b[43mmethod\u001b[49m\u001b[43m(\u001b[49m\u001b[38;5;28;43mself\u001b[39;49m\u001b[43m,\u001b[49m\u001b[43m \u001b[49m\u001b[43mother\u001b[49m\u001b[43m)\u001b[49m\n",
      "File \u001b[1;32mc:\\Users\\Courtney\\Documents\\CurrentStudy\\.venv\\Lib\\site-packages\\pandas\\core\\arraylike.py:48\u001b[0m, in \u001b[0;36mOpsMixin.__lt__\u001b[1;34m(self, other)\u001b[0m\n\u001b[0;32m     46\u001b[0m \u001b[38;5;129m@unpack_zerodim_and_defer\u001b[39m(\u001b[38;5;124m\"\u001b[39m\u001b[38;5;124m__lt__\u001b[39m\u001b[38;5;124m\"\u001b[39m)\n\u001b[0;32m     47\u001b[0m \u001b[38;5;28;01mdef\u001b[39;00m \u001b[38;5;21m__lt__\u001b[39m(\u001b[38;5;28mself\u001b[39m, other):\n\u001b[1;32m---> 48\u001b[0m     \u001b[38;5;28;01mreturn\u001b[39;00m \u001b[38;5;28;43mself\u001b[39;49m\u001b[38;5;241;43m.\u001b[39;49m\u001b[43m_cmp_method\u001b[49m\u001b[43m(\u001b[49m\u001b[43mother\u001b[49m\u001b[43m,\u001b[49m\u001b[43m \u001b[49m\u001b[43moperator\u001b[49m\u001b[38;5;241;43m.\u001b[39;49m\u001b[43mlt\u001b[49m\u001b[43m)\u001b[49m\n",
      "File \u001b[1;32mc:\\Users\\Courtney\\Documents\\CurrentStudy\\.venv\\Lib\\site-packages\\pandas\\core\\series.py:6105\u001b[0m, in \u001b[0;36mSeries._cmp_method\u001b[1;34m(self, other, op)\u001b[0m\n\u001b[0;32m   6102\u001b[0m res_name \u001b[38;5;241m=\u001b[39m ops\u001b[38;5;241m.\u001b[39mget_op_result_name(\u001b[38;5;28mself\u001b[39m, other)\n\u001b[0;32m   6104\u001b[0m \u001b[38;5;28;01mif\u001b[39;00m \u001b[38;5;28misinstance\u001b[39m(other, Series) \u001b[38;5;129;01mand\u001b[39;00m \u001b[38;5;129;01mnot\u001b[39;00m \u001b[38;5;28mself\u001b[39m\u001b[38;5;241m.\u001b[39m_indexed_same(other):\n\u001b[1;32m-> 6105\u001b[0m     \u001b[38;5;28;01mraise\u001b[39;00m \u001b[38;5;167;01mValueError\u001b[39;00m(\u001b[38;5;124m\"\u001b[39m\u001b[38;5;124mCan only compare identically-labeled Series objects\u001b[39m\u001b[38;5;124m\"\u001b[39m)\n\u001b[0;32m   6107\u001b[0m lvalues \u001b[38;5;241m=\u001b[39m \u001b[38;5;28mself\u001b[39m\u001b[38;5;241m.\u001b[39m_values\n\u001b[0;32m   6108\u001b[0m rvalues \u001b[38;5;241m=\u001b[39m extract_array(other, extract_numpy\u001b[38;5;241m=\u001b[39m\u001b[38;5;28;01mTrue\u001b[39;00m, extract_range\u001b[38;5;241m=\u001b[39m\u001b[38;5;28;01mTrue\u001b[39;00m)\n",
      "\u001b[1;31mValueError\u001b[0m: Can only compare identically-labeled Series objects"
     ]
    }
   ],
   "source": [
    "nav_start_times = pd.to_timedelta(df['NavigationStream'].groupby(['ModelID', 'MethodID']).first()['time'], unit='s')\n",
    "nav_start_times.reset_index(drop=True, inplace=True)\n",
    "\n",
    "df['SurveyStream'] = df['SurveyStream'].replace(r'^\\s*$', np.nan, regex=True).dropna()\n",
    "df['SurveyStream']['ModelID'] = df['SurveyStream']['ModelID'].astype(float)\n",
    "\n",
    "nav_end_times = df['SurveyStream'].loc[(df['SurveyStream']['SurveyType'] == 'Discomfort') & (df['SurveyStream']['ModelID'] < 4), ['time', 'ModelID', 'MethodID']]\n",
    "nav_end_times.reset_index(drop=True, inplace=True)\n",
    "nav_end_times['time'] = pd.to_timedelta(nav_end_times['time'], unit='s') - pd.offsets.Second(3)\n",
    "\n",
    "nav_end_times.reset_index(drop=True, inplace=True)\n",
    "print(nav_start_times)\n",
    "print(nav_end_times)\n",
    "\n",
    "\n",
    "nav_data = {}\n",
    "for i in range(8):\n",
    "    nav_data[i] = pupil_lum_df.loc[(pupil_lum_df['luminance'] > 0) \n",
    "                                   & (pupil_lum_df['modelID']< 4)\n",
    "                                   & (pupil_lum_df['time']>nav_start_times.loc[i]) \n",
    "                                   & (pupil_lum_df['time']<nav_end_times.loc[i]), ['time', 'methodID', 'modelID', 'luminance', 'pupilDiameter']]\n",
    "    nav_data[i].reset_index('time', inplace=True, drop=False)\n",
    "\n",
    "\n",
    "navigation_data = pd.concat(nav_data, names=['trial'])\n",
    "navigation_data['plr'] = pupil_func(navigation_data['luminance'], a, b, c)\n",
    "navigation_data['adj_pupil_d'] = navigation_data['pupilDiameter'] - navigation_data['plr']"
   ]
  },
  {
   "cell_type": "code",
   "execution_count": 92,
   "metadata": {},
   "outputs": [
    {
     "name": "stdout",
     "output_type": "stream",
     "text": [
      "0\n",
      "2\n",
      "4\n",
      "6\n",
      "7\n"
     ]
    }
   ],
   "source": [
    "methodIds = []\n",
    "ipaVals = []\n",
    "\n",
    "d = navigation_data.groupby('trial')\n",
    "for name, group in d:\n",
    "    print(name)\n",
    "\n",
    "    \n",
    "\n"
   ]
  }
 ],
 "metadata": {
  "kernelspec": {
   "display_name": ".venv",
   "language": "python",
   "name": "python3"
  },
  "language_info": {
   "codemirror_mode": {
    "name": "ipython",
    "version": 3
   },
   "file_extension": ".py",
   "mimetype": "text/x-python",
   "name": "python",
   "nbconvert_exporter": "python",
   "pygments_lexer": "ipython3",
   "version": "3.11.7"
  }
 },
 "nbformat": 4,
 "nbformat_minor": 2
}
