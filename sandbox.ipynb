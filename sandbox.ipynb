{
 "cells": [
  {
   "cell_type": "markdown",
   "metadata": {},
   "source": [
    "## Imports"
   ]
  },
  {
   "cell_type": "code",
   "execution_count": 1,
   "metadata": {},
   "outputs": [],
   "source": [
    "import pyxdf \n",
    "import numpy as np\n",
    "import matplotlib.pyplot as plt\n",
    "import pandas as pd\n",
    "from lmfit.models import Model\n",
    "from os import listdir, getcwd\n",
    "from os.path import isfile, join\n",
    "from scipy import stats"
   ]
  },
  {
   "cell_type": "markdown",
   "metadata": {},
   "source": [
    "## Function Definitions\n",
    "\n",
    "Predicted pupil dilation, $d(Y)$, caused by luminance $Y$, is computed with the following equation: $𝑑(𝑌) = 𝑎 · 𝑒^{−𝑏·𝑌} + c$"
   ]
  },
  {
   "cell_type": "code",
   "execution_count": 39,
   "metadata": {},
   "outputs": [],
   "source": [
    "def pupil_func(x, a, b, c):\n",
    "    return a * np.exp(-b * x) + c"
   ]
  },
  {
   "cell_type": "markdown",
   "metadata": {},
   "source": [
    "## Load Data\n",
    "\n",
    "Load the data from the xdf file for a single participant."
   ]
  },
  {
   "cell_type": "code",
   "execution_count": 40,
   "metadata": {},
   "outputs": [],
   "source": [
    "streams, header = pyxdf.load_xdf('./Path_Data/ID_112.xdf')\n",
    "\n",
    "stream_df = {}\n",
    "for stream in streams:\n",
    "    stream_name = stream['info']['name'][0]\n",
    "    stream_channels = {channel['label'][0]: i for i, channel in enumerate(stream['info']['desc'][0]['channels'][0]['channel'])}\n",
    "    stream_data = stream['time_series']\n",
    "    data_dict = {key: np.array(stream_data)[:, index] for key, index in stream_channels.items()}\n",
    "    data_dict['time'] = np.round(np.array(stream['time_stamps']), decimals=4)\n",
    "    stream_df[stream_name] = pd.DataFrame(data_dict).drop_duplicates(subset=['time']).reset_index(drop=True)\n"
   ]
  },
  {
   "cell_type": "code",
   "execution_count": 41,
   "metadata": {},
   "outputs": [],
   "source": [
    "accom_time = pd.to_timedelta(0.5, unit='s')\n",
    "\n",
    "pupil = stream_df['GazeStream'].loc[(stream_df['GazeStream']['LeftEyeIsBlinking'] == 0) & (stream_df['GazeStream']['RightEyeIsBlinking'] == 0) & (stream_df['GazeStream']['LeftPupilDiameter'] > 0) & (stream_df['GazeStream']['RightPupilDiameter'] > 0), ['time', 'MethodID', 'ModelID', 'LeftPupilDiameter', 'RightPupilDiameter']]\n",
    "pupil['time'] = pd.to_timedelta(pupil['time'], unit='s')\n",
    "\n",
    "lum = stream_df['LuminanceStream'].loc[:, ['time', 'MethodID', 'ModelID', 'Luminance']]\n",
    "lum['time'] = pd.to_timedelta(lum['time'], unit='s')\n",
    "\n",
    "# Intersection of time stamps\n",
    "pupil_lum_time_intersection = np.intersect1d(pupil['time'], lum['time'])\n",
    "\n",
    "# Filter pupil and luminance data by intersection\n",
    "pupil = pupil[pupil['time'].isin(pupil_lum_time_intersection)].reset_index(drop=True)\n",
    "lum = lum[lum['time'].isin(pupil_lum_time_intersection)].reset_index(drop=True)\n",
    "\n",
    "# Combined DataFrame for pupil and luminance\n",
    "pupil_lum_df = pd.DataFrame({\n",
    "    'time': pd.to_timedelta(lum['time'], unit='s'),\n",
    "    'luminance': lum['Luminance'],\n",
    "    'pupilDiameter': 0.5 * (pupil['LeftPupilDiameter'] + pupil['RightPupilDiameter']),\n",
    "    'methodID': pupil['MethodID'],\n",
    "    'modelID': pupil['ModelID']\n",
    "}).resample('0.1s', on='time').mean()\n",
    "\n",
    "pupil_lum_df['time'] = pupil_lum_df.index"
   ]
  },
  {
   "cell_type": "code",
   "execution_count": 42,
   "metadata": {},
   "outputs": [],
   "source": [
    "calibration_events = stream_df['ExperimentStream'].loc[(stream_df['ExperimentStream']['EventType'] == 'CalibrationColorChange') | (stream_df['ExperimentStream']['SceneEvent'] == 'Calibration') | (stream_df['ExperimentStream']['SceneEvent'] == 'CalibrationComplete'), ['time','SceneEvent', 'EventType']]\n",
    "calibration_events['time'] = pd.to_timedelta(calibration_events['time'], unit='s')\n",
    "c_start_times = calibration_events[:8]['time']\n",
    "c_end_times = calibration_events[1:]['time']\n",
    "c_start_times.reset_index(drop=True, inplace=True)\n",
    "c_end_times.reset_index(drop=True, inplace=True)\n",
    "\n",
    "calib_data = {}\n",
    "for i in range(8):\n",
    "    calib_data[i] = pupil_lum_df.loc[(pupil_lum_df['time'] >= c_start_times[i]) & (pupil_lum_df['time'] <= c_end_times[i]), ['time','luminance', 'pupilDiameter']]\n",
    "    calib_data[i]['time'] -= calib_data[i]['time'].iloc[0]\n",
    "    calib_data[i] = calib_data[i].loc[(calib_data[i]['time'] >= accom_time), ['luminance', 'pupilDiameter']]\n",
    "\n",
    "calibration_data = pd.concat(calib_data).groupby(level=0).mean().sort_values(by=['luminance']).reset_index(drop=True)"
   ]
  },
  {
   "cell_type": "code",
   "execution_count": 43,
   "metadata": {},
   "outputs": [],
   "source": [
    "x_data = calibration_data['luminance']\n",
    "y_data = calibration_data['pupilDiameter']\n",
    "\n",
    "exp_mod = Model(pupil_func)\n",
    "params = exp_mod.make_params(a=1, b=4, c=0)\n",
    "\n",
    "result = exp_mod.fit(y_data, params, x=x_data)\n",
    "a = result.params['a'].value\n",
    "b = result.params['b'].value\n",
    "c = result.params['c'].value\n",
    "\n",
    "# plt.plot(x_data, y_data, 'o')\n",
    "# plt.plot(x_data, result.init_fit, '--', label='initial fit')\n",
    "# plt.plot(x_data, result.best_fit, '-', label='best fit')\n",
    "# plt.legend()\n",
    "# plt.show()"
   ]
  },
  {
   "cell_type": "code",
   "execution_count": 46,
   "metadata": {},
   "outputs": [
    {
     "name": "stdout",
     "output_type": "stream",
     "text": [
      "0   3 days 22:44:03.972200\n",
      "1   3 days 22:45:36.378700\n",
      "2   3 days 22:46:54.391600\n",
      "3   3 days 22:48:26.961600\n",
      "4   3 days 22:50:58.102500\n",
      "5   3 days 22:52:49.317400\n",
      "6   3 days 22:54:06.476600\n",
      "7   3 days 22:55:32.295600\n",
      "Name: time, dtype: timedelta64[ns]\n",
      "0         NaN\n",
      "1     92.4065\n",
      "2     78.0129\n",
      "3     92.5700\n",
      "4    151.1409\n",
      "5      1.7708\n",
      "6    109.4441\n",
      "7     77.1592\n",
      "8     85.8190\n",
      "Name: time, dtype: float64\n"
     ]
    }
   ],
   "source": [
    "navigation_events = stream_df['ExperimentStream'].loc[(stream_df['ExperimentStream']['SceneEvent'] == 'NavigationComplete') | (stream_df['ExperimentStream']['SceneEvent'] == 'Navigation_Trial'), ['time','SceneEvent', 'EventType', 'ModelID', 'MethodID']]\n",
    "navigation_events['time'] = pd.to_timedelta(navigation_events['time'], unit='s')\n",
    "nav_start_times = navigation_events.loc[navigation_events['SceneEvent'] == 'Navigation_Trial', 'time']\n",
    "nav_end_times = navigation_events.loc[navigation_events['SceneEvent'] == 'NavigationComplete', 'time']\n",
    "\n",
    "nav_start_times.reset_index(drop=True, inplace=True)\n",
    "nav_end_times.reset_index(drop=True, inplace=True)\n",
    "\n",
    "#check time difference between each start time\n",
    "if len(nav_start_times) > 8:\n",
    "    nav_diff = nav_start_times.diff().dt.total_seconds()\n",
    "    nav_start_times = nav_start_times.loc[(nav_diff.isnull()) | (nav_diff > 3)]\n",
    "\n",
    "nav_start_times.reset_index(drop=True, inplace=True)\n",
    "nav_end_times.reset_index(drop=True, inplace=True)\n",
    "\n",
    "nav_data = {}\n",
    "for i in range(8):\n",
    "    nav_data[i] = pupil_lum_df.loc[(pupil_lum_df['time']>=nav_start_times.loc[i]) & (pupil_lum_df['time']<=nav_end_times.loc[i]), ['time', 'methodID', 'modelID', 'luminance', 'pupilDiameter']]\n",
    "    nav_data[i].set_index('time', inplace=True, drop=False)\n",
    "\n",
    "navigation_data = pd.concat(nav_data, names=['trial'])\n",
    "navigation_data = navigation_data.groupby(level=0).resample('0.5s', on='time', ).mean()\n",
    "navigation_data['plr'] = pupil_func(navigation_data['luminance'], a, b, c)\n",
    "navigation_data['tepr'] = navigation_data['pupilDiameter'] - navigation_data['plr']\n"
   ]
  },
  {
   "cell_type": "code",
   "execution_count": null,
   "metadata": {},
   "outputs": [],
   "source": [
    "# navigation_events = dfs['ExperimentStream'].loc[(dfs['ExperimentStream']['SceneEvent'] == 'NavigationComplete') | (dfs['ExperimentStream']['SceneEvent'] == 'Navigation_Trial'), ['time','SceneEvent', 'EventType', 'ModelID', 'MethodID']]\n",
    "# navigation_events.reset_index(drop=True, inplace=True)\n",
    "# navigation_events['time'] = pd.to_timedelta(navigation_events['time'], unit='s')\n",
    "# start_times = navigation_events.loc[navigation_events['SceneEvent'] == 'Navigation_Trial', 'time']\n",
    "# start_times.reset_index(drop=True, inplace=True)\n",
    "# end_times = navigation_events.loc[navigation_events['SceneEvent'] == 'NavigationComplete', 'time']\n",
    "# end_times.reset_index(drop=True, inplace=True)\n",
    "\n",
    "# nav_data = {}\n",
    "# for i in range(8):\n",
    "#     nav_data[i] = pup_lum_df.loc[(pup_lum_df['time']>=start_times.loc[i]) & (pup_lum_df['time']<=end_times.loc[i]), ['time', 'methodID', 'modelID', 'luminance', 'pupilDiameter']]\n",
    "#     nav_data[i].set_index('time', inplace=True, drop=False)\n",
    "\n",
    "# navigation_data = pd.concat(nav_data, names=['trial'])\n",
    "# navigation_data = navigation_data.groupby(level=0).resample('0.5s', on='time', ).mean()\n",
    "# navigation_data['plr'] = pupil_func(navigation_data['luminance'], a, b, c)\n",
    "# navigation_data['tepr'] = navigation_data['pupilDiameter'] - navigation_data['plr']\n",
    "\n",
    "# navigation_avg = navigation_data.groupby(level=0).mean()\n",
    "# navigation_avg.drop(columns=['luminance'], inplace=True)\n",
    "\n",
    "# models = navigation_avg.reset_index(drop=True)\n",
    "# model_avg = models.groupby(['modelID']).mean()\n",
    "# model_avg.drop(columns=['methodID'], inplace=True)\n",
    "\n",
    "# methods = navigation_avg.reset_index(drop=True)\n",
    "# method_avg = methods.groupby(['methodID']).mean()\n",
    "# method_avg.drop(columns=['modelID'], inplace=True)\n"
   ]
  },
  {
   "cell_type": "code",
   "execution_count": null,
   "metadata": {},
   "outputs": [],
   "source": [
    "# idx = 1\n",
    "\n",
    "# for i in range(8):\n",
    "#     nav_data[i] = nav_data[i].resample('0.5s', origin='start').mean()\n",
    "\n",
    "# lum_nav = nav_data[idx]['Luminance']\n",
    "# pupil_nav = nav_data[idx]['pupilDiameter']\n",
    "\n",
    "# plr = pd.DataFrame(pupil_func(lum_nav, a, b, c))\n",
    "# plr['time'] = plr.index\n",
    "# plr.rename(columns={\"Luminance\": \"pupilDiameter\"}, inplace=True)\n",
    "# plr.reset_index(drop=True, inplace=True)\n",
    "\n",
    "# predicted_plr = pd.DataFrame(columns=['pupilDiameter'])\n",
    "# for t in range(len(plr)):\n",
    "#     if t==0:\n",
    "#         predicted_plr.loc[t, \"pupilDiameter\"] = plr.loc[t,'pupilDiameter']\n",
    "#     else:\n",
    "#         predicted_plr.loc[t, \"pupilDiameter\"] = plr.loc[t-1,'pupilDiameter']\n",
    "# predicted_plr['time'] = plr['time']\n",
    "# predicted_plr.set_index('time', inplace=True)\n",
    "\n",
    "# plot_dif = pupil_nav - predicted_plr['pupilDiameter']\n",
    "\n",
    "# x_data = pupil_nav.index\n",
    "\n",
    "# plt.plot(x_data, predicted_plr['pupilDiameter'], '--', label='predicted')\n",
    "# plt.plot(x_data, pupil_nav, '--', label='actual')\n",
    "# plt.plot(x_data, plot_dif, '-', label='difference')\n",
    "# plt.legend()\n"
   ]
  }
 ],
 "metadata": {
  "kernelspec": {
   "display_name": ".venv",
   "language": "python",
   "name": "python3"
  },
  "language_info": {
   "codemirror_mode": {
    "name": "ipython",
    "version": 3
   },
   "file_extension": ".py",
   "mimetype": "text/x-python",
   "name": "python",
   "nbconvert_exporter": "python",
   "pygments_lexer": "ipython3",
   "version": "3.11.7"
  }
 },
 "nbformat": 4,
 "nbformat_minor": 2
}
