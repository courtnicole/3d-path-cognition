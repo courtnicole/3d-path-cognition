{
 "cells": [
  {
   "cell_type": "markdown",
   "metadata": {},
   "source": [
    "## Imports"
   ]
  },
  {
   "cell_type": "code",
   "execution_count": 12,
   "metadata": {},
   "outputs": [],
   "source": [
    "import pyxdf \n",
    "import numpy as np\n",
    "import matplotlib.pyplot as plt\n",
    "import pandas as pd\n",
    "from lmfit.models import Model\n",
    "from scipy import stats\n",
    "import pywt\n",
    "import math"
   ]
  },
  {
   "cell_type": "markdown",
   "metadata": {},
   "source": [
    "## Function Definitions\n",
    "\n",
    "Predicted pupil dilation, $d(Y)$, caused by luminance $Y$, is computed with the following equation: $𝑑(𝑌) = 𝑎 · 𝑒^{−𝑏·𝑌} + c$"
   ]
  },
  {
   "cell_type": "code",
   "execution_count": 1,
   "metadata": {},
   "outputs": [],
   "source": [
    "def pupil_func(x, a, b, c):\n",
    "    return a * np.exp(-b * x) + c"
   ]
  },
  {
   "cell_type": "code",
   "execution_count": 3,
   "metadata": {},
   "outputs": [],
   "source": [
    "def import_data(file):\n",
    "    streams, header = pyxdf.load_xdf(file)\n",
    "    dfs = {}\n",
    "    for stream in streams:\n",
    "        stream_name = stream['info']['name'][0]\n",
    "        stream_channels = {channel['label'][0]: i for i, channel in enumerate(stream['info']['desc'][0]['channels'][0]['channel'])}\n",
    "        stream_data = stream['time_series']\n",
    "        data_dict = {key: np.array(stream_data)[:, index] for key, index in stream_channels.items()}\n",
    "        data_dict['time'] = np.round(np.array(stream['time_stamps']), decimals=4)\n",
    "        dfs[stream_name] = pd.DataFrame(data_dict).drop_duplicates(subset=['time']).reset_index(drop=True)\n",
    "    return dfs"
   ]
  },
  {
   "cell_type": "code",
   "execution_count": 4,
   "metadata": {},
   "outputs": [],
   "source": [
    "accom_time = pd.to_timedelta(0.5, unit='s')"
   ]
  },
  {
   "cell_type": "code",
   "execution_count": 5,
   "metadata": {},
   "outputs": [],
   "source": [
    "def process_gaze_luminance_data(stream_df):\n",
    "    pupil = stream_df['GazeStream'].loc[(stream_df['GazeStream']['LeftEyeIsBlinking'] == 0) & (stream_df['GazeStream']['RightEyeIsBlinking'] == 0) & (stream_df['GazeStream']['LeftPupilDiameter'] > 0) & (stream_df['GazeStream']['RightPupilDiameter'] > 0), ['time', 'MethodID', 'ModelID', 'LeftPupilDiameter', 'RightPupilDiameter']]\n",
    "    pupil['time'] = pd.to_timedelta(pupil['time'], unit='s')\n",
    "\n",
    "    lum = stream_df['LuminanceStream'].loc[:, ['time', 'MethodID', 'ModelID', 'Luminance']]\n",
    "    lum['time'] = pd.to_timedelta(lum['time'], unit='s')\n",
    "\n",
    "    # Intersection of time stamps\n",
    "    pupil_lum_time_intersection = np.intersect1d(pupil['time'], lum['time'])\n",
    "\n",
    "    # Filter pupil and luminance data by intersection\n",
    "    pupil = pupil[pupil['time'].isin(pupil_lum_time_intersection)].reset_index(drop=True)\n",
    "    lum = lum[lum['time'].isin(pupil_lum_time_intersection)].reset_index(drop=True)\n",
    "\n",
    "    # Combined DataFrame for pupil and luminance\n",
    "    pupil_lum = pd.DataFrame({\n",
    "        'time': pd.to_timedelta(lum['time'], unit='s'),\n",
    "        'luminance': lum['Luminance'],\n",
    "        'pupilDiameter': 0.5 * (pupil['LeftPupilDiameter'] + pupil['RightPupilDiameter']),\n",
    "        'methodID': pupil['MethodID'],\n",
    "        'modelID': pupil['ModelID']\n",
    "    }).resample('0.01s', on='time').mean()\n",
    "\n",
    "    pupil_lum['time'] = pupil_lum.index\n",
    "\n",
    "    return pupil_lum"
   ]
  },
  {
   "cell_type": "code",
   "execution_count": 6,
   "metadata": {},
   "outputs": [],
   "source": [
    "def process_calibration_data(pupil_lum_df, stream_df):\n",
    "    calibration_events = stream_df['ExperimentStream'].loc[(stream_df['ExperimentStream']['EventType'] == 'CalibrationColorChange') | (stream_df['ExperimentStream']['SceneEvent'] == 'Calibration') | (stream_df['ExperimentStream']['SceneEvent'] == 'CalibrationComplete'), ['time','SceneEvent', 'EventType']]\n",
    "    calibration_events['time'] = pd.to_timedelta(calibration_events['time'], unit='s')\n",
    "    c_start_times = calibration_events[:8]['time']\n",
    "    c_end_times = calibration_events[1:]['time']\n",
    "    c_start_times.reset_index(drop=True, inplace=True)\n",
    "    c_end_times.reset_index(drop=True, inplace=True)\n",
    "\n",
    "    calib_data = {}\n",
    "    for i in range(8):\n",
    "        calib_data[i] = pupil_lum_df.loc[(pupil_lum_df['time'] >= c_start_times[i]) & (pupil_lum_df['time'] <= c_end_times[i]), ['time','luminance', 'pupilDiameter']]\n",
    "        calib_data[i]['time'] -= calib_data[i]['time'].iloc[0]\n",
    "        calib_data[i] = calib_data[i].loc[(calib_data[i]['time'] >= accom_time), ['luminance', 'pupilDiameter']]\n",
    "\n",
    "    calibration_data = pd.concat(calib_data).groupby(level=0).mean().sort_values(by=['luminance']).reset_index(drop=True)\n",
    "    return calibration_data"
   ]
  },
  {
   "cell_type": "code",
   "execution_count": 62,
   "metadata": {},
   "outputs": [],
   "source": [
    "def process_navigation_data(pupil_lum_df, stream_df, a, b, c):\n",
    "    navigation_events = stream_df['ExperimentStream'].loc[(stream_df['ExperimentStream']['SceneEvent'] == 'NavigationComplete') | (stream_df['ExperimentStream']['SceneEvent'] == 'Navigation_Trial'), ['time','SceneEvent', 'EventType', 'ModelID', 'MethodID']]\n",
    "    navigation_events['time'] = pd.to_timedelta(navigation_events['time'], unit='s')\n",
    "    nav_start_times = navigation_events.loc[navigation_events['SceneEvent'] == 'Navigation_Trial', 'time']\n",
    "    nav_end_times = navigation_events.loc[navigation_events['SceneEvent'] == 'NavigationComplete', 'time']\n",
    "\n",
    "    nav_start_times.reset_index(drop=True, inplace=True)\n",
    "    nav_end_times.reset_index(drop=True, inplace=True)\n",
    "\n",
    "    #Correct for occasions when Unity emitted multiple SceneLoaded events for a single trial\n",
    "    if len(nav_start_times) > 8:\n",
    "        nav_diff = nav_start_times.diff().dt.total_seconds()\n",
    "        nav_start_times = nav_start_times.loc[(nav_diff.isnull()) | (nav_diff > 3)]\n",
    "\n",
    "    nav_start_times.reset_index(drop=True, inplace=True)\n",
    "    nav_end_times.reset_index(drop=True, inplace=True)\n",
    "\n",
    "    nav_data = {}\n",
    "    for i in range(8):\n",
    "        nav_data[i] = pupil_lum_df.loc[(pupil_lum_df['time']>=nav_start_times.loc[i]) & (pupil_lum_df['time']<=nav_end_times.loc[i]), ['time', 'methodID', 'modelID', 'luminance', 'pupilDiameter']]\n",
    "        nav_data[i].set_index('time', inplace=True, drop=False)\n",
    "\n",
    "    navigation_data = pd.concat(nav_data, names=['trial'])\n",
    "    navigation_data = navigation_data.groupby(level=0).resample('0.01s', on='time', ).mean()\n",
    "    navigation_data['plr'] = pupil_func(navigation_data['luminance'], a, b, c)\n",
    "    navigation_data['tepr'] = navigation_data['pupilDiameter'] - navigation_data['plr']\n",
    "    \n",
    "    return navigation_data"
   ]
  },
  {
   "cell_type": "code",
   "execution_count": 56,
   "metadata": {},
   "outputs": [],
   "source": [
    "def modmax(d):\n",
    "    # compute signal modulus\n",
    "    m = [0.0]*len(d)\n",
    "    for i in range(len(d)):\n",
    "        m[i] = math.fabs(d[i])\n",
    "    # if value is larger than both neighbours , and strictly larger than either , then it is a local maximum\n",
    "    t = [0.0]*len(d)\n",
    "    for i in range(len(d)):\n",
    "        ll = m[i -1] if i >= 1 else m[i]\n",
    "        oo = m[i]\n",
    "        rr = m[i+1] if i < len(d)-2 else m[i]\n",
    "        if (ll <= oo and oo >= rr) and (ll < oo or oo > rr):\n",
    "        # compute magnitude\n",
    "            t[i] = math.sqrt(d[i]**2)\n",
    "        else:\n",
    "            t[i] = 0.0\n",
    "    return t"
   ]
  },
  {
   "cell_type": "code",
   "execution_count": 58,
   "metadata": {},
   "outputs": [],
   "source": [
    "def ipa(d):\n",
    "    # obtain 2-level DWT of pupil diameter signal d\n",
    "    try:\n",
    "        (cA2 ,cD2 ,cD1) = pywt.wavedec(d,'sym16', 'per', level=2)\n",
    "    except ValueError :\n",
    "        return\n",
    "    # get signal duration (in seconds)\n",
    "    tt = d.index[-1] - d.index[0]\n",
    "    # normalize by 1/2 j , j = 2 for 2-level DWT\n",
    "    cA2 [:] = [x / math.sqrt (4.0) for x in cA2]\n",
    "    cD1 [:] = [x / math.sqrt (2.0) for x in cD1]\n",
    "    cD2 [:] = [x / math.sqrt (4.0) for x in cD2]\n",
    "\n",
    "    # detect modulus maxima , see Listing 2\n",
    "    cD2m = modmax(cD2)\n",
    "    # threshold using universal threshold λuniv = σˆp(2logn)\n",
    "    # where σˆ is the standard deviation of the noise\n",
    "    λuniv = np.std(cD2m) * math.sqrt (2.0* np.log2(len(cD2m )))\n",
    "    cD2t = pywt. threshold (cD2m ,λuniv,mode=\"hard\")\n",
    "    # compute IPA\n",
    "    ctr = 0\n",
    "    for i in range(len(cD2t )):\n",
    "        if math.fabs(cD2t[i]) > 0: ctr += 1\n",
    "    IPA = float(ctr)/tt.total_seconds()\n",
    "\n",
    "    return IPA\n"
   ]
  },
  {
   "cell_type": "markdown",
   "metadata": {},
   "source": [
    "## Load Data\n",
    "\n",
    "Load the data from the xdf file for a single participant."
   ]
  },
  {
   "cell_type": "code",
   "execution_count": 63,
   "metadata": {},
   "outputs": [],
   "source": [
    "file = './Path_Data/ID_114.xdf'\n",
    "df = import_data(file)\n",
    "pupil_lum_df = process_gaze_luminance_data(df)\n",
    "calibration_data = process_calibration_data(pupil_lum_df, df)"
   ]
  },
  {
   "cell_type": "code",
   "execution_count": 94,
   "metadata": {},
   "outputs": [
    {
     "name": "stdout",
     "output_type": "stream",
     "text": [
      "0   0 days 23:40:32.816500\n",
      "1   0 days 23:41:43.825900\n",
      "2   0 days 23:42:56.892300\n",
      "3   0 days 23:44:07.401900\n",
      "4   0 days 23:46:29.833200\n",
      "5   0 days 23:47:50.628800\n",
      "6   0 days 23:48:47.933700\n",
      "7   0 days 23:50:06.562500\n",
      "Name: time, dtype: timedelta64[ns]\n",
      "0   0 days 23:41:37.218200\n",
      "1   0 days 23:42:50.383700\n",
      "2   0 days 23:44:00.905400\n",
      "3   0 days 23:45:15.613700\n",
      "4   0 days 23:47:44.142200\n",
      "5   0 days 23:48:41.459400\n",
      "6   0 days 23:50:00.032900\n",
      "7   0 days 23:50:54.735500\n",
      "Name: time, dtype: timedelta64[ns]\n",
      "<class 'pandas.core.frame.DataFrame'>\n",
      "MultiIndex: 50814 entries, (0, Timedelta('0 days 23:40:32.818600')) to (7, Timedelta('0 days 23:50:54.278600'))\n",
      "Data columns (total 5 columns):\n",
      " #   Column         Non-Null Count  Dtype          \n",
      "---  ------         --------------  -----          \n",
      " 0   time           50814 non-null  timedelta64[ns]\n",
      " 1   methodID       41451 non-null  float32        \n",
      " 2   modelID        41451 non-null  float32        \n",
      " 3   luminance      41451 non-null  float32        \n",
      " 4   pupilDiameter  41451 non-null  float32        \n",
      "dtypes: float32(4), timedelta64[ns](1)\n",
      "memory usage: 3.8 MB\n"
     ]
    }
   ],
   "source": [
    "nav_start_times = df['NavigationStream'].groupby(['MethodID', 'ModelID']).first()\n",
    "nav_start_times = pd.to_timedelta(nav_start_times['time'], unit='s')\n",
    "nav_start_times = nav_start_times.reset_index(drop=True)\n",
    "nav_end_times = df['NavigationStream'].groupby(['MethodID', 'ModelID']).last()\n",
    "nav_end_times = pd.to_timedelta(nav_end_times['time'], unit='s')\n",
    "nav_end_times = nav_end_times.reset_index(drop=True)\n",
    "print(nav_start_times)\n",
    "print(nav_end_times)\n",
    "nav_data = {}\n",
    "for i in range(8):\n",
    "    nav_data[i] = pupil_lum_df.loc[(pupil_lum_df['time']>=nav_start_times.loc[i]) & (pupil_lum_df['time']<=nav_end_times.loc[i]), ['time', 'methodID', 'modelID', 'luminance', 'pupilDiameter']]\n",
    "    nav_data[i].set_index('time', inplace=True, drop=False)\n",
    "\n",
    "navigation_data = pd.concat(nav_data, names=['trial'])\n",
    "navigation_data.info()"
   ]
  },
  {
   "cell_type": "code",
   "execution_count": 68,
   "metadata": {},
   "outputs": [],
   "source": []
  },
  {
   "cell_type": "code",
   "execution_count": 67,
   "metadata": {},
   "outputs": [
    {
     "name": "stdout",
     "output_type": "stream",
     "text": [
      "                              methodID  modelID  luminance  pupilDiameter  \\\n",
      "trial time                                                                  \n",
      "0     0 days 23:40:31.448600       2.0      0.0   0.000000       5.061028   \n",
      "      0 days 23:40:31.468600       2.0      0.0   0.000000       5.058205   \n",
      "      0 days 23:40:31.498600       2.0      0.0   0.000000       5.058891   \n",
      "      0 days 23:40:31.518600       2.0      0.0   0.000000       5.058914   \n",
      "      0 days 23:40:31.538600       2.0      0.0   0.000000       5.064980   \n",
      "      0 days 23:40:31.558600       2.0      0.0   0.000000       5.066452   \n",
      "      0 days 23:40:31.588600       2.0      0.0   0.000000       5.075096   \n",
      "      0 days 23:40:31.608600       2.0      0.0   0.000000       5.078613   \n",
      "      0 days 23:40:31.628600       2.0      0.0   0.000000       5.080360   \n",
      "      0 days 23:40:31.648600       2.0      0.0   0.000000       5.157593   \n",
      "      0 days 23:40:31.668600       2.0      0.0   0.000000       5.208229   \n",
      "      0 days 23:40:31.698600       2.0      0.0   0.000000       5.272125   \n",
      "      0 days 23:40:31.718600       2.0      0.0   0.000000       5.246231   \n",
      "      0 days 23:40:31.738600       2.0      0.0   0.000000       5.250504   \n",
      "      0 days 23:40:31.758600       2.0      0.0   0.000000       5.288315   \n",
      "      0 days 23:40:31.788600       2.0      0.0   0.000000       5.288528   \n",
      "      0 days 23:40:31.808600       2.0      0.0   0.000000       5.301041   \n",
      "      0 days 23:40:31.828600       2.0      0.0   0.000000       5.305443   \n",
      "      0 days 23:40:31.848600       2.0      0.0   0.003106       5.308182   \n",
      "      0 days 23:40:31.868600       2.0      0.0   0.007361       5.317284   \n",
      "      0 days 23:40:31.898600       2.0      0.0   0.010984       5.330055   \n",
      "      0 days 23:40:31.918600       2.0      0.0   0.014727       5.336845   \n",
      "      0 days 23:40:31.938600       2.0      0.0   0.018341       5.279892   \n",
      "      0 days 23:40:31.948600       2.0      0.0   0.021938       5.413612   \n",
      "\n",
      "                                   plr      tepr  \n",
      "trial time                                        \n",
      "0     0 days 23:40:31.448600  1.000000  4.061028  \n",
      "      0 days 23:40:31.468600  1.000000  4.058205  \n",
      "      0 days 23:40:31.498600  1.000000  4.058891  \n",
      "      0 days 23:40:31.518600  1.000000  4.058914  \n",
      "      0 days 23:40:31.538600  1.000000  4.064980  \n",
      "      0 days 23:40:31.558600  1.000000  4.066452  \n",
      "      0 days 23:40:31.588600  1.000000  4.075096  \n",
      "      0 days 23:40:31.608600  1.000000  4.078613  \n",
      "      0 days 23:40:31.628600  1.000000  4.080360  \n",
      "      0 days 23:40:31.648600  1.000000  4.157593  \n",
      "      0 days 23:40:31.668600  1.000000  4.208229  \n",
      "      0 days 23:40:31.698600  1.000000  4.272125  \n",
      "      0 days 23:40:31.718600  1.000000  4.246231  \n",
      "      0 days 23:40:31.738600  1.000000  4.250504  \n",
      "      0 days 23:40:31.758600  1.000000  4.288315  \n",
      "      0 days 23:40:31.788600  1.000000  4.288528  \n",
      "      0 days 23:40:31.808600  1.000000  4.301041  \n",
      "      0 days 23:40:31.828600  1.000000  4.305443  \n",
      "      0 days 23:40:31.848600  0.999224  4.308958  \n",
      "      0 days 23:40:31.868600  0.998163  4.319120  \n",
      "      0 days 23:40:31.898600  0.997261  4.332794  \n",
      "      0 days 23:40:31.918600  0.996332  4.340514  \n",
      "      0 days 23:40:31.938600  0.995436  4.284456  \n",
      "      0 days 23:40:31.948600  0.994545  4.419067  \n"
     ]
    }
   ],
   "source": [
    "navigation = process_navigation_data(pupil_lum_df, df, 0.5, 0.5, 0.5).dropna()\n",
    "print(navigation[0:24])"
   ]
  },
  {
   "cell_type": "code",
   "execution_count": null,
   "metadata": {},
   "outputs": [],
   "source": [
    "dtime = np.array(lum['time'], dtype='datetime64')\n",
    "pdil = np.array(0.5 * (pupil['LeftPupilDiameter'] + pupil['RightPupilDiameter']))\n",
    "\n",
    "data = pd.Series(pdil, index=dtime)\n",
    "ipa_data = ipa(data)\n",
    "print(ipa_data)"
   ]
  },
  {
   "cell_type": "code",
   "execution_count": 43,
   "metadata": {},
   "outputs": [],
   "source": [
    "x_data = calibration_data['luminance']\n",
    "y_data = calibration_data['pupilDiameter']\n",
    "\n",
    "exp_mod = Model(pupil_func)\n",
    "params = exp_mod.make_params(a=1, b=4, c=0)\n",
    "\n",
    "result = exp_mod.fit(y_data, params, x=x_data)\n",
    "a = result.params['a'].value\n",
    "b = result.params['b'].value\n",
    "c = result.params['c'].value\n",
    "\n",
    "# plt.plot(x_data, y_data, 'o')\n",
    "# plt.plot(x_data, result.init_fit, '--', label='initial fit')\n",
    "# plt.plot(x_data, result.best_fit, '-', label='best fit')\n",
    "# plt.legend()\n",
    "# plt.show()"
   ]
  },
  {
   "cell_type": "code",
   "execution_count": null,
   "metadata": {},
   "outputs": [],
   "source": [
    "# idx = 1\n",
    "\n",
    "# for i in range(8):\n",
    "#     nav_data[i] = nav_data[i].resample('0.5s', origin='start').mean()\n",
    "\n",
    "# lum_nav = nav_data[idx]['Luminance']\n",
    "# pupil_nav = nav_data[idx]['pupilDiameter']\n",
    "\n",
    "# plr = pd.DataFrame(pupil_func(lum_nav, a, b, c))\n",
    "# plr['time'] = plr.index\n",
    "# plr.rename(columns={\"Luminance\": \"pupilDiameter\"}, inplace=True)\n",
    "# plr.reset_index(drop=True, inplace=True)\n",
    "\n",
    "# predicted_plr = pd.DataFrame(columns=['pupilDiameter'])\n",
    "# for t in range(len(plr)):\n",
    "#     if t==0:\n",
    "#         predicted_plr.loc[t, \"pupilDiameter\"] = plr.loc[t,'pupilDiameter']\n",
    "#     else:\n",
    "#         predicted_plr.loc[t, \"pupilDiameter\"] = plr.loc[t-1,'pupilDiameter']\n",
    "# predicted_plr['time'] = plr['time']\n",
    "# predicted_plr.set_index('time', inplace=True)\n",
    "\n",
    "# plot_dif = pupil_nav - predicted_plr['pupilDiameter']\n",
    "\n",
    "# x_data = pupil_nav.index\n",
    "\n",
    "# plt.plot(x_data, predicted_plr['pupilDiameter'], '--', label='predicted')\n",
    "# plt.plot(x_data, pupil_nav, '--', label='actual')\n",
    "# plt.plot(x_data, plot_dif, '-', label='difference')\n",
    "# plt.legend()\n"
   ]
  }
 ],
 "metadata": {
  "kernelspec": {
   "display_name": ".venv",
   "language": "python",
   "name": "python3"
  },
  "language_info": {
   "codemirror_mode": {
    "name": "ipython",
    "version": 3
   },
   "file_extension": ".py",
   "mimetype": "text/x-python",
   "name": "python",
   "nbconvert_exporter": "python",
   "pygments_lexer": "ipython3",
   "version": "3.11.7"
  }
 },
 "nbformat": 4,
 "nbformat_minor": 2
}
