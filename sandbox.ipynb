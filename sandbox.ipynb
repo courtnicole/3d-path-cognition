{
 "cells": [
  {
   "cell_type": "markdown",
   "metadata": {},
   "source": [
    "## Imports"
   ]
  },
  {
   "cell_type": "code",
   "execution_count": 1,
   "metadata": {},
   "outputs": [],
   "source": [
    "import pyxdf \n",
    "import numpy as np\n",
    "import pandas as pd\n",
    "from lmfit.models import Model\n",
    "from scipy.spatial.transform import Rotation as R\n",
    "import pywt\n",
    "import math"
   ]
  },
  {
   "cell_type": "markdown",
   "metadata": {},
   "source": [
    "## Function Definitions\n",
    "\n",
    "Predicted pupil dilation, $d(Y)$, caused by luminance $Y$, is computed with the following equation: $𝑑(𝑌) = 𝑎 · 𝑒^{−𝑏·𝑌} + c$"
   ]
  },
  {
   "cell_type": "code",
   "execution_count": 2,
   "metadata": {},
   "outputs": [],
   "source": [
    "def pupil_func(x, a, b, c):\n",
    "    return a * np.exp(-b * x) + c"
   ]
  },
  {
   "cell_type": "code",
   "execution_count": 3,
   "metadata": {},
   "outputs": [],
   "source": [
    "def import_data(file):\n",
    "    streams, header = pyxdf.load_xdf(file)\n",
    "    dfs = {}\n",
    "    for stream in streams:\n",
    "        stream_name = stream['info']['name'][0]\n",
    "        stream_channels = {channel['label'][0]: i for i, channel in enumerate(stream['info']['desc'][0]['channels'][0]['channel'])}\n",
    "        stream_data = stream['time_series']\n",
    "        data_dict = {key: np.array(stream_data)[:, index] for key, index in stream_channels.items()}\n",
    "        data_dict['time'] = np.round(np.array(stream['time_stamps']), decimals=4)\n",
    "        dfs[stream_name] = pd.DataFrame(data_dict).drop_duplicates(subset=['time']).reset_index(drop=True)\n",
    "    return dfs"
   ]
  },
  {
   "cell_type": "code",
   "execution_count": 4,
   "metadata": {},
   "outputs": [],
   "source": [
    "accom_time = pd.to_timedelta(0.5, unit='s')"
   ]
  },
  {
   "cell_type": "code",
   "execution_count": 5,
   "metadata": {},
   "outputs": [],
   "source": [
    "def process_gaze_luminance_data(stream_df):\n",
    "    pupil = stream_df['GazeStream'].loc[(stream_df['GazeStream']['LeftEyeIsBlinking'] == 0) & (stream_df['GazeStream']['RightEyeIsBlinking'] == 0) & (stream_df['GazeStream']['LeftPupilDiameter'] > 0) & (stream_df['GazeStream']['RightPupilDiameter'] > 0), ['time', 'MethodID', 'ModelID', 'LeftPupilDiameter', 'RightPupilDiameter']]\n",
    "    pupil['time'] = pd.to_timedelta(pupil['time'], unit='s')\n",
    "\n",
    "    lum = stream_df['LuminanceStream'].loc[:, ['time', 'MethodID', 'ModelID', 'Luminance']]\n",
    "    lum['time'] = pd.to_timedelta(lum['time'], unit='s')\n",
    "\n",
    "    # Intersection of time stamps\n",
    "    pupil_lum_time_intersection = np.intersect1d(pupil['time'], lum['time'])\n",
    "\n",
    "    # Filter pupil and luminance data by intersection\n",
    "    pupil = pupil[pupil['time'].isin(pupil_lum_time_intersection)].reset_index(drop=True)\n",
    "    lum = lum[lum['time'].isin(pupil_lum_time_intersection)].reset_index(drop=True)\n",
    "\n",
    "    # Combined DataFrame for pupil and luminance\n",
    "    pupil_lum = pd.DataFrame({\n",
    "        'time': pd.to_timedelta(lum['time'], unit='s'),\n",
    "        'luminance': lum['Luminance'],\n",
    "        'pupilDiameter': 0.5 * (pupil['LeftPupilDiameter'] + pupil['RightPupilDiameter']),\n",
    "        'methodID': pupil['MethodID'],\n",
    "        'modelID': pupil['ModelID']\n",
    "    }).resample('0.01s', on='time').mean()\n",
    "\n",
    "    pupil_lum['time'] = pupil_lum.index\n",
    "\n",
    "    return pupil_lum"
   ]
  },
  {
   "cell_type": "code",
   "execution_count": 6,
   "metadata": {},
   "outputs": [],
   "source": [
    "def process_calibration_data(pupil_lum_df, stream_df):\n",
    "    calibration_events = stream_df['ExperimentStream'].loc[(stream_df['ExperimentStream']['EventType'] == 'CalibrationColorChange') | (stream_df['ExperimentStream']['SceneEvent'] == 'Calibration') | (stream_df['ExperimentStream']['SceneEvent'] == 'CalibrationComplete'), ['time','SceneEvent', 'EventType']]\n",
    "    calibration_events['time'] = pd.to_timedelta(calibration_events['time'], unit='s')\n",
    "    c_start_times = calibration_events[:8]['time']\n",
    "    c_end_times = calibration_events[1:]['time']\n",
    "    c_start_times.reset_index(drop=True, inplace=True)\n",
    "    c_end_times.reset_index(drop=True, inplace=True)\n",
    "\n",
    "    calib_data = {}\n",
    "    for i in range(8):\n",
    "        calib_data[i] = pupil_lum_df.loc[(pupil_lum_df['time'] >= c_start_times[i]) & (pupil_lum_df['time'] <= c_end_times[i]), ['time','luminance', 'pupilDiameter']]\n",
    "        calib_data[i]['time'] -= calib_data[i]['time'].iloc[0]\n",
    "        calib_data[i] = calib_data[i].loc[(calib_data[i]['time'] >= accom_time), ['luminance', 'pupilDiameter']]\n",
    "\n",
    "    calibration_data = pd.concat(calib_data).groupby(level=0).mean().sort_values(by=['luminance']).reset_index(drop=True)\n",
    "    return calibration_data"
   ]
  },
  {
   "cell_type": "code",
   "execution_count": 7,
   "metadata": {},
   "outputs": [],
   "source": [
    "def process_navigation_data(pupil_lum_df, stream_df, a, b, c):\n",
    "    navigation_events = stream_df['ExperimentStream'].loc[(stream_df['ExperimentStream']['SceneEvent'] == 'NavigationComplete') | (stream_df['ExperimentStream']['SceneEvent'] == 'Navigation_Trial'), ['time','SceneEvent', 'EventType', 'ModelID', 'MethodID']]\n",
    "    navigation_events['time'] = pd.to_timedelta(navigation_events['time'], unit='s')\n",
    "    nav_start_times = navigation_events.loc[navigation_events['SceneEvent'] == 'Navigation_Trial', 'time']\n",
    "    nav_end_times = navigation_events.loc[navigation_events['SceneEvent'] == 'NavigationComplete', 'time']\n",
    "\n",
    "    nav_start_times.reset_index(drop=True, inplace=True)\n",
    "    nav_end_times.reset_index(drop=True, inplace=True)\n",
    "\n",
    "    #Correct for occasions when Unity emitted multiple SceneLoaded events for a single trial\n",
    "    if len(nav_start_times) > 8:\n",
    "        nav_diff = nav_start_times.diff().dt.total_seconds()\n",
    "        nav_start_times = nav_start_times.loc[(nav_diff.isnull()) | (nav_diff > 3)]\n",
    "\n",
    "    nav_start_times.reset_index(drop=True, inplace=True)\n",
    "    nav_end_times.reset_index(drop=True, inplace=True)\n",
    "\n",
    "    nav_data = {}\n",
    "    for i in range(8):\n",
    "        nav_data[i] = pupil_lum_df.loc[(pupil_lum_df['time']>=nav_start_times.loc[i]) & (pupil_lum_df['time']<=nav_end_times.loc[i]), ['time', 'methodID', 'modelID', 'luminance', 'pupilDiameter']]\n",
    "        nav_data[i].set_index('time', inplace=True, drop=False)\n",
    "\n",
    "    navigation_data = pd.concat(nav_data, names=['trial'])\n",
    "    navigation_data = navigation_data.groupby(level=0).resample('0.01s', on='time', ).mean()\n",
    "    navigation_data['plr'] = pupil_func(navigation_data['luminance'], a, b, c)\n",
    "    navigation_data['tepr'] = navigation_data['pupilDiameter'] - navigation_data['plr']\n",
    "    \n",
    "    return navigation_data"
   ]
  },
  {
   "cell_type": "code",
   "execution_count": 8,
   "metadata": {},
   "outputs": [],
   "source": [
    "def modmax(d):\n",
    "    # compute signal modulus\n",
    "    m = [0.0]*len(d)\n",
    "    for i in range(len(d)):\n",
    "        m[i] = math.fabs(d[i])\n",
    "    # if value is larger than both neighbours , and strictly larger than either , then it is a local maximum\n",
    "    t = [0.0]*len(d)\n",
    "    for i in range(len(d)):\n",
    "        ll = m[i -1] if i >= 1 else m[i]\n",
    "        oo = m[i]\n",
    "        rr = m[i+1] if i < len(d)-2 else m[i]\n",
    "        if (ll <= oo and oo >= rr) and (ll < oo or oo > rr):\n",
    "        # compute magnitude\n",
    "            t[i] = math.sqrt(d[i]**2)\n",
    "        else:\n",
    "            t[i] = 0.0\n",
    "    return t"
   ]
  },
  {
   "cell_type": "code",
   "execution_count": 9,
   "metadata": {},
   "outputs": [],
   "source": [
    "def ipa(d):\n",
    "    # obtain 2-level DWT of pupil diameter signal d\n",
    "    try:\n",
    "        (cA2 ,cD2 ,cD1) = pywt.wavedec(d,'sym16', 'per', level=2)\n",
    "    except ValueError :\n",
    "        return\n",
    "    # get signal duration (in seconds)\n",
    "    tt = d.index[-1] - d.index[0]\n",
    "    # normalize by 1/2 j , j = 2 for 2-level DWT\n",
    "    cA2 [:] = [x / math.sqrt (4.0) for x in cA2]\n",
    "    cD1 [:] = [x / math.sqrt (2.0) for x in cD1]\n",
    "    cD2 [:] = [x / math.sqrt (4.0) for x in cD2]\n",
    "\n",
    "    # detect modulus maxima , see Listing 2\n",
    "    cD2m = modmax(cD2)\n",
    "    # threshold using universal threshold λuniv = σˆp(2logn)\n",
    "    # where σˆ is the standard deviation of the noise\n",
    "    λuniv = np.std(cD2m) * math.sqrt (2.0* np.log2(len(cD2m )))\n",
    "    cD2t = pywt. threshold (cD2m ,λuniv,mode=\"hard\")\n",
    "    # compute IPA\n",
    "    ctr = 0\n",
    "    for i in range(len(cD2t )):\n",
    "        if math.fabs(cD2t[i]) > 0: ctr += 1\n",
    "    IPA = float(ctr)/tt.total_seconds()\n",
    "\n",
    "    return IPA\n"
   ]
  },
  {
   "cell_type": "markdown",
   "metadata": {},
   "source": [
    "## Load Data\n",
    "\n",
    "Load the data from the xdf file for a single participant."
   ]
  },
  {
   "cell_type": "code",
   "execution_count": 30,
   "metadata": {},
   "outputs": [],
   "source": [
    "file = './Path_Data/ID_118.xdf'\n",
    "df = import_data(file)"
   ]
  },
  {
   "cell_type": "code",
   "execution_count": 75,
   "metadata": {},
   "outputs": [
    {
     "name": "stdout",
     "output_type": "stream",
     "text": [
      "[1840.1237, 1955.1345, 2100.365, 2213.0667]\n",
      "231      1840.1237\n",
      "9937     1955.1345\n",
      "22368    2100.3650\n",
      "31878    2213.0667\n",
      "Name: time, dtype: float64\n",
      "[1920.7073, 2060.5295, 2183.5813, 2316.4843]\n",
      "7487     1920.7073\n",
      "19427    2060.5295\n",
      "29861    2183.5813\n",
      "41190    2316.4843\n",
      "Name: time, dtype: float64\n"
     ]
    }
   ],
   "source": [
    "group = df['NavigationStream'].groupby(['ModelID', 'MethodID'])\n",
    "\n",
    "start_indices = []\n",
    "end_indices = []\n",
    "start_times = []\n",
    "end_times = []\n",
    "for i in range(4):\n",
    "    for j in range(2,3):\n",
    "        trial = group.get_group((i, j))\n",
    "        start = trial.loc[(trial['spline_percent'] > 0.000001)].index[0]\n",
    "        end = trial.loc[(trial['spline_percent'] > 0.999995)].index[0]\n",
    "        start_times.append(df['NavigationStream'].loc[start, 'time'])\n",
    "        end_times.append(df['NavigationStream'].loc[end, 'time'])\n",
    "        start_indices.append(start)\n",
    "        end_indices.append(end)\n",
    "\n",
    "start_time = df['NavigationStream'].loc[start_indices, 'time']\n",
    "end_time = df['NavigationStream'].loc[end_indices, 'time']\n",
    "# start_times.sort_index(inplace=True)\n",
    "# end_times.sort_index(inplace=True)\n",
    "\n",
    "print(start_times)\n",
    "print(start_time)\n",
    "print(end_times)\n",
    "print(end_time)"
   ]
  },
  {
   "cell_type": "code",
   "execution_count": 12,
   "metadata": {},
   "outputs": [],
   "source": [
    "gaze = df['GazeStream'].loc[\n",
    "    (df['GazeStream']['LeftEyeIsBlinking'] == 0) & \n",
    "    (df['GazeStream']['RightEyeIsBlinking'] == 0) & \n",
    "    (df['GazeStream']['ConvergenceDistanceIsValid'] == 1) & \n",
    "    (df['GazeStream']['GazeRayIsValid'] == 1), \n",
    "    ['time', 'GazeOriginX', 'GazeOriginY', 'GazeOriginZ', 'GazeDirectionNormalizedX', 'GazeDirectionNormalizedY', 'GazeDirectionNormalizedZ']]\n",
    "gaze['time'] = pd.to_timedelta(gaze['time'], unit='s')\n",
    "\n",
    "headTransform = df['PoseStream'].loc[:, ['time', 'Head_PosX', 'Head_PosY', 'Head_PosZ', 'Head_RotX', 'Head_RotY', 'Head_RotZ', 'Head_RotW']]\n",
    "headTransform['time'] = pd.to_timedelta(headTransform['time'], unit='s')\n",
    "\n",
    "head_pupil_intersection = np.intersect1d(gaze['time'], headTransform['time'])\n",
    "\n",
    "gaze = gaze[gaze['time'].isin(head_pupil_intersection)].reset_index(drop=True)\n",
    "headTransform = headTransform[headTransform['time'].isin(head_pupil_intersection)].reset_index(drop=True)\n",
    "\n",
    "pos_np = headTransform.loc[:, ['Head_PosX', 'Head_PosY', 'Head_PosZ']].to_numpy()\n",
    "rot_np = headTransform.loc[:, ['Head_RotX', 'Head_RotY', 'Head_RotZ', 'Head_RotW']].to_numpy()\n",
    "gaze_origin_np = gaze.loc[:, ['GazeOriginX', 'GazeOriginY', 'GazeOriginZ']].to_numpy()\n",
    "gaze_dir_np = gaze.loc[:, ['GazeDirectionNormalizedX', 'GazeDirectionNormalizedY', 'GazeDirectionNormalizedZ']].to_numpy()\n",
    "\n",
    "# Construct world to local transformation matrix\n",
    "local_to_world = np.zeros((4, 4, len(headTransform)))\n",
    "world_to_local = np.zeros((4, 4, len(headTransform)))\n",
    "for i in range(len(pos_np)):\n",
    "    local_to_world[:, :, i] = np.eye(4)\n",
    "    q = rot_np[i]\n",
    "    r = R.from_quat(q)\n",
    "    t = pos_np[i]\n",
    "    local_to_world[:3, :3, i] = r.as_matrix()\n",
    "    local_to_world[:3, 3, i] = t\n",
    "    world_to_local[:, :, i] = np.linalg.inv(local_to_world[:, :, i])"
   ]
  },
  {
   "cell_type": "code",
   "execution_count": 13,
   "metadata": {},
   "outputs": [
    {
     "name": "stdout",
     "output_type": "stream",
     "text": [
      "         GazeOriginX    GazeOriginY    GazeOriginZ\n",
      "count  151298.000000  151298.000000  151298.000000\n",
      "mean        0.003182      -0.013365      -0.079046\n",
      "std         0.282908       0.210577       0.455706\n",
      "min       -26.291137     -15.106589     -39.787448\n",
      "25%        -0.012972      -0.005789      -0.088654\n",
      "50%         0.000650       0.000174      -0.031910\n",
      "75%         0.014383       0.002775      -0.029238\n",
      "max        27.068530       8.553654      40.257085\n"
     ]
    }
   ],
   "source": [
    "gaze_origin_local = np.zeros((4, len(gaze_origin_np)))\n",
    "\n",
    "# Transform gaze origin to local coordinates\n",
    "for i in range(len(gaze_origin_np)):\n",
    "    gaze_origin_local[:, i] = np.append(gaze_origin_np[i], 1)\n",
    "    gaze_origin_local[:, i] = np.dot(world_to_local[:, :, i], gaze_origin_local[:, i])\n",
    "\n",
    "df_gaze = pd.DataFrame(gaze_origin_local[:3, :].T, columns=['GazeOriginX', 'GazeOriginY', 'GazeOriginZ'])\n",
    "\n",
    "print(df_gaze.describe())\n",
    "#find elements in gaze_origin_local that are greater than 1 or less than -1--these are invalied values\n",
    "outliers = np.where((gaze_origin_local > 1) | (gaze_origin_local < -1))\n"
   ]
  },
  {
   "cell_type": "code",
   "execution_count": 14,
   "metadata": {},
   "outputs": [],
   "source": [
    "pupil = df['GazeStream'].loc[(df['GazeStream']['LeftEyeIsBlinking'] == 0) & (df['GazeStream']['RightEyeIsBlinking'] == 0) & (df['GazeStream']['LeftPupilDiameter'] > 0) & (df['GazeStream']['RightPupilDiameter'] > 0), ['time', 'MethodID', 'ModelID', 'LeftPupilDiameter', 'RightPupilDiameter']]\n",
    "pupil['time'] = pd.to_timedelta(pupil['time'], unit='s')\n",
    "\n",
    "lum = df['LuminanceStream'].loc[:, ['time', 'MethodID', 'ModelID', 'Luminance']]\n",
    "lum['time'] = pd.to_timedelta(lum['time'], unit='s')\n",
    "\n",
    "# Intersection of time stamps\n",
    "pupil_lum_time_intersection = np.intersect1d(pupil['time'], lum['time'])\n",
    "\n",
    "# Filter pupil and luminance data by intersection\n",
    "pupil = pupil[pupil['time'].isin(pupil_lum_time_intersection)].reset_index(drop=True)\n",
    "lum = lum[lum['time'].isin(pupil_lum_time_intersection)].reset_index(drop=True)\n",
    "\n",
    "# Combined DataFrame for pupil and luminance\n",
    "pupil_lum_df = pd.DataFrame({\n",
    "    'time': pd.to_timedelta(pupil_lum_time_intersection, unit='s'),\n",
    "    'luminance': lum['Luminance'],\n",
    "    'pupilDiameter': 0.5 * (pupil['LeftPupilDiameter'] + pupil['RightPupilDiameter']),\n",
    "    'methodID': pupil['MethodID'],\n",
    "    'modelID': pupil['ModelID']\n",
    "})\n",
    "\n",
    "\n"
   ]
  },
  {
   "cell_type": "code",
   "execution_count": 15,
   "metadata": {},
   "outputs": [],
   "source": [
    "calibration_events = df['ExperimentStream'].loc[(df['ExperimentStream']['EventType'] == 'CalibrationColorChange') | (df['ExperimentStream']['SceneEvent'] == 'Calibration') | (df['ExperimentStream']['SceneEvent'] == 'CalibrationComplete'), ['time','SceneEvent', 'EventType']]\n",
    "calibration_events['time'] = pd.to_timedelta(calibration_events['time'], unit='s')\n",
    "c_start_times = calibration_events[:8]['time']\n",
    "c_end_times = calibration_events[1:]['time']\n",
    "c_start_times.reset_index(drop=True, inplace=True)\n",
    "c_end_times.reset_index(drop=True, inplace=True)\n",
    "\n",
    "calib_data = {}\n",
    "for i in range(8):\n",
    "    calib_data[i] = pupil_lum_df.loc[(pupil_lum_df['time'] >= c_start_times[i]) & (pupil_lum_df['time'] <= c_end_times[i]), ['time','luminance', 'pupilDiameter']]\n",
    "    calib_data[i]['time'] -= calib_data[i]['time'].iloc[0]\n",
    "    calib_data[i] = calib_data[i].loc[(calib_data[i]['time'] >= accom_time), ['luminance', 'pupilDiameter']]\n",
    "\n",
    "calibration_data = pd.concat(calib_data).groupby(level=0).mean().sort_values(by=['luminance']).reset_index(drop=True)\n"
   ]
  },
  {
   "cell_type": "code",
   "execution_count": 16,
   "metadata": {},
   "outputs": [],
   "source": [
    "x_data = calibration_data['luminance']\n",
    "y_data = calibration_data['pupilDiameter']\n",
    "exp_mod = Model(pupil_func)\n",
    "params = exp_mod.make_params(a=1, b=4, c=0)\n",
    "result = exp_mod.fit(y_data, params, x=x_data)\n",
    "a = result.params['a'].value\n",
    "b = result.params['b'].value\n",
    "c = result.params['c'].value"
   ]
  },
  {
   "cell_type": "code",
   "execution_count": 17,
   "metadata": {},
   "outputs": [
    {
     "name": "stdout",
     "output_type": "stream",
     "text": [
      "0   0 days 00:24:29.253600\n",
      "1   0 days 00:17:57.957800\n",
      "2   0 days 00:25:45.912500\n",
      "3   0 days 00:19:28.420700\n",
      "4   0 days 00:26:56.946900\n",
      "5   0 days 00:20:36.246300\n",
      "6   0 days 00:27:31.504100\n",
      "7   0 days 00:21:37.828700\n",
      "Name: time, dtype: timedelta64[ns]\n",
      "0   0 days 00:25:17.785100\n",
      "1   0 days 00:19:13.037800\n",
      "2   0 days 00:26:42.111800\n",
      "3   0 days 00:20:22.804300\n",
      "4   0 days 00:27:21.026100\n",
      "5   0 days 00:21:29.472500\n",
      "6   0 days 00:28:08.381200\n",
      "7   0 days 00:22:22.647000\n",
      "Name: time, dtype: timedelta64[ns]\n"
     ]
    }
   ],
   "source": [
    "crt_start_times = df['CreationStream'].loc[\n",
    "    (df['CreationStream']['EventName'] == 'StartPointRegistered'), \n",
    "    ['time', 'ModelID', 'MethodID']]\n",
    "crt_start_times = pd.to_timedelta(crt_start_times.groupby(['ModelID', 'MethodID']).first()['time'], unit='s')\n",
    "crt_start_times.reset_index(drop=True, inplace=True)\n",
    "\n",
    "crt_end_times = df['CreationStream'].loc[\n",
    "    (df['CreationStream']['EventName'] == 'FinishPath'), \n",
    "    ['time', 'ModelID', 'MethodID']]\n",
    "crt_end_times = pd.to_timedelta(crt_end_times.groupby(['ModelID', 'MethodID']).first()['time'], unit='s')\n",
    "crt_end_times.reset_index(drop=True, inplace=True)\n",
    "\n",
    "print(crt_start_times)\n",
    "print(crt_end_times)\n",
    "\n",
    "#Correct for occasions when Unity emitted multiple SceneLoaded events for a single trial\n",
    "# if len(crt_start_times) > 8:\n",
    "#     crt_diff = crt_start_times.diff().dt.total_seconds()\n",
    "#     crt_start_times = crt_start_times.loc[(crt_diff.isnull()) | (crt_diff > 3)]\n",
    "\n",
    "\n",
    "crt_data = {}\n",
    "for i in range(8):\n",
    "    crt_data[i] = pupil_lum_df.loc[(pupil_lum_df['time']>=crt_start_times.loc[i]) & (pupil_lum_df['time']<=crt_end_times.loc[i]), ['time', 'methodID', 'modelID', 'luminance', 'pupilDiameter']]\n",
    "    crt_data[i].set_index('time', inplace=True, drop=False)\n",
    "\n",
    "creation_data = pd.concat(crt_data, names=['trial'])\n",
    "creation_data['plr'] = pupil_func(creation_data['luminance'], a, b, c)\n",
    "creation_data['tepr'] = creation_data['pupilDiameter'] - creation_data['plr']\n",
    "\n",
    "creation_avg = creation_data.groupby(level=0).mean()\n",
    "creation_avg.drop(columns=['luminance'], inplace=True)\n",
    "\n",
    "#print(df['CreationStream'][80:118])"
   ]
  }
 ],
 "metadata": {
  "kernelspec": {
   "display_name": ".venv",
   "language": "python",
   "name": "python3"
  },
  "language_info": {
   "codemirror_mode": {
    "name": "ipython",
    "version": 3
   },
   "file_extension": ".py",
   "mimetype": "text/x-python",
   "name": "python",
   "nbconvert_exporter": "python",
   "pygments_lexer": "ipython3",
   "version": "3.12.2"
  }
 },
 "nbformat": 4,
 "nbformat_minor": 2
}
