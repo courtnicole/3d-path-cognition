{
 "cells": [
  {
   "cell_type": "markdown",
   "metadata": {},
   "source": [
    "## Imports"
   ]
  },
  {
   "cell_type": "code",
   "execution_count": 396,
   "metadata": {},
   "outputs": [],
   "source": [
    "import pyxdf \n",
    "import numpy as np\n",
    "import pandas as pd\n",
    "from lmfit.models import Model\n",
    "from os import listdir, getcwd\n",
    "from os.path import isfile, join\n",
    "from scipy import stats\n",
    "import statsmodels.api as sm\n",
    "import statsmodels.formula.api as smf\n",
    "import pywt\n",
    "import math\n",
    "from pandas.api.types import CategoricalDtype"
   ]
  },
  {
   "cell_type": "markdown",
   "metadata": {},
   "source": [
    "## Pupillary Functions\n"
   ]
  },
  {
   "cell_type": "markdown",
   "metadata": {},
   "source": [
    "Task evoked pupillary response is calculated after correcting for luminance-induced pupil dilation: $𝑇𝐸𝑃𝑅 = 𝑑_m − 𝑑(𝑌)$, where $d_m$ is the measured pupil dilation, and $d(Y)$ is the predicted pupil dilation for the given luminance level. \n",
    "\n",
    "Predicted pupil dilation is calculated from a calibration sequence that produces and individual mapping model for each participant. The calibration sequence consists of 8 solid gray colors with varying luminance levels displayed in a psuedo-random order for 6 seconds each. The luminance levels span the range from 0.0 to 0.78, and for each calibration level, the first 0.5s of data is discarded to account for the initial pupillary response to the change in luminance, which can take a maximum of 0.5s. . The individual mapping model is calculated using a non-linear least squares regression to fit the equation $𝑑(𝑌) = 𝑎 · 𝑒^{−𝑏·𝑌} + c$ to the measured pupil dilation data for each participant. \n",
    "\n",
    "Pupil dilation data and the average luminance data were collected at 90 Hz, the display rate of the HMD.\n",
    "\n",
    "See: Eckert, M., Robotham, T., Habets, E. A. P., and Rummukainen, O. S. (2022). Pupillary Light Reflex Correction for Robust Pupillometry in Virtual Reality. Proc. ACM Comput. Graph. Interact. Tech. 5, 1–16. doi: 10.1145/3530798"
   ]
  },
  {
   "cell_type": "code",
   "execution_count": 2,
   "metadata": {},
   "outputs": [],
   "source": [
    "def pupil_func(x, a, b, c):\n",
    "    return a * np.exp(-b * x) + c"
   ]
  },
  {
   "cell_type": "code",
   "execution_count": 3,
   "metadata": {},
   "outputs": [],
   "source": [
    "def modmax(d):\n",
    "    # compute signal modulus\n",
    "    m = [0.0]*len(d)\n",
    "    for i in range(len(d)):\n",
    "        m[i] = math.fabs(d[i])\n",
    "    # if value is larger than both neighbours , and strictly larger than either , then it is a local maximum\n",
    "    t = [0.0]*len(d)\n",
    "    for i in range(len(d)):\n",
    "        ll = m[i -1] if i >= 1 else m[i]\n",
    "        oo = m[i]\n",
    "        rr = m[i+1] if i < len(d)-2 else m[i]\n",
    "        if (ll <= oo and oo >= rr) and (ll < oo or oo > rr):\n",
    "        # compute magnitude\n",
    "            t[i] = math.sqrt(d[i]**2)\n",
    "        else:\n",
    "            t[i] = 0.0\n",
    "    return t"
   ]
  },
  {
   "cell_type": "code",
   "execution_count": 4,
   "metadata": {},
   "outputs": [],
   "source": [
    "def ipa_func(d):\n",
    "    # obtain 2-level DWT of pupil diameter signal d\n",
    "    try:\n",
    "        (cA2 ,cD2 ,cD1) = pywt.wavedec(d,'sym16', 'per', level=2)\n",
    "    except ValueError :\n",
    "        return\n",
    "    # get signal duration (in seconds)\n",
    "    tt = d.index[-1] - d.index[0]\n",
    "    # normalize by 1/2 j , j = 2 for 2-level DWT\n",
    "    cA2 [:] = [x / math.sqrt (4.0) for x in cA2]\n",
    "    cD1 [:] = [x / math.sqrt (2.0) for x in cD1]\n",
    "    cD2 [:] = [x / math.sqrt (4.0) for x in cD2]\n",
    "\n",
    "    # detect modulus maxima , see Listing 2\n",
    "    cD2m = modmax(cD2)\n",
    "\n",
    "    # threshold using universal threshold λuniv = σˆp(2logn)\n",
    "    # where σˆ is the standard deviation of the noise\n",
    "    λuniv = np.std(cD2m) * math.sqrt (2.0* np.log2(len(cD2m )))\n",
    "    cD2t = pywt.threshold(cD2m ,λuniv,mode=\"hard\")\n",
    "    \n",
    "    # compute IPA\n",
    "    ctr = 0\n",
    "    for i in range(len(cD2t )):\n",
    "        if math.fabs(cD2t[i]) > 0: ctr += 1\n",
    "    IPA = float(ctr)/tt.total_seconds()\n",
    "\n",
    "    return IPA"
   ]
  },
  {
   "cell_type": "markdown",
   "metadata": {},
   "source": [
    "## Statistical Functions"
   ]
  },
  {
   "cell_type": "code",
   "execution_count": 5,
   "metadata": {},
   "outputs": [],
   "source": [
    "def iqr_outlier_indices(data):\n",
    "    q1 = data.quantile(.25)\n",
    "    q3 = data.quantile(.75)\n",
    "    iqr = stats.iqr(data, nan_policy='omit', rng=(25, 75))\n",
    "    return np.where((data < (q1 - 1.5 * iqr)) | (data > (q3 + 1.5 * iqr)))"
   ]
  },
  {
   "cell_type": "code",
   "execution_count": 6,
   "metadata": {},
   "outputs": [],
   "source": [
    "def iqr_stats(data):\n",
    "    q1 = np.percentile(data, 25)\n",
    "    q3 = np.percentile(data, 75)\n",
    "    iqr = stats.iqr(data, nan_policy='omit', rng=(25, 75))\n",
    "    return iqr, q1, q3"
   ]
  },
  {
   "cell_type": "code",
   "execution_count": 7,
   "metadata": {},
   "outputs": [],
   "source": [
    "def get_results_colors(np, wp, tp):\n",
    "    pastels = px.colors.qualitative.Pastel2\n",
    "    default_color = 'white'\n",
    "    significant_color = pastels[0]\n",
    "    non_significant_color = pastels[3]\n",
    "\n",
    "    normal_color = non_significant_color if np < 0.05 else significant_color\n",
    "    wilcox_color = default_color\n",
    "    ttest_color = default_color\n",
    "    if np < 0.05:\n",
    "        wilcox_color = significant_color if wp < 0.05 else non_significant_color\n",
    "    else:\n",
    "        ttest_color = significant_color if tp < 0.05 else non_significant_color\n",
    "\n",
    "    fill_color = [[default_color, default_color, default_color],\n",
    "                  [default_color, wilcox_color, ttest_color] , \n",
    "                  [normal_color, wilcox_color, ttest_color]]\n",
    "    \n",
    "    return fill_color"
   ]
  },
  {
   "cell_type": "markdown",
   "metadata": {},
   "source": [
    "## Data Processing Functions"
   ]
  },
  {
   "cell_type": "code",
   "execution_count": 8,
   "metadata": {},
   "outputs": [],
   "source": [
    "def import_data(file):\n",
    "    streams, header = pyxdf.load_xdf(file)\n",
    "    dfs = {}\n",
    "    for stream in streams:\n",
    "        stream_name = stream['info']['name'][0]\n",
    "        stream_channels = {channel['label'][0]: i for i, channel in enumerate(stream['info']['desc'][0]['channels'][0]['channel'])}\n",
    "        stream_data = stream['time_series']\n",
    "        data_dict = {key: np.array(stream_data)[:, index] for key, index in stream_channels.items()}\n",
    "        data_dict['time'] = np.round(np.array(stream['time_stamps']), decimals=4)\n",
    "        dfs[stream_name] = pd.DataFrame(data_dict).drop_duplicates(subset=['time']).reset_index(drop=True)\n",
    "    return dfs"
   ]
  },
  {
   "cell_type": "code",
   "execution_count": 9,
   "metadata": {},
   "outputs": [],
   "source": [
    "accom_time = pd.to_timedelta(0.5, unit='s')"
   ]
  },
  {
   "cell_type": "code",
   "execution_count": 10,
   "metadata": {},
   "outputs": [],
   "source": [
    "method_cats = CategoricalDtype(['4DoF','6DoF', 'unimanual','bimanual'], ordered=False)\n",
    "model_cats = CategoricalDtype(['A', 'B', 'C', 'D'], ordered=True)\n",
    "block_cats = CategoricalDtype(['0', '1', '2', '3'], ordered=True)\n",
    "event_cats = CategoricalDtype(['Start', 'PointPlaced', 'Move', 'End', 'Draw', 'Erase', 'PointDeleted'], ordered=False)\n",
    "target_cats = CategoricalDtype(['1','2'], ordered=False)\n",
    "trial_cats = CategoricalDtype(['0','1','2','3'], ordered=True)\n",
    "data_names = ['id', 'block', 'model', 'method']"
   ]
  },
  {
   "cell_type": "code",
   "execution_count": 11,
   "metadata": {},
   "outputs": [],
   "source": [
    "mA = [0,1,3,2]\n",
    "mB = [1,2,0,3]\n",
    "mC = [2,3,1,0]\n",
    "mD = [3,0,2,1]\n",
    "\n",
    "tA = [0,1,2,3]\n",
    "tB = [0,1,3,2]\n",
    "tC = [1,0,2,3]\n",
    "tD = [1,0,3,2]\n",
    "\n",
    "model_blocks = [\n",
    "    [mA,mB,mC,mD],\n",
    "    [mB,mC,mD,mA],\n",
    "    [mC,mD,mA,mB],\n",
    "    [mD,mA,mB,mC]\n",
    "]\n",
    "\n",
    "method_blocks = [\n",
    "    tA, tB, tC, tD\n",
    "]"
   ]
  },
  {
   "cell_type": "code",
   "execution_count": 34,
   "metadata": {},
   "outputs": [],
   "source": [
    "def process_gaze_luminance_data(stream_df):\n",
    "    pupil = stream_df['GazeStream'].loc[(stream_df['GazeStream']['LeftEyeIsBlinking'] == 0) \n",
    "                                        & (stream_df['GazeStream']['RightEyeIsBlinking'] == 0) \n",
    "                                        & (stream_df['GazeStream']['LeftPupilDiameter'] > 0) \n",
    "                                        & (stream_df['GazeStream']['RightPupilDiameter'] > 0), \n",
    "                                        ['time', 'trial_id', 'MethodID', 'ModelID', 'LeftPupilDiameter', 'RightPupilDiameter']]\n",
    "    pupil['time'] = pd.to_timedelta(pupil['time'], unit='s')\n",
    "\n",
    "    lum = stream_df['LuminanceStream'].loc[:, ['time', 'MethodID', 'ModelID', 'Luminance']]\n",
    "    lum['time'] = pd.to_timedelta(lum['time'], unit='s')\n",
    "\n",
    "    # Intersection of time stamps\n",
    "    pupil_lum_time_intersection = np.intersect1d(pupil['time'], lum['time'])\n",
    "\n",
    "    # Filter pupil and luminance data by intersection\n",
    "    pupil = pupil[pupil['time'].isin(pupil_lum_time_intersection)].reset_index(drop=True)\n",
    "    lum = lum[lum['time'].isin(pupil_lum_time_intersection)].reset_index(drop=True)\n",
    "\n",
    "    # Combined DataFrame for pupil and luminance\n",
    "    pupil_lum = pd.DataFrame({\n",
    "        'time': pd.to_timedelta(pupil_lum_time_intersection, unit='s'),\n",
    "        'luminance': lum['Luminance'],\n",
    "        'pupilDiameter': 0.5 * (pupil['LeftPupilDiameter'] + pupil['RightPupilDiameter']),\n",
    "        'methodID': pupil['MethodID'],\n",
    "        'modelID': pupil['ModelID'],\n",
    "        'trial_id': pupil['trial_id']\n",
    "    })\n",
    "\n",
    "    outliers = iqr_outlier_indices(pupil_lum['pupilDiameter'])\n",
    "    pupil_lum = pupil_lum.drop(pupil_lum.iloc[outliers].index).reset_index(drop=True)\n",
    "\n",
    "    return pupil_lum"
   ]
  },
  {
   "cell_type": "code",
   "execution_count": 13,
   "metadata": {},
   "outputs": [],
   "source": [
    "def process_calibration_data(pupil_lum_df, stream_df):\n",
    "    calibration_events = stream_df['ExperimentStream'].loc[(stream_df['ExperimentStream']['EventType'] == 'CalibrationColorChange') | \n",
    "                                                           (stream_df['ExperimentStream']['SceneEvent'] == 'Calibration') | \n",
    "                                                           (stream_df['ExperimentStream']['SceneEvent'] == 'CalibrationComplete'), \n",
    "                                                           ['time','SceneEvent', 'EventType']]\n",
    "    calibration_events['time'] = pd.to_timedelta(calibration_events['time'], unit='s')\n",
    "    c_start_times = calibration_events[:8]['time']\n",
    "    c_end_times = calibration_events[1:]['time']\n",
    "    c_start_times.reset_index(drop=True, inplace=True)\n",
    "    c_end_times.reset_index(drop=True, inplace=True)\n",
    "\n",
    "    calib_data = {}\n",
    "    for i in range(8):\n",
    "        calib_data[i] = pupil_lum_df.loc[(pupil_lum_df['time'] >= c_start_times[i]) & (pupil_lum_df['time'] <= c_end_times[i]), ['time','luminance', 'pupilDiameter']]\n",
    "        calib_data[i]['time'] -= calib_data[i]['time'].iloc[0]\n",
    "        calib_data[i] = calib_data[i].loc[(calib_data[i]['time'] >= accom_time), ['luminance', 'pupilDiameter']]\n",
    "\n",
    "    calibration_data = pd.concat(calib_data).groupby(level=0).mean().sort_values(by=['luminance']).reset_index(drop=True)\n",
    "    return calibration_data"
   ]
  },
  {
   "cell_type": "code",
   "execution_count": 35,
   "metadata": {},
   "outputs": [],
   "source": [
    "def process_navigation_data(pupil_lum_df, stream_df, a, b, c):\n",
    "    grouped_data = stream_df['NavigationStream'].groupby(['ModelID', 'MethodID'])\n",
    "\n",
    "    stream_df['SurveyStream']['ModelID'] = stream_df['SurveyStream']['ModelID'].astype(float)\n",
    "    stream_df['SurveyStream']['MethodID'] = stream_df['SurveyStream']['MethodID'].astype(float)\n",
    "    \n",
    "    discomfort_survey = stream_df['SurveyStream'].loc[\n",
    "        (stream_df['SurveyStream']['SurveyType'] == 'Discomfort') & \n",
    "        (stream_df['SurveyStream']['ModelID'] < 4), \n",
    "        ['time', 'ModelID', 'MethodID']]\n",
    "    survey_group = discomfort_survey.groupby(['ModelID', 'MethodID'])\n",
    "\n",
    "    start_times = []\n",
    "    end_times = []\n",
    "    total_time = []\n",
    "\n",
    "    for i in range(4):\n",
    "        for j in range(2,4):\n",
    "            trial = grouped_data.get_group((i, j))\n",
    "\n",
    "            start = trial.loc[(trial['spline_percent'] > 0.001)].index[0]\n",
    "            start_time = pd.to_timedelta(stream_df['NavigationStream'].loc[start, 'time'], unit='s')\n",
    "\n",
    "            end = trial.loc[(trial['spline_percent'] > 0.995)]\n",
    "            end_time = 0\n",
    "            # For 6DoF navigation, completion was determined by collision with bounding box\n",
    "            # Spline percentage was based on projection, so it may not reach > 0.995.\n",
    "            # In this case, the survey time serves as the end time (rather than lowering the threshold)\n",
    "            if len(end) > 0:\n",
    "                end = end.index[0]\n",
    "                end_time = pd.to_timedelta(stream_df['NavigationStream'].loc[end, 'time'], unit='s')\n",
    "            else:\n",
    "                end = survey_group.get_group((i, j)).index[0]\n",
    "                end_time = pd.to_timedelta(stream_df['SurveyStream'].loc[end, 'time'], unit='s') - pd.offsets.Second(3)\n",
    "            \n",
    "            start_times.append(start_time)\n",
    "            end_times.append(end_time)\n",
    "            total_time.append((end_time - start_time).total_seconds())\n",
    "\n",
    "\n",
    "    nav_start_times = start_times\n",
    "    nav_end_times = end_times\n",
    "\n",
    "    nav_data = {}\n",
    "    for i in range(8):\n",
    "        nav_data[i] = pupil_lum_df.loc[\n",
    "            (pupil_lum_df['luminance'] >0) & \n",
    "            (pupil_lum_df['time']>nav_start_times[i]) & \n",
    "            (pupil_lum_df['time']<nav_end_times[i]), \n",
    "            ['time', 'trial_id', 'methodID', 'modelID', 'luminance', 'pupilDiameter']]\n",
    "        nav_data[i].reset_index(drop=True, inplace=True)\n",
    "\n",
    "    navigation_data = pd.concat(nav_data, names=['trial'])\n",
    "    navigation_data['pupil_lum_base'] = pupil_func(navigation_data['luminance'], a, b, c)\n",
    "    navigation_data['adj_pupil'] = navigation_data['pupilDiameter'] - navigation_data['pupil_lum_base']\n",
    "\n",
    "    return navigation_data, total_time"
   ]
  },
  {
   "cell_type": "code",
   "execution_count": 15,
   "metadata": {},
   "outputs": [],
   "source": [
    "def clean_stream(stream_df, block, range_frame):\n",
    "    df = pd.DataFrame()\n",
    "\n",
    "    for col in stream_df.columns:\n",
    "        df[col] = stream_df[col]\n",
    "    \n",
    "    stream_df['ModelID'] = stream_df['ModelID'].mask(stream_df['ModelID'] == 'generic', '99')\n",
    "    stream_df['MethodID'] = stream_df['MethodID'].mask(stream_df['MethodID'] == 'generic', '99')\n",
    "    df['ModelID'] = stream_df['ModelID'].astype(int)\n",
    "    df['trial_id'] = stream_df['ModelID'].astype(int)\n",
    "    df['MethodID'] = stream_df['MethodID'].astype(int)\n",
    "\n",
    "    for i in range(4):\n",
    "        for j in range_frame:\n",
    "            method = method_blocks[block][j]\n",
    "            df['ModelID'] = df['ModelID'].mask((df['trial_id']==i) & (df['MethodID']==method), model_blocks[block][j][i])\n",
    "    \n",
    "    return df"
   ]
  },
  {
   "cell_type": "code",
   "execution_count": 36,
   "metadata": {},
   "outputs": [],
   "source": [
    "def process_creation_data(pupil_lum_df, stream_df, a, b, c):\n",
    "    \n",
    "    crt_start_times = stream_df['CreationStream'].loc[(stream_df['CreationStream']['EventName'] == 'StartPointRegistered'), ['time', 'ModelID', 'MethodID']]\n",
    "    crt_start_times = pd.to_timedelta(crt_start_times.groupby(['ModelID', 'MethodID']).first()['time'], unit='s') + pd.offsets.Second(2)\n",
    "    crt_start_times.reset_index(drop=True, inplace=True)\n",
    "\n",
    "    crt_end_times = stream_df['CreationStream'].loc[(stream_df['CreationStream']['EventName'] == 'FinishPath'), ['time', 'ModelID', 'MethodID']]\n",
    "    crt_end_times = pd.to_timedelta(crt_end_times.groupby(['ModelID', 'MethodID']).first()['time'], unit='s')\n",
    "    crt_end_times.reset_index(drop=True, inplace=True)\n",
    "    \n",
    "    total_time = crt_end_times - crt_start_times\n",
    "    total_time = total_time.apply(lambda x: x.total_seconds())\n",
    "\n",
    "    crt_data = {}\n",
    "    for i in range(8):\n",
    "        crt_data[i] = pupil_lum_df.loc[\n",
    "            (pupil_lum_df['time'] > crt_start_times.loc[i]) & \n",
    "            (pupil_lum_df['time'] < crt_end_times.loc[i]), \n",
    "            ['time', 'methodID',  'trial_id', 'modelID', 'luminance', 'pupilDiameter']]\n",
    "        crt_data[i].reset_index(drop=True, inplace=True)\n",
    "\n",
    "    creation_data = pd.concat(crt_data, names=['trial'])\n",
    "    creation_data['pupil_lum_base'] = pupil_func(creation_data['luminance'], a, b, c)\n",
    "    creation_data['adj_pupil'] = creation_data['pupilDiameter'] - creation_data['pupil_lum_base']\n",
    "    \n",
    "    return creation_data, total_time"
   ]
  },
  {
   "cell_type": "code",
   "execution_count": 17,
   "metadata": {},
   "outputs": [],
   "source": [
    "def process_creation_stats(stream_df):\n",
    "\n",
    "    group = stream_df['CreationStream'].groupby(['ModelID', 'MethodID'])\n",
    "    creation_counts  = []\n",
    "\n",
    "    for i in range(4):\n",
    "            for j in range(0,2):\n",
    "                trial = group.get_group((i,j))\n",
    "                creation_counts.append(trial.groupby('EventType', observed=False).size().fillna(0))\n",
    "    \n",
    "    keys = [(i,j) for i in range(4) for j in range(0,2)]\n",
    "    creation_stats = pd.concat(creation_counts, axis=0, keys=keys, names=['ModelID', 'MethodID']).unstack(level=2)\n",
    "    creation_stats = creation_stats.drop(columns=['End', 'Start'])\n",
    "    return creation_stats"
   ]
  },
  {
   "cell_type": "code",
   "execution_count": 60,
   "metadata": {},
   "outputs": [],
   "source": [
    "def process_target_trial_data_crt(stream_df):\n",
    "    target_set = stream_df['ExperimentStream'].loc[\n",
    "        (stream_df['ExperimentStream']['EventType'] == 'TargetPointsSet') | \n",
    "        (stream_df['ExperimentStream']['EventType'] == 'SceneLoaded') & \n",
    "        (stream_df['ExperimentStream']['SceneEvent'] != 'Calibration') & \n",
    "        (stream_df['ExperimentStream']['MethodID'] != 2) & \n",
    "        (stream_df['ExperimentStream']['MethodID'] != 3), ['SceneEvent', 'EventType', 'ModelID', 'MethodID']]\n",
    "\n",
    "    generic_idx = np.where(target_set['ModelID'] == 99)[0]\n",
    "    idx = [x+1 for x in generic_idx]\n",
    "\n",
    "    for i in range(len(generic_idx)):\n",
    "        target_set.loc[target_set.index[generic_idx[i]], 'ModelID']  = target_set.loc[target_set.index[idx[i]], 'ModelID']\n",
    "        target_set.loc[target_set.index[generic_idx[i]], 'MethodID']  = target_set.loc[target_set.index[idx[i]], 'MethodID']\n",
    "\n",
    "    target_set = target_set.loc[(target_set['ModelID'] < 4) & (target_set['EventType'] == 'TargetPointsSet'), ['SceneEvent', 'ModelID', 'MethodID']]\n",
    "\n",
    "    target_set['SceneEvent'] = target_set.mask(target_set['SceneEvent'] == 'TargetsLoaded_Set1', target_cats.categories[0])['SceneEvent']\n",
    "    target_set['SceneEvent'] = target_set.mask(target_set['SceneEvent'] == 'TargetsLoaded_Set2', target_cats.categories[1])['SceneEvent']\n",
    "\n",
    "    target_set['targetID'] = target_set['SceneEvent']\n",
    "    target_set.drop(columns=['SceneEvent'], inplace=True)\n",
    "\n",
    "    return target_set\n"
   ]
  },
  {
   "cell_type": "code",
   "execution_count": 64,
   "metadata": {},
   "outputs": [],
   "source": [
    "def process_target_trial_data_nav(stream_df, target_set_group):\n",
    "    target_set = stream_df['NavigationStream'].loc[(stream_df['NavigationStream']['ModelID'] < 4), ['model_source', 'ModelID', 'MethodID']]\n",
    "\n",
    "    groups = target_set.groupby(['ModelID', 'MethodID'])\n",
    "\n",
    "    target_set['creation_method'] = '-1'\n",
    "    target_set['target_set_source'] = '-1'\n",
    "\n",
    "    target_trials = []\n",
    "\n",
    "    for i in range(4):\n",
    "        for j in range(2,4):\n",
    "            trial = groups.get_group((i, j))\n",
    "            model_source = trial['model_source'].iloc[0]\n",
    "            model_value16 = model_source - 16\n",
    "            method = '-1'\n",
    "            method_id = -1\n",
    "\n",
    "            if model_value16 > 9:\n",
    "                method = 'bimanual'\n",
    "                method_id = 1\n",
    "            else:\n",
    "                method = 'unimanual'\n",
    "                method_id = 0\n",
    "\n",
    "            trial.loc[:, 'creation_method'] = method\n",
    "\n",
    "            model_i = trial['ModelID'].iloc[0]\n",
    "            group = target_set_group.get_group((int(model_i),int(method_id)))\n",
    "\n",
    "            target = group['targetID'].iloc[0]\n",
    "            trial.loc[:, 'target_set_source'] = target\n",
    "            target_trials.append(trial.iloc[:1])\n",
    "\n",
    "    target_set = pd.concat(target_trials)\n",
    "\n",
    "    target_set['creation_method'] = target_set['creation_method'].astype('string').astype(method_cats)\n",
    "    target_set['target_set_source'] = target_set['target_set_source'].astype('string').astype(target_cats)\n",
    "    target_set.drop(columns=['model_source'], inplace=True)\n",
    "    target_set.reset_index(drop=True, inplace=True)\n",
    "\n",
    "    return target_set"
   ]
  },
  {
   "cell_type": "code",
   "execution_count": 20,
   "metadata": {},
   "outputs": [],
   "source": [
    "def process_discomfort_data(stream_df):\n",
    "    discomfort_values = stream_df['SurveyStream'].loc[stream_df['SurveyStream']['SurveyType'] == 'Discomfort', ['time', 'Value', 'ModelID', 'MethodID']]\n",
    "    discomfort_values['time'] = pd.to_timedelta(discomfort_values['time'], unit='s')\n",
    "    discomfort_values.reset_index(drop=True, inplace=True)\n",
    "    return discomfort_values"
   ]
  },
  {
   "cell_type": "code",
   "execution_count": 21,
   "metadata": {},
   "outputs": [],
   "source": [
    "def process_seq_data(stream_df):\n",
    "    seq_values = stream_df['SurveyStream'].loc[stream_df['SurveyStream']['SurveyType'] == 'SEQ', ['time', 'Value', 'ModelID', 'MethodID']]\n",
    "    seq_values['time'] = pd.to_timedelta(seq_values['time'], unit='s')\n",
    "    seq_values.reset_index(drop=True, inplace=True)\n",
    "    return seq_values"
   ]
  },
  {
   "cell_type": "code",
   "execution_count": 22,
   "metadata": {},
   "outputs": [],
   "source": [
    "def process_ipa_calc(data):\n",
    "    methods = []\n",
    "    models = []\n",
    "    ipa = []\n",
    "    for i in range(8):\n",
    "        methods.append(data.loc[i]['methodID'].iloc[i])\n",
    "        models.append(data.loc[i]['modelID'].iloc[i])\n",
    "        pupil = data.loc[i]['pupilDiameter']\n",
    "        pupil.index = data.loc[i]['time']\n",
    "        ipa.append(ipa_func(pupil))\n",
    "        \n",
    "    return pd.DataFrame({'methodID': methods, 'modelID': models, 'IPA': ipa})"
   ]
  },
  {
   "cell_type": "markdown",
   "metadata": {},
   "source": [
    "## Import Data"
   ]
  },
  {
   "cell_type": "code",
   "execution_count": 23,
   "metadata": {},
   "outputs": [],
   "source": [
    "data_dir = join(getcwd(),'Path_Data')\n",
    "data_files = [join(data_dir, f) for f in listdir(data_dir) if isfile(join(data_dir, f))]"
   ]
  },
  {
   "cell_type": "code",
   "execution_count": 24,
   "metadata": {},
   "outputs": [],
   "source": [
    "dfs = []\n",
    "for file in data_files:\n",
    "    df = import_data(file)\n",
    "    #'LuminanceStream', 'GazeStream', 'NavigationStream', 'CreationStream', 'PoseStream', 'ExperimentStream', 'SurveyStream', 'TrackedPoseStream'\n",
    "    # Remove final empty row from string data streams\n",
    "    df['SurveyStream'] = df['SurveyStream'].replace(r'^\\s*$', np.nan, regex=True).dropna()\n",
    "    df['CreationStream'] = df['CreationStream'].replace(r'^\\s*$', np.nan, regex=True).dropna()\n",
    "    df['ExperimentStream'] = df['ExperimentStream'].replace(r'^\\s*$', np.nan, regex=True).dropna()\n",
    "\n",
    "    df['SurveyStream']['ModelID'] = df['SurveyStream']['ModelID'].astype(float)\n",
    "    df['SurveyStream']['MethodID'] = df['SurveyStream']['MethodID'].astype(float)\n",
    "    df['SurveyStream']['Value'] = df['SurveyStream']['Value'].astype(float)\n",
    "\n",
    "    df['CreationStream']['ModelID'] = df['CreationStream']['ModelID'].astype(float)\n",
    "    df['CreationStream']['MethodID'] = df['CreationStream']['MethodID'].astype(float)\n",
    "    df['CreationStream']['EventType'] = df['CreationStream']['EventType'].astype(event_cats)\n",
    "\n",
    "    block = int(df['ExperimentStream']['BlockID'][0])\n",
    "    df['GazeStream'] = clean_stream(df['GazeStream'], block, range(4))\n",
    "    df['LuminanceStream'] = clean_stream(df['LuminanceStream'], block, range(4))\n",
    "    df['NavigationStream'] = clean_stream(df['NavigationStream'], block, range(2,4))\n",
    "    df['CreationStream'] = clean_stream(df['CreationStream'], block, range(2))\n",
    "    df['PoseStream'] = clean_stream(df['PoseStream'], block, range(4))\n",
    "    df['SurveyStream'] = clean_stream(df['SurveyStream'], block, range(4))\n",
    "    df['TrackedPoseStream'] = clean_stream(df['TrackedPoseStream'], block, range(4))\n",
    "    df['ExperimentStream'] = clean_stream(df['ExperimentStream'], block, range(4))\n",
    "    dfs.append(df)"
   ]
  },
  {
   "cell_type": "markdown",
   "metadata": {},
   "source": [
    "## Process Data"
   ]
  },
  {
   "cell_type": "code",
   "execution_count": 244,
   "metadata": {},
   "outputs": [],
   "source": [
    "user_dfs_nav = []\n",
    "user_dfs_crt = []\n",
    "ids = []\n",
    "blocks = []\n",
    "\n",
    "for df in dfs:\n",
    "    id = df['ExperimentStream']['UserID'][0]\n",
    "    block = df['ExperimentStream']['BlockID'][0]\n",
    "    ids.append(id)\n",
    "    blocks.append(block)\n",
    "\n",
    "    pupil_lum_df = process_gaze_luminance_data(df)\n",
    "    calibration_data = process_calibration_data(pupil_lum_df, df)\n",
    "\n",
    "    # Fit pupil response to luminance\n",
    "    x_data = calibration_data['luminance']\n",
    "    y_data = calibration_data['pupilDiameter']\n",
    "    exp_mod = Model(pupil_func)\n",
    "    params = exp_mod.make_params(a=1, b=4, c=0)\n",
    "    result = exp_mod.fit(y_data, params, x=x_data)\n",
    "    a = result.params['a'].value\n",
    "    b = result.params['b'].value\n",
    "    c = result.params['c'].value\n",
    "\n",
    "    navigation_data, nav_time = process_navigation_data(pupil_lum_df, df, a, b, c)\n",
    "    ipa_calc_nav = process_ipa_calc(navigation_data)\n",
    "    creation_data, crt_time = process_creation_data(pupil_lum_df, df, a, b, c)\n",
    "    ipa_calc_crt = process_ipa_calc(creation_data)\n",
    "    creation_stats = process_creation_stats(df)\n",
    "    discomfort = process_discomfort_data(df)\n",
    "    seq = process_seq_data(df)\n",
    "\n",
    "    creation_target_trials = process_target_trial_data_crt(df)\n",
    "    crt_target_trials = creation_target_trials.groupby(['ModelID', 'MethodID'])\n",
    "    navigation_target_trials = process_target_trial_data_nav(df, crt_target_trials)\n",
    "    nav_target_trials = navigation_target_trials.groupby(['ModelID', 'MethodID'])\n",
    "\n",
    "    nav_trials = navigation_data.groupby(['modelID', 'methodID'])\n",
    "    ipa_nav_trials = ipa_calc_nav.groupby(['modelID', 'methodID'])\n",
    "    crt_trials = creation_data.groupby(['modelID', 'methodID'])\n",
    "    ipa_crt_trials = ipa_calc_crt.groupby(['modelID', 'methodID'])\n",
    "    discomfort_trials = discomfort.groupby(['ModelID', 'MethodID'])\n",
    "    seq_trials = seq.groupby(['ModelID', 'MethodID'])\n",
    "    \n",
    "    nav_data = {}\n",
    "    nav_total_time = {}\n",
    "    ipa_nav_data = {}\n",
    "    crt_data = {}\n",
    "    crt_total_time = {}\n",
    "    ipa_crt_data = {}\n",
    "    discomfort_data = {}\n",
    "    seq_crt = {}\n",
    "    seq_nav = {}\n",
    "    target_data_crt = {}\n",
    "    target_data_nav = {}\n",
    "    creation_data_nav = {}\n",
    "\n",
    "    for i in range(4):\n",
    "        for j in range(2,4):\n",
    "            nav_data[(id, block, i, j)] = nav_trials.get_group((i,j)).mean()\n",
    "            nav_total_time[(id, block, i, j)] = nav_time[(2*i + (j-2))]\n",
    "            ipa_nav_data[(id, block, i, j)] = ipa_nav_trials.get_group((i,j)).mean()\n",
    "            discomfort_data[(id, block, i, j)] = discomfort_trials.get_group((i,j)).mean()\n",
    "            seq_nav[(id, block, i, j)] = seq_trials.get_group((i,j)).mean()\n",
    "            target_data_nav[(id, block, i, j)] = nav_target_trials.get_group((i,j))['target_set_source'].iloc[0]\n",
    "            creation_data_nav[(id, block, i, j)] = nav_target_trials.get_group((i,j))['creation_method'].iloc[0]\n",
    "    \n",
    "    for i in range(4):\n",
    "        for j in range(0,2):\n",
    "            crt_data[(id, block, i, j)] = crt_trials.get_group((i,j)).mean()\n",
    "            crt_total_time[(id, block, i, j)] = crt_time[(2*i + j)]\n",
    "            ipa_crt_data[(id, block, i, j)] = ipa_crt_trials.get_group((i,j)).mean()\n",
    "            seq_crt[(id, block, i, j)] = seq_trials.get_group((i,j)).mean()\n",
    "            target_data_crt[(id, block, i, j)] = crt_target_trials.get_group((i,j))['targetID'].iloc[0]\n",
    "    \n",
    "    nav_index = pd.MultiIndex.from_product([[id], [block], model_cats.categories, method_cats.categories[0:2]], names=data_names)\n",
    "    crt_index = pd.MultiIndex.from_product([[id], [block], model_cats.categories, method_cats.categories[2:4]], names=data_names)\n",
    "\n",
    "    nav_data = pd.concat(nav_data, axis=1, names=data_names).T\n",
    "    nav_data['total_time'] = nav_total_time\n",
    "    nav_data['target_source'] = target_data_nav\n",
    "    nav_data['creation_method'] = creation_data_nav\n",
    "    nav_data.index = nav_index\n",
    "    nav_data.drop(columns=['time', 'modelID', 'methodID'], inplace=True)\n",
    "    \n",
    "    crt_data = pd.concat(crt_data, axis=1, names=data_names).T\n",
    "    crt_data['total_time'] = crt_total_time\n",
    "    crt_data['target_id'] = target_data_crt\n",
    "    crt_data.index = crt_index\n",
    "    crt_data.drop(columns=['time', 'modelID', 'methodID'], inplace=True)\n",
    "\n",
    "    creation_stats.index = crt_index\n",
    "\n",
    "    ipa_nav_data = pd.concat(ipa_nav_data, axis=1, names=data_names).T\n",
    "    ipa_nav_data.index = nav_index\n",
    "    ipa_nav_data.drop(columns=['modelID', 'methodID'], inplace=True)\n",
    "\n",
    "    ipa_crt_data = pd.concat(ipa_crt_data, axis=1, names=data_names).T\n",
    "    ipa_crt_data.index = crt_index\n",
    "    ipa_crt_data.drop(columns=['modelID', 'methodID'], inplace=True)\n",
    "\n",
    "    discomfort_data = pd.concat(discomfort_data, axis=1, names=data_names).T\n",
    "    discomfort_data.index = nav_index\n",
    "    discomfort_data['discomfort'] = discomfort_data['Value']\n",
    "    discomfort_data.drop(columns=['time', 'ModelID', 'MethodID', 'Value'], inplace=True)\n",
    "\n",
    "    seq_nav = pd.concat(seq_nav, axis=1, names=data_names).T\n",
    "    seq_nav.index = nav_index\n",
    "    seq_nav['seq'] = seq_nav['Value']\n",
    "    seq_nav.drop(columns=['time', 'ModelID', 'MethodID', 'Value'], inplace=True)\n",
    "\n",
    "    seq_crt = pd.concat(seq_crt, axis=1, names=data_names).T\n",
    "    seq_crt.index = crt_index\n",
    "    seq_crt['seq'] = seq_crt['Value']\n",
    "    seq_crt.drop(columns=['time', 'ModelID', 'MethodID', 'Value'], inplace=True)\n",
    "\n",
    "    df_crt = pd.concat([crt_data, ipa_crt_data, seq_crt, creation_stats], axis=0).stack().unstack()\n",
    "    df_crt.loc[(slice(None), slice(None), slice(None), slice(None)), ('Draw', 'Erase', 'PointPlaced', 'Move', 'PointDeleted')] = df_crt.loc[(slice(None), slice(None), slice(None), slice(None)), ('Draw', 'Erase', 'PointPlaced', 'Move', 'PointDeleted')].astype(int)\n",
    "    df_crt.loc[(slice(None), slice(None), slice(None), 'unimanual'), ('Draw', 'Erase')] = df_crt.loc[(slice(None), slice(None), slice(None), 'unimanual'), ('Draw', 'Erase')].astype(int).fillna(0)\n",
    "    df_crt.loc[(slice(None), slice(None), slice(None), 'bimanual'), ('PointPlaced', 'Move', 'PointDeleted')] = df_crt.loc[(slice(None), slice(None), slice(None), 'bimanual'), ('PointPlaced', 'Move', 'PointDeleted')].astype(int).fillna(0)\n",
    "\n",
    "    df_nav = pd.concat([nav_data, ipa_nav_data, discomfort_data, seq_nav], axis=0).stack().unstack()\n",
    "\n",
    "    user_dfs_nav.append(df_nav)\n",
    "    user_dfs_crt.append(df_crt)\n"
   ]
  },
  {
   "cell_type": "code",
   "execution_count": 245,
   "metadata": {},
   "outputs": [],
   "source": [
    "user_data_nav = pd.concat(user_dfs_nav)\n",
    "nav_dtype = {'luminance': 'float64', 'pupilDiameter': 'float64', 'pupil_lum_base': 'float64', 'adj_pupil': 'float64', 'IPA': 'float64', 'discomfort': 'int32', 'seq': 'int32', 'total_time': 'float64'}\n",
    "user_data_nav = user_data_nav.astype(nav_dtype)\n",
    "\n",
    "short_nav = user_data_nav['total_time'] < 10\n",
    "user_data_nav = user_data_nav[~short_nav]\n",
    "\n",
    "user_data_crt = pd.concat(user_dfs_crt)\n",
    "crt_dtype = {'luminance' : 'float64', 'pupilDiameter' : 'float64', 'pupil_lum_base' : 'float64', 'adj_pupil' : 'float64', 'IPA' : 'float64', 'seq' : 'int32', 'PointPlaced' : 'int32', 'Move' : 'int32', 'Draw' : 'int32', 'Erase' : 'int32', 'PointDeleted' : 'int32', 'total_time': 'float64'}\n",
    "user_data_crt = user_data_crt.astype(crt_dtype)\n",
    "\n",
    "short_crt = user_data_crt['total_time'] < 10\n",
    "user_data_crt = user_data_crt[~short_crt]"
   ]
  },
  {
   "cell_type": "code",
   "execution_count": 246,
   "metadata": {},
   "outputs": [
    {
     "data": {
      "text/html": [
       "<div>\n",
       "<style scoped>\n",
       "    .dataframe tbody tr th:only-of-type {\n",
       "        vertical-align: middle;\n",
       "    }\n",
       "\n",
       "    .dataframe tbody tr th {\n",
       "        vertical-align: top;\n",
       "    }\n",
       "\n",
       "    .dataframe thead th {\n",
       "        text-align: right;\n",
       "    }\n",
       "</style>\n",
       "<table border=\"1\" class=\"dataframe\">\n",
       "  <thead>\n",
       "    <tr style=\"text-align: right;\">\n",
       "      <th></th>\n",
       "      <th></th>\n",
       "      <th></th>\n",
       "      <th></th>\n",
       "      <th>trial_id</th>\n",
       "      <th>luminance</th>\n",
       "      <th>pupilDiameter</th>\n",
       "      <th>pupil_lum_base</th>\n",
       "      <th>adj_pupil</th>\n",
       "      <th>total_time</th>\n",
       "      <th>target_source</th>\n",
       "      <th>creation_method</th>\n",
       "      <th>IPA</th>\n",
       "      <th>discomfort</th>\n",
       "      <th>seq</th>\n",
       "    </tr>\n",
       "    <tr>\n",
       "      <th>id</th>\n",
       "      <th>block</th>\n",
       "      <th>model</th>\n",
       "      <th>method</th>\n",
       "      <th></th>\n",
       "      <th></th>\n",
       "      <th></th>\n",
       "      <th></th>\n",
       "      <th></th>\n",
       "      <th></th>\n",
       "      <th></th>\n",
       "      <th></th>\n",
       "      <th></th>\n",
       "      <th></th>\n",
       "      <th></th>\n",
       "    </tr>\n",
       "  </thead>\n",
       "  <tbody>\n",
       "    <tr>\n",
       "      <th rowspan=\"5\" valign=\"top\">108</th>\n",
       "      <th rowspan=\"5\" valign=\"top\">0</th>\n",
       "      <th rowspan=\"2\" valign=\"top\">A</th>\n",
       "      <th>4DoF</th>\n",
       "      <td>3.00000</td>\n",
       "      <td>0.22436</td>\n",
       "      <td>4.86646</td>\n",
       "      <td>3.83158</td>\n",
       "      <td>1.03488</td>\n",
       "      <td>37.08220</td>\n",
       "      <td>1</td>\n",
       "      <td>unimanual</td>\n",
       "      <td>0.24285</td>\n",
       "      <td>2</td>\n",
       "      <td>0</td>\n",
       "    </tr>\n",
       "    <tr>\n",
       "      <th>6DoF</th>\n",
       "      <td>1.00000</td>\n",
       "      <td>0.22551</td>\n",
       "      <td>4.35948</td>\n",
       "      <td>3.82915</td>\n",
       "      <td>0.53034</td>\n",
       "      <td>61.00430</td>\n",
       "      <td>2</td>\n",
       "      <td>bimanual</td>\n",
       "      <td>0.09839</td>\n",
       "      <td>1</td>\n",
       "      <td>0</td>\n",
       "    </tr>\n",
       "    <tr>\n",
       "      <th rowspan=\"2\" valign=\"top\">B</th>\n",
       "      <th>4DoF</th>\n",
       "      <td>2.00000</td>\n",
       "      <td>0.24224</td>\n",
       "      <td>4.65088</td>\n",
       "      <td>3.77130</td>\n",
       "      <td>0.87958</td>\n",
       "      <td>67.70050</td>\n",
       "      <td>1</td>\n",
       "      <td>unimanual</td>\n",
       "      <td>0.14776</td>\n",
       "      <td>1</td>\n",
       "      <td>0</td>\n",
       "    </tr>\n",
       "    <tr>\n",
       "      <th>6DoF</th>\n",
       "      <td>3.00000</td>\n",
       "      <td>0.25618</td>\n",
       "      <td>4.43714</td>\n",
       "      <td>3.74668</td>\n",
       "      <td>0.69046</td>\n",
       "      <td>96.43160</td>\n",
       "      <td>2</td>\n",
       "      <td>bimanual</td>\n",
       "      <td>0.19708</td>\n",
       "      <td>1</td>\n",
       "      <td>0</td>\n",
       "    </tr>\n",
       "    <tr>\n",
       "      <th>C</th>\n",
       "      <th>4DoF</th>\n",
       "      <td>0.00000</td>\n",
       "      <td>0.22350</td>\n",
       "      <td>4.65890</td>\n",
       "      <td>3.85290</td>\n",
       "      <td>0.80600</td>\n",
       "      <td>88.03560</td>\n",
       "      <td>1</td>\n",
       "      <td>unimanual</td>\n",
       "      <td>0.22724</td>\n",
       "      <td>1</td>\n",
       "      <td>1</td>\n",
       "    </tr>\n",
       "    <tr>\n",
       "      <th>...</th>\n",
       "      <th>...</th>\n",
       "      <th>...</th>\n",
       "      <th>...</th>\n",
       "      <td>...</td>\n",
       "      <td>...</td>\n",
       "      <td>...</td>\n",
       "      <td>...</td>\n",
       "      <td>...</td>\n",
       "      <td>...</td>\n",
       "      <td>...</td>\n",
       "      <td>...</td>\n",
       "      <td>...</td>\n",
       "      <td>...</td>\n",
       "      <td>...</td>\n",
       "    </tr>\n",
       "    <tr>\n",
       "      <th rowspan=\"5\" valign=\"top\">136</th>\n",
       "      <th rowspan=\"5\" valign=\"top\">0</th>\n",
       "      <th>B</th>\n",
       "      <th>6DoF</th>\n",
       "      <td>3.00000</td>\n",
       "      <td>0.23880</td>\n",
       "      <td>3.30005</td>\n",
       "      <td>3.06347</td>\n",
       "      <td>0.23659</td>\n",
       "      <td>172.93840</td>\n",
       "      <td>2</td>\n",
       "      <td>bimanual</td>\n",
       "      <td>0.13889</td>\n",
       "      <td>7</td>\n",
       "      <td>2</td>\n",
       "    </tr>\n",
       "    <tr>\n",
       "      <th rowspan=\"2\" valign=\"top\">C</th>\n",
       "      <th>4DoF</th>\n",
       "      <td>0.00000</td>\n",
       "      <td>0.20333</td>\n",
       "      <td>3.62717</td>\n",
       "      <td>3.11666</td>\n",
       "      <td>0.51051</td>\n",
       "      <td>94.25570</td>\n",
       "      <td>1</td>\n",
       "      <td>unimanual</td>\n",
       "      <td>0.12735</td>\n",
       "      <td>8</td>\n",
       "      <td>1</td>\n",
       "    </tr>\n",
       "    <tr>\n",
       "      <th>6DoF</th>\n",
       "      <td>2.00000</td>\n",
       "      <td>0.20850</td>\n",
       "      <td>3.51866</td>\n",
       "      <td>3.11225</td>\n",
       "      <td>0.40642</td>\n",
       "      <td>92.54840</td>\n",
       "      <td>2</td>\n",
       "      <td>bimanual</td>\n",
       "      <td>0.17324</td>\n",
       "      <td>7</td>\n",
       "      <td>1</td>\n",
       "    </tr>\n",
       "    <tr>\n",
       "      <th rowspan=\"2\" valign=\"top\">D</th>\n",
       "      <th>4DoF</th>\n",
       "      <td>1.00000</td>\n",
       "      <td>0.21263</td>\n",
       "      <td>3.48641</td>\n",
       "      <td>3.08937</td>\n",
       "      <td>0.39703</td>\n",
       "      <td>84.88170</td>\n",
       "      <td>1</td>\n",
       "      <td>unimanual</td>\n",
       "      <td>0.11784</td>\n",
       "      <td>7</td>\n",
       "      <td>1</td>\n",
       "    </tr>\n",
       "    <tr>\n",
       "      <th>6DoF</th>\n",
       "      <td>0.00000</td>\n",
       "      <td>0.22366</td>\n",
       "      <td>3.58864</td>\n",
       "      <td>3.06293</td>\n",
       "      <td>0.52570</td>\n",
       "      <td>91.76680</td>\n",
       "      <td>2</td>\n",
       "      <td>bimanual</td>\n",
       "      <td>0.08720</td>\n",
       "      <td>8</td>\n",
       "      <td>1</td>\n",
       "    </tr>\n",
       "  </tbody>\n",
       "</table>\n",
       "<p>190 rows × 11 columns</p>\n",
       "</div>"
      ],
      "text/plain": [
       "                       trial_id  luminance  pupilDiameter  pupil_lum_base  \\\n",
       "id  block model method                                                      \n",
       "108 0     A     4DoF    3.00000    0.22436        4.86646         3.83158   \n",
       "                6DoF    1.00000    0.22551        4.35948         3.82915   \n",
       "          B     4DoF    2.00000    0.24224        4.65088         3.77130   \n",
       "                6DoF    3.00000    0.25618        4.43714         3.74668   \n",
       "          C     4DoF    0.00000    0.22350        4.65890         3.85290   \n",
       "...                         ...        ...            ...             ...   \n",
       "136 0     B     6DoF    3.00000    0.23880        3.30005         3.06347   \n",
       "          C     4DoF    0.00000    0.20333        3.62717         3.11666   \n",
       "                6DoF    2.00000    0.20850        3.51866         3.11225   \n",
       "          D     4DoF    1.00000    0.21263        3.48641         3.08937   \n",
       "                6DoF    0.00000    0.22366        3.58864         3.06293   \n",
       "\n",
       "                        adj_pupil  total_time target_source creation_method  \\\n",
       "id  block model method                                                        \n",
       "108 0     A     4DoF      1.03488    37.08220             1       unimanual   \n",
       "                6DoF      0.53034    61.00430             2        bimanual   \n",
       "          B     4DoF      0.87958    67.70050             1       unimanual   \n",
       "                6DoF      0.69046    96.43160             2        bimanual   \n",
       "          C     4DoF      0.80600    88.03560             1       unimanual   \n",
       "...                           ...         ...           ...             ...   \n",
       "136 0     B     6DoF      0.23659   172.93840             2        bimanual   \n",
       "          C     4DoF      0.51051    94.25570             1       unimanual   \n",
       "                6DoF      0.40642    92.54840             2        bimanual   \n",
       "          D     4DoF      0.39703    84.88170             1       unimanual   \n",
       "                6DoF      0.52570    91.76680             2        bimanual   \n",
       "\n",
       "                           IPA  discomfort  seq  \n",
       "id  block model method                           \n",
       "108 0     A     4DoF   0.24285           2    0  \n",
       "                6DoF   0.09839           1    0  \n",
       "          B     4DoF   0.14776           1    0  \n",
       "                6DoF   0.19708           1    0  \n",
       "          C     4DoF   0.22724           1    1  \n",
       "...                        ...         ...  ...  \n",
       "136 0     B     6DoF   0.13889           7    2  \n",
       "          C     4DoF   0.12735           8    1  \n",
       "                6DoF   0.17324           7    1  \n",
       "          D     4DoF   0.11784           7    1  \n",
       "                6DoF   0.08720           8    1  \n",
       "\n",
       "[190 rows x 11 columns]"
      ]
     },
     "execution_count": 246,
     "metadata": {},
     "output_type": "execute_result"
    }
   ],
   "source": [
    "user_data_nav"
   ]
  },
  {
   "cell_type": "code",
   "execution_count": 247,
   "metadata": {},
   "outputs": [
    {
     "data": {
      "text/html": [
       "<div>\n",
       "<style scoped>\n",
       "    .dataframe tbody tr th:only-of-type {\n",
       "        vertical-align: middle;\n",
       "    }\n",
       "\n",
       "    .dataframe tbody tr th {\n",
       "        vertical-align: top;\n",
       "    }\n",
       "\n",
       "    .dataframe thead th {\n",
       "        text-align: right;\n",
       "    }\n",
       "</style>\n",
       "<table border=\"1\" class=\"dataframe\">\n",
       "  <thead>\n",
       "    <tr style=\"text-align: right;\">\n",
       "      <th></th>\n",
       "      <th></th>\n",
       "      <th></th>\n",
       "      <th></th>\n",
       "      <th>trial_id</th>\n",
       "      <th>luminance</th>\n",
       "      <th>pupilDiameter</th>\n",
       "      <th>pupil_lum_base</th>\n",
       "      <th>adj_pupil</th>\n",
       "      <th>total_time</th>\n",
       "      <th>target_id</th>\n",
       "      <th>IPA</th>\n",
       "      <th>seq</th>\n",
       "      <th>PointPlaced</th>\n",
       "      <th>Move</th>\n",
       "      <th>Draw</th>\n",
       "      <th>Erase</th>\n",
       "      <th>PointDeleted</th>\n",
       "    </tr>\n",
       "    <tr>\n",
       "      <th>id</th>\n",
       "      <th>block</th>\n",
       "      <th>model</th>\n",
       "      <th>method</th>\n",
       "      <th></th>\n",
       "      <th></th>\n",
       "      <th></th>\n",
       "      <th></th>\n",
       "      <th></th>\n",
       "      <th></th>\n",
       "      <th></th>\n",
       "      <th></th>\n",
       "      <th></th>\n",
       "      <th></th>\n",
       "      <th></th>\n",
       "      <th></th>\n",
       "      <th></th>\n",
       "      <th></th>\n",
       "    </tr>\n",
       "  </thead>\n",
       "  <tbody>\n",
       "    <tr>\n",
       "      <th rowspan=\"5\" valign=\"top\">108</th>\n",
       "      <th rowspan=\"5\" valign=\"top\">0</th>\n",
       "      <th rowspan=\"2\" valign=\"top\">A</th>\n",
       "      <th>bimanual</th>\n",
       "      <td>2.00000</td>\n",
       "      <td>0.28084</td>\n",
       "      <td>4.40283</td>\n",
       "      <td>3.65164</td>\n",
       "      <td>0.75118</td>\n",
       "      <td>98.30300</td>\n",
       "      <td>2</td>\n",
       "      <td>0.11191</td>\n",
       "      <td>1</td>\n",
       "      <td>19</td>\n",
       "      <td>6</td>\n",
       "      <td>0</td>\n",
       "      <td>0</td>\n",
       "      <td>0</td>\n",
       "    </tr>\n",
       "    <tr>\n",
       "      <th>unimanual</th>\n",
       "      <td>0.00000</td>\n",
       "      <td>0.25939</td>\n",
       "      <td>5.10438</td>\n",
       "      <td>3.71714</td>\n",
       "      <td>1.38724</td>\n",
       "      <td>62.76520</td>\n",
       "      <td>1</td>\n",
       "      <td>0.10701</td>\n",
       "      <td>2</td>\n",
       "      <td>0</td>\n",
       "      <td>0</td>\n",
       "      <td>4</td>\n",
       "      <td>0</td>\n",
       "      <td>0</td>\n",
       "    </tr>\n",
       "    <tr>\n",
       "      <th rowspan=\"2\" valign=\"top\">B</th>\n",
       "      <th>bimanual</th>\n",
       "      <td>0.00000</td>\n",
       "      <td>0.32082</td>\n",
       "      <td>4.18903</td>\n",
       "      <td>3.54098</td>\n",
       "      <td>0.64805</td>\n",
       "      <td>95.21040</td>\n",
       "      <td>2</td>\n",
       "      <td>0.13658</td>\n",
       "      <td>2</td>\n",
       "      <td>17</td>\n",
       "      <td>3</td>\n",
       "      <td>0</td>\n",
       "      <td>0</td>\n",
       "      <td>0</td>\n",
       "    </tr>\n",
       "    <tr>\n",
       "      <th>unimanual</th>\n",
       "      <td>1.00000</td>\n",
       "      <td>0.26331</td>\n",
       "      <td>4.83574</td>\n",
       "      <td>3.71454</td>\n",
       "      <td>1.12120</td>\n",
       "      <td>40.44160</td>\n",
       "      <td>1</td>\n",
       "      <td>0.17314</td>\n",
       "      <td>2</td>\n",
       "      <td>0</td>\n",
       "      <td>0</td>\n",
       "      <td>4</td>\n",
       "      <td>0</td>\n",
       "      <td>0</td>\n",
       "    </tr>\n",
       "    <tr>\n",
       "      <th>C</th>\n",
       "      <th>bimanual</th>\n",
       "      <td>1.00000</td>\n",
       "      <td>0.23760</td>\n",
       "      <td>4.37592</td>\n",
       "      <td>3.78364</td>\n",
       "      <td>0.59229</td>\n",
       "      <td>36.44090</td>\n",
       "      <td>2</td>\n",
       "      <td>0.24704</td>\n",
       "      <td>1</td>\n",
       "      <td>12</td>\n",
       "      <td>1</td>\n",
       "      <td>0</td>\n",
       "      <td>0</td>\n",
       "      <td>0</td>\n",
       "    </tr>\n",
       "    <tr>\n",
       "      <th>...</th>\n",
       "      <th>...</th>\n",
       "      <th>...</th>\n",
       "      <th>...</th>\n",
       "      <td>...</td>\n",
       "      <td>...</td>\n",
       "      <td>...</td>\n",
       "      <td>...</td>\n",
       "      <td>...</td>\n",
       "      <td>...</td>\n",
       "      <td>...</td>\n",
       "      <td>...</td>\n",
       "      <td>...</td>\n",
       "      <td>...</td>\n",
       "      <td>...</td>\n",
       "      <td>...</td>\n",
       "      <td>...</td>\n",
       "      <td>...</td>\n",
       "    </tr>\n",
       "    <tr>\n",
       "      <th rowspan=\"5\" valign=\"top\">136</th>\n",
       "      <th rowspan=\"5\" valign=\"top\">0</th>\n",
       "      <th>B</th>\n",
       "      <th>unimanual</th>\n",
       "      <td>1.00000</td>\n",
       "      <td>0.25010</td>\n",
       "      <td>3.62507</td>\n",
       "      <td>3.02039</td>\n",
       "      <td>0.60468</td>\n",
       "      <td>51.92650</td>\n",
       "      <td>1</td>\n",
       "      <td>0.21498</td>\n",
       "      <td>2</td>\n",
       "      <td>0</td>\n",
       "      <td>0</td>\n",
       "      <td>5</td>\n",
       "      <td>0</td>\n",
       "      <td>0</td>\n",
       "    </tr>\n",
       "    <tr>\n",
       "      <th rowspan=\"2\" valign=\"top\">C</th>\n",
       "      <th>bimanual</th>\n",
       "      <td>1.00000</td>\n",
       "      <td>0.31297</td>\n",
       "      <td>3.17351</td>\n",
       "      <td>2.93046</td>\n",
       "      <td>0.24305</td>\n",
       "      <td>39.12630</td>\n",
       "      <td>2</td>\n",
       "      <td>0.20590</td>\n",
       "      <td>2</td>\n",
       "      <td>12</td>\n",
       "      <td>0</td>\n",
       "      <td>0</td>\n",
       "      <td>0</td>\n",
       "      <td>0</td>\n",
       "    </tr>\n",
       "    <tr>\n",
       "      <th>unimanual</th>\n",
       "      <td>3.00000</td>\n",
       "      <td>0.19328</td>\n",
       "      <td>3.66097</td>\n",
       "      <td>3.13133</td>\n",
       "      <td>0.52964</td>\n",
       "      <td>23.85540</td>\n",
       "      <td>1</td>\n",
       "      <td>0.21730</td>\n",
       "      <td>1</td>\n",
       "      <td>0</td>\n",
       "      <td>0</td>\n",
       "      <td>2</td>\n",
       "      <td>0</td>\n",
       "      <td>0</td>\n",
       "    </tr>\n",
       "    <tr>\n",
       "      <th rowspan=\"2\" valign=\"top\">D</th>\n",
       "      <th>bimanual</th>\n",
       "      <td>3.00000</td>\n",
       "      <td>0.28357</td>\n",
       "      <td>3.22358</td>\n",
       "      <td>2.96545</td>\n",
       "      <td>0.25813</td>\n",
       "      <td>43.47540</td>\n",
       "      <td>2</td>\n",
       "      <td>0.18468</td>\n",
       "      <td>2</td>\n",
       "      <td>13</td>\n",
       "      <td>1</td>\n",
       "      <td>0</td>\n",
       "      <td>0</td>\n",
       "      <td>1</td>\n",
       "    </tr>\n",
       "    <tr>\n",
       "      <th>unimanual</th>\n",
       "      <td>2.00000</td>\n",
       "      <td>0.19749</td>\n",
       "      <td>3.68538</td>\n",
       "      <td>3.12610</td>\n",
       "      <td>0.55928</td>\n",
       "      <td>23.59440</td>\n",
       "      <td>1</td>\n",
       "      <td>0.17613</td>\n",
       "      <td>1</td>\n",
       "      <td>0</td>\n",
       "      <td>0</td>\n",
       "      <td>3</td>\n",
       "      <td>0</td>\n",
       "      <td>0</td>\n",
       "    </tr>\n",
       "  </tbody>\n",
       "</table>\n",
       "<p>192 rows × 14 columns</p>\n",
       "</div>"
      ],
      "text/plain": [
       "                          trial_id  luminance  pupilDiameter  pupil_lum_base  \\\n",
       "id  block model method                                                         \n",
       "108 0     A     bimanual   2.00000    0.28084        4.40283         3.65164   \n",
       "                unimanual  0.00000    0.25939        5.10438         3.71714   \n",
       "          B     bimanual   0.00000    0.32082        4.18903         3.54098   \n",
       "                unimanual  1.00000    0.26331        4.83574         3.71454   \n",
       "          C     bimanual   1.00000    0.23760        4.37592         3.78364   \n",
       "...                            ...        ...            ...             ...   \n",
       "136 0     B     unimanual  1.00000    0.25010        3.62507         3.02039   \n",
       "          C     bimanual   1.00000    0.31297        3.17351         2.93046   \n",
       "                unimanual  3.00000    0.19328        3.66097         3.13133   \n",
       "          D     bimanual   3.00000    0.28357        3.22358         2.96545   \n",
       "                unimanual  2.00000    0.19749        3.68538         3.12610   \n",
       "\n",
       "                           adj_pupil  total_time target_id     IPA  seq  \\\n",
       "id  block model method                                                    \n",
       "108 0     A     bimanual     0.75118    98.30300         2 0.11191    1   \n",
       "                unimanual    1.38724    62.76520         1 0.10701    2   \n",
       "          B     bimanual     0.64805    95.21040         2 0.13658    2   \n",
       "                unimanual    1.12120    40.44160         1 0.17314    2   \n",
       "          C     bimanual     0.59229    36.44090         2 0.24704    1   \n",
       "...                              ...         ...       ...     ...  ...   \n",
       "136 0     B     unimanual    0.60468    51.92650         1 0.21498    2   \n",
       "          C     bimanual     0.24305    39.12630         2 0.20590    2   \n",
       "                unimanual    0.52964    23.85540         1 0.21730    1   \n",
       "          D     bimanual     0.25813    43.47540         2 0.18468    2   \n",
       "                unimanual    0.55928    23.59440         1 0.17613    1   \n",
       "\n",
       "                           PointPlaced  Move  Draw  Erase  PointDeleted  \n",
       "id  block model method                                                   \n",
       "108 0     A     bimanual            19     6     0      0             0  \n",
       "                unimanual            0     0     4      0             0  \n",
       "          B     bimanual            17     3     0      0             0  \n",
       "                unimanual            0     0     4      0             0  \n",
       "          C     bimanual            12     1     0      0             0  \n",
       "...                                ...   ...   ...    ...           ...  \n",
       "136 0     B     unimanual            0     0     5      0             0  \n",
       "          C     bimanual            12     0     0      0             0  \n",
       "                unimanual            0     0     2      0             0  \n",
       "          D     bimanual            13     1     0      0             1  \n",
       "                unimanual            0     0     3      0             0  \n",
       "\n",
       "[192 rows x 14 columns]"
      ]
     },
     "execution_count": 247,
     "metadata": {},
     "output_type": "execute_result"
    }
   ],
   "source": [
    "user_data_crt"
   ]
  },
  {
   "cell_type": "markdown",
   "metadata": {},
   "source": [
    "## Navigation Linear Mixed Models"
   ]
  },
  {
   "cell_type": "code",
   "execution_count": 249,
   "metadata": {},
   "outputs": [
    {
     "data": {
      "text/html": [
       "<div>\n",
       "<style scoped>\n",
       "    .dataframe tbody tr th:only-of-type {\n",
       "        vertical-align: middle;\n",
       "    }\n",
       "\n",
       "    .dataframe tbody tr th {\n",
       "        vertical-align: top;\n",
       "    }\n",
       "\n",
       "    .dataframe thead th {\n",
       "        text-align: right;\n",
       "    }\n",
       "</style>\n",
       "<table border=\"1\" class=\"dataframe\">\n",
       "  <thead>\n",
       "    <tr style=\"text-align: right;\">\n",
       "      <th></th>\n",
       "      <th>id</th>\n",
       "      <th>block</th>\n",
       "      <th>model</th>\n",
       "      <th>method</th>\n",
       "      <th>trial_id</th>\n",
       "      <th>luminance</th>\n",
       "      <th>pupilDiameter</th>\n",
       "      <th>pupil_lum_base</th>\n",
       "      <th>adj_pupil</th>\n",
       "      <th>total_time</th>\n",
       "      <th>target_source</th>\n",
       "      <th>creation_method</th>\n",
       "      <th>IPA</th>\n",
       "      <th>discomfort</th>\n",
       "      <th>seq</th>\n",
       "      <th>scaled_tepr</th>\n",
       "      <th>scaled_ipa</th>\n",
       "      <th>scaled_time</th>\n",
       "      <th>scaled_seq</th>\n",
       "      <th>scaled_discomfort</th>\n",
       "    </tr>\n",
       "  </thead>\n",
       "  <tbody>\n",
       "    <tr>\n",
       "      <th>0</th>\n",
       "      <td>108</td>\n",
       "      <td>0</td>\n",
       "      <td>0</td>\n",
       "      <td>0</td>\n",
       "      <td>3</td>\n",
       "      <td>0.22436</td>\n",
       "      <td>4.86646</td>\n",
       "      <td>3.83158</td>\n",
       "      <td>1.03488</td>\n",
       "      <td>37.08220</td>\n",
       "      <td>1</td>\n",
       "      <td>2</td>\n",
       "      <td>0.24285</td>\n",
       "      <td>2</td>\n",
       "      <td>0</td>\n",
       "      <td>1.94278</td>\n",
       "      <td>1.21712</td>\n",
       "      <td>-1.20441</td>\n",
       "      <td>-0.80385</td>\n",
       "      <td>-0.10407</td>\n",
       "    </tr>\n",
       "    <tr>\n",
       "      <th>1</th>\n",
       "      <td>108</td>\n",
       "      <td>0</td>\n",
       "      <td>0</td>\n",
       "      <td>1</td>\n",
       "      <td>1</td>\n",
       "      <td>0.22551</td>\n",
       "      <td>4.35948</td>\n",
       "      <td>3.82915</td>\n",
       "      <td>0.53034</td>\n",
       "      <td>61.00430</td>\n",
       "      <td>2</td>\n",
       "      <td>3</td>\n",
       "      <td>0.09839</td>\n",
       "      <td>1</td>\n",
       "      <td>0</td>\n",
       "      <td>0.19133</td>\n",
       "      <td>-1.33761</td>\n",
       "      <td>-0.23195</td>\n",
       "      <td>-0.80385</td>\n",
       "      <td>-0.52480</td>\n",
       "    </tr>\n",
       "    <tr>\n",
       "      <th>2</th>\n",
       "      <td>108</td>\n",
       "      <td>0</td>\n",
       "      <td>1</td>\n",
       "      <td>0</td>\n",
       "      <td>2</td>\n",
       "      <td>0.24224</td>\n",
       "      <td>4.65088</td>\n",
       "      <td>3.77130</td>\n",
       "      <td>0.87958</td>\n",
       "      <td>67.70050</td>\n",
       "      <td>1</td>\n",
       "      <td>2</td>\n",
       "      <td>0.14776</td>\n",
       "      <td>1</td>\n",
       "      <td>0</td>\n",
       "      <td>1.40367</td>\n",
       "      <td>-0.46455</td>\n",
       "      <td>0.04025</td>\n",
       "      <td>-0.80385</td>\n",
       "      <td>-0.52480</td>\n",
       "    </tr>\n",
       "    <tr>\n",
       "      <th>3</th>\n",
       "      <td>108</td>\n",
       "      <td>0</td>\n",
       "      <td>1</td>\n",
       "      <td>1</td>\n",
       "      <td>3</td>\n",
       "      <td>0.25618</td>\n",
       "      <td>4.43714</td>\n",
       "      <td>3.74668</td>\n",
       "      <td>0.69046</td>\n",
       "      <td>96.43160</td>\n",
       "      <td>2</td>\n",
       "      <td>3</td>\n",
       "      <td>0.19708</td>\n",
       "      <td>1</td>\n",
       "      <td>0</td>\n",
       "      <td>0.74717</td>\n",
       "      <td>0.40767</td>\n",
       "      <td>1.20820</td>\n",
       "      <td>-0.80385</td>\n",
       "      <td>-0.52480</td>\n",
       "    </tr>\n",
       "    <tr>\n",
       "      <th>4</th>\n",
       "      <td>108</td>\n",
       "      <td>0</td>\n",
       "      <td>2</td>\n",
       "      <td>0</td>\n",
       "      <td>0</td>\n",
       "      <td>0.22350</td>\n",
       "      <td>4.65890</td>\n",
       "      <td>3.85290</td>\n",
       "      <td>0.80600</td>\n",
       "      <td>88.03560</td>\n",
       "      <td>1</td>\n",
       "      <td>2</td>\n",
       "      <td>0.22724</td>\n",
       "      <td>1</td>\n",
       "      <td>1</td>\n",
       "      <td>1.14826</td>\n",
       "      <td>0.94106</td>\n",
       "      <td>0.86689</td>\n",
       "      <td>0.31917</td>\n",
       "      <td>-0.52480</td>\n",
       "    </tr>\n",
       "    <tr>\n",
       "      <th>...</th>\n",
       "      <td>...</td>\n",
       "      <td>...</td>\n",
       "      <td>...</td>\n",
       "      <td>...</td>\n",
       "      <td>...</td>\n",
       "      <td>...</td>\n",
       "      <td>...</td>\n",
       "      <td>...</td>\n",
       "      <td>...</td>\n",
       "      <td>...</td>\n",
       "      <td>...</td>\n",
       "      <td>...</td>\n",
       "      <td>...</td>\n",
       "      <td>...</td>\n",
       "      <td>...</td>\n",
       "      <td>...</td>\n",
       "      <td>...</td>\n",
       "      <td>...</td>\n",
       "      <td>...</td>\n",
       "      <td>...</td>\n",
       "    </tr>\n",
       "    <tr>\n",
       "      <th>185</th>\n",
       "      <td>136</td>\n",
       "      <td>0</td>\n",
       "      <td>1</td>\n",
       "      <td>1</td>\n",
       "      <td>3</td>\n",
       "      <td>0.23880</td>\n",
       "      <td>3.30005</td>\n",
       "      <td>3.06347</td>\n",
       "      <td>0.23659</td>\n",
       "      <td>172.93840</td>\n",
       "      <td>2</td>\n",
       "      <td>3</td>\n",
       "      <td>0.13889</td>\n",
       "      <td>7</td>\n",
       "      <td>2</td>\n",
       "      <td>-0.82838</td>\n",
       "      <td>-0.62131</td>\n",
       "      <td>4.31827</td>\n",
       "      <td>1.44220</td>\n",
       "      <td>1.99956</td>\n",
       "    </tr>\n",
       "    <tr>\n",
       "      <th>186</th>\n",
       "      <td>136</td>\n",
       "      <td>0</td>\n",
       "      <td>2</td>\n",
       "      <td>0</td>\n",
       "      <td>0</td>\n",
       "      <td>0.20333</td>\n",
       "      <td>3.62717</td>\n",
       "      <td>3.11666</td>\n",
       "      <td>0.51051</td>\n",
       "      <td>94.25570</td>\n",
       "      <td>1</td>\n",
       "      <td>2</td>\n",
       "      <td>0.12735</td>\n",
       "      <td>8</td>\n",
       "      <td>1</td>\n",
       "      <td>0.12250</td>\n",
       "      <td>-0.82553</td>\n",
       "      <td>1.11975</td>\n",
       "      <td>0.31917</td>\n",
       "      <td>2.42029</td>\n",
       "    </tr>\n",
       "    <tr>\n",
       "      <th>187</th>\n",
       "      <td>136</td>\n",
       "      <td>0</td>\n",
       "      <td>2</td>\n",
       "      <td>1</td>\n",
       "      <td>2</td>\n",
       "      <td>0.20850</td>\n",
       "      <td>3.51866</td>\n",
       "      <td>3.11225</td>\n",
       "      <td>0.40642</td>\n",
       "      <td>92.54840</td>\n",
       "      <td>2</td>\n",
       "      <td>3</td>\n",
       "      <td>0.17324</td>\n",
       "      <td>7</td>\n",
       "      <td>1</td>\n",
       "      <td>-0.23884</td>\n",
       "      <td>-0.01385</td>\n",
       "      <td>1.05034</td>\n",
       "      <td>0.31917</td>\n",
       "      <td>1.99956</td>\n",
       "    </tr>\n",
       "    <tr>\n",
       "      <th>188</th>\n",
       "      <td>136</td>\n",
       "      <td>0</td>\n",
       "      <td>3</td>\n",
       "      <td>0</td>\n",
       "      <td>1</td>\n",
       "      <td>0.21263</td>\n",
       "      <td>3.48641</td>\n",
       "      <td>3.08937</td>\n",
       "      <td>0.39703</td>\n",
       "      <td>84.88170</td>\n",
       "      <td>1</td>\n",
       "      <td>2</td>\n",
       "      <td>0.11784</td>\n",
       "      <td>7</td>\n",
       "      <td>1</td>\n",
       "      <td>-0.27141</td>\n",
       "      <td>-0.99359</td>\n",
       "      <td>0.73868</td>\n",
       "      <td>0.31917</td>\n",
       "      <td>1.99956</td>\n",
       "    </tr>\n",
       "    <tr>\n",
       "      <th>189</th>\n",
       "      <td>136</td>\n",
       "      <td>0</td>\n",
       "      <td>3</td>\n",
       "      <td>1</td>\n",
       "      <td>0</td>\n",
       "      <td>0.22366</td>\n",
       "      <td>3.58864</td>\n",
       "      <td>3.06293</td>\n",
       "      <td>0.52570</td>\n",
       "      <td>91.76680</td>\n",
       "      <td>2</td>\n",
       "      <td>3</td>\n",
       "      <td>0.08720</td>\n",
       "      <td>8</td>\n",
       "      <td>1</td>\n",
       "      <td>0.17525</td>\n",
       "      <td>-1.53554</td>\n",
       "      <td>1.01857</td>\n",
       "      <td>0.31917</td>\n",
       "      <td>2.42029</td>\n",
       "    </tr>\n",
       "  </tbody>\n",
       "</table>\n",
       "<p>190 rows × 20 columns</p>\n",
       "</div>"
      ],
      "text/plain": [
       "      id  block  model  method  trial_id  luminance  pupilDiameter  \\\n",
       "0    108      0      0       0         3    0.22436        4.86646   \n",
       "1    108      0      0       1         1    0.22551        4.35948   \n",
       "2    108      0      1       0         2    0.24224        4.65088   \n",
       "3    108      0      1       1         3    0.25618        4.43714   \n",
       "4    108      0      2       0         0    0.22350        4.65890   \n",
       "..   ...    ...    ...     ...       ...        ...            ...   \n",
       "185  136      0      1       1         3    0.23880        3.30005   \n",
       "186  136      0      2       0         0    0.20333        3.62717   \n",
       "187  136      0      2       1         2    0.20850        3.51866   \n",
       "188  136      0      3       0         1    0.21263        3.48641   \n",
       "189  136      0      3       1         0    0.22366        3.58864   \n",
       "\n",
       "     pupil_lum_base  adj_pupil  total_time  target_source  creation_method  \\\n",
       "0           3.83158    1.03488    37.08220              1                2   \n",
       "1           3.82915    0.53034    61.00430              2                3   \n",
       "2           3.77130    0.87958    67.70050              1                2   \n",
       "3           3.74668    0.69046    96.43160              2                3   \n",
       "4           3.85290    0.80600    88.03560              1                2   \n",
       "..              ...        ...         ...            ...              ...   \n",
       "185         3.06347    0.23659   172.93840              2                3   \n",
       "186         3.11666    0.51051    94.25570              1                2   \n",
       "187         3.11225    0.40642    92.54840              2                3   \n",
       "188         3.08937    0.39703    84.88170              1                2   \n",
       "189         3.06293    0.52570    91.76680              2                3   \n",
       "\n",
       "        IPA  discomfort  seq  scaled_tepr  scaled_ipa  scaled_time  \\\n",
       "0   0.24285           2    0      1.94278     1.21712     -1.20441   \n",
       "1   0.09839           1    0      0.19133    -1.33761     -0.23195   \n",
       "2   0.14776           1    0      1.40367    -0.46455      0.04025   \n",
       "3   0.19708           1    0      0.74717     0.40767      1.20820   \n",
       "4   0.22724           1    1      1.14826     0.94106      0.86689   \n",
       "..      ...         ...  ...          ...         ...          ...   \n",
       "185 0.13889           7    2     -0.82838    -0.62131      4.31827   \n",
       "186 0.12735           8    1      0.12250    -0.82553      1.11975   \n",
       "187 0.17324           7    1     -0.23884    -0.01385      1.05034   \n",
       "188 0.11784           7    1     -0.27141    -0.99359      0.73868   \n",
       "189 0.08720           8    1      0.17525    -1.53554      1.01857   \n",
       "\n",
       "     scaled_seq  scaled_discomfort  \n",
       "0      -0.80385           -0.10407  \n",
       "1      -0.80385           -0.52480  \n",
       "2      -0.80385           -0.52480  \n",
       "3      -0.80385           -0.52480  \n",
       "4       0.31917           -0.52480  \n",
       "..          ...                ...  \n",
       "185     1.44220            1.99956  \n",
       "186     0.31917            2.42029  \n",
       "187     0.31917            1.99956  \n",
       "188     0.31917            1.99956  \n",
       "189     0.31917            2.42029  \n",
       "\n",
       "[190 rows x 20 columns]"
      ]
     },
     "execution_count": 249,
     "metadata": {},
     "output_type": "execute_result"
    }
   ],
   "source": [
    "mm_nav_data = user_data_nav\n",
    "mm_nav_data = mm_nav_data.reset_index(level=(0,1,2,3))\n",
    "\n",
    "mm_nav_data['block'] = mm_nav_data['block'].astype(block_cats).cat.codes\n",
    "mm_nav_data['method'] = mm_nav_data['method'].astype(method_cats).cat.codes\n",
    "mm_nav_data['model'] = mm_nav_data['model'].astype(model_cats).cat.codes\n",
    "mm_nav_data['creation_method'] = mm_nav_data['creation_method'].astype(method_cats).cat.codes\n",
    "mm_nav_data['target_source'] = mm_nav_data['target_source'].astype(int)\n",
    "mm_nav_data['trial_id'] = mm_nav_data['trial_id'].astype(int)\n",
    "mm_nav_data['scaled_tepr'] = stats.zscore(mm_nav_data['adj_pupil']).astype(float)\n",
    "mm_nav_data['scaled_ipa'] = stats.zscore(mm_nav_data['IPA']).astype(float)\n",
    "mm_nav_data['scaled_time'] = stats.zscore(mm_nav_data['total_time']).astype(float)\n",
    "mm_nav_data['scaled_seq'] = stats.zscore(mm_nav_data['seq']).astype(float)\n",
    "mm_nav_data['scaled_discomfort'] = stats.zscore(mm_nav_data['discomfort']).astype(float)\n",
    "\n",
    "pd.options.display.float_format = '{:.5f}'.format\n",
    "mm_nav_data"
   ]
  },
  {
   "cell_type": "code",
   "execution_count": 135,
   "metadata": {},
   "outputs": [],
   "source": [
    "import plotly.express as px"
   ]
  },
  {
   "cell_type": "code",
   "execution_count": 382,
   "metadata": {},
   "outputs": [
    {
     "data": {
      "application/vnd.plotly.v1+json": {
       "config": {
        "plotlyServerURL": "https://plot.ly"
       },
       "data": [
        {
         "hovertemplate": "model=0<br>id=108<br>trial_id=%{x}<br>IPA=%{y}<br>method=%{marker.color}<extra></extra>",
         "legendgroup": "",
         "marker": {
          "color": [
           0,
           1
          ],
          "coloraxis": "coloraxis",
          "symbol": "circle"
         },
         "mode": "markers",
         "name": "",
         "orientation": "v",
         "showlegend": false,
         "type": "scatter",
         "x": [
          3,
          1
         ],
         "xaxis": "x73",
         "y": [
          0.24284615695956613,
          0.09838936607731437
         ],
         "yaxis": "y73"
        },
        {
         "hovertemplate": "<b>OLS trendline</b><br>IPA = 0.0722284 * trial_id + 0.026161<br>R<sup>2</sup>=1.000000<br><br>model=0<br>id=108<br>trial_id=%{x}<br>IPA=%{y} <b>(trend)</b><extra></extra>",
         "legendgroup": "",
         "marker": {
          "symbol": "circle"
         },
         "mode": "lines",
         "name": "",
         "showlegend": false,
         "type": "scatter",
         "x": [
          1,
          3
         ],
         "xaxis": "x73",
         "y": [
          0.09838936607731434,
          0.24284615695956613
         ],
         "yaxis": "y73"
        },
        {
         "hovertemplate": "model=0<br>id=109<br>trial_id=%{x}<br>IPA=%{y}<br>method=%{marker.color}<extra></extra>",
         "legendgroup": "",
         "marker": {
          "color": [
           0,
           1
          ],
          "coloraxis": "coloraxis",
          "symbol": "circle"
         },
         "mode": "markers",
         "name": "",
         "orientation": "v",
         "showlegend": false,
         "type": "scatter",
         "x": [
          0,
          1
         ],
         "xaxis": "x74",
         "y": [
          0.10634790654145973,
          0.14777946574767542
         ],
         "yaxis": "y74"
        },
        {
         "hovertemplate": "<b>OLS trendline</b><br>IPA = 0.0414316 * trial_id + 0.106348<br>R<sup>2</sup>=1.000000<br><br>model=0<br>id=109<br>trial_id=%{x}<br>IPA=%{y} <b>(trend)</b><extra></extra>",
         "legendgroup": "",
         "marker": {
          "symbol": "circle"
         },
         "mode": "lines",
         "name": "",
         "showlegend": false,
         "type": "scatter",
         "x": [
          0,
          1
         ],
         "xaxis": "x74",
         "y": [
          0.10634790654145972,
          0.14777946574767536
         ],
         "yaxis": "y74"
        },
        {
         "hovertemplate": "model=0<br>id=110<br>trial_id=%{x}<br>IPA=%{y}<br>method=%{marker.color}<extra></extra>",
         "legendgroup": "",
         "marker": {
          "color": [
           0,
           1
          ],
          "coloraxis": "coloraxis",
          "symbol": "circle"
         },
         "mode": "markers",
         "name": "",
         "orientation": "v",
         "showlegend": false,
         "type": "scatter",
         "x": [
          0,
          2
         ],
         "xaxis": "x75",
         "y": [
          0.1808752388375313,
          0.1474022459890796
         ],
         "yaxis": "y75"
        },
        {
         "hovertemplate": "<b>OLS trendline</b><br>IPA = -0.0167365 * trial_id + 0.180875<br>R<sup>2</sup>=1.000000<br><br>model=0<br>id=110<br>trial_id=%{x}<br>IPA=%{y} <b>(trend)</b><extra></extra>",
         "legendgroup": "",
         "marker": {
          "symbol": "circle"
         },
         "mode": "lines",
         "name": "",
         "showlegend": false,
         "type": "scatter",
         "x": [
          0,
          2
         ],
         "xaxis": "x75",
         "y": [
          0.1808752388375312,
          0.14740224598907947
         ],
         "yaxis": "y75"
        },
        {
         "hovertemplate": "model=0<br>id=111<br>trial_id=%{x}<br>IPA=%{y}<br>method=%{marker.color}<extra></extra>",
         "legendgroup": "",
         "marker": {
          "color": [
           0,
           1
          ],
          "coloraxis": "coloraxis",
          "symbol": "circle"
         },
         "mode": "markers",
         "name": "",
         "orientation": "v",
         "showlegend": false,
         "type": "scatter",
         "x": [
          3,
          2
         ],
         "xaxis": "x76",
         "y": [
          0.30769636522679417,
          0.30177186511261894
         ],
         "yaxis": "y76"
        },
        {
         "hovertemplate": "<b>OLS trendline</b><br>IPA = 0.0059245 * trial_id + 0.289923<br>R<sup>2</sup>=1.000000<br><br>model=0<br>id=111<br>trial_id=%{x}<br>IPA=%{y} <b>(trend)</b><extra></extra>",
         "legendgroup": "",
         "marker": {
          "symbol": "circle"
         },
         "mode": "lines",
         "name": "",
         "showlegend": false,
         "type": "scatter",
         "x": [
          2,
          3
         ],
         "xaxis": "x76",
         "y": [
          0.301771865112619,
          0.3076963652267943
         ],
         "yaxis": "y76"
        },
        {
         "hovertemplate": "model=0<br>id=112<br>trial_id=%{x}<br>IPA=%{y}<br>method=%{marker.color}<extra></extra>",
         "legendgroup": "",
         "marker": {
          "color": [
           0,
           1
          ],
          "coloraxis": "coloraxis",
          "symbol": "circle"
         },
         "mode": "markers",
         "name": "",
         "orientation": "v",
         "showlegend": false,
         "type": "scatter",
         "x": [
          3,
          1
         ],
         "xaxis": "x77",
         "y": [
          0.2434545505133413,
          0.19943161988333252
         ],
         "yaxis": "y77"
        },
        {
         "hovertemplate": "<b>OLS trendline</b><br>IPA = 0.0220115 * trial_id + 0.17742<br>R<sup>2</sup>=1.000000<br><br>model=0<br>id=112<br>trial_id=%{x}<br>IPA=%{y} <b>(trend)</b><extra></extra>",
         "legendgroup": "",
         "marker": {
          "symbol": "circle"
         },
         "mode": "lines",
         "name": "",
         "showlegend": false,
         "type": "scatter",
         "x": [
          1,
          3
         ],
         "xaxis": "x77",
         "y": [
          0.19943161988333247,
          0.24345455051334125
         ],
         "yaxis": "y77"
        },
        {
         "hovertemplate": "model=0<br>id=114<br>trial_id=%{x}<br>IPA=%{y}<br>method=%{marker.color}<extra></extra>",
         "legendgroup": "",
         "marker": {
          "color": [
           0,
           1
          ],
          "coloraxis": "coloraxis",
          "symbol": "circle"
         },
         "mode": "markers",
         "name": "",
         "orientation": "v",
         "showlegend": false,
         "type": "scatter",
         "x": [
          0,
          2
         ],
         "xaxis": "x78",
         "y": [
          0.15320605557877964,
          0.21783577050067993
         ],
         "yaxis": "y78"
        },
        {
         "hovertemplate": "<b>OLS trendline</b><br>IPA = 0.0323149 * trial_id + 0.153206<br>R<sup>2</sup>=1.000000<br><br>model=0<br>id=114<br>trial_id=%{x}<br>IPA=%{y} <b>(trend)</b><extra></extra>",
         "legendgroup": "",
         "marker": {
          "symbol": "circle"
         },
         "mode": "lines",
         "name": "",
         "showlegend": false,
         "type": "scatter",
         "x": [
          0,
          2
         ],
         "xaxis": "x78",
         "y": [
          0.15320605557877962,
          0.21783577050067982
         ],
         "yaxis": "y78"
        },
        {
         "hovertemplate": "model=0<br>id=116<br>trial_id=%{x}<br>IPA=%{y}<br>method=%{marker.color}<extra></extra>",
         "legendgroup": "",
         "marker": {
          "color": [
           0,
           1
          ],
          "coloraxis": "coloraxis",
          "symbol": "circle"
         },
         "mode": "markers",
         "name": "",
         "orientation": "v",
         "showlegend": false,
         "type": "scatter",
         "x": [
          3,
          1
         ],
         "xaxis": "x79",
         "y": [
          0.3029973567936463,
          0.2909531977433241
         ],
         "yaxis": "y79"
        },
        {
         "hovertemplate": "<b>OLS trendline</b><br>IPA = 0.00602208 * trial_id + 0.284931<br>R<sup>2</sup>=1.000000<br><br>model=0<br>id=116<br>trial_id=%{x}<br>IPA=%{y} <b>(trend)</b><extra></extra>",
         "legendgroup": "",
         "marker": {
          "symbol": "circle"
         },
         "mode": "lines",
         "name": "",
         "showlegend": false,
         "type": "scatter",
         "x": [
          1,
          3
         ],
         "xaxis": "x79",
         "y": [
          0.29095319774332395,
          0.30299735679364626
         ],
         "yaxis": "y79"
        },
        {
         "hovertemplate": "model=0<br>id=117<br>trial_id=%{x}<br>IPA=%{y}<br>method=%{marker.color}<extra></extra>",
         "legendgroup": "",
         "marker": {
          "color": [
           0,
           1
          ],
          "coloraxis": "coloraxis",
          "symbol": "circle"
         },
         "mode": "markers",
         "name": "",
         "orientation": "v",
         "showlegend": false,
         "type": "scatter",
         "x": [
          0,
          1
         ],
         "xaxis": "x80",
         "y": [
          0.18048840161476956,
          0.1863907631515628
         ],
         "yaxis": "y80"
        },
        {
         "hovertemplate": "<b>OLS trendline</b><br>IPA = 0.00590236 * trial_id + 0.180488<br>R<sup>2</sup>=1.000000<br><br>model=0<br>id=117<br>trial_id=%{x}<br>IPA=%{y} <b>(trend)</b><extra></extra>",
         "legendgroup": "",
         "marker": {
          "symbol": "circle"
         },
         "mode": "lines",
         "name": "",
         "showlegend": false,
         "type": "scatter",
         "x": [
          0,
          1
         ],
         "xaxis": "x80",
         "y": [
          0.18048840161476953,
          0.18639076315156275
         ],
         "yaxis": "y80"
        },
        {
         "hovertemplate": "model=0<br>id=118<br>trial_id=%{x}<br>IPA=%{y}<br>method=%{marker.color}<extra></extra>",
         "legendgroup": "",
         "marker": {
          "color": [
           0,
           1
          ],
          "coloraxis": "coloraxis",
          "symbol": "circle"
         },
         "mode": "markers",
         "name": "",
         "orientation": "v",
         "showlegend": false,
         "type": "scatter",
         "x": [
          0,
          2
         ],
         "xaxis": "x81",
         "y": [
          0.2607289982791886,
          0.1999770935329226
         ],
         "yaxis": "y81"
        },
        {
         "hovertemplate": "<b>OLS trendline</b><br>IPA = -0.030376 * trial_id + 0.260729<br>R<sup>2</sup>=1.000000<br><br>model=0<br>id=118<br>trial_id=%{x}<br>IPA=%{y} <b>(trend)</b><extra></extra>",
         "legendgroup": "",
         "marker": {
          "symbol": "circle"
         },
         "mode": "lines",
         "name": "",
         "showlegend": false,
         "type": "scatter",
         "x": [
          0,
          2
         ],
         "xaxis": "x81",
         "y": [
          0.2607289982791885,
          0.1999770935329224
         ],
         "yaxis": "y81"
        },
        {
         "hovertemplate": "model=0<br>id=119<br>trial_id=%{x}<br>IPA=%{y}<br>method=%{marker.color}<extra></extra>",
         "legendgroup": "",
         "marker": {
          "color": [
           0,
           1
          ],
          "coloraxis": "coloraxis",
          "symbol": "circle"
         },
         "mode": "markers",
         "name": "",
         "orientation": "v",
         "showlegend": false,
         "type": "scatter",
         "x": [
          3,
          2
         ],
         "xaxis": "x82",
         "y": [
          0.250934731876239,
          0.23216358603446738
         ],
         "yaxis": "y82"
        },
        {
         "hovertemplate": "<b>OLS trendline</b><br>IPA = 0.0187711 * trial_id + 0.194621<br>R<sup>2</sup>=1.000000<br><br>model=0<br>id=119<br>trial_id=%{x}<br>IPA=%{y} <b>(trend)</b><extra></extra>",
         "legendgroup": "",
         "marker": {
          "symbol": "circle"
         },
         "mode": "lines",
         "name": "",
         "showlegend": false,
         "type": "scatter",
         "x": [
          2,
          3
         ],
         "xaxis": "x82",
         "y": [
          0.23216358603446746,
          0.25093473187623916
         ],
         "yaxis": "y82"
        },
        {
         "hovertemplate": "model=0<br>id=120<br>trial_id=%{x}<br>IPA=%{y}<br>method=%{marker.color}<extra></extra>",
         "legendgroup": "",
         "marker": {
          "color": [
           0,
           1
          ],
          "coloraxis": "coloraxis",
          "symbol": "circle"
         },
         "mode": "markers",
         "name": "",
         "orientation": "v",
         "showlegend": false,
         "type": "scatter",
         "x": [
          3,
          1
         ],
         "xaxis": "x83",
         "y": [
          0.18691326757101534,
          0.17719548614944666
         ],
         "yaxis": "y83"
        },
        {
         "hovertemplate": "<b>OLS trendline</b><br>IPA = 0.00485889 * trial_id + 0.172337<br>R<sup>2</sup>=1.000000<br><br>model=0<br>id=120<br>trial_id=%{x}<br>IPA=%{y} <b>(trend)</b><extra></extra>",
         "legendgroup": "",
         "marker": {
          "symbol": "circle"
         },
         "mode": "lines",
         "name": "",
         "showlegend": false,
         "type": "scatter",
         "x": [
          1,
          3
         ],
         "xaxis": "x83",
         "y": [
          0.17719548614944658,
          0.18691326757101528
         ],
         "yaxis": "y83"
        },
        {
         "hovertemplate": "model=0<br>id=121<br>trial_id=%{x}<br>IPA=%{y}<br>method=%{marker.color}<extra></extra>",
         "legendgroup": "",
         "marker": {
          "color": [
           0,
           1
          ],
          "coloraxis": "coloraxis",
          "symbol": "circle"
         },
         "mode": "markers",
         "name": "",
         "orientation": "v",
         "showlegend": false,
         "type": "scatter",
         "x": [
          0,
          1
         ],
         "xaxis": "x84",
         "y": [
          0.14562081795213444,
          0.21509717428496736
         ],
         "yaxis": "y84"
        },
        {
         "hovertemplate": "<b>OLS trendline</b><br>IPA = 0.0694764 * trial_id + 0.145621<br>R<sup>2</sup>=1.000000<br><br>model=0<br>id=121<br>trial_id=%{x}<br>IPA=%{y} <b>(trend)</b><extra></extra>",
         "legendgroup": "",
         "marker": {
          "symbol": "circle"
         },
         "mode": "lines",
         "name": "",
         "showlegend": false,
         "type": "scatter",
         "x": [
          0,
          1
         ],
         "xaxis": "x84",
         "y": [
          0.1456208179521344,
          0.21509717428496727
         ],
         "yaxis": "y84"
        },
        {
         "hovertemplate": "model=0<br>id=122<br>trial_id=%{x}<br>IPA=%{y}<br>method=%{marker.color}<extra></extra>",
         "legendgroup": "",
         "marker": {
          "color": [
           0,
           1
          ],
          "coloraxis": "coloraxis",
          "symbol": "circle"
         },
         "mode": "markers",
         "name": "",
         "orientation": "v",
         "showlegend": false,
         "type": "scatter",
         "x": [
          0,
          2
         ],
         "xaxis": "x85",
         "y": [
          0.1301727392249515,
          0.14108929400328174
         ],
         "yaxis": "y85"
        },
        {
         "hovertemplate": "<b>OLS trendline</b><br>IPA = 0.00545828 * trial_id + 0.130173<br>R<sup>2</sup>=1.000000<br><br>model=0<br>id=122<br>trial_id=%{x}<br>IPA=%{y} <b>(trend)</b><extra></extra>",
         "legendgroup": "",
         "marker": {
          "symbol": "circle"
         },
         "mode": "lines",
         "name": "",
         "showlegend": false,
         "type": "scatter",
         "x": [
          0,
          2
         ],
         "xaxis": "x85",
         "y": [
          0.13017273922495146,
          0.14108929400328163
         ],
         "yaxis": "y85"
        },
        {
         "hovertemplate": "model=0<br>id=124<br>trial_id=%{x}<br>IPA=%{y}<br>method=%{marker.color}<extra></extra>",
         "legendgroup": "",
         "marker": {
          "color": [
           0,
           1
          ],
          "coloraxis": "coloraxis",
          "symbol": "circle"
         },
         "mode": "markers",
         "name": "",
         "orientation": "v",
         "showlegend": false,
         "type": "scatter",
         "x": [
          3,
          1
         ],
         "xaxis": "x86",
         "y": [
          0.18165101207560036,
          0.2069082527425689
         ],
         "yaxis": "y86"
        },
        {
         "hovertemplate": "<b>OLS trendline</b><br>IPA = -0.0126286 * trial_id + 0.219537<br>R<sup>2</sup>=1.000000<br><br>model=0<br>id=124<br>trial_id=%{x}<br>IPA=%{y} <b>(trend)</b><extra></extra>",
         "legendgroup": "",
         "marker": {
          "symbol": "circle"
         },
         "mode": "lines",
         "name": "",
         "showlegend": false,
         "type": "scatter",
         "x": [
          1,
          3
         ],
         "xaxis": "x86",
         "y": [
          0.2069082527425688,
          0.1816510120756003
         ],
         "yaxis": "y86"
        },
        {
         "hovertemplate": "model=0<br>id=125<br>trial_id=%{x}<br>IPA=%{y}<br>method=%{marker.color}<extra></extra>",
         "legendgroup": "",
         "marker": {
          "color": [
           0,
           1
          ],
          "coloraxis": "coloraxis",
          "symbol": "circle"
         },
         "mode": "markers",
         "name": "",
         "orientation": "v",
         "showlegend": false,
         "type": "scatter",
         "x": [
          0,
          1
         ],
         "xaxis": "x87",
         "y": [
          0.20900061132678813,
          0.12139632257430834
         ],
         "yaxis": "y87"
        },
        {
         "hovertemplate": "<b>OLS trendline</b><br>IPA = -0.0876043 * trial_id + 0.209001<br>R<sup>2</sup>=1.000000<br><br>model=0<br>id=125<br>trial_id=%{x}<br>IPA=%{y} <b>(trend)</b><extra></extra>",
         "legendgroup": "",
         "marker": {
          "symbol": "circle"
         },
         "mode": "lines",
         "name": "",
         "showlegend": false,
         "type": "scatter",
         "x": [
          0,
          1
         ],
         "xaxis": "x87",
         "y": [
          0.2090006113267881,
          0.12139632257430828
         ],
         "yaxis": "y87"
        },
        {
         "hovertemplate": "model=0<br>id=126<br>trial_id=%{x}<br>IPA=%{y}<br>method=%{marker.color}<extra></extra>",
         "legendgroup": "",
         "marker": {
          "color": [
           0,
           1
          ],
          "coloraxis": "coloraxis",
          "symbol": "circle"
         },
         "mode": "markers",
         "name": "",
         "orientation": "v",
         "showlegend": false,
         "type": "scatter",
         "x": [
          0,
          2
         ],
         "xaxis": "x88",
         "y": [
          0.12419737446750374,
          0.14526498408310817
         ],
         "yaxis": "y88"
        },
        {
         "hovertemplate": "<b>OLS trendline</b><br>IPA = 0.0105338 * trial_id + 0.124197<br>R<sup>2</sup>=1.000000<br><br>model=0<br>id=126<br>trial_id=%{x}<br>IPA=%{y} <b>(trend)</b><extra></extra>",
         "legendgroup": "",
         "marker": {
          "symbol": "circle"
         },
         "mode": "lines",
         "name": "",
         "showlegend": false,
         "type": "scatter",
         "x": [
          0,
          2
         ],
         "xaxis": "x88",
         "y": [
          0.1241973744675037,
          0.14526498408310806
         ],
         "yaxis": "y88"
        },
        {
         "hovertemplate": "model=0<br>id=127<br>trial_id=%{x}<br>IPA=%{y}<br>method=%{marker.color}<extra></extra>",
         "legendgroup": "",
         "marker": {
          "color": [
           0,
           1
          ],
          "coloraxis": "coloraxis",
          "symbol": "circle"
         },
         "mode": "markers",
         "name": "",
         "orientation": "v",
         "showlegend": false,
         "type": "scatter",
         "x": [
          3,
          2
         ],
         "xaxis": "x89",
         "y": [
          0.2657715480926905,
          0.18125719993877534
         ],
         "yaxis": "y89"
        },
        {
         "hovertemplate": "<b>OLS trendline</b><br>IPA = 0.0845143 * trial_id + 0.0122285<br>R<sup>2</sup>=1.000000<br><br>model=0<br>id=127<br>trial_id=%{x}<br>IPA=%{y} <b>(trend)</b><extra></extra>",
         "legendgroup": "",
         "marker": {
          "symbol": "circle"
         },
         "mode": "lines",
         "name": "",
         "showlegend": false,
         "type": "scatter",
         "x": [
          2,
          3
         ],
         "xaxis": "x89",
         "y": [
          0.18125719993877543,
          0.2657715480926906
         ],
         "yaxis": "y89"
        },
        {
         "hovertemplate": "model=0<br>id=128<br>trial_id=%{x}<br>IPA=%{y}<br>method=%{marker.color}<extra></extra>",
         "legendgroup": "",
         "marker": {
          "color": [
           0,
           1
          ],
          "coloraxis": "coloraxis",
          "symbol": "circle"
         },
         "mode": "markers",
         "name": "",
         "orientation": "v",
         "showlegend": false,
         "type": "scatter",
         "x": [
          3,
          1
         ],
         "xaxis": "x90",
         "y": [
          0.09808575834023203,
          0.10672757253472648
         ],
         "yaxis": "y90"
        },
        {
         "hovertemplate": "<b>OLS trendline</b><br>IPA = -0.00432091 * trial_id + 0.111048<br>R<sup>2</sup>=1.000000<br><br>model=0<br>id=128<br>trial_id=%{x}<br>IPA=%{y} <b>(trend)</b><extra></extra>",
         "legendgroup": "",
         "marker": {
          "symbol": "circle"
         },
         "mode": "lines",
         "name": "",
         "showlegend": false,
         "type": "scatter",
         "x": [
          1,
          3
         ],
         "xaxis": "x90",
         "y": [
          0.10672757253472642,
          0.09808575834023198
         ],
         "yaxis": "y90"
        },
        {
         "hovertemplate": "model=0<br>id=131<br>trial_id=%{x}<br>IPA=%{y}<br>method=%{marker.color}<extra></extra>",
         "legendgroup": "",
         "marker": {
          "color": [
           0,
           1
          ],
          "coloraxis": "coloraxis",
          "symbol": "circle"
         },
         "mode": "markers",
         "name": "",
         "orientation": "v",
         "showlegend": false,
         "type": "scatter",
         "x": [
          3,
          2
         ],
         "xaxis": "x91",
         "y": [
          0.193225824631462,
          0.1410479510140466
         ],
         "yaxis": "y91"
        },
        {
         "hovertemplate": "<b>OLS trendline</b><br>IPA = 0.0521779 * trial_id + 0.0366922<br>R<sup>2</sup>=1.000000<br><br>model=0<br>id=131<br>trial_id=%{x}<br>IPA=%{y} <b>(trend)</b><extra></extra>",
         "legendgroup": "",
         "marker": {
          "symbol": "circle"
         },
         "mode": "lines",
         "name": "",
         "showlegend": false,
         "type": "scatter",
         "x": [
          2,
          3
         ],
         "xaxis": "x91",
         "y": [
          0.14104795101404666,
          0.1932258246314621
         ],
         "yaxis": "y91"
        },
        {
         "hovertemplate": "model=0<br>id=132<br>trial_id=%{x}<br>IPA=%{y}<br>method=%{marker.color}<extra></extra>",
         "legendgroup": "",
         "marker": {
          "color": [
           0,
           1
          ],
          "coloraxis": "coloraxis",
          "symbol": "circle"
         },
         "mode": "markers",
         "name": "",
         "orientation": "v",
         "showlegend": false,
         "type": "scatter",
         "x": [
          3,
          1
         ],
         "xaxis": "x92",
         "y": [
          0.16928961063389553,
          0.258810335159384
         ],
         "yaxis": "y92"
        },
        {
         "hovertemplate": "<b>OLS trendline</b><br>IPA = -0.0447604 * trial_id + 0.303571<br>R<sup>2</sup>=1.000000<br><br>model=0<br>id=132<br>trial_id=%{x}<br>IPA=%{y} <b>(trend)</b><extra></extra>",
         "legendgroup": "",
         "marker": {
          "symbol": "circle"
         },
         "mode": "lines",
         "name": "",
         "showlegend": false,
         "type": "scatter",
         "x": [
          1,
          3
         ],
         "xaxis": "x92",
         "y": [
          0.2588103351593839,
          0.16928961063389547
         ],
         "yaxis": "y92"
        },
        {
         "hovertemplate": "model=0<br>id=133<br>trial_id=%{x}<br>IPA=%{y}<br>method=%{marker.color}<extra></extra>",
         "legendgroup": "",
         "marker": {
          "color": [
           0,
           1
          ],
          "coloraxis": "coloraxis",
          "symbol": "circle"
         },
         "mode": "markers",
         "name": "",
         "orientation": "v",
         "showlegend": false,
         "type": "scatter",
         "x": [
          0,
          1
         ],
         "xaxis": "x93",
         "y": [
          0.24983822974623932,
          0.16028323829130944
         ],
         "yaxis": "y93"
        },
        {
         "hovertemplate": "<b>OLS trendline</b><br>IPA = -0.089555 * trial_id + 0.249838<br>R<sup>2</sup>=1.000000<br><br>model=0<br>id=133<br>trial_id=%{x}<br>IPA=%{y} <b>(trend)</b><extra></extra>",
         "legendgroup": "",
         "marker": {
          "symbol": "circle"
         },
         "mode": "lines",
         "name": "",
         "showlegend": false,
         "type": "scatter",
         "x": [
          0,
          1
         ],
         "xaxis": "x93",
         "y": [
          0.2498382297462393,
          0.1602832382913094
         ],
         "yaxis": "y93"
        },
        {
         "hovertemplate": "model=0<br>id=134<br>trial_id=%{x}<br>IPA=%{y}<br>method=%{marker.color}<extra></extra>",
         "legendgroup": "",
         "marker": {
          "color": [
           0,
           1
          ],
          "coloraxis": "coloraxis",
          "symbol": "circle"
         },
         "mode": "markers",
         "name": "",
         "orientation": "v",
         "showlegend": false,
         "type": "scatter",
         "x": [
          0,
          2
         ],
         "xaxis": "x94",
         "y": [
          0.24597825552221184,
          0.19752045982763047
         ],
         "yaxis": "y94"
        },
        {
         "hovertemplate": "<b>OLS trendline</b><br>IPA = -0.0242289 * trial_id + 0.245978<br>R<sup>2</sup>=1.000000<br><br>model=0<br>id=134<br>trial_id=%{x}<br>IPA=%{y} <b>(trend)</b><extra></extra>",
         "legendgroup": "",
         "marker": {
          "symbol": "circle"
         },
         "mode": "lines",
         "name": "",
         "showlegend": false,
         "type": "scatter",
         "x": [
          0,
          2
         ],
         "xaxis": "x94",
         "y": [
          0.24597825552221175,
          0.1975204598276303
         ],
         "yaxis": "y94"
        },
        {
         "hovertemplate": "model=0<br>id=135<br>trial_id=%{x}<br>IPA=%{y}<br>method=%{marker.color}<extra></extra>",
         "legendgroup": "",
         "marker": {
          "color": [
           0,
           1
          ],
          "coloraxis": "coloraxis",
          "symbol": "circle"
         },
         "mode": "markers",
         "name": "",
         "orientation": "v",
         "showlegend": false,
         "type": "scatter",
         "x": [
          3,
          2
         ],
         "xaxis": "x95",
         "y": [
          0.15111414298851963,
          0.17351772483559194
         ],
         "yaxis": "y95"
        },
        {
         "hovertemplate": "<b>OLS trendline</b><br>IPA = -0.0224036 * trial_id + 0.218325<br>R<sup>2</sup>=1.000000<br><br>model=0<br>id=135<br>trial_id=%{x}<br>IPA=%{y} <b>(trend)</b><extra></extra>",
         "legendgroup": "",
         "marker": {
          "symbol": "circle"
         },
         "mode": "lines",
         "name": "",
         "showlegend": false,
         "type": "scatter",
         "x": [
          2,
          3
         ],
         "xaxis": "x95",
         "y": [
          0.1735177248355919,
          0.15111414298851963
         ],
         "yaxis": "y95"
        },
        {
         "hovertemplate": "model=0<br>id=136<br>trial_id=%{x}<br>IPA=%{y}<br>method=%{marker.color}<extra></extra>",
         "legendgroup": "",
         "marker": {
          "color": [
           0,
           1
          ],
          "coloraxis": "coloraxis",
          "symbol": "circle"
         },
         "mode": "markers",
         "name": "",
         "orientation": "v",
         "showlegend": false,
         "type": "scatter",
         "x": [
          3,
          1
         ],
         "xaxis": "x96",
         "y": [
          0.14300068830997972,
          0.11403217780726489
         ],
         "yaxis": "y96"
        },
        {
         "hovertemplate": "<b>OLS trendline</b><br>IPA = 0.0144843 * trial_id + 0.0995479<br>R<sup>2</sup>=1.000000<br><br>model=0<br>id=136<br>trial_id=%{x}<br>IPA=%{y} <b>(trend)</b><extra></extra>",
         "legendgroup": "",
         "marker": {
          "symbol": "circle"
         },
         "mode": "lines",
         "name": "",
         "showlegend": false,
         "type": "scatter",
         "x": [
          1,
          3
         ],
         "xaxis": "x96",
         "y": [
          0.11403217780726485,
          0.1430006883099797
         ],
         "yaxis": "y96"
        },
        {
         "hovertemplate": "model=1<br>id=108<br>trial_id=%{x}<br>IPA=%{y}<br>method=%{marker.color}<extra></extra>",
         "legendgroup": "",
         "marker": {
          "color": [
           0,
           1
          ],
          "coloraxis": "coloraxis",
          "symbol": "circle"
         },
         "mode": "markers",
         "name": "",
         "orientation": "v",
         "showlegend": false,
         "type": "scatter",
         "x": [
          2,
          3
         ],
         "xaxis": "x49",
         "y": [
          0.14775675691649381,
          0.19707601429319727
         ],
         "yaxis": "y49"
        },
        {
         "hovertemplate": "<b>OLS trendline</b><br>IPA = 0.0493193 * trial_id + 0.0491182<br>R<sup>2</sup>=1.000000<br><br>model=1<br>id=108<br>trial_id=%{x}<br>IPA=%{y} <b>(trend)</b><extra></extra>",
         "legendgroup": "",
         "marker": {
          "symbol": "circle"
         },
         "mode": "lines",
         "name": "",
         "showlegend": false,
         "type": "scatter",
         "x": [
          2,
          3
         ],
         "xaxis": "x49",
         "y": [
          0.14775675691649387,
          0.19707601429319735
         ],
         "yaxis": "y49"
        },
        {
         "hovertemplate": "model=1<br>id=109<br>trial_id=%{x}<br>IPA=%{y}<br>method=%{marker.color}<extra></extra>",
         "legendgroup": "",
         "marker": {
          "color": [
           0,
           1
          ],
          "coloraxis": "coloraxis",
          "symbol": "circle"
         },
         "mode": "markers",
         "name": "",
         "orientation": "v",
         "showlegend": false,
         "type": "scatter",
         "x": [
          1,
          3
         ],
         "xaxis": "x50",
         "y": [
          0.14307720923134154,
          0.10625795606446033
         ],
         "yaxis": "y50"
        },
        {
         "hovertemplate": "<b>OLS trendline</b><br>IPA = -0.0184096 * trial_id + 0.161487<br>R<sup>2</sup>=1.000000<br><br>model=1<br>id=109<br>trial_id=%{x}<br>IPA=%{y} <b>(trend)</b><extra></extra>",
         "legendgroup": "",
         "marker": {
          "symbol": "circle"
         },
         "mode": "lines",
         "name": "",
         "showlegend": false,
         "type": "scatter",
         "x": [
          1,
          3
         ],
         "xaxis": "x50",
         "y": [
          0.14307720923134148,
          0.10625795606446028
         ],
         "yaxis": "y50"
        },
        {
         "hovertemplate": "model=1<br>id=110<br>trial_id=%{x}<br>IPA=%{y}<br>method=%{marker.color}<extra></extra>",
         "legendgroup": "",
         "marker": {
          "color": [
           0,
           1
          ],
          "coloraxis": "coloraxis",
          "symbol": "circle"
         },
         "mode": "markers",
         "name": "",
         "orientation": "v",
         "showlegend": false,
         "type": "scatter",
         "x": [
          1,
          0
         ],
         "xaxis": "x51",
         "y": [
          0.1050835479883725,
          0.12575895529520656
         ],
         "yaxis": "y51"
        },
        {
         "hovertemplate": "<b>OLS trendline</b><br>IPA = -0.0206754 * trial_id + 0.125759<br>R<sup>2</sup>=1.000000<br><br>model=1<br>id=110<br>trial_id=%{x}<br>IPA=%{y} <b>(trend)</b><extra></extra>",
         "legendgroup": "",
         "marker": {
          "symbol": "circle"
         },
         "mode": "lines",
         "name": "",
         "showlegend": false,
         "type": "scatter",
         "x": [
          0,
          1
         ],
         "xaxis": "x51",
         "y": [
          0.12575895529520653,
          0.10508354798837244
         ],
         "yaxis": "y51"
        },
        {
         "hovertemplate": "model=1<br>id=111<br>trial_id=%{x}<br>IPA=%{y}<br>method=%{marker.color}<extra></extra>",
         "legendgroup": "",
         "marker": {
          "color": [
           0,
           1
          ],
          "coloraxis": "coloraxis",
          "symbol": "circle"
         },
         "mode": "markers",
         "name": "",
         "orientation": "v",
         "showlegend": false,
         "type": "scatter",
         "x": [
          2,
          0
         ],
         "xaxis": "x52",
         "y": [
          0.23528772974489381,
          0.2341516579001705
         ],
         "yaxis": "y52"
        },
        {
         "hovertemplate": "<b>OLS trendline</b><br>IPA = 0.000568036 * trial_id + 0.234152<br>R<sup>2</sup>=1.000000<br><br>model=1<br>id=111<br>trial_id=%{x}<br>IPA=%{y} <b>(trend)</b><extra></extra>",
         "legendgroup": "",
         "marker": {
          "symbol": "circle"
         },
         "mode": "lines",
         "name": "",
         "showlegend": false,
         "type": "scatter",
         "x": [
          0,
          2
         ],
         "xaxis": "x52",
         "y": [
          0.23415165790017042,
          0.23528772974489362
         ],
         "yaxis": "y52"
        },
        {
         "hovertemplate": "model=1<br>id=112<br>trial_id=%{x}<br>IPA=%{y}<br>method=%{marker.color}<extra></extra>",
         "legendgroup": "",
         "marker": {
          "color": [
           0,
           1
          ],
          "coloraxis": "coloraxis",
          "symbol": "circle"
         },
         "mode": "markers",
         "name": "",
         "orientation": "v",
         "showlegend": false,
         "type": "scatter",
         "x": [
          2,
          3
         ],
         "xaxis": "x53",
         "y": [
          0.18479819267367567,
          0.12793628307879829
         ],
         "yaxis": "y53"
        },
        {
         "hovertemplate": "<b>OLS trendline</b><br>IPA = -0.0568619 * trial_id + 0.298522<br>R<sup>2</sup>=1.000000<br><br>model=1<br>id=112<br>trial_id=%{x}<br>IPA=%{y} <b>(trend)</b><extra></extra>",
         "legendgroup": "",
         "marker": {
          "symbol": "circle"
         },
         "mode": "lines",
         "name": "",
         "showlegend": false,
         "type": "scatter",
         "x": [
          2,
          3
         ],
         "xaxis": "x53",
         "y": [
          0.1847981926736757,
          0.12793628307879834
         ],
         "yaxis": "y53"
        },
        {
         "hovertemplate": "model=1<br>id=114<br>trial_id=%{x}<br>IPA=%{y}<br>method=%{marker.color}<extra></extra>",
         "legendgroup": "",
         "marker": {
          "color": [
           0,
           1
          ],
          "coloraxis": "coloraxis",
          "symbol": "circle"
         },
         "mode": "markers",
         "name": "",
         "orientation": "v",
         "showlegend": false,
         "type": "scatter",
         "x": [
          1,
          0
         ],
         "xaxis": "x54",
         "y": [
          0.12633714330061202,
          0.10743149707325908
         ],
         "yaxis": "y54"
        },
        {
         "hovertemplate": "<b>OLS trendline</b><br>IPA = 0.0189056 * trial_id + 0.107431<br>R<sup>2</sup>=1.000000<br><br>model=1<br>id=114<br>trial_id=%{x}<br>IPA=%{y} <b>(trend)</b><extra></extra>",
         "legendgroup": "",
         "marker": {
          "symbol": "circle"
         },
         "mode": "lines",
         "name": "",
         "showlegend": false,
         "type": "scatter",
         "x": [
          0,
          1
         ],
         "xaxis": "x54",
         "y": [
          0.10743149707325907,
          0.12633714330061196
         ],
         "yaxis": "y54"
        },
        {
         "hovertemplate": "model=1<br>id=116<br>trial_id=%{x}<br>IPA=%{y}<br>method=%{marker.color}<extra></extra>",
         "legendgroup": "",
         "marker": {
          "color": [
           0,
           1
          ],
          "coloraxis": "coloraxis",
          "symbol": "circle"
         },
         "mode": "markers",
         "name": "",
         "orientation": "v",
         "showlegend": false,
         "type": "scatter",
         "x": [
          2,
          3
         ],
         "xaxis": "x55",
         "y": [
          0.342510717731209,
          0.19198882974081508
         ],
         "yaxis": "y55"
        },
        {
         "hovertemplate": "<b>OLS trendline</b><br>IPA = -0.150522 * trial_id + 0.643554<br>R<sup>2</sup>=1.000000<br><br>model=1<br>id=116<br>trial_id=%{x}<br>IPA=%{y} <b>(trend)</b><extra></extra>",
         "legendgroup": "",
         "marker": {
          "symbol": "circle"
         },
         "mode": "lines",
         "name": "",
         "showlegend": false,
         "type": "scatter",
         "x": [
          2,
          3
         ],
         "xaxis": "x55",
         "y": [
          0.34251071773120906,
          0.19198882974081521
         ],
         "yaxis": "y55"
        },
        {
         "hovertemplate": "model=1<br>id=117<br>trial_id=%{x}<br>IPA=%{y}<br>method=%{marker.color}<extra></extra>",
         "legendgroup": "",
         "marker": {
          "color": [
           0,
           1
          ],
          "coloraxis": "coloraxis",
          "symbol": "circle"
         },
         "mode": "markers",
         "name": "",
         "orientation": "v",
         "showlegend": false,
         "type": "scatter",
         "x": [
          1,
          3
         ],
         "xaxis": "x56",
         "y": [
          0.157464196578303,
          0.07841264918006506
         ],
         "yaxis": "y56"
        },
        {
         "hovertemplate": "<b>OLS trendline</b><br>IPA = -0.0395258 * trial_id + 0.19699<br>R<sup>2</sup>=1.000000<br><br>model=1<br>id=117<br>trial_id=%{x}<br>IPA=%{y} <b>(trend)</b><extra></extra>",
         "legendgroup": "",
         "marker": {
          "symbol": "circle"
         },
         "mode": "lines",
         "name": "",
         "showlegend": false,
         "type": "scatter",
         "x": [
          1,
          3
         ],
         "xaxis": "x56",
         "y": [
          0.15746419657830293,
          0.07841264918006502
         ],
         "yaxis": "y56"
        },
        {
         "hovertemplate": "model=1<br>id=118<br>trial_id=%{x}<br>IPA=%{y}<br>method=%{marker.color}<extra></extra>",
         "legendgroup": "",
         "marker": {
          "color": [
           0,
           1
          ],
          "coloraxis": "coloraxis",
          "symbol": "circle"
         },
         "mode": "markers",
         "name": "",
         "orientation": "v",
         "showlegend": false,
         "type": "scatter",
         "x": [
          1,
          0
         ],
         "xaxis": "x57",
         "y": [
          0.18541397084511688,
          0.1667468639679084
         ],
         "yaxis": "y57"
        },
        {
         "hovertemplate": "<b>OLS trendline</b><br>IPA = 0.0186671 * trial_id + 0.166747<br>R<sup>2</sup>=1.000000<br><br>model=1<br>id=118<br>trial_id=%{x}<br>IPA=%{y} <b>(trend)</b><extra></extra>",
         "legendgroup": "",
         "marker": {
          "symbol": "circle"
         },
         "mode": "lines",
         "name": "",
         "showlegend": false,
         "type": "scatter",
         "x": [
          0,
          1
         ],
         "xaxis": "x57",
         "y": [
          0.16674686396790836,
          0.18541397084511682
         ],
         "yaxis": "y57"
        },
        {
         "hovertemplate": "model=1<br>id=119<br>trial_id=%{x}<br>IPA=%{y}<br>method=%{marker.color}<extra></extra>",
         "legendgroup": "",
         "marker": {
          "color": [
           0,
           1
          ],
          "coloraxis": "coloraxis",
          "symbol": "circle"
         },
         "mode": "markers",
         "name": "",
         "orientation": "v",
         "showlegend": false,
         "type": "scatter",
         "x": [
          2,
          0
         ],
         "xaxis": "x58",
         "y": [
          0.23474729453743046,
          0.3173161884955795
         ],
         "yaxis": "y58"
        },
        {
         "hovertemplate": "<b>OLS trendline</b><br>IPA = -0.0412844 * trial_id + 0.317316<br>R<sup>2</sup>=1.000000<br><br>model=1<br>id=119<br>trial_id=%{x}<br>IPA=%{y} <b>(trend)</b><extra></extra>",
         "legendgroup": "",
         "marker": {
          "symbol": "circle"
         },
         "mode": "lines",
         "name": "",
         "showlegend": false,
         "type": "scatter",
         "x": [
          0,
          2
         ],
         "xaxis": "x58",
         "y": [
          0.31731618849557935,
          0.23474729453743018
         ],
         "yaxis": "y58"
        },
        {
         "hovertemplate": "model=1<br>id=120<br>trial_id=%{x}<br>IPA=%{y}<br>method=%{marker.color}<extra></extra>",
         "legendgroup": "",
         "marker": {
          "color": [
           0,
           1
          ],
          "coloraxis": "coloraxis",
          "symbol": "circle"
         },
         "mode": "markers",
         "name": "",
         "orientation": "v",
         "showlegend": false,
         "type": "scatter",
         "x": [
          2,
          3
         ],
         "xaxis": "x59",
         "y": [
          0.10464410539754296,
          0.09061254077564336
         ],
         "yaxis": "y59"
        },
        {
         "hovertemplate": "<b>OLS trendline</b><br>IPA = -0.0140316 * trial_id + 0.132707<br>R<sup>2</sup>=1.000000<br><br>model=1<br>id=120<br>trial_id=%{x}<br>IPA=%{y} <b>(trend)</b><extra></extra>",
         "legendgroup": "",
         "marker": {
          "symbol": "circle"
         },
         "mode": "lines",
         "name": "",
         "showlegend": false,
         "type": "scatter",
         "x": [
          2,
          3
         ],
         "xaxis": "x59",
         "y": [
          0.10464410539754299,
          0.09061254077564342
         ],
         "yaxis": "y59"
        },
        {
         "hovertemplate": "model=1<br>id=121<br>trial_id=%{x}<br>IPA=%{y}<br>method=%{marker.color}<extra></extra>",
         "legendgroup": "",
         "marker": {
          "color": [
           0,
           1
          ],
          "coloraxis": "coloraxis",
          "symbol": "circle"
         },
         "mode": "markers",
         "name": "",
         "orientation": "v",
         "showlegend": false,
         "type": "scatter",
         "x": [
          1,
          3
         ],
         "xaxis": "x60",
         "y": [
          0.2199919922914806,
          0.137357320083763
         ],
         "yaxis": "y60"
        },
        {
         "hovertemplate": "<b>OLS trendline</b><br>IPA = -0.0413173 * trial_id + 0.261309<br>R<sup>2</sup>=1.000000<br><br>model=1<br>id=121<br>trial_id=%{x}<br>IPA=%{y} <b>(trend)</b><extra></extra>",
         "legendgroup": "",
         "marker": {
          "symbol": "circle"
         },
         "mode": "lines",
         "name": "",
         "showlegend": false,
         "type": "scatter",
         "x": [
          1,
          3
         ],
         "xaxis": "x60",
         "y": [
          0.21999199229148048,
          0.13735732008376295
         ],
         "yaxis": "y60"
        },
        {
         "hovertemplate": "model=1<br>id=122<br>trial_id=%{x}<br>IPA=%{y}<br>method=%{marker.color}<extra></extra>",
         "legendgroup": "",
         "marker": {
          "color": [
           0,
           1
          ],
          "coloraxis": "coloraxis",
          "symbol": "circle"
         },
         "mode": "markers",
         "name": "",
         "orientation": "v",
         "showlegend": false,
         "type": "scatter",
         "x": [
          1,
          0
         ],
         "xaxis": "x61",
         "y": [
          0.17153712992651066,
          0.19207908536207977
         ],
         "yaxis": "y61"
        },
        {
         "hovertemplate": "<b>OLS trendline</b><br>IPA = -0.020542 * trial_id + 0.192079<br>R<sup>2</sup>=1.000000<br><br>model=1<br>id=122<br>trial_id=%{x}<br>IPA=%{y} <b>(trend)</b><extra></extra>",
         "legendgroup": "",
         "marker": {
          "symbol": "circle"
         },
         "mode": "lines",
         "name": "",
         "showlegend": false,
         "type": "scatter",
         "x": [
          0,
          1
         ],
         "xaxis": "x61",
         "y": [
          0.19207908536207974,
          0.1715371299265106
         ],
         "yaxis": "y61"
        },
        {
         "hovertemplate": "model=1<br>id=124<br>trial_id=%{x}<br>IPA=%{y}<br>method=%{marker.color}<extra></extra>",
         "legendgroup": "",
         "marker": {
          "color": [
           0,
           1
          ],
          "coloraxis": "coloraxis",
          "symbol": "circle"
         },
         "mode": "markers",
         "name": "",
         "orientation": "v",
         "showlegend": false,
         "type": "scatter",
         "x": [
          2,
          3
         ],
         "xaxis": "x62",
         "y": [
          0.21580024665968195,
          0.10602092853129208
         ],
         "yaxis": "y62"
        },
        {
         "hovertemplate": "<b>OLS trendline</b><br>IPA = -0.109779 * trial_id + 0.435359<br>R<sup>2</sup>=1.000000<br><br>model=1<br>id=124<br>trial_id=%{x}<br>IPA=%{y} <b>(trend)</b><extra></extra>",
         "legendgroup": "",
         "marker": {
          "symbol": "circle"
         },
         "mode": "lines",
         "name": "",
         "showlegend": false,
         "type": "scatter",
         "x": [
          2,
          3
         ],
         "xaxis": "x62",
         "y": [
          0.215800246659682,
          0.10602092853129219
         ],
         "yaxis": "y62"
        },
        {
         "hovertemplate": "model=1<br>id=125<br>trial_id=%{x}<br>IPA=%{y}<br>method=%{marker.color}<extra></extra>",
         "legendgroup": "",
         "marker": {
          "color": [
           0,
           1
          ],
          "coloraxis": "coloraxis",
          "symbol": "circle"
         },
         "mode": "markers",
         "name": "",
         "orientation": "v",
         "showlegend": false,
         "type": "scatter",
         "x": [
          1,
          3
         ],
         "xaxis": "x63",
         "y": [
          0.09406753672866972,
          0.12317839680852985
         ],
         "yaxis": "y63"
        },
        {
         "hovertemplate": "<b>OLS trendline</b><br>IPA = 0.0145554 * trial_id + 0.0795121<br>R<sup>2</sup>=1.000000<br><br>model=1<br>id=125<br>trial_id=%{x}<br>IPA=%{y} <b>(trend)</b><extra></extra>",
         "legendgroup": "",
         "marker": {
          "symbol": "circle"
         },
         "mode": "lines",
         "name": "",
         "showlegend": false,
         "type": "scatter",
         "x": [
          1,
          3
         ],
         "xaxis": "x63",
         "y": [
          0.09406753672866966,
          0.12317839680852982
         ],
         "yaxis": "y63"
        },
        {
         "hovertemplate": "model=1<br>id=126<br>trial_id=%{x}<br>IPA=%{y}<br>method=%{marker.color}<extra></extra>",
         "legendgroup": "",
         "marker": {
          "color": [
           0,
           1
          ],
          "coloraxis": "coloraxis",
          "symbol": "circle"
         },
         "mode": "markers",
         "name": "",
         "orientation": "v",
         "showlegend": false,
         "type": "scatter",
         "x": [
          1,
          0
         ],
         "xaxis": "x64",
         "y": [
          0.1784264570750551,
          0.1308943355476292
         ],
         "yaxis": "y64"
        },
        {
         "hovertemplate": "<b>OLS trendline</b><br>IPA = 0.0475321 * trial_id + 0.130894<br>R<sup>2</sup>=1.000000<br><br>model=1<br>id=126<br>trial_id=%{x}<br>IPA=%{y} <b>(trend)</b><extra></extra>",
         "legendgroup": "",
         "marker": {
          "symbol": "circle"
         },
         "mode": "lines",
         "name": "",
         "showlegend": false,
         "type": "scatter",
         "x": [
          0,
          1
         ],
         "xaxis": "x64",
         "y": [
          0.13089433554762916,
          0.17842645707505506
         ],
         "yaxis": "y64"
        },
        {
         "hovertemplate": "model=1<br>id=127<br>trial_id=%{x}<br>IPA=%{y}<br>method=%{marker.color}<extra></extra>",
         "legendgroup": "",
         "marker": {
          "color": [
           0,
           1
          ],
          "coloraxis": "coloraxis",
          "symbol": "circle"
         },
         "mode": "markers",
         "name": "",
         "orientation": "v",
         "showlegend": false,
         "type": "scatter",
         "x": [
          2,
          0
         ],
         "xaxis": "x65",
         "y": [
          0.20294076783420054,
          0.2755105554981575
         ],
         "yaxis": "y65"
        },
        {
         "hovertemplate": "<b>OLS trendline</b><br>IPA = -0.0362849 * trial_id + 0.275511<br>R<sup>2</sup>=1.000000<br><br>model=1<br>id=127<br>trial_id=%{x}<br>IPA=%{y} <b>(trend)</b><extra></extra>",
         "legendgroup": "",
         "marker": {
          "symbol": "circle"
         },
         "mode": "lines",
         "name": "",
         "showlegend": false,
         "type": "scatter",
         "x": [
          0,
          2
         ],
         "xaxis": "x65",
         "y": [
          0.2755105554981574,
          0.20294076783420034
         ],
         "yaxis": "y65"
        },
        {
         "hovertemplate": "model=1<br>id=128<br>trial_id=%{x}<br>IPA=%{y}<br>method=%{marker.color}<extra></extra>",
         "legendgroup": "",
         "marker": {
          "color": [
           1
          ],
          "coloraxis": "coloraxis",
          "symbol": "circle"
         },
         "mode": "markers",
         "name": "",
         "orientation": "v",
         "showlegend": false,
         "type": "scatter",
         "x": [
          3
         ],
         "xaxis": "x66",
         "y": [
          0.11405076970013202
         ],
         "yaxis": "y66"
        },
        {
         "hovertemplate": "model=1<br>id=128<extra></extra>",
         "legendgroup": "",
         "marker": {
          "symbol": "circle"
         },
         "mode": "lines",
         "name": "",
         "showlegend": false,
         "type": "scatter",
         "xaxis": "x66",
         "yaxis": "y66"
        },
        {
         "hovertemplate": "model=1<br>id=131<br>trial_id=%{x}<br>IPA=%{y}<br>method=%{marker.color}<extra></extra>",
         "legendgroup": "",
         "marker": {
          "color": [
           0,
           1
          ],
          "coloraxis": "coloraxis",
          "symbol": "circle"
         },
         "mode": "markers",
         "name": "",
         "orientation": "v",
         "showlegend": false,
         "type": "scatter",
         "x": [
          2,
          0
         ],
         "xaxis": "x67",
         "y": [
          0.1789356905128297,
          0.11706744255365516
         ],
         "yaxis": "y67"
        },
        {
         "hovertemplate": "<b>OLS trendline</b><br>IPA = 0.0309341 * trial_id + 0.117067<br>R<sup>2</sup>=1.000000<br><br>model=1<br>id=131<br>trial_id=%{x}<br>IPA=%{y} <b>(trend)</b><extra></extra>",
         "legendgroup": "",
         "marker": {
          "symbol": "circle"
         },
         "mode": "lines",
         "name": "",
         "showlegend": false,
         "type": "scatter",
         "x": [
          0,
          2
         ],
         "xaxis": "x67",
         "y": [
          0.11706744255365512,
          0.1789356905128296
         ],
         "yaxis": "y67"
        },
        {
         "hovertemplate": "model=1<br>id=132<br>trial_id=%{x}<br>IPA=%{y}<br>method=%{marker.color}<extra></extra>",
         "legendgroup": "",
         "marker": {
          "color": [
           0,
           1
          ],
          "coloraxis": "coloraxis",
          "symbol": "circle"
         },
         "mode": "markers",
         "name": "",
         "orientation": "v",
         "showlegend": false,
         "type": "scatter",
         "x": [
          2,
          3
         ],
         "xaxis": "x68",
         "y": [
          0.14329873692399026,
          0.14965178392802853
         ],
         "yaxis": "y68"
        },
        {
         "hovertemplate": "<b>OLS trendline</b><br>IPA = 0.00635305 * trial_id + 0.130593<br>R<sup>2</sup>=1.000000<br><br>model=1<br>id=132<br>trial_id=%{x}<br>IPA=%{y} <b>(trend)</b><extra></extra>",
         "legendgroup": "",
         "marker": {
          "symbol": "circle"
         },
         "mode": "lines",
         "name": "",
         "showlegend": false,
         "type": "scatter",
         "x": [
          2,
          3
         ],
         "xaxis": "x68",
         "y": [
          0.1432987369239903,
          0.1496517839280286
         ],
         "yaxis": "y68"
        },
        {
         "hovertemplate": "model=1<br>id=133<br>trial_id=%{x}<br>IPA=%{y}<br>method=%{marker.color}<extra></extra>",
         "legendgroup": "",
         "marker": {
          "color": [
           0,
           1
          ],
          "coloraxis": "coloraxis",
          "symbol": "circle"
         },
         "mode": "markers",
         "name": "",
         "orientation": "v",
         "showlegend": false,
         "type": "scatter",
         "x": [
          1,
          3
         ],
         "xaxis": "x69",
         "y": [
          0.1264264059248471,
          0.15347545160151635
         ],
         "yaxis": "y69"
        },
        {
         "hovertemplate": "<b>OLS trendline</b><br>IPA = 0.0135245 * trial_id + 0.112902<br>R<sup>2</sup>=1.000000<br><br>model=1<br>id=133<br>trial_id=%{x}<br>IPA=%{y} <b>(trend)</b><extra></extra>",
         "legendgroup": "",
         "marker": {
          "symbol": "circle"
         },
         "mode": "lines",
         "name": "",
         "showlegend": false,
         "type": "scatter",
         "x": [
          1,
          3
         ],
         "xaxis": "x69",
         "y": [
          0.12642640592484705,
          0.15347545160151632
         ],
         "yaxis": "y69"
        },
        {
         "hovertemplate": "model=1<br>id=134<br>trial_id=%{x}<br>IPA=%{y}<br>method=%{marker.color}<extra></extra>",
         "legendgroup": "",
         "marker": {
          "color": [
           0,
           1
          ],
          "coloraxis": "coloraxis",
          "symbol": "circle"
         },
         "mode": "markers",
         "name": "",
         "orientation": "v",
         "showlegend": false,
         "type": "scatter",
         "x": [
          1,
          0
         ],
         "xaxis": "x70",
         "y": [
          0.18286314199753242,
          0.202148398017891
         ],
         "yaxis": "y70"
        },
        {
         "hovertemplate": "<b>OLS trendline</b><br>IPA = -0.0192853 * trial_id + 0.202148<br>R<sup>2</sup>=1.000000<br><br>model=1<br>id=134<br>trial_id=%{x}<br>IPA=%{y} <b>(trend)</b><extra></extra>",
         "legendgroup": "",
         "marker": {
          "symbol": "circle"
         },
         "mode": "lines",
         "name": "",
         "showlegend": false,
         "type": "scatter",
         "x": [
          0,
          1
         ],
         "xaxis": "x70",
         "y": [
          0.20214839801789097,
          0.18286314199753237
         ],
         "yaxis": "y70"
        },
        {
         "hovertemplate": "model=1<br>id=135<br>trial_id=%{x}<br>IPA=%{y}<br>method=%{marker.color}<extra></extra>",
         "legendgroup": "",
         "marker": {
          "color": [
           0,
           1
          ],
          "coloraxis": "coloraxis",
          "symbol": "circle"
         },
         "mode": "markers",
         "name": "",
         "orientation": "v",
         "showlegend": false,
         "type": "scatter",
         "x": [
          2,
          0
         ],
         "xaxis": "x71",
         "y": [
          0.15336560827356335,
          0.10703500981377247
         ],
         "yaxis": "y71"
        },
        {
         "hovertemplate": "<b>OLS trendline</b><br>IPA = 0.0231653 * trial_id + 0.107035<br>R<sup>2</sup>=1.000000<br><br>model=1<br>id=135<br>trial_id=%{x}<br>IPA=%{y} <b>(trend)</b><extra></extra>",
         "legendgroup": "",
         "marker": {
          "symbol": "circle"
         },
         "mode": "lines",
         "name": "",
         "showlegend": false,
         "type": "scatter",
         "x": [
          0,
          2
         ],
         "xaxis": "x71",
         "y": [
          0.10703500981377244,
          0.15336560827356327
         ],
         "yaxis": "y71"
        },
        {
         "hovertemplate": "model=1<br>id=136<br>trial_id=%{x}<br>IPA=%{y}<br>method=%{marker.color}<extra></extra>",
         "legendgroup": "",
         "marker": {
          "color": [
           0,
           1
          ],
          "coloraxis": "coloraxis",
          "symbol": "circle"
         },
         "mode": "markers",
         "name": "",
         "orientation": "v",
         "showlegend": false,
         "type": "scatter",
         "x": [
          2,
          3
         ],
         "xaxis": "x72",
         "y": [
          0.1199442430618681,
          0.13889274702075058
         ],
         "yaxis": "y72"
        },
        {
         "hovertemplate": "<b>OLS trendline</b><br>IPA = 0.0189485 * trial_id + 0.0820472<br>R<sup>2</sup>=1.000000<br><br>model=1<br>id=136<br>trial_id=%{x}<br>IPA=%{y} <b>(trend)</b><extra></extra>",
         "legendgroup": "",
         "marker": {
          "symbol": "circle"
         },
         "mode": "lines",
         "name": "",
         "showlegend": false,
         "type": "scatter",
         "x": [
          2,
          3
         ],
         "xaxis": "x72",
         "y": [
          0.11994424306186818,
          0.1388927470207507
         ],
         "yaxis": "y72"
        },
        {
         "hovertemplate": "model=2<br>id=108<br>trial_id=%{x}<br>IPA=%{y}<br>method=%{marker.color}<extra></extra>",
         "legendgroup": "",
         "marker": {
          "color": [
           0,
           1
          ],
          "coloraxis": "coloraxis",
          "symbol": "circle"
         },
         "mode": "markers",
         "name": "",
         "orientation": "v",
         "showlegend": false,
         "type": "scatter",
         "x": [
          0,
          2
         ],
         "xaxis": "x25",
         "y": [
          0.22723631781725884,
          0.15289841887745037
         ],
         "yaxis": "y25"
        },
        {
         "hovertemplate": "<b>OLS trendline</b><br>IPA = -0.0371689 * trial_id + 0.227236<br>R<sup>2</sup>=1.000000<br><br>model=2<br>id=108<br>trial_id=%{x}<br>IPA=%{y} <b>(trend)</b><extra></extra>",
         "legendgroup": "",
         "marker": {
          "symbol": "circle"
         },
         "mode": "lines",
         "name": "",
         "showlegend": false,
         "type": "scatter",
         "x": [
          0,
          2
         ],
         "xaxis": "x25",
         "y": [
          0.22723631781725873,
          0.1528984188774502
         ],
         "yaxis": "y25"
        },
        {
         "hovertemplate": "model=2<br>id=109<br>trial_id=%{x}<br>IPA=%{y}<br>method=%{marker.color}<extra></extra>",
         "legendgroup": "",
         "marker": {
          "color": [
           0,
           1
          ],
          "coloraxis": "coloraxis",
          "symbol": "circle"
         },
         "mode": "markers",
         "name": "",
         "orientation": "v",
         "showlegend": false,
         "type": "scatter",
         "x": [
          3,
          2
         ],
         "xaxis": "x26",
         "y": [
          0.15388640105873844,
          0.09594350846221744
         ],
         "yaxis": "y26"
        },
        {
         "hovertemplate": "<b>OLS trendline</b><br>IPA = 0.0579429 * trial_id + -0.0199423<br>R<sup>2</sup>=1.000000<br><br>model=2<br>id=109<br>trial_id=%{x}<br>IPA=%{y} <b>(trend)</b><extra></extra>",
         "legendgroup": "",
         "marker": {
          "symbol": "circle"
         },
         "mode": "lines",
         "name": "",
         "showlegend": false,
         "type": "scatter",
         "x": [
          2,
          3
         ],
         "xaxis": "x26",
         "y": [
          0.0959435084622175,
          0.15388640105873852
         ],
         "yaxis": "y26"
        },
        {
         "hovertemplate": "model=2<br>id=110<br>trial_id=%{x}<br>IPA=%{y}<br>method=%{marker.color}<extra></extra>",
         "legendgroup": "",
         "marker": {
          "color": [
           0,
           1
          ],
          "coloraxis": "coloraxis",
          "symbol": "circle"
         },
         "mode": "markers",
         "name": "",
         "orientation": "v",
         "showlegend": false,
         "type": "scatter",
         "x": [
          3,
          1
         ],
         "xaxis": "x27",
         "y": [
          0.14027547297382598,
          0.179725020718301
         ],
         "yaxis": "y27"
        },
        {
         "hovertemplate": "<b>OLS trendline</b><br>IPA = -0.0197248 * trial_id + 0.19945<br>R<sup>2</sup>=1.000000<br><br>model=2<br>id=110<br>trial_id=%{x}<br>IPA=%{y} <b>(trend)</b><extra></extra>",
         "legendgroup": "",
         "marker": {
          "symbol": "circle"
         },
         "mode": "lines",
         "name": "",
         "showlegend": false,
         "type": "scatter",
         "x": [
          1,
          3
         ],
         "xaxis": "x27",
         "y": [
          0.17972502071830093,
          0.14027547297382592
         ],
         "yaxis": "y27"
        },
        {
         "hovertemplate": "model=2<br>id=111<br>trial_id=%{x}<br>IPA=%{y}<br>method=%{marker.color}<extra></extra>",
         "legendgroup": "",
         "marker": {
          "color": [
           0,
           1
          ],
          "coloraxis": "coloraxis",
          "symbol": "circle"
         },
         "mode": "markers",
         "name": "",
         "orientation": "v",
         "showlegend": false,
         "type": "scatter",
         "x": [
          0,
          1
         ],
         "xaxis": "x28",
         "y": [
          0.22069744807540792,
          0.27881766440018885
         ],
         "yaxis": "y28"
        },
        {
         "hovertemplate": "<b>OLS trendline</b><br>IPA = 0.0581202 * trial_id + 0.220697<br>R<sup>2</sup>=1.000000<br><br>model=2<br>id=111<br>trial_id=%{x}<br>IPA=%{y} <b>(trend)</b><extra></extra>",
         "legendgroup": "",
         "marker": {
          "symbol": "circle"
         },
         "mode": "lines",
         "name": "",
         "showlegend": false,
         "type": "scatter",
         "x": [
          0,
          1
         ],
         "xaxis": "x28",
         "y": [
          0.2206974480754079,
          0.27881766440018874
         ],
         "yaxis": "y28"
        },
        {
         "hovertemplate": "model=2<br>id=112<br>trial_id=%{x}<br>IPA=%{y}<br>method=%{marker.color}<extra></extra>",
         "legendgroup": "",
         "marker": {
          "color": [
           0,
           1
          ],
          "coloraxis": "coloraxis",
          "symbol": "circle"
         },
         "mode": "markers",
         "name": "",
         "orientation": "v",
         "showlegend": false,
         "type": "scatter",
         "x": [
          0,
          2
         ],
         "xaxis": "x29",
         "y": [
          0.20773256132359635,
          0.07974125557391376
         ],
         "yaxis": "y29"
        },
        {
         "hovertemplate": "<b>OLS trendline</b><br>IPA = -0.0639957 * trial_id + 0.207733<br>R<sup>2</sup>=1.000000<br><br>model=2<br>id=112<br>trial_id=%{x}<br>IPA=%{y} <b>(trend)</b><extra></extra>",
         "legendgroup": "",
         "marker": {
          "symbol": "circle"
         },
         "mode": "lines",
         "name": "",
         "showlegend": false,
         "type": "scatter",
         "x": [
          0,
          2
         ],
         "xaxis": "x29",
         "y": [
          0.20773256132359627,
          0.07974125557391362
         ],
         "yaxis": "y29"
        },
        {
         "hovertemplate": "model=2<br>id=114<br>trial_id=%{x}<br>IPA=%{y}<br>method=%{marker.color}<extra></extra>",
         "legendgroup": "",
         "marker": {
          "color": [
           0,
           1
          ],
          "coloraxis": "coloraxis",
          "symbol": "circle"
         },
         "mode": "markers",
         "name": "",
         "orientation": "v",
         "showlegend": false,
         "type": "scatter",
         "x": [
          3,
          1
         ],
         "xaxis": "x30",
         "y": [
          0.1059322033898305,
          0.11666542223549616
         ],
         "yaxis": "y30"
        },
        {
         "hovertemplate": "<b>OLS trendline</b><br>IPA = -0.00536661 * trial_id + 0.122032<br>R<sup>2</sup>=1.000000<br><br>model=2<br>id=114<br>trial_id=%{x}<br>IPA=%{y} <b>(trend)</b><extra></extra>",
         "legendgroup": "",
         "marker": {
          "symbol": "circle"
         },
         "mode": "lines",
         "name": "",
         "showlegend": false,
         "type": "scatter",
         "x": [
          1,
          3
         ],
         "xaxis": "x30",
         "y": [
          0.11666542223549611,
          0.10593220338983048
         ],
         "yaxis": "y30"
        },
        {
         "hovertemplate": "model=2<br>id=116<br>trial_id=%{x}<br>IPA=%{y}<br>method=%{marker.color}<extra></extra>",
         "legendgroup": "",
         "marker": {
          "color": [
           0,
           1
          ],
          "coloraxis": "coloraxis",
          "symbol": "circle"
         },
         "mode": "markers",
         "name": "",
         "orientation": "v",
         "showlegend": false,
         "type": "scatter",
         "x": [
          0,
          2
         ],
         "xaxis": "x31",
         "y": [
          0.1630800699846472,
          0.16275923929948424
         ],
         "yaxis": "y31"
        },
        {
         "hovertemplate": "<b>OLS trendline</b><br>IPA = -0.000160415 * trial_id + 0.16308<br>R<sup>2</sup>=1.000000<br><br>model=2<br>id=116<br>trial_id=%{x}<br>IPA=%{y} <b>(trend)</b><extra></extra>",
         "legendgroup": "",
         "marker": {
          "symbol": "circle"
         },
         "mode": "lines",
         "name": "",
         "showlegend": false,
         "type": "scatter",
         "x": [
          0,
          2
         ],
         "xaxis": "x31",
         "y": [
          0.1630800699846471,
          0.16275923929948408
         ],
         "yaxis": "y31"
        },
        {
         "hovertemplate": "model=2<br>id=117<br>trial_id=%{x}<br>IPA=%{y}<br>method=%{marker.color}<extra></extra>",
         "legendgroup": "",
         "marker": {
          "color": [
           1
          ],
          "coloraxis": "coloraxis",
          "symbol": "circle"
         },
         "mode": "markers",
         "name": "",
         "orientation": "v",
         "showlegend": false,
         "type": "scatter",
         "x": [
          2
         ],
         "xaxis": "x32",
         "y": [
          0.14690466621685858
         ],
         "yaxis": "y32"
        },
        {
         "hovertemplate": "model=2<br>id=117<extra></extra>",
         "legendgroup": "",
         "marker": {
          "symbol": "circle"
         },
         "mode": "lines",
         "name": "",
         "showlegend": false,
         "type": "scatter",
         "xaxis": "x32",
         "yaxis": "y32"
        },
        {
         "hovertemplate": "model=2<br>id=118<br>trial_id=%{x}<br>IPA=%{y}<br>method=%{marker.color}<extra></extra>",
         "legendgroup": "",
         "marker": {
          "color": [
           0,
           1
          ],
          "coloraxis": "coloraxis",
          "symbol": "circle"
         },
         "mode": "markers",
         "name": "",
         "orientation": "v",
         "showlegend": false,
         "type": "scatter",
         "x": [
          3,
          1
         ],
         "xaxis": "x33",
         "y": [
          0.16665457604056175,
          0.2120966899864258
         ],
         "yaxis": "y33"
        },
        {
         "hovertemplate": "<b>OLS trendline</b><br>IPA = -0.0227211 * trial_id + 0.234818<br>R<sup>2</sup>=1.000000<br><br>model=2<br>id=118<br>trial_id=%{x}<br>IPA=%{y} <b>(trend)</b><extra></extra>",
         "legendgroup": "",
         "marker": {
          "symbol": "circle"
         },
         "mode": "lines",
         "name": "",
         "showlegend": false,
         "type": "scatter",
         "x": [
          1,
          3
         ],
         "xaxis": "x33",
         "y": [
          0.21209668998642572,
          0.16665457604056172
         ],
         "yaxis": "y33"
        },
        {
         "hovertemplate": "model=2<br>id=119<br>trial_id=%{x}<br>IPA=%{y}<br>method=%{marker.color}<extra></extra>",
         "legendgroup": "",
         "marker": {
          "color": [
           0,
           1
          ],
          "coloraxis": "coloraxis",
          "symbol": "circle"
         },
         "mode": "markers",
         "name": "",
         "orientation": "v",
         "showlegend": false,
         "type": "scatter",
         "x": [
          0,
          1
         ],
         "xaxis": "x34",
         "y": [
          0.29383245673317077,
          0.24523277699553062
         ],
         "yaxis": "y34"
        },
        {
         "hovertemplate": "<b>OLS trendline</b><br>IPA = -0.0485997 * trial_id + 0.293832<br>R<sup>2</sup>=1.000000<br><br>model=2<br>id=119<br>trial_id=%{x}<br>IPA=%{y} <b>(trend)</b><extra></extra>",
         "legendgroup": "",
         "marker": {
          "symbol": "circle"
         },
         "mode": "lines",
         "name": "",
         "showlegend": false,
         "type": "scatter",
         "x": [
          0,
          1
         ],
         "xaxis": "x34",
         "y": [
          0.2938324567331707,
          0.2452327769955305
         ],
         "yaxis": "y34"
        },
        {
         "hovertemplate": "model=2<br>id=120<br>trial_id=%{x}<br>IPA=%{y}<br>method=%{marker.color}<extra></extra>",
         "legendgroup": "",
         "marker": {
          "color": [
           0,
           1
          ],
          "coloraxis": "coloraxis",
          "symbol": "circle"
         },
         "mode": "markers",
         "name": "",
         "orientation": "v",
         "showlegend": false,
         "type": "scatter",
         "x": [
          0,
          2
         ],
         "xaxis": "x35",
         "y": [
          0.1078785503280407,
          0.05485985136637603
         ],
         "yaxis": "y35"
        },
        {
         "hovertemplate": "<b>OLS trendline</b><br>IPA = -0.0265093 * trial_id + 0.107879<br>R<sup>2</sup>=1.000000<br><br>model=2<br>id=120<br>trial_id=%{x}<br>IPA=%{y} <b>(trend)</b><extra></extra>",
         "legendgroup": "",
         "marker": {
          "symbol": "circle"
         },
         "mode": "lines",
         "name": "",
         "showlegend": false,
         "type": "scatter",
         "x": [
          0,
          2
         ],
         "xaxis": "x35",
         "y": [
          0.10787855032804065,
          0.05485985136637596
         ],
         "yaxis": "y35"
        },
        {
         "hovertemplate": "model=2<br>id=121<br>trial_id=%{x}<br>IPA=%{y}<br>method=%{marker.color}<extra></extra>",
         "legendgroup": "",
         "marker": {
          "color": [
           0,
           1
          ],
          "coloraxis": "coloraxis",
          "symbol": "circle"
         },
         "mode": "markers",
         "name": "",
         "orientation": "v",
         "showlegend": false,
         "type": "scatter",
         "x": [
          3,
          2
         ],
         "xaxis": "x36",
         "y": [
          0.1383141806613723,
          0.15000252276970114
         ],
         "yaxis": "y36"
        },
        {
         "hovertemplate": "<b>OLS trendline</b><br>IPA = -0.0116883 * trial_id + 0.173379<br>R<sup>2</sup>=1.000000<br><br>model=2<br>id=121<br>trial_id=%{x}<br>IPA=%{y} <b>(trend)</b><extra></extra>",
         "legendgroup": "",
         "marker": {
          "symbol": "circle"
         },
         "mode": "lines",
         "name": "",
         "showlegend": false,
         "type": "scatter",
         "x": [
          2,
          3
         ],
         "xaxis": "x36",
         "y": [
          0.15000252276970116,
          0.13831418066137235
         ],
         "yaxis": "y36"
        },
        {
         "hovertemplate": "model=2<br>id=122<br>trial_id=%{x}<br>IPA=%{y}<br>method=%{marker.color}<extra></extra>",
         "legendgroup": "",
         "marker": {
          "color": [
           0,
           1
          ],
          "coloraxis": "coloraxis",
          "symbol": "circle"
         },
         "mode": "markers",
         "name": "",
         "orientation": "v",
         "showlegend": false,
         "type": "scatter",
         "x": [
          3,
          1
         ],
         "xaxis": "x37",
         "y": [
          0.12108166285483654,
          0.20472886453649386
         ],
         "yaxis": "y37"
        },
        {
         "hovertemplate": "<b>OLS trendline</b><br>IPA = -0.0418236 * trial_id + 0.246552<br>R<sup>2</sup>=1.000000<br><br>model=2<br>id=122<br>trial_id=%{x}<br>IPA=%{y} <b>(trend)</b><extra></extra>",
         "legendgroup": "",
         "marker": {
          "symbol": "circle"
         },
         "mode": "lines",
         "name": "",
         "showlegend": false,
         "type": "scatter",
         "x": [
          1,
          3
         ],
         "xaxis": "x37",
         "y": [
          0.20472886453649378,
          0.12108166285483649
         ],
         "yaxis": "y37"
        },
        {
         "hovertemplate": "model=2<br>id=124<br>trial_id=%{x}<br>IPA=%{y}<br>method=%{marker.color}<extra></extra>",
         "legendgroup": "",
         "marker": {
          "color": [
           0,
           1
          ],
          "coloraxis": "coloraxis",
          "symbol": "circle"
         },
         "mode": "markers",
         "name": "",
         "orientation": "v",
         "showlegend": false,
         "type": "scatter",
         "x": [
          0,
          2
         ],
         "xaxis": "x38",
         "y": [
          0.21449610028591312,
          0.15979868145244497
         ],
         "yaxis": "y38"
        },
        {
         "hovertemplate": "<b>OLS trendline</b><br>IPA = -0.0273487 * trial_id + 0.214496<br>R<sup>2</sup>=1.000000<br><br>model=2<br>id=124<br>trial_id=%{x}<br>IPA=%{y} <b>(trend)</b><extra></extra>",
         "legendgroup": "",
         "marker": {
          "symbol": "circle"
         },
         "mode": "lines",
         "name": "",
         "showlegend": false,
         "type": "scatter",
         "x": [
          0,
          2
         ],
         "xaxis": "x38",
         "y": [
          0.21449610028591304,
          0.1597986814524448
         ],
         "yaxis": "y38"
        },
        {
         "hovertemplate": "model=2<br>id=125<br>trial_id=%{x}<br>IPA=%{y}<br>method=%{marker.color}<extra></extra>",
         "legendgroup": "",
         "marker": {
          "color": [
           0,
           1
          ],
          "coloraxis": "coloraxis",
          "symbol": "circle"
         },
         "mode": "markers",
         "name": "",
         "orientation": "v",
         "showlegend": false,
         "type": "scatter",
         "x": [
          3,
          2
         ],
         "xaxis": "x39",
         "y": [
          0.1793348827867206,
          0.13846484031542292
         ],
         "yaxis": "y39"
        },
        {
         "hovertemplate": "<b>OLS trendline</b><br>IPA = 0.04087 * trial_id + 0.0567248<br>R<sup>2</sup>=1.000000<br><br>model=2<br>id=125<br>trial_id=%{x}<br>IPA=%{y} <b>(trend)</b><extra></extra>",
         "legendgroup": "",
         "marker": {
          "symbol": "circle"
         },
         "mode": "lines",
         "name": "",
         "showlegend": false,
         "type": "scatter",
         "x": [
          2,
          3
         ],
         "xaxis": "x39",
         "y": [
          0.13846484031542294,
          0.17933488278672066
         ],
         "yaxis": "y39"
        },
        {
         "hovertemplate": "model=2<br>id=126<br>trial_id=%{x}<br>IPA=%{y}<br>method=%{marker.color}<extra></extra>",
         "legendgroup": "",
         "marker": {
          "color": [
           0,
           1
          ],
          "coloraxis": "coloraxis",
          "symbol": "circle"
         },
         "mode": "markers",
         "name": "",
         "orientation": "v",
         "showlegend": false,
         "type": "scatter",
         "x": [
          3,
          1
         ],
         "xaxis": "x40",
         "y": [
          0.1516836410141189,
          0.19074391318290793
         ],
         "yaxis": "y40"
        },
        {
         "hovertemplate": "<b>OLS trendline</b><br>IPA = -0.0195301 * trial_id + 0.210274<br>R<sup>2</sup>=1.000000<br><br>model=2<br>id=126<br>trial_id=%{x}<br>IPA=%{y} <b>(trend)</b><extra></extra>",
         "legendgroup": "",
         "marker": {
          "symbol": "circle"
         },
         "mode": "lines",
         "name": "",
         "showlegend": false,
         "type": "scatter",
         "x": [
          1,
          3
         ],
         "xaxis": "x40",
         "y": [
          0.19074391318290784,
          0.15168364101411885
         ],
         "yaxis": "y40"
        },
        {
         "hovertemplate": "model=2<br>id=127<br>trial_id=%{x}<br>IPA=%{y}<br>method=%{marker.color}<extra></extra>",
         "legendgroup": "",
         "marker": {
          "color": [
           0,
           1
          ],
          "coloraxis": "coloraxis",
          "symbol": "circle"
         },
         "mode": "markers",
         "name": "",
         "orientation": "v",
         "showlegend": false,
         "type": "scatter",
         "x": [
          0,
          1
         ],
         "xaxis": "x41",
         "y": [
          0.24839629144336875,
          0.2097143499903722
         ],
         "yaxis": "y41"
        },
        {
         "hovertemplate": "<b>OLS trendline</b><br>IPA = -0.0386819 * trial_id + 0.248396<br>R<sup>2</sup>=1.000000<br><br>model=2<br>id=127<br>trial_id=%{x}<br>IPA=%{y} <b>(trend)</b><extra></extra>",
         "legendgroup": "",
         "marker": {
          "symbol": "circle"
         },
         "mode": "lines",
         "name": "",
         "showlegend": false,
         "type": "scatter",
         "x": [
          0,
          1
         ],
         "xaxis": "x41",
         "y": [
          0.24839629144336872,
          0.2097143499903721
         ],
         "yaxis": "y41"
        },
        {
         "hovertemplate": "model=2<br>id=128<br>trial_id=%{x}<br>IPA=%{y}<br>method=%{marker.color}<extra></extra>",
         "legendgroup": "",
         "marker": {
          "color": [
           0,
           1
          ],
          "coloraxis": "coloraxis",
          "symbol": "circle"
         },
         "mode": "markers",
         "name": "",
         "orientation": "v",
         "showlegend": false,
         "type": "scatter",
         "x": [
          0,
          2
         ],
         "xaxis": "x42",
         "y": [
          0.14809580529209782,
          0.12677002649493554
         ],
         "yaxis": "y42"
        },
        {
         "hovertemplate": "<b>OLS trendline</b><br>IPA = -0.0106629 * trial_id + 0.148096<br>R<sup>2</sup>=1.000000<br><br>model=2<br>id=128<br>trial_id=%{x}<br>IPA=%{y} <b>(trend)</b><extra></extra>",
         "legendgroup": "",
         "marker": {
          "symbol": "circle"
         },
         "mode": "lines",
         "name": "",
         "showlegend": false,
         "type": "scatter",
         "x": [
          0,
          2
         ],
         "xaxis": "x42",
         "y": [
          0.14809580529209776,
          0.12677002649493543
         ],
         "yaxis": "y42"
        },
        {
         "hovertemplate": "model=2<br>id=131<br>trial_id=%{x}<br>IPA=%{y}<br>method=%{marker.color}<extra></extra>",
         "legendgroup": "",
         "marker": {
          "color": [
           0,
           1
          ],
          "coloraxis": "coloraxis",
          "symbol": "circle"
         },
         "mode": "markers",
         "name": "",
         "orientation": "v",
         "showlegend": false,
         "type": "scatter",
         "x": [
          0,
          1
         ],
         "xaxis": "x43",
         "y": [
          0.2408804179275251,
          0.15001012568348362
         ],
         "yaxis": "y43"
        },
        {
         "hovertemplate": "<b>OLS trendline</b><br>IPA = -0.0908703 * trial_id + 0.24088<br>R<sup>2</sup>=1.000000<br><br>model=2<br>id=131<br>trial_id=%{x}<br>IPA=%{y} <b>(trend)</b><extra></extra>",
         "legendgroup": "",
         "marker": {
          "symbol": "circle"
         },
         "mode": "lines",
         "name": "",
         "showlegend": false,
         "type": "scatter",
         "x": [
          0,
          1
         ],
         "xaxis": "x43",
         "y": [
          0.24088041792752507,
          0.15001012568348357
         ],
         "yaxis": "y43"
        },
        {
         "hovertemplate": "model=2<br>id=132<br>trial_id=%{x}<br>IPA=%{y}<br>method=%{marker.color}<extra></extra>",
         "legendgroup": "",
         "marker": {
          "color": [
           0,
           1
          ],
          "coloraxis": "coloraxis",
          "symbol": "circle"
         },
         "mode": "markers",
         "name": "",
         "orientation": "v",
         "showlegend": false,
         "type": "scatter",
         "x": [
          0,
          2
         ],
         "xaxis": "x44",
         "y": [
          0.2136668435353316,
          0.26730310262529833
         ],
         "yaxis": "y44"
        },
        {
         "hovertemplate": "<b>OLS trendline</b><br>IPA = 0.0268181 * trial_id + 0.213667<br>R<sup>2</sup>=1.000000<br><br>model=2<br>id=132<br>trial_id=%{x}<br>IPA=%{y} <b>(trend)</b><extra></extra>",
         "legendgroup": "",
         "marker": {
          "symbol": "circle"
         },
         "mode": "lines",
         "name": "",
         "showlegend": false,
         "type": "scatter",
         "x": [
          0,
          2
         ],
         "xaxis": "x44",
         "y": [
          0.21366684353533155,
          0.26730310262529816
         ],
         "yaxis": "y44"
        },
        {
         "hovertemplate": "model=2<br>id=133<br>trial_id=%{x}<br>IPA=%{y}<br>method=%{marker.color}<extra></extra>",
         "legendgroup": "",
         "marker": {
          "color": [
           0,
           1
          ],
          "coloraxis": "coloraxis",
          "symbol": "circle"
         },
         "mode": "markers",
         "name": "",
         "orientation": "v",
         "showlegend": false,
         "type": "scatter",
         "x": [
          3,
          2
         ],
         "xaxis": "x45",
         "y": [
          0.18035444156628813,
          0.18425300148139412
         ],
         "yaxis": "y45"
        },
        {
         "hovertemplate": "<b>OLS trendline</b><br>IPA = -0.00389856 * trial_id + 0.19205<br>R<sup>2</sup>=1.000000<br><br>model=2<br>id=133<br>trial_id=%{x}<br>IPA=%{y} <b>(trend)</b><extra></extra>",
         "legendgroup": "",
         "marker": {
          "symbol": "circle"
         },
         "mode": "lines",
         "name": "",
         "showlegend": false,
         "type": "scatter",
         "x": [
          2,
          3
         ],
         "xaxis": "x45",
         "y": [
          0.18425300148139417,
          0.18035444156628821
         ],
         "yaxis": "y45"
        },
        {
         "hovertemplate": "model=2<br>id=134<br>trial_id=%{x}<br>IPA=%{y}<br>method=%{marker.color}<extra></extra>",
         "legendgroup": "",
         "marker": {
          "color": [
           0,
           1
          ],
          "coloraxis": "coloraxis",
          "symbol": "circle"
         },
         "mode": "markers",
         "name": "",
         "orientation": "v",
         "showlegend": false,
         "type": "scatter",
         "x": [
          3,
          1
         ],
         "xaxis": "x46",
         "y": [
          0.19402579647589452,
          0.15357571519029214
         ],
         "yaxis": "y46"
        },
        {
         "hovertemplate": "<b>OLS trendline</b><br>IPA = 0.020225 * trial_id + 0.133351<br>R<sup>2</sup>=1.000000<br><br>model=2<br>id=134<br>trial_id=%{x}<br>IPA=%{y} <b>(trend)</b><extra></extra>",
         "legendgroup": "",
         "marker": {
          "symbol": "circle"
         },
         "mode": "lines",
         "name": "",
         "showlegend": false,
         "type": "scatter",
         "x": [
          1,
          3
         ],
         "xaxis": "x46",
         "y": [
          0.1535757151902921,
          0.1940257964758945
         ],
         "yaxis": "y46"
        },
        {
         "hovertemplate": "model=2<br>id=135<br>trial_id=%{x}<br>IPA=%{y}<br>method=%{marker.color}<extra></extra>",
         "legendgroup": "",
         "marker": {
          "color": [
           0,
           1
          ],
          "coloraxis": "coloraxis",
          "symbol": "circle"
         },
         "mode": "markers",
         "name": "",
         "orientation": "v",
         "showlegend": false,
         "type": "scatter",
         "x": [
          0,
          1
         ],
         "xaxis": "x47",
         "y": [
          0.1720441207147573,
          0.2264917052560489
         ],
         "yaxis": "y47"
        },
        {
         "hovertemplate": "<b>OLS trendline</b><br>IPA = 0.0544476 * trial_id + 0.172044<br>R<sup>2</sup>=1.000000<br><br>model=2<br>id=135<br>trial_id=%{x}<br>IPA=%{y} <b>(trend)</b><extra></extra>",
         "legendgroup": "",
         "marker": {
          "symbol": "circle"
         },
         "mode": "lines",
         "name": "",
         "showlegend": false,
         "type": "scatter",
         "x": [
          0,
          1
         ],
         "xaxis": "x47",
         "y": [
          0.17204412071475728,
          0.2264917052560488
         ],
         "yaxis": "y47"
        },
        {
         "hovertemplate": "model=2<br>id=136<br>trial_id=%{x}<br>IPA=%{y}<br>method=%{marker.color}<extra></extra>",
         "legendgroup": "",
         "marker": {
          "color": [
           0,
           1
          ],
          "coloraxis": "coloraxis",
          "symbol": "circle"
         },
         "mode": "markers",
         "name": "",
         "orientation": "v",
         "showlegend": false,
         "type": "scatter",
         "x": [
          0,
          2
         ],
         "xaxis": "x48",
         "y": [
          0.12734500521053313,
          0.17324154418850413
         ],
         "yaxis": "y48"
        },
        {
         "hovertemplate": "<b>OLS trendline</b><br>IPA = 0.0229483 * trial_id + 0.127345<br>R<sup>2</sup>=1.000000<br><br>model=2<br>id=136<br>trial_id=%{x}<br>IPA=%{y} <b>(trend)</b><extra></extra>",
         "legendgroup": "",
         "marker": {
          "symbol": "circle"
         },
         "mode": "lines",
         "name": "",
         "showlegend": false,
         "type": "scatter",
         "x": [
          0,
          2
         ],
         "xaxis": "x48",
         "y": [
          0.1273450052105331,
          0.17324154418850402
         ],
         "yaxis": "y48"
        },
        {
         "hovertemplate": "model=3<br>id=108<br>trial_id=%{x}<br>IPA=%{y}<br>method=%{marker.color}<extra></extra>",
         "legendgroup": "",
         "marker": {
          "color": [
           0,
           1
          ],
          "coloraxis": "coloraxis",
          "symbol": "circle"
         },
         "mode": "markers",
         "name": "",
         "orientation": "v",
         "showlegend": false,
         "type": "scatter",
         "x": [
          1,
          0
         ],
         "xaxis": "x",
         "y": [
          0.10275422422615794,
          0.1738850706625456
         ],
         "yaxis": "y"
        },
        {
         "hovertemplate": "<b>OLS trendline</b><br>IPA = -0.0711308 * trial_id + 0.173885<br>R<sup>2</sup>=1.000000<br><br>model=3<br>id=108<br>trial_id=%{x}<br>IPA=%{y} <b>(trend)</b><extra></extra>",
         "legendgroup": "",
         "marker": {
          "symbol": "circle"
         },
         "mode": "lines",
         "name": "",
         "showlegend": false,
         "type": "scatter",
         "x": [
          0,
          1
         ],
         "xaxis": "x",
         "y": [
          0.17388507066254558,
          0.10275422422615789
         ],
         "yaxis": "y"
        },
        {
         "hovertemplate": "model=3<br>id=109<br>trial_id=%{x}<br>IPA=%{y}<br>method=%{marker.color}<extra></extra>",
         "legendgroup": "",
         "marker": {
          "color": [
           0,
           1
          ],
          "coloraxis": "coloraxis",
          "symbol": "circle"
         },
         "mode": "markers",
         "name": "",
         "orientation": "v",
         "showlegend": false,
         "type": "scatter",
         "x": [
          2,
          0
         ],
         "xaxis": "x2",
         "y": [
          0.1889954263106833,
          0.09966949595142507
         ],
         "yaxis": "y2"
        },
        {
         "hovertemplate": "<b>OLS trendline</b><br>IPA = 0.044663 * trial_id + 0.0996695<br>R<sup>2</sup>=1.000000<br><br>model=3<br>id=109<br>trial_id=%{x}<br>IPA=%{y} <b>(trend)</b><extra></extra>",
         "legendgroup": "",
         "marker": {
          "symbol": "circle"
         },
         "mode": "lines",
         "name": "",
         "showlegend": false,
         "type": "scatter",
         "x": [
          0,
          2
         ],
         "xaxis": "x2",
         "y": [
          0.09966949595142505,
          0.1889954263106832
         ],
         "yaxis": "y2"
        },
        {
         "hovertemplate": "model=3<br>id=110<br>trial_id=%{x}<br>IPA=%{y}<br>method=%{marker.color}<extra></extra>",
         "legendgroup": "",
         "marker": {
          "color": [
           0,
           1
          ],
          "coloraxis": "coloraxis",
          "symbol": "circle"
         },
         "mode": "markers",
         "name": "",
         "orientation": "v",
         "showlegend": false,
         "type": "scatter",
         "x": [
          2,
          3
         ],
         "xaxis": "x3",
         "y": [
          0.1384900887259835,
          0.11801108832185873
         ],
         "yaxis": "y3"
        },
        {
         "hovertemplate": "<b>OLS trendline</b><br>IPA = -0.020479 * trial_id + 0.179448<br>R<sup>2</sup>=1.000000<br><br>model=3<br>id=110<br>trial_id=%{x}<br>IPA=%{y} <b>(trend)</b><extra></extra>",
         "legendgroup": "",
         "marker": {
          "symbol": "circle"
         },
         "mode": "lines",
         "name": "",
         "showlegend": false,
         "type": "scatter",
         "x": [
          2,
          3
         ],
         "xaxis": "x3",
         "y": [
          0.13849008872598353,
          0.11801108832185879
         ],
         "yaxis": "y3"
        },
        {
         "hovertemplate": "model=3<br>id=111<br>trial_id=%{x}<br>IPA=%{y}<br>method=%{marker.color}<extra></extra>",
         "legendgroup": "",
         "marker": {
          "color": [
           0,
           1
          ],
          "coloraxis": "coloraxis",
          "symbol": "circle"
         },
         "mode": "markers",
         "name": "",
         "orientation": "v",
         "showlegend": false,
         "type": "scatter",
         "x": [
          1,
          3
         ],
         "xaxis": "x4",
         "y": [
          0.11476286549103587,
          0.17368725005319172
         ],
         "yaxis": "y4"
        },
        {
         "hovertemplate": "<b>OLS trendline</b><br>IPA = 0.0294622 * trial_id + 0.0853007<br>R<sup>2</sup>=1.000000<br><br>model=3<br>id=111<br>trial_id=%{x}<br>IPA=%{y} <b>(trend)</b><extra></extra>",
         "legendgroup": "",
         "marker": {
          "symbol": "circle"
         },
         "mode": "lines",
         "name": "",
         "showlegend": false,
         "type": "scatter",
         "x": [
          1,
          3
         ],
         "xaxis": "x4",
         "y": [
          0.11476286549103581,
          0.1736872500531917
         ],
         "yaxis": "y4"
        },
        {
         "hovertemplate": "model=3<br>id=112<br>trial_id=%{x}<br>IPA=%{y}<br>method=%{marker.color}<extra></extra>",
         "legendgroup": "",
         "marker": {
          "color": [
           0,
           1
          ],
          "coloraxis": "coloraxis",
          "symbol": "circle"
         },
         "mode": "markers",
         "name": "",
         "orientation": "v",
         "showlegend": false,
         "type": "scatter",
         "x": [
          1,
          0
         ],
         "xaxis": "x5",
         "y": [
          0.21388029654503116,
          0.22375869861940884
         ],
         "yaxis": "y5"
        },
        {
         "hovertemplate": "<b>OLS trendline</b><br>IPA = -0.0098784 * trial_id + 0.223759<br>R<sup>2</sup>=1.000000<br><br>model=3<br>id=112<br>trial_id=%{x}<br>IPA=%{y} <b>(trend)</b><extra></extra>",
         "legendgroup": "",
         "marker": {
          "symbol": "circle"
         },
         "mode": "lines",
         "name": "",
         "showlegend": false,
         "type": "scatter",
         "x": [
          0,
          1
         ],
         "xaxis": "x5",
         "y": [
          0.2237586986194088,
          0.21388029654503107
         ],
         "yaxis": "y5"
        },
        {
         "hovertemplate": "model=3<br>id=114<br>trial_id=%{x}<br>IPA=%{y}<br>method=%{marker.color}<extra></extra>",
         "legendgroup": "",
         "marker": {
          "color": [
           0,
           1
          ],
          "coloraxis": "coloraxis",
          "symbol": "circle"
         },
         "mode": "markers",
         "name": "",
         "orientation": "v",
         "showlegend": false,
         "type": "scatter",
         "x": [
          2,
          3
         ],
         "xaxis": "x6",
         "y": [
          0.09677581688467032,
          0.1358514762979929
         ],
         "yaxis": "y6"
        },
        {
         "hovertemplate": "<b>OLS trendline</b><br>IPA = 0.0390757 * trial_id + 0.0186245<br>R<sup>2</sup>=1.000000<br><br>model=3<br>id=114<br>trial_id=%{x}<br>IPA=%{y} <b>(trend)</b><extra></extra>",
         "legendgroup": "",
         "marker": {
          "symbol": "circle"
         },
         "mode": "lines",
         "name": "",
         "showlegend": false,
         "type": "scatter",
         "x": [
          2,
          3
         ],
         "xaxis": "x6",
         "y": [
          0.09677581688467041,
          0.13585147629799302
         ],
         "yaxis": "y6"
        },
        {
         "hovertemplate": "model=3<br>id=116<br>trial_id=%{x}<br>IPA=%{y}<br>method=%{marker.color}<extra></extra>",
         "legendgroup": "",
         "marker": {
          "color": [
           0,
           1
          ],
          "coloraxis": "coloraxis",
          "symbol": "circle"
         },
         "mode": "markers",
         "name": "",
         "orientation": "v",
         "showlegend": false,
         "type": "scatter",
         "x": [
          1,
          0
         ],
         "xaxis": "x7",
         "y": [
          0.24211157033806632,
          0.23617584078599319
         ],
         "yaxis": "y7"
        },
        {
         "hovertemplate": "<b>OLS trendline</b><br>IPA = 0.00593573 * trial_id + 0.236176<br>R<sup>2</sup>=1.000000<br><br>model=3<br>id=116<br>trial_id=%{x}<br>IPA=%{y} <b>(trend)</b><extra></extra>",
         "legendgroup": "",
         "marker": {
          "symbol": "circle"
         },
         "mode": "lines",
         "name": "",
         "showlegend": false,
         "type": "scatter",
         "x": [
          0,
          1
         ],
         "xaxis": "x7",
         "y": [
          0.23617584078599316,
          0.24211157033806624
         ],
         "yaxis": "y7"
        },
        {
         "hovertemplate": "model=3<br>id=117<br>trial_id=%{x}<br>IPA=%{y}<br>method=%{marker.color}<extra></extra>",
         "legendgroup": "",
         "marker": {
          "color": [
           0,
           1
          ],
          "coloraxis": "coloraxis",
          "symbol": "circle"
         },
         "mode": "markers",
         "name": "",
         "orientation": "v",
         "showlegend": false,
         "type": "scatter",
         "x": [
          2,
          0
         ],
         "xaxis": "x8",
         "y": [
          0.18467561727825077,
          0.19067622590145852
         ],
         "yaxis": "y8"
        },
        {
         "hovertemplate": "<b>OLS trendline</b><br>IPA = -0.0030003 * trial_id + 0.190676<br>R<sup>2</sup>=1.000000<br><br>model=3<br>id=117<br>trial_id=%{x}<br>IPA=%{y} <b>(trend)</b><extra></extra>",
         "legendgroup": "",
         "marker": {
          "symbol": "circle"
         },
         "mode": "lines",
         "name": "",
         "showlegend": false,
         "type": "scatter",
         "x": [
          0,
          2
         ],
         "xaxis": "x8",
         "y": [
          0.19067622590145847,
          0.18467561727825063
         ],
         "yaxis": "y8"
        },
        {
         "hovertemplate": "model=3<br>id=118<br>trial_id=%{x}<br>IPA=%{y}<br>method=%{marker.color}<extra></extra>",
         "legendgroup": "",
         "marker": {
          "color": [
           0,
           1
          ],
          "coloraxis": "coloraxis",
          "symbol": "circle"
         },
         "mode": "markers",
         "name": "",
         "orientation": "v",
         "showlegend": false,
         "type": "scatter",
         "x": [
          2,
          3
         ],
         "xaxis": "x9",
         "y": [
          0.23084895309999767,
          0.16216176373031024
         ],
         "yaxis": "y9"
        },
        {
         "hovertemplate": "<b>OLS trendline</b><br>IPA = -0.0686872 * trial_id + 0.368223<br>R<sup>2</sup>=1.000000<br><br>model=3<br>id=118<br>trial_id=%{x}<br>IPA=%{y} <b>(trend)</b><extra></extra>",
         "legendgroup": "",
         "marker": {
          "symbol": "circle"
         },
         "mode": "lines",
         "name": "",
         "showlegend": false,
         "type": "scatter",
         "x": [
          2,
          3
         ],
         "xaxis": "x9",
         "y": [
          0.2308489530999977,
          0.16216176373031033
         ],
         "yaxis": "y9"
        },
        {
         "hovertemplate": "model=3<br>id=119<br>trial_id=%{x}<br>IPA=%{y}<br>method=%{marker.color}<extra></extra>",
         "legendgroup": "",
         "marker": {
          "color": [
           0,
           1
          ],
          "coloraxis": "coloraxis",
          "symbol": "circle"
         },
         "mode": "markers",
         "name": "",
         "orientation": "v",
         "showlegend": false,
         "type": "scatter",
         "x": [
          1,
          3
         ],
         "xaxis": "x10",
         "y": [
          0.24184930067763152,
          0.2636317380976861
         ],
         "yaxis": "y10"
        },
        {
         "hovertemplate": "<b>OLS trendline</b><br>IPA = 0.0108912 * trial_id + 0.230958<br>R<sup>2</sup>=1.000000<br><br>model=3<br>id=119<br>trial_id=%{x}<br>IPA=%{y} <b>(trend)</b><extra></extra>",
         "legendgroup": "",
         "marker": {
          "symbol": "circle"
         },
         "mode": "lines",
         "name": "",
         "showlegend": false,
         "type": "scatter",
         "x": [
          1,
          3
         ],
         "xaxis": "x10",
         "y": [
          0.2418493006776314,
          0.26363173809768603
         ],
         "yaxis": "y10"
        },
        {
         "hovertemplate": "model=3<br>id=120<br>trial_id=%{x}<br>IPA=%{y}<br>method=%{marker.color}<extra></extra>",
         "legendgroup": "",
         "marker": {
          "color": [
           0,
           1
          ],
          "coloraxis": "coloraxis",
          "symbol": "circle"
         },
         "mode": "markers",
         "name": "",
         "orientation": "v",
         "showlegend": false,
         "type": "scatter",
         "x": [
          1,
          0
         ],
         "xaxis": "x11",
         "y": [
          0.16971237523783303,
          0.07358469045986751
         ],
         "yaxis": "y11"
        },
        {
         "hovertemplate": "<b>OLS trendline</b><br>IPA = 0.0961277 * trial_id + 0.0735847<br>R<sup>2</sup>=1.000000<br><br>model=3<br>id=120<br>trial_id=%{x}<br>IPA=%{y} <b>(trend)</b><extra></extra>",
         "legendgroup": "",
         "marker": {
          "symbol": "circle"
         },
         "mode": "lines",
         "name": "",
         "showlegend": false,
         "type": "scatter",
         "x": [
          0,
          1
         ],
         "xaxis": "x11",
         "y": [
          0.0735846904598675,
          0.169712375237833
         ],
         "yaxis": "y11"
        },
        {
         "hovertemplate": "model=3<br>id=121<br>trial_id=%{x}<br>IPA=%{y}<br>method=%{marker.color}<extra></extra>",
         "legendgroup": "",
         "marker": {
          "color": [
           0,
           1
          ],
          "coloraxis": "coloraxis",
          "symbol": "circle"
         },
         "mode": "markers",
         "name": "",
         "orientation": "v",
         "showlegend": false,
         "type": "scatter",
         "x": [
          2,
          0
         ],
         "xaxis": "x12",
         "y": [
          0.152699731248473,
          0.1408031765196623
         ],
         "yaxis": "y12"
        },
        {
         "hovertemplate": "<b>OLS trendline</b><br>IPA = 0.00594828 * trial_id + 0.140803<br>R<sup>2</sup>=1.000000<br><br>model=3<br>id=121<br>trial_id=%{x}<br>IPA=%{y} <b>(trend)</b><extra></extra>",
         "legendgroup": "",
         "marker": {
          "symbol": "circle"
         },
         "mode": "lines",
         "name": "",
         "showlegend": false,
         "type": "scatter",
         "x": [
          0,
          2
         ],
         "xaxis": "x12",
         "y": [
          0.14080317651966223,
          0.1526997312484729
         ],
         "yaxis": "y12"
        },
        {
         "hovertemplate": "model=3<br>id=122<br>trial_id=%{x}<br>IPA=%{y}<br>method=%{marker.color}<extra></extra>",
         "legendgroup": "",
         "marker": {
          "color": [
           0,
           1
          ],
          "coloraxis": "coloraxis",
          "symbol": "circle"
         },
         "mode": "markers",
         "name": "",
         "orientation": "v",
         "showlegend": false,
         "type": "scatter",
         "x": [
          2,
          3
         ],
         "xaxis": "x13",
         "y": [
          0.2261591869900312,
          0.16231295967537407
         ],
         "yaxis": "y13"
        },
        {
         "hovertemplate": "<b>OLS trendline</b><br>IPA = -0.0638462 * trial_id + 0.353852<br>R<sup>2</sup>=1.000000<br><br>model=3<br>id=122<br>trial_id=%{x}<br>IPA=%{y} <b>(trend)</b><extra></extra>",
         "legendgroup": "",
         "marker": {
          "symbol": "circle"
         },
         "mode": "lines",
         "name": "",
         "showlegend": false,
         "type": "scatter",
         "x": [
          2,
          3
         ],
         "xaxis": "x13",
         "y": [
          0.22615918699003118,
          0.1623129596753741
         ],
         "yaxis": "y13"
        },
        {
         "hovertemplate": "model=3<br>id=124<br>trial_id=%{x}<br>IPA=%{y}<br>method=%{marker.color}<extra></extra>",
         "legendgroup": "",
         "marker": {
          "color": [
           0,
           1
          ],
          "coloraxis": "coloraxis",
          "symbol": "circle"
         },
         "mode": "markers",
         "name": "",
         "orientation": "v",
         "showlegend": false,
         "type": "scatter",
         "x": [
          1,
          0
         ],
         "xaxis": "x14",
         "y": [
          0.12643762005495174,
          0.0779596837064261
         ],
         "yaxis": "y14"
        },
        {
         "hovertemplate": "<b>OLS trendline</b><br>IPA = 0.0484779 * trial_id + 0.0779597<br>R<sup>2</sup>=1.000000<br><br>model=3<br>id=124<br>trial_id=%{x}<br>IPA=%{y} <b>(trend)</b><extra></extra>",
         "legendgroup": "",
         "marker": {
          "symbol": "circle"
         },
         "mode": "lines",
         "name": "",
         "showlegend": false,
         "type": "scatter",
         "x": [
          0,
          1
         ],
         "xaxis": "x14",
         "y": [
          0.07795968370642609,
          0.12643762005495168
         ],
         "yaxis": "y14"
        },
        {
         "hovertemplate": "model=3<br>id=125<br>trial_id=%{x}<br>IPA=%{y}<br>method=%{marker.color}<extra></extra>",
         "legendgroup": "",
         "marker": {
          "color": [
           0,
           1
          ],
          "coloraxis": "coloraxis",
          "symbol": "circle"
         },
         "mode": "markers",
         "name": "",
         "orientation": "v",
         "showlegend": false,
         "type": "scatter",
         "x": [
          2,
          0
         ],
         "xaxis": "x15",
         "y": [
          0.18175605429416855,
          0.12188040572245917
         ],
         "yaxis": "y15"
        },
        {
         "hovertemplate": "<b>OLS trendline</b><br>IPA = 0.0299378 * trial_id + 0.12188<br>R<sup>2</sup>=1.000000<br><br>model=3<br>id=125<br>trial_id=%{x}<br>IPA=%{y} <b>(trend)</b><extra></extra>",
         "legendgroup": "",
         "marker": {
          "symbol": "circle"
         },
         "mode": "lines",
         "name": "",
         "showlegend": false,
         "type": "scatter",
         "x": [
          0,
          2
         ],
         "xaxis": "x15",
         "y": [
          0.12188040572245913,
          0.1817560542941684
         ],
         "yaxis": "y15"
        },
        {
         "hovertemplate": "model=3<br>id=126<br>trial_id=%{x}<br>IPA=%{y}<br>method=%{marker.color}<extra></extra>",
         "legendgroup": "",
         "marker": {
          "color": [
           0,
           1
          ],
          "coloraxis": "coloraxis",
          "symbol": "circle"
         },
         "mode": "markers",
         "name": "",
         "orientation": "v",
         "showlegend": false,
         "type": "scatter",
         "x": [
          2,
          3
         ],
         "xaxis": "x16",
         "y": [
          0.16210068841602884,
          0.1363951002333493
         ],
         "yaxis": "y16"
        },
        {
         "hovertemplate": "<b>OLS trendline</b><br>IPA = -0.0257056 * trial_id + 0.213512<br>R<sup>2</sup>=1.000000<br><br>model=3<br>id=126<br>trial_id=%{x}<br>IPA=%{y} <b>(trend)</b><extra></extra>",
         "legendgroup": "",
         "marker": {
          "symbol": "circle"
         },
         "mode": "lines",
         "name": "",
         "showlegend": false,
         "type": "scatter",
         "x": [
          2,
          3
         ],
         "xaxis": "x16",
         "y": [
          0.16210068841602887,
          0.13639510023334936
         ],
         "yaxis": "y16"
        },
        {
         "hovertemplate": "model=3<br>id=127<br>trial_id=%{x}<br>IPA=%{y}<br>method=%{marker.color}<extra></extra>",
         "legendgroup": "",
         "marker": {
          "color": [
           0,
           1
          ],
          "coloraxis": "coloraxis",
          "symbol": "circle"
         },
         "mode": "markers",
         "name": "",
         "orientation": "v",
         "showlegend": false,
         "type": "scatter",
         "x": [
          1,
          3
         ],
         "xaxis": "x17",
         "y": [
          0.15864669833556952,
          0.27083683164240874
         ],
         "yaxis": "y17"
        },
        {
         "hovertemplate": "<b>OLS trendline</b><br>IPA = 0.0560951 * trial_id + 0.102552<br>R<sup>2</sup>=1.000000<br><br>model=3<br>id=127<br>trial_id=%{x}<br>IPA=%{y} <b>(trend)</b><extra></extra>",
         "legendgroup": "",
         "marker": {
          "symbol": "circle"
         },
         "mode": "lines",
         "name": "",
         "showlegend": false,
         "type": "scatter",
         "x": [
          1,
          3
         ],
         "xaxis": "x17",
         "y": [
          0.1586466983355695,
          0.27083683164240874
         ],
         "yaxis": "y17"
        },
        {
         "hovertemplate": "model=3<br>id=128<br>trial_id=%{x}<br>IPA=%{y}<br>method=%{marker.color}<extra></extra>",
         "legendgroup": "",
         "marker": {
          "color": [
           0,
           1
          ],
          "coloraxis": "coloraxis",
          "symbol": "circle"
         },
         "mode": "markers",
         "name": "",
         "orientation": "v",
         "showlegend": false,
         "type": "scatter",
         "x": [
          1,
          0
         ],
         "xaxis": "x18",
         "y": [
          0.16152566373587324,
          0.058976869271871575
         ],
         "yaxis": "y18"
        },
        {
         "hovertemplate": "<b>OLS trendline</b><br>IPA = 0.102549 * trial_id + 0.0589769<br>R<sup>2</sup>=1.000000<br><br>model=3<br>id=128<br>trial_id=%{x}<br>IPA=%{y} <b>(trend)</b><extra></extra>",
         "legendgroup": "",
         "marker": {
          "symbol": "circle"
         },
         "mode": "lines",
         "name": "",
         "showlegend": false,
         "type": "scatter",
         "x": [
          0,
          1
         ],
         "xaxis": "x18",
         "y": [
          0.05897686927187157,
          0.1615256637358732
         ],
         "yaxis": "y18"
        },
        {
         "hovertemplate": "model=3<br>id=131<br>trial_id=%{x}<br>IPA=%{y}<br>method=%{marker.color}<extra></extra>",
         "legendgroup": "",
         "marker": {
          "color": [
           0,
           1
          ],
          "coloraxis": "coloraxis",
          "symbol": "circle"
         },
         "mode": "markers",
         "name": "",
         "orientation": "v",
         "showlegend": false,
         "type": "scatter",
         "x": [
          1,
          3
         ],
         "xaxis": "x19",
         "y": [
          0.18896960778176844,
          0.19043115199738475
         ],
         "yaxis": "y19"
        },
        {
         "hovertemplate": "<b>OLS trendline</b><br>IPA = 0.000730772 * trial_id + 0.188239<br>R<sup>2</sup>=1.000000<br><br>model=3<br>id=131<br>trial_id=%{x}<br>IPA=%{y} <b>(trend)</b><extra></extra>",
         "legendgroup": "",
         "marker": {
          "symbol": "circle"
         },
         "mode": "lines",
         "name": "",
         "showlegend": false,
         "type": "scatter",
         "x": [
          1,
          3
         ],
         "xaxis": "x19",
         "y": [
          0.18896960778176833,
          0.19043115199738467
         ],
         "yaxis": "y19"
        },
        {
         "hovertemplate": "model=3<br>id=132<br>trial_id=%{x}<br>IPA=%{y}<br>method=%{marker.color}<extra></extra>",
         "legendgroup": "",
         "marker": {
          "color": [
           0,
           1
          ],
          "coloraxis": "coloraxis",
          "symbol": "circle"
         },
         "mode": "markers",
         "name": "",
         "orientation": "v",
         "showlegend": false,
         "type": "scatter",
         "x": [
          1,
          0
         ],
         "xaxis": "x20",
         "y": [
          0.19128261368563337,
          0.19633936167891972
         ],
         "yaxis": "y20"
        },
        {
         "hovertemplate": "<b>OLS trendline</b><br>IPA = -0.00505675 * trial_id + 0.196339<br>R<sup>2</sup>=1.000000<br><br>model=3<br>id=132<br>trial_id=%{x}<br>IPA=%{y} <b>(trend)</b><extra></extra>",
         "legendgroup": "",
         "marker": {
          "symbol": "circle"
         },
         "mode": "lines",
         "name": "",
         "showlegend": false,
         "type": "scatter",
         "x": [
          0,
          1
         ],
         "xaxis": "x20",
         "y": [
          0.1963393616789197,
          0.1912826136856333
         ],
         "yaxis": "y20"
        },
        {
         "hovertemplate": "model=3<br>id=133<br>trial_id=%{x}<br>IPA=%{y}<br>method=%{marker.color}<extra></extra>",
         "legendgroup": "",
         "marker": {
          "color": [
           0,
           1
          ],
          "coloraxis": "coloraxis",
          "symbol": "circle"
         },
         "mode": "markers",
         "name": "",
         "orientation": "v",
         "showlegend": false,
         "type": "scatter",
         "x": [
          2,
          0
         ],
         "xaxis": "x21",
         "y": [
          0.23577454295104847,
          0.11499861180247181
         ],
         "yaxis": "y21"
        },
        {
         "hovertemplate": "<b>OLS trendline</b><br>IPA = 0.060388 * trial_id + 0.114999<br>R<sup>2</sup>=1.000000<br><br>model=3<br>id=133<br>trial_id=%{x}<br>IPA=%{y} <b>(trend)</b><extra></extra>",
         "legendgroup": "",
         "marker": {
          "symbol": "circle"
         },
         "mode": "lines",
         "name": "",
         "showlegend": false,
         "type": "scatter",
         "x": [
          0,
          2
         ],
         "xaxis": "x21",
         "y": [
          0.11499861180247177,
          0.23577454295104833
         ],
         "yaxis": "y21"
        },
        {
         "hovertemplate": "model=3<br>id=134<br>trial_id=%{x}<br>IPA=%{y}<br>method=%{marker.color}<extra></extra>",
         "legendgroup": "",
         "marker": {
          "color": [
           0,
           1
          ],
          "coloraxis": "coloraxis",
          "symbol": "circle"
         },
         "mode": "markers",
         "name": "",
         "orientation": "v",
         "showlegend": false,
         "type": "scatter",
         "x": [
          2,
          3
         ],
         "xaxis": "x22",
         "y": [
          0.33011375331570136,
          0.2615008054224807
         ],
         "yaxis": "y22"
        },
        {
         "hovertemplate": "<b>OLS trendline</b><br>IPA = -0.0686129 * trial_id + 0.46734<br>R<sup>2</sup>=1.000000<br><br>model=3<br>id=134<br>trial_id=%{x}<br>IPA=%{y} <b>(trend)</b><extra></extra>",
         "legendgroup": "",
         "marker": {
          "symbol": "circle"
         },
         "mode": "lines",
         "name": "",
         "showlegend": false,
         "type": "scatter",
         "x": [
          2,
          3
         ],
         "xaxis": "x22",
         "y": [
          0.33011375331570136,
          0.2615008054224808
         ],
         "yaxis": "y22"
        },
        {
         "hovertemplate": "model=3<br>id=135<br>trial_id=%{x}<br>IPA=%{y}<br>method=%{marker.color}<extra></extra>",
         "legendgroup": "",
         "marker": {
          "color": [
           0,
           1
          ],
          "coloraxis": "coloraxis",
          "symbol": "circle"
         },
         "mode": "markers",
         "name": "",
         "orientation": "v",
         "showlegend": false,
         "type": "scatter",
         "x": [
          1,
          3
         ],
         "xaxis": "x23",
         "y": [
          0.1954468697229345,
          0.13118625168082385
         ],
         "yaxis": "y23"
        },
        {
         "hovertemplate": "<b>OLS trendline</b><br>IPA = -0.0321303 * trial_id + 0.227577<br>R<sup>2</sup>=1.000000<br><br>model=3<br>id=135<br>trial_id=%{x}<br>IPA=%{y} <b>(trend)</b><extra></extra>",
         "legendgroup": "",
         "marker": {
          "symbol": "circle"
         },
         "mode": "lines",
         "name": "",
         "showlegend": false,
         "type": "scatter",
         "x": [
          1,
          3
         ],
         "xaxis": "x23",
         "y": [
          0.19544686972293443,
          0.1311862516808238
         ],
         "yaxis": "y23"
        },
        {
         "hovertemplate": "model=3<br>id=136<br>trial_id=%{x}<br>IPA=%{y}<br>method=%{marker.color}<extra></extra>",
         "legendgroup": "",
         "marker": {
          "color": [
           0,
           1
          ],
          "coloraxis": "coloraxis",
          "symbol": "circle"
         },
         "mode": "markers",
         "name": "",
         "orientation": "v",
         "showlegend": false,
         "type": "scatter",
         "x": [
          1,
          0
         ],
         "xaxis": "x24",
         "y": [
          0.11784198332771621,
          0.08719783226188997
         ],
         "yaxis": "y24"
        },
        {
         "hovertemplate": "<b>OLS trendline</b><br>IPA = 0.0306442 * trial_id + 0.0871978<br>R<sup>2</sup>=1.000000<br><br>model=3<br>id=136<br>trial_id=%{x}<br>IPA=%{y} <b>(trend)</b><extra></extra>",
         "legendgroup": "",
         "marker": {
          "symbol": "circle"
         },
         "mode": "lines",
         "name": "",
         "showlegend": false,
         "type": "scatter",
         "x": [
          0,
          1
         ],
         "xaxis": "x24",
         "y": [
          0.08719783226188996,
          0.11784198332771617
         ],
         "yaxis": "y24"
        }
       ],
       "layout": {
        "annotations": [
         {
          "font": {},
          "showarrow": false,
          "text": "id=108",
          "x": 0.010833333333333334,
          "xanchor": "center",
          "xref": "paper",
          "y": 1,
          "yanchor": "bottom",
          "yref": "paper"
         },
         {
          "font": {},
          "showarrow": false,
          "text": "id=109",
          "x": 0.052500000000000005,
          "xanchor": "center",
          "xref": "paper",
          "y": 1,
          "yanchor": "bottom",
          "yref": "paper"
         },
         {
          "font": {},
          "showarrow": false,
          "text": "id=110",
          "x": 0.09416666666666668,
          "xanchor": "center",
          "xref": "paper",
          "y": 1,
          "yanchor": "bottom",
          "yref": "paper"
         },
         {
          "font": {},
          "showarrow": false,
          "text": "id=111",
          "x": 0.13583333333333333,
          "xanchor": "center",
          "xref": "paper",
          "y": 1,
          "yanchor": "bottom",
          "yref": "paper"
         },
         {
          "font": {},
          "showarrow": false,
          "text": "id=112",
          "x": 0.17750000000000002,
          "xanchor": "center",
          "xref": "paper",
          "y": 1,
          "yanchor": "bottom",
          "yref": "paper"
         },
         {
          "font": {},
          "showarrow": false,
          "text": "id=114",
          "x": 0.21916666666666668,
          "xanchor": "center",
          "xref": "paper",
          "y": 1,
          "yanchor": "bottom",
          "yref": "paper"
         },
         {
          "font": {},
          "showarrow": false,
          "text": "id=116",
          "x": 0.26083333333333336,
          "xanchor": "center",
          "xref": "paper",
          "y": 1,
          "yanchor": "bottom",
          "yref": "paper"
         },
         {
          "font": {},
          "showarrow": false,
          "text": "id=117",
          "x": 0.3025,
          "xanchor": "center",
          "xref": "paper",
          "y": 1,
          "yanchor": "bottom",
          "yref": "paper"
         },
         {
          "font": {},
          "showarrow": false,
          "text": "id=118",
          "x": 0.34416666666666673,
          "xanchor": "center",
          "xref": "paper",
          "y": 1,
          "yanchor": "bottom",
          "yref": "paper"
         },
         {
          "font": {},
          "showarrow": false,
          "text": "id=119",
          "x": 0.38583333333333336,
          "xanchor": "center",
          "xref": "paper",
          "y": 1,
          "yanchor": "bottom",
          "yref": "paper"
         },
         {
          "font": {},
          "showarrow": false,
          "text": "id=120",
          "x": 0.4275,
          "xanchor": "center",
          "xref": "paper",
          "y": 1,
          "yanchor": "bottom",
          "yref": "paper"
         },
         {
          "font": {},
          "showarrow": false,
          "text": "id=121",
          "x": 0.46916666666666673,
          "xanchor": "center",
          "xref": "paper",
          "y": 1,
          "yanchor": "bottom",
          "yref": "paper"
         },
         {
          "font": {},
          "showarrow": false,
          "text": "id=122",
          "x": 0.5108333333333334,
          "xanchor": "center",
          "xref": "paper",
          "y": 1,
          "yanchor": "bottom",
          "yref": "paper"
         },
         {
          "font": {},
          "showarrow": false,
          "text": "id=124",
          "x": 0.5525000000000001,
          "xanchor": "center",
          "xref": "paper",
          "y": 1,
          "yanchor": "bottom",
          "yref": "paper"
         },
         {
          "font": {},
          "showarrow": false,
          "text": "id=125",
          "x": 0.5941666666666667,
          "xanchor": "center",
          "xref": "paper",
          "y": 1,
          "yanchor": "bottom",
          "yref": "paper"
         },
         {
          "font": {},
          "showarrow": false,
          "text": "id=126",
          "x": 0.6358333333333334,
          "xanchor": "center",
          "xref": "paper",
          "y": 1,
          "yanchor": "bottom",
          "yref": "paper"
         },
         {
          "font": {},
          "showarrow": false,
          "text": "id=127",
          "x": 0.6775000000000001,
          "xanchor": "center",
          "xref": "paper",
          "y": 1,
          "yanchor": "bottom",
          "yref": "paper"
         },
         {
          "font": {},
          "showarrow": false,
          "text": "id=128",
          "x": 0.7191666666666667,
          "xanchor": "center",
          "xref": "paper",
          "y": 1,
          "yanchor": "bottom",
          "yref": "paper"
         },
         {
          "font": {},
          "showarrow": false,
          "text": "id=131",
          "x": 0.7608333333333334,
          "xanchor": "center",
          "xref": "paper",
          "y": 1,
          "yanchor": "bottom",
          "yref": "paper"
         },
         {
          "font": {},
          "showarrow": false,
          "text": "id=132",
          "x": 0.8025000000000001,
          "xanchor": "center",
          "xref": "paper",
          "y": 1,
          "yanchor": "bottom",
          "yref": "paper"
         },
         {
          "font": {},
          "showarrow": false,
          "text": "id=133",
          "x": 0.8441666666666667,
          "xanchor": "center",
          "xref": "paper",
          "y": 1,
          "yanchor": "bottom",
          "yref": "paper"
         },
         {
          "font": {},
          "showarrow": false,
          "text": "id=134",
          "x": 0.8858333333333334,
          "xanchor": "center",
          "xref": "paper",
          "y": 1,
          "yanchor": "bottom",
          "yref": "paper"
         },
         {
          "font": {},
          "showarrow": false,
          "text": "id=135",
          "x": 0.9275000000000001,
          "xanchor": "center",
          "xref": "paper",
          "y": 1,
          "yanchor": "bottom",
          "yref": "paper"
         },
         {
          "font": {},
          "showarrow": false,
          "text": "id=136",
          "x": 0.9691666666666667,
          "xanchor": "center",
          "xref": "paper",
          "y": 1,
          "yanchor": "bottom",
          "yref": "paper"
         },
         {
          "font": {},
          "showarrow": false,
          "text": "model=3",
          "textangle": 90,
          "x": 0.98,
          "xanchor": "left",
          "xref": "paper",
          "y": 0.11375,
          "yanchor": "middle",
          "yref": "paper"
         },
         {
          "font": {},
          "showarrow": false,
          "text": "model=2",
          "textangle": 90,
          "x": 0.98,
          "xanchor": "left",
          "xref": "paper",
          "y": 0.37124999999999997,
          "yanchor": "middle",
          "yref": "paper"
         },
         {
          "font": {},
          "showarrow": false,
          "text": "model=1",
          "textangle": 90,
          "x": 0.98,
          "xanchor": "left",
          "xref": "paper",
          "y": 0.62875,
          "yanchor": "middle",
          "yref": "paper"
         },
         {
          "font": {},
          "showarrow": false,
          "text": "model=0",
          "textangle": 90,
          "x": 0.98,
          "xanchor": "left",
          "xref": "paper",
          "y": 0.88625,
          "yanchor": "middle",
          "yref": "paper"
         }
        ],
        "coloraxis": {
         "colorbar": {
          "title": {
           "text": "method"
          }
         },
         "colorscale": [
          [
           0,
           "#0d0887"
          ],
          [
           0.1111111111111111,
           "#46039f"
          ],
          [
           0.2222222222222222,
           "#7201a8"
          ],
          [
           0.3333333333333333,
           "#9c179e"
          ],
          [
           0.4444444444444444,
           "#bd3786"
          ],
          [
           0.5555555555555556,
           "#d8576b"
          ],
          [
           0.6666666666666666,
           "#ed7953"
          ],
          [
           0.7777777777777778,
           "#fb9f3a"
          ],
          [
           0.8888888888888888,
           "#fdca26"
          ],
          [
           1,
           "#f0f921"
          ]
         ]
        },
        "legend": {
         "tracegroupgap": 0
        },
        "margin": {
         "t": 60
        },
        "template": {
         "data": {
          "bar": [
           {
            "error_x": {
             "color": "#2a3f5f"
            },
            "error_y": {
             "color": "#2a3f5f"
            },
            "marker": {
             "line": {
              "color": "#E5ECF6",
              "width": 0.5
             },
             "pattern": {
              "fillmode": "overlay",
              "size": 10,
              "solidity": 0.2
             }
            },
            "type": "bar"
           }
          ],
          "barpolar": [
           {
            "marker": {
             "line": {
              "color": "#E5ECF6",
              "width": 0.5
             },
             "pattern": {
              "fillmode": "overlay",
              "size": 10,
              "solidity": 0.2
             }
            },
            "type": "barpolar"
           }
          ],
          "carpet": [
           {
            "aaxis": {
             "endlinecolor": "#2a3f5f",
             "gridcolor": "white",
             "linecolor": "white",
             "minorgridcolor": "white",
             "startlinecolor": "#2a3f5f"
            },
            "baxis": {
             "endlinecolor": "#2a3f5f",
             "gridcolor": "white",
             "linecolor": "white",
             "minorgridcolor": "white",
             "startlinecolor": "#2a3f5f"
            },
            "type": "carpet"
           }
          ],
          "choropleth": [
           {
            "colorbar": {
             "outlinewidth": 0,
             "ticks": ""
            },
            "type": "choropleth"
           }
          ],
          "contour": [
           {
            "colorbar": {
             "outlinewidth": 0,
             "ticks": ""
            },
            "colorscale": [
             [
              0,
              "#0d0887"
             ],
             [
              0.1111111111111111,
              "#46039f"
             ],
             [
              0.2222222222222222,
              "#7201a8"
             ],
             [
              0.3333333333333333,
              "#9c179e"
             ],
             [
              0.4444444444444444,
              "#bd3786"
             ],
             [
              0.5555555555555556,
              "#d8576b"
             ],
             [
              0.6666666666666666,
              "#ed7953"
             ],
             [
              0.7777777777777778,
              "#fb9f3a"
             ],
             [
              0.8888888888888888,
              "#fdca26"
             ],
             [
              1,
              "#f0f921"
             ]
            ],
            "type": "contour"
           }
          ],
          "contourcarpet": [
           {
            "colorbar": {
             "outlinewidth": 0,
             "ticks": ""
            },
            "type": "contourcarpet"
           }
          ],
          "heatmap": [
           {
            "colorbar": {
             "outlinewidth": 0,
             "ticks": ""
            },
            "colorscale": [
             [
              0,
              "#0d0887"
             ],
             [
              0.1111111111111111,
              "#46039f"
             ],
             [
              0.2222222222222222,
              "#7201a8"
             ],
             [
              0.3333333333333333,
              "#9c179e"
             ],
             [
              0.4444444444444444,
              "#bd3786"
             ],
             [
              0.5555555555555556,
              "#d8576b"
             ],
             [
              0.6666666666666666,
              "#ed7953"
             ],
             [
              0.7777777777777778,
              "#fb9f3a"
             ],
             [
              0.8888888888888888,
              "#fdca26"
             ],
             [
              1,
              "#f0f921"
             ]
            ],
            "type": "heatmap"
           }
          ],
          "heatmapgl": [
           {
            "colorbar": {
             "outlinewidth": 0,
             "ticks": ""
            },
            "colorscale": [
             [
              0,
              "#0d0887"
             ],
             [
              0.1111111111111111,
              "#46039f"
             ],
             [
              0.2222222222222222,
              "#7201a8"
             ],
             [
              0.3333333333333333,
              "#9c179e"
             ],
             [
              0.4444444444444444,
              "#bd3786"
             ],
             [
              0.5555555555555556,
              "#d8576b"
             ],
             [
              0.6666666666666666,
              "#ed7953"
             ],
             [
              0.7777777777777778,
              "#fb9f3a"
             ],
             [
              0.8888888888888888,
              "#fdca26"
             ],
             [
              1,
              "#f0f921"
             ]
            ],
            "type": "heatmapgl"
           }
          ],
          "histogram": [
           {
            "marker": {
             "pattern": {
              "fillmode": "overlay",
              "size": 10,
              "solidity": 0.2
             }
            },
            "type": "histogram"
           }
          ],
          "histogram2d": [
           {
            "colorbar": {
             "outlinewidth": 0,
             "ticks": ""
            },
            "colorscale": [
             [
              0,
              "#0d0887"
             ],
             [
              0.1111111111111111,
              "#46039f"
             ],
             [
              0.2222222222222222,
              "#7201a8"
             ],
             [
              0.3333333333333333,
              "#9c179e"
             ],
             [
              0.4444444444444444,
              "#bd3786"
             ],
             [
              0.5555555555555556,
              "#d8576b"
             ],
             [
              0.6666666666666666,
              "#ed7953"
             ],
             [
              0.7777777777777778,
              "#fb9f3a"
             ],
             [
              0.8888888888888888,
              "#fdca26"
             ],
             [
              1,
              "#f0f921"
             ]
            ],
            "type": "histogram2d"
           }
          ],
          "histogram2dcontour": [
           {
            "colorbar": {
             "outlinewidth": 0,
             "ticks": ""
            },
            "colorscale": [
             [
              0,
              "#0d0887"
             ],
             [
              0.1111111111111111,
              "#46039f"
             ],
             [
              0.2222222222222222,
              "#7201a8"
             ],
             [
              0.3333333333333333,
              "#9c179e"
             ],
             [
              0.4444444444444444,
              "#bd3786"
             ],
             [
              0.5555555555555556,
              "#d8576b"
             ],
             [
              0.6666666666666666,
              "#ed7953"
             ],
             [
              0.7777777777777778,
              "#fb9f3a"
             ],
             [
              0.8888888888888888,
              "#fdca26"
             ],
             [
              1,
              "#f0f921"
             ]
            ],
            "type": "histogram2dcontour"
           }
          ],
          "mesh3d": [
           {
            "colorbar": {
             "outlinewidth": 0,
             "ticks": ""
            },
            "type": "mesh3d"
           }
          ],
          "parcoords": [
           {
            "line": {
             "colorbar": {
              "outlinewidth": 0,
              "ticks": ""
             }
            },
            "type": "parcoords"
           }
          ],
          "pie": [
           {
            "automargin": true,
            "type": "pie"
           }
          ],
          "scatter": [
           {
            "fillpattern": {
             "fillmode": "overlay",
             "size": 10,
             "solidity": 0.2
            },
            "type": "scatter"
           }
          ],
          "scatter3d": [
           {
            "line": {
             "colorbar": {
              "outlinewidth": 0,
              "ticks": ""
             }
            },
            "marker": {
             "colorbar": {
              "outlinewidth": 0,
              "ticks": ""
             }
            },
            "type": "scatter3d"
           }
          ],
          "scattercarpet": [
           {
            "marker": {
             "colorbar": {
              "outlinewidth": 0,
              "ticks": ""
             }
            },
            "type": "scattercarpet"
           }
          ],
          "scattergeo": [
           {
            "marker": {
             "colorbar": {
              "outlinewidth": 0,
              "ticks": ""
             }
            },
            "type": "scattergeo"
           }
          ],
          "scattergl": [
           {
            "marker": {
             "colorbar": {
              "outlinewidth": 0,
              "ticks": ""
             }
            },
            "type": "scattergl"
           }
          ],
          "scattermapbox": [
           {
            "marker": {
             "colorbar": {
              "outlinewidth": 0,
              "ticks": ""
             }
            },
            "type": "scattermapbox"
           }
          ],
          "scatterpolar": [
           {
            "marker": {
             "colorbar": {
              "outlinewidth": 0,
              "ticks": ""
             }
            },
            "type": "scatterpolar"
           }
          ],
          "scatterpolargl": [
           {
            "marker": {
             "colorbar": {
              "outlinewidth": 0,
              "ticks": ""
             }
            },
            "type": "scatterpolargl"
           }
          ],
          "scatterternary": [
           {
            "marker": {
             "colorbar": {
              "outlinewidth": 0,
              "ticks": ""
             }
            },
            "type": "scatterternary"
           }
          ],
          "surface": [
           {
            "colorbar": {
             "outlinewidth": 0,
             "ticks": ""
            },
            "colorscale": [
             [
              0,
              "#0d0887"
             ],
             [
              0.1111111111111111,
              "#46039f"
             ],
             [
              0.2222222222222222,
              "#7201a8"
             ],
             [
              0.3333333333333333,
              "#9c179e"
             ],
             [
              0.4444444444444444,
              "#bd3786"
             ],
             [
              0.5555555555555556,
              "#d8576b"
             ],
             [
              0.6666666666666666,
              "#ed7953"
             ],
             [
              0.7777777777777778,
              "#fb9f3a"
             ],
             [
              0.8888888888888888,
              "#fdca26"
             ],
             [
              1,
              "#f0f921"
             ]
            ],
            "type": "surface"
           }
          ],
          "table": [
           {
            "cells": {
             "fill": {
              "color": "#EBF0F8"
             },
             "line": {
              "color": "white"
             }
            },
            "header": {
             "fill": {
              "color": "#C8D4E3"
             },
             "line": {
              "color": "white"
             }
            },
            "type": "table"
           }
          ]
         },
         "layout": {
          "annotationdefaults": {
           "arrowcolor": "#2a3f5f",
           "arrowhead": 0,
           "arrowwidth": 1
          },
          "autotypenumbers": "strict",
          "coloraxis": {
           "colorbar": {
            "outlinewidth": 0,
            "ticks": ""
           }
          },
          "colorscale": {
           "diverging": [
            [
             0,
             "#8e0152"
            ],
            [
             0.1,
             "#c51b7d"
            ],
            [
             0.2,
             "#de77ae"
            ],
            [
             0.3,
             "#f1b6da"
            ],
            [
             0.4,
             "#fde0ef"
            ],
            [
             0.5,
             "#f7f7f7"
            ],
            [
             0.6,
             "#e6f5d0"
            ],
            [
             0.7,
             "#b8e186"
            ],
            [
             0.8,
             "#7fbc41"
            ],
            [
             0.9,
             "#4d9221"
            ],
            [
             1,
             "#276419"
            ]
           ],
           "sequential": [
            [
             0,
             "#0d0887"
            ],
            [
             0.1111111111111111,
             "#46039f"
            ],
            [
             0.2222222222222222,
             "#7201a8"
            ],
            [
             0.3333333333333333,
             "#9c179e"
            ],
            [
             0.4444444444444444,
             "#bd3786"
            ],
            [
             0.5555555555555556,
             "#d8576b"
            ],
            [
             0.6666666666666666,
             "#ed7953"
            ],
            [
             0.7777777777777778,
             "#fb9f3a"
            ],
            [
             0.8888888888888888,
             "#fdca26"
            ],
            [
             1,
             "#f0f921"
            ]
           ],
           "sequentialminus": [
            [
             0,
             "#0d0887"
            ],
            [
             0.1111111111111111,
             "#46039f"
            ],
            [
             0.2222222222222222,
             "#7201a8"
            ],
            [
             0.3333333333333333,
             "#9c179e"
            ],
            [
             0.4444444444444444,
             "#bd3786"
            ],
            [
             0.5555555555555556,
             "#d8576b"
            ],
            [
             0.6666666666666666,
             "#ed7953"
            ],
            [
             0.7777777777777778,
             "#fb9f3a"
            ],
            [
             0.8888888888888888,
             "#fdca26"
            ],
            [
             1,
             "#f0f921"
            ]
           ]
          },
          "colorway": [
           "#636efa",
           "#EF553B",
           "#00cc96",
           "#ab63fa",
           "#FFA15A",
           "#19d3f3",
           "#FF6692",
           "#B6E880",
           "#FF97FF",
           "#FECB52"
          ],
          "font": {
           "color": "#2a3f5f"
          },
          "geo": {
           "bgcolor": "white",
           "lakecolor": "white",
           "landcolor": "#E5ECF6",
           "showlakes": true,
           "showland": true,
           "subunitcolor": "white"
          },
          "hoverlabel": {
           "align": "left"
          },
          "hovermode": "closest",
          "mapbox": {
           "style": "light"
          },
          "paper_bgcolor": "white",
          "plot_bgcolor": "#E5ECF6",
          "polar": {
           "angularaxis": {
            "gridcolor": "white",
            "linecolor": "white",
            "ticks": ""
           },
           "bgcolor": "#E5ECF6",
           "radialaxis": {
            "gridcolor": "white",
            "linecolor": "white",
            "ticks": ""
           }
          },
          "scene": {
           "xaxis": {
            "backgroundcolor": "#E5ECF6",
            "gridcolor": "white",
            "gridwidth": 2,
            "linecolor": "white",
            "showbackground": true,
            "ticks": "",
            "zerolinecolor": "white"
           },
           "yaxis": {
            "backgroundcolor": "#E5ECF6",
            "gridcolor": "white",
            "gridwidth": 2,
            "linecolor": "white",
            "showbackground": true,
            "ticks": "",
            "zerolinecolor": "white"
           },
           "zaxis": {
            "backgroundcolor": "#E5ECF6",
            "gridcolor": "white",
            "gridwidth": 2,
            "linecolor": "white",
            "showbackground": true,
            "ticks": "",
            "zerolinecolor": "white"
           }
          },
          "shapedefaults": {
           "line": {
            "color": "#2a3f5f"
           }
          },
          "ternary": {
           "aaxis": {
            "gridcolor": "white",
            "linecolor": "white",
            "ticks": ""
           },
           "baxis": {
            "gridcolor": "white",
            "linecolor": "white",
            "ticks": ""
           },
           "bgcolor": "#E5ECF6",
           "caxis": {
            "gridcolor": "white",
            "linecolor": "white",
            "ticks": ""
           }
          },
          "title": {
           "x": 0.05
          },
          "xaxis": {
           "automargin": true,
           "gridcolor": "white",
           "linecolor": "white",
           "ticks": "",
           "title": {
            "standoff": 15
           },
           "zerolinecolor": "white",
           "zerolinewidth": 2
          },
          "yaxis": {
           "automargin": true,
           "gridcolor": "white",
           "linecolor": "white",
           "ticks": "",
           "title": {
            "standoff": 15
           },
           "zerolinecolor": "white",
           "zerolinewidth": 2
          }
         }
        },
        "xaxis": {
         "anchor": "y",
         "domain": [
          0,
          0.021666666666666667
         ],
         "title": {
          "text": "trial_id"
         }
        },
        "xaxis10": {
         "anchor": "y10",
         "domain": [
          0.375,
          0.39666666666666667
         ],
         "matches": "x",
         "title": {
          "text": "trial_id"
         }
        },
        "xaxis11": {
         "anchor": "y11",
         "domain": [
          0.4166666666666667,
          0.43833333333333335
         ],
         "matches": "x",
         "title": {
          "text": "trial_id"
         }
        },
        "xaxis12": {
         "anchor": "y12",
         "domain": [
          0.45833333333333337,
          0.48000000000000004
         ],
         "matches": "x",
         "title": {
          "text": "trial_id"
         }
        },
        "xaxis13": {
         "anchor": "y13",
         "domain": [
          0.5,
          0.5216666666666667
         ],
         "matches": "x",
         "title": {
          "text": "trial_id"
         }
        },
        "xaxis14": {
         "anchor": "y14",
         "domain": [
          0.5416666666666667,
          0.5633333333333335
         ],
         "matches": "x",
         "title": {
          "text": "trial_id"
         }
        },
        "xaxis15": {
         "anchor": "y15",
         "domain": [
          0.5833333333333334,
          0.605
         ],
         "matches": "x",
         "title": {
          "text": "trial_id"
         }
        },
        "xaxis16": {
         "anchor": "y16",
         "domain": [
          0.625,
          0.6466666666666667
         ],
         "matches": "x",
         "title": {
          "text": "trial_id"
         }
        },
        "xaxis17": {
         "anchor": "y17",
         "domain": [
          0.6666666666666667,
          0.6883333333333335
         ],
         "matches": "x",
         "title": {
          "text": "trial_id"
         }
        },
        "xaxis18": {
         "anchor": "y18",
         "domain": [
          0.7083333333333334,
          0.73
         ],
         "matches": "x",
         "title": {
          "text": "trial_id"
         }
        },
        "xaxis19": {
         "anchor": "y19",
         "domain": [
          0.75,
          0.7716666666666667
         ],
         "matches": "x",
         "title": {
          "text": "trial_id"
         }
        },
        "xaxis2": {
         "anchor": "y2",
         "domain": [
          0.04166666666666667,
          0.06333333333333334
         ],
         "matches": "x",
         "title": {
          "text": "trial_id"
         }
        },
        "xaxis20": {
         "anchor": "y20",
         "domain": [
          0.7916666666666667,
          0.8133333333333335
         ],
         "matches": "x",
         "title": {
          "text": "trial_id"
         }
        },
        "xaxis21": {
         "anchor": "y21",
         "domain": [
          0.8333333333333334,
          0.855
         ],
         "matches": "x",
         "title": {
          "text": "trial_id"
         }
        },
        "xaxis22": {
         "anchor": "y22",
         "domain": [
          0.875,
          0.8966666666666667
         ],
         "matches": "x",
         "title": {
          "text": "trial_id"
         }
        },
        "xaxis23": {
         "anchor": "y23",
         "domain": [
          0.9166666666666667,
          0.9383333333333335
         ],
         "matches": "x",
         "title": {
          "text": "trial_id"
         }
        },
        "xaxis24": {
         "anchor": "y24",
         "domain": [
          0.9583333333333334,
          0.98
         ],
         "matches": "x",
         "title": {
          "text": "trial_id"
         }
        },
        "xaxis25": {
         "anchor": "y25",
         "domain": [
          0,
          0.021666666666666667
         ],
         "matches": "x",
         "showticklabels": false
        },
        "xaxis26": {
         "anchor": "y26",
         "domain": [
          0.04166666666666667,
          0.06333333333333334
         ],
         "matches": "x",
         "showticklabels": false
        },
        "xaxis27": {
         "anchor": "y27",
         "domain": [
          0.08333333333333334,
          0.10500000000000001
         ],
         "matches": "x",
         "showticklabels": false
        },
        "xaxis28": {
         "anchor": "y28",
         "domain": [
          0.125,
          0.14666666666666667
         ],
         "matches": "x",
         "showticklabels": false
        },
        "xaxis29": {
         "anchor": "y29",
         "domain": [
          0.16666666666666669,
          0.18833333333333335
         ],
         "matches": "x",
         "showticklabels": false
        },
        "xaxis3": {
         "anchor": "y3",
         "domain": [
          0.08333333333333334,
          0.10500000000000001
         ],
         "matches": "x",
         "title": {
          "text": "trial_id"
         }
        },
        "xaxis30": {
         "anchor": "y30",
         "domain": [
          0.20833333333333334,
          0.23
         ],
         "matches": "x",
         "showticklabels": false
        },
        "xaxis31": {
         "anchor": "y31",
         "domain": [
          0.25,
          0.27166666666666667
         ],
         "matches": "x",
         "showticklabels": false
        },
        "xaxis32": {
         "anchor": "y32",
         "domain": [
          0.2916666666666667,
          0.31333333333333335
         ],
         "matches": "x",
         "showticklabels": false
        },
        "xaxis33": {
         "anchor": "y33",
         "domain": [
          0.33333333333333337,
          0.35500000000000004
         ],
         "matches": "x",
         "showticklabels": false
        },
        "xaxis34": {
         "anchor": "y34",
         "domain": [
          0.375,
          0.39666666666666667
         ],
         "matches": "x",
         "showticklabels": false
        },
        "xaxis35": {
         "anchor": "y35",
         "domain": [
          0.4166666666666667,
          0.43833333333333335
         ],
         "matches": "x",
         "showticklabels": false
        },
        "xaxis36": {
         "anchor": "y36",
         "domain": [
          0.45833333333333337,
          0.48000000000000004
         ],
         "matches": "x",
         "showticklabels": false
        },
        "xaxis37": {
         "anchor": "y37",
         "domain": [
          0.5,
          0.5216666666666667
         ],
         "matches": "x",
         "showticklabels": false
        },
        "xaxis38": {
         "anchor": "y38",
         "domain": [
          0.5416666666666667,
          0.5633333333333335
         ],
         "matches": "x",
         "showticklabels": false
        },
        "xaxis39": {
         "anchor": "y39",
         "domain": [
          0.5833333333333334,
          0.605
         ],
         "matches": "x",
         "showticklabels": false
        },
        "xaxis4": {
         "anchor": "y4",
         "domain": [
          0.125,
          0.14666666666666667
         ],
         "matches": "x",
         "title": {
          "text": "trial_id"
         }
        },
        "xaxis40": {
         "anchor": "y40",
         "domain": [
          0.625,
          0.6466666666666667
         ],
         "matches": "x",
         "showticklabels": false
        },
        "xaxis41": {
         "anchor": "y41",
         "domain": [
          0.6666666666666667,
          0.6883333333333335
         ],
         "matches": "x",
         "showticklabels": false
        },
        "xaxis42": {
         "anchor": "y42",
         "domain": [
          0.7083333333333334,
          0.73
         ],
         "matches": "x",
         "showticklabels": false
        },
        "xaxis43": {
         "anchor": "y43",
         "domain": [
          0.75,
          0.7716666666666667
         ],
         "matches": "x",
         "showticklabels": false
        },
        "xaxis44": {
         "anchor": "y44",
         "domain": [
          0.7916666666666667,
          0.8133333333333335
         ],
         "matches": "x",
         "showticklabels": false
        },
        "xaxis45": {
         "anchor": "y45",
         "domain": [
          0.8333333333333334,
          0.855
         ],
         "matches": "x",
         "showticklabels": false
        },
        "xaxis46": {
         "anchor": "y46",
         "domain": [
          0.875,
          0.8966666666666667
         ],
         "matches": "x",
         "showticklabels": false
        },
        "xaxis47": {
         "anchor": "y47",
         "domain": [
          0.9166666666666667,
          0.9383333333333335
         ],
         "matches": "x",
         "showticklabels": false
        },
        "xaxis48": {
         "anchor": "y48",
         "domain": [
          0.9583333333333334,
          0.98
         ],
         "matches": "x",
         "showticklabels": false
        },
        "xaxis49": {
         "anchor": "y49",
         "domain": [
          0,
          0.021666666666666667
         ],
         "matches": "x",
         "showticklabels": false
        },
        "xaxis5": {
         "anchor": "y5",
         "domain": [
          0.16666666666666669,
          0.18833333333333335
         ],
         "matches": "x",
         "title": {
          "text": "trial_id"
         }
        },
        "xaxis50": {
         "anchor": "y50",
         "domain": [
          0.04166666666666667,
          0.06333333333333334
         ],
         "matches": "x",
         "showticklabels": false
        },
        "xaxis51": {
         "anchor": "y51",
         "domain": [
          0.08333333333333334,
          0.10500000000000001
         ],
         "matches": "x",
         "showticklabels": false
        },
        "xaxis52": {
         "anchor": "y52",
         "domain": [
          0.125,
          0.14666666666666667
         ],
         "matches": "x",
         "showticklabels": false
        },
        "xaxis53": {
         "anchor": "y53",
         "domain": [
          0.16666666666666669,
          0.18833333333333335
         ],
         "matches": "x",
         "showticklabels": false
        },
        "xaxis54": {
         "anchor": "y54",
         "domain": [
          0.20833333333333334,
          0.23
         ],
         "matches": "x",
         "showticklabels": false
        },
        "xaxis55": {
         "anchor": "y55",
         "domain": [
          0.25,
          0.27166666666666667
         ],
         "matches": "x",
         "showticklabels": false
        },
        "xaxis56": {
         "anchor": "y56",
         "domain": [
          0.2916666666666667,
          0.31333333333333335
         ],
         "matches": "x",
         "showticklabels": false
        },
        "xaxis57": {
         "anchor": "y57",
         "domain": [
          0.33333333333333337,
          0.35500000000000004
         ],
         "matches": "x",
         "showticklabels": false
        },
        "xaxis58": {
         "anchor": "y58",
         "domain": [
          0.375,
          0.39666666666666667
         ],
         "matches": "x",
         "showticklabels": false
        },
        "xaxis59": {
         "anchor": "y59",
         "domain": [
          0.4166666666666667,
          0.43833333333333335
         ],
         "matches": "x",
         "showticklabels": false
        },
        "xaxis6": {
         "anchor": "y6",
         "domain": [
          0.20833333333333334,
          0.23
         ],
         "matches": "x",
         "title": {
          "text": "trial_id"
         }
        },
        "xaxis60": {
         "anchor": "y60",
         "domain": [
          0.45833333333333337,
          0.48000000000000004
         ],
         "matches": "x",
         "showticklabels": false
        },
        "xaxis61": {
         "anchor": "y61",
         "domain": [
          0.5,
          0.5216666666666667
         ],
         "matches": "x",
         "showticklabels": false
        },
        "xaxis62": {
         "anchor": "y62",
         "domain": [
          0.5416666666666667,
          0.5633333333333335
         ],
         "matches": "x",
         "showticklabels": false
        },
        "xaxis63": {
         "anchor": "y63",
         "domain": [
          0.5833333333333334,
          0.605
         ],
         "matches": "x",
         "showticklabels": false
        },
        "xaxis64": {
         "anchor": "y64",
         "domain": [
          0.625,
          0.6466666666666667
         ],
         "matches": "x",
         "showticklabels": false
        },
        "xaxis65": {
         "anchor": "y65",
         "domain": [
          0.6666666666666667,
          0.6883333333333335
         ],
         "matches": "x",
         "showticklabels": false
        },
        "xaxis66": {
         "anchor": "y66",
         "domain": [
          0.7083333333333334,
          0.73
         ],
         "matches": "x",
         "showticklabels": false
        },
        "xaxis67": {
         "anchor": "y67",
         "domain": [
          0.75,
          0.7716666666666667
         ],
         "matches": "x",
         "showticklabels": false
        },
        "xaxis68": {
         "anchor": "y68",
         "domain": [
          0.7916666666666667,
          0.8133333333333335
         ],
         "matches": "x",
         "showticklabels": false
        },
        "xaxis69": {
         "anchor": "y69",
         "domain": [
          0.8333333333333334,
          0.855
         ],
         "matches": "x",
         "showticklabels": false
        },
        "xaxis7": {
         "anchor": "y7",
         "domain": [
          0.25,
          0.27166666666666667
         ],
         "matches": "x",
         "title": {
          "text": "trial_id"
         }
        },
        "xaxis70": {
         "anchor": "y70",
         "domain": [
          0.875,
          0.8966666666666667
         ],
         "matches": "x",
         "showticklabels": false
        },
        "xaxis71": {
         "anchor": "y71",
         "domain": [
          0.9166666666666667,
          0.9383333333333335
         ],
         "matches": "x",
         "showticklabels": false
        },
        "xaxis72": {
         "anchor": "y72",
         "domain": [
          0.9583333333333334,
          0.98
         ],
         "matches": "x",
         "showticklabels": false
        },
        "xaxis73": {
         "anchor": "y73",
         "domain": [
          0,
          0.021666666666666667
         ],
         "matches": "x",
         "showticklabels": false
        },
        "xaxis74": {
         "anchor": "y74",
         "domain": [
          0.04166666666666667,
          0.06333333333333334
         ],
         "matches": "x",
         "showticklabels": false
        },
        "xaxis75": {
         "anchor": "y75",
         "domain": [
          0.08333333333333334,
          0.10500000000000001
         ],
         "matches": "x",
         "showticklabels": false
        },
        "xaxis76": {
         "anchor": "y76",
         "domain": [
          0.125,
          0.14666666666666667
         ],
         "matches": "x",
         "showticklabels": false
        },
        "xaxis77": {
         "anchor": "y77",
         "domain": [
          0.16666666666666669,
          0.18833333333333335
         ],
         "matches": "x",
         "showticklabels": false
        },
        "xaxis78": {
         "anchor": "y78",
         "domain": [
          0.20833333333333334,
          0.23
         ],
         "matches": "x",
         "showticklabels": false
        },
        "xaxis79": {
         "anchor": "y79",
         "domain": [
          0.25,
          0.27166666666666667
         ],
         "matches": "x",
         "showticklabels": false
        },
        "xaxis8": {
         "anchor": "y8",
         "domain": [
          0.2916666666666667,
          0.31333333333333335
         ],
         "matches": "x",
         "title": {
          "text": "trial_id"
         }
        },
        "xaxis80": {
         "anchor": "y80",
         "domain": [
          0.2916666666666667,
          0.31333333333333335
         ],
         "matches": "x",
         "showticklabels": false
        },
        "xaxis81": {
         "anchor": "y81",
         "domain": [
          0.33333333333333337,
          0.35500000000000004
         ],
         "matches": "x",
         "showticklabels": false
        },
        "xaxis82": {
         "anchor": "y82",
         "domain": [
          0.375,
          0.39666666666666667
         ],
         "matches": "x",
         "showticklabels": false
        },
        "xaxis83": {
         "anchor": "y83",
         "domain": [
          0.4166666666666667,
          0.43833333333333335
         ],
         "matches": "x",
         "showticklabels": false
        },
        "xaxis84": {
         "anchor": "y84",
         "domain": [
          0.45833333333333337,
          0.48000000000000004
         ],
         "matches": "x",
         "showticklabels": false
        },
        "xaxis85": {
         "anchor": "y85",
         "domain": [
          0.5,
          0.5216666666666667
         ],
         "matches": "x",
         "showticklabels": false
        },
        "xaxis86": {
         "anchor": "y86",
         "domain": [
          0.5416666666666667,
          0.5633333333333335
         ],
         "matches": "x",
         "showticklabels": false
        },
        "xaxis87": {
         "anchor": "y87",
         "domain": [
          0.5833333333333334,
          0.605
         ],
         "matches": "x",
         "showticklabels": false
        },
        "xaxis88": {
         "anchor": "y88",
         "domain": [
          0.625,
          0.6466666666666667
         ],
         "matches": "x",
         "showticklabels": false
        },
        "xaxis89": {
         "anchor": "y89",
         "domain": [
          0.6666666666666667,
          0.6883333333333335
         ],
         "matches": "x",
         "showticklabels": false
        },
        "xaxis9": {
         "anchor": "y9",
         "domain": [
          0.33333333333333337,
          0.35500000000000004
         ],
         "matches": "x",
         "title": {
          "text": "trial_id"
         }
        },
        "xaxis90": {
         "anchor": "y90",
         "domain": [
          0.7083333333333334,
          0.73
         ],
         "matches": "x",
         "showticklabels": false
        },
        "xaxis91": {
         "anchor": "y91",
         "domain": [
          0.75,
          0.7716666666666667
         ],
         "matches": "x",
         "showticklabels": false
        },
        "xaxis92": {
         "anchor": "y92",
         "domain": [
          0.7916666666666667,
          0.8133333333333335
         ],
         "matches": "x",
         "showticklabels": false
        },
        "xaxis93": {
         "anchor": "y93",
         "domain": [
          0.8333333333333334,
          0.855
         ],
         "matches": "x",
         "showticklabels": false
        },
        "xaxis94": {
         "anchor": "y94",
         "domain": [
          0.875,
          0.8966666666666667
         ],
         "matches": "x",
         "showticklabels": false
        },
        "xaxis95": {
         "anchor": "y95",
         "domain": [
          0.9166666666666667,
          0.9383333333333335
         ],
         "matches": "x",
         "showticklabels": false
        },
        "xaxis96": {
         "anchor": "y96",
         "domain": [
          0.9583333333333334,
          0.98
         ],
         "matches": "x",
         "showticklabels": false
        },
        "yaxis": {
         "anchor": "x",
         "domain": [
          0,
          0.2275
         ],
         "title": {
          "text": "IPA"
         }
        },
        "yaxis10": {
         "anchor": "x10",
         "domain": [
          0,
          0.2275
         ],
         "matches": "y",
         "showticklabels": false
        },
        "yaxis11": {
         "anchor": "x11",
         "domain": [
          0,
          0.2275
         ],
         "matches": "y",
         "showticklabels": false
        },
        "yaxis12": {
         "anchor": "x12",
         "domain": [
          0,
          0.2275
         ],
         "matches": "y",
         "showticklabels": false
        },
        "yaxis13": {
         "anchor": "x13",
         "domain": [
          0,
          0.2275
         ],
         "matches": "y",
         "showticklabels": false
        },
        "yaxis14": {
         "anchor": "x14",
         "domain": [
          0,
          0.2275
         ],
         "matches": "y",
         "showticklabels": false
        },
        "yaxis15": {
         "anchor": "x15",
         "domain": [
          0,
          0.2275
         ],
         "matches": "y",
         "showticklabels": false
        },
        "yaxis16": {
         "anchor": "x16",
         "domain": [
          0,
          0.2275
         ],
         "matches": "y",
         "showticklabels": false
        },
        "yaxis17": {
         "anchor": "x17",
         "domain": [
          0,
          0.2275
         ],
         "matches": "y",
         "showticklabels": false
        },
        "yaxis18": {
         "anchor": "x18",
         "domain": [
          0,
          0.2275
         ],
         "matches": "y",
         "showticklabels": false
        },
        "yaxis19": {
         "anchor": "x19",
         "domain": [
          0,
          0.2275
         ],
         "matches": "y",
         "showticklabels": false
        },
        "yaxis2": {
         "anchor": "x2",
         "domain": [
          0,
          0.2275
         ],
         "matches": "y",
         "showticklabels": false
        },
        "yaxis20": {
         "anchor": "x20",
         "domain": [
          0,
          0.2275
         ],
         "matches": "y",
         "showticklabels": false
        },
        "yaxis21": {
         "anchor": "x21",
         "domain": [
          0,
          0.2275
         ],
         "matches": "y",
         "showticklabels": false
        },
        "yaxis22": {
         "anchor": "x22",
         "domain": [
          0,
          0.2275
         ],
         "matches": "y",
         "showticklabels": false
        },
        "yaxis23": {
         "anchor": "x23",
         "domain": [
          0,
          0.2275
         ],
         "matches": "y",
         "showticklabels": false
        },
        "yaxis24": {
         "anchor": "x24",
         "domain": [
          0,
          0.2275
         ],
         "matches": "y",
         "showticklabels": false
        },
        "yaxis25": {
         "anchor": "x25",
         "domain": [
          0.2575,
          0.485
         ],
         "matches": "y",
         "title": {
          "text": "IPA"
         }
        },
        "yaxis26": {
         "anchor": "x26",
         "domain": [
          0.2575,
          0.485
         ],
         "matches": "y",
         "showticklabels": false
        },
        "yaxis27": {
         "anchor": "x27",
         "domain": [
          0.2575,
          0.485
         ],
         "matches": "y",
         "showticklabels": false
        },
        "yaxis28": {
         "anchor": "x28",
         "domain": [
          0.2575,
          0.485
         ],
         "matches": "y",
         "showticklabels": false
        },
        "yaxis29": {
         "anchor": "x29",
         "domain": [
          0.2575,
          0.485
         ],
         "matches": "y",
         "showticklabels": false
        },
        "yaxis3": {
         "anchor": "x3",
         "domain": [
          0,
          0.2275
         ],
         "matches": "y",
         "showticklabels": false
        },
        "yaxis30": {
         "anchor": "x30",
         "domain": [
          0.2575,
          0.485
         ],
         "matches": "y",
         "showticklabels": false
        },
        "yaxis31": {
         "anchor": "x31",
         "domain": [
          0.2575,
          0.485
         ],
         "matches": "y",
         "showticklabels": false
        },
        "yaxis32": {
         "anchor": "x32",
         "domain": [
          0.2575,
          0.485
         ],
         "matches": "y",
         "showticklabels": false
        },
        "yaxis33": {
         "anchor": "x33",
         "domain": [
          0.2575,
          0.485
         ],
         "matches": "y",
         "showticklabels": false
        },
        "yaxis34": {
         "anchor": "x34",
         "domain": [
          0.2575,
          0.485
         ],
         "matches": "y",
         "showticklabels": false
        },
        "yaxis35": {
         "anchor": "x35",
         "domain": [
          0.2575,
          0.485
         ],
         "matches": "y",
         "showticklabels": false
        },
        "yaxis36": {
         "anchor": "x36",
         "domain": [
          0.2575,
          0.485
         ],
         "matches": "y",
         "showticklabels": false
        },
        "yaxis37": {
         "anchor": "x37",
         "domain": [
          0.2575,
          0.485
         ],
         "matches": "y",
         "showticklabels": false
        },
        "yaxis38": {
         "anchor": "x38",
         "domain": [
          0.2575,
          0.485
         ],
         "matches": "y",
         "showticklabels": false
        },
        "yaxis39": {
         "anchor": "x39",
         "domain": [
          0.2575,
          0.485
         ],
         "matches": "y",
         "showticklabels": false
        },
        "yaxis4": {
         "anchor": "x4",
         "domain": [
          0,
          0.2275
         ],
         "matches": "y",
         "showticklabels": false
        },
        "yaxis40": {
         "anchor": "x40",
         "domain": [
          0.2575,
          0.485
         ],
         "matches": "y",
         "showticklabels": false
        },
        "yaxis41": {
         "anchor": "x41",
         "domain": [
          0.2575,
          0.485
         ],
         "matches": "y",
         "showticklabels": false
        },
        "yaxis42": {
         "anchor": "x42",
         "domain": [
          0.2575,
          0.485
         ],
         "matches": "y",
         "showticklabels": false
        },
        "yaxis43": {
         "anchor": "x43",
         "domain": [
          0.2575,
          0.485
         ],
         "matches": "y",
         "showticklabels": false
        },
        "yaxis44": {
         "anchor": "x44",
         "domain": [
          0.2575,
          0.485
         ],
         "matches": "y",
         "showticklabels": false
        },
        "yaxis45": {
         "anchor": "x45",
         "domain": [
          0.2575,
          0.485
         ],
         "matches": "y",
         "showticklabels": false
        },
        "yaxis46": {
         "anchor": "x46",
         "domain": [
          0.2575,
          0.485
         ],
         "matches": "y",
         "showticklabels": false
        },
        "yaxis47": {
         "anchor": "x47",
         "domain": [
          0.2575,
          0.485
         ],
         "matches": "y",
         "showticklabels": false
        },
        "yaxis48": {
         "anchor": "x48",
         "domain": [
          0.2575,
          0.485
         ],
         "matches": "y",
         "showticklabels": false
        },
        "yaxis49": {
         "anchor": "x49",
         "domain": [
          0.515,
          0.7425
         ],
         "matches": "y",
         "title": {
          "text": "IPA"
         }
        },
        "yaxis5": {
         "anchor": "x5",
         "domain": [
          0,
          0.2275
         ],
         "matches": "y",
         "showticklabels": false
        },
        "yaxis50": {
         "anchor": "x50",
         "domain": [
          0.515,
          0.7425
         ],
         "matches": "y",
         "showticklabels": false
        },
        "yaxis51": {
         "anchor": "x51",
         "domain": [
          0.515,
          0.7425
         ],
         "matches": "y",
         "showticklabels": false
        },
        "yaxis52": {
         "anchor": "x52",
         "domain": [
          0.515,
          0.7425
         ],
         "matches": "y",
         "showticklabels": false
        },
        "yaxis53": {
         "anchor": "x53",
         "domain": [
          0.515,
          0.7425
         ],
         "matches": "y",
         "showticklabels": false
        },
        "yaxis54": {
         "anchor": "x54",
         "domain": [
          0.515,
          0.7425
         ],
         "matches": "y",
         "showticklabels": false
        },
        "yaxis55": {
         "anchor": "x55",
         "domain": [
          0.515,
          0.7425
         ],
         "matches": "y",
         "showticklabels": false
        },
        "yaxis56": {
         "anchor": "x56",
         "domain": [
          0.515,
          0.7425
         ],
         "matches": "y",
         "showticklabels": false
        },
        "yaxis57": {
         "anchor": "x57",
         "domain": [
          0.515,
          0.7425
         ],
         "matches": "y",
         "showticklabels": false
        },
        "yaxis58": {
         "anchor": "x58",
         "domain": [
          0.515,
          0.7425
         ],
         "matches": "y",
         "showticklabels": false
        },
        "yaxis59": {
         "anchor": "x59",
         "domain": [
          0.515,
          0.7425
         ],
         "matches": "y",
         "showticklabels": false
        },
        "yaxis6": {
         "anchor": "x6",
         "domain": [
          0,
          0.2275
         ],
         "matches": "y",
         "showticklabels": false
        },
        "yaxis60": {
         "anchor": "x60",
         "domain": [
          0.515,
          0.7425
         ],
         "matches": "y",
         "showticklabels": false
        },
        "yaxis61": {
         "anchor": "x61",
         "domain": [
          0.515,
          0.7425
         ],
         "matches": "y",
         "showticklabels": false
        },
        "yaxis62": {
         "anchor": "x62",
         "domain": [
          0.515,
          0.7425
         ],
         "matches": "y",
         "showticklabels": false
        },
        "yaxis63": {
         "anchor": "x63",
         "domain": [
          0.515,
          0.7425
         ],
         "matches": "y",
         "showticklabels": false
        },
        "yaxis64": {
         "anchor": "x64",
         "domain": [
          0.515,
          0.7425
         ],
         "matches": "y",
         "showticklabels": false
        },
        "yaxis65": {
         "anchor": "x65",
         "domain": [
          0.515,
          0.7425
         ],
         "matches": "y",
         "showticklabels": false
        },
        "yaxis66": {
         "anchor": "x66",
         "domain": [
          0.515,
          0.7425
         ],
         "matches": "y",
         "showticklabels": false
        },
        "yaxis67": {
         "anchor": "x67",
         "domain": [
          0.515,
          0.7425
         ],
         "matches": "y",
         "showticklabels": false
        },
        "yaxis68": {
         "anchor": "x68",
         "domain": [
          0.515,
          0.7425
         ],
         "matches": "y",
         "showticklabels": false
        },
        "yaxis69": {
         "anchor": "x69",
         "domain": [
          0.515,
          0.7425
         ],
         "matches": "y",
         "showticklabels": false
        },
        "yaxis7": {
         "anchor": "x7",
         "domain": [
          0,
          0.2275
         ],
         "matches": "y",
         "showticklabels": false
        },
        "yaxis70": {
         "anchor": "x70",
         "domain": [
          0.515,
          0.7425
         ],
         "matches": "y",
         "showticklabels": false
        },
        "yaxis71": {
         "anchor": "x71",
         "domain": [
          0.515,
          0.7425
         ],
         "matches": "y",
         "showticklabels": false
        },
        "yaxis72": {
         "anchor": "x72",
         "domain": [
          0.515,
          0.7425
         ],
         "matches": "y",
         "showticklabels": false
        },
        "yaxis73": {
         "anchor": "x73",
         "domain": [
          0.7725,
          1
         ],
         "matches": "y",
         "title": {
          "text": "IPA"
         }
        },
        "yaxis74": {
         "anchor": "x74",
         "domain": [
          0.7725,
          1
         ],
         "matches": "y",
         "showticklabels": false
        },
        "yaxis75": {
         "anchor": "x75",
         "domain": [
          0.7725,
          1
         ],
         "matches": "y",
         "showticklabels": false
        },
        "yaxis76": {
         "anchor": "x76",
         "domain": [
          0.7725,
          1
         ],
         "matches": "y",
         "showticklabels": false
        },
        "yaxis77": {
         "anchor": "x77",
         "domain": [
          0.7725,
          1
         ],
         "matches": "y",
         "showticklabels": false
        },
        "yaxis78": {
         "anchor": "x78",
         "domain": [
          0.7725,
          1
         ],
         "matches": "y",
         "showticklabels": false
        },
        "yaxis79": {
         "anchor": "x79",
         "domain": [
          0.7725,
          1
         ],
         "matches": "y",
         "showticklabels": false
        },
        "yaxis8": {
         "anchor": "x8",
         "domain": [
          0,
          0.2275
         ],
         "matches": "y",
         "showticklabels": false
        },
        "yaxis80": {
         "anchor": "x80",
         "domain": [
          0.7725,
          1
         ],
         "matches": "y",
         "showticklabels": false
        },
        "yaxis81": {
         "anchor": "x81",
         "domain": [
          0.7725,
          1
         ],
         "matches": "y",
         "showticklabels": false
        },
        "yaxis82": {
         "anchor": "x82",
         "domain": [
          0.7725,
          1
         ],
         "matches": "y",
         "showticklabels": false
        },
        "yaxis83": {
         "anchor": "x83",
         "domain": [
          0.7725,
          1
         ],
         "matches": "y",
         "showticklabels": false
        },
        "yaxis84": {
         "anchor": "x84",
         "domain": [
          0.7725,
          1
         ],
         "matches": "y",
         "showticklabels": false
        },
        "yaxis85": {
         "anchor": "x85",
         "domain": [
          0.7725,
          1
         ],
         "matches": "y",
         "showticklabels": false
        },
        "yaxis86": {
         "anchor": "x86",
         "domain": [
          0.7725,
          1
         ],
         "matches": "y",
         "showticklabels": false
        },
        "yaxis87": {
         "anchor": "x87",
         "domain": [
          0.7725,
          1
         ],
         "matches": "y",
         "showticklabels": false
        },
        "yaxis88": {
         "anchor": "x88",
         "domain": [
          0.7725,
          1
         ],
         "matches": "y",
         "showticklabels": false
        },
        "yaxis89": {
         "anchor": "x89",
         "domain": [
          0.7725,
          1
         ],
         "matches": "y",
         "showticklabels": false
        },
        "yaxis9": {
         "anchor": "x9",
         "domain": [
          0,
          0.2275
         ],
         "matches": "y",
         "showticklabels": false
        },
        "yaxis90": {
         "anchor": "x90",
         "domain": [
          0.7725,
          1
         ],
         "matches": "y",
         "showticklabels": false
        },
        "yaxis91": {
         "anchor": "x91",
         "domain": [
          0.7725,
          1
         ],
         "matches": "y",
         "showticklabels": false
        },
        "yaxis92": {
         "anchor": "x92",
         "domain": [
          0.7725,
          1
         ],
         "matches": "y",
         "showticklabels": false
        },
        "yaxis93": {
         "anchor": "x93",
         "domain": [
          0.7725,
          1
         ],
         "matches": "y",
         "showticklabels": false
        },
        "yaxis94": {
         "anchor": "x94",
         "domain": [
          0.7725,
          1
         ],
         "matches": "y",
         "showticklabels": false
        },
        "yaxis95": {
         "anchor": "x95",
         "domain": [
          0.7725,
          1
         ],
         "matches": "y",
         "showticklabels": false
        },
        "yaxis96": {
         "anchor": "x96",
         "domain": [
          0.7725,
          1
         ],
         "matches": "y",
         "showticklabels": false
        }
       }
      }
     },
     "metadata": {},
     "output_type": "display_data"
    }
   ],
   "source": [
    "#plot scaled_ipa vs trial_id for each participant and method\n",
    "fig = px.scatter(mm_nav_data, x='trial_id', y='IPA', color='method', facet_col='id', facet_row='model', trendline='ols')\n",
    "fig.show()"
   ]
  },
  {
   "cell_type": "code",
   "execution_count": 383,
   "metadata": {},
   "outputs": [],
   "source": [
    "endog = mm_nav_data.loc[:, ['scaled_tepr', 'scaled_ipa', 'scaled_seq', 'scaled_discomfort', 'scaled_time']]\n",
    "exog = mm_nav_data.loc[:, ['block', 'method', 'model', 'creation_method', 'target_source', 'trial_id']]"
   ]
  },
  {
   "cell_type": "code",
   "execution_count": 395,
   "metadata": {},
   "outputs": [
    {
     "ename": "ValueError",
     "evalue": "operands could not be broadcast together with shapes (190,5) (190,) ",
     "output_type": "error",
     "traceback": [
      "\u001b[1;31m---------------------------------------------------------------------------\u001b[0m",
      "\u001b[1;31mValueError\u001b[0m                                Traceback (most recent call last)",
      "Cell \u001b[1;32mIn[395], line 2\u001b[0m\n\u001b[0;32m      1\u001b[0m mlogit_mod  \u001b[38;5;241m=\u001b[39m sm\u001b[38;5;241m.\u001b[39mNegativeBinomial(endog, exog)\n\u001b[1;32m----> 2\u001b[0m mlogit_res \u001b[38;5;241m=\u001b[39m mlogit_mod\u001b[38;5;241m.\u001b[39mfit()\n\u001b[0;32m      3\u001b[0m \u001b[38;5;28mprint\u001b[39m(mlogit_res\u001b[38;5;241m.\u001b[39mparams)\n\u001b[0;32m      4\u001b[0m \u001b[38;5;28mprint\u001b[39m(mlogit_res\u001b[38;5;241m.\u001b[39msummary())\n",
      "File \u001b[1;32mc:\\Users\\Courtney\\anaconda3\\envs\\path_data\\Lib\\site-packages\\statsmodels\\discrete\\discrete_model.py:3729\u001b[0m, in \u001b[0;36mNegativeBinomial.fit\u001b[1;34m(self, start_params, method, maxiter, full_output, disp, callback, cov_type, cov_kwds, use_t, optim_kwds_prelim, **kwargs)\u001b[0m\n\u001b[0;32m   3727\u001b[0m \u001b[38;5;28;01mwith\u001b[39;00m warnings\u001b[38;5;241m.\u001b[39mcatch_warnings():\n\u001b[0;32m   3728\u001b[0m     warnings\u001b[38;5;241m.\u001b[39msimplefilter(\u001b[38;5;124m\"\u001b[39m\u001b[38;5;124malways\u001b[39m\u001b[38;5;124m\"\u001b[39m)\n\u001b[1;32m-> 3729\u001b[0m     res_poi \u001b[38;5;241m=\u001b[39m mod_poi\u001b[38;5;241m.\u001b[39mfit(\u001b[38;5;241m*\u001b[39m\u001b[38;5;241m*\u001b[39mkwds_prelim)\n\u001b[0;32m   3730\u001b[0m start_params \u001b[38;5;241m=\u001b[39m res_poi\u001b[38;5;241m.\u001b[39mparams\n\u001b[0;32m   3731\u001b[0m \u001b[38;5;28;01mif\u001b[39;00m \u001b[38;5;28mself\u001b[39m\u001b[38;5;241m.\u001b[39mloglike_method\u001b[38;5;241m.\u001b[39mstartswith(\u001b[38;5;124m'\u001b[39m\u001b[38;5;124mnb\u001b[39m\u001b[38;5;124m'\u001b[39m):\n",
      "File \u001b[1;32mc:\\Users\\Courtney\\anaconda3\\envs\\path_data\\Lib\\site-packages\\statsmodels\\discrete\\discrete_model.py:1355\u001b[0m, in \u001b[0;36mPoisson.fit\u001b[1;34m(self, start_params, method, maxiter, full_output, disp, callback, **kwargs)\u001b[0m\n\u001b[0;32m   1352\u001b[0m     kwds[\u001b[38;5;124m'\u001b[39m\u001b[38;5;124mcov_type\u001b[39m\u001b[38;5;124m'\u001b[39m] \u001b[38;5;241m=\u001b[39m kwargs\u001b[38;5;241m.\u001b[39mget(\u001b[38;5;124m'\u001b[39m\u001b[38;5;124mcov_type\u001b[39m\u001b[38;5;124m'\u001b[39m)\n\u001b[0;32m   1353\u001b[0m     kwds[\u001b[38;5;124m'\u001b[39m\u001b[38;5;124mcov_kwds\u001b[39m\u001b[38;5;124m'\u001b[39m] \u001b[38;5;241m=\u001b[39m kwargs\u001b[38;5;241m.\u001b[39mget(\u001b[38;5;124m'\u001b[39m\u001b[38;5;124mcov_kwds\u001b[39m\u001b[38;5;124m'\u001b[39m, {})\n\u001b[1;32m-> 1355\u001b[0m cntfit \u001b[38;5;241m=\u001b[39m \u001b[38;5;28msuper\u001b[39m(CountModel, \u001b[38;5;28mself\u001b[39m)\u001b[38;5;241m.\u001b[39mfit(start_params\u001b[38;5;241m=\u001b[39mstart_params,\n\u001b[0;32m   1356\u001b[0m                                      method\u001b[38;5;241m=\u001b[39mmethod,\n\u001b[0;32m   1357\u001b[0m                                      maxiter\u001b[38;5;241m=\u001b[39mmaxiter,\n\u001b[0;32m   1358\u001b[0m                                      full_output\u001b[38;5;241m=\u001b[39mfull_output,\n\u001b[0;32m   1359\u001b[0m                                      disp\u001b[38;5;241m=\u001b[39mdisp,\n\u001b[0;32m   1360\u001b[0m                                      callback\u001b[38;5;241m=\u001b[39mcallback,\n\u001b[0;32m   1361\u001b[0m                                      \u001b[38;5;241m*\u001b[39m\u001b[38;5;241m*\u001b[39mkwargs)\n\u001b[0;32m   1363\u001b[0m discretefit \u001b[38;5;241m=\u001b[39m PoissonResults(\u001b[38;5;28mself\u001b[39m, cntfit, \u001b[38;5;241m*\u001b[39m\u001b[38;5;241m*\u001b[39mkwds)\n\u001b[0;32m   1364\u001b[0m \u001b[38;5;28;01mreturn\u001b[39;00m PoissonResultsWrapper(discretefit)\n",
      "File \u001b[1;32mc:\\Users\\Courtney\\anaconda3\\envs\\path_data\\Lib\\site-packages\\statsmodels\\discrete\\discrete_model.py:243\u001b[0m, in \u001b[0;36mDiscreteModel.fit\u001b[1;34m(self, start_params, method, maxiter, full_output, disp, callback, **kwargs)\u001b[0m\n\u001b[0;32m    240\u001b[0m \u001b[38;5;28;01melse\u001b[39;00m:\n\u001b[0;32m    241\u001b[0m     \u001b[38;5;28;01mpass\u001b[39;00m  \u001b[38;5;66;03m# TODO: make a function factory to have multiple call-backs\u001b[39;00m\n\u001b[1;32m--> 243\u001b[0m mlefit \u001b[38;5;241m=\u001b[39m \u001b[38;5;28msuper\u001b[39m()\u001b[38;5;241m.\u001b[39mfit(start_params\u001b[38;5;241m=\u001b[39mstart_params,\n\u001b[0;32m    244\u001b[0m                      method\u001b[38;5;241m=\u001b[39mmethod,\n\u001b[0;32m    245\u001b[0m                      maxiter\u001b[38;5;241m=\u001b[39mmaxiter,\n\u001b[0;32m    246\u001b[0m                      full_output\u001b[38;5;241m=\u001b[39mfull_output,\n\u001b[0;32m    247\u001b[0m                      disp\u001b[38;5;241m=\u001b[39mdisp,\n\u001b[0;32m    248\u001b[0m                      callback\u001b[38;5;241m=\u001b[39mcallback,\n\u001b[0;32m    249\u001b[0m                      \u001b[38;5;241m*\u001b[39m\u001b[38;5;241m*\u001b[39mkwargs)\n\u001b[0;32m    251\u001b[0m \u001b[38;5;28;01mreturn\u001b[39;00m mlefit\n",
      "File \u001b[1;32mc:\\Users\\Courtney\\anaconda3\\envs\\path_data\\Lib\\site-packages\\statsmodels\\base\\model.py:566\u001b[0m, in \u001b[0;36mLikelihoodModel.fit\u001b[1;34m(self, start_params, method, maxiter, full_output, disp, fargs, callback, retall, skip_hessian, **kwargs)\u001b[0m\n\u001b[0;32m    563\u001b[0m     \u001b[38;5;28;01mdel\u001b[39;00m kwargs[\u001b[38;5;124m\"\u001b[39m\u001b[38;5;124muse_t\u001b[39m\u001b[38;5;124m\"\u001b[39m]\n\u001b[0;32m    565\u001b[0m optimizer \u001b[38;5;241m=\u001b[39m Optimizer()\n\u001b[1;32m--> 566\u001b[0m xopt, retvals, optim_settings \u001b[38;5;241m=\u001b[39m optimizer\u001b[38;5;241m.\u001b[39m_fit(f, score, start_params,\n\u001b[0;32m    567\u001b[0m                                                fargs, kwargs,\n\u001b[0;32m    568\u001b[0m                                                hessian\u001b[38;5;241m=\u001b[39mhess,\n\u001b[0;32m    569\u001b[0m                                                method\u001b[38;5;241m=\u001b[39mmethod,\n\u001b[0;32m    570\u001b[0m                                                disp\u001b[38;5;241m=\u001b[39mdisp,\n\u001b[0;32m    571\u001b[0m                                                maxiter\u001b[38;5;241m=\u001b[39mmaxiter,\n\u001b[0;32m    572\u001b[0m                                                callback\u001b[38;5;241m=\u001b[39mcallback,\n\u001b[0;32m    573\u001b[0m                                                retall\u001b[38;5;241m=\u001b[39mretall,\n\u001b[0;32m    574\u001b[0m                                                full_output\u001b[38;5;241m=\u001b[39mfull_output)\n\u001b[0;32m    575\u001b[0m \u001b[38;5;66;03m# Restore cov_type, cov_kwds and use_t\u001b[39;00m\n\u001b[0;32m    576\u001b[0m optim_settings\u001b[38;5;241m.\u001b[39mupdate(kwds)\n",
      "File \u001b[1;32mc:\\Users\\Courtney\\anaconda3\\envs\\path_data\\Lib\\site-packages\\statsmodels\\base\\optimizer.py:242\u001b[0m, in \u001b[0;36mOptimizer._fit\u001b[1;34m(self, objective, gradient, start_params, fargs, kwargs, hessian, method, maxiter, full_output, disp, callback, retall)\u001b[0m\n\u001b[0;32m    239\u001b[0m     fit_funcs\u001b[38;5;241m.\u001b[39mupdate(extra_fit_funcs)\n\u001b[0;32m    241\u001b[0m func \u001b[38;5;241m=\u001b[39m fit_funcs[method]\n\u001b[1;32m--> 242\u001b[0m xopt, retvals \u001b[38;5;241m=\u001b[39m func(objective, gradient, start_params, fargs, kwargs,\n\u001b[0;32m    243\u001b[0m                      disp\u001b[38;5;241m=\u001b[39mdisp, maxiter\u001b[38;5;241m=\u001b[39mmaxiter, callback\u001b[38;5;241m=\u001b[39mcallback,\n\u001b[0;32m    244\u001b[0m                      retall\u001b[38;5;241m=\u001b[39mretall, full_output\u001b[38;5;241m=\u001b[39mfull_output,\n\u001b[0;32m    245\u001b[0m                      hess\u001b[38;5;241m=\u001b[39mhessian)\n\u001b[0;32m    247\u001b[0m optim_settings \u001b[38;5;241m=\u001b[39m {\u001b[38;5;124m'\u001b[39m\u001b[38;5;124moptimizer\u001b[39m\u001b[38;5;124m'\u001b[39m: method, \u001b[38;5;124m'\u001b[39m\u001b[38;5;124mstart_params\u001b[39m\u001b[38;5;124m'\u001b[39m: start_params,\n\u001b[0;32m    248\u001b[0m                   \u001b[38;5;124m'\u001b[39m\u001b[38;5;124mmaxiter\u001b[39m\u001b[38;5;124m'\u001b[39m: maxiter, \u001b[38;5;124m'\u001b[39m\u001b[38;5;124mfull_output\u001b[39m\u001b[38;5;124m'\u001b[39m: full_output,\n\u001b[0;32m    249\u001b[0m                   \u001b[38;5;124m'\u001b[39m\u001b[38;5;124mdisp\u001b[39m\u001b[38;5;124m'\u001b[39m: disp, \u001b[38;5;124m'\u001b[39m\u001b[38;5;124mfargs\u001b[39m\u001b[38;5;124m'\u001b[39m: fargs, \u001b[38;5;124m'\u001b[39m\u001b[38;5;124mcallback\u001b[39m\u001b[38;5;124m'\u001b[39m: callback,\n\u001b[0;32m    250\u001b[0m                   \u001b[38;5;124m'\u001b[39m\u001b[38;5;124mretall\u001b[39m\u001b[38;5;124m'\u001b[39m: retall, \u001b[38;5;124m\"\u001b[39m\u001b[38;5;124mextra_fit_funcs\u001b[39m\u001b[38;5;124m\"\u001b[39m: extra_fit_funcs}\n\u001b[0;32m    251\u001b[0m optim_settings\u001b[38;5;241m.\u001b[39mupdate(kwargs)\n",
      "File \u001b[1;32mc:\\Users\\Courtney\\anaconda3\\envs\\path_data\\Lib\\site-packages\\statsmodels\\base\\optimizer.py:447\u001b[0m, in \u001b[0;36m_fit_newton\u001b[1;34m(f, score, start_params, fargs, kwargs, disp, maxiter, callback, retall, full_output, hess, ridge_factor)\u001b[0m\n\u001b[0;32m    445\u001b[0m     H[np\u001b[38;5;241m.\u001b[39mdiag_indices(H\u001b[38;5;241m.\u001b[39mshape[\u001b[38;5;241m0\u001b[39m])] \u001b[38;5;241m+\u001b[39m\u001b[38;5;241m=\u001b[39m ridge_factor\n\u001b[0;32m    446\u001b[0m oldparams \u001b[38;5;241m=\u001b[39m newparams\n\u001b[1;32m--> 447\u001b[0m newparams \u001b[38;5;241m=\u001b[39m oldparams \u001b[38;5;241m-\u001b[39m np\u001b[38;5;241m.\u001b[39mlinalg\u001b[38;5;241m.\u001b[39msolve(H, score(oldparams))\n\u001b[0;32m    448\u001b[0m \u001b[38;5;28;01mif\u001b[39;00m retall:\n\u001b[0;32m    449\u001b[0m     history\u001b[38;5;241m.\u001b[39mappend(newparams)\n",
      "File \u001b[1;32mc:\\Users\\Courtney\\anaconda3\\envs\\path_data\\Lib\\site-packages\\statsmodels\\base\\model.py:539\u001b[0m, in \u001b[0;36mLikelihoodModel.fit.<locals>.score\u001b[1;34m(params, *args)\u001b[0m\n\u001b[0;32m    538\u001b[0m \u001b[38;5;28;01mdef\u001b[39;00m \u001b[38;5;21mscore\u001b[39m(params, \u001b[38;5;241m*\u001b[39margs):\n\u001b[1;32m--> 539\u001b[0m     \u001b[38;5;28;01mreturn\u001b[39;00m \u001b[38;5;28mself\u001b[39m\u001b[38;5;241m.\u001b[39mscore(params, \u001b[38;5;241m*\u001b[39margs) \u001b[38;5;241m/\u001b[39m nobs\n",
      "File \u001b[1;32mc:\\Users\\Courtney\\anaconda3\\envs\\path_data\\Lib\\site-packages\\statsmodels\\discrete\\discrete_model.py:1479\u001b[0m, in \u001b[0;36mPoisson.score\u001b[1;34m(self, params)\u001b[0m\n\u001b[0;32m   1477\u001b[0m X \u001b[38;5;241m=\u001b[39m \u001b[38;5;28mself\u001b[39m\u001b[38;5;241m.\u001b[39mexog\n\u001b[0;32m   1478\u001b[0m L \u001b[38;5;241m=\u001b[39m np\u001b[38;5;241m.\u001b[39mexp(np\u001b[38;5;241m.\u001b[39mdot(X,params) \u001b[38;5;241m+\u001b[39m offset \u001b[38;5;241m+\u001b[39m exposure)\n\u001b[1;32m-> 1479\u001b[0m \u001b[38;5;28;01mreturn\u001b[39;00m np\u001b[38;5;241m.\u001b[39mdot(\u001b[38;5;28mself\u001b[39m\u001b[38;5;241m.\u001b[39mendog \u001b[38;5;241m-\u001b[39m L, X)\n",
      "\u001b[1;31mValueError\u001b[0m: operands could not be broadcast together with shapes (190,5) (190,) "
     ]
    }
   ],
   "source": [
    "md_ipa = smf.mixedlm(\"scaled_ipa ~ C(method) + C(model) + C(creation_method) + C(target_source) + C(trial_id)\" , mm_nav_data, groups=mm_nav_data[\"id\"], re_formula='C(model)')\n",
    "mdf_ipa = md_ipa.fit()\n",
    "print(mdf_ipa.summary())"
   ]
  },
  {
   "cell_type": "code",
   "execution_count": 330,
   "metadata": {},
   "outputs": [
    {
     "name": "stdout",
     "output_type": "stream",
     "text": [
      "         Mixed Linear Model Regression Results\n",
      "========================================================\n",
      "Model:            MixedLM Dependent Variable: scaled_ipa\n",
      "No. Observations: 190     Method:             REML      \n",
      "No. Groups:       24      Scale:              0.5727    \n",
      "Min. group size:  7       Log-Likelihood:     -242.0482 \n",
      "Max. group size:  8       Converged:          Yes       \n",
      "Mean group size:  7.9                                   \n",
      "--------------------------------------------------------\n",
      "              Coef.  Std.Err.   z    P>|z| [0.025 0.975]\n",
      "--------------------------------------------------------\n",
      "Intercept      0.270    0.173  1.564 0.118 -0.068  0.608\n",
      "C(model)[T.1] -0.489    0.155 -3.148 0.002 -0.794 -0.185\n",
      "C(model)[T.2] -0.275    0.155 -1.767 0.077 -0.579  0.030\n",
      "C(model)[T.3] -0.343    0.154 -2.218 0.027 -0.645 -0.040\n",
      "Group Var      0.428    0.208                           \n",
      "========================================================\n",
      "\n"
     ]
    }
   ],
   "source": [
    "md_ipa = smf.mixedlm(\"scaled_ipa ~ C(model)\", mm_nav_data, groups=mm_nav_data[\"id\"])\n",
    "mdf_ipa = md_ipa.fit()\n",
    "print(mdf_ipa.summary())"
   ]
  },
  {
   "cell_type": "code",
   "execution_count": 331,
   "metadata": {},
   "outputs": [
    {
     "name": "stdout",
     "output_type": "stream",
     "text": [
      "          Mixed Linear Model Regression Results\n",
      "=========================================================\n",
      "Model:            MixedLM Dependent Variable: scaled_tepr\n",
      "No. Observations: 190     Method:             REML       \n",
      "No. Groups:       24      Scale:              0.2657     \n",
      "Min. group size:  7       Log-Likelihood:     -183.3854  \n",
      "Max. group size:  8       Converged:          Yes        \n",
      "Mean group size:  7.9                                    \n",
      "---------------------------------------------------------\n",
      "               Coef.  Std.Err.   z    P>|z| [0.025 0.975]\n",
      "---------------------------------------------------------\n",
      "Intercept      -0.020    0.188 -0.104 0.917 -0.388  0.349\n",
      "C(method)[T.1]  0.043    0.075  0.571 0.568 -0.104  0.189\n",
      "Group Var       0.779    0.497                           \n",
      "=========================================================\n",
      "\n"
     ]
    }
   ],
   "source": [
    "md_tepr = smf.mixedlm(\"scaled_tepr ~ C(method)\", mm_nav_data, groups=mm_nav_data[\"id\"])\n",
    "mdf_tepr = md_tepr.fit()\n",
    "print(mdf_tepr.summary())"
   ]
  },
  {
   "cell_type": "code",
   "execution_count": 332,
   "metadata": {},
   "outputs": [
    {
     "name": "stdout",
     "output_type": "stream",
     "text": [
      "          Mixed Linear Model Regression Results\n",
      "=========================================================\n",
      "Model:            MixedLM Dependent Variable: scaled_tepr\n",
      "No. Observations: 190     Method:             REML       \n",
      "No. Groups:       24      Scale:              0.2364     \n",
      "Min. group size:  7       Log-Likelihood:     -175.4264  \n",
      "Max. group size:  8       Converged:          Yes        \n",
      "Mean group size:  7.9                                    \n",
      "---------------------------------------------------------\n",
      "               Coef.  Std.Err.   z    P>|z| [0.025 0.975]\n",
      "---------------------------------------------------------\n",
      "Intercept      -0.218    0.193 -1.127 0.260 -0.597  0.161\n",
      "C(model)[T.1]   0.116    0.100  1.157 0.247 -0.080  0.311\n",
      "C(model)[T.2]   0.414    0.100  4.150 0.000  0.219  0.610\n",
      "C(model)[T.3]   0.352    0.099  3.544 0.000  0.157  0.546\n",
      "Group Var       0.779    0.524                           \n",
      "=========================================================\n",
      "\n"
     ]
    }
   ],
   "source": [
    "md_tepr = smf.mixedlm(\"scaled_tepr ~ C(model)\", mm_nav_data, groups=mm_nav_data[\"id\"])\n",
    "mdf_tepr = md_tepr.fit()\n",
    "print(mdf_tepr.summary())"
   ]
  },
  {
   "cell_type": "code",
   "execution_count": 333,
   "metadata": {},
   "outputs": [
    {
     "name": "stdout",
     "output_type": "stream",
     "text": [
      "          Mixed Linear Model Regression Results\n",
      "=========================================================\n",
      "Model:             MixedLM Dependent Variable: scaled_seq\n",
      "No. Observations:  190     Method:             REML      \n",
      "No. Groups:        24      Scale:              0.4828    \n",
      "Min. group size:   7       Log-Likelihood:     -227.0980 \n",
      "Max. group size:   8       Converged:          Yes       \n",
      "Mean group size:   7.9                                   \n",
      "---------------------------------------------------------\n",
      "               Coef.  Std.Err.   z    P>|z| [0.025 0.975]\n",
      "---------------------------------------------------------\n",
      "Intercept      -0.327    0.153 -2.133 0.033 -0.628 -0.026\n",
      "C(method)[T.1]  0.658    0.101  6.521 0.000  0.460  0.856\n",
      "Group Var       0.441    0.228                           \n",
      "=========================================================\n",
      "\n"
     ]
    }
   ],
   "source": [
    "md_seq = smf.mixedlm(\"scaled_seq ~C(method)\", mm_nav_data, groups=mm_nav_data[\"id\"])\n",
    "mdf_seq = md_seq.fit()\n",
    "print(mdf_seq.summary())"
   ]
  },
  {
   "cell_type": "code",
   "execution_count": 334,
   "metadata": {},
   "outputs": [
    {
     "name": "stdout",
     "output_type": "stream",
     "text": [
      "         Mixed Linear Model Regression Results\n",
      "========================================================\n",
      "Model:            MixedLM Dependent Variable: scaled_seq\n",
      "No. Observations: 190     Method:             REML      \n",
      "No. Groups:       24      Scale:              0.6110    \n",
      "Min. group size:  7       Log-Likelihood:     -247.4585 \n",
      "Max. group size:  8       Converged:          Yes       \n",
      "Mean group size:  7.9                                   \n",
      "--------------------------------------------------------\n",
      "              Coef.  Std.Err.   z    P>|z| [0.025 0.975]\n",
      "--------------------------------------------------------\n",
      "Intercept     -0.032    0.175 -0.182 0.856 -0.375  0.311\n",
      "C(model)[T.1]  0.077    0.161  0.478 0.633 -0.238  0.391\n",
      "C(model)[T.2]  0.098    0.161  0.612 0.540 -0.216  0.413\n",
      "C(model)[T.3] -0.023    0.160 -0.147 0.883 -0.336  0.289\n",
      "Group Var      0.429    0.205                           \n",
      "========================================================\n",
      "\n"
     ]
    }
   ],
   "source": [
    "md_seq = smf.mixedlm(\"scaled_seq ~C(model)\", mm_nav_data, groups=mm_nav_data[\"id\"])\n",
    "mdf_seq = md_seq.fit()\n",
    "print(mdf_seq.summary())"
   ]
  },
  {
   "cell_type": "code",
   "execution_count": 336,
   "metadata": {},
   "outputs": [
    {
     "name": "stdout",
     "output_type": "stream",
     "text": [
      "             Mixed Linear Model Regression Results\n",
      "===============================================================\n",
      "Model:            MixedLM Dependent Variable: scaled_discomfort\n",
      "No. Observations: 190     Method:             REML             \n",
      "No. Groups:       24      Scale:              0.1264           \n",
      "Min. group size:  7       Log-Likelihood:     -123.4657        \n",
      "Max. group size:  8       Converged:          Yes              \n",
      "Mean group size:  7.9                                          \n",
      "----------------------------------------------------------------\n",
      "                 Coef.   Std.Err.    z     P>|z|  [0.025  0.975]\n",
      "----------------------------------------------------------------\n",
      "Intercept        -0.080     0.197  -0.406  0.685  -0.466   0.306\n",
      "C(method)[T.1]    0.151     0.052   2.930  0.003   0.050   0.252\n",
      "Group Var         0.900     0.811                               \n",
      "===============================================================\n",
      "\n"
     ]
    }
   ],
   "source": [
    "md_fms = smf.mixedlm(\"scaled_discomfort ~C(method)\", mm_nav_data, groups=mm_nav_data[\"id\"])\n",
    "mdf_fms = md_fms.fit()\n",
    "print(mdf_fms.summary())"
   ]
  },
  {
   "cell_type": "code",
   "execution_count": 337,
   "metadata": {},
   "outputs": [
    {
     "name": "stdout",
     "output_type": "stream",
     "text": [
      "             Mixed Linear Model Regression Results\n",
      "===============================================================\n",
      "Model:            MixedLM Dependent Variable: scaled_discomfort\n",
      "No. Observations: 190     Method:             REML             \n",
      "No. Groups:       24      Scale:              0.1314           \n",
      "Min. group size:  7       Log-Likelihood:     -128.9722        \n",
      "Max. group size:  8       Converged:          Yes              \n",
      "Mean group size:  7.9                                          \n",
      "----------------------------------------------------------------\n",
      "                 Coef.   Std.Err.    z     P>|z|  [0.025  0.975]\n",
      "----------------------------------------------------------------\n",
      "Intercept        -0.008     0.200  -0.038  0.970  -0.401   0.385\n",
      "C(model)[T.1]     0.035     0.074   0.467  0.640  -0.111   0.181\n",
      "C(model)[T.2]     0.063     0.074   0.844  0.399  -0.083   0.209\n",
      "C(model)[T.3]    -0.079     0.074  -1.066  0.286  -0.224   0.066\n",
      "Group Var         0.899     0.795                               \n",
      "===============================================================\n",
      "\n"
     ]
    }
   ],
   "source": [
    "md_fms = smf.mixedlm(\"scaled_discomfort ~C(model)\", mm_nav_data, groups=mm_nav_data[\"id\"])\n",
    "mdf_fms = md_fms.fit()\n",
    "print(mdf_fms.summary())"
   ]
  },
  {
   "cell_type": "markdown",
   "metadata": {},
   "source": [
    "## Creation Linear Mixed Models"
   ]
  },
  {
   "cell_type": "code",
   "execution_count": 200,
   "metadata": {},
   "outputs": [
    {
     "data": {
      "text/html": [
       "<div>\n",
       "<style scoped>\n",
       "    .dataframe tbody tr th:only-of-type {\n",
       "        vertical-align: middle;\n",
       "    }\n",
       "\n",
       "    .dataframe tbody tr th {\n",
       "        vertical-align: top;\n",
       "    }\n",
       "\n",
       "    .dataframe thead th {\n",
       "        text-align: right;\n",
       "    }\n",
       "</style>\n",
       "<table border=\"1\" class=\"dataframe\">\n",
       "  <thead>\n",
       "    <tr style=\"text-align: right;\">\n",
       "      <th></th>\n",
       "      <th>block</th>\n",
       "      <th>model</th>\n",
       "      <th>method</th>\n",
       "      <th>trial_id</th>\n",
       "      <th>luminance</th>\n",
       "      <th>pupilDiameter</th>\n",
       "      <th>pupil_lum_base</th>\n",
       "      <th>adj_pupil</th>\n",
       "      <th>total_time</th>\n",
       "      <th>target_id</th>\n",
       "      <th>...</th>\n",
       "      <th>Move</th>\n",
       "      <th>Draw</th>\n",
       "      <th>Erase</th>\n",
       "      <th>PointDeleted</th>\n",
       "      <th>scaled_tepr</th>\n",
       "      <th>scaled_ipa</th>\n",
       "      <th>scaled_time</th>\n",
       "      <th>scaled_seq</th>\n",
       "      <th>total_interactions</th>\n",
       "      <th>scaled_interactions</th>\n",
       "    </tr>\n",
       "  </thead>\n",
       "  <tbody>\n",
       "    <tr>\n",
       "      <th>count</th>\n",
       "      <td>192.00000</td>\n",
       "      <td>192.00000</td>\n",
       "      <td>192.00000</td>\n",
       "      <td>192.00000</td>\n",
       "      <td>192.00000</td>\n",
       "      <td>192.00000</td>\n",
       "      <td>192.00000</td>\n",
       "      <td>192.00000</td>\n",
       "      <td>192.00000</td>\n",
       "      <td>192.00000</td>\n",
       "      <td>...</td>\n",
       "      <td>192.00000</td>\n",
       "      <td>192.00000</td>\n",
       "      <td>192.00000</td>\n",
       "      <td>192.00000</td>\n",
       "      <td>192.00000</td>\n",
       "      <td>192.00000</td>\n",
       "      <td>192.00000</td>\n",
       "      <td>192.00000</td>\n",
       "      <td>192.00000</td>\n",
       "      <td>192.00000</td>\n",
       "    </tr>\n",
       "    <tr>\n",
       "      <th>mean</th>\n",
       "      <td>1.33333</td>\n",
       "      <td>1.50000</td>\n",
       "      <td>2.50000</td>\n",
       "      <td>1.50000</td>\n",
       "      <td>0.24124</td>\n",
       "      <td>3.70347</td>\n",
       "      <td>3.17415</td>\n",
       "      <td>0.52932</td>\n",
       "      <td>57.13469</td>\n",
       "      <td>1.50000</td>\n",
       "      <td>...</td>\n",
       "      <td>3.82292</td>\n",
       "      <td>2.32812</td>\n",
       "      <td>0.69792</td>\n",
       "      <td>0.20312</td>\n",
       "      <td>-0.00000</td>\n",
       "      <td>0.00000</td>\n",
       "      <td>0.00000</td>\n",
       "      <td>0.00000</td>\n",
       "      <td>11.70312</td>\n",
       "      <td>0.00000</td>\n",
       "    </tr>\n",
       "    <tr>\n",
       "      <th>std</th>\n",
       "      <td>1.14560</td>\n",
       "      <td>1.12096</td>\n",
       "      <td>0.50131</td>\n",
       "      <td>1.12096</td>\n",
       "      <td>0.03488</td>\n",
       "      <td>0.59158</td>\n",
       "      <td>0.48764</td>\n",
       "      <td>0.33986</td>\n",
       "      <td>35.43374</td>\n",
       "      <td>0.50131</td>\n",
       "      <td>...</td>\n",
       "      <td>8.01242</td>\n",
       "      <td>6.10310</td>\n",
       "      <td>2.65117</td>\n",
       "      <td>0.72023</td>\n",
       "      <td>1.00261</td>\n",
       "      <td>1.00261</td>\n",
       "      <td>1.00261</td>\n",
       "      <td>1.00261</td>\n",
       "      <td>12.50007</td>\n",
       "      <td>1.00261</td>\n",
       "    </tr>\n",
       "    <tr>\n",
       "      <th>min</th>\n",
       "      <td>0.00000</td>\n",
       "      <td>0.00000</td>\n",
       "      <td>2.00000</td>\n",
       "      <td>0.00000</td>\n",
       "      <td>0.16455</td>\n",
       "      <td>2.56291</td>\n",
       "      <td>2.26046</td>\n",
       "      <td>-0.14157</td>\n",
       "      <td>11.26140</td>\n",
       "      <td>1.00000</td>\n",
       "      <td>...</td>\n",
       "      <td>0.00000</td>\n",
       "      <td>0.00000</td>\n",
       "      <td>0.00000</td>\n",
       "      <td>0.00000</td>\n",
       "      <td>-1.97916</td>\n",
       "      <td>-2.02637</td>\n",
       "      <td>-1.29801</td>\n",
       "      <td>-0.85175</td>\n",
       "      <td>1.00000</td>\n",
       "      <td>-0.85848</td>\n",
       "    </tr>\n",
       "    <tr>\n",
       "      <th>25%</th>\n",
       "      <td>0.00000</td>\n",
       "      <td>0.75000</td>\n",
       "      <td>2.00000</td>\n",
       "      <td>0.75000</td>\n",
       "      <td>0.20959</td>\n",
       "      <td>3.22292</td>\n",
       "      <td>2.89772</td>\n",
       "      <td>0.25809</td>\n",
       "      <td>33.88775</td>\n",
       "      <td>1.00000</td>\n",
       "      <td>...</td>\n",
       "      <td>0.00000</td>\n",
       "      <td>0.00000</td>\n",
       "      <td>0.00000</td>\n",
       "      <td>0.00000</td>\n",
       "      <td>-0.80015</td>\n",
       "      <td>-0.63120</td>\n",
       "      <td>-0.65778</td>\n",
       "      <td>-0.85175</td>\n",
       "      <td>2.00000</td>\n",
       "      <td>-0.77828</td>\n",
       "    </tr>\n",
       "    <tr>\n",
       "      <th>50%</th>\n",
       "      <td>1.00000</td>\n",
       "      <td>1.50000</td>\n",
       "      <td>2.50000</td>\n",
       "      <td>1.50000</td>\n",
       "      <td>0.24039</td>\n",
       "      <td>3.63652</td>\n",
       "      <td>3.09340</td>\n",
       "      <td>0.50755</td>\n",
       "      <td>46.11395</td>\n",
       "      <td>1.50000</td>\n",
       "      <td>...</td>\n",
       "      <td>0.00000</td>\n",
       "      <td>0.50000</td>\n",
       "      <td>0.00000</td>\n",
       "      <td>0.00000</td>\n",
       "      <td>-0.06423</td>\n",
       "      <td>-0.07632</td>\n",
       "      <td>-0.31184</td>\n",
       "      <td>0.11023</td>\n",
       "      <td>8.50000</td>\n",
       "      <td>-0.25692</td>\n",
       "    </tr>\n",
       "    <tr>\n",
       "      <th>75%</th>\n",
       "      <td>2.00000</td>\n",
       "      <td>2.25000</td>\n",
       "      <td>3.00000</td>\n",
       "      <td>2.25000</td>\n",
       "      <td>0.26883</td>\n",
       "      <td>4.19700</td>\n",
       "      <td>3.43718</td>\n",
       "      <td>0.73177</td>\n",
       "      <td>69.87950</td>\n",
       "      <td>2.00000</td>\n",
       "      <td>...</td>\n",
       "      <td>2.25000</td>\n",
       "      <td>2.00000</td>\n",
       "      <td>0.00000</td>\n",
       "      <td>0.00000</td>\n",
       "      <td>0.59725</td>\n",
       "      <td>0.63476</td>\n",
       "      <td>0.36062</td>\n",
       "      <td>1.07220</td>\n",
       "      <td>15.00000</td>\n",
       "      <td>0.26444</td>\n",
       "    </tr>\n",
       "    <tr>\n",
       "      <th>max</th>\n",
       "      <td>3.00000</td>\n",
       "      <td>3.00000</td>\n",
       "      <td>3.00000</td>\n",
       "      <td>3.00000</td>\n",
       "      <td>0.32524</td>\n",
       "      <td>5.37301</td>\n",
       "      <td>4.24859</td>\n",
       "      <td>1.71331</td>\n",
       "      <td>217.87100</td>\n",
       "      <td>2.00000</td>\n",
       "      <td>...</td>\n",
       "      <td>38.00000</td>\n",
       "      <td>61.00000</td>\n",
       "      <td>19.00000</td>\n",
       "      <td>4.00000</td>\n",
       "      <td>3.49284</td>\n",
       "      <td>3.33492</td>\n",
       "      <td>4.54811</td>\n",
       "      <td>2.99615</td>\n",
       "      <td>79.00000</td>\n",
       "      <td>5.39780</td>\n",
       "    </tr>\n",
       "  </tbody>\n",
       "</table>\n",
       "<p>8 rows × 23 columns</p>\n",
       "</div>"
      ],
      "text/plain": [
       "          block     model    method  trial_id  luminance  pupilDiameter  \\\n",
       "count 192.00000 192.00000 192.00000 192.00000  192.00000      192.00000   \n",
       "mean    1.33333   1.50000   2.50000   1.50000    0.24124        3.70347   \n",
       "std     1.14560   1.12096   0.50131   1.12096    0.03488        0.59158   \n",
       "min     0.00000   0.00000   2.00000   0.00000    0.16455        2.56291   \n",
       "25%     0.00000   0.75000   2.00000   0.75000    0.20959        3.22292   \n",
       "50%     1.00000   1.50000   2.50000   1.50000    0.24039        3.63652   \n",
       "75%     2.00000   2.25000   3.00000   2.25000    0.26883        4.19700   \n",
       "max     3.00000   3.00000   3.00000   3.00000    0.32524        5.37301   \n",
       "\n",
       "       pupil_lum_base  adj_pupil  total_time  target_id  ...      Move  \\\n",
       "count       192.00000  192.00000   192.00000  192.00000  ... 192.00000   \n",
       "mean          3.17415    0.52932    57.13469    1.50000  ...   3.82292   \n",
       "std           0.48764    0.33986    35.43374    0.50131  ...   8.01242   \n",
       "min           2.26046   -0.14157    11.26140    1.00000  ...   0.00000   \n",
       "25%           2.89772    0.25809    33.88775    1.00000  ...   0.00000   \n",
       "50%           3.09340    0.50755    46.11395    1.50000  ...   0.00000   \n",
       "75%           3.43718    0.73177    69.87950    2.00000  ...   2.25000   \n",
       "max           4.24859    1.71331   217.87100    2.00000  ...  38.00000   \n",
       "\n",
       "           Draw     Erase  PointDeleted  scaled_tepr  scaled_ipa  scaled_time  \\\n",
       "count 192.00000 192.00000     192.00000    192.00000   192.00000    192.00000   \n",
       "mean    2.32812   0.69792       0.20312     -0.00000     0.00000      0.00000   \n",
       "std     6.10310   2.65117       0.72023      1.00261     1.00261      1.00261   \n",
       "min     0.00000   0.00000       0.00000     -1.97916    -2.02637     -1.29801   \n",
       "25%     0.00000   0.00000       0.00000     -0.80015    -0.63120     -0.65778   \n",
       "50%     0.50000   0.00000       0.00000     -0.06423    -0.07632     -0.31184   \n",
       "75%     2.00000   0.00000       0.00000      0.59725     0.63476      0.36062   \n",
       "max    61.00000  19.00000       4.00000      3.49284     3.33492      4.54811   \n",
       "\n",
       "       scaled_seq  total_interactions  scaled_interactions  \n",
       "count   192.00000           192.00000            192.00000  \n",
       "mean      0.00000            11.70312              0.00000  \n",
       "std       1.00261            12.50007              1.00261  \n",
       "min      -0.85175             1.00000             -0.85848  \n",
       "25%      -0.85175             2.00000             -0.77828  \n",
       "50%       0.11023             8.50000             -0.25692  \n",
       "75%       1.07220            15.00000              0.26444  \n",
       "max       2.99615            79.00000              5.39780  \n",
       "\n",
       "[8 rows x 23 columns]"
      ]
     },
     "execution_count": 200,
     "metadata": {},
     "output_type": "execute_result"
    }
   ],
   "source": [
    "mm_crt_data = user_data_crt\n",
    "mm_crt_data = mm_crt_data.reset_index(level=(0,1,2, 3))\n",
    "\n",
    "mm_crt_data['block'] = mm_crt_data['block'].astype(block_cats).cat.codes\n",
    "mm_crt_data['method'] = mm_crt_data['method'].astype(method_cats).cat.codes\n",
    "mm_crt_data['model'] = mm_crt_data['model'].astype(model_cats).cat.codes\n",
    "mm_crt_data['target_id'] = mm_crt_data['target_id'].astype(int)\n",
    "mm_crt_data['trial_id'] = mm_crt_data['trial_id'].astype(int)\n",
    "mm_crt_data['scaled_tepr'] = stats.zscore(mm_crt_data['adj_pupil']).astype('float64')\n",
    "mm_crt_data['scaled_ipa'] = stats.zscore(mm_crt_data['IPA']).astype('float64')\n",
    "mm_crt_data['scaled_time'] = stats.zscore(mm_crt_data['total_time']).astype('float64')\n",
    "mm_crt_data['scaled_seq'] = stats.zscore(mm_crt_data['seq']).astype('float64')\n",
    "mm_crt_data['total_interactions'] = mm_crt_data['Draw'] + mm_crt_data['Erase'] + mm_crt_data['PointPlaced'] + mm_crt_data['Move'] + mm_crt_data['PointDeleted']\n",
    "mm_crt_data['scaled_interactions']  = stats.zscore(mm_crt_data['total_interactions']).astype('float64')\n",
    "\n",
    "pd.options.display.float_format = '{:.5f}'.format\n",
    "mm_crt_data.describe()"
   ]
  },
  {
   "cell_type": "code",
   "execution_count": 376,
   "metadata": {},
   "outputs": [],
   "source": [
    "data = sm.datasets.star98.load()\n",
    "data.exog = sm.add_constant(data.exog, prepend=False)"
   ]
  },
  {
   "cell_type": "code",
   "execution_count": 380,
   "metadata": {},
   "outputs": [],
   "source": [
    "data_crt = mm_crt_data\n"
   ]
  }
 ],
 "metadata": {
  "kernelspec": {
   "display_name": ".venv",
   "language": "python",
   "name": "python3"
  },
  "language_info": {
   "codemirror_mode": {
    "name": "ipython",
    "version": 3
   },
   "file_extension": ".py",
   "mimetype": "text/x-python",
   "name": "python",
   "nbconvert_exporter": "python",
   "pygments_lexer": "ipython3",
   "version": "3.12.2"
  }
 },
 "nbformat": 4,
 "nbformat_minor": 2
}
