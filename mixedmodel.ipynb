{
 "cells": [
  {
   "cell_type": "markdown",
   "metadata": {},
   "source": [
    "## Imports"
   ]
  },
  {
   "cell_type": "code",
   "execution_count": 40,
   "metadata": {},
   "outputs": [],
   "source": [
    "import pyxdf \n",
    "import numpy as np\n",
    "import pandas as pd\n",
    "from pandas.api.types import CategoricalDtype\n",
    "from lmfit.models import Model\n",
    "from os import listdir, getcwd\n",
    "from os.path import isfile, join\n",
    "from scipy import stats\n",
    "import statsmodels.api as sm\n",
    "from statsmodels.stats.outliers_influence import variance_inflation_factor\n",
    "import statsmodels.formula.api as smf\n",
    "import pywt\n",
    "import math\n",
    "import matplotlib.pyplot as plt\n",
    "import statsmodels.graphics.factorplots as smgf"
   ]
  },
  {
   "cell_type": "markdown",
   "metadata": {},
   "source": [
    "## Pupillary Functions\n"
   ]
  },
  {
   "cell_type": "markdown",
   "metadata": {},
   "source": [
    "Task evoked pupillary response is calculated after correcting for luminance-induced pupil dilation: $𝑇𝐸𝑃𝑅 = 𝑑_m − 𝑑(𝑌)$, where $d_m$ is the measured pupil dilation, and $d(Y)$ is the predicted pupil dilation for the given luminance level. \n",
    "\n",
    "Predicted pupil dilation is calculated from a calibration sequence that produces and individual mapping model for each participant. The calibration sequence consists of 8 solid gray colors with varying luminance levels displayed in a psuedo-random order for 6 seconds each. The luminance levels span the range from 0.0 to 0.78, and for each calibration level, the first 0.5s of data is discarded to account for the initial pupillary response to the change in luminance, which can take a maximum of 0.5s. . The individual mapping model is calculated using a non-linear least squares regression to fit the equation $𝑑(𝑌) = 𝑎 · 𝑒^{−𝑏·𝑌} + c$ to the measured pupil dilation data for each participant. \n",
    "\n",
    "Pupil dilation data and the average luminance data were collected at 90 Hz, the display rate of the HMD.\n",
    "\n",
    "See: Eckert, M., Robotham, T., Habets, E. A. P., and Rummukainen, O. S. (2022). Pupillary Light Reflex Correction for Robust Pupillometry in Virtual Reality. Proc. ACM Comput. Graph. Interact. Tech. 5, 1–16. doi: 10.1145/3530798"
   ]
  },
  {
   "cell_type": "code",
   "execution_count": 3,
   "metadata": {},
   "outputs": [],
   "source": [
    "def pupil_func(x, a, b, c):\n",
    "    return a * np.exp(-b * x) + c"
   ]
  },
  {
   "cell_type": "code",
   "execution_count": 4,
   "metadata": {},
   "outputs": [],
   "source": [
    "def modmax(d):\n",
    "    # compute signal modulus\n",
    "    m = [0.0]*len(d)\n",
    "    for i in range(len(d)):\n",
    "        m[i] = math.fabs(d[i])\n",
    "    # if value is larger than both neighbours , and strictly larger than either , then it is a local maximum\n",
    "    t = [0.0]*len(d)\n",
    "    for i in range(len(d)):\n",
    "        ll = m[i -1] if i >= 1 else m[i]\n",
    "        oo = m[i]\n",
    "        rr = m[i+1] if i < len(d)-2 else m[i]\n",
    "        if (ll <= oo and oo >= rr) and (ll < oo or oo > rr):\n",
    "        # compute magnitude\n",
    "            t[i] = math.sqrt(d[i]**2)\n",
    "        else:\n",
    "            t[i] = 0.0\n",
    "    return t"
   ]
  },
  {
   "cell_type": "code",
   "execution_count": 5,
   "metadata": {},
   "outputs": [],
   "source": [
    "def ipa_func(d):\n",
    "    # obtain 2-level DWT of pupil diameter signal d\n",
    "    try:\n",
    "        (cA2 ,cD2 ,cD1) = pywt.wavedec(d,'sym16', 'per', level=2)\n",
    "    except ValueError :\n",
    "        return\n",
    "    # get signal duration (in seconds)\n",
    "    tt = d.index[-1] - d.index[0]\n",
    "    # normalize by 1/2 j , j = 2 for 2-level DWT\n",
    "    cA2 [:] = [x / math.sqrt (4.0) for x in cA2]\n",
    "    cD1 [:] = [x / math.sqrt (2.0) for x in cD1]\n",
    "    cD2 [:] = [x / math.sqrt (4.0) for x in cD2]\n",
    "\n",
    "    # detect modulus maxima , see Listing 2\n",
    "    cD2m = modmax(cD2)\n",
    "\n",
    "    # threshold using universal threshold λuniv = σˆp(2logn)\n",
    "    # where σˆ is the standard deviation of the noise\n",
    "    λuniv = np.std(cD2m) * math.sqrt (2.0* np.log2(len(cD2m )))\n",
    "    cD2t = pywt.threshold(cD2m ,λuniv,mode=\"hard\")\n",
    "    \n",
    "    # compute IPA\n",
    "    ctr = 0\n",
    "    for i in range(len(cD2t )):\n",
    "        if math.fabs(cD2t[i]) > 0: ctr += 1\n",
    "    IPA = float(ctr)/tt.total_seconds()\n",
    "\n",
    "    return IPA"
   ]
  },
  {
   "cell_type": "markdown",
   "metadata": {},
   "source": [
    "## Statistical Functions"
   ]
  },
  {
   "cell_type": "code",
   "execution_count": 6,
   "metadata": {},
   "outputs": [],
   "source": [
    "def iqr_outlier_indices(data):\n",
    "    q1 = data.quantile(.25)\n",
    "    q3 = data.quantile(.75)\n",
    "    iqr = stats.iqr(data, nan_policy='omit', rng=(25, 75))\n",
    "    return np.where((data < (q1 - 1.5 * iqr)) | (data > (q3 + 1.5 * iqr)))"
   ]
  },
  {
   "cell_type": "code",
   "execution_count": 7,
   "metadata": {},
   "outputs": [],
   "source": [
    "def iqr_stats(data):\n",
    "    q1 = np.percentile(data, 25)\n",
    "    q3 = np.percentile(data, 75)\n",
    "    iqr = stats.iqr(data, nan_policy='omit', rng=(25, 75))\n",
    "    return iqr, q1, q3"
   ]
  },
  {
   "cell_type": "code",
   "execution_count": 8,
   "metadata": {},
   "outputs": [],
   "source": [
    "def get_results_colors(np, wp, tp):\n",
    "    pastels = px.colors.qualitative.Pastel2\n",
    "    default_color = 'white'\n",
    "    significant_color = pastels[0]\n",
    "    non_significant_color = pastels[3]\n",
    "\n",
    "    normal_color = non_significant_color if np < 0.05 else significant_color\n",
    "    wilcox_color = default_color\n",
    "    ttest_color = default_color\n",
    "    if np < 0.05:\n",
    "        wilcox_color = significant_color if wp < 0.05 else non_significant_color\n",
    "    else:\n",
    "        ttest_color = significant_color if tp < 0.05 else non_significant_color\n",
    "\n",
    "    fill_color = [[default_color, default_color, default_color],\n",
    "                  [default_color, wilcox_color, ttest_color] , \n",
    "                  [normal_color, wilcox_color, ttest_color]]\n",
    "    \n",
    "    return fill_color"
   ]
  },
  {
   "cell_type": "markdown",
   "metadata": {},
   "source": [
    "## Data Processing Functions"
   ]
  },
  {
   "cell_type": "code",
   "execution_count": 9,
   "metadata": {},
   "outputs": [],
   "source": [
    "def import_data(file):\n",
    "    streams, header = pyxdf.load_xdf(file)\n",
    "    dfs = {}\n",
    "    for stream in streams:\n",
    "        stream_name = stream['info']['name'][0]\n",
    "        stream_channels = {channel['label'][0]: i for i, channel in enumerate(stream['info']['desc'][0]['channels'][0]['channel'])}\n",
    "        stream_data = stream['time_series']\n",
    "        data_dict = {key: np.array(stream_data)[:, index] for key, index in stream_channels.items()}\n",
    "        data_dict['time'] = np.round(np.array(stream['time_stamps']), decimals=4)\n",
    "        dfs[stream_name] = pd.DataFrame(data_dict).drop_duplicates(subset=['time']).reset_index(drop=True)\n",
    "    return dfs"
   ]
  },
  {
   "cell_type": "code",
   "execution_count": 10,
   "metadata": {},
   "outputs": [],
   "source": [
    "accom_time = pd.to_timedelta(0.5, unit='s')"
   ]
  },
  {
   "cell_type": "code",
   "execution_count": 11,
   "metadata": {},
   "outputs": [],
   "source": [
    "method_cats = CategoricalDtype(['4DoF','6DoF', 'unimanual','bimanual'], ordered=False)\n",
    "model_cats = CategoricalDtype(['A', 'B', 'C', 'D'], ordered=True)\n",
    "block_cats = CategoricalDtype(['0', '1', '2', '3'], ordered=True)\n",
    "event_cats = CategoricalDtype(['Start', 'PointPlaced', 'Move', 'End', 'Draw', 'Erase', 'PointDeleted'], ordered=False)\n",
    "target_cats = CategoricalDtype(['1','2'], ordered=False)\n",
    "trial_cats = CategoricalDtype(['0','1','2','3'], ordered=True)\n",
    "data_names = ['id', 'block', 'model', 'method']"
   ]
  },
  {
   "cell_type": "code",
   "execution_count": 12,
   "metadata": {},
   "outputs": [],
   "source": [
    "mA = [0,1,3,2]\n",
    "mB = [1,2,0,3]\n",
    "mC = [2,3,1,0]\n",
    "mD = [3,0,2,1]\n",
    "\n",
    "tA = [0,1,2,3]\n",
    "tB = [0,1,3,2]\n",
    "tC = [1,0,2,3]\n",
    "tD = [1,0,3,2]\n",
    "\n",
    "model_blocks = [\n",
    "    [mA,mB,mC,mD],\n",
    "    [mB,mC,mD,mA],\n",
    "    [mC,mD,mA,mB],\n",
    "    [mD,mA,mB,mC]\n",
    "]\n",
    "\n",
    "method_blocks = [\n",
    "    tA, tB, tC, tD\n",
    "]"
   ]
  },
  {
   "cell_type": "code",
   "execution_count": 13,
   "metadata": {},
   "outputs": [],
   "source": [
    "def process_gaze_luminance_data(stream_df):\n",
    "    pupil = stream_df['GazeStream'].loc[(stream_df['GazeStream']['LeftEyeIsBlinking'] == 0) \n",
    "                                        & (stream_df['GazeStream']['RightEyeIsBlinking'] == 0) \n",
    "                                        & (stream_df['GazeStream']['LeftPupilDiameter'] > 0) \n",
    "                                        & (stream_df['GazeStream']['RightPupilDiameter'] > 0), \n",
    "                                        ['time', 'trial_id', 'MethodID', 'ModelID', 'LeftPupilDiameter', 'RightPupilDiameter']]\n",
    "    pupil['time'] = pd.to_timedelta(pupil['time'], unit='s')\n",
    "\n",
    "    lum = stream_df['LuminanceStream'].loc[:, ['time', 'MethodID', 'ModelID', 'Luminance']]\n",
    "    lum['time'] = pd.to_timedelta(lum['time'], unit='s')\n",
    "\n",
    "    # Intersection of time stamps\n",
    "    pupil_lum_time_intersection = np.intersect1d(pupil['time'], lum['time'])\n",
    "\n",
    "    # Filter pupil and luminance data by intersection\n",
    "    pupil = pupil[pupil['time'].isin(pupil_lum_time_intersection)].reset_index(drop=True)\n",
    "    lum = lum[lum['time'].isin(pupil_lum_time_intersection)].reset_index(drop=True)\n",
    "\n",
    "    # Combined DataFrame for pupil and luminance\n",
    "    pupil_lum = pd.DataFrame({\n",
    "        'time': pd.to_timedelta(pupil_lum_time_intersection, unit='s'),\n",
    "        'luminance': lum['Luminance'],\n",
    "        'pupilDiameter': 0.5 * (pupil['LeftPupilDiameter'] + pupil['RightPupilDiameter']),\n",
    "        'methodID': pupil['MethodID'],\n",
    "        'modelID': pupil['ModelID'],\n",
    "        'trial_id': pupil['trial_id']\n",
    "    })\n",
    "\n",
    "    outliers = iqr_outlier_indices(pupil_lum['pupilDiameter'])\n",
    "    pupil_lum = pupil_lum.drop(pupil_lum.iloc[outliers].index).reset_index(drop=True)\n",
    "\n",
    "    return pupil_lum"
   ]
  },
  {
   "cell_type": "code",
   "execution_count": 14,
   "metadata": {},
   "outputs": [],
   "source": [
    "def process_calibration_data(pupil_lum_df, stream_df):\n",
    "    calibration_events = stream_df['ExperimentStream'].loc[(stream_df['ExperimentStream']['EventType'] == 'CalibrationColorChange') | \n",
    "                                                           (stream_df['ExperimentStream']['SceneEvent'] == 'Calibration') | \n",
    "                                                           (stream_df['ExperimentStream']['SceneEvent'] == 'CalibrationComplete'), \n",
    "                                                           ['time','SceneEvent', 'EventType']]\n",
    "    calibration_events['time'] = pd.to_timedelta(calibration_events['time'], unit='s')\n",
    "    c_start_times = calibration_events[:8]['time']\n",
    "    c_end_times = calibration_events[1:]['time']\n",
    "    c_start_times.reset_index(drop=True, inplace=True)\n",
    "    c_end_times.reset_index(drop=True, inplace=True)\n",
    "\n",
    "    calib_data = {}\n",
    "    for i in range(8):\n",
    "        calib_data[i] = pupil_lum_df.loc[(pupil_lum_df['time'] >= c_start_times[i]) & (pupil_lum_df['time'] <= c_end_times[i]), ['time','luminance', 'pupilDiameter']]\n",
    "        calib_data[i]['time'] -= calib_data[i]['time'].iloc[0]\n",
    "        calib_data[i] = calib_data[i].loc[(calib_data[i]['time'] >= accom_time), ['luminance', 'pupilDiameter']]\n",
    "\n",
    "    calibration_data = pd.concat(calib_data).groupby(level=0).mean().sort_values(by=['luminance']).reset_index(drop=True)\n",
    "    return calibration_data"
   ]
  },
  {
   "cell_type": "code",
   "execution_count": 15,
   "metadata": {},
   "outputs": [],
   "source": [
    "def process_navigation_data(pupil_lum_df, stream_df, a, b, c):\n",
    "    grouped_data = stream_df['NavigationStream'].groupby(['ModelID', 'MethodID'])\n",
    "\n",
    "    stream_df['SurveyStream']['ModelID'] = stream_df['SurveyStream']['ModelID'].astype(float)\n",
    "    stream_df['SurveyStream']['MethodID'] = stream_df['SurveyStream']['MethodID'].astype(float)\n",
    "    \n",
    "    discomfort_survey = stream_df['SurveyStream'].loc[\n",
    "        (stream_df['SurveyStream']['SurveyType'] == 'Discomfort') & \n",
    "        (stream_df['SurveyStream']['ModelID'] < 4), \n",
    "        ['time', 'ModelID', 'MethodID']]\n",
    "    survey_group = discomfort_survey.groupby(['ModelID', 'MethodID'])\n",
    "\n",
    "    start_times = []\n",
    "    end_times = []\n",
    "    total_time = []\n",
    "\n",
    "    for i in range(4):\n",
    "        for j in range(2,4):\n",
    "            trial = grouped_data.get_group((i, j))\n",
    "\n",
    "            start = trial.loc[(trial['spline_percent'] > 0.001)].index[0]\n",
    "            start_time = pd.to_timedelta(stream_df['NavigationStream'].loc[start, 'time'], unit='s')\n",
    "\n",
    "            end = trial.loc[(trial['spline_percent'] > 0.995)]\n",
    "            end_time = 0\n",
    "            # For 6DoF navigation, completion was determined by collision with bounding box\n",
    "            # Spline percentage was based on projection, so it may not reach > 0.995.\n",
    "            # In this case, the survey time serves as the end time (rather than lowering the threshold)\n",
    "            if len(end) > 0:\n",
    "                end = end.index[0]\n",
    "                end_time = pd.to_timedelta(stream_df['NavigationStream'].loc[end, 'time'], unit='s')\n",
    "            else:\n",
    "                end = survey_group.get_group((i, j)).index[0]\n",
    "                end_time = pd.to_timedelta(stream_df['SurveyStream'].loc[end, 'time'], unit='s') - pd.offsets.Second(3)\n",
    "            \n",
    "            start_times.append(start_time)\n",
    "            end_times.append(end_time)\n",
    "            total_time.append((end_time - start_time).total_seconds())\n",
    "\n",
    "\n",
    "    nav_start_times = start_times\n",
    "    nav_end_times = end_times\n",
    "\n",
    "    nav_data = {}\n",
    "    for i in range(8):\n",
    "        nav_data[i] = pupil_lum_df.loc[\n",
    "            (pupil_lum_df['luminance'] >0) & \n",
    "            (pupil_lum_df['time']>nav_start_times[i]) & \n",
    "            (pupil_lum_df['time']<nav_end_times[i]), \n",
    "            ['time', 'trial_id', 'methodID', 'modelID', 'luminance', 'pupilDiameter']]\n",
    "        nav_data[i].reset_index(drop=True, inplace=True)\n",
    "\n",
    "    navigation_data = pd.concat(nav_data, names=['trial'])\n",
    "    navigation_data['pupil_lum_base'] = pupil_func(navigation_data['luminance'], a, b, c)\n",
    "    navigation_data['adj_pupil'] = navigation_data['pupilDiameter'] - navigation_data['pupil_lum_base']\n",
    "\n",
    "    return navigation_data, total_time"
   ]
  },
  {
   "cell_type": "code",
   "execution_count": 16,
   "metadata": {},
   "outputs": [],
   "source": [
    "def clean_stream(stream_df, block, range_frame):\n",
    "    df = pd.DataFrame()\n",
    "\n",
    "    for col in stream_df.columns:\n",
    "        df[col] = stream_df[col]\n",
    "    \n",
    "    stream_df['ModelID'] = stream_df['ModelID'].mask(stream_df['ModelID'] == 'generic', '99')\n",
    "    stream_df['MethodID'] = stream_df['MethodID'].mask(stream_df['MethodID'] == 'generic', '99')\n",
    "    df['ModelID'] = stream_df['ModelID'].astype(int)\n",
    "    df['trial_id'] = stream_df['ModelID'].astype(int)\n",
    "    df['MethodID'] = stream_df['MethodID'].astype(int)\n",
    "\n",
    "    for i in range(4):\n",
    "        for j in range_frame:\n",
    "            method = method_blocks[block][j]\n",
    "            df['ModelID'] = df['ModelID'].mask((df['trial_id']==i) & (df['MethodID']==method), model_blocks[block][j][i])\n",
    "    \n",
    "    return df"
   ]
  },
  {
   "cell_type": "code",
   "execution_count": 17,
   "metadata": {},
   "outputs": [],
   "source": [
    "def process_creation_data(pupil_lum_df, stream_df, a, b, c):\n",
    "    \n",
    "    crt_start_times = stream_df['CreationStream'].loc[(stream_df['CreationStream']['EventName'] == 'StartPointRegistered'), ['time', 'ModelID', 'MethodID']]\n",
    "    crt_start_times = pd.to_timedelta(crt_start_times.groupby(['ModelID', 'MethodID']).first()['time'], unit='s') + pd.offsets.Second(2)\n",
    "    crt_start_times.reset_index(drop=True, inplace=True)\n",
    "\n",
    "    crt_end_times = stream_df['CreationStream'].loc[(stream_df['CreationStream']['EventName'] == 'FinishPath'), ['time', 'ModelID', 'MethodID']]\n",
    "    crt_end_times = pd.to_timedelta(crt_end_times.groupby(['ModelID', 'MethodID']).first()['time'], unit='s')\n",
    "    crt_end_times.reset_index(drop=True, inplace=True)\n",
    "    \n",
    "    total_time = crt_end_times - crt_start_times\n",
    "    total_time = total_time.apply(lambda x: x.total_seconds())\n",
    "\n",
    "    crt_data = {}\n",
    "    for i in range(8):\n",
    "        crt_data[i] = pupil_lum_df.loc[\n",
    "            (pupil_lum_df['time'] > crt_start_times.loc[i]) & \n",
    "            (pupil_lum_df['time'] < crt_end_times.loc[i]), \n",
    "            ['time', 'methodID',  'trial_id', 'modelID', 'luminance', 'pupilDiameter']]\n",
    "        crt_data[i].reset_index(drop=True, inplace=True)\n",
    "\n",
    "    creation_data = pd.concat(crt_data, names=['trial'])\n",
    "    creation_data['pupil_lum_base'] = pupil_func(creation_data['luminance'], a, b, c)\n",
    "    creation_data['adj_pupil'] = creation_data['pupilDiameter'] - creation_data['pupil_lum_base']\n",
    "    \n",
    "    return creation_data, total_time"
   ]
  },
  {
   "cell_type": "code",
   "execution_count": 18,
   "metadata": {},
   "outputs": [],
   "source": [
    "def process_creation_stats(stream_df):\n",
    "\n",
    "    group = stream_df['CreationStream'].groupby(['ModelID', 'MethodID'])\n",
    "    creation_counts  = []\n",
    "\n",
    "    for i in range(4):\n",
    "            for j in range(0,2):\n",
    "                trial = group.get_group((i,j))\n",
    "                creation_counts.append(trial.groupby('EventType', observed=False).size().fillna(0))\n",
    "    \n",
    "    keys = [(i,j) for i in range(4) for j in range(0,2)]\n",
    "    creation_stats = pd.concat(creation_counts, axis=0, keys=keys, names=['ModelID', 'MethodID']).unstack(level=2)\n",
    "    creation_stats = creation_stats.drop(columns=['End', 'Start'])\n",
    "    return creation_stats"
   ]
  },
  {
   "cell_type": "code",
   "execution_count": 19,
   "metadata": {},
   "outputs": [],
   "source": [
    "def process_target_trial_data_crt(stream_df):\n",
    "    target_set = stream_df['ExperimentStream'].loc[\n",
    "        (stream_df['ExperimentStream']['EventType'] == 'TargetPointsSet') | \n",
    "        (stream_df['ExperimentStream']['EventType'] == 'SceneLoaded') & \n",
    "        (stream_df['ExperimentStream']['SceneEvent'] != 'Calibration') & \n",
    "        (stream_df['ExperimentStream']['MethodID'] != 2) & \n",
    "        (stream_df['ExperimentStream']['MethodID'] != 3), ['SceneEvent', 'EventType', 'ModelID', 'MethodID']]\n",
    "\n",
    "    generic_idx = np.where(target_set['ModelID'] == 99)[0]\n",
    "    idx = [x+1 for x in generic_idx]\n",
    "\n",
    "    for i in range(len(generic_idx)):\n",
    "        target_set.loc[target_set.index[generic_idx[i]], 'ModelID']  = target_set.loc[target_set.index[idx[i]], 'ModelID']\n",
    "        target_set.loc[target_set.index[generic_idx[i]], 'MethodID']  = target_set.loc[target_set.index[idx[i]], 'MethodID']\n",
    "\n",
    "    target_set = target_set.loc[(target_set['ModelID'] < 4) & (target_set['EventType'] == 'TargetPointsSet'), ['SceneEvent', 'ModelID', 'MethodID']]\n",
    "\n",
    "    target_set['SceneEvent'] = target_set.mask(target_set['SceneEvent'] == 'TargetsLoaded_Set1', target_cats.categories[0])['SceneEvent']\n",
    "    target_set['SceneEvent'] = target_set.mask(target_set['SceneEvent'] == 'TargetsLoaded_Set2', target_cats.categories[1])['SceneEvent']\n",
    "\n",
    "    target_set['targetID'] = target_set['SceneEvent']\n",
    "    target_set.drop(columns=['SceneEvent'], inplace=True)\n",
    "\n",
    "    return target_set\n"
   ]
  },
  {
   "cell_type": "code",
   "execution_count": 20,
   "metadata": {},
   "outputs": [],
   "source": [
    "def process_target_trial_data_nav(stream_df, target_set_group):\n",
    "    target_set = stream_df['NavigationStream'].loc[(stream_df['NavigationStream']['ModelID'] < 4), ['model_source', 'ModelID', 'MethodID']]\n",
    "\n",
    "    groups = target_set.groupby(['ModelID', 'MethodID'])\n",
    "\n",
    "    target_set['creation_method'] = '-1'\n",
    "    target_set['target_set_source'] = '-1'\n",
    "\n",
    "    target_trials = []\n",
    "\n",
    "    for i in range(4):\n",
    "        for j in range(2,4):\n",
    "            trial = groups.get_group((i, j))\n",
    "            model_source = trial['model_source'].iloc[0]\n",
    "            model_value16 = model_source - 16\n",
    "            method = '-1'\n",
    "            method_id = -1\n",
    "\n",
    "            if model_value16 > 9:\n",
    "                method = 'bimanual'\n",
    "                method_id = 1\n",
    "            else:\n",
    "                method = 'unimanual'\n",
    "                method_id = 0\n",
    "\n",
    "            trial.loc[:, 'creation_method'] = method\n",
    "\n",
    "            model_i = trial['ModelID'].iloc[0]\n",
    "            group = target_set_group.get_group((int(model_i),int(method_id)))\n",
    "\n",
    "            target = group['targetID'].iloc[0]\n",
    "            trial.loc[:, 'target_set_source'] = target\n",
    "            target_trials.append(trial.iloc[:1])\n",
    "\n",
    "    target_set = pd.concat(target_trials)\n",
    "\n",
    "    target_set['creation_method'] = target_set['creation_method'].astype('string').astype(method_cats)\n",
    "    target_set['target_set_source'] = target_set['target_set_source'].astype('string').astype(target_cats)\n",
    "    target_set.drop(columns=['model_source'], inplace=True)\n",
    "    target_set.reset_index(drop=True, inplace=True)\n",
    "\n",
    "    return target_set"
   ]
  },
  {
   "cell_type": "code",
   "execution_count": 21,
   "metadata": {},
   "outputs": [],
   "source": [
    "def process_discomfort_data(stream_df):\n",
    "    discomfort_values = stream_df['SurveyStream'].loc[stream_df['SurveyStream']['SurveyType'] == 'Discomfort', ['time', 'Value', 'ModelID', 'MethodID']]\n",
    "    discomfort_values['time'] = pd.to_timedelta(discomfort_values['time'], unit='s')\n",
    "    discomfort_values.reset_index(drop=True, inplace=True)\n",
    "    return discomfort_values"
   ]
  },
  {
   "cell_type": "code",
   "execution_count": 22,
   "metadata": {},
   "outputs": [],
   "source": [
    "def process_seq_data(stream_df):\n",
    "    seq_values = stream_df['SurveyStream'].loc[stream_df['SurveyStream']['SurveyType'] == 'SEQ', ['time', 'Value', 'ModelID', 'MethodID']]\n",
    "    seq_values['time'] = pd.to_timedelta(seq_values['time'], unit='s')\n",
    "    seq_values.reset_index(drop=True, inplace=True)\n",
    "    return seq_values"
   ]
  },
  {
   "cell_type": "code",
   "execution_count": 23,
   "metadata": {},
   "outputs": [],
   "source": [
    "def process_ipa_calc(data):\n",
    "    methods = []\n",
    "    models = []\n",
    "    ipa = []\n",
    "    for i in range(8):\n",
    "        methods.append(data.loc[i]['methodID'].iloc[i])\n",
    "        models.append(data.loc[i]['modelID'].iloc[i])\n",
    "        pupil = data.loc[i]['pupilDiameter']\n",
    "        pupil.index = data.loc[i]['time']\n",
    "        ipa.append(ipa_func(pupil))\n",
    "        \n",
    "    return pd.DataFrame({'methodID': methods, 'modelID': models, 'IPA': ipa})"
   ]
  },
  {
   "cell_type": "markdown",
   "metadata": {},
   "source": [
    "## Import Data"
   ]
  },
  {
   "cell_type": "code",
   "execution_count": 24,
   "metadata": {},
   "outputs": [],
   "source": [
    "data_dir = join(getcwd(),'Path_Data')\n",
    "data_files = [join(data_dir, f) for f in listdir(data_dir) if isfile(join(data_dir, f))]"
   ]
  },
  {
   "cell_type": "code",
   "execution_count": 25,
   "metadata": {},
   "outputs": [],
   "source": [
    "dfs = []\n",
    "for file in data_files:\n",
    "    df = import_data(file)\n",
    "    #'LuminanceStream', 'GazeStream', 'NavigationStream', 'CreationStream', 'PoseStream', 'ExperimentStream', 'SurveyStream', 'TrackedPoseStream'\n",
    "    # Remove final empty row from string data streams\n",
    "    df['SurveyStream'] = df['SurveyStream'].replace(r'^\\s*$', np.nan, regex=True).dropna()\n",
    "    df['CreationStream'] = df['CreationStream'].replace(r'^\\s*$', np.nan, regex=True).dropna()\n",
    "    df['ExperimentStream'] = df['ExperimentStream'].replace(r'^\\s*$', np.nan, regex=True).dropna()\n",
    "\n",
    "    df['SurveyStream']['ModelID'] = df['SurveyStream']['ModelID'].astype(float)\n",
    "    df['SurveyStream']['MethodID'] = df['SurveyStream']['MethodID'].astype(float)\n",
    "    df['SurveyStream']['Value'] = df['SurveyStream']['Value'].astype(float)\n",
    "\n",
    "    df['CreationStream']['ModelID'] = df['CreationStream']['ModelID'].astype(float)\n",
    "    df['CreationStream']['MethodID'] = df['CreationStream']['MethodID'].astype(float)\n",
    "    df['CreationStream']['EventType'] = df['CreationStream']['EventType'].astype(event_cats)\n",
    "\n",
    "    block = int(df['ExperimentStream']['BlockID'][0])\n",
    "    df['GazeStream'] = clean_stream(df['GazeStream'], block, range(4))\n",
    "    df['LuminanceStream'] = clean_stream(df['LuminanceStream'], block, range(4))\n",
    "    df['NavigationStream'] = clean_stream(df['NavigationStream'], block, range(2,4))\n",
    "    df['CreationStream'] = clean_stream(df['CreationStream'], block, range(2))\n",
    "    df['PoseStream'] = clean_stream(df['PoseStream'], block, range(4))\n",
    "    df['SurveyStream'] = clean_stream(df['SurveyStream'], block, range(4))\n",
    "    df['TrackedPoseStream'] = clean_stream(df['TrackedPoseStream'], block, range(4))\n",
    "    df['ExperimentStream'] = clean_stream(df['ExperimentStream'], block, range(4))\n",
    "    dfs.append(df)"
   ]
  },
  {
   "cell_type": "markdown",
   "metadata": {},
   "source": [
    "## Process Data"
   ]
  },
  {
   "cell_type": "code",
   "execution_count": 26,
   "metadata": {},
   "outputs": [],
   "source": [
    "user_dfs_nav = []\n",
    "user_dfs_crt = []\n",
    "ids = []\n",
    "blocks = []\n",
    "\n",
    "for df in dfs:\n",
    "    id = df['ExperimentStream']['UserID'][0]\n",
    "    block = df['ExperimentStream']['BlockID'][0]\n",
    "    ids.append(id)\n",
    "    blocks.append(block)\n",
    "\n",
    "    pupil_lum_df = process_gaze_luminance_data(df)\n",
    "    calibration_data = process_calibration_data(pupil_lum_df, df)\n",
    "\n",
    "    # Fit pupil response to luminance\n",
    "    x_data = calibration_data['luminance']\n",
    "    y_data = calibration_data['pupilDiameter']\n",
    "    exp_mod = Model(pupil_func)\n",
    "    params = exp_mod.make_params(a=1, b=4, c=0)\n",
    "    result = exp_mod.fit(y_data, params, x=x_data)\n",
    "    a = result.params['a'].value\n",
    "    b = result.params['b'].value\n",
    "    c = result.params['c'].value\n",
    "\n",
    "    navigation_data, nav_time = process_navigation_data(pupil_lum_df, df, a, b, c)\n",
    "    ipa_calc_nav = process_ipa_calc(navigation_data)\n",
    "    creation_data, crt_time = process_creation_data(pupil_lum_df, df, a, b, c)\n",
    "    ipa_calc_crt = process_ipa_calc(creation_data)\n",
    "    creation_stats = process_creation_stats(df)\n",
    "    discomfort = process_discomfort_data(df)\n",
    "    seq = process_seq_data(df)\n",
    "\n",
    "    creation_target_trials = process_target_trial_data_crt(df)\n",
    "    crt_target_trials = creation_target_trials.groupby(['ModelID', 'MethodID'])\n",
    "    navigation_target_trials = process_target_trial_data_nav(df, crt_target_trials)\n",
    "    nav_target_trials = navigation_target_trials.groupby(['ModelID', 'MethodID'])\n",
    "\n",
    "    nav_trials = navigation_data.groupby(['modelID', 'methodID'])\n",
    "    ipa_nav_trials = ipa_calc_nav.groupby(['modelID', 'methodID'])\n",
    "    crt_trials = creation_data.groupby(['modelID', 'methodID'])\n",
    "    ipa_crt_trials = ipa_calc_crt.groupby(['modelID', 'methodID'])\n",
    "    discomfort_trials = discomfort.groupby(['ModelID', 'MethodID'])\n",
    "    seq_trials = seq.groupby(['ModelID', 'MethodID'])\n",
    "    \n",
    "    nav_data = {}\n",
    "    nav_total_time = {}\n",
    "    ipa_nav_data = {}\n",
    "    crt_data = {}\n",
    "    crt_total_time = {}\n",
    "    ipa_crt_data = {}\n",
    "    discomfort_data = {}\n",
    "    seq_crt = {}\n",
    "    seq_nav = {}\n",
    "    target_data_crt = {}\n",
    "    target_data_nav = {}\n",
    "    creation_data_nav = {}\n",
    "\n",
    "    for i in range(4):\n",
    "        for j in range(2,4):\n",
    "            nav_data[(id, block, i, j)] = nav_trials.get_group((i,j)).mean()\n",
    "            nav_total_time[(id, block, i, j)] = nav_time[(2*i + (j-2))]\n",
    "            ipa_nav_data[(id, block, i, j)] = ipa_nav_trials.get_group((i,j)).mean()\n",
    "            discomfort_data[(id, block, i, j)] = discomfort_trials.get_group((i,j)).mean()\n",
    "            seq_nav[(id, block, i, j)] = seq_trials.get_group((i,j)).mean()\n",
    "            target_data_nav[(id, block, i, j)] = nav_target_trials.get_group((i,j))['target_set_source'].iloc[0]\n",
    "            creation_data_nav[(id, block, i, j)] = nav_target_trials.get_group((i,j))['creation_method'].iloc[0]\n",
    "    \n",
    "    for i in range(4):\n",
    "        for j in range(0,2):\n",
    "            crt_data[(id, block, i, j)] = crt_trials.get_group((i,j)).mean()\n",
    "            crt_total_time[(id, block, i, j)] = crt_time[(2*i + j)]\n",
    "            ipa_crt_data[(id, block, i, j)] = ipa_crt_trials.get_group((i,j)).mean()\n",
    "            seq_crt[(id, block, i, j)] = seq_trials.get_group((i,j)).mean()\n",
    "            target_data_crt[(id, block, i, j)] = crt_target_trials.get_group((i,j))['targetID'].iloc[0]\n",
    "    \n",
    "    nav_index = pd.MultiIndex.from_product([[id], [block], model_cats.categories, method_cats.categories[0:2]], names=data_names)\n",
    "    crt_index = pd.MultiIndex.from_product([[id], [block], model_cats.categories, method_cats.categories[2:4]], names=data_names)\n",
    "\n",
    "    nav_data = pd.concat(nav_data, axis=1, names=data_names).T\n",
    "    nav_data['total_time'] = nav_total_time\n",
    "    nav_data['target_source'] = target_data_nav\n",
    "    nav_data['creation_method'] = creation_data_nav\n",
    "    nav_data.index = nav_index\n",
    "    nav_data.drop(columns=['time', 'modelID', 'methodID'], inplace=True)\n",
    "    \n",
    "    crt_data = pd.concat(crt_data, axis=1, names=data_names).T\n",
    "    crt_data['total_time'] = crt_total_time\n",
    "    crt_data['target_id'] = target_data_crt\n",
    "    crt_data.index = crt_index\n",
    "    crt_data.drop(columns=['time', 'modelID', 'methodID'], inplace=True)\n",
    "\n",
    "    creation_stats.index = crt_index\n",
    "\n",
    "    ipa_nav_data = pd.concat(ipa_nav_data, axis=1, names=data_names).T\n",
    "    ipa_nav_data.index = nav_index\n",
    "    ipa_nav_data.drop(columns=['modelID', 'methodID'], inplace=True)\n",
    "\n",
    "    ipa_crt_data = pd.concat(ipa_crt_data, axis=1, names=data_names).T\n",
    "    ipa_crt_data.index = crt_index\n",
    "    ipa_crt_data.drop(columns=['modelID', 'methodID'], inplace=True)\n",
    "\n",
    "    discomfort_data = pd.concat(discomfort_data, axis=1, names=data_names).T\n",
    "    discomfort_data.index = nav_index\n",
    "    discomfort_data['discomfort'] = discomfort_data['Value']\n",
    "    discomfort_data.drop(columns=['time', 'ModelID', 'MethodID', 'Value'], inplace=True)\n",
    "\n",
    "    seq_nav = pd.concat(seq_nav, axis=1, names=data_names).T\n",
    "    seq_nav.index = nav_index\n",
    "    seq_nav['seq'] = seq_nav['Value']\n",
    "    seq_nav.drop(columns=['time', 'ModelID', 'MethodID', 'Value'], inplace=True)\n",
    "\n",
    "    seq_crt = pd.concat(seq_crt, axis=1, names=data_names).T\n",
    "    seq_crt.index = crt_index\n",
    "    seq_crt['seq'] = seq_crt['Value']\n",
    "    seq_crt.drop(columns=['time', 'ModelID', 'MethodID', 'Value'], inplace=True)\n",
    "\n",
    "    df_crt = pd.concat([crt_data, ipa_crt_data, seq_crt, creation_stats], axis=0).stack().unstack()\n",
    "    df_crt.loc[(slice(None), slice(None), slice(None), slice(None)), ('Draw', 'Erase', 'PointPlaced', 'Move', 'PointDeleted')] = df_crt.loc[(slice(None), slice(None), slice(None), slice(None)), ('Draw', 'Erase', 'PointPlaced', 'Move', 'PointDeleted')].astype(int)\n",
    "    df_crt.loc[(slice(None), slice(None), slice(None), 'unimanual'), ('Draw', 'Erase')] = df_crt.loc[(slice(None), slice(None), slice(None), 'unimanual'), ('Draw', 'Erase')].astype(int).fillna(0)\n",
    "    df_crt.loc[(slice(None), slice(None), slice(None), 'bimanual'), ('PointPlaced', 'Move', 'PointDeleted')] = df_crt.loc[(slice(None), slice(None), slice(None), 'bimanual'), ('PointPlaced', 'Move', 'PointDeleted')].astype(int).fillna(0)\n",
    "\n",
    "    df_nav = pd.concat([nav_data, ipa_nav_data, discomfort_data, seq_nav], axis=0).stack().unstack()\n",
    "\n",
    "    user_dfs_nav.append(df_nav)\n",
    "    user_dfs_crt.append(df_crt)\n"
   ]
  },
  {
   "cell_type": "code",
   "execution_count": 27,
   "metadata": {},
   "outputs": [],
   "source": [
    "user_data_nav = pd.concat(user_dfs_nav)\n",
    "nav_dtype = {'luminance': 'float64', 'pupilDiameter': 'float64', 'pupil_lum_base': 'float64', 'adj_pupil': 'float64', 'IPA': 'float64', 'discomfort': 'int32', 'seq': 'int32', 'total_time': 'float64'}\n",
    "user_data_nav = user_data_nav.astype(nav_dtype)\n",
    "\n",
    "short_nav = user_data_nav['total_time'] < 10\n",
    "user_data_nav = user_data_nav[~short_nav]\n",
    "\n",
    "user_data_crt = pd.concat(user_dfs_crt)\n",
    "crt_dtype = {'luminance' : 'float64', 'pupilDiameter' : 'float64', 'pupil_lum_base' : 'float64', 'adj_pupil' : 'float64', 'IPA' : 'float64', 'seq' : 'int32', 'PointPlaced' : 'int32', 'Move' : 'int32', 'Draw' : 'int32', 'Erase' : 'int32', 'PointDeleted' : 'int32', 'total_time': 'float64'}\n",
    "user_data_crt = user_data_crt.astype(crt_dtype)\n",
    "\n",
    "short_crt = user_data_crt['total_time'] < 10\n",
    "user_data_crt = user_data_crt[~short_crt]"
   ]
  },
  {
   "cell_type": "code",
   "execution_count": 28,
   "metadata": {},
   "outputs": [
    {
     "data": {
      "text/html": [
       "<div>\n",
       "<style scoped>\n",
       "    .dataframe tbody tr th:only-of-type {\n",
       "        vertical-align: middle;\n",
       "    }\n",
       "\n",
       "    .dataframe tbody tr th {\n",
       "        vertical-align: top;\n",
       "    }\n",
       "\n",
       "    .dataframe thead th {\n",
       "        text-align: right;\n",
       "    }\n",
       "</style>\n",
       "<table border=\"1\" class=\"dataframe\">\n",
       "  <thead>\n",
       "    <tr style=\"text-align: right;\">\n",
       "      <th></th>\n",
       "      <th></th>\n",
       "      <th></th>\n",
       "      <th></th>\n",
       "      <th>trial_id</th>\n",
       "      <th>luminance</th>\n",
       "      <th>pupilDiameter</th>\n",
       "      <th>pupil_lum_base</th>\n",
       "      <th>adj_pupil</th>\n",
       "      <th>total_time</th>\n",
       "      <th>target_source</th>\n",
       "      <th>creation_method</th>\n",
       "      <th>IPA</th>\n",
       "      <th>discomfort</th>\n",
       "      <th>seq</th>\n",
       "    </tr>\n",
       "    <tr>\n",
       "      <th>id</th>\n",
       "      <th>block</th>\n",
       "      <th>model</th>\n",
       "      <th>method</th>\n",
       "      <th></th>\n",
       "      <th></th>\n",
       "      <th></th>\n",
       "      <th></th>\n",
       "      <th></th>\n",
       "      <th></th>\n",
       "      <th></th>\n",
       "      <th></th>\n",
       "      <th></th>\n",
       "      <th></th>\n",
       "      <th></th>\n",
       "    </tr>\n",
       "  </thead>\n",
       "  <tbody>\n",
       "    <tr>\n",
       "      <th rowspan=\"5\" valign=\"top\">108</th>\n",
       "      <th rowspan=\"5\" valign=\"top\">0</th>\n",
       "      <th rowspan=\"2\" valign=\"top\">A</th>\n",
       "      <th>4DoF</th>\n",
       "      <td>3.0</td>\n",
       "      <td>0.224356</td>\n",
       "      <td>4.866458</td>\n",
       "      <td>3.831577</td>\n",
       "      <td>1.034881</td>\n",
       "      <td>37.0822</td>\n",
       "      <td>1</td>\n",
       "      <td>unimanual</td>\n",
       "      <td>0.242846</td>\n",
       "      <td>2</td>\n",
       "      <td>0</td>\n",
       "    </tr>\n",
       "    <tr>\n",
       "      <th>6DoF</th>\n",
       "      <td>1.0</td>\n",
       "      <td>0.225511</td>\n",
       "      <td>4.359483</td>\n",
       "      <td>3.829147</td>\n",
       "      <td>0.530336</td>\n",
       "      <td>61.0043</td>\n",
       "      <td>2</td>\n",
       "      <td>bimanual</td>\n",
       "      <td>0.098389</td>\n",
       "      <td>1</td>\n",
       "      <td>0</td>\n",
       "    </tr>\n",
       "    <tr>\n",
       "      <th rowspan=\"2\" valign=\"top\">B</th>\n",
       "      <th>4DoF</th>\n",
       "      <td>2.0</td>\n",
       "      <td>0.242239</td>\n",
       "      <td>4.650883</td>\n",
       "      <td>3.771303</td>\n",
       "      <td>0.879580</td>\n",
       "      <td>67.7005</td>\n",
       "      <td>1</td>\n",
       "      <td>unimanual</td>\n",
       "      <td>0.147757</td>\n",
       "      <td>1</td>\n",
       "      <td>0</td>\n",
       "    </tr>\n",
       "    <tr>\n",
       "      <th>6DoF</th>\n",
       "      <td>3.0</td>\n",
       "      <td>0.256185</td>\n",
       "      <td>4.437137</td>\n",
       "      <td>3.746679</td>\n",
       "      <td>0.690458</td>\n",
       "      <td>96.4316</td>\n",
       "      <td>2</td>\n",
       "      <td>bimanual</td>\n",
       "      <td>0.197076</td>\n",
       "      <td>1</td>\n",
       "      <td>0</td>\n",
       "    </tr>\n",
       "    <tr>\n",
       "      <th>C</th>\n",
       "      <th>4DoF</th>\n",
       "      <td>0.0</td>\n",
       "      <td>0.223505</td>\n",
       "      <td>4.658904</td>\n",
       "      <td>3.852900</td>\n",
       "      <td>0.806004</td>\n",
       "      <td>88.0356</td>\n",
       "      <td>1</td>\n",
       "      <td>unimanual</td>\n",
       "      <td>0.227236</td>\n",
       "      <td>1</td>\n",
       "      <td>1</td>\n",
       "    </tr>\n",
       "    <tr>\n",
       "      <th>...</th>\n",
       "      <th>...</th>\n",
       "      <th>...</th>\n",
       "      <th>...</th>\n",
       "      <td>...</td>\n",
       "      <td>...</td>\n",
       "      <td>...</td>\n",
       "      <td>...</td>\n",
       "      <td>...</td>\n",
       "      <td>...</td>\n",
       "      <td>...</td>\n",
       "      <td>...</td>\n",
       "      <td>...</td>\n",
       "      <td>...</td>\n",
       "      <td>...</td>\n",
       "    </tr>\n",
       "    <tr>\n",
       "      <th rowspan=\"5\" valign=\"top\">142</th>\n",
       "      <th rowspan=\"5\" valign=\"top\">2</th>\n",
       "      <th>B</th>\n",
       "      <th>6DoF</th>\n",
       "      <td>0.0</td>\n",
       "      <td>0.241266</td>\n",
       "      <td>4.278475</td>\n",
       "      <td>4.030461</td>\n",
       "      <td>0.248014</td>\n",
       "      <td>63.9009</td>\n",
       "      <td>1</td>\n",
       "      <td>bimanual</td>\n",
       "      <td>0.219160</td>\n",
       "      <td>8</td>\n",
       "      <td>2</td>\n",
       "    </tr>\n",
       "    <tr>\n",
       "      <th rowspan=\"2\" valign=\"top\">C</th>\n",
       "      <th>4DoF</th>\n",
       "      <td>3.0</td>\n",
       "      <td>0.216289</td>\n",
       "      <td>4.107276</td>\n",
       "      <td>4.072612</td>\n",
       "      <td>0.034664</td>\n",
       "      <td>53.5856</td>\n",
       "      <td>2</td>\n",
       "      <td>unimanual</td>\n",
       "      <td>0.186697</td>\n",
       "      <td>7</td>\n",
       "      <td>2</td>\n",
       "    </tr>\n",
       "    <tr>\n",
       "      <th>6DoF</th>\n",
       "      <td>1.0</td>\n",
       "      <td>0.237670</td>\n",
       "      <td>4.267001</td>\n",
       "      <td>4.026107</td>\n",
       "      <td>0.240894</td>\n",
       "      <td>55.2500</td>\n",
       "      <td>1</td>\n",
       "      <td>bimanual</td>\n",
       "      <td>0.180089</td>\n",
       "      <td>8</td>\n",
       "      <td>2</td>\n",
       "    </tr>\n",
       "    <tr>\n",
       "      <th rowspan=\"2\" valign=\"top\">D</th>\n",
       "      <th>4DoF</th>\n",
       "      <td>2.0</td>\n",
       "      <td>0.249396</td>\n",
       "      <td>4.071927</td>\n",
       "      <td>4.000206</td>\n",
       "      <td>0.071722</td>\n",
       "      <td>46.9101</td>\n",
       "      <td>2</td>\n",
       "      <td>unimanual</td>\n",
       "      <td>0.277253</td>\n",
       "      <td>7</td>\n",
       "      <td>2</td>\n",
       "    </tr>\n",
       "    <tr>\n",
       "      <th>6DoF</th>\n",
       "      <td>3.0</td>\n",
       "      <td>0.198579</td>\n",
       "      <td>4.521441</td>\n",
       "      <td>4.111343</td>\n",
       "      <td>0.410098</td>\n",
       "      <td>43.3471</td>\n",
       "      <td>1</td>\n",
       "      <td>bimanual</td>\n",
       "      <td>0.138495</td>\n",
       "      <td>10</td>\n",
       "      <td>2</td>\n",
       "    </tr>\n",
       "  </tbody>\n",
       "</table>\n",
       "<p>230 rows × 11 columns</p>\n",
       "</div>"
      ],
      "text/plain": [
       "                       trial_id  luminance  pupilDiameter  pupil_lum_base  \\\n",
       "id  block model method                                                      \n",
       "108 0     A     4DoF        3.0   0.224356       4.866458        3.831577   \n",
       "                6DoF        1.0   0.225511       4.359483        3.829147   \n",
       "          B     4DoF        2.0   0.242239       4.650883        3.771303   \n",
       "                6DoF        3.0   0.256185       4.437137        3.746679   \n",
       "          C     4DoF        0.0   0.223505       4.658904        3.852900   \n",
       "...                         ...        ...            ...             ...   \n",
       "142 2     B     6DoF        0.0   0.241266       4.278475        4.030461   \n",
       "          C     4DoF        3.0   0.216289       4.107276        4.072612   \n",
       "                6DoF        1.0   0.237670       4.267001        4.026107   \n",
       "          D     4DoF        2.0   0.249396       4.071927        4.000206   \n",
       "                6DoF        3.0   0.198579       4.521441        4.111343   \n",
       "\n",
       "                        adj_pupil  total_time target_source creation_method  \\\n",
       "id  block model method                                                        \n",
       "108 0     A     4DoF     1.034881     37.0822             1       unimanual   \n",
       "                6DoF     0.530336     61.0043             2        bimanual   \n",
       "          B     4DoF     0.879580     67.7005             1       unimanual   \n",
       "                6DoF     0.690458     96.4316             2        bimanual   \n",
       "          C     4DoF     0.806004     88.0356             1       unimanual   \n",
       "...                           ...         ...           ...             ...   \n",
       "142 2     B     6DoF     0.248014     63.9009             1        bimanual   \n",
       "          C     4DoF     0.034664     53.5856             2       unimanual   \n",
       "                6DoF     0.240894     55.2500             1        bimanual   \n",
       "          D     4DoF     0.071722     46.9101             2       unimanual   \n",
       "                6DoF     0.410098     43.3471             1        bimanual   \n",
       "\n",
       "                             IPA  discomfort  seq  \n",
       "id  block model method                             \n",
       "108 0     A     4DoF    0.242846           2    0  \n",
       "                6DoF    0.098389           1    0  \n",
       "          B     4DoF    0.147757           1    0  \n",
       "                6DoF    0.197076           1    0  \n",
       "          C     4DoF    0.227236           1    1  \n",
       "...                          ...         ...  ...  \n",
       "142 2     B     6DoF    0.219160           8    2  \n",
       "          C     4DoF    0.186697           7    2  \n",
       "                6DoF    0.180089           8    2  \n",
       "          D     4DoF    0.277253           7    2  \n",
       "                6DoF    0.138495          10    2  \n",
       "\n",
       "[230 rows x 11 columns]"
      ]
     },
     "execution_count": 28,
     "metadata": {},
     "output_type": "execute_result"
    }
   ],
   "source": [
    "user_data_nav"
   ]
  },
  {
   "cell_type": "code",
   "execution_count": 29,
   "metadata": {},
   "outputs": [
    {
     "data": {
      "text/html": [
       "<div>\n",
       "<style scoped>\n",
       "    .dataframe tbody tr th:only-of-type {\n",
       "        vertical-align: middle;\n",
       "    }\n",
       "\n",
       "    .dataframe tbody tr th {\n",
       "        vertical-align: top;\n",
       "    }\n",
       "\n",
       "    .dataframe thead th {\n",
       "        text-align: right;\n",
       "    }\n",
       "</style>\n",
       "<table border=\"1\" class=\"dataframe\">\n",
       "  <thead>\n",
       "    <tr style=\"text-align: right;\">\n",
       "      <th></th>\n",
       "      <th></th>\n",
       "      <th></th>\n",
       "      <th></th>\n",
       "      <th>trial_id</th>\n",
       "      <th>luminance</th>\n",
       "      <th>pupilDiameter</th>\n",
       "      <th>pupil_lum_base</th>\n",
       "      <th>adj_pupil</th>\n",
       "      <th>total_time</th>\n",
       "      <th>target_id</th>\n",
       "      <th>IPA</th>\n",
       "      <th>seq</th>\n",
       "      <th>PointPlaced</th>\n",
       "      <th>Move</th>\n",
       "      <th>Draw</th>\n",
       "      <th>Erase</th>\n",
       "      <th>PointDeleted</th>\n",
       "    </tr>\n",
       "    <tr>\n",
       "      <th>id</th>\n",
       "      <th>block</th>\n",
       "      <th>model</th>\n",
       "      <th>method</th>\n",
       "      <th></th>\n",
       "      <th></th>\n",
       "      <th></th>\n",
       "      <th></th>\n",
       "      <th></th>\n",
       "      <th></th>\n",
       "      <th></th>\n",
       "      <th></th>\n",
       "      <th></th>\n",
       "      <th></th>\n",
       "      <th></th>\n",
       "      <th></th>\n",
       "      <th></th>\n",
       "      <th></th>\n",
       "    </tr>\n",
       "  </thead>\n",
       "  <tbody>\n",
       "    <tr>\n",
       "      <th rowspan=\"5\" valign=\"top\">108</th>\n",
       "      <th rowspan=\"5\" valign=\"top\">0</th>\n",
       "      <th rowspan=\"2\" valign=\"top\">A</th>\n",
       "      <th>bimanual</th>\n",
       "      <td>2.0</td>\n",
       "      <td>0.280843</td>\n",
       "      <td>4.402825</td>\n",
       "      <td>3.651643</td>\n",
       "      <td>0.751182</td>\n",
       "      <td>98.3030</td>\n",
       "      <td>2</td>\n",
       "      <td>0.111912</td>\n",
       "      <td>1</td>\n",
       "      <td>19</td>\n",
       "      <td>6</td>\n",
       "      <td>0</td>\n",
       "      <td>0</td>\n",
       "      <td>0</td>\n",
       "    </tr>\n",
       "    <tr>\n",
       "      <th>unimanual</th>\n",
       "      <td>0.0</td>\n",
       "      <td>0.259386</td>\n",
       "      <td>5.104381</td>\n",
       "      <td>3.717137</td>\n",
       "      <td>1.387243</td>\n",
       "      <td>62.7652</td>\n",
       "      <td>1</td>\n",
       "      <td>0.107009</td>\n",
       "      <td>2</td>\n",
       "      <td>0</td>\n",
       "      <td>0</td>\n",
       "      <td>4</td>\n",
       "      <td>0</td>\n",
       "      <td>0</td>\n",
       "    </tr>\n",
       "    <tr>\n",
       "      <th rowspan=\"2\" valign=\"top\">B</th>\n",
       "      <th>bimanual</th>\n",
       "      <td>0.0</td>\n",
       "      <td>0.320817</td>\n",
       "      <td>4.189030</td>\n",
       "      <td>3.540984</td>\n",
       "      <td>0.648046</td>\n",
       "      <td>95.2104</td>\n",
       "      <td>2</td>\n",
       "      <td>0.136582</td>\n",
       "      <td>2</td>\n",
       "      <td>17</td>\n",
       "      <td>3</td>\n",
       "      <td>0</td>\n",
       "      <td>0</td>\n",
       "      <td>0</td>\n",
       "    </tr>\n",
       "    <tr>\n",
       "      <th>unimanual</th>\n",
       "      <td>1.0</td>\n",
       "      <td>0.263313</td>\n",
       "      <td>4.835740</td>\n",
       "      <td>3.714536</td>\n",
       "      <td>1.121204</td>\n",
       "      <td>40.4416</td>\n",
       "      <td>1</td>\n",
       "      <td>0.173139</td>\n",
       "      <td>2</td>\n",
       "      <td>0</td>\n",
       "      <td>0</td>\n",
       "      <td>4</td>\n",
       "      <td>0</td>\n",
       "      <td>0</td>\n",
       "    </tr>\n",
       "    <tr>\n",
       "      <th>C</th>\n",
       "      <th>bimanual</th>\n",
       "      <td>1.0</td>\n",
       "      <td>0.237598</td>\n",
       "      <td>4.375924</td>\n",
       "      <td>3.783636</td>\n",
       "      <td>0.592288</td>\n",
       "      <td>36.4409</td>\n",
       "      <td>2</td>\n",
       "      <td>0.247039</td>\n",
       "      <td>1</td>\n",
       "      <td>12</td>\n",
       "      <td>1</td>\n",
       "      <td>0</td>\n",
       "      <td>0</td>\n",
       "      <td>0</td>\n",
       "    </tr>\n",
       "    <tr>\n",
       "      <th>...</th>\n",
       "      <th>...</th>\n",
       "      <th>...</th>\n",
       "      <th>...</th>\n",
       "      <td>...</td>\n",
       "      <td>...</td>\n",
       "      <td>...</td>\n",
       "      <td>...</td>\n",
       "      <td>...</td>\n",
       "      <td>...</td>\n",
       "      <td>...</td>\n",
       "      <td>...</td>\n",
       "      <td>...</td>\n",
       "      <td>...</td>\n",
       "      <td>...</td>\n",
       "      <td>...</td>\n",
       "      <td>...</td>\n",
       "      <td>...</td>\n",
       "    </tr>\n",
       "    <tr>\n",
       "      <th rowspan=\"5\" valign=\"top\">142</th>\n",
       "      <th rowspan=\"5\" valign=\"top\">2</th>\n",
       "      <th>B</th>\n",
       "      <th>unimanual</th>\n",
       "      <td>3.0</td>\n",
       "      <td>0.261689</td>\n",
       "      <td>4.225239</td>\n",
       "      <td>3.983081</td>\n",
       "      <td>0.242158</td>\n",
       "      <td>34.7130</td>\n",
       "      <td>2</td>\n",
       "      <td>0.205720</td>\n",
       "      <td>1</td>\n",
       "      <td>0</td>\n",
       "      <td>0</td>\n",
       "      <td>3</td>\n",
       "      <td>0</td>\n",
       "      <td>0</td>\n",
       "    </tr>\n",
       "    <tr>\n",
       "      <th rowspan=\"2\" valign=\"top\">C</th>\n",
       "      <th>bimanual</th>\n",
       "      <td>0.0</td>\n",
       "      <td>0.287916</td>\n",
       "      <td>4.414107</td>\n",
       "      <td>3.938160</td>\n",
       "      <td>0.475947</td>\n",
       "      <td>34.3916</td>\n",
       "      <td>1</td>\n",
       "      <td>0.209056</td>\n",
       "      <td>1</td>\n",
       "      <td>5</td>\n",
       "      <td>0</td>\n",
       "      <td>0</td>\n",
       "      <td>0</td>\n",
       "      <td>0</td>\n",
       "    </tr>\n",
       "    <tr>\n",
       "      <th>unimanual</th>\n",
       "      <td>2.0</td>\n",
       "      <td>0.248279</td>\n",
       "      <td>4.484850</td>\n",
       "      <td>4.018926</td>\n",
       "      <td>0.465925</td>\n",
       "      <td>23.4802</td>\n",
       "      <td>2</td>\n",
       "      <td>0.127818</td>\n",
       "      <td>1</td>\n",
       "      <td>0</td>\n",
       "      <td>0</td>\n",
       "      <td>1</td>\n",
       "      <td>0</td>\n",
       "      <td>0</td>\n",
       "    </tr>\n",
       "    <tr>\n",
       "      <th rowspan=\"2\" valign=\"top\">D</th>\n",
       "      <th>bimanual</th>\n",
       "      <td>1.0</td>\n",
       "      <td>0.277827</td>\n",
       "      <td>4.271612</td>\n",
       "      <td>3.957569</td>\n",
       "      <td>0.314043</td>\n",
       "      <td>33.8441</td>\n",
       "      <td>1</td>\n",
       "      <td>0.182705</td>\n",
       "      <td>1</td>\n",
       "      <td>5</td>\n",
       "      <td>0</td>\n",
       "      <td>0</td>\n",
       "      <td>0</td>\n",
       "      <td>0</td>\n",
       "    </tr>\n",
       "    <tr>\n",
       "      <th>unimanual</th>\n",
       "      <td>0.0</td>\n",
       "      <td>0.196008</td>\n",
       "      <td>4.549981</td>\n",
       "      <td>4.118524</td>\n",
       "      <td>0.431456</td>\n",
       "      <td>20.9297</td>\n",
       "      <td>2</td>\n",
       "      <td>0.149990</td>\n",
       "      <td>1</td>\n",
       "      <td>0</td>\n",
       "      <td>0</td>\n",
       "      <td>1</td>\n",
       "      <td>0</td>\n",
       "      <td>0</td>\n",
       "    </tr>\n",
       "  </tbody>\n",
       "</table>\n",
       "<p>232 rows × 14 columns</p>\n",
       "</div>"
      ],
      "text/plain": [
       "                          trial_id  luminance  pupilDiameter  pupil_lum_base  \\\n",
       "id  block model method                                                         \n",
       "108 0     A     bimanual       2.0   0.280843       4.402825        3.651643   \n",
       "                unimanual      0.0   0.259386       5.104381        3.717137   \n",
       "          B     bimanual       0.0   0.320817       4.189030        3.540984   \n",
       "                unimanual      1.0   0.263313       4.835740        3.714536   \n",
       "          C     bimanual       1.0   0.237598       4.375924        3.783636   \n",
       "...                            ...        ...            ...             ...   \n",
       "142 2     B     unimanual      3.0   0.261689       4.225239        3.983081   \n",
       "          C     bimanual       0.0   0.287916       4.414107        3.938160   \n",
       "                unimanual      2.0   0.248279       4.484850        4.018926   \n",
       "          D     bimanual       1.0   0.277827       4.271612        3.957569   \n",
       "                unimanual      0.0   0.196008       4.549981        4.118524   \n",
       "\n",
       "                           adj_pupil  total_time target_id       IPA  seq  \\\n",
       "id  block model method                                                      \n",
       "108 0     A     bimanual    0.751182     98.3030         2  0.111912    1   \n",
       "                unimanual   1.387243     62.7652         1  0.107009    2   \n",
       "          B     bimanual    0.648046     95.2104         2  0.136582    2   \n",
       "                unimanual   1.121204     40.4416         1  0.173139    2   \n",
       "          C     bimanual    0.592288     36.4409         2  0.247039    1   \n",
       "...                              ...         ...       ...       ...  ...   \n",
       "142 2     B     unimanual   0.242158     34.7130         2  0.205720    1   \n",
       "          C     bimanual    0.475947     34.3916         1  0.209056    1   \n",
       "                unimanual   0.465925     23.4802         2  0.127818    1   \n",
       "          D     bimanual    0.314043     33.8441         1  0.182705    1   \n",
       "                unimanual   0.431456     20.9297         2  0.149990    1   \n",
       "\n",
       "                           PointPlaced  Move  Draw  Erase  PointDeleted  \n",
       "id  block model method                                                   \n",
       "108 0     A     bimanual            19     6     0      0             0  \n",
       "                unimanual            0     0     4      0             0  \n",
       "          B     bimanual            17     3     0      0             0  \n",
       "                unimanual            0     0     4      0             0  \n",
       "          C     bimanual            12     1     0      0             0  \n",
       "...                                ...   ...   ...    ...           ...  \n",
       "142 2     B     unimanual            0     0     3      0             0  \n",
       "          C     bimanual             5     0     0      0             0  \n",
       "                unimanual            0     0     1      0             0  \n",
       "          D     bimanual             5     0     0      0             0  \n",
       "                unimanual            0     0     1      0             0  \n",
       "\n",
       "[232 rows x 14 columns]"
      ]
     },
     "execution_count": 29,
     "metadata": {},
     "output_type": "execute_result"
    }
   ],
   "source": [
    "user_data_crt"
   ]
  },
  {
   "cell_type": "markdown",
   "metadata": {},
   "source": [
    "## Navigation Linear Mixed Models"
   ]
  },
  {
   "cell_type": "code",
   "execution_count": 30,
   "metadata": {},
   "outputs": [
    {
     "data": {
      "text/html": [
       "<div>\n",
       "<style scoped>\n",
       "    .dataframe tbody tr th:only-of-type {\n",
       "        vertical-align: middle;\n",
       "    }\n",
       "\n",
       "    .dataframe tbody tr th {\n",
       "        vertical-align: top;\n",
       "    }\n",
       "\n",
       "    .dataframe thead th {\n",
       "        text-align: right;\n",
       "    }\n",
       "</style>\n",
       "<table border=\"1\" class=\"dataframe\">\n",
       "  <thead>\n",
       "    <tr style=\"text-align: right;\">\n",
       "      <th></th>\n",
       "      <th>id</th>\n",
       "      <th>block</th>\n",
       "      <th>model</th>\n",
       "      <th>method</th>\n",
       "      <th>trial_id</th>\n",
       "      <th>luminance</th>\n",
       "      <th>pupilDiameter</th>\n",
       "      <th>pupil_lum_base</th>\n",
       "      <th>adj_pupil</th>\n",
       "      <th>total_time</th>\n",
       "      <th>target_source</th>\n",
       "      <th>creation_method</th>\n",
       "      <th>IPA</th>\n",
       "      <th>discomfort</th>\n",
       "      <th>seq</th>\n",
       "      <th>scaled_tepr</th>\n",
       "      <th>scaled_ipa</th>\n",
       "      <th>scaled_time</th>\n",
       "      <th>scaled_seq</th>\n",
       "      <th>scaled_discomfort</th>\n",
       "    </tr>\n",
       "  </thead>\n",
       "  <tbody>\n",
       "    <tr>\n",
       "      <th>0</th>\n",
       "      <td>108</td>\n",
       "      <td>0</td>\n",
       "      <td>0</td>\n",
       "      <td>0</td>\n",
       "      <td>3</td>\n",
       "      <td>0.22436</td>\n",
       "      <td>4.86646</td>\n",
       "      <td>3.83158</td>\n",
       "      <td>1.03488</td>\n",
       "      <td>37.08220</td>\n",
       "      <td>1</td>\n",
       "      <td>2</td>\n",
       "      <td>0.24285</td>\n",
       "      <td>2</td>\n",
       "      <td>0</td>\n",
       "      <td>2.02481</td>\n",
       "      <td>1.24010</td>\n",
       "      <td>-1.16453</td>\n",
       "      <td>-0.79368</td>\n",
       "      <td>-0.17343</td>\n",
       "    </tr>\n",
       "    <tr>\n",
       "      <th>1</th>\n",
       "      <td>108</td>\n",
       "      <td>0</td>\n",
       "      <td>0</td>\n",
       "      <td>1</td>\n",
       "      <td>1</td>\n",
       "      <td>0.22551</td>\n",
       "      <td>4.35948</td>\n",
       "      <td>3.82915</td>\n",
       "      <td>0.53034</td>\n",
       "      <td>61.00430</td>\n",
       "      <td>2</td>\n",
       "      <td>3</td>\n",
       "      <td>0.09839</td>\n",
       "      <td>1</td>\n",
       "      <td>0</td>\n",
       "      <td>0.27781</td>\n",
       "      <td>-1.36363</td>\n",
       "      <td>-0.17131</td>\n",
       "      <td>-0.79368</td>\n",
       "      <td>-0.56836</td>\n",
       "    </tr>\n",
       "    <tr>\n",
       "      <th>2</th>\n",
       "      <td>108</td>\n",
       "      <td>0</td>\n",
       "      <td>1</td>\n",
       "      <td>0</td>\n",
       "      <td>2</td>\n",
       "      <td>0.24224</td>\n",
       "      <td>4.65088</td>\n",
       "      <td>3.77130</td>\n",
       "      <td>0.87958</td>\n",
       "      <td>67.70050</td>\n",
       "      <td>1</td>\n",
       "      <td>2</td>\n",
       "      <td>0.14776</td>\n",
       "      <td>1</td>\n",
       "      <td>0</td>\n",
       "      <td>1.48707</td>\n",
       "      <td>-0.47382</td>\n",
       "      <td>0.10671</td>\n",
       "      <td>-0.79368</td>\n",
       "      <td>-0.56836</td>\n",
       "    </tr>\n",
       "    <tr>\n",
       "      <th>3</th>\n",
       "      <td>108</td>\n",
       "      <td>0</td>\n",
       "      <td>1</td>\n",
       "      <td>1</td>\n",
       "      <td>3</td>\n",
       "      <td>0.25618</td>\n",
       "      <td>4.43714</td>\n",
       "      <td>3.74668</td>\n",
       "      <td>0.69046</td>\n",
       "      <td>96.43160</td>\n",
       "      <td>2</td>\n",
       "      <td>3</td>\n",
       "      <td>0.19708</td>\n",
       "      <td>1</td>\n",
       "      <td>0</td>\n",
       "      <td>0.83223</td>\n",
       "      <td>0.41513</td>\n",
       "      <td>1.29960</td>\n",
       "      <td>-0.79368</td>\n",
       "      <td>-0.56836</td>\n",
       "    </tr>\n",
       "    <tr>\n",
       "      <th>4</th>\n",
       "      <td>108</td>\n",
       "      <td>0</td>\n",
       "      <td>2</td>\n",
       "      <td>0</td>\n",
       "      <td>0</td>\n",
       "      <td>0.22350</td>\n",
       "      <td>4.65890</td>\n",
       "      <td>3.85290</td>\n",
       "      <td>0.80600</td>\n",
       "      <td>88.03560</td>\n",
       "      <td>1</td>\n",
       "      <td>2</td>\n",
       "      <td>0.22724</td>\n",
       "      <td>1</td>\n",
       "      <td>1</td>\n",
       "      <td>1.23231</td>\n",
       "      <td>0.95875</td>\n",
       "      <td>0.95101</td>\n",
       "      <td>0.34723</td>\n",
       "      <td>-0.56836</td>\n",
       "    </tr>\n",
       "    <tr>\n",
       "      <th>...</th>\n",
       "      <td>...</td>\n",
       "      <td>...</td>\n",
       "      <td>...</td>\n",
       "      <td>...</td>\n",
       "      <td>...</td>\n",
       "      <td>...</td>\n",
       "      <td>...</td>\n",
       "      <td>...</td>\n",
       "      <td>...</td>\n",
       "      <td>...</td>\n",
       "      <td>...</td>\n",
       "      <td>...</td>\n",
       "      <td>...</td>\n",
       "      <td>...</td>\n",
       "      <td>...</td>\n",
       "      <td>...</td>\n",
       "      <td>...</td>\n",
       "      <td>...</td>\n",
       "      <td>...</td>\n",
       "      <td>...</td>\n",
       "    </tr>\n",
       "    <tr>\n",
       "      <th>225</th>\n",
       "      <td>142</td>\n",
       "      <td>2</td>\n",
       "      <td>1</td>\n",
       "      <td>1</td>\n",
       "      <td>0</td>\n",
       "      <td>0.24127</td>\n",
       "      <td>4.27847</td>\n",
       "      <td>4.03046</td>\n",
       "      <td>0.24801</td>\n",
       "      <td>63.90090</td>\n",
       "      <td>1</td>\n",
       "      <td>3</td>\n",
       "      <td>0.21916</td>\n",
       "      <td>8</td>\n",
       "      <td>2</td>\n",
       "      <td>-0.69974</td>\n",
       "      <td>0.81318</td>\n",
       "      <td>-0.05104</td>\n",
       "      <td>1.48814</td>\n",
       "      <td>2.19615</td>\n",
       "    </tr>\n",
       "    <tr>\n",
       "      <th>226</th>\n",
       "      <td>142</td>\n",
       "      <td>2</td>\n",
       "      <td>2</td>\n",
       "      <td>0</td>\n",
       "      <td>3</td>\n",
       "      <td>0.21629</td>\n",
       "      <td>4.10728</td>\n",
       "      <td>4.07261</td>\n",
       "      <td>0.03466</td>\n",
       "      <td>53.58560</td>\n",
       "      <td>2</td>\n",
       "      <td>2</td>\n",
       "      <td>0.18670</td>\n",
       "      <td>7</td>\n",
       "      <td>2</td>\n",
       "      <td>-1.43847</td>\n",
       "      <td>0.22805</td>\n",
       "      <td>-0.47932</td>\n",
       "      <td>1.48814</td>\n",
       "      <td>1.80122</td>\n",
       "    </tr>\n",
       "    <tr>\n",
       "      <th>227</th>\n",
       "      <td>142</td>\n",
       "      <td>2</td>\n",
       "      <td>2</td>\n",
       "      <td>1</td>\n",
       "      <td>1</td>\n",
       "      <td>0.23767</td>\n",
       "      <td>4.26700</td>\n",
       "      <td>4.02611</td>\n",
       "      <td>0.24089</td>\n",
       "      <td>55.25000</td>\n",
       "      <td>1</td>\n",
       "      <td>3</td>\n",
       "      <td>0.18009</td>\n",
       "      <td>8</td>\n",
       "      <td>2</td>\n",
       "      <td>-0.72439</td>\n",
       "      <td>0.10894</td>\n",
       "      <td>-0.41022</td>\n",
       "      <td>1.48814</td>\n",
       "      <td>2.19615</td>\n",
       "    </tr>\n",
       "    <tr>\n",
       "      <th>228</th>\n",
       "      <td>142</td>\n",
       "      <td>2</td>\n",
       "      <td>3</td>\n",
       "      <td>0</td>\n",
       "      <td>2</td>\n",
       "      <td>0.24940</td>\n",
       "      <td>4.07193</td>\n",
       "      <td>4.00021</td>\n",
       "      <td>0.07172</td>\n",
       "      <td>46.91010</td>\n",
       "      <td>2</td>\n",
       "      <td>2</td>\n",
       "      <td>0.27725</td>\n",
       "      <td>7</td>\n",
       "      <td>2</td>\n",
       "      <td>-1.31016</td>\n",
       "      <td>1.86026</td>\n",
       "      <td>-0.75648</td>\n",
       "      <td>1.48814</td>\n",
       "      <td>1.80122</td>\n",
       "    </tr>\n",
       "    <tr>\n",
       "      <th>229</th>\n",
       "      <td>142</td>\n",
       "      <td>2</td>\n",
       "      <td>3</td>\n",
       "      <td>1</td>\n",
       "      <td>3</td>\n",
       "      <td>0.19858</td>\n",
       "      <td>4.52144</td>\n",
       "      <td>4.11134</td>\n",
       "      <td>0.41010</td>\n",
       "      <td>43.34710</td>\n",
       "      <td>1</td>\n",
       "      <td>3</td>\n",
       "      <td>0.13849</td>\n",
       "      <td>10</td>\n",
       "      <td>2</td>\n",
       "      <td>-0.13852</td>\n",
       "      <td>-0.64075</td>\n",
       "      <td>-0.90442</td>\n",
       "      <td>1.48814</td>\n",
       "      <td>2.98601</td>\n",
       "    </tr>\n",
       "  </tbody>\n",
       "</table>\n",
       "<p>230 rows × 20 columns</p>\n",
       "</div>"
      ],
      "text/plain": [
       "      id  block  model  method  trial_id  luminance  pupilDiameter  \\\n",
       "0    108      0      0       0         3    0.22436        4.86646   \n",
       "1    108      0      0       1         1    0.22551        4.35948   \n",
       "2    108      0      1       0         2    0.24224        4.65088   \n",
       "3    108      0      1       1         3    0.25618        4.43714   \n",
       "4    108      0      2       0         0    0.22350        4.65890   \n",
       "..   ...    ...    ...     ...       ...        ...            ...   \n",
       "225  142      2      1       1         0    0.24127        4.27847   \n",
       "226  142      2      2       0         3    0.21629        4.10728   \n",
       "227  142      2      2       1         1    0.23767        4.26700   \n",
       "228  142      2      3       0         2    0.24940        4.07193   \n",
       "229  142      2      3       1         3    0.19858        4.52144   \n",
       "\n",
       "     pupil_lum_base  adj_pupil  total_time  target_source  creation_method  \\\n",
       "0           3.83158    1.03488    37.08220              1                2   \n",
       "1           3.82915    0.53034    61.00430              2                3   \n",
       "2           3.77130    0.87958    67.70050              1                2   \n",
       "3           3.74668    0.69046    96.43160              2                3   \n",
       "4           3.85290    0.80600    88.03560              1                2   \n",
       "..              ...        ...         ...            ...              ...   \n",
       "225         4.03046    0.24801    63.90090              1                3   \n",
       "226         4.07261    0.03466    53.58560              2                2   \n",
       "227         4.02611    0.24089    55.25000              1                3   \n",
       "228         4.00021    0.07172    46.91010              2                2   \n",
       "229         4.11134    0.41010    43.34710              1                3   \n",
       "\n",
       "        IPA  discomfort  seq  scaled_tepr  scaled_ipa  scaled_time  \\\n",
       "0   0.24285           2    0      2.02481     1.24010     -1.16453   \n",
       "1   0.09839           1    0      0.27781    -1.36363     -0.17131   \n",
       "2   0.14776           1    0      1.48707    -0.47382      0.10671   \n",
       "3   0.19708           1    0      0.83223     0.41513      1.29960   \n",
       "4   0.22724           1    1      1.23231     0.95875      0.95101   \n",
       "..      ...         ...  ...          ...         ...          ...   \n",
       "225 0.21916           8    2     -0.69974     0.81318     -0.05104   \n",
       "226 0.18670           7    2     -1.43847     0.22805     -0.47932   \n",
       "227 0.18009           8    2     -0.72439     0.10894     -0.41022   \n",
       "228 0.27725           7    2     -1.31016     1.86026     -0.75648   \n",
       "229 0.13849          10    2     -0.13852    -0.64075     -0.90442   \n",
       "\n",
       "     scaled_seq  scaled_discomfort  \n",
       "0      -0.79368           -0.17343  \n",
       "1      -0.79368           -0.56836  \n",
       "2      -0.79368           -0.56836  \n",
       "3      -0.79368           -0.56836  \n",
       "4       0.34723           -0.56836  \n",
       "..          ...                ...  \n",
       "225     1.48814            2.19615  \n",
       "226     1.48814            1.80122  \n",
       "227     1.48814            2.19615  \n",
       "228     1.48814            1.80122  \n",
       "229     1.48814            2.98601  \n",
       "\n",
       "[230 rows x 20 columns]"
      ]
     },
     "execution_count": 30,
     "metadata": {},
     "output_type": "execute_result"
    }
   ],
   "source": [
    "mm_nav_data = user_data_nav\n",
    "mm_nav_data = mm_nav_data.reset_index(level=(0,1,2,3))\n",
    "\n",
    "mm_nav_data['block'] = mm_nav_data['block'].astype(block_cats).cat.codes\n",
    "mm_nav_data['method'] = mm_nav_data['method'].astype(method_cats).cat.codes\n",
    "mm_nav_data['model'] = mm_nav_data['model'].astype(model_cats).cat.codes\n",
    "mm_nav_data['creation_method'] = mm_nav_data['creation_method'].astype(method_cats).cat.codes\n",
    "mm_nav_data['target_source'] = mm_nav_data['target_source'].astype(int)\n",
    "mm_nav_data['trial_id'] = mm_nav_data['trial_id'].astype(int)\n",
    "mm_nav_data['scaled_tepr'] = stats.zscore(mm_nav_data['adj_pupil']).astype(float)\n",
    "mm_nav_data['scaled_ipa'] = stats.zscore(mm_nav_data['IPA']).astype(float)\n",
    "mm_nav_data['scaled_time'] = stats.zscore(mm_nav_data['total_time']).astype(float)\n",
    "mm_nav_data['scaled_seq'] = stats.zscore(mm_nav_data['seq']).astype(float)\n",
    "mm_nav_data['scaled_discomfort'] = stats.zscore(mm_nav_data['discomfort']).astype(float)\n",
    "\n",
    "pd.options.display.float_format = '{:.5f}'.format\n",
    "mm_nav_data"
   ]
  },
  {
   "cell_type": "code",
   "execution_count": 31,
   "metadata": {},
   "outputs": [],
   "source": [
    "import plotly.express as px"
   ]
  },
  {
   "cell_type": "code",
   "execution_count": 32,
   "metadata": {},
   "outputs": [
    {
     "data": {
      "application/vnd.plotly.v1+json": {
       "config": {
        "plotlyServerURL": "https://plot.ly"
       },
       "data": [
        {
         "hovertemplate": "model=0<br>id=108<br>trial_id=%{x}<br>IPA=%{y}<br>method=%{marker.color}<extra></extra>",
         "legendgroup": "",
         "marker": {
          "color": [
           0,
           1
          ],
          "coloraxis": "coloraxis",
          "symbol": "circle"
         },
         "mode": "markers",
         "name": "",
         "orientation": "v",
         "showlegend": false,
         "type": "scatter",
         "x": [
          3,
          1
         ],
         "xaxis": "x88",
         "y": [
          0.24284615695956613,
          0.09838936607731437
         ],
         "yaxis": "y88"
        },
        {
         "hovertemplate": "<b>OLS trendline</b><br>IPA = 0.0722284 * trial_id + 0.026161<br>R<sup>2</sup>=1.000000<br><br>model=0<br>id=108<br>trial_id=%{x}<br>IPA=%{y} <b>(trend)</b><extra></extra>",
         "legendgroup": "",
         "marker": {
          "symbol": "circle"
         },
         "mode": "lines",
         "name": "",
         "showlegend": false,
         "type": "scatter",
         "x": [
          1,
          3
         ],
         "xaxis": "x88",
         "y": [
          0.09838936607731434,
          0.24284615695956613
         ],
         "yaxis": "y88"
        },
        {
         "hovertemplate": "model=0<br>id=109<br>trial_id=%{x}<br>IPA=%{y}<br>method=%{marker.color}<extra></extra>",
         "legendgroup": "",
         "marker": {
          "color": [
           0,
           1
          ],
          "coloraxis": "coloraxis",
          "symbol": "circle"
         },
         "mode": "markers",
         "name": "",
         "orientation": "v",
         "showlegend": false,
         "type": "scatter",
         "x": [
          0,
          1
         ],
         "xaxis": "x89",
         "y": [
          0.10634790654145973,
          0.14777946574767542
         ],
         "yaxis": "y89"
        },
        {
         "hovertemplate": "<b>OLS trendline</b><br>IPA = 0.0414316 * trial_id + 0.106348<br>R<sup>2</sup>=1.000000<br><br>model=0<br>id=109<br>trial_id=%{x}<br>IPA=%{y} <b>(trend)</b><extra></extra>",
         "legendgroup": "",
         "marker": {
          "symbol": "circle"
         },
         "mode": "lines",
         "name": "",
         "showlegend": false,
         "type": "scatter",
         "x": [
          0,
          1
         ],
         "xaxis": "x89",
         "y": [
          0.10634790654145972,
          0.14777946574767536
         ],
         "yaxis": "y89"
        },
        {
         "hovertemplate": "model=0<br>id=110<br>trial_id=%{x}<br>IPA=%{y}<br>method=%{marker.color}<extra></extra>",
         "legendgroup": "",
         "marker": {
          "color": [
           0,
           1
          ],
          "coloraxis": "coloraxis",
          "symbol": "circle"
         },
         "mode": "markers",
         "name": "",
         "orientation": "v",
         "showlegend": false,
         "type": "scatter",
         "x": [
          0,
          2
         ],
         "xaxis": "x90",
         "y": [
          0.1808752388375313,
          0.1474022459890796
         ],
         "yaxis": "y90"
        },
        {
         "hovertemplate": "<b>OLS trendline</b><br>IPA = -0.0167365 * trial_id + 0.180875<br>R<sup>2</sup>=1.000000<br><br>model=0<br>id=110<br>trial_id=%{x}<br>IPA=%{y} <b>(trend)</b><extra></extra>",
         "legendgroup": "",
         "marker": {
          "symbol": "circle"
         },
         "mode": "lines",
         "name": "",
         "showlegend": false,
         "type": "scatter",
         "x": [
          0,
          2
         ],
         "xaxis": "x90",
         "y": [
          0.1808752388375312,
          0.14740224598907947
         ],
         "yaxis": "y90"
        },
        {
         "hovertemplate": "model=0<br>id=111<br>trial_id=%{x}<br>IPA=%{y}<br>method=%{marker.color}<extra></extra>",
         "legendgroup": "",
         "marker": {
          "color": [
           0,
           1
          ],
          "coloraxis": "coloraxis",
          "symbol": "circle"
         },
         "mode": "markers",
         "name": "",
         "orientation": "v",
         "showlegend": false,
         "type": "scatter",
         "x": [
          3,
          2
         ],
         "xaxis": "x91",
         "y": [
          0.30769636522679417,
          0.30177186511261894
         ],
         "yaxis": "y91"
        },
        {
         "hovertemplate": "<b>OLS trendline</b><br>IPA = 0.0059245 * trial_id + 0.289923<br>R<sup>2</sup>=1.000000<br><br>model=0<br>id=111<br>trial_id=%{x}<br>IPA=%{y} <b>(trend)</b><extra></extra>",
         "legendgroup": "",
         "marker": {
          "symbol": "circle"
         },
         "mode": "lines",
         "name": "",
         "showlegend": false,
         "type": "scatter",
         "x": [
          2,
          3
         ],
         "xaxis": "x91",
         "y": [
          0.301771865112619,
          0.3076963652267943
         ],
         "yaxis": "y91"
        },
        {
         "hovertemplate": "model=0<br>id=112<br>trial_id=%{x}<br>IPA=%{y}<br>method=%{marker.color}<extra></extra>",
         "legendgroup": "",
         "marker": {
          "color": [
           0,
           1
          ],
          "coloraxis": "coloraxis",
          "symbol": "circle"
         },
         "mode": "markers",
         "name": "",
         "orientation": "v",
         "showlegend": false,
         "type": "scatter",
         "x": [
          3,
          1
         ],
         "xaxis": "x92",
         "y": [
          0.2434545505133413,
          0.19943161988333252
         ],
         "yaxis": "y92"
        },
        {
         "hovertemplate": "<b>OLS trendline</b><br>IPA = 0.0220115 * trial_id + 0.17742<br>R<sup>2</sup>=1.000000<br><br>model=0<br>id=112<br>trial_id=%{x}<br>IPA=%{y} <b>(trend)</b><extra></extra>",
         "legendgroup": "",
         "marker": {
          "symbol": "circle"
         },
         "mode": "lines",
         "name": "",
         "showlegend": false,
         "type": "scatter",
         "x": [
          1,
          3
         ],
         "xaxis": "x92",
         "y": [
          0.19943161988333247,
          0.24345455051334125
         ],
         "yaxis": "y92"
        },
        {
         "hovertemplate": "model=0<br>id=114<br>trial_id=%{x}<br>IPA=%{y}<br>method=%{marker.color}<extra></extra>",
         "legendgroup": "",
         "marker": {
          "color": [
           0,
           1
          ],
          "coloraxis": "coloraxis",
          "symbol": "circle"
         },
         "mode": "markers",
         "name": "",
         "orientation": "v",
         "showlegend": false,
         "type": "scatter",
         "x": [
          0,
          2
         ],
         "xaxis": "x93",
         "y": [
          0.15320605557877964,
          0.21783577050067993
         ],
         "yaxis": "y93"
        },
        {
         "hovertemplate": "<b>OLS trendline</b><br>IPA = 0.0323149 * trial_id + 0.153206<br>R<sup>2</sup>=1.000000<br><br>model=0<br>id=114<br>trial_id=%{x}<br>IPA=%{y} <b>(trend)</b><extra></extra>",
         "legendgroup": "",
         "marker": {
          "symbol": "circle"
         },
         "mode": "lines",
         "name": "",
         "showlegend": false,
         "type": "scatter",
         "x": [
          0,
          2
         ],
         "xaxis": "x93",
         "y": [
          0.15320605557877962,
          0.21783577050067982
         ],
         "yaxis": "y93"
        },
        {
         "hovertemplate": "model=0<br>id=116<br>trial_id=%{x}<br>IPA=%{y}<br>method=%{marker.color}<extra></extra>",
         "legendgroup": "",
         "marker": {
          "color": [
           0,
           1
          ],
          "coloraxis": "coloraxis",
          "symbol": "circle"
         },
         "mode": "markers",
         "name": "",
         "orientation": "v",
         "showlegend": false,
         "type": "scatter",
         "x": [
          3,
          1
         ],
         "xaxis": "x94",
         "y": [
          0.3029973567936463,
          0.2909531977433241
         ],
         "yaxis": "y94"
        },
        {
         "hovertemplate": "<b>OLS trendline</b><br>IPA = 0.00602208 * trial_id + 0.284931<br>R<sup>2</sup>=1.000000<br><br>model=0<br>id=116<br>trial_id=%{x}<br>IPA=%{y} <b>(trend)</b><extra></extra>",
         "legendgroup": "",
         "marker": {
          "symbol": "circle"
         },
         "mode": "lines",
         "name": "",
         "showlegend": false,
         "type": "scatter",
         "x": [
          1,
          3
         ],
         "xaxis": "x94",
         "y": [
          0.29095319774332395,
          0.30299735679364626
         ],
         "yaxis": "y94"
        },
        {
         "hovertemplate": "model=0<br>id=117<br>trial_id=%{x}<br>IPA=%{y}<br>method=%{marker.color}<extra></extra>",
         "legendgroup": "",
         "marker": {
          "color": [
           0,
           1
          ],
          "coloraxis": "coloraxis",
          "symbol": "circle"
         },
         "mode": "markers",
         "name": "",
         "orientation": "v",
         "showlegend": false,
         "type": "scatter",
         "x": [
          0,
          1
         ],
         "xaxis": "x95",
         "y": [
          0.18048840161476956,
          0.1863907631515628
         ],
         "yaxis": "y95"
        },
        {
         "hovertemplate": "<b>OLS trendline</b><br>IPA = 0.00590236 * trial_id + 0.180488<br>R<sup>2</sup>=1.000000<br><br>model=0<br>id=117<br>trial_id=%{x}<br>IPA=%{y} <b>(trend)</b><extra></extra>",
         "legendgroup": "",
         "marker": {
          "symbol": "circle"
         },
         "mode": "lines",
         "name": "",
         "showlegend": false,
         "type": "scatter",
         "x": [
          0,
          1
         ],
         "xaxis": "x95",
         "y": [
          0.18048840161476953,
          0.18639076315156275
         ],
         "yaxis": "y95"
        },
        {
         "hovertemplate": "model=0<br>id=118<br>trial_id=%{x}<br>IPA=%{y}<br>method=%{marker.color}<extra></extra>",
         "legendgroup": "",
         "marker": {
          "color": [
           0,
           1
          ],
          "coloraxis": "coloraxis",
          "symbol": "circle"
         },
         "mode": "markers",
         "name": "",
         "orientation": "v",
         "showlegend": false,
         "type": "scatter",
         "x": [
          0,
          2
         ],
         "xaxis": "x96",
         "y": [
          0.2607289982791886,
          0.1999770935329226
         ],
         "yaxis": "y96"
        },
        {
         "hovertemplate": "<b>OLS trendline</b><br>IPA = -0.030376 * trial_id + 0.260729<br>R<sup>2</sup>=1.000000<br><br>model=0<br>id=118<br>trial_id=%{x}<br>IPA=%{y} <b>(trend)</b><extra></extra>",
         "legendgroup": "",
         "marker": {
          "symbol": "circle"
         },
         "mode": "lines",
         "name": "",
         "showlegend": false,
         "type": "scatter",
         "x": [
          0,
          2
         ],
         "xaxis": "x96",
         "y": [
          0.2607289982791885,
          0.1999770935329224
         ],
         "yaxis": "y96"
        },
        {
         "hovertemplate": "model=0<br>id=119<br>trial_id=%{x}<br>IPA=%{y}<br>method=%{marker.color}<extra></extra>",
         "legendgroup": "",
         "marker": {
          "color": [
           0,
           1
          ],
          "coloraxis": "coloraxis",
          "symbol": "circle"
         },
         "mode": "markers",
         "name": "",
         "orientation": "v",
         "showlegend": false,
         "type": "scatter",
         "x": [
          3,
          2
         ],
         "xaxis": "x97",
         "y": [
          0.250934731876239,
          0.23216358603446738
         ],
         "yaxis": "y97"
        },
        {
         "hovertemplate": "<b>OLS trendline</b><br>IPA = 0.0187711 * trial_id + 0.194621<br>R<sup>2</sup>=1.000000<br><br>model=0<br>id=119<br>trial_id=%{x}<br>IPA=%{y} <b>(trend)</b><extra></extra>",
         "legendgroup": "",
         "marker": {
          "symbol": "circle"
         },
         "mode": "lines",
         "name": "",
         "showlegend": false,
         "type": "scatter",
         "x": [
          2,
          3
         ],
         "xaxis": "x97",
         "y": [
          0.23216358603446746,
          0.25093473187623916
         ],
         "yaxis": "y97"
        },
        {
         "hovertemplate": "model=0<br>id=120<br>trial_id=%{x}<br>IPA=%{y}<br>method=%{marker.color}<extra></extra>",
         "legendgroup": "",
         "marker": {
          "color": [
           0,
           1
          ],
          "coloraxis": "coloraxis",
          "symbol": "circle"
         },
         "mode": "markers",
         "name": "",
         "orientation": "v",
         "showlegend": false,
         "type": "scatter",
         "x": [
          3,
          1
         ],
         "xaxis": "x98",
         "y": [
          0.18691326757101534,
          0.17719548614944666
         ],
         "yaxis": "y98"
        },
        {
         "hovertemplate": "<b>OLS trendline</b><br>IPA = 0.00485889 * trial_id + 0.172337<br>R<sup>2</sup>=1.000000<br><br>model=0<br>id=120<br>trial_id=%{x}<br>IPA=%{y} <b>(trend)</b><extra></extra>",
         "legendgroup": "",
         "marker": {
          "symbol": "circle"
         },
         "mode": "lines",
         "name": "",
         "showlegend": false,
         "type": "scatter",
         "x": [
          1,
          3
         ],
         "xaxis": "x98",
         "y": [
          0.17719548614944658,
          0.18691326757101528
         ],
         "yaxis": "y98"
        },
        {
         "hovertemplate": "model=0<br>id=121<br>trial_id=%{x}<br>IPA=%{y}<br>method=%{marker.color}<extra></extra>",
         "legendgroup": "",
         "marker": {
          "color": [
           0,
           1
          ],
          "coloraxis": "coloraxis",
          "symbol": "circle"
         },
         "mode": "markers",
         "name": "",
         "orientation": "v",
         "showlegend": false,
         "type": "scatter",
         "x": [
          0,
          1
         ],
         "xaxis": "x99",
         "y": [
          0.14562081795213444,
          0.21509717428496736
         ],
         "yaxis": "y99"
        },
        {
         "hovertemplate": "<b>OLS trendline</b><br>IPA = 0.0694764 * trial_id + 0.145621<br>R<sup>2</sup>=1.000000<br><br>model=0<br>id=121<br>trial_id=%{x}<br>IPA=%{y} <b>(trend)</b><extra></extra>",
         "legendgroup": "",
         "marker": {
          "symbol": "circle"
         },
         "mode": "lines",
         "name": "",
         "showlegend": false,
         "type": "scatter",
         "x": [
          0,
          1
         ],
         "xaxis": "x99",
         "y": [
          0.1456208179521344,
          0.21509717428496727
         ],
         "yaxis": "y99"
        },
        {
         "hovertemplate": "model=0<br>id=122<br>trial_id=%{x}<br>IPA=%{y}<br>method=%{marker.color}<extra></extra>",
         "legendgroup": "",
         "marker": {
          "color": [
           0,
           1
          ],
          "coloraxis": "coloraxis",
          "symbol": "circle"
         },
         "mode": "markers",
         "name": "",
         "orientation": "v",
         "showlegend": false,
         "type": "scatter",
         "x": [
          0,
          2
         ],
         "xaxis": "x100",
         "y": [
          0.1301727392249515,
          0.14108929400328174
         ],
         "yaxis": "y100"
        },
        {
         "hovertemplate": "<b>OLS trendline</b><br>IPA = 0.00545828 * trial_id + 0.130173<br>R<sup>2</sup>=1.000000<br><br>model=0<br>id=122<br>trial_id=%{x}<br>IPA=%{y} <b>(trend)</b><extra></extra>",
         "legendgroup": "",
         "marker": {
          "symbol": "circle"
         },
         "mode": "lines",
         "name": "",
         "showlegend": false,
         "type": "scatter",
         "x": [
          0,
          2
         ],
         "xaxis": "x100",
         "y": [
          0.13017273922495146,
          0.14108929400328163
         ],
         "yaxis": "y100"
        },
        {
         "hovertemplate": "model=0<br>id=124<br>trial_id=%{x}<br>IPA=%{y}<br>method=%{marker.color}<extra></extra>",
         "legendgroup": "",
         "marker": {
          "color": [
           0,
           1
          ],
          "coloraxis": "coloraxis",
          "symbol": "circle"
         },
         "mode": "markers",
         "name": "",
         "orientation": "v",
         "showlegend": false,
         "type": "scatter",
         "x": [
          3,
          1
         ],
         "xaxis": "x101",
         "y": [
          0.18165101207560036,
          0.2069082527425689
         ],
         "yaxis": "y101"
        },
        {
         "hovertemplate": "<b>OLS trendline</b><br>IPA = -0.0126286 * trial_id + 0.219537<br>R<sup>2</sup>=1.000000<br><br>model=0<br>id=124<br>trial_id=%{x}<br>IPA=%{y} <b>(trend)</b><extra></extra>",
         "legendgroup": "",
         "marker": {
          "symbol": "circle"
         },
         "mode": "lines",
         "name": "",
         "showlegend": false,
         "type": "scatter",
         "x": [
          1,
          3
         ],
         "xaxis": "x101",
         "y": [
          0.2069082527425688,
          0.1816510120756003
         ],
         "yaxis": "y101"
        },
        {
         "hovertemplate": "model=0<br>id=125<br>trial_id=%{x}<br>IPA=%{y}<br>method=%{marker.color}<extra></extra>",
         "legendgroup": "",
         "marker": {
          "color": [
           0,
           1
          ],
          "coloraxis": "coloraxis",
          "symbol": "circle"
         },
         "mode": "markers",
         "name": "",
         "orientation": "v",
         "showlegend": false,
         "type": "scatter",
         "x": [
          0,
          1
         ],
         "xaxis": "x102",
         "y": [
          0.20900061132678813,
          0.12139632257430834
         ],
         "yaxis": "y102"
        },
        {
         "hovertemplate": "<b>OLS trendline</b><br>IPA = -0.0876043 * trial_id + 0.209001<br>R<sup>2</sup>=1.000000<br><br>model=0<br>id=125<br>trial_id=%{x}<br>IPA=%{y} <b>(trend)</b><extra></extra>",
         "legendgroup": "",
         "marker": {
          "symbol": "circle"
         },
         "mode": "lines",
         "name": "",
         "showlegend": false,
         "type": "scatter",
         "x": [
          0,
          1
         ],
         "xaxis": "x102",
         "y": [
          0.2090006113267881,
          0.12139632257430828
         ],
         "yaxis": "y102"
        },
        {
         "hovertemplate": "model=0<br>id=126<br>trial_id=%{x}<br>IPA=%{y}<br>method=%{marker.color}<extra></extra>",
         "legendgroup": "",
         "marker": {
          "color": [
           0,
           1
          ],
          "coloraxis": "coloraxis",
          "symbol": "circle"
         },
         "mode": "markers",
         "name": "",
         "orientation": "v",
         "showlegend": false,
         "type": "scatter",
         "x": [
          0,
          2
         ],
         "xaxis": "x103",
         "y": [
          0.12419737446750374,
          0.14526498408310817
         ],
         "yaxis": "y103"
        },
        {
         "hovertemplate": "<b>OLS trendline</b><br>IPA = 0.0105338 * trial_id + 0.124197<br>R<sup>2</sup>=1.000000<br><br>model=0<br>id=126<br>trial_id=%{x}<br>IPA=%{y} <b>(trend)</b><extra></extra>",
         "legendgroup": "",
         "marker": {
          "symbol": "circle"
         },
         "mode": "lines",
         "name": "",
         "showlegend": false,
         "type": "scatter",
         "x": [
          0,
          2
         ],
         "xaxis": "x103",
         "y": [
          0.1241973744675037,
          0.14526498408310806
         ],
         "yaxis": "y103"
        },
        {
         "hovertemplate": "model=0<br>id=127<br>trial_id=%{x}<br>IPA=%{y}<br>method=%{marker.color}<extra></extra>",
         "legendgroup": "",
         "marker": {
          "color": [
           0,
           1
          ],
          "coloraxis": "coloraxis",
          "symbol": "circle"
         },
         "mode": "markers",
         "name": "",
         "orientation": "v",
         "showlegend": false,
         "type": "scatter",
         "x": [
          3,
          2
         ],
         "xaxis": "x104",
         "y": [
          0.2657715480926905,
          0.18125719993877534
         ],
         "yaxis": "y104"
        },
        {
         "hovertemplate": "<b>OLS trendline</b><br>IPA = 0.0845143 * trial_id + 0.0122285<br>R<sup>2</sup>=1.000000<br><br>model=0<br>id=127<br>trial_id=%{x}<br>IPA=%{y} <b>(trend)</b><extra></extra>",
         "legendgroup": "",
         "marker": {
          "symbol": "circle"
         },
         "mode": "lines",
         "name": "",
         "showlegend": false,
         "type": "scatter",
         "x": [
          2,
          3
         ],
         "xaxis": "x104",
         "y": [
          0.18125719993877543,
          0.2657715480926906
         ],
         "yaxis": "y104"
        },
        {
         "hovertemplate": "model=0<br>id=128<br>trial_id=%{x}<br>IPA=%{y}<br>method=%{marker.color}<extra></extra>",
         "legendgroup": "",
         "marker": {
          "color": [
           0,
           1
          ],
          "coloraxis": "coloraxis",
          "symbol": "circle"
         },
         "mode": "markers",
         "name": "",
         "orientation": "v",
         "showlegend": false,
         "type": "scatter",
         "x": [
          3,
          1
         ],
         "xaxis": "x105",
         "y": [
          0.09808575834023203,
          0.10672757253472648
         ],
         "yaxis": "y105"
        },
        {
         "hovertemplate": "<b>OLS trendline</b><br>IPA = -0.00432091 * trial_id + 0.111048<br>R<sup>2</sup>=1.000000<br><br>model=0<br>id=128<br>trial_id=%{x}<br>IPA=%{y} <b>(trend)</b><extra></extra>",
         "legendgroup": "",
         "marker": {
          "symbol": "circle"
         },
         "mode": "lines",
         "name": "",
         "showlegend": false,
         "type": "scatter",
         "x": [
          1,
          3
         ],
         "xaxis": "x105",
         "y": [
          0.10672757253472642,
          0.09808575834023198
         ],
         "yaxis": "y105"
        },
        {
         "hovertemplate": "model=0<br>id=131<br>trial_id=%{x}<br>IPA=%{y}<br>method=%{marker.color}<extra></extra>",
         "legendgroup": "",
         "marker": {
          "color": [
           0,
           1
          ],
          "coloraxis": "coloraxis",
          "symbol": "circle"
         },
         "mode": "markers",
         "name": "",
         "orientation": "v",
         "showlegend": false,
         "type": "scatter",
         "x": [
          3,
          2
         ],
         "xaxis": "x106",
         "y": [
          0.193225824631462,
          0.1410479510140466
         ],
         "yaxis": "y106"
        },
        {
         "hovertemplate": "<b>OLS trendline</b><br>IPA = 0.0521779 * trial_id + 0.0366922<br>R<sup>2</sup>=1.000000<br><br>model=0<br>id=131<br>trial_id=%{x}<br>IPA=%{y} <b>(trend)</b><extra></extra>",
         "legendgroup": "",
         "marker": {
          "symbol": "circle"
         },
         "mode": "lines",
         "name": "",
         "showlegend": false,
         "type": "scatter",
         "x": [
          2,
          3
         ],
         "xaxis": "x106",
         "y": [
          0.14104795101404666,
          0.1932258246314621
         ],
         "yaxis": "y106"
        },
        {
         "hovertemplate": "model=0<br>id=132<br>trial_id=%{x}<br>IPA=%{y}<br>method=%{marker.color}<extra></extra>",
         "legendgroup": "",
         "marker": {
          "color": [
           0,
           1
          ],
          "coloraxis": "coloraxis",
          "symbol": "circle"
         },
         "mode": "markers",
         "name": "",
         "orientation": "v",
         "showlegend": false,
         "type": "scatter",
         "x": [
          3,
          1
         ],
         "xaxis": "x107",
         "y": [
          0.16928961063389553,
          0.258810335159384
         ],
         "yaxis": "y107"
        },
        {
         "hovertemplate": "<b>OLS trendline</b><br>IPA = -0.0447604 * trial_id + 0.303571<br>R<sup>2</sup>=1.000000<br><br>model=0<br>id=132<br>trial_id=%{x}<br>IPA=%{y} <b>(trend)</b><extra></extra>",
         "legendgroup": "",
         "marker": {
          "symbol": "circle"
         },
         "mode": "lines",
         "name": "",
         "showlegend": false,
         "type": "scatter",
         "x": [
          1,
          3
         ],
         "xaxis": "x107",
         "y": [
          0.2588103351593839,
          0.16928961063389547
         ],
         "yaxis": "y107"
        },
        {
         "hovertemplate": "model=0<br>id=133<br>trial_id=%{x}<br>IPA=%{y}<br>method=%{marker.color}<extra></extra>",
         "legendgroup": "",
         "marker": {
          "color": [
           0,
           1
          ],
          "coloraxis": "coloraxis",
          "symbol": "circle"
         },
         "mode": "markers",
         "name": "",
         "orientation": "v",
         "showlegend": false,
         "type": "scatter",
         "x": [
          0,
          1
         ],
         "xaxis": "x108",
         "y": [
          0.24983822974623932,
          0.16028323829130944
         ],
         "yaxis": "y108"
        },
        {
         "hovertemplate": "<b>OLS trendline</b><br>IPA = -0.089555 * trial_id + 0.249838<br>R<sup>2</sup>=1.000000<br><br>model=0<br>id=133<br>trial_id=%{x}<br>IPA=%{y} <b>(trend)</b><extra></extra>",
         "legendgroup": "",
         "marker": {
          "symbol": "circle"
         },
         "mode": "lines",
         "name": "",
         "showlegend": false,
         "type": "scatter",
         "x": [
          0,
          1
         ],
         "xaxis": "x108",
         "y": [
          0.2498382297462393,
          0.1602832382913094
         ],
         "yaxis": "y108"
        },
        {
         "hovertemplate": "model=0<br>id=134<br>trial_id=%{x}<br>IPA=%{y}<br>method=%{marker.color}<extra></extra>",
         "legendgroup": "",
         "marker": {
          "color": [
           0,
           1
          ],
          "coloraxis": "coloraxis",
          "symbol": "circle"
         },
         "mode": "markers",
         "name": "",
         "orientation": "v",
         "showlegend": false,
         "type": "scatter",
         "x": [
          0,
          2
         ],
         "xaxis": "x109",
         "y": [
          0.24597825552221184,
          0.19752045982763047
         ],
         "yaxis": "y109"
        },
        {
         "hovertemplate": "<b>OLS trendline</b><br>IPA = -0.0242289 * trial_id + 0.245978<br>R<sup>2</sup>=1.000000<br><br>model=0<br>id=134<br>trial_id=%{x}<br>IPA=%{y} <b>(trend)</b><extra></extra>",
         "legendgroup": "",
         "marker": {
          "symbol": "circle"
         },
         "mode": "lines",
         "name": "",
         "showlegend": false,
         "type": "scatter",
         "x": [
          0,
          2
         ],
         "xaxis": "x109",
         "y": [
          0.24597825552221175,
          0.1975204598276303
         ],
         "yaxis": "y109"
        },
        {
         "hovertemplate": "model=0<br>id=135<br>trial_id=%{x}<br>IPA=%{y}<br>method=%{marker.color}<extra></extra>",
         "legendgroup": "",
         "marker": {
          "color": [
           0,
           1
          ],
          "coloraxis": "coloraxis",
          "symbol": "circle"
         },
         "mode": "markers",
         "name": "",
         "orientation": "v",
         "showlegend": false,
         "type": "scatter",
         "x": [
          3,
          2
         ],
         "xaxis": "x110",
         "y": [
          0.15111414298851963,
          0.17351772483559194
         ],
         "yaxis": "y110"
        },
        {
         "hovertemplate": "<b>OLS trendline</b><br>IPA = -0.0224036 * trial_id + 0.218325<br>R<sup>2</sup>=1.000000<br><br>model=0<br>id=135<br>trial_id=%{x}<br>IPA=%{y} <b>(trend)</b><extra></extra>",
         "legendgroup": "",
         "marker": {
          "symbol": "circle"
         },
         "mode": "lines",
         "name": "",
         "showlegend": false,
         "type": "scatter",
         "x": [
          2,
          3
         ],
         "xaxis": "x110",
         "y": [
          0.1735177248355919,
          0.15111414298851963
         ],
         "yaxis": "y110"
        },
        {
         "hovertemplate": "model=0<br>id=136<br>trial_id=%{x}<br>IPA=%{y}<br>method=%{marker.color}<extra></extra>",
         "legendgroup": "",
         "marker": {
          "color": [
           0,
           1
          ],
          "coloraxis": "coloraxis",
          "symbol": "circle"
         },
         "mode": "markers",
         "name": "",
         "orientation": "v",
         "showlegend": false,
         "type": "scatter",
         "x": [
          3,
          1
         ],
         "xaxis": "x111",
         "y": [
          0.14300068830997972,
          0.11403217780726489
         ],
         "yaxis": "y111"
        },
        {
         "hovertemplate": "<b>OLS trendline</b><br>IPA = 0.0144843 * trial_id + 0.0995479<br>R<sup>2</sup>=1.000000<br><br>model=0<br>id=136<br>trial_id=%{x}<br>IPA=%{y} <b>(trend)</b><extra></extra>",
         "legendgroup": "",
         "marker": {
          "symbol": "circle"
         },
         "mode": "lines",
         "name": "",
         "showlegend": false,
         "type": "scatter",
         "x": [
          1,
          3
         ],
         "xaxis": "x111",
         "y": [
          0.11403217780726485,
          0.1430006883099797
         ],
         "yaxis": "y111"
        },
        {
         "hovertemplate": "model=0<br>id=137<br>trial_id=%{x}<br>IPA=%{y}<br>method=%{marker.color}<extra></extra>",
         "legendgroup": "",
         "marker": {
          "color": [
           0,
           1
          ],
          "coloraxis": "coloraxis",
          "symbol": "circle"
         },
         "mode": "markers",
         "name": "",
         "orientation": "v",
         "showlegend": false,
         "type": "scatter",
         "x": [
          0,
          1
         ],
         "xaxis": "x112",
         "y": [
          0.2244366639734267,
          0.11803161624380609
         ],
         "yaxis": "y112"
        },
        {
         "hovertemplate": "<b>OLS trendline</b><br>IPA = -0.106405 * trial_id + 0.224437<br>R<sup>2</sup>=1.000000<br><br>model=0<br>id=137<br>trial_id=%{x}<br>IPA=%{y} <b>(trend)</b><extra></extra>",
         "legendgroup": "",
         "marker": {
          "symbol": "circle"
         },
         "mode": "lines",
         "name": "",
         "showlegend": false,
         "type": "scatter",
         "x": [
          0,
          1
         ],
         "xaxis": "x112",
         "y": [
          0.22443666397342668,
          0.11803161624380604
         ],
         "yaxis": "y112"
        },
        {
         "hovertemplate": "model=0<br>id=139<br>trial_id=%{x}<br>IPA=%{y}<br>method=%{marker.color}<extra></extra>",
         "legendgroup": "",
         "marker": {
          "color": [
           0,
           1
          ],
          "coloraxis": "coloraxis",
          "symbol": "circle"
         },
         "mode": "markers",
         "name": "",
         "orientation": "v",
         "showlegend": false,
         "type": "scatter",
         "x": [
          3,
          2
         ],
         "xaxis": "x113",
         "y": [
          0.11775372984939297,
          0.21518487967578812
         ],
         "yaxis": "y113"
        },
        {
         "hovertemplate": "<b>OLS trendline</b><br>IPA = -0.0974311 * trial_id + 0.410047<br>R<sup>2</sup>=1.000000<br><br>model=0<br>id=139<br>trial_id=%{x}<br>IPA=%{y} <b>(trend)</b><extra></extra>",
         "legendgroup": "",
         "marker": {
          "symbol": "circle"
         },
         "mode": "lines",
         "name": "",
         "showlegend": false,
         "type": "scatter",
         "x": [
          2,
          3
         ],
         "xaxis": "x113",
         "y": [
          0.2151848796757882,
          0.11775372984939314
         ],
         "yaxis": "y113"
        },
        {
         "hovertemplate": "model=0<br>id=140<br>trial_id=%{x}<br>IPA=%{y}<br>method=%{marker.color}<extra></extra>",
         "legendgroup": "",
         "marker": {
          "color": [
           0,
           1
          ],
          "coloraxis": "coloraxis",
          "symbol": "circle"
         },
         "mode": "markers",
         "name": "",
         "orientation": "v",
         "showlegend": false,
         "type": "scatter",
         "x": [
          3,
          1
         ],
         "xaxis": "x114",
         "y": [
          0.06645213701766131,
          0.11163473115964563
         ],
         "yaxis": "y114"
        },
        {
         "hovertemplate": "<b>OLS trendline</b><br>IPA = -0.0225913 * trial_id + 0.134226<br>R<sup>2</sup>=1.000000<br><br>model=0<br>id=140<br>trial_id=%{x}<br>IPA=%{y} <b>(trend)</b><extra></extra>",
         "legendgroup": "",
         "marker": {
          "symbol": "circle"
         },
         "mode": "lines",
         "name": "",
         "showlegend": false,
         "type": "scatter",
         "x": [
          1,
          3
         ],
         "xaxis": "x114",
         "y": [
          0.11163473115964558,
          0.06645213701766127
         ],
         "yaxis": "y114"
        },
        {
         "hovertemplate": "model=0<br>id=141<br>trial_id=%{x}<br>IPA=%{y}<br>method=%{marker.color}<extra></extra>",
         "legendgroup": "",
         "marker": {
          "color": [
           0,
           1
          ],
          "coloraxis": "coloraxis",
          "symbol": "circle"
         },
         "mode": "markers",
         "name": "",
         "orientation": "v",
         "showlegend": false,
         "type": "scatter",
         "x": [
          0,
          1
         ],
         "xaxis": "x115",
         "y": [
          0.20280332133896548,
          0.10340914085100553
         ],
         "yaxis": "y115"
        },
        {
         "hovertemplate": "<b>OLS trendline</b><br>IPA = -0.0993942 * trial_id + 0.202803<br>R<sup>2</sup>=1.000000<br><br>model=0<br>id=141<br>trial_id=%{x}<br>IPA=%{y} <b>(trend)</b><extra></extra>",
         "legendgroup": "",
         "marker": {
          "symbol": "circle"
         },
         "mode": "lines",
         "name": "",
         "showlegend": false,
         "type": "scatter",
         "x": [
          0,
          1
         ],
         "xaxis": "x115",
         "y": [
          0.20280332133896545,
          0.10340914085100547
         ],
         "yaxis": "y115"
        },
        {
         "hovertemplate": "model=0<br>id=142<br>trial_id=%{x}<br>IPA=%{y}<br>method=%{marker.color}<extra></extra>",
         "legendgroup": "",
         "marker": {
          "color": [
           0,
           1
          ],
          "coloraxis": "coloraxis",
          "symbol": "circle"
         },
         "mode": "markers",
         "name": "",
         "orientation": "v",
         "showlegend": false,
         "type": "scatter",
         "x": [
          0,
          2
         ],
         "xaxis": "x116",
         "y": [
          0.2665408175904397,
          0.19334880123743234
         ],
         "yaxis": "y116"
        },
        {
         "hovertemplate": "<b>OLS trendline</b><br>IPA = -0.036596 * trial_id + 0.266541<br>R<sup>2</sup>=1.000000<br><br>model=0<br>id=142<br>trial_id=%{x}<br>IPA=%{y} <b>(trend)</b><extra></extra>",
         "legendgroup": "",
         "marker": {
          "symbol": "circle"
         },
         "mode": "lines",
         "name": "",
         "showlegend": false,
         "type": "scatter",
         "x": [
          0,
          2
         ],
         "xaxis": "x116",
         "y": [
          0.26654081759043957,
          0.19334880123743214
         ],
         "yaxis": "y116"
        },
        {
         "hovertemplate": "model=1<br>id=108<br>trial_id=%{x}<br>IPA=%{y}<br>method=%{marker.color}<extra></extra>",
         "legendgroup": "",
         "marker": {
          "color": [
           0,
           1
          ],
          "coloraxis": "coloraxis",
          "symbol": "circle"
         },
         "mode": "markers",
         "name": "",
         "orientation": "v",
         "showlegend": false,
         "type": "scatter",
         "x": [
          2,
          3
         ],
         "xaxis": "x59",
         "y": [
          0.14775675691649381,
          0.19707601429319727
         ],
         "yaxis": "y59"
        },
        {
         "hovertemplate": "<b>OLS trendline</b><br>IPA = 0.0493193 * trial_id + 0.0491182<br>R<sup>2</sup>=1.000000<br><br>model=1<br>id=108<br>trial_id=%{x}<br>IPA=%{y} <b>(trend)</b><extra></extra>",
         "legendgroup": "",
         "marker": {
          "symbol": "circle"
         },
         "mode": "lines",
         "name": "",
         "showlegend": false,
         "type": "scatter",
         "x": [
          2,
          3
         ],
         "xaxis": "x59",
         "y": [
          0.14775675691649387,
          0.19707601429319735
         ],
         "yaxis": "y59"
        },
        {
         "hovertemplate": "model=1<br>id=109<br>trial_id=%{x}<br>IPA=%{y}<br>method=%{marker.color}<extra></extra>",
         "legendgroup": "",
         "marker": {
          "color": [
           0,
           1
          ],
          "coloraxis": "coloraxis",
          "symbol": "circle"
         },
         "mode": "markers",
         "name": "",
         "orientation": "v",
         "showlegend": false,
         "type": "scatter",
         "x": [
          1,
          3
         ],
         "xaxis": "x60",
         "y": [
          0.14307720923134154,
          0.10625795606446033
         ],
         "yaxis": "y60"
        },
        {
         "hovertemplate": "<b>OLS trendline</b><br>IPA = -0.0184096 * trial_id + 0.161487<br>R<sup>2</sup>=1.000000<br><br>model=1<br>id=109<br>trial_id=%{x}<br>IPA=%{y} <b>(trend)</b><extra></extra>",
         "legendgroup": "",
         "marker": {
          "symbol": "circle"
         },
         "mode": "lines",
         "name": "",
         "showlegend": false,
         "type": "scatter",
         "x": [
          1,
          3
         ],
         "xaxis": "x60",
         "y": [
          0.14307720923134148,
          0.10625795606446028
         ],
         "yaxis": "y60"
        },
        {
         "hovertemplate": "model=1<br>id=110<br>trial_id=%{x}<br>IPA=%{y}<br>method=%{marker.color}<extra></extra>",
         "legendgroup": "",
         "marker": {
          "color": [
           0,
           1
          ],
          "coloraxis": "coloraxis",
          "symbol": "circle"
         },
         "mode": "markers",
         "name": "",
         "orientation": "v",
         "showlegend": false,
         "type": "scatter",
         "x": [
          1,
          0
         ],
         "xaxis": "x61",
         "y": [
          0.1050835479883725,
          0.12575895529520656
         ],
         "yaxis": "y61"
        },
        {
         "hovertemplate": "<b>OLS trendline</b><br>IPA = -0.0206754 * trial_id + 0.125759<br>R<sup>2</sup>=1.000000<br><br>model=1<br>id=110<br>trial_id=%{x}<br>IPA=%{y} <b>(trend)</b><extra></extra>",
         "legendgroup": "",
         "marker": {
          "symbol": "circle"
         },
         "mode": "lines",
         "name": "",
         "showlegend": false,
         "type": "scatter",
         "x": [
          0,
          1
         ],
         "xaxis": "x61",
         "y": [
          0.12575895529520653,
          0.10508354798837244
         ],
         "yaxis": "y61"
        },
        {
         "hovertemplate": "model=1<br>id=111<br>trial_id=%{x}<br>IPA=%{y}<br>method=%{marker.color}<extra></extra>",
         "legendgroup": "",
         "marker": {
          "color": [
           0,
           1
          ],
          "coloraxis": "coloraxis",
          "symbol": "circle"
         },
         "mode": "markers",
         "name": "",
         "orientation": "v",
         "showlegend": false,
         "type": "scatter",
         "x": [
          2,
          0
         ],
         "xaxis": "x62",
         "y": [
          0.23528772974489381,
          0.2341516579001705
         ],
         "yaxis": "y62"
        },
        {
         "hovertemplate": "<b>OLS trendline</b><br>IPA = 0.000568036 * trial_id + 0.234152<br>R<sup>2</sup>=1.000000<br><br>model=1<br>id=111<br>trial_id=%{x}<br>IPA=%{y} <b>(trend)</b><extra></extra>",
         "legendgroup": "",
         "marker": {
          "symbol": "circle"
         },
         "mode": "lines",
         "name": "",
         "showlegend": false,
         "type": "scatter",
         "x": [
          0,
          2
         ],
         "xaxis": "x62",
         "y": [
          0.23415165790017042,
          0.23528772974489362
         ],
         "yaxis": "y62"
        },
        {
         "hovertemplate": "model=1<br>id=112<br>trial_id=%{x}<br>IPA=%{y}<br>method=%{marker.color}<extra></extra>",
         "legendgroup": "",
         "marker": {
          "color": [
           0,
           1
          ],
          "coloraxis": "coloraxis",
          "symbol": "circle"
         },
         "mode": "markers",
         "name": "",
         "orientation": "v",
         "showlegend": false,
         "type": "scatter",
         "x": [
          2,
          3
         ],
         "xaxis": "x63",
         "y": [
          0.18479819267367567,
          0.12793628307879829
         ],
         "yaxis": "y63"
        },
        {
         "hovertemplate": "<b>OLS trendline</b><br>IPA = -0.0568619 * trial_id + 0.298522<br>R<sup>2</sup>=1.000000<br><br>model=1<br>id=112<br>trial_id=%{x}<br>IPA=%{y} <b>(trend)</b><extra></extra>",
         "legendgroup": "",
         "marker": {
          "symbol": "circle"
         },
         "mode": "lines",
         "name": "",
         "showlegend": false,
         "type": "scatter",
         "x": [
          2,
          3
         ],
         "xaxis": "x63",
         "y": [
          0.1847981926736757,
          0.12793628307879834
         ],
         "yaxis": "y63"
        },
        {
         "hovertemplate": "model=1<br>id=114<br>trial_id=%{x}<br>IPA=%{y}<br>method=%{marker.color}<extra></extra>",
         "legendgroup": "",
         "marker": {
          "color": [
           0,
           1
          ],
          "coloraxis": "coloraxis",
          "symbol": "circle"
         },
         "mode": "markers",
         "name": "",
         "orientation": "v",
         "showlegend": false,
         "type": "scatter",
         "x": [
          1,
          0
         ],
         "xaxis": "x64",
         "y": [
          0.12633714330061202,
          0.10743149707325908
         ],
         "yaxis": "y64"
        },
        {
         "hovertemplate": "<b>OLS trendline</b><br>IPA = 0.0189056 * trial_id + 0.107431<br>R<sup>2</sup>=1.000000<br><br>model=1<br>id=114<br>trial_id=%{x}<br>IPA=%{y} <b>(trend)</b><extra></extra>",
         "legendgroup": "",
         "marker": {
          "symbol": "circle"
         },
         "mode": "lines",
         "name": "",
         "showlegend": false,
         "type": "scatter",
         "x": [
          0,
          1
         ],
         "xaxis": "x64",
         "y": [
          0.10743149707325907,
          0.12633714330061196
         ],
         "yaxis": "y64"
        },
        {
         "hovertemplate": "model=1<br>id=116<br>trial_id=%{x}<br>IPA=%{y}<br>method=%{marker.color}<extra></extra>",
         "legendgroup": "",
         "marker": {
          "color": [
           0,
           1
          ],
          "coloraxis": "coloraxis",
          "symbol": "circle"
         },
         "mode": "markers",
         "name": "",
         "orientation": "v",
         "showlegend": false,
         "type": "scatter",
         "x": [
          2,
          3
         ],
         "xaxis": "x65",
         "y": [
          0.342510717731209,
          0.19198882974081508
         ],
         "yaxis": "y65"
        },
        {
         "hovertemplate": "<b>OLS trendline</b><br>IPA = -0.150522 * trial_id + 0.643554<br>R<sup>2</sup>=1.000000<br><br>model=1<br>id=116<br>trial_id=%{x}<br>IPA=%{y} <b>(trend)</b><extra></extra>",
         "legendgroup": "",
         "marker": {
          "symbol": "circle"
         },
         "mode": "lines",
         "name": "",
         "showlegend": false,
         "type": "scatter",
         "x": [
          2,
          3
         ],
         "xaxis": "x65",
         "y": [
          0.34251071773120906,
          0.19198882974081521
         ],
         "yaxis": "y65"
        },
        {
         "hovertemplate": "model=1<br>id=117<br>trial_id=%{x}<br>IPA=%{y}<br>method=%{marker.color}<extra></extra>",
         "legendgroup": "",
         "marker": {
          "color": [
           0,
           1
          ],
          "coloraxis": "coloraxis",
          "symbol": "circle"
         },
         "mode": "markers",
         "name": "",
         "orientation": "v",
         "showlegend": false,
         "type": "scatter",
         "x": [
          1,
          3
         ],
         "xaxis": "x66",
         "y": [
          0.157464196578303,
          0.07841264918006506
         ],
         "yaxis": "y66"
        },
        {
         "hovertemplate": "<b>OLS trendline</b><br>IPA = -0.0395258 * trial_id + 0.19699<br>R<sup>2</sup>=1.000000<br><br>model=1<br>id=117<br>trial_id=%{x}<br>IPA=%{y} <b>(trend)</b><extra></extra>",
         "legendgroup": "",
         "marker": {
          "symbol": "circle"
         },
         "mode": "lines",
         "name": "",
         "showlegend": false,
         "type": "scatter",
         "x": [
          1,
          3
         ],
         "xaxis": "x66",
         "y": [
          0.15746419657830293,
          0.07841264918006502
         ],
         "yaxis": "y66"
        },
        {
         "hovertemplate": "model=1<br>id=118<br>trial_id=%{x}<br>IPA=%{y}<br>method=%{marker.color}<extra></extra>",
         "legendgroup": "",
         "marker": {
          "color": [
           0,
           1
          ],
          "coloraxis": "coloraxis",
          "symbol": "circle"
         },
         "mode": "markers",
         "name": "",
         "orientation": "v",
         "showlegend": false,
         "type": "scatter",
         "x": [
          1,
          0
         ],
         "xaxis": "x67",
         "y": [
          0.18541397084511688,
          0.1667468639679084
         ],
         "yaxis": "y67"
        },
        {
         "hovertemplate": "<b>OLS trendline</b><br>IPA = 0.0186671 * trial_id + 0.166747<br>R<sup>2</sup>=1.000000<br><br>model=1<br>id=118<br>trial_id=%{x}<br>IPA=%{y} <b>(trend)</b><extra></extra>",
         "legendgroup": "",
         "marker": {
          "symbol": "circle"
         },
         "mode": "lines",
         "name": "",
         "showlegend": false,
         "type": "scatter",
         "x": [
          0,
          1
         ],
         "xaxis": "x67",
         "y": [
          0.16674686396790836,
          0.18541397084511682
         ],
         "yaxis": "y67"
        },
        {
         "hovertemplate": "model=1<br>id=119<br>trial_id=%{x}<br>IPA=%{y}<br>method=%{marker.color}<extra></extra>",
         "legendgroup": "",
         "marker": {
          "color": [
           0,
           1
          ],
          "coloraxis": "coloraxis",
          "symbol": "circle"
         },
         "mode": "markers",
         "name": "",
         "orientation": "v",
         "showlegend": false,
         "type": "scatter",
         "x": [
          2,
          0
         ],
         "xaxis": "x68",
         "y": [
          0.23474729453743046,
          0.3173161884955795
         ],
         "yaxis": "y68"
        },
        {
         "hovertemplate": "<b>OLS trendline</b><br>IPA = -0.0412844 * trial_id + 0.317316<br>R<sup>2</sup>=1.000000<br><br>model=1<br>id=119<br>trial_id=%{x}<br>IPA=%{y} <b>(trend)</b><extra></extra>",
         "legendgroup": "",
         "marker": {
          "symbol": "circle"
         },
         "mode": "lines",
         "name": "",
         "showlegend": false,
         "type": "scatter",
         "x": [
          0,
          2
         ],
         "xaxis": "x68",
         "y": [
          0.31731618849557935,
          0.23474729453743018
         ],
         "yaxis": "y68"
        },
        {
         "hovertemplate": "model=1<br>id=120<br>trial_id=%{x}<br>IPA=%{y}<br>method=%{marker.color}<extra></extra>",
         "legendgroup": "",
         "marker": {
          "color": [
           0,
           1
          ],
          "coloraxis": "coloraxis",
          "symbol": "circle"
         },
         "mode": "markers",
         "name": "",
         "orientation": "v",
         "showlegend": false,
         "type": "scatter",
         "x": [
          2,
          3
         ],
         "xaxis": "x69",
         "y": [
          0.10464410539754296,
          0.09061254077564336
         ],
         "yaxis": "y69"
        },
        {
         "hovertemplate": "<b>OLS trendline</b><br>IPA = -0.0140316 * trial_id + 0.132707<br>R<sup>2</sup>=1.000000<br><br>model=1<br>id=120<br>trial_id=%{x}<br>IPA=%{y} <b>(trend)</b><extra></extra>",
         "legendgroup": "",
         "marker": {
          "symbol": "circle"
         },
         "mode": "lines",
         "name": "",
         "showlegend": false,
         "type": "scatter",
         "x": [
          2,
          3
         ],
         "xaxis": "x69",
         "y": [
          0.10464410539754299,
          0.09061254077564342
         ],
         "yaxis": "y69"
        },
        {
         "hovertemplate": "model=1<br>id=121<br>trial_id=%{x}<br>IPA=%{y}<br>method=%{marker.color}<extra></extra>",
         "legendgroup": "",
         "marker": {
          "color": [
           0,
           1
          ],
          "coloraxis": "coloraxis",
          "symbol": "circle"
         },
         "mode": "markers",
         "name": "",
         "orientation": "v",
         "showlegend": false,
         "type": "scatter",
         "x": [
          1,
          3
         ],
         "xaxis": "x70",
         "y": [
          0.2199919922914806,
          0.137357320083763
         ],
         "yaxis": "y70"
        },
        {
         "hovertemplate": "<b>OLS trendline</b><br>IPA = -0.0413173 * trial_id + 0.261309<br>R<sup>2</sup>=1.000000<br><br>model=1<br>id=121<br>trial_id=%{x}<br>IPA=%{y} <b>(trend)</b><extra></extra>",
         "legendgroup": "",
         "marker": {
          "symbol": "circle"
         },
         "mode": "lines",
         "name": "",
         "showlegend": false,
         "type": "scatter",
         "x": [
          1,
          3
         ],
         "xaxis": "x70",
         "y": [
          0.21999199229148048,
          0.13735732008376295
         ],
         "yaxis": "y70"
        },
        {
         "hovertemplate": "model=1<br>id=122<br>trial_id=%{x}<br>IPA=%{y}<br>method=%{marker.color}<extra></extra>",
         "legendgroup": "",
         "marker": {
          "color": [
           0,
           1
          ],
          "coloraxis": "coloraxis",
          "symbol": "circle"
         },
         "mode": "markers",
         "name": "",
         "orientation": "v",
         "showlegend": false,
         "type": "scatter",
         "x": [
          1,
          0
         ],
         "xaxis": "x71",
         "y": [
          0.17153712992651066,
          0.19207908536207977
         ],
         "yaxis": "y71"
        },
        {
         "hovertemplate": "<b>OLS trendline</b><br>IPA = -0.020542 * trial_id + 0.192079<br>R<sup>2</sup>=1.000000<br><br>model=1<br>id=122<br>trial_id=%{x}<br>IPA=%{y} <b>(trend)</b><extra></extra>",
         "legendgroup": "",
         "marker": {
          "symbol": "circle"
         },
         "mode": "lines",
         "name": "",
         "showlegend": false,
         "type": "scatter",
         "x": [
          0,
          1
         ],
         "xaxis": "x71",
         "y": [
          0.19207908536207974,
          0.1715371299265106
         ],
         "yaxis": "y71"
        },
        {
         "hovertemplate": "model=1<br>id=124<br>trial_id=%{x}<br>IPA=%{y}<br>method=%{marker.color}<extra></extra>",
         "legendgroup": "",
         "marker": {
          "color": [
           0,
           1
          ],
          "coloraxis": "coloraxis",
          "symbol": "circle"
         },
         "mode": "markers",
         "name": "",
         "orientation": "v",
         "showlegend": false,
         "type": "scatter",
         "x": [
          2,
          3
         ],
         "xaxis": "x72",
         "y": [
          0.21580024665968195,
          0.10602092853129208
         ],
         "yaxis": "y72"
        },
        {
         "hovertemplate": "<b>OLS trendline</b><br>IPA = -0.109779 * trial_id + 0.435359<br>R<sup>2</sup>=1.000000<br><br>model=1<br>id=124<br>trial_id=%{x}<br>IPA=%{y} <b>(trend)</b><extra></extra>",
         "legendgroup": "",
         "marker": {
          "symbol": "circle"
         },
         "mode": "lines",
         "name": "",
         "showlegend": false,
         "type": "scatter",
         "x": [
          2,
          3
         ],
         "xaxis": "x72",
         "y": [
          0.215800246659682,
          0.10602092853129219
         ],
         "yaxis": "y72"
        },
        {
         "hovertemplate": "model=1<br>id=125<br>trial_id=%{x}<br>IPA=%{y}<br>method=%{marker.color}<extra></extra>",
         "legendgroup": "",
         "marker": {
          "color": [
           0,
           1
          ],
          "coloraxis": "coloraxis",
          "symbol": "circle"
         },
         "mode": "markers",
         "name": "",
         "orientation": "v",
         "showlegend": false,
         "type": "scatter",
         "x": [
          1,
          3
         ],
         "xaxis": "x73",
         "y": [
          0.09406753672866972,
          0.12317839680852985
         ],
         "yaxis": "y73"
        },
        {
         "hovertemplate": "<b>OLS trendline</b><br>IPA = 0.0145554 * trial_id + 0.0795121<br>R<sup>2</sup>=1.000000<br><br>model=1<br>id=125<br>trial_id=%{x}<br>IPA=%{y} <b>(trend)</b><extra></extra>",
         "legendgroup": "",
         "marker": {
          "symbol": "circle"
         },
         "mode": "lines",
         "name": "",
         "showlegend": false,
         "type": "scatter",
         "x": [
          1,
          3
         ],
         "xaxis": "x73",
         "y": [
          0.09406753672866966,
          0.12317839680852982
         ],
         "yaxis": "y73"
        },
        {
         "hovertemplate": "model=1<br>id=126<br>trial_id=%{x}<br>IPA=%{y}<br>method=%{marker.color}<extra></extra>",
         "legendgroup": "",
         "marker": {
          "color": [
           0,
           1
          ],
          "coloraxis": "coloraxis",
          "symbol": "circle"
         },
         "mode": "markers",
         "name": "",
         "orientation": "v",
         "showlegend": false,
         "type": "scatter",
         "x": [
          1,
          0
         ],
         "xaxis": "x74",
         "y": [
          0.1784264570750551,
          0.1308943355476292
         ],
         "yaxis": "y74"
        },
        {
         "hovertemplate": "<b>OLS trendline</b><br>IPA = 0.0475321 * trial_id + 0.130894<br>R<sup>2</sup>=1.000000<br><br>model=1<br>id=126<br>trial_id=%{x}<br>IPA=%{y} <b>(trend)</b><extra></extra>",
         "legendgroup": "",
         "marker": {
          "symbol": "circle"
         },
         "mode": "lines",
         "name": "",
         "showlegend": false,
         "type": "scatter",
         "x": [
          0,
          1
         ],
         "xaxis": "x74",
         "y": [
          0.13089433554762916,
          0.17842645707505506
         ],
         "yaxis": "y74"
        },
        {
         "hovertemplate": "model=1<br>id=127<br>trial_id=%{x}<br>IPA=%{y}<br>method=%{marker.color}<extra></extra>",
         "legendgroup": "",
         "marker": {
          "color": [
           0,
           1
          ],
          "coloraxis": "coloraxis",
          "symbol": "circle"
         },
         "mode": "markers",
         "name": "",
         "orientation": "v",
         "showlegend": false,
         "type": "scatter",
         "x": [
          2,
          0
         ],
         "xaxis": "x75",
         "y": [
          0.20294076783420054,
          0.2755105554981575
         ],
         "yaxis": "y75"
        },
        {
         "hovertemplate": "<b>OLS trendline</b><br>IPA = -0.0362849 * trial_id + 0.275511<br>R<sup>2</sup>=1.000000<br><br>model=1<br>id=127<br>trial_id=%{x}<br>IPA=%{y} <b>(trend)</b><extra></extra>",
         "legendgroup": "",
         "marker": {
          "symbol": "circle"
         },
         "mode": "lines",
         "name": "",
         "showlegend": false,
         "type": "scatter",
         "x": [
          0,
          2
         ],
         "xaxis": "x75",
         "y": [
          0.2755105554981574,
          0.20294076783420034
         ],
         "yaxis": "y75"
        },
        {
         "hovertemplate": "model=1<br>id=128<br>trial_id=%{x}<br>IPA=%{y}<br>method=%{marker.color}<extra></extra>",
         "legendgroup": "",
         "marker": {
          "color": [
           1
          ],
          "coloraxis": "coloraxis",
          "symbol": "circle"
         },
         "mode": "markers",
         "name": "",
         "orientation": "v",
         "showlegend": false,
         "type": "scatter",
         "x": [
          3
         ],
         "xaxis": "x76",
         "y": [
          0.11405076970013202
         ],
         "yaxis": "y76"
        },
        {
         "hovertemplate": "model=1<br>id=128<extra></extra>",
         "legendgroup": "",
         "marker": {
          "symbol": "circle"
         },
         "mode": "lines",
         "name": "",
         "showlegend": false,
         "type": "scatter",
         "xaxis": "x76",
         "yaxis": "y76"
        },
        {
         "hovertemplate": "model=1<br>id=131<br>trial_id=%{x}<br>IPA=%{y}<br>method=%{marker.color}<extra></extra>",
         "legendgroup": "",
         "marker": {
          "color": [
           0,
           1
          ],
          "coloraxis": "coloraxis",
          "symbol": "circle"
         },
         "mode": "markers",
         "name": "",
         "orientation": "v",
         "showlegend": false,
         "type": "scatter",
         "x": [
          2,
          0
         ],
         "xaxis": "x77",
         "y": [
          0.1789356905128297,
          0.11706744255365516
         ],
         "yaxis": "y77"
        },
        {
         "hovertemplate": "<b>OLS trendline</b><br>IPA = 0.0309341 * trial_id + 0.117067<br>R<sup>2</sup>=1.000000<br><br>model=1<br>id=131<br>trial_id=%{x}<br>IPA=%{y} <b>(trend)</b><extra></extra>",
         "legendgroup": "",
         "marker": {
          "symbol": "circle"
         },
         "mode": "lines",
         "name": "",
         "showlegend": false,
         "type": "scatter",
         "x": [
          0,
          2
         ],
         "xaxis": "x77",
         "y": [
          0.11706744255365512,
          0.1789356905128296
         ],
         "yaxis": "y77"
        },
        {
         "hovertemplate": "model=1<br>id=132<br>trial_id=%{x}<br>IPA=%{y}<br>method=%{marker.color}<extra></extra>",
         "legendgroup": "",
         "marker": {
          "color": [
           0,
           1
          ],
          "coloraxis": "coloraxis",
          "symbol": "circle"
         },
         "mode": "markers",
         "name": "",
         "orientation": "v",
         "showlegend": false,
         "type": "scatter",
         "x": [
          2,
          3
         ],
         "xaxis": "x78",
         "y": [
          0.14329873692399026,
          0.14965178392802853
         ],
         "yaxis": "y78"
        },
        {
         "hovertemplate": "<b>OLS trendline</b><br>IPA = 0.00635305 * trial_id + 0.130593<br>R<sup>2</sup>=1.000000<br><br>model=1<br>id=132<br>trial_id=%{x}<br>IPA=%{y} <b>(trend)</b><extra></extra>",
         "legendgroup": "",
         "marker": {
          "symbol": "circle"
         },
         "mode": "lines",
         "name": "",
         "showlegend": false,
         "type": "scatter",
         "x": [
          2,
          3
         ],
         "xaxis": "x78",
         "y": [
          0.1432987369239903,
          0.1496517839280286
         ],
         "yaxis": "y78"
        },
        {
         "hovertemplate": "model=1<br>id=133<br>trial_id=%{x}<br>IPA=%{y}<br>method=%{marker.color}<extra></extra>",
         "legendgroup": "",
         "marker": {
          "color": [
           0,
           1
          ],
          "coloraxis": "coloraxis",
          "symbol": "circle"
         },
         "mode": "markers",
         "name": "",
         "orientation": "v",
         "showlegend": false,
         "type": "scatter",
         "x": [
          1,
          3
         ],
         "xaxis": "x79",
         "y": [
          0.1264264059248471,
          0.15347545160151635
         ],
         "yaxis": "y79"
        },
        {
         "hovertemplate": "<b>OLS trendline</b><br>IPA = 0.0135245 * trial_id + 0.112902<br>R<sup>2</sup>=1.000000<br><br>model=1<br>id=133<br>trial_id=%{x}<br>IPA=%{y} <b>(trend)</b><extra></extra>",
         "legendgroup": "",
         "marker": {
          "symbol": "circle"
         },
         "mode": "lines",
         "name": "",
         "showlegend": false,
         "type": "scatter",
         "x": [
          1,
          3
         ],
         "xaxis": "x79",
         "y": [
          0.12642640592484705,
          0.15347545160151632
         ],
         "yaxis": "y79"
        },
        {
         "hovertemplate": "model=1<br>id=134<br>trial_id=%{x}<br>IPA=%{y}<br>method=%{marker.color}<extra></extra>",
         "legendgroup": "",
         "marker": {
          "color": [
           0,
           1
          ],
          "coloraxis": "coloraxis",
          "symbol": "circle"
         },
         "mode": "markers",
         "name": "",
         "orientation": "v",
         "showlegend": false,
         "type": "scatter",
         "x": [
          1,
          0
         ],
         "xaxis": "x80",
         "y": [
          0.18286314199753242,
          0.202148398017891
         ],
         "yaxis": "y80"
        },
        {
         "hovertemplate": "<b>OLS trendline</b><br>IPA = -0.0192853 * trial_id + 0.202148<br>R<sup>2</sup>=1.000000<br><br>model=1<br>id=134<br>trial_id=%{x}<br>IPA=%{y} <b>(trend)</b><extra></extra>",
         "legendgroup": "",
         "marker": {
          "symbol": "circle"
         },
         "mode": "lines",
         "name": "",
         "showlegend": false,
         "type": "scatter",
         "x": [
          0,
          1
         ],
         "xaxis": "x80",
         "y": [
          0.20214839801789097,
          0.18286314199753237
         ],
         "yaxis": "y80"
        },
        {
         "hovertemplate": "model=1<br>id=135<br>trial_id=%{x}<br>IPA=%{y}<br>method=%{marker.color}<extra></extra>",
         "legendgroup": "",
         "marker": {
          "color": [
           0,
           1
          ],
          "coloraxis": "coloraxis",
          "symbol": "circle"
         },
         "mode": "markers",
         "name": "",
         "orientation": "v",
         "showlegend": false,
         "type": "scatter",
         "x": [
          2,
          0
         ],
         "xaxis": "x81",
         "y": [
          0.15336560827356335,
          0.10703500981377247
         ],
         "yaxis": "y81"
        },
        {
         "hovertemplate": "<b>OLS trendline</b><br>IPA = 0.0231653 * trial_id + 0.107035<br>R<sup>2</sup>=1.000000<br><br>model=1<br>id=135<br>trial_id=%{x}<br>IPA=%{y} <b>(trend)</b><extra></extra>",
         "legendgroup": "",
         "marker": {
          "symbol": "circle"
         },
         "mode": "lines",
         "name": "",
         "showlegend": false,
         "type": "scatter",
         "x": [
          0,
          2
         ],
         "xaxis": "x81",
         "y": [
          0.10703500981377244,
          0.15336560827356327
         ],
         "yaxis": "y81"
        },
        {
         "hovertemplate": "model=1<br>id=136<br>trial_id=%{x}<br>IPA=%{y}<br>method=%{marker.color}<extra></extra>",
         "legendgroup": "",
         "marker": {
          "color": [
           0,
           1
          ],
          "coloraxis": "coloraxis",
          "symbol": "circle"
         },
         "mode": "markers",
         "name": "",
         "orientation": "v",
         "showlegend": false,
         "type": "scatter",
         "x": [
          2,
          3
         ],
         "xaxis": "x82",
         "y": [
          0.1199442430618681,
          0.13889274702075058
         ],
         "yaxis": "y82"
        },
        {
         "hovertemplate": "<b>OLS trendline</b><br>IPA = 0.0189485 * trial_id + 0.0820472<br>R<sup>2</sup>=1.000000<br><br>model=1<br>id=136<br>trial_id=%{x}<br>IPA=%{y} <b>(trend)</b><extra></extra>",
         "legendgroup": "",
         "marker": {
          "symbol": "circle"
         },
         "mode": "lines",
         "name": "",
         "showlegend": false,
         "type": "scatter",
         "x": [
          2,
          3
         ],
         "xaxis": "x82",
         "y": [
          0.11994424306186818,
          0.1388927470207507
         ],
         "yaxis": "y82"
        },
        {
         "hovertemplate": "model=1<br>id=137<br>trial_id=%{x}<br>IPA=%{y}<br>method=%{marker.color}<extra></extra>",
         "legendgroup": "",
         "marker": {
          "color": [
           0,
           1
          ],
          "coloraxis": "coloraxis",
          "symbol": "circle"
         },
         "mode": "markers",
         "name": "",
         "orientation": "v",
         "showlegend": false,
         "type": "scatter",
         "x": [
          1,
          3
         ],
         "xaxis": "x83",
         "y": [
          0.1352511952824383,
          0.11407181798700723
         ],
         "yaxis": "y83"
        },
        {
         "hovertemplate": "<b>OLS trendline</b><br>IPA = -0.0105897 * trial_id + 0.145841<br>R<sup>2</sup>=1.000000<br><br>model=1<br>id=137<br>trial_id=%{x}<br>IPA=%{y} <b>(trend)</b><extra></extra>",
         "legendgroup": "",
         "marker": {
          "symbol": "circle"
         },
         "mode": "lines",
         "name": "",
         "showlegend": false,
         "type": "scatter",
         "x": [
          1,
          3
         ],
         "xaxis": "x83",
         "y": [
          0.13525119528243823,
          0.11407181798700719
         ],
         "yaxis": "y83"
        },
        {
         "hovertemplate": "model=1<br>id=139<br>trial_id=%{x}<br>IPA=%{y}<br>method=%{marker.color}<extra></extra>",
         "legendgroup": "",
         "marker": {
          "color": [
           0,
           1
          ],
          "coloraxis": "coloraxis",
          "symbol": "circle"
         },
         "mode": "markers",
         "name": "",
         "orientation": "v",
         "showlegend": false,
         "type": "scatter",
         "x": [
          2,
          0
         ],
         "xaxis": "x84",
         "y": [
          0.13042613478888898,
          0.18360785768187735
         ],
         "yaxis": "y84"
        },
        {
         "hovertemplate": "<b>OLS trendline</b><br>IPA = -0.0265909 * trial_id + 0.183608<br>R<sup>2</sup>=1.000000<br><br>model=1<br>id=139<br>trial_id=%{x}<br>IPA=%{y} <b>(trend)</b><extra></extra>",
         "legendgroup": "",
         "marker": {
          "symbol": "circle"
         },
         "mode": "lines",
         "name": "",
         "showlegend": false,
         "type": "scatter",
         "x": [
          0,
          2
         ],
         "xaxis": "x84",
         "y": [
          0.18360785768187726,
          0.13042613478888884
         ],
         "yaxis": "y84"
        },
        {
         "hovertemplate": "model=1<br>id=140<br>trial_id=%{x}<br>IPA=%{y}<br>method=%{marker.color}<extra></extra>",
         "legendgroup": "",
         "marker": {
          "color": [
           0,
           1
          ],
          "coloraxis": "coloraxis",
          "symbol": "circle"
         },
         "mode": "markers",
         "name": "",
         "orientation": "v",
         "showlegend": false,
         "type": "scatter",
         "x": [
          2,
          3
         ],
         "xaxis": "x85",
         "y": [
          0.24792810986370717,
          0.21690091965989933
         ],
         "yaxis": "y85"
        },
        {
         "hovertemplate": "<b>OLS trendline</b><br>IPA = -0.0310272 * trial_id + 0.309982<br>R<sup>2</sup>=1.000000<br><br>model=1<br>id=140<br>trial_id=%{x}<br>IPA=%{y} <b>(trend)</b><extra></extra>",
         "legendgroup": "",
         "marker": {
          "symbol": "circle"
         },
         "mode": "lines",
         "name": "",
         "showlegend": false,
         "type": "scatter",
         "x": [
          2,
          3
         ],
         "xaxis": "x85",
         "y": [
          0.24792810986370722,
          0.21690091965989944
         ],
         "yaxis": "y85"
        },
        {
         "hovertemplate": "model=1<br>id=141<br>trial_id=%{x}<br>IPA=%{y}<br>method=%{marker.color}<extra></extra>",
         "legendgroup": "",
         "marker": {
          "color": [
           0,
           1
          ],
          "coloraxis": "coloraxis",
          "symbol": "circle"
         },
         "mode": "markers",
         "name": "",
         "orientation": "v",
         "showlegend": false,
         "type": "scatter",
         "x": [
          1,
          3
         ],
         "xaxis": "x86",
         "y": [
          0.21567644220140947,
          0.1880109740559318
         ],
         "yaxis": "y86"
        },
        {
         "hovertemplate": "<b>OLS trendline</b><br>IPA = -0.0138327 * trial_id + 0.229509<br>R<sup>2</sup>=1.000000<br><br>model=1<br>id=141<br>trial_id=%{x}<br>IPA=%{y} <b>(trend)</b><extra></extra>",
         "legendgroup": "",
         "marker": {
          "symbol": "circle"
         },
         "mode": "lines",
         "name": "",
         "showlegend": false,
         "type": "scatter",
         "x": [
          1,
          3
         ],
         "xaxis": "x86",
         "y": [
          0.21567644220140936,
          0.1880109740559317
         ],
         "yaxis": "y86"
        },
        {
         "hovertemplate": "model=1<br>id=142<br>trial_id=%{x}<br>IPA=%{y}<br>method=%{marker.color}<extra></extra>",
         "legendgroup": "",
         "marker": {
          "color": [
           0,
           1
          ],
          "coloraxis": "coloraxis",
          "symbol": "circle"
         },
         "mode": "markers",
         "name": "",
         "orientation": "v",
         "showlegend": false,
         "type": "scatter",
         "x": [
          1,
          0
         ],
         "xaxis": "x87",
         "y": [
          0.14936905154725968,
          0.2191598974957851
         ],
         "yaxis": "y87"
        },
        {
         "hovertemplate": "<b>OLS trendline</b><br>IPA = -0.0697908 * trial_id + 0.21916<br>R<sup>2</sup>=1.000000<br><br>model=1<br>id=142<br>trial_id=%{x}<br>IPA=%{y} <b>(trend)</b><extra></extra>",
         "legendgroup": "",
         "marker": {
          "symbol": "circle"
         },
         "mode": "lines",
         "name": "",
         "showlegend": false,
         "type": "scatter",
         "x": [
          0,
          1
         ],
         "xaxis": "x87",
         "y": [
          0.21915989749578507,
          0.14936905154725963
         ],
         "yaxis": "y87"
        },
        {
         "hovertemplate": "model=2<br>id=108<br>trial_id=%{x}<br>IPA=%{y}<br>method=%{marker.color}<extra></extra>",
         "legendgroup": "",
         "marker": {
          "color": [
           0,
           1
          ],
          "coloraxis": "coloraxis",
          "symbol": "circle"
         },
         "mode": "markers",
         "name": "",
         "orientation": "v",
         "showlegend": false,
         "type": "scatter",
         "x": [
          0,
          2
         ],
         "xaxis": "x30",
         "y": [
          0.22723631781725884,
          0.15289841887745037
         ],
         "yaxis": "y30"
        },
        {
         "hovertemplate": "<b>OLS trendline</b><br>IPA = -0.0371689 * trial_id + 0.227236<br>R<sup>2</sup>=1.000000<br><br>model=2<br>id=108<br>trial_id=%{x}<br>IPA=%{y} <b>(trend)</b><extra></extra>",
         "legendgroup": "",
         "marker": {
          "symbol": "circle"
         },
         "mode": "lines",
         "name": "",
         "showlegend": false,
         "type": "scatter",
         "x": [
          0,
          2
         ],
         "xaxis": "x30",
         "y": [
          0.22723631781725873,
          0.1528984188774502
         ],
         "yaxis": "y30"
        },
        {
         "hovertemplate": "model=2<br>id=109<br>trial_id=%{x}<br>IPA=%{y}<br>method=%{marker.color}<extra></extra>",
         "legendgroup": "",
         "marker": {
          "color": [
           0,
           1
          ],
          "coloraxis": "coloraxis",
          "symbol": "circle"
         },
         "mode": "markers",
         "name": "",
         "orientation": "v",
         "showlegend": false,
         "type": "scatter",
         "x": [
          3,
          2
         ],
         "xaxis": "x31",
         "y": [
          0.15388640105873844,
          0.09594350846221744
         ],
         "yaxis": "y31"
        },
        {
         "hovertemplate": "<b>OLS trendline</b><br>IPA = 0.0579429 * trial_id + -0.0199423<br>R<sup>2</sup>=1.000000<br><br>model=2<br>id=109<br>trial_id=%{x}<br>IPA=%{y} <b>(trend)</b><extra></extra>",
         "legendgroup": "",
         "marker": {
          "symbol": "circle"
         },
         "mode": "lines",
         "name": "",
         "showlegend": false,
         "type": "scatter",
         "x": [
          2,
          3
         ],
         "xaxis": "x31",
         "y": [
          0.0959435084622175,
          0.15388640105873852
         ],
         "yaxis": "y31"
        },
        {
         "hovertemplate": "model=2<br>id=110<br>trial_id=%{x}<br>IPA=%{y}<br>method=%{marker.color}<extra></extra>",
         "legendgroup": "",
         "marker": {
          "color": [
           0,
           1
          ],
          "coloraxis": "coloraxis",
          "symbol": "circle"
         },
         "mode": "markers",
         "name": "",
         "orientation": "v",
         "showlegend": false,
         "type": "scatter",
         "x": [
          3,
          1
         ],
         "xaxis": "x32",
         "y": [
          0.14027547297382598,
          0.179725020718301
         ],
         "yaxis": "y32"
        },
        {
         "hovertemplate": "<b>OLS trendline</b><br>IPA = -0.0197248 * trial_id + 0.19945<br>R<sup>2</sup>=1.000000<br><br>model=2<br>id=110<br>trial_id=%{x}<br>IPA=%{y} <b>(trend)</b><extra></extra>",
         "legendgroup": "",
         "marker": {
          "symbol": "circle"
         },
         "mode": "lines",
         "name": "",
         "showlegend": false,
         "type": "scatter",
         "x": [
          1,
          3
         ],
         "xaxis": "x32",
         "y": [
          0.17972502071830093,
          0.14027547297382592
         ],
         "yaxis": "y32"
        },
        {
         "hovertemplate": "model=2<br>id=111<br>trial_id=%{x}<br>IPA=%{y}<br>method=%{marker.color}<extra></extra>",
         "legendgroup": "",
         "marker": {
          "color": [
           0,
           1
          ],
          "coloraxis": "coloraxis",
          "symbol": "circle"
         },
         "mode": "markers",
         "name": "",
         "orientation": "v",
         "showlegend": false,
         "type": "scatter",
         "x": [
          0,
          1
         ],
         "xaxis": "x33",
         "y": [
          0.22069744807540792,
          0.27881766440018885
         ],
         "yaxis": "y33"
        },
        {
         "hovertemplate": "<b>OLS trendline</b><br>IPA = 0.0581202 * trial_id + 0.220697<br>R<sup>2</sup>=1.000000<br><br>model=2<br>id=111<br>trial_id=%{x}<br>IPA=%{y} <b>(trend)</b><extra></extra>",
         "legendgroup": "",
         "marker": {
          "symbol": "circle"
         },
         "mode": "lines",
         "name": "",
         "showlegend": false,
         "type": "scatter",
         "x": [
          0,
          1
         ],
         "xaxis": "x33",
         "y": [
          0.2206974480754079,
          0.27881766440018874
         ],
         "yaxis": "y33"
        },
        {
         "hovertemplate": "model=2<br>id=112<br>trial_id=%{x}<br>IPA=%{y}<br>method=%{marker.color}<extra></extra>",
         "legendgroup": "",
         "marker": {
          "color": [
           0,
           1
          ],
          "coloraxis": "coloraxis",
          "symbol": "circle"
         },
         "mode": "markers",
         "name": "",
         "orientation": "v",
         "showlegend": false,
         "type": "scatter",
         "x": [
          0,
          2
         ],
         "xaxis": "x34",
         "y": [
          0.20773256132359635,
          0.07974125557391376
         ],
         "yaxis": "y34"
        },
        {
         "hovertemplate": "<b>OLS trendline</b><br>IPA = -0.0639957 * trial_id + 0.207733<br>R<sup>2</sup>=1.000000<br><br>model=2<br>id=112<br>trial_id=%{x}<br>IPA=%{y} <b>(trend)</b><extra></extra>",
         "legendgroup": "",
         "marker": {
          "symbol": "circle"
         },
         "mode": "lines",
         "name": "",
         "showlegend": false,
         "type": "scatter",
         "x": [
          0,
          2
         ],
         "xaxis": "x34",
         "y": [
          0.20773256132359627,
          0.07974125557391362
         ],
         "yaxis": "y34"
        },
        {
         "hovertemplate": "model=2<br>id=114<br>trial_id=%{x}<br>IPA=%{y}<br>method=%{marker.color}<extra></extra>",
         "legendgroup": "",
         "marker": {
          "color": [
           0,
           1
          ],
          "coloraxis": "coloraxis",
          "symbol": "circle"
         },
         "mode": "markers",
         "name": "",
         "orientation": "v",
         "showlegend": false,
         "type": "scatter",
         "x": [
          3,
          1
         ],
         "xaxis": "x35",
         "y": [
          0.1059322033898305,
          0.11666542223549616
         ],
         "yaxis": "y35"
        },
        {
         "hovertemplate": "<b>OLS trendline</b><br>IPA = -0.00536661 * trial_id + 0.122032<br>R<sup>2</sup>=1.000000<br><br>model=2<br>id=114<br>trial_id=%{x}<br>IPA=%{y} <b>(trend)</b><extra></extra>",
         "legendgroup": "",
         "marker": {
          "symbol": "circle"
         },
         "mode": "lines",
         "name": "",
         "showlegend": false,
         "type": "scatter",
         "x": [
          1,
          3
         ],
         "xaxis": "x35",
         "y": [
          0.11666542223549611,
          0.10593220338983048
         ],
         "yaxis": "y35"
        },
        {
         "hovertemplate": "model=2<br>id=116<br>trial_id=%{x}<br>IPA=%{y}<br>method=%{marker.color}<extra></extra>",
         "legendgroup": "",
         "marker": {
          "color": [
           0,
           1
          ],
          "coloraxis": "coloraxis",
          "symbol": "circle"
         },
         "mode": "markers",
         "name": "",
         "orientation": "v",
         "showlegend": false,
         "type": "scatter",
         "x": [
          0,
          2
         ],
         "xaxis": "x36",
         "y": [
          0.1630800699846472,
          0.16275923929948424
         ],
         "yaxis": "y36"
        },
        {
         "hovertemplate": "<b>OLS trendline</b><br>IPA = -0.000160415 * trial_id + 0.16308<br>R<sup>2</sup>=1.000000<br><br>model=2<br>id=116<br>trial_id=%{x}<br>IPA=%{y} <b>(trend)</b><extra></extra>",
         "legendgroup": "",
         "marker": {
          "symbol": "circle"
         },
         "mode": "lines",
         "name": "",
         "showlegend": false,
         "type": "scatter",
         "x": [
          0,
          2
         ],
         "xaxis": "x36",
         "y": [
          0.1630800699846471,
          0.16275923929948408
         ],
         "yaxis": "y36"
        },
        {
         "hovertemplate": "model=2<br>id=117<br>trial_id=%{x}<br>IPA=%{y}<br>method=%{marker.color}<extra></extra>",
         "legendgroup": "",
         "marker": {
          "color": [
           1
          ],
          "coloraxis": "coloraxis",
          "symbol": "circle"
         },
         "mode": "markers",
         "name": "",
         "orientation": "v",
         "showlegend": false,
         "type": "scatter",
         "x": [
          2
         ],
         "xaxis": "x37",
         "y": [
          0.14690466621685858
         ],
         "yaxis": "y37"
        },
        {
         "hovertemplate": "model=2<br>id=117<extra></extra>",
         "legendgroup": "",
         "marker": {
          "symbol": "circle"
         },
         "mode": "lines",
         "name": "",
         "showlegend": false,
         "type": "scatter",
         "xaxis": "x37",
         "yaxis": "y37"
        },
        {
         "hovertemplate": "model=2<br>id=118<br>trial_id=%{x}<br>IPA=%{y}<br>method=%{marker.color}<extra></extra>",
         "legendgroup": "",
         "marker": {
          "color": [
           0,
           1
          ],
          "coloraxis": "coloraxis",
          "symbol": "circle"
         },
         "mode": "markers",
         "name": "",
         "orientation": "v",
         "showlegend": false,
         "type": "scatter",
         "x": [
          3,
          1
         ],
         "xaxis": "x38",
         "y": [
          0.16665457604056175,
          0.2120966899864258
         ],
         "yaxis": "y38"
        },
        {
         "hovertemplate": "<b>OLS trendline</b><br>IPA = -0.0227211 * trial_id + 0.234818<br>R<sup>2</sup>=1.000000<br><br>model=2<br>id=118<br>trial_id=%{x}<br>IPA=%{y} <b>(trend)</b><extra></extra>",
         "legendgroup": "",
         "marker": {
          "symbol": "circle"
         },
         "mode": "lines",
         "name": "",
         "showlegend": false,
         "type": "scatter",
         "x": [
          1,
          3
         ],
         "xaxis": "x38",
         "y": [
          0.21209668998642572,
          0.16665457604056172
         ],
         "yaxis": "y38"
        },
        {
         "hovertemplate": "model=2<br>id=119<br>trial_id=%{x}<br>IPA=%{y}<br>method=%{marker.color}<extra></extra>",
         "legendgroup": "",
         "marker": {
          "color": [
           0,
           1
          ],
          "coloraxis": "coloraxis",
          "symbol": "circle"
         },
         "mode": "markers",
         "name": "",
         "orientation": "v",
         "showlegend": false,
         "type": "scatter",
         "x": [
          0,
          1
         ],
         "xaxis": "x39",
         "y": [
          0.29383245673317077,
          0.24523277699553062
         ],
         "yaxis": "y39"
        },
        {
         "hovertemplate": "<b>OLS trendline</b><br>IPA = -0.0485997 * trial_id + 0.293832<br>R<sup>2</sup>=1.000000<br><br>model=2<br>id=119<br>trial_id=%{x}<br>IPA=%{y} <b>(trend)</b><extra></extra>",
         "legendgroup": "",
         "marker": {
          "symbol": "circle"
         },
         "mode": "lines",
         "name": "",
         "showlegend": false,
         "type": "scatter",
         "x": [
          0,
          1
         ],
         "xaxis": "x39",
         "y": [
          0.2938324567331707,
          0.2452327769955305
         ],
         "yaxis": "y39"
        },
        {
         "hovertemplate": "model=2<br>id=120<br>trial_id=%{x}<br>IPA=%{y}<br>method=%{marker.color}<extra></extra>",
         "legendgroup": "",
         "marker": {
          "color": [
           0,
           1
          ],
          "coloraxis": "coloraxis",
          "symbol": "circle"
         },
         "mode": "markers",
         "name": "",
         "orientation": "v",
         "showlegend": false,
         "type": "scatter",
         "x": [
          0,
          2
         ],
         "xaxis": "x40",
         "y": [
          0.1078785503280407,
          0.05485985136637603
         ],
         "yaxis": "y40"
        },
        {
         "hovertemplate": "<b>OLS trendline</b><br>IPA = -0.0265093 * trial_id + 0.107879<br>R<sup>2</sup>=1.000000<br><br>model=2<br>id=120<br>trial_id=%{x}<br>IPA=%{y} <b>(trend)</b><extra></extra>",
         "legendgroup": "",
         "marker": {
          "symbol": "circle"
         },
         "mode": "lines",
         "name": "",
         "showlegend": false,
         "type": "scatter",
         "x": [
          0,
          2
         ],
         "xaxis": "x40",
         "y": [
          0.10787855032804065,
          0.05485985136637596
         ],
         "yaxis": "y40"
        },
        {
         "hovertemplate": "model=2<br>id=121<br>trial_id=%{x}<br>IPA=%{y}<br>method=%{marker.color}<extra></extra>",
         "legendgroup": "",
         "marker": {
          "color": [
           0,
           1
          ],
          "coloraxis": "coloraxis",
          "symbol": "circle"
         },
         "mode": "markers",
         "name": "",
         "orientation": "v",
         "showlegend": false,
         "type": "scatter",
         "x": [
          3,
          2
         ],
         "xaxis": "x41",
         "y": [
          0.1383141806613723,
          0.15000252276970114
         ],
         "yaxis": "y41"
        },
        {
         "hovertemplate": "<b>OLS trendline</b><br>IPA = -0.0116883 * trial_id + 0.173379<br>R<sup>2</sup>=1.000000<br><br>model=2<br>id=121<br>trial_id=%{x}<br>IPA=%{y} <b>(trend)</b><extra></extra>",
         "legendgroup": "",
         "marker": {
          "symbol": "circle"
         },
         "mode": "lines",
         "name": "",
         "showlegend": false,
         "type": "scatter",
         "x": [
          2,
          3
         ],
         "xaxis": "x41",
         "y": [
          0.15000252276970116,
          0.13831418066137235
         ],
         "yaxis": "y41"
        },
        {
         "hovertemplate": "model=2<br>id=122<br>trial_id=%{x}<br>IPA=%{y}<br>method=%{marker.color}<extra></extra>",
         "legendgroup": "",
         "marker": {
          "color": [
           0,
           1
          ],
          "coloraxis": "coloraxis",
          "symbol": "circle"
         },
         "mode": "markers",
         "name": "",
         "orientation": "v",
         "showlegend": false,
         "type": "scatter",
         "x": [
          3,
          1
         ],
         "xaxis": "x42",
         "y": [
          0.12108166285483654,
          0.20472886453649386
         ],
         "yaxis": "y42"
        },
        {
         "hovertemplate": "<b>OLS trendline</b><br>IPA = -0.0418236 * trial_id + 0.246552<br>R<sup>2</sup>=1.000000<br><br>model=2<br>id=122<br>trial_id=%{x}<br>IPA=%{y} <b>(trend)</b><extra></extra>",
         "legendgroup": "",
         "marker": {
          "symbol": "circle"
         },
         "mode": "lines",
         "name": "",
         "showlegend": false,
         "type": "scatter",
         "x": [
          1,
          3
         ],
         "xaxis": "x42",
         "y": [
          0.20472886453649378,
          0.12108166285483649
         ],
         "yaxis": "y42"
        },
        {
         "hovertemplate": "model=2<br>id=124<br>trial_id=%{x}<br>IPA=%{y}<br>method=%{marker.color}<extra></extra>",
         "legendgroup": "",
         "marker": {
          "color": [
           0,
           1
          ],
          "coloraxis": "coloraxis",
          "symbol": "circle"
         },
         "mode": "markers",
         "name": "",
         "orientation": "v",
         "showlegend": false,
         "type": "scatter",
         "x": [
          0,
          2
         ],
         "xaxis": "x43",
         "y": [
          0.21449610028591312,
          0.15979868145244497
         ],
         "yaxis": "y43"
        },
        {
         "hovertemplate": "<b>OLS trendline</b><br>IPA = -0.0273487 * trial_id + 0.214496<br>R<sup>2</sup>=1.000000<br><br>model=2<br>id=124<br>trial_id=%{x}<br>IPA=%{y} <b>(trend)</b><extra></extra>",
         "legendgroup": "",
         "marker": {
          "symbol": "circle"
         },
         "mode": "lines",
         "name": "",
         "showlegend": false,
         "type": "scatter",
         "x": [
          0,
          2
         ],
         "xaxis": "x43",
         "y": [
          0.21449610028591304,
          0.1597986814524448
         ],
         "yaxis": "y43"
        },
        {
         "hovertemplate": "model=2<br>id=125<br>trial_id=%{x}<br>IPA=%{y}<br>method=%{marker.color}<extra></extra>",
         "legendgroup": "",
         "marker": {
          "color": [
           0,
           1
          ],
          "coloraxis": "coloraxis",
          "symbol": "circle"
         },
         "mode": "markers",
         "name": "",
         "orientation": "v",
         "showlegend": false,
         "type": "scatter",
         "x": [
          3,
          2
         ],
         "xaxis": "x44",
         "y": [
          0.1793348827867206,
          0.13846484031542292
         ],
         "yaxis": "y44"
        },
        {
         "hovertemplate": "<b>OLS trendline</b><br>IPA = 0.04087 * trial_id + 0.0567248<br>R<sup>2</sup>=1.000000<br><br>model=2<br>id=125<br>trial_id=%{x}<br>IPA=%{y} <b>(trend)</b><extra></extra>",
         "legendgroup": "",
         "marker": {
          "symbol": "circle"
         },
         "mode": "lines",
         "name": "",
         "showlegend": false,
         "type": "scatter",
         "x": [
          2,
          3
         ],
         "xaxis": "x44",
         "y": [
          0.13846484031542294,
          0.17933488278672066
         ],
         "yaxis": "y44"
        },
        {
         "hovertemplate": "model=2<br>id=126<br>trial_id=%{x}<br>IPA=%{y}<br>method=%{marker.color}<extra></extra>",
         "legendgroup": "",
         "marker": {
          "color": [
           0,
           1
          ],
          "coloraxis": "coloraxis",
          "symbol": "circle"
         },
         "mode": "markers",
         "name": "",
         "orientation": "v",
         "showlegend": false,
         "type": "scatter",
         "x": [
          3,
          1
         ],
         "xaxis": "x45",
         "y": [
          0.1516836410141189,
          0.19074391318290793
         ],
         "yaxis": "y45"
        },
        {
         "hovertemplate": "<b>OLS trendline</b><br>IPA = -0.0195301 * trial_id + 0.210274<br>R<sup>2</sup>=1.000000<br><br>model=2<br>id=126<br>trial_id=%{x}<br>IPA=%{y} <b>(trend)</b><extra></extra>",
         "legendgroup": "",
         "marker": {
          "symbol": "circle"
         },
         "mode": "lines",
         "name": "",
         "showlegend": false,
         "type": "scatter",
         "x": [
          1,
          3
         ],
         "xaxis": "x45",
         "y": [
          0.19074391318290784,
          0.15168364101411885
         ],
         "yaxis": "y45"
        },
        {
         "hovertemplate": "model=2<br>id=127<br>trial_id=%{x}<br>IPA=%{y}<br>method=%{marker.color}<extra></extra>",
         "legendgroup": "",
         "marker": {
          "color": [
           0,
           1
          ],
          "coloraxis": "coloraxis",
          "symbol": "circle"
         },
         "mode": "markers",
         "name": "",
         "orientation": "v",
         "showlegend": false,
         "type": "scatter",
         "x": [
          0,
          1
         ],
         "xaxis": "x46",
         "y": [
          0.24839629144336875,
          0.2097143499903722
         ],
         "yaxis": "y46"
        },
        {
         "hovertemplate": "<b>OLS trendline</b><br>IPA = -0.0386819 * trial_id + 0.248396<br>R<sup>2</sup>=1.000000<br><br>model=2<br>id=127<br>trial_id=%{x}<br>IPA=%{y} <b>(trend)</b><extra></extra>",
         "legendgroup": "",
         "marker": {
          "symbol": "circle"
         },
         "mode": "lines",
         "name": "",
         "showlegend": false,
         "type": "scatter",
         "x": [
          0,
          1
         ],
         "xaxis": "x46",
         "y": [
          0.24839629144336872,
          0.2097143499903721
         ],
         "yaxis": "y46"
        },
        {
         "hovertemplate": "model=2<br>id=128<br>trial_id=%{x}<br>IPA=%{y}<br>method=%{marker.color}<extra></extra>",
         "legendgroup": "",
         "marker": {
          "color": [
           0,
           1
          ],
          "coloraxis": "coloraxis",
          "symbol": "circle"
         },
         "mode": "markers",
         "name": "",
         "orientation": "v",
         "showlegend": false,
         "type": "scatter",
         "x": [
          0,
          2
         ],
         "xaxis": "x47",
         "y": [
          0.14809580529209782,
          0.12677002649493554
         ],
         "yaxis": "y47"
        },
        {
         "hovertemplate": "<b>OLS trendline</b><br>IPA = -0.0106629 * trial_id + 0.148096<br>R<sup>2</sup>=1.000000<br><br>model=2<br>id=128<br>trial_id=%{x}<br>IPA=%{y} <b>(trend)</b><extra></extra>",
         "legendgroup": "",
         "marker": {
          "symbol": "circle"
         },
         "mode": "lines",
         "name": "",
         "showlegend": false,
         "type": "scatter",
         "x": [
          0,
          2
         ],
         "xaxis": "x47",
         "y": [
          0.14809580529209776,
          0.12677002649493543
         ],
         "yaxis": "y47"
        },
        {
         "hovertemplate": "model=2<br>id=131<br>trial_id=%{x}<br>IPA=%{y}<br>method=%{marker.color}<extra></extra>",
         "legendgroup": "",
         "marker": {
          "color": [
           0,
           1
          ],
          "coloraxis": "coloraxis",
          "symbol": "circle"
         },
         "mode": "markers",
         "name": "",
         "orientation": "v",
         "showlegend": false,
         "type": "scatter",
         "x": [
          0,
          1
         ],
         "xaxis": "x48",
         "y": [
          0.2408804179275251,
          0.15001012568348362
         ],
         "yaxis": "y48"
        },
        {
         "hovertemplate": "<b>OLS trendline</b><br>IPA = -0.0908703 * trial_id + 0.24088<br>R<sup>2</sup>=1.000000<br><br>model=2<br>id=131<br>trial_id=%{x}<br>IPA=%{y} <b>(trend)</b><extra></extra>",
         "legendgroup": "",
         "marker": {
          "symbol": "circle"
         },
         "mode": "lines",
         "name": "",
         "showlegend": false,
         "type": "scatter",
         "x": [
          0,
          1
         ],
         "xaxis": "x48",
         "y": [
          0.24088041792752507,
          0.15001012568348357
         ],
         "yaxis": "y48"
        },
        {
         "hovertemplate": "model=2<br>id=132<br>trial_id=%{x}<br>IPA=%{y}<br>method=%{marker.color}<extra></extra>",
         "legendgroup": "",
         "marker": {
          "color": [
           0,
           1
          ],
          "coloraxis": "coloraxis",
          "symbol": "circle"
         },
         "mode": "markers",
         "name": "",
         "orientation": "v",
         "showlegend": false,
         "type": "scatter",
         "x": [
          0,
          2
         ],
         "xaxis": "x49",
         "y": [
          0.2136668435353316,
          0.26730310262529833
         ],
         "yaxis": "y49"
        },
        {
         "hovertemplate": "<b>OLS trendline</b><br>IPA = 0.0268181 * trial_id + 0.213667<br>R<sup>2</sup>=1.000000<br><br>model=2<br>id=132<br>trial_id=%{x}<br>IPA=%{y} <b>(trend)</b><extra></extra>",
         "legendgroup": "",
         "marker": {
          "symbol": "circle"
         },
         "mode": "lines",
         "name": "",
         "showlegend": false,
         "type": "scatter",
         "x": [
          0,
          2
         ],
         "xaxis": "x49",
         "y": [
          0.21366684353533155,
          0.26730310262529816
         ],
         "yaxis": "y49"
        },
        {
         "hovertemplate": "model=2<br>id=133<br>trial_id=%{x}<br>IPA=%{y}<br>method=%{marker.color}<extra></extra>",
         "legendgroup": "",
         "marker": {
          "color": [
           0,
           1
          ],
          "coloraxis": "coloraxis",
          "symbol": "circle"
         },
         "mode": "markers",
         "name": "",
         "orientation": "v",
         "showlegend": false,
         "type": "scatter",
         "x": [
          3,
          2
         ],
         "xaxis": "x50",
         "y": [
          0.18035444156628813,
          0.18425300148139412
         ],
         "yaxis": "y50"
        },
        {
         "hovertemplate": "<b>OLS trendline</b><br>IPA = -0.00389856 * trial_id + 0.19205<br>R<sup>2</sup>=1.000000<br><br>model=2<br>id=133<br>trial_id=%{x}<br>IPA=%{y} <b>(trend)</b><extra></extra>",
         "legendgroup": "",
         "marker": {
          "symbol": "circle"
         },
         "mode": "lines",
         "name": "",
         "showlegend": false,
         "type": "scatter",
         "x": [
          2,
          3
         ],
         "xaxis": "x50",
         "y": [
          0.18425300148139417,
          0.18035444156628821
         ],
         "yaxis": "y50"
        },
        {
         "hovertemplate": "model=2<br>id=134<br>trial_id=%{x}<br>IPA=%{y}<br>method=%{marker.color}<extra></extra>",
         "legendgroup": "",
         "marker": {
          "color": [
           0,
           1
          ],
          "coloraxis": "coloraxis",
          "symbol": "circle"
         },
         "mode": "markers",
         "name": "",
         "orientation": "v",
         "showlegend": false,
         "type": "scatter",
         "x": [
          3,
          1
         ],
         "xaxis": "x51",
         "y": [
          0.19402579647589452,
          0.15357571519029214
         ],
         "yaxis": "y51"
        },
        {
         "hovertemplate": "<b>OLS trendline</b><br>IPA = 0.020225 * trial_id + 0.133351<br>R<sup>2</sup>=1.000000<br><br>model=2<br>id=134<br>trial_id=%{x}<br>IPA=%{y} <b>(trend)</b><extra></extra>",
         "legendgroup": "",
         "marker": {
          "symbol": "circle"
         },
         "mode": "lines",
         "name": "",
         "showlegend": false,
         "type": "scatter",
         "x": [
          1,
          3
         ],
         "xaxis": "x51",
         "y": [
          0.1535757151902921,
          0.1940257964758945
         ],
         "yaxis": "y51"
        },
        {
         "hovertemplate": "model=2<br>id=135<br>trial_id=%{x}<br>IPA=%{y}<br>method=%{marker.color}<extra></extra>",
         "legendgroup": "",
         "marker": {
          "color": [
           0,
           1
          ],
          "coloraxis": "coloraxis",
          "symbol": "circle"
         },
         "mode": "markers",
         "name": "",
         "orientation": "v",
         "showlegend": false,
         "type": "scatter",
         "x": [
          0,
          1
         ],
         "xaxis": "x52",
         "y": [
          0.1720441207147573,
          0.2264917052560489
         ],
         "yaxis": "y52"
        },
        {
         "hovertemplate": "<b>OLS trendline</b><br>IPA = 0.0544476 * trial_id + 0.172044<br>R<sup>2</sup>=1.000000<br><br>model=2<br>id=135<br>trial_id=%{x}<br>IPA=%{y} <b>(trend)</b><extra></extra>",
         "legendgroup": "",
         "marker": {
          "symbol": "circle"
         },
         "mode": "lines",
         "name": "",
         "showlegend": false,
         "type": "scatter",
         "x": [
          0,
          1
         ],
         "xaxis": "x52",
         "y": [
          0.17204412071475728,
          0.2264917052560488
         ],
         "yaxis": "y52"
        },
        {
         "hovertemplate": "model=2<br>id=136<br>trial_id=%{x}<br>IPA=%{y}<br>method=%{marker.color}<extra></extra>",
         "legendgroup": "",
         "marker": {
          "color": [
           0,
           1
          ],
          "coloraxis": "coloraxis",
          "symbol": "circle"
         },
         "mode": "markers",
         "name": "",
         "orientation": "v",
         "showlegend": false,
         "type": "scatter",
         "x": [
          0,
          2
         ],
         "xaxis": "x53",
         "y": [
          0.12734500521053313,
          0.17324154418850413
         ],
         "yaxis": "y53"
        },
        {
         "hovertemplate": "<b>OLS trendline</b><br>IPA = 0.0229483 * trial_id + 0.127345<br>R<sup>2</sup>=1.000000<br><br>model=2<br>id=136<br>trial_id=%{x}<br>IPA=%{y} <b>(trend)</b><extra></extra>",
         "legendgroup": "",
         "marker": {
          "symbol": "circle"
         },
         "mode": "lines",
         "name": "",
         "showlegend": false,
         "type": "scatter",
         "x": [
          0,
          2
         ],
         "xaxis": "x53",
         "y": [
          0.1273450052105331,
          0.17324154418850402
         ],
         "yaxis": "y53"
        },
        {
         "hovertemplate": "model=2<br>id=137<br>trial_id=%{x}<br>IPA=%{y}<br>method=%{marker.color}<extra></extra>",
         "legendgroup": "",
         "marker": {
          "color": [
           0,
           1
          ],
          "coloraxis": "coloraxis",
          "symbol": "circle"
         },
         "mode": "markers",
         "name": "",
         "orientation": "v",
         "showlegend": false,
         "type": "scatter",
         "x": [
          3,
          2
         ],
         "xaxis": "x54",
         "y": [
          0.1423327989922838,
          0.16846276046448552
         ],
         "yaxis": "y54"
        },
        {
         "hovertemplate": "<b>OLS trendline</b><br>IPA = -0.02613 * trial_id + 0.220723<br>R<sup>2</sup>=1.000000<br><br>model=2<br>id=137<br>trial_id=%{x}<br>IPA=%{y} <b>(trend)</b><extra></extra>",
         "legendgroup": "",
         "marker": {
          "symbol": "circle"
         },
         "mode": "lines",
         "name": "",
         "showlegend": false,
         "type": "scatter",
         "x": [
          2,
          3
         ],
         "xaxis": "x54",
         "y": [
          0.1684627604644855,
          0.1423327989922838
         ],
         "yaxis": "y54"
        },
        {
         "hovertemplate": "model=2<br>id=139<br>trial_id=%{x}<br>IPA=%{y}<br>method=%{marker.color}<extra></extra>",
         "legendgroup": "",
         "marker": {
          "color": [
           0,
           1
          ],
          "coloraxis": "coloraxis",
          "symbol": "circle"
         },
         "mode": "markers",
         "name": "",
         "orientation": "v",
         "showlegend": false,
         "type": "scatter",
         "x": [
          0,
          1
         ],
         "xaxis": "x55",
         "y": [
          0.13642857282069973,
          0.12915335669574052
         ],
         "yaxis": "y55"
        },
        {
         "hovertemplate": "<b>OLS trendline</b><br>IPA = -0.00727522 * trial_id + 0.136429<br>R<sup>2</sup>=1.000000<br><br>model=2<br>id=139<br>trial_id=%{x}<br>IPA=%{y} <b>(trend)</b><extra></extra>",
         "legendgroup": "",
         "marker": {
          "symbol": "circle"
         },
         "mode": "lines",
         "name": "",
         "showlegend": false,
         "type": "scatter",
         "x": [
          0,
          1
         ],
         "xaxis": "x55",
         "y": [
          0.1364285728206997,
          0.12915335669574046
         ],
         "yaxis": "y55"
        },
        {
         "hovertemplate": "model=2<br>id=140<br>trial_id=%{x}<br>IPA=%{y}<br>method=%{marker.color}<extra></extra>",
         "legendgroup": "",
         "marker": {
          "color": [
           0,
           1
          ],
          "coloraxis": "coloraxis",
          "symbol": "circle"
         },
         "mode": "markers",
         "name": "",
         "orientation": "v",
         "showlegend": false,
         "type": "scatter",
         "x": [
          0,
          2
         ],
         "xaxis": "x56",
         "y": [
          0.16240771761474107,
          0.20675986613775524
         ],
         "yaxis": "y56"
        },
        {
         "hovertemplate": "<b>OLS trendline</b><br>IPA = 0.0221761 * trial_id + 0.162408<br>R<sup>2</sup>=1.000000<br><br>model=2<br>id=140<br>trial_id=%{x}<br>IPA=%{y} <b>(trend)</b><extra></extra>",
         "legendgroup": "",
         "marker": {
          "symbol": "circle"
         },
         "mode": "lines",
         "name": "",
         "showlegend": false,
         "type": "scatter",
         "x": [
          0,
          2
         ],
         "xaxis": "x56",
         "y": [
          0.16240771761474102,
          0.2067598661377551
         ],
         "yaxis": "y56"
        },
        {
         "hovertemplate": "model=2<br>id=141<br>trial_id=%{x}<br>IPA=%{y}<br>method=%{marker.color}<extra></extra>",
         "legendgroup": "",
         "marker": {
          "color": [
           0,
           1
          ],
          "coloraxis": "coloraxis",
          "symbol": "circle"
         },
         "mode": "markers",
         "name": "",
         "orientation": "v",
         "showlegend": false,
         "type": "scatter",
         "x": [
          3,
          2
         ],
         "xaxis": "x57",
         "y": [
          0.23683269427977993,
          0.19260326794972416
         ],
         "yaxis": "y57"
        },
        {
         "hovertemplate": "<b>OLS trendline</b><br>IPA = 0.0442294 * trial_id + 0.104144<br>R<sup>2</sup>=1.000000<br><br>model=2<br>id=141<br>trial_id=%{x}<br>IPA=%{y} <b>(trend)</b><extra></extra>",
         "legendgroup": "",
         "marker": {
          "symbol": "circle"
         },
         "mode": "lines",
         "name": "",
         "showlegend": false,
         "type": "scatter",
         "x": [
          2,
          3
         ],
         "xaxis": "x57",
         "y": [
          0.1926032679497242,
          0.23683269427978004
         ],
         "yaxis": "y57"
        },
        {
         "hovertemplate": "model=2<br>id=142<br>trial_id=%{x}<br>IPA=%{y}<br>method=%{marker.color}<extra></extra>",
         "legendgroup": "",
         "marker": {
          "color": [
           0,
           1
          ],
          "coloraxis": "coloraxis",
          "symbol": "circle"
         },
         "mode": "markers",
         "name": "",
         "orientation": "v",
         "showlegend": false,
         "type": "scatter",
         "x": [
          3,
          1
         ],
         "xaxis": "x58",
         "y": [
          0.18669673728781916,
          0.1800885135043874
         ],
         "yaxis": "y58"
        },
        {
         "hovertemplate": "<b>OLS trendline</b><br>IPA = 0.00330411 * trial_id + 0.176784<br>R<sup>2</sup>=1.000000<br><br>model=2<br>id=142<br>trial_id=%{x}<br>IPA=%{y} <b>(trend)</b><extra></extra>",
         "legendgroup": "",
         "marker": {
          "symbol": "circle"
         },
         "mode": "lines",
         "name": "",
         "showlegend": false,
         "type": "scatter",
         "x": [
          1,
          3
         ],
         "xaxis": "x58",
         "y": [
          0.18008851350438734,
          0.18669673728781913
         ],
         "yaxis": "y58"
        },
        {
         "hovertemplate": "model=3<br>id=108<br>trial_id=%{x}<br>IPA=%{y}<br>method=%{marker.color}<extra></extra>",
         "legendgroup": "",
         "marker": {
          "color": [
           0,
           1
          ],
          "coloraxis": "coloraxis",
          "symbol": "circle"
         },
         "mode": "markers",
         "name": "",
         "orientation": "v",
         "showlegend": false,
         "type": "scatter",
         "x": [
          1,
          0
         ],
         "xaxis": "x",
         "y": [
          0.10275422422615794,
          0.1738850706625456
         ],
         "yaxis": "y"
        },
        {
         "hovertemplate": "<b>OLS trendline</b><br>IPA = -0.0711308 * trial_id + 0.173885<br>R<sup>2</sup>=1.000000<br><br>model=3<br>id=108<br>trial_id=%{x}<br>IPA=%{y} <b>(trend)</b><extra></extra>",
         "legendgroup": "",
         "marker": {
          "symbol": "circle"
         },
         "mode": "lines",
         "name": "",
         "showlegend": false,
         "type": "scatter",
         "x": [
          0,
          1
         ],
         "xaxis": "x",
         "y": [
          0.17388507066254558,
          0.10275422422615789
         ],
         "yaxis": "y"
        },
        {
         "hovertemplate": "model=3<br>id=109<br>trial_id=%{x}<br>IPA=%{y}<br>method=%{marker.color}<extra></extra>",
         "legendgroup": "",
         "marker": {
          "color": [
           0,
           1
          ],
          "coloraxis": "coloraxis",
          "symbol": "circle"
         },
         "mode": "markers",
         "name": "",
         "orientation": "v",
         "showlegend": false,
         "type": "scatter",
         "x": [
          2,
          0
         ],
         "xaxis": "x2",
         "y": [
          0.1889954263106833,
          0.09966949595142507
         ],
         "yaxis": "y2"
        },
        {
         "hovertemplate": "<b>OLS trendline</b><br>IPA = 0.044663 * trial_id + 0.0996695<br>R<sup>2</sup>=1.000000<br><br>model=3<br>id=109<br>trial_id=%{x}<br>IPA=%{y} <b>(trend)</b><extra></extra>",
         "legendgroup": "",
         "marker": {
          "symbol": "circle"
         },
         "mode": "lines",
         "name": "",
         "showlegend": false,
         "type": "scatter",
         "x": [
          0,
          2
         ],
         "xaxis": "x2",
         "y": [
          0.09966949595142505,
          0.1889954263106832
         ],
         "yaxis": "y2"
        },
        {
         "hovertemplate": "model=3<br>id=110<br>trial_id=%{x}<br>IPA=%{y}<br>method=%{marker.color}<extra></extra>",
         "legendgroup": "",
         "marker": {
          "color": [
           0,
           1
          ],
          "coloraxis": "coloraxis",
          "symbol": "circle"
         },
         "mode": "markers",
         "name": "",
         "orientation": "v",
         "showlegend": false,
         "type": "scatter",
         "x": [
          2,
          3
         ],
         "xaxis": "x3",
         "y": [
          0.1384900887259835,
          0.11801108832185873
         ],
         "yaxis": "y3"
        },
        {
         "hovertemplate": "<b>OLS trendline</b><br>IPA = -0.020479 * trial_id + 0.179448<br>R<sup>2</sup>=1.000000<br><br>model=3<br>id=110<br>trial_id=%{x}<br>IPA=%{y} <b>(trend)</b><extra></extra>",
         "legendgroup": "",
         "marker": {
          "symbol": "circle"
         },
         "mode": "lines",
         "name": "",
         "showlegend": false,
         "type": "scatter",
         "x": [
          2,
          3
         ],
         "xaxis": "x3",
         "y": [
          0.13849008872598353,
          0.11801108832185879
         ],
         "yaxis": "y3"
        },
        {
         "hovertemplate": "model=3<br>id=111<br>trial_id=%{x}<br>IPA=%{y}<br>method=%{marker.color}<extra></extra>",
         "legendgroup": "",
         "marker": {
          "color": [
           0,
           1
          ],
          "coloraxis": "coloraxis",
          "symbol": "circle"
         },
         "mode": "markers",
         "name": "",
         "orientation": "v",
         "showlegend": false,
         "type": "scatter",
         "x": [
          1,
          3
         ],
         "xaxis": "x4",
         "y": [
          0.11476286549103587,
          0.17368725005319172
         ],
         "yaxis": "y4"
        },
        {
         "hovertemplate": "<b>OLS trendline</b><br>IPA = 0.0294622 * trial_id + 0.0853007<br>R<sup>2</sup>=1.000000<br><br>model=3<br>id=111<br>trial_id=%{x}<br>IPA=%{y} <b>(trend)</b><extra></extra>",
         "legendgroup": "",
         "marker": {
          "symbol": "circle"
         },
         "mode": "lines",
         "name": "",
         "showlegend": false,
         "type": "scatter",
         "x": [
          1,
          3
         ],
         "xaxis": "x4",
         "y": [
          0.11476286549103581,
          0.1736872500531917
         ],
         "yaxis": "y4"
        },
        {
         "hovertemplate": "model=3<br>id=112<br>trial_id=%{x}<br>IPA=%{y}<br>method=%{marker.color}<extra></extra>",
         "legendgroup": "",
         "marker": {
          "color": [
           0,
           1
          ],
          "coloraxis": "coloraxis",
          "symbol": "circle"
         },
         "mode": "markers",
         "name": "",
         "orientation": "v",
         "showlegend": false,
         "type": "scatter",
         "x": [
          1,
          0
         ],
         "xaxis": "x5",
         "y": [
          0.21388029654503116,
          0.22375869861940884
         ],
         "yaxis": "y5"
        },
        {
         "hovertemplate": "<b>OLS trendline</b><br>IPA = -0.0098784 * trial_id + 0.223759<br>R<sup>2</sup>=1.000000<br><br>model=3<br>id=112<br>trial_id=%{x}<br>IPA=%{y} <b>(trend)</b><extra></extra>",
         "legendgroup": "",
         "marker": {
          "symbol": "circle"
         },
         "mode": "lines",
         "name": "",
         "showlegend": false,
         "type": "scatter",
         "x": [
          0,
          1
         ],
         "xaxis": "x5",
         "y": [
          0.2237586986194088,
          0.21388029654503107
         ],
         "yaxis": "y5"
        },
        {
         "hovertemplate": "model=3<br>id=114<br>trial_id=%{x}<br>IPA=%{y}<br>method=%{marker.color}<extra></extra>",
         "legendgroup": "",
         "marker": {
          "color": [
           0,
           1
          ],
          "coloraxis": "coloraxis",
          "symbol": "circle"
         },
         "mode": "markers",
         "name": "",
         "orientation": "v",
         "showlegend": false,
         "type": "scatter",
         "x": [
          2,
          3
         ],
         "xaxis": "x6",
         "y": [
          0.09677581688467032,
          0.1358514762979929
         ],
         "yaxis": "y6"
        },
        {
         "hovertemplate": "<b>OLS trendline</b><br>IPA = 0.0390757 * trial_id + 0.0186245<br>R<sup>2</sup>=1.000000<br><br>model=3<br>id=114<br>trial_id=%{x}<br>IPA=%{y} <b>(trend)</b><extra></extra>",
         "legendgroup": "",
         "marker": {
          "symbol": "circle"
         },
         "mode": "lines",
         "name": "",
         "showlegend": false,
         "type": "scatter",
         "x": [
          2,
          3
         ],
         "xaxis": "x6",
         "y": [
          0.09677581688467041,
          0.13585147629799302
         ],
         "yaxis": "y6"
        },
        {
         "hovertemplate": "model=3<br>id=116<br>trial_id=%{x}<br>IPA=%{y}<br>method=%{marker.color}<extra></extra>",
         "legendgroup": "",
         "marker": {
          "color": [
           0,
           1
          ],
          "coloraxis": "coloraxis",
          "symbol": "circle"
         },
         "mode": "markers",
         "name": "",
         "orientation": "v",
         "showlegend": false,
         "type": "scatter",
         "x": [
          1,
          0
         ],
         "xaxis": "x7",
         "y": [
          0.24211157033806632,
          0.23617584078599319
         ],
         "yaxis": "y7"
        },
        {
         "hovertemplate": "<b>OLS trendline</b><br>IPA = 0.00593573 * trial_id + 0.236176<br>R<sup>2</sup>=1.000000<br><br>model=3<br>id=116<br>trial_id=%{x}<br>IPA=%{y} <b>(trend)</b><extra></extra>",
         "legendgroup": "",
         "marker": {
          "symbol": "circle"
         },
         "mode": "lines",
         "name": "",
         "showlegend": false,
         "type": "scatter",
         "x": [
          0,
          1
         ],
         "xaxis": "x7",
         "y": [
          0.23617584078599316,
          0.24211157033806624
         ],
         "yaxis": "y7"
        },
        {
         "hovertemplate": "model=3<br>id=117<br>trial_id=%{x}<br>IPA=%{y}<br>method=%{marker.color}<extra></extra>",
         "legendgroup": "",
         "marker": {
          "color": [
           0,
           1
          ],
          "coloraxis": "coloraxis",
          "symbol": "circle"
         },
         "mode": "markers",
         "name": "",
         "orientation": "v",
         "showlegend": false,
         "type": "scatter",
         "x": [
          2,
          0
         ],
         "xaxis": "x8",
         "y": [
          0.18467561727825077,
          0.19067622590145852
         ],
         "yaxis": "y8"
        },
        {
         "hovertemplate": "<b>OLS trendline</b><br>IPA = -0.0030003 * trial_id + 0.190676<br>R<sup>2</sup>=1.000000<br><br>model=3<br>id=117<br>trial_id=%{x}<br>IPA=%{y} <b>(trend)</b><extra></extra>",
         "legendgroup": "",
         "marker": {
          "symbol": "circle"
         },
         "mode": "lines",
         "name": "",
         "showlegend": false,
         "type": "scatter",
         "x": [
          0,
          2
         ],
         "xaxis": "x8",
         "y": [
          0.19067622590145847,
          0.18467561727825063
         ],
         "yaxis": "y8"
        },
        {
         "hovertemplate": "model=3<br>id=118<br>trial_id=%{x}<br>IPA=%{y}<br>method=%{marker.color}<extra></extra>",
         "legendgroup": "",
         "marker": {
          "color": [
           0,
           1
          ],
          "coloraxis": "coloraxis",
          "symbol": "circle"
         },
         "mode": "markers",
         "name": "",
         "orientation": "v",
         "showlegend": false,
         "type": "scatter",
         "x": [
          2,
          3
         ],
         "xaxis": "x9",
         "y": [
          0.23084895309999767,
          0.16216176373031024
         ],
         "yaxis": "y9"
        },
        {
         "hovertemplate": "<b>OLS trendline</b><br>IPA = -0.0686872 * trial_id + 0.368223<br>R<sup>2</sup>=1.000000<br><br>model=3<br>id=118<br>trial_id=%{x}<br>IPA=%{y} <b>(trend)</b><extra></extra>",
         "legendgroup": "",
         "marker": {
          "symbol": "circle"
         },
         "mode": "lines",
         "name": "",
         "showlegend": false,
         "type": "scatter",
         "x": [
          2,
          3
         ],
         "xaxis": "x9",
         "y": [
          0.2308489530999977,
          0.16216176373031033
         ],
         "yaxis": "y9"
        },
        {
         "hovertemplate": "model=3<br>id=119<br>trial_id=%{x}<br>IPA=%{y}<br>method=%{marker.color}<extra></extra>",
         "legendgroup": "",
         "marker": {
          "color": [
           0,
           1
          ],
          "coloraxis": "coloraxis",
          "symbol": "circle"
         },
         "mode": "markers",
         "name": "",
         "orientation": "v",
         "showlegend": false,
         "type": "scatter",
         "x": [
          1,
          3
         ],
         "xaxis": "x10",
         "y": [
          0.24184930067763152,
          0.2636317380976861
         ],
         "yaxis": "y10"
        },
        {
         "hovertemplate": "<b>OLS trendline</b><br>IPA = 0.0108912 * trial_id + 0.230958<br>R<sup>2</sup>=1.000000<br><br>model=3<br>id=119<br>trial_id=%{x}<br>IPA=%{y} <b>(trend)</b><extra></extra>",
         "legendgroup": "",
         "marker": {
          "symbol": "circle"
         },
         "mode": "lines",
         "name": "",
         "showlegend": false,
         "type": "scatter",
         "x": [
          1,
          3
         ],
         "xaxis": "x10",
         "y": [
          0.2418493006776314,
          0.26363173809768603
         ],
         "yaxis": "y10"
        },
        {
         "hovertemplate": "model=3<br>id=120<br>trial_id=%{x}<br>IPA=%{y}<br>method=%{marker.color}<extra></extra>",
         "legendgroup": "",
         "marker": {
          "color": [
           0,
           1
          ],
          "coloraxis": "coloraxis",
          "symbol": "circle"
         },
         "mode": "markers",
         "name": "",
         "orientation": "v",
         "showlegend": false,
         "type": "scatter",
         "x": [
          1,
          0
         ],
         "xaxis": "x11",
         "y": [
          0.16971237523783303,
          0.07358469045986751
         ],
         "yaxis": "y11"
        },
        {
         "hovertemplate": "<b>OLS trendline</b><br>IPA = 0.0961277 * trial_id + 0.0735847<br>R<sup>2</sup>=1.000000<br><br>model=3<br>id=120<br>trial_id=%{x}<br>IPA=%{y} <b>(trend)</b><extra></extra>",
         "legendgroup": "",
         "marker": {
          "symbol": "circle"
         },
         "mode": "lines",
         "name": "",
         "showlegend": false,
         "type": "scatter",
         "x": [
          0,
          1
         ],
         "xaxis": "x11",
         "y": [
          0.0735846904598675,
          0.169712375237833
         ],
         "yaxis": "y11"
        },
        {
         "hovertemplate": "model=3<br>id=121<br>trial_id=%{x}<br>IPA=%{y}<br>method=%{marker.color}<extra></extra>",
         "legendgroup": "",
         "marker": {
          "color": [
           0,
           1
          ],
          "coloraxis": "coloraxis",
          "symbol": "circle"
         },
         "mode": "markers",
         "name": "",
         "orientation": "v",
         "showlegend": false,
         "type": "scatter",
         "x": [
          2,
          0
         ],
         "xaxis": "x12",
         "y": [
          0.152699731248473,
          0.1408031765196623
         ],
         "yaxis": "y12"
        },
        {
         "hovertemplate": "<b>OLS trendline</b><br>IPA = 0.00594828 * trial_id + 0.140803<br>R<sup>2</sup>=1.000000<br><br>model=3<br>id=121<br>trial_id=%{x}<br>IPA=%{y} <b>(trend)</b><extra></extra>",
         "legendgroup": "",
         "marker": {
          "symbol": "circle"
         },
         "mode": "lines",
         "name": "",
         "showlegend": false,
         "type": "scatter",
         "x": [
          0,
          2
         ],
         "xaxis": "x12",
         "y": [
          0.14080317651966223,
          0.1526997312484729
         ],
         "yaxis": "y12"
        },
        {
         "hovertemplate": "model=3<br>id=122<br>trial_id=%{x}<br>IPA=%{y}<br>method=%{marker.color}<extra></extra>",
         "legendgroup": "",
         "marker": {
          "color": [
           0,
           1
          ],
          "coloraxis": "coloraxis",
          "symbol": "circle"
         },
         "mode": "markers",
         "name": "",
         "orientation": "v",
         "showlegend": false,
         "type": "scatter",
         "x": [
          2,
          3
         ],
         "xaxis": "x13",
         "y": [
          0.2261591869900312,
          0.16231295967537407
         ],
         "yaxis": "y13"
        },
        {
         "hovertemplate": "<b>OLS trendline</b><br>IPA = -0.0638462 * trial_id + 0.353852<br>R<sup>2</sup>=1.000000<br><br>model=3<br>id=122<br>trial_id=%{x}<br>IPA=%{y} <b>(trend)</b><extra></extra>",
         "legendgroup": "",
         "marker": {
          "symbol": "circle"
         },
         "mode": "lines",
         "name": "",
         "showlegend": false,
         "type": "scatter",
         "x": [
          2,
          3
         ],
         "xaxis": "x13",
         "y": [
          0.22615918699003118,
          0.1623129596753741
         ],
         "yaxis": "y13"
        },
        {
         "hovertemplate": "model=3<br>id=124<br>trial_id=%{x}<br>IPA=%{y}<br>method=%{marker.color}<extra></extra>",
         "legendgroup": "",
         "marker": {
          "color": [
           0,
           1
          ],
          "coloraxis": "coloraxis",
          "symbol": "circle"
         },
         "mode": "markers",
         "name": "",
         "orientation": "v",
         "showlegend": false,
         "type": "scatter",
         "x": [
          1,
          0
         ],
         "xaxis": "x14",
         "y": [
          0.12643762005495174,
          0.0779596837064261
         ],
         "yaxis": "y14"
        },
        {
         "hovertemplate": "<b>OLS trendline</b><br>IPA = 0.0484779 * trial_id + 0.0779597<br>R<sup>2</sup>=1.000000<br><br>model=3<br>id=124<br>trial_id=%{x}<br>IPA=%{y} <b>(trend)</b><extra></extra>",
         "legendgroup": "",
         "marker": {
          "symbol": "circle"
         },
         "mode": "lines",
         "name": "",
         "showlegend": false,
         "type": "scatter",
         "x": [
          0,
          1
         ],
         "xaxis": "x14",
         "y": [
          0.07795968370642609,
          0.12643762005495168
         ],
         "yaxis": "y14"
        },
        {
         "hovertemplate": "model=3<br>id=125<br>trial_id=%{x}<br>IPA=%{y}<br>method=%{marker.color}<extra></extra>",
         "legendgroup": "",
         "marker": {
          "color": [
           0,
           1
          ],
          "coloraxis": "coloraxis",
          "symbol": "circle"
         },
         "mode": "markers",
         "name": "",
         "orientation": "v",
         "showlegend": false,
         "type": "scatter",
         "x": [
          2,
          0
         ],
         "xaxis": "x15",
         "y": [
          0.18175605429416855,
          0.12188040572245917
         ],
         "yaxis": "y15"
        },
        {
         "hovertemplate": "<b>OLS trendline</b><br>IPA = 0.0299378 * trial_id + 0.12188<br>R<sup>2</sup>=1.000000<br><br>model=3<br>id=125<br>trial_id=%{x}<br>IPA=%{y} <b>(trend)</b><extra></extra>",
         "legendgroup": "",
         "marker": {
          "symbol": "circle"
         },
         "mode": "lines",
         "name": "",
         "showlegend": false,
         "type": "scatter",
         "x": [
          0,
          2
         ],
         "xaxis": "x15",
         "y": [
          0.12188040572245913,
          0.1817560542941684
         ],
         "yaxis": "y15"
        },
        {
         "hovertemplate": "model=3<br>id=126<br>trial_id=%{x}<br>IPA=%{y}<br>method=%{marker.color}<extra></extra>",
         "legendgroup": "",
         "marker": {
          "color": [
           0,
           1
          ],
          "coloraxis": "coloraxis",
          "symbol": "circle"
         },
         "mode": "markers",
         "name": "",
         "orientation": "v",
         "showlegend": false,
         "type": "scatter",
         "x": [
          2,
          3
         ],
         "xaxis": "x16",
         "y": [
          0.16210068841602884,
          0.1363951002333493
         ],
         "yaxis": "y16"
        },
        {
         "hovertemplate": "<b>OLS trendline</b><br>IPA = -0.0257056 * trial_id + 0.213512<br>R<sup>2</sup>=1.000000<br><br>model=3<br>id=126<br>trial_id=%{x}<br>IPA=%{y} <b>(trend)</b><extra></extra>",
         "legendgroup": "",
         "marker": {
          "symbol": "circle"
         },
         "mode": "lines",
         "name": "",
         "showlegend": false,
         "type": "scatter",
         "x": [
          2,
          3
         ],
         "xaxis": "x16",
         "y": [
          0.16210068841602887,
          0.13639510023334936
         ],
         "yaxis": "y16"
        },
        {
         "hovertemplate": "model=3<br>id=127<br>trial_id=%{x}<br>IPA=%{y}<br>method=%{marker.color}<extra></extra>",
         "legendgroup": "",
         "marker": {
          "color": [
           0,
           1
          ],
          "coloraxis": "coloraxis",
          "symbol": "circle"
         },
         "mode": "markers",
         "name": "",
         "orientation": "v",
         "showlegend": false,
         "type": "scatter",
         "x": [
          1,
          3
         ],
         "xaxis": "x17",
         "y": [
          0.15864669833556952,
          0.27083683164240874
         ],
         "yaxis": "y17"
        },
        {
         "hovertemplate": "<b>OLS trendline</b><br>IPA = 0.0560951 * trial_id + 0.102552<br>R<sup>2</sup>=1.000000<br><br>model=3<br>id=127<br>trial_id=%{x}<br>IPA=%{y} <b>(trend)</b><extra></extra>",
         "legendgroup": "",
         "marker": {
          "symbol": "circle"
         },
         "mode": "lines",
         "name": "",
         "showlegend": false,
         "type": "scatter",
         "x": [
          1,
          3
         ],
         "xaxis": "x17",
         "y": [
          0.1586466983355695,
          0.27083683164240874
         ],
         "yaxis": "y17"
        },
        {
         "hovertemplate": "model=3<br>id=128<br>trial_id=%{x}<br>IPA=%{y}<br>method=%{marker.color}<extra></extra>",
         "legendgroup": "",
         "marker": {
          "color": [
           0,
           1
          ],
          "coloraxis": "coloraxis",
          "symbol": "circle"
         },
         "mode": "markers",
         "name": "",
         "orientation": "v",
         "showlegend": false,
         "type": "scatter",
         "x": [
          1,
          0
         ],
         "xaxis": "x18",
         "y": [
          0.16152566373587324,
          0.058976869271871575
         ],
         "yaxis": "y18"
        },
        {
         "hovertemplate": "<b>OLS trendline</b><br>IPA = 0.102549 * trial_id + 0.0589769<br>R<sup>2</sup>=1.000000<br><br>model=3<br>id=128<br>trial_id=%{x}<br>IPA=%{y} <b>(trend)</b><extra></extra>",
         "legendgroup": "",
         "marker": {
          "symbol": "circle"
         },
         "mode": "lines",
         "name": "",
         "showlegend": false,
         "type": "scatter",
         "x": [
          0,
          1
         ],
         "xaxis": "x18",
         "y": [
          0.05897686927187157,
          0.1615256637358732
         ],
         "yaxis": "y18"
        },
        {
         "hovertemplate": "model=3<br>id=131<br>trial_id=%{x}<br>IPA=%{y}<br>method=%{marker.color}<extra></extra>",
         "legendgroup": "",
         "marker": {
          "color": [
           0,
           1
          ],
          "coloraxis": "coloraxis",
          "symbol": "circle"
         },
         "mode": "markers",
         "name": "",
         "orientation": "v",
         "showlegend": false,
         "type": "scatter",
         "x": [
          1,
          3
         ],
         "xaxis": "x19",
         "y": [
          0.18896960778176844,
          0.19043115199738475
         ],
         "yaxis": "y19"
        },
        {
         "hovertemplate": "<b>OLS trendline</b><br>IPA = 0.000730772 * trial_id + 0.188239<br>R<sup>2</sup>=1.000000<br><br>model=3<br>id=131<br>trial_id=%{x}<br>IPA=%{y} <b>(trend)</b><extra></extra>",
         "legendgroup": "",
         "marker": {
          "symbol": "circle"
         },
         "mode": "lines",
         "name": "",
         "showlegend": false,
         "type": "scatter",
         "x": [
          1,
          3
         ],
         "xaxis": "x19",
         "y": [
          0.18896960778176833,
          0.19043115199738467
         ],
         "yaxis": "y19"
        },
        {
         "hovertemplate": "model=3<br>id=132<br>trial_id=%{x}<br>IPA=%{y}<br>method=%{marker.color}<extra></extra>",
         "legendgroup": "",
         "marker": {
          "color": [
           0,
           1
          ],
          "coloraxis": "coloraxis",
          "symbol": "circle"
         },
         "mode": "markers",
         "name": "",
         "orientation": "v",
         "showlegend": false,
         "type": "scatter",
         "x": [
          1,
          0
         ],
         "xaxis": "x20",
         "y": [
          0.19128261368563337,
          0.19633936167891972
         ],
         "yaxis": "y20"
        },
        {
         "hovertemplate": "<b>OLS trendline</b><br>IPA = -0.00505675 * trial_id + 0.196339<br>R<sup>2</sup>=1.000000<br><br>model=3<br>id=132<br>trial_id=%{x}<br>IPA=%{y} <b>(trend)</b><extra></extra>",
         "legendgroup": "",
         "marker": {
          "symbol": "circle"
         },
         "mode": "lines",
         "name": "",
         "showlegend": false,
         "type": "scatter",
         "x": [
          0,
          1
         ],
         "xaxis": "x20",
         "y": [
          0.1963393616789197,
          0.1912826136856333
         ],
         "yaxis": "y20"
        },
        {
         "hovertemplate": "model=3<br>id=133<br>trial_id=%{x}<br>IPA=%{y}<br>method=%{marker.color}<extra></extra>",
         "legendgroup": "",
         "marker": {
          "color": [
           0,
           1
          ],
          "coloraxis": "coloraxis",
          "symbol": "circle"
         },
         "mode": "markers",
         "name": "",
         "orientation": "v",
         "showlegend": false,
         "type": "scatter",
         "x": [
          2,
          0
         ],
         "xaxis": "x21",
         "y": [
          0.23577454295104847,
          0.11499861180247181
         ],
         "yaxis": "y21"
        },
        {
         "hovertemplate": "<b>OLS trendline</b><br>IPA = 0.060388 * trial_id + 0.114999<br>R<sup>2</sup>=1.000000<br><br>model=3<br>id=133<br>trial_id=%{x}<br>IPA=%{y} <b>(trend)</b><extra></extra>",
         "legendgroup": "",
         "marker": {
          "symbol": "circle"
         },
         "mode": "lines",
         "name": "",
         "showlegend": false,
         "type": "scatter",
         "x": [
          0,
          2
         ],
         "xaxis": "x21",
         "y": [
          0.11499861180247177,
          0.23577454295104833
         ],
         "yaxis": "y21"
        },
        {
         "hovertemplate": "model=3<br>id=134<br>trial_id=%{x}<br>IPA=%{y}<br>method=%{marker.color}<extra></extra>",
         "legendgroup": "",
         "marker": {
          "color": [
           0,
           1
          ],
          "coloraxis": "coloraxis",
          "symbol": "circle"
         },
         "mode": "markers",
         "name": "",
         "orientation": "v",
         "showlegend": false,
         "type": "scatter",
         "x": [
          2,
          3
         ],
         "xaxis": "x22",
         "y": [
          0.33011375331570136,
          0.2615008054224807
         ],
         "yaxis": "y22"
        },
        {
         "hovertemplate": "<b>OLS trendline</b><br>IPA = -0.0686129 * trial_id + 0.46734<br>R<sup>2</sup>=1.000000<br><br>model=3<br>id=134<br>trial_id=%{x}<br>IPA=%{y} <b>(trend)</b><extra></extra>",
         "legendgroup": "",
         "marker": {
          "symbol": "circle"
         },
         "mode": "lines",
         "name": "",
         "showlegend": false,
         "type": "scatter",
         "x": [
          2,
          3
         ],
         "xaxis": "x22",
         "y": [
          0.33011375331570136,
          0.2615008054224808
         ],
         "yaxis": "y22"
        },
        {
         "hovertemplate": "model=3<br>id=135<br>trial_id=%{x}<br>IPA=%{y}<br>method=%{marker.color}<extra></extra>",
         "legendgroup": "",
         "marker": {
          "color": [
           0,
           1
          ],
          "coloraxis": "coloraxis",
          "symbol": "circle"
         },
         "mode": "markers",
         "name": "",
         "orientation": "v",
         "showlegend": false,
         "type": "scatter",
         "x": [
          1,
          3
         ],
         "xaxis": "x23",
         "y": [
          0.1954468697229345,
          0.13118625168082385
         ],
         "yaxis": "y23"
        },
        {
         "hovertemplate": "<b>OLS trendline</b><br>IPA = -0.0321303 * trial_id + 0.227577<br>R<sup>2</sup>=1.000000<br><br>model=3<br>id=135<br>trial_id=%{x}<br>IPA=%{y} <b>(trend)</b><extra></extra>",
         "legendgroup": "",
         "marker": {
          "symbol": "circle"
         },
         "mode": "lines",
         "name": "",
         "showlegend": false,
         "type": "scatter",
         "x": [
          1,
          3
         ],
         "xaxis": "x23",
         "y": [
          0.19544686972293443,
          0.1311862516808238
         ],
         "yaxis": "y23"
        },
        {
         "hovertemplate": "model=3<br>id=136<br>trial_id=%{x}<br>IPA=%{y}<br>method=%{marker.color}<extra></extra>",
         "legendgroup": "",
         "marker": {
          "color": [
           0,
           1
          ],
          "coloraxis": "coloraxis",
          "symbol": "circle"
         },
         "mode": "markers",
         "name": "",
         "orientation": "v",
         "showlegend": false,
         "type": "scatter",
         "x": [
          1,
          0
         ],
         "xaxis": "x24",
         "y": [
          0.11784198332771621,
          0.08719783226188997
         ],
         "yaxis": "y24"
        },
        {
         "hovertemplate": "<b>OLS trendline</b><br>IPA = 0.0306442 * trial_id + 0.0871978<br>R<sup>2</sup>=1.000000<br><br>model=3<br>id=136<br>trial_id=%{x}<br>IPA=%{y} <b>(trend)</b><extra></extra>",
         "legendgroup": "",
         "marker": {
          "symbol": "circle"
         },
         "mode": "lines",
         "name": "",
         "showlegend": false,
         "type": "scatter",
         "x": [
          0,
          1
         ],
         "xaxis": "x24",
         "y": [
          0.08719783226188996,
          0.11784198332771617
         ],
         "yaxis": "y24"
        },
        {
         "hovertemplate": "model=3<br>id=137<br>trial_id=%{x}<br>IPA=%{y}<br>method=%{marker.color}<extra></extra>",
         "legendgroup": "",
         "marker": {
          "color": [
           0,
           1
          ],
          "coloraxis": "coloraxis",
          "symbol": "circle"
         },
         "mode": "markers",
         "name": "",
         "orientation": "v",
         "showlegend": false,
         "type": "scatter",
         "x": [
          2,
          0
         ],
         "xaxis": "x25",
         "y": [
          0.1919216959480532,
          0.11517592546735511
         ],
         "yaxis": "y25"
        },
        {
         "hovertemplate": "<b>OLS trendline</b><br>IPA = 0.0383729 * trial_id + 0.115176<br>R<sup>2</sup>=1.000000<br><br>model=3<br>id=137<br>trial_id=%{x}<br>IPA=%{y} <b>(trend)</b><extra></extra>",
         "legendgroup": "",
         "marker": {
          "symbol": "circle"
         },
         "mode": "lines",
         "name": "",
         "showlegend": false,
         "type": "scatter",
         "x": [
          0,
          2
         ],
         "xaxis": "x25",
         "y": [
          0.11517592546735507,
          0.19192169594805308
         ],
         "yaxis": "y25"
        },
        {
         "hovertemplate": "model=3<br>id=139<br>trial_id=%{x}<br>IPA=%{y}<br>method=%{marker.color}<extra></extra>",
         "legendgroup": "",
         "marker": {
          "color": [
           0,
           1
          ],
          "coloraxis": "coloraxis",
          "symbol": "circle"
         },
         "mode": "markers",
         "name": "",
         "orientation": "v",
         "showlegend": false,
         "type": "scatter",
         "x": [
          1,
          3
         ],
         "xaxis": "x26",
         "y": [
          0.11343553118456189,
          0.149361054745094
         ],
         "yaxis": "y26"
        },
        {
         "hovertemplate": "<b>OLS trendline</b><br>IPA = 0.0179628 * trial_id + 0.0954728<br>R<sup>2</sup>=1.000000<br><br>model=3<br>id=139<br>trial_id=%{x}<br>IPA=%{y} <b>(trend)</b><extra></extra>",
         "legendgroup": "",
         "marker": {
          "symbol": "circle"
         },
         "mode": "lines",
         "name": "",
         "showlegend": false,
         "type": "scatter",
         "x": [
          1,
          3
         ],
         "xaxis": "x26",
         "y": [
          0.11343553118456186,
          0.14936105474509398
         ],
         "yaxis": "y26"
        },
        {
         "hovertemplate": "model=3<br>id=140<br>trial_id=%{x}<br>IPA=%{y}<br>method=%{marker.color}<extra></extra>",
         "legendgroup": "",
         "marker": {
          "color": [
           0,
           1
          ],
          "coloraxis": "coloraxis",
          "symbol": "circle"
         },
         "mode": "markers",
         "name": "",
         "orientation": "v",
         "showlegend": false,
         "type": "scatter",
         "x": [
          1,
          0
         ],
         "xaxis": "x27",
         "y": [
          0.26297519617949633,
          0.15671606705358124
         ],
         "yaxis": "y27"
        },
        {
         "hovertemplate": "<b>OLS trendline</b><br>IPA = 0.106259 * trial_id + 0.156716<br>R<sup>2</sup>=1.000000<br><br>model=3<br>id=140<br>trial_id=%{x}<br>IPA=%{y} <b>(trend)</b><extra></extra>",
         "legendgroup": "",
         "marker": {
          "symbol": "circle"
         },
         "mode": "lines",
         "name": "",
         "showlegend": false,
         "type": "scatter",
         "x": [
          0,
          1
         ],
         "xaxis": "x27",
         "y": [
          0.1567160670535812,
          0.2629751961794963
         ],
         "yaxis": "y27"
        },
        {
         "hovertemplate": "model=3<br>id=141<br>trial_id=%{x}<br>IPA=%{y}<br>method=%{marker.color}<extra></extra>",
         "legendgroup": "",
         "marker": {
          "color": [
           0,
           1
          ],
          "coloraxis": "coloraxis",
          "symbol": "circle"
         },
         "mode": "markers",
         "name": "",
         "orientation": "v",
         "showlegend": false,
         "type": "scatter",
         "x": [
          2,
          0
         ],
         "xaxis": "x28",
         "y": [
          0.1753319618477651,
          0.22313052121261298
         ],
         "yaxis": "y28"
        },
        {
         "hovertemplate": "<b>OLS trendline</b><br>IPA = -0.0238993 * trial_id + 0.223131<br>R<sup>2</sup>=1.000000<br><br>model=3<br>id=141<br>trial_id=%{x}<br>IPA=%{y} <b>(trend)</b><extra></extra>",
         "legendgroup": "",
         "marker": {
          "symbol": "circle"
         },
         "mode": "lines",
         "name": "",
         "showlegend": false,
         "type": "scatter",
         "x": [
          0,
          2
         ],
         "xaxis": "x28",
         "y": [
          0.2231305212126129,
          0.17533196184776492
         ],
         "yaxis": "y28"
        },
        {
         "hovertemplate": "model=3<br>id=142<br>trial_id=%{x}<br>IPA=%{y}<br>method=%{marker.color}<extra></extra>",
         "legendgroup": "",
         "marker": {
          "color": [
           0,
           1
          ],
          "coloraxis": "coloraxis",
          "symbol": "circle"
         },
         "mode": "markers",
         "name": "",
         "orientation": "v",
         "showlegend": false,
         "type": "scatter",
         "x": [
          2,
          3
         ],
         "xaxis": "x29",
         "y": [
          0.27725289302730305,
          0.13849488376816882
         ],
         "yaxis": "y29"
        },
        {
         "hovertemplate": "<b>OLS trendline</b><br>IPA = -0.138758 * trial_id + 0.554769<br>R<sup>2</sup>=1.000000<br><br>model=3<br>id=142<br>trial_id=%{x}<br>IPA=%{y} <b>(trend)</b><extra></extra>",
         "legendgroup": "",
         "marker": {
          "symbol": "circle"
         },
         "mode": "lines",
         "name": "",
         "showlegend": false,
         "type": "scatter",
         "x": [
          2,
          3
         ],
         "xaxis": "x29",
         "y": [
          0.27725289302730305,
          0.13849488376816887
         ],
         "yaxis": "y29"
        }
       ],
       "layout": {
        "annotations": [
         {
          "font": {},
          "showarrow": false,
          "text": "id=108",
          "x": 0.007241379310344826,
          "xanchor": "center",
          "xref": "paper",
          "y": 1,
          "yanchor": "bottom",
          "yref": "paper"
         },
         {
          "font": {},
          "showarrow": false,
          "text": "id=109",
          "x": 0.04172413793103448,
          "xanchor": "center",
          "xref": "paper",
          "y": 1,
          "yanchor": "bottom",
          "yref": "paper"
         },
         {
          "font": {},
          "showarrow": false,
          "text": "id=110",
          "x": 0.07620689655172413,
          "xanchor": "center",
          "xref": "paper",
          "y": 1,
          "yanchor": "bottom",
          "yref": "paper"
         },
         {
          "font": {},
          "showarrow": false,
          "text": "id=111",
          "x": 0.11068965517241378,
          "xanchor": "center",
          "xref": "paper",
          "y": 1,
          "yanchor": "bottom",
          "yref": "paper"
         },
         {
          "font": {},
          "showarrow": false,
          "text": "id=112",
          "x": 0.14517241379310344,
          "xanchor": "center",
          "xref": "paper",
          "y": 1,
          "yanchor": "bottom",
          "yref": "paper"
         },
         {
          "font": {},
          "showarrow": false,
          "text": "id=114",
          "x": 0.1796551724137931,
          "xanchor": "center",
          "xref": "paper",
          "y": 1,
          "yanchor": "bottom",
          "yref": "paper"
         },
         {
          "font": {},
          "showarrow": false,
          "text": "id=116",
          "x": 0.21413793103448273,
          "xanchor": "center",
          "xref": "paper",
          "y": 1,
          "yanchor": "bottom",
          "yref": "paper"
         },
         {
          "font": {},
          "showarrow": false,
          "text": "id=117",
          "x": 0.2486206896551724,
          "xanchor": "center",
          "xref": "paper",
          "y": 1,
          "yanchor": "bottom",
          "yref": "paper"
         },
         {
          "font": {},
          "showarrow": false,
          "text": "id=118",
          "x": 0.2831034482758621,
          "xanchor": "center",
          "xref": "paper",
          "y": 1,
          "yanchor": "bottom",
          "yref": "paper"
         },
         {
          "font": {},
          "showarrow": false,
          "text": "id=119",
          "x": 0.3175862068965517,
          "xanchor": "center",
          "xref": "paper",
          "y": 1,
          "yanchor": "bottom",
          "yref": "paper"
         },
         {
          "font": {},
          "showarrow": false,
          "text": "id=120",
          "x": 0.35206896551724143,
          "xanchor": "center",
          "xref": "paper",
          "y": 1,
          "yanchor": "bottom",
          "yref": "paper"
         },
         {
          "font": {},
          "showarrow": false,
          "text": "id=121",
          "x": 0.38655172413793104,
          "xanchor": "center",
          "xref": "paper",
          "y": 1,
          "yanchor": "bottom",
          "yref": "paper"
         },
         {
          "font": {},
          "showarrow": false,
          "text": "id=122",
          "x": 0.42103448275862065,
          "xanchor": "center",
          "xref": "paper",
          "y": 1,
          "yanchor": "bottom",
          "yref": "paper"
         },
         {
          "font": {},
          "showarrow": false,
          "text": "id=124",
          "x": 0.4555172413793104,
          "xanchor": "center",
          "xref": "paper",
          "y": 1,
          "yanchor": "bottom",
          "yref": "paper"
         },
         {
          "font": {},
          "showarrow": false,
          "text": "id=125",
          "x": 0.49,
          "xanchor": "center",
          "xref": "paper",
          "y": 1,
          "yanchor": "bottom",
          "yref": "paper"
         },
         {
          "font": {},
          "showarrow": false,
          "text": "id=126",
          "x": 0.5244827586206896,
          "xanchor": "center",
          "xref": "paper",
          "y": 1,
          "yanchor": "bottom",
          "yref": "paper"
         },
         {
          "font": {},
          "showarrow": false,
          "text": "id=127",
          "x": 0.5589655172413793,
          "xanchor": "center",
          "xref": "paper",
          "y": 1,
          "yanchor": "bottom",
          "yref": "paper"
         },
         {
          "font": {},
          "showarrow": false,
          "text": "id=128",
          "x": 0.5934482758620689,
          "xanchor": "center",
          "xref": "paper",
          "y": 1,
          "yanchor": "bottom",
          "yref": "paper"
         },
         {
          "font": {},
          "showarrow": false,
          "text": "id=131",
          "x": 0.6279310344827586,
          "xanchor": "center",
          "xref": "paper",
          "y": 1,
          "yanchor": "bottom",
          "yref": "paper"
         },
         {
          "font": {},
          "showarrow": false,
          "text": "id=132",
          "x": 0.6624137931034483,
          "xanchor": "center",
          "xref": "paper",
          "y": 1,
          "yanchor": "bottom",
          "yref": "paper"
         },
         {
          "font": {},
          "showarrow": false,
          "text": "id=133",
          "x": 0.696896551724138,
          "xanchor": "center",
          "xref": "paper",
          "y": 1,
          "yanchor": "bottom",
          "yref": "paper"
         },
         {
          "font": {},
          "showarrow": false,
          "text": "id=134",
          "x": 0.7313793103448275,
          "xanchor": "center",
          "xref": "paper",
          "y": 1,
          "yanchor": "bottom",
          "yref": "paper"
         },
         {
          "font": {},
          "showarrow": false,
          "text": "id=135",
          "x": 0.7658620689655172,
          "xanchor": "center",
          "xref": "paper",
          "y": 1,
          "yanchor": "bottom",
          "yref": "paper"
         },
         {
          "font": {},
          "showarrow": false,
          "text": "id=136",
          "x": 0.800344827586207,
          "xanchor": "center",
          "xref": "paper",
          "y": 1,
          "yanchor": "bottom",
          "yref": "paper"
         },
         {
          "font": {},
          "showarrow": false,
          "text": "id=137",
          "x": 0.8348275862068965,
          "xanchor": "center",
          "xref": "paper",
          "y": 1,
          "yanchor": "bottom",
          "yref": "paper"
         },
         {
          "font": {},
          "showarrow": false,
          "text": "id=139",
          "x": 0.8693103448275862,
          "xanchor": "center",
          "xref": "paper",
          "y": 1,
          "yanchor": "bottom",
          "yref": "paper"
         },
         {
          "font": {},
          "showarrow": false,
          "text": "id=140",
          "x": 0.9037931034482759,
          "xanchor": "center",
          "xref": "paper",
          "y": 1,
          "yanchor": "bottom",
          "yref": "paper"
         },
         {
          "font": {},
          "showarrow": false,
          "text": "id=141",
          "x": 0.9382758620689655,
          "xanchor": "center",
          "xref": "paper",
          "y": 1,
          "yanchor": "bottom",
          "yref": "paper"
         },
         {
          "font": {},
          "showarrow": false,
          "text": "id=142",
          "x": 0.9727586206896551,
          "xanchor": "center",
          "xref": "paper",
          "y": 1,
          "yanchor": "bottom",
          "yref": "paper"
         },
         {
          "font": {},
          "showarrow": false,
          "text": "model=3",
          "textangle": 90,
          "x": 0.98,
          "xanchor": "left",
          "xref": "paper",
          "y": 0.11375,
          "yanchor": "middle",
          "yref": "paper"
         },
         {
          "font": {},
          "showarrow": false,
          "text": "model=2",
          "textangle": 90,
          "x": 0.98,
          "xanchor": "left",
          "xref": "paper",
          "y": 0.37124999999999997,
          "yanchor": "middle",
          "yref": "paper"
         },
         {
          "font": {},
          "showarrow": false,
          "text": "model=1",
          "textangle": 90,
          "x": 0.98,
          "xanchor": "left",
          "xref": "paper",
          "y": 0.62875,
          "yanchor": "middle",
          "yref": "paper"
         },
         {
          "font": {},
          "showarrow": false,
          "text": "model=0",
          "textangle": 90,
          "x": 0.98,
          "xanchor": "left",
          "xref": "paper",
          "y": 0.88625,
          "yanchor": "middle",
          "yref": "paper"
         }
        ],
        "coloraxis": {
         "colorbar": {
          "title": {
           "text": "method"
          }
         },
         "colorscale": [
          [
           0,
           "#0d0887"
          ],
          [
           0.1111111111111111,
           "#46039f"
          ],
          [
           0.2222222222222222,
           "#7201a8"
          ],
          [
           0.3333333333333333,
           "#9c179e"
          ],
          [
           0.4444444444444444,
           "#bd3786"
          ],
          [
           0.5555555555555556,
           "#d8576b"
          ],
          [
           0.6666666666666666,
           "#ed7953"
          ],
          [
           0.7777777777777778,
           "#fb9f3a"
          ],
          [
           0.8888888888888888,
           "#fdca26"
          ],
          [
           1,
           "#f0f921"
          ]
         ]
        },
        "legend": {
         "tracegroupgap": 0
        },
        "margin": {
         "t": 60
        },
        "template": {
         "data": {
          "bar": [
           {
            "error_x": {
             "color": "#2a3f5f"
            },
            "error_y": {
             "color": "#2a3f5f"
            },
            "marker": {
             "line": {
              "color": "#E5ECF6",
              "width": 0.5
             },
             "pattern": {
              "fillmode": "overlay",
              "size": 10,
              "solidity": 0.2
             }
            },
            "type": "bar"
           }
          ],
          "barpolar": [
           {
            "marker": {
             "line": {
              "color": "#E5ECF6",
              "width": 0.5
             },
             "pattern": {
              "fillmode": "overlay",
              "size": 10,
              "solidity": 0.2
             }
            },
            "type": "barpolar"
           }
          ],
          "carpet": [
           {
            "aaxis": {
             "endlinecolor": "#2a3f5f",
             "gridcolor": "white",
             "linecolor": "white",
             "minorgridcolor": "white",
             "startlinecolor": "#2a3f5f"
            },
            "baxis": {
             "endlinecolor": "#2a3f5f",
             "gridcolor": "white",
             "linecolor": "white",
             "minorgridcolor": "white",
             "startlinecolor": "#2a3f5f"
            },
            "type": "carpet"
           }
          ],
          "choropleth": [
           {
            "colorbar": {
             "outlinewidth": 0,
             "ticks": ""
            },
            "type": "choropleth"
           }
          ],
          "contour": [
           {
            "colorbar": {
             "outlinewidth": 0,
             "ticks": ""
            },
            "colorscale": [
             [
              0,
              "#0d0887"
             ],
             [
              0.1111111111111111,
              "#46039f"
             ],
             [
              0.2222222222222222,
              "#7201a8"
             ],
             [
              0.3333333333333333,
              "#9c179e"
             ],
             [
              0.4444444444444444,
              "#bd3786"
             ],
             [
              0.5555555555555556,
              "#d8576b"
             ],
             [
              0.6666666666666666,
              "#ed7953"
             ],
             [
              0.7777777777777778,
              "#fb9f3a"
             ],
             [
              0.8888888888888888,
              "#fdca26"
             ],
             [
              1,
              "#f0f921"
             ]
            ],
            "type": "contour"
           }
          ],
          "contourcarpet": [
           {
            "colorbar": {
             "outlinewidth": 0,
             "ticks": ""
            },
            "type": "contourcarpet"
           }
          ],
          "heatmap": [
           {
            "colorbar": {
             "outlinewidth": 0,
             "ticks": ""
            },
            "colorscale": [
             [
              0,
              "#0d0887"
             ],
             [
              0.1111111111111111,
              "#46039f"
             ],
             [
              0.2222222222222222,
              "#7201a8"
             ],
             [
              0.3333333333333333,
              "#9c179e"
             ],
             [
              0.4444444444444444,
              "#bd3786"
             ],
             [
              0.5555555555555556,
              "#d8576b"
             ],
             [
              0.6666666666666666,
              "#ed7953"
             ],
             [
              0.7777777777777778,
              "#fb9f3a"
             ],
             [
              0.8888888888888888,
              "#fdca26"
             ],
             [
              1,
              "#f0f921"
             ]
            ],
            "type": "heatmap"
           }
          ],
          "heatmapgl": [
           {
            "colorbar": {
             "outlinewidth": 0,
             "ticks": ""
            },
            "colorscale": [
             [
              0,
              "#0d0887"
             ],
             [
              0.1111111111111111,
              "#46039f"
             ],
             [
              0.2222222222222222,
              "#7201a8"
             ],
             [
              0.3333333333333333,
              "#9c179e"
             ],
             [
              0.4444444444444444,
              "#bd3786"
             ],
             [
              0.5555555555555556,
              "#d8576b"
             ],
             [
              0.6666666666666666,
              "#ed7953"
             ],
             [
              0.7777777777777778,
              "#fb9f3a"
             ],
             [
              0.8888888888888888,
              "#fdca26"
             ],
             [
              1,
              "#f0f921"
             ]
            ],
            "type": "heatmapgl"
           }
          ],
          "histogram": [
           {
            "marker": {
             "pattern": {
              "fillmode": "overlay",
              "size": 10,
              "solidity": 0.2
             }
            },
            "type": "histogram"
           }
          ],
          "histogram2d": [
           {
            "colorbar": {
             "outlinewidth": 0,
             "ticks": ""
            },
            "colorscale": [
             [
              0,
              "#0d0887"
             ],
             [
              0.1111111111111111,
              "#46039f"
             ],
             [
              0.2222222222222222,
              "#7201a8"
             ],
             [
              0.3333333333333333,
              "#9c179e"
             ],
             [
              0.4444444444444444,
              "#bd3786"
             ],
             [
              0.5555555555555556,
              "#d8576b"
             ],
             [
              0.6666666666666666,
              "#ed7953"
             ],
             [
              0.7777777777777778,
              "#fb9f3a"
             ],
             [
              0.8888888888888888,
              "#fdca26"
             ],
             [
              1,
              "#f0f921"
             ]
            ],
            "type": "histogram2d"
           }
          ],
          "histogram2dcontour": [
           {
            "colorbar": {
             "outlinewidth": 0,
             "ticks": ""
            },
            "colorscale": [
             [
              0,
              "#0d0887"
             ],
             [
              0.1111111111111111,
              "#46039f"
             ],
             [
              0.2222222222222222,
              "#7201a8"
             ],
             [
              0.3333333333333333,
              "#9c179e"
             ],
             [
              0.4444444444444444,
              "#bd3786"
             ],
             [
              0.5555555555555556,
              "#d8576b"
             ],
             [
              0.6666666666666666,
              "#ed7953"
             ],
             [
              0.7777777777777778,
              "#fb9f3a"
             ],
             [
              0.8888888888888888,
              "#fdca26"
             ],
             [
              1,
              "#f0f921"
             ]
            ],
            "type": "histogram2dcontour"
           }
          ],
          "mesh3d": [
           {
            "colorbar": {
             "outlinewidth": 0,
             "ticks": ""
            },
            "type": "mesh3d"
           }
          ],
          "parcoords": [
           {
            "line": {
             "colorbar": {
              "outlinewidth": 0,
              "ticks": ""
             }
            },
            "type": "parcoords"
           }
          ],
          "pie": [
           {
            "automargin": true,
            "type": "pie"
           }
          ],
          "scatter": [
           {
            "fillpattern": {
             "fillmode": "overlay",
             "size": 10,
             "solidity": 0.2
            },
            "type": "scatter"
           }
          ],
          "scatter3d": [
           {
            "line": {
             "colorbar": {
              "outlinewidth": 0,
              "ticks": ""
             }
            },
            "marker": {
             "colorbar": {
              "outlinewidth": 0,
              "ticks": ""
             }
            },
            "type": "scatter3d"
           }
          ],
          "scattercarpet": [
           {
            "marker": {
             "colorbar": {
              "outlinewidth": 0,
              "ticks": ""
             }
            },
            "type": "scattercarpet"
           }
          ],
          "scattergeo": [
           {
            "marker": {
             "colorbar": {
              "outlinewidth": 0,
              "ticks": ""
             }
            },
            "type": "scattergeo"
           }
          ],
          "scattergl": [
           {
            "marker": {
             "colorbar": {
              "outlinewidth": 0,
              "ticks": ""
             }
            },
            "type": "scattergl"
           }
          ],
          "scattermapbox": [
           {
            "marker": {
             "colorbar": {
              "outlinewidth": 0,
              "ticks": ""
             }
            },
            "type": "scattermapbox"
           }
          ],
          "scatterpolar": [
           {
            "marker": {
             "colorbar": {
              "outlinewidth": 0,
              "ticks": ""
             }
            },
            "type": "scatterpolar"
           }
          ],
          "scatterpolargl": [
           {
            "marker": {
             "colorbar": {
              "outlinewidth": 0,
              "ticks": ""
             }
            },
            "type": "scatterpolargl"
           }
          ],
          "scatterternary": [
           {
            "marker": {
             "colorbar": {
              "outlinewidth": 0,
              "ticks": ""
             }
            },
            "type": "scatterternary"
           }
          ],
          "surface": [
           {
            "colorbar": {
             "outlinewidth": 0,
             "ticks": ""
            },
            "colorscale": [
             [
              0,
              "#0d0887"
             ],
             [
              0.1111111111111111,
              "#46039f"
             ],
             [
              0.2222222222222222,
              "#7201a8"
             ],
             [
              0.3333333333333333,
              "#9c179e"
             ],
             [
              0.4444444444444444,
              "#bd3786"
             ],
             [
              0.5555555555555556,
              "#d8576b"
             ],
             [
              0.6666666666666666,
              "#ed7953"
             ],
             [
              0.7777777777777778,
              "#fb9f3a"
             ],
             [
              0.8888888888888888,
              "#fdca26"
             ],
             [
              1,
              "#f0f921"
             ]
            ],
            "type": "surface"
           }
          ],
          "table": [
           {
            "cells": {
             "fill": {
              "color": "#EBF0F8"
             },
             "line": {
              "color": "white"
             }
            },
            "header": {
             "fill": {
              "color": "#C8D4E3"
             },
             "line": {
              "color": "white"
             }
            },
            "type": "table"
           }
          ]
         },
         "layout": {
          "annotationdefaults": {
           "arrowcolor": "#2a3f5f",
           "arrowhead": 0,
           "arrowwidth": 1
          },
          "autotypenumbers": "strict",
          "coloraxis": {
           "colorbar": {
            "outlinewidth": 0,
            "ticks": ""
           }
          },
          "colorscale": {
           "diverging": [
            [
             0,
             "#8e0152"
            ],
            [
             0.1,
             "#c51b7d"
            ],
            [
             0.2,
             "#de77ae"
            ],
            [
             0.3,
             "#f1b6da"
            ],
            [
             0.4,
             "#fde0ef"
            ],
            [
             0.5,
             "#f7f7f7"
            ],
            [
             0.6,
             "#e6f5d0"
            ],
            [
             0.7,
             "#b8e186"
            ],
            [
             0.8,
             "#7fbc41"
            ],
            [
             0.9,
             "#4d9221"
            ],
            [
             1,
             "#276419"
            ]
           ],
           "sequential": [
            [
             0,
             "#0d0887"
            ],
            [
             0.1111111111111111,
             "#46039f"
            ],
            [
             0.2222222222222222,
             "#7201a8"
            ],
            [
             0.3333333333333333,
             "#9c179e"
            ],
            [
             0.4444444444444444,
             "#bd3786"
            ],
            [
             0.5555555555555556,
             "#d8576b"
            ],
            [
             0.6666666666666666,
             "#ed7953"
            ],
            [
             0.7777777777777778,
             "#fb9f3a"
            ],
            [
             0.8888888888888888,
             "#fdca26"
            ],
            [
             1,
             "#f0f921"
            ]
           ],
           "sequentialminus": [
            [
             0,
             "#0d0887"
            ],
            [
             0.1111111111111111,
             "#46039f"
            ],
            [
             0.2222222222222222,
             "#7201a8"
            ],
            [
             0.3333333333333333,
             "#9c179e"
            ],
            [
             0.4444444444444444,
             "#bd3786"
            ],
            [
             0.5555555555555556,
             "#d8576b"
            ],
            [
             0.6666666666666666,
             "#ed7953"
            ],
            [
             0.7777777777777778,
             "#fb9f3a"
            ],
            [
             0.8888888888888888,
             "#fdca26"
            ],
            [
             1,
             "#f0f921"
            ]
           ]
          },
          "colorway": [
           "#636efa",
           "#EF553B",
           "#00cc96",
           "#ab63fa",
           "#FFA15A",
           "#19d3f3",
           "#FF6692",
           "#B6E880",
           "#FF97FF",
           "#FECB52"
          ],
          "font": {
           "color": "#2a3f5f"
          },
          "geo": {
           "bgcolor": "white",
           "lakecolor": "white",
           "landcolor": "#E5ECF6",
           "showlakes": true,
           "showland": true,
           "subunitcolor": "white"
          },
          "hoverlabel": {
           "align": "left"
          },
          "hovermode": "closest",
          "mapbox": {
           "style": "light"
          },
          "paper_bgcolor": "white",
          "plot_bgcolor": "#E5ECF6",
          "polar": {
           "angularaxis": {
            "gridcolor": "white",
            "linecolor": "white",
            "ticks": ""
           },
           "bgcolor": "#E5ECF6",
           "radialaxis": {
            "gridcolor": "white",
            "linecolor": "white",
            "ticks": ""
           }
          },
          "scene": {
           "xaxis": {
            "backgroundcolor": "#E5ECF6",
            "gridcolor": "white",
            "gridwidth": 2,
            "linecolor": "white",
            "showbackground": true,
            "ticks": "",
            "zerolinecolor": "white"
           },
           "yaxis": {
            "backgroundcolor": "#E5ECF6",
            "gridcolor": "white",
            "gridwidth": 2,
            "linecolor": "white",
            "showbackground": true,
            "ticks": "",
            "zerolinecolor": "white"
           },
           "zaxis": {
            "backgroundcolor": "#E5ECF6",
            "gridcolor": "white",
            "gridwidth": 2,
            "linecolor": "white",
            "showbackground": true,
            "ticks": "",
            "zerolinecolor": "white"
           }
          },
          "shapedefaults": {
           "line": {
            "color": "#2a3f5f"
           }
          },
          "ternary": {
           "aaxis": {
            "gridcolor": "white",
            "linecolor": "white",
            "ticks": ""
           },
           "baxis": {
            "gridcolor": "white",
            "linecolor": "white",
            "ticks": ""
           },
           "bgcolor": "#E5ECF6",
           "caxis": {
            "gridcolor": "white",
            "linecolor": "white",
            "ticks": ""
           }
          },
          "title": {
           "x": 0.05
          },
          "xaxis": {
           "automargin": true,
           "gridcolor": "white",
           "linecolor": "white",
           "ticks": "",
           "title": {
            "standoff": 15
           },
           "zerolinecolor": "white",
           "zerolinewidth": 2
          },
          "yaxis": {
           "automargin": true,
           "gridcolor": "white",
           "linecolor": "white",
           "ticks": "",
           "title": {
            "standoff": 15
           },
           "zerolinecolor": "white",
           "zerolinewidth": 2
          }
         }
        },
        "xaxis": {
         "anchor": "y",
         "domain": [
          0,
          0.014482758620689653
         ],
         "title": {
          "text": "trial_id"
         }
        },
        "xaxis10": {
         "anchor": "y10",
         "domain": [
          0.31034482758620685,
          0.3248275862068965
         ],
         "matches": "x",
         "title": {
          "text": "trial_id"
         }
        },
        "xaxis100": {
         "anchor": "y100",
         "domain": [
          0.4137931034482758,
          0.42827586206896545
         ],
         "matches": "x",
         "showticklabels": false
        },
        "xaxis101": {
         "anchor": "y101",
         "domain": [
          0.4482758620689655,
          0.4627586206896552
         ],
         "matches": "x",
         "showticklabels": false
        },
        "xaxis102": {
         "anchor": "y102",
         "domain": [
          0.48275862068965514,
          0.4972413793103448
         ],
         "matches": "x",
         "showticklabels": false
        },
        "xaxis103": {
         "anchor": "y103",
         "domain": [
          0.5172413793103448,
          0.5317241379310345
         ],
         "matches": "x",
         "showticklabels": false
        },
        "xaxis104": {
         "anchor": "y104",
         "domain": [
          0.5517241379310345,
          0.5662068965517242
         ],
         "matches": "x",
         "showticklabels": false
        },
        "xaxis105": {
         "anchor": "y105",
         "domain": [
          0.5862068965517241,
          0.6006896551724138
         ],
         "matches": "x",
         "showticklabels": false
        },
        "xaxis106": {
         "anchor": "y106",
         "domain": [
          0.6206896551724137,
          0.6351724137931034
         ],
         "matches": "x",
         "showticklabels": false
        },
        "xaxis107": {
         "anchor": "y107",
         "domain": [
          0.6551724137931034,
          0.6696551724137931
         ],
         "matches": "x",
         "showticklabels": false
        },
        "xaxis108": {
         "anchor": "y108",
         "domain": [
          0.6896551724137931,
          0.7041379310344829
         ],
         "matches": "x",
         "showticklabels": false
        },
        "xaxis109": {
         "anchor": "y109",
         "domain": [
          0.7241379310344827,
          0.7386206896551724
         ],
         "matches": "x",
         "showticklabels": false
        },
        "xaxis11": {
         "anchor": "y11",
         "domain": [
          0.3448275862068966,
          0.3593103448275862
         ],
         "matches": "x",
         "title": {
          "text": "trial_id"
         }
        },
        "xaxis110": {
         "anchor": "y110",
         "domain": [
          0.7586206896551724,
          0.7731034482758621
         ],
         "matches": "x",
         "showticklabels": false
        },
        "xaxis111": {
         "anchor": "y111",
         "domain": [
          0.7931034482758621,
          0.8075862068965518
         ],
         "matches": "x",
         "showticklabels": false
        },
        "xaxis112": {
         "anchor": "y112",
         "domain": [
          0.8275862068965516,
          0.8420689655172413
         ],
         "matches": "x",
         "showticklabels": false
        },
        "xaxis113": {
         "anchor": "y113",
         "domain": [
          0.8620689655172413,
          0.876551724137931
         ],
         "matches": "x",
         "showticklabels": false
        },
        "xaxis114": {
         "anchor": "y114",
         "domain": [
          0.896551724137931,
          0.9110344827586208
         ],
         "matches": "x",
         "showticklabels": false
        },
        "xaxis115": {
         "anchor": "y115",
         "domain": [
          0.9310344827586207,
          0.9455172413793104
         ],
         "matches": "x",
         "showticklabels": false
        },
        "xaxis116": {
         "anchor": "y116",
         "domain": [
          0.9655172413793103,
          0.98
         ],
         "matches": "x",
         "showticklabels": false
        },
        "xaxis12": {
         "anchor": "y12",
         "domain": [
          0.3793103448275862,
          0.39379310344827584
         ],
         "matches": "x",
         "title": {
          "text": "trial_id"
         }
        },
        "xaxis13": {
         "anchor": "y13",
         "domain": [
          0.4137931034482758,
          0.42827586206896545
         ],
         "matches": "x",
         "title": {
          "text": "trial_id"
         }
        },
        "xaxis14": {
         "anchor": "y14",
         "domain": [
          0.4482758620689655,
          0.4627586206896552
         ],
         "matches": "x",
         "title": {
          "text": "trial_id"
         }
        },
        "xaxis15": {
         "anchor": "y15",
         "domain": [
          0.48275862068965514,
          0.4972413793103448
         ],
         "matches": "x",
         "title": {
          "text": "trial_id"
         }
        },
        "xaxis16": {
         "anchor": "y16",
         "domain": [
          0.5172413793103448,
          0.5317241379310345
         ],
         "matches": "x",
         "title": {
          "text": "trial_id"
         }
        },
        "xaxis17": {
         "anchor": "y17",
         "domain": [
          0.5517241379310345,
          0.5662068965517242
         ],
         "matches": "x",
         "title": {
          "text": "trial_id"
         }
        },
        "xaxis18": {
         "anchor": "y18",
         "domain": [
          0.5862068965517241,
          0.6006896551724138
         ],
         "matches": "x",
         "title": {
          "text": "trial_id"
         }
        },
        "xaxis19": {
         "anchor": "y19",
         "domain": [
          0.6206896551724137,
          0.6351724137931034
         ],
         "matches": "x",
         "title": {
          "text": "trial_id"
         }
        },
        "xaxis2": {
         "anchor": "y2",
         "domain": [
          0.034482758620689655,
          0.048965517241379306
         ],
         "matches": "x",
         "title": {
          "text": "trial_id"
         }
        },
        "xaxis20": {
         "anchor": "y20",
         "domain": [
          0.6551724137931034,
          0.6696551724137931
         ],
         "matches": "x",
         "title": {
          "text": "trial_id"
         }
        },
        "xaxis21": {
         "anchor": "y21",
         "domain": [
          0.6896551724137931,
          0.7041379310344829
         ],
         "matches": "x",
         "title": {
          "text": "trial_id"
         }
        },
        "xaxis22": {
         "anchor": "y22",
         "domain": [
          0.7241379310344827,
          0.7386206896551724
         ],
         "matches": "x",
         "title": {
          "text": "trial_id"
         }
        },
        "xaxis23": {
         "anchor": "y23",
         "domain": [
          0.7586206896551724,
          0.7731034482758621
         ],
         "matches": "x",
         "title": {
          "text": "trial_id"
         }
        },
        "xaxis24": {
         "anchor": "y24",
         "domain": [
          0.7931034482758621,
          0.8075862068965518
         ],
         "matches": "x",
         "title": {
          "text": "trial_id"
         }
        },
        "xaxis25": {
         "anchor": "y25",
         "domain": [
          0.8275862068965516,
          0.8420689655172413
         ],
         "matches": "x",
         "title": {
          "text": "trial_id"
         }
        },
        "xaxis26": {
         "anchor": "y26",
         "domain": [
          0.8620689655172413,
          0.876551724137931
         ],
         "matches": "x",
         "title": {
          "text": "trial_id"
         }
        },
        "xaxis27": {
         "anchor": "y27",
         "domain": [
          0.896551724137931,
          0.9110344827586208
         ],
         "matches": "x",
         "title": {
          "text": "trial_id"
         }
        },
        "xaxis28": {
         "anchor": "y28",
         "domain": [
          0.9310344827586207,
          0.9455172413793104
         ],
         "matches": "x",
         "title": {
          "text": "trial_id"
         }
        },
        "xaxis29": {
         "anchor": "y29",
         "domain": [
          0.9655172413793103,
          0.98
         ],
         "matches": "x",
         "title": {
          "text": "trial_id"
         }
        },
        "xaxis3": {
         "anchor": "y3",
         "domain": [
          0.06896551724137931,
          0.08344827586206896
         ],
         "matches": "x",
         "title": {
          "text": "trial_id"
         }
        },
        "xaxis30": {
         "anchor": "y30",
         "domain": [
          0,
          0.014482758620689653
         ],
         "matches": "x",
         "showticklabels": false
        },
        "xaxis31": {
         "anchor": "y31",
         "domain": [
          0.034482758620689655,
          0.048965517241379306
         ],
         "matches": "x",
         "showticklabels": false
        },
        "xaxis32": {
         "anchor": "y32",
         "domain": [
          0.06896551724137931,
          0.08344827586206896
         ],
         "matches": "x",
         "showticklabels": false
        },
        "xaxis33": {
         "anchor": "y33",
         "domain": [
          0.10344827586206895,
          0.1179310344827586
         ],
         "matches": "x",
         "showticklabels": false
        },
        "xaxis34": {
         "anchor": "y34",
         "domain": [
          0.13793103448275862,
          0.15241379310344827
         ],
         "matches": "x",
         "showticklabels": false
        },
        "xaxis35": {
         "anchor": "y35",
         "domain": [
          0.1724137931034483,
          0.18689655172413794
         ],
         "matches": "x",
         "showticklabels": false
        },
        "xaxis36": {
         "anchor": "y36",
         "domain": [
          0.2068965517241379,
          0.22137931034482755
         ],
         "matches": "x",
         "showticklabels": false
        },
        "xaxis37": {
         "anchor": "y37",
         "domain": [
          0.24137931034482757,
          0.2558620689655172
         ],
         "matches": "x",
         "showticklabels": false
        },
        "xaxis38": {
         "anchor": "y38",
         "domain": [
          0.27586206896551724,
          0.2903448275862069
         ],
         "matches": "x",
         "showticklabels": false
        },
        "xaxis39": {
         "anchor": "y39",
         "domain": [
          0.31034482758620685,
          0.3248275862068965
         ],
         "matches": "x",
         "showticklabels": false
        },
        "xaxis4": {
         "anchor": "y4",
         "domain": [
          0.10344827586206895,
          0.1179310344827586
         ],
         "matches": "x",
         "title": {
          "text": "trial_id"
         }
        },
        "xaxis40": {
         "anchor": "y40",
         "domain": [
          0.3448275862068966,
          0.3593103448275862
         ],
         "matches": "x",
         "showticklabels": false
        },
        "xaxis41": {
         "anchor": "y41",
         "domain": [
          0.3793103448275862,
          0.39379310344827584
         ],
         "matches": "x",
         "showticklabels": false
        },
        "xaxis42": {
         "anchor": "y42",
         "domain": [
          0.4137931034482758,
          0.42827586206896545
         ],
         "matches": "x",
         "showticklabels": false
        },
        "xaxis43": {
         "anchor": "y43",
         "domain": [
          0.4482758620689655,
          0.4627586206896552
         ],
         "matches": "x",
         "showticklabels": false
        },
        "xaxis44": {
         "anchor": "y44",
         "domain": [
          0.48275862068965514,
          0.4972413793103448
         ],
         "matches": "x",
         "showticklabels": false
        },
        "xaxis45": {
         "anchor": "y45",
         "domain": [
          0.5172413793103448,
          0.5317241379310345
         ],
         "matches": "x",
         "showticklabels": false
        },
        "xaxis46": {
         "anchor": "y46",
         "domain": [
          0.5517241379310345,
          0.5662068965517242
         ],
         "matches": "x",
         "showticklabels": false
        },
        "xaxis47": {
         "anchor": "y47",
         "domain": [
          0.5862068965517241,
          0.6006896551724138
         ],
         "matches": "x",
         "showticklabels": false
        },
        "xaxis48": {
         "anchor": "y48",
         "domain": [
          0.6206896551724137,
          0.6351724137931034
         ],
         "matches": "x",
         "showticklabels": false
        },
        "xaxis49": {
         "anchor": "y49",
         "domain": [
          0.6551724137931034,
          0.6696551724137931
         ],
         "matches": "x",
         "showticklabels": false
        },
        "xaxis5": {
         "anchor": "y5",
         "domain": [
          0.13793103448275862,
          0.15241379310344827
         ],
         "matches": "x",
         "title": {
          "text": "trial_id"
         }
        },
        "xaxis50": {
         "anchor": "y50",
         "domain": [
          0.6896551724137931,
          0.7041379310344829
         ],
         "matches": "x",
         "showticklabels": false
        },
        "xaxis51": {
         "anchor": "y51",
         "domain": [
          0.7241379310344827,
          0.7386206896551724
         ],
         "matches": "x",
         "showticklabels": false
        },
        "xaxis52": {
         "anchor": "y52",
         "domain": [
          0.7586206896551724,
          0.7731034482758621
         ],
         "matches": "x",
         "showticklabels": false
        },
        "xaxis53": {
         "anchor": "y53",
         "domain": [
          0.7931034482758621,
          0.8075862068965518
         ],
         "matches": "x",
         "showticklabels": false
        },
        "xaxis54": {
         "anchor": "y54",
         "domain": [
          0.8275862068965516,
          0.8420689655172413
         ],
         "matches": "x",
         "showticklabels": false
        },
        "xaxis55": {
         "anchor": "y55",
         "domain": [
          0.8620689655172413,
          0.876551724137931
         ],
         "matches": "x",
         "showticklabels": false
        },
        "xaxis56": {
         "anchor": "y56",
         "domain": [
          0.896551724137931,
          0.9110344827586208
         ],
         "matches": "x",
         "showticklabels": false
        },
        "xaxis57": {
         "anchor": "y57",
         "domain": [
          0.9310344827586207,
          0.9455172413793104
         ],
         "matches": "x",
         "showticklabels": false
        },
        "xaxis58": {
         "anchor": "y58",
         "domain": [
          0.9655172413793103,
          0.98
         ],
         "matches": "x",
         "showticklabels": false
        },
        "xaxis59": {
         "anchor": "y59",
         "domain": [
          0,
          0.014482758620689653
         ],
         "matches": "x",
         "showticklabels": false
        },
        "xaxis6": {
         "anchor": "y6",
         "domain": [
          0.1724137931034483,
          0.18689655172413794
         ],
         "matches": "x",
         "title": {
          "text": "trial_id"
         }
        },
        "xaxis60": {
         "anchor": "y60",
         "domain": [
          0.034482758620689655,
          0.048965517241379306
         ],
         "matches": "x",
         "showticklabels": false
        },
        "xaxis61": {
         "anchor": "y61",
         "domain": [
          0.06896551724137931,
          0.08344827586206896
         ],
         "matches": "x",
         "showticklabels": false
        },
        "xaxis62": {
         "anchor": "y62",
         "domain": [
          0.10344827586206895,
          0.1179310344827586
         ],
         "matches": "x",
         "showticklabels": false
        },
        "xaxis63": {
         "anchor": "y63",
         "domain": [
          0.13793103448275862,
          0.15241379310344827
         ],
         "matches": "x",
         "showticklabels": false
        },
        "xaxis64": {
         "anchor": "y64",
         "domain": [
          0.1724137931034483,
          0.18689655172413794
         ],
         "matches": "x",
         "showticklabels": false
        },
        "xaxis65": {
         "anchor": "y65",
         "domain": [
          0.2068965517241379,
          0.22137931034482755
         ],
         "matches": "x",
         "showticklabels": false
        },
        "xaxis66": {
         "anchor": "y66",
         "domain": [
          0.24137931034482757,
          0.2558620689655172
         ],
         "matches": "x",
         "showticklabels": false
        },
        "xaxis67": {
         "anchor": "y67",
         "domain": [
          0.27586206896551724,
          0.2903448275862069
         ],
         "matches": "x",
         "showticklabels": false
        },
        "xaxis68": {
         "anchor": "y68",
         "domain": [
          0.31034482758620685,
          0.3248275862068965
         ],
         "matches": "x",
         "showticklabels": false
        },
        "xaxis69": {
         "anchor": "y69",
         "domain": [
          0.3448275862068966,
          0.3593103448275862
         ],
         "matches": "x",
         "showticklabels": false
        },
        "xaxis7": {
         "anchor": "y7",
         "domain": [
          0.2068965517241379,
          0.22137931034482755
         ],
         "matches": "x",
         "title": {
          "text": "trial_id"
         }
        },
        "xaxis70": {
         "anchor": "y70",
         "domain": [
          0.3793103448275862,
          0.39379310344827584
         ],
         "matches": "x",
         "showticklabels": false
        },
        "xaxis71": {
         "anchor": "y71",
         "domain": [
          0.4137931034482758,
          0.42827586206896545
         ],
         "matches": "x",
         "showticklabels": false
        },
        "xaxis72": {
         "anchor": "y72",
         "domain": [
          0.4482758620689655,
          0.4627586206896552
         ],
         "matches": "x",
         "showticklabels": false
        },
        "xaxis73": {
         "anchor": "y73",
         "domain": [
          0.48275862068965514,
          0.4972413793103448
         ],
         "matches": "x",
         "showticklabels": false
        },
        "xaxis74": {
         "anchor": "y74",
         "domain": [
          0.5172413793103448,
          0.5317241379310345
         ],
         "matches": "x",
         "showticklabels": false
        },
        "xaxis75": {
         "anchor": "y75",
         "domain": [
          0.5517241379310345,
          0.5662068965517242
         ],
         "matches": "x",
         "showticklabels": false
        },
        "xaxis76": {
         "anchor": "y76",
         "domain": [
          0.5862068965517241,
          0.6006896551724138
         ],
         "matches": "x",
         "showticklabels": false
        },
        "xaxis77": {
         "anchor": "y77",
         "domain": [
          0.6206896551724137,
          0.6351724137931034
         ],
         "matches": "x",
         "showticklabels": false
        },
        "xaxis78": {
         "anchor": "y78",
         "domain": [
          0.6551724137931034,
          0.6696551724137931
         ],
         "matches": "x",
         "showticklabels": false
        },
        "xaxis79": {
         "anchor": "y79",
         "domain": [
          0.6896551724137931,
          0.7041379310344829
         ],
         "matches": "x",
         "showticklabels": false
        },
        "xaxis8": {
         "anchor": "y8",
         "domain": [
          0.24137931034482757,
          0.2558620689655172
         ],
         "matches": "x",
         "title": {
          "text": "trial_id"
         }
        },
        "xaxis80": {
         "anchor": "y80",
         "domain": [
          0.7241379310344827,
          0.7386206896551724
         ],
         "matches": "x",
         "showticklabels": false
        },
        "xaxis81": {
         "anchor": "y81",
         "domain": [
          0.7586206896551724,
          0.7731034482758621
         ],
         "matches": "x",
         "showticklabels": false
        },
        "xaxis82": {
         "anchor": "y82",
         "domain": [
          0.7931034482758621,
          0.8075862068965518
         ],
         "matches": "x",
         "showticklabels": false
        },
        "xaxis83": {
         "anchor": "y83",
         "domain": [
          0.8275862068965516,
          0.8420689655172413
         ],
         "matches": "x",
         "showticklabels": false
        },
        "xaxis84": {
         "anchor": "y84",
         "domain": [
          0.8620689655172413,
          0.876551724137931
         ],
         "matches": "x",
         "showticklabels": false
        },
        "xaxis85": {
         "anchor": "y85",
         "domain": [
          0.896551724137931,
          0.9110344827586208
         ],
         "matches": "x",
         "showticklabels": false
        },
        "xaxis86": {
         "anchor": "y86",
         "domain": [
          0.9310344827586207,
          0.9455172413793104
         ],
         "matches": "x",
         "showticklabels": false
        },
        "xaxis87": {
         "anchor": "y87",
         "domain": [
          0.9655172413793103,
          0.98
         ],
         "matches": "x",
         "showticklabels": false
        },
        "xaxis88": {
         "anchor": "y88",
         "domain": [
          0,
          0.014482758620689653
         ],
         "matches": "x",
         "showticklabels": false
        },
        "xaxis89": {
         "anchor": "y89",
         "domain": [
          0.034482758620689655,
          0.048965517241379306
         ],
         "matches": "x",
         "showticklabels": false
        },
        "xaxis9": {
         "anchor": "y9",
         "domain": [
          0.27586206896551724,
          0.2903448275862069
         ],
         "matches": "x",
         "title": {
          "text": "trial_id"
         }
        },
        "xaxis90": {
         "anchor": "y90",
         "domain": [
          0.06896551724137931,
          0.08344827586206896
         ],
         "matches": "x",
         "showticklabels": false
        },
        "xaxis91": {
         "anchor": "y91",
         "domain": [
          0.10344827586206895,
          0.1179310344827586
         ],
         "matches": "x",
         "showticklabels": false
        },
        "xaxis92": {
         "anchor": "y92",
         "domain": [
          0.13793103448275862,
          0.15241379310344827
         ],
         "matches": "x",
         "showticklabels": false
        },
        "xaxis93": {
         "anchor": "y93",
         "domain": [
          0.1724137931034483,
          0.18689655172413794
         ],
         "matches": "x",
         "showticklabels": false
        },
        "xaxis94": {
         "anchor": "y94",
         "domain": [
          0.2068965517241379,
          0.22137931034482755
         ],
         "matches": "x",
         "showticklabels": false
        },
        "xaxis95": {
         "anchor": "y95",
         "domain": [
          0.24137931034482757,
          0.2558620689655172
         ],
         "matches": "x",
         "showticklabels": false
        },
        "xaxis96": {
         "anchor": "y96",
         "domain": [
          0.27586206896551724,
          0.2903448275862069
         ],
         "matches": "x",
         "showticklabels": false
        },
        "xaxis97": {
         "anchor": "y97",
         "domain": [
          0.31034482758620685,
          0.3248275862068965
         ],
         "matches": "x",
         "showticklabels": false
        },
        "xaxis98": {
         "anchor": "y98",
         "domain": [
          0.3448275862068966,
          0.3593103448275862
         ],
         "matches": "x",
         "showticklabels": false
        },
        "xaxis99": {
         "anchor": "y99",
         "domain": [
          0.3793103448275862,
          0.39379310344827584
         ],
         "matches": "x",
         "showticklabels": false
        },
        "yaxis": {
         "anchor": "x",
         "domain": [
          0,
          0.2275
         ],
         "title": {
          "text": "IPA"
         }
        },
        "yaxis10": {
         "anchor": "x10",
         "domain": [
          0,
          0.2275
         ],
         "matches": "y",
         "showticklabels": false
        },
        "yaxis100": {
         "anchor": "x100",
         "domain": [
          0.7725,
          1
         ],
         "matches": "y",
         "showticklabels": false
        },
        "yaxis101": {
         "anchor": "x101",
         "domain": [
          0.7725,
          1
         ],
         "matches": "y",
         "showticklabels": false
        },
        "yaxis102": {
         "anchor": "x102",
         "domain": [
          0.7725,
          1
         ],
         "matches": "y",
         "showticklabels": false
        },
        "yaxis103": {
         "anchor": "x103",
         "domain": [
          0.7725,
          1
         ],
         "matches": "y",
         "showticklabels": false
        },
        "yaxis104": {
         "anchor": "x104",
         "domain": [
          0.7725,
          1
         ],
         "matches": "y",
         "showticklabels": false
        },
        "yaxis105": {
         "anchor": "x105",
         "domain": [
          0.7725,
          1
         ],
         "matches": "y",
         "showticklabels": false
        },
        "yaxis106": {
         "anchor": "x106",
         "domain": [
          0.7725,
          1
         ],
         "matches": "y",
         "showticklabels": false
        },
        "yaxis107": {
         "anchor": "x107",
         "domain": [
          0.7725,
          1
         ],
         "matches": "y",
         "showticklabels": false
        },
        "yaxis108": {
         "anchor": "x108",
         "domain": [
          0.7725,
          1
         ],
         "matches": "y",
         "showticklabels": false
        },
        "yaxis109": {
         "anchor": "x109",
         "domain": [
          0.7725,
          1
         ],
         "matches": "y",
         "showticklabels": false
        },
        "yaxis11": {
         "anchor": "x11",
         "domain": [
          0,
          0.2275
         ],
         "matches": "y",
         "showticklabels": false
        },
        "yaxis110": {
         "anchor": "x110",
         "domain": [
          0.7725,
          1
         ],
         "matches": "y",
         "showticklabels": false
        },
        "yaxis111": {
         "anchor": "x111",
         "domain": [
          0.7725,
          1
         ],
         "matches": "y",
         "showticklabels": false
        },
        "yaxis112": {
         "anchor": "x112",
         "domain": [
          0.7725,
          1
         ],
         "matches": "y",
         "showticklabels": false
        },
        "yaxis113": {
         "anchor": "x113",
         "domain": [
          0.7725,
          1
         ],
         "matches": "y",
         "showticklabels": false
        },
        "yaxis114": {
         "anchor": "x114",
         "domain": [
          0.7725,
          1
         ],
         "matches": "y",
         "showticklabels": false
        },
        "yaxis115": {
         "anchor": "x115",
         "domain": [
          0.7725,
          1
         ],
         "matches": "y",
         "showticklabels": false
        },
        "yaxis116": {
         "anchor": "x116",
         "domain": [
          0.7725,
          1
         ],
         "matches": "y",
         "showticklabels": false
        },
        "yaxis12": {
         "anchor": "x12",
         "domain": [
          0,
          0.2275
         ],
         "matches": "y",
         "showticklabels": false
        },
        "yaxis13": {
         "anchor": "x13",
         "domain": [
          0,
          0.2275
         ],
         "matches": "y",
         "showticklabels": false
        },
        "yaxis14": {
         "anchor": "x14",
         "domain": [
          0,
          0.2275
         ],
         "matches": "y",
         "showticklabels": false
        },
        "yaxis15": {
         "anchor": "x15",
         "domain": [
          0,
          0.2275
         ],
         "matches": "y",
         "showticklabels": false
        },
        "yaxis16": {
         "anchor": "x16",
         "domain": [
          0,
          0.2275
         ],
         "matches": "y",
         "showticklabels": false
        },
        "yaxis17": {
         "anchor": "x17",
         "domain": [
          0,
          0.2275
         ],
         "matches": "y",
         "showticklabels": false
        },
        "yaxis18": {
         "anchor": "x18",
         "domain": [
          0,
          0.2275
         ],
         "matches": "y",
         "showticklabels": false
        },
        "yaxis19": {
         "anchor": "x19",
         "domain": [
          0,
          0.2275
         ],
         "matches": "y",
         "showticklabels": false
        },
        "yaxis2": {
         "anchor": "x2",
         "domain": [
          0,
          0.2275
         ],
         "matches": "y",
         "showticklabels": false
        },
        "yaxis20": {
         "anchor": "x20",
         "domain": [
          0,
          0.2275
         ],
         "matches": "y",
         "showticklabels": false
        },
        "yaxis21": {
         "anchor": "x21",
         "domain": [
          0,
          0.2275
         ],
         "matches": "y",
         "showticklabels": false
        },
        "yaxis22": {
         "anchor": "x22",
         "domain": [
          0,
          0.2275
         ],
         "matches": "y",
         "showticklabels": false
        },
        "yaxis23": {
         "anchor": "x23",
         "domain": [
          0,
          0.2275
         ],
         "matches": "y",
         "showticklabels": false
        },
        "yaxis24": {
         "anchor": "x24",
         "domain": [
          0,
          0.2275
         ],
         "matches": "y",
         "showticklabels": false
        },
        "yaxis25": {
         "anchor": "x25",
         "domain": [
          0,
          0.2275
         ],
         "matches": "y",
         "showticklabels": false
        },
        "yaxis26": {
         "anchor": "x26",
         "domain": [
          0,
          0.2275
         ],
         "matches": "y",
         "showticklabels": false
        },
        "yaxis27": {
         "anchor": "x27",
         "domain": [
          0,
          0.2275
         ],
         "matches": "y",
         "showticklabels": false
        },
        "yaxis28": {
         "anchor": "x28",
         "domain": [
          0,
          0.2275
         ],
         "matches": "y",
         "showticklabels": false
        },
        "yaxis29": {
         "anchor": "x29",
         "domain": [
          0,
          0.2275
         ],
         "matches": "y",
         "showticklabels": false
        },
        "yaxis3": {
         "anchor": "x3",
         "domain": [
          0,
          0.2275
         ],
         "matches": "y",
         "showticklabels": false
        },
        "yaxis30": {
         "anchor": "x30",
         "domain": [
          0.2575,
          0.485
         ],
         "matches": "y",
         "title": {
          "text": "IPA"
         }
        },
        "yaxis31": {
         "anchor": "x31",
         "domain": [
          0.2575,
          0.485
         ],
         "matches": "y",
         "showticklabels": false
        },
        "yaxis32": {
         "anchor": "x32",
         "domain": [
          0.2575,
          0.485
         ],
         "matches": "y",
         "showticklabels": false
        },
        "yaxis33": {
         "anchor": "x33",
         "domain": [
          0.2575,
          0.485
         ],
         "matches": "y",
         "showticklabels": false
        },
        "yaxis34": {
         "anchor": "x34",
         "domain": [
          0.2575,
          0.485
         ],
         "matches": "y",
         "showticklabels": false
        },
        "yaxis35": {
         "anchor": "x35",
         "domain": [
          0.2575,
          0.485
         ],
         "matches": "y",
         "showticklabels": false
        },
        "yaxis36": {
         "anchor": "x36",
         "domain": [
          0.2575,
          0.485
         ],
         "matches": "y",
         "showticklabels": false
        },
        "yaxis37": {
         "anchor": "x37",
         "domain": [
          0.2575,
          0.485
         ],
         "matches": "y",
         "showticklabels": false
        },
        "yaxis38": {
         "anchor": "x38",
         "domain": [
          0.2575,
          0.485
         ],
         "matches": "y",
         "showticklabels": false
        },
        "yaxis39": {
         "anchor": "x39",
         "domain": [
          0.2575,
          0.485
         ],
         "matches": "y",
         "showticklabels": false
        },
        "yaxis4": {
         "anchor": "x4",
         "domain": [
          0,
          0.2275
         ],
         "matches": "y",
         "showticklabels": false
        },
        "yaxis40": {
         "anchor": "x40",
         "domain": [
          0.2575,
          0.485
         ],
         "matches": "y",
         "showticklabels": false
        },
        "yaxis41": {
         "anchor": "x41",
         "domain": [
          0.2575,
          0.485
         ],
         "matches": "y",
         "showticklabels": false
        },
        "yaxis42": {
         "anchor": "x42",
         "domain": [
          0.2575,
          0.485
         ],
         "matches": "y",
         "showticklabels": false
        },
        "yaxis43": {
         "anchor": "x43",
         "domain": [
          0.2575,
          0.485
         ],
         "matches": "y",
         "showticklabels": false
        },
        "yaxis44": {
         "anchor": "x44",
         "domain": [
          0.2575,
          0.485
         ],
         "matches": "y",
         "showticklabels": false
        },
        "yaxis45": {
         "anchor": "x45",
         "domain": [
          0.2575,
          0.485
         ],
         "matches": "y",
         "showticklabels": false
        },
        "yaxis46": {
         "anchor": "x46",
         "domain": [
          0.2575,
          0.485
         ],
         "matches": "y",
         "showticklabels": false
        },
        "yaxis47": {
         "anchor": "x47",
         "domain": [
          0.2575,
          0.485
         ],
         "matches": "y",
         "showticklabels": false
        },
        "yaxis48": {
         "anchor": "x48",
         "domain": [
          0.2575,
          0.485
         ],
         "matches": "y",
         "showticklabels": false
        },
        "yaxis49": {
         "anchor": "x49",
         "domain": [
          0.2575,
          0.485
         ],
         "matches": "y",
         "showticklabels": false
        },
        "yaxis5": {
         "anchor": "x5",
         "domain": [
          0,
          0.2275
         ],
         "matches": "y",
         "showticklabels": false
        },
        "yaxis50": {
         "anchor": "x50",
         "domain": [
          0.2575,
          0.485
         ],
         "matches": "y",
         "showticklabels": false
        },
        "yaxis51": {
         "anchor": "x51",
         "domain": [
          0.2575,
          0.485
         ],
         "matches": "y",
         "showticklabels": false
        },
        "yaxis52": {
         "anchor": "x52",
         "domain": [
          0.2575,
          0.485
         ],
         "matches": "y",
         "showticklabels": false
        },
        "yaxis53": {
         "anchor": "x53",
         "domain": [
          0.2575,
          0.485
         ],
         "matches": "y",
         "showticklabels": false
        },
        "yaxis54": {
         "anchor": "x54",
         "domain": [
          0.2575,
          0.485
         ],
         "matches": "y",
         "showticklabels": false
        },
        "yaxis55": {
         "anchor": "x55",
         "domain": [
          0.2575,
          0.485
         ],
         "matches": "y",
         "showticklabels": false
        },
        "yaxis56": {
         "anchor": "x56",
         "domain": [
          0.2575,
          0.485
         ],
         "matches": "y",
         "showticklabels": false
        },
        "yaxis57": {
         "anchor": "x57",
         "domain": [
          0.2575,
          0.485
         ],
         "matches": "y",
         "showticklabels": false
        },
        "yaxis58": {
         "anchor": "x58",
         "domain": [
          0.2575,
          0.485
         ],
         "matches": "y",
         "showticklabels": false
        },
        "yaxis59": {
         "anchor": "x59",
         "domain": [
          0.515,
          0.7425
         ],
         "matches": "y",
         "title": {
          "text": "IPA"
         }
        },
        "yaxis6": {
         "anchor": "x6",
         "domain": [
          0,
          0.2275
         ],
         "matches": "y",
         "showticklabels": false
        },
        "yaxis60": {
         "anchor": "x60",
         "domain": [
          0.515,
          0.7425
         ],
         "matches": "y",
         "showticklabels": false
        },
        "yaxis61": {
         "anchor": "x61",
         "domain": [
          0.515,
          0.7425
         ],
         "matches": "y",
         "showticklabels": false
        },
        "yaxis62": {
         "anchor": "x62",
         "domain": [
          0.515,
          0.7425
         ],
         "matches": "y",
         "showticklabels": false
        },
        "yaxis63": {
         "anchor": "x63",
         "domain": [
          0.515,
          0.7425
         ],
         "matches": "y",
         "showticklabels": false
        },
        "yaxis64": {
         "anchor": "x64",
         "domain": [
          0.515,
          0.7425
         ],
         "matches": "y",
         "showticklabels": false
        },
        "yaxis65": {
         "anchor": "x65",
         "domain": [
          0.515,
          0.7425
         ],
         "matches": "y",
         "showticklabels": false
        },
        "yaxis66": {
         "anchor": "x66",
         "domain": [
          0.515,
          0.7425
         ],
         "matches": "y",
         "showticklabels": false
        },
        "yaxis67": {
         "anchor": "x67",
         "domain": [
          0.515,
          0.7425
         ],
         "matches": "y",
         "showticklabels": false
        },
        "yaxis68": {
         "anchor": "x68",
         "domain": [
          0.515,
          0.7425
         ],
         "matches": "y",
         "showticklabels": false
        },
        "yaxis69": {
         "anchor": "x69",
         "domain": [
          0.515,
          0.7425
         ],
         "matches": "y",
         "showticklabels": false
        },
        "yaxis7": {
         "anchor": "x7",
         "domain": [
          0,
          0.2275
         ],
         "matches": "y",
         "showticklabels": false
        },
        "yaxis70": {
         "anchor": "x70",
         "domain": [
          0.515,
          0.7425
         ],
         "matches": "y",
         "showticklabels": false
        },
        "yaxis71": {
         "anchor": "x71",
         "domain": [
          0.515,
          0.7425
         ],
         "matches": "y",
         "showticklabels": false
        },
        "yaxis72": {
         "anchor": "x72",
         "domain": [
          0.515,
          0.7425
         ],
         "matches": "y",
         "showticklabels": false
        },
        "yaxis73": {
         "anchor": "x73",
         "domain": [
          0.515,
          0.7425
         ],
         "matches": "y",
         "showticklabels": false
        },
        "yaxis74": {
         "anchor": "x74",
         "domain": [
          0.515,
          0.7425
         ],
         "matches": "y",
         "showticklabels": false
        },
        "yaxis75": {
         "anchor": "x75",
         "domain": [
          0.515,
          0.7425
         ],
         "matches": "y",
         "showticklabels": false
        },
        "yaxis76": {
         "anchor": "x76",
         "domain": [
          0.515,
          0.7425
         ],
         "matches": "y",
         "showticklabels": false
        },
        "yaxis77": {
         "anchor": "x77",
         "domain": [
          0.515,
          0.7425
         ],
         "matches": "y",
         "showticklabels": false
        },
        "yaxis78": {
         "anchor": "x78",
         "domain": [
          0.515,
          0.7425
         ],
         "matches": "y",
         "showticklabels": false
        },
        "yaxis79": {
         "anchor": "x79",
         "domain": [
          0.515,
          0.7425
         ],
         "matches": "y",
         "showticklabels": false
        },
        "yaxis8": {
         "anchor": "x8",
         "domain": [
          0,
          0.2275
         ],
         "matches": "y",
         "showticklabels": false
        },
        "yaxis80": {
         "anchor": "x80",
         "domain": [
          0.515,
          0.7425
         ],
         "matches": "y",
         "showticklabels": false
        },
        "yaxis81": {
         "anchor": "x81",
         "domain": [
          0.515,
          0.7425
         ],
         "matches": "y",
         "showticklabels": false
        },
        "yaxis82": {
         "anchor": "x82",
         "domain": [
          0.515,
          0.7425
         ],
         "matches": "y",
         "showticklabels": false
        },
        "yaxis83": {
         "anchor": "x83",
         "domain": [
          0.515,
          0.7425
         ],
         "matches": "y",
         "showticklabels": false
        },
        "yaxis84": {
         "anchor": "x84",
         "domain": [
          0.515,
          0.7425
         ],
         "matches": "y",
         "showticklabels": false
        },
        "yaxis85": {
         "anchor": "x85",
         "domain": [
          0.515,
          0.7425
         ],
         "matches": "y",
         "showticklabels": false
        },
        "yaxis86": {
         "anchor": "x86",
         "domain": [
          0.515,
          0.7425
         ],
         "matches": "y",
         "showticklabels": false
        },
        "yaxis87": {
         "anchor": "x87",
         "domain": [
          0.515,
          0.7425
         ],
         "matches": "y",
         "showticklabels": false
        },
        "yaxis88": {
         "anchor": "x88",
         "domain": [
          0.7725,
          1
         ],
         "matches": "y",
         "title": {
          "text": "IPA"
         }
        },
        "yaxis89": {
         "anchor": "x89",
         "domain": [
          0.7725,
          1
         ],
         "matches": "y",
         "showticklabels": false
        },
        "yaxis9": {
         "anchor": "x9",
         "domain": [
          0,
          0.2275
         ],
         "matches": "y",
         "showticklabels": false
        },
        "yaxis90": {
         "anchor": "x90",
         "domain": [
          0.7725,
          1
         ],
         "matches": "y",
         "showticklabels": false
        },
        "yaxis91": {
         "anchor": "x91",
         "domain": [
          0.7725,
          1
         ],
         "matches": "y",
         "showticklabels": false
        },
        "yaxis92": {
         "anchor": "x92",
         "domain": [
          0.7725,
          1
         ],
         "matches": "y",
         "showticklabels": false
        },
        "yaxis93": {
         "anchor": "x93",
         "domain": [
          0.7725,
          1
         ],
         "matches": "y",
         "showticklabels": false
        },
        "yaxis94": {
         "anchor": "x94",
         "domain": [
          0.7725,
          1
         ],
         "matches": "y",
         "showticklabels": false
        },
        "yaxis95": {
         "anchor": "x95",
         "domain": [
          0.7725,
          1
         ],
         "matches": "y",
         "showticklabels": false
        },
        "yaxis96": {
         "anchor": "x96",
         "domain": [
          0.7725,
          1
         ],
         "matches": "y",
         "showticklabels": false
        },
        "yaxis97": {
         "anchor": "x97",
         "domain": [
          0.7725,
          1
         ],
         "matches": "y",
         "showticklabels": false
        },
        "yaxis98": {
         "anchor": "x98",
         "domain": [
          0.7725,
          1
         ],
         "matches": "y",
         "showticklabels": false
        },
        "yaxis99": {
         "anchor": "x99",
         "domain": [
          0.7725,
          1
         ],
         "matches": "y",
         "showticklabels": false
        }
       }
      }
     },
     "metadata": {},
     "output_type": "display_data"
    }
   ],
   "source": [
    "#plot scaled_ipa vs trial_id for each participant and method\n",
    "fig = px.scatter(mm_nav_data, x='trial_id', y='IPA', color='method', facet_col='id', facet_row='model', trendline='ols')\n",
    "fig.show()"
   ]
  },
  {
   "cell_type": "code",
   "execution_count": 33,
   "metadata": {},
   "outputs": [],
   "source": [
    "endog = mm_nav_data.loc[:, ['scaled_tepr', 'scaled_ipa', 'scaled_seq', 'scaled_discomfort', 'scaled_time']]\n",
    "exog = mm_nav_data.loc[:, ['block', 'method', 'model', 'creation_method', 'target_source', 'trial_id']]"
   ]
  },
  {
   "cell_type": "code",
   "execution_count": 38,
   "metadata": {},
   "outputs": [
    {
     "data": {
      "text/plain": [
       "const             39.37421\n",
       "block              1.00011\n",
       "method             1.01983\n",
       "model              1.00135\n",
       "creation_method    1.01170\n",
       "target_source      1.00994\n",
       "trial_id           1.00148\n",
       "dtype: float64"
      ]
     },
     "execution_count": 38,
     "metadata": {},
     "output_type": "execute_result"
    }
   ],
   "source": [
    "vif = sm.add_constant(exog)\n",
    "vif_value = pd.Series([variance_inflation_factor(vif.values, i) for i in range(vif.shape[1])], index=vif.columns)\n",
    "vif_value"
   ]
  },
  {
   "cell_type": "code",
   "execution_count": 65,
   "metadata": {},
   "outputs": [
    {
     "data": {
      "image/png": "[encoded data removed]",
      "text/plain": [
       "<Figure size 640x480 with 1 Axes>"
      ]
     },
     "metadata": {},
     "output_type": "display_data"
    }
   ],
   "source": [
    "response =  mm_nav_data.loc[:, 'scaled_ipa']\n",
    "x_factor = mm_nav_data.loc[:, 'target_source']\n",
    "trace_factor = mm_nav_data.loc[:, 'creation_method']\n",
    "\n",
    "fig = smgf.interaction_plot(x_factor, trace_factor, response)"
   ]
  },
  {
   "cell_type": "code",
   "execution_count": null,
   "metadata": {},
   "outputs": [
    {
     "name": "stdout",
     "output_type": "stream",
     "text": [
      "                   Mixed Linear Model Regression Results\n",
      "============================================================================\n",
      "Model:                    MixedLM       Dependent Variable:       scaled_ipa\n",
      "No. Observations:         230           Method:                   REML      \n",
      "No. Groups:               29            Scale:                    0.5199    \n",
      "Min. group size:          7             Log-Likelihood:           -297.9882 \n",
      "Max. group size:          8             Converged:                Yes       \n",
      "Mean group size:          7.9                                               \n",
      "----------------------------------------------------------------------------\n",
      "                                  Coef.  Std.Err.   z    P>|z| [0.025 0.975]\n",
      "----------------------------------------------------------------------------\n",
      "Intercept                          0.511    0.205  2.487 0.013  0.108  0.913\n",
      "C(method)[T.1]                    -0.262    0.096 -2.730 0.006 -0.451 -0.074\n",
      "C(model)[T.1]                     -0.351    0.168 -2.085 0.037 -0.681 -0.021\n",
      "C(model)[T.2]                     -0.205    0.169 -1.210 0.226 -0.537  0.127\n",
      "C(model)[T.3]                     -0.241    0.176 -1.370 0.171 -0.586  0.104\n",
      "C(creation_method)[T.3]           -0.026    0.096 -0.270 0.787 -0.214  0.162\n",
      "C(target_source)[T.2]             -0.230    0.096 -2.405 0.016 -0.417 -0.043\n",
      "C(trial_id)[T.1]                  -0.114    0.142 -0.801 0.423 -0.392  0.164\n",
      "C(trial_id)[T.2]                   0.071    0.143  0.499 0.618 -0.208  0.351\n",
      "C(trial_id)[T.3]                  -0.180    0.150 -1.197 0.231 -0.474  0.115\n",
      "Group Var                          0.559    0.343                           \n",
      "Group x C(model)[T.1] Cov         -0.185    0.267                           \n",
      "C(model)[T.1] Var                  0.296    0.360                           \n",
      "Group x C(model)[T.2] Cov         -0.283    0.278                           \n",
      "C(model)[T.1] x C(model)[T.2] Cov  0.288    0.279                           \n",
      "C(model)[T.2] Var                  0.304    0.339                           \n",
      "Group x C(model)[T.3] Cov         -0.222    0.275                           \n",
      "C(model)[T.1] x C(model)[T.3] Cov  0.296    0.286                           \n",
      "C(model)[T.2] x C(model)[T.3] Cov  0.297    0.296                           \n",
      "C(model)[T.3] Var                  0.379    0.378                           \n",
      "============================================================================\n",
      "\n"
     ]
    }
   ],
   "source": [
    "md_ipa = smf.mixedlm(\"scaled_ipa ~ C(method) + C(model) + C(creation_method) + C(target_source) + C(trial_id)\" , mm_nav_data, groups=mm_nav_data[\"id\"], re_formula='C(model)')\n",
    "mdf_ipa = md_ipa.fit(method='lbfgs')\n",
    "print(mdf_ipa.summary())"
   ]
  },
  {
   "cell_type": "code",
   "execution_count": null,
   "metadata": {},
   "outputs": [
    {
     "name": "stdout",
     "output_type": "stream",
     "text": [
      "                   Mixed Linear Model Regression Results\n",
      "============================================================================\n",
      "Model:                    MixedLM       Dependent Variable:       scaled_ipa\n",
      "No. Observations:         230           Method:                   REML      \n",
      "No. Groups:               29            Scale:                    0.5435    \n",
      "Min. group size:          7             Log-Likelihood:           -300.1808 \n",
      "Max. group size:          8             Converged:                Yes       \n",
      "Mean group size:          7.9                                               \n",
      "----------------------------------------------------------------------------\n",
      "                                  Coef.  Std.Err.   z    P>|z| [0.025 0.975]\n",
      "----------------------------------------------------------------------------\n",
      "Intercept                          0.405    0.201  2.015 0.044  0.011  0.799\n",
      "C(model)[T.1]                     -0.354    0.168 -2.103 0.035 -0.684 -0.024\n",
      "C(model)[T.2]                     -0.208    0.171 -1.214 0.225 -0.544  0.128\n",
      "C(model)[T.3]                     -0.241    0.175 -1.376 0.169 -0.585  0.102\n",
      "C(creation_method)[T.3]           -0.052    0.097 -0.536 0.592 -0.243  0.139\n",
      "C(target_source)[T.2]             -0.254    0.097 -2.606 0.009 -0.445 -0.063\n",
      "C(trial_id)[T.1]                  -0.120    0.145 -0.827 0.408 -0.403  0.164\n",
      "C(trial_id)[T.2]                   0.077    0.145  0.531 0.595 -0.207  0.361\n",
      "C(trial_id)[T.3]                  -0.180    0.152 -1.179 0.238 -0.479  0.119\n",
      "Group Var                          0.526    0.318                           \n",
      "Group x C(model)[T.1] Cov         -0.154    0.250                           \n",
      "C(model)[T.1] Var                  0.271    0.352                           \n",
      "Group x C(model)[T.2] Cov         -0.255    0.265                           \n",
      "C(model)[T.1] x C(model)[T.2] Cov  0.268    0.273                           \n",
      "C(model)[T.2] Var                  0.300    0.348                           \n",
      "Group x C(model)[T.3] Cov         -0.190    0.256                           \n",
      "C(model)[T.1] x C(model)[T.3] Cov  0.292    0.282                           \n",
      "C(model)[T.2] x C(model)[T.3] Cov  0.286    0.294                           \n",
      "C(model)[T.3] Var                  0.348    0.365                           \n",
      "============================================================================\n",
      "\n"
     ]
    }
   ],
   "source": [
    "md_ipa2 = smf.mixedlm(\"scaled_ipa ~ C(model) + C(creation_method) + C(target_source) + C(trial_id)\" , mm_nav_data, groups=mm_nav_data[\"id\"], re_formula='C(model)')\n",
    "mdf_ipa2 = md_ipa2.fit(method='lbfgs')\n",
    "print(mdf_ipa2.summary())"
   ]
  },
  {
   "cell_type": "code",
   "execution_count": null,
   "metadata": {},
   "outputs": [
    {
     "name": "stdout",
     "output_type": "stream",
     "text": [
      "          Mixed Linear Model Regression Results\n",
      "=========================================================\n",
      "Model:            MixedLM Dependent Variable: scaled_tepr\n",
      "No. Observations: 230     Method:             REML       \n",
      "No. Groups:       29      Scale:              0.2444     \n",
      "Min. group size:  7       Log-Likelihood:     -213.6135  \n",
      "Max. group size:  8       Converged:          Yes        \n",
      "Mean group size:  7.9                                    \n",
      "---------------------------------------------------------\n",
      "               Coef.  Std.Err.   z    P>|z| [0.025 0.975]\n",
      "---------------------------------------------------------\n",
      "Intercept      -0.047    0.172 -0.276 0.782 -0.384  0.289\n",
      "C(method)[T.1]  0.099    0.065  1.513 0.130 -0.029  0.227\n",
      "Group Var       0.791    0.475                           \n",
      "=========================================================\n",
      "\n"
     ]
    }
   ],
   "source": [
    "md_tepr = smf.mixedlm(\"scaled_tepr ~ C(method)\", mm_nav_data, groups=mm_nav_data[\"id\"])\n",
    "mdf_tepr = md_tepr.fit()\n",
    "print(mdf_tepr.summary())"
   ]
  },
  {
   "cell_type": "code",
   "execution_count": null,
   "metadata": {},
   "outputs": [
    {
     "name": "stdout",
     "output_type": "stream",
     "text": [
      "          Mixed Linear Model Regression Results\n",
      "=========================================================\n",
      "Model:            MixedLM Dependent Variable: scaled_tepr\n",
      "No. Observations: 230     Method:             REML       \n",
      "No. Groups:       29      Scale:              0.2253     \n",
      "Min. group size:  7       Log-Likelihood:     -207.4354  \n",
      "Max. group size:  8       Converged:          Yes        \n",
      "Mean group size:  7.9                                    \n",
      "---------------------------------------------------------\n",
      "               Coef.  Std.Err.   z    P>|z| [0.025 0.975]\n",
      "---------------------------------------------------------\n",
      "Intercept      -0.177    0.176 -1.001 0.317 -0.523  0.169\n",
      "C(model)[T.1]   0.074    0.089  0.834 0.404 -0.100  0.247\n",
      "C(model)[T.2]   0.338    0.089  3.812 0.000  0.164  0.511\n",
      "C(model)[T.3]   0.306    0.088  3.471 0.001  0.133  0.479\n",
      "Group Var       0.790    0.493                           \n",
      "=========================================================\n",
      "\n"
     ]
    }
   ],
   "source": [
    "md_tepr = smf.mixedlm(\"scaled_tepr ~ C(model)\", mm_nav_data, groups=mm_nav_data[\"id\"])\n",
    "mdf_tepr = md_tepr.fit()\n",
    "print(mdf_tepr.summary())"
   ]
  },
  {
   "cell_type": "code",
   "execution_count": null,
   "metadata": {},
   "outputs": [
    {
     "name": "stdout",
     "output_type": "stream",
     "text": [
      "          Mixed Linear Model Regression Results\n",
      "=========================================================\n",
      "Model:             MixedLM Dependent Variable: scaled_seq\n",
      "No. Observations:  230     Method:             REML      \n",
      "No. Groups:        29      Scale:              0.4399    \n",
      "Min. group size:   7       Log-Likelihood:     -266.6016 \n",
      "Max. group size:   8       Converged:          Yes       \n",
      "Mean group size:   7.9                                   \n",
      "---------------------------------------------------------\n",
      "               Coef.  Std.Err.   z    P>|z| [0.025 0.975]\n",
      "---------------------------------------------------------\n",
      "Intercept      -0.314    0.144 -2.178 0.029 -0.596 -0.031\n",
      "C(method)[T.1]  0.631    0.088  7.214 0.000  0.460  0.803\n",
      "Group Var       0.489    0.235                           \n",
      "=========================================================\n",
      "\n"
     ]
    }
   ],
   "source": [
    "md_seq = smf.mixedlm(\"scaled_seq ~ C(method)\", mm_nav_data, groups=mm_nav_data[\"id\"])\n",
    "mdf_seq = md_seq.fit()\n",
    "print(mdf_seq.summary())"
   ]
  },
  {
   "cell_type": "code",
   "execution_count": null,
   "metadata": {},
   "outputs": [
    {
     "name": "stdout",
     "output_type": "stream",
     "text": [
      "         Mixed Linear Model Regression Results\n",
      "========================================================\n",
      "Model:            MixedLM Dependent Variable: scaled_seq\n",
      "No. Observations: 230     Method:             REML      \n",
      "No. Groups:       29      Scale:              0.5573    \n",
      "Min. group size:  7       Log-Likelihood:     -291.4751 \n",
      "Max. group size:  8       Converged:          Yes       \n",
      "Mean group size:  7.9                                   \n",
      "--------------------------------------------------------\n",
      "              Coef.  Std.Err.   z    P>|z| [0.025 0.975]\n",
      "--------------------------------------------------------\n",
      "Intercept     -0.027    0.162 -0.164 0.870 -0.343  0.290\n",
      "C(model)[T.1]  0.064    0.139  0.459 0.646 -0.209  0.337\n",
      "C(model)[T.2]  0.083    0.139  0.598 0.550 -0.190  0.356\n",
      "C(model)[T.3] -0.020    0.139 -0.142 0.887 -0.291  0.252\n",
      "Group Var      0.478    0.211                           \n",
      "========================================================\n",
      "\n"
     ]
    }
   ],
   "source": [
    "md_seq = smf.mixedlm(\"scaled_seq ~C(model)\", mm_nav_data, groups=mm_nav_data[\"id\"])\n",
    "mdf_seq = md_seq.fit()\n",
    "print(mdf_seq.summary())"
   ]
  },
  {
   "cell_type": "code",
   "execution_count": null,
   "metadata": {},
   "outputs": [
    {
     "name": "stdout",
     "output_type": "stream",
     "text": [
      "             Mixed Linear Model Regression Results\n",
      "===============================================================\n",
      "Model:            MixedLM Dependent Variable: scaled_discomfort\n",
      "No. Observations: 230     Method:             REML             \n",
      "No. Groups:       29      Scale:              0.1219           \n",
      "Min. group size:  7       Log-Likelihood:     -145.5579        \n",
      "Max. group size:  8       Converged:          Yes              \n",
      "Mean group size:  7.9                                          \n",
      "----------------------------------------------------------------\n",
      "                 Coef.   Std.Err.    z     P>|z|  [0.025  0.975]\n",
      "----------------------------------------------------------------\n",
      "Intercept        -0.066     0.179  -0.368  0.713  -0.417   0.285\n",
      "C(method)[T.1]    0.124     0.046   2.695  0.007   0.034   0.214\n",
      "Group Var         0.901     0.749                               \n",
      "===============================================================\n",
      "\n"
     ]
    }
   ],
   "source": [
    "md_fms = smf.mixedlm(\"scaled_discomfort ~C(method)\", mm_nav_data, groups=mm_nav_data[\"id\"])\n",
    "mdf_fms = md_fms.fit()\n",
    "print(mdf_fms.summary())"
   ]
  },
  {
   "cell_type": "code",
   "execution_count": null,
   "metadata": {},
   "outputs": [
    {
     "name": "stdout",
     "output_type": "stream",
     "text": [
      "             Mixed Linear Model Regression Results\n",
      "===============================================================\n",
      "Model:            MixedLM Dependent Variable: scaled_discomfort\n",
      "No. Observations: 230     Method:             REML             \n",
      "No. Groups:       29      Scale:              0.1250           \n",
      "Min. group size:  7       Log-Likelihood:     -150.6289        \n",
      "Max. group size:  8       Converged:          Yes              \n",
      "Mean group size:  7.9                                          \n",
      "----------------------------------------------------------------\n",
      "                 Coef.   Std.Err.    z     P>|z|  [0.025  0.975]\n",
      "----------------------------------------------------------------\n",
      "Intercept        -0.030     0.182  -0.167  0.867  -0.387   0.327\n",
      "C(model)[T.1]     0.054     0.066   0.822  0.411  -0.075   0.184\n",
      "C(model)[T.2]     0.090     0.066   1.361  0.173  -0.039   0.219\n",
      "C(model)[T.3]    -0.034     0.066  -0.519  0.604  -0.163   0.095\n",
      "Group Var         0.900     0.739                               \n",
      "===============================================================\n",
      "\n"
     ]
    }
   ],
   "source": [
    "md_fms = smf.mixedlm(\"scaled_discomfort ~C(model)\", mm_nav_data, groups=mm_nav_data[\"id\"])\n",
    "mdf_fms = md_fms.fit()\n",
    "print(mdf_fms.summary())"
   ]
  },
  {
   "cell_type": "markdown",
   "metadata": {},
   "source": [
    "## Creation Linear Mixed Models"
   ]
  },
  {
   "cell_type": "code",
   "execution_count": null,
   "metadata": {},
   "outputs": [
    {
     "data": {
      "text/html": [
       "<div>\n",
       "<style scoped>\n",
       "    .dataframe tbody tr th:only-of-type {\n",
       "        vertical-align: middle;\n",
       "    }\n",
       "\n",
       "    .dataframe tbody tr th {\n",
       "        vertical-align: top;\n",
       "    }\n",
       "\n",
       "    .dataframe thead th {\n",
       "        text-align: right;\n",
       "    }\n",
       "</style>\n",
       "<table border=\"1\" class=\"dataframe\">\n",
       "  <thead>\n",
       "    <tr style=\"text-align: right;\">\n",
       "      <th></th>\n",
       "      <th>block</th>\n",
       "      <th>model</th>\n",
       "      <th>method</th>\n",
       "      <th>trial_id</th>\n",
       "      <th>luminance</th>\n",
       "      <th>pupilDiameter</th>\n",
       "      <th>pupil_lum_base</th>\n",
       "      <th>adj_pupil</th>\n",
       "      <th>total_time</th>\n",
       "      <th>target_id</th>\n",
       "      <th>...</th>\n",
       "      <th>Move</th>\n",
       "      <th>Draw</th>\n",
       "      <th>Erase</th>\n",
       "      <th>PointDeleted</th>\n",
       "      <th>scaled_tepr</th>\n",
       "      <th>scaled_ipa</th>\n",
       "      <th>scaled_time</th>\n",
       "      <th>scaled_seq</th>\n",
       "      <th>total_interactions</th>\n",
       "      <th>scaled_interactions</th>\n",
       "    </tr>\n",
       "  </thead>\n",
       "  <tbody>\n",
       "    <tr>\n",
       "      <th>count</th>\n",
       "      <td>232.00000</td>\n",
       "      <td>232.00000</td>\n",
       "      <td>232.00000</td>\n",
       "      <td>232.00000</td>\n",
       "      <td>232.00000</td>\n",
       "      <td>232.00000</td>\n",
       "      <td>232.00000</td>\n",
       "      <td>232.00000</td>\n",
       "      <td>232.00000</td>\n",
       "      <td>232.00000</td>\n",
       "      <td>...</td>\n",
       "      <td>232.00000</td>\n",
       "      <td>232.00000</td>\n",
       "      <td>232.00000</td>\n",
       "      <td>232.00000</td>\n",
       "      <td>232.00000</td>\n",
       "      <td>232.00000</td>\n",
       "      <td>232.00000</td>\n",
       "      <td>232.00000</td>\n",
       "      <td>232.00000</td>\n",
       "      <td>232.00000</td>\n",
       "    </tr>\n",
       "    <tr>\n",
       "      <th>mean</th>\n",
       "      <td>1.34483</td>\n",
       "      <td>1.50000</td>\n",
       "      <td>2.50000</td>\n",
       "      <td>1.50000</td>\n",
       "      <td>0.24261</td>\n",
       "      <td>3.71689</td>\n",
       "      <td>3.18699</td>\n",
       "      <td>0.52989</td>\n",
       "      <td>56.34086</td>\n",
       "      <td>1.50000</td>\n",
       "      <td>...</td>\n",
       "      <td>3.57759</td>\n",
       "      <td>2.57759</td>\n",
       "      <td>0.61638</td>\n",
       "      <td>0.26724</td>\n",
       "      <td>-0.00000</td>\n",
       "      <td>-0.00000</td>\n",
       "      <td>-0.00000</td>\n",
       "      <td>0.00000</td>\n",
       "      <td>11.79741</td>\n",
       "      <td>0.00000</td>\n",
       "    </tr>\n",
       "    <tr>\n",
       "      <th>std</th>\n",
       "      <td>1.12510</td>\n",
       "      <td>1.12045</td>\n",
       "      <td>0.50108</td>\n",
       "      <td>1.12045</td>\n",
       "      <td>0.03531</td>\n",
       "      <td>0.60435</td>\n",
       "      <td>0.51005</td>\n",
       "      <td>0.33050</td>\n",
       "      <td>35.36473</td>\n",
       "      <td>0.50108</td>\n",
       "      <td>...</td>\n",
       "      <td>7.77013</td>\n",
       "      <td>6.60860</td>\n",
       "      <td>2.44140</td>\n",
       "      <td>0.88134</td>\n",
       "      <td>1.00216</td>\n",
       "      <td>1.00216</td>\n",
       "      <td>1.00216</td>\n",
       "      <td>1.00216</td>\n",
       "      <td>12.67193</td>\n",
       "      <td>1.00216</td>\n",
       "    </tr>\n",
       "    <tr>\n",
       "      <th>min</th>\n",
       "      <td>0.00000</td>\n",
       "      <td>0.00000</td>\n",
       "      <td>2.00000</td>\n",
       "      <td>0.00000</td>\n",
       "      <td>0.16455</td>\n",
       "      <td>2.41991</td>\n",
       "      <td>2.16256</td>\n",
       "      <td>-0.14157</td>\n",
       "      <td>11.26140</td>\n",
       "      <td>1.00000</td>\n",
       "      <td>...</td>\n",
       "      <td>0.00000</td>\n",
       "      <td>0.00000</td>\n",
       "      <td>0.00000</td>\n",
       "      <td>0.00000</td>\n",
       "      <td>-2.03602</td>\n",
       "      <td>-2.07658</td>\n",
       "      <td>-1.27746</td>\n",
       "      <td>-0.83788</td>\n",
       "      <td>1.00000</td>\n",
       "      <td>-0.85392</td>\n",
       "    </tr>\n",
       "    <tr>\n",
       "      <th>25%</th>\n",
       "      <td>0.00000</td>\n",
       "      <td>0.75000</td>\n",
       "      <td>2.00000</td>\n",
       "      <td>0.75000</td>\n",
       "      <td>0.21317</td>\n",
       "      <td>3.22446</td>\n",
       "      <td>2.90728</td>\n",
       "      <td>0.26306</td>\n",
       "      <td>32.95855</td>\n",
       "      <td>1.00000</td>\n",
       "      <td>...</td>\n",
       "      <td>0.00000</td>\n",
       "      <td>0.00000</td>\n",
       "      <td>0.00000</td>\n",
       "      <td>0.00000</td>\n",
       "      <td>-0.80910</td>\n",
       "      <td>-0.62955</td>\n",
       "      <td>-0.66261</td>\n",
       "      <td>-0.83788</td>\n",
       "      <td>2.00000</td>\n",
       "      <td>-0.77483</td>\n",
       "    </tr>\n",
       "    <tr>\n",
       "      <th>50%</th>\n",
       "      <td>1.00000</td>\n",
       "      <td>1.50000</td>\n",
       "      <td>2.50000</td>\n",
       "      <td>1.50000</td>\n",
       "      <td>0.24110</td>\n",
       "      <td>3.71803</td>\n",
       "      <td>3.11354</td>\n",
       "      <td>0.50407</td>\n",
       "      <td>44.35440</td>\n",
       "      <td>1.50000</td>\n",
       "      <td>...</td>\n",
       "      <td>0.00000</td>\n",
       "      <td>0.50000</td>\n",
       "      <td>0.00000</td>\n",
       "      <td>0.00000</td>\n",
       "      <td>-0.07830</td>\n",
       "      <td>-0.06253</td>\n",
       "      <td>-0.33967</td>\n",
       "      <td>0.13406</td>\n",
       "      <td>8.00000</td>\n",
       "      <td>-0.30032</td>\n",
       "    </tr>\n",
       "    <tr>\n",
       "      <th>75%</th>\n",
       "      <td>2.00000</td>\n",
       "      <td>2.25000</td>\n",
       "      <td>3.00000</td>\n",
       "      <td>2.25000</td>\n",
       "      <td>0.27048</td>\n",
       "      <td>4.21177</td>\n",
       "      <td>3.51258</td>\n",
       "      <td>0.73177</td>\n",
       "      <td>69.87950</td>\n",
       "      <td>2.00000</td>\n",
       "      <td>...</td>\n",
       "      <td>2.00000</td>\n",
       "      <td>2.00000</td>\n",
       "      <td>0.00000</td>\n",
       "      <td>0.00000</td>\n",
       "      <td>0.61215</td>\n",
       "      <td>0.63215</td>\n",
       "      <td>0.38366</td>\n",
       "      <td>1.10601</td>\n",
       "      <td>15.00000</td>\n",
       "      <td>0.25328</td>\n",
       "    </tr>\n",
       "    <tr>\n",
       "      <th>max</th>\n",
       "      <td>3.00000</td>\n",
       "      <td>3.00000</td>\n",
       "      <td>3.00000</td>\n",
       "      <td>3.00000</td>\n",
       "      <td>0.32524</td>\n",
       "      <td>5.37301</td>\n",
       "      <td>4.24859</td>\n",
       "      <td>1.71331</td>\n",
       "      <td>217.87100</td>\n",
       "      <td>2.00000</td>\n",
       "      <td>...</td>\n",
       "      <td>38.00000</td>\n",
       "      <td>61.00000</td>\n",
       "      <td>19.00000</td>\n",
       "      <td>6.00000</td>\n",
       "      <td>3.58839</td>\n",
       "      <td>3.49412</td>\n",
       "      <td>4.57743</td>\n",
       "      <td>3.04990</td>\n",
       "      <td>79.00000</td>\n",
       "      <td>5.31473</td>\n",
       "    </tr>\n",
       "  </tbody>\n",
       "</table>\n",
       "<p>8 rows × 23 columns</p>\n",
       "</div>"
      ],
      "text/plain": [
       "          block     model    method  trial_id  luminance  pupilDiameter  \\\n",
       "count 232.00000 232.00000 232.00000 232.00000  232.00000      232.00000   \n",
       "mean    1.34483   1.50000   2.50000   1.50000    0.24261        3.71689   \n",
       "std     1.12510   1.12045   0.50108   1.12045    0.03531        0.60435   \n",
       "min     0.00000   0.00000   2.00000   0.00000    0.16455        2.41991   \n",
       "25%     0.00000   0.75000   2.00000   0.75000    0.21317        3.22446   \n",
       "50%     1.00000   1.50000   2.50000   1.50000    0.24110        3.71803   \n",
       "75%     2.00000   2.25000   3.00000   2.25000    0.27048        4.21177   \n",
       "max     3.00000   3.00000   3.00000   3.00000    0.32524        5.37301   \n",
       "\n",
       "       pupil_lum_base  adj_pupil  total_time  target_id  ...      Move  \\\n",
       "count       232.00000  232.00000   232.00000  232.00000  ... 232.00000   \n",
       "mean          3.18699    0.52989    56.34086    1.50000  ...   3.57759   \n",
       "std           0.51005    0.33050    35.36473    0.50108  ...   7.77013   \n",
       "min           2.16256   -0.14157    11.26140    1.00000  ...   0.00000   \n",
       "25%           2.90728    0.26306    32.95855    1.00000  ...   0.00000   \n",
       "50%           3.11354    0.50407    44.35440    1.50000  ...   0.00000   \n",
       "75%           3.51258    0.73177    69.87950    2.00000  ...   2.00000   \n",
       "max           4.24859    1.71331   217.87100    2.00000  ...  38.00000   \n",
       "\n",
       "           Draw     Erase  PointDeleted  scaled_tepr  scaled_ipa  scaled_time  \\\n",
       "count 232.00000 232.00000     232.00000    232.00000   232.00000    232.00000   \n",
       "mean    2.57759   0.61638       0.26724     -0.00000    -0.00000     -0.00000   \n",
       "std     6.60860   2.44140       0.88134      1.00216     1.00216      1.00216   \n",
       "min     0.00000   0.00000       0.00000     -2.03602    -2.07658     -1.27746   \n",
       "25%     0.00000   0.00000       0.00000     -0.80910    -0.62955     -0.66261   \n",
       "50%     0.50000   0.00000       0.00000     -0.07830    -0.06253     -0.33967   \n",
       "75%     2.00000   0.00000       0.00000      0.61215     0.63215      0.38366   \n",
       "max    61.00000  19.00000       6.00000      3.58839     3.49412      4.57743   \n",
       "\n",
       "       scaled_seq  total_interactions  scaled_interactions  \n",
       "count   232.00000           232.00000            232.00000  \n",
       "mean      0.00000            11.79741              0.00000  \n",
       "std       1.00216            12.67193              1.00216  \n",
       "min      -0.83788             1.00000             -0.85392  \n",
       "25%      -0.83788             2.00000             -0.77483  \n",
       "50%       0.13406             8.00000             -0.30032  \n",
       "75%       1.10601            15.00000              0.25328  \n",
       "max       3.04990            79.00000              5.31473  \n",
       "\n",
       "[8 rows x 23 columns]"
      ]
     },
     "execution_count": 41,
     "metadata": {},
     "output_type": "execute_result"
    }
   ],
   "source": [
    "mm_crt_data = user_data_crt\n",
    "mm_crt_data = mm_crt_data.reset_index(level=(0,1,2, 3))\n",
    "\n",
    "mm_crt_data['block'] = mm_crt_data['block'].astype(block_cats).cat.codes\n",
    "mm_crt_data['method'] = mm_crt_data['method'].astype(method_cats).cat.codes\n",
    "mm_crt_data['model'] = mm_crt_data['model'].astype(model_cats).cat.codes\n",
    "mm_crt_data['target_id'] = mm_crt_data['target_id'].astype(int)\n",
    "mm_crt_data['trial_id'] = mm_crt_data['trial_id'].astype(int)\n",
    "mm_crt_data['scaled_tepr'] = stats.zscore(mm_crt_data['adj_pupil']).astype('float64')\n",
    "mm_crt_data['scaled_ipa'] = stats.zscore(mm_crt_data['IPA']).astype('float64')\n",
    "mm_crt_data['scaled_time'] = stats.zscore(mm_crt_data['total_time']).astype('float64')\n",
    "mm_crt_data['scaled_seq'] = stats.zscore(mm_crt_data['seq']).astype('float64')\n",
    "mm_crt_data['total_interactions'] = mm_crt_data['Draw'] + mm_crt_data['Erase'] + mm_crt_data['PointPlaced'] + mm_crt_data['Move'] + mm_crt_data['PointDeleted']\n",
    "mm_crt_data['scaled_interactions']  = stats.zscore(mm_crt_data['total_interactions']).astype('float64')\n",
    "\n",
    "pd.options.display.float_format = '{:.5f}'.format\n",
    "mm_crt_data.describe()"
   ]
  }
 ],
 "metadata": {
  "kernelspec": {
   "display_name": ".venv",
   "language": "python",
   "name": "python3"
  },
  "language_info": {
   "codemirror_mode": {
    "name": "ipython",
    "version": 3
   },
   "file_extension": ".py",
   "mimetype": "text/x-python",
   "name": "python",
   "nbconvert_exporter": "python",
   "pygments_lexer": "ipython3",
   "version": "3.12.2"
  }
 },
 "nbformat": 4,
 "nbformat_minor": 2
}
