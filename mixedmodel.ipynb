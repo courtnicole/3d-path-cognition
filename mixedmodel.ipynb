{
 "cells": [
  {
   "cell_type": "markdown",
   "metadata": {},
   "source": [
    "## Imports"
   ]
  },
  {
   "cell_type": "code",
   "execution_count": 1,
   "metadata": {},
   "outputs": [],
   "source": [
    "import pyxdf \n",
    "import numpy as np\n",
    "import pandas as pd\n",
    "from pandas.api.types import CategoricalDtype\n",
    "from lmfit.models import Model\n",
    "from os import listdir, getcwd\n",
    "from os.path import isfile, join\n",
    "from scipy import stats\n",
    "import statsmodels.api as sm\n",
    "from statsmodels.stats.outliers_influence import variance_inflation_factor\n",
    "from statsmodels.stats.anova import anova_lm\n",
    "from statsmodels.stats.anova import AnovaRM\n",
    "import statsmodels.formula.api as smf\n",
    "import pywt\n",
    "import math\n",
    "import matplotlib.pyplot as plt\n",
    "import statsmodels.graphics.factorplots as smgf"
   ]
  },
  {
   "cell_type": "markdown",
   "metadata": {},
   "source": [
    "## Pupillary Functions\n"
   ]
  },
  {
   "cell_type": "markdown",
   "metadata": {},
   "source": [
    "Task evoked pupillary response is calculated after correcting for luminance-induced pupil dilation: $𝑇𝐸𝑃𝑅 = 𝑑_m − 𝑑(𝑌)$, where $d_m$ is the measured pupil dilation, and $d(Y)$ is the predicted pupil dilation for the given luminance level. \n",
    "\n",
    "Predicted pupil dilation is calculated from a calibration sequence that produces and individual mapping model for each participant. The calibration sequence consists of 8 solid gray colors with varying luminance levels displayed in a psuedo-random order for 6 seconds each. The luminance levels span the range from 0.0 to 0.78, and for each calibration level, the first 0.5s of data is discarded to account for the initial pupillary response to the change in luminance, which can take a maximum of 0.5s. . The individual mapping model is calculated using a non-linear least squares regression to fit the equation $𝑑(𝑌) = 𝑎 · 𝑒^{−𝑏·𝑌} + c$ to the measured pupil dilation data for each participant. \n",
    "\n",
    "Pupil dilation data and the average luminance data were collected at 90 Hz, the display rate of the HMD.\n",
    "\n",
    "See: Eckert, M., Robotham, T., Habets, E. A. P., and Rummukainen, O. S. (2022). Pupillary Light Reflex Correction for Robust Pupillometry in Virtual Reality. Proc. ACM Comput. Graph. Interact. Tech. 5, 1–16. doi: 10.1145/3530798"
   ]
  },
  {
   "cell_type": "code",
   "execution_count": 2,
   "metadata": {},
   "outputs": [],
   "source": [
    "def pupil_func(x, a, b, c):\n",
    "    return a * np.exp(-b * x) + c"
   ]
  },
  {
   "cell_type": "code",
   "execution_count": 3,
   "metadata": {},
   "outputs": [],
   "source": [
    "def modmax(d):\n",
    "    # compute signal modulus\n",
    "    m = [0.0]*len(d)\n",
    "    for i in range(len(d)):\n",
    "        m[i] = math.fabs(d[i])\n",
    "    # if value is larger than both neighbours , and strictly larger than either , then it is a local maximum\n",
    "    t = [0.0]*len(d)\n",
    "    for i in range(len(d)):\n",
    "        ll = m[i -1] if i >= 1 else m[i]\n",
    "        oo = m[i]\n",
    "        rr = m[i+1] if i < len(d)-2 else m[i]\n",
    "        if (ll <= oo and oo >= rr) and (ll < oo or oo > rr):\n",
    "        # compute magnitude\n",
    "            t[i] = math.sqrt(d[i]**2)\n",
    "        else:\n",
    "            t[i] = 0.0\n",
    "    return t"
   ]
  },
  {
   "cell_type": "code",
   "execution_count": 4,
   "metadata": {},
   "outputs": [],
   "source": [
    "def ipa_func(d):\n",
    "    # obtain 2-level DWT of pupil diameter signal d\n",
    "    try:\n",
    "        (cA2 ,cD2 ,cD1) = pywt.wavedec(d,'sym16', 'per', level=2)\n",
    "    except ValueError :\n",
    "        return\n",
    "    # get signal duration (in seconds)\n",
    "    tt = d.index[-1] - d.index[0]\n",
    "    # normalize by 1/2 j , j = 2 for 2-level DWT\n",
    "    cA2 [:] = [x / math.sqrt (4.0) for x in cA2]\n",
    "    cD1 [:] = [x / math.sqrt (2.0) for x in cD1]\n",
    "    cD2 [:] = [x / math.sqrt (4.0) for x in cD2]\n",
    "\n",
    "    # detect modulus maxima , see Listing 2\n",
    "    cD2m = modmax(cD2)\n",
    "\n",
    "    # threshold using universal threshold λuniv = σˆp(2logn)\n",
    "    # where σˆ is the standard deviation of the noise\n",
    "    λuniv = np.std(cD2m) * math.sqrt (2.0* np.log2(len(cD2m )))\n",
    "    cD2t = pywt.threshold(cD2m ,λuniv,mode=\"hard\")\n",
    "    \n",
    "    # compute IPA\n",
    "    ctr = 0\n",
    "    for i in range(len(cD2t )):\n",
    "        if math.fabs(cD2t[i]) > 0: ctr += 1\n",
    "    IPA = float(ctr)/tt.total_seconds()\n",
    "\n",
    "    return IPA"
   ]
  },
  {
   "cell_type": "markdown",
   "metadata": {},
   "source": [
    "## Statistical Functions"
   ]
  },
  {
   "cell_type": "code",
   "execution_count": 5,
   "metadata": {},
   "outputs": [],
   "source": [
    "def iqr_outlier_indices(data):\n",
    "    q1 = data.quantile(.25)\n",
    "    q3 = data.quantile(.75)\n",
    "    iqr = stats.iqr(data, nan_policy='omit', rng=(25, 75))\n",
    "    return np.where((data < (q1 - 1.5 * iqr)) | (data > (q3 + 1.5 * iqr)))"
   ]
  },
  {
   "cell_type": "code",
   "execution_count": 6,
   "metadata": {},
   "outputs": [],
   "source": [
    "def iqr_stats(data):\n",
    "    q1 = np.percentile(data, 25)\n",
    "    q3 = np.percentile(data, 75)\n",
    "    iqr = stats.iqr(data, nan_policy='omit', rng=(25, 75))\n",
    "    return iqr, q1, q3"
   ]
  },
  {
   "cell_type": "code",
   "execution_count": 7,
   "metadata": {},
   "outputs": [],
   "source": [
    "def get_results_colors(np, wp, tp):\n",
    "    pastels = px.colors.qualitative.Pastel2\n",
    "    default_color = 'white'\n",
    "    significant_color = pastels[0]\n",
    "    non_significant_color = pastels[3]\n",
    "\n",
    "    normal_color = non_significant_color if np < 0.05 else significant_color\n",
    "    wilcox_color = default_color\n",
    "    ttest_color = default_color\n",
    "    if np < 0.05:\n",
    "        wilcox_color = significant_color if wp < 0.05 else non_significant_color\n",
    "    else:\n",
    "        ttest_color = significant_color if tp < 0.05 else non_significant_color\n",
    "\n",
    "    fill_color = [[default_color, default_color, default_color],\n",
    "                  [default_color, wilcox_color, ttest_color] , \n",
    "                  [normal_color, wilcox_color, ttest_color]]\n",
    "    \n",
    "    return fill_color"
   ]
  },
  {
   "cell_type": "markdown",
   "metadata": {},
   "source": [
    "## Data Processing Functions"
   ]
  },
  {
   "cell_type": "code",
   "execution_count": 8,
   "metadata": {},
   "outputs": [],
   "source": [
    "def import_data(file):\n",
    "    streams, header = pyxdf.load_xdf(file)\n",
    "    dfs = {}\n",
    "    for stream in streams:\n",
    "        stream_name = stream['info']['name'][0]\n",
    "        stream_channels = {channel['label'][0]: i for i, channel in enumerate(stream['info']['desc'][0]['channels'][0]['channel'])}\n",
    "        stream_data = stream['time_series']\n",
    "        data_dict = {key: np.array(stream_data)[:, index] for key, index in stream_channels.items()}\n",
    "        data_dict['time'] = np.round(np.array(stream['time_stamps']), decimals=4)\n",
    "        dfs[stream_name] = pd.DataFrame(data_dict).drop_duplicates(subset=['time']).reset_index(drop=True)\n",
    "    return dfs"
   ]
  },
  {
   "cell_type": "code",
   "execution_count": 9,
   "metadata": {},
   "outputs": [],
   "source": [
    "accom_time = pd.to_timedelta(0.5, unit='s')"
   ]
  },
  {
   "cell_type": "code",
   "execution_count": 10,
   "metadata": {},
   "outputs": [],
   "source": [
    "method_cats = CategoricalDtype(['4DoF','6DoF', 'unimanual','bimanual'], ordered=False)\n",
    "model_cats = CategoricalDtype(['A', 'B', 'C', 'D'], ordered=True)\n",
    "block_cats = CategoricalDtype(['0', '1', '2', '3'], ordered=True)\n",
    "event_cats = CategoricalDtype(['Start', 'PointPlaced', 'Move', 'End', 'Draw', 'Erase', 'PointDeleted'], ordered=False)\n",
    "target_cats = CategoricalDtype(['1','2'], ordered=False)\n",
    "trial_cats = CategoricalDtype(['0','1','2','3'], ordered=True)\n",
    "task_trial_cats = CategoricalDtype(['0','1','2','3', '4', '5', '6', '7'], ordered=True)\n",
    "data_names = ['id', 'block', 'model', 'method']"
   ]
  },
  {
   "cell_type": "code",
   "execution_count": 11,
   "metadata": {},
   "outputs": [],
   "source": [
    "\n",
    "mA = [0,1,3,2]\n",
    "mB = [1,2,0,3]\n",
    "mC = [2,3,1,0]\n",
    "mD = [3,0,2,1]\n",
    "\n",
    "# Task (method) presentation order\n",
    "# Creation task (method 0 or 1) is always first \n",
    "tA = [0,1,2,3]\n",
    "tB = [0,1,3,2]\n",
    "tC = [1,0,2,3]\n",
    "tD = [1,0,3,2]\n",
    "\n",
    "model_blocks = [\n",
    "    [mA,mB,mC,mD],\n",
    "    [mB,mC,mD,mA],\n",
    "    [mC,mD,mA,mB],\n",
    "    [mD,mA,mB,mC]\n",
    "]\n",
    "\n",
    "method_blocks = [\n",
    "    tA, tB, tC, tD\n",
    "]"
   ]
  },
  {
   "cell_type": "code",
   "execution_count": 12,
   "metadata": {},
   "outputs": [],
   "source": [
    "def process_gaze_luminance_data(stream_df):\n",
    "    pupil = stream_df['GazeStream'].loc[(stream_df['GazeStream']['LeftEyeIsBlinking'] == 0) \n",
    "                                        & (stream_df['GazeStream']['RightEyeIsBlinking'] == 0) \n",
    "                                        & (stream_df['GazeStream']['LeftPupilDiameter'] > 0) \n",
    "                                        & (stream_df['GazeStream']['RightPupilDiameter'] > 0), \n",
    "                                        ['time', 'trial_id', 'task_trial_id', 'MethodID', 'ModelID', 'LeftPupilDiameter', 'RightPupilDiameter']]\n",
    "    pupil['time'] = pd.to_timedelta(pupil['time'], unit='s')\n",
    "\n",
    "    lum = stream_df['LuminanceStream'].loc[:, ['time', 'MethodID', 'ModelID', 'Luminance']]\n",
    "    lum['time'] = pd.to_timedelta(lum['time'], unit='s')\n",
    "\n",
    "    # Intersection of time stamps\n",
    "    pupil_lum_time_intersection = np.intersect1d(pupil['time'], lum['time'])\n",
    "\n",
    "    # Filter pupil and luminance data by intersection\n",
    "    pupil = pupil[pupil['time'].isin(pupil_lum_time_intersection)].reset_index(drop=True)\n",
    "    lum = lum[lum['time'].isin(pupil_lum_time_intersection)].reset_index(drop=True)\n",
    "\n",
    "    # Combined DataFrame for pupil and luminance\n",
    "    pupil_lum = pd.DataFrame({\n",
    "        'time': pd.to_timedelta(pupil_lum_time_intersection, unit='s'),\n",
    "        'luminance': lum['Luminance'],\n",
    "        'pupilDiameter': 0.5 * (pupil['LeftPupilDiameter'] + pupil['RightPupilDiameter']),\n",
    "        'methodID': pupil['MethodID'],\n",
    "        'modelID': pupil['ModelID'],\n",
    "        'trial_id': pupil['trial_id'],\n",
    "        'task_trial_id': pupil['task_trial_id']\n",
    "    })\n",
    "\n",
    "    outliers = iqr_outlier_indices(pupil_lum['pupilDiameter'])\n",
    "    pupil_lum = pupil_lum.drop(pupil_lum.iloc[outliers].index).reset_index(drop=True)\n",
    "\n",
    "    return pupil_lum"
   ]
  },
  {
   "cell_type": "code",
   "execution_count": 13,
   "metadata": {},
   "outputs": [],
   "source": [
    "def process_calibration_data(pupil_lum_df, stream_df):\n",
    "    calibration_events = stream_df['ExperimentStream'].loc[(stream_df['ExperimentStream']['EventType'] == 'CalibrationColorChange') | \n",
    "                                                           (stream_df['ExperimentStream']['SceneEvent'] == 'Calibration') | \n",
    "                                                           (stream_df['ExperimentStream']['SceneEvent'] == 'CalibrationComplete'), \n",
    "                                                           ['time','SceneEvent', 'EventType']]\n",
    "    calibration_events['time'] = pd.to_timedelta(calibration_events['time'], unit='s')\n",
    "    c_start_times = calibration_events[:8]['time']\n",
    "    c_end_times = calibration_events[1:]['time']\n",
    "    c_start_times.reset_index(drop=True, inplace=True)\n",
    "    c_end_times.reset_index(drop=True, inplace=True)\n",
    "\n",
    "    calib_data = {}\n",
    "    for i in range(8):\n",
    "        calib_data[i] = pupil_lum_df.loc[(pupil_lum_df['time'] >= c_start_times[i]) & (pupil_lum_df['time'] <= c_end_times[i]), ['time','luminance', 'pupilDiameter']]\n",
    "        calib_data[i]['time'] -= calib_data[i]['time'].iloc[0]\n",
    "        calib_data[i] = calib_data[i].loc[(calib_data[i]['time'] >= accom_time), ['luminance', 'pupilDiameter']]\n",
    "\n",
    "    calibration_data = pd.concat(calib_data).groupby(level=0).mean().sort_values(by=['luminance']).reset_index(drop=True)\n",
    "    return calibration_data"
   ]
  },
  {
   "cell_type": "code",
   "execution_count": 14,
   "metadata": {},
   "outputs": [],
   "source": [
    "def process_navigation_data(pupil_lum_df, stream_df, a, b, c):\n",
    "    grouped_data = stream_df['NavigationStream'].groupby(['ModelID', 'MethodID'])\n",
    "\n",
    "    stream_df['SurveyStream']['ModelID'] = stream_df['SurveyStream']['ModelID'].astype(float)\n",
    "    stream_df['SurveyStream']['MethodID'] = stream_df['SurveyStream']['MethodID'].astype(float)\n",
    "    \n",
    "    discomfort_survey = stream_df['SurveyStream'].loc[\n",
    "        (stream_df['SurveyStream']['SurveyType'] == 'Discomfort') & \n",
    "        (stream_df['SurveyStream']['ModelID'] < 4), \n",
    "        ['time', 'ModelID', 'MethodID']]\n",
    "    survey_group = discomfort_survey.groupby(['ModelID', 'MethodID'])\n",
    "\n",
    "    start_times = []\n",
    "    end_times = []\n",
    "    total_time = []\n",
    "\n",
    "    for i in range(4):\n",
    "        for j in range(2,4):\n",
    "            trial = grouped_data.get_group((i, j))\n",
    "\n",
    "            start = trial.loc[(trial['spline_percent'] > 0.001)].index[0]\n",
    "            start_time = pd.to_timedelta(stream_df['NavigationStream'].loc[start, 'time'], unit='s')\n",
    "\n",
    "            end = trial.loc[(trial['spline_percent'] > 0.995)]\n",
    "            end_time = 0\n",
    "            # For 6DoF navigation, completion was determined by collision with bounding box\n",
    "            # Spline percentage was based on projection, so it may not reach > 0.995.\n",
    "            # In this case, the survey time serves as the end time (rather than lowering the threshold)\n",
    "            if len(end) > 0:\n",
    "                end = end.index[0]\n",
    "                end_time = pd.to_timedelta(stream_df['NavigationStream'].loc[end, 'time'], unit='s')\n",
    "            else:\n",
    "                end = survey_group.get_group((i, j)).index[0]\n",
    "                end_time = pd.to_timedelta(stream_df['SurveyStream'].loc[end, 'time'], unit='s') - pd.offsets.Second(3)\n",
    "            \n",
    "            start_times.append(start_time)\n",
    "            end_times.append(end_time)\n",
    "            total_time.append((end_time - start_time).total_seconds())\n",
    "\n",
    "\n",
    "    nav_start_times = start_times\n",
    "    nav_end_times = end_times\n",
    "\n",
    "    nav_data = {}\n",
    "    for i in range(8):\n",
    "        nav_data[i] = pupil_lum_df.loc[\n",
    "            (pupil_lum_df['luminance'] >0) & \n",
    "            (pupil_lum_df['time']>nav_start_times[i]) & \n",
    "            (pupil_lum_df['time']<nav_end_times[i]), \n",
    "            ['time', 'trial_id', 'task_trial_id', 'methodID', 'modelID', 'luminance', 'pupilDiameter']]\n",
    "        nav_data[i].reset_index(drop=True, inplace=True)\n",
    "\n",
    "    navigation_data = pd.concat(nav_data, names=['trial'])\n",
    "    navigation_data['pupil_lum_base'] = pupil_func(navigation_data['luminance'], a, b, c)\n",
    "    navigation_data['adj_pupil'] = navigation_data['pupilDiameter'] - navigation_data['pupil_lum_base']\n",
    "\n",
    "    return navigation_data, total_time"
   ]
  },
  {
   "cell_type": "code",
   "execution_count": 15,
   "metadata": {},
   "outputs": [],
   "source": [
    "def clean_stream(stream_df, block, range_frame):\n",
    "    df = pd.DataFrame()\n",
    "\n",
    "    for col in stream_df.columns:\n",
    "        df[col] = stream_df[col]\n",
    "    \n",
    "    stream_df['ModelID'] = stream_df['ModelID'].mask(stream_df['ModelID'] == 'generic', '99')\n",
    "    stream_df['MethodID'] = stream_df['MethodID'].mask(stream_df['MethodID'] == 'generic', '99')\n",
    "    df['ModelID'] = stream_df['ModelID'].astype(int)\n",
    "    df['trial_id'] = stream_df['ModelID'].astype(int)\n",
    "    df['MethodID'] = stream_df['MethodID'].astype(int)\n",
    "    df['task_trial_id'] = df['trial_id']\n",
    "    df['task_trial_id'] = df['task_trial_id'].mask(df['task_trial_id'] == 4, 99)\n",
    "\n",
    "    for j in range_frame:\n",
    "        m = 0 if j == range_frame[0] else 4\n",
    "        for i in range(4):\n",
    "            method = method_blocks[block][j]\n",
    "            current_trial_id = df.loc[(df['trial_id']==i) & (df['MethodID']==method), 'trial_id']\n",
    "            df['ModelID'] = df['ModelID'].mask((df['trial_id']==i) & (df['MethodID']==method), model_blocks[block][j][i])\n",
    "            df.loc[(df['trial_id']==i) & (df['MethodID']==method), 'task_trial_id'] = m + current_trial_id\n",
    "    \n",
    "    return df"
   ]
  },
  {
   "cell_type": "code",
   "execution_count": 16,
   "metadata": {},
   "outputs": [],
   "source": [
    "def process_creation_data(pupil_lum_df, stream_df, a, b, c):\n",
    "    \n",
    "    crt_start_times = stream_df['CreationStream'].loc[(stream_df['CreationStream']['EventName'] == 'StartPointRegistered'), ['time', 'ModelID', 'MethodID']]\n",
    "    crt_start_times = pd.to_timedelta(crt_start_times.groupby(['ModelID', 'MethodID']).first()['time'], unit='s') + pd.offsets.Second(2)\n",
    "    crt_start_times.reset_index(drop=True, inplace=True)\n",
    "\n",
    "    crt_end_times = stream_df['CreationStream'].loc[(stream_df['CreationStream']['EventName'] == 'FinishPath'), ['time', 'ModelID', 'MethodID']]\n",
    "    crt_end_times = pd.to_timedelta(crt_end_times.groupby(['ModelID', 'MethodID']).first()['time'], unit='s')\n",
    "    crt_end_times.reset_index(drop=True, inplace=True)\n",
    "    \n",
    "    total_time = crt_end_times - crt_start_times\n",
    "    total_time = total_time.apply(lambda x: x.total_seconds())\n",
    "\n",
    "    crt_data = {}\n",
    "    for i in range(8):\n",
    "        crt_data[i] = pupil_lum_df.loc[\n",
    "            (pupil_lum_df['time'] > crt_start_times.loc[i]) & \n",
    "            (pupil_lum_df['time'] < crt_end_times.loc[i]), \n",
    "            ['time', 'methodID',  'trial_id',  'task_trial_id', 'modelID', 'luminance', 'pupilDiameter']]\n",
    "        crt_data[i].reset_index(drop=True, inplace=True)\n",
    "\n",
    "    creation_data = pd.concat(crt_data, names=['trial'])\n",
    "    creation_data['pupil_lum_base'] = pupil_func(creation_data['luminance'], a, b, c)\n",
    "    creation_data['adj_pupil'] = creation_data['pupilDiameter'] - creation_data['pupil_lum_base']\n",
    "    \n",
    "    return creation_data, total_time"
   ]
  },
  {
   "cell_type": "code",
   "execution_count": 17,
   "metadata": {},
   "outputs": [],
   "source": [
    "def process_creation_stats(stream_df):\n",
    "\n",
    "    group = stream_df['CreationStream'].groupby(['ModelID', 'MethodID'])\n",
    "    creation_counts  = []\n",
    "\n",
    "    for i in range(4):\n",
    "            for j in range(0,2):\n",
    "                trial = group.get_group((i,j))\n",
    "                creation_counts.append(trial.groupby('EventType', observed=False).size().fillna(0))\n",
    "    \n",
    "    keys = [(i,j) for i in range(4) for j in range(0,2)]\n",
    "    creation_stats = pd.concat(creation_counts, axis=0, keys=keys, names=['ModelID', 'MethodID']).unstack(level=2)\n",
    "    creation_stats = creation_stats.drop(columns=['End', 'Start'])\n",
    "    return creation_stats"
   ]
  },
  {
   "cell_type": "code",
   "execution_count": 18,
   "metadata": {},
   "outputs": [],
   "source": [
    "def process_target_trial_data_crt(stream_df):\n",
    "    target_set = stream_df['ExperimentStream'].loc[\n",
    "        (stream_df['ExperimentStream']['EventType'] == 'TargetPointsSet') | \n",
    "        (stream_df['ExperimentStream']['EventType'] == 'SceneLoaded') & \n",
    "        (stream_df['ExperimentStream']['SceneEvent'] != 'Calibration') & \n",
    "        (stream_df['ExperimentStream']['MethodID'] != 2) & \n",
    "        (stream_df['ExperimentStream']['MethodID'] != 3), ['SceneEvent', 'EventType', 'ModelID', 'MethodID']]\n",
    "\n",
    "    generic_idx = np.where(target_set['ModelID'] == 99)[0]\n",
    "    idx = [x+1 for x in generic_idx]\n",
    "\n",
    "    for i in range(len(generic_idx)):\n",
    "        target_set.loc[target_set.index[generic_idx[i]], 'ModelID']  = target_set.loc[target_set.index[idx[i]], 'ModelID']\n",
    "        target_set.loc[target_set.index[generic_idx[i]], 'MethodID']  = target_set.loc[target_set.index[idx[i]], 'MethodID']\n",
    "\n",
    "    target_set = target_set.loc[(target_set['ModelID'] < 4) & (target_set['EventType'] == 'TargetPointsSet'), ['SceneEvent', 'ModelID', 'MethodID']]\n",
    "\n",
    "    target_set['SceneEvent'] = target_set.mask(target_set['SceneEvent'] == 'TargetsLoaded_Set1', target_cats.categories[0])['SceneEvent']\n",
    "    target_set['SceneEvent'] = target_set.mask(target_set['SceneEvent'] == 'TargetsLoaded_Set2', target_cats.categories[1])['SceneEvent']\n",
    "\n",
    "    target_set['targetID'] = target_set['SceneEvent']\n",
    "    target_set.drop(columns=['SceneEvent'], inplace=True)\n",
    "\n",
    "    return target_set\n"
   ]
  },
  {
   "cell_type": "code",
   "execution_count": 19,
   "metadata": {},
   "outputs": [],
   "source": [
    "def process_target_trial_data_nav(stream_df, target_set_group):\n",
    "    target_set = stream_df['NavigationStream'].loc[(stream_df['NavigationStream']['ModelID'] < 4), ['model_source', 'ModelID', 'MethodID']]\n",
    "\n",
    "    groups = target_set.groupby(['ModelID', 'MethodID'])\n",
    "\n",
    "    target_set['creation_method'] = '-1'\n",
    "    target_set['target_set_source'] = '-1'\n",
    "\n",
    "    target_trials = []\n",
    "\n",
    "    for i in range(4):\n",
    "        for j in range(2,4):\n",
    "            trial = groups.get_group((i, j))\n",
    "            model_source = trial['model_source'].iloc[0]\n",
    "            model_value16 = model_source - 16\n",
    "            method = '-1'\n",
    "            method_id = -1\n",
    "\n",
    "            if model_value16 > 9:\n",
    "                method = 'bimanual'\n",
    "                method_id = 1\n",
    "            else:\n",
    "                method = 'unimanual'\n",
    "                method_id = 0\n",
    "\n",
    "            trial.loc[:, 'creation_method'] = method\n",
    "\n",
    "            model_i = trial['ModelID'].iloc[0]\n",
    "            group = target_set_group.get_group((int(model_i),int(method_id)))\n",
    "\n",
    "            target = group['targetID'].iloc[0]\n",
    "            trial.loc[:, 'target_set_source'] = target\n",
    "            target_trials.append(trial.iloc[:1])\n",
    "\n",
    "    target_set = pd.concat(target_trials)\n",
    "\n",
    "    target_set['creation_method'] = target_set['creation_method'].astype('string').astype(method_cats)\n",
    "    target_set['target_set_source'] = target_set['target_set_source'].astype('string').astype(target_cats)\n",
    "    target_set.drop(columns=['model_source'], inplace=True)\n",
    "    target_set.reset_index(drop=True, inplace=True)\n",
    "\n",
    "    return target_set"
   ]
  },
  {
   "cell_type": "code",
   "execution_count": 20,
   "metadata": {},
   "outputs": [],
   "source": [
    "def process_discomfort_data(stream_df):\n",
    "    discomfort_values = stream_df['SurveyStream'].loc[stream_df['SurveyStream']['SurveyType'] == 'Discomfort', ['time', 'Value', 'ModelID', 'MethodID']]\n",
    "    discomfort_values['time'] = pd.to_timedelta(discomfort_values['time'], unit='s')\n",
    "    discomfort_values.reset_index(drop=True, inplace=True)\n",
    "    return discomfort_values"
   ]
  },
  {
   "cell_type": "code",
   "execution_count": 21,
   "metadata": {},
   "outputs": [],
   "source": [
    "def process_seq_data(stream_df):\n",
    "    seq_values = stream_df['SurveyStream'].loc[stream_df['SurveyStream']['SurveyType'] == 'SEQ', ['time', 'Value', 'ModelID', 'MethodID']]\n",
    "    seq_values['time'] = pd.to_timedelta(seq_values['time'], unit='s')\n",
    "    seq_values.reset_index(drop=True, inplace=True)\n",
    "    return seq_values"
   ]
  },
  {
   "cell_type": "code",
   "execution_count": 22,
   "metadata": {},
   "outputs": [],
   "source": [
    "def process_ipa_calc(data):\n",
    "    methods = []\n",
    "    models = []\n",
    "    ipa = []\n",
    "    for i in range(8):\n",
    "        methods.append(data.loc[i]['methodID'].iloc[i])\n",
    "        models.append(data.loc[i]['modelID'].iloc[i])\n",
    "        pupil = data.loc[i]['pupilDiameter']\n",
    "        pupil.index = data.loc[i]['time']\n",
    "        ipa.append(ipa_func(pupil))\n",
    "        \n",
    "    return pd.DataFrame({'methodID': methods, 'modelID': models, 'IPA': ipa})"
   ]
  },
  {
   "cell_type": "markdown",
   "metadata": {},
   "source": [
    "## Import Data"
   ]
  },
  {
   "cell_type": "code",
   "execution_count": 23,
   "metadata": {},
   "outputs": [],
   "source": [
    "data_dir = join(getcwd(),'Path_Data')\n",
    "data_files = [join(data_dir, f) for f in listdir(data_dir) if isfile(join(data_dir, f))]"
   ]
  },
  {
   "cell_type": "code",
   "execution_count": 24,
   "metadata": {},
   "outputs": [],
   "source": [
    "dfs = []\n",
    "for file in data_files:\n",
    "    df = import_data(file)\n",
    "    \n",
    "    # Remove final empty row from string data streams\n",
    "    df['SurveyStream'] = df['SurveyStream'].replace(r'^\\s*$', np.nan, regex=True).dropna()\n",
    "    df['CreationStream'] = df['CreationStream'].replace(r'^\\s*$', np.nan, regex=True).dropna()\n",
    "    df['ExperimentStream'] = df['ExperimentStream'].replace(r'^\\s*$', np.nan, regex=True).dropna()\n",
    "\n",
    "    df['SurveyStream']['ModelID'] = df['SurveyStream']['ModelID'].astype(float)\n",
    "    df['SurveyStream']['MethodID'] = df['SurveyStream']['MethodID'].astype(float)\n",
    "    df['SurveyStream']['Value'] = df['SurveyStream']['Value'].astype(float)\n",
    "\n",
    "    df['CreationStream']['ModelID'] = df['CreationStream']['ModelID'].astype(float)\n",
    "    df['CreationStream']['MethodID'] = df['CreationStream']['MethodID'].astype(float)\n",
    "    df['CreationStream']['EventType'] = df['CreationStream']['EventType'].astype(event_cats)\n",
    "\n",
    "    block = int(df['ExperimentStream']['BlockID'][0])\n",
    "    \n",
    "    df['GazeStream'] = clean_stream(df['GazeStream'], block, range(4))\n",
    "    df['LuminanceStream'] = clean_stream(df['LuminanceStream'], block, range(4))\n",
    "    df['NavigationStream'] = clean_stream(df['NavigationStream'], block, range(2,4))\n",
    "    df['CreationStream'] = clean_stream(df['CreationStream'], block, range(2))\n",
    "    df['PoseStream'] = clean_stream(df['PoseStream'], block, range(4))\n",
    "    df['SurveyStream'] = clean_stream(df['SurveyStream'], block, range(4))\n",
    "    df['TrackedPoseStream'] = clean_stream(df['TrackedPoseStream'], block, range(4))\n",
    "    df['ExperimentStream'] = clean_stream(df['ExperimentStream'], block, range(4))\n",
    "    dfs.append(df)"
   ]
  },
  {
   "cell_type": "markdown",
   "metadata": {},
   "source": [
    "## Process Data"
   ]
  },
  {
   "cell_type": "code",
   "execution_count": 25,
   "metadata": {},
   "outputs": [],
   "source": [
    "user_dfs_nav = []\n",
    "user_dfs_crt = []\n",
    "ids = []\n",
    "blocks = []\n",
    "\n",
    "for df in dfs:\n",
    "    id = df['ExperimentStream']['UserID'][0]\n",
    "    block = df['ExperimentStream']['BlockID'][0]\n",
    "    ids.append(id)\n",
    "    blocks.append(block)\n",
    "\n",
    "    pupil_lum_df = process_gaze_luminance_data(df)\n",
    "    calibration_data = process_calibration_data(pupil_lum_df, df)\n",
    "\n",
    "    # Fit pupil response to luminance\n",
    "    x_data = calibration_data['luminance']\n",
    "    y_data = calibration_data['pupilDiameter']\n",
    "    exp_mod = Model(pupil_func)\n",
    "    params = exp_mod.make_params(a=1, b=4, c=0)\n",
    "    result = exp_mod.fit(y_data, params, x=x_data)\n",
    "    a = result.params['a'].value\n",
    "    b = result.params['b'].value\n",
    "    c = result.params['c'].value\n",
    "\n",
    "    navigation_data, nav_time = process_navigation_data(pupil_lum_df, df, a, b, c)\n",
    "    ipa_calc_nav = process_ipa_calc(navigation_data)\n",
    "    creation_data, crt_time = process_creation_data(pupil_lum_df, df, a, b, c)\n",
    "    ipa_calc_crt = process_ipa_calc(creation_data)\n",
    "    creation_stats = process_creation_stats(df)\n",
    "    discomfort = process_discomfort_data(df)\n",
    "    seq = process_seq_data(df)\n",
    "\n",
    "    creation_target_trials = process_target_trial_data_crt(df)\n",
    "    crt_target_trials = creation_target_trials.groupby(['ModelID', 'MethodID'])\n",
    "    navigation_target_trials = process_target_trial_data_nav(df, crt_target_trials)\n",
    "    nav_target_trials = navigation_target_trials.groupby(['ModelID', 'MethodID'])\n",
    "\n",
    "    nav_trials = navigation_data.groupby(['modelID', 'methodID'])\n",
    "    ipa_nav_trials = ipa_calc_nav.groupby(['modelID', 'methodID'])\n",
    "    crt_trials = creation_data.groupby(['modelID', 'methodID'])\n",
    "    ipa_crt_trials = ipa_calc_crt.groupby(['modelID', 'methodID'])\n",
    "    discomfort_trials = discomfort.groupby(['ModelID', 'MethodID'])\n",
    "    seq_trials = seq.groupby(['ModelID', 'MethodID'])\n",
    "    \n",
    "    nav_data = {}\n",
    "    nav_total_time = {}\n",
    "    ipa_nav_data = {}\n",
    "    crt_data = {}\n",
    "    crt_total_time = {}\n",
    "    ipa_crt_data = {}\n",
    "    discomfort_data = {}\n",
    "    seq_crt = {}\n",
    "    seq_nav = {}\n",
    "    target_data_crt = {}\n",
    "    target_data_nav = {}\n",
    "    creation_data_nav = {}\n",
    "\n",
    "    for i in range(4):\n",
    "        for j in range(2,4):\n",
    "            nav_data[(id, block, i, j)] = nav_trials.get_group((i,j)).mean()\n",
    "            nav_total_time[(id, block, i, j)] = nav_time[(2*i + (j-2))]\n",
    "            ipa_nav_data[(id, block, i, j)] = ipa_nav_trials.get_group((i,j)).mean()\n",
    "            discomfort_data[(id, block, i, j)] = discomfort_trials.get_group((i,j)).mean()\n",
    "            seq_nav[(id, block, i, j)] = seq_trials.get_group((i,j)).mean()\n",
    "            target_data_nav[(id, block, i, j)] = nav_target_trials.get_group((i,j))['target_set_source'].iloc[0]\n",
    "            creation_data_nav[(id, block, i, j)] = nav_target_trials.get_group((i,j))['creation_method'].iloc[0]\n",
    "    \n",
    "    for i in range(4):\n",
    "        for j in range(0,2):\n",
    "            crt_data[(id, block, i, j)] = crt_trials.get_group((i,j)).mean()\n",
    "            crt_total_time[(id, block, i, j)] = crt_time[(2*i + j)]\n",
    "            ipa_crt_data[(id, block, i, j)] = ipa_crt_trials.get_group((i,j)).mean()\n",
    "            seq_crt[(id, block, i, j)] = seq_trials.get_group((i,j)).mean()\n",
    "            target_data_crt[(id, block, i, j)] = crt_target_trials.get_group((i,j))['targetID'].iloc[0]\n",
    "    \n",
    "    nav_index = pd.MultiIndex.from_product([[id], [block], model_cats.categories, method_cats.categories[0:2]], names=data_names)\n",
    "    crt_index = pd.MultiIndex.from_product([[id], [block], model_cats.categories, method_cats.categories[2:4]], names=data_names)\n",
    "\n",
    "    nav_data = pd.concat(nav_data, axis=1, names=data_names).T\n",
    "    nav_data['total_time'] = nav_total_time\n",
    "    nav_data['target_source'] = target_data_nav\n",
    "    nav_data['creation_method'] = creation_data_nav\n",
    "    nav_data.index = nav_index\n",
    "    nav_data.drop(columns=['time', 'modelID', 'methodID'], inplace=True)\n",
    "    \n",
    "    crt_data = pd.concat(crt_data, axis=1, names=data_names).T\n",
    "    crt_data['total_time'] = crt_total_time\n",
    "    crt_data['target_id'] = target_data_crt\n",
    "    crt_data.index = crt_index\n",
    "    crt_data.drop(columns=['time', 'modelID', 'methodID'], inplace=True)\n",
    "\n",
    "    creation_stats.index = crt_index\n",
    "\n",
    "    ipa_nav_data = pd.concat(ipa_nav_data, axis=1, names=data_names).T\n",
    "    ipa_nav_data.index = nav_index\n",
    "    ipa_nav_data.drop(columns=['modelID', 'methodID'], inplace=True)\n",
    "\n",
    "    ipa_crt_data = pd.concat(ipa_crt_data, axis=1, names=data_names).T\n",
    "    ipa_crt_data.index = crt_index\n",
    "    ipa_crt_data.drop(columns=['modelID', 'methodID'], inplace=True)\n",
    "\n",
    "    discomfort_data = pd.concat(discomfort_data, axis=1, names=data_names).T\n",
    "    discomfort_data.index = nav_index\n",
    "    discomfort_data['discomfort'] = discomfort_data['Value']\n",
    "    discomfort_data.drop(columns=['time', 'ModelID', 'MethodID', 'Value'], inplace=True)\n",
    "\n",
    "    seq_nav = pd.concat(seq_nav, axis=1, names=data_names).T\n",
    "    seq_nav.index = nav_index\n",
    "    seq_nav['seq'] = seq_nav['Value']\n",
    "    seq_nav.drop(columns=['time', 'ModelID', 'MethodID', 'Value'], inplace=True)\n",
    "\n",
    "    seq_crt = pd.concat(seq_crt, axis=1, names=data_names).T\n",
    "    seq_crt.index = crt_index\n",
    "    seq_crt['seq'] = seq_crt['Value']\n",
    "    seq_crt.drop(columns=['time', 'ModelID', 'MethodID', 'Value'], inplace=True)\n",
    "\n",
    "    df_crt = pd.concat([crt_data, ipa_crt_data, seq_crt, creation_stats], axis=0).stack().unstack()\n",
    "    df_crt.loc[(slice(None), slice(None), slice(None), slice(None)), ('Draw', 'Erase', 'PointPlaced', 'Move', 'PointDeleted')] = df_crt.loc[(slice(None), slice(None), slice(None), slice(None)), ('Draw', 'Erase', 'PointPlaced', 'Move', 'PointDeleted')].astype(int)\n",
    "    df_crt.loc[(slice(None), slice(None), slice(None), 'unimanual'), ('Draw', 'Erase')] = df_crt.loc[(slice(None), slice(None), slice(None), 'unimanual'), ('Draw', 'Erase')].astype(int).fillna(0)\n",
    "    df_crt.loc[(slice(None), slice(None), slice(None), 'bimanual'), ('PointPlaced', 'Move', 'PointDeleted')] = df_crt.loc[(slice(None), slice(None), slice(None), 'bimanual'), ('PointPlaced', 'Move', 'PointDeleted')].astype(int).fillna(0)\n",
    "\n",
    "    df_nav = pd.concat([nav_data, ipa_nav_data, discomfort_data, seq_nav], axis=0).stack().unstack()\n",
    "\n",
    "    user_dfs_nav.append(df_nav)\n",
    "    user_dfs_crt.append(df_crt)\n"
   ]
  },
  {
   "cell_type": "code",
   "execution_count": 26,
   "metadata": {},
   "outputs": [],
   "source": [
    "user_data_nav = pd.concat(user_dfs_nav)\n",
    "nav_dtype = {'luminance': 'float64', 'pupilDiameter': 'float64', 'pupil_lum_base': 'float64', 'adj_pupil': 'float64', 'IPA': 'float64', 'discomfort': 'int32', 'seq': 'int32', 'total_time': 'float64'}\n",
    "user_data_nav = user_data_nav.astype(nav_dtype)\n",
    "\n",
    "short_nav = user_data_nav['total_time'] < 10\n",
    "user_data_nav = user_data_nav[~short_nav]\n",
    "\n",
    "user_data_crt = pd.concat(user_dfs_crt)\n",
    "crt_dtype = {'luminance' : 'float64', 'pupilDiameter' : 'float64', 'pupil_lum_base' : 'float64', 'adj_pupil' : 'float64', 'IPA' : 'float64', 'seq' : 'int32', 'PointPlaced' : 'int32', 'Move' : 'int32', 'Draw' : 'int32', 'Erase' : 'int32', 'PointDeleted' : 'int32', 'total_time': 'float64'}\n",
    "user_data_crt = user_data_crt.astype(crt_dtype)\n",
    "\n",
    "short_crt = user_data_crt['total_time'] < 10\n",
    "user_data_crt = user_data_crt[~short_crt]"
   ]
  },
  {
   "cell_type": "code",
   "execution_count": 27,
   "metadata": {},
   "outputs": [
    {
     "data": {
      "text/html": [
       "<div>\n",
       "<style scoped>\n",
       "    .dataframe tbody tr th:only-of-type {\n",
       "        vertical-align: middle;\n",
       "    }\n",
       "\n",
       "    .dataframe tbody tr th {\n",
       "        vertical-align: top;\n",
       "    }\n",
       "\n",
       "    .dataframe thead th {\n",
       "        text-align: right;\n",
       "    }\n",
       "</style>\n",
       "<table border=\"1\" class=\"dataframe\">\n",
       "  <thead>\n",
       "    <tr style=\"text-align: right;\">\n",
       "      <th></th>\n",
       "      <th></th>\n",
       "      <th></th>\n",
       "      <th></th>\n",
       "      <th>trial_id</th>\n",
       "      <th>task_trial_id</th>\n",
       "      <th>luminance</th>\n",
       "      <th>pupilDiameter</th>\n",
       "      <th>pupil_lum_base</th>\n",
       "      <th>adj_pupil</th>\n",
       "      <th>total_time</th>\n",
       "      <th>target_source</th>\n",
       "      <th>creation_method</th>\n",
       "      <th>IPA</th>\n",
       "      <th>discomfort</th>\n",
       "      <th>seq</th>\n",
       "    </tr>\n",
       "    <tr>\n",
       "      <th>id</th>\n",
       "      <th>block</th>\n",
       "      <th>model</th>\n",
       "      <th>method</th>\n",
       "      <th></th>\n",
       "      <th></th>\n",
       "      <th></th>\n",
       "      <th></th>\n",
       "      <th></th>\n",
       "      <th></th>\n",
       "      <th></th>\n",
       "      <th></th>\n",
       "      <th></th>\n",
       "      <th></th>\n",
       "      <th></th>\n",
       "      <th></th>\n",
       "    </tr>\n",
       "  </thead>\n",
       "  <tbody>\n",
       "    <tr>\n",
       "      <th rowspan=\"5\" valign=\"top\">108</th>\n",
       "      <th rowspan=\"5\" valign=\"top\">0</th>\n",
       "      <th rowspan=\"2\" valign=\"top\">A</th>\n",
       "      <th>4DoF</th>\n",
       "      <td>3.0</td>\n",
       "      <td>7.0</td>\n",
       "      <td>0.224356</td>\n",
       "      <td>4.866458</td>\n",
       "      <td>3.831577</td>\n",
       "      <td>1.034881</td>\n",
       "      <td>37.0822</td>\n",
       "      <td>1</td>\n",
       "      <td>unimanual</td>\n",
       "      <td>0.242846</td>\n",
       "      <td>2</td>\n",
       "      <td>0</td>\n",
       "    </tr>\n",
       "    <tr>\n",
       "      <th>6DoF</th>\n",
       "      <td>1.0</td>\n",
       "      <td>5.0</td>\n",
       "      <td>0.225511</td>\n",
       "      <td>4.359483</td>\n",
       "      <td>3.829147</td>\n",
       "      <td>0.530336</td>\n",
       "      <td>61.0043</td>\n",
       "      <td>2</td>\n",
       "      <td>bimanual</td>\n",
       "      <td>0.098389</td>\n",
       "      <td>1</td>\n",
       "      <td>0</td>\n",
       "    </tr>\n",
       "    <tr>\n",
       "      <th rowspan=\"2\" valign=\"top\">B</th>\n",
       "      <th>4DoF</th>\n",
       "      <td>2.0</td>\n",
       "      <td>6.0</td>\n",
       "      <td>0.242239</td>\n",
       "      <td>4.650883</td>\n",
       "      <td>3.771303</td>\n",
       "      <td>0.879580</td>\n",
       "      <td>67.7005</td>\n",
       "      <td>1</td>\n",
       "      <td>unimanual</td>\n",
       "      <td>0.147757</td>\n",
       "      <td>1</td>\n",
       "      <td>0</td>\n",
       "    </tr>\n",
       "    <tr>\n",
       "      <th>6DoF</th>\n",
       "      <td>3.0</td>\n",
       "      <td>7.0</td>\n",
       "      <td>0.256185</td>\n",
       "      <td>4.437137</td>\n",
       "      <td>3.746679</td>\n",
       "      <td>0.690458</td>\n",
       "      <td>96.4316</td>\n",
       "      <td>2</td>\n",
       "      <td>bimanual</td>\n",
       "      <td>0.197076</td>\n",
       "      <td>1</td>\n",
       "      <td>0</td>\n",
       "    </tr>\n",
       "    <tr>\n",
       "      <th>C</th>\n",
       "      <th>4DoF</th>\n",
       "      <td>0.0</td>\n",
       "      <td>4.0</td>\n",
       "      <td>0.223505</td>\n",
       "      <td>4.658904</td>\n",
       "      <td>3.852900</td>\n",
       "      <td>0.806004</td>\n",
       "      <td>88.0356</td>\n",
       "      <td>1</td>\n",
       "      <td>unimanual</td>\n",
       "      <td>0.227236</td>\n",
       "      <td>1</td>\n",
       "      <td>1</td>\n",
       "    </tr>\n",
       "    <tr>\n",
       "      <th>...</th>\n",
       "      <th>...</th>\n",
       "      <th>...</th>\n",
       "      <th>...</th>\n",
       "      <td>...</td>\n",
       "      <td>...</td>\n",
       "      <td>...</td>\n",
       "      <td>...</td>\n",
       "      <td>...</td>\n",
       "      <td>...</td>\n",
       "      <td>...</td>\n",
       "      <td>...</td>\n",
       "      <td>...</td>\n",
       "      <td>...</td>\n",
       "      <td>...</td>\n",
       "      <td>...</td>\n",
       "    </tr>\n",
       "    <tr>\n",
       "      <th rowspan=\"5\" valign=\"top\">150</th>\n",
       "      <th rowspan=\"5\" valign=\"top\">2</th>\n",
       "      <th>B</th>\n",
       "      <th>6DoF</th>\n",
       "      <td>0.0</td>\n",
       "      <td>4.0</td>\n",
       "      <td>0.251707</td>\n",
       "      <td>3.183719</td>\n",
       "      <td>2.927807</td>\n",
       "      <td>0.255912</td>\n",
       "      <td>50.6527</td>\n",
       "      <td>1</td>\n",
       "      <td>bimanual</td>\n",
       "      <td>0.197507</td>\n",
       "      <td>5</td>\n",
       "      <td>1</td>\n",
       "    </tr>\n",
       "    <tr>\n",
       "      <th rowspan=\"2\" valign=\"top\">C</th>\n",
       "      <th>4DoF</th>\n",
       "      <td>3.0</td>\n",
       "      <td>7.0</td>\n",
       "      <td>0.187073</td>\n",
       "      <td>3.449047</td>\n",
       "      <td>3.052690</td>\n",
       "      <td>0.396357</td>\n",
       "      <td>119.4989</td>\n",
       "      <td>2</td>\n",
       "      <td>unimanual</td>\n",
       "      <td>0.066960</td>\n",
       "      <td>3</td>\n",
       "      <td>0</td>\n",
       "    </tr>\n",
       "    <tr>\n",
       "      <th>6DoF</th>\n",
       "      <td>1.0</td>\n",
       "      <td>5.0</td>\n",
       "      <td>0.230783</td>\n",
       "      <td>3.147895</td>\n",
       "      <td>2.963350</td>\n",
       "      <td>0.184545</td>\n",
       "      <td>50.0098</td>\n",
       "      <td>1</td>\n",
       "      <td>bimanual</td>\n",
       "      <td>0.240056</td>\n",
       "      <td>5</td>\n",
       "      <td>1</td>\n",
       "    </tr>\n",
       "    <tr>\n",
       "      <th rowspan=\"2\" valign=\"top\">D</th>\n",
       "      <th>4DoF</th>\n",
       "      <td>2.0</td>\n",
       "      <td>6.0</td>\n",
       "      <td>0.212979</td>\n",
       "      <td>3.250711</td>\n",
       "      <td>2.992776</td>\n",
       "      <td>0.257935</td>\n",
       "      <td>91.0677</td>\n",
       "      <td>2</td>\n",
       "      <td>unimanual</td>\n",
       "      <td>0.076884</td>\n",
       "      <td>3</td>\n",
       "      <td>0</td>\n",
       "    </tr>\n",
       "    <tr>\n",
       "      <th>6DoF</th>\n",
       "      <td>3.0</td>\n",
       "      <td>7.0</td>\n",
       "      <td>0.226392</td>\n",
       "      <td>3.225373</td>\n",
       "      <td>2.965155</td>\n",
       "      <td>0.260218</td>\n",
       "      <td>51.8534</td>\n",
       "      <td>1</td>\n",
       "      <td>bimanual</td>\n",
       "      <td>0.096469</td>\n",
       "      <td>5</td>\n",
       "      <td>1</td>\n",
       "    </tr>\n",
       "  </tbody>\n",
       "</table>\n",
       "<p>278 rows × 12 columns</p>\n",
       "</div>"
      ],
      "text/plain": [
       "                       trial_id task_trial_id  luminance  pupilDiameter  \\\n",
       "id  block model method                                                    \n",
       "108 0     A     4DoF        3.0           7.0   0.224356       4.866458   \n",
       "                6DoF        1.0           5.0   0.225511       4.359483   \n",
       "          B     4DoF        2.0           6.0   0.242239       4.650883   \n",
       "                6DoF        3.0           7.0   0.256185       4.437137   \n",
       "          C     4DoF        0.0           4.0   0.223505       4.658904   \n",
       "...                         ...           ...        ...            ...   \n",
       "150 2     B     6DoF        0.0           4.0   0.251707       3.183719   \n",
       "          C     4DoF        3.0           7.0   0.187073       3.449047   \n",
       "                6DoF        1.0           5.0   0.230783       3.147895   \n",
       "          D     4DoF        2.0           6.0   0.212979       3.250711   \n",
       "                6DoF        3.0           7.0   0.226392       3.225373   \n",
       "\n",
       "                        pupil_lum_base  adj_pupil  total_time target_source  \\\n",
       "id  block model method                                                        \n",
       "108 0     A     4DoF          3.831577   1.034881     37.0822             1   \n",
       "                6DoF          3.829147   0.530336     61.0043             2   \n",
       "          B     4DoF          3.771303   0.879580     67.7005             1   \n",
       "                6DoF          3.746679   0.690458     96.4316             2   \n",
       "          C     4DoF          3.852900   0.806004     88.0356             1   \n",
       "...                                ...        ...         ...           ...   \n",
       "150 2     B     6DoF          2.927807   0.255912     50.6527             1   \n",
       "          C     4DoF          3.052690   0.396357    119.4989             2   \n",
       "                6DoF          2.963350   0.184545     50.0098             1   \n",
       "          D     4DoF          2.992776   0.257935     91.0677             2   \n",
       "                6DoF          2.965155   0.260218     51.8534             1   \n",
       "\n",
       "                       creation_method       IPA  discomfort  seq  \n",
       "id  block model method                                             \n",
       "108 0     A     4DoF         unimanual  0.242846           2    0  \n",
       "                6DoF          bimanual  0.098389           1    0  \n",
       "          B     4DoF         unimanual  0.147757           1    0  \n",
       "                6DoF          bimanual  0.197076           1    0  \n",
       "          C     4DoF         unimanual  0.227236           1    1  \n",
       "...                                ...       ...         ...  ...  \n",
       "150 2     B     6DoF          bimanual  0.197507           5    1  \n",
       "          C     4DoF         unimanual  0.066960           3    0  \n",
       "                6DoF          bimanual  0.240056           5    1  \n",
       "          D     4DoF         unimanual  0.076884           3    0  \n",
       "                6DoF          bimanual  0.096469           5    1  \n",
       "\n",
       "[278 rows x 12 columns]"
      ]
     },
     "execution_count": 27,
     "metadata": {},
     "output_type": "execute_result"
    }
   ],
   "source": [
    "user_data_nav"
   ]
  },
  {
   "cell_type": "code",
   "execution_count": 28,
   "metadata": {},
   "outputs": [
    {
     "data": {
      "text/html": [
       "<div>\n",
       "<style scoped>\n",
       "    .dataframe tbody tr th:only-of-type {\n",
       "        vertical-align: middle;\n",
       "    }\n",
       "\n",
       "    .dataframe tbody tr th {\n",
       "        vertical-align: top;\n",
       "    }\n",
       "\n",
       "    .dataframe thead th {\n",
       "        text-align: right;\n",
       "    }\n",
       "</style>\n",
       "<table border=\"1\" class=\"dataframe\">\n",
       "  <thead>\n",
       "    <tr style=\"text-align: right;\">\n",
       "      <th></th>\n",
       "      <th></th>\n",
       "      <th></th>\n",
       "      <th></th>\n",
       "      <th>trial_id</th>\n",
       "      <th>task_trial_id</th>\n",
       "      <th>luminance</th>\n",
       "      <th>pupilDiameter</th>\n",
       "      <th>pupil_lum_base</th>\n",
       "      <th>adj_pupil</th>\n",
       "      <th>total_time</th>\n",
       "      <th>target_id</th>\n",
       "      <th>IPA</th>\n",
       "      <th>seq</th>\n",
       "      <th>PointPlaced</th>\n",
       "      <th>Move</th>\n",
       "      <th>Draw</th>\n",
       "      <th>Erase</th>\n",
       "      <th>PointDeleted</th>\n",
       "    </tr>\n",
       "    <tr>\n",
       "      <th>id</th>\n",
       "      <th>block</th>\n",
       "      <th>model</th>\n",
       "      <th>method</th>\n",
       "      <th></th>\n",
       "      <th></th>\n",
       "      <th></th>\n",
       "      <th></th>\n",
       "      <th></th>\n",
       "      <th></th>\n",
       "      <th></th>\n",
       "      <th></th>\n",
       "      <th></th>\n",
       "      <th></th>\n",
       "      <th></th>\n",
       "      <th></th>\n",
       "      <th></th>\n",
       "      <th></th>\n",
       "      <th></th>\n",
       "    </tr>\n",
       "  </thead>\n",
       "  <tbody>\n",
       "    <tr>\n",
       "      <th rowspan=\"5\" valign=\"top\">108</th>\n",
       "      <th rowspan=\"5\" valign=\"top\">0</th>\n",
       "      <th rowspan=\"2\" valign=\"top\">A</th>\n",
       "      <th>bimanual</th>\n",
       "      <td>2.0</td>\n",
       "      <td>6.0</td>\n",
       "      <td>0.280843</td>\n",
       "      <td>4.402825</td>\n",
       "      <td>3.651643</td>\n",
       "      <td>0.751182</td>\n",
       "      <td>98.3030</td>\n",
       "      <td>2</td>\n",
       "      <td>0.111912</td>\n",
       "      <td>1</td>\n",
       "      <td>19</td>\n",
       "      <td>6</td>\n",
       "      <td>0</td>\n",
       "      <td>0</td>\n",
       "      <td>0</td>\n",
       "    </tr>\n",
       "    <tr>\n",
       "      <th>unimanual</th>\n",
       "      <td>0.0</td>\n",
       "      <td>0.0</td>\n",
       "      <td>0.259386</td>\n",
       "      <td>5.104381</td>\n",
       "      <td>3.717137</td>\n",
       "      <td>1.387243</td>\n",
       "      <td>62.7652</td>\n",
       "      <td>1</td>\n",
       "      <td>0.107009</td>\n",
       "      <td>2</td>\n",
       "      <td>0</td>\n",
       "      <td>0</td>\n",
       "      <td>4</td>\n",
       "      <td>0</td>\n",
       "      <td>0</td>\n",
       "    </tr>\n",
       "    <tr>\n",
       "      <th rowspan=\"2\" valign=\"top\">B</th>\n",
       "      <th>bimanual</th>\n",
       "      <td>0.0</td>\n",
       "      <td>4.0</td>\n",
       "      <td>0.320817</td>\n",
       "      <td>4.189030</td>\n",
       "      <td>3.540984</td>\n",
       "      <td>0.648046</td>\n",
       "      <td>95.2104</td>\n",
       "      <td>2</td>\n",
       "      <td>0.136582</td>\n",
       "      <td>2</td>\n",
       "      <td>17</td>\n",
       "      <td>3</td>\n",
       "      <td>0</td>\n",
       "      <td>0</td>\n",
       "      <td>0</td>\n",
       "    </tr>\n",
       "    <tr>\n",
       "      <th>unimanual</th>\n",
       "      <td>1.0</td>\n",
       "      <td>1.0</td>\n",
       "      <td>0.263313</td>\n",
       "      <td>4.835740</td>\n",
       "      <td>3.714536</td>\n",
       "      <td>1.121204</td>\n",
       "      <td>40.4416</td>\n",
       "      <td>1</td>\n",
       "      <td>0.173139</td>\n",
       "      <td>2</td>\n",
       "      <td>0</td>\n",
       "      <td>0</td>\n",
       "      <td>4</td>\n",
       "      <td>0</td>\n",
       "      <td>0</td>\n",
       "    </tr>\n",
       "    <tr>\n",
       "      <th>C</th>\n",
       "      <th>bimanual</th>\n",
       "      <td>1.0</td>\n",
       "      <td>5.0</td>\n",
       "      <td>0.237598</td>\n",
       "      <td>4.375924</td>\n",
       "      <td>3.783636</td>\n",
       "      <td>0.592288</td>\n",
       "      <td>36.4409</td>\n",
       "      <td>2</td>\n",
       "      <td>0.247039</td>\n",
       "      <td>1</td>\n",
       "      <td>12</td>\n",
       "      <td>1</td>\n",
       "      <td>0</td>\n",
       "      <td>0</td>\n",
       "      <td>0</td>\n",
       "    </tr>\n",
       "    <tr>\n",
       "      <th>...</th>\n",
       "      <th>...</th>\n",
       "      <th>...</th>\n",
       "      <th>...</th>\n",
       "      <td>...</td>\n",
       "      <td>...</td>\n",
       "      <td>...</td>\n",
       "      <td>...</td>\n",
       "      <td>...</td>\n",
       "      <td>...</td>\n",
       "      <td>...</td>\n",
       "      <td>...</td>\n",
       "      <td>...</td>\n",
       "      <td>...</td>\n",
       "      <td>...</td>\n",
       "      <td>...</td>\n",
       "      <td>...</td>\n",
       "      <td>...</td>\n",
       "      <td>...</td>\n",
       "    </tr>\n",
       "    <tr>\n",
       "      <th rowspan=\"5\" valign=\"top\">150</th>\n",
       "      <th rowspan=\"5\" valign=\"top\">2</th>\n",
       "      <th>B</th>\n",
       "      <th>unimanual</th>\n",
       "      <td>3.0</td>\n",
       "      <td>7.0</td>\n",
       "      <td>0.292312</td>\n",
       "      <td>3.517550</td>\n",
       "      <td>2.882912</td>\n",
       "      <td>0.634638</td>\n",
       "      <td>22.7181</td>\n",
       "      <td>2</td>\n",
       "      <td>0.137863</td>\n",
       "      <td>0</td>\n",
       "      <td>0</td>\n",
       "      <td>0</td>\n",
       "      <td>3</td>\n",
       "      <td>0</td>\n",
       "      <td>0</td>\n",
       "    </tr>\n",
       "    <tr>\n",
       "      <th rowspan=\"2\" valign=\"top\">C</th>\n",
       "      <th>bimanual</th>\n",
       "      <td>0.0</td>\n",
       "      <td>0.0</td>\n",
       "      <td>0.258588</td>\n",
       "      <td>3.537424</td>\n",
       "      <td>2.921106</td>\n",
       "      <td>0.616318</td>\n",
       "      <td>58.2785</td>\n",
       "      <td>1</td>\n",
       "      <td>0.156624</td>\n",
       "      <td>0</td>\n",
       "      <td>8</td>\n",
       "      <td>9</td>\n",
       "      <td>0</td>\n",
       "      <td>0</td>\n",
       "      <td>0</td>\n",
       "    </tr>\n",
       "    <tr>\n",
       "      <th>unimanual</th>\n",
       "      <td>2.0</td>\n",
       "      <td>6.0</td>\n",
       "      <td>0.198790</td>\n",
       "      <td>3.746519</td>\n",
       "      <td>3.033886</td>\n",
       "      <td>0.712633</td>\n",
       "      <td>17.8667</td>\n",
       "      <td>2</td>\n",
       "      <td>0.112031</td>\n",
       "      <td>0</td>\n",
       "      <td>0</td>\n",
       "      <td>0</td>\n",
       "      <td>1</td>\n",
       "      <td>0</td>\n",
       "      <td>0</td>\n",
       "    </tr>\n",
       "    <tr>\n",
       "      <th rowspan=\"2\" valign=\"top\">D</th>\n",
       "      <th>bimanual</th>\n",
       "      <td>1.0</td>\n",
       "      <td>1.0</td>\n",
       "      <td>0.248727</td>\n",
       "      <td>3.382775</td>\n",
       "      <td>2.935933</td>\n",
       "      <td>0.446842</td>\n",
       "      <td>24.3601</td>\n",
       "      <td>1</td>\n",
       "      <td>0.172092</td>\n",
       "      <td>0</td>\n",
       "      <td>6</td>\n",
       "      <td>0</td>\n",
       "      <td>0</td>\n",
       "      <td>0</td>\n",
       "      <td>0</td>\n",
       "    </tr>\n",
       "    <tr>\n",
       "      <th>unimanual</th>\n",
       "      <td>0.0</td>\n",
       "      <td>4.0</td>\n",
       "      <td>0.220712</td>\n",
       "      <td>3.723166</td>\n",
       "      <td>2.985902</td>\n",
       "      <td>0.737264</td>\n",
       "      <td>14.0163</td>\n",
       "      <td>2</td>\n",
       "      <td>0.144131</td>\n",
       "      <td>0</td>\n",
       "      <td>0</td>\n",
       "      <td>0</td>\n",
       "      <td>2</td>\n",
       "      <td>0</td>\n",
       "      <td>0</td>\n",
       "    </tr>\n",
       "  </tbody>\n",
       "</table>\n",
       "<p>280 rows × 15 columns</p>\n",
       "</div>"
      ],
      "text/plain": [
       "                          trial_id task_trial_id  luminance  pupilDiameter  \\\n",
       "id  block model method                                                       \n",
       "108 0     A     bimanual       2.0           6.0   0.280843       4.402825   \n",
       "                unimanual      0.0           0.0   0.259386       5.104381   \n",
       "          B     bimanual       0.0           4.0   0.320817       4.189030   \n",
       "                unimanual      1.0           1.0   0.263313       4.835740   \n",
       "          C     bimanual       1.0           5.0   0.237598       4.375924   \n",
       "...                            ...           ...        ...            ...   \n",
       "150 2     B     unimanual      3.0           7.0   0.292312       3.517550   \n",
       "          C     bimanual       0.0           0.0   0.258588       3.537424   \n",
       "                unimanual      2.0           6.0   0.198790       3.746519   \n",
       "          D     bimanual       1.0           1.0   0.248727       3.382775   \n",
       "                unimanual      0.0           4.0   0.220712       3.723166   \n",
       "\n",
       "                           pupil_lum_base  adj_pupil  total_time target_id  \\\n",
       "id  block model method                                                       \n",
       "108 0     A     bimanual         3.651643   0.751182     98.3030         2   \n",
       "                unimanual        3.717137   1.387243     62.7652         1   \n",
       "          B     bimanual         3.540984   0.648046     95.2104         2   \n",
       "                unimanual        3.714536   1.121204     40.4416         1   \n",
       "          C     bimanual         3.783636   0.592288     36.4409         2   \n",
       "...                                   ...        ...         ...       ...   \n",
       "150 2     B     unimanual        2.882912   0.634638     22.7181         2   \n",
       "          C     bimanual         2.921106   0.616318     58.2785         1   \n",
       "                unimanual        3.033886   0.712633     17.8667         2   \n",
       "          D     bimanual         2.935933   0.446842     24.3601         1   \n",
       "                unimanual        2.985902   0.737264     14.0163         2   \n",
       "\n",
       "                                IPA  seq  PointPlaced  Move  Draw  Erase  \\\n",
       "id  block model method                                                     \n",
       "108 0     A     bimanual   0.111912    1           19     6     0      0   \n",
       "                unimanual  0.107009    2            0     0     4      0   \n",
       "          B     bimanual   0.136582    2           17     3     0      0   \n",
       "                unimanual  0.173139    2            0     0     4      0   \n",
       "          C     bimanual   0.247039    1           12     1     0      0   \n",
       "...                             ...  ...          ...   ...   ...    ...   \n",
       "150 2     B     unimanual  0.137863    0            0     0     3      0   \n",
       "          C     bimanual   0.156624    0            8     9     0      0   \n",
       "                unimanual  0.112031    0            0     0     1      0   \n",
       "          D     bimanual   0.172092    0            6     0     0      0   \n",
       "                unimanual  0.144131    0            0     0     2      0   \n",
       "\n",
       "                           PointDeleted  \n",
       "id  block model method                   \n",
       "108 0     A     bimanual              0  \n",
       "                unimanual             0  \n",
       "          B     bimanual              0  \n",
       "                unimanual             0  \n",
       "          C     bimanual              0  \n",
       "...                                 ...  \n",
       "150 2     B     unimanual             0  \n",
       "          C     bimanual              0  \n",
       "                unimanual             0  \n",
       "          D     bimanual              0  \n",
       "                unimanual             0  \n",
       "\n",
       "[280 rows x 15 columns]"
      ]
     },
     "execution_count": 28,
     "metadata": {},
     "output_type": "execute_result"
    }
   ],
   "source": [
    "user_data_crt"
   ]
  },
  {
   "cell_type": "markdown",
   "metadata": {},
   "source": [
    "## Navigation Linear Mixed Models"
   ]
  },
  {
   "cell_type": "code",
   "execution_count": 29,
   "metadata": {},
   "outputs": [
    {
     "data": {
      "text/html": [
       "<div>\n",
       "<style scoped>\n",
       "    .dataframe tbody tr th:only-of-type {\n",
       "        vertical-align: middle;\n",
       "    }\n",
       "\n",
       "    .dataframe tbody tr th {\n",
       "        vertical-align: top;\n",
       "    }\n",
       "\n",
       "    .dataframe thead th {\n",
       "        text-align: right;\n",
       "    }\n",
       "</style>\n",
       "<table border=\"1\" class=\"dataframe\">\n",
       "  <thead>\n",
       "    <tr style=\"text-align: right;\">\n",
       "      <th></th>\n",
       "      <th>id</th>\n",
       "      <th>block</th>\n",
       "      <th>model</th>\n",
       "      <th>method</th>\n",
       "      <th>trial_id</th>\n",
       "      <th>task_trial_id</th>\n",
       "      <th>luminance</th>\n",
       "      <th>pupilDiameter</th>\n",
       "      <th>pupil_lum_base</th>\n",
       "      <th>adj_pupil</th>\n",
       "      <th>...</th>\n",
       "      <th>target_source</th>\n",
       "      <th>creation_method</th>\n",
       "      <th>IPA</th>\n",
       "      <th>discomfort</th>\n",
       "      <th>seq</th>\n",
       "      <th>scaled_tepr</th>\n",
       "      <th>scaled_ipa</th>\n",
       "      <th>scaled_time</th>\n",
       "      <th>scaled_seq</th>\n",
       "      <th>scaled_discomfort</th>\n",
       "    </tr>\n",
       "  </thead>\n",
       "  <tbody>\n",
       "    <tr>\n",
       "      <th>0</th>\n",
       "      <td>108</td>\n",
       "      <td>0</td>\n",
       "      <td>0</td>\n",
       "      <td>0</td>\n",
       "      <td>3</td>\n",
       "      <td>7.00000</td>\n",
       "      <td>0.22436</td>\n",
       "      <td>4.86646</td>\n",
       "      <td>3.83158</td>\n",
       "      <td>1.03488</td>\n",
       "      <td>...</td>\n",
       "      <td>1</td>\n",
       "      <td>2</td>\n",
       "      <td>0.24285</td>\n",
       "      <td>2</td>\n",
       "      <td>0</td>\n",
       "      <td>1.97949</td>\n",
       "      <td>1.26157</td>\n",
       "      <td>-1.07674</td>\n",
       "      <td>-0.77706</td>\n",
       "      <td>-0.20133</td>\n",
       "    </tr>\n",
       "    <tr>\n",
       "      <th>1</th>\n",
       "      <td>108</td>\n",
       "      <td>0</td>\n",
       "      <td>0</td>\n",
       "      <td>1</td>\n",
       "      <td>1</td>\n",
       "      <td>5.00000</td>\n",
       "      <td>0.22551</td>\n",
       "      <td>4.35948</td>\n",
       "      <td>3.82915</td>\n",
       "      <td>0.53034</td>\n",
       "      <td>...</td>\n",
       "      <td>2</td>\n",
       "      <td>3</td>\n",
       "      <td>0.09839</td>\n",
       "      <td>1</td>\n",
       "      <td>0</td>\n",
       "      <td>0.24232</td>\n",
       "      <td>-1.34228</td>\n",
       "      <td>-0.22422</td>\n",
       "      <td>-0.77706</td>\n",
       "      <td>-0.59548</td>\n",
       "    </tr>\n",
       "    <tr>\n",
       "      <th>2</th>\n",
       "      <td>108</td>\n",
       "      <td>0</td>\n",
       "      <td>1</td>\n",
       "      <td>0</td>\n",
       "      <td>2</td>\n",
       "      <td>6.00000</td>\n",
       "      <td>0.24224</td>\n",
       "      <td>4.65088</td>\n",
       "      <td>3.77130</td>\n",
       "      <td>0.87958</td>\n",
       "      <td>...</td>\n",
       "      <td>1</td>\n",
       "      <td>2</td>\n",
       "      <td>0.14776</td>\n",
       "      <td>1</td>\n",
       "      <td>0</td>\n",
       "      <td>1.44478</td>\n",
       "      <td>-0.45243</td>\n",
       "      <td>0.01442</td>\n",
       "      <td>-0.77706</td>\n",
       "      <td>-0.59548</td>\n",
       "    </tr>\n",
       "    <tr>\n",
       "      <th>3</th>\n",
       "      <td>108</td>\n",
       "      <td>0</td>\n",
       "      <td>1</td>\n",
       "      <td>1</td>\n",
       "      <td>3</td>\n",
       "      <td>7.00000</td>\n",
       "      <td>0.25618</td>\n",
       "      <td>4.43714</td>\n",
       "      <td>3.74668</td>\n",
       "      <td>0.69046</td>\n",
       "      <td>...</td>\n",
       "      <td>2</td>\n",
       "      <td>3</td>\n",
       "      <td>0.19708</td>\n",
       "      <td>1</td>\n",
       "      <td>0</td>\n",
       "      <td>0.79363</td>\n",
       "      <td>0.43656</td>\n",
       "      <td>1.03833</td>\n",
       "      <td>-0.77706</td>\n",
       "      <td>-0.59548</td>\n",
       "    </tr>\n",
       "    <tr>\n",
       "      <th>4</th>\n",
       "      <td>108</td>\n",
       "      <td>0</td>\n",
       "      <td>2</td>\n",
       "      <td>0</td>\n",
       "      <td>0</td>\n",
       "      <td>4.00000</td>\n",
       "      <td>0.22350</td>\n",
       "      <td>4.65890</td>\n",
       "      <td>3.85290</td>\n",
       "      <td>0.80600</td>\n",
       "      <td>...</td>\n",
       "      <td>1</td>\n",
       "      <td>2</td>\n",
       "      <td>0.22724</td>\n",
       "      <td>1</td>\n",
       "      <td>1</td>\n",
       "      <td>1.19146</td>\n",
       "      <td>0.98020</td>\n",
       "      <td>0.73912</td>\n",
       "      <td>0.39063</td>\n",
       "      <td>-0.59548</td>\n",
       "    </tr>\n",
       "    <tr>\n",
       "      <th>...</th>\n",
       "      <td>...</td>\n",
       "      <td>...</td>\n",
       "      <td>...</td>\n",
       "      <td>...</td>\n",
       "      <td>...</td>\n",
       "      <td>...</td>\n",
       "      <td>...</td>\n",
       "      <td>...</td>\n",
       "      <td>...</td>\n",
       "      <td>...</td>\n",
       "      <td>...</td>\n",
       "      <td>...</td>\n",
       "      <td>...</td>\n",
       "      <td>...</td>\n",
       "      <td>...</td>\n",
       "      <td>...</td>\n",
       "      <td>...</td>\n",
       "      <td>...</td>\n",
       "      <td>...</td>\n",
       "      <td>...</td>\n",
       "      <td>...</td>\n",
       "    </tr>\n",
       "    <tr>\n",
       "      <th>273</th>\n",
       "      <td>150</td>\n",
       "      <td>2</td>\n",
       "      <td>1</td>\n",
       "      <td>1</td>\n",
       "      <td>0</td>\n",
       "      <td>4.00000</td>\n",
       "      <td>0.25171</td>\n",
       "      <td>3.18372</td>\n",
       "      <td>2.92781</td>\n",
       "      <td>0.25591</td>\n",
       "      <td>...</td>\n",
       "      <td>1</td>\n",
       "      <td>3</td>\n",
       "      <td>0.19751</td>\n",
       "      <td>5</td>\n",
       "      <td>1</td>\n",
       "      <td>-0.70253</td>\n",
       "      <td>0.44432</td>\n",
       "      <td>-0.59312</td>\n",
       "      <td>0.39063</td>\n",
       "      <td>0.98112</td>\n",
       "    </tr>\n",
       "    <tr>\n",
       "      <th>274</th>\n",
       "      <td>150</td>\n",
       "      <td>2</td>\n",
       "      <td>2</td>\n",
       "      <td>0</td>\n",
       "      <td>3</td>\n",
       "      <td>7.00000</td>\n",
       "      <td>0.18707</td>\n",
       "      <td>3.44905</td>\n",
       "      <td>3.05269</td>\n",
       "      <td>0.39636</td>\n",
       "      <td>...</td>\n",
       "      <td>2</td>\n",
       "      <td>2</td>\n",
       "      <td>0.06696</td>\n",
       "      <td>3</td>\n",
       "      <td>0</td>\n",
       "      <td>-0.21898</td>\n",
       "      <td>-1.90881</td>\n",
       "      <td>1.86040</td>\n",
       "      <td>-0.77706</td>\n",
       "      <td>0.19282</td>\n",
       "    </tr>\n",
       "    <tr>\n",
       "      <th>275</th>\n",
       "      <td>150</td>\n",
       "      <td>2</td>\n",
       "      <td>2</td>\n",
       "      <td>1</td>\n",
       "      <td>1</td>\n",
       "      <td>5.00000</td>\n",
       "      <td>0.23078</td>\n",
       "      <td>3.14790</td>\n",
       "      <td>2.96335</td>\n",
       "      <td>0.18455</td>\n",
       "      <td>...</td>\n",
       "      <td>1</td>\n",
       "      <td>3</td>\n",
       "      <td>0.24006</td>\n",
       "      <td>5</td>\n",
       "      <td>1</td>\n",
       "      <td>-0.94825</td>\n",
       "      <td>1.21128</td>\n",
       "      <td>-0.61603</td>\n",
       "      <td>0.39063</td>\n",
       "      <td>0.98112</td>\n",
       "    </tr>\n",
       "    <tr>\n",
       "      <th>276</th>\n",
       "      <td>150</td>\n",
       "      <td>2</td>\n",
       "      <td>3</td>\n",
       "      <td>0</td>\n",
       "      <td>2</td>\n",
       "      <td>6.00000</td>\n",
       "      <td>0.21298</td>\n",
       "      <td>3.25071</td>\n",
       "      <td>2.99278</td>\n",
       "      <td>0.25794</td>\n",
       "      <td>...</td>\n",
       "      <td>2</td>\n",
       "      <td>2</td>\n",
       "      <td>0.07688</td>\n",
       "      <td>3</td>\n",
       "      <td>0</td>\n",
       "      <td>-0.69557</td>\n",
       "      <td>-1.72991</td>\n",
       "      <td>0.84717</td>\n",
       "      <td>-0.77706</td>\n",
       "      <td>0.19282</td>\n",
       "    </tr>\n",
       "    <tr>\n",
       "      <th>277</th>\n",
       "      <td>150</td>\n",
       "      <td>2</td>\n",
       "      <td>3</td>\n",
       "      <td>1</td>\n",
       "      <td>3</td>\n",
       "      <td>7.00000</td>\n",
       "      <td>0.22639</td>\n",
       "      <td>3.22537</td>\n",
       "      <td>2.96516</td>\n",
       "      <td>0.26022</td>\n",
       "      <td>...</td>\n",
       "      <td>1</td>\n",
       "      <td>3</td>\n",
       "      <td>0.09647</td>\n",
       "      <td>5</td>\n",
       "      <td>1</td>\n",
       "      <td>-0.68771</td>\n",
       "      <td>-1.37689</td>\n",
       "      <td>-0.55033</td>\n",
       "      <td>0.39063</td>\n",
       "      <td>0.98112</td>\n",
       "    </tr>\n",
       "  </tbody>\n",
       "</table>\n",
       "<p>278 rows × 21 columns</p>\n",
       "</div>"
      ],
      "text/plain": [
       "      id  block  model  method  trial_id task_trial_id  luminance  \\\n",
       "0    108      0      0       0         3       7.00000    0.22436   \n",
       "1    108      0      0       1         1       5.00000    0.22551   \n",
       "2    108      0      1       0         2       6.00000    0.24224   \n",
       "3    108      0      1       1         3       7.00000    0.25618   \n",
       "4    108      0      2       0         0       4.00000    0.22350   \n",
       "..   ...    ...    ...     ...       ...           ...        ...   \n",
       "273  150      2      1       1         0       4.00000    0.25171   \n",
       "274  150      2      2       0         3       7.00000    0.18707   \n",
       "275  150      2      2       1         1       5.00000    0.23078   \n",
       "276  150      2      3       0         2       6.00000    0.21298   \n",
       "277  150      2      3       1         3       7.00000    0.22639   \n",
       "\n",
       "     pupilDiameter  pupil_lum_base  adj_pupil  ...  target_source  \\\n",
       "0          4.86646         3.83158    1.03488  ...              1   \n",
       "1          4.35948         3.82915    0.53034  ...              2   \n",
       "2          4.65088         3.77130    0.87958  ...              1   \n",
       "3          4.43714         3.74668    0.69046  ...              2   \n",
       "4          4.65890         3.85290    0.80600  ...              1   \n",
       "..             ...             ...        ...  ...            ...   \n",
       "273        3.18372         2.92781    0.25591  ...              1   \n",
       "274        3.44905         3.05269    0.39636  ...              2   \n",
       "275        3.14790         2.96335    0.18455  ...              1   \n",
       "276        3.25071         2.99278    0.25794  ...              2   \n",
       "277        3.22537         2.96516    0.26022  ...              1   \n",
       "\n",
       "     creation_method     IPA  discomfort  seq  scaled_tepr  scaled_ipa  \\\n",
       "0                  2 0.24285           2    0      1.97949     1.26157   \n",
       "1                  3 0.09839           1    0      0.24232    -1.34228   \n",
       "2                  2 0.14776           1    0      1.44478    -0.45243   \n",
       "3                  3 0.19708           1    0      0.79363     0.43656   \n",
       "4                  2 0.22724           1    1      1.19146     0.98020   \n",
       "..               ...     ...         ...  ...          ...         ...   \n",
       "273                3 0.19751           5    1     -0.70253     0.44432   \n",
       "274                2 0.06696           3    0     -0.21898    -1.90881   \n",
       "275                3 0.24006           5    1     -0.94825     1.21128   \n",
       "276                2 0.07688           3    0     -0.69557    -1.72991   \n",
       "277                3 0.09647           5    1     -0.68771    -1.37689   \n",
       "\n",
       "     scaled_time  scaled_seq  scaled_discomfort  \n",
       "0       -1.07674    -0.77706           -0.20133  \n",
       "1       -0.22422    -0.77706           -0.59548  \n",
       "2        0.01442    -0.77706           -0.59548  \n",
       "3        1.03833    -0.77706           -0.59548  \n",
       "4        0.73912     0.39063           -0.59548  \n",
       "..           ...         ...                ...  \n",
       "273     -0.59312     0.39063            0.98112  \n",
       "274      1.86040    -0.77706            0.19282  \n",
       "275     -0.61603     0.39063            0.98112  \n",
       "276      0.84717    -0.77706            0.19282  \n",
       "277     -0.55033     0.39063            0.98112  \n",
       "\n",
       "[278 rows x 21 columns]"
      ]
     },
     "execution_count": 29,
     "metadata": {},
     "output_type": "execute_result"
    }
   ],
   "source": [
    "mm_nav_data = user_data_nav\n",
    "mm_nav_data = mm_nav_data.reset_index(level=(0,1,2,3))\n",
    "\n",
    "mm_nav_data['block'] = mm_nav_data['block'].astype(block_cats).cat.codes\n",
    "mm_nav_data['method'] = mm_nav_data['method'].astype(method_cats).cat.codes\n",
    "mm_nav_data['model'] = mm_nav_data['model'].astype(model_cats).cat.codes\n",
    "mm_nav_data['creation_method'] = mm_nav_data['creation_method'].astype(method_cats).cat.codes\n",
    "mm_nav_data['target_source'] = mm_nav_data['target_source'].astype(int)\n",
    "mm_nav_data['trial_id'] = mm_nav_data['trial_id'].astype(int)\n",
    "mm_nav_data['scaled_tepr'] = stats.zscore(mm_nav_data['adj_pupil']).astype(float)\n",
    "mm_nav_data['scaled_ipa'] = stats.zscore(mm_nav_data['IPA']).astype(float)\n",
    "mm_nav_data['scaled_time'] = stats.zscore(mm_nav_data['total_time']).astype(float)\n",
    "mm_nav_data['scaled_seq'] = stats.zscore(mm_nav_data['seq']).astype(float)\n",
    "mm_nav_data['scaled_discomfort'] = stats.zscore(mm_nav_data['discomfort']).astype(float)\n",
    "\n",
    "pd.options.display.float_format = '{:.5f}'.format\n",
    "mm_nav_data"
   ]
  },
  {
   "cell_type": "code",
   "execution_count": 36,
   "metadata": {},
   "outputs": [],
   "source": [
    "mm_nav_data.to_csv('mm_nav_data.csv', index=False)"
   ]
  },
  {
   "cell_type": "code",
   "execution_count": 30,
   "metadata": {},
   "outputs": [],
   "source": [
    "import plotly.express as px"
   ]
  },
  {
   "cell_type": "code",
   "execution_count": 31,
   "metadata": {},
   "outputs": [
    {
     "data": {
      "application/vnd.plotly.v1+json": {
       "config": {
        "plotlyServerURL": "https://plot.ly"
       },
       "data": [
        {
         "hovertemplate": "method=0<br>id=108<br>trial_id=%{marker.color}<br>discomfort=%{y}<extra></extra>",
         "legendgroup": "",
         "marker": {
          "color": [
           3,
           2,
           0,
           1
          ],
          "coloraxis": "coloraxis",
          "symbol": "circle"
         },
         "mode": "markers",
         "name": "",
         "orientation": "v",
         "showlegend": false,
         "type": "scatter",
         "x": [
          3,
          2,
          0,
          1
         ],
         "xaxis": "x36",
         "y": [
          2,
          1,
          1,
          2
         ],
         "yaxis": "y36"
        },
        {
         "hovertemplate": "method=0<br>id=109<br>trial_id=%{marker.color}<br>discomfort=%{y}<extra></extra>",
         "legendgroup": "",
         "marker": {
          "color": [
           0,
           1,
           3,
           2
          ],
          "coloraxis": "coloraxis",
          "symbol": "circle"
         },
         "mode": "markers",
         "name": "",
         "orientation": "v",
         "showlegend": false,
         "type": "scatter",
         "x": [
          0,
          1,
          3,
          2
         ],
         "xaxis": "x37",
         "y": [
          0,
          0,
          0,
          0
         ],
         "yaxis": "y37"
        },
        {
         "hovertemplate": "method=0<br>id=110<br>trial_id=%{marker.color}<br>discomfort=%{y}<extra></extra>",
         "legendgroup": "",
         "marker": {
          "color": [
           0,
           1,
           3,
           2
          ],
          "coloraxis": "coloraxis",
          "symbol": "circle"
         },
         "mode": "markers",
         "name": "",
         "orientation": "v",
         "showlegend": false,
         "type": "scatter",
         "x": [
          0,
          1,
          3,
          2
         ],
         "xaxis": "x38",
         "y": [
          5,
          5,
          5,
          5
         ],
         "yaxis": "y38"
        },
        {
         "hovertemplate": "method=0<br>id=111<br>trial_id=%{marker.color}<br>discomfort=%{y}<extra></extra>",
         "legendgroup": "",
         "marker": {
          "color": [
           3,
           2,
           0,
           1
          ],
          "coloraxis": "coloraxis",
          "symbol": "circle"
         },
         "mode": "markers",
         "name": "",
         "orientation": "v",
         "showlegend": false,
         "type": "scatter",
         "x": [
          3,
          2,
          0,
          1
         ],
         "xaxis": "x39",
         "y": [
          0,
          0,
          2,
          1
         ],
         "yaxis": "y39"
        },
        {
         "hovertemplate": "method=0<br>id=112<br>trial_id=%{marker.color}<br>discomfort=%{y}<extra></extra>",
         "legendgroup": "",
         "marker": {
          "color": [
           3,
           2,
           0,
           1
          ],
          "coloraxis": "coloraxis",
          "symbol": "circle"
         },
         "mode": "markers",
         "name": "",
         "orientation": "v",
         "showlegend": false,
         "type": "scatter",
         "x": [
          3,
          2,
          0,
          1
         ],
         "xaxis": "x40",
         "y": [
          4,
          5,
          4,
          5
         ],
         "yaxis": "y40"
        },
        {
         "hovertemplate": "method=0<br>id=114<br>trial_id=%{marker.color}<br>discomfort=%{y}<extra></extra>",
         "legendgroup": "",
         "marker": {
          "color": [
           0,
           1,
           3,
           2
          ],
          "coloraxis": "coloraxis",
          "symbol": "circle"
         },
         "mode": "markers",
         "name": "",
         "orientation": "v",
         "showlegend": false,
         "type": "scatter",
         "x": [
          0,
          1,
          3,
          2
         ],
         "xaxis": "x41",
         "y": [
          1,
          1,
          0,
          0
         ],
         "yaxis": "y41"
        },
        {
         "hovertemplate": "method=0<br>id=116<br>trial_id=%{marker.color}<br>discomfort=%{y}<extra></extra>",
         "legendgroup": "",
         "marker": {
          "color": [
           3,
           2,
           0,
           1
          ],
          "coloraxis": "coloraxis",
          "symbol": "circle"
         },
         "mode": "markers",
         "name": "",
         "orientation": "v",
         "showlegend": false,
         "type": "scatter",
         "x": [
          3,
          2,
          0,
          1
         ],
         "xaxis": "x42",
         "y": [
          0,
          0,
          0,
          0
         ],
         "yaxis": "y42"
        },
        {
         "hovertemplate": "method=0<br>id=117<br>trial_id=%{marker.color}<br>discomfort=%{y}<extra></extra>",
         "legendgroup": "",
         "marker": {
          "color": [
           0,
           1,
           2
          ],
          "coloraxis": "coloraxis",
          "symbol": "circle"
         },
         "mode": "markers",
         "name": "",
         "orientation": "v",
         "showlegend": false,
         "type": "scatter",
         "x": [
          0,
          1,
          2
         ],
         "xaxis": "x43",
         "y": [
          3,
          2,
          1
         ],
         "yaxis": "y43"
        },
        {
         "hovertemplate": "method=0<br>id=118<br>trial_id=%{marker.color}<br>discomfort=%{y}<extra></extra>",
         "legendgroup": "",
         "marker": {
          "color": [
           0,
           1,
           3,
           2
          ],
          "coloraxis": "coloraxis",
          "symbol": "circle"
         },
         "mode": "markers",
         "name": "",
         "orientation": "v",
         "showlegend": false,
         "type": "scatter",
         "x": [
          0,
          1,
          3,
          2
         ],
         "xaxis": "x44",
         "y": [
          1,
          1,
          0,
          0
         ],
         "yaxis": "y44"
        },
        {
         "hovertemplate": "method=0<br>id=119<br>trial_id=%{marker.color}<br>discomfort=%{y}<extra></extra>",
         "legendgroup": "",
         "marker": {
          "color": [
           3,
           2,
           0,
           1
          ],
          "coloraxis": "coloraxis",
          "symbol": "circle"
         },
         "mode": "markers",
         "name": "",
         "orientation": "v",
         "showlegend": false,
         "type": "scatter",
         "x": [
          3,
          2,
          0,
          1
         ],
         "xaxis": "x45",
         "y": [
          0,
          0,
          0,
          0
         ],
         "yaxis": "y45"
        },
        {
         "hovertemplate": "method=0<br>id=120<br>trial_id=%{marker.color}<br>discomfort=%{y}<extra></extra>",
         "legendgroup": "",
         "marker": {
          "color": [
           3,
           2,
           0,
           1
          ],
          "coloraxis": "coloraxis",
          "symbol": "circle"
         },
         "mode": "markers",
         "name": "",
         "orientation": "v",
         "showlegend": false,
         "type": "scatter",
         "x": [
          3,
          2,
          0,
          1
         ],
         "xaxis": "x46",
         "y": [
          0,
          1,
          1,
          0
         ],
         "yaxis": "y46"
        },
        {
         "hovertemplate": "method=0<br>id=121<br>trial_id=%{marker.color}<br>discomfort=%{y}<extra></extra>",
         "legendgroup": "",
         "marker": {
          "color": [
           0,
           1,
           3,
           2
          ],
          "coloraxis": "coloraxis",
          "symbol": "circle"
         },
         "mode": "markers",
         "name": "",
         "orientation": "v",
         "showlegend": false,
         "type": "scatter",
         "x": [
          0,
          1,
          3,
          2
         ],
         "xaxis": "x47",
         "y": [
          1,
          0,
          1,
          0
         ],
         "yaxis": "y47"
        },
        {
         "hovertemplate": "method=0<br>id=122<br>trial_id=%{marker.color}<br>discomfort=%{y}<extra></extra>",
         "legendgroup": "",
         "marker": {
          "color": [
           0,
           1,
           3,
           2
          ],
          "coloraxis": "coloraxis",
          "symbol": "circle"
         },
         "mode": "markers",
         "name": "",
         "orientation": "v",
         "showlegend": false,
         "type": "scatter",
         "x": [
          0,
          1,
          3,
          2
         ],
         "xaxis": "x48",
         "y": [
          3,
          4,
          5,
          4
         ],
         "yaxis": "y48"
        },
        {
         "hovertemplate": "method=0<br>id=124<br>trial_id=%{marker.color}<br>discomfort=%{y}<extra></extra>",
         "legendgroup": "",
         "marker": {
          "color": [
           3,
           2,
           0,
           1
          ],
          "coloraxis": "coloraxis",
          "symbol": "circle"
         },
         "mode": "markers",
         "name": "",
         "orientation": "v",
         "showlegend": false,
         "type": "scatter",
         "x": [
          3,
          2,
          0,
          1
         ],
         "xaxis": "x49",
         "y": [
          7,
          6,
          7,
          8
         ],
         "yaxis": "y49"
        },
        {
         "hovertemplate": "method=0<br>id=125<br>trial_id=%{marker.color}<br>discomfort=%{y}<extra></extra>",
         "legendgroup": "",
         "marker": {
          "color": [
           0,
           1,
           3,
           2
          ],
          "coloraxis": "coloraxis",
          "symbol": "circle"
         },
         "mode": "markers",
         "name": "",
         "orientation": "v",
         "showlegend": false,
         "type": "scatter",
         "x": [
          0,
          1,
          3,
          2
         ],
         "xaxis": "x50",
         "y": [
          0,
          1,
          1,
          0
         ],
         "yaxis": "y50"
        },
        {
         "hovertemplate": "method=0<br>id=126<br>trial_id=%{marker.color}<br>discomfort=%{y}<extra></extra>",
         "legendgroup": "",
         "marker": {
          "color": [
           0,
           1,
           3,
           2
          ],
          "coloraxis": "coloraxis",
          "symbol": "circle"
         },
         "mode": "markers",
         "name": "",
         "orientation": "v",
         "showlegend": false,
         "type": "scatter",
         "x": [
          0,
          1,
          3,
          2
         ],
         "xaxis": "x51",
         "y": [
          1,
          2,
          3,
          2
         ],
         "yaxis": "y51"
        },
        {
         "hovertemplate": "method=0<br>id=127<br>trial_id=%{marker.color}<br>discomfort=%{y}<extra></extra>",
         "legendgroup": "",
         "marker": {
          "color": [
           3,
           2,
           0,
           1
          ],
          "coloraxis": "coloraxis",
          "symbol": "circle"
         },
         "mode": "markers",
         "name": "",
         "orientation": "v",
         "showlegend": false,
         "type": "scatter",
         "x": [
          3,
          2,
          0,
          1
         ],
         "xaxis": "x52",
         "y": [
          2,
          3,
          3,
          3
         ],
         "yaxis": "y52"
        },
        {
         "hovertemplate": "method=0<br>id=128<br>trial_id=%{marker.color}<br>discomfort=%{y}<extra></extra>",
         "legendgroup": "",
         "marker": {
          "color": [
           3,
           0,
           1
          ],
          "coloraxis": "coloraxis",
          "symbol": "circle"
         },
         "mode": "markers",
         "name": "",
         "orientation": "v",
         "showlegend": false,
         "type": "scatter",
         "x": [
          3,
          0,
          1
         ],
         "xaxis": "x53",
         "y": [
          0,
          2,
          1
         ],
         "yaxis": "y53"
        },
        {
         "hovertemplate": "method=0<br>id=131<br>trial_id=%{marker.color}<br>discomfort=%{y}<extra></extra>",
         "legendgroup": "",
         "marker": {
          "color": [
           3,
           2,
           0,
           1
          ],
          "coloraxis": "coloraxis",
          "symbol": "circle"
         },
         "mode": "markers",
         "name": "",
         "orientation": "v",
         "showlegend": false,
         "type": "scatter",
         "x": [
          3,
          2,
          0,
          1
         ],
         "xaxis": "x54",
         "y": [
          1,
          1,
          1,
          0
         ],
         "yaxis": "y54"
        },
        {
         "hovertemplate": "method=0<br>id=132<br>trial_id=%{marker.color}<br>discomfort=%{y}<extra></extra>",
         "legendgroup": "",
         "marker": {
          "color": [
           3,
           2,
           0,
           1
          ],
          "coloraxis": "coloraxis",
          "symbol": "circle"
         },
         "mode": "markers",
         "name": "",
         "orientation": "v",
         "showlegend": false,
         "type": "scatter",
         "x": [
          3,
          2,
          0,
          1
         ],
         "xaxis": "x55",
         "y": [
          3,
          4,
          3,
          2
         ],
         "yaxis": "y55"
        },
        {
         "hovertemplate": "method=0<br>id=133<br>trial_id=%{marker.color}<br>discomfort=%{y}<extra></extra>",
         "legendgroup": "",
         "marker": {
          "color": [
           0,
           1,
           3,
           2
          ],
          "coloraxis": "coloraxis",
          "symbol": "circle"
         },
         "mode": "markers",
         "name": "",
         "orientation": "v",
         "showlegend": false,
         "type": "scatter",
         "x": [
          0,
          1,
          3,
          2
         ],
         "xaxis": "x56",
         "y": [
          4,
          5,
          5,
          5
         ],
         "yaxis": "y56"
        },
        {
         "hovertemplate": "method=0<br>id=134<br>trial_id=%{marker.color}<br>discomfort=%{y}<extra></extra>",
         "legendgroup": "",
         "marker": {
          "color": [
           0,
           1,
           3,
           2
          ],
          "coloraxis": "coloraxis",
          "symbol": "circle"
         },
         "mode": "markers",
         "name": "",
         "orientation": "v",
         "showlegend": false,
         "type": "scatter",
         "x": [
          0,
          1,
          3,
          2
         ],
         "xaxis": "x57",
         "y": [
          1,
          0,
          0,
          0
         ],
         "yaxis": "y57"
        },
        {
         "hovertemplate": "method=0<br>id=135<br>trial_id=%{marker.color}<br>discomfort=%{y}<extra></extra>",
         "legendgroup": "",
         "marker": {
          "color": [
           3,
           2,
           0,
           1
          ],
          "coloraxis": "coloraxis",
          "symbol": "circle"
         },
         "mode": "markers",
         "name": "",
         "orientation": "v",
         "showlegend": false,
         "type": "scatter",
         "x": [
          3,
          2,
          0,
          1
         ],
         "xaxis": "x58",
         "y": [
          0,
          0,
          0,
          0
         ],
         "yaxis": "y58"
        },
        {
         "hovertemplate": "method=0<br>id=136<br>trial_id=%{marker.color}<br>discomfort=%{y}<extra></extra>",
         "legendgroup": "",
         "marker": {
          "color": [
           3,
           2,
           0,
           1
          ],
          "coloraxis": "coloraxis",
          "symbol": "circle"
         },
         "mode": "markers",
         "name": "",
         "orientation": "v",
         "showlegend": false,
         "type": "scatter",
         "x": [
          3,
          2,
          0,
          1
         ],
         "xaxis": "x59",
         "y": [
          8,
          8,
          8,
          7
         ],
         "yaxis": "y59"
        },
        {
         "hovertemplate": "method=0<br>id=137<br>trial_id=%{marker.color}<br>discomfort=%{y}<extra></extra>",
         "legendgroup": "",
         "marker": {
          "color": [
           0,
           1,
           3,
           2
          ],
          "coloraxis": "coloraxis",
          "symbol": "circle"
         },
         "mode": "markers",
         "name": "",
         "orientation": "v",
         "showlegend": false,
         "type": "scatter",
         "x": [
          0,
          1,
          3,
          2
         ],
         "xaxis": "x60",
         "y": [
          7,
          7,
          7,
          8
         ],
         "yaxis": "y60"
        },
        {
         "hovertemplate": "method=0<br>id=139<br>trial_id=%{marker.color}<br>discomfort=%{y}<extra></extra>",
         "legendgroup": "",
         "marker": {
          "color": [
           3,
           2,
           0,
           1
          ],
          "coloraxis": "coloraxis",
          "symbol": "circle"
         },
         "mode": "markers",
         "name": "",
         "orientation": "v",
         "showlegend": false,
         "type": "scatter",
         "x": [
          3,
          2,
          0,
          1
         ],
         "xaxis": "x61",
         "y": [
          1,
          1,
          1,
          0
         ],
         "yaxis": "y61"
        },
        {
         "hovertemplate": "method=0<br>id=140<br>trial_id=%{marker.color}<br>discomfort=%{y}<extra></extra>",
         "legendgroup": "",
         "marker": {
          "color": [
           3,
           2,
           0,
           1
          ],
          "coloraxis": "coloraxis",
          "symbol": "circle"
         },
         "mode": "markers",
         "name": "",
         "orientation": "v",
         "showlegend": false,
         "type": "scatter",
         "x": [
          3,
          2,
          0,
          1
         ],
         "xaxis": "x62",
         "y": [
          1,
          1,
          1,
          1
         ],
         "yaxis": "y62"
        },
        {
         "hovertemplate": "method=0<br>id=141<br>trial_id=%{marker.color}<br>discomfort=%{y}<extra></extra>",
         "legendgroup": "",
         "marker": {
          "color": [
           0,
           1,
           3,
           2
          ],
          "coloraxis": "coloraxis",
          "symbol": "circle"
         },
         "mode": "markers",
         "name": "",
         "orientation": "v",
         "showlegend": false,
         "type": "scatter",
         "x": [
          0,
          1,
          3,
          2
         ],
         "xaxis": "x63",
         "y": [
          1,
          1,
          2,
          2
         ],
         "yaxis": "y63"
        },
        {
         "hovertemplate": "method=0<br>id=142<br>trial_id=%{marker.color}<br>discomfort=%{y}<extra></extra>",
         "legendgroup": "",
         "marker": {
          "color": [
           0,
           1,
           3,
           2
          ],
          "coloraxis": "coloraxis",
          "symbol": "circle"
         },
         "mode": "markers",
         "name": "",
         "orientation": "v",
         "showlegend": false,
         "type": "scatter",
         "x": [
          0,
          1,
          3,
          2
         ],
         "xaxis": "x64",
         "y": [
          4,
          6,
          7,
          7
         ],
         "yaxis": "y64"
        },
        {
         "hovertemplate": "method=0<br>id=143<br>trial_id=%{marker.color}<br>discomfort=%{y}<extra></extra>",
         "legendgroup": "",
         "marker": {
          "color": [
           3,
           2,
           0,
           1
          ],
          "coloraxis": "coloraxis",
          "symbol": "circle"
         },
         "mode": "markers",
         "name": "",
         "orientation": "v",
         "showlegend": false,
         "type": "scatter",
         "x": [
          3,
          2,
          0,
          1
         ],
         "xaxis": "x65",
         "y": [
          6,
          5,
          2,
          3
         ],
         "yaxis": "y65"
        },
        {
         "hovertemplate": "method=0<br>id=145<br>trial_id=%{marker.color}<br>discomfort=%{y}<extra></extra>",
         "legendgroup": "",
         "marker": {
          "color": [
           0,
           1,
           3,
           2
          ],
          "coloraxis": "coloraxis",
          "symbol": "circle"
         },
         "mode": "markers",
         "name": "",
         "orientation": "v",
         "showlegend": false,
         "type": "scatter",
         "x": [
          0,
          1,
          3,
          2
         ],
         "xaxis": "x66",
         "y": [
          0,
          0,
          0,
          0
         ],
         "yaxis": "y66"
        },
        {
         "hovertemplate": "method=0<br>id=146<br>trial_id=%{marker.color}<br>discomfort=%{y}<extra></extra>",
         "legendgroup": "",
         "marker": {
          "color": [
           0,
           1,
           3,
           2
          ],
          "coloraxis": "coloraxis",
          "symbol": "circle"
         },
         "mode": "markers",
         "name": "",
         "orientation": "v",
         "showlegend": false,
         "type": "scatter",
         "x": [
          0,
          1,
          3,
          2
         ],
         "xaxis": "x67",
         "y": [
          3,
          2,
          0,
          1
         ],
         "yaxis": "y67"
        },
        {
         "hovertemplate": "method=0<br>id=147<br>trial_id=%{marker.color}<br>discomfort=%{y}<extra></extra>",
         "legendgroup": "",
         "marker": {
          "color": [
           3,
           2,
           0,
           1
          ],
          "coloraxis": "coloraxis",
          "symbol": "circle"
         },
         "mode": "markers",
         "name": "",
         "orientation": "v",
         "showlegend": false,
         "type": "scatter",
         "x": [
          3,
          2,
          0,
          1
         ],
         "xaxis": "x68",
         "y": [
          9,
          9,
          9,
          8
         ],
         "yaxis": "y68"
        },
        {
         "hovertemplate": "method=0<br>id=149<br>trial_id=%{marker.color}<br>discomfort=%{y}<extra></extra>",
         "legendgroup": "",
         "marker": {
          "color": [
           0,
           1,
           3,
           2
          ],
          "coloraxis": "coloraxis",
          "symbol": "circle"
         },
         "mode": "markers",
         "name": "",
         "orientation": "v",
         "showlegend": false,
         "type": "scatter",
         "x": [
          0,
          1,
          3,
          2
         ],
         "xaxis": "x69",
         "y": [
          1,
          1,
          1,
          1
         ],
         "yaxis": "y69"
        },
        {
         "hovertemplate": "method=0<br>id=150<br>trial_id=%{marker.color}<br>discomfort=%{y}<extra></extra>",
         "legendgroup": "",
         "marker": {
          "color": [
           0,
           1,
           3,
           2
          ],
          "coloraxis": "coloraxis",
          "symbol": "circle"
         },
         "mode": "markers",
         "name": "",
         "orientation": "v",
         "showlegend": false,
         "type": "scatter",
         "x": [
          0,
          1,
          3,
          2
         ],
         "xaxis": "x70",
         "y": [
          5,
          3,
          3,
          3
         ],
         "yaxis": "y70"
        },
        {
         "hovertemplate": "method=1<br>id=108<br>trial_id=%{marker.color}<br>discomfort=%{y}<extra></extra>",
         "legendgroup": "",
         "marker": {
          "color": [
           1,
           3,
           2,
           0
          ],
          "coloraxis": "coloraxis",
          "symbol": "circle"
         },
         "mode": "markers",
         "name": "",
         "orientation": "v",
         "showlegend": false,
         "type": "scatter",
         "x": [
          1,
          3,
          2,
          0
         ],
         "xaxis": "x",
         "y": [
          1,
          1,
          2,
          1
         ],
         "yaxis": "y"
        },
        {
         "hovertemplate": "method=1<br>id=109<br>trial_id=%{marker.color}<br>discomfort=%{y}<extra></extra>",
         "legendgroup": "",
         "marker": {
          "color": [
           1,
           3,
           2,
           0
          ],
          "coloraxis": "coloraxis",
          "symbol": "circle"
         },
         "mode": "markers",
         "name": "",
         "orientation": "v",
         "showlegend": false,
         "type": "scatter",
         "x": [
          1,
          3,
          2,
          0
         ],
         "xaxis": "x2",
         "y": [
          0,
          0,
          0,
          0
         ],
         "yaxis": "y2"
        },
        {
         "hovertemplate": "method=1<br>id=110<br>trial_id=%{marker.color}<br>discomfort=%{y}<extra></extra>",
         "legendgroup": "",
         "marker": {
          "color": [
           2,
           0,
           1,
           3
          ],
          "coloraxis": "coloraxis",
          "symbol": "circle"
         },
         "mode": "markers",
         "name": "",
         "orientation": "v",
         "showlegend": false,
         "type": "scatter",
         "x": [
          2,
          0,
          1,
          3
         ],
         "xaxis": "x3",
         "y": [
          6,
          5,
          5,
          6
         ],
         "yaxis": "y3"
        },
        {
         "hovertemplate": "method=1<br>id=111<br>trial_id=%{marker.color}<br>discomfort=%{y}<extra></extra>",
         "legendgroup": "",
         "marker": {
          "color": [
           2,
           0,
           1,
           3
          ],
          "coloraxis": "coloraxis",
          "symbol": "circle"
         },
         "mode": "markers",
         "name": "",
         "orientation": "v",
         "showlegend": false,
         "type": "scatter",
         "x": [
          2,
          0,
          1,
          3
         ],
         "xaxis": "x4",
         "y": [
          2,
          4,
          1,
          1
         ],
         "yaxis": "y4"
        },
        {
         "hovertemplate": "method=1<br>id=112<br>trial_id=%{marker.color}<br>discomfort=%{y}<extra></extra>",
         "legendgroup": "",
         "marker": {
          "color": [
           1,
           3,
           2,
           0
          ],
          "coloraxis": "coloraxis",
          "symbol": "circle"
         },
         "mode": "markers",
         "name": "",
         "orientation": "v",
         "showlegend": false,
         "type": "scatter",
         "x": [
          1,
          3,
          2,
          0
         ],
         "xaxis": "x5",
         "y": [
          5,
          5,
          5,
          5
         ],
         "yaxis": "y5"
        },
        {
         "hovertemplate": "method=1<br>id=114<br>trial_id=%{marker.color}<br>discomfort=%{y}<extra></extra>",
         "legendgroup": "",
         "marker": {
          "color": [
           2,
           0,
           1,
           3
          ],
          "coloraxis": "coloraxis",
          "symbol": "circle"
         },
         "mode": "markers",
         "name": "",
         "orientation": "v",
         "showlegend": false,
         "type": "scatter",
         "x": [
          2,
          0,
          1,
          3
         ],
         "xaxis": "x6",
         "y": [
          0,
          0,
          0,
          0
         ],
         "yaxis": "y6"
        },
        {
         "hovertemplate": "method=1<br>id=116<br>trial_id=%{marker.color}<br>discomfort=%{y}<extra></extra>",
         "legendgroup": "",
         "marker": {
          "color": [
           1,
           3,
           2,
           0
          ],
          "coloraxis": "coloraxis",
          "symbol": "circle"
         },
         "mode": "markers",
         "name": "",
         "orientation": "v",
         "showlegend": false,
         "type": "scatter",
         "x": [
          1,
          3,
          2,
          0
         ],
         "xaxis": "x7",
         "y": [
          0,
          0,
          0,
          0
         ],
         "yaxis": "y7"
        },
        {
         "hovertemplate": "method=1<br>id=117<br>trial_id=%{marker.color}<br>discomfort=%{y}<extra></extra>",
         "legendgroup": "",
         "marker": {
          "color": [
           1,
           3,
           2,
           0
          ],
          "coloraxis": "coloraxis",
          "symbol": "circle"
         },
         "mode": "markers",
         "name": "",
         "orientation": "v",
         "showlegend": false,
         "type": "scatter",
         "x": [
          1,
          3,
          2,
          0
         ],
         "xaxis": "x8",
         "y": [
          2,
          3,
          2,
          1
         ],
         "yaxis": "y8"
        },
        {
         "hovertemplate": "method=1<br>id=118<br>trial_id=%{marker.color}<br>discomfort=%{y}<extra></extra>",
         "legendgroup": "",
         "marker": {
          "color": [
           2,
           0,
           1,
           3
          ],
          "coloraxis": "coloraxis",
          "symbol": "circle"
         },
         "mode": "markers",
         "name": "",
         "orientation": "v",
         "showlegend": false,
         "type": "scatter",
         "x": [
          2,
          0,
          1,
          3
         ],
         "xaxis": "x9",
         "y": [
          0,
          0,
          0,
          0
         ],
         "yaxis": "y9"
        },
        {
         "hovertemplate": "method=1<br>id=119<br>trial_id=%{marker.color}<br>discomfort=%{y}<extra></extra>",
         "legendgroup": "",
         "marker": {
          "color": [
           2,
           0,
           1,
           3
          ],
          "coloraxis": "coloraxis",
          "symbol": "circle"
         },
         "mode": "markers",
         "name": "",
         "orientation": "v",
         "showlegend": false,
         "type": "scatter",
         "x": [
          2,
          0,
          1,
          3
         ],
         "xaxis": "x10",
         "y": [
          0,
          0,
          0,
          0
         ],
         "yaxis": "y10"
        },
        {
         "hovertemplate": "method=1<br>id=120<br>trial_id=%{marker.color}<br>discomfort=%{y}<extra></extra>",
         "legendgroup": "",
         "marker": {
          "color": [
           1,
           3,
           2,
           0
          ],
          "coloraxis": "coloraxis",
          "symbol": "circle"
         },
         "mode": "markers",
         "name": "",
         "orientation": "v",
         "showlegend": false,
         "type": "scatter",
         "x": [
          1,
          3,
          2,
          0
         ],
         "xaxis": "x11",
         "y": [
          4,
          4,
          5,
          0
         ],
         "yaxis": "y11"
        },
        {
         "hovertemplate": "method=1<br>id=121<br>trial_id=%{marker.color}<br>discomfort=%{y}<extra></extra>",
         "legendgroup": "",
         "marker": {
          "color": [
           1,
           3,
           2,
           0
          ],
          "coloraxis": "coloraxis",
          "symbol": "circle"
         },
         "mode": "markers",
         "name": "",
         "orientation": "v",
         "showlegend": false,
         "type": "scatter",
         "x": [
          1,
          3,
          2,
          0
         ],
         "xaxis": "x12",
         "y": [
          2,
          0,
          0,
          1
         ],
         "yaxis": "y12"
        },
        {
         "hovertemplate": "method=1<br>id=122<br>trial_id=%{marker.color}<br>discomfort=%{y}<extra></extra>",
         "legendgroup": "",
         "marker": {
          "color": [
           2,
           0,
           1,
           3
          ],
          "coloraxis": "coloraxis",
          "symbol": "circle"
         },
         "mode": "markers",
         "name": "",
         "orientation": "v",
         "showlegend": false,
         "type": "scatter",
         "x": [
          2,
          0,
          1,
          3
         ],
         "xaxis": "x13",
         "y": [
          5,
          4,
          6,
          6
         ],
         "yaxis": "y13"
        },
        {
         "hovertemplate": "method=1<br>id=124<br>trial_id=%{marker.color}<br>discomfort=%{y}<extra></extra>",
         "legendgroup": "",
         "marker": {
          "color": [
           1,
           3,
           2,
           0
          ],
          "coloraxis": "coloraxis",
          "symbol": "circle"
         },
         "mode": "markers",
         "name": "",
         "orientation": "v",
         "showlegend": false,
         "type": "scatter",
         "x": [
          1,
          3,
          2,
          0
         ],
         "xaxis": "x14",
         "y": [
          8,
          6,
          9,
          8
         ],
         "yaxis": "y14"
        },
        {
         "hovertemplate": "method=1<br>id=125<br>trial_id=%{marker.color}<br>discomfort=%{y}<extra></extra>",
         "legendgroup": "",
         "marker": {
          "color": [
           1,
           3,
           2,
           0
          ],
          "coloraxis": "coloraxis",
          "symbol": "circle"
         },
         "mode": "markers",
         "name": "",
         "orientation": "v",
         "showlegend": false,
         "type": "scatter",
         "x": [
          1,
          3,
          2,
          0
         ],
         "xaxis": "x15",
         "y": [
          2,
          2,
          3,
          2
         ],
         "yaxis": "y15"
        },
        {
         "hovertemplate": "method=1<br>id=126<br>trial_id=%{marker.color}<br>discomfort=%{y}<extra></extra>",
         "legendgroup": "",
         "marker": {
          "color": [
           2,
           0,
           1,
           3
          ],
          "coloraxis": "coloraxis",
          "symbol": "circle"
         },
         "mode": "markers",
         "name": "",
         "orientation": "v",
         "showlegend": false,
         "type": "scatter",
         "x": [
          2,
          0,
          1,
          3
         ],
         "xaxis": "x16",
         "y": [
          3,
          3,
          3,
          4
         ],
         "yaxis": "y16"
        },
        {
         "hovertemplate": "method=1<br>id=127<br>trial_id=%{marker.color}<br>discomfort=%{y}<extra></extra>",
         "legendgroup": "",
         "marker": {
          "color": [
           2,
           0,
           1,
           3
          ],
          "coloraxis": "coloraxis",
          "symbol": "circle"
         },
         "mode": "markers",
         "name": "",
         "orientation": "v",
         "showlegend": false,
         "type": "scatter",
         "x": [
          2,
          0,
          1,
          3
         ],
         "xaxis": "x17",
         "y": [
          5,
          4,
          4,
          4
         ],
         "yaxis": "y17"
        },
        {
         "hovertemplate": "method=1<br>id=128<br>trial_id=%{marker.color}<br>discomfort=%{y}<extra></extra>",
         "legendgroup": "",
         "marker": {
          "color": [
           1,
           3,
           2,
           0
          ],
          "coloraxis": "coloraxis",
          "symbol": "circle"
         },
         "mode": "markers",
         "name": "",
         "orientation": "v",
         "showlegend": false,
         "type": "scatter",
         "x": [
          1,
          3,
          2,
          0
         ],
         "xaxis": "x18",
         "y": [
          1,
          1,
          1,
          0
         ],
         "yaxis": "y18"
        },
        {
         "hovertemplate": "method=1<br>id=131<br>trial_id=%{marker.color}<br>discomfort=%{y}<extra></extra>",
         "legendgroup": "",
         "marker": {
          "color": [
           2,
           0,
           1,
           3
          ],
          "coloraxis": "coloraxis",
          "symbol": "circle"
         },
         "mode": "markers",
         "name": "",
         "orientation": "v",
         "showlegend": false,
         "type": "scatter",
         "x": [
          2,
          0,
          1,
          3
         ],
         "xaxis": "x19",
         "y": [
          1,
          2,
          2,
          0
         ],
         "yaxis": "y19"
        },
        {
         "hovertemplate": "method=1<br>id=132<br>trial_id=%{marker.color}<br>discomfort=%{y}<extra></extra>",
         "legendgroup": "",
         "marker": {
          "color": [
           1,
           3,
           2,
           0
          ],
          "coloraxis": "coloraxis",
          "symbol": "circle"
         },
         "mode": "markers",
         "name": "",
         "orientation": "v",
         "showlegend": false,
         "type": "scatter",
         "x": [
          1,
          3,
          2,
          0
         ],
         "xaxis": "x20",
         "y": [
          2,
          3,
          2,
          2
         ],
         "yaxis": "y20"
        },
        {
         "hovertemplate": "method=1<br>id=133<br>trial_id=%{marker.color}<br>discomfort=%{y}<extra></extra>",
         "legendgroup": "",
         "marker": {
          "color": [
           1,
           3,
           2,
           0
          ],
          "coloraxis": "coloraxis",
          "symbol": "circle"
         },
         "mode": "markers",
         "name": "",
         "orientation": "v",
         "showlegend": false,
         "type": "scatter",
         "x": [
          1,
          3,
          2,
          0
         ],
         "xaxis": "x21",
         "y": [
          2,
          4,
          2,
          2
         ],
         "yaxis": "y21"
        },
        {
         "hovertemplate": "method=1<br>id=134<br>trial_id=%{marker.color}<br>discomfort=%{y}<extra></extra>",
         "legendgroup": "",
         "marker": {
          "color": [
           2,
           0,
           1,
           3
          ],
          "coloraxis": "coloraxis",
          "symbol": "circle"
         },
         "mode": "markers",
         "name": "",
         "orientation": "v",
         "showlegend": false,
         "type": "scatter",
         "x": [
          2,
          0,
          1,
          3
         ],
         "xaxis": "x22",
         "y": [
          1,
          2,
          1,
          1
         ],
         "yaxis": "y22"
        },
        {
         "hovertemplate": "method=1<br>id=135<br>trial_id=%{marker.color}<br>discomfort=%{y}<extra></extra>",
         "legendgroup": "",
         "marker": {
          "color": [
           2,
           0,
           1,
           3
          ],
          "coloraxis": "coloraxis",
          "symbol": "circle"
         },
         "mode": "markers",
         "name": "",
         "orientation": "v",
         "showlegend": false,
         "type": "scatter",
         "x": [
          2,
          0,
          1,
          3
         ],
         "xaxis": "x23",
         "y": [
          0,
          0,
          0,
          0
         ],
         "yaxis": "y23"
        },
        {
         "hovertemplate": "method=1<br>id=136<br>trial_id=%{marker.color}<br>discomfort=%{y}<extra></extra>",
         "legendgroup": "",
         "marker": {
          "color": [
           1,
           3,
           2,
           0
          ],
          "coloraxis": "coloraxis",
          "symbol": "circle"
         },
         "mode": "markers",
         "name": "",
         "orientation": "v",
         "showlegend": false,
         "type": "scatter",
         "x": [
          1,
          3,
          2,
          0
         ],
         "xaxis": "x24",
         "y": [
          8,
          7,
          7,
          8
         ],
         "yaxis": "y24"
        },
        {
         "hovertemplate": "method=1<br>id=137<br>trial_id=%{marker.color}<br>discomfort=%{y}<extra></extra>",
         "legendgroup": "",
         "marker": {
          "color": [
           1,
           3,
           2,
           0
          ],
          "coloraxis": "coloraxis",
          "symbol": "circle"
         },
         "mode": "markers",
         "name": "",
         "orientation": "v",
         "showlegend": false,
         "type": "scatter",
         "x": [
          1,
          3,
          2,
          0
         ],
         "xaxis": "x25",
         "y": [
          5,
          7,
          6,
          4
         ],
         "yaxis": "y25"
        },
        {
         "hovertemplate": "method=1<br>id=139<br>trial_id=%{marker.color}<br>discomfort=%{y}<extra></extra>",
         "legendgroup": "",
         "marker": {
          "color": [
           2,
           0,
           1,
           3
          ],
          "coloraxis": "coloraxis",
          "symbol": "circle"
         },
         "mode": "markers",
         "name": "",
         "orientation": "v",
         "showlegend": false,
         "type": "scatter",
         "x": [
          2,
          0,
          1,
          3
         ],
         "xaxis": "x26",
         "y": [
          1,
          1,
          1,
          1
         ],
         "yaxis": "y26"
        },
        {
         "hovertemplate": "method=1<br>id=140<br>trial_id=%{marker.color}<br>discomfort=%{y}<extra></extra>",
         "legendgroup": "",
         "marker": {
          "color": [
           1,
           3,
           2,
           0
          ],
          "coloraxis": "coloraxis",
          "symbol": "circle"
         },
         "mode": "markers",
         "name": "",
         "orientation": "v",
         "showlegend": false,
         "type": "scatter",
         "x": [
          1,
          3,
          2,
          0
         ],
         "xaxis": "x27",
         "y": [
          1,
          1,
          2,
          1
         ],
         "yaxis": "y27"
        },
        {
         "hovertemplate": "method=1<br>id=141<br>trial_id=%{marker.color}<br>discomfort=%{y}<extra></extra>",
         "legendgroup": "",
         "marker": {
          "color": [
           1,
           3,
           2,
           0
          ],
          "coloraxis": "coloraxis",
          "symbol": "circle"
         },
         "mode": "markers",
         "name": "",
         "orientation": "v",
         "showlegend": false,
         "type": "scatter",
         "x": [
          1,
          3,
          2,
          0
         ],
         "xaxis": "x28",
         "y": [
          1,
          1,
          1,
          0
         ],
         "yaxis": "y28"
        },
        {
         "hovertemplate": "method=1<br>id=142<br>trial_id=%{marker.color}<br>discomfort=%{y}<extra></extra>",
         "legendgroup": "",
         "marker": {
          "color": [
           2,
           0,
           1,
           3
          ],
          "coloraxis": "coloraxis",
          "symbol": "circle"
         },
         "mode": "markers",
         "name": "",
         "orientation": "v",
         "showlegend": false,
         "type": "scatter",
         "x": [
          2,
          0,
          1,
          3
         ],
         "xaxis": "x29",
         "y": [
          8,
          8,
          8,
          10
         ],
         "yaxis": "y29"
        },
        {
         "hovertemplate": "method=1<br>id=143<br>trial_id=%{marker.color}<br>discomfort=%{y}<extra></extra>",
         "legendgroup": "",
         "marker": {
          "color": [
           2,
           0,
           1,
           3
          ],
          "coloraxis": "coloraxis",
          "symbol": "circle"
         },
         "mode": "markers",
         "name": "",
         "orientation": "v",
         "showlegend": false,
         "type": "scatter",
         "x": [
          2,
          0,
          1,
          3
         ],
         "xaxis": "x30",
         "y": [
          1,
          1,
          1,
          1
         ],
         "yaxis": "y30"
        },
        {
         "hovertemplate": "method=1<br>id=145<br>trial_id=%{marker.color}<br>discomfort=%{y}<extra></extra>",
         "legendgroup": "",
         "marker": {
          "color": [
           1,
           3,
           2,
           0
          ],
          "coloraxis": "coloraxis",
          "symbol": "circle"
         },
         "mode": "markers",
         "name": "",
         "orientation": "v",
         "showlegend": false,
         "type": "scatter",
         "x": [
          1,
          3,
          2,
          0
         ],
         "xaxis": "x31",
         "y": [
          0,
          0,
          2,
          1
         ],
         "yaxis": "y31"
        },
        {
         "hovertemplate": "method=1<br>id=146<br>trial_id=%{marker.color}<br>discomfort=%{y}<extra></extra>",
         "legendgroup": "",
         "marker": {
          "color": [
           2,
           0,
           1,
           3
          ],
          "coloraxis": "coloraxis",
          "symbol": "circle"
         },
         "mode": "markers",
         "name": "",
         "orientation": "v",
         "showlegend": false,
         "type": "scatter",
         "x": [
          2,
          0,
          1,
          3
         ],
         "xaxis": "x32",
         "y": [
          2,
          1,
          5,
          2
         ],
         "yaxis": "y32"
        },
        {
         "hovertemplate": "method=1<br>id=147<br>trial_id=%{marker.color}<br>discomfort=%{y}<extra></extra>",
         "legendgroup": "",
         "marker": {
          "color": [
           2,
           0,
           1,
           3
          ],
          "coloraxis": "coloraxis",
          "symbol": "circle"
         },
         "mode": "markers",
         "name": "",
         "orientation": "v",
         "showlegend": false,
         "type": "scatter",
         "x": [
          2,
          0,
          1,
          3
         ],
         "xaxis": "x33",
         "y": [
          5,
          3,
          3,
          7
         ],
         "yaxis": "y33"
        },
        {
         "hovertemplate": "method=1<br>id=149<br>trial_id=%{marker.color}<br>discomfort=%{y}<extra></extra>",
         "legendgroup": "",
         "marker": {
          "color": [
           1,
           3,
           2,
           0
          ],
          "coloraxis": "coloraxis",
          "symbol": "circle"
         },
         "mode": "markers",
         "name": "",
         "orientation": "v",
         "showlegend": false,
         "type": "scatter",
         "x": [
          1,
          3,
          2,
          0
         ],
         "xaxis": "x34",
         "y": [
          2,
          1,
          2,
          2
         ],
         "yaxis": "y34"
        },
        {
         "hovertemplate": "method=1<br>id=150<br>trial_id=%{marker.color}<br>discomfort=%{y}<extra></extra>",
         "legendgroup": "",
         "marker": {
          "color": [
           2,
           0,
           1,
           3
          ],
          "coloraxis": "coloraxis",
          "symbol": "circle"
         },
         "mode": "markers",
         "name": "",
         "orientation": "v",
         "showlegend": false,
         "type": "scatter",
         "x": [
          2,
          0,
          1,
          3
         ],
         "xaxis": "x35",
         "y": [
          5,
          5,
          5,
          5
         ],
         "yaxis": "y35"
        }
       ],
       "layout": {
        "annotations": [
         {
          "font": {},
          "showarrow": false,
          "text": "id=108",
          "x": 0.004285714285714285,
          "xanchor": "center",
          "xref": "paper",
          "y": 1,
          "yanchor": "bottom",
          "yref": "paper"
         },
         {
          "font": {},
          "showarrow": false,
          "text": "id=109",
          "x": 0.032857142857142856,
          "xanchor": "center",
          "xref": "paper",
          "y": 1,
          "yanchor": "bottom",
          "yref": "paper"
         },
         {
          "font": {},
          "showarrow": false,
          "text": "id=110",
          "x": 0.06142857142857143,
          "xanchor": "center",
          "xref": "paper",
          "y": 1,
          "yanchor": "bottom",
          "yref": "paper"
         },
         {
          "font": {},
          "showarrow": false,
          "text": "id=111",
          "x": 0.09,
          "xanchor": "center",
          "xref": "paper",
          "y": 1,
          "yanchor": "bottom",
          "yref": "paper"
         },
         {
          "font": {},
          "showarrow": false,
          "text": "id=112",
          "x": 0.11857142857142858,
          "xanchor": "center",
          "xref": "paper",
          "y": 1,
          "yanchor": "bottom",
          "yref": "paper"
         },
         {
          "font": {},
          "showarrow": false,
          "text": "id=114",
          "x": 0.14714285714285713,
          "xanchor": "center",
          "xref": "paper",
          "y": 1,
          "yanchor": "bottom",
          "yref": "paper"
         },
         {
          "font": {},
          "showarrow": false,
          "text": "id=116",
          "x": 0.1757142857142857,
          "xanchor": "center",
          "xref": "paper",
          "y": 1,
          "yanchor": "bottom",
          "yref": "paper"
         },
         {
          "font": {},
          "showarrow": false,
          "text": "id=117",
          "x": 0.2042857142857143,
          "xanchor": "center",
          "xref": "paper",
          "y": 1,
          "yanchor": "bottom",
          "yref": "paper"
         },
         {
          "font": {},
          "showarrow": false,
          "text": "id=118",
          "x": 0.23285714285714285,
          "xanchor": "center",
          "xref": "paper",
          "y": 1,
          "yanchor": "bottom",
          "yref": "paper"
         },
         {
          "font": {},
          "showarrow": false,
          "text": "id=119",
          "x": 0.2614285714285714,
          "xanchor": "center",
          "xref": "paper",
          "y": 1,
          "yanchor": "bottom",
          "yref": "paper"
         },
         {
          "font": {},
          "showarrow": false,
          "text": "id=120",
          "x": 0.29,
          "xanchor": "center",
          "xref": "paper",
          "y": 1,
          "yanchor": "bottom",
          "yref": "paper"
         },
         {
          "font": {},
          "showarrow": false,
          "text": "id=121",
          "x": 0.31857142857142856,
          "xanchor": "center",
          "xref": "paper",
          "y": 1,
          "yanchor": "bottom",
          "yref": "paper"
         },
         {
          "font": {},
          "showarrow": false,
          "text": "id=122",
          "x": 0.34714285714285714,
          "xanchor": "center",
          "xref": "paper",
          "y": 1,
          "yanchor": "bottom",
          "yref": "paper"
         },
         {
          "font": {},
          "showarrow": false,
          "text": "id=124",
          "x": 0.3757142857142857,
          "xanchor": "center",
          "xref": "paper",
          "y": 1,
          "yanchor": "bottom",
          "yref": "paper"
         },
         {
          "font": {},
          "showarrow": false,
          "text": "id=125",
          "x": 0.4042857142857143,
          "xanchor": "center",
          "xref": "paper",
          "y": 1,
          "yanchor": "bottom",
          "yref": "paper"
         },
         {
          "font": {},
          "showarrow": false,
          "text": "id=126",
          "x": 0.43285714285714283,
          "xanchor": "center",
          "xref": "paper",
          "y": 1,
          "yanchor": "bottom",
          "yref": "paper"
         },
         {
          "font": {},
          "showarrow": false,
          "text": "id=127",
          "x": 0.4614285714285714,
          "xanchor": "center",
          "xref": "paper",
          "y": 1,
          "yanchor": "bottom",
          "yref": "paper"
         },
         {
          "font": {},
          "showarrow": false,
          "text": "id=128",
          "x": 0.49,
          "xanchor": "center",
          "xref": "paper",
          "y": 1,
          "yanchor": "bottom",
          "yref": "paper"
         },
         {
          "font": {},
          "showarrow": false,
          "text": "id=131",
          "x": 0.5185714285714285,
          "xanchor": "center",
          "xref": "paper",
          "y": 1,
          "yanchor": "bottom",
          "yref": "paper"
         },
         {
          "font": {},
          "showarrow": false,
          "text": "id=132",
          "x": 0.5471428571428572,
          "xanchor": "center",
          "xref": "paper",
          "y": 1,
          "yanchor": "bottom",
          "yref": "paper"
         },
         {
          "font": {},
          "showarrow": false,
          "text": "id=133",
          "x": 0.5757142857142856,
          "xanchor": "center",
          "xref": "paper",
          "y": 1,
          "yanchor": "bottom",
          "yref": "paper"
         },
         {
          "font": {},
          "showarrow": false,
          "text": "id=134",
          "x": 0.6042857142857143,
          "xanchor": "center",
          "xref": "paper",
          "y": 1,
          "yanchor": "bottom",
          "yref": "paper"
         },
         {
          "font": {},
          "showarrow": false,
          "text": "id=135",
          "x": 0.6328571428571428,
          "xanchor": "center",
          "xref": "paper",
          "y": 1,
          "yanchor": "bottom",
          "yref": "paper"
         },
         {
          "font": {},
          "showarrow": false,
          "text": "id=136",
          "x": 0.6614285714285715,
          "xanchor": "center",
          "xref": "paper",
          "y": 1,
          "yanchor": "bottom",
          "yref": "paper"
         },
         {
          "font": {},
          "showarrow": false,
          "text": "id=137",
          "x": 0.69,
          "xanchor": "center",
          "xref": "paper",
          "y": 1,
          "yanchor": "bottom",
          "yref": "paper"
         },
         {
          "font": {},
          "showarrow": false,
          "text": "id=139",
          "x": 0.7185714285714284,
          "xanchor": "center",
          "xref": "paper",
          "y": 1,
          "yanchor": "bottom",
          "yref": "paper"
         },
         {
          "font": {},
          "showarrow": false,
          "text": "id=140",
          "x": 0.7471428571428571,
          "xanchor": "center",
          "xref": "paper",
          "y": 1,
          "yanchor": "bottom",
          "yref": "paper"
         },
         {
          "font": {},
          "showarrow": false,
          "text": "id=141",
          "x": 0.7757142857142858,
          "xanchor": "center",
          "xref": "paper",
          "y": 1,
          "yanchor": "bottom",
          "yref": "paper"
         },
         {
          "font": {},
          "showarrow": false,
          "text": "id=142",
          "x": 0.8042857142857143,
          "xanchor": "center",
          "xref": "paper",
          "y": 1,
          "yanchor": "bottom",
          "yref": "paper"
         },
         {
          "font": {},
          "showarrow": false,
          "text": "id=143",
          "x": 0.8328571428571427,
          "xanchor": "center",
          "xref": "paper",
          "y": 1,
          "yanchor": "bottom",
          "yref": "paper"
         },
         {
          "font": {},
          "showarrow": false,
          "text": "id=145",
          "x": 0.8614285714285714,
          "xanchor": "center",
          "xref": "paper",
          "y": 1,
          "yanchor": "bottom",
          "yref": "paper"
         },
         {
          "font": {},
          "showarrow": false,
          "text": "id=146",
          "x": 0.8899999999999999,
          "xanchor": "center",
          "xref": "paper",
          "y": 1,
          "yanchor": "bottom",
          "yref": "paper"
         },
         {
          "font": {},
          "showarrow": false,
          "text": "id=147",
          "x": 0.9185714285714286,
          "xanchor": "center",
          "xref": "paper",
          "y": 1,
          "yanchor": "bottom",
          "yref": "paper"
         },
         {
          "font": {},
          "showarrow": false,
          "text": "id=149",
          "x": 0.9471428571428571,
          "xanchor": "center",
          "xref": "paper",
          "y": 1,
          "yanchor": "bottom",
          "yref": "paper"
         },
         {
          "font": {},
          "showarrow": false,
          "text": "id=150",
          "x": 0.9757142857142858,
          "xanchor": "center",
          "xref": "paper",
          "y": 1,
          "yanchor": "bottom",
          "yref": "paper"
         },
         {
          "font": {},
          "showarrow": false,
          "text": "method=1",
          "textangle": 90,
          "x": 0.98,
          "xanchor": "left",
          "xref": "paper",
          "y": 0.2425,
          "yanchor": "middle",
          "yref": "paper"
         },
         {
          "font": {},
          "showarrow": false,
          "text": "method=0",
          "textangle": 90,
          "x": 0.98,
          "xanchor": "left",
          "xref": "paper",
          "y": 0.7575000000000001,
          "yanchor": "middle",
          "yref": "paper"
         }
        ],
        "coloraxis": {
         "colorbar": {
          "title": {
           "text": "trial_id"
          }
         },
         "colorscale": [
          [
           0,
           "#0d0887"
          ],
          [
           0.1111111111111111,
           "#46039f"
          ],
          [
           0.2222222222222222,
           "#7201a8"
          ],
          [
           0.3333333333333333,
           "#9c179e"
          ],
          [
           0.4444444444444444,
           "#bd3786"
          ],
          [
           0.5555555555555556,
           "#d8576b"
          ],
          [
           0.6666666666666666,
           "#ed7953"
          ],
          [
           0.7777777777777778,
           "#fb9f3a"
          ],
          [
           0.8888888888888888,
           "#fdca26"
          ],
          [
           1,
           "#f0f921"
          ]
         ]
        },
        "legend": {
         "tracegroupgap": 0
        },
        "margin": {
         "t": 60
        },
        "template": {
         "data": {
          "bar": [
           {
            "error_x": {
             "color": "#2a3f5f"
            },
            "error_y": {
             "color": "#2a3f5f"
            },
            "marker": {
             "line": {
              "color": "#E5ECF6",
              "width": 0.5
             },
             "pattern": {
              "fillmode": "overlay",
              "size": 10,
              "solidity": 0.2
             }
            },
            "type": "bar"
           }
          ],
          "barpolar": [
           {
            "marker": {
             "line": {
              "color": "#E5ECF6",
              "width": 0.5
             },
             "pattern": {
              "fillmode": "overlay",
              "size": 10,
              "solidity": 0.2
             }
            },
            "type": "barpolar"
           }
          ],
          "carpet": [
           {
            "aaxis": {
             "endlinecolor": "#2a3f5f",
             "gridcolor": "white",
             "linecolor": "white",
             "minorgridcolor": "white",
             "startlinecolor": "#2a3f5f"
            },
            "baxis": {
             "endlinecolor": "#2a3f5f",
             "gridcolor": "white",
             "linecolor": "white",
             "minorgridcolor": "white",
             "startlinecolor": "#2a3f5f"
            },
            "type": "carpet"
           }
          ],
          "choropleth": [
           {
            "colorbar": {
             "outlinewidth": 0,
             "ticks": ""
            },
            "type": "choropleth"
           }
          ],
          "contour": [
           {
            "colorbar": {
             "outlinewidth": 0,
             "ticks": ""
            },
            "colorscale": [
             [
              0,
              "#0d0887"
             ],
             [
              0.1111111111111111,
              "#46039f"
             ],
             [
              0.2222222222222222,
              "#7201a8"
             ],
             [
              0.3333333333333333,
              "#9c179e"
             ],
             [
              0.4444444444444444,
              "#bd3786"
             ],
             [
              0.5555555555555556,
              "#d8576b"
             ],
             [
              0.6666666666666666,
              "#ed7953"
             ],
             [
              0.7777777777777778,
              "#fb9f3a"
             ],
             [
              0.8888888888888888,
              "#fdca26"
             ],
             [
              1,
              "#f0f921"
             ]
            ],
            "type": "contour"
           }
          ],
          "contourcarpet": [
           {
            "colorbar": {
             "outlinewidth": 0,
             "ticks": ""
            },
            "type": "contourcarpet"
           }
          ],
          "heatmap": [
           {
            "colorbar": {
             "outlinewidth": 0,
             "ticks": ""
            },
            "colorscale": [
             [
              0,
              "#0d0887"
             ],
             [
              0.1111111111111111,
              "#46039f"
             ],
             [
              0.2222222222222222,
              "#7201a8"
             ],
             [
              0.3333333333333333,
              "#9c179e"
             ],
             [
              0.4444444444444444,
              "#bd3786"
             ],
             [
              0.5555555555555556,
              "#d8576b"
             ],
             [
              0.6666666666666666,
              "#ed7953"
             ],
             [
              0.7777777777777778,
              "#fb9f3a"
             ],
             [
              0.8888888888888888,
              "#fdca26"
             ],
             [
              1,
              "#f0f921"
             ]
            ],
            "type": "heatmap"
           }
          ],
          "heatmapgl": [
           {
            "colorbar": {
             "outlinewidth": 0,
             "ticks": ""
            },
            "colorscale": [
             [
              0,
              "#0d0887"
             ],
             [
              0.1111111111111111,
              "#46039f"
             ],
             [
              0.2222222222222222,
              "#7201a8"
             ],
             [
              0.3333333333333333,
              "#9c179e"
             ],
             [
              0.4444444444444444,
              "#bd3786"
             ],
             [
              0.5555555555555556,
              "#d8576b"
             ],
             [
              0.6666666666666666,
              "#ed7953"
             ],
             [
              0.7777777777777778,
              "#fb9f3a"
             ],
             [
              0.8888888888888888,
              "#fdca26"
             ],
             [
              1,
              "#f0f921"
             ]
            ],
            "type": "heatmapgl"
           }
          ],
          "histogram": [
           {
            "marker": {
             "pattern": {
              "fillmode": "overlay",
              "size": 10,
              "solidity": 0.2
             }
            },
            "type": "histogram"
           }
          ],
          "histogram2d": [
           {
            "colorbar": {
             "outlinewidth": 0,
             "ticks": ""
            },
            "colorscale": [
             [
              0,
              "#0d0887"
             ],
             [
              0.1111111111111111,
              "#46039f"
             ],
             [
              0.2222222222222222,
              "#7201a8"
             ],
             [
              0.3333333333333333,
              "#9c179e"
             ],
             [
              0.4444444444444444,
              "#bd3786"
             ],
             [
              0.5555555555555556,
              "#d8576b"
             ],
             [
              0.6666666666666666,
              "#ed7953"
             ],
             [
              0.7777777777777778,
              "#fb9f3a"
             ],
             [
              0.8888888888888888,
              "#fdca26"
             ],
             [
              1,
              "#f0f921"
             ]
            ],
            "type": "histogram2d"
           }
          ],
          "histogram2dcontour": [
           {
            "colorbar": {
             "outlinewidth": 0,
             "ticks": ""
            },
            "colorscale": [
             [
              0,
              "#0d0887"
             ],
             [
              0.1111111111111111,
              "#46039f"
             ],
             [
              0.2222222222222222,
              "#7201a8"
             ],
             [
              0.3333333333333333,
              "#9c179e"
             ],
             [
              0.4444444444444444,
              "#bd3786"
             ],
             [
              0.5555555555555556,
              "#d8576b"
             ],
             [
              0.6666666666666666,
              "#ed7953"
             ],
             [
              0.7777777777777778,
              "#fb9f3a"
             ],
             [
              0.8888888888888888,
              "#fdca26"
             ],
             [
              1,
              "#f0f921"
             ]
            ],
            "type": "histogram2dcontour"
           }
          ],
          "mesh3d": [
           {
            "colorbar": {
             "outlinewidth": 0,
             "ticks": ""
            },
            "type": "mesh3d"
           }
          ],
          "parcoords": [
           {
            "line": {
             "colorbar": {
              "outlinewidth": 0,
              "ticks": ""
             }
            },
            "type": "parcoords"
           }
          ],
          "pie": [
           {
            "automargin": true,
            "type": "pie"
           }
          ],
          "scatter": [
           {
            "fillpattern": {
             "fillmode": "overlay",
             "size": 10,
             "solidity": 0.2
            },
            "type": "scatter"
           }
          ],
          "scatter3d": [
           {
            "line": {
             "colorbar": {
              "outlinewidth": 0,
              "ticks": ""
             }
            },
            "marker": {
             "colorbar": {
              "outlinewidth": 0,
              "ticks": ""
             }
            },
            "type": "scatter3d"
           }
          ],
          "scattercarpet": [
           {
            "marker": {
             "colorbar": {
              "outlinewidth": 0,
              "ticks": ""
             }
            },
            "type": "scattercarpet"
           }
          ],
          "scattergeo": [
           {
            "marker": {
             "colorbar": {
              "outlinewidth": 0,
              "ticks": ""
             }
            },
            "type": "scattergeo"
           }
          ],
          "scattergl": [
           {
            "marker": {
             "colorbar": {
              "outlinewidth": 0,
              "ticks": ""
             }
            },
            "type": "scattergl"
           }
          ],
          "scattermapbox": [
           {
            "marker": {
             "colorbar": {
              "outlinewidth": 0,
              "ticks": ""
             }
            },
            "type": "scattermapbox"
           }
          ],
          "scatterpolar": [
           {
            "marker": {
             "colorbar": {
              "outlinewidth": 0,
              "ticks": ""
             }
            },
            "type": "scatterpolar"
           }
          ],
          "scatterpolargl": [
           {
            "marker": {
             "colorbar": {
              "outlinewidth": 0,
              "ticks": ""
             }
            },
            "type": "scatterpolargl"
           }
          ],
          "scatterternary": [
           {
            "marker": {
             "colorbar": {
              "outlinewidth": 0,
              "ticks": ""
             }
            },
            "type": "scatterternary"
           }
          ],
          "surface": [
           {
            "colorbar": {
             "outlinewidth": 0,
             "ticks": ""
            },
            "colorscale": [
             [
              0,
              "#0d0887"
             ],
             [
              0.1111111111111111,
              "#46039f"
             ],
             [
              0.2222222222222222,
              "#7201a8"
             ],
             [
              0.3333333333333333,
              "#9c179e"
             ],
             [
              0.4444444444444444,
              "#bd3786"
             ],
             [
              0.5555555555555556,
              "#d8576b"
             ],
             [
              0.6666666666666666,
              "#ed7953"
             ],
             [
              0.7777777777777778,
              "#fb9f3a"
             ],
             [
              0.8888888888888888,
              "#fdca26"
             ],
             [
              1,
              "#f0f921"
             ]
            ],
            "type": "surface"
           }
          ],
          "table": [
           {
            "cells": {
             "fill": {
              "color": "#EBF0F8"
             },
             "line": {
              "color": "white"
             }
            },
            "header": {
             "fill": {
              "color": "#C8D4E3"
             },
             "line": {
              "color": "white"
             }
            },
            "type": "table"
           }
          ]
         },
         "layout": {
          "annotationdefaults": {
           "arrowcolor": "#2a3f5f",
           "arrowhead": 0,
           "arrowwidth": 1
          },
          "autotypenumbers": "strict",
          "coloraxis": {
           "colorbar": {
            "outlinewidth": 0,
            "ticks": ""
           }
          },
          "colorscale": {
           "diverging": [
            [
             0,
             "#8e0152"
            ],
            [
             0.1,
             "#c51b7d"
            ],
            [
             0.2,
             "#de77ae"
            ],
            [
             0.3,
             "#f1b6da"
            ],
            [
             0.4,
             "#fde0ef"
            ],
            [
             0.5,
             "#f7f7f7"
            ],
            [
             0.6,
             "#e6f5d0"
            ],
            [
             0.7,
             "#b8e186"
            ],
            [
             0.8,
             "#7fbc41"
            ],
            [
             0.9,
             "#4d9221"
            ],
            [
             1,
             "#276419"
            ]
           ],
           "sequential": [
            [
             0,
             "#0d0887"
            ],
            [
             0.1111111111111111,
             "#46039f"
            ],
            [
             0.2222222222222222,
             "#7201a8"
            ],
            [
             0.3333333333333333,
             "#9c179e"
            ],
            [
             0.4444444444444444,
             "#bd3786"
            ],
            [
             0.5555555555555556,
             "#d8576b"
            ],
            [
             0.6666666666666666,
             "#ed7953"
            ],
            [
             0.7777777777777778,
             "#fb9f3a"
            ],
            [
             0.8888888888888888,
             "#fdca26"
            ],
            [
             1,
             "#f0f921"
            ]
           ],
           "sequentialminus": [
            [
             0,
             "#0d0887"
            ],
            [
             0.1111111111111111,
             "#46039f"
            ],
            [
             0.2222222222222222,
             "#7201a8"
            ],
            [
             0.3333333333333333,
             "#9c179e"
            ],
            [
             0.4444444444444444,
             "#bd3786"
            ],
            [
             0.5555555555555556,
             "#d8576b"
            ],
            [
             0.6666666666666666,
             "#ed7953"
            ],
            [
             0.7777777777777778,
             "#fb9f3a"
            ],
            [
             0.8888888888888888,
             "#fdca26"
            ],
            [
             1,
             "#f0f921"
            ]
           ]
          },
          "colorway": [
           "#636efa",
           "#EF553B",
           "#00cc96",
           "#ab63fa",
           "#FFA15A",
           "#19d3f3",
           "#FF6692",
           "#B6E880",
           "#FF97FF",
           "#FECB52"
          ],
          "font": {
           "color": "#2a3f5f"
          },
          "geo": {
           "bgcolor": "white",
           "lakecolor": "white",
           "landcolor": "#E5ECF6",
           "showlakes": true,
           "showland": true,
           "subunitcolor": "white"
          },
          "hoverlabel": {
           "align": "left"
          },
          "hovermode": "closest",
          "mapbox": {
           "style": "light"
          },
          "paper_bgcolor": "white",
          "plot_bgcolor": "#E5ECF6",
          "polar": {
           "angularaxis": {
            "gridcolor": "white",
            "linecolor": "white",
            "ticks": ""
           },
           "bgcolor": "#E5ECF6",
           "radialaxis": {
            "gridcolor": "white",
            "linecolor": "white",
            "ticks": ""
           }
          },
          "scene": {
           "xaxis": {
            "backgroundcolor": "#E5ECF6",
            "gridcolor": "white",
            "gridwidth": 2,
            "linecolor": "white",
            "showbackground": true,
            "ticks": "",
            "zerolinecolor": "white"
           },
           "yaxis": {
            "backgroundcolor": "#E5ECF6",
            "gridcolor": "white",
            "gridwidth": 2,
            "linecolor": "white",
            "showbackground": true,
            "ticks": "",
            "zerolinecolor": "white"
           },
           "zaxis": {
            "backgroundcolor": "#E5ECF6",
            "gridcolor": "white",
            "gridwidth": 2,
            "linecolor": "white",
            "showbackground": true,
            "ticks": "",
            "zerolinecolor": "white"
           }
          },
          "shapedefaults": {
           "line": {
            "color": "#2a3f5f"
           }
          },
          "ternary": {
           "aaxis": {
            "gridcolor": "white",
            "linecolor": "white",
            "ticks": ""
           },
           "baxis": {
            "gridcolor": "white",
            "linecolor": "white",
            "ticks": ""
           },
           "bgcolor": "#E5ECF6",
           "caxis": {
            "gridcolor": "white",
            "linecolor": "white",
            "ticks": ""
           }
          },
          "title": {
           "x": 0.05
          },
          "xaxis": {
           "automargin": true,
           "gridcolor": "white",
           "linecolor": "white",
           "ticks": "",
           "title": {
            "standoff": 15
           },
           "zerolinecolor": "white",
           "zerolinewidth": 2
          },
          "yaxis": {
           "automargin": true,
           "gridcolor": "white",
           "linecolor": "white",
           "ticks": "",
           "title": {
            "standoff": 15
           },
           "zerolinecolor": "white",
           "zerolinewidth": 2
          }
         }
        },
        "xaxis": {
         "anchor": "y",
         "domain": [
          0,
          0.00857142857142857
         ],
         "title": {
          "text": "trial_id"
         }
        },
        "xaxis10": {
         "anchor": "y10",
         "domain": [
          0.2571428571428571,
          0.2657142857142857
         ],
         "matches": "x",
         "title": {
          "text": "trial_id"
         }
        },
        "xaxis11": {
         "anchor": "y11",
         "domain": [
          0.2857142857142857,
          0.29428571428571426
         ],
         "matches": "x",
         "title": {
          "text": "trial_id"
         }
        },
        "xaxis12": {
         "anchor": "y12",
         "domain": [
          0.3142857142857143,
          0.32285714285714284
         ],
         "matches": "x",
         "title": {
          "text": "trial_id"
         }
        },
        "xaxis13": {
         "anchor": "y13",
         "domain": [
          0.34285714285714286,
          0.3514285714285714
         ],
         "matches": "x",
         "title": {
          "text": "trial_id"
         }
        },
        "xaxis14": {
         "anchor": "y14",
         "domain": [
          0.37142857142857144,
          0.38
         ],
         "matches": "x",
         "title": {
          "text": "trial_id"
         }
        },
        "xaxis15": {
         "anchor": "y15",
         "domain": [
          0.4,
          0.4085714285714286
         ],
         "matches": "x",
         "title": {
          "text": "trial_id"
         }
        },
        "xaxis16": {
         "anchor": "y16",
         "domain": [
          0.42857142857142855,
          0.4371428571428571
         ],
         "matches": "x",
         "title": {
          "text": "trial_id"
         }
        },
        "xaxis17": {
         "anchor": "y17",
         "domain": [
          0.45714285714285713,
          0.4657142857142857
         ],
         "matches": "x",
         "title": {
          "text": "trial_id"
         }
        },
        "xaxis18": {
         "anchor": "y18",
         "domain": [
          0.4857142857142857,
          0.4942857142857143
         ],
         "matches": "x",
         "title": {
          "text": "trial_id"
         }
        },
        "xaxis19": {
         "anchor": "y19",
         "domain": [
          0.5142857142857142,
          0.5228571428571428
         ],
         "matches": "x",
         "title": {
          "text": "trial_id"
         }
        },
        "xaxis2": {
         "anchor": "y2",
         "domain": [
          0.02857142857142857,
          0.037142857142857144
         ],
         "matches": "x",
         "title": {
          "text": "trial_id"
         }
        },
        "xaxis20": {
         "anchor": "y20",
         "domain": [
          0.5428571428571428,
          0.5514285714285714
         ],
         "matches": "x",
         "title": {
          "text": "trial_id"
         }
        },
        "xaxis21": {
         "anchor": "y21",
         "domain": [
          0.5714285714285714,
          0.58
         ],
         "matches": "x",
         "title": {
          "text": "trial_id"
         }
        },
        "xaxis22": {
         "anchor": "y22",
         "domain": [
          0.6,
          0.6085714285714285
         ],
         "matches": "x",
         "title": {
          "text": "trial_id"
         }
        },
        "xaxis23": {
         "anchor": "y23",
         "domain": [
          0.6285714285714286,
          0.6371428571428571
         ],
         "matches": "x",
         "title": {
          "text": "trial_id"
         }
        },
        "xaxis24": {
         "anchor": "y24",
         "domain": [
          0.6571428571428571,
          0.6657142857142857
         ],
         "matches": "x",
         "title": {
          "text": "trial_id"
         }
        },
        "xaxis25": {
         "anchor": "y25",
         "domain": [
          0.6857142857142857,
          0.6942857142857143
         ],
         "matches": "x",
         "title": {
          "text": "trial_id"
         }
        },
        "xaxis26": {
         "anchor": "y26",
         "domain": [
          0.7142857142857142,
          0.7228571428571428
         ],
         "matches": "x",
         "title": {
          "text": "trial_id"
         }
        },
        "xaxis27": {
         "anchor": "y27",
         "domain": [
          0.7428571428571429,
          0.7514285714285714
         ],
         "matches": "x",
         "title": {
          "text": "trial_id"
         }
        },
        "xaxis28": {
         "anchor": "y28",
         "domain": [
          0.7714285714285715,
          0.78
         ],
         "matches": "x",
         "title": {
          "text": "trial_id"
         }
        },
        "xaxis29": {
         "anchor": "y29",
         "domain": [
          0.8,
          0.8085714285714286
         ],
         "matches": "x",
         "title": {
          "text": "trial_id"
         }
        },
        "xaxis3": {
         "anchor": "y3",
         "domain": [
          0.05714285714285714,
          0.06571428571428571
         ],
         "matches": "x",
         "title": {
          "text": "trial_id"
         }
        },
        "xaxis30": {
         "anchor": "y30",
         "domain": [
          0.8285714285714285,
          0.8371428571428571
         ],
         "matches": "x",
         "title": {
          "text": "trial_id"
         }
        },
        "xaxis31": {
         "anchor": "y31",
         "domain": [
          0.8571428571428571,
          0.8657142857142857
         ],
         "matches": "x",
         "title": {
          "text": "trial_id"
         }
        },
        "xaxis32": {
         "anchor": "y32",
         "domain": [
          0.8857142857142857,
          0.8942857142857142
         ],
         "matches": "x",
         "title": {
          "text": "trial_id"
         }
        },
        "xaxis33": {
         "anchor": "y33",
         "domain": [
          0.9142857142857143,
          0.9228571428571428
         ],
         "matches": "x",
         "title": {
          "text": "trial_id"
         }
        },
        "xaxis34": {
         "anchor": "y34",
         "domain": [
          0.9428571428571428,
          0.9514285714285714
         ],
         "matches": "x",
         "title": {
          "text": "trial_id"
         }
        },
        "xaxis35": {
         "anchor": "y35",
         "domain": [
          0.9714285714285714,
          0.98
         ],
         "matches": "x",
         "title": {
          "text": "trial_id"
         }
        },
        "xaxis36": {
         "anchor": "y36",
         "domain": [
          0,
          0.00857142857142857
         ],
         "matches": "x",
         "showticklabels": false
        },
        "xaxis37": {
         "anchor": "y37",
         "domain": [
          0.02857142857142857,
          0.037142857142857144
         ],
         "matches": "x",
         "showticklabels": false
        },
        "xaxis38": {
         "anchor": "y38",
         "domain": [
          0.05714285714285714,
          0.06571428571428571
         ],
         "matches": "x",
         "showticklabels": false
        },
        "xaxis39": {
         "anchor": "y39",
         "domain": [
          0.08571428571428572,
          0.09428571428571428
         ],
         "matches": "x",
         "showticklabels": false
        },
        "xaxis4": {
         "anchor": "y4",
         "domain": [
          0.08571428571428572,
          0.09428571428571428
         ],
         "matches": "x",
         "title": {
          "text": "trial_id"
         }
        },
        "xaxis40": {
         "anchor": "y40",
         "domain": [
          0.11428571428571428,
          0.12285714285714286
         ],
         "matches": "x",
         "showticklabels": false
        },
        "xaxis41": {
         "anchor": "y41",
         "domain": [
          0.14285714285714285,
          0.1514285714285714
         ],
         "matches": "x",
         "showticklabels": false
        },
        "xaxis42": {
         "anchor": "y42",
         "domain": [
          0.17142857142857143,
          0.18
         ],
         "matches": "x",
         "showticklabels": false
        },
        "xaxis43": {
         "anchor": "y43",
         "domain": [
          0.2,
          0.20857142857142857
         ],
         "matches": "x",
         "showticklabels": false
        },
        "xaxis44": {
         "anchor": "y44",
         "domain": [
          0.22857142857142856,
          0.23714285714285713
         ],
         "matches": "x",
         "showticklabels": false
        },
        "xaxis45": {
         "anchor": "y45",
         "domain": [
          0.2571428571428571,
          0.2657142857142857
         ],
         "matches": "x",
         "showticklabels": false
        },
        "xaxis46": {
         "anchor": "y46",
         "domain": [
          0.2857142857142857,
          0.29428571428571426
         ],
         "matches": "x",
         "showticklabels": false
        },
        "xaxis47": {
         "anchor": "y47",
         "domain": [
          0.3142857142857143,
          0.32285714285714284
         ],
         "matches": "x",
         "showticklabels": false
        },
        "xaxis48": {
         "anchor": "y48",
         "domain": [
          0.34285714285714286,
          0.3514285714285714
         ],
         "matches": "x",
         "showticklabels": false
        },
        "xaxis49": {
         "anchor": "y49",
         "domain": [
          0.37142857142857144,
          0.38
         ],
         "matches": "x",
         "showticklabels": false
        },
        "xaxis5": {
         "anchor": "y5",
         "domain": [
          0.11428571428571428,
          0.12285714285714286
         ],
         "matches": "x",
         "title": {
          "text": "trial_id"
         }
        },
        "xaxis50": {
         "anchor": "y50",
         "domain": [
          0.4,
          0.4085714285714286
         ],
         "matches": "x",
         "showticklabels": false
        },
        "xaxis51": {
         "anchor": "y51",
         "domain": [
          0.42857142857142855,
          0.4371428571428571
         ],
         "matches": "x",
         "showticklabels": false
        },
        "xaxis52": {
         "anchor": "y52",
         "domain": [
          0.45714285714285713,
          0.4657142857142857
         ],
         "matches": "x",
         "showticklabels": false
        },
        "xaxis53": {
         "anchor": "y53",
         "domain": [
          0.4857142857142857,
          0.4942857142857143
         ],
         "matches": "x",
         "showticklabels": false
        },
        "xaxis54": {
         "anchor": "y54",
         "domain": [
          0.5142857142857142,
          0.5228571428571428
         ],
         "matches": "x",
         "showticklabels": false
        },
        "xaxis55": {
         "anchor": "y55",
         "domain": [
          0.5428571428571428,
          0.5514285714285714
         ],
         "matches": "x",
         "showticklabels": false
        },
        "xaxis56": {
         "anchor": "y56",
         "domain": [
          0.5714285714285714,
          0.58
         ],
         "matches": "x",
         "showticklabels": false
        },
        "xaxis57": {
         "anchor": "y57",
         "domain": [
          0.6,
          0.6085714285714285
         ],
         "matches": "x",
         "showticklabels": false
        },
        "xaxis58": {
         "anchor": "y58",
         "domain": [
          0.6285714285714286,
          0.6371428571428571
         ],
         "matches": "x",
         "showticklabels": false
        },
        "xaxis59": {
         "anchor": "y59",
         "domain": [
          0.6571428571428571,
          0.6657142857142857
         ],
         "matches": "x",
         "showticklabels": false
        },
        "xaxis6": {
         "anchor": "y6",
         "domain": [
          0.14285714285714285,
          0.1514285714285714
         ],
         "matches": "x",
         "title": {
          "text": "trial_id"
         }
        },
        "xaxis60": {
         "anchor": "y60",
         "domain": [
          0.6857142857142857,
          0.6942857142857143
         ],
         "matches": "x",
         "showticklabels": false
        },
        "xaxis61": {
         "anchor": "y61",
         "domain": [
          0.7142857142857142,
          0.7228571428571428
         ],
         "matches": "x",
         "showticklabels": false
        },
        "xaxis62": {
         "anchor": "y62",
         "domain": [
          0.7428571428571429,
          0.7514285714285714
         ],
         "matches": "x",
         "showticklabels": false
        },
        "xaxis63": {
         "anchor": "y63",
         "domain": [
          0.7714285714285715,
          0.78
         ],
         "matches": "x",
         "showticklabels": false
        },
        "xaxis64": {
         "anchor": "y64",
         "domain": [
          0.8,
          0.8085714285714286
         ],
         "matches": "x",
         "showticklabels": false
        },
        "xaxis65": {
         "anchor": "y65",
         "domain": [
          0.8285714285714285,
          0.8371428571428571
         ],
         "matches": "x",
         "showticklabels": false
        },
        "xaxis66": {
         "anchor": "y66",
         "domain": [
          0.8571428571428571,
          0.8657142857142857
         ],
         "matches": "x",
         "showticklabels": false
        },
        "xaxis67": {
         "anchor": "y67",
         "domain": [
          0.8857142857142857,
          0.8942857142857142
         ],
         "matches": "x",
         "showticklabels": false
        },
        "xaxis68": {
         "anchor": "y68",
         "domain": [
          0.9142857142857143,
          0.9228571428571428
         ],
         "matches": "x",
         "showticklabels": false
        },
        "xaxis69": {
         "anchor": "y69",
         "domain": [
          0.9428571428571428,
          0.9514285714285714
         ],
         "matches": "x",
         "showticklabels": false
        },
        "xaxis7": {
         "anchor": "y7",
         "domain": [
          0.17142857142857143,
          0.18
         ],
         "matches": "x",
         "title": {
          "text": "trial_id"
         }
        },
        "xaxis70": {
         "anchor": "y70",
         "domain": [
          0.9714285714285714,
          0.98
         ],
         "matches": "x",
         "showticklabels": false
        },
        "xaxis8": {
         "anchor": "y8",
         "domain": [
          0.2,
          0.20857142857142857
         ],
         "matches": "x",
         "title": {
          "text": "trial_id"
         }
        },
        "xaxis9": {
         "anchor": "y9",
         "domain": [
          0.22857142857142856,
          0.23714285714285713
         ],
         "matches": "x",
         "title": {
          "text": "trial_id"
         }
        },
        "yaxis": {
         "anchor": "x",
         "domain": [
          0,
          0.485
         ],
         "title": {
          "text": "discomfort"
         }
        },
        "yaxis10": {
         "anchor": "x10",
         "domain": [
          0,
          0.485
         ],
         "matches": "y",
         "showticklabels": false
        },
        "yaxis11": {
         "anchor": "x11",
         "domain": [
          0,
          0.485
         ],
         "matches": "y",
         "showticklabels": false
        },
        "yaxis12": {
         "anchor": "x12",
         "domain": [
          0,
          0.485
         ],
         "matches": "y",
         "showticklabels": false
        },
        "yaxis13": {
         "anchor": "x13",
         "domain": [
          0,
          0.485
         ],
         "matches": "y",
         "showticklabels": false
        },
        "yaxis14": {
         "anchor": "x14",
         "domain": [
          0,
          0.485
         ],
         "matches": "y",
         "showticklabels": false
        },
        "yaxis15": {
         "anchor": "x15",
         "domain": [
          0,
          0.485
         ],
         "matches": "y",
         "showticklabels": false
        },
        "yaxis16": {
         "anchor": "x16",
         "domain": [
          0,
          0.485
         ],
         "matches": "y",
         "showticklabels": false
        },
        "yaxis17": {
         "anchor": "x17",
         "domain": [
          0,
          0.485
         ],
         "matches": "y",
         "showticklabels": false
        },
        "yaxis18": {
         "anchor": "x18",
         "domain": [
          0,
          0.485
         ],
         "matches": "y",
         "showticklabels": false
        },
        "yaxis19": {
         "anchor": "x19",
         "domain": [
          0,
          0.485
         ],
         "matches": "y",
         "showticklabels": false
        },
        "yaxis2": {
         "anchor": "x2",
         "domain": [
          0,
          0.485
         ],
         "matches": "y",
         "showticklabels": false
        },
        "yaxis20": {
         "anchor": "x20",
         "domain": [
          0,
          0.485
         ],
         "matches": "y",
         "showticklabels": false
        },
        "yaxis21": {
         "anchor": "x21",
         "domain": [
          0,
          0.485
         ],
         "matches": "y",
         "showticklabels": false
        },
        "yaxis22": {
         "anchor": "x22",
         "domain": [
          0,
          0.485
         ],
         "matches": "y",
         "showticklabels": false
        },
        "yaxis23": {
         "anchor": "x23",
         "domain": [
          0,
          0.485
         ],
         "matches": "y",
         "showticklabels": false
        },
        "yaxis24": {
         "anchor": "x24",
         "domain": [
          0,
          0.485
         ],
         "matches": "y",
         "showticklabels": false
        },
        "yaxis25": {
         "anchor": "x25",
         "domain": [
          0,
          0.485
         ],
         "matches": "y",
         "showticklabels": false
        },
        "yaxis26": {
         "anchor": "x26",
         "domain": [
          0,
          0.485
         ],
         "matches": "y",
         "showticklabels": false
        },
        "yaxis27": {
         "anchor": "x27",
         "domain": [
          0,
          0.485
         ],
         "matches": "y",
         "showticklabels": false
        },
        "yaxis28": {
         "anchor": "x28",
         "domain": [
          0,
          0.485
         ],
         "matches": "y",
         "showticklabels": false
        },
        "yaxis29": {
         "anchor": "x29",
         "domain": [
          0,
          0.485
         ],
         "matches": "y",
         "showticklabels": false
        },
        "yaxis3": {
         "anchor": "x3",
         "domain": [
          0,
          0.485
         ],
         "matches": "y",
         "showticklabels": false
        },
        "yaxis30": {
         "anchor": "x30",
         "domain": [
          0,
          0.485
         ],
         "matches": "y",
         "showticklabels": false
        },
        "yaxis31": {
         "anchor": "x31",
         "domain": [
          0,
          0.485
         ],
         "matches": "y",
         "showticklabels": false
        },
        "yaxis32": {
         "anchor": "x32",
         "domain": [
          0,
          0.485
         ],
         "matches": "y",
         "showticklabels": false
        },
        "yaxis33": {
         "anchor": "x33",
         "domain": [
          0,
          0.485
         ],
         "matches": "y",
         "showticklabels": false
        },
        "yaxis34": {
         "anchor": "x34",
         "domain": [
          0,
          0.485
         ],
         "matches": "y",
         "showticklabels": false
        },
        "yaxis35": {
         "anchor": "x35",
         "domain": [
          0,
          0.485
         ],
         "matches": "y",
         "showticklabels": false
        },
        "yaxis36": {
         "anchor": "x36",
         "domain": [
          0.515,
          1
         ],
         "matches": "y",
         "title": {
          "text": "discomfort"
         }
        },
        "yaxis37": {
         "anchor": "x37",
         "domain": [
          0.515,
          1
         ],
         "matches": "y",
         "showticklabels": false
        },
        "yaxis38": {
         "anchor": "x38",
         "domain": [
          0.515,
          1
         ],
         "matches": "y",
         "showticklabels": false
        },
        "yaxis39": {
         "anchor": "x39",
         "domain": [
          0.515,
          1
         ],
         "matches": "y",
         "showticklabels": false
        },
        "yaxis4": {
         "anchor": "x4",
         "domain": [
          0,
          0.485
         ],
         "matches": "y",
         "showticklabels": false
        },
        "yaxis40": {
         "anchor": "x40",
         "domain": [
          0.515,
          1
         ],
         "matches": "y",
         "showticklabels": false
        },
        "yaxis41": {
         "anchor": "x41",
         "domain": [
          0.515,
          1
         ],
         "matches": "y",
         "showticklabels": false
        },
        "yaxis42": {
         "anchor": "x42",
         "domain": [
          0.515,
          1
         ],
         "matches": "y",
         "showticklabels": false
        },
        "yaxis43": {
         "anchor": "x43",
         "domain": [
          0.515,
          1
         ],
         "matches": "y",
         "showticklabels": false
        },
        "yaxis44": {
         "anchor": "x44",
         "domain": [
          0.515,
          1
         ],
         "matches": "y",
         "showticklabels": false
        },
        "yaxis45": {
         "anchor": "x45",
         "domain": [
          0.515,
          1
         ],
         "matches": "y",
         "showticklabels": false
        },
        "yaxis46": {
         "anchor": "x46",
         "domain": [
          0.515,
          1
         ],
         "matches": "y",
         "showticklabels": false
        },
        "yaxis47": {
         "anchor": "x47",
         "domain": [
          0.515,
          1
         ],
         "matches": "y",
         "showticklabels": false
        },
        "yaxis48": {
         "anchor": "x48",
         "domain": [
          0.515,
          1
         ],
         "matches": "y",
         "showticklabels": false
        },
        "yaxis49": {
         "anchor": "x49",
         "domain": [
          0.515,
          1
         ],
         "matches": "y",
         "showticklabels": false
        },
        "yaxis5": {
         "anchor": "x5",
         "domain": [
          0,
          0.485
         ],
         "matches": "y",
         "showticklabels": false
        },
        "yaxis50": {
         "anchor": "x50",
         "domain": [
          0.515,
          1
         ],
         "matches": "y",
         "showticklabels": false
        },
        "yaxis51": {
         "anchor": "x51",
         "domain": [
          0.515,
          1
         ],
         "matches": "y",
         "showticklabels": false
        },
        "yaxis52": {
         "anchor": "x52",
         "domain": [
          0.515,
          1
         ],
         "matches": "y",
         "showticklabels": false
        },
        "yaxis53": {
         "anchor": "x53",
         "domain": [
          0.515,
          1
         ],
         "matches": "y",
         "showticklabels": false
        },
        "yaxis54": {
         "anchor": "x54",
         "domain": [
          0.515,
          1
         ],
         "matches": "y",
         "showticklabels": false
        },
        "yaxis55": {
         "anchor": "x55",
         "domain": [
          0.515,
          1
         ],
         "matches": "y",
         "showticklabels": false
        },
        "yaxis56": {
         "anchor": "x56",
         "domain": [
          0.515,
          1
         ],
         "matches": "y",
         "showticklabels": false
        },
        "yaxis57": {
         "anchor": "x57",
         "domain": [
          0.515,
          1
         ],
         "matches": "y",
         "showticklabels": false
        },
        "yaxis58": {
         "anchor": "x58",
         "domain": [
          0.515,
          1
         ],
         "matches": "y",
         "showticklabels": false
        },
        "yaxis59": {
         "anchor": "x59",
         "domain": [
          0.515,
          1
         ],
         "matches": "y",
         "showticklabels": false
        },
        "yaxis6": {
         "anchor": "x6",
         "domain": [
          0,
          0.485
         ],
         "matches": "y",
         "showticklabels": false
        },
        "yaxis60": {
         "anchor": "x60",
         "domain": [
          0.515,
          1
         ],
         "matches": "y",
         "showticklabels": false
        },
        "yaxis61": {
         "anchor": "x61",
         "domain": [
          0.515,
          1
         ],
         "matches": "y",
         "showticklabels": false
        },
        "yaxis62": {
         "anchor": "x62",
         "domain": [
          0.515,
          1
         ],
         "matches": "y",
         "showticklabels": false
        },
        "yaxis63": {
         "anchor": "x63",
         "domain": [
          0.515,
          1
         ],
         "matches": "y",
         "showticklabels": false
        },
        "yaxis64": {
         "anchor": "x64",
         "domain": [
          0.515,
          1
         ],
         "matches": "y",
         "showticklabels": false
        },
        "yaxis65": {
         "anchor": "x65",
         "domain": [
          0.515,
          1
         ],
         "matches": "y",
         "showticklabels": false
        },
        "yaxis66": {
         "anchor": "x66",
         "domain": [
          0.515,
          1
         ],
         "matches": "y",
         "showticklabels": false
        },
        "yaxis67": {
         "anchor": "x67",
         "domain": [
          0.515,
          1
         ],
         "matches": "y",
         "showticklabels": false
        },
        "yaxis68": {
         "anchor": "x68",
         "domain": [
          0.515,
          1
         ],
         "matches": "y",
         "showticklabels": false
        },
        "yaxis69": {
         "anchor": "x69",
         "domain": [
          0.515,
          1
         ],
         "matches": "y",
         "showticklabels": false
        },
        "yaxis7": {
         "anchor": "x7",
         "domain": [
          0,
          0.485
         ],
         "matches": "y",
         "showticklabels": false
        },
        "yaxis70": {
         "anchor": "x70",
         "domain": [
          0.515,
          1
         ],
         "matches": "y",
         "showticklabels": false
        },
        "yaxis8": {
         "anchor": "x8",
         "domain": [
          0,
          0.485
         ],
         "matches": "y",
         "showticklabels": false
        },
        "yaxis9": {
         "anchor": "x9",
         "domain": [
          0,
          0.485
         ],
         "matches": "y",
         "showticklabels": false
        }
       }
      }
     },
     "metadata": {},
     "output_type": "display_data"
    }
   ],
   "source": [
    "#plot scaled_ipa vs trial_id for each participant and method\n",
    "fig = px.scatter(mm_nav_data, x='trial_id', y='discomfort', color='trial_id', facet_col='id', facet_row='method')\n",
    "fig.show()"
   ]
  },
  {
   "cell_type": "code",
   "execution_count": 32,
   "metadata": {},
   "outputs": [],
   "source": [
    "endog = mm_nav_data.loc[:, ['scaled_tepr', 'scaled_ipa', 'scaled_seq', 'scaled_discomfort', 'scaled_time']]\n",
    "exog = mm_nav_data.loc[:, ['block', 'method', 'model', 'creation_method', 'target_source', 'trial_id']]"
   ]
  },
  {
   "cell_type": "code",
   "execution_count": 33,
   "metadata": {},
   "outputs": [
    {
     "data": {
      "text/plain": [
       "const             42.00235\n",
       "block              1.00011\n",
       "method             1.00141\n",
       "model              1.00003\n",
       "creation_method    1.00173\n",
       "target_source      1.00141\n",
       "trial_id           1.00013\n",
       "dtype: float64"
      ]
     },
     "execution_count": 33,
     "metadata": {},
     "output_type": "execute_result"
    }
   ],
   "source": [
    "vif = sm.add_constant(exog)\n",
    "vif_value = pd.Series([variance_inflation_factor(vif.values, i) for i in range(vif.shape[1])], index=vif.columns)\n",
    "vif_value"
   ]
  },
  {
   "cell_type": "code",
   "execution_count": 34,
   "metadata": {},
   "outputs": [
    {
     "name": "stderr",
     "output_type": "stream",
     "text": [
      "c:\\Users\\Courtney\\anaconda3\\envs\\path_data\\Lib\\site-packages\\statsmodels\\base\\model.py:607: ConvergenceWarning:\n",
      "\n",
      "Maximum Likelihood optimization failed to converge. Check mle_retvals\n",
      "\n",
      "c:\\Users\\Courtney\\anaconda3\\envs\\path_data\\Lib\\site-packages\\statsmodels\\regression\\mixed_linear_model.py:2201: ConvergenceWarning:\n",
      "\n",
      "Retrying MixedLM optimization with lbfgs\n",
      "\n",
      "c:\\Users\\Courtney\\anaconda3\\envs\\path_data\\Lib\\site-packages\\statsmodels\\regression\\mixed_linear_model.py:2238: ConvergenceWarning:\n",
      "\n",
      "The MLE may be on the boundary of the parameter space.\n",
      "\n"
     ]
    },
    {
     "data": {
      "text/html": [
       "<table class=\"simpletable\">\n",
       "<tr>\n",
       "       <td>Model:</td>       <td>MixedLM</td> <td>Dependent Variable:</td> <td>scaled_discomfort</td>\n",
       "</tr>\n",
       "<tr>\n",
       "  <td>No. Observations:</td>   <td>278</td>         <td>Method:</td>             <td>REML</td>       \n",
       "</tr>\n",
       "<tr>\n",
       "     <td>No. Groups:</td>      <td>35</td>          <td>Scale:</td>             <td>0.1606</td>      \n",
       "</tr>\n",
       "<tr>\n",
       "  <td>Min. group size:</td>     <td>7</td>      <td>Log-Likelihood:</td>       <td>-214.5015</td>    \n",
       "</tr>\n",
       "<tr>\n",
       "  <td>Max. group size:</td>     <td>8</td>        <td>Converged:</td>             <td>Yes</td>       \n",
       "</tr>\n",
       "<tr>\n",
       "  <td>Mean group size:</td>    <td>7.9</td>            <td></td>                   <td></td>         \n",
       "</tr>\n",
       "</table>\n",
       "<table class=\"simpletable\">\n",
       "<tr>\n",
       "            <td></td>            <th>Coef.</th> <th>Std.Err.</th>    <th>z</th>   <th>P>|z|</th> <th>[0.025</th> <th>0.975]</th>\n",
       "</tr>\n",
       "<tr>\n",
       "  <th>Intercept</th>            <td>-0.075</td>   <td>0.154</td>  <td>-0.490</td> <td>0.624</td> <td>-0.377</td>  <td>0.226</td>\n",
       "</tr>\n",
       "<tr>\n",
       "  <th>method</th>                <td>0.065</td>   <td>0.048</td>   <td>1.360</td> <td>0.174</td> <td>-0.029</td>  <td>0.160</td>\n",
       "</tr>\n",
       "<tr>\n",
       "  <th>trial_id</th>              <td>0.026</td>   <td>0.025</td>   <td>1.037</td> <td>0.300</td> <td>-0.023</td>  <td>0.076</td>\n",
       "</tr>\n",
       "<tr>\n",
       "  <th>Group Var</th>             <td>0.752</td>   <td>0.555</td>     <td></td>      <td></td>       <td></td>       <td></td>   \n",
       "</tr>\n",
       "<tr>\n",
       "  <th>Group x trial_id Cov</th>  <td>0.045</td>   <td>0.062</td>     <td></td>      <td></td>       <td></td>       <td></td>   \n",
       "</tr>\n",
       "<tr>\n",
       "  <th>trial_id Var</th>          <td>0.006</td>   <td>0.016</td>     <td></td>      <td></td>       <td></td>       <td></td>   \n",
       "</tr>\n",
       "</table><br/>\n"
      ],
      "text/latex": [
       "\\begin{table}\n",
       "\\caption{Mixed Linear Model Regression Results}\n",
       "\\label{}\n",
       "\\begin{center}\n",
       "\\begin{tabular}{llll}\n",
       "\\hline\n",
       "Model:            & MixedLM & Dependent Variable: & scaled\\_discomfort  \\\\\n",
       "No. Observations: & 278     & Method:             & REML                \\\\\n",
       "No. Groups:       & 35      & Scale:              & 0.1606              \\\\\n",
       "Min. group size:  & 7       & Log-Likelihood:     & -214.5015           \\\\\n",
       "Max. group size:  & 8       & Converged:          & Yes                 \\\\\n",
       "Mean group size:  & 7.9     &                     &                     \\\\\n",
       "\\hline\n",
       "\\end{tabular}\n",
       "\\end{center}\n",
       "\n",
       "\\begin{center}\n",
       "\\begin{tabular}{lrrrrrr}\n",
       "\\hline\n",
       "                      &  Coef. & Std.Err. &      z & P$> |$z$|$ & [0.025 & 0.975]  \\\\\n",
       "\\hline\n",
       "Intercept             & -0.075 &    0.154 & -0.490 &       0.624 & -0.377 &  0.226  \\\\\n",
       "method                &  0.065 &    0.048 &  1.360 &       0.174 & -0.029 &  0.160  \\\\\n",
       "trial\\_id             &  0.026 &    0.025 &  1.037 &       0.300 & -0.023 &  0.076  \\\\\n",
       "Group Var             &  0.752 &    0.555 &        &             &        &         \\\\\n",
       "Group x trial\\_id Cov &  0.045 &    0.062 &        &             &        &         \\\\\n",
       "trial\\_id Var         &  0.006 &    0.016 &        &             &        &         \\\\\n",
       "\\hline\n",
       "\\end{tabular}\n",
       "\\end{center}\n",
       "\\end{table}\n",
       "\\bigskip\n"
      ],
      "text/plain": [
       "<class 'statsmodels.iolib.summary2.Summary'>\n",
       "\"\"\"\n",
       "             Mixed Linear Model Regression Results\n",
       "===============================================================\n",
       "Model:            MixedLM Dependent Variable: scaled_discomfort\n",
       "No. Observations: 278     Method:             REML             \n",
       "No. Groups:       35      Scale:              0.1606           \n",
       "Min. group size:  7       Log-Likelihood:     -214.5015        \n",
       "Max. group size:  8       Converged:          Yes              \n",
       "Mean group size:  7.9                                          \n",
       "---------------------------------------------------------------\n",
       "                     Coef.  Std.Err.   z    P>|z| [0.025 0.975]\n",
       "---------------------------------------------------------------\n",
       "Intercept            -0.075    0.154 -0.490 0.624 -0.377  0.226\n",
       "method                0.065    0.048  1.360 0.174 -0.029  0.160\n",
       "trial_id              0.026    0.025  1.037 0.300 -0.023  0.076\n",
       "Group Var             0.752    0.555                           \n",
       "Group x trial_id Cov  0.045    0.062                           \n",
       "trial_id Var          0.006    0.016                           \n",
       "===============================================================\n",
       "\n",
       "\"\"\""
      ]
     },
     "execution_count": 34,
     "metadata": {},
     "output_type": "execute_result"
    }
   ],
   "source": [
    "md_discomfort_full = smf.mixedlm(\"scaled_discomfort ~ method + trial_id\" , mm_nav_data, groups=mm_nav_data[\"id\"], re_formula=\"~1 + trial_id\")\n",
    "mdf_discomfort_full = md_discomfort_full.fit()\n",
    "mdf_discomfort_full.summary()"
   ]
  },
  {
   "cell_type": "markdown",
   "metadata": {},
   "source": [
    "## Creation Linear Mixed Models"
   ]
  },
  {
   "cell_type": "code",
   "execution_count": 35,
   "metadata": {},
   "outputs": [
    {
     "data": {
      "text/html": [
       "<div>\n",
       "<style scoped>\n",
       "    .dataframe tbody tr th:only-of-type {\n",
       "        vertical-align: middle;\n",
       "    }\n",
       "\n",
       "    .dataframe tbody tr th {\n",
       "        vertical-align: top;\n",
       "    }\n",
       "\n",
       "    .dataframe thead th {\n",
       "        text-align: right;\n",
       "    }\n",
       "</style>\n",
       "<table border=\"1\" class=\"dataframe\">\n",
       "  <thead>\n",
       "    <tr style=\"text-align: right;\">\n",
       "      <th></th>\n",
       "      <th>id</th>\n",
       "      <th>block</th>\n",
       "      <th>model</th>\n",
       "      <th>method</th>\n",
       "      <th>trial_id</th>\n",
       "      <th>task_trial_id</th>\n",
       "      <th>luminance</th>\n",
       "      <th>pupilDiameter</th>\n",
       "      <th>pupil_lum_base</th>\n",
       "      <th>adj_pupil</th>\n",
       "      <th>...</th>\n",
       "      <th>Move</th>\n",
       "      <th>Draw</th>\n",
       "      <th>Erase</th>\n",
       "      <th>PointDeleted</th>\n",
       "      <th>scaled_tepr</th>\n",
       "      <th>scaled_ipa</th>\n",
       "      <th>scaled_time</th>\n",
       "      <th>scaled_seq</th>\n",
       "      <th>total_interactions</th>\n",
       "      <th>scaled_interactions</th>\n",
       "    </tr>\n",
       "  </thead>\n",
       "  <tbody>\n",
       "    <tr>\n",
       "      <th>0</th>\n",
       "      <td>108</td>\n",
       "      <td>0</td>\n",
       "      <td>0</td>\n",
       "      <td>3</td>\n",
       "      <td>2</td>\n",
       "      <td>6.00000</td>\n",
       "      <td>0.28084</td>\n",
       "      <td>4.40283</td>\n",
       "      <td>3.65164</td>\n",
       "      <td>0.75118</td>\n",
       "      <td>...</td>\n",
       "      <td>6</td>\n",
       "      <td>0</td>\n",
       "      <td>0</td>\n",
       "      <td>0</td>\n",
       "      <td>0.58728</td>\n",
       "      <td>-0.98046</td>\n",
       "      <td>0.98348</td>\n",
       "      <td>0.21515</td>\n",
       "      <td>25</td>\n",
       "      <td>0.99703</td>\n",
       "    </tr>\n",
       "    <tr>\n",
       "      <th>1</th>\n",
       "      <td>108</td>\n",
       "      <td>0</td>\n",
       "      <td>0</td>\n",
       "      <td>2</td>\n",
       "      <td>0</td>\n",
       "      <td>0.00000</td>\n",
       "      <td>0.25939</td>\n",
       "      <td>5.10438</td>\n",
       "      <td>3.71714</td>\n",
       "      <td>1.38724</td>\n",
       "      <td>...</td>\n",
       "      <td>0</td>\n",
       "      <td>4</td>\n",
       "      <td>0</td>\n",
       "      <td>0</td>\n",
       "      <td>2.55406</td>\n",
       "      <td>-1.05577</td>\n",
       "      <td>0.12544</td>\n",
       "      <td>1.23621</td>\n",
       "      <td>4</td>\n",
       "      <td>-0.61135</td>\n",
       "    </tr>\n",
       "    <tr>\n",
       "      <th>2</th>\n",
       "      <td>108</td>\n",
       "      <td>0</td>\n",
       "      <td>1</td>\n",
       "      <td>3</td>\n",
       "      <td>0</td>\n",
       "      <td>4.00000</td>\n",
       "      <td>0.32082</td>\n",
       "      <td>4.18903</td>\n",
       "      <td>3.54098</td>\n",
       "      <td>0.64805</td>\n",
       "      <td>...</td>\n",
       "      <td>3</td>\n",
       "      <td>0</td>\n",
       "      <td>0</td>\n",
       "      <td>0</td>\n",
       "      <td>0.26837</td>\n",
       "      <td>-0.60145</td>\n",
       "      <td>0.90881</td>\n",
       "      <td>1.23621</td>\n",
       "      <td>20</td>\n",
       "      <td>0.61408</td>\n",
       "    </tr>\n",
       "    <tr>\n",
       "      <th>3</th>\n",
       "      <td>108</td>\n",
       "      <td>0</td>\n",
       "      <td>1</td>\n",
       "      <td>2</td>\n",
       "      <td>1</td>\n",
       "      <td>1.00000</td>\n",
       "      <td>0.26331</td>\n",
       "      <td>4.83574</td>\n",
       "      <td>3.71454</td>\n",
       "      <td>1.12120</td>\n",
       "      <td>...</td>\n",
       "      <td>0</td>\n",
       "      <td>4</td>\n",
       "      <td>0</td>\n",
       "      <td>0</td>\n",
       "      <td>1.73143</td>\n",
       "      <td>-0.03982</td>\n",
       "      <td>-0.41354</td>\n",
       "      <td>1.23621</td>\n",
       "      <td>4</td>\n",
       "      <td>-0.61135</td>\n",
       "    </tr>\n",
       "    <tr>\n",
       "      <th>4</th>\n",
       "      <td>108</td>\n",
       "      <td>0</td>\n",
       "      <td>2</td>\n",
       "      <td>3</td>\n",
       "      <td>1</td>\n",
       "      <td>5.00000</td>\n",
       "      <td>0.23760</td>\n",
       "      <td>4.37592</td>\n",
       "      <td>3.78364</td>\n",
       "      <td>0.59229</td>\n",
       "      <td>...</td>\n",
       "      <td>1</td>\n",
       "      <td>0</td>\n",
       "      <td>0</td>\n",
       "      <td>0</td>\n",
       "      <td>0.09596</td>\n",
       "      <td>1.09551</td>\n",
       "      <td>-0.51014</td>\n",
       "      <td>0.21515</td>\n",
       "      <td>13</td>\n",
       "      <td>0.07796</td>\n",
       "    </tr>\n",
       "    <tr>\n",
       "      <th>...</th>\n",
       "      <td>...</td>\n",
       "      <td>...</td>\n",
       "      <td>...</td>\n",
       "      <td>...</td>\n",
       "      <td>...</td>\n",
       "      <td>...</td>\n",
       "      <td>...</td>\n",
       "      <td>...</td>\n",
       "      <td>...</td>\n",
       "      <td>...</td>\n",
       "      <td>...</td>\n",
       "      <td>...</td>\n",
       "      <td>...</td>\n",
       "      <td>...</td>\n",
       "      <td>...</td>\n",
       "      <td>...</td>\n",
       "      <td>...</td>\n",
       "      <td>...</td>\n",
       "      <td>...</td>\n",
       "      <td>...</td>\n",
       "      <td>...</td>\n",
       "    </tr>\n",
       "    <tr>\n",
       "      <th>275</th>\n",
       "      <td>150</td>\n",
       "      <td>2</td>\n",
       "      <td>1</td>\n",
       "      <td>2</td>\n",
       "      <td>3</td>\n",
       "      <td>7.00000</td>\n",
       "      <td>0.29231</td>\n",
       "      <td>3.51755</td>\n",
       "      <td>2.88291</td>\n",
       "      <td>0.63464</td>\n",
       "      <td>...</td>\n",
       "      <td>0</td>\n",
       "      <td>3</td>\n",
       "      <td>0</td>\n",
       "      <td>0</td>\n",
       "      <td>0.22691</td>\n",
       "      <td>-0.58177</td>\n",
       "      <td>-0.84147</td>\n",
       "      <td>-0.80591</td>\n",
       "      <td>3</td>\n",
       "      <td>-0.68794</td>\n",
       "    </tr>\n",
       "    <tr>\n",
       "      <th>276</th>\n",
       "      <td>150</td>\n",
       "      <td>2</td>\n",
       "      <td>2</td>\n",
       "      <td>3</td>\n",
       "      <td>0</td>\n",
       "      <td>0.00000</td>\n",
       "      <td>0.25859</td>\n",
       "      <td>3.53742</td>\n",
       "      <td>2.92111</td>\n",
       "      <td>0.61632</td>\n",
       "      <td>...</td>\n",
       "      <td>9</td>\n",
       "      <td>0</td>\n",
       "      <td>0</td>\n",
       "      <td>0</td>\n",
       "      <td>0.17026</td>\n",
       "      <td>-0.29353</td>\n",
       "      <td>0.01711</td>\n",
       "      <td>-0.80591</td>\n",
       "      <td>17</td>\n",
       "      <td>0.38432</td>\n",
       "    </tr>\n",
       "    <tr>\n",
       "      <th>277</th>\n",
       "      <td>150</td>\n",
       "      <td>2</td>\n",
       "      <td>2</td>\n",
       "      <td>2</td>\n",
       "      <td>2</td>\n",
       "      <td>6.00000</td>\n",
       "      <td>0.19879</td>\n",
       "      <td>3.74652</td>\n",
       "      <td>3.03389</td>\n",
       "      <td>0.71263</td>\n",
       "      <td>...</td>\n",
       "      <td>0</td>\n",
       "      <td>1</td>\n",
       "      <td>0</td>\n",
       "      <td>0</td>\n",
       "      <td>0.46808</td>\n",
       "      <td>-0.97863</td>\n",
       "      <td>-0.95860</td>\n",
       "      <td>-0.80591</td>\n",
       "      <td>1</td>\n",
       "      <td>-0.84112</td>\n",
       "    </tr>\n",
       "    <tr>\n",
       "      <th>278</th>\n",
       "      <td>150</td>\n",
       "      <td>2</td>\n",
       "      <td>3</td>\n",
       "      <td>3</td>\n",
       "      <td>1</td>\n",
       "      <td>1.00000</td>\n",
       "      <td>0.24873</td>\n",
       "      <td>3.38277</td>\n",
       "      <td>2.93593</td>\n",
       "      <td>0.44684</td>\n",
       "      <td>...</td>\n",
       "      <td>0</td>\n",
       "      <td>0</td>\n",
       "      <td>0</td>\n",
       "      <td>0</td>\n",
       "      <td>-0.35378</td>\n",
       "      <td>-0.05591</td>\n",
       "      <td>-0.80182</td>\n",
       "      <td>-0.80591</td>\n",
       "      <td>6</td>\n",
       "      <td>-0.45817</td>\n",
       "    </tr>\n",
       "    <tr>\n",
       "      <th>279</th>\n",
       "      <td>150</td>\n",
       "      <td>2</td>\n",
       "      <td>3</td>\n",
       "      <td>2</td>\n",
       "      <td>0</td>\n",
       "      <td>4.00000</td>\n",
       "      <td>0.22071</td>\n",
       "      <td>3.72317</td>\n",
       "      <td>2.98590</td>\n",
       "      <td>0.73726</td>\n",
       "      <td>...</td>\n",
       "      <td>0</td>\n",
       "      <td>2</td>\n",
       "      <td>0</td>\n",
       "      <td>0</td>\n",
       "      <td>0.54424</td>\n",
       "      <td>-0.48548</td>\n",
       "      <td>-1.05157</td>\n",
       "      <td>-0.80591</td>\n",
       "      <td>2</td>\n",
       "      <td>-0.76453</td>\n",
       "    </tr>\n",
       "  </tbody>\n",
       "</table>\n",
       "<p>280 rows × 25 columns</p>\n",
       "</div>"
      ],
      "text/plain": [
       "      id  block  model  method  trial_id task_trial_id  luminance  \\\n",
       "0    108      0      0       3         2       6.00000    0.28084   \n",
       "1    108      0      0       2         0       0.00000    0.25939   \n",
       "2    108      0      1       3         0       4.00000    0.32082   \n",
       "3    108      0      1       2         1       1.00000    0.26331   \n",
       "4    108      0      2       3         1       5.00000    0.23760   \n",
       "..   ...    ...    ...     ...       ...           ...        ...   \n",
       "275  150      2      1       2         3       7.00000    0.29231   \n",
       "276  150      2      2       3         0       0.00000    0.25859   \n",
       "277  150      2      2       2         2       6.00000    0.19879   \n",
       "278  150      2      3       3         1       1.00000    0.24873   \n",
       "279  150      2      3       2         0       4.00000    0.22071   \n",
       "\n",
       "     pupilDiameter  pupil_lum_base  adj_pupil  ...  Move  Draw  Erase  \\\n",
       "0          4.40283         3.65164    0.75118  ...     6     0      0   \n",
       "1          5.10438         3.71714    1.38724  ...     0     4      0   \n",
       "2          4.18903         3.54098    0.64805  ...     3     0      0   \n",
       "3          4.83574         3.71454    1.12120  ...     0     4      0   \n",
       "4          4.37592         3.78364    0.59229  ...     1     0      0   \n",
       "..             ...             ...        ...  ...   ...   ...    ...   \n",
       "275        3.51755         2.88291    0.63464  ...     0     3      0   \n",
       "276        3.53742         2.92111    0.61632  ...     9     0      0   \n",
       "277        3.74652         3.03389    0.71263  ...     0     1      0   \n",
       "278        3.38277         2.93593    0.44684  ...     0     0      0   \n",
       "279        3.72317         2.98590    0.73726  ...     0     2      0   \n",
       "\n",
       "     PointDeleted  scaled_tepr  scaled_ipa  scaled_time  scaled_seq  \\\n",
       "0               0      0.58728    -0.98046      0.98348     0.21515   \n",
       "1               0      2.55406    -1.05577      0.12544     1.23621   \n",
       "2               0      0.26837    -0.60145      0.90881     1.23621   \n",
       "3               0      1.73143    -0.03982     -0.41354     1.23621   \n",
       "4               0      0.09596     1.09551     -0.51014     0.21515   \n",
       "..            ...          ...         ...          ...         ...   \n",
       "275             0      0.22691    -0.58177     -0.84147    -0.80591   \n",
       "276             0      0.17026    -0.29353      0.01711    -0.80591   \n",
       "277             0      0.46808    -0.97863     -0.95860    -0.80591   \n",
       "278             0     -0.35378    -0.05591     -0.80182    -0.80591   \n",
       "279             0      0.54424    -0.48548     -1.05157    -0.80591   \n",
       "\n",
       "     total_interactions  scaled_interactions  \n",
       "0                    25              0.99703  \n",
       "1                     4             -0.61135  \n",
       "2                    20              0.61408  \n",
       "3                     4             -0.61135  \n",
       "4                    13              0.07796  \n",
       "..                  ...                  ...  \n",
       "275                   3             -0.68794  \n",
       "276                  17              0.38432  \n",
       "277                   1             -0.84112  \n",
       "278                   6             -0.45817  \n",
       "279                   2             -0.76453  \n",
       "\n",
       "[280 rows x 25 columns]"
      ]
     },
     "execution_count": 35,
     "metadata": {},
     "output_type": "execute_result"
    }
   ],
   "source": [
    "mm_crt_data = user_data_crt\n",
    "mm_crt_data = mm_crt_data.reset_index(level=(0,1,2, 3))\n",
    "\n",
    "mm_crt_data['block'] = mm_crt_data['block'].astype(block_cats).cat.codes\n",
    "mm_crt_data['method'] = mm_crt_data['method'].astype(method_cats).cat.codes\n",
    "mm_crt_data['model'] = mm_crt_data['model'].astype(model_cats).cat.codes\n",
    "mm_crt_data['target_id'] = mm_crt_data['target_id'].astype(int)\n",
    "mm_crt_data['trial_id'] = mm_crt_data['trial_id'].astype(int)\n",
    "mm_crt_data['scaled_tepr'] = stats.zscore(mm_crt_data['adj_pupil']).astype('float64')\n",
    "mm_crt_data['scaled_ipa'] = stats.zscore(mm_crt_data['IPA']).astype('float64')\n",
    "mm_crt_data['scaled_time'] = stats.zscore(mm_crt_data['total_time']).astype('float64')\n",
    "mm_crt_data['scaled_seq'] = stats.zscore(mm_crt_data['seq']).astype('float64')\n",
    "mm_crt_data['total_interactions'] = mm_crt_data['Draw'] + mm_crt_data['Erase'] + mm_crt_data['PointPlaced'] + mm_crt_data['Move'] + mm_crt_data['PointDeleted']\n",
    "mm_crt_data['scaled_interactions']  = stats.zscore(mm_crt_data['total_interactions']).astype('float64')\n",
    "\n",
    "pd.options.display.float_format = '{:.5f}'.format\n",
    "mm_crt_data"
   ]
  }
 ],
 "metadata": {
  "kernelspec": {
   "display_name": ".venv",
   "language": "python",
   "name": "python3"
  },
  "language_info": {
   "codemirror_mode": {
    "name": "ipython",
    "version": 3
   },
   "file_extension": ".py",
   "mimetype": "text/x-python",
   "name": "python",
   "nbconvert_exporter": "python",
   "pygments_lexer": "ipython3",
   "version": "3.12.2"
  }
 },
 "nbformat": 4,
 "nbformat_minor": 2
}
