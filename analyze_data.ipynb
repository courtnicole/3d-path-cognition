{
 "cells": [
  {
   "cell_type": "markdown",
   "metadata": {},
   "source": [
    "## Imports"
   ]
  },
  {
   "cell_type": "code",
   "execution_count": 269,
   "metadata": {},
   "outputs": [],
   "source": [
    "import numpy as np\n",
    "import pandas as pd\n",
    "import pywt \n",
    "from scipy import stats\n",
    "import plotly.express as px\n",
    "import plotly.graph_objects as go\n",
    "from plotly.subplots import make_subplots\n",
    "import math\n",
    "from pandas.api.types import CategoricalDtype\n",
    "from collections import Counter"
   ]
  },
  {
   "cell_type": "markdown",
   "metadata": {},
   "source": [
    "#### Task Evoked Pupillary Response (TEPR)"
   ]
  },
  {
   "cell_type": "markdown",
   "metadata": {},
   "source": [
    "Task evoked pupillary response (TEPR) is calculated after correcting for luminance-induced pupil dilation: $𝑇𝐸𝑃𝑅 = 𝑑_m − 𝑑(𝑌)$, where $d_m$ is the measured pupil dilation, and $d(Y)$ is the predicted pupil dilation for the given luminance level. \n",
    "\n",
    "Predicted pupil dilation is calculated from a calibration sequence that produces and individual mapping model for each participant. The calibration sequence consists of 8 solid gray colors with varying luminance levels displayed in a psuedo-random order for 6 seconds each. The luminance levels span the range from 0.0 to 0.78, and for each calibration level, the first 0.5s of data is discarded to account for the initial pupillary response to the change in luminance, which can take a maximum of 0.5s. . The individual mapping model is calculated using a non-linear least squares regression to fit the equation $𝑑(𝑌) = 𝑎 · 𝑒^{−𝑏·𝑌} + c$ to the measured pupil dilation data for each participant. \n",
    "\n",
    "Pupil dilation data and the average luminance data were collected at 90 Hz, the display rate of the HMD.\n",
    "\n",
    "See: Eckert, M., Robotham, T., Habets, E. A. P., and Rummukainen, O. S. (2022). Pupillary Light Reflex Correction for Robust Pupillometry in Virtual Reality. Proc. ACM Comput. Graph. Interact. Tech. 5, 1–16. doi: 10.1145/3530798"
   ]
  },
  {
   "cell_type": "code",
   "execution_count": 270,
   "metadata": {},
   "outputs": [],
   "source": [
    "def pupil_func(x, a, b, c):\n",
    "    return a * np.exp(-b * x) + c"
   ]
  },
  {
   "cell_type": "markdown",
   "metadata": {},
   "source": [
    "#### Index of Pupillary Activity (IPA)"
   ]
  },
  {
   "cell_type": "markdown",
   "metadata": {},
   "source": [
    "The frequency of pupil diameter oscilation over time is an indicator of cognitive load measured as the index of pupillary activity (IPA). It is an open-source alternative to the Index of Cognitive Activity. The IPA is implemented as described in the original paper, using a wavelet decomposition of the pupil diameter. The wavelet function is symlet4, because the signal was sampled at 90 Hz (rather than 250 Hz, as in the original paper).  "
   ]
  },
  {
   "cell_type": "markdown",
   "metadata": {},
   "source": [
    "See: \n",
    "Duchowski, A. T., Krejtz, K., Krejtz, I., Biele, C., Niedzielska, A., Kiefer, P., Raubal, M., and Giannopoulos, I. (2018). The Index of Pupillary Activity: Measuring Cognitive Load vis-à-vis Task Difficulty with Pupil Oscillation. Proc. ACM Hum.-Comput. Interact. 2, 282:1–282:13. doi: 10.1145/3173574.3173856"
   ]
  },
  {
   "cell_type": "code",
   "execution_count": 271,
   "metadata": {},
   "outputs": [],
   "source": [
    "def modmax(d):\n",
    "    # compute signal modulus\n",
    "    m = [0.0]*len(d)\n",
    "    for i in range(len(d)):\n",
    "        m[i] = math.fabs(d[i])\n",
    "    # if value is larger than both neighbours, and strictly larger than either, then it is a local maximum\n",
    "    t = [0.0]*len(d)\n",
    "    for i in range(len(d)):\n",
    "        ll = m[i -1] if i >= 1 else m[i]\n",
    "        oo = m[i]\n",
    "        rr = m[i+1] if i < len(d)-2 else m[i]\n",
    "        if (ll <= oo and oo >= rr) and (ll < oo or oo > rr):\n",
    "        # compute magnitude\n",
    "            t[i] = math.sqrt(d[i]**2)\n",
    "        else:\n",
    "            t[i] = 0.0\n",
    "    return t"
   ]
  },
  {
   "cell_type": "code",
   "execution_count": 272,
   "metadata": {},
   "outputs": [],
   "source": [
    "def ipa_func(d):\n",
    "    # obtain 2-level DWT of pupil diameter signal d\n",
    "    try:\n",
    "        (cA2 ,cD2 ,cD1) = pywt.wavedec(d,'sym4', 'per', level=2)\n",
    "    except ValueError :\n",
    "        return\n",
    "    # get signal duration (in seconds)\n",
    "    tt = d.index[-1] - d.index[0]\n",
    "\n",
    "    # normalize by 1/2 j , j = 2 for 2-level DWT\n",
    "    cA2 [:] = [x / math.sqrt (4.0) for x in cA2]\n",
    "    cD1 [:] = [x / math.sqrt (2.0) for x in cD1]\n",
    "    cD2 [:] = [x / math.sqrt (4.0) for x in cD2]\n",
    "\n",
    "    # detect modulus maxima\n",
    "    cD2m = modmax(cD2)\n",
    "\n",
    "    # threshold using universal threshold λuniv = σˆp(2logn)\n",
    "    # where σˆ is the standard deviation of the noise\n",
    "    univ = np.std(cD2m) * math.sqrt (2.0* np.log2(len(cD2m )))\n",
    "    cD2t = pywt.threshold(cD2m, univ, mode=\"hard\")\n",
    "\n",
    "    # compute IPA\n",
    "    ctr = 0\n",
    "    for i in range(len(cD2t )):\n",
    "        if math.fabs(cD2t[i]) > 0: ctr += 1\n",
    "    IPA = float(ctr)/tt.total_seconds()\n",
    "\n",
    "    return IPA"
   ]
  },
  {
   "cell_type": "markdown",
   "metadata": {},
   "source": [
    "## Statistical Functions"
   ]
  },
  {
   "cell_type": "code",
   "execution_count": 273,
   "metadata": {},
   "outputs": [],
   "source": [
    "def iqr_outlier_indices(data):\n",
    "    q1 = data.quantile(.25)\n",
    "    q3 = data.quantile(.75)\n",
    "    iqr = stats.iqr(data, nan_policy='omit', rng=(25, 75))\n",
    "    return np.where((data < (q1 - 1.5 * iqr)) | (data > (q3 + 1.5 * iqr)))"
   ]
  },
  {
   "cell_type": "code",
   "execution_count": 274,
   "metadata": {},
   "outputs": [],
   "source": [
    "def iqr_stats(data):\n",
    "    q1 = np.percentile(data, 25)\n",
    "    q3 = np.percentile(data, 75)\n",
    "    iqr = stats.iqr(data, nan_policy='omit', rng=(25, 75))\n",
    "    return iqr, q1, q3"
   ]
  },
  {
   "cell_type": "code",
   "execution_count": 275,
   "metadata": {},
   "outputs": [],
   "source": [
    "def get_results_colors(np, wp, tp):\n",
    "    pastels = px.colors.qualitative.Pastel2\n",
    "    default_color = 'white'\n",
    "    significant_color = pastels[0]\n",
    "    non_significant_color = pastels[3]\n",
    "\n",
    "    normal_color = non_significant_color if np < 0.05 else significant_color\n",
    "    wilcox_color = default_color\n",
    "    ttest_color = default_color\n",
    "    if np < 0.05:\n",
    "        wilcox_color = significant_color if wp < 0.05 else non_significant_color\n",
    "    else:\n",
    "        ttest_color = significant_color if tp < 0.05 else non_significant_color\n",
    "\n",
    "    fill_color = [[default_color, default_color, default_color],\n",
    "                  [default_color, wilcox_color, ttest_color] , \n",
    "                  [normal_color, wilcox_color, ttest_color]]\n",
    "    \n",
    "    return fill_color"
   ]
  },
  {
   "cell_type": "code",
   "execution_count": 276,
   "metadata": {},
   "outputs": [],
   "source": [
    "def calculate_entropy(signal):\n",
    "    coeff = pywt.wavedec(signal, 'sym8', 'per')\n",
    "    counter_values = Counter(coeff).most_common()\n",
    "    probabilities = [elem[1]/len(coeff) for elem in counter_values]\n",
    "    entropy= stats.entropy(probabilities)\n",
    "    return entropy"
   ]
  },
  {
   "cell_type": "markdown",
   "metadata": {},
   "source": [
    "## Import Data"
   ]
  },
  {
   "cell_type": "code",
   "execution_count": 277,
   "metadata": {},
   "outputs": [],
   "source": [
    "user_data_nav = pd.read_pickle('user_data_nav.pkl')\n",
    "user_data_crt = pd.read_pickle('user_data_crt.pkl')\n",
    "participant_data = pd.read_pickle('participant_data.pkl')"
   ]
  },
  {
   "cell_type": "markdown",
   "metadata": {},
   "source": [
    "### Dataframe Structure"
   ]
  },
  {
   "cell_type": "code",
   "execution_count": 278,
   "metadata": {},
   "outputs": [
    {
     "data": {
      "text/html": [
       "<div>\n",
       "<style scoped>\n",
       "    .dataframe tbody tr th:only-of-type {\n",
       "        vertical-align: middle;\n",
       "    }\n",
       "\n",
       "    .dataframe tbody tr th {\n",
       "        vertical-align: top;\n",
       "    }\n",
       "\n",
       "    .dataframe thead th {\n",
       "        text-align: right;\n",
       "    }\n",
       "</style>\n",
       "<table border=\"1\" class=\"dataframe\">\n",
       "  <thead>\n",
       "    <tr style=\"text-align: right;\">\n",
       "      <th></th>\n",
       "      <th></th>\n",
       "      <th></th>\n",
       "      <th></th>\n",
       "      <th>trial_id</th>\n",
       "      <th>task_trial_id</th>\n",
       "      <th>luminance</th>\n",
       "      <th>pupilDiameter</th>\n",
       "      <th>pupil_lum_base</th>\n",
       "      <th>adj_pupil</th>\n",
       "      <th>total_time</th>\n",
       "      <th>target_source</th>\n",
       "      <th>creation_method</th>\n",
       "      <th>IPA</th>\n",
       "      <th>discomfort</th>\n",
       "      <th>seq</th>\n",
       "    </tr>\n",
       "    <tr>\n",
       "      <th>id</th>\n",
       "      <th>block</th>\n",
       "      <th>model</th>\n",
       "      <th>method</th>\n",
       "      <th></th>\n",
       "      <th></th>\n",
       "      <th></th>\n",
       "      <th></th>\n",
       "      <th></th>\n",
       "      <th></th>\n",
       "      <th></th>\n",
       "      <th></th>\n",
       "      <th></th>\n",
       "      <th></th>\n",
       "      <th></th>\n",
       "      <th></th>\n",
       "    </tr>\n",
       "  </thead>\n",
       "  <tbody>\n",
       "    <tr>\n",
       "      <th rowspan=\"5\" valign=\"top\">108</th>\n",
       "      <th rowspan=\"5\" valign=\"top\">0</th>\n",
       "      <th rowspan=\"2\" valign=\"top\">A</th>\n",
       "      <th>4DoF</th>\n",
       "      <td>3.0</td>\n",
       "      <td>7.0</td>\n",
       "      <td>0.224356</td>\n",
       "      <td>4.866458</td>\n",
       "      <td>3.831577</td>\n",
       "      <td>1.034881</td>\n",
       "      <td>37.0822</td>\n",
       "      <td>1</td>\n",
       "      <td>unimanual</td>\n",
       "      <td>0.242846</td>\n",
       "      <td>2</td>\n",
       "      <td>0</td>\n",
       "    </tr>\n",
       "    <tr>\n",
       "      <th>6DoF</th>\n",
       "      <td>1.0</td>\n",
       "      <td>5.0</td>\n",
       "      <td>0.225511</td>\n",
       "      <td>4.359483</td>\n",
       "      <td>3.829147</td>\n",
       "      <td>0.530336</td>\n",
       "      <td>61.0043</td>\n",
       "      <td>2</td>\n",
       "      <td>bimanual</td>\n",
       "      <td>0.114788</td>\n",
       "      <td>1</td>\n",
       "      <td>0</td>\n",
       "    </tr>\n",
       "    <tr>\n",
       "      <th rowspan=\"2\" valign=\"top\">B</th>\n",
       "      <th>4DoF</th>\n",
       "      <td>2.0</td>\n",
       "      <td>6.0</td>\n",
       "      <td>0.242239</td>\n",
       "      <td>4.650883</td>\n",
       "      <td>3.771303</td>\n",
       "      <td>0.879580</td>\n",
       "      <td>67.7005</td>\n",
       "      <td>1</td>\n",
       "      <td>unimanual</td>\n",
       "      <td>0.162532</td>\n",
       "      <td>1</td>\n",
       "      <td>0</td>\n",
       "    </tr>\n",
       "    <tr>\n",
       "      <th>6DoF</th>\n",
       "      <td>3.0</td>\n",
       "      <td>7.0</td>\n",
       "      <td>0.256185</td>\n",
       "      <td>4.437137</td>\n",
       "      <td>3.746679</td>\n",
       "      <td>0.690458</td>\n",
       "      <td>96.4316</td>\n",
       "      <td>2</td>\n",
       "      <td>bimanual</td>\n",
       "      <td>0.124469</td>\n",
       "      <td>1</td>\n",
       "      <td>0</td>\n",
       "    </tr>\n",
       "    <tr>\n",
       "      <th>C</th>\n",
       "      <th>4DoF</th>\n",
       "      <td>0.0</td>\n",
       "      <td>4.0</td>\n",
       "      <td>0.223505</td>\n",
       "      <td>4.658904</td>\n",
       "      <td>3.852900</td>\n",
       "      <td>0.806004</td>\n",
       "      <td>88.0356</td>\n",
       "      <td>1</td>\n",
       "      <td>unimanual</td>\n",
       "      <td>0.136342</td>\n",
       "      <td>1</td>\n",
       "      <td>1</td>\n",
       "    </tr>\n",
       "  </tbody>\n",
       "</table>\n",
       "</div>"
      ],
      "text/plain": [
       "                       trial_id task_trial_id  luminance  pupilDiameter  \\\n",
       "id  block model method                                                    \n",
       "108 0     A     4DoF        3.0           7.0   0.224356       4.866458   \n",
       "                6DoF        1.0           5.0   0.225511       4.359483   \n",
       "          B     4DoF        2.0           6.0   0.242239       4.650883   \n",
       "                6DoF        3.0           7.0   0.256185       4.437137   \n",
       "          C     4DoF        0.0           4.0   0.223505       4.658904   \n",
       "\n",
       "                        pupil_lum_base  adj_pupil  total_time target_source  \\\n",
       "id  block model method                                                        \n",
       "108 0     A     4DoF          3.831577   1.034881     37.0822             1   \n",
       "                6DoF          3.829147   0.530336     61.0043             2   \n",
       "          B     4DoF          3.771303   0.879580     67.7005             1   \n",
       "                6DoF          3.746679   0.690458     96.4316             2   \n",
       "          C     4DoF          3.852900   0.806004     88.0356             1   \n",
       "\n",
       "                       creation_method       IPA  discomfort  seq  \n",
       "id  block model method                                             \n",
       "108 0     A     4DoF         unimanual  0.242846           2    0  \n",
       "                6DoF          bimanual  0.114788           1    0  \n",
       "          B     4DoF         unimanual  0.162532           1    0  \n",
       "                6DoF          bimanual  0.124469           1    0  \n",
       "          C     4DoF         unimanual  0.136342           1    1  "
      ]
     },
     "execution_count": 278,
     "metadata": {},
     "output_type": "execute_result"
    }
   ],
   "source": [
    "user_data_nav.head()"
   ]
  },
  {
   "cell_type": "code",
   "execution_count": 279,
   "metadata": {},
   "outputs": [
    {
     "data": {
      "text/html": [
       "<div>\n",
       "<style scoped>\n",
       "    .dataframe tbody tr th:only-of-type {\n",
       "        vertical-align: middle;\n",
       "    }\n",
       "\n",
       "    .dataframe tbody tr th {\n",
       "        vertical-align: top;\n",
       "    }\n",
       "\n",
       "    .dataframe thead th {\n",
       "        text-align: right;\n",
       "    }\n",
       "</style>\n",
       "<table border=\"1\" class=\"dataframe\">\n",
       "  <thead>\n",
       "    <tr style=\"text-align: right;\">\n",
       "      <th></th>\n",
       "      <th>luminance</th>\n",
       "      <th>pupilDiameter</th>\n",
       "      <th>pupil_lum_base</th>\n",
       "      <th>adj_pupil</th>\n",
       "      <th>total_time</th>\n",
       "      <th>IPA</th>\n",
       "      <th>discomfort</th>\n",
       "      <th>seq</th>\n",
       "    </tr>\n",
       "  </thead>\n",
       "  <tbody>\n",
       "    <tr>\n",
       "      <th>count</th>\n",
       "      <td>286.000000</td>\n",
       "      <td>286.000000</td>\n",
       "      <td>286.000000</td>\n",
       "      <td>286.000000</td>\n",
       "      <td>286.000000</td>\n",
       "      <td>286.000000</td>\n",
       "      <td>286.000000</td>\n",
       "      <td>286.000000</td>\n",
       "    </tr>\n",
       "    <tr>\n",
       "      <th>mean</th>\n",
       "      <td>0.227217</td>\n",
       "      <td>3.659042</td>\n",
       "      <td>3.214781</td>\n",
       "      <td>0.444261</td>\n",
       "      <td>67.618892</td>\n",
       "      <td>0.175448</td>\n",
       "      <td>2.461538</td>\n",
       "      <td>0.657343</td>\n",
       "    </tr>\n",
       "    <tr>\n",
       "      <th>std</th>\n",
       "      <td>0.021321</td>\n",
       "      <td>0.526402</td>\n",
       "      <td>0.474457</td>\n",
       "      <td>0.301660</td>\n",
       "      <td>28.407818</td>\n",
       "      <td>0.056267</td>\n",
       "      <td>2.527794</td>\n",
       "      <td>0.851046</td>\n",
       "    </tr>\n",
       "    <tr>\n",
       "      <th>min</th>\n",
       "      <td>0.158152</td>\n",
       "      <td>2.448724</td>\n",
       "      <td>2.170120</td>\n",
       "      <td>-0.354323</td>\n",
       "      <td>24.187100</td>\n",
       "      <td>0.044233</td>\n",
       "      <td>0.000000</td>\n",
       "      <td>0.000000</td>\n",
       "    </tr>\n",
       "    <tr>\n",
       "      <th>25%</th>\n",
       "      <td>0.215047</td>\n",
       "      <td>3.276390</td>\n",
       "      <td>2.955237</td>\n",
       "      <td>0.214713</td>\n",
       "      <td>48.545975</td>\n",
       "      <td>0.136329</td>\n",
       "      <td>0.000000</td>\n",
       "      <td>0.000000</td>\n",
       "    </tr>\n",
       "    <tr>\n",
       "      <th>50%</th>\n",
       "      <td>0.225265</td>\n",
       "      <td>3.615765</td>\n",
       "      <td>3.173565</td>\n",
       "      <td>0.428035</td>\n",
       "      <td>58.260850</td>\n",
       "      <td>0.170063</td>\n",
       "      <td>2.000000</td>\n",
       "      <td>0.000000</td>\n",
       "    </tr>\n",
       "    <tr>\n",
       "      <th>75%</th>\n",
       "      <td>0.239252</td>\n",
       "      <td>4.040277</td>\n",
       "      <td>3.445601</td>\n",
       "      <td>0.675510</td>\n",
       "      <td>77.249224</td>\n",
       "      <td>0.212548</td>\n",
       "      <td>4.000000</td>\n",
       "      <td>1.000000</td>\n",
       "    </tr>\n",
       "    <tr>\n",
       "      <th>max</th>\n",
       "      <td>0.294793</td>\n",
       "      <td>5.205173</td>\n",
       "      <td>4.245193</td>\n",
       "      <td>1.268353</td>\n",
       "      <td>212.109400</td>\n",
       "      <td>0.308142</td>\n",
       "      <td>10.000000</td>\n",
       "      <td>4.000000</td>\n",
       "    </tr>\n",
       "  </tbody>\n",
       "</table>\n",
       "</div>"
      ],
      "text/plain": [
       "        luminance  pupilDiameter  pupil_lum_base   adj_pupil  total_time  \\\n",
       "count  286.000000     286.000000      286.000000  286.000000  286.000000   \n",
       "mean     0.227217       3.659042        3.214781    0.444261   67.618892   \n",
       "std      0.021321       0.526402        0.474457    0.301660   28.407818   \n",
       "min      0.158152       2.448724        2.170120   -0.354323   24.187100   \n",
       "25%      0.215047       3.276390        2.955237    0.214713   48.545975   \n",
       "50%      0.225265       3.615765        3.173565    0.428035   58.260850   \n",
       "75%      0.239252       4.040277        3.445601    0.675510   77.249224   \n",
       "max      0.294793       5.205173        4.245193    1.268353  212.109400   \n",
       "\n",
       "              IPA  discomfort         seq  \n",
       "count  286.000000  286.000000  286.000000  \n",
       "mean     0.175448    2.461538    0.657343  \n",
       "std      0.056267    2.527794    0.851046  \n",
       "min      0.044233    0.000000    0.000000  \n",
       "25%      0.136329    0.000000    0.000000  \n",
       "50%      0.170063    2.000000    0.000000  \n",
       "75%      0.212548    4.000000    1.000000  \n",
       "max      0.308142   10.000000    4.000000  "
      ]
     },
     "execution_count": 279,
     "metadata": {},
     "output_type": "execute_result"
    }
   ],
   "source": [
    "user_data_nav.describe()"
   ]
  },
  {
   "cell_type": "code",
   "execution_count": 280,
   "metadata": {},
   "outputs": [
    {
     "data": {
      "text/html": [
       "<div>\n",
       "<style scoped>\n",
       "    .dataframe tbody tr th:only-of-type {\n",
       "        vertical-align: middle;\n",
       "    }\n",
       "\n",
       "    .dataframe tbody tr th {\n",
       "        vertical-align: top;\n",
       "    }\n",
       "\n",
       "    .dataframe thead th {\n",
       "        text-align: right;\n",
       "    }\n",
       "</style>\n",
       "<table border=\"1\" class=\"dataframe\">\n",
       "  <thead>\n",
       "    <tr style=\"text-align: right;\">\n",
       "      <th></th>\n",
       "      <th></th>\n",
       "      <th></th>\n",
       "      <th></th>\n",
       "      <th>trial_id</th>\n",
       "      <th>task_trial_id</th>\n",
       "      <th>luminance</th>\n",
       "      <th>pupilDiameter</th>\n",
       "      <th>pupil_lum_base</th>\n",
       "      <th>adj_pupil</th>\n",
       "      <th>total_time</th>\n",
       "      <th>target_id</th>\n",
       "      <th>IPA</th>\n",
       "      <th>seq</th>\n",
       "      <th>PointPlaced</th>\n",
       "      <th>Move</th>\n",
       "      <th>Draw</th>\n",
       "      <th>Erase</th>\n",
       "      <th>PointDeleted</th>\n",
       "    </tr>\n",
       "    <tr>\n",
       "      <th>id</th>\n",
       "      <th>block</th>\n",
       "      <th>model</th>\n",
       "      <th>method</th>\n",
       "      <th></th>\n",
       "      <th></th>\n",
       "      <th></th>\n",
       "      <th></th>\n",
       "      <th></th>\n",
       "      <th></th>\n",
       "      <th></th>\n",
       "      <th></th>\n",
       "      <th></th>\n",
       "      <th></th>\n",
       "      <th></th>\n",
       "      <th></th>\n",
       "      <th></th>\n",
       "      <th></th>\n",
       "      <th></th>\n",
       "    </tr>\n",
       "  </thead>\n",
       "  <tbody>\n",
       "    <tr>\n",
       "      <th rowspan=\"5\" valign=\"top\">108</th>\n",
       "      <th rowspan=\"5\" valign=\"top\">0</th>\n",
       "      <th rowspan=\"2\" valign=\"top\">A</th>\n",
       "      <th>bimanual</th>\n",
       "      <td>2.0</td>\n",
       "      <td>6.0</td>\n",
       "      <td>0.280843</td>\n",
       "      <td>4.402825</td>\n",
       "      <td>3.651643</td>\n",
       "      <td>0.751182</td>\n",
       "      <td>98.3030</td>\n",
       "      <td>2</td>\n",
       "      <td>0.111912</td>\n",
       "      <td>1</td>\n",
       "      <td>19</td>\n",
       "      <td>6</td>\n",
       "      <td>0</td>\n",
       "      <td>0</td>\n",
       "      <td>0</td>\n",
       "    </tr>\n",
       "    <tr>\n",
       "      <th>unimanual</th>\n",
       "      <td>0.0</td>\n",
       "      <td>0.0</td>\n",
       "      <td>0.259386</td>\n",
       "      <td>5.104381</td>\n",
       "      <td>3.717137</td>\n",
       "      <td>1.387243</td>\n",
       "      <td>62.7652</td>\n",
       "      <td>1</td>\n",
       "      <td>0.107009</td>\n",
       "      <td>2</td>\n",
       "      <td>0</td>\n",
       "      <td>0</td>\n",
       "      <td>4</td>\n",
       "      <td>0</td>\n",
       "      <td>0</td>\n",
       "    </tr>\n",
       "    <tr>\n",
       "      <th rowspan=\"2\" valign=\"top\">B</th>\n",
       "      <th>bimanual</th>\n",
       "      <td>0.0</td>\n",
       "      <td>4.0</td>\n",
       "      <td>0.320817</td>\n",
       "      <td>4.189030</td>\n",
       "      <td>3.540984</td>\n",
       "      <td>0.648046</td>\n",
       "      <td>95.2104</td>\n",
       "      <td>2</td>\n",
       "      <td>0.115569</td>\n",
       "      <td>2</td>\n",
       "      <td>17</td>\n",
       "      <td>3</td>\n",
       "      <td>0</td>\n",
       "      <td>0</td>\n",
       "      <td>0</td>\n",
       "    </tr>\n",
       "    <tr>\n",
       "      <th>unimanual</th>\n",
       "      <td>1.0</td>\n",
       "      <td>1.0</td>\n",
       "      <td>0.263313</td>\n",
       "      <td>4.835740</td>\n",
       "      <td>3.714536</td>\n",
       "      <td>1.121204</td>\n",
       "      <td>40.4416</td>\n",
       "      <td>1</td>\n",
       "      <td>0.098936</td>\n",
       "      <td>2</td>\n",
       "      <td>0</td>\n",
       "      <td>0</td>\n",
       "      <td>4</td>\n",
       "      <td>0</td>\n",
       "      <td>0</td>\n",
       "    </tr>\n",
       "    <tr>\n",
       "      <th>C</th>\n",
       "      <th>bimanual</th>\n",
       "      <td>1.0</td>\n",
       "      <td>5.0</td>\n",
       "      <td>0.237598</td>\n",
       "      <td>4.375924</td>\n",
       "      <td>3.783636</td>\n",
       "      <td>0.592288</td>\n",
       "      <td>36.4409</td>\n",
       "      <td>2</td>\n",
       "      <td>0.164693</td>\n",
       "      <td>1</td>\n",
       "      <td>12</td>\n",
       "      <td>1</td>\n",
       "      <td>0</td>\n",
       "      <td>0</td>\n",
       "      <td>0</td>\n",
       "    </tr>\n",
       "  </tbody>\n",
       "</table>\n",
       "</div>"
      ],
      "text/plain": [
       "                          trial_id task_trial_id  luminance  pupilDiameter  \\\n",
       "id  block model method                                                       \n",
       "108 0     A     bimanual       2.0           6.0   0.280843       4.402825   \n",
       "                unimanual      0.0           0.0   0.259386       5.104381   \n",
       "          B     bimanual       0.0           4.0   0.320817       4.189030   \n",
       "                unimanual      1.0           1.0   0.263313       4.835740   \n",
       "          C     bimanual       1.0           5.0   0.237598       4.375924   \n",
       "\n",
       "                           pupil_lum_base  adj_pupil  total_time target_id  \\\n",
       "id  block model method                                                       \n",
       "108 0     A     bimanual         3.651643   0.751182     98.3030         2   \n",
       "                unimanual        3.717137   1.387243     62.7652         1   \n",
       "          B     bimanual         3.540984   0.648046     95.2104         2   \n",
       "                unimanual        3.714536   1.121204     40.4416         1   \n",
       "          C     bimanual         3.783636   0.592288     36.4409         2   \n",
       "\n",
       "                                IPA  seq  PointPlaced  Move  Draw  Erase  \\\n",
       "id  block model method                                                     \n",
       "108 0     A     bimanual   0.111912    1           19     6     0      0   \n",
       "                unimanual  0.107009    2            0     0     4      0   \n",
       "          B     bimanual   0.115569    2           17     3     0      0   \n",
       "                unimanual  0.098936    2            0     0     4      0   \n",
       "          C     bimanual   0.164693    1           12     1     0      0   \n",
       "\n",
       "                           PointDeleted  \n",
       "id  block model method                   \n",
       "108 0     A     bimanual              0  \n",
       "                unimanual             0  \n",
       "          B     bimanual              0  \n",
       "                unimanual             0  \n",
       "          C     bimanual              0  "
      ]
     },
     "execution_count": 280,
     "metadata": {},
     "output_type": "execute_result"
    }
   ],
   "source": [
    "user_data_crt.head()"
   ]
  },
  {
   "cell_type": "code",
   "execution_count": 281,
   "metadata": {},
   "outputs": [
    {
     "data": {
      "text/html": [
       "<div>\n",
       "<style scoped>\n",
       "    .dataframe tbody tr th:only-of-type {\n",
       "        vertical-align: middle;\n",
       "    }\n",
       "\n",
       "    .dataframe tbody tr th {\n",
       "        vertical-align: top;\n",
       "    }\n",
       "\n",
       "    .dataframe thead th {\n",
       "        text-align: right;\n",
       "    }\n",
       "</style>\n",
       "<table border=\"1\" class=\"dataframe\">\n",
       "  <thead>\n",
       "    <tr style=\"text-align: right;\">\n",
       "      <th></th>\n",
       "      <th>luminance</th>\n",
       "      <th>pupilDiameter</th>\n",
       "      <th>pupil_lum_base</th>\n",
       "      <th>adj_pupil</th>\n",
       "      <th>total_time</th>\n",
       "      <th>IPA</th>\n",
       "      <th>seq</th>\n",
       "      <th>PointPlaced</th>\n",
       "      <th>Move</th>\n",
       "      <th>Draw</th>\n",
       "      <th>Erase</th>\n",
       "      <th>PointDeleted</th>\n",
       "    </tr>\n",
       "  </thead>\n",
       "  <tbody>\n",
       "    <tr>\n",
       "      <th>count</th>\n",
       "      <td>288.000000</td>\n",
       "      <td>288.000000</td>\n",
       "      <td>288.000000</td>\n",
       "      <td>288.000000</td>\n",
       "      <td>288.000000</td>\n",
       "      <td>288.000000</td>\n",
       "      <td>288.000000</td>\n",
       "      <td>288.000000</td>\n",
       "      <td>288.000000</td>\n",
       "      <td>288.000000</td>\n",
       "      <td>288.000000</td>\n",
       "      <td>288.000000</td>\n",
       "    </tr>\n",
       "    <tr>\n",
       "      <th>mean</th>\n",
       "      <td>0.245947</td>\n",
       "      <td>3.732538</td>\n",
       "      <td>3.183800</td>\n",
       "      <td>0.548739</td>\n",
       "      <td>58.350967</td>\n",
       "      <td>0.175554</td>\n",
       "      <td>0.777778</td>\n",
       "      <td>5.000000</td>\n",
       "      <td>3.559028</td>\n",
       "      <td>2.541667</td>\n",
       "      <td>0.611111</td>\n",
       "      <td>0.243056</td>\n",
       "    </tr>\n",
       "    <tr>\n",
       "      <th>std</th>\n",
       "      <td>0.036211</td>\n",
       "      <td>0.592989</td>\n",
       "      <td>0.478283</td>\n",
       "      <td>0.328533</td>\n",
       "      <td>41.573572</td>\n",
       "      <td>0.064036</td>\n",
       "      <td>0.976693</td>\n",
       "      <td>6.780789</td>\n",
       "      <td>7.605013</td>\n",
       "      <td>6.143323</td>\n",
       "      <td>2.307724</td>\n",
       "      <td>0.853331</td>\n",
       "    </tr>\n",
       "    <tr>\n",
       "      <th>min</th>\n",
       "      <td>0.164554</td>\n",
       "      <td>2.419907</td>\n",
       "      <td>2.162557</td>\n",
       "      <td>-0.141567</td>\n",
       "      <td>11.261400</td>\n",
       "      <td>0.048284</td>\n",
       "      <td>0.000000</td>\n",
       "      <td>0.000000</td>\n",
       "      <td>0.000000</td>\n",
       "      <td>0.000000</td>\n",
       "      <td>0.000000</td>\n",
       "      <td>0.000000</td>\n",
       "    </tr>\n",
       "    <tr>\n",
       "      <th>25%</th>\n",
       "      <td>0.215910</td>\n",
       "      <td>3.259171</td>\n",
       "      <td>2.915578</td>\n",
       "      <td>0.300946</td>\n",
       "      <td>31.700625</td>\n",
       "      <td>0.125672</td>\n",
       "      <td>0.000000</td>\n",
       "      <td>0.000000</td>\n",
       "      <td>0.000000</td>\n",
       "      <td>0.000000</td>\n",
       "      <td>0.000000</td>\n",
       "      <td>0.000000</td>\n",
       "    </tr>\n",
       "    <tr>\n",
       "      <th>50%</th>\n",
       "      <td>0.244383</td>\n",
       "      <td>3.740561</td>\n",
       "      <td>3.111785</td>\n",
       "      <td>0.532538</td>\n",
       "      <td>46.113950</td>\n",
       "      <td>0.166854</td>\n",
       "      <td>0.000000</td>\n",
       "      <td>2.500000</td>\n",
       "      <td>0.000000</td>\n",
       "      <td>0.500000</td>\n",
       "      <td>0.000000</td>\n",
       "      <td>0.000000</td>\n",
       "    </tr>\n",
       "    <tr>\n",
       "      <th>75%</th>\n",
       "      <td>0.272687</td>\n",
       "      <td>4.189731</td>\n",
       "      <td>3.437178</td>\n",
       "      <td>0.748840</td>\n",
       "      <td>70.512075</td>\n",
       "      <td>0.214618</td>\n",
       "      <td>1.000000</td>\n",
       "      <td>8.000000</td>\n",
       "      <td>2.000000</td>\n",
       "      <td>2.000000</td>\n",
       "      <td>0.000000</td>\n",
       "      <td>0.000000</td>\n",
       "    </tr>\n",
       "    <tr>\n",
       "      <th>max</th>\n",
       "      <td>0.336842</td>\n",
       "      <td>5.373014</td>\n",
       "      <td>4.248593</td>\n",
       "      <td>1.713309</td>\n",
       "      <td>371.058100</td>\n",
       "      <td>0.401104</td>\n",
       "      <td>4.000000</td>\n",
       "      <td>50.000000</td>\n",
       "      <td>38.000000</td>\n",
       "      <td>61.000000</td>\n",
       "      <td>19.000000</td>\n",
       "      <td>6.000000</td>\n",
       "    </tr>\n",
       "  </tbody>\n",
       "</table>\n",
       "</div>"
      ],
      "text/plain": [
       "        luminance  pupilDiameter  pupil_lum_base   adj_pupil  total_time  \\\n",
       "count  288.000000     288.000000      288.000000  288.000000  288.000000   \n",
       "mean     0.245947       3.732538        3.183800    0.548739   58.350967   \n",
       "std      0.036211       0.592989        0.478283    0.328533   41.573572   \n",
       "min      0.164554       2.419907        2.162557   -0.141567   11.261400   \n",
       "25%      0.215910       3.259171        2.915578    0.300946   31.700625   \n",
       "50%      0.244383       3.740561        3.111785    0.532538   46.113950   \n",
       "75%      0.272687       4.189731        3.437178    0.748840   70.512075   \n",
       "max      0.336842       5.373014        4.248593    1.713309  371.058100   \n",
       "\n",
       "              IPA         seq  PointPlaced        Move        Draw  \\\n",
       "count  288.000000  288.000000   288.000000  288.000000  288.000000   \n",
       "mean     0.175554    0.777778     5.000000    3.559028    2.541667   \n",
       "std      0.064036    0.976693     6.780789    7.605013    6.143323   \n",
       "min      0.048284    0.000000     0.000000    0.000000    0.000000   \n",
       "25%      0.125672    0.000000     0.000000    0.000000    0.000000   \n",
       "50%      0.166854    0.000000     2.500000    0.000000    0.500000   \n",
       "75%      0.214618    1.000000     8.000000    2.000000    2.000000   \n",
       "max      0.401104    4.000000    50.000000   38.000000   61.000000   \n",
       "\n",
       "            Erase  PointDeleted  \n",
       "count  288.000000    288.000000  \n",
       "mean     0.611111      0.243056  \n",
       "std      2.307724      0.853331  \n",
       "min      0.000000      0.000000  \n",
       "25%      0.000000      0.000000  \n",
       "50%      0.000000      0.000000  \n",
       "75%      0.000000      0.000000  \n",
       "max     19.000000      6.000000  "
      ]
     },
     "execution_count": 281,
     "metadata": {},
     "output_type": "execute_result"
    }
   ],
   "source": [
    "user_data_crt.describe()"
   ]
  },
  {
   "cell_type": "markdown",
   "metadata": {},
   "source": [
    "## Statistical Analysis"
   ]
  },
  {
   "cell_type": "markdown",
   "metadata": {},
   "source": [
    "#### Participant Demographics"
   ]
  },
  {
   "cell_type": "code",
   "execution_count": 282,
   "metadata": {},
   "outputs": [
    {
     "data": {
      "application/vnd.plotly.v1+json": {
       "config": {
        "plotlyServerURL": "https://plot.ly"
       },
       "data": [
        {
         "branchvalues": "total",
         "customdata": [
          [
           "Female"
          ],
          [
           "Female"
          ],
          [
           "Male"
          ],
          [
           "Female"
          ],
          [
           "Male"
          ],
          [
           "Male"
          ],
          [
           "Male"
          ]
         ],
         "domain": {
          "x": [
           0,
           1
          ],
          "y": [
           0,
           1
          ]
         },
         "hovertemplate": "labels=%{label}<br>count=%{value}<br>parent=%{parent}<br>id=%{id}<br>sex=%{customdata[0]}<extra></extra>",
         "ids": [
          "Female/25 - 34",
          "Female",
          "Male",
          "Female/18 - 24",
          "Male/18 - 24",
          "Male/25 - 34",
          "Male/35 - 44"
         ],
         "labels": [
          "25 - 34",
          "Female",
          "Male",
          "18 - 24",
          "18 - 24",
          "25 - 34",
          "35 - 44"
         ],
         "marker": {
          "colors": [
           "#636efa",
           "#636efa",
           "#EF553B",
           "#636efa",
           "#EF553B",
           "#EF553B",
           "#EF553B"
          ]
         },
         "name": "",
         "parents": [
          "Female",
          "",
          "",
          "Female",
          "Male",
          "Male",
          "Male"
         ],
         "type": "sunburst",
         "values": [
          1,
          14,
          21,
          13,
          19,
          1,
          1
         ]
        }
       ],
       "layout": {
        "legend": {
         "tracegroupgap": 0
        },
        "template": {
         "data": {
          "bar": [
           {
            "error_x": {
             "color": "#2a3f5f"
            },
            "error_y": {
             "color": "#2a3f5f"
            },
            "marker": {
             "line": {
              "color": "#E5ECF6",
              "width": 0.5
             },
             "pattern": {
              "fillmode": "overlay",
              "size": 10,
              "solidity": 0.2
             }
            },
            "type": "bar"
           }
          ],
          "barpolar": [
           {
            "marker": {
             "line": {
              "color": "#E5ECF6",
              "width": 0.5
             },
             "pattern": {
              "fillmode": "overlay",
              "size": 10,
              "solidity": 0.2
             }
            },
            "type": "barpolar"
           }
          ],
          "carpet": [
           {
            "aaxis": {
             "endlinecolor": "#2a3f5f",
             "gridcolor": "white",
             "linecolor": "white",
             "minorgridcolor": "white",
             "startlinecolor": "#2a3f5f"
            },
            "baxis": {
             "endlinecolor": "#2a3f5f",
             "gridcolor": "white",
             "linecolor": "white",
             "minorgridcolor": "white",
             "startlinecolor": "#2a3f5f"
            },
            "type": "carpet"
           }
          ],
          "choropleth": [
           {
            "colorbar": {
             "outlinewidth": 0,
             "ticks": ""
            },
            "type": "choropleth"
           }
          ],
          "contour": [
           {
            "colorbar": {
             "outlinewidth": 0,
             "ticks": ""
            },
            "colorscale": [
             [
              0,
              "#0d0887"
             ],
             [
              0.1111111111111111,
              "#46039f"
             ],
             [
              0.2222222222222222,
              "#7201a8"
             ],
             [
              0.3333333333333333,
              "#9c179e"
             ],
             [
              0.4444444444444444,
              "#bd3786"
             ],
             [
              0.5555555555555556,
              "#d8576b"
             ],
             [
              0.6666666666666666,
              "#ed7953"
             ],
             [
              0.7777777777777778,
              "#fb9f3a"
             ],
             [
              0.8888888888888888,
              "#fdca26"
             ],
             [
              1,
              "#f0f921"
             ]
            ],
            "type": "contour"
           }
          ],
          "contourcarpet": [
           {
            "colorbar": {
             "outlinewidth": 0,
             "ticks": ""
            },
            "type": "contourcarpet"
           }
          ],
          "heatmap": [
           {
            "colorbar": {
             "outlinewidth": 0,
             "ticks": ""
            },
            "colorscale": [
             [
              0,
              "#0d0887"
             ],
             [
              0.1111111111111111,
              "#46039f"
             ],
             [
              0.2222222222222222,
              "#7201a8"
             ],
             [
              0.3333333333333333,
              "#9c179e"
             ],
             [
              0.4444444444444444,
              "#bd3786"
             ],
             [
              0.5555555555555556,
              "#d8576b"
             ],
             [
              0.6666666666666666,
              "#ed7953"
             ],
             [
              0.7777777777777778,
              "#fb9f3a"
             ],
             [
              0.8888888888888888,
              "#fdca26"
             ],
             [
              1,
              "#f0f921"
             ]
            ],
            "type": "heatmap"
           }
          ],
          "heatmapgl": [
           {
            "colorbar": {
             "outlinewidth": 0,
             "ticks": ""
            },
            "colorscale": [
             [
              0,
              "#0d0887"
             ],
             [
              0.1111111111111111,
              "#46039f"
             ],
             [
              0.2222222222222222,
              "#7201a8"
             ],
             [
              0.3333333333333333,
              "#9c179e"
             ],
             [
              0.4444444444444444,
              "#bd3786"
             ],
             [
              0.5555555555555556,
              "#d8576b"
             ],
             [
              0.6666666666666666,
              "#ed7953"
             ],
             [
              0.7777777777777778,
              "#fb9f3a"
             ],
             [
              0.8888888888888888,
              "#fdca26"
             ],
             [
              1,
              "#f0f921"
             ]
            ],
            "type": "heatmapgl"
           }
          ],
          "histogram": [
           {
            "marker": {
             "pattern": {
              "fillmode": "overlay",
              "size": 10,
              "solidity": 0.2
             }
            },
            "type": "histogram"
           }
          ],
          "histogram2d": [
           {
            "colorbar": {
             "outlinewidth": 0,
             "ticks": ""
            },
            "colorscale": [
             [
              0,
              "#0d0887"
             ],
             [
              0.1111111111111111,
              "#46039f"
             ],
             [
              0.2222222222222222,
              "#7201a8"
             ],
             [
              0.3333333333333333,
              "#9c179e"
             ],
             [
              0.4444444444444444,
              "#bd3786"
             ],
             [
              0.5555555555555556,
              "#d8576b"
             ],
             [
              0.6666666666666666,
              "#ed7953"
             ],
             [
              0.7777777777777778,
              "#fb9f3a"
             ],
             [
              0.8888888888888888,
              "#fdca26"
             ],
             [
              1,
              "#f0f921"
             ]
            ],
            "type": "histogram2d"
           }
          ],
          "histogram2dcontour": [
           {
            "colorbar": {
             "outlinewidth": 0,
             "ticks": ""
            },
            "colorscale": [
             [
              0,
              "#0d0887"
             ],
             [
              0.1111111111111111,
              "#46039f"
             ],
             [
              0.2222222222222222,
              "#7201a8"
             ],
             [
              0.3333333333333333,
              "#9c179e"
             ],
             [
              0.4444444444444444,
              "#bd3786"
             ],
             [
              0.5555555555555556,
              "#d8576b"
             ],
             [
              0.6666666666666666,
              "#ed7953"
             ],
             [
              0.7777777777777778,
              "#fb9f3a"
             ],
             [
              0.8888888888888888,
              "#fdca26"
             ],
             [
              1,
              "#f0f921"
             ]
            ],
            "type": "histogram2dcontour"
           }
          ],
          "mesh3d": [
           {
            "colorbar": {
             "outlinewidth": 0,
             "ticks": ""
            },
            "type": "mesh3d"
           }
          ],
          "parcoords": [
           {
            "line": {
             "colorbar": {
              "outlinewidth": 0,
              "ticks": ""
             }
            },
            "type": "parcoords"
           }
          ],
          "pie": [
           {
            "automargin": true,
            "type": "pie"
           }
          ],
          "scatter": [
           {
            "fillpattern": {
             "fillmode": "overlay",
             "size": 10,
             "solidity": 0.2
            },
            "type": "scatter"
           }
          ],
          "scatter3d": [
           {
            "line": {
             "colorbar": {
              "outlinewidth": 0,
              "ticks": ""
             }
            },
            "marker": {
             "colorbar": {
              "outlinewidth": 0,
              "ticks": ""
             }
            },
            "type": "scatter3d"
           }
          ],
          "scattercarpet": [
           {
            "marker": {
             "colorbar": {
              "outlinewidth": 0,
              "ticks": ""
             }
            },
            "type": "scattercarpet"
           }
          ],
          "scattergeo": [
           {
            "marker": {
             "colorbar": {
              "outlinewidth": 0,
              "ticks": ""
             }
            },
            "type": "scattergeo"
           }
          ],
          "scattergl": [
           {
            "marker": {
             "colorbar": {
              "outlinewidth": 0,
              "ticks": ""
             }
            },
            "type": "scattergl"
           }
          ],
          "scattermapbox": [
           {
            "marker": {
             "colorbar": {
              "outlinewidth": 0,
              "ticks": ""
             }
            },
            "type": "scattermapbox"
           }
          ],
          "scatterpolar": [
           {
            "marker": {
             "colorbar": {
              "outlinewidth": 0,
              "ticks": ""
             }
            },
            "type": "scatterpolar"
           }
          ],
          "scatterpolargl": [
           {
            "marker": {
             "colorbar": {
              "outlinewidth": 0,
              "ticks": ""
             }
            },
            "type": "scatterpolargl"
           }
          ],
          "scatterternary": [
           {
            "marker": {
             "colorbar": {
              "outlinewidth": 0,
              "ticks": ""
             }
            },
            "type": "scatterternary"
           }
          ],
          "surface": [
           {
            "colorbar": {
             "outlinewidth": 0,
             "ticks": ""
            },
            "colorscale": [
             [
              0,
              "#0d0887"
             ],
             [
              0.1111111111111111,
              "#46039f"
             ],
             [
              0.2222222222222222,
              "#7201a8"
             ],
             [
              0.3333333333333333,
              "#9c179e"
             ],
             [
              0.4444444444444444,
              "#bd3786"
             ],
             [
              0.5555555555555556,
              "#d8576b"
             ],
             [
              0.6666666666666666,
              "#ed7953"
             ],
             [
              0.7777777777777778,
              "#fb9f3a"
             ],
             [
              0.8888888888888888,
              "#fdca26"
             ],
             [
              1,
              "#f0f921"
             ]
            ],
            "type": "surface"
           }
          ],
          "table": [
           {
            "cells": {
             "fill": {
              "color": "#EBF0F8"
             },
             "line": {
              "color": "white"
             }
            },
            "header": {
             "fill": {
              "color": "#C8D4E3"
             },
             "line": {
              "color": "white"
             }
            },
            "type": "table"
           }
          ]
         },
         "layout": {
          "annotationdefaults": {
           "arrowcolor": "#2a3f5f",
           "arrowhead": 0,
           "arrowwidth": 1
          },
          "autotypenumbers": "strict",
          "coloraxis": {
           "colorbar": {
            "outlinewidth": 0,
            "ticks": ""
           }
          },
          "colorscale": {
           "diverging": [
            [
             0,
             "#8e0152"
            ],
            [
             0.1,
             "#c51b7d"
            ],
            [
             0.2,
             "#de77ae"
            ],
            [
             0.3,
             "#f1b6da"
            ],
            [
             0.4,
             "#fde0ef"
            ],
            [
             0.5,
             "#f7f7f7"
            ],
            [
             0.6,
             "#e6f5d0"
            ],
            [
             0.7,
             "#b8e186"
            ],
            [
             0.8,
             "#7fbc41"
            ],
            [
             0.9,
             "#4d9221"
            ],
            [
             1,
             "#276419"
            ]
           ],
           "sequential": [
            [
             0,
             "#0d0887"
            ],
            [
             0.1111111111111111,
             "#46039f"
            ],
            [
             0.2222222222222222,
             "#7201a8"
            ],
            [
             0.3333333333333333,
             "#9c179e"
            ],
            [
             0.4444444444444444,
             "#bd3786"
            ],
            [
             0.5555555555555556,
             "#d8576b"
            ],
            [
             0.6666666666666666,
             "#ed7953"
            ],
            [
             0.7777777777777778,
             "#fb9f3a"
            ],
            [
             0.8888888888888888,
             "#fdca26"
            ],
            [
             1,
             "#f0f921"
            ]
           ],
           "sequentialminus": [
            [
             0,
             "#0d0887"
            ],
            [
             0.1111111111111111,
             "#46039f"
            ],
            [
             0.2222222222222222,
             "#7201a8"
            ],
            [
             0.3333333333333333,
             "#9c179e"
            ],
            [
             0.4444444444444444,
             "#bd3786"
            ],
            [
             0.5555555555555556,
             "#d8576b"
            ],
            [
             0.6666666666666666,
             "#ed7953"
            ],
            [
             0.7777777777777778,
             "#fb9f3a"
            ],
            [
             0.8888888888888888,
             "#fdca26"
            ],
            [
             1,
             "#f0f921"
            ]
           ]
          },
          "colorway": [
           "#636efa",
           "#EF553B",
           "#00cc96",
           "#ab63fa",
           "#FFA15A",
           "#19d3f3",
           "#FF6692",
           "#B6E880",
           "#FF97FF",
           "#FECB52"
          ],
          "font": {
           "color": "#2a3f5f"
          },
          "geo": {
           "bgcolor": "white",
           "lakecolor": "white",
           "landcolor": "#E5ECF6",
           "showlakes": true,
           "showland": true,
           "subunitcolor": "white"
          },
          "hoverlabel": {
           "align": "left"
          },
          "hovermode": "closest",
          "mapbox": {
           "style": "light"
          },
          "paper_bgcolor": "white",
          "plot_bgcolor": "#E5ECF6",
          "polar": {
           "angularaxis": {
            "gridcolor": "white",
            "linecolor": "white",
            "ticks": ""
           },
           "bgcolor": "#E5ECF6",
           "radialaxis": {
            "gridcolor": "white",
            "linecolor": "white",
            "ticks": ""
           }
          },
          "scene": {
           "xaxis": {
            "backgroundcolor": "#E5ECF6",
            "gridcolor": "white",
            "gridwidth": 2,
            "linecolor": "white",
            "showbackground": true,
            "ticks": "",
            "zerolinecolor": "white"
           },
           "yaxis": {
            "backgroundcolor": "#E5ECF6",
            "gridcolor": "white",
            "gridwidth": 2,
            "linecolor": "white",
            "showbackground": true,
            "ticks": "",
            "zerolinecolor": "white"
           },
           "zaxis": {
            "backgroundcolor": "#E5ECF6",
            "gridcolor": "white",
            "gridwidth": 2,
            "linecolor": "white",
            "showbackground": true,
            "ticks": "",
            "zerolinecolor": "white"
           }
          },
          "shapedefaults": {
           "line": {
            "color": "#2a3f5f"
           }
          },
          "ternary": {
           "aaxis": {
            "gridcolor": "white",
            "linecolor": "white",
            "ticks": ""
           },
           "baxis": {
            "gridcolor": "white",
            "linecolor": "white",
            "ticks": ""
           },
           "bgcolor": "#E5ECF6",
           "caxis": {
            "gridcolor": "white",
            "linecolor": "white",
            "ticks": ""
           }
          },
          "title": {
           "x": 0.05
          },
          "xaxis": {
           "automargin": true,
           "gridcolor": "white",
           "linecolor": "white",
           "ticks": "",
           "title": {
            "standoff": 15
           },
           "zerolinecolor": "white",
           "zerolinewidth": 2
          },
          "yaxis": {
           "automargin": true,
           "gridcolor": "white",
           "linecolor": "white",
           "ticks": "",
           "title": {
            "standoff": 15
           },
           "zerolinecolor": "white",
           "zerolinewidth": 2
          }
         }
        },
        "title": {
         "text": "Participant Demographics"
        }
       }
      }
     },
     "metadata": {},
     "output_type": "display_data"
    }
   ],
   "source": [
    "user_fig = px.sunburst(participant_data, path=['sex', 'age'], color='sex', title='Participant Demographics',)\n",
    "user_fig.show()"
   ]
  },
  {
   "cell_type": "markdown",
   "metadata": {},
   "source": [
    "### Navigation Workload"
   ]
  },
  {
   "cell_type": "markdown",
   "metadata": {},
   "source": [
    "#### IPA Evaluation"
   ]
  },
  {
   "cell_type": "code",
   "execution_count": 283,
   "metadata": {},
   "outputs": [],
   "source": [
    "ipa_nav = user_data_nav.loc[(slice(None), slice(None), slice(None)), 'IPA']\n",
    "ipa_nav = ipa_nav.unstack(level=(3))\n",
    "\n",
    "outliers_4dof = iqr_outlier_indices(ipa_nav['4DoF'])\n",
    "ipa_nav = ipa_nav.drop(ipa_nav.iloc[outliers_4dof[0]].index)\n",
    "\n",
    "outliers_6dof = iqr_outlier_indices(ipa_nav['6DoF'])\n",
    "ipa_nav = ipa_nav.drop(ipa_nav.iloc[outliers_6dof[0]].index)\n",
    "\n",
    "ipa_4dof = ipa_nav['4DoF']\n",
    "ipa_6dof = ipa_nav['6DoF']\n",
    "\n",
    "n_stat, n_p = stats.shapiro(ipa_nav.stack())\n",
    "w_stat, w_p = stats.wilcoxon(ipa_4dof, ipa_6dof, nan_policy='omit')\n",
    "t_stat, t_p = stats.ttest_rel(ipa_4dof, ipa_6dof, nan_policy='omit')\n",
    "\n",
    "results_colors = get_results_colors(n_p, w_p, t_p)\n",
    "results_header = ['<b>Test</b>', '<b>Result</b>', '<b>p-value</b>']\n",
    "results_values=[['Shapiro-Wilk', 'Wilcoxon', 'T-test'], [n_stat, w_stat, t_stat], [n_p, w_p, t_p]]\n",
    "results_prefix = ['','', 'p = ',]\n",
    "fill_color = results_colors\n",
    "\n",
    "if n_p < 0.05:\n",
    "    iqr_4dof, q1_4dof, q3_4dof = iqr_stats(ipa_4dof)\n",
    "    iqr_6dof, q1_6dof, q3_6dof = iqr_stats(ipa_6dof)\n",
    "    summary_header = ['', '<b>Median</b>', '<b>IQR</b>', '<b>Min</b>', '<b>Max</b>', '<b>Skewness</b>']\n",
    "    summary_values = [['<b>4-DoF</b>', '<b>6-DoF</b>'], [ipa_4dof.median(), ipa_6dof.median()], [iqr_4dof, iqr_6dof], [ipa_4dof.min(), ipa_6dof.min()], [ipa_4dof.max(), ipa_6dof.max()], [ipa_4dof.skew(), ipa_6dof.skew()]]\n",
    "    \n",
    "\n",
    "else:\n",
    "    summary_header = ['', '<b>Mean</b>', '<b>STD</b>', '<b>Min</b>', '<b>Max</b>', '<b>Skewness</b>']\n",
    "    summary_values = [['<b>4-DoF</b>', '<b>6-DoF</b>'], [ipa_4dof.mean(), ipa_6dof.mean()], [ipa_4dof.std(), ipa_6dof.std()], [ipa_4dof.min(), ipa_6dof.min()], [ipa_4dof.max(), ipa_6dof.max()], [ipa_4dof.skew(), ipa_6dof.skew()]]"
   ]
  },
  {
   "cell_type": "code",
   "execution_count": 284,
   "metadata": {},
   "outputs": [
    {
     "data": {
      "application/vnd.plotly.v1+json": {
       "config": {
        "plotlyServerURL": "https://plot.ly"
       },
       "data": [
        {
         "cells": {
          "align": [
           "right",
           "center"
          ],
          "format": [
           "",
           ".3f"
          ],
          "values": [
           [
            "<b>4-DoF</b>",
            "<b>6-DoF</b>"
           ],
           [
            0.1789737202780013,
            0.15844022562019228
           ],
           [
            0.0678202189728424,
            0.07705011799070474
           ],
           [
            0.06595131473945932,
            0.044232651953903676
           ],
           [
            0.3081419986120844,
            0.2984697684563373
           ],
           [
            0.22477261727375825,
            0.41811931347430586
           ]
          ]
         },
         "columnwidth": [
          5,
          4,
          4,
          4,
          4
         ],
         "domain": {
          "x": [
           0,
           0.45
          ],
          "y": [
           0,
           0.425
          ]
         },
         "header": {
          "align": [
           "right",
           "center"
          ],
          "values": [
           "",
           "<b>Median</b>",
           "<b>IQR</b>",
           "<b>Min</b>",
           "<b>Max</b>",
           "<b>Skewness</b>"
          ]
         },
         "type": "table"
        },
        {
         "name": "4-DoF",
         "notched": true,
         "notchwidth": 0.15,
         "type": "box",
         "xaxis": "x",
         "y": [
          0.24284615695956613,
          0.16253243260814318,
          0.1363417906903553,
          0.13358049149400533,
          0.14179720872194632,
          0.09538480615422769,
          0.06595131473945932,
          0.1889954263106833,
          0.1808752388375313,
          0.13135443498546562,
          0.12624792567644338,
          0.1384900887259835,
          0.2417614298210526,
          0.2533867858791164,
          0.22069744807540792,
          0.22952573098207174,
          0.22606493976238837,
          0.1077989457263108,
          0.1699630047193061,
          0.21388029654503116,
          0.17509263494717672,
          0.16243346995792973,
          0.0882768361581921,
          0.13548614363853845,
          0.2851739828646083,
          0.2663972249020514,
          0.17861150522128025,
          0.3081419986120844,
          0.2406512021530261,
          0.20995226210440399,
          null,
          0.18467561727825077,
          0.1694738488814726,
          0.21468986097855638,
          0.16665457604056175,
          0.1093495040999989,
          0.2927571871889455,
          0.3018179501195535,
          0.29383245673317077,
          0.19650255680057563,
          0.18691326757101534,
          0.18312718444570017,
          0.16181782549206103,
          0.16971237523783303,
          0.1213506816267787,
          0.1539943946040364,
          0.1383141806613723,
          0.12724977604039417,
          0.185961056035645,
          0.2144214124081383,
          0.09417462666487286,
          0.19385073170574105,
          0.18165101207560036,
          0.18343020966072965,
          0.15804975810540967,
          0.15561553237532522,
          0.17416717610565677,
          0.15050805876587153,
          0.16140139450804855,
          0.14540484343533483,
          0.15806938568591386,
          0.18734777992880786,
          0.1516836410141189,
          0.15356907323623786,
          0.2923487029019595,
          0.20294076783420054,
          0.20699690953614064,
          0.15864669833556952,
          0.09808575834023203,
          null,
          0.19040889251841148,
          0.14357836776522065,
          0.22543012873670568,
          0.16615456976191328,
          0.2408804179275251,
          0.2125908087544895,
          0.18182958179196188,
          0.1842412331879875,
          0.23147241382994257,
          0.19128261368563337,
          0.14990293784774358,
          0.10114112473987767,
          0.15781013637050212,
          0.23577454295104847,
          0.21864733824196608,
          0.17210648658591288,
          0.11940049013901201,
          0.29127684116091296,
          0.1727018777011653,
          0.1363249851320563,
          0.15053860562541266,
          0.21499155669522796,
          0.17160082597197568,
          0.13707913492784926,
          0.08489667014035542,
          0.09427358666217296,
          0.1571056647813987,
          0.1521575946927431,
          0.19570759861439022,
          0.1439412719610399,
          0.13737935149095848,
          0.17933593533472236,
          0.27285714564139946,
          0.2722452748429485,
          0.14951730828973797,
          0.24792810986370717,
          0.18560882013113264,
          0.1577851177076978,
          0.23177522438738912,
          0.18871688692623328,
          0.21314942485180194,
          0.1948132909419612,
          0.2665408175904397,
          0.17652706091948872,
          0.2427057584741649,
          0.2985800386447879,
          0.1726436539070218,
          0.1591687570830097,
          0.18977820104067464,
          0.16939912590051034,
          0.25881145154402596,
          0.2561362085787002,
          0.19695507454749572,
          0.2023414957892735,
          0.11332456012363709,
          0.08144980655670941,
          0.16394217277383405,
          0.1368961936697831,
          0.21555573347457363,
          0.2716243133940967,
          0.28656872839220615,
          0.25331077178725947,
          0.2400635513692352,
          0.2386163721200631,
          0.24492176976017704,
          0.2400403267748982,
          0.09089459284593449,
          0.09324027953435805,
          0.09206939353890477,
          0.07688446571337251,
          0.17515916129122663,
          0.16590644646088368,
          0.19567104495453316,
          0.1801160224286013
         ],
         "yaxis": "y"
        },
        {
         "name": "6-DoF",
         "notched": true,
         "notchwidth": 0.15,
         "type": "box",
         "xaxis": "x",
         "y": [
          0.11478759375686676,
          0.12446906165886143,
          0.1681882607651954,
          0.20286591577296986,
          0.16255741232244295,
          0.05312897803223016,
          0.09594350846221744,
          0.11960339514171009,
          0.12634478227635393,
          0.2766697016494544,
          0.13978612722534522,
          0.2124199589793457,
          0.27855864471934055,
          0.2554381722547315,
          0.29740550869353477,
          0.26053087507978756,
          0.23931794385999902,
          0.1511974254567616,
          0.11163775780347926,
          0.21059642223003183,
          0.1711566768219628,
          0.12277885379801037,
          0.11666542223549616,
          0.1358514762979929,
          0.21438656675823883,
          0.1570817697879396,
          0.2531810389103088,
          0.23617584078599319,
          0.1863907631515628,
          0.10455019890675342,
          0.14690466621685858,
          0.16134142191661877,
          0.29087577241152374,
          0.19056784453475245,
          0.2120966899864258,
          0.14741978520937296,
          0.16072863648540048,
          0.2684983133424134,
          0.26566884174515815,
          0.21090539047814888,
          0.13630422011495896,
          0.10355718945787812,
          0.1280063198548774,
          0.1716976110730242,
          0.08272968241729513,
          0.137357320083763,
          0.13636592979063739,
          0.1408031765196623,
          0.18341608220426625,
          0.19207908536207977,
          0.1675054346207677,
          0.12173471975653055,
          0.2482899032910827,
          0.10602092853129208,
          0.15979868145244497,
          0.06682258603407952,
          0.1986485278488682,
          0.12317839680852985,
          0.1523113243469652,
          0.11317466245656922,
          0.1763931949580599,
          0.17016263621191793,
          0.1549794294611127,
          0.1477613585861284,
          0.14097782217460306,
          0.2984697684563373,
          0.2097143499903722,
          0.23472525409008757,
          0.14230343004630197,
          0.07128173106258251,
          0.10866002270994475,
          0.044232651953903676,
          0.10578596326053497,
          0.13507781833114058,
          0.08750590664869878,
          0.19043115199738475,
          0.2803778630893327,
          0.17328101296929618,
          0.15274463007159905,
          0.19633936167891972,
          0.12466474089324069,
          0.18889286350955858,
          0.1474024011851153,
          0.11499861180247181,
          0.1843524291724551,
          0.21093745880127757,
          0.16538923174339154,
          0.2789341924506461,
          0.17351772483559194,
          0.13379376226721557,
          0.18531139520949455,
          0.13118625168082385,
          0.15549842428263394,
          0.11574395585062548,
          0.17324154418850413,
          0.13079674839283495,
          0.10327766421333033,
          0.0733318829916475,
          0.11792393232513987,
          0.11517592546735511,
          0.26300374182596326,
          0.18360785768187735,
          0.1722044755943207,
          0.08534917414005372,
          0.12758254989673787,
          0.1301405517959396,
          0.16245418053680769,
          0.22636765241072843,
          0.10340914085100553,
          0.21693573929530593,
          0.19260326794972416,
          0.22313052121261298,
          0.15467904098994587,
          0.15654278392556079,
          0.2025995776924358,
          0.06924744188408441,
          0.17944075494314418,
          0.13852800145652297,
          0.26379771990837425,
          0.22981584856054843,
          0.2354024720202093,
          0.27920259738187736,
          0.23895900766841177,
          0.23937673663219028,
          0.16083455815035308,
          0.14635543602420578,
          0.12138643755721933,
          0.15092054457792003,
          0.2592302158739623,
          0.26705570324159844,
          0.13882975769579622,
          0.2029522791540949,
          0.11915802936451038,
          0.19801117575075938,
          0.12622827120564828,
          0.19889968693189275,
          0.10587276211449081,
          0.17775600815307557,
          0.14003276766763423,
          0.11576329493207588,
          0.1274182930196012,
          0.11598052992114544,
          0.17334272535736178,
          0.14712620485852765
         ],
         "yaxis": "y"
        },
        {
         "cells": {
          "align": [
           "right",
           "center"
          ],
          "fill": {
           "color": [
            [
             "white",
             "white",
             "white"
            ],
            [
             "white",
             "rgb(179,226,205)",
             "white"
            ],
            [
             "rgb(244,202,228)",
             "rgb(179,226,205)",
             "white"
            ]
           ]
          },
          "format": [
           "",
           ".2f",
           ".5f"
          ],
          "prefix": [
           "",
           "",
           "p = "
          ],
          "values": [
           [
            "Shapiro-Wilk",
            "Wilcoxon",
            "T-test"
           ],
           [
            0.9828956387229787,
            3926,
            2.708513693131822
           ],
           [
            0.0016990018078009512,
            0.019133440054720247,
            0.007595845458627019
           ]
          ]
         },
         "columnwidth": [
          5,
          4,
          4
         ],
         "domain": {
          "x": [
           0,
           0.45
          ],
          "y": [
           0.575,
           1
          ]
         },
         "header": {
          "align": [
           "right",
           "center"
          ],
          "values": [
           "<b>Test</b>",
           "<b>Result</b>",
           "<b>p-value</b>"
          ]
         },
         "type": "table"
        }
       ],
       "layout": {
        "template": {
         "data": {
          "bar": [
           {
            "error_x": {
             "color": "#2a3f5f"
            },
            "error_y": {
             "color": "#2a3f5f"
            },
            "marker": {
             "line": {
              "color": "#E5ECF6",
              "width": 0.5
             },
             "pattern": {
              "fillmode": "overlay",
              "size": 10,
              "solidity": 0.2
             }
            },
            "type": "bar"
           }
          ],
          "barpolar": [
           {
            "marker": {
             "line": {
              "color": "#E5ECF6",
              "width": 0.5
             },
             "pattern": {
              "fillmode": "overlay",
              "size": 10,
              "solidity": 0.2
             }
            },
            "type": "barpolar"
           }
          ],
          "carpet": [
           {
            "aaxis": {
             "endlinecolor": "#2a3f5f",
             "gridcolor": "white",
             "linecolor": "white",
             "minorgridcolor": "white",
             "startlinecolor": "#2a3f5f"
            },
            "baxis": {
             "endlinecolor": "#2a3f5f",
             "gridcolor": "white",
             "linecolor": "white",
             "minorgridcolor": "white",
             "startlinecolor": "#2a3f5f"
            },
            "type": "carpet"
           }
          ],
          "choropleth": [
           {
            "colorbar": {
             "outlinewidth": 0,
             "ticks": ""
            },
            "type": "choropleth"
           }
          ],
          "contour": [
           {
            "colorbar": {
             "outlinewidth": 0,
             "ticks": ""
            },
            "colorscale": [
             [
              0,
              "#0d0887"
             ],
             [
              0.1111111111111111,
              "#46039f"
             ],
             [
              0.2222222222222222,
              "#7201a8"
             ],
             [
              0.3333333333333333,
              "#9c179e"
             ],
             [
              0.4444444444444444,
              "#bd3786"
             ],
             [
              0.5555555555555556,
              "#d8576b"
             ],
             [
              0.6666666666666666,
              "#ed7953"
             ],
             [
              0.7777777777777778,
              "#fb9f3a"
             ],
             [
              0.8888888888888888,
              "#fdca26"
             ],
             [
              1,
              "#f0f921"
             ]
            ],
            "type": "contour"
           }
          ],
          "contourcarpet": [
           {
            "colorbar": {
             "outlinewidth": 0,
             "ticks": ""
            },
            "type": "contourcarpet"
           }
          ],
          "heatmap": [
           {
            "colorbar": {
             "outlinewidth": 0,
             "ticks": ""
            },
            "colorscale": [
             [
              0,
              "#0d0887"
             ],
             [
              0.1111111111111111,
              "#46039f"
             ],
             [
              0.2222222222222222,
              "#7201a8"
             ],
             [
              0.3333333333333333,
              "#9c179e"
             ],
             [
              0.4444444444444444,
              "#bd3786"
             ],
             [
              0.5555555555555556,
              "#d8576b"
             ],
             [
              0.6666666666666666,
              "#ed7953"
             ],
             [
              0.7777777777777778,
              "#fb9f3a"
             ],
             [
              0.8888888888888888,
              "#fdca26"
             ],
             [
              1,
              "#f0f921"
             ]
            ],
            "type": "heatmap"
           }
          ],
          "heatmapgl": [
           {
            "colorbar": {
             "outlinewidth": 0,
             "ticks": ""
            },
            "colorscale": [
             [
              0,
              "#0d0887"
             ],
             [
              0.1111111111111111,
              "#46039f"
             ],
             [
              0.2222222222222222,
              "#7201a8"
             ],
             [
              0.3333333333333333,
              "#9c179e"
             ],
             [
              0.4444444444444444,
              "#bd3786"
             ],
             [
              0.5555555555555556,
              "#d8576b"
             ],
             [
              0.6666666666666666,
              "#ed7953"
             ],
             [
              0.7777777777777778,
              "#fb9f3a"
             ],
             [
              0.8888888888888888,
              "#fdca26"
             ],
             [
              1,
              "#f0f921"
             ]
            ],
            "type": "heatmapgl"
           }
          ],
          "histogram": [
           {
            "marker": {
             "pattern": {
              "fillmode": "overlay",
              "size": 10,
              "solidity": 0.2
             }
            },
            "type": "histogram"
           }
          ],
          "histogram2d": [
           {
            "colorbar": {
             "outlinewidth": 0,
             "ticks": ""
            },
            "colorscale": [
             [
              0,
              "#0d0887"
             ],
             [
              0.1111111111111111,
              "#46039f"
             ],
             [
              0.2222222222222222,
              "#7201a8"
             ],
             [
              0.3333333333333333,
              "#9c179e"
             ],
             [
              0.4444444444444444,
              "#bd3786"
             ],
             [
              0.5555555555555556,
              "#d8576b"
             ],
             [
              0.6666666666666666,
              "#ed7953"
             ],
             [
              0.7777777777777778,
              "#fb9f3a"
             ],
             [
              0.8888888888888888,
              "#fdca26"
             ],
             [
              1,
              "#f0f921"
             ]
            ],
            "type": "histogram2d"
           }
          ],
          "histogram2dcontour": [
           {
            "colorbar": {
             "outlinewidth": 0,
             "ticks": ""
            },
            "colorscale": [
             [
              0,
              "#0d0887"
             ],
             [
              0.1111111111111111,
              "#46039f"
             ],
             [
              0.2222222222222222,
              "#7201a8"
             ],
             [
              0.3333333333333333,
              "#9c179e"
             ],
             [
              0.4444444444444444,
              "#bd3786"
             ],
             [
              0.5555555555555556,
              "#d8576b"
             ],
             [
              0.6666666666666666,
              "#ed7953"
             ],
             [
              0.7777777777777778,
              "#fb9f3a"
             ],
             [
              0.8888888888888888,
              "#fdca26"
             ],
             [
              1,
              "#f0f921"
             ]
            ],
            "type": "histogram2dcontour"
           }
          ],
          "mesh3d": [
           {
            "colorbar": {
             "outlinewidth": 0,
             "ticks": ""
            },
            "type": "mesh3d"
           }
          ],
          "parcoords": [
           {
            "line": {
             "colorbar": {
              "outlinewidth": 0,
              "ticks": ""
             }
            },
            "type": "parcoords"
           }
          ],
          "pie": [
           {
            "automargin": true,
            "type": "pie"
           }
          ],
          "scatter": [
           {
            "fillpattern": {
             "fillmode": "overlay",
             "size": 10,
             "solidity": 0.2
            },
            "type": "scatter"
           }
          ],
          "scatter3d": [
           {
            "line": {
             "colorbar": {
              "outlinewidth": 0,
              "ticks": ""
             }
            },
            "marker": {
             "colorbar": {
              "outlinewidth": 0,
              "ticks": ""
             }
            },
            "type": "scatter3d"
           }
          ],
          "scattercarpet": [
           {
            "marker": {
             "colorbar": {
              "outlinewidth": 0,
              "ticks": ""
             }
            },
            "type": "scattercarpet"
           }
          ],
          "scattergeo": [
           {
            "marker": {
             "colorbar": {
              "outlinewidth": 0,
              "ticks": ""
             }
            },
            "type": "scattergeo"
           }
          ],
          "scattergl": [
           {
            "marker": {
             "colorbar": {
              "outlinewidth": 0,
              "ticks": ""
             }
            },
            "type": "scattergl"
           }
          ],
          "scattermapbox": [
           {
            "marker": {
             "colorbar": {
              "outlinewidth": 0,
              "ticks": ""
             }
            },
            "type": "scattermapbox"
           }
          ],
          "scatterpolar": [
           {
            "marker": {
             "colorbar": {
              "outlinewidth": 0,
              "ticks": ""
             }
            },
            "type": "scatterpolar"
           }
          ],
          "scatterpolargl": [
           {
            "marker": {
             "colorbar": {
              "outlinewidth": 0,
              "ticks": ""
             }
            },
            "type": "scatterpolargl"
           }
          ],
          "scatterternary": [
           {
            "marker": {
             "colorbar": {
              "outlinewidth": 0,
              "ticks": ""
             }
            },
            "type": "scatterternary"
           }
          ],
          "surface": [
           {
            "colorbar": {
             "outlinewidth": 0,
             "ticks": ""
            },
            "colorscale": [
             [
              0,
              "#0d0887"
             ],
             [
              0.1111111111111111,
              "#46039f"
             ],
             [
              0.2222222222222222,
              "#7201a8"
             ],
             [
              0.3333333333333333,
              "#9c179e"
             ],
             [
              0.4444444444444444,
              "#bd3786"
             ],
             [
              0.5555555555555556,
              "#d8576b"
             ],
             [
              0.6666666666666666,
              "#ed7953"
             ],
             [
              0.7777777777777778,
              "#fb9f3a"
             ],
             [
              0.8888888888888888,
              "#fdca26"
             ],
             [
              1,
              "#f0f921"
             ]
            ],
            "type": "surface"
           }
          ],
          "table": [
           {
            "cells": {
             "fill": {
              "color": "#EBF0F8"
             },
             "line": {
              "color": "white"
             }
            },
            "header": {
             "fill": {
              "color": "#C8D4E3"
             },
             "line": {
              "color": "white"
             }
            },
            "type": "table"
           }
          ]
         },
         "layout": {
          "annotationdefaults": {
           "arrowcolor": "#2a3f5f",
           "arrowhead": 0,
           "arrowwidth": 1
          },
          "autotypenumbers": "strict",
          "coloraxis": {
           "colorbar": {
            "outlinewidth": 0,
            "ticks": ""
           }
          },
          "colorscale": {
           "diverging": [
            [
             0,
             "#8e0152"
            ],
            [
             0.1,
             "#c51b7d"
            ],
            [
             0.2,
             "#de77ae"
            ],
            [
             0.3,
             "#f1b6da"
            ],
            [
             0.4,
             "#fde0ef"
            ],
            [
             0.5,
             "#f7f7f7"
            ],
            [
             0.6,
             "#e6f5d0"
            ],
            [
             0.7,
             "#b8e186"
            ],
            [
             0.8,
             "#7fbc41"
            ],
            [
             0.9,
             "#4d9221"
            ],
            [
             1,
             "#276419"
            ]
           ],
           "sequential": [
            [
             0,
             "#0d0887"
            ],
            [
             0.1111111111111111,
             "#46039f"
            ],
            [
             0.2222222222222222,
             "#7201a8"
            ],
            [
             0.3333333333333333,
             "#9c179e"
            ],
            [
             0.4444444444444444,
             "#bd3786"
            ],
            [
             0.5555555555555556,
             "#d8576b"
            ],
            [
             0.6666666666666666,
             "#ed7953"
            ],
            [
             0.7777777777777778,
             "#fb9f3a"
            ],
            [
             0.8888888888888888,
             "#fdca26"
            ],
            [
             1,
             "#f0f921"
            ]
           ],
           "sequentialminus": [
            [
             0,
             "#0d0887"
            ],
            [
             0.1111111111111111,
             "#46039f"
            ],
            [
             0.2222222222222222,
             "#7201a8"
            ],
            [
             0.3333333333333333,
             "#9c179e"
            ],
            [
             0.4444444444444444,
             "#bd3786"
            ],
            [
             0.5555555555555556,
             "#d8576b"
            ],
            [
             0.6666666666666666,
             "#ed7953"
            ],
            [
             0.7777777777777778,
             "#fb9f3a"
            ],
            [
             0.8888888888888888,
             "#fdca26"
            ],
            [
             1,
             "#f0f921"
            ]
           ]
          },
          "colorway": [
           "#636efa",
           "#EF553B",
           "#00cc96",
           "#ab63fa",
           "#FFA15A",
           "#19d3f3",
           "#FF6692",
           "#B6E880",
           "#FF97FF",
           "#FECB52"
          ],
          "font": {
           "color": "#2a3f5f"
          },
          "geo": {
           "bgcolor": "white",
           "lakecolor": "white",
           "landcolor": "#E5ECF6",
           "showlakes": true,
           "showland": true,
           "subunitcolor": "white"
          },
          "hoverlabel": {
           "align": "left"
          },
          "hovermode": "closest",
          "mapbox": {
           "style": "light"
          },
          "paper_bgcolor": "white",
          "plot_bgcolor": "#E5ECF6",
          "polar": {
           "angularaxis": {
            "gridcolor": "white",
            "linecolor": "white",
            "ticks": ""
           },
           "bgcolor": "#E5ECF6",
           "radialaxis": {
            "gridcolor": "white",
            "linecolor": "white",
            "ticks": ""
           }
          },
          "scene": {
           "xaxis": {
            "backgroundcolor": "#E5ECF6",
            "gridcolor": "white",
            "gridwidth": 2,
            "linecolor": "white",
            "showbackground": true,
            "ticks": "",
            "zerolinecolor": "white"
           },
           "yaxis": {
            "backgroundcolor": "#E5ECF6",
            "gridcolor": "white",
            "gridwidth": 2,
            "linecolor": "white",
            "showbackground": true,
            "ticks": "",
            "zerolinecolor": "white"
           },
           "zaxis": {
            "backgroundcolor": "#E5ECF6",
            "gridcolor": "white",
            "gridwidth": 2,
            "linecolor": "white",
            "showbackground": true,
            "ticks": "",
            "zerolinecolor": "white"
           }
          },
          "shapedefaults": {
           "line": {
            "color": "#2a3f5f"
           }
          },
          "ternary": {
           "aaxis": {
            "gridcolor": "white",
            "linecolor": "white",
            "ticks": ""
           },
           "baxis": {
            "gridcolor": "white",
            "linecolor": "white",
            "ticks": ""
           },
           "bgcolor": "#E5ECF6",
           "caxis": {
            "gridcolor": "white",
            "linecolor": "white",
            "ticks": ""
           }
          },
          "title": {
           "x": 0.05
          },
          "xaxis": {
           "automargin": true,
           "gridcolor": "white",
           "linecolor": "white",
           "ticks": "",
           "title": {
            "standoff": 15
           },
           "zerolinecolor": "white",
           "zerolinewidth": 2
          },
          "yaxis": {
           "automargin": true,
           "gridcolor": "white",
           "linecolor": "white",
           "ticks": "",
           "title": {
            "standoff": 15
           },
           "zerolinecolor": "white",
           "zerolinewidth": 2
          }
         }
        },
        "title": {
         "text": "IPA by Navigation Method"
        },
        "width": 1200,
        "xaxis": {
         "anchor": "y",
         "domain": [
          0.55,
          1
         ],
         "title": {
          "text": "Method"
         }
        },
        "yaxis": {
         "anchor": "x",
         "domain": [
          0,
          1
         ],
         "range": [
          0,
          0.3389561984732929
         ],
         "title": {
          "text": "IPA"
         }
        }
       }
      }
     },
     "metadata": {},
     "output_type": "display_data"
    }
   ],
   "source": [
    "stats_table = go.Table(columnwidth=[5,4,4,4,4])\n",
    "stats_table.header = dict(\n",
    "    values=summary_header, \n",
    "    align = ['right', 'center'],)\n",
    "stats_table.cells = dict(\n",
    "        values=summary_values,\n",
    "        align = ['right', 'center'],\n",
    "        format=[\"\", \".3f\"],\n",
    "        )\n",
    "\n",
    "results_table = go.Table(columnwidth=[5,4,4])\n",
    "results_table.header = dict(\n",
    "    values= results_header, \n",
    "    align = ['right', 'center'],)\n",
    "results_table.cells = dict(\n",
    "        values=results_values,\n",
    "        align = ['right', 'center'],\n",
    "        format=[\"\", \".2f\", \".5f\"],\n",
    "        fill_color=fill_color,\n",
    "        prefix=results_prefix,\n",
    "        )\n",
    "\n",
    "iqr_fig = make_subplots(\n",
    "    rows=2, cols=2,\n",
    "    shared_xaxes=False,\n",
    "    specs=[\n",
    "        [{\"type\": \"table\"}, {\"type\": \"box\", \"rowspan\": 2}],\n",
    "        [{\"type\": \"table\"}, None]\n",
    "    ])\n",
    "\n",
    "iqr_fig.add_trace(stats_table, row=2, col=1)\n",
    "iqr_fig.add_trace(go.Box(y=ipa_nav['4DoF'], name=\"4-DoF\", notched=True, notchwidth=0.15), row=1, col=2)\n",
    "iqr_fig.add_trace(go.Box(y=ipa_nav['6DoF'], name=\"6-DoF\", notched=True, notchwidth=0.15), row=1, col=2)\n",
    "iqr_fig.add_trace(results_table, row=1, col=1)\n",
    "\n",
    "iqr_fig.update_layout(\n",
    "    title_text=\"IPA by Navigation Method\",\n",
    "    width=1200,\n",
    "    xaxis_title='Method',\n",
    "    yaxis_title='IPA',\n",
    ")\n",
    "\n",
    "iqr_fig.update_yaxes(range=[0,max(1.1*ipa_4dof.max(), 1.1*ipa_6dof.max())])\n",
    "iqr_fig.show()"
   ]
  },
  {
   "cell_type": "markdown",
   "metadata": {},
   "source": [
    "#### TEPR Evaluation"
   ]
  },
  {
   "cell_type": "code",
   "execution_count": 285,
   "metadata": {},
   "outputs": [],
   "source": [
    "tepr_nav = user_data_nav.loc[(slice(None), slice(None),  slice(None)), 'adj_pupil']\n",
    "tepr_nav = tepr_nav.unstack(level=(3))\n",
    "\n",
    "# outliers_4dof = iqr_outlier_indices(tepr_nav['4DoF'])\n",
    "# tepr_nav = tepr_nav.drop(ipa_nav.iloc[outliers_4dof].index)\n",
    "\n",
    "# outliers_6dof = iqr_outlier_indices(tepr_nav['6DoF'])\n",
    "# tepr_nav = tepr_nav.drop(tepr_nav.iloc[outliers_6dof].index)\n",
    "\n",
    "tepr_4dof = tepr_nav['4DoF']\n",
    "tepr_6dof = tepr_nav['6DoF']\n",
    "\n",
    "n_stat, n_p = stats.shapiro(tepr_nav.stack())\n",
    "w_stat, w_p = stats.wilcoxon(tepr_4dof, tepr_6dof, nan_policy='omit')\n",
    "t_stat, t_p = stats.ttest_rel(tepr_4dof, tepr_6dof, nan_policy='omit')\n",
    "\n",
    "results_colors = get_results_colors(n_p, w_p, t_p)\n",
    "results_header = ['<b>Test</b>', '<b>Result</b>', '<b>p-value</b>']\n",
    "results_values=[['Shapiro-Wilk', 'Wilcoxon', 'T-test'], [n_stat, w_stat, t_stat], [n_p, w_p, t_p]]\n",
    "results_prefix = ['','', 'p = ',]\n",
    "fill_color = results_colors\n",
    "\n",
    "if n_p < 0.05:\n",
    "    iqr_4dof, q1_4dof, q3_4dof = iqr_stats(tepr_4dof)\n",
    "    iqr_6dof, q1_6dof, q3_6dof = iqr_stats(tepr_6dof)\n",
    "    summary_header = ['', '<b>Median</b>', '<b>IQR</b>', '<b>Min</b>', '<b>Max</b>', '<b>Skewness</b>']\n",
    "    summary_values = [['<b>4-DoF</b>', '<b>6-DoF</b>'], \n",
    "                      [tepr_4dof.median(), tepr_6dof.median()], \n",
    "                      [iqr_4dof, iqr_6dof], \n",
    "                      [tepr_4dof.min(), tepr_6dof.min()], \n",
    "                      [tepr_4dof.max(), tepr_6dof.max()], \n",
    "                      [tepr_4dof.skew(), tepr_6dof.skew()]]\n",
    "    \n",
    "\n",
    "else:\n",
    "    header = ['', '<b>Mean</b>', '<b>STD</b>', '<b>Min</b>', '<b>Max</b>', '<b>Skewness</b>']\n",
    "    values = [['<b>4-DoF</b>', '<b>6-DoF</b'], \n",
    "              [ipa_4dof.mean(), tepr_6dof.mean()], \n",
    "              [ipa_4dof.std(), tepr_6dof.std()], \n",
    "              [ipa_4dof.min(), tepr_6dof.min()], \n",
    "              [ipa_4dof.max(), tepr_6dof.max()], \n",
    "              [ipa_4dof.skew(), tepr_6dof.skew()]]\n",
    "    prefix=['t = ','']"
   ]
  },
  {
   "cell_type": "code",
   "execution_count": 286,
   "metadata": {},
   "outputs": [
    {
     "data": {
      "application/vnd.plotly.v1+json": {
       "config": {
        "plotlyServerURL": "https://plot.ly"
       },
       "data": [
        {
         "cells": {
          "align": [
           "right",
           "center"
          ],
          "format": [
           "",
           ".3f"
          ],
          "values": [
           [
            "<b>4-DoF</b>",
            "<b>6-DoF</b>"
           ],
           [
            0.3995944708585739,
            0.4556359052658081
           ],
           [
            0.433583315461874,
            0.4837413504719734
           ],
           [
            -0.35432296991348267,
            -0.1200249046087265
           ],
           [
            1.2683532238006592,
            1.1112946271896362
           ],
           [
            0.16642308135545297,
            0.10555422744258544
           ]
          ]
         },
         "columnwidth": [
          5,
          4,
          4,
          4,
          4
         ],
         "domain": {
          "x": [
           0,
           0.45
          ],
          "y": [
           0,
           0.425
          ]
         },
         "header": {
          "align": [
           "right",
           "center"
          ],
          "values": [
           "",
           "<b>Median</b>",
           "<b>IQR</b>",
           "<b>Min</b>",
           "<b>Max</b>",
           "<b>Skewness</b>"
          ]
         },
         "type": "table"
        },
        {
         "name": "4-DoF",
         "notched": true,
         "notchwidth": 0.15,
         "type": "box",
         "xaxis": "x",
         "y": [
          1.0348811149597168,
          0.8795796632766724,
          0.8060040473937988,
          1.2683532238006592,
          0.4126676917076111,
          0.2339106947183609,
          0.3134157359600067,
          0.16210836172103882,
          0.6092342734336853,
          0.677227258682251,
          0.8654860854148865,
          0.6555644273757935,
          0.2943052351474762,
          0.40116047859191895,
          0.6003977656364441,
          0.49366557598114014,
          0.3980284631252289,
          0.4318135380744934,
          0.528428316116333,
          0.5896434783935547,
          0.15884818136692047,
          0.2808269262313843,
          0.21034295856952667,
          0.07388059794902802,
          0.49450576305389404,
          0.4829946756362915,
          0.8989161849021912,
          0.4484702944755554,
          0.20096085965633392,
          0.12302107363939285,
          null,
          0.2513553202152252,
          0.3934841454029083,
          0.5000987648963928,
          0.7023778557777405,
          0.21307498216629028,
          0.009366840124130249,
          0.032684098929166794,
          0.10449957102537155,
          0.0572332963347435,
          0.6253582239151001,
          0.7281326651573181,
          0.7572097778320312,
          0.5854337811470032,
          0.08829550445079803,
          0.03145220875740051,
          0.04619599133729935,
          -0.03975613787770271,
          0.5195550918579102,
          0.5777131915092468,
          0.8889498710632324,
          0.6968556642532349,
          0.21157722175121307,
          0.31755924224853516,
          0.49746739864349365,
          0.3563937246799469,
          0.37548428773880005,
          0.23264440894126892,
          0.3217141330242157,
          0.332448273897171,
          0.8312544226646423,
          0.7144200801849365,
          1.0818569660186768,
          1.0201703310012817,
          0.04255225509405136,
          0.0754774659872055,
          0.5293781757354736,
          0.2425442785024643,
          1.013879418373108,
          null,
          0.9271350502967834,
          1.0053656101226807,
          0.3762816786766052,
          0.4690280556678772,
          0.5713517069816589,
          0.5285757780075073,
          0.7754248976707458,
          0.8696057200431824,
          0.6952787041664124,
          0.9568375945091248,
          0.20219245553016663,
          0.23172397911548615,
          0.09543334692716599,
          0.12676288187503815,
          0.4119293689727783,
          0.2504187822341919,
          0.1981879323720932,
          0.08053816854953766,
          0.49506306648254395,
          0.5647890567779541,
          0.7243813872337341,
          0.7255685925483704,
          0.461479514837265,
          0.38449063897132874,
          0.5105094313621521,
          0.3970334827899933,
          0.37764397263526917,
          0.32538169622421265,
          0.23904742300510406,
          0.5104919075965881,
          0.022086739540100098,
          0.11693844199180603,
          0.09359976649284363,
          0.015627197921276093,
          0.25303715467453003,
          0.1592140942811966,
          0.1806352138519287,
          0.0210065096616745,
          0.6526226997375488,
          0.6313202977180481,
          0.8552412390708923,
          0.7440829873085022,
          0.22669269144535065,
          0.03339545801281929,
          0.03466365486383438,
          0.07172159850597382,
          0.2846165597438812,
          0.18638446927070618,
          0.45112690329551697,
          0.5243868827819824,
          0.5030338168144226,
          0.6350011825561523,
          0.545325756072998,
          0.6779249906539917,
          0.7840433716773987,
          0.765152633190155,
          0.5313510298728943,
          0.5665593147277832,
          -0.35432296991348267,
          -0.18103459477424622,
          0.03269975259900093,
          -0.0464046373963356,
          0.6155999302864075,
          0.6105928421020508,
          0.6114159822463989,
          0.6588739156723022,
          0.31962597370147705,
          0.31801506876945496,
          0.3963565528392792,
          0.25793522596359253,
          -0.23173443973064423,
          -0.01234634779393673,
          -0.053960856050252914,
          -0.1799778789281845
         ],
         "yaxis": "y"
        },
        {
         "name": "6-DoF",
         "notched": true,
         "notchwidth": 0.15,
         "type": "box",
         "xaxis": "x",
         "y": [
          0.5303362011909485,
          0.6904584169387817,
          0.9923869967460632,
          1.008360505104065,
          0.2420806884765625,
          0.32237571477890015,
          0.4557444751262665,
          0.21962511539459229,
          0.521500825881958,
          0.7055187821388245,
          0.5071447491645813,
          0.6205980181694031,
          0.6131526231765747,
          0.7099944353103638,
          0.7209700345993042,
          0.7299903035163879,
          0.47589364647865295,
          0.48656755685806274,
          0.8237665891647339,
          0.8723488450050354,
          0.03926897421479225,
          0.17349554598331451,
          0.07518664747476578,
          0.3781120479106903,
          0.374401718378067,
          0.2713027894496918,
          0.5268340706825256,
          0.5555135607719421,
          -0.1200249046087265,
          0.23031571507453918,
          0.24803373217582703,
          0.07540194690227509,
          0.13680444657802582,
          0.2954421639442444,
          0.15842179954051971,
          0.16486893594264984,
          0.22225411236286163,
          0.21032777428627014,
          0.05262761190533638,
          0.19973845779895782,
          0.9398908019065857,
          0.7304108738899231,
          0.842604398727417,
          1.1112946271896362,
          0.2337496280670166,
          0.06009272485971451,
          0.13984113931655884,
          0.14664852619171143,
          0.5278339385986328,
          0.7932499051094055,
          0.7961285710334778,
          0.7294407486915588,
          0.11553547531366348,
          0.2728240489959717,
          0.40109312534332275,
          0.34227657318115234,
          0.20877781510353088,
          0.2995304763317108,
          0.4072844386100769,
          0.424255907535553,
          0.8714947700500488,
          0.5464932918548584,
          0.9063816666603088,
          1.101011037826538,
          0.33785170316696167,
          0.6216132044792175,
          0.5476747751235962,
          0.45552733540534973,
          0.871268093585968,
          0.9046590924263,
          0.7800809144973755,
          0.9634385704994202,
          0.5938265323638916,
          0.595009446144104,
          0.5815413594245911,
          0.6596320867538452,
          0.12314984202384949,
          0.7777234315872192,
          0.6787693500518799,
          0.8188732862472534,
          0.1839994639158249,
          0.22617579996585846,
          0.1955944150686264,
          0.3456762731075287,
          0.2314223349094391,
          0.2616215944290161,
          0.5510652661323547,
          0.2731800079345703,
          0.7192299365997314,
          0.61262446641922,
          0.6360997557640076,
          0.7117622494697571,
          0.3683541715145111,
          0.2365877479314804,
          0.40641769766807556,
          0.5257049798965454,
          0.44058936834335327,
          0.3713054955005646,
          0.3998507559299469,
          0.568514347076416,
          0.09594643115997314,
          0.38004523515701294,
          0.10571815818548203,
          0.29676100611686707,
          0.23070038855075836,
          0.06390157341957092,
          0.14970164000988007,
          0.11736196279525757,
          0.7334967255592346,
          0.6581764221191406,
          0.988036572933197,
          0.8537009954452515,
          0.3147294223308563,
          0.24801433086395264,
          0.24089428782463074,
          0.41009801626205444,
          0.7894624471664429,
          0.716135561466217,
          0.4473775327205658,
          0.8584288954734802,
          0.7542350888252258,
          0.7572250962257385,
          0.8210259079933167,
          1.0283775329589844,
          0.6601700782775879,
          0.7517042756080627,
          0.644170880317688,
          0.6355926394462585,
          0.31817519664764404,
          0.6375375986099243,
          0.4706326723098755,
          0.09278766810894012,
          0.9454607963562012,
          0.6703585386276245,
          0.8285019993782043,
          0.8723974823951721,
          0.24940942227840424,
          0.25591224431991577,
          0.1845453828573227,
          0.2602180242538452,
          -0.07499731332063675,
          -0.08420252799987793,
          -0.07087147235870361,
          -0.10120516270399094
         ],
         "yaxis": "y"
        },
        {
         "cells": {
          "align": [
           "right",
           "center"
          ],
          "fill": {
           "color": [
            [
             "white",
             "white",
             "white"
            ],
            [
             "white",
             "rgb(179,226,205)",
             "white"
            ],
            [
             "rgb(244,202,228)",
             "rgb(179,226,205)",
             "white"
            ]
           ]
          },
          "format": [
           "",
           ".2f",
           ".5f"
          ],
          "prefix": [
           "",
           "",
           "p = "
          ],
          "values": [
           [
            "Shapiro-Wilk",
            "Wilcoxon",
            "T-test"
           ],
           [
            0.9884486953052837,
            3470,
            -3.2103885593347665
           ],
           [
            0.02221875637320484,
            0.001069648947112154,
            0.0016417704972370118
           ]
          ]
         },
         "columnwidth": [
          5,
          4,
          4
         ],
         "domain": {
          "x": [
           0,
           0.45
          ],
          "y": [
           0.575,
           1
          ]
         },
         "header": {
          "align": [
           "right",
           "center"
          ],
          "values": [
           "<b>Test</b>",
           "<b>Result</b>",
           "<b>p-value</b>"
          ]
         },
         "type": "table"
        }
       ],
       "layout": {
        "template": {
         "data": {
          "bar": [
           {
            "error_x": {
             "color": "#2a3f5f"
            },
            "error_y": {
             "color": "#2a3f5f"
            },
            "marker": {
             "line": {
              "color": "#E5ECF6",
              "width": 0.5
             },
             "pattern": {
              "fillmode": "overlay",
              "size": 10,
              "solidity": 0.2
             }
            },
            "type": "bar"
           }
          ],
          "barpolar": [
           {
            "marker": {
             "line": {
              "color": "#E5ECF6",
              "width": 0.5
             },
             "pattern": {
              "fillmode": "overlay",
              "size": 10,
              "solidity": 0.2
             }
            },
            "type": "barpolar"
           }
          ],
          "carpet": [
           {
            "aaxis": {
             "endlinecolor": "#2a3f5f",
             "gridcolor": "white",
             "linecolor": "white",
             "minorgridcolor": "white",
             "startlinecolor": "#2a3f5f"
            },
            "baxis": {
             "endlinecolor": "#2a3f5f",
             "gridcolor": "white",
             "linecolor": "white",
             "minorgridcolor": "white",
             "startlinecolor": "#2a3f5f"
            },
            "type": "carpet"
           }
          ],
          "choropleth": [
           {
            "colorbar": {
             "outlinewidth": 0,
             "ticks": ""
            },
            "type": "choropleth"
           }
          ],
          "contour": [
           {
            "colorbar": {
             "outlinewidth": 0,
             "ticks": ""
            },
            "colorscale": [
             [
              0,
              "#0d0887"
             ],
             [
              0.1111111111111111,
              "#46039f"
             ],
             [
              0.2222222222222222,
              "#7201a8"
             ],
             [
              0.3333333333333333,
              "#9c179e"
             ],
             [
              0.4444444444444444,
              "#bd3786"
             ],
             [
              0.5555555555555556,
              "#d8576b"
             ],
             [
              0.6666666666666666,
              "#ed7953"
             ],
             [
              0.7777777777777778,
              "#fb9f3a"
             ],
             [
              0.8888888888888888,
              "#fdca26"
             ],
             [
              1,
              "#f0f921"
             ]
            ],
            "type": "contour"
           }
          ],
          "contourcarpet": [
           {
            "colorbar": {
             "outlinewidth": 0,
             "ticks": ""
            },
            "type": "contourcarpet"
           }
          ],
          "heatmap": [
           {
            "colorbar": {
             "outlinewidth": 0,
             "ticks": ""
            },
            "colorscale": [
             [
              0,
              "#0d0887"
             ],
             [
              0.1111111111111111,
              "#46039f"
             ],
             [
              0.2222222222222222,
              "#7201a8"
             ],
             [
              0.3333333333333333,
              "#9c179e"
             ],
             [
              0.4444444444444444,
              "#bd3786"
             ],
             [
              0.5555555555555556,
              "#d8576b"
             ],
             [
              0.6666666666666666,
              "#ed7953"
             ],
             [
              0.7777777777777778,
              "#fb9f3a"
             ],
             [
              0.8888888888888888,
              "#fdca26"
             ],
             [
              1,
              "#f0f921"
             ]
            ],
            "type": "heatmap"
           }
          ],
          "heatmapgl": [
           {
            "colorbar": {
             "outlinewidth": 0,
             "ticks": ""
            },
            "colorscale": [
             [
              0,
              "#0d0887"
             ],
             [
              0.1111111111111111,
              "#46039f"
             ],
             [
              0.2222222222222222,
              "#7201a8"
             ],
             [
              0.3333333333333333,
              "#9c179e"
             ],
             [
              0.4444444444444444,
              "#bd3786"
             ],
             [
              0.5555555555555556,
              "#d8576b"
             ],
             [
              0.6666666666666666,
              "#ed7953"
             ],
             [
              0.7777777777777778,
              "#fb9f3a"
             ],
             [
              0.8888888888888888,
              "#fdca26"
             ],
             [
              1,
              "#f0f921"
             ]
            ],
            "type": "heatmapgl"
           }
          ],
          "histogram": [
           {
            "marker": {
             "pattern": {
              "fillmode": "overlay",
              "size": 10,
              "solidity": 0.2
             }
            },
            "type": "histogram"
           }
          ],
          "histogram2d": [
           {
            "colorbar": {
             "outlinewidth": 0,
             "ticks": ""
            },
            "colorscale": [
             [
              0,
              "#0d0887"
             ],
             [
              0.1111111111111111,
              "#46039f"
             ],
             [
              0.2222222222222222,
              "#7201a8"
             ],
             [
              0.3333333333333333,
              "#9c179e"
             ],
             [
              0.4444444444444444,
              "#bd3786"
             ],
             [
              0.5555555555555556,
              "#d8576b"
             ],
             [
              0.6666666666666666,
              "#ed7953"
             ],
             [
              0.7777777777777778,
              "#fb9f3a"
             ],
             [
              0.8888888888888888,
              "#fdca26"
             ],
             [
              1,
              "#f0f921"
             ]
            ],
            "type": "histogram2d"
           }
          ],
          "histogram2dcontour": [
           {
            "colorbar": {
             "outlinewidth": 0,
             "ticks": ""
            },
            "colorscale": [
             [
              0,
              "#0d0887"
             ],
             [
              0.1111111111111111,
              "#46039f"
             ],
             [
              0.2222222222222222,
              "#7201a8"
             ],
             [
              0.3333333333333333,
              "#9c179e"
             ],
             [
              0.4444444444444444,
              "#bd3786"
             ],
             [
              0.5555555555555556,
              "#d8576b"
             ],
             [
              0.6666666666666666,
              "#ed7953"
             ],
             [
              0.7777777777777778,
              "#fb9f3a"
             ],
             [
              0.8888888888888888,
              "#fdca26"
             ],
             [
              1,
              "#f0f921"
             ]
            ],
            "type": "histogram2dcontour"
           }
          ],
          "mesh3d": [
           {
            "colorbar": {
             "outlinewidth": 0,
             "ticks": ""
            },
            "type": "mesh3d"
           }
          ],
          "parcoords": [
           {
            "line": {
             "colorbar": {
              "outlinewidth": 0,
              "ticks": ""
             }
            },
            "type": "parcoords"
           }
          ],
          "pie": [
           {
            "automargin": true,
            "type": "pie"
           }
          ],
          "scatter": [
           {
            "fillpattern": {
             "fillmode": "overlay",
             "size": 10,
             "solidity": 0.2
            },
            "type": "scatter"
           }
          ],
          "scatter3d": [
           {
            "line": {
             "colorbar": {
              "outlinewidth": 0,
              "ticks": ""
             }
            },
            "marker": {
             "colorbar": {
              "outlinewidth": 0,
              "ticks": ""
             }
            },
            "type": "scatter3d"
           }
          ],
          "scattercarpet": [
           {
            "marker": {
             "colorbar": {
              "outlinewidth": 0,
              "ticks": ""
             }
            },
            "type": "scattercarpet"
           }
          ],
          "scattergeo": [
           {
            "marker": {
             "colorbar": {
              "outlinewidth": 0,
              "ticks": ""
             }
            },
            "type": "scattergeo"
           }
          ],
          "scattergl": [
           {
            "marker": {
             "colorbar": {
              "outlinewidth": 0,
              "ticks": ""
             }
            },
            "type": "scattergl"
           }
          ],
          "scattermapbox": [
           {
            "marker": {
             "colorbar": {
              "outlinewidth": 0,
              "ticks": ""
             }
            },
            "type": "scattermapbox"
           }
          ],
          "scatterpolar": [
           {
            "marker": {
             "colorbar": {
              "outlinewidth": 0,
              "ticks": ""
             }
            },
            "type": "scatterpolar"
           }
          ],
          "scatterpolargl": [
           {
            "marker": {
             "colorbar": {
              "outlinewidth": 0,
              "ticks": ""
             }
            },
            "type": "scatterpolargl"
           }
          ],
          "scatterternary": [
           {
            "marker": {
             "colorbar": {
              "outlinewidth": 0,
              "ticks": ""
             }
            },
            "type": "scatterternary"
           }
          ],
          "surface": [
           {
            "colorbar": {
             "outlinewidth": 0,
             "ticks": ""
            },
            "colorscale": [
             [
              0,
              "#0d0887"
             ],
             [
              0.1111111111111111,
              "#46039f"
             ],
             [
              0.2222222222222222,
              "#7201a8"
             ],
             [
              0.3333333333333333,
              "#9c179e"
             ],
             [
              0.4444444444444444,
              "#bd3786"
             ],
             [
              0.5555555555555556,
              "#d8576b"
             ],
             [
              0.6666666666666666,
              "#ed7953"
             ],
             [
              0.7777777777777778,
              "#fb9f3a"
             ],
             [
              0.8888888888888888,
              "#fdca26"
             ],
             [
              1,
              "#f0f921"
             ]
            ],
            "type": "surface"
           }
          ],
          "table": [
           {
            "cells": {
             "fill": {
              "color": "#EBF0F8"
             },
             "line": {
              "color": "white"
             }
            },
            "header": {
             "fill": {
              "color": "#C8D4E3"
             },
             "line": {
              "color": "white"
             }
            },
            "type": "table"
           }
          ]
         },
         "layout": {
          "annotationdefaults": {
           "arrowcolor": "#2a3f5f",
           "arrowhead": 0,
           "arrowwidth": 1
          },
          "autotypenumbers": "strict",
          "coloraxis": {
           "colorbar": {
            "outlinewidth": 0,
            "ticks": ""
           }
          },
          "colorscale": {
           "diverging": [
            [
             0,
             "#8e0152"
            ],
            [
             0.1,
             "#c51b7d"
            ],
            [
             0.2,
             "#de77ae"
            ],
            [
             0.3,
             "#f1b6da"
            ],
            [
             0.4,
             "#fde0ef"
            ],
            [
             0.5,
             "#f7f7f7"
            ],
            [
             0.6,
             "#e6f5d0"
            ],
            [
             0.7,
             "#b8e186"
            ],
            [
             0.8,
             "#7fbc41"
            ],
            [
             0.9,
             "#4d9221"
            ],
            [
             1,
             "#276419"
            ]
           ],
           "sequential": [
            [
             0,
             "#0d0887"
            ],
            [
             0.1111111111111111,
             "#46039f"
            ],
            [
             0.2222222222222222,
             "#7201a8"
            ],
            [
             0.3333333333333333,
             "#9c179e"
            ],
            [
             0.4444444444444444,
             "#bd3786"
            ],
            [
             0.5555555555555556,
             "#d8576b"
            ],
            [
             0.6666666666666666,
             "#ed7953"
            ],
            [
             0.7777777777777778,
             "#fb9f3a"
            ],
            [
             0.8888888888888888,
             "#fdca26"
            ],
            [
             1,
             "#f0f921"
            ]
           ],
           "sequentialminus": [
            [
             0,
             "#0d0887"
            ],
            [
             0.1111111111111111,
             "#46039f"
            ],
            [
             0.2222222222222222,
             "#7201a8"
            ],
            [
             0.3333333333333333,
             "#9c179e"
            ],
            [
             0.4444444444444444,
             "#bd3786"
            ],
            [
             0.5555555555555556,
             "#d8576b"
            ],
            [
             0.6666666666666666,
             "#ed7953"
            ],
            [
             0.7777777777777778,
             "#fb9f3a"
            ],
            [
             0.8888888888888888,
             "#fdca26"
            ],
            [
             1,
             "#f0f921"
            ]
           ]
          },
          "colorway": [
           "#636efa",
           "#EF553B",
           "#00cc96",
           "#ab63fa",
           "#FFA15A",
           "#19d3f3",
           "#FF6692",
           "#B6E880",
           "#FF97FF",
           "#FECB52"
          ],
          "font": {
           "color": "#2a3f5f"
          },
          "geo": {
           "bgcolor": "white",
           "lakecolor": "white",
           "landcolor": "#E5ECF6",
           "showlakes": true,
           "showland": true,
           "subunitcolor": "white"
          },
          "hoverlabel": {
           "align": "left"
          },
          "hovermode": "closest",
          "mapbox": {
           "style": "light"
          },
          "paper_bgcolor": "white",
          "plot_bgcolor": "#E5ECF6",
          "polar": {
           "angularaxis": {
            "gridcolor": "white",
            "linecolor": "white",
            "ticks": ""
           },
           "bgcolor": "#E5ECF6",
           "radialaxis": {
            "gridcolor": "white",
            "linecolor": "white",
            "ticks": ""
           }
          },
          "scene": {
           "xaxis": {
            "backgroundcolor": "#E5ECF6",
            "gridcolor": "white",
            "gridwidth": 2,
            "linecolor": "white",
            "showbackground": true,
            "ticks": "",
            "zerolinecolor": "white"
           },
           "yaxis": {
            "backgroundcolor": "#E5ECF6",
            "gridcolor": "white",
            "gridwidth": 2,
            "linecolor": "white",
            "showbackground": true,
            "ticks": "",
            "zerolinecolor": "white"
           },
           "zaxis": {
            "backgroundcolor": "#E5ECF6",
            "gridcolor": "white",
            "gridwidth": 2,
            "linecolor": "white",
            "showbackground": true,
            "ticks": "",
            "zerolinecolor": "white"
           }
          },
          "shapedefaults": {
           "line": {
            "color": "#2a3f5f"
           }
          },
          "ternary": {
           "aaxis": {
            "gridcolor": "white",
            "linecolor": "white",
            "ticks": ""
           },
           "baxis": {
            "gridcolor": "white",
            "linecolor": "white",
            "ticks": ""
           },
           "bgcolor": "#E5ECF6",
           "caxis": {
            "gridcolor": "white",
            "linecolor": "white",
            "ticks": ""
           }
          },
          "title": {
           "x": 0.05
          },
          "xaxis": {
           "automargin": true,
           "gridcolor": "white",
           "linecolor": "white",
           "ticks": "",
           "title": {
            "standoff": 15
           },
           "zerolinecolor": "white",
           "zerolinewidth": 2
          },
          "yaxis": {
           "automargin": true,
           "gridcolor": "white",
           "linecolor": "white",
           "ticks": "",
           "title": {
            "standoff": 15
           },
           "zerolinecolor": "white",
           "zerolinewidth": 2
          }
         }
        },
        "title": {
         "text": "TEPR by Navigation Method"
        },
        "width": 1200,
        "xaxis": {
         "anchor": "y",
         "domain": [
          0.55,
          1
         ],
         "title": {
          "text": "Method"
         }
        },
        "yaxis": {
         "anchor": "x",
         "domain": [
          0,
          1
         ],
         "range": [
          -0.3948898747563362,
          1.3089201286435128
         ],
         "title": {
          "text": "TEPR"
         }
        }
       }
      }
     },
     "metadata": {},
     "output_type": "display_data"
    }
   ],
   "source": [
    "stats_table = go.Table(columnwidth=[5,4,4,4,4])\n",
    "stats_table.header = dict(\n",
    "    values=summary_header, \n",
    "    align = ['right', 'center'],)\n",
    "stats_table.cells = dict(\n",
    "        values=summary_values,\n",
    "        align = ['right', 'center'],\n",
    "        format=[\"\", \".3f\"],\n",
    "        )\n",
    "\n",
    "results_table = go.Table(columnwidth=[5,4,4])\n",
    "results_table.header = dict(\n",
    "    values= results_header, \n",
    "    align = ['right', 'center'],)\n",
    "results_table.cells = dict(\n",
    "        values=results_values,\n",
    "        align = ['right', 'center'],\n",
    "        format=[\"\", \".2f\", \".5f\"],\n",
    "        fill_color=fill_color,\n",
    "        prefix=results_prefix,\n",
    "        )\n",
    "\n",
    "tepr_fig = make_subplots(\n",
    "    rows=2, cols=2,\n",
    "    shared_xaxes=False,\n",
    "    specs=[\n",
    "        [{\"type\": \"table\"}, {\"type\": \"box\", \"rowspan\": 2}],\n",
    "        [{\"type\": \"table\"}, None]\n",
    "    ])\n",
    "\n",
    "tepr_fig.add_trace(stats_table, row=2, col=1)\n",
    "tepr_fig.add_trace(go.Box(y=tepr_nav['4DoF'], name=\"4-DoF\", notched=True, notchwidth=0.15), row=1, col=2)\n",
    "tepr_fig.add_trace(go.Box(y=tepr_nav['6DoF'], name=\"6-DoF\", notched=True, notchwidth=0.15), row=1, col=2)\n",
    "tepr_fig.add_trace(results_table, row=1, col=1)\n",
    "\n",
    "tepr_fig.update_layout(\n",
    "    title_text=\"TEPR by Navigation Method\",\n",
    "    width=1200,\n",
    "    xaxis_title='Method',\n",
    "    yaxis_title='TEPR',\n",
    ")\n",
    "\n",
    "tepr_max = max(tepr_4dof.max(), tepr_6dof.max())\n",
    "tepr_min = min(tepr_4dof.min(), tepr_6dof.min())\n",
    "tepr_range = 0.025 * (tepr_max - tepr_min)\n",
    "tepr_fig.update_yaxes(range=[min(tepr_4dof.min() - tepr_range, tepr_6dof.min() - tepr_range), max(tepr_4dof.max() + tepr_range, tepr_6dof.max() + tepr_range)])\n",
    "tepr_fig.show()"
   ]
  },
  {
   "cell_type": "markdown",
   "metadata": {},
   "source": [
    "### Creation Workload"
   ]
  },
  {
   "cell_type": "markdown",
   "metadata": {},
   "source": [
    "#### IPA Evaluation"
   ]
  },
  {
   "cell_type": "code",
   "execution_count": 287,
   "metadata": {},
   "outputs": [],
   "source": [
    "ipa_crt = user_data_crt.loc[(slice(None), slice(None), slice(None)), 'IPA']\n",
    "ipa_crt = ipa_crt.unstack(level=(3))\n",
    "\n",
    "uni_outliers = iqr_outlier_indices(ipa_crt['unimanual'])\n",
    "ipa_crt = ipa_crt.drop(ipa_crt.iloc[uni_outliers].index)\n",
    "\n",
    "bi_outliers = iqr_outlier_indices(ipa_crt['bimanual'])\n",
    "ipa_crt = ipa_crt.drop(ipa_crt.iloc[bi_outliers].index)\n",
    "\n",
    "ipa_uni = ipa_crt['unimanual']\n",
    "ipa_bi = ipa_crt['bimanual']\n",
    "\n",
    "n_stat, n_p = stats.shapiro(ipa_crt.stack())\n",
    "w_stat, w_p = stats.wilcoxon(ipa_uni, ipa_bi)\n",
    "t_stat, t_p = stats.ttest_rel(ipa_uni, ipa_bi)\n",
    "\n",
    "results_colors = get_results_colors(n_p, w_p, t_p)\n",
    "results_header = ['<b>Test</b>', '<b>Result</b>', '<b>p-value</b>']\n",
    "results_values=[['Shapiro-Wilk', 'Wilcoxon', 'T-test'], [n_stat, w_stat, t_stat], [n_p, w_p, t_p]]\n",
    "results_prefix = ['','', 'p = ',]\n",
    "fill_color = results_colors\n",
    "\n",
    "if n_p < 0.05:\n",
    "    uni_iqr, uni_q1, uni_q3 = iqr_stats(ipa_uni)\n",
    "    bi_iqr, bi_q1, bi_q3 = iqr_stats(ipa_bi)\n",
    "    summary_header = ['', '<b>Median</b>', '<b>IQR</b>', '<b>Min</b>', '<b>Max</b>', '<b>Skewness</b>']\n",
    "    summary_values = [['<b>Unimanual</b>', '<b>Bimanual</b>'], [ipa_uni.median(), ipa_bi.median()], [uni_iqr, bi_iqr], [ipa_uni.min(), ipa_bi.min()], [ipa_uni.max(), ipa_bi.max()], [ipa_uni.skew(), ipa_bi.skew()]]\n",
    "\n",
    "else:\n",
    "    summary_header = ['', '<b>Mean</b>', '<b>STD</b>', '<b>Min</b>', '<b>Max</b>', '<b>Skewness</b>']\n",
    "    summary_values = [['<b>Unimanual</b>', '<b>Bimanual</b>'], [ipa_uni.mean(), ipa_bi.mean()], [ipa_uni.std(), ipa_bi.std()], [ipa_uni.min(), ipa_bi.min()], [ipa_uni.max(), ipa_bi.max()], [ipa_uni.skew(), ipa_bi.skew()]]\n"
   ]
  },
  {
   "cell_type": "code",
   "execution_count": 288,
   "metadata": {},
   "outputs": [
    {
     "data": {
      "application/vnd.plotly.v1+json": {
       "config": {
        "plotlyServerURL": "https://plot.ly"
       },
       "data": [
        {
         "cells": {
          "align": [
           "right",
           "center"
          ],
          "format": [
           "",
           ".3f"
          ],
          "values": [
           [
            "<b>Unimanual</b>",
            "<b>Bimanual</b>"
           ],
           [
            0.18156165631561147,
            0.1533910771479315
           ],
           [
            0.08229666804831728,
            0.08456013897049008
           ],
           [
            0.06821421993628791,
            0.04828410366597057
           ],
           [
            0.32060343395423535,
            0.32076249828162945
           ],
           [
            0.23137704886470523,
            0.5922326830993042
           ]
          ]
         },
         "columnwidth": [
          5,
          4,
          4,
          4,
          4
         ],
         "domain": {
          "x": [
           0,
           0.45
          ],
          "y": [
           0,
           0.425
          ]
         },
         "header": {
          "align": [
           "right",
           "center"
          ],
          "values": [
           "",
           "<b>Median</b>",
           "<b>IQR</b>",
           "<b>Min</b>",
           "<b>Max</b>",
           "<b>Skewness</b>"
          ]
         },
         "name": "Summary",
         "type": "table"
        },
        {
         "name": "Bimanual",
         "notched": true,
         "notchwidth": 0.15,
         "type": "box",
         "xaxis": "x",
         "y": [
          0.11191190294999775,
          0.11556940520629665,
          0.16469264235620273,
          0.04828410366597057,
          0.20949779189327347,
          0.17344721381829173,
          0.1671925269717373,
          0.2053440796735029,
          0.2107434184830408,
          0.12987940697062778,
          0.19830808210421205,
          0.2195277226925807,
          0.14427880436154825,
          0.20494840029890937,
          0.2326043275140502,
          0.12280310364377275,
          0.19003127598083852,
          0.15037593984962405,
          0.08424865991975315,
          0.15649385477085742,
          0.10737378748150488,
          0.06714639032196694,
          0.08909281243735662,
          0.11381776069246725,
          0.19970603271983642,
          0.19876124420752947,
          0.18735239669287576,
          0.09952724558347849,
          0.13634858489647247,
          0.1177631594442521,
          0.10226656803624327,
          0.2635374390869146,
          0.15952938830450172,
          0.25068504509438294,
          0.2174685214315228,
          0.25240032711082394,
          0.15934815979433464,
          0.234747845601647,
          0.07485466965885733,
          0.13935485669094924,
          0.11955001374825157,
          0.19606882015587473,
          0.07944242013388696,
          0.19188931824123845,
          0.31606450525369445,
          0.08906872288175492,
          0.15917568220044462,
          0.1575366666591649,
          0.09510163194400416,
          0.21822369271418235,
          0.09285568369639906,
          0.30381862028369067,
          0.14092049265804235,
          0.11372876826057535,
          0.11106113360099067,
          0.13690217752692083,
          0.11674142008933053,
          0.15289701621472856,
          0.10766597093941635,
          0.12592246072635854,
          0.18899678705462009,
          0.11104818380695383,
          0.17744452006960892,
          0.21689732208359222,
          0.18884863346223463,
          0.11245889978646866,
          0.08262342217952326,
          0.12904391364381299,
          0.15677035159110708,
          0.1218393848248234,
          0.11135413119186965,
          0.15468711630344198,
          0.16151224685839455,
          0.09310348621772166,
          0.09156775441528266,
          0.10580107282287841,
          0.2139952921035737,
          0.17163526933149492,
          0.19849835990730127,
          0.14079945933007618,
          0.09690204172601917,
          0.11784864933662995,
          0.30527453338787575,
          0.05012958497716598,
          0.1482920463560937,
          0.14170854449382594,
          0.15770731414981565,
          0.0970613699630002,
          0.10006178815418522,
          0.10268585112194561,
          0.20590112627916074,
          0.09233951392479871,
          0.1258902803261817,
          0.22093639822506672,
          0.08483469535436725,
          0.17967148865015206,
          0.21245556137841168,
          0.1507207682452873,
          0.14086808549002372,
          0.14641116941529236,
          0.15051524103647532,
          0.18932760301788198,
          0.2044673851802039,
          0.24741383813087092,
          0.2562686814044456,
          0.15126819472754707,
          0.09311391556430136,
          0.32076249828162945,
          0.17037594019122995,
          0.12213674158172509,
          0.20905569542377084,
          0.21315598755169035,
          0.1678520852087859,
          0.15916836298875742,
          0.19801588087364605,
          0.17366373648580377,
          0.22955984768704107,
          0.13542648508683547,
          0.18133845916711247,
          0.24304171568007932,
          0.15894624994138856,
          0.15388513808113438,
          0.1324821311345986,
          0.15613066026390301,
          0.11684851758180693,
          0.20321200013755888,
          0.21219743502269697,
          0.20532045692256037,
          0.12410354579343275,
          0.10718550166030343,
          0.132765602329088,
          0.25676709683714294,
          0.10486655730582835,
          0.07953234978327435,
          0.13922171580323098,
          0.12906889697720642,
          0.18245918489400137,
          0.0960206636468168,
          0.1592875987897496,
          0.17018074987012521
         ],
         "yaxis": "y"
        },
        {
         "name": "Unimanual",
         "notched": true,
         "notchwidth": 0.15,
         "type": "box",
         "xaxis": "x",
         "y": [
          0.10700932708276159,
          0.09893643334157803,
          0.13937226730804456,
          0.2734010246229169,
          0.1250160176772649,
          0.11181992519247005,
          0.2741582363009004,
          0.1914709275330407,
          0.18231429769493956,
          0.14696876913655846,
          0.25269257982277826,
          0.2590445401182279,
          0.32060343395423535,
          0.24079558862481637,
          0.2676575945611977,
          0.2922865577412095,
          0.11593430003217177,
          0.17276179891102478,
          0.29577048210588586,
          0.09445040881285281,
          0.0984222906803933,
          0.16651645494793238,
          0.06839524242693677,
          0.17241304994375026,
          0.1937658480646755,
          0.16516031985201635,
          0.178636594471963,
          0.09019626707715989,
          0.11348762606583795,
          0.1399271679091033,
          0.11507479861910243,
          0.24432186586729562,
          0.20651343369886213,
          0.28346216325240126,
          0.169098395538057,
          0.23328076740041245,
          0.21303338233101127,
          0.19919326726756637,
          0.214660347702061,
          0.2721736467866499,
          0.23530795929172305,
          0.2111543810009321,
          0.10869659736171619,
          0.2837721615143829,
          0.22519817439346626,
          0.06821421993628791,
          0.1363010617852713,
          0.19797275894836872,
          0.21275690396153354,
          0.27496255656950247,
          0.3034790842215154,
          0.19570467381902015,
          0.2477195509797308,
          0.1534978318431252,
          0.14381014185072866,
          0.15307278304688313,
          0.21460345879460305,
          0.2207298919483033,
          0.15199256405609693,
          0.15307555410022855,
          0.15394299319914065,
          0.2905947682374635,
          0.22171228396909332,
          0.1951767949468103,
          0.21314500787748425,
          0.11208134116532838,
          0.19205838574926778,
          0.19225909934851632,
          0.15131019497831724,
          0.2454680461970863,
          0.23064681053902159,
          0.25559758715877723,
          0.23577306057009925,
          0.16593969277451168,
          0.14023750624056905,
          0.16487593086202634,
          0.17525166138574994,
          0.12102581480629818,
          0.1704503487603525,
          0.25097251850922325,
          0.15777524285554256,
          0.13493055124527406,
          0.147658795960646,
          0.2856867373503269,
          0.21998872557781415,
          0.12470028632571299,
          0.10628404410787831,
          0.1875375075015003,
          0.16455406670692757,
          0.1563489395633174,
          0.17383670648975882,
          0.22015666348173363,
          0.12099631825488738,
          0.10812517435184363,
          0.20588938671886753,
          0.17110005931468722,
          0.22096273463480384,
          0.22243576055235248,
          0.1638144746469798,
          0.15015766554882629,
          0.17408106955409136,
          0.14265335235378032,
          0.09725639703951527,
          0.17718056116627334,
          0.2182444417108777,
          0.12971778968298825,
          0.21702173834412414,
          0.13927528107492662,
          0.22885689251572575,
          0.14694256602864206,
          0.17042380138810187,
          0.1999860009799314,
          0.10705835751067906,
          0.27626380825713054,
          0.28851702250432776,
          0.228375677990294,
          0.2758810952479481,
          0.23503088305803382,
          0.22377121630844626,
          0.2901879174042276,
          0.1090550597185507,
          0.12899700140606732,
          0.15899304405432263,
          0.13733622654983932,
          0.25742169459187303,
          0.18948365703458075,
          0.31340716683838765,
          0.21640993235025516,
          0.10613795811796173,
          0.19845116498466583,
          0.15033105044895295,
          0.1817190623296384,
          0.13370175594972813,
          0.18381677144222638,
          0.22406202036723766,
          0.14413064001210696,
          0.10758348286156696,
          0.18140425030158455,
          0.201508211459617,
          0.11194322239759995
         ],
         "yaxis": "y"
        },
        {
         "cells": {
          "align": [
           "right",
           "center"
          ],
          "fill": {
           "color": [
            [
             "white",
             "white",
             "white"
            ],
            [
             "white",
             "rgb(179,226,205)",
             "white"
            ],
            [
             "rgb(244,202,228)",
             "rgb(179,226,205)",
             "white"
            ]
           ]
          },
          "format": [
           "",
           ".2f",
           ".5f"
          ],
          "prefix": [
           "",
           "",
           "p = "
          ],
          "values": [
           [
            "Shapiro-Wilk",
            "Wilcoxon",
            "T-test"
           ],
           [
            0.978210222456272,
            2913,
            4.577150717492047
           ],
           [
            0.00028156819277733543,
            0.000026003300771386094,
            0.000010354608636458528
           ]
          ]
         },
         "columnwidth": [
          5,
          4,
          4
         ],
         "domain": {
          "x": [
           0,
           0.45
          ],
          "y": [
           0.575,
           1
          ]
         },
         "header": {
          "align": [
           "right",
           "center"
          ],
          "values": [
           "<b>Test</b>",
           "<b>Result</b>",
           "<b>p-value</b>"
          ]
         },
         "type": "table"
        }
       ],
       "layout": {
        "template": {
         "data": {
          "bar": [
           {
            "error_x": {
             "color": "#2a3f5f"
            },
            "error_y": {
             "color": "#2a3f5f"
            },
            "marker": {
             "line": {
              "color": "#E5ECF6",
              "width": 0.5
             },
             "pattern": {
              "fillmode": "overlay",
              "size": 10,
              "solidity": 0.2
             }
            },
            "type": "bar"
           }
          ],
          "barpolar": [
           {
            "marker": {
             "line": {
              "color": "#E5ECF6",
              "width": 0.5
             },
             "pattern": {
              "fillmode": "overlay",
              "size": 10,
              "solidity": 0.2
             }
            },
            "type": "barpolar"
           }
          ],
          "carpet": [
           {
            "aaxis": {
             "endlinecolor": "#2a3f5f",
             "gridcolor": "white",
             "linecolor": "white",
             "minorgridcolor": "white",
             "startlinecolor": "#2a3f5f"
            },
            "baxis": {
             "endlinecolor": "#2a3f5f",
             "gridcolor": "white",
             "linecolor": "white",
             "minorgridcolor": "white",
             "startlinecolor": "#2a3f5f"
            },
            "type": "carpet"
           }
          ],
          "choropleth": [
           {
            "colorbar": {
             "outlinewidth": 0,
             "ticks": ""
            },
            "type": "choropleth"
           }
          ],
          "contour": [
           {
            "colorbar": {
             "outlinewidth": 0,
             "ticks": ""
            },
            "colorscale": [
             [
              0,
              "#0d0887"
             ],
             [
              0.1111111111111111,
              "#46039f"
             ],
             [
              0.2222222222222222,
              "#7201a8"
             ],
             [
              0.3333333333333333,
              "#9c179e"
             ],
             [
              0.4444444444444444,
              "#bd3786"
             ],
             [
              0.5555555555555556,
              "#d8576b"
             ],
             [
              0.6666666666666666,
              "#ed7953"
             ],
             [
              0.7777777777777778,
              "#fb9f3a"
             ],
             [
              0.8888888888888888,
              "#fdca26"
             ],
             [
              1,
              "#f0f921"
             ]
            ],
            "type": "contour"
           }
          ],
          "contourcarpet": [
           {
            "colorbar": {
             "outlinewidth": 0,
             "ticks": ""
            },
            "type": "contourcarpet"
           }
          ],
          "heatmap": [
           {
            "colorbar": {
             "outlinewidth": 0,
             "ticks": ""
            },
            "colorscale": [
             [
              0,
              "#0d0887"
             ],
             [
              0.1111111111111111,
              "#46039f"
             ],
             [
              0.2222222222222222,
              "#7201a8"
             ],
             [
              0.3333333333333333,
              "#9c179e"
             ],
             [
              0.4444444444444444,
              "#bd3786"
             ],
             [
              0.5555555555555556,
              "#d8576b"
             ],
             [
              0.6666666666666666,
              "#ed7953"
             ],
             [
              0.7777777777777778,
              "#fb9f3a"
             ],
             [
              0.8888888888888888,
              "#fdca26"
             ],
             [
              1,
              "#f0f921"
             ]
            ],
            "type": "heatmap"
           }
          ],
          "heatmapgl": [
           {
            "colorbar": {
             "outlinewidth": 0,
             "ticks": ""
            },
            "colorscale": [
             [
              0,
              "#0d0887"
             ],
             [
              0.1111111111111111,
              "#46039f"
             ],
             [
              0.2222222222222222,
              "#7201a8"
             ],
             [
              0.3333333333333333,
              "#9c179e"
             ],
             [
              0.4444444444444444,
              "#bd3786"
             ],
             [
              0.5555555555555556,
              "#d8576b"
             ],
             [
              0.6666666666666666,
              "#ed7953"
             ],
             [
              0.7777777777777778,
              "#fb9f3a"
             ],
             [
              0.8888888888888888,
              "#fdca26"
             ],
             [
              1,
              "#f0f921"
             ]
            ],
            "type": "heatmapgl"
           }
          ],
          "histogram": [
           {
            "marker": {
             "pattern": {
              "fillmode": "overlay",
              "size": 10,
              "solidity": 0.2
             }
            },
            "type": "histogram"
           }
          ],
          "histogram2d": [
           {
            "colorbar": {
             "outlinewidth": 0,
             "ticks": ""
            },
            "colorscale": [
             [
              0,
              "#0d0887"
             ],
             [
              0.1111111111111111,
              "#46039f"
             ],
             [
              0.2222222222222222,
              "#7201a8"
             ],
             [
              0.3333333333333333,
              "#9c179e"
             ],
             [
              0.4444444444444444,
              "#bd3786"
             ],
             [
              0.5555555555555556,
              "#d8576b"
             ],
             [
              0.6666666666666666,
              "#ed7953"
             ],
             [
              0.7777777777777778,
              "#fb9f3a"
             ],
             [
              0.8888888888888888,
              "#fdca26"
             ],
             [
              1,
              "#f0f921"
             ]
            ],
            "type": "histogram2d"
           }
          ],
          "histogram2dcontour": [
           {
            "colorbar": {
             "outlinewidth": 0,
             "ticks": ""
            },
            "colorscale": [
             [
              0,
              "#0d0887"
             ],
             [
              0.1111111111111111,
              "#46039f"
             ],
             [
              0.2222222222222222,
              "#7201a8"
             ],
             [
              0.3333333333333333,
              "#9c179e"
             ],
             [
              0.4444444444444444,
              "#bd3786"
             ],
             [
              0.5555555555555556,
              "#d8576b"
             ],
             [
              0.6666666666666666,
              "#ed7953"
             ],
             [
              0.7777777777777778,
              "#fb9f3a"
             ],
             [
              0.8888888888888888,
              "#fdca26"
             ],
             [
              1,
              "#f0f921"
             ]
            ],
            "type": "histogram2dcontour"
           }
          ],
          "mesh3d": [
           {
            "colorbar": {
             "outlinewidth": 0,
             "ticks": ""
            },
            "type": "mesh3d"
           }
          ],
          "parcoords": [
           {
            "line": {
             "colorbar": {
              "outlinewidth": 0,
              "ticks": ""
             }
            },
            "type": "parcoords"
           }
          ],
          "pie": [
           {
            "automargin": true,
            "type": "pie"
           }
          ],
          "scatter": [
           {
            "fillpattern": {
             "fillmode": "overlay",
             "size": 10,
             "solidity": 0.2
            },
            "type": "scatter"
           }
          ],
          "scatter3d": [
           {
            "line": {
             "colorbar": {
              "outlinewidth": 0,
              "ticks": ""
             }
            },
            "marker": {
             "colorbar": {
              "outlinewidth": 0,
              "ticks": ""
             }
            },
            "type": "scatter3d"
           }
          ],
          "scattercarpet": [
           {
            "marker": {
             "colorbar": {
              "outlinewidth": 0,
              "ticks": ""
             }
            },
            "type": "scattercarpet"
           }
          ],
          "scattergeo": [
           {
            "marker": {
             "colorbar": {
              "outlinewidth": 0,
              "ticks": ""
             }
            },
            "type": "scattergeo"
           }
          ],
          "scattergl": [
           {
            "marker": {
             "colorbar": {
              "outlinewidth": 0,
              "ticks": ""
             }
            },
            "type": "scattergl"
           }
          ],
          "scattermapbox": [
           {
            "marker": {
             "colorbar": {
              "outlinewidth": 0,
              "ticks": ""
             }
            },
            "type": "scattermapbox"
           }
          ],
          "scatterpolar": [
           {
            "marker": {
             "colorbar": {
              "outlinewidth": 0,
              "ticks": ""
             }
            },
            "type": "scatterpolar"
           }
          ],
          "scatterpolargl": [
           {
            "marker": {
             "colorbar": {
              "outlinewidth": 0,
              "ticks": ""
             }
            },
            "type": "scatterpolargl"
           }
          ],
          "scatterternary": [
           {
            "marker": {
             "colorbar": {
              "outlinewidth": 0,
              "ticks": ""
             }
            },
            "type": "scatterternary"
           }
          ],
          "surface": [
           {
            "colorbar": {
             "outlinewidth": 0,
             "ticks": ""
            },
            "colorscale": [
             [
              0,
              "#0d0887"
             ],
             [
              0.1111111111111111,
              "#46039f"
             ],
             [
              0.2222222222222222,
              "#7201a8"
             ],
             [
              0.3333333333333333,
              "#9c179e"
             ],
             [
              0.4444444444444444,
              "#bd3786"
             ],
             [
              0.5555555555555556,
              "#d8576b"
             ],
             [
              0.6666666666666666,
              "#ed7953"
             ],
             [
              0.7777777777777778,
              "#fb9f3a"
             ],
             [
              0.8888888888888888,
              "#fdca26"
             ],
             [
              1,
              "#f0f921"
             ]
            ],
            "type": "surface"
           }
          ],
          "table": [
           {
            "cells": {
             "fill": {
              "color": "#EBF0F8"
             },
             "line": {
              "color": "white"
             }
            },
            "header": {
             "fill": {
              "color": "#C8D4E3"
             },
             "line": {
              "color": "white"
             }
            },
            "type": "table"
           }
          ]
         },
         "layout": {
          "annotationdefaults": {
           "arrowcolor": "#2a3f5f",
           "arrowhead": 0,
           "arrowwidth": 1
          },
          "autotypenumbers": "strict",
          "coloraxis": {
           "colorbar": {
            "outlinewidth": 0,
            "ticks": ""
           }
          },
          "colorscale": {
           "diverging": [
            [
             0,
             "#8e0152"
            ],
            [
             0.1,
             "#c51b7d"
            ],
            [
             0.2,
             "#de77ae"
            ],
            [
             0.3,
             "#f1b6da"
            ],
            [
             0.4,
             "#fde0ef"
            ],
            [
             0.5,
             "#f7f7f7"
            ],
            [
             0.6,
             "#e6f5d0"
            ],
            [
             0.7,
             "#b8e186"
            ],
            [
             0.8,
             "#7fbc41"
            ],
            [
             0.9,
             "#4d9221"
            ],
            [
             1,
             "#276419"
            ]
           ],
           "sequential": [
            [
             0,
             "#0d0887"
            ],
            [
             0.1111111111111111,
             "#46039f"
            ],
            [
             0.2222222222222222,
             "#7201a8"
            ],
            [
             0.3333333333333333,
             "#9c179e"
            ],
            [
             0.4444444444444444,
             "#bd3786"
            ],
            [
             0.5555555555555556,
             "#d8576b"
            ],
            [
             0.6666666666666666,
             "#ed7953"
            ],
            [
             0.7777777777777778,
             "#fb9f3a"
            ],
            [
             0.8888888888888888,
             "#fdca26"
            ],
            [
             1,
             "#f0f921"
            ]
           ],
           "sequentialminus": [
            [
             0,
             "#0d0887"
            ],
            [
             0.1111111111111111,
             "#46039f"
            ],
            [
             0.2222222222222222,
             "#7201a8"
            ],
            [
             0.3333333333333333,
             "#9c179e"
            ],
            [
             0.4444444444444444,
             "#bd3786"
            ],
            [
             0.5555555555555556,
             "#d8576b"
            ],
            [
             0.6666666666666666,
             "#ed7953"
            ],
            [
             0.7777777777777778,
             "#fb9f3a"
            ],
            [
             0.8888888888888888,
             "#fdca26"
            ],
            [
             1,
             "#f0f921"
            ]
           ]
          },
          "colorway": [
           "#636efa",
           "#EF553B",
           "#00cc96",
           "#ab63fa",
           "#FFA15A",
           "#19d3f3",
           "#FF6692",
           "#B6E880",
           "#FF97FF",
           "#FECB52"
          ],
          "font": {
           "color": "#2a3f5f"
          },
          "geo": {
           "bgcolor": "white",
           "lakecolor": "white",
           "landcolor": "#E5ECF6",
           "showlakes": true,
           "showland": true,
           "subunitcolor": "white"
          },
          "hoverlabel": {
           "align": "left"
          },
          "hovermode": "closest",
          "mapbox": {
           "style": "light"
          },
          "paper_bgcolor": "white",
          "plot_bgcolor": "#E5ECF6",
          "polar": {
           "angularaxis": {
            "gridcolor": "white",
            "linecolor": "white",
            "ticks": ""
           },
           "bgcolor": "#E5ECF6",
           "radialaxis": {
            "gridcolor": "white",
            "linecolor": "white",
            "ticks": ""
           }
          },
          "scene": {
           "xaxis": {
            "backgroundcolor": "#E5ECF6",
            "gridcolor": "white",
            "gridwidth": 2,
            "linecolor": "white",
            "showbackground": true,
            "ticks": "",
            "zerolinecolor": "white"
           },
           "yaxis": {
            "backgroundcolor": "#E5ECF6",
            "gridcolor": "white",
            "gridwidth": 2,
            "linecolor": "white",
            "showbackground": true,
            "ticks": "",
            "zerolinecolor": "white"
           },
           "zaxis": {
            "backgroundcolor": "#E5ECF6",
            "gridcolor": "white",
            "gridwidth": 2,
            "linecolor": "white",
            "showbackground": true,
            "ticks": "",
            "zerolinecolor": "white"
           }
          },
          "shapedefaults": {
           "line": {
            "color": "#2a3f5f"
           }
          },
          "ternary": {
           "aaxis": {
            "gridcolor": "white",
            "linecolor": "white",
            "ticks": ""
           },
           "baxis": {
            "gridcolor": "white",
            "linecolor": "white",
            "ticks": ""
           },
           "bgcolor": "#E5ECF6",
           "caxis": {
            "gridcolor": "white",
            "linecolor": "white",
            "ticks": ""
           }
          },
          "title": {
           "x": 0.05
          },
          "xaxis": {
           "automargin": true,
           "gridcolor": "white",
           "linecolor": "white",
           "ticks": "",
           "title": {
            "standoff": 15
           },
           "zerolinecolor": "white",
           "zerolinewidth": 2
          },
          "yaxis": {
           "automargin": true,
           "gridcolor": "white",
           "linecolor": "white",
           "ticks": "",
           "title": {
            "standoff": 15
           },
           "zerolinecolor": "white",
           "zerolinewidth": 2
          }
         }
        },
        "title": {
         "text": "IPA by Creation Method"
        },
        "width": 1200,
        "xaxis": {
         "anchor": "y",
         "domain": [
          0.55,
          1
         ],
         "title": {
          "text": "Method"
         }
        },
        "yaxis": {
         "anchor": "x",
         "domain": [
          0,
          1
         ],
         "range": [
          0,
          0.35283874810979243
         ],
         "title": {
          "text": "IPA"
         }
        }
       }
      }
     },
     "metadata": {},
     "output_type": "display_data"
    }
   ],
   "source": [
    "stats_table = go.Table(columnwidth=[5,4,4,4,4], name='Summary')\n",
    "stats_table.header = dict(\n",
    "    values=summary_header, \n",
    "    align = ['right', 'center'],)\n",
    "stats_table.cells = dict(\n",
    "        values=summary_values,\n",
    "        align = ['right', 'center'],\n",
    "        format=[\"\", \".3f\"],\n",
    "        )\n",
    "\n",
    "results_table = go.Table(columnwidth=[5,4,4])\n",
    "results_table.header = dict(\n",
    "    values= results_header, \n",
    "    align = ['right', 'center'],)\n",
    "results_table.cells = dict(\n",
    "        values=results_values,\n",
    "        align = ['right', 'center'],\n",
    "        format=[\"\", \".2f\", \".5f\"],\n",
    "        fill_color=fill_color,\n",
    "        prefix=results_prefix,\n",
    "        )\n",
    "\n",
    "ipa_fig = make_subplots(\n",
    "    rows=2, cols=2,\n",
    "    shared_xaxes=False,\n",
    "    specs=[\n",
    "        [{\"type\": \"table\"}, {\"type\": \"box\", \"rowspan\": 2}],\n",
    "        [{\"type\": \"table\"}, None]\n",
    "    ])\n",
    "\n",
    "ipa_fig.add_trace(stats_table, row=2, col=1)\n",
    "ipa_fig.add_trace(go.Box(y=ipa_crt['bimanual'], name=\"Bimanual\", notched=True, notchwidth=0.15), row=1, col=2)\n",
    "ipa_fig.add_trace(go.Box(y=ipa_crt['unimanual'], name=\"Unimanual\", notched=True, notchwidth=0.15), row=1, col=2)\n",
    "ipa_fig.add_trace(results_table, row=1, col=1)\n",
    "\n",
    "ipa_fig.update_layout(\n",
    "    title_text=\"IPA by Creation Method\",\n",
    "    width=1200,\n",
    "    xaxis_title='Method',\n",
    "    yaxis_title='IPA',\n",
    ")\n",
    "\n",
    "ipa_max = max(ipa_uni.max(), ipa_bi.max())\n",
    "ipa_min = min(ipa_uni.min(), ipa_bi.min())\n",
    "ipa_min = 0 if ipa_min > 0 else ipa_min\n",
    "ipa_range = 0.025 * (ipa_max - ipa_min)\n",
    "ipa_fig.update_yaxes(range=[0,max(1.1*ipa_uni.max(), 1.1*ipa_bi.max())])\n",
    "ipa_fig.show()"
   ]
  },
  {
   "cell_type": "markdown",
   "metadata": {},
   "source": [
    "#### TEPR Evaluation"
   ]
  },
  {
   "cell_type": "code",
   "execution_count": 289,
   "metadata": {},
   "outputs": [],
   "source": [
    "tepr_crt = user_data_crt.loc[(slice(None), slice(None), slice(None)), 'adj_pupil']\n",
    "tepr_crt = tepr_crt.unstack(level=(3))\n",
    "\n",
    "uni_outliers = iqr_outlier_indices(tepr_crt['unimanual'])\n",
    "tepr_crt = tepr_crt.drop(tepr_crt.iloc[uni_outliers].index)\n",
    "\n",
    "bi_outliers = iqr_outlier_indices(tepr_crt['bimanual'])\n",
    "tepr_crt = tepr_crt.drop(tepr_crt.iloc[bi_outliers].index)\n",
    "\n",
    "tepr_uni = tepr_crt['unimanual']\n",
    "tepr_bi = tepr_crt['bimanual']\n",
    "\n",
    "n_stat, n_p = stats.shapiro(tepr_crt.stack())\n",
    "w_stat, w_p = stats.wilcoxon(tepr_uni, tepr_bi)\n",
    "t_stat, t_p = stats.ttest_rel(tepr_uni, tepr_bi)\n",
    "\n",
    "results_colors = get_results_colors(n_p, w_p, t_p)\n",
    "results_header = ['<b>Test</b>', '<b>Result</b>', '<b>p-value</b>']\n",
    "results_values=[['Shapiro-Wilk', 'Wilcoxon', 'T-test'], [n_stat, w_stat, t_stat], [n_p, w_p, t_p]]\n",
    "results_prefix = ['','', 'p = ',]\n",
    "fill_color = results_colors\n",
    "\n",
    "if n_p < 0.05:\n",
    "    uni_iqr, uni_q1, uni_q3 = iqr_stats(tepr_uni)\n",
    "    bi_iqr, bi_q1, bi_q3 = iqr_stats(tepr_bi)\n",
    "    summary_header = ['', '<b>Median</b>', '<b>IQR</b>', '<b>Min</b>', '<b>Max</b>', '<b>Skewness</b>']\n",
    "    summary_values = [['<b>Unimanual</b>', '<b>Bimanual</b>'], \n",
    "                      [tepr_uni.median(), tepr_bi.median()], \n",
    "                      [uni_iqr, bi_iqr], \n",
    "                      [tepr_uni.min(), tepr_bi.min()], \n",
    "                      [tepr_uni.max(), tepr_bi.max()], \n",
    "                      [tepr_uni.skew(), tepr_bi.skew()]]\n",
    "\n",
    "else:\n",
    "    summary_header = ['', '<b>Mean</b>', '<b>STD</b>', '<b>Min</b>', '<b>Max</b>', '<b>Skewness</b>']\n",
    "    summary_values = [['<b>Unimanual</b>', '<b>Bimanual</b>'], \n",
    "                      [tepr_uni.mean(), tepr_bi.mean()], \n",
    "                      [tepr_uni.std(), tepr_bi.std()], \n",
    "                      [tepr_uni.min(), tepr_bi.min()], \n",
    "                      [tepr_uni.max(), tepr_bi.max()], \n",
    "                      [tepr_uni.skew(), tepr_bi.skew()]]"
   ]
  },
  {
   "cell_type": "code",
   "execution_count": 290,
   "metadata": {},
   "outputs": [
    {
     "data": {
      "application/vnd.plotly.v1+json": {
       "config": {
        "plotlyServerURL": "https://plot.ly"
       },
       "data": [
        {
         "cells": {
          "align": [
           "right",
           "center"
          ],
          "format": [
           "",
           ".3f"
          ],
          "values": [
           [
            "<b>Unimanual</b>",
            "<b>Bimanual</b>"
           ],
           [
            0.6288179159164429,
            0.4341476857662201
           ],
           [
            0.39771729707717896,
            0.3901643753051758
           ],
           [
            -0.01659107394516468,
            -0.14156679809093475
           ],
           [
            1.4523454904556274,
            1.044426679611206
           ],
           [
            0.2867427655744483,
            0.20593350376235536
           ]
          ]
         },
         "columnwidth": [
          5,
          4,
          4,
          4,
          4
         ],
         "domain": {
          "x": [
           0,
           0.45
          ],
          "y": [
           0,
           0.425
          ]
         },
         "header": {
          "align": [
           "right",
           "center"
          ],
          "values": [
           "",
           "<b>Median</b>",
           "<b>IQR</b>",
           "<b>Min</b>",
           "<b>Max</b>",
           "<b>Skewness</b>"
          ]
         },
         "type": "table"
        },
        {
         "name": "Bimanual",
         "notched": true,
         "notchwidth": 0.15,
         "type": "box",
         "xaxis": "x",
         "y": [
          0.751182496547699,
          0.6480458974838257,
          0.5922877788543701,
          0.4785538911819458,
          0.4817998707294464,
          0.3480207026004791,
          0.45875152945518494,
          0.8502189517021179,
          0.8570816516876221,
          0.6522998809814453,
          0.7485929131507874,
          0.7468442916870117,
          0.6661780476570129,
          0.757361888885498,
          0.7601312398910522,
          0.3230246901512146,
          0.2547743022441864,
          0.15575776994228363,
          0.1743496209383011,
          0.11995232850313187,
          0.05815456062555313,
          -0.08179822564125061,
          -0.10575778782367706,
          0.4965595006942749,
          0.4341476857662201,
          0.40495166182518005,
          0.5808985233306885,
          0.12770389020442963,
          -0.14156679809093475,
          0.14466093480587006,
          0.07033592462539673,
          0.11888088285923004,
          0.25468385219573975,
          0.27780964970588684,
          0.17789453268051147,
          0.21092277765274048,
          0.16482411324977875,
          0.06324993073940277,
          0.14084620773792267,
          0.6736869812011719,
          0.5377318263053894,
          0.4611893594264984,
          0.40286827087402344,
          0.3015211522579193,
          0.15758652985095978,
          0.3138137757778168,
          0.25046756863594055,
          0.6297550797462463,
          0.43610572814941406,
          0.7313847541809082,
          0.6359551548957825,
          0.2992221713066101,
          0.1930495947599411,
          0.25796791911125183,
          0.33287543058395386,
          0.4568764269351959,
          0.41697022318840027,
          0.5390027761459351,
          0.5484347343444824,
          0.402996301651001,
          0.3769102096557617,
          0.6315906643867493,
          0.5466901659965515,
          0.44309690594673157,
          0.5763525366783142,
          0.3573406934738159,
          0.6101849675178528,
          0.7305546402931213,
          0.49219220876693726,
          0.676683247089386,
          0.6753706932067871,
          0.22095242142677307,
          0.1718527376651764,
          0.2281816005706787,
          0.10236895829439163,
          0.8557713627815247,
          0.7812049984931946,
          0.957927942276001,
          0.2414265125989914,
          0.11237261444330215,
          0.3673439621925354,
          0.18123553693294525,
          0.09097129851579666,
          0.014634335413575172,
          0.1470520794391632,
          0.020096533000469208,
          0.7903430461883545,
          0.5575344562530518,
          0.799293577671051,
          0.2675313353538513,
          0.2440824955701828,
          0.2430548220872879,
          0.2581261992454529,
          0.3283543884754181,
          0.238986536860466,
          0.32389339804649353,
          0.25731196999549866,
          0.1811007708311081,
          -0.021324362605810165,
          0.11554557830095291,
          0.19518086314201355,
          0.5870069861412048,
          0.5544652342796326,
          0.5921622514724731,
          0.37445905804634094,
          0.829171895980835,
          0.7510218620300293,
          0.9985158443450928,
          0.9992970824241638,
          0.405567467212677,
          0.23557864129543304,
          0.4759473204612732,
          0.3140431046485901,
          0.8001075983047485,
          1.031332015991211,
          0.9406190514564514,
          0.7292007803916931,
          0.5260249376296997,
          0.4984143078327179,
          0.4614294171333313,
          0.4567328989505768,
          0.38941729068756104,
          0.3546026349067688,
          0.4605932831764221,
          0.3378591239452362,
          0.6183459758758545,
          0.4377618730068207,
          0.5748562812805176,
          1.044426679611206,
          0.6548839211463928,
          0.53252774477005,
          0.4418115019798279,
          0.9855771064758301,
          0.637939989566803,
          0.5118604302406311,
          0.6163179874420166,
          0.44684165716171265,
          -0.007113912142813206,
          0.04895646125078201,
          -0.0743536725640297,
          0.06141992285847664
         ],
         "yaxis": "y"
        },
        {
         "name": "Unimanual",
         "notched": true,
         "notchwidth": 0.15,
         "type": "box",
         "xaxis": "x",
         "y": [
          1.3872432708740234,
          1.1212035417556763,
          1.4523454904556274,
          0.6154969334602356,
          0.576646089553833,
          0.6905087828636169,
          0.4749581515789032,
          0.8500179648399353,
          0.7553759217262268,
          0.7597828507423401,
          1.029757022857666,
          0.896602213382721,
          0.6738156080245972,
          0.6935681700706482,
          0.8088850378990173,
          0.8219415545463562,
          0.630327045917511,
          0.5048259496688843,
          0.6288179159164429,
          0.2573886811733246,
          0.05189792066812515,
          0.09824227541685104,
          0.11551832407712936,
          0.8485360145568848,
          0.5102697014808655,
          0.6000465750694275,
          0.6503149271011353,
          0.447010338306427,
          0.4443967938423157,
          0.26422613859176636,
          0.33396652340888977,
          0.11235968768596649,
          0.19003868103027344,
          0.1796901524066925,
          0.3324516713619232,
          0.29744699597358704,
          0.24671730399131775,
          0.1451665461063385,
          0.32448506355285645,
          0.7513517141342163,
          0.6572447419166565,
          0.4986264705657959,
          0.6871070861816406,
          0.57813960313797,
          0.49960511922836304,
          0.5325482487678528,
          0.2595529556274414,
          0.6371369361877441,
          0.5517915487289429,
          0.7495816349983215,
          0.8336756229400635,
          0.3900942802429199,
          0.3645247519016266,
          0.30332162976264954,
          0.37618666887283325,
          0.8063096404075623,
          0.6974391341209412,
          0.8386010527610779,
          0.7834954857826233,
          0.6204348802566528,
          0.4385731518268585,
          0.6390699148178101,
          0.520686686038971,
          1.0157033205032349,
          0.8554757833480835,
          0.841278076171875,
          0.7329328060150146,
          1.3342920541763306,
          1.051113247871399,
          1.1792198419570923,
          1.197109341621399,
          0.4359583258628845,
          0.23204755783081055,
          0.3055896461009979,
          0.30621376633644104,
          1.2705811262130737,
          1.3043160438537598,
          1.184449315071106,
          0.534777820110321,
          0.48271894454956055,
          0.6774869561195374,
          0.5682052969932556,
          0.08919000625610352,
          -0.01659107394516468,
          0.1581731140613556,
          0.2991699278354645,
          1.116703748703003,
          1.0027543306350708,
          1.000146746635437,
          0.7092456817626953,
          0.6046792268753052,
          0.5296397805213928,
          0.5592767596244812,
          0.5662335753440857,
          0.4361179769039154,
          0.5078088045120239,
          0.5033103227615356,
          0.5517382025718689,
          0.3856028616428375,
          0.4084252715110779,
          0.3620617687702179,
          1.050023078918457,
          0.8146162629127502,
          0.6744012236595154,
          0.7142251133918762,
          0.8871973156929016,
          0.806266188621521,
          1.0623654127120972,
          1.1555882692337036,
          0.5438783764839172,
          0.24215759336948395,
          0.4659247398376465,
          0.43145641684532166,
          1.1150938272476196,
          1.0450501441955566,
          0.9069066643714905,
          0.983566164970398,
          1.0247763395309448,
          1.0696098804473877,
          0.806437075138092,
          0.8958818912506104,
          0.6327682137489319,
          0.4964645504951477,
          0.6418342590332031,
          0.5827058553695679,
          0.6273266673088074,
          0.6272129416465759,
          0.5268425941467285,
          0.6543604135513306,
          1.1481752395629883,
          0.8275256752967834,
          1.2217992544174194,
          1.0914071798324585,
          0.7165592908859253,
          0.634637713432312,
          0.7126334309577942,
          0.7372641563415527,
          0.2524798810482025,
          0.10619185119867325,
          0.2648707926273346,
          0.23297521471977234
         ],
         "yaxis": "y"
        },
        {
         "cells": {
          "align": [
           "right",
           "center"
          ],
          "fill": {
           "color": [
            [
             "white",
             "white",
             "white"
            ],
            [
             "white",
             "rgb(179,226,205)",
             "white"
            ],
            [
             "rgb(244,202,228)",
             "rgb(179,226,205)",
             "white"
            ]
           ]
          },
          "format": [
           "",
           ".2f",
           ".5f"
          ],
          "prefix": [
           "",
           "",
           "p = "
          ],
          "values": [
           [
            "Shapiro-Wilk",
            "Wilcoxon",
            "T-test"
           ],
           [
            0.9866432506729397,
            361,
            13.269468490974004
           ],
           [
            0.010189769231329847,
            1.192752641239556e-21,
            1.570481652986333e-26
           ]
          ]
         },
         "columnwidth": [
          5,
          4,
          4
         ],
         "domain": {
          "x": [
           0,
           0.45
          ],
          "y": [
           0.575,
           1
          ]
         },
         "header": {
          "align": [
           "right",
           "center"
          ],
          "values": [
           "<b>Test</b>",
           "<b>Result</b>",
           "<b>p-value</b>"
          ]
         },
         "type": "table"
        }
       ],
       "layout": {
        "template": {
         "data": {
          "bar": [
           {
            "error_x": {
             "color": "#2a3f5f"
            },
            "error_y": {
             "color": "#2a3f5f"
            },
            "marker": {
             "line": {
              "color": "#E5ECF6",
              "width": 0.5
             },
             "pattern": {
              "fillmode": "overlay",
              "size": 10,
              "solidity": 0.2
             }
            },
            "type": "bar"
           }
          ],
          "barpolar": [
           {
            "marker": {
             "line": {
              "color": "#E5ECF6",
              "width": 0.5
             },
             "pattern": {
              "fillmode": "overlay",
              "size": 10,
              "solidity": 0.2
             }
            },
            "type": "barpolar"
           }
          ],
          "carpet": [
           {
            "aaxis": {
             "endlinecolor": "#2a3f5f",
             "gridcolor": "white",
             "linecolor": "white",
             "minorgridcolor": "white",
             "startlinecolor": "#2a3f5f"
            },
            "baxis": {
             "endlinecolor": "#2a3f5f",
             "gridcolor": "white",
             "linecolor": "white",
             "minorgridcolor": "white",
             "startlinecolor": "#2a3f5f"
            },
            "type": "carpet"
           }
          ],
          "choropleth": [
           {
            "colorbar": {
             "outlinewidth": 0,
             "ticks": ""
            },
            "type": "choropleth"
           }
          ],
          "contour": [
           {
            "colorbar": {
             "outlinewidth": 0,
             "ticks": ""
            },
            "colorscale": [
             [
              0,
              "#0d0887"
             ],
             [
              0.1111111111111111,
              "#46039f"
             ],
             [
              0.2222222222222222,
              "#7201a8"
             ],
             [
              0.3333333333333333,
              "#9c179e"
             ],
             [
              0.4444444444444444,
              "#bd3786"
             ],
             [
              0.5555555555555556,
              "#d8576b"
             ],
             [
              0.6666666666666666,
              "#ed7953"
             ],
             [
              0.7777777777777778,
              "#fb9f3a"
             ],
             [
              0.8888888888888888,
              "#fdca26"
             ],
             [
              1,
              "#f0f921"
             ]
            ],
            "type": "contour"
           }
          ],
          "contourcarpet": [
           {
            "colorbar": {
             "outlinewidth": 0,
             "ticks": ""
            },
            "type": "contourcarpet"
           }
          ],
          "heatmap": [
           {
            "colorbar": {
             "outlinewidth": 0,
             "ticks": ""
            },
            "colorscale": [
             [
              0,
              "#0d0887"
             ],
             [
              0.1111111111111111,
              "#46039f"
             ],
             [
              0.2222222222222222,
              "#7201a8"
             ],
             [
              0.3333333333333333,
              "#9c179e"
             ],
             [
              0.4444444444444444,
              "#bd3786"
             ],
             [
              0.5555555555555556,
              "#d8576b"
             ],
             [
              0.6666666666666666,
              "#ed7953"
             ],
             [
              0.7777777777777778,
              "#fb9f3a"
             ],
             [
              0.8888888888888888,
              "#fdca26"
             ],
             [
              1,
              "#f0f921"
             ]
            ],
            "type": "heatmap"
           }
          ],
          "heatmapgl": [
           {
            "colorbar": {
             "outlinewidth": 0,
             "ticks": ""
            },
            "colorscale": [
             [
              0,
              "#0d0887"
             ],
             [
              0.1111111111111111,
              "#46039f"
             ],
             [
              0.2222222222222222,
              "#7201a8"
             ],
             [
              0.3333333333333333,
              "#9c179e"
             ],
             [
              0.4444444444444444,
              "#bd3786"
             ],
             [
              0.5555555555555556,
              "#d8576b"
             ],
             [
              0.6666666666666666,
              "#ed7953"
             ],
             [
              0.7777777777777778,
              "#fb9f3a"
             ],
             [
              0.8888888888888888,
              "#fdca26"
             ],
             [
              1,
              "#f0f921"
             ]
            ],
            "type": "heatmapgl"
           }
          ],
          "histogram": [
           {
            "marker": {
             "pattern": {
              "fillmode": "overlay",
              "size": 10,
              "solidity": 0.2
             }
            },
            "type": "histogram"
           }
          ],
          "histogram2d": [
           {
            "colorbar": {
             "outlinewidth": 0,
             "ticks": ""
            },
            "colorscale": [
             [
              0,
              "#0d0887"
             ],
             [
              0.1111111111111111,
              "#46039f"
             ],
             [
              0.2222222222222222,
              "#7201a8"
             ],
             [
              0.3333333333333333,
              "#9c179e"
             ],
             [
              0.4444444444444444,
              "#bd3786"
             ],
             [
              0.5555555555555556,
              "#d8576b"
             ],
             [
              0.6666666666666666,
              "#ed7953"
             ],
             [
              0.7777777777777778,
              "#fb9f3a"
             ],
             [
              0.8888888888888888,
              "#fdca26"
             ],
             [
              1,
              "#f0f921"
             ]
            ],
            "type": "histogram2d"
           }
          ],
          "histogram2dcontour": [
           {
            "colorbar": {
             "outlinewidth": 0,
             "ticks": ""
            },
            "colorscale": [
             [
              0,
              "#0d0887"
             ],
             [
              0.1111111111111111,
              "#46039f"
             ],
             [
              0.2222222222222222,
              "#7201a8"
             ],
             [
              0.3333333333333333,
              "#9c179e"
             ],
             [
              0.4444444444444444,
              "#bd3786"
             ],
             [
              0.5555555555555556,
              "#d8576b"
             ],
             [
              0.6666666666666666,
              "#ed7953"
             ],
             [
              0.7777777777777778,
              "#fb9f3a"
             ],
             [
              0.8888888888888888,
              "#fdca26"
             ],
             [
              1,
              "#f0f921"
             ]
            ],
            "type": "histogram2dcontour"
           }
          ],
          "mesh3d": [
           {
            "colorbar": {
             "outlinewidth": 0,
             "ticks": ""
            },
            "type": "mesh3d"
           }
          ],
          "parcoords": [
           {
            "line": {
             "colorbar": {
              "outlinewidth": 0,
              "ticks": ""
             }
            },
            "type": "parcoords"
           }
          ],
          "pie": [
           {
            "automargin": true,
            "type": "pie"
           }
          ],
          "scatter": [
           {
            "fillpattern": {
             "fillmode": "overlay",
             "size": 10,
             "solidity": 0.2
            },
            "type": "scatter"
           }
          ],
          "scatter3d": [
           {
            "line": {
             "colorbar": {
              "outlinewidth": 0,
              "ticks": ""
             }
            },
            "marker": {
             "colorbar": {
              "outlinewidth": 0,
              "ticks": ""
             }
            },
            "type": "scatter3d"
           }
          ],
          "scattercarpet": [
           {
            "marker": {
             "colorbar": {
              "outlinewidth": 0,
              "ticks": ""
             }
            },
            "type": "scattercarpet"
           }
          ],
          "scattergeo": [
           {
            "marker": {
             "colorbar": {
              "outlinewidth": 0,
              "ticks": ""
             }
            },
            "type": "scattergeo"
           }
          ],
          "scattergl": [
           {
            "marker": {
             "colorbar": {
              "outlinewidth": 0,
              "ticks": ""
             }
            },
            "type": "scattergl"
           }
          ],
          "scattermapbox": [
           {
            "marker": {
             "colorbar": {
              "outlinewidth": 0,
              "ticks": ""
             }
            },
            "type": "scattermapbox"
           }
          ],
          "scatterpolar": [
           {
            "marker": {
             "colorbar": {
              "outlinewidth": 0,
              "ticks": ""
             }
            },
            "type": "scatterpolar"
           }
          ],
          "scatterpolargl": [
           {
            "marker": {
             "colorbar": {
              "outlinewidth": 0,
              "ticks": ""
             }
            },
            "type": "scatterpolargl"
           }
          ],
          "scatterternary": [
           {
            "marker": {
             "colorbar": {
              "outlinewidth": 0,
              "ticks": ""
             }
            },
            "type": "scatterternary"
           }
          ],
          "surface": [
           {
            "colorbar": {
             "outlinewidth": 0,
             "ticks": ""
            },
            "colorscale": [
             [
              0,
              "#0d0887"
             ],
             [
              0.1111111111111111,
              "#46039f"
             ],
             [
              0.2222222222222222,
              "#7201a8"
             ],
             [
              0.3333333333333333,
              "#9c179e"
             ],
             [
              0.4444444444444444,
              "#bd3786"
             ],
             [
              0.5555555555555556,
              "#d8576b"
             ],
             [
              0.6666666666666666,
              "#ed7953"
             ],
             [
              0.7777777777777778,
              "#fb9f3a"
             ],
             [
              0.8888888888888888,
              "#fdca26"
             ],
             [
              1,
              "#f0f921"
             ]
            ],
            "type": "surface"
           }
          ],
          "table": [
           {
            "cells": {
             "fill": {
              "color": "#EBF0F8"
             },
             "line": {
              "color": "white"
             }
            },
            "header": {
             "fill": {
              "color": "#C8D4E3"
             },
             "line": {
              "color": "white"
             }
            },
            "type": "table"
           }
          ]
         },
         "layout": {
          "annotationdefaults": {
           "arrowcolor": "#2a3f5f",
           "arrowhead": 0,
           "arrowwidth": 1
          },
          "autotypenumbers": "strict",
          "coloraxis": {
           "colorbar": {
            "outlinewidth": 0,
            "ticks": ""
           }
          },
          "colorscale": {
           "diverging": [
            [
             0,
             "#8e0152"
            ],
            [
             0.1,
             "#c51b7d"
            ],
            [
             0.2,
             "#de77ae"
            ],
            [
             0.3,
             "#f1b6da"
            ],
            [
             0.4,
             "#fde0ef"
            ],
            [
             0.5,
             "#f7f7f7"
            ],
            [
             0.6,
             "#e6f5d0"
            ],
            [
             0.7,
             "#b8e186"
            ],
            [
             0.8,
             "#7fbc41"
            ],
            [
             0.9,
             "#4d9221"
            ],
            [
             1,
             "#276419"
            ]
           ],
           "sequential": [
            [
             0,
             "#0d0887"
            ],
            [
             0.1111111111111111,
             "#46039f"
            ],
            [
             0.2222222222222222,
             "#7201a8"
            ],
            [
             0.3333333333333333,
             "#9c179e"
            ],
            [
             0.4444444444444444,
             "#bd3786"
            ],
            [
             0.5555555555555556,
             "#d8576b"
            ],
            [
             0.6666666666666666,
             "#ed7953"
            ],
            [
             0.7777777777777778,
             "#fb9f3a"
            ],
            [
             0.8888888888888888,
             "#fdca26"
            ],
            [
             1,
             "#f0f921"
            ]
           ],
           "sequentialminus": [
            [
             0,
             "#0d0887"
            ],
            [
             0.1111111111111111,
             "#46039f"
            ],
            [
             0.2222222222222222,
             "#7201a8"
            ],
            [
             0.3333333333333333,
             "#9c179e"
            ],
            [
             0.4444444444444444,
             "#bd3786"
            ],
            [
             0.5555555555555556,
             "#d8576b"
            ],
            [
             0.6666666666666666,
             "#ed7953"
            ],
            [
             0.7777777777777778,
             "#fb9f3a"
            ],
            [
             0.8888888888888888,
             "#fdca26"
            ],
            [
             1,
             "#f0f921"
            ]
           ]
          },
          "colorway": [
           "#636efa",
           "#EF553B",
           "#00cc96",
           "#ab63fa",
           "#FFA15A",
           "#19d3f3",
           "#FF6692",
           "#B6E880",
           "#FF97FF",
           "#FECB52"
          ],
          "font": {
           "color": "#2a3f5f"
          },
          "geo": {
           "bgcolor": "white",
           "lakecolor": "white",
           "landcolor": "#E5ECF6",
           "showlakes": true,
           "showland": true,
           "subunitcolor": "white"
          },
          "hoverlabel": {
           "align": "left"
          },
          "hovermode": "closest",
          "mapbox": {
           "style": "light"
          },
          "paper_bgcolor": "white",
          "plot_bgcolor": "#E5ECF6",
          "polar": {
           "angularaxis": {
            "gridcolor": "white",
            "linecolor": "white",
            "ticks": ""
           },
           "bgcolor": "#E5ECF6",
           "radialaxis": {
            "gridcolor": "white",
            "linecolor": "white",
            "ticks": ""
           }
          },
          "scene": {
           "xaxis": {
            "backgroundcolor": "#E5ECF6",
            "gridcolor": "white",
            "gridwidth": 2,
            "linecolor": "white",
            "showbackground": true,
            "ticks": "",
            "zerolinecolor": "white"
           },
           "yaxis": {
            "backgroundcolor": "#E5ECF6",
            "gridcolor": "white",
            "gridwidth": 2,
            "linecolor": "white",
            "showbackground": true,
            "ticks": "",
            "zerolinecolor": "white"
           },
           "zaxis": {
            "backgroundcolor": "#E5ECF6",
            "gridcolor": "white",
            "gridwidth": 2,
            "linecolor": "white",
            "showbackground": true,
            "ticks": "",
            "zerolinecolor": "white"
           }
          },
          "shapedefaults": {
           "line": {
            "color": "#2a3f5f"
           }
          },
          "ternary": {
           "aaxis": {
            "gridcolor": "white",
            "linecolor": "white",
            "ticks": ""
           },
           "baxis": {
            "gridcolor": "white",
            "linecolor": "white",
            "ticks": ""
           },
           "bgcolor": "#E5ECF6",
           "caxis": {
            "gridcolor": "white",
            "linecolor": "white",
            "ticks": ""
           }
          },
          "title": {
           "x": 0.05
          },
          "xaxis": {
           "automargin": true,
           "gridcolor": "white",
           "linecolor": "white",
           "ticks": "",
           "title": {
            "standoff": 15
           },
           "zerolinecolor": "white",
           "zerolinewidth": 2
          },
          "yaxis": {
           "automargin": true,
           "gridcolor": "white",
           "linecolor": "white",
           "ticks": "",
           "title": {
            "standoff": 15
           },
           "zerolinecolor": "white",
           "zerolinewidth": 2
          }
         }
        },
        "title": {
         "text": "TEPR by Creation Method"
        },
        "width": 1200,
        "xaxis": {
         "anchor": "y",
         "domain": [
          0.55,
          1
         ],
         "title": {
          "text": "Method"
         }
        },
        "yaxis": {
         "anchor": "x",
         "domain": [
          0,
          1
         ],
         "range": [
          -0.1814146053045988,
          1.4921932976692915
         ],
         "title": {
          "text": "TEPR"
         }
        }
       }
      }
     },
     "metadata": {},
     "output_type": "display_data"
    }
   ],
   "source": [
    "stats_table = go.Table(columnwidth=[5,4,4,4,4])\n",
    "stats_table.header = dict(\n",
    "    values=summary_header, \n",
    "    align = ['right', 'center'],)\n",
    "stats_table.cells = dict(\n",
    "        values=summary_values,\n",
    "        align = ['right', 'center'],\n",
    "        format=[\"\", \".3f\"],\n",
    "        )\n",
    "\n",
    "results_table = go.Table(columnwidth=[5,4,4])\n",
    "results_table.header = dict(\n",
    "    values= results_header, \n",
    "    align = ['right', 'center'],)\n",
    "results_table.cells = dict(\n",
    "        values=results_values,\n",
    "        align = ['right', 'center'],\n",
    "        format=[\"\", \".2f\", \".5f\"],\n",
    "        fill_color=fill_color,\n",
    "        prefix=results_prefix,\n",
    "        )\n",
    "\n",
    "tepr_fig = make_subplots(\n",
    "    rows=2, cols=2,\n",
    "    shared_xaxes=False,\n",
    "    specs=[\n",
    "        [{\"type\": \"table\"}, {\"type\": \"box\", \"rowspan\": 2}],\n",
    "        [{\"type\": \"table\"}, None]\n",
    "    ])\n",
    "\n",
    "tepr_fig.add_trace(stats_table, row=2, col=1)\n",
    "tepr_fig.add_trace(go.Box(y=tepr_crt['bimanual'], name=\"Bimanual\", notched=True, notchwidth=0.15), row=1, col=2)\n",
    "tepr_fig.add_trace(go.Box(y=tepr_crt['unimanual'], name=\"Unimanual\", notched=True, notchwidth=0.15), row=1, col=2)\n",
    "tepr_fig.add_trace(results_table, row=1, col=1)\n",
    "\n",
    "tepr_fig.update_layout(\n",
    "    title_text=\"TEPR by Creation Method\",\n",
    "    width=1200,\n",
    "    xaxis_title='Method',\n",
    "    yaxis_title='TEPR',\n",
    ")\n",
    "\n",
    "tepr_max = max(tepr_uni.max(), tepr_bi.max())\n",
    "tepr_min = min(tepr_uni.min(), tepr_bi.min())\n",
    "tepr_range = 0.025 * (tepr_max - tepr_min)\n",
    "tepr_fig.update_yaxes(range=[min(tepr_uni.min() - tepr_range, tepr_bi.min() - tepr_range), max(tepr_uni.max() + tepr_range, tepr_bi.max() + tepr_range)])\n",
    "tepr_fig.show()\n"
   ]
  },
  {
   "cell_type": "markdown",
   "metadata": {},
   "source": [
    "### Survey Analysis"
   ]
  },
  {
   "cell_type": "markdown",
   "metadata": {},
   "source": [
    "N.B: \n",
    "\n",
    "Non-normally distributed Likert data is known to be poorly suited to non-parametric tests. Mixed models are a better alternative for this type of data for null hypothesis testing, especially for repeated measures designs. This will be refactored soon."
   ]
  },
  {
   "cell_type": "code",
   "execution_count": 291,
   "metadata": {},
   "outputs": [
    {
     "name": "stderr",
     "output_type": "stream",
     "text": [
      "c:\\Users\\court\\anaconda3\\envs\\path_data\\Lib\\site-packages\\scipy\\stats\\_axis_nan_policy.py:531: UserWarning:\n",
      "\n",
      "Exact p-value calculation does not work if there are zeros. Switching to normal approximation.\n",
      "\n"
     ]
    }
   ],
   "source": [
    "discomfort = user_data_nav.loc[(slice(None), slice(None), slice(None)), 'discomfort']\n",
    "discomfort = discomfort.unstack(level=(3))\n",
    "\n",
    "first_4dof = discomfort['4DoF'].groupby(level=0).first()\n",
    "first_6dof = discomfort['6DoF'].groupby(level=0).first()\n",
    "\n",
    "last_4dof = discomfort['4DoF'].groupby(level=0).last()\n",
    "last_6dof = discomfort['6DoF'].groupby(level=0).last()\n",
    "\n",
    "mean_4dof = discomfort['4DoF'].groupby(level=0).mean()\n",
    "mean_6dof = discomfort['6DoF'].groupby(level=0).mean()\n",
    "\n",
    "discomfort_4dof = mean_4dof #last_4dof - first_4dof\n",
    "discomfort_6dof = mean_6dof #last_6dof - first_6dof\n",
    "\n",
    "delta_discomfort = discomfort_6dof - discomfort_4dof\n",
    "\n",
    "n_stat, n_p = stats.shapiro(discomfort.stack())\n",
    "w_stat, w_p = stats.wilcoxon(delta_discomfort, nan_policy='raise', zero_method='wilcox')\n",
    "t_stat, t_p = stats.ttest_rel(discomfort_4dof, discomfort_6dof, nan_policy='raise')\n",
    "\n",
    "results_colors = get_results_colors(n_p, w_p, t_p)\n",
    "results_header = ['<b>Test</b>', '<b>Result</b>', '<b>p-value</b>']\n",
    "results_values=[['Shapiro-Wilk', 'Wilcoxon', 'T-test'], [n_stat, w_stat, t_stat], [n_p, w_p, t_p]]\n",
    "results_prefix = ['','', 'p = ',]\n",
    "fill_color = results_colors \n",
    "\n",
    "if n_p < 0.05:\n",
    "    iqr_4dof, q1_4dof, q3_4dof = iqr_stats(discomfort_4dof)\n",
    "    iqr_6dof, q1_6dof, q3_6dof = iqr_stats(discomfort_6dof)\n",
    "    summary_header = ['', '<b>Median</b>', '<b>IQR</b>', '<b>Min</b>', '<b>Max</b>', '<b>Skewness</b>']\n",
    "    summary_values = [['<b>4-DoF</b>', '<b>6-DoF</b>'], [discomfort_4dof.median(), discomfort_6dof.median()], [iqr_4dof, iqr_6dof], [discomfort_4dof.min(), discomfort_6dof.min()], [discomfort_4dof.max(), discomfort_6dof.max()], [discomfort_4dof.skew(), discomfort_6dof.skew()]]\n",
    "\n",
    "else:\n",
    "    summary_header = ['', '<b>Mean</b>', '<b>STD</b>', '<b>Min</b>', '<b>Max</b>', '<b>Skewness</b>']\n",
    "    summary_values = [['<b>4-DoF</b>', '<b>6-DoF</b>'], [discomfort_4dof.mean(), discomfort_6dof.mean()], [discomfort_4dof.std(), discomfort_6dof.std()], [discomfort_4dof.min(), discomfort_6dof.min()], [discomfort_4dof.max(), discomfort_6dof.max()], [discomfort_4dof.skew(), discomfort_6dof.skew()]]"
   ]
  },
  {
   "cell_type": "code",
   "execution_count": 292,
   "metadata": {},
   "outputs": [
    {
     "data": {
      "application/vnd.plotly.v1+json": {
       "config": {
        "plotlyServerURL": "https://plot.ly"
       },
       "data": [
        {
         "cells": {
          "align": [
           "right",
           "center"
          ],
          "format": [
           "",
           ".3f"
          ],
          "values": [
           [
            "<b>4-DoF</b>",
            "<b>6-DoF</b>"
           ],
           [
            1.25,
            1.875
           ],
           [
            3.5,
            3.5625
           ],
           [
            0,
            0
           ],
           [
            8.75,
            8.5
           ],
           [
            1.114117003729595,
            0.9974666119248407
           ]
          ]
         },
         "columnwidth": [
          5,
          4,
          4,
          4,
          4
         ],
         "domain": {
          "x": [
           0,
           0.45
          ],
          "y": [
           0,
           0.425
          ]
         },
         "header": {
          "align": [
           "right",
           "center"
          ],
          "values": [
           "",
           "<b>Median</b>",
           "<b>IQR</b>",
           "<b>Min</b>",
           "<b>Max</b>",
           "<b>Skewness</b>"
          ]
         },
         "type": "table"
        },
        {
         "name": "4-DoF",
         "notched": false,
         "notchwidth": 0.05,
         "type": "box",
         "xaxis": "x",
         "y": [
          1.5,
          0,
          5,
          0.75,
          4.5,
          0.5,
          0,
          2,
          0.5,
          0,
          0.5,
          0.5,
          4,
          7,
          0.5,
          2,
          2.75,
          1,
          0.75,
          3,
          4.75,
          0.25,
          0,
          7.75,
          7.25,
          0.75,
          1,
          1.5,
          6,
          4,
          0,
          1.5,
          8.75,
          1,
          3.5,
          0
         ],
         "yaxis": "y"
        },
        {
         "name": "6-DoF",
         "notched": false,
         "notchwidth": 0.05,
         "type": "box",
         "xaxis": "x",
         "y": [
          1.25,
          0,
          5.5,
          2,
          5,
          0,
          0,
          2,
          0,
          0,
          3.25,
          0.75,
          5.25,
          7.75,
          2.25,
          3.25,
          4.25,
          0.75,
          1.25,
          2.25,
          2.5,
          1.25,
          0,
          7.5,
          5.5,
          1,
          1.25,
          0.75,
          8.5,
          1,
          0.75,
          2.5,
          4.5,
          1.75,
          5,
          1.5
         ],
         "yaxis": "y"
        },
        {
         "cells": {
          "align": [
           "right",
           "center"
          ],
          "fill": {
           "color": [
            [
             "white",
             "white",
             "white"
            ],
            [
             "white",
             "rgb(244,202,228)",
             "white"
            ],
            [
             "rgb(244,202,228)",
             "rgb(244,202,228)",
             "white"
            ]
           ]
          },
          "format": [
           "",
           ".2f",
           ".5f"
          ],
          "prefix": [
           "",
           "",
           "p = "
          ],
          "values": [
           [
            "Shapiro-Wilk",
            "Wilcoxon",
            "T-test"
           ],
           [
            0.8542410078122121,
            170,
            -0.8638673304960811
           ],
           [
            9.54535984592178e-16,
            0.12560673068189518,
            0.3935425621123644
           ]
          ]
         },
         "columnwidth": [
          5,
          4,
          4
         ],
         "domain": {
          "x": [
           0,
           0.45
          ],
          "y": [
           0.575,
           1
          ]
         },
         "header": {
          "align": [
           "right",
           "center"
          ],
          "values": [
           "<b>Test</b>",
           "<b>Result</b>",
           "<b>p-value</b>"
          ]
         },
         "type": "table"
        }
       ],
       "layout": {
        "template": {
         "data": {
          "bar": [
           {
            "error_x": {
             "color": "#2a3f5f"
            },
            "error_y": {
             "color": "#2a3f5f"
            },
            "marker": {
             "line": {
              "color": "#E5ECF6",
              "width": 0.5
             },
             "pattern": {
              "fillmode": "overlay",
              "size": 10,
              "solidity": 0.2
             }
            },
            "type": "bar"
           }
          ],
          "barpolar": [
           {
            "marker": {
             "line": {
              "color": "#E5ECF6",
              "width": 0.5
             },
             "pattern": {
              "fillmode": "overlay",
              "size": 10,
              "solidity": 0.2
             }
            },
            "type": "barpolar"
           }
          ],
          "carpet": [
           {
            "aaxis": {
             "endlinecolor": "#2a3f5f",
             "gridcolor": "white",
             "linecolor": "white",
             "minorgridcolor": "white",
             "startlinecolor": "#2a3f5f"
            },
            "baxis": {
             "endlinecolor": "#2a3f5f",
             "gridcolor": "white",
             "linecolor": "white",
             "minorgridcolor": "white",
             "startlinecolor": "#2a3f5f"
            },
            "type": "carpet"
           }
          ],
          "choropleth": [
           {
            "colorbar": {
             "outlinewidth": 0,
             "ticks": ""
            },
            "type": "choropleth"
           }
          ],
          "contour": [
           {
            "colorbar": {
             "outlinewidth": 0,
             "ticks": ""
            },
            "colorscale": [
             [
              0,
              "#0d0887"
             ],
             [
              0.1111111111111111,
              "#46039f"
             ],
             [
              0.2222222222222222,
              "#7201a8"
             ],
             [
              0.3333333333333333,
              "#9c179e"
             ],
             [
              0.4444444444444444,
              "#bd3786"
             ],
             [
              0.5555555555555556,
              "#d8576b"
             ],
             [
              0.6666666666666666,
              "#ed7953"
             ],
             [
              0.7777777777777778,
              "#fb9f3a"
             ],
             [
              0.8888888888888888,
              "#fdca26"
             ],
             [
              1,
              "#f0f921"
             ]
            ],
            "type": "contour"
           }
          ],
          "contourcarpet": [
           {
            "colorbar": {
             "outlinewidth": 0,
             "ticks": ""
            },
            "type": "contourcarpet"
           }
          ],
          "heatmap": [
           {
            "colorbar": {
             "outlinewidth": 0,
             "ticks": ""
            },
            "colorscale": [
             [
              0,
              "#0d0887"
             ],
             [
              0.1111111111111111,
              "#46039f"
             ],
             [
              0.2222222222222222,
              "#7201a8"
             ],
             [
              0.3333333333333333,
              "#9c179e"
             ],
             [
              0.4444444444444444,
              "#bd3786"
             ],
             [
              0.5555555555555556,
              "#d8576b"
             ],
             [
              0.6666666666666666,
              "#ed7953"
             ],
             [
              0.7777777777777778,
              "#fb9f3a"
             ],
             [
              0.8888888888888888,
              "#fdca26"
             ],
             [
              1,
              "#f0f921"
             ]
            ],
            "type": "heatmap"
           }
          ],
          "heatmapgl": [
           {
            "colorbar": {
             "outlinewidth": 0,
             "ticks": ""
            },
            "colorscale": [
             [
              0,
              "#0d0887"
             ],
             [
              0.1111111111111111,
              "#46039f"
             ],
             [
              0.2222222222222222,
              "#7201a8"
             ],
             [
              0.3333333333333333,
              "#9c179e"
             ],
             [
              0.4444444444444444,
              "#bd3786"
             ],
             [
              0.5555555555555556,
              "#d8576b"
             ],
             [
              0.6666666666666666,
              "#ed7953"
             ],
             [
              0.7777777777777778,
              "#fb9f3a"
             ],
             [
              0.8888888888888888,
              "#fdca26"
             ],
             [
              1,
              "#f0f921"
             ]
            ],
            "type": "heatmapgl"
           }
          ],
          "histogram": [
           {
            "marker": {
             "pattern": {
              "fillmode": "overlay",
              "size": 10,
              "solidity": 0.2
             }
            },
            "type": "histogram"
           }
          ],
          "histogram2d": [
           {
            "colorbar": {
             "outlinewidth": 0,
             "ticks": ""
            },
            "colorscale": [
             [
              0,
              "#0d0887"
             ],
             [
              0.1111111111111111,
              "#46039f"
             ],
             [
              0.2222222222222222,
              "#7201a8"
             ],
             [
              0.3333333333333333,
              "#9c179e"
             ],
             [
              0.4444444444444444,
              "#bd3786"
             ],
             [
              0.5555555555555556,
              "#d8576b"
             ],
             [
              0.6666666666666666,
              "#ed7953"
             ],
             [
              0.7777777777777778,
              "#fb9f3a"
             ],
             [
              0.8888888888888888,
              "#fdca26"
             ],
             [
              1,
              "#f0f921"
             ]
            ],
            "type": "histogram2d"
           }
          ],
          "histogram2dcontour": [
           {
            "colorbar": {
             "outlinewidth": 0,
             "ticks": ""
            },
            "colorscale": [
             [
              0,
              "#0d0887"
             ],
             [
              0.1111111111111111,
              "#46039f"
             ],
             [
              0.2222222222222222,
              "#7201a8"
             ],
             [
              0.3333333333333333,
              "#9c179e"
             ],
             [
              0.4444444444444444,
              "#bd3786"
             ],
             [
              0.5555555555555556,
              "#d8576b"
             ],
             [
              0.6666666666666666,
              "#ed7953"
             ],
             [
              0.7777777777777778,
              "#fb9f3a"
             ],
             [
              0.8888888888888888,
              "#fdca26"
             ],
             [
              1,
              "#f0f921"
             ]
            ],
            "type": "histogram2dcontour"
           }
          ],
          "mesh3d": [
           {
            "colorbar": {
             "outlinewidth": 0,
             "ticks": ""
            },
            "type": "mesh3d"
           }
          ],
          "parcoords": [
           {
            "line": {
             "colorbar": {
              "outlinewidth": 0,
              "ticks": ""
             }
            },
            "type": "parcoords"
           }
          ],
          "pie": [
           {
            "automargin": true,
            "type": "pie"
           }
          ],
          "scatter": [
           {
            "fillpattern": {
             "fillmode": "overlay",
             "size": 10,
             "solidity": 0.2
            },
            "type": "scatter"
           }
          ],
          "scatter3d": [
           {
            "line": {
             "colorbar": {
              "outlinewidth": 0,
              "ticks": ""
             }
            },
            "marker": {
             "colorbar": {
              "outlinewidth": 0,
              "ticks": ""
             }
            },
            "type": "scatter3d"
           }
          ],
          "scattercarpet": [
           {
            "marker": {
             "colorbar": {
              "outlinewidth": 0,
              "ticks": ""
             }
            },
            "type": "scattercarpet"
           }
          ],
          "scattergeo": [
           {
            "marker": {
             "colorbar": {
              "outlinewidth": 0,
              "ticks": ""
             }
            },
            "type": "scattergeo"
           }
          ],
          "scattergl": [
           {
            "marker": {
             "colorbar": {
              "outlinewidth": 0,
              "ticks": ""
             }
            },
            "type": "scattergl"
           }
          ],
          "scattermapbox": [
           {
            "marker": {
             "colorbar": {
              "outlinewidth": 0,
              "ticks": ""
             }
            },
            "type": "scattermapbox"
           }
          ],
          "scatterpolar": [
           {
            "marker": {
             "colorbar": {
              "outlinewidth": 0,
              "ticks": ""
             }
            },
            "type": "scatterpolar"
           }
          ],
          "scatterpolargl": [
           {
            "marker": {
             "colorbar": {
              "outlinewidth": 0,
              "ticks": ""
             }
            },
            "type": "scatterpolargl"
           }
          ],
          "scatterternary": [
           {
            "marker": {
             "colorbar": {
              "outlinewidth": 0,
              "ticks": ""
             }
            },
            "type": "scatterternary"
           }
          ],
          "surface": [
           {
            "colorbar": {
             "outlinewidth": 0,
             "ticks": ""
            },
            "colorscale": [
             [
              0,
              "#0d0887"
             ],
             [
              0.1111111111111111,
              "#46039f"
             ],
             [
              0.2222222222222222,
              "#7201a8"
             ],
             [
              0.3333333333333333,
              "#9c179e"
             ],
             [
              0.4444444444444444,
              "#bd3786"
             ],
             [
              0.5555555555555556,
              "#d8576b"
             ],
             [
              0.6666666666666666,
              "#ed7953"
             ],
             [
              0.7777777777777778,
              "#fb9f3a"
             ],
             [
              0.8888888888888888,
              "#fdca26"
             ],
             [
              1,
              "#f0f921"
             ]
            ],
            "type": "surface"
           }
          ],
          "table": [
           {
            "cells": {
             "fill": {
              "color": "#EBF0F8"
             },
             "line": {
              "color": "white"
             }
            },
            "header": {
             "fill": {
              "color": "#C8D4E3"
             },
             "line": {
              "color": "white"
             }
            },
            "type": "table"
           }
          ]
         },
         "layout": {
          "annotationdefaults": {
           "arrowcolor": "#2a3f5f",
           "arrowhead": 0,
           "arrowwidth": 1
          },
          "autotypenumbers": "strict",
          "coloraxis": {
           "colorbar": {
            "outlinewidth": 0,
            "ticks": ""
           }
          },
          "colorscale": {
           "diverging": [
            [
             0,
             "#8e0152"
            ],
            [
             0.1,
             "#c51b7d"
            ],
            [
             0.2,
             "#de77ae"
            ],
            [
             0.3,
             "#f1b6da"
            ],
            [
             0.4,
             "#fde0ef"
            ],
            [
             0.5,
             "#f7f7f7"
            ],
            [
             0.6,
             "#e6f5d0"
            ],
            [
             0.7,
             "#b8e186"
            ],
            [
             0.8,
             "#7fbc41"
            ],
            [
             0.9,
             "#4d9221"
            ],
            [
             1,
             "#276419"
            ]
           ],
           "sequential": [
            [
             0,
             "#0d0887"
            ],
            [
             0.1111111111111111,
             "#46039f"
            ],
            [
             0.2222222222222222,
             "#7201a8"
            ],
            [
             0.3333333333333333,
             "#9c179e"
            ],
            [
             0.4444444444444444,
             "#bd3786"
            ],
            [
             0.5555555555555556,
             "#d8576b"
            ],
            [
             0.6666666666666666,
             "#ed7953"
            ],
            [
             0.7777777777777778,
             "#fb9f3a"
            ],
            [
             0.8888888888888888,
             "#fdca26"
            ],
            [
             1,
             "#f0f921"
            ]
           ],
           "sequentialminus": [
            [
             0,
             "#0d0887"
            ],
            [
             0.1111111111111111,
             "#46039f"
            ],
            [
             0.2222222222222222,
             "#7201a8"
            ],
            [
             0.3333333333333333,
             "#9c179e"
            ],
            [
             0.4444444444444444,
             "#bd3786"
            ],
            [
             0.5555555555555556,
             "#d8576b"
            ],
            [
             0.6666666666666666,
             "#ed7953"
            ],
            [
             0.7777777777777778,
             "#fb9f3a"
            ],
            [
             0.8888888888888888,
             "#fdca26"
            ],
            [
             1,
             "#f0f921"
            ]
           ]
          },
          "colorway": [
           "#636efa",
           "#EF553B",
           "#00cc96",
           "#ab63fa",
           "#FFA15A",
           "#19d3f3",
           "#FF6692",
           "#B6E880",
           "#FF97FF",
           "#FECB52"
          ],
          "font": {
           "color": "#2a3f5f"
          },
          "geo": {
           "bgcolor": "white",
           "lakecolor": "white",
           "landcolor": "#E5ECF6",
           "showlakes": true,
           "showland": true,
           "subunitcolor": "white"
          },
          "hoverlabel": {
           "align": "left"
          },
          "hovermode": "closest",
          "mapbox": {
           "style": "light"
          },
          "paper_bgcolor": "white",
          "plot_bgcolor": "#E5ECF6",
          "polar": {
           "angularaxis": {
            "gridcolor": "white",
            "linecolor": "white",
            "ticks": ""
           },
           "bgcolor": "#E5ECF6",
           "radialaxis": {
            "gridcolor": "white",
            "linecolor": "white",
            "ticks": ""
           }
          },
          "scene": {
           "xaxis": {
            "backgroundcolor": "#E5ECF6",
            "gridcolor": "white",
            "gridwidth": 2,
            "linecolor": "white",
            "showbackground": true,
            "ticks": "",
            "zerolinecolor": "white"
           },
           "yaxis": {
            "backgroundcolor": "#E5ECF6",
            "gridcolor": "white",
            "gridwidth": 2,
            "linecolor": "white",
            "showbackground": true,
            "ticks": "",
            "zerolinecolor": "white"
           },
           "zaxis": {
            "backgroundcolor": "#E5ECF6",
            "gridcolor": "white",
            "gridwidth": 2,
            "linecolor": "white",
            "showbackground": true,
            "ticks": "",
            "zerolinecolor": "white"
           }
          },
          "shapedefaults": {
           "line": {
            "color": "#2a3f5f"
           }
          },
          "ternary": {
           "aaxis": {
            "gridcolor": "white",
            "linecolor": "white",
            "ticks": ""
           },
           "baxis": {
            "gridcolor": "white",
            "linecolor": "white",
            "ticks": ""
           },
           "bgcolor": "#E5ECF6",
           "caxis": {
            "gridcolor": "white",
            "linecolor": "white",
            "ticks": ""
           }
          },
          "title": {
           "x": 0.05
          },
          "xaxis": {
           "automargin": true,
           "gridcolor": "white",
           "linecolor": "white",
           "ticks": "",
           "title": {
            "standoff": 15
           },
           "zerolinecolor": "white",
           "zerolinewidth": 2
          },
          "yaxis": {
           "automargin": true,
           "gridcolor": "white",
           "linecolor": "white",
           "ticks": "",
           "title": {
            "standoff": 15
           },
           "zerolinecolor": "white",
           "zerolinewidth": 2
          }
         }
        },
        "title": {
         "text": "Discomfort by Navigation Method"
        },
        "width": 1200,
        "xaxis": {
         "anchor": "y",
         "domain": [
          0.55,
          1
         ],
         "title": {
          "text": "Method"
         }
        },
        "yaxis": {
         "anchor": "x",
         "domain": [
          0,
          1
         ],
         "range": [
          0,
          9.625
         ],
         "title": {
          "text": "Discomfort"
         }
        }
       }
      }
     },
     "metadata": {},
     "output_type": "display_data"
    }
   ],
   "source": [
    "stats_table = go.Table(columnwidth=[5,4,4,4,4])\n",
    "stats_table.header = dict(\n",
    "    values=summary_header, \n",
    "    align = ['right', 'center'],)\n",
    "stats_table.cells = dict(\n",
    "        values=summary_values,\n",
    "        align = ['right', 'center'],\n",
    "        format=[\"\", \".3f\"],\n",
    "        )\n",
    "\n",
    "results_table = go.Table(columnwidth=[5,4,4])\n",
    "results_table.header = dict(\n",
    "    values= results_header, \n",
    "    align = ['right', 'center'],)\n",
    "results_table.cells = dict(\n",
    "        values=results_values,\n",
    "        align = ['right', 'center'],\n",
    "        format=[\"\", \".2f\", \".5f\"],\n",
    "        fill_color=fill_color,\n",
    "        prefix=results_prefix,\n",
    "        )\n",
    "\n",
    "discomfort_fig = make_subplots(\n",
    "    rows=2, cols=2,\n",
    "    shared_xaxes=False,\n",
    "    specs=[\n",
    "        [{\"type\": \"table\"}, {\"type\": \"box\", \"rowspan\": 2}],\n",
    "        [{\"type\": \"table\"}, None]\n",
    "    ])\n",
    "\n",
    "discomfort_fig.add_trace(stats_table, row=2, col=1)\n",
    "discomfort_fig.add_trace(go.Box(y=discomfort_4dof, name=\"4-DoF\", notched=False, notchwidth=0.05), row=1, col=2)\n",
    "discomfort_fig.add_trace(go.Box(y=discomfort_6dof, name=\"6-DoF\", notched=False, notchwidth=0.05), row=1, col=2)\n",
    "discomfort_fig.add_trace(results_table, row=1, col=1)\n",
    "\n",
    "discomfort_fig.update_layout(\n",
    "    title_text=\"Discomfort by Navigation Method\",\n",
    "    width=1200,\n",
    "    xaxis_title='Method',\n",
    "    yaxis_title='Discomfort',\n",
    ")\n",
    "\n",
    "discomfort_fig.update_yaxes(range=[min(1.1*discomfort_4dof.min(), 1.1*discomfort_6dof.min()), max(1.1*discomfort_4dof.max(), 1.1*discomfort_6dof.max())])\n",
    "discomfort_fig.show()"
   ]
  },
  {
   "cell_type": "code",
   "execution_count": 293,
   "metadata": {},
   "outputs": [
    {
     "name": "stderr",
     "output_type": "stream",
     "text": [
      "c:\\Users\\court\\anaconda3\\envs\\path_data\\Lib\\site-packages\\scipy\\stats\\_axis_nan_policy.py:531: UserWarning:\n",
      "\n",
      "Exact p-value calculation does not work if there are zeros. Switching to normal approximation.\n",
      "\n"
     ]
    }
   ],
   "source": [
    "seq_nav = user_data_nav.loc[(slice(None), slice(None), slice(None)), 'seq']\n",
    "seq_nav = seq_nav.unstack(level=(3))\n",
    "\n",
    "seq_4dof = seq_nav['4DoF'].groupby(level=0).mean()\n",
    "seq_6dof = seq_nav['6DoF'].groupby(level=0).mean()\n",
    "\n",
    "seq_diff = seq_6dof - seq_4dof\n",
    "\n",
    "n_stat, n_p = stats.shapiro(seq_nav.stack())\n",
    "w_stat, w_p = stats.wilcoxon(seq_diff, nan_policy='omit', zero_method='wilcox')\n",
    "t_stat, t_p = stats.ttest_rel(seq_4dof, seq_6dof, nan_policy='omit')\n",
    "\n",
    "results_colors = get_results_colors(n_p, w_p, t_p)\n",
    "results_header = ['<b>Test</b>', '<b>Result</b>', '<b>p-value</b>']\n",
    "results_values=[['Shapiro-Wilk', 'Wilcoxon', 'T-test'], [n_stat, w_stat, t_stat], [n_p, w_p, t_p]]\n",
    "results_prefix = ['','', 'p = ',]\n",
    "fill_color = results_colors\n",
    "\n",
    "if n_p < 0.05:\n",
    "    iqr_4dof, q1_4dof, q3_4dof = iqr_stats(seq_4dof)\n",
    "    iqr_6dof, q1_6dof, q3_6dof = iqr_stats(seq_6dof)\n",
    "    summary_header = ['', '<b>Median</b>', '<b>IQR</b>', '<b>Min</b>', '<b>Max</b>', '<b>Skewness</b>']\n",
    "    summary_values = [['<b>4-DoF</b>', '<b>6-DoF</b>'], [seq_4dof.median(), seq_6dof.median()], [iqr_4dof, iqr_6dof], [seq_4dof.min(), seq_6dof.min()], [seq_4dof.max(), seq_6dof.max()], [seq_4dof.skew(), seq_6dof.skew()]]\n",
    "\n",
    "else:\n",
    "    summary_header = ['', '<b>Mean</b>', '<b>STD</b>', '<b>Min</b>', '<b>Max</b>', '<b>Skewness</b>']\n",
    "    summary_values = [['<b>4-DoF</b>', '<b>6-DoF</b>'], [seq_4dof.mean(), seq_6dof.mean()], [seq_4dof.std(), seq_6dof.std()], [seq_4dof.min(), seq_6dof.min()], [seq_4dof.max(), seq_6dof.max()], [seq_4dof.skew(), seq_6dof.skew()]]"
   ]
  },
  {
   "cell_type": "code",
   "execution_count": 294,
   "metadata": {},
   "outputs": [
    {
     "data": {
      "application/vnd.plotly.v1+json": {
       "config": {
        "plotlyServerURL": "https://plot.ly"
       },
       "data": [
        {
         "cells": {
          "align": [
           "right",
           "center"
          ],
          "format": [
           "",
           ".3f"
          ],
          "values": [
           [
            "<b>4-DoF</b>",
            "<b>6-DoF</b>"
           ],
           [
            0,
            0.875
           ],
           [
            0.5,
            1.25
           ],
           [
            0,
            0
           ],
           [
            2,
            2.75
           ],
           [
            1.7066796362900305,
            0.48576427930425375
           ]
          ]
         },
         "columnwidth": [
          5,
          4,
          4,
          4,
          4
         ],
         "domain": {
          "x": [
           0,
           0.45
          ],
          "y": [
           0,
           0.425
          ]
         },
         "header": {
          "align": [
           "right",
           "center"
          ],
          "values": [
           "",
           "<b>Median</b>",
           "<b>IQR</b>",
           "<b>Min</b>",
           "<b>Max</b>",
           "<b>Skewness</b>"
          ]
         },
         "type": "table"
        },
        {
         "name": "4-DoF",
         "notched": true,
         "notchwidth": 0.15,
         "type": "box",
         "xaxis": "x",
         "y": [
          0.5,
          0.25,
          0.25,
          0,
          1.75,
          0,
          0,
          2,
          0.25,
          0,
          0,
          0,
          1,
          1.25,
          0,
          0,
          1,
          0,
          0,
          1.25,
          0,
          0,
          0,
          0.75,
          0,
          0,
          0,
          0,
          2,
          0,
          0,
          0.5,
          0,
          0,
          0,
          0
         ],
         "yaxis": "y"
        },
        {
         "name": "6-DoF",
         "notched": true,
         "notchwidth": 0.15,
         "type": "box",
         "xaxis": "x",
         "y": [
          0,
          0,
          0,
          0.25,
          1.5,
          0,
          0,
          2.75,
          0,
          0.25,
          2,
          0.75,
          1,
          1.25,
          1.25,
          1.75,
          2.25,
          0.25,
          1.25,
          1.25,
          2,
          2.25,
          0.75,
          1.5,
          0.5,
          0.25,
          0.5,
          0.75,
          2,
          0,
          0.5,
          1,
          1,
          2.25,
          1,
          0.75
         ],
         "yaxis": "y"
        },
        {
         "cells": {
          "align": [
           "right",
           "center"
          ],
          "fill": {
           "color": [
            [
             "white",
             "white",
             "white"
            ],
            [
             "white",
             "rgb(179,226,205)",
             "white"
            ],
            [
             "rgb(244,202,228)",
             "rgb(179,226,205)",
             "white"
            ]
           ]
          },
          "format": [
           "",
           ".2f",
           ".5f"
          ],
          "prefix": [
           "",
           "",
           "p = "
          ],
          "values": [
           [
            "Shapiro-Wilk",
            "Wilcoxon",
            "T-test"
           ],
           [
            0.7467464753756872,
            29,
            -4.9053542175871465
           ],
           [
            1.2223369786534083e-20,
            0.000042495463929019874,
            0.000021345370911058005
           ]
          ]
         },
         "columnwidth": [
          5,
          4,
          4
         ],
         "domain": {
          "x": [
           0,
           0.45
          ],
          "y": [
           0.575,
           1
          ]
         },
         "header": {
          "align": [
           "right",
           "center"
          ],
          "values": [
           "<b>Test</b>",
           "<b>Result</b>",
           "<b>p-value</b>"
          ]
         },
         "type": "table"
        }
       ],
       "layout": {
        "template": {
         "data": {
          "bar": [
           {
            "error_x": {
             "color": "#2a3f5f"
            },
            "error_y": {
             "color": "#2a3f5f"
            },
            "marker": {
             "line": {
              "color": "#E5ECF6",
              "width": 0.5
             },
             "pattern": {
              "fillmode": "overlay",
              "size": 10,
              "solidity": 0.2
             }
            },
            "type": "bar"
           }
          ],
          "barpolar": [
           {
            "marker": {
             "line": {
              "color": "#E5ECF6",
              "width": 0.5
             },
             "pattern": {
              "fillmode": "overlay",
              "size": 10,
              "solidity": 0.2
             }
            },
            "type": "barpolar"
           }
          ],
          "carpet": [
           {
            "aaxis": {
             "endlinecolor": "#2a3f5f",
             "gridcolor": "white",
             "linecolor": "white",
             "minorgridcolor": "white",
             "startlinecolor": "#2a3f5f"
            },
            "baxis": {
             "endlinecolor": "#2a3f5f",
             "gridcolor": "white",
             "linecolor": "white",
             "minorgridcolor": "white",
             "startlinecolor": "#2a3f5f"
            },
            "type": "carpet"
           }
          ],
          "choropleth": [
           {
            "colorbar": {
             "outlinewidth": 0,
             "ticks": ""
            },
            "type": "choropleth"
           }
          ],
          "contour": [
           {
            "colorbar": {
             "outlinewidth": 0,
             "ticks": ""
            },
            "colorscale": [
             [
              0,
              "#0d0887"
             ],
             [
              0.1111111111111111,
              "#46039f"
             ],
             [
              0.2222222222222222,
              "#7201a8"
             ],
             [
              0.3333333333333333,
              "#9c179e"
             ],
             [
              0.4444444444444444,
              "#bd3786"
             ],
             [
              0.5555555555555556,
              "#d8576b"
             ],
             [
              0.6666666666666666,
              "#ed7953"
             ],
             [
              0.7777777777777778,
              "#fb9f3a"
             ],
             [
              0.8888888888888888,
              "#fdca26"
             ],
             [
              1,
              "#f0f921"
             ]
            ],
            "type": "contour"
           }
          ],
          "contourcarpet": [
           {
            "colorbar": {
             "outlinewidth": 0,
             "ticks": ""
            },
            "type": "contourcarpet"
           }
          ],
          "heatmap": [
           {
            "colorbar": {
             "outlinewidth": 0,
             "ticks": ""
            },
            "colorscale": [
             [
              0,
              "#0d0887"
             ],
             [
              0.1111111111111111,
              "#46039f"
             ],
             [
              0.2222222222222222,
              "#7201a8"
             ],
             [
              0.3333333333333333,
              "#9c179e"
             ],
             [
              0.4444444444444444,
              "#bd3786"
             ],
             [
              0.5555555555555556,
              "#d8576b"
             ],
             [
              0.6666666666666666,
              "#ed7953"
             ],
             [
              0.7777777777777778,
              "#fb9f3a"
             ],
             [
              0.8888888888888888,
              "#fdca26"
             ],
             [
              1,
              "#f0f921"
             ]
            ],
            "type": "heatmap"
           }
          ],
          "heatmapgl": [
           {
            "colorbar": {
             "outlinewidth": 0,
             "ticks": ""
            },
            "colorscale": [
             [
              0,
              "#0d0887"
             ],
             [
              0.1111111111111111,
              "#46039f"
             ],
             [
              0.2222222222222222,
              "#7201a8"
             ],
             [
              0.3333333333333333,
              "#9c179e"
             ],
             [
              0.4444444444444444,
              "#bd3786"
             ],
             [
              0.5555555555555556,
              "#d8576b"
             ],
             [
              0.6666666666666666,
              "#ed7953"
             ],
             [
              0.7777777777777778,
              "#fb9f3a"
             ],
             [
              0.8888888888888888,
              "#fdca26"
             ],
             [
              1,
              "#f0f921"
             ]
            ],
            "type": "heatmapgl"
           }
          ],
          "histogram": [
           {
            "marker": {
             "pattern": {
              "fillmode": "overlay",
              "size": 10,
              "solidity": 0.2
             }
            },
            "type": "histogram"
           }
          ],
          "histogram2d": [
           {
            "colorbar": {
             "outlinewidth": 0,
             "ticks": ""
            },
            "colorscale": [
             [
              0,
              "#0d0887"
             ],
             [
              0.1111111111111111,
              "#46039f"
             ],
             [
              0.2222222222222222,
              "#7201a8"
             ],
             [
              0.3333333333333333,
              "#9c179e"
             ],
             [
              0.4444444444444444,
              "#bd3786"
             ],
             [
              0.5555555555555556,
              "#d8576b"
             ],
             [
              0.6666666666666666,
              "#ed7953"
             ],
             [
              0.7777777777777778,
              "#fb9f3a"
             ],
             [
              0.8888888888888888,
              "#fdca26"
             ],
             [
              1,
              "#f0f921"
             ]
            ],
            "type": "histogram2d"
           }
          ],
          "histogram2dcontour": [
           {
            "colorbar": {
             "outlinewidth": 0,
             "ticks": ""
            },
            "colorscale": [
             [
              0,
              "#0d0887"
             ],
             [
              0.1111111111111111,
              "#46039f"
             ],
             [
              0.2222222222222222,
              "#7201a8"
             ],
             [
              0.3333333333333333,
              "#9c179e"
             ],
             [
              0.4444444444444444,
              "#bd3786"
             ],
             [
              0.5555555555555556,
              "#d8576b"
             ],
             [
              0.6666666666666666,
              "#ed7953"
             ],
             [
              0.7777777777777778,
              "#fb9f3a"
             ],
             [
              0.8888888888888888,
              "#fdca26"
             ],
             [
              1,
              "#f0f921"
             ]
            ],
            "type": "histogram2dcontour"
           }
          ],
          "mesh3d": [
           {
            "colorbar": {
             "outlinewidth": 0,
             "ticks": ""
            },
            "type": "mesh3d"
           }
          ],
          "parcoords": [
           {
            "line": {
             "colorbar": {
              "outlinewidth": 0,
              "ticks": ""
             }
            },
            "type": "parcoords"
           }
          ],
          "pie": [
           {
            "automargin": true,
            "type": "pie"
           }
          ],
          "scatter": [
           {
            "fillpattern": {
             "fillmode": "overlay",
             "size": 10,
             "solidity": 0.2
            },
            "type": "scatter"
           }
          ],
          "scatter3d": [
           {
            "line": {
             "colorbar": {
              "outlinewidth": 0,
              "ticks": ""
             }
            },
            "marker": {
             "colorbar": {
              "outlinewidth": 0,
              "ticks": ""
             }
            },
            "type": "scatter3d"
           }
          ],
          "scattercarpet": [
           {
            "marker": {
             "colorbar": {
              "outlinewidth": 0,
              "ticks": ""
             }
            },
            "type": "scattercarpet"
           }
          ],
          "scattergeo": [
           {
            "marker": {
             "colorbar": {
              "outlinewidth": 0,
              "ticks": ""
             }
            },
            "type": "scattergeo"
           }
          ],
          "scattergl": [
           {
            "marker": {
             "colorbar": {
              "outlinewidth": 0,
              "ticks": ""
             }
            },
            "type": "scattergl"
           }
          ],
          "scattermapbox": [
           {
            "marker": {
             "colorbar": {
              "outlinewidth": 0,
              "ticks": ""
             }
            },
            "type": "scattermapbox"
           }
          ],
          "scatterpolar": [
           {
            "marker": {
             "colorbar": {
              "outlinewidth": 0,
              "ticks": ""
             }
            },
            "type": "scatterpolar"
           }
          ],
          "scatterpolargl": [
           {
            "marker": {
             "colorbar": {
              "outlinewidth": 0,
              "ticks": ""
             }
            },
            "type": "scatterpolargl"
           }
          ],
          "scatterternary": [
           {
            "marker": {
             "colorbar": {
              "outlinewidth": 0,
              "ticks": ""
             }
            },
            "type": "scatterternary"
           }
          ],
          "surface": [
           {
            "colorbar": {
             "outlinewidth": 0,
             "ticks": ""
            },
            "colorscale": [
             [
              0,
              "#0d0887"
             ],
             [
              0.1111111111111111,
              "#46039f"
             ],
             [
              0.2222222222222222,
              "#7201a8"
             ],
             [
              0.3333333333333333,
              "#9c179e"
             ],
             [
              0.4444444444444444,
              "#bd3786"
             ],
             [
              0.5555555555555556,
              "#d8576b"
             ],
             [
              0.6666666666666666,
              "#ed7953"
             ],
             [
              0.7777777777777778,
              "#fb9f3a"
             ],
             [
              0.8888888888888888,
              "#fdca26"
             ],
             [
              1,
              "#f0f921"
             ]
            ],
            "type": "surface"
           }
          ],
          "table": [
           {
            "cells": {
             "fill": {
              "color": "#EBF0F8"
             },
             "line": {
              "color": "white"
             }
            },
            "header": {
             "fill": {
              "color": "#C8D4E3"
             },
             "line": {
              "color": "white"
             }
            },
            "type": "table"
           }
          ]
         },
         "layout": {
          "annotationdefaults": {
           "arrowcolor": "#2a3f5f",
           "arrowhead": 0,
           "arrowwidth": 1
          },
          "autotypenumbers": "strict",
          "coloraxis": {
           "colorbar": {
            "outlinewidth": 0,
            "ticks": ""
           }
          },
          "colorscale": {
           "diverging": [
            [
             0,
             "#8e0152"
            ],
            [
             0.1,
             "#c51b7d"
            ],
            [
             0.2,
             "#de77ae"
            ],
            [
             0.3,
             "#f1b6da"
            ],
            [
             0.4,
             "#fde0ef"
            ],
            [
             0.5,
             "#f7f7f7"
            ],
            [
             0.6,
             "#e6f5d0"
            ],
            [
             0.7,
             "#b8e186"
            ],
            [
             0.8,
             "#7fbc41"
            ],
            [
             0.9,
             "#4d9221"
            ],
            [
             1,
             "#276419"
            ]
           ],
           "sequential": [
            [
             0,
             "#0d0887"
            ],
            [
             0.1111111111111111,
             "#46039f"
            ],
            [
             0.2222222222222222,
             "#7201a8"
            ],
            [
             0.3333333333333333,
             "#9c179e"
            ],
            [
             0.4444444444444444,
             "#bd3786"
            ],
            [
             0.5555555555555556,
             "#d8576b"
            ],
            [
             0.6666666666666666,
             "#ed7953"
            ],
            [
             0.7777777777777778,
             "#fb9f3a"
            ],
            [
             0.8888888888888888,
             "#fdca26"
            ],
            [
             1,
             "#f0f921"
            ]
           ],
           "sequentialminus": [
            [
             0,
             "#0d0887"
            ],
            [
             0.1111111111111111,
             "#46039f"
            ],
            [
             0.2222222222222222,
             "#7201a8"
            ],
            [
             0.3333333333333333,
             "#9c179e"
            ],
            [
             0.4444444444444444,
             "#bd3786"
            ],
            [
             0.5555555555555556,
             "#d8576b"
            ],
            [
             0.6666666666666666,
             "#ed7953"
            ],
            [
             0.7777777777777778,
             "#fb9f3a"
            ],
            [
             0.8888888888888888,
             "#fdca26"
            ],
            [
             1,
             "#f0f921"
            ]
           ]
          },
          "colorway": [
           "#636efa",
           "#EF553B",
           "#00cc96",
           "#ab63fa",
           "#FFA15A",
           "#19d3f3",
           "#FF6692",
           "#B6E880",
           "#FF97FF",
           "#FECB52"
          ],
          "font": {
           "color": "#2a3f5f"
          },
          "geo": {
           "bgcolor": "white",
           "lakecolor": "white",
           "landcolor": "#E5ECF6",
           "showlakes": true,
           "showland": true,
           "subunitcolor": "white"
          },
          "hoverlabel": {
           "align": "left"
          },
          "hovermode": "closest",
          "mapbox": {
           "style": "light"
          },
          "paper_bgcolor": "white",
          "plot_bgcolor": "#E5ECF6",
          "polar": {
           "angularaxis": {
            "gridcolor": "white",
            "linecolor": "white",
            "ticks": ""
           },
           "bgcolor": "#E5ECF6",
           "radialaxis": {
            "gridcolor": "white",
            "linecolor": "white",
            "ticks": ""
           }
          },
          "scene": {
           "xaxis": {
            "backgroundcolor": "#E5ECF6",
            "gridcolor": "white",
            "gridwidth": 2,
            "linecolor": "white",
            "showbackground": true,
            "ticks": "",
            "zerolinecolor": "white"
           },
           "yaxis": {
            "backgroundcolor": "#E5ECF6",
            "gridcolor": "white",
            "gridwidth": 2,
            "linecolor": "white",
            "showbackground": true,
            "ticks": "",
            "zerolinecolor": "white"
           },
           "zaxis": {
            "backgroundcolor": "#E5ECF6",
            "gridcolor": "white",
            "gridwidth": 2,
            "linecolor": "white",
            "showbackground": true,
            "ticks": "",
            "zerolinecolor": "white"
           }
          },
          "shapedefaults": {
           "line": {
            "color": "#2a3f5f"
           }
          },
          "ternary": {
           "aaxis": {
            "gridcolor": "white",
            "linecolor": "white",
            "ticks": ""
           },
           "baxis": {
            "gridcolor": "white",
            "linecolor": "white",
            "ticks": ""
           },
           "bgcolor": "#E5ECF6",
           "caxis": {
            "gridcolor": "white",
            "linecolor": "white",
            "ticks": ""
           }
          },
          "title": {
           "x": 0.05
          },
          "xaxis": {
           "automargin": true,
           "gridcolor": "white",
           "linecolor": "white",
           "ticks": "",
           "title": {
            "standoff": 15
           },
           "zerolinecolor": "white",
           "zerolinewidth": 2
          },
          "yaxis": {
           "automargin": true,
           "gridcolor": "white",
           "linecolor": "white",
           "ticks": "",
           "title": {
            "standoff": 15
           },
           "zerolinecolor": "white",
           "zerolinewidth": 2
          }
         }
        },
        "title": {
         "text": "SEQ by Navigation Method"
        },
        "width": 1200,
        "xaxis": {
         "anchor": "y",
         "domain": [
          0.55,
          1
         ],
         "title": {
          "text": "Method"
         }
        },
        "yaxis": {
         "anchor": "x",
         "domain": [
          0,
          1
         ],
         "range": [
          0,
          7
         ],
         "title": {
          "text": "SEQ"
         }
        }
       }
      }
     },
     "metadata": {},
     "output_type": "display_data"
    }
   ],
   "source": [
    "stats_table = go.Table(columnwidth=[5,4,4,4,4])\n",
    "stats_table.header = dict(\n",
    "    values=summary_header, \n",
    "    align = ['right', 'center'],)\n",
    "stats_table.cells = dict(\n",
    "        values=summary_values,\n",
    "        align = ['right', 'center'],\n",
    "        format=[\"\", \".3f\"],\n",
    "        )\n",
    "\n",
    "results_table = go.Table(columnwidth=[5,4,4])\n",
    "results_table.header = dict(\n",
    "    values= results_header, \n",
    "    align = ['right', 'center'],)\n",
    "results_table.cells = dict(\n",
    "        values=results_values,\n",
    "        align = ['right', 'center'],\n",
    "        format=[\"\", \".2f\", \".5f\"],\n",
    "        fill_color=fill_color,\n",
    "        prefix=results_prefix,\n",
    "        )\n",
    "\n",
    "seq_fig = make_subplots(\n",
    "    rows=2, cols=2,\n",
    "    shared_xaxes=False,\n",
    "    specs=[\n",
    "        [{\"type\": \"table\"}, {\"type\": \"box\", \"rowspan\": 2}],\n",
    "        [{\"type\": \"table\"}, None]\n",
    "    ])\n",
    "\n",
    "seq_fig.add_trace(stats_table, row=2, col=1)\n",
    "seq_fig.add_trace(go.Box(y=seq_4dof, name=\"4-DoF\", notched=True, notchwidth=0.15), row=1, col=2)\n",
    "seq_fig.add_trace(go.Box(y=seq_6dof, name=\"6-DoF\", notched=True, notchwidth=0.15), row=1, col=2)\n",
    "seq_fig.add_trace(results_table, row=1, col=1)\n",
    "\n",
    "seq_fig.update_layout(\n",
    "    title_text=\"SEQ by Navigation Method\",\n",
    "    width=1200,\n",
    "    xaxis_title='Method',\n",
    "    yaxis_title='SEQ',\n",
    ")\n",
    "\n",
    "seq_fig.update_yaxes(range=[0,7])\n",
    "seq_fig.show()\n"
   ]
  },
  {
   "cell_type": "code",
   "execution_count": 295,
   "metadata": {},
   "outputs": [
    {
     "name": "stderr",
     "output_type": "stream",
     "text": [
      "c:\\Users\\court\\anaconda3\\envs\\path_data\\Lib\\site-packages\\scipy\\stats\\_axis_nan_policy.py:531: UserWarning:\n",
      "\n",
      "Exact p-value calculation does not work if there are zeros. Switching to normal approximation.\n",
      "\n"
     ]
    }
   ],
   "source": [
    "seq_crt = user_data_crt.loc[(slice(None), slice(None), slice(None)), 'seq']\n",
    "seq_crt = seq_crt.unstack(level=(3))\n",
    "\n",
    "seq_uni = seq_crt['unimanual'].groupby(level=0).mean()\n",
    "seq_bi = seq_crt['bimanual'].groupby(level=0).mean()\n",
    "\n",
    "n_stat, n_p = stats.shapiro(seq_crt.stack())\n",
    "w_stat, w_p = stats.wilcoxon(seq_uni, seq_bi, nan_policy='omit', zero_method='wilcox')\n",
    "t_stat, t_p = stats.ttest_rel(seq_uni, seq_bi, nan_policy='omit')\n",
    "\n",
    "results_colors = get_results_colors(n_p, w_p, t_p)\n",
    "results_header = ['<b>Test</b>', '<b>Result</b>', '<b>p-value</b>']\n",
    "results_values=[['Shapiro-Wilk', 'Wilcoxon', 'T-test'], [n_stat, w_stat, t_stat], [n_p, w_p, t_p]]\n",
    "results_prefix = ['','', 'p = ',]\n",
    "fill_color = results_colors\n",
    "\n",
    "if n_p < 0.05:\n",
    "    iqr_uni, q1_uni, q3_uni = iqr_stats(seq_uni)\n",
    "    iqr_bi, q1_bi, q3_bi = iqr_stats(seq_bi)\n",
    "    summary_header = ['', '<b>Median</b>', '<b>IQR</b>', '<b>Min</b>', '<b>Max</b>', '<b>Skewness</b>']\n",
    "    summary_values = [['<b>Unimanual</b>', '<b>Bimanual</b>'], [seq_uni.median(), seq_bi.median()], [iqr_uni, iqr_bi], [seq_uni.min(), seq_bi.min()], [seq_uni.max(), seq_bi.max()], [seq_uni.skew(), seq_bi.skew()]]\n",
    "\n",
    "else:\n",
    "    summary_header = ['', '<b>Mean</b>', '<b>STD</b>', '<b>Min</b>', '<b>Max</b>', '<b>Skewness</b>']\n",
    "    summary_values = [['<b>Unimanual</b>', '<b>Bimanual</b>'], [seq_uni.mean(), seq_bi.mean()], [seq_uni.std(), seq_bi.std()], [seq_uni.min(), seq_bi.min()], [seq_uni.max(), seq_bi.max()], [seq_uni.skew(), seq_bi.skew()]]\n",
    "    \n"
   ]
  },
  {
   "cell_type": "code",
   "execution_count": 296,
   "metadata": {},
   "outputs": [
    {
     "data": {
      "application/vnd.plotly.v1+json": {
       "config": {
        "plotlyServerURL": "https://plot.ly"
       },
       "data": [
        {
         "cells": {
          "align": [
           "right",
           "center"
          ],
          "format": [
           "",
           ".3f"
          ],
          "values": [
           [
            "<b>Unimanual</b>",
            "<b>Bimanual</b>"
           ],
           [
            0.5,
            0.75
           ],
           [
            1.0625,
            1.125
           ],
           [
            0,
            0
           ],
           [
            2,
            3.75
           ],
           [
            0.7108186714947549,
            1.1583543107883318
           ]
          ]
         },
         "columnwidth": [
          5,
          4,
          4,
          4,
          4
         ],
         "domain": {
          "x": [
           0,
           0.45
          ],
          "y": [
           0,
           0.425
          ]
         },
         "header": {
          "align": [
           "right",
           "center"
          ],
          "values": [
           "",
           "<b>Median</b>",
           "<b>IQR</b>",
           "<b>Min</b>",
           "<b>Max</b>",
           "<b>Skewness</b>"
          ]
         },
         "type": "table"
        },
        {
         "name": "Bimanual",
         "notched": true,
         "notchwidth": 0.15,
         "type": "box",
         "xaxis": "x",
         "y": [
          1.25,
          0.25,
          0.25,
          0,
          3.75,
          0,
          0,
          0.75,
          0.25,
          1,
          2,
          0,
          2.75,
          1.75,
          0,
          1,
          2,
          0.75,
          0,
          1.25,
          1.75,
          1,
          0.25,
          2.25,
          3,
          0,
          1,
          0.25,
          1.5,
          0.5,
          0.75,
          0.75,
          0,
          1.25,
          0,
          0.5
         ],
         "yaxis": "y"
        },
        {
         "name": "Unimanual",
         "notched": true,
         "notchwidth": 0.15,
         "type": "box",
         "xaxis": "x",
         "y": [
          1.75,
          0.25,
          0,
          0,
          1.75,
          0,
          0,
          0.75,
          0,
          0,
          0,
          0,
          1.25,
          1,
          1,
          1,
          2,
          0.75,
          0,
          2,
          1.25,
          1.75,
          0.5,
          1.25,
          0.5,
          0,
          0,
          0,
          1.25,
          1,
          0.5,
          0.5,
          0,
          0,
          0,
          0.25
         ],
         "yaxis": "y"
        },
        {
         "cells": {
          "align": [
           "right",
           "center"
          ],
          "fill": {
           "color": [
            [
             "white",
             "white",
             "white"
            ],
            [
             "white",
             "rgb(179,226,205)",
             "white"
            ],
            [
             "rgb(244,202,228)",
             "rgb(179,226,205)",
             "white"
            ]
           ]
          },
          "format": [
           "",
           ".2f",
           ".5f"
          ],
          "prefix": [
           "",
           "",
           "p = "
          ],
          "values": [
           [
            "Shapiro-Wilk",
            "Wilcoxon",
            "T-test"
           ],
           [
            0.7684776161554787,
            67,
            -2.4553982951889766
           ],
           [
            7.262554964197694e-20,
            0.02982267233858849,
            0.019183249929974243
           ]
          ]
         },
         "columnwidth": [
          5,
          4,
          4
         ],
         "domain": {
          "x": [
           0,
           0.45
          ],
          "y": [
           0.575,
           1
          ]
         },
         "header": {
          "align": [
           "right",
           "center"
          ],
          "values": [
           "<b>Test</b>",
           "<b>Result</b>",
           "<b>p-value</b>"
          ]
         },
         "type": "table"
        }
       ],
       "layout": {
        "template": {
         "data": {
          "bar": [
           {
            "error_x": {
             "color": "#2a3f5f"
            },
            "error_y": {
             "color": "#2a3f5f"
            },
            "marker": {
             "line": {
              "color": "#E5ECF6",
              "width": 0.5
             },
             "pattern": {
              "fillmode": "overlay",
              "size": 10,
              "solidity": 0.2
             }
            },
            "type": "bar"
           }
          ],
          "barpolar": [
           {
            "marker": {
             "line": {
              "color": "#E5ECF6",
              "width": 0.5
             },
             "pattern": {
              "fillmode": "overlay",
              "size": 10,
              "solidity": 0.2
             }
            },
            "type": "barpolar"
           }
          ],
          "carpet": [
           {
            "aaxis": {
             "endlinecolor": "#2a3f5f",
             "gridcolor": "white",
             "linecolor": "white",
             "minorgridcolor": "white",
             "startlinecolor": "#2a3f5f"
            },
            "baxis": {
             "endlinecolor": "#2a3f5f",
             "gridcolor": "white",
             "linecolor": "white",
             "minorgridcolor": "white",
             "startlinecolor": "#2a3f5f"
            },
            "type": "carpet"
           }
          ],
          "choropleth": [
           {
            "colorbar": {
             "outlinewidth": 0,
             "ticks": ""
            },
            "type": "choropleth"
           }
          ],
          "contour": [
           {
            "colorbar": {
             "outlinewidth": 0,
             "ticks": ""
            },
            "colorscale": [
             [
              0,
              "#0d0887"
             ],
             [
              0.1111111111111111,
              "#46039f"
             ],
             [
              0.2222222222222222,
              "#7201a8"
             ],
             [
              0.3333333333333333,
              "#9c179e"
             ],
             [
              0.4444444444444444,
              "#bd3786"
             ],
             [
              0.5555555555555556,
              "#d8576b"
             ],
             [
              0.6666666666666666,
              "#ed7953"
             ],
             [
              0.7777777777777778,
              "#fb9f3a"
             ],
             [
              0.8888888888888888,
              "#fdca26"
             ],
             [
              1,
              "#f0f921"
             ]
            ],
            "type": "contour"
           }
          ],
          "contourcarpet": [
           {
            "colorbar": {
             "outlinewidth": 0,
             "ticks": ""
            },
            "type": "contourcarpet"
           }
          ],
          "heatmap": [
           {
            "colorbar": {
             "outlinewidth": 0,
             "ticks": ""
            },
            "colorscale": [
             [
              0,
              "#0d0887"
             ],
             [
              0.1111111111111111,
              "#46039f"
             ],
             [
              0.2222222222222222,
              "#7201a8"
             ],
             [
              0.3333333333333333,
              "#9c179e"
             ],
             [
              0.4444444444444444,
              "#bd3786"
             ],
             [
              0.5555555555555556,
              "#d8576b"
             ],
             [
              0.6666666666666666,
              "#ed7953"
             ],
             [
              0.7777777777777778,
              "#fb9f3a"
             ],
             [
              0.8888888888888888,
              "#fdca26"
             ],
             [
              1,
              "#f0f921"
             ]
            ],
            "type": "heatmap"
           }
          ],
          "heatmapgl": [
           {
            "colorbar": {
             "outlinewidth": 0,
             "ticks": ""
            },
            "colorscale": [
             [
              0,
              "#0d0887"
             ],
             [
              0.1111111111111111,
              "#46039f"
             ],
             [
              0.2222222222222222,
              "#7201a8"
             ],
             [
              0.3333333333333333,
              "#9c179e"
             ],
             [
              0.4444444444444444,
              "#bd3786"
             ],
             [
              0.5555555555555556,
              "#d8576b"
             ],
             [
              0.6666666666666666,
              "#ed7953"
             ],
             [
              0.7777777777777778,
              "#fb9f3a"
             ],
             [
              0.8888888888888888,
              "#fdca26"
             ],
             [
              1,
              "#f0f921"
             ]
            ],
            "type": "heatmapgl"
           }
          ],
          "histogram": [
           {
            "marker": {
             "pattern": {
              "fillmode": "overlay",
              "size": 10,
              "solidity": 0.2
             }
            },
            "type": "histogram"
           }
          ],
          "histogram2d": [
           {
            "colorbar": {
             "outlinewidth": 0,
             "ticks": ""
            },
            "colorscale": [
             [
              0,
              "#0d0887"
             ],
             [
              0.1111111111111111,
              "#46039f"
             ],
             [
              0.2222222222222222,
              "#7201a8"
             ],
             [
              0.3333333333333333,
              "#9c179e"
             ],
             [
              0.4444444444444444,
              "#bd3786"
             ],
             [
              0.5555555555555556,
              "#d8576b"
             ],
             [
              0.6666666666666666,
              "#ed7953"
             ],
             [
              0.7777777777777778,
              "#fb9f3a"
             ],
             [
              0.8888888888888888,
              "#fdca26"
             ],
             [
              1,
              "#f0f921"
             ]
            ],
            "type": "histogram2d"
           }
          ],
          "histogram2dcontour": [
           {
            "colorbar": {
             "outlinewidth": 0,
             "ticks": ""
            },
            "colorscale": [
             [
              0,
              "#0d0887"
             ],
             [
              0.1111111111111111,
              "#46039f"
             ],
             [
              0.2222222222222222,
              "#7201a8"
             ],
             [
              0.3333333333333333,
              "#9c179e"
             ],
             [
              0.4444444444444444,
              "#bd3786"
             ],
             [
              0.5555555555555556,
              "#d8576b"
             ],
             [
              0.6666666666666666,
              "#ed7953"
             ],
             [
              0.7777777777777778,
              "#fb9f3a"
             ],
             [
              0.8888888888888888,
              "#fdca26"
             ],
             [
              1,
              "#f0f921"
             ]
            ],
            "type": "histogram2dcontour"
           }
          ],
          "mesh3d": [
           {
            "colorbar": {
             "outlinewidth": 0,
             "ticks": ""
            },
            "type": "mesh3d"
           }
          ],
          "parcoords": [
           {
            "line": {
             "colorbar": {
              "outlinewidth": 0,
              "ticks": ""
             }
            },
            "type": "parcoords"
           }
          ],
          "pie": [
           {
            "automargin": true,
            "type": "pie"
           }
          ],
          "scatter": [
           {
            "fillpattern": {
             "fillmode": "overlay",
             "size": 10,
             "solidity": 0.2
            },
            "type": "scatter"
           }
          ],
          "scatter3d": [
           {
            "line": {
             "colorbar": {
              "outlinewidth": 0,
              "ticks": ""
             }
            },
            "marker": {
             "colorbar": {
              "outlinewidth": 0,
              "ticks": ""
             }
            },
            "type": "scatter3d"
           }
          ],
          "scattercarpet": [
           {
            "marker": {
             "colorbar": {
              "outlinewidth": 0,
              "ticks": ""
             }
            },
            "type": "scattercarpet"
           }
          ],
          "scattergeo": [
           {
            "marker": {
             "colorbar": {
              "outlinewidth": 0,
              "ticks": ""
             }
            },
            "type": "scattergeo"
           }
          ],
          "scattergl": [
           {
            "marker": {
             "colorbar": {
              "outlinewidth": 0,
              "ticks": ""
             }
            },
            "type": "scattergl"
           }
          ],
          "scattermapbox": [
           {
            "marker": {
             "colorbar": {
              "outlinewidth": 0,
              "ticks": ""
             }
            },
            "type": "scattermapbox"
           }
          ],
          "scatterpolar": [
           {
            "marker": {
             "colorbar": {
              "outlinewidth": 0,
              "ticks": ""
             }
            },
            "type": "scatterpolar"
           }
          ],
          "scatterpolargl": [
           {
            "marker": {
             "colorbar": {
              "outlinewidth": 0,
              "ticks": ""
             }
            },
            "type": "scatterpolargl"
           }
          ],
          "scatterternary": [
           {
            "marker": {
             "colorbar": {
              "outlinewidth": 0,
              "ticks": ""
             }
            },
            "type": "scatterternary"
           }
          ],
          "surface": [
           {
            "colorbar": {
             "outlinewidth": 0,
             "ticks": ""
            },
            "colorscale": [
             [
              0,
              "#0d0887"
             ],
             [
              0.1111111111111111,
              "#46039f"
             ],
             [
              0.2222222222222222,
              "#7201a8"
             ],
             [
              0.3333333333333333,
              "#9c179e"
             ],
             [
              0.4444444444444444,
              "#bd3786"
             ],
             [
              0.5555555555555556,
              "#d8576b"
             ],
             [
              0.6666666666666666,
              "#ed7953"
             ],
             [
              0.7777777777777778,
              "#fb9f3a"
             ],
             [
              0.8888888888888888,
              "#fdca26"
             ],
             [
              1,
              "#f0f921"
             ]
            ],
            "type": "surface"
           }
          ],
          "table": [
           {
            "cells": {
             "fill": {
              "color": "#EBF0F8"
             },
             "line": {
              "color": "white"
             }
            },
            "header": {
             "fill": {
              "color": "#C8D4E3"
             },
             "line": {
              "color": "white"
             }
            },
            "type": "table"
           }
          ]
         },
         "layout": {
          "annotationdefaults": {
           "arrowcolor": "#2a3f5f",
           "arrowhead": 0,
           "arrowwidth": 1
          },
          "autotypenumbers": "strict",
          "coloraxis": {
           "colorbar": {
            "outlinewidth": 0,
            "ticks": ""
           }
          },
          "colorscale": {
           "diverging": [
            [
             0,
             "#8e0152"
            ],
            [
             0.1,
             "#c51b7d"
            ],
            [
             0.2,
             "#de77ae"
            ],
            [
             0.3,
             "#f1b6da"
            ],
            [
             0.4,
             "#fde0ef"
            ],
            [
             0.5,
             "#f7f7f7"
            ],
            [
             0.6,
             "#e6f5d0"
            ],
            [
             0.7,
             "#b8e186"
            ],
            [
             0.8,
             "#7fbc41"
            ],
            [
             0.9,
             "#4d9221"
            ],
            [
             1,
             "#276419"
            ]
           ],
           "sequential": [
            [
             0,
             "#0d0887"
            ],
            [
             0.1111111111111111,
             "#46039f"
            ],
            [
             0.2222222222222222,
             "#7201a8"
            ],
            [
             0.3333333333333333,
             "#9c179e"
            ],
            [
             0.4444444444444444,
             "#bd3786"
            ],
            [
             0.5555555555555556,
             "#d8576b"
            ],
            [
             0.6666666666666666,
             "#ed7953"
            ],
            [
             0.7777777777777778,
             "#fb9f3a"
            ],
            [
             0.8888888888888888,
             "#fdca26"
            ],
            [
             1,
             "#f0f921"
            ]
           ],
           "sequentialminus": [
            [
             0,
             "#0d0887"
            ],
            [
             0.1111111111111111,
             "#46039f"
            ],
            [
             0.2222222222222222,
             "#7201a8"
            ],
            [
             0.3333333333333333,
             "#9c179e"
            ],
            [
             0.4444444444444444,
             "#bd3786"
            ],
            [
             0.5555555555555556,
             "#d8576b"
            ],
            [
             0.6666666666666666,
             "#ed7953"
            ],
            [
             0.7777777777777778,
             "#fb9f3a"
            ],
            [
             0.8888888888888888,
             "#fdca26"
            ],
            [
             1,
             "#f0f921"
            ]
           ]
          },
          "colorway": [
           "#636efa",
           "#EF553B",
           "#00cc96",
           "#ab63fa",
           "#FFA15A",
           "#19d3f3",
           "#FF6692",
           "#B6E880",
           "#FF97FF",
           "#FECB52"
          ],
          "font": {
           "color": "#2a3f5f"
          },
          "geo": {
           "bgcolor": "white",
           "lakecolor": "white",
           "landcolor": "#E5ECF6",
           "showlakes": true,
           "showland": true,
           "subunitcolor": "white"
          },
          "hoverlabel": {
           "align": "left"
          },
          "hovermode": "closest",
          "mapbox": {
           "style": "light"
          },
          "paper_bgcolor": "white",
          "plot_bgcolor": "#E5ECF6",
          "polar": {
           "angularaxis": {
            "gridcolor": "white",
            "linecolor": "white",
            "ticks": ""
           },
           "bgcolor": "#E5ECF6",
           "radialaxis": {
            "gridcolor": "white",
            "linecolor": "white",
            "ticks": ""
           }
          },
          "scene": {
           "xaxis": {
            "backgroundcolor": "#E5ECF6",
            "gridcolor": "white",
            "gridwidth": 2,
            "linecolor": "white",
            "showbackground": true,
            "ticks": "",
            "zerolinecolor": "white"
           },
           "yaxis": {
            "backgroundcolor": "#E5ECF6",
            "gridcolor": "white",
            "gridwidth": 2,
            "linecolor": "white",
            "showbackground": true,
            "ticks": "",
            "zerolinecolor": "white"
           },
           "zaxis": {
            "backgroundcolor": "#E5ECF6",
            "gridcolor": "white",
            "gridwidth": 2,
            "linecolor": "white",
            "showbackground": true,
            "ticks": "",
            "zerolinecolor": "white"
           }
          },
          "shapedefaults": {
           "line": {
            "color": "#2a3f5f"
           }
          },
          "ternary": {
           "aaxis": {
            "gridcolor": "white",
            "linecolor": "white",
            "ticks": ""
           },
           "baxis": {
            "gridcolor": "white",
            "linecolor": "white",
            "ticks": ""
           },
           "bgcolor": "#E5ECF6",
           "caxis": {
            "gridcolor": "white",
            "linecolor": "white",
            "ticks": ""
           }
          },
          "title": {
           "x": 0.05
          },
          "xaxis": {
           "automargin": true,
           "gridcolor": "white",
           "linecolor": "white",
           "ticks": "",
           "title": {
            "standoff": 15
           },
           "zerolinecolor": "white",
           "zerolinewidth": 2
          },
          "yaxis": {
           "automargin": true,
           "gridcolor": "white",
           "linecolor": "white",
           "ticks": "",
           "title": {
            "standoff": 15
           },
           "zerolinecolor": "white",
           "zerolinewidth": 2
          }
         }
        },
        "title": {
         "text": "SEQ by Creation Method"
        },
        "width": 1200,
        "xaxis": {
         "anchor": "y",
         "domain": [
          0.55,
          1
         ],
         "title": {
          "text": "Method"
         }
        },
        "yaxis": {
         "anchor": "x",
         "domain": [
          0,
          1
         ],
         "range": [
          0,
          7
         ],
         "title": {
          "text": "SEQ"
         }
        }
       }
      }
     },
     "metadata": {},
     "output_type": "display_data"
    }
   ],
   "source": [
    "stats_table = go.Table(columnwidth=[5,4,4,4,4])\n",
    "stats_table.header = dict(\n",
    "    values=summary_header, \n",
    "    align = ['right', 'center'],)\n",
    "stats_table.cells = dict(\n",
    "        values=summary_values,\n",
    "        align = ['right', 'center'],\n",
    "        format=[\"\", \".3f\"],\n",
    "        )\n",
    "\n",
    "results_table = go.Table(columnwidth=[5,4,4])\n",
    "results_table.header = dict(\n",
    "    values= results_header, \n",
    "    align = ['right', 'center'],)\n",
    "results_table.cells = dict(\n",
    "        values=results_values,\n",
    "        align = ['right', 'center'],\n",
    "        format=[\"\", \".2f\", \".5f\"],\n",
    "        fill_color=fill_color,\n",
    "        prefix=results_prefix,\n",
    "        )\n",
    "\n",
    "seq_fig = make_subplots(\n",
    "    rows=2, cols=2,\n",
    "    shared_xaxes=False,\n",
    "    specs=[\n",
    "        [{\"type\": \"table\"}, {\"type\": \"box\", \"rowspan\": 2}],\n",
    "        [{\"type\": \"table\"}, None]\n",
    "    ])\n",
    "\n",
    "seq_fig.add_trace(stats_table, row=2, col=1)\n",
    "seq_fig.add_trace(go.Box(y=seq_bi, name=\"Bimanual\", notched=True, notchwidth=0.15), row=1, col=2)\n",
    "seq_fig.add_trace(go.Box(y=seq_uni, name=\"Unimanual\", notched=True, notchwidth=0.15), row=1, col=2)\n",
    "seq_fig.add_trace(results_table, row=1, col=1)\n",
    "\n",
    "seq_fig.update_layout(\n",
    "    title_text=\"SEQ by Creation Method\",\n",
    "    width=1200,\n",
    "    xaxis_title='Method',\n",
    "    yaxis_title='SEQ',\n",
    ")\n",
    "\n",
    "seq_fig.update_yaxes(range=[0,7])\n",
    "seq_fig.show()\n",
    "\n"
   ]
  },
  {
   "cell_type": "markdown",
   "metadata": {},
   "source": [
    "### SSQ Analysis"
   ]
  },
  {
   "cell_type": "code",
   "execution_count": 297,
   "metadata": {},
   "outputs": [],
   "source": [
    "ssq_pre = participant_data['pre_ssq']\n",
    "ssq_post = participant_data['post_ssq']\n",
    "ssq_delta = participant_data['delta_ssq']\n",
    "\n",
    "n_stat, n_p = stats.shapiro(ssq_delta)\n",
    "w_stat, w_p = stats.wilcoxon(ssq_delta, nan_policy='omit', zero_method='wilcox')\n",
    "t_stat, t_p = stats.ttest_rel(seq_uni, seq_bi, nan_policy='omit')\n",
    "\n",
    "results_colors = get_results_colors(n_p, w_p, t_p)\n",
    "results_header = ['<b>Test</b>', '<b>Result</b>', '<b>p-value</b>']\n",
    "results_values=[['Shapiro-Wilk', 'Wilcoxon', 'T-test'], [n_stat, w_stat, t_stat], [n_p, w_p, t_p]]\n",
    "results_prefix = ['','', 'p = ',]\n",
    "fill_color = results_colors\n",
    "\n",
    "if n_p < 0.05:\n",
    "    iqr_pre, q1_pre, q3_pre = iqr_stats(ssq_pre)\n",
    "    iqr_post, q1_post, q3_post = iqr_stats(ssq_post)\n",
    "    summary_header = ['', '<b>Median</b>', '<b>IQR</b>', '<b>Min</b>', '<b>Max</b>', '<b>Skewness</b>']\n",
    "    summary_values = [['<b>Pre-SSQ</b>', '<b>Post-SSQ</b>'], [ssq_pre.median(), ssq_post.median()], [iqr_pre, iqr_post], [ssq_pre.min(), ssq_post.min()], [ssq_pre.max(), ssq_post.max()], [ssq_pre.skew(), ssq_post.skew()]]\n",
    "\n",
    "else:\n",
    "    summary_header = ['', '<b>Mean</b>', '<b>STD</b>', '<b>Min</b>', '<b>Max</b>', '<b>Skewness</b>']\n",
    "    summary_values = [['<b>Pre-SSQ</b>', '<b>Post-SSQ</b>'], [ssq_pre.mean(), ssq_post.mean()], [ssq_pre.std(), ssq_post.std()], [ssq_pre.min(), ssq_post.min()], [ssq_pre.max(), ssq_post.max()], [ssq_pre.skew(), ssq_post.skew()]]\n"
   ]
  },
  {
   "cell_type": "code",
   "execution_count": 298,
   "metadata": {},
   "outputs": [
    {
     "data": {
      "application/vnd.plotly.v1+json": {
       "config": {
        "plotlyServerURL": "https://plot.ly"
       },
       "data": [
        {
         "cells": {
          "align": [
           "right",
           "center"
          ],
          "format": [
           "",
           ".3f"
          ],
          "values": [
           [
            "<b>Pre-SSQ</b>",
            "<b>Post-SSQ</b>"
           ],
           [
            3.74,
            14.96
           ],
           [
            11.22,
            26.180000000000003
           ],
           [
            0,
            0
           ],
           [
            48.620000000000005,
            97.24000000000001
           ],
           [
            2.1685400072947965,
            1.2467480165111708
           ]
          ]
         },
         "columnwidth": [
          5,
          4,
          4,
          4,
          4
         ],
         "domain": {
          "x": [
           0,
           0.45
          ],
          "y": [
           0,
           0.425
          ]
         },
         "header": {
          "align": [
           "right",
           "center"
          ],
          "values": [
           "",
           "<b>Median</b>",
           "<b>IQR</b>",
           "<b>Min</b>",
           "<b>Max</b>",
           "<b>Skewness</b>"
          ]
         },
         "type": "table"
        },
        {
         "name": "Pre-SSQ",
         "notched": true,
         "notchwidth": 0.15,
         "type": "box",
         "xaxis": "x",
         "y": [
          33.660000000000004,
          0,
          0,
          3.74,
          3.74,
          0,
          0,
          0,
          7.48,
          18.700000000000003,
          11.22,
          11.22,
          18.700000000000003,
          7.48,
          48.620000000000005,
          0,
          7.48,
          7.48,
          3.74,
          3.74,
          3.74,
          0,
          3.74,
          11.22,
          14.96,
          7.48,
          0,
          0,
          0,
          0,
          11.22,
          37.400000000000006,
          0,
          0,
          7.48
         ],
         "yaxis": "y"
        },
        {
         "name": "Post-SSQ",
         "notched": true,
         "notchwidth": 0.15,
         "type": "box",
         "xaxis": "x",
         "y": [
          26.18,
          0,
          52.36,
          14.96,
          29.92,
          0,
          14.96,
          33.660000000000004,
          11.22,
          26.18,
          33.660000000000004,
          11.22,
          89.76,
          7.48,
          74.80000000000001,
          7.48,
          29.92,
          14.96,
          18.700000000000003,
          3.74,
          14.96,
          52.36,
          14.96,
          3.74,
          63.580000000000005,
          97.24000000000001,
          0,
          0,
          3.74,
          67.32000000000001,
          18.700000000000003,
          7.48,
          44.88,
          0,
          29.92
         ],
         "yaxis": "y"
        },
        {
         "cells": {
          "align": [
           "right",
           "center"
          ],
          "fill": {
           "color": [
            [
             "white",
             "white",
             "white"
            ],
            [
             "white",
             "rgb(179,226,205)",
             "white"
            ],
            [
             "rgb(244,202,228)",
             "rgb(179,226,205)",
             "white"
            ]
           ]
          },
          "format": [
           "",
           ".2f",
           ".5f"
          ],
          "prefix": [
           "",
           "",
           "p = "
          ],
          "values": [
           [
            "Shapiro-Wilk",
            "Wilcoxon",
            "T-test"
           ],
           [
            0.8949633312158983,
            32,
            -2.4553982951889766
           ],
           [
            0.0029030330509627637,
            0.00016102323516550536,
            0.019183249929974243
           ]
          ]
         },
         "columnwidth": [
          5,
          4,
          4
         ],
         "domain": {
          "x": [
           0,
           0.45
          ],
          "y": [
           0.575,
           1
          ]
         },
         "header": {
          "align": [
           "right",
           "center"
          ],
          "values": [
           "<b>Test</b>",
           "<b>Result</b>",
           "<b>p-value</b>"
          ]
         },
         "type": "table"
        }
       ],
       "layout": {
        "template": {
         "data": {
          "bar": [
           {
            "error_x": {
             "color": "#2a3f5f"
            },
            "error_y": {
             "color": "#2a3f5f"
            },
            "marker": {
             "line": {
              "color": "#E5ECF6",
              "width": 0.5
             },
             "pattern": {
              "fillmode": "overlay",
              "size": 10,
              "solidity": 0.2
             }
            },
            "type": "bar"
           }
          ],
          "barpolar": [
           {
            "marker": {
             "line": {
              "color": "#E5ECF6",
              "width": 0.5
             },
             "pattern": {
              "fillmode": "overlay",
              "size": 10,
              "solidity": 0.2
             }
            },
            "type": "barpolar"
           }
          ],
          "carpet": [
           {
            "aaxis": {
             "endlinecolor": "#2a3f5f",
             "gridcolor": "white",
             "linecolor": "white",
             "minorgridcolor": "white",
             "startlinecolor": "#2a3f5f"
            },
            "baxis": {
             "endlinecolor": "#2a3f5f",
             "gridcolor": "white",
             "linecolor": "white",
             "minorgridcolor": "white",
             "startlinecolor": "#2a3f5f"
            },
            "type": "carpet"
           }
          ],
          "choropleth": [
           {
            "colorbar": {
             "outlinewidth": 0,
             "ticks": ""
            },
            "type": "choropleth"
           }
          ],
          "contour": [
           {
            "colorbar": {
             "outlinewidth": 0,
             "ticks": ""
            },
            "colorscale": [
             [
              0,
              "#0d0887"
             ],
             [
              0.1111111111111111,
              "#46039f"
             ],
             [
              0.2222222222222222,
              "#7201a8"
             ],
             [
              0.3333333333333333,
              "#9c179e"
             ],
             [
              0.4444444444444444,
              "#bd3786"
             ],
             [
              0.5555555555555556,
              "#d8576b"
             ],
             [
              0.6666666666666666,
              "#ed7953"
             ],
             [
              0.7777777777777778,
              "#fb9f3a"
             ],
             [
              0.8888888888888888,
              "#fdca26"
             ],
             [
              1,
              "#f0f921"
             ]
            ],
            "type": "contour"
           }
          ],
          "contourcarpet": [
           {
            "colorbar": {
             "outlinewidth": 0,
             "ticks": ""
            },
            "type": "contourcarpet"
           }
          ],
          "heatmap": [
           {
            "colorbar": {
             "outlinewidth": 0,
             "ticks": ""
            },
            "colorscale": [
             [
              0,
              "#0d0887"
             ],
             [
              0.1111111111111111,
              "#46039f"
             ],
             [
              0.2222222222222222,
              "#7201a8"
             ],
             [
              0.3333333333333333,
              "#9c179e"
             ],
             [
              0.4444444444444444,
              "#bd3786"
             ],
             [
              0.5555555555555556,
              "#d8576b"
             ],
             [
              0.6666666666666666,
              "#ed7953"
             ],
             [
              0.7777777777777778,
              "#fb9f3a"
             ],
             [
              0.8888888888888888,
              "#fdca26"
             ],
             [
              1,
              "#f0f921"
             ]
            ],
            "type": "heatmap"
           }
          ],
          "heatmapgl": [
           {
            "colorbar": {
             "outlinewidth": 0,
             "ticks": ""
            },
            "colorscale": [
             [
              0,
              "#0d0887"
             ],
             [
              0.1111111111111111,
              "#46039f"
             ],
             [
              0.2222222222222222,
              "#7201a8"
             ],
             [
              0.3333333333333333,
              "#9c179e"
             ],
             [
              0.4444444444444444,
              "#bd3786"
             ],
             [
              0.5555555555555556,
              "#d8576b"
             ],
             [
              0.6666666666666666,
              "#ed7953"
             ],
             [
              0.7777777777777778,
              "#fb9f3a"
             ],
             [
              0.8888888888888888,
              "#fdca26"
             ],
             [
              1,
              "#f0f921"
             ]
            ],
            "type": "heatmapgl"
           }
          ],
          "histogram": [
           {
            "marker": {
             "pattern": {
              "fillmode": "overlay",
              "size": 10,
              "solidity": 0.2
             }
            },
            "type": "histogram"
           }
          ],
          "histogram2d": [
           {
            "colorbar": {
             "outlinewidth": 0,
             "ticks": ""
            },
            "colorscale": [
             [
              0,
              "#0d0887"
             ],
             [
              0.1111111111111111,
              "#46039f"
             ],
             [
              0.2222222222222222,
              "#7201a8"
             ],
             [
              0.3333333333333333,
              "#9c179e"
             ],
             [
              0.4444444444444444,
              "#bd3786"
             ],
             [
              0.5555555555555556,
              "#d8576b"
             ],
             [
              0.6666666666666666,
              "#ed7953"
             ],
             [
              0.7777777777777778,
              "#fb9f3a"
             ],
             [
              0.8888888888888888,
              "#fdca26"
             ],
             [
              1,
              "#f0f921"
             ]
            ],
            "type": "histogram2d"
           }
          ],
          "histogram2dcontour": [
           {
            "colorbar": {
             "outlinewidth": 0,
             "ticks": ""
            },
            "colorscale": [
             [
              0,
              "#0d0887"
             ],
             [
              0.1111111111111111,
              "#46039f"
             ],
             [
              0.2222222222222222,
              "#7201a8"
             ],
             [
              0.3333333333333333,
              "#9c179e"
             ],
             [
              0.4444444444444444,
              "#bd3786"
             ],
             [
              0.5555555555555556,
              "#d8576b"
             ],
             [
              0.6666666666666666,
              "#ed7953"
             ],
             [
              0.7777777777777778,
              "#fb9f3a"
             ],
             [
              0.8888888888888888,
              "#fdca26"
             ],
             [
              1,
              "#f0f921"
             ]
            ],
            "type": "histogram2dcontour"
           }
          ],
          "mesh3d": [
           {
            "colorbar": {
             "outlinewidth": 0,
             "ticks": ""
            },
            "type": "mesh3d"
           }
          ],
          "parcoords": [
           {
            "line": {
             "colorbar": {
              "outlinewidth": 0,
              "ticks": ""
             }
            },
            "type": "parcoords"
           }
          ],
          "pie": [
           {
            "automargin": true,
            "type": "pie"
           }
          ],
          "scatter": [
           {
            "fillpattern": {
             "fillmode": "overlay",
             "size": 10,
             "solidity": 0.2
            },
            "type": "scatter"
           }
          ],
          "scatter3d": [
           {
            "line": {
             "colorbar": {
              "outlinewidth": 0,
              "ticks": ""
             }
            },
            "marker": {
             "colorbar": {
              "outlinewidth": 0,
              "ticks": ""
             }
            },
            "type": "scatter3d"
           }
          ],
          "scattercarpet": [
           {
            "marker": {
             "colorbar": {
              "outlinewidth": 0,
              "ticks": ""
             }
            },
            "type": "scattercarpet"
           }
          ],
          "scattergeo": [
           {
            "marker": {
             "colorbar": {
              "outlinewidth": 0,
              "ticks": ""
             }
            },
            "type": "scattergeo"
           }
          ],
          "scattergl": [
           {
            "marker": {
             "colorbar": {
              "outlinewidth": 0,
              "ticks": ""
             }
            },
            "type": "scattergl"
           }
          ],
          "scattermapbox": [
           {
            "marker": {
             "colorbar": {
              "outlinewidth": 0,
              "ticks": ""
             }
            },
            "type": "scattermapbox"
           }
          ],
          "scatterpolar": [
           {
            "marker": {
             "colorbar": {
              "outlinewidth": 0,
              "ticks": ""
             }
            },
            "type": "scatterpolar"
           }
          ],
          "scatterpolargl": [
           {
            "marker": {
             "colorbar": {
              "outlinewidth": 0,
              "ticks": ""
             }
            },
            "type": "scatterpolargl"
           }
          ],
          "scatterternary": [
           {
            "marker": {
             "colorbar": {
              "outlinewidth": 0,
              "ticks": ""
             }
            },
            "type": "scatterternary"
           }
          ],
          "surface": [
           {
            "colorbar": {
             "outlinewidth": 0,
             "ticks": ""
            },
            "colorscale": [
             [
              0,
              "#0d0887"
             ],
             [
              0.1111111111111111,
              "#46039f"
             ],
             [
              0.2222222222222222,
              "#7201a8"
             ],
             [
              0.3333333333333333,
              "#9c179e"
             ],
             [
              0.4444444444444444,
              "#bd3786"
             ],
             [
              0.5555555555555556,
              "#d8576b"
             ],
             [
              0.6666666666666666,
              "#ed7953"
             ],
             [
              0.7777777777777778,
              "#fb9f3a"
             ],
             [
              0.8888888888888888,
              "#fdca26"
             ],
             [
              1,
              "#f0f921"
             ]
            ],
            "type": "surface"
           }
          ],
          "table": [
           {
            "cells": {
             "fill": {
              "color": "#EBF0F8"
             },
             "line": {
              "color": "white"
             }
            },
            "header": {
             "fill": {
              "color": "#C8D4E3"
             },
             "line": {
              "color": "white"
             }
            },
            "type": "table"
           }
          ]
         },
         "layout": {
          "annotationdefaults": {
           "arrowcolor": "#2a3f5f",
           "arrowhead": 0,
           "arrowwidth": 1
          },
          "autotypenumbers": "strict",
          "coloraxis": {
           "colorbar": {
            "outlinewidth": 0,
            "ticks": ""
           }
          },
          "colorscale": {
           "diverging": [
            [
             0,
             "#8e0152"
            ],
            [
             0.1,
             "#c51b7d"
            ],
            [
             0.2,
             "#de77ae"
            ],
            [
             0.3,
             "#f1b6da"
            ],
            [
             0.4,
             "#fde0ef"
            ],
            [
             0.5,
             "#f7f7f7"
            ],
            [
             0.6,
             "#e6f5d0"
            ],
            [
             0.7,
             "#b8e186"
            ],
            [
             0.8,
             "#7fbc41"
            ],
            [
             0.9,
             "#4d9221"
            ],
            [
             1,
             "#276419"
            ]
           ],
           "sequential": [
            [
             0,
             "#0d0887"
            ],
            [
             0.1111111111111111,
             "#46039f"
            ],
            [
             0.2222222222222222,
             "#7201a8"
            ],
            [
             0.3333333333333333,
             "#9c179e"
            ],
            [
             0.4444444444444444,
             "#bd3786"
            ],
            [
             0.5555555555555556,
             "#d8576b"
            ],
            [
             0.6666666666666666,
             "#ed7953"
            ],
            [
             0.7777777777777778,
             "#fb9f3a"
            ],
            [
             0.8888888888888888,
             "#fdca26"
            ],
            [
             1,
             "#f0f921"
            ]
           ],
           "sequentialminus": [
            [
             0,
             "#0d0887"
            ],
            [
             0.1111111111111111,
             "#46039f"
            ],
            [
             0.2222222222222222,
             "#7201a8"
            ],
            [
             0.3333333333333333,
             "#9c179e"
            ],
            [
             0.4444444444444444,
             "#bd3786"
            ],
            [
             0.5555555555555556,
             "#d8576b"
            ],
            [
             0.6666666666666666,
             "#ed7953"
            ],
            [
             0.7777777777777778,
             "#fb9f3a"
            ],
            [
             0.8888888888888888,
             "#fdca26"
            ],
            [
             1,
             "#f0f921"
            ]
           ]
          },
          "colorway": [
           "#636efa",
           "#EF553B",
           "#00cc96",
           "#ab63fa",
           "#FFA15A",
           "#19d3f3",
           "#FF6692",
           "#B6E880",
           "#FF97FF",
           "#FECB52"
          ],
          "font": {
           "color": "#2a3f5f"
          },
          "geo": {
           "bgcolor": "white",
           "lakecolor": "white",
           "landcolor": "#E5ECF6",
           "showlakes": true,
           "showland": true,
           "subunitcolor": "white"
          },
          "hoverlabel": {
           "align": "left"
          },
          "hovermode": "closest",
          "mapbox": {
           "style": "light"
          },
          "paper_bgcolor": "white",
          "plot_bgcolor": "#E5ECF6",
          "polar": {
           "angularaxis": {
            "gridcolor": "white",
            "linecolor": "white",
            "ticks": ""
           },
           "bgcolor": "#E5ECF6",
           "radialaxis": {
            "gridcolor": "white",
            "linecolor": "white",
            "ticks": ""
           }
          },
          "scene": {
           "xaxis": {
            "backgroundcolor": "#E5ECF6",
            "gridcolor": "white",
            "gridwidth": 2,
            "linecolor": "white",
            "showbackground": true,
            "ticks": "",
            "zerolinecolor": "white"
           },
           "yaxis": {
            "backgroundcolor": "#E5ECF6",
            "gridcolor": "white",
            "gridwidth": 2,
            "linecolor": "white",
            "showbackground": true,
            "ticks": "",
            "zerolinecolor": "white"
           },
           "zaxis": {
            "backgroundcolor": "#E5ECF6",
            "gridcolor": "white",
            "gridwidth": 2,
            "linecolor": "white",
            "showbackground": true,
            "ticks": "",
            "zerolinecolor": "white"
           }
          },
          "shapedefaults": {
           "line": {
            "color": "#2a3f5f"
           }
          },
          "ternary": {
           "aaxis": {
            "gridcolor": "white",
            "linecolor": "white",
            "ticks": ""
           },
           "baxis": {
            "gridcolor": "white",
            "linecolor": "white",
            "ticks": ""
           },
           "bgcolor": "#E5ECF6",
           "caxis": {
            "gridcolor": "white",
            "linecolor": "white",
            "ticks": ""
           }
          },
          "title": {
           "x": 0.05
          },
          "xaxis": {
           "automargin": true,
           "gridcolor": "white",
           "linecolor": "white",
           "ticks": "",
           "title": {
            "standoff": 15
           },
           "zerolinecolor": "white",
           "zerolinewidth": 2
          },
          "yaxis": {
           "automargin": true,
           "gridcolor": "white",
           "linecolor": "white",
           "ticks": "",
           "title": {
            "standoff": 15
           },
           "zerolinecolor": "white",
           "zerolinewidth": 2
          }
         }
        },
        "title": {
         "text": "SSQ Weighted Score"
        },
        "width": 1200,
        "xaxis": {
         "anchor": "y",
         "domain": [
          0.55,
          1
         ]
        },
        "yaxis": {
         "anchor": "x",
         "domain": [
          0,
          1
         ],
         "range": [
          0,
          106.96400000000001
         ],
         "title": {
          "text": "SSQ"
         }
        }
       }
      }
     },
     "metadata": {},
     "output_type": "display_data"
    }
   ],
   "source": [
    "stats_table = go.Table(columnwidth=[5,4,4,4,4])\n",
    "stats_table.header = dict(\n",
    "    values=summary_header, \n",
    "    align = ['right', 'center'],)\n",
    "stats_table.cells = dict(\n",
    "        values=summary_values,\n",
    "        align = ['right', 'center'],\n",
    "        format=[\"\", \".3f\"],\n",
    "        )\n",
    "\n",
    "results_table = go.Table(columnwidth=[5,4,4])\n",
    "results_table.header = dict(\n",
    "    values= results_header, \n",
    "    align = ['right', 'center'],)\n",
    "results_table.cells = dict(\n",
    "        values=results_values,\n",
    "        align = ['right', 'center'],\n",
    "        format=[\"\", \".2f\", \".5f\"],\n",
    "        fill_color=fill_color,\n",
    "        prefix=results_prefix,\n",
    "        )\n",
    "\n",
    "ssq_fig = make_subplots(\n",
    "    rows=2, cols=2,\n",
    "    shared_xaxes=False,\n",
    "    specs=[\n",
    "        [{\"type\": \"table\"}, {\"type\": \"box\", \"rowspan\": 2}],\n",
    "        [{\"type\": \"table\"}, None]\n",
    "    ])\n",
    "\n",
    "ssq_fig.add_trace(stats_table, row=2, col=1)\n",
    "ssq_fig.add_trace(go.Box(y=ssq_pre, name=\"Pre-SSQ\", notched=True, notchwidth=0.15), row=1, col=2)\n",
    "ssq_fig.add_trace(go.Box(y=ssq_post, name=\"Post-SSQ\", notched=True, notchwidth=0.15), row=1, col=2)\n",
    "ssq_fig.add_trace(results_table, row=1, col=1)\n",
    "\n",
    "ssq_fig.update_layout(\n",
    "    title_text=\"SSQ Weighted Score\",\n",
    "    width=1200,\n",
    "    yaxis_title='SSQ',\n",
    ")\n",
    "\n",
    "ssq_fig.update_yaxes(range=[0,max(1.1*ssq_pre.max(), 1.1*ssq_post.max())])\n",
    "ssq_fig.show()\n"
   ]
  }
 ],
 "metadata": {
  "kernelspec": {
   "display_name": ".venv",
   "language": "python",
   "name": "python3"
  },
  "language_info": {
   "codemirror_mode": {
    "name": "ipython",
    "version": 3
   },
   "file_extension": ".py",
   "mimetype": "text/x-python",
   "name": "python",
   "nbconvert_exporter": "python",
   "pygments_lexer": "ipython3",
   "version": "3.12.2"
  }
 },
 "nbformat": 4,
 "nbformat_minor": 2
}
