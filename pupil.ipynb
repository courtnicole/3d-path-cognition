{
 "cells": [
  {
   "cell_type": "markdown",
   "metadata": {},
   "source": [
    "## Imports"
   ]
  },
  {
   "cell_type": "code",
   "execution_count": 1,
   "metadata": {},
   "outputs": [],
   "source": [
    "import pyxdf \n",
    "import numpy as np\n",
    "import pandas as pd\n",
    "from lmfit.models import Model\n",
    "from os import listdir, getcwd\n",
    "from os.path import isfile, join\n",
    "from scipy import stats\n",
    "import plotly.express as px\n",
    "import plotly.graph_objects as go"
   ]
  },
  {
   "cell_type": "markdown",
   "metadata": {},
   "source": [
    "## Function Definitions\n"
   ]
  },
  {
   "cell_type": "markdown",
   "metadata": {},
   "source": [
    "Task evoked pupillary response is calculated after correcting for luminance-induced pupil dilation: $𝑇𝐸𝑃𝑅 = 𝑑_m − 𝑑(𝑌)$, where $d_m$ is the measured pupil dilation, and $d(Y)$ is the predicted pupil dilation for the given luminance level. \n",
    "\n",
    "Predicted pupil dilation is calculated from a calibration sequence that produces and individual mapping model for each participant. The calibration sequence consists of 8 solid gray colors with varying luminance levels displayed in a psuedo-random order for 6 seconds each. The luminance levels span the range from 0.0 to 0.78, and for each calibration level, the first 0.5s of data is discarded to account for the initial pupillary response to the change in luminance, which can take a maximum of 0.5s. . The individual mapping model is calculated using a non-linear least squares regression to fit the equation $𝑑(𝑌) = 𝑎 · 𝑒^{−𝑏·𝑌} + c$ to the measured pupil dilation data for each participant. \n",
    "\n",
    "Pupil dilation data and the average luminance data were collected at 90 Hz, the display rate of the HMD.\n",
    "\n",
    "See: Eckert, M., Robotham, T., Habets, E. A. P., and Rummukainen, O. S. (2022). Pupillary Light Reflex Correction for Robust Pupillometry in Virtual Reality. Proc. ACM Comput. Graph. Interact. Tech. 5, 1–16. doi: 10.1145/3530798"
   ]
  },
  {
   "cell_type": "code",
   "execution_count": 2,
   "metadata": {},
   "outputs": [],
   "source": [
    "def pupil_func(x, a, b, c):\n",
    "    return a * np.exp(-b * x) + c"
   ]
  },
  {
   "cell_type": "code",
   "execution_count": 3,
   "metadata": {},
   "outputs": [],
   "source": [
    "def import_data(file):\n",
    "    streams, header = pyxdf.load_xdf(file)\n",
    "    dfs = {}\n",
    "    for stream in streams:\n",
    "        stream_name = stream['info']['name'][0]\n",
    "        stream_channels = {channel['label'][0]: i for i, channel in enumerate(stream['info']['desc'][0]['channels'][0]['channel'])}\n",
    "        stream_data = stream['time_series']\n",
    "        data_dict = {key: np.array(stream_data)[:, index] for key, index in stream_channels.items()}\n",
    "        data_dict['time'] = np.round(np.array(stream['time_stamps']), decimals=4)\n",
    "        dfs[stream_name] = pd.DataFrame(data_dict).drop_duplicates(subset=['time']).reset_index(drop=True)\n",
    "    return dfs"
   ]
  },
  {
   "cell_type": "code",
   "execution_count": 4,
   "metadata": {},
   "outputs": [],
   "source": [
    "accom_time = pd.to_timedelta(0.5, unit='s')"
   ]
  },
  {
   "cell_type": "code",
   "execution_count": 5,
   "metadata": {},
   "outputs": [],
   "source": [
    "def process_gaze_luminance_data(stream_df):\n",
    "    pupil = stream_df['GazeStream'].loc[(stream_df['GazeStream']['LeftEyeIsBlinking'] == 0) \n",
    "                                        & (stream_df['GazeStream']['RightEyeIsBlinking'] == 0) \n",
    "                                        & (stream_df['GazeStream']['LeftPupilDiameter'] > 0) \n",
    "                                        & (stream_df['GazeStream']['RightPupilDiameter'] > 0), \n",
    "                                        ['time', 'MethodID', 'ModelID', 'LeftPupilDiameter', 'RightPupilDiameter']]\n",
    "    pupil['time'] = pd.to_timedelta(pupil['time'], unit='s')\n",
    "\n",
    "    lum = stream_df['LuminanceStream'].loc[:, ['time', 'MethodID', 'ModelID', 'Luminance']]\n",
    "    lum['time'] = pd.to_timedelta(lum['time'], unit='s')\n",
    "\n",
    "    # Intersection of time stamps\n",
    "    pupil_lum_time_intersection = np.intersect1d(pupil['time'], lum['time'])\n",
    "\n",
    "    # Filter pupil and luminance data by intersection\n",
    "    pupil = pupil[pupil['time'].isin(pupil_lum_time_intersection)].reset_index(drop=True)\n",
    "    lum = lum[lum['time'].isin(pupil_lum_time_intersection)].reset_index(drop=True)\n",
    "\n",
    "    # Combined DataFrame for pupil and luminance\n",
    "    pupil_lum = pd.DataFrame({\n",
    "        'time': pd.to_timedelta(pupil_lum_time_intersection, unit='s'),\n",
    "        'luminance': lum['Luminance'],\n",
    "        'pupilDiameter': 0.5 * (pupil['LeftPupilDiameter'] + pupil['RightPupilDiameter']),\n",
    "        'methodID': pupil['MethodID'],\n",
    "        'modelID': pupil['ModelID']\n",
    "    })\n",
    "\n",
    "    return pupil_lum"
   ]
  },
  {
   "cell_type": "code",
   "execution_count": 6,
   "metadata": {},
   "outputs": [],
   "source": [
    "def process_calibration_data(pupil_lum_df, stream_df):\n",
    "    calibration_events = stream_df['ExperimentStream'].loc[(stream_df['ExperimentStream']['EventType'] == 'CalibrationColorChange') | \n",
    "                                                           (stream_df['ExperimentStream']['SceneEvent'] == 'Calibration') | \n",
    "                                                           (stream_df['ExperimentStream']['SceneEvent'] == 'CalibrationComplete'), \n",
    "                                                           ['time','SceneEvent', 'EventType']]\n",
    "    calibration_events['time'] = pd.to_timedelta(calibration_events['time'], unit='s')\n",
    "    c_start_times = calibration_events[:8]['time']\n",
    "    c_end_times = calibration_events[1:]['time']\n",
    "    c_start_times.reset_index(drop=True, inplace=True)\n",
    "    c_end_times.reset_index(drop=True, inplace=True)\n",
    "\n",
    "    calib_data = {}\n",
    "    for i in range(8):\n",
    "        calib_data[i] = pupil_lum_df.loc[(pupil_lum_df['time'] >= c_start_times[i]) & (pupil_lum_df['time'] <= c_end_times[i]), ['time','luminance', 'pupilDiameter']]\n",
    "        calib_data[i]['time'] -= calib_data[i]['time'].iloc[0]\n",
    "        calib_data[i] = calib_data[i].loc[(calib_data[i]['time'] >= accom_time), ['luminance', 'pupilDiameter']]\n",
    "\n",
    "    calibration_data = pd.concat(calib_data).groupby(level=0).mean().sort_values(by=['luminance']).reset_index(drop=True)\n",
    "    return calibration_data"
   ]
  },
  {
   "cell_type": "code",
   "execution_count": 37,
   "metadata": {},
   "outputs": [],
   "source": [
    "def process_navigation_data(pupil_lum_df, stream_df, a, b, c):\n",
    "    nav_start_times = pd.to_timedelta(stream_df['NavigationStream'].groupby(['ModelID', 'MethodID']).first()['time'], unit='s')\n",
    "    nav_end_times = pd.to_timedelta(stream_df['NavigationStream'].groupby(['ModelID', 'MethodID']).last()['time'], unit='s')\n",
    "\n",
    "    nav_start_times.reset_index(drop=True, inplace=True)\n",
    "    nav_end_times.reset_index(drop=True, inplace=True)\n",
    "\n",
    "    #Correct for occasions when Unity emitted multiple SceneLoaded events for a single trial\n",
    "    # if len(nav_start_times) > 8:\n",
    "    #     nav_diff = nav_start_times.diff().dt.total_seconds()\n",
    "    #     nav_start_times = nav_start_times.loc[(nav_diff.isnull()) | (nav_diff > 3)]\n",
    "\n",
    "    # nav_start_times.reset_index(drop=True, inplace=True)\n",
    "    # nav_end_times.reset_index(drop=True, inplace=True)\n",
    "\n",
    "    nav_data = {}\n",
    "    for i in range(8):\n",
    "        nav_data[i] = pupil_lum_df.loc[(pupil_lum_df['luminance'] >0) & (pupil_lum_df['time']>nav_start_times.loc[i]) & (pupil_lum_df['time']<nav_end_times.loc[i]), ['time', 'methodID', 'modelID', 'luminance', 'pupilDiameter']]\n",
    "        nav_data[i].reset_index(drop=True, inplace=True)\n",
    "\n",
    "    navigation_data = pd.concat(nav_data, names=['trial'])\n",
    "    navigation_data['plr'] = pupil_func(navigation_data['luminance'], a, b, c)\n",
    "    navigation_data['tepr'] = navigation_data['pupilDiameter'] - navigation_data['plr']\n",
    "    \n",
    "    return navigation_data"
   ]
  },
  {
   "cell_type": "code",
   "execution_count": 8,
   "metadata": {},
   "outputs": [],
   "source": [
    "def process_creation_data(pupil_lum_df, stream_df, a, b, c):\n",
    "    creation_events = stream_df['ExperimentStream'].loc[(stream_df['ExperimentStream']['SceneEvent'] == 'Creation_Trial') | (stream_df['ExperimentStream']['SceneEvent'] == 'CreationComplete'), ['time','SceneEvent', 'EventType', 'ModelID', 'MethodID']]\n",
    "    creation_events['time'] = pd.to_timedelta(creation_events['time'], unit='s')\n",
    "    crt_start_times = creation_events.loc[creation_events['SceneEvent'] == 'Creation_Trial', 'time']\n",
    "    crt_end_times = creation_events.loc[creation_events['SceneEvent'] == 'CreationComplete', 'time']\n",
    "\n",
    "    crt_start_times.reset_index(drop=True, inplace=True)\n",
    "    crt_end_times.reset_index(drop=True, inplace=True)\n",
    "\n",
    "    #Correct for occasions when Unity emitted multiple SceneLoaded events for a single trial\n",
    "    if len(crt_start_times) > 8:\n",
    "        crt_diff = crt_start_times.diff().dt.total_seconds()\n",
    "        crt_start_times = crt_start_times.loc[(crt_diff.isnull()) | (crt_diff > 3)]\n",
    "\n",
    "    crt_start_times.reset_index(drop=True, inplace=True)\n",
    "    crt_end_times.reset_index(drop=True, inplace=True)\n",
    "\n",
    "    crt_data = {}\n",
    "    for i in range(8):\n",
    "        crt_data[i] = pupil_lum_df.loc[(pupil_lum_df['time']>=crt_start_times.loc[i]) & (pupil_lum_df['time']<=crt_end_times.loc[i]), ['time', 'methodID', 'modelID', 'luminance', 'pupilDiameter']]\n",
    "        crt_data[i].set_index('time', inplace=True, drop=False)\n",
    "\n",
    "    creation_data = pd.concat(crt_data, names=['trial'])\n",
    "    creation_data['plr'] = pupil_func(creation_data['luminance'], a, b, c)\n",
    "    creation_data['tepr'] = creation_data['pupilDiameter'] - creation_data['plr']\n",
    "    \n",
    "    return creation_data"
   ]
  },
  {
   "cell_type": "code",
   "execution_count": 9,
   "metadata": {},
   "outputs": [],
   "source": [
    "def process_discomfort_data(stream_df):\n",
    "    discomfort_values = stream_df['SurveyStream'].loc[stream_df['SurveyStream']['SurveyType'] == 'Discomfort', ['time', 'Value', 'ModelID', 'MethodID']]\n",
    "    discomfort_values['time'] = pd.to_timedelta(discomfort_values['time'], unit='s')\n",
    "    discomfort_values.reset_index(drop=True, inplace=True)\n",
    "    return discomfort_values"
   ]
  },
  {
   "cell_type": "code",
   "execution_count": 10,
   "metadata": {},
   "outputs": [],
   "source": [
    "def process_seq_data(stream_df):\n",
    "    seq_values = stream_df['SurveyStream'].loc[stream_df['SurveyStream']['SurveyType'] == 'SEQ', ['time', 'Value', 'ModelID', 'MethodID']]\n",
    "    seq_values['time'] = pd.to_timedelta(seq_values['time'], unit='s')\n",
    "    seq_values.reset_index(drop=True, inplace=True)\n",
    "    return seq_values"
   ]
  },
  {
   "cell_type": "markdown",
   "metadata": {},
   "source": [
    "## Import Data"
   ]
  },
  {
   "cell_type": "code",
   "execution_count": 11,
   "metadata": {},
   "outputs": [],
   "source": [
    "data_dir = join(getcwd(),'Path_Data')\n",
    "data_files = [join(data_dir, f) for f in listdir(data_dir) if isfile(join(data_dir, f))]"
   ]
  },
  {
   "cell_type": "code",
   "execution_count": 12,
   "metadata": {},
   "outputs": [],
   "source": [
    "dfs = []\n",
    "for file in data_files:\n",
    "    dfs.append(import_data(file))"
   ]
  },
  {
   "cell_type": "markdown",
   "metadata": {},
   "source": [
    "## Process Data"
   ]
  },
  {
   "cell_type": "code",
   "execution_count": 38,
   "metadata": {},
   "outputs": [],
   "source": [
    "user_ids = []\n",
    "user_nav_data = []\n",
    "user_crt_data = []\n",
    "user_models_nav = []\n",
    "user_methods_nav = []\n",
    "user_params = []\n",
    "user_calibration = []\n",
    "user_models_crt = []\n",
    "user_methods_crt = []\n",
    "user_seq = []\n",
    "user_discomfort = []\n",
    "\n",
    "for df in dfs:\n",
    "    user_ids.append(df['ExperimentStream']['UserID'][0]) \n",
    "\n",
    "    pupil_lum_df = process_gaze_luminance_data(df)\n",
    "    calibration_data = process_calibration_data(pupil_lum_df, df)\n",
    "\n",
    "    user_calibration.append(calibration_data)\n",
    "\n",
    "    # Fit pupil response to luminance\n",
    "    x_data = calibration_data['luminance']\n",
    "    y_data = calibration_data['pupilDiameter']\n",
    "    exp_mod = Model(pupil_func)\n",
    "    params = exp_mod.make_params(a=1, b=4, c=0)\n",
    "    result = exp_mod.fit(y_data, params, x=x_data)\n",
    "    a = result.params['a'].value\n",
    "    b = result.params['b'].value\n",
    "    c = result.params['c'].value\n",
    "\n",
    "    user_params.append(pd.DataFrame({'params': [a, b, c]}, index=['a', 'b', 'c']))\n",
    "\n",
    "    navigation_data = process_navigation_data(pupil_lum_df, df, a, b, c)\n",
    "    navigation_avg = navigation_data.groupby(level=0).mean()\n",
    "\n",
    "    user_nav_data.append(navigation_data)\n",
    "\n",
    "    models = navigation_avg.reset_index(drop=True)\n",
    "    model_avg = models.groupby(['modelID']).mean()\n",
    "    model_avg.drop(columns=['methodID'], inplace=True)\n",
    "    methods = navigation_avg.reset_index(drop=True)\n",
    "    method_avg = methods.groupby(['methodID']).mean()\n",
    "    method_avg.drop(columns=['modelID'], inplace=True)\n",
    "\n",
    "    user_models_nav.append(model_avg)\n",
    "    user_methods_nav.append(method_avg)\n",
    "\n",
    "    creation_data = process_creation_data(pupil_lum_df, df, a, b, c)\n",
    "    creation_avg = creation_data.groupby(level=0).mean()\n",
    "    creation_avg.drop(columns=['luminance'], inplace=True)\n",
    "\n",
    "    user_crt_data.append(creation_avg)\n",
    "\n",
    "    models = creation_avg.reset_index(drop=True)\n",
    "    model_avg = models.groupby(['modelID']).mean()\n",
    "    model_avg.drop(columns=['methodID'], inplace=True)\n",
    "    methods = creation_avg.reset_index(drop=True)\n",
    "    method_avg = methods.groupby(['methodID']).mean()\n",
    "    method_avg.drop(columns=['modelID'], inplace=True)\n",
    "\n",
    "    user_models_crt.append(model_avg)\n",
    "    user_methods_crt.append(method_avg)\n",
    " \n",
    "    user_discomfort.append(process_discomfort_data(df))\n",
    "    user_seq.append(process_seq_data(df))\n",
    "\n",
    "params = pd.concat(user_params, keys=user_ids, names=['UserID'])\n",
    "model_data_nav = pd.concat(user_models_nav, keys=user_ids, names=['UserID'])\n",
    "method_data_nav = pd.concat(user_methods_nav, keys=user_ids, names=['UserID'])\n",
    "model_data_crt = pd.concat(user_models_crt, keys=user_ids, names=['UserID'])\n",
    "method_data_crt = pd.concat(user_methods_crt, keys=user_ids, names=['UserID'])\n",
    "nav_data = pd.concat(user_nav_data, keys=user_ids, names=['UserID'])\n",
    "crt_data = pd.concat(user_crt_data, keys=user_ids, names=['UserID'])\n",
    "seq_data = pd.concat(user_seq, keys=user_ids, names=['UserID'])\n",
    "discomfort_data = pd.concat(user_discomfort, keys=user_ids, names=['UserID'])\n",
    "calibration_data = pd.concat(user_calibration, keys=user_ids, names=['UserID'])"
   ]
  },
  {
   "cell_type": "markdown",
   "metadata": {},
   "source": [
    "## Statistical Analysis"
   ]
  },
  {
   "cell_type": "markdown",
   "metadata": {},
   "source": [
    "### Navigation vs Baseline Workload\n",
    "\n",
    "Calculated from TEPR, which was calculated from the difference between the measured pupil dilation and the predicted pupil dilation for the given luminance value. "
   ]
  },
  {
   "cell_type": "code",
   "execution_count": 55,
   "metadata": {},
   "outputs": [
    {
     "name": "stdout",
     "output_type": "stream",
     "text": [
      "('108', 0)\n",
      "                                     time  methodID  modelID  luminance  \\\n",
      "UserID trial                                                              \n",
      "108    0     0     2 days 20:55:03.578700       2.0      0.0   0.153248   \n",
      "             1     2 days 20:55:03.590900       2.0      0.0   0.148591   \n",
      "             2     2 days 20:55:03.601100       2.0      0.0   0.145974   \n",
      "             3     2 days 20:55:03.612100       2.0      0.0   0.148653   \n",
      "             4     2 days 20:55:03.623900       2.0      0.0   0.151765   \n",
      "...                                   ...       ...      ...        ...   \n",
      "             10693 2 days 20:57:06.786700       2.0      0.0   0.215437   \n",
      "             10694 2 days 20:57:06.798000       2.0      0.0   0.213561   \n",
      "             10695 2 days 20:57:06.809800       2.0      0.0   0.211610   \n",
      "             10696 2 days 20:57:06.820100       2.0      0.0   0.209556   \n",
      "             10697 2 days 20:57:06.830900       2.0      0.0   0.207587   \n",
      "\n",
      "                    pupilDiameter       plr      tepr  \n",
      "UserID trial                                           \n",
      "108    0     0           4.100655  4.167919 -0.067265  \n",
      "             1           4.005760  4.191819 -0.186059  \n",
      "             2           4.054382  4.205410 -0.151028  \n",
      "             3           4.075378  4.191497 -0.116118  \n",
      "             4           3.989273  4.175493 -0.186220  \n",
      "...                           ...       ...       ...  \n",
      "             10693       3.864227  3.881500 -0.017273  \n",
      "             10694       3.867874  3.889313 -0.021439  \n",
      "             10695       3.885956  3.897488 -0.011532  \n",
      "             10696       3.882782  3.906149 -0.023367  \n",
      "             10697       3.882019  3.914510 -0.032491  \n",
      "\n",
      "[10698 rows x 7 columns]\n",
      "('108', 1)\n",
      "                                       time  methodID  modelID  luminance  \\\n",
      "UserID trial                                                                \n",
      "108    1     0       2 days 21:03:39.277200       3.0      0.0   0.144227   \n",
      "             1       2 days 21:03:39.288000       3.0      0.0   0.149421   \n",
      "             2       2 days 21:03:39.299100       3.0      0.0   0.149581   \n",
      "             3       2 days 21:03:39.310300       3.0      0.0   0.151406   \n",
      "             4       2 days 21:03:39.320800       3.0      0.0   0.153795   \n",
      "...                                     ...       ...      ...        ...   \n",
      "             6495    2 days 21:04:54.118400       3.0      0.0   0.162496   \n",
      "             6496 2 days 21:04:54.129899999       3.0      0.0   0.162509   \n",
      "             6497    2 days 21:04:54.141000       3.0      0.0   0.172043   \n",
      "             6498    2 days 21:04:54.152000       3.0      0.0   0.168556   \n",
      "             6499    2 days 21:04:54.163100       3.0      0.0   0.164535   \n",
      "\n",
      "                   pupilDiameter       plr      tepr  \n",
      "UserID trial                                          \n",
      "108    1     0          4.597221  4.214549  0.382672  \n",
      "             1          4.619270  4.187534  0.431736  \n",
      "             2          4.554100  4.186708  0.367392  \n",
      "             3          4.585579  4.177330  0.408249  \n",
      "             4          4.610031  4.165136  0.444895  \n",
      "...                          ...       ...       ...  \n",
      "             6495       3.312500  4.121533 -0.809033  \n",
      "             6496       3.344528  4.121470 -0.776942  \n",
      "             6497       3.287971  4.075107 -0.787136  \n",
      "             6498       3.512093  4.091894 -0.579802  \n",
      "             6499       3.458290  4.111497 -0.653207  \n",
      "\n",
      "[6500 rows x 7 columns]\n",
      "('108', 2)\n",
      "                                    time  methodID  modelID  luminance  \\\n",
      "UserID trial                                                             \n",
      "108    2     0    2 days 20:57:29.565600       2.0      1.0   0.139439   \n",
      "             1    2 days 20:57:29.576500       2.0      1.0   0.141501   \n",
      "             2    2 days 20:57:29.587000       2.0      1.0   0.146453   \n",
      "             3    2 days 20:57:29.598400       2.0      1.0   0.148953   \n",
      "             4    2 days 20:57:29.609200       2.0      1.0   0.149983   \n",
      "...                                  ...       ...      ...        ...   \n",
      "             9642 2 days 20:59:21.677400       2.0      1.0   0.146242   \n",
      "             9643 2 days 20:59:21.688400       2.0      1.0   0.144341   \n",
      "             9644 2 days 20:59:21.700000       2.0      1.0   0.142249   \n",
      "             9645 2 days 20:59:21.711500       2.0      1.0   0.140052   \n",
      "             9646 2 days 20:59:21.722400       2.0      1.0   0.137389   \n",
      "\n",
      "                   pupilDiameter       plr      tepr  \n",
      "UserID trial                                          \n",
      "108    2     0          4.733505  4.239865  0.493640  \n",
      "             1          4.824081  4.228915  0.595166  \n",
      "             2          4.734200  4.202917  0.531283  \n",
      "             3          4.751640  4.189951  0.561689  \n",
      "             4          4.766197  4.184639  0.581558  \n",
      "...                          ...       ...       ...  \n",
      "             9642       4.164009  4.204014 -0.040005  \n",
      "             9643       4.163521  4.213951 -0.050430  \n",
      "             9644       4.129265  4.224960 -0.095695  \n",
      "             9645       4.193924  4.236599 -0.042675  \n",
      "             9646       4.202782  4.250826 -0.048045  \n",
      "\n",
      "[9647 rows x 7 columns]\n",
      "('108', 3)\n",
      "                                       time  methodID  modelID  luminance  \\\n",
      "UserID trial                                                                \n",
      "108    3     0       2 days 21:05:00.649000       3.0      1.0   0.173787   \n",
      "             1       2 days 21:05:00.659900       3.0      1.0   0.168316   \n",
      "             2       2 days 21:05:00.671000       3.0      1.0   0.161292   \n",
      "             3       2 days 21:05:00.682500       3.0      1.0   0.162739   \n",
      "             4       2 days 21:05:00.693500       3.0      1.0   0.165498   \n",
      "...                                     ...       ...      ...        ...   \n",
      "             5916    2 days 21:06:07.484000       3.0      1.0   0.179808   \n",
      "             5917    2 days 21:06:07.494600       3.0      1.0   0.175062   \n",
      "             5918    2 days 21:06:07.506600       3.0      1.0   0.171054   \n",
      "             5919 2 days 21:06:07.516599999       3.0      1.0   0.167476   \n",
      "             5920 2 days 21:06:07.527499999       3.0      1.0   0.163693   \n",
      "\n",
      "                   pupilDiameter       plr      tepr  \n",
      "UserID trial                                          \n",
      "108    3     0          3.834641  4.066781 -0.232140  \n",
      "             1          3.724312  4.093058 -0.368746  \n",
      "             2          3.769684  4.127494 -0.357810  \n",
      "             3          3.643921  4.120333 -0.476412  \n",
      "             4          3.726677  4.106776 -0.380099  \n",
      "...                          ...       ...       ...  \n",
      "             5916       4.077415  4.038401  0.039014  \n",
      "             5917       4.100174  4.060722  0.039452  \n",
      "             5918       4.100525  4.079848  0.020677  \n",
      "             5919       4.072578  4.097136 -0.024557  \n",
      "             5920       4.153831  4.115631  0.038200  \n",
      "\n",
      "[5921 rows x 7 columns]\n",
      "('108', 4)\n",
      "                                    time  methodID  modelID  luminance  \\\n",
      "UserID trial                                                             \n",
      "108    4     0    2 days 20:59:28.363200       2.0      2.0   0.118407   \n",
      "             1    2 days 20:59:28.374400       2.0      2.0   0.116111   \n",
      "             2    2 days 20:59:28.385500       2.0      2.0   0.115208   \n",
      "             3    2 days 20:59:28.397200       2.0      2.0   0.114838   \n",
      "             4    2 days 20:59:28.408400       2.0      2.0   0.115704   \n",
      "...                                  ...       ...      ...        ...   \n",
      "             8573 2 days 21:01:08.581700       2.0      2.0   0.206079   \n",
      "             8574 2 days 21:01:08.592900       2.0      2.0   0.205202   \n",
      "             8575 2 days 21:01:08.604700       2.0      2.0   0.204484   \n",
      "             8576 2 days 21:01:08.615100       2.0      2.0   0.202767   \n",
      "             8577 2 days 21:01:08.626800       2.0      2.0   0.201371   \n",
      "\n",
      "                   pupilDiameter       plr      tepr  \n",
      "UserID trial                                          \n",
      "108    4     0          4.440651  4.355913  0.084738  \n",
      "             1          4.577690  4.369071  0.208619  \n",
      "             2          4.635353  4.374273  0.261080  \n",
      "             3          4.702126  4.376411  0.325715  \n",
      "             4          4.697136  4.371415  0.325721  \n",
      "...                          ...       ...       ...  \n",
      "             8573       4.448189  3.920947  0.527242  \n",
      "             8574       4.463417  3.924706  0.538711  \n",
      "             8575       4.407967  3.927795  0.480171  \n",
      "             8576       4.427948  3.935205  0.492743  \n",
      "             8577       4.505264  3.941257  0.564007  \n",
      "\n",
      "[8578 rows x 7 columns]\n",
      "('108', 5)\n",
      "                                    time  methodID  modelID  luminance  \\\n",
      "UserID trial                                                             \n",
      "108    5     0    2 days 21:06:30.228100       3.0      2.0   0.157267   \n",
      "             1    2 days 21:06:30.239600       3.0      2.0   0.150606   \n",
      "             2    2 days 21:06:30.262200       3.0      2.0   0.140904   \n",
      "             3    2 days 21:06:30.272700       3.0      2.0   0.143819   \n",
      "             4    2 days 21:06:30.283200       3.0      2.0   0.158255   \n",
      "...                                  ...       ...      ...        ...   \n",
      "             6410 2 days 21:07:43.793300       3.0      2.0   0.185428   \n",
      "             6411 2 days 21:07:43.803800       3.0      2.0   0.183114   \n",
      "             6412 2 days 21:07:43.814900       3.0      2.0   0.180966   \n",
      "             6413 2 days 21:07:43.825900       3.0      2.0   0.178756   \n",
      "             6414 2 days 21:07:43.836900       3.0      2.0   0.176962   \n",
      "\n",
      "                   pupilDiameter       plr      tepr  \n",
      "UserID trial                                          \n",
      "108    5     0          4.020851  4.147592 -0.126740  \n",
      "             1          3.882622  4.181433 -0.298811  \n",
      "             2          3.888016  4.232075 -0.344059  \n",
      "             3          3.924637  4.216690 -0.292053  \n",
      "             4          3.958824  4.142632 -0.183807  \n",
      "...                          ...       ...       ...  \n",
      "             6410       3.764954  4.012415 -0.247462  \n",
      "             6411       3.880592  4.023056 -0.142464  \n",
      "             6412       3.958092  4.033006 -0.074914  \n",
      "             6413       3.952614  4.043317 -0.090703  \n",
      "             6414       3.934746  4.051744 -0.116998  \n",
      "\n",
      "[6415 rows x 7 columns]\n",
      "('108', 6)\n",
      "                                       time  methodID  modelID  luminance  \\\n",
      "UserID trial                                                                \n",
      "108    6     0       2 days 21:01:15.123500       2.0      3.0   0.151966   \n",
      "             1       2 days 21:01:15.135300       2.0      3.0   0.149092   \n",
      "             2       2 days 21:01:15.145700       2.0      3.0   0.141645   \n",
      "             3       2 days 21:01:15.157200       2.0      3.0   0.137112   \n",
      "             4       2 days 21:01:15.167600       2.0      3.0   0.132611   \n",
      "...                                     ...       ...      ...        ...   \n",
      "             4567    2 days 21:02:07.110300       2.0      3.0   0.144423   \n",
      "             4568    2 days 21:02:07.120400       2.0      3.0   0.143614   \n",
      "             4569 2 days 21:02:07.131399999       2.0      3.0   0.142306   \n",
      "             4570    2 days 21:02:07.143300       2.0      3.0   0.140153   \n",
      "             4571    2 days 21:02:07.154600       2.0      3.0   0.137741   \n",
      "\n",
      "                   pupilDiameter       plr      tepr  \n",
      "UserID trial                                          \n",
      "108    6     0          4.405052  4.174462  0.230590  \n",
      "             1          4.481842  4.189229  0.292613  \n",
      "             2          4.437088  4.228150  0.208938  \n",
      "             3          4.321045  4.252315  0.068730  \n",
      "             4          4.415802  4.276662  0.139140  \n",
      "...                          ...       ...       ...  \n",
      "             4567       4.142052  4.213523 -0.071471  \n",
      "             4568       4.070824  4.217770 -0.146946  \n",
      "             4569       4.041016  4.224661 -0.183645  \n",
      "             4570       4.060432  4.236067 -0.175634  \n",
      "             4571       4.117393  4.248940 -0.131547  \n",
      "\n",
      "[4572 rows x 7 columns]\n",
      "('108', 7)\n",
      "                                    time  methodID  modelID  luminance  \\\n",
      "UserID trial                                                             \n",
      "108    7     0    2 days 21:07:50.456500       3.0      3.0   0.184711   \n",
      "             1    2 days 21:07:50.467500       3.0      3.0   0.176628   \n",
      "             2    2 days 21:07:50.478500       3.0      3.0   0.168588   \n",
      "             3    2 days 21:07:50.489700       3.0      3.0   0.166273   \n",
      "             4    2 days 21:07:50.500800       3.0      3.0   0.161675   \n",
      "...                                  ...       ...      ...        ...   \n",
      "             8853 2 days 21:09:32.851900       3.0      3.0   0.176921   \n",
      "             8854 2 days 21:09:32.864000       3.0      3.0   0.174392   \n",
      "             8855 2 days 21:09:32.874000       3.0      3.0   0.171388   \n",
      "             8856 2 days 21:09:32.885000       3.0      3.0   0.167201   \n",
      "             8857 2 days 21:09:32.896100       3.0      3.0   0.162937   \n",
      "\n",
      "                   pupilDiameter       plr      tepr  \n",
      "UserID trial                                          \n",
      "108    7     0          4.416168  4.015702  0.400466  \n",
      "             1          4.531494  4.053321  0.478173  \n",
      "             2          4.506897  4.091740  0.415157  \n",
      "             3          4.404259  4.102992  0.301267  \n",
      "             4          4.328651  4.125598  0.203053  \n",
      "...                          ...       ...       ...  \n",
      "             8853       3.640198  4.051938 -0.411740  \n",
      "             8854       3.614212  4.063904 -0.449692  \n",
      "             8855       3.714798  4.078246 -0.363448  \n",
      "             8856       3.702354  4.098472 -0.396118  \n",
      "             8857       3.685272  4.119359 -0.434087  \n",
      "\n",
      "[8858 rows x 7 columns]\n",
      "('109', 0)\n",
      "                                    time  methodID  modelID  luminance  \\\n",
      "UserID trial                                                             \n",
      "109    0     0    2 days 21:47:57.336000       2.0      0.0   0.114561   \n",
      "             1    2 days 21:47:57.347800       2.0      0.0   0.114532   \n",
      "             2    2 days 21:47:57.359400       2.0      0.0   0.113198   \n",
      "             3    2 days 21:47:57.369500       2.0      0.0   0.113098   \n",
      "             4    2 days 21:47:57.381100       2.0      0.0   0.113562   \n",
      "...                                  ...       ...      ...        ...   \n",
      "             3516 2 days 21:48:38.283200       2.0      0.0   0.222367   \n",
      "             3517 2 days 21:48:38.294200       2.0      0.0   0.219465   \n",
      "             3518 2 days 21:48:38.305700       2.0      0.0   0.216018   \n",
      "             3519 2 days 21:48:38.316800       2.0      0.0   0.211051   \n",
      "             3520 2 days 21:48:38.328300       2.0      0.0   0.204912   \n",
      "\n",
      "                   pupilDiameter       plr      tepr  \n",
      "UserID trial                                          \n",
      "109    0     0          4.217896  3.176618  1.041277  \n",
      "             1          4.284737  3.176785  1.107952  \n",
      "             2          4.246933  3.184474  1.062459  \n",
      "             3          4.257828  3.185052  1.072775  \n",
      "             4          4.159134  3.182365  0.976769  \n",
      "...                          ...       ...       ...  \n",
      "             3516       2.955429  2.782063  0.173366  \n",
      "             3517       2.956146  2.788419  0.167727  \n",
      "             3518       2.942200  2.796188  0.146012  \n",
      "             3519       3.006256  2.807816  0.198440  \n",
      "             3520       2.971817  2.822929  0.148888  \n",
      "\n",
      "[3521 rows x 7 columns]\n",
      "('109', 1)\n",
      "                                    time  methodID  modelID  luminance  \\\n",
      "UserID trial                                                             \n",
      "109    1     0    2 days 21:41:23.602500       3.0      0.0   0.192321   \n",
      "             1    2 days 21:41:23.613500       3.0      0.0   0.194211   \n",
      "             2    2 days 21:41:23.625000       3.0      0.0   0.194739   \n",
      "             3    2 days 21:41:23.637100       3.0      0.0   0.195763   \n",
      "             4    2 days 21:41:23.647100       3.0      0.0   0.192764   \n",
      "...                                  ...       ...      ...        ...   \n",
      "             5525 2 days 21:42:26.450500       3.0      0.0   0.149344   \n",
      "             5526 2 days 21:42:26.461700       3.0      0.0   0.149424   \n",
      "             5527 2 days 21:42:26.472400       3.0      0.0   0.149710   \n",
      "             5528 2 days 21:42:26.483600       3.0      0.0   0.149741   \n",
      "             5529 2 days 21:42:26.494500       3.0      0.0   0.148607   \n",
      "\n",
      "                   pupilDiameter       plr      tepr  \n",
      "UserID trial                                          \n",
      "109    1     0          3.861839  2.856681  1.005159  \n",
      "             1          3.818604  2.851365  0.967238  \n",
      "             2          3.846268  2.849897  0.996371  \n",
      "             3          3.757935  2.847070  0.910865  \n",
      "             4          3.801758  2.855428  0.946330  \n",
      "...                          ...       ...       ...  \n",
      "             5525       3.138054  3.005640  0.132414  \n",
      "             5526       3.064957  3.005305  0.059652  \n",
      "             5527       3.094688  3.004112  0.090576  \n",
      "             5528       3.055847  3.003981  0.051866  \n",
      "             5529       3.032471  3.008731  0.023740  \n",
      "\n",
      "[5530 rows x 7 columns]\n",
      "('109', 2)\n",
      "                                    time  methodID  modelID  luminance  \\\n",
      "UserID trial                                                             \n",
      "109    2     0    2 days 21:49:01.150600       2.0      1.0   0.161843   \n",
      "             1    2 days 21:49:01.161500       2.0      1.0   0.162331   \n",
      "             2    2 days 21:49:01.172600       2.0      1.0   0.162787   \n",
      "             3    2 days 21:49:01.183300       2.0      1.0   0.163255   \n",
      "             4    2 days 21:49:01.194500       2.0      1.0   0.163706   \n",
      "...                                  ...       ...      ...        ...   \n",
      "             5461 2 days 21:50:03.842700       2.0      1.0   0.101256   \n",
      "             5462 2 days 21:50:03.853800       2.0      1.0   0.100217   \n",
      "             5463 2 days 21:50:03.864800       2.0      1.0   0.099060   \n",
      "             5464 2 days 21:50:03.876200       2.0      1.0   0.098068   \n",
      "             5465 2 days 21:50:03.886800       2.0      1.0   0.097007   \n",
      "\n",
      "                   pupilDiameter       plr      tepr  \n",
      "UserID trial                                          \n",
      "109    2     0          4.207153  2.956203  1.250950  \n",
      "             1          4.152222  2.954382  1.197840  \n",
      "             2          4.162575  2.952691  1.209884  \n",
      "             3          4.170403  2.950962  1.219440  \n",
      "             4          4.191597  2.949300  1.242297  \n",
      "...                          ...       ...       ...  \n",
      "             5461       3.200523  3.257616 -0.057092  \n",
      "             5462       3.240082  3.264363 -0.024281  \n",
      "             5463       3.128624  3.271946 -0.143322  \n",
      "             5464       3.272156  3.278513 -0.006357  \n",
      "             5465       3.213867  3.285604 -0.071737  \n",
      "\n",
      "[5466 rows x 7 columns]\n",
      "('109', 3)\n",
      "                                    time  methodID  modelID  luminance  \\\n",
      "UserID trial                                                             \n",
      "109    3     0    2 days 21:42:33.025400       3.0      1.0   0.126207   \n",
      "             1    2 days 21:42:33.036400       3.0      1.0   0.126173   \n",
      "             2    2 days 21:42:33.047000       3.0      1.0   0.124788   \n",
      "             3    2 days 21:42:33.058500       3.0      1.0   0.123681   \n",
      "             4    2 days 21:42:33.069000       3.0      1.0   0.121050   \n",
      "...                                  ...       ...      ...        ...   \n",
      "             6636 2 days 21:43:49.410400       3.0      1.0   0.299332   \n",
      "             6637 2 days 21:43:49.421900       3.0      1.0   0.296041   \n",
      "             6638 2 days 21:43:49.433400       3.0      1.0   0.294913   \n",
      "             6639 2 days 21:43:49.444000       3.0      1.0   0.296032   \n",
      "             6640 2 days 21:43:49.455600       3.0      1.0   0.298659   \n",
      "\n",
      "                   pupilDiameter       plr      tepr  \n",
      "UserID trial                                          \n",
      "109    3     0          3.893127  3.113287  0.779840  \n",
      "             1          3.843445  3.113464  0.729981  \n",
      "             2          3.887993  3.120655  0.767338  \n",
      "             3          3.861809  3.126467  0.735342  \n",
      "             4          3.907410  3.140513  0.766897  \n",
      "...                          ...       ...       ...  \n",
      "             6636       3.041832  2.662218  0.379614  \n",
      "             6637       2.931503  2.665817  0.265686  \n",
      "             6638       3.067451  2.667077  0.400375  \n",
      "             6639       2.981903  2.665827  0.316076  \n",
      "             6640       2.539993  2.662946 -0.122952  \n",
      "\n",
      "[6641 rows x 7 columns]\n",
      "('109', 4)\n",
      "                                    time  methodID  modelID  luminance  \\\n",
      "UserID trial                                                             \n",
      "109    4     0    2 days 21:50:10.417700       2.0      2.0   0.126763   \n",
      "             1    2 days 21:50:10.428200       2.0      2.0   0.122247   \n",
      "             2    2 days 21:50:10.439100       2.0      2.0   0.121353   \n",
      "             3    2 days 21:50:10.451100       2.0      2.0   0.121485   \n",
      "             4    2 days 21:50:10.461600       2.0      2.0   0.122938   \n",
      "...                                  ...       ...      ...        ...   \n",
      "             5032 2 days 21:51:07.945400       2.0      2.0   0.167488   \n",
      "             5033 2 days 21:51:07.956000       2.0      2.0   0.166092   \n",
      "             5034 2 days 21:51:07.967100       2.0      2.0   0.164601   \n",
      "             5035 2 days 21:51:07.978900       2.0      2.0   0.163128   \n",
      "             5036 2 days 21:51:08.134600       2.0      2.0   0.140329   \n",
      "\n",
      "                   pupilDiameter       plr      tepr  \n",
      "UserID trial                                          \n",
      "109    4     0          4.123589  3.110429  1.013159  \n",
      "             1          4.060852  3.134080  0.926772  \n",
      "             2          4.082352  3.138877  0.943475  \n",
      "             3          4.141533  3.138163  1.003370  \n",
      "             4          4.045853  3.130399  0.915454  \n",
      "...                          ...       ...       ...  \n",
      "             5032       3.086639  2.935641  0.150998  \n",
      "             5033       3.217751  2.940630  0.277121  \n",
      "             5034       3.041245  2.946026  0.095219  \n",
      "             5035       2.054596  2.951431 -0.896835  \n",
      "             5036       3.046509  3.044928  0.001581  \n",
      "\n",
      "[5037 rows x 7 columns]\n",
      "('109', 5)\n",
      "                                    time  methodID  modelID  luminance  \\\n",
      "UserID trial                                                             \n",
      "109    5     0    2 days 21:43:56.363300       3.0      2.0   0.138323   \n",
      "             1    2 days 21:43:56.374300       3.0      2.0   0.140467   \n",
      "             2    2 days 21:43:56.385700       3.0      2.0   0.143759   \n",
      "             3    2 days 21:43:56.396600       3.0      2.0   0.148040   \n",
      "             4    2 days 21:43:56.407100       3.0      2.0   0.152172   \n",
      "...                                  ...       ...      ...        ...   \n",
      "             6126 2 days 21:45:06.007100       3.0      2.0   0.155958   \n",
      "             6127 2 days 21:45:06.018300       3.0      2.0   0.153362   \n",
      "             6128 2 days 21:45:06.029400       3.0      2.0   0.150913   \n",
      "             6129 2 days 21:45:06.040400       3.0      2.0   0.148878   \n",
      "             6130 2 days 21:45:06.051500       3.0      2.0   0.146898   \n",
      "\n",
      "                   pupilDiameter       plr      tepr  \n",
      "UserID trial                                          \n",
      "109    5     0          3.887611  3.054117  0.833494  \n",
      "             1          3.886444  3.044302  0.842143  \n",
      "             2          3.820763  3.029600  0.791163  \n",
      "             3          3.769180  3.011127  0.758053  \n",
      "             4          3.757401  2.993960  0.763440  \n",
      "...                          ...       ...       ...  \n",
      "             6126       2.979744  2.978786  0.000958  \n",
      "             6127       3.000473  2.989135  0.011338  \n",
      "             6128       2.968010  2.999125 -0.031115  \n",
      "             6129       3.029129  3.007593  0.021536  \n",
      "             6130       2.974686  3.015984 -0.041299  \n",
      "\n",
      "[6131 rows x 7 columns]\n",
      "('109', 6)\n",
      "                                    time  methodID  modelID  luminance  \\\n",
      "UserID trial                                                             \n",
      "109    6     0    2 days 21:51:14.686000       2.0      3.0   0.156723   \n",
      "             1    2 days 21:51:14.697600       2.0      3.0   0.158646   \n",
      "             2    2 days 21:51:14.708500       2.0      3.0   0.161325   \n",
      "             3    2 days 21:51:14.719000       2.0      3.0   0.163661   \n",
      "             4    2 days 21:51:14.730500       2.0      3.0   0.164813   \n",
      "...                                  ...       ...      ...        ...   \n",
      "             4843 2 days 21:52:10.415600       2.0      3.0   0.088133   \n",
      "             4844 2 days 21:52:10.426600       2.0      3.0   0.087295   \n",
      "             4845 2 days 21:52:10.437600       2.0      3.0   0.086509   \n",
      "             4846 2 days 21:52:10.448100       2.0      3.0   0.085555   \n",
      "             4847 2 days 21:52:10.459600       2.0      3.0   0.084331   \n",
      "\n",
      "                   pupilDiameter       plr      tepr  \n",
      "UserID trial                                          \n",
      "109    6     0          3.826698  2.975782  0.850916  \n",
      "             1          3.737617  2.968320  0.769297  \n",
      "             2          3.721001  2.958144  0.762857  \n",
      "             3          3.604584  2.949466  0.655118  \n",
      "             4          3.675850  2.945255  0.730595  \n",
      "...                          ...       ...       ...  \n",
      "             4843       3.266533  3.347648 -0.081115  \n",
      "             4844       3.247513  3.353763 -0.106250  \n",
      "             4845       3.242813  3.359548 -0.116735  \n",
      "             4846       3.232941  3.366626 -0.133685  \n",
      "             4847       3.241783  3.375788 -0.134005  \n",
      "\n",
      "[4848 rows x 7 columns]\n",
      "('109', 7)\n",
      "                                    time  methodID  modelID  luminance  \\\n",
      "UserID trial                                                             \n",
      "109    7     0    2 days 21:45:12.726400       3.0      3.0   0.147862   \n",
      "             1    2 days 21:45:12.737100       3.0      3.0   0.150560   \n",
      "             2    2 days 21:45:12.748300       3.0      3.0   0.155442   \n",
      "             3    2 days 21:45:12.759300       3.0      3.0   0.158403   \n",
      "             4    2 days 21:45:12.771200       3.0      3.0   0.159581   \n",
      "...                                  ...       ...      ...        ...   \n",
      "             9175 2 days 21:46:56.820500       3.0      3.0   0.195708   \n",
      "             9176 2 days 21:46:56.831600       3.0      3.0   0.191035   \n",
      "             9177 2 days 21:46:56.842600       3.0      3.0   0.187376   \n",
      "             9178 2 days 21:46:56.854600       3.0      3.0   0.184030   \n",
      "             9179 2 days 21:46:56.865100       3.0      3.0   0.180360   \n",
      "\n",
      "                   pupilDiameter       plr      tepr  \n",
      "UserID trial                                          \n",
      "109    7     0          4.123116  3.011882  1.111234  \n",
      "             1          4.043915  3.000583  1.043332  \n",
      "             2          4.081062  2.980820  1.100242  \n",
      "             3          4.114082  2.969257  1.144826  \n",
      "             4          4.069160  2.964739  1.104422  \n",
      "...                          ...       ...       ...  \n",
      "             9175       2.895416  2.847221  0.048195  \n",
      "             9176       3.030495  2.860349  0.170146  \n",
      "             9177       3.016754  2.871023  0.145731  \n",
      "             9178       2.918289  2.881099  0.037190  \n",
      "             9179       3.044983  2.892506  0.152477  \n",
      "\n",
      "[9180 rows x 7 columns]\n",
      "('110', 0)\n",
      "                                       time  methodID  modelID  luminance  \\\n",
      "UserID trial                                                                \n",
      "110    0     0       3 days 02:41:24.463200       2.0      0.0   0.221609   \n",
      "             1       3 days 02:41:24.475300       2.0      0.0   0.217565   \n",
      "             2       3 days 02:41:24.485700       2.0      0.0   0.215440   \n",
      "             3       3 days 02:41:24.496200       2.0      0.0   0.213442   \n",
      "             4    3 days 02:41:24.507499999       2.0      0.0   0.213247   \n",
      "...                                     ...       ...      ...        ...   \n",
      "             6335    3 days 02:42:39.049400       2.0      0.0   0.212436   \n",
      "             6336    3 days 02:42:39.060900       2.0      0.0   0.209925   \n",
      "             6337    3 days 02:42:39.072400       2.0      0.0   0.207436   \n",
      "             6338    3 days 02:42:39.082800       2.0      0.0   0.204785   \n",
      "             6339    3 days 02:42:39.094300       2.0      0.0   0.202059   \n",
      "\n",
      "                   pupilDiameter       plr      tepr  \n",
      "UserID trial                                          \n",
      "110    0     0          3.336212  2.677803  0.658410  \n",
      "             1          3.359184  2.687400  0.671785  \n",
      "             2          3.274162  2.692542  0.581620  \n",
      "             3          3.339813  2.697442  0.642371  \n",
      "             4          3.301743  2.697926  0.603817  \n",
      "...                          ...       ...       ...  \n",
      "             6335       3.025803  2.699935  0.325867  \n",
      "             6336       3.015274  2.706224  0.309050  \n",
      "             6337       3.007042  2.712559  0.294483  \n",
      "             6338       2.972977  2.719420  0.253556  \n",
      "             6339       2.975349  2.726597  0.248753  \n",
      "\n",
      "[6340 rows x 7 columns]\n",
      "('110', 1)\n",
      "                                    time  methodID  modelID  luminance  \\\n",
      "UserID trial                                                             \n",
      "110    1     0    3 days 02:48:15.855900       3.0      0.0   0.199694   \n",
      "             1    3 days 02:48:15.866000       3.0      0.0   0.200406   \n",
      "             2    3 days 02:48:15.877500       3.0      0.0   0.201295   \n",
      "             3    3 days 02:48:15.888500       3.0      0.0   0.202163   \n",
      "             4    3 days 02:48:15.899200       3.0      0.0   0.203745   \n",
      "...                                  ...       ...      ...        ...   \n",
      "             4123 3 days 02:49:04.664600       3.0      0.0   0.170571   \n",
      "             4124 3 days 02:49:04.676500       3.0      0.0   0.168726   \n",
      "             4125 3 days 02:49:04.687500       3.0      0.0   0.167520   \n",
      "             4126 3 days 02:49:04.698500       3.0      0.0   0.168025   \n",
      "             4127 3 days 02:49:04.709000       3.0      0.0   0.169282   \n",
      "\n",
      "                   pupilDiameter       plr      tepr  \n",
      "UserID trial                                          \n",
      "110    1     0          3.863602  2.732927  1.130675  \n",
      "             1          3.813019  2.731011  1.082008  \n",
      "             2          3.843102  2.728633  1.114468  \n",
      "             3          3.746681  2.726320  1.020361  \n",
      "             4          3.751518  2.722143  1.029375  \n",
      "...                          ...       ...       ...  \n",
      "             4123       3.511528  2.819304  0.692224  \n",
      "             4124       3.487785  2.825343  0.662442  \n",
      "             4125       3.465363  2.829328  0.636035  \n",
      "             4126       3.454269  2.827655  0.626615  \n",
      "             4127       3.474876  2.823516  0.651360  \n",
      "\n",
      "[4128 rows x 7 columns]\n",
      "('110', 2)\n",
      "                                    time  methodID  modelID  luminance  \\\n",
      "UserID trial                                                             \n",
      "110    2     0    3 days 02:42:45.891300       2.0      1.0   0.243370   \n",
      "             1    3 days 02:42:45.902300       2.0      1.0   0.246825   \n",
      "             2    3 days 02:42:45.914000       2.0      1.0   0.249945   \n",
      "             3    3 days 02:42:45.924500       2.0      1.0   0.253225   \n",
      "             4    3 days 02:42:45.935300       2.0      1.0   0.256200   \n",
      "...                                  ...       ...      ...        ...   \n",
      "             7450 3 days 02:44:16.025500       2.0      1.0   0.127317   \n",
      "             7451 3 days 02:44:16.037100       2.0      1.0   0.125474   \n",
      "             7452 3 days 02:44:16.047600       2.0      1.0   0.122840   \n",
      "             7453 3 days 02:44:16.059000       2.0      1.0   0.119600   \n",
      "             7454 3 days 02:44:16.070700       2.0      1.0   0.116395   \n",
      "\n",
      "                   pupilDiameter       plr      tepr  \n",
      "UserID trial                                          \n",
      "110    2     0          4.230896  2.630238  1.600658  \n",
      "             1          4.195122  2.623280  1.571842  \n",
      "             2          4.155426  2.617127  1.538299  \n",
      "             3          4.103172  2.610791  1.492381  \n",
      "             4          4.209633  2.605159  1.604474  \n",
      "...                          ...       ...       ...  \n",
      "             7450       3.223083  2.981501  0.241582  \n",
      "             7451       3.205864  2.989465  0.216399  \n",
      "             7452       3.231140  3.001016  0.230124  \n",
      "             7453       3.206177  3.015491  0.190686  \n",
      "             7454       3.226158  3.030108  0.196050  \n",
      "\n",
      "[7455 rows x 7 columns]\n",
      "('110', 3)\n",
      "                                       time  methodID  modelID  luminance  \\\n",
      "UserID trial                                                                \n",
      "110    3     0       3 days 02:49:11.428500       3.0      1.0   0.161188   \n",
      "             1       3 days 02:49:11.439000       3.0      1.0   0.162345   \n",
      "             2       3 days 02:49:11.451300       3.0      1.0   0.163770   \n",
      "             3       3 days 02:49:11.462300       3.0      1.0   0.164842   \n",
      "             4       3 days 02:49:11.473800       3.0      1.0   0.166166   \n",
      "...                                     ...       ...      ...        ...   \n",
      "             6664 3 days 02:50:35.132899999       3.0      1.0   0.101311   \n",
      "             6665    3 days 02:50:35.144200       3.0      1.0   0.102392   \n",
      "             6666    3 days 02:50:35.155100       3.0      1.0   0.102111   \n",
      "             6667    3 days 02:50:35.165600       3.0      1.0   0.100073   \n",
      "             6668    3 days 02:50:35.177200       3.0      1.0   0.098342   \n",
      "\n",
      "                   pupilDiameter       plr      tepr  \n",
      "UserID trial                                          \n",
      "110    3     0          3.323624  2.850761  0.472863  \n",
      "             1          3.298729  2.846782  0.451947  \n",
      "             2          3.283226  2.841915  0.441311  \n",
      "             3          3.287666  2.838286  0.449380  \n",
      "             4          3.276695  2.833838  0.442858  \n",
      "...                          ...       ...       ...  \n",
      "             6664       3.514679  3.103102  0.411577  \n",
      "             6665       3.474251  3.097630  0.376621  \n",
      "             6666       3.469696  3.099048  0.370648  \n",
      "             6667       3.616760  3.109414  0.507346  \n",
      "             6668       3.566978  3.118322  0.448657  \n",
      "\n",
      "[6669 rows x 7 columns]\n",
      "('110', 4)\n",
      "                                    time  methodID  modelID  luminance  \\\n",
      "UserID trial                                                             \n",
      "110    4     0    3 days 02:44:22.777800       2.0      2.0   0.220757   \n",
      "             1    3 days 02:44:22.788800       2.0      2.0   0.221892   \n",
      "             2    3 days 02:44:22.799600       2.0      2.0   0.218292   \n",
      "             3    3 days 02:44:22.810700       2.0      2.0   0.215746   \n",
      "             4    3 days 02:44:22.821700       2.0      2.0   0.215310   \n",
      "...                                  ...       ...      ...        ...   \n",
      "             4828 3 days 02:45:20.550500       2.0      2.0   0.188605   \n",
      "             4829 3 days 02:45:20.561400       2.0      2.0   0.185979   \n",
      "             4830 3 days 02:45:20.572000       2.0      2.0   0.183810   \n",
      "             4831 3 days 02:45:20.583000       2.0      2.0   0.179209   \n",
      "             4832 3 days 02:45:20.750100       2.0      2.0   0.150196   \n",
      "\n",
      "                   pupilDiameter       plr      tepr  \n",
      "UserID trial                                          \n",
      "110    4     0          4.301529  2.679802  1.621727  \n",
      "             1          4.299583  2.677139  1.622444  \n",
      "             2          4.195526  2.685654  1.509872  \n",
      "             3          4.284912  2.691796  1.593116  \n",
      "             4          4.326408  2.692859  1.633550  \n",
      "...                          ...       ...       ...  \n",
      "             4828       3.313995  2.763926  0.550070  \n",
      "             4829       3.318077  2.771596  0.546481  \n",
      "             4830       3.316383  2.778028  0.538356  \n",
      "             4831       3.352654  2.791979  0.560675  \n",
      "             4832       3.406555  2.890113  0.516442  \n",
      "\n",
      "[4833 rows x 7 columns]\n",
      "('110', 5)\n",
      "                                    time  methodID  modelID  luminance  \\\n",
      "UserID trial                                                             \n",
      "110    5     0    3 days 02:50:41.751900       3.0      2.0   0.142311   \n",
      "             1    3 days 02:50:41.762600       3.0      2.0   0.143219   \n",
      "             2    3 days 02:50:41.774600       3.0      2.0   0.144397   \n",
      "             3    3 days 02:50:41.784500       3.0      2.0   0.145813   \n",
      "             4    3 days 02:50:41.796000       3.0      2.0   0.147120   \n",
      "...                                  ...       ...      ...        ...   \n",
      "             4567 3 days 02:51:37.936000       3.0      2.0   0.161857   \n",
      "             4568 3 days 02:51:37.947500       3.0      2.0   0.159543   \n",
      "             4569 3 days 02:51:37.958600       3.0      2.0   0.156965   \n",
      "             4570 3 days 02:51:37.969600       3.0      2.0   0.154607   \n",
      "             4571 3 days 02:51:37.981100       3.0      2.0   0.152630   \n",
      "\n",
      "                   pupilDiameter       plr      tepr  \n",
      "UserID trial                                          \n",
      "110    5     0          3.818909  2.920104  0.898805  \n",
      "             1          3.811592  2.916569  0.895023  \n",
      "             2          3.813187  2.912019  0.901167  \n",
      "             3          3.714264  2.906595  0.807669  \n",
      "             4          3.719208  2.901630  0.817578  \n",
      "...                          ...       ...       ...  \n",
      "             4567       3.376755  2.848456  0.528299  \n",
      "             4568       3.327194  2.856476  0.470719  \n",
      "             4569       3.326439  2.865553  0.460886  \n",
      "             4570       3.345100  2.873986  0.471114  \n",
      "             4571       3.432259  2.881159  0.551100  \n",
      "\n",
      "[4572 rows x 7 columns]\n",
      "('110', 6)\n",
      "                                    time  methodID  modelID  luminance  \\\n",
      "UserID trial                                                             \n",
      "110    6     0    3 days 02:45:27.358900       2.0      3.0   0.181927   \n",
      "             1    3 days 02:45:27.369600       2.0      3.0   0.184076   \n",
      "             2    3 days 02:45:27.380100       2.0      3.0   0.186190   \n",
      "             3    3 days 02:45:27.392100       2.0      3.0   0.188316   \n",
      "             4    3 days 02:45:27.402400       2.0      3.0   0.189972   \n",
      "...                                  ...       ...      ...        ...   \n",
      "             6534 3 days 02:46:49.541100       2.0      3.0   0.166189   \n",
      "             6535 3 days 02:46:49.552600       2.0      3.0   0.164974   \n",
      "             6536 3 days 02:46:49.563100       2.0      3.0   0.163958   \n",
      "             6537 3 days 02:46:49.573600       2.0      3.0   0.163305   \n",
      "             6538 3 days 02:46:49.585200       2.0      3.0   0.163180   \n",
      "\n",
      "                   pupilDiameter       plr      tepr  \n",
      "UserID trial                                          \n",
      "110    6     0          3.766373  2.783688  0.982685  \n",
      "             1          3.780609  2.777236  1.003373  \n",
      "             2          3.783707  2.770976  1.012731  \n",
      "             3          3.779518  2.764763  1.014755  \n",
      "             4          3.777725  2.759983  1.017742  \n",
      "...                          ...       ...       ...  \n",
      "             6534       3.405998  2.833759  0.572239  \n",
      "             6535       3.407654  2.837842  0.569812  \n",
      "             6536       3.439476  2.841277  0.598199  \n",
      "             6537       3.327393  2.843498  0.483895  \n",
      "             6538       3.334587  2.843924  0.490663  \n",
      "\n",
      "[6539 rows x 7 columns]\n",
      "('110', 7)\n",
      "                                    time  methodID  modelID  luminance  \\\n",
      "UserID trial                                                             \n",
      "110    7     0    3 days 02:51:44.543700       3.0      3.0   0.158542   \n",
      "             1    3 days 02:51:44.555200       3.0      3.0   0.160354   \n",
      "             2    3 days 02:51:44.566200       3.0      3.0   0.162326   \n",
      "             3    3 days 02:51:44.578300       3.0      3.0   0.163774   \n",
      "             4    3 days 02:51:44.588300       3.0      3.0   0.163774   \n",
      "...                                  ...       ...      ...        ...   \n",
      "             4317 3 days 02:52:37.174100       3.0      3.0   0.172802   \n",
      "             4318 3 days 02:52:37.185600       3.0      3.0   0.171525   \n",
      "             4319 3 days 02:52:37.196100       3.0      3.0   0.170169   \n",
      "             4320 3 days 02:52:37.208100       3.0      3.0   0.168585   \n",
      "             4321 3 days 02:52:37.218200       3.0      3.0   0.167271   \n",
      "\n",
      "                   pupilDiameter       plr      tepr  \n",
      "UserID trial                                          \n",
      "110    7     0          3.598259  2.859981  0.738278  \n",
      "             1          3.604568  2.853652  0.750916  \n",
      "             2          3.596115  2.846845  0.749270  \n",
      "             3          3.525703  2.841903  0.683801  \n",
      "             4          3.548439  2.841904  0.706535  \n",
      "...                          ...       ...       ...  \n",
      "             4317       3.173103  2.812102  0.361001  \n",
      "             4318       3.207375  2.816212  0.391163  \n",
      "             4319       3.191925  2.820616  0.371309  \n",
      "             4320       3.141411  2.825806  0.315605  \n",
      "             4321       3.181297  2.830153  0.351145  \n",
      "\n",
      "[4322 rows x 7 columns]\n",
      "('111', 0)\n",
      "                                    time  methodID  modelID  luminance  \\\n",
      "UserID trial                                                             \n",
      "111    0     0    3 days 21:04:14.524300       2.0      0.0   0.159118   \n",
      "             1    3 days 21:04:14.535800       2.0      0.0   0.158787   \n",
      "             2    3 days 21:04:14.558400       2.0      0.0   0.155481   \n",
      "             3    3 days 21:04:14.724400       2.0      0.0   0.178125   \n",
      "             4    3 days 21:04:14.735900       2.0      0.0   0.176189   \n",
      "...                                  ...       ...      ...        ...   \n",
      "             4420 3 days 21:05:08.843500       2.0      0.0   0.139454   \n",
      "             4421 3 days 21:05:08.854000       2.0      0.0   0.137976   \n",
      "             4422 3 days 21:05:08.866100       2.0      0.0   0.136371   \n",
      "             4423 3 days 21:05:08.888400       2.0      0.0   0.132817   \n",
      "             4424 3 days 21:05:08.910200       2.0      0.0   0.128941   \n",
      "\n",
      "                   pupilDiameter       plr      tepr  \n",
      "UserID trial                                          \n",
      "111    0     0          3.167465  3.039485  0.127980  \n",
      "             1          3.172859  3.040645  0.132214  \n",
      "             2          3.682426  3.052326  0.630101  \n",
      "             3          3.345802  2.975022  0.370780  \n",
      "             4          3.247154  2.981389  0.265766  \n",
      "...                          ...       ...       ...  \n",
      "             4420       4.037590  3.110934  0.926656  \n",
      "             4421       3.882683  3.116508  0.766175  \n",
      "             4422       4.132088  3.122596  1.009491  \n",
      "             4423       3.885101  3.136202  0.748899  \n",
      "             4424       3.602516  3.151238  0.451278  \n",
      "\n",
      "[4425 rows x 7 columns]\n",
      "('111', 1)\n",
      "                                    time  methodID  modelID  luminance  \\\n",
      "UserID trial                                                             \n",
      "111    1     0    3 days 20:58:40.540000       3.0      0.0   0.197612   \n",
      "             1    3 days 20:58:40.551500       3.0      0.0   0.199849   \n",
      "             2    3 days 20:58:40.562000       3.0      0.0   0.202567   \n",
      "             3    3 days 20:58:40.573600       3.0      0.0   0.205348   \n",
      "             4    3 days 20:58:40.584100       3.0      0.0   0.207881   \n",
      "...                                  ...       ...      ...        ...   \n",
      "             5888 3 days 20:59:47.530200       3.0      0.0   0.076868   \n",
      "             5889 3 days 20:59:47.541200       3.0      0.0   0.075058   \n",
      "             5890 3 days 20:59:47.574300       3.0      0.0   0.071677   \n",
      "             5891 3 days 20:59:47.586400       3.0      0.0   0.074333   \n",
      "             5892 3 days 20:59:47.597400       3.0      0.0   0.079224   \n",
      "\n",
      "                   pupilDiameter       plr      tepr  \n",
      "UserID trial                                          \n",
      "111    1     0          3.267418  2.913310  0.354108  \n",
      "             1          3.163322  2.906496  0.256826  \n",
      "             2          3.237251  2.898291  0.338961  \n",
      "             3          3.178108  2.889976  0.288132  \n",
      "             4          3.156403  2.882476  0.273926  \n",
      "...                          ...       ...       ...  \n",
      "             5888       4.070915  3.374722  0.696194  \n",
      "             5889       3.988800  3.383260  0.605540  \n",
      "             5890       4.294258  3.399356  0.894902  \n",
      "             5891       3.536087  3.386694  0.149393  \n",
      "             5892       3.457108  3.363690  0.093418  \n",
      "\n",
      "[5893 rows x 7 columns]\n",
      "('111', 2)\n",
      "                                    time  methodID  modelID  luminance  \\\n",
      "UserID trial                                                             \n",
      "111    2     0    3 days 21:05:15.835700       2.0      1.0   0.165341   \n",
      "             1    3 days 21:05:15.857800       2.0      1.0   0.170170   \n",
      "             2    3 days 21:05:15.880300       2.0      1.0   0.175561   \n",
      "             3    3 days 21:05:15.903200       2.0      1.0   0.181105   \n",
      "             4    3 days 21:05:15.926800       2.0      1.0   0.186019   \n",
      "...                                  ...       ...      ...        ...   \n",
      "             4592 3 days 21:06:10.957400       2.0      1.0   0.261139   \n",
      "             4593 3 days 21:06:10.968400       2.0      1.0   0.257155   \n",
      "             4594 3 days 21:06:10.980300       2.0      1.0   0.252106   \n",
      "             4595 3 days 21:06:10.990800       2.0      1.0   0.246020   \n",
      "             4596 3 days 21:06:11.002400       2.0      1.0   0.238552   \n",
      "\n",
      "                   pupilDiameter       plr      tepr  \n",
      "UserID trial                                          \n",
      "111    2     0          3.660126  3.017897  0.642229  \n",
      "             1          3.671143  3.001470  0.669673  \n",
      "             2          3.608788  2.983465  0.625322  \n",
      "             3          3.633873  2.965306  0.668567  \n",
      "             4          3.618172  2.949506  0.668666  \n",
      "...                          ...       ...       ...  \n",
      "             4592       3.210175  2.739457  0.470717  \n",
      "             4593       2.748337  2.749242 -0.000906  \n",
      "             4594       3.512154  2.761843  0.750310  \n",
      "             4595       4.060532  2.777339  1.283193  \n",
      "             4596       4.495285  2.796816  1.698469  \n",
      "\n",
      "[4597 rows x 7 columns]\n",
      "('111', 3)\n",
      "                                    time  methodID  modelID  luminance  \\\n",
      "UserID trial                                                             \n",
      "111    3     0    3 days 20:59:54.536200       3.0      1.0   0.150974   \n",
      "             1    3 days 20:59:54.558300       3.0      1.0   0.131615   \n",
      "             2    3 days 20:59:54.580800       3.0      1.0   0.143420   \n",
      "             3    3 days 20:59:54.603800       3.0      1.0   0.167701   \n",
      "             4    3 days 20:59:54.626400       3.0      1.0   0.166268   \n",
      "...                                  ...       ...      ...        ...   \n",
      "             6551 3 days 21:01:10.702200       3.0      1.0   0.063440   \n",
      "             6552 3 days 21:01:10.713600       3.0      1.0   0.063666   \n",
      "             6553 3 days 21:01:10.724100       3.0      1.0   0.062823   \n",
      "             6554 3 days 21:01:10.757200       3.0      1.0   0.058689   \n",
      "             6555 3 days 21:01:10.790400       3.0      1.0   0.054999   \n",
      "\n",
      "                   pupilDiameter       plr      tepr  \n",
      "UserID trial                                          \n",
      "111    3     0          3.528473  3.068469  0.460004  \n",
      "             1          3.480202  3.140843  0.339359  \n",
      "             2          3.563660  3.096117  0.467542  \n",
      "             3          3.348900  3.009833  0.339067  \n",
      "             4          3.442863  3.014722  0.428141  \n",
      "...                          ...       ...       ...  \n",
      "             6551       3.432831  3.439397 -0.006566  \n",
      "             6552       3.422539  3.438280 -0.015742  \n",
      "             6553       4.087410  3.442443  0.644967  \n",
      "             6554       4.380478  3.463030  0.917448  \n",
      "             6555       4.388817  3.481663  0.907154  \n",
      "\n",
      "[6556 rows x 7 columns]\n",
      "('111', 4)\n",
      "                                    time  methodID  modelID  luminance  \\\n",
      "UserID trial                                                             \n",
      "111    4     0    3 days 21:06:18.139100       2.0      2.0   0.243671   \n",
      "             1    3 days 21:06:18.162200       2.0      2.0   0.253245   \n",
      "             2    3 days 21:06:18.184200       2.0      2.0   0.263064   \n",
      "             3    3 days 21:06:18.207700       2.0      2.0   0.271252   \n",
      "             4    3 days 21:06:18.229700       2.0      2.0   0.278109   \n",
      "...                                  ...       ...      ...        ...   \n",
      "             5318 3 days 21:07:22.068500       2.0      2.0   0.075496   \n",
      "             5319 3 days 21:07:22.079100       2.0      2.0   0.074831   \n",
      "             5320 3 days 21:07:22.357700       2.0      2.0   0.057043   \n",
      "             5321 3 days 21:07:22.367800       2.0      2.0   0.059152   \n",
      "             5322 3 days 21:07:22.379300       2.0      2.0   0.058230   \n",
      "\n",
      "                   pupilDiameter       plr      tepr  \n",
      "UserID trial                                          \n",
      "111    4     0          3.289299  2.783409  0.505890  \n",
      "             1          3.255859  2.758981  0.496879  \n",
      "             2          3.234940  2.734779  0.500161  \n",
      "             3          3.329582  2.715235  0.614347  \n",
      "             4          3.290100  2.699299  0.590801  \n",
      "...                          ...       ...       ...  \n",
      "             5318       4.329208  3.381188  0.948020  \n",
      "             5319       4.100510  3.384335  0.716175  \n",
      "             5320       3.483459  3.471314  0.012145  \n",
      "             5321       3.510445  3.460711  0.049734  \n",
      "             5322       3.568604  3.465335  0.103268  \n",
      "\n",
      "[5323 rows x 7 columns]\n",
      "('111', 5)\n",
      "                                    time  methodID  modelID  luminance  \\\n",
      "UserID trial                                                             \n",
      "111    5     0    3 days 21:01:17.587900       3.0      2.0   0.117425   \n",
      "             1    3 days 21:01:17.598000       3.0      2.0   0.118357   \n",
      "             2    3 days 21:01:17.609600       3.0      2.0   0.120803   \n",
      "             3    3 days 21:01:17.620600       3.0      2.0   0.124310   \n",
      "             4    3 days 21:01:17.631100       3.0      2.0   0.128550   \n",
      "...                                  ...       ...      ...        ...   \n",
      "             4843 3 days 21:02:14.149100       3.0      2.0   0.221465   \n",
      "             4844 3 days 21:02:14.160600       3.0      2.0   0.218570   \n",
      "             4845 3 days 21:02:14.172100       3.0      2.0   0.216311   \n",
      "             4846 3 days 21:02:14.182600       3.0      2.0   0.215089   \n",
      "             4847 3 days 21:02:14.194000       3.0      2.0   0.213917   \n",
      "\n",
      "                   pupilDiameter       plr      tepr  \n",
      "UserID trial                                          \n",
      "111    5     0          3.424721  3.197150  0.227570  \n",
      "             1          3.383598  3.193365  0.190233  \n",
      "             2          3.352333  3.183489  0.168844  \n",
      "             3          3.395302  3.169474  0.225828  \n",
      "             4          3.308792  3.152764  0.156028  \n",
      "...                          ...       ...       ...  \n",
      "             4843       2.725288  2.843381 -0.118092  \n",
      "             4844       3.289612  2.851554  0.438058  \n",
      "             4845       3.018700  2.857990  0.160709  \n",
      "             4846       3.092651  2.861494  0.231158  \n",
      "             4847       2.878632  2.864870  0.013762  \n",
      "\n",
      "[4848 rows x 7 columns]\n",
      "('111', 6)\n",
      "                                    time  methodID  modelID  luminance  \\\n",
      "UserID trial                                                             \n",
      "111    6     0    3 days 21:07:28.998000       2.0      3.0   0.196717   \n",
      "             1    3 days 21:07:29.009300       2.0      3.0   0.196698   \n",
      "             2    3 days 21:07:29.020500       2.0      3.0   0.197072   \n",
      "             3    3 days 21:07:29.031500       2.0      3.0   0.196802   \n",
      "             4    3 days 21:07:29.043500       2.0      3.0   0.195920   \n",
      "...                                  ...       ...      ...        ...   \n",
      "             5069 3 days 21:08:27.736900       2.0      3.0   0.313964   \n",
      "             5070 3 days 21:08:27.747400       2.0      3.0   0.281353   \n",
      "             5071 3 days 21:08:27.758900       2.0      3.0   0.278799   \n",
      "             5072 3 days 21:08:27.771100       2.0      3.0   0.276604   \n",
      "             5073 3 days 21:08:27.780900       2.0      3.0   0.274253   \n",
      "\n",
      "                   pupilDiameter       plr      tepr  \n",
      "UserID trial                                          \n",
      "111    6     0          3.177643  2.916053  0.261590  \n",
      "             1          3.221626  2.916109  0.305517  \n",
      "             2          3.092476  2.914965  0.177511  \n",
      "             3          3.206421  2.915793  0.290628  \n",
      "             4          3.233894  2.918502  0.315392  \n",
      "...                          ...       ...       ...  \n",
      "             5069       3.662315  2.622035  1.040280  \n",
      "             5070       3.690536  2.691897  0.998640  \n",
      "             5071       3.732925  2.697719  1.035207  \n",
      "             5072       3.802483  2.702764  1.099719  \n",
      "             5073       3.833611  2.708212  1.125399  \n",
      "\n",
      "[5074 rows x 7 columns]\n",
      "('111', 7)\n",
      "                                    time  methodID  modelID  luminance  \\\n",
      "UserID trial                                                             \n",
      "111    7     0    3 days 21:02:20.875000       3.0      3.0   0.164457   \n",
      "             1    3 days 21:02:20.897000       3.0      3.0   0.166360   \n",
      "             2    3 days 21:02:20.920200       3.0      3.0   0.172743   \n",
      "             3    3 days 21:02:20.942200       3.0      3.0   0.179540   \n",
      "             4    3 days 21:02:20.965100       3.0      3.0   0.185232   \n",
      "...                                  ...       ...      ...        ...   \n",
      "             4993 3 days 21:03:19.406800       3.0      3.0   0.139918   \n",
      "             4994 3 days 21:03:19.417300       3.0      3.0   0.137354   \n",
      "             4995 3 days 21:03:19.428800       3.0      3.0   0.136349   \n",
      "             4996 3 days 21:03:19.440300       3.0      3.0   0.135397   \n",
      "             4997 3 days 21:03:19.450800       3.0      3.0   0.133570   \n",
      "\n",
      "                   pupilDiameter       plr      tepr  \n",
      "UserID trial                                          \n",
      "111    7     0          3.140465  3.020935  0.119530  \n",
      "             1          3.229515  3.014407  0.215108  \n",
      "             2          3.163521  2.992833  0.170688  \n",
      "             3          3.089714  2.970396  0.119318  \n",
      "             4          3.047760  2.952017  0.095743  \n",
      "...                          ...       ...       ...  \n",
      "             4993       3.666756  3.109188  0.557567  \n",
      "             4994       3.554626  3.118864  0.435763  \n",
      "             4995       3.774399  3.122680  0.651719  \n",
      "             4996       3.662056  3.126308  0.535748  \n",
      "             4997       3.679237  3.133303  0.545934  \n",
      "\n",
      "[4998 rows x 7 columns]\n",
      "('112', 0)\n",
      "                                    time  methodID  modelID  luminance  \\\n",
      "UserID trial                                                             \n",
      "112    0     0    3 days 22:44:07.195300       2.0      0.0   0.163907   \n",
      "             1    3 days 22:44:07.206300       2.0      0.0   0.169027   \n",
      "             2    3 days 22:44:07.217700       2.0      0.0   0.178072   \n",
      "             3    3 days 22:44:07.228800       2.0      0.0   0.180805   \n",
      "             4    3 days 22:44:07.239700       2.0      0.0   0.179626   \n",
      "...                                  ...       ...      ...        ...   \n",
      "             7315 3 days 22:45:32.887100       2.0      0.0   0.087284   \n",
      "             7316 3 days 22:45:32.898600       2.0      0.0   0.086275   \n",
      "             7317 3 days 22:45:32.909700       2.0      0.0   0.085319   \n",
      "             7318 3 days 22:45:32.921200       2.0      0.0   0.084605   \n",
      "             7319 3 days 22:45:32.931700       2.0      0.0   0.083685   \n",
      "\n",
      "                   pupilDiameter       plr      tepr  \n",
      "UserID trial                                          \n",
      "112    0     0          3.752335  3.082417  0.669917  \n",
      "             1          3.671066  3.065361  0.605705  \n",
      "             2          3.625793  3.036420  0.589374  \n",
      "             3          3.577316  3.027967  0.549349  \n",
      "             4          3.605690  3.031600  0.574090  \n",
      "...                          ...       ...       ...  \n",
      "             7315       3.958519  3.407578  0.550941  \n",
      "             7316       3.957619  3.412882  0.544737  \n",
      "             7317       3.964813  3.417934  0.546880  \n",
      "             7318       3.964417  3.421729  0.542688  \n",
      "             7319       3.975899  3.426637  0.549261  \n",
      "\n",
      "[7320 rows x 7 columns]\n",
      "('112', 1)\n",
      "                                    time  methodID  modelID  luminance  \\\n",
      "UserID trial                                                             \n",
      "112    1     0    3 days 22:51:03.073800       3.0      0.0   0.167253   \n",
      "             1    3 days 22:51:03.085500       3.0      0.0   0.170277   \n",
      "             2    3 days 22:51:03.096000       3.0      0.0   0.171789   \n",
      "             3    3 days 22:51:03.107600       3.0      0.0   0.174332   \n",
      "             4    3 days 22:51:03.118100       3.0      0.0   0.176887   \n",
      "...                                  ...       ...      ...        ...   \n",
      "             8672 3 days 22:52:45.935600       3.0      0.0   0.171846   \n",
      "             8673 3 days 22:52:45.947100       3.0      0.0   0.170040   \n",
      "             8674 3 days 22:52:45.957600       3.0      0.0   0.168126   \n",
      "             8675 3 days 22:52:45.969700       3.0      0.0   0.166273   \n",
      "             8676 3 days 22:52:45.980200       3.0      0.0   0.164176   \n",
      "\n",
      "                   pupilDiameter       plr      tepr  \n",
      "UserID trial                                          \n",
      "112    1     0          3.627228  3.071213  0.556015  \n",
      "             1          3.663376  3.061271  0.602105  \n",
      "             2          3.601753  3.056365  0.545388  \n",
      "             3          3.582962  3.048204  0.534758  \n",
      "             4          3.532913  3.040127  0.492786  \n",
      "...                          ...       ...       ...  \n",
      "             8672       3.132782  3.056178  0.076604  \n",
      "             8673       3.160789  3.062044  0.098745  \n",
      "             8674       3.188408  3.068324  0.120084  \n",
      "             8675       3.235664  3.074472  0.161192  \n",
      "             8676       3.222351  3.081507  0.140844  \n",
      "\n",
      "[8677 rows x 7 columns]\n",
      "('112', 2)\n",
      "                                    time  methodID  modelID  luminance  \\\n",
      "UserID trial                                                             \n",
      "112    2     0    3 days 22:45:39.617500       2.0      1.0   0.100792   \n",
      "             1    3 days 22:45:39.629500       2.0      1.0   0.103696   \n",
      "             2    3 days 22:45:39.641000       2.0      1.0   0.108115   \n",
      "             3    3 days 22:45:39.652000       2.0      1.0   0.113502   \n",
      "             4    3 days 22:45:39.661500       2.0      1.0   0.120514   \n",
      "...                                  ...       ...      ...        ...   \n",
      "             5972 3 days 22:46:50.772300       2.0      1.0   0.135078   \n",
      "             5973 3 days 22:46:50.783800       2.0      1.0   0.133538   \n",
      "             5974 3 days 22:46:50.794900       2.0      1.0   0.131787   \n",
      "             5975 3 days 22:46:50.805400       2.0      1.0   0.130189   \n",
      "             5976 3 days 22:46:50.817500       2.0      1.0   0.128566   \n",
      "\n",
      "                   pupilDiameter       plr      tepr  \n",
      "UserID trial                                          \n",
      "112    2     0          3.881180  3.339434  0.541746  \n",
      "             1          4.142174  3.325455  0.816719  \n",
      "             2          4.421196  3.304634  1.116562  \n",
      "             3          4.388344  3.279949  1.108395  \n",
      "             4          4.692467  3.248941  1.443525  \n",
      "...                          ...       ...       ...  \n",
      "             5972       3.541260  3.188383  0.352877  \n",
      "             5973       3.536789  3.194550  0.342239  \n",
      "             5974       3.530960  3.201629  0.329331  \n",
      "             5975       3.491211  3.208151  0.283060  \n",
      "             5976       3.489105  3.214836  0.274269  \n",
      "\n",
      "[5977 rows x 7 columns]\n",
      "('112', 3)\n",
      "                                       time  methodID  modelID  luminance  \\\n",
      "UserID trial                                                                \n",
      "112    3     0       3 days 22:52:52.532800       3.0      1.0   0.145701   \n",
      "             1       3 days 22:52:52.543500       3.0      1.0   0.153376   \n",
      "             2       3 days 22:52:52.554300       3.0      1.0   0.158617   \n",
      "             3       3 days 22:52:52.565800       3.0      1.0   0.162637   \n",
      "             4       3 days 22:52:52.576800       3.0      1.0   0.165784   \n",
      "...                                     ...       ...      ...        ...   \n",
      "             6212    3 days 22:54:03.009900       3.0      1.0   0.159897   \n",
      "             6213    3 days 22:54:03.021400       3.0      1.0   0.158537   \n",
      "             6214 3 days 22:54:03.031899999       3.0      1.0   0.156891   \n",
      "             6215    3 days 22:54:03.043500       3.0      1.0   0.155384   \n",
      "             6216    3 days 22:54:03.054300       3.0      1.0   0.153563   \n",
      "\n",
      "                   pupilDiameter       plr      tepr  \n",
      "UserID trial                                          \n",
      "112    3     0          3.318497  3.147286  0.171211  \n",
      "             1          3.271988  3.119112  0.152876  \n",
      "             2          3.323204  3.100575  0.222629  \n",
      "             3          3.239021  3.086727  0.152294  \n",
      "             4          3.272758  3.076106  0.196652  \n",
      "...                          ...       ...       ...  \n",
      "             6212       3.261353  3.096131  0.165221  \n",
      "             6213       3.266747  3.100853  0.165894  \n",
      "             6214       3.269684  3.106619  0.163064  \n",
      "             6215       3.269516  3.111945  0.157571  \n",
      "             6216       3.266548  3.118442  0.148106  \n",
      "\n",
      "[6217 rows x 7 columns]\n",
      "('112', 4)\n",
      "                                       time  methodID  modelID  luminance  \\\n",
      "UserID trial                                                                \n",
      "112    4     0       3 days 22:46:57.608800       2.0      2.0   0.191002   \n",
      "             1       3 days 22:46:57.630800       2.0      2.0   0.195120   \n",
      "             2       3 days 22:46:57.653800       2.0      2.0   0.199161   \n",
      "             3       3 days 22:46:57.677400       2.0      2.0   0.203834   \n",
      "             4       3 days 22:46:57.699400       2.0      2.0   0.208254   \n",
      "...                                     ...       ...      ...        ...   \n",
      "             7235 3 days 22:48:23.517499999       2.0      2.0   0.178688   \n",
      "             7236 3 days 22:48:23.528499999       2.0      2.0   0.176674   \n",
      "             7237    3 days 22:48:23.538600       2.0      2.0   0.174859   \n",
      "             7238    3 days 22:48:23.550400       2.0      2.0   0.173321   \n",
      "             7239    3 days 22:48:23.560900       2.0      2.0   0.171544   \n",
      "\n",
      "                   pupilDiameter       plr      tepr  \n",
      "UserID trial                                          \n",
      "112    4     0          3.413528  2.997570  0.415958  \n",
      "             1          3.574913  2.985790  0.589123  \n",
      "             2          3.530487  2.974496  0.555991  \n",
      "             3          3.551086  2.961756  0.589331  \n",
      "             4          3.503052  2.950018  0.553034  \n",
      "...                          ...       ...       ...  \n",
      "             7235       3.160942  3.034506  0.126436  \n",
      "             7236       3.165024  3.040796  0.124228  \n",
      "             7237       3.174492  3.046529  0.127963  \n",
      "             7238       3.182060  3.051436  0.130624  \n",
      "             7239       3.113785  3.057157  0.056628  \n",
      "\n",
      "[7240 rows x 7 columns]\n",
      "('112', 5)\n",
      "                                    time  methodID  modelID  luminance  \\\n",
      "UserID trial                                                             \n",
      "112    5     0    3 days 22:54:09.674200       3.0      2.0   0.166033   \n",
      "             1    3 days 22:54:09.684800       3.0      2.0   0.169139   \n",
      "             2    3 days 22:54:09.695300       3.0      2.0   0.170847   \n",
      "             3    3 days 22:54:09.707400       3.0      2.0   0.171526   \n",
      "             4    3 days 22:54:09.717800       3.0      2.0   0.171194   \n",
      "...                                  ...       ...      ...        ...   \n",
      "             6855 3 days 22:55:28.747200       3.0      2.0   0.152159   \n",
      "             6856 3 days 22:55:28.757700       3.0      2.0   0.150711   \n",
      "             6857 3 days 22:55:28.768300       3.0      2.0   0.149185   \n",
      "             6858 3 days 22:55:28.779700       3.0      2.0   0.147699   \n",
      "             6859 3 days 22:55:28.790800       3.0      2.0   0.146290   \n",
      "\n",
      "                   pupilDiameter       plr      tepr  \n",
      "UserID trial                                          \n",
      "112    5     0          3.075676  3.075274  0.000402  \n",
      "             1          3.138412  3.064994  0.073419  \n",
      "             2          3.104095  3.059416  0.044679  \n",
      "             3          3.019371  3.057214 -0.037843  \n",
      "             4          3.075943  3.058289  0.017654  \n",
      "...                          ...       ...       ...  \n",
      "             6855       3.514030  3.123500  0.390530  \n",
      "             6856       3.515068  3.128757  0.386311  \n",
      "             6857       3.517082  3.134344  0.382738  \n",
      "             6858       3.518570  3.139831  0.378739  \n",
      "             6859       3.519539  3.145079  0.374460  \n",
      "\n",
      "[6860 rows x 7 columns]\n",
      "('112', 6)\n",
      "                                    time  methodID  modelID  luminance  \\\n",
      "UserID trial                                                             \n",
      "112    6     0    3 days 22:48:30.180500       2.0      3.0   0.084180   \n",
      "             1    3 days 22:48:30.192000       2.0      3.0   0.085002   \n",
      "             2    3 days 22:48:30.202500       2.0      3.0   0.086330   \n",
      "             3    3 days 22:48:30.214000       2.0      3.0   0.087956   \n",
      "             4    3 days 22:48:30.225000       2.0      3.0   0.088466   \n",
      "...                                  ...       ...      ...        ...   \n",
      "             6693 3 days 22:49:48.243200       2.0      3.0   0.166636   \n",
      "             6694 3 days 22:49:48.255000       2.0      3.0   0.164929   \n",
      "             6695 3 days 22:49:48.265500       2.0      3.0   0.163192   \n",
      "             6696 3 days 22:49:48.276200       2.0      3.0   0.161332   \n",
      "             6697 3 days 22:49:48.287700       2.0      3.0   0.159662   \n",
      "\n",
      "                   pupilDiameter       plr      tepr  \n",
      "UserID trial                                          \n",
      "112    6     0          4.075935  3.423994  0.651942  \n",
      "             1          4.112625  3.419618  0.693007  \n",
      "             2          4.109604  3.412593  0.697011  \n",
      "             3          4.135559  3.404060  0.731499  \n",
      "             4          4.105637  3.401398  0.704239  \n",
      "...                          ...       ...       ...  \n",
      "             6693       3.092781  3.073264  0.019517  \n",
      "             6694       3.087242  3.078971  0.008271  \n",
      "             6695       3.103851  3.084839  0.019012  \n",
      "             6696       3.111549  3.091186  0.020364  \n",
      "             6697       3.129868  3.096945  0.032922  \n",
      "\n",
      "[6698 rows x 7 columns]\n",
      "('112', 7)\n",
      "                                       time  methodID  modelID  luminance  \\\n",
      "UserID trial                                                                \n",
      "112    7     0       3 days 22:55:35.488600       3.0      3.0   0.186278   \n",
      "             1       3 days 22:55:35.498800       3.0      3.0   0.197633   \n",
      "             2    3 days 22:55:35.510499999       3.0      3.0   0.203439   \n",
      "             3       3 days 22:55:35.521000       3.0      3.0   0.207600   \n",
      "             4    3 days 22:55:35.532599999       3.0      3.0   0.210726   \n",
      "...                                     ...       ...      ...        ...   \n",
      "             8486    3 days 22:57:12.363900       3.0      3.0   0.300057   \n",
      "             8487    3 days 22:57:12.374500       3.0      3.0   0.296840   \n",
      "             8488    3 days 22:57:12.386500       3.0      3.0   0.293800   \n",
      "             8489    3 days 22:57:12.397000       3.0      3.0   0.290834   \n",
      "             8490    3 days 22:57:12.408500       3.0      3.0   0.287972   \n",
      "\n",
      "                   pupilDiameter       plr      tepr  \n",
      "UserID trial                                          \n",
      "112    7     0          3.865593  3.011434  0.854159  \n",
      "             1          3.900665  2.978735  0.921930  \n",
      "             2          3.896744  2.962821  0.933923  \n",
      "             3          3.885811  2.951736  0.934075  \n",
      "             4          3.774544  2.943580  0.830964  \n",
      "...                          ...       ...       ...  \n",
      "             8486       3.058258  2.762762  0.295496  \n",
      "             8487       3.047920  2.767797  0.280124  \n",
      "             8488       3.005600  2.772639  0.232961  \n",
      "             8489       2.991959  2.777447  0.214512  \n",
      "             8490       3.016090  2.782163  0.233927  \n",
      "\n",
      "[8491 rows x 7 columns]\n",
      "('114', 0)\n",
      "                                    time  methodID  modelID  luminance  \\\n",
      "UserID trial                                                             \n",
      "114    0     0    0 days 23:40:32.827000       2.0      0.0   0.167843   \n",
      "             1    0 days 23:40:32.838500       2.0      0.0   0.170463   \n",
      "             2    0 days 23:40:32.849000       2.0      0.0   0.172967   \n",
      "             3    0 days 23:40:32.860500       2.0      0.0   0.175438   \n",
      "             4    0 days 23:40:32.871900       2.0      0.0   0.180371   \n",
      "...                                  ...       ...      ...        ...   \n",
      "             5139 0 days 23:41:37.162600       2.0      0.0   0.162263   \n",
      "             5140 0 days 23:41:37.173800       2.0      0.0   0.160542   \n",
      "             5141 0 days 23:41:37.185100       2.0      0.0   0.158852   \n",
      "             5142 0 days 23:41:37.196800       2.0      0.0   0.157140   \n",
      "             5143 0 days 23:41:37.206800       2.0      0.0   0.155279   \n",
      "\n",
      "                   pupilDiameter       plr      tepr  \n",
      "UserID trial                                          \n",
      "114    0     0          4.162689  4.045268  0.117421  \n",
      "             1          4.168571  4.036952  0.131619  \n",
      "             2          4.173820  4.029070  0.144751  \n",
      "             3          4.162727  4.021351  0.141376  \n",
      "             4          4.202950  4.006115  0.196835  \n",
      "...                          ...       ...       ...  \n",
      "             5139       3.495239  4.063210 -0.567970  \n",
      "             5140       3.439133  4.068806 -0.629673  \n",
      "             5141       3.401154  4.074330 -0.673177  \n",
      "             5142       3.467796  4.079958 -0.612162  \n",
      "             5143       3.458847  4.086107 -0.627260  \n",
      "\n",
      "[5144 rows x 7 columns]\n",
      "('114', 1)\n",
      "                                    time  methodID  modelID  luminance  \\\n",
      "UserID trial                                                             \n",
      "114    1     0    0 days 23:46:29.844200       3.0      0.0   0.140123   \n",
      "             1    0 days 23:46:29.856700       3.0      0.0   0.140548   \n",
      "             2    0 days 23:46:29.867100       3.0      0.0   0.140482   \n",
      "             3    0 days 23:46:29.878100       3.0      0.0   0.139451   \n",
      "             4    0 days 23:46:29.889500       3.0      0.0   0.138151   \n",
      "...                                  ...       ...      ...        ...   \n",
      "             6198 0 days 23:47:44.009200       3.0      0.0   0.204495   \n",
      "             6199 0 days 23:47:44.020700       3.0      0.0   0.202456   \n",
      "             6200 0 days 23:47:44.031700       3.0      0.0   0.200317   \n",
      "             6201 0 days 23:47:44.042100       3.0      0.0   0.198049   \n",
      "             6202 0 days 23:47:44.054100       3.0      0.0   0.195289   \n",
      "\n",
      "                   pupilDiameter       plr      tepr  \n",
      "UserID trial                                          \n",
      "114    1     0          4.367928  4.137560  0.230368  \n",
      "             1          4.371155  4.136083  0.235072  \n",
      "             2          4.362221  4.136312  0.225909  \n",
      "             3          4.379349  4.139898  0.239451  \n",
      "             4          4.373528  4.144434  0.229094  \n",
      "...                          ...       ...       ...  \n",
      "             6198       3.460342  3.934916 -0.474574  \n",
      "             6199       3.441422  3.940728 -0.499307  \n",
      "             6200       3.451233  3.946863 -0.495631  \n",
      "             6201       3.408615  3.953417 -0.544802  \n",
      "             6202       3.487320  3.961453 -0.474133  \n",
      "\n",
      "[6203 rows x 7 columns]\n",
      "('114', 2)\n",
      "                                    time  methodID  modelID  luminance  \\\n",
      "UserID trial                                                             \n",
      "114    2     0    0 days 23:41:43.837400       2.0      1.0   0.196778   \n",
      "             1    0 days 23:41:43.848100       2.0      1.0   0.202046   \n",
      "             2    0 days 23:41:43.859600       2.0      1.0   0.205826   \n",
      "             3    0 days 23:41:43.871600       2.0      1.0   0.210540   \n",
      "             4    0 days 23:41:43.882600       2.0      1.0   0.213477   \n",
      "...                                  ...       ...      ...        ...   \n",
      "             5552 0 days 23:42:50.327800       2.0      1.0   0.168006   \n",
      "             5553 0 days 23:42:50.339300       2.0      1.0   0.167440   \n",
      "             5554 0 days 23:42:50.349800       2.0      1.0   0.165846   \n",
      "             5555 0 days 23:42:50.361800       2.0      1.0   0.164833   \n",
      "             5556 0 days 23:42:50.373200       2.0      1.0   0.164086   \n",
      "\n",
      "                   pupilDiameter       plr      tepr  \n",
      "UserID trial                                          \n",
      "114    2     0          4.181725  3.957108  0.224616  \n",
      "             1          4.213394  3.941902  0.271492  \n",
      "             2          4.223633  3.931140  0.292493  \n",
      "             3          4.282684  3.917902  0.364782  \n",
      "             4          4.265312  3.909748  0.355564  \n",
      "...                          ...       ...       ...  \n",
      "             5552       3.404533  4.044748 -0.640215  \n",
      "             5553       3.467491  4.046556 -0.579065  \n",
      "             5554       3.468933  4.051653 -0.582720  \n",
      "             5555       3.501938  4.054908 -0.552970  \n",
      "             5556       3.420929  4.057313 -0.636384  \n",
      "\n",
      "[5557 rows x 7 columns]\n",
      "('114', 3)\n",
      "                                    time  methodID  modelID  luminance  \\\n",
      "UserID trial                                                             \n",
      "114    3     0    0 days 23:47:50.639300       3.0      1.0   0.167405   \n",
      "             1    0 days 23:47:50.650100       3.0      1.0   0.166824   \n",
      "             2    0 days 23:47:50.662100       3.0      1.0   0.167062   \n",
      "             3    0 days 23:47:50.673100       3.0      1.0   0.169332   \n",
      "             4    0 days 23:47:50.684500       3.0      1.0   0.172441   \n",
      "...                                  ...       ...      ...        ...   \n",
      "             4128 0 days 23:48:41.403500       3.0      1.0   0.229666   \n",
      "             4129 0 days 23:48:41.415000       3.0      1.0   0.230255   \n",
      "             4130 0 days 23:48:41.426500       3.0      1.0   0.229907   \n",
      "             4131 0 days 23:48:41.437500       3.0      1.0   0.227718   \n",
      "             4132 0 days 23:48:41.447900       3.0      1.0   0.224953   \n",
      "\n",
      "                   pupilDiameter       plr      tepr  \n",
      "UserID trial                                          \n",
      "114    3     0          4.051407  4.046667  0.004740  \n",
      "             1          4.067986  4.048521  0.019464  \n",
      "             2          4.036263  4.047761 -0.011498  \n",
      "             3          4.042236  4.040534  0.001702  \n",
      "             4          3.847603  4.030720 -0.183117  \n",
      "...                          ...       ...       ...  \n",
      "             4128       3.179367  3.866139 -0.686772  \n",
      "             4129       3.276375  3.864596 -0.588221  \n",
      "             4130       3.318672  3.865507 -0.546834  \n",
      "             4131       3.289787  3.871273 -0.581486  \n",
      "             4132       3.272652  3.878608 -0.605956  \n",
      "\n",
      "[4133 rows x 7 columns]\n",
      "('114', 4)\n",
      "                                    time  methodID  modelID  luminance  \\\n",
      "UserID trial                                                             \n",
      "114    4     0    0 days 23:42:56.957600       2.0      2.0   0.165426   \n",
      "             1    0 days 23:42:56.969100       2.0      2.0   0.167091   \n",
      "             2    0 days 23:42:56.979600       2.0      2.0   0.168268   \n",
      "             3    0 days 23:42:56.991600       2.0      2.0   0.168066   \n",
      "             4    0 days 23:42:57.003100       2.0      2.0   0.168305   \n",
      "...                                  ...       ...      ...        ...   \n",
      "             5261 0 days 23:44:00.850000       2.0      2.0   0.152057   \n",
      "             5262 0 days 23:44:00.861000       2.0      2.0   0.150599   \n",
      "             5263 0 days 23:44:00.871500       2.0      2.0   0.149111   \n",
      "             5264 0 days 23:44:00.883000       2.0      2.0   0.147513   \n",
      "             5265 0 days 23:44:00.893900       2.0      2.0   0.145885   \n",
      "\n",
      "                   pupilDiameter       plr      tepr  \n",
      "UserID trial                                          \n",
      "114    4     0          3.832397  4.053000 -0.220603  \n",
      "             1          3.835312  4.047670 -0.212358  \n",
      "             2          3.879776  4.043916 -0.164140  \n",
      "             3          3.921654  4.044560 -0.122906  \n",
      "             4          3.923187  4.043799 -0.120612  \n",
      "...                          ...       ...       ...  \n",
      "             5261       3.396469  4.096842 -0.700373  \n",
      "             5262       3.321182  4.101736 -0.780554  \n",
      "             5263       3.335014  4.106753 -0.771739  \n",
      "             5264       3.376938  4.112165 -0.735228  \n",
      "             5265       3.411850  4.117710 -0.705860  \n",
      "\n",
      "[5266 rows x 7 columns]\n",
      "('114', 5)\n",
      "                                    time  methodID  modelID  luminance  \\\n",
      "UserID trial                                                             \n",
      "114    5     0    0 days 23:48:47.945200       3.0      2.0   0.149225   \n",
      "             1    0 days 23:48:47.956600       3.0      2.0   0.150672   \n",
      "             2    0 days 23:48:47.967100       3.0      2.0   0.153088   \n",
      "             3    0 days 23:48:47.978600       3.0      2.0   0.156272   \n",
      "             4    0 days 23:48:47.989100       3.0      2.0   0.158685   \n",
      "...                                  ...       ...      ...        ...   \n",
      "             5815 0 days 23:49:59.977400       3.0      2.0   0.191714   \n",
      "             5816 0 days 23:49:59.987900       3.0      2.0   0.189523   \n",
      "             5817 0 days 23:49:59.999500       3.0      2.0   0.186962   \n",
      "             5818 0 days 23:50:00.010400       3.0      2.0   0.184695   \n",
      "             5819 0 days 23:50:00.021600       3.0      2.0   0.181871   \n",
      "\n",
      "                   pupilDiameter       plr      tepr  \n",
      "UserID trial                                          \n",
      "114    5     0          4.338081  4.106366  0.231715  \n",
      "             1          4.286148  4.101489  0.184659  \n",
      "             2          4.310051  4.093395  0.216656  \n",
      "             3          4.375923  4.082821  0.293102  \n",
      "             4          4.366135  4.074879  0.291255  \n",
      "...                          ...       ...       ...  \n",
      "             5815       3.096199  3.971966 -0.875767  \n",
      "             5816       3.091232  3.978468 -0.887236  \n",
      "             5817       3.102165  3.986127 -0.883962  \n",
      "             5818       3.104813  3.992955 -0.888142  \n",
      "             5819       3.071037  4.001530 -0.930492  \n",
      "\n",
      "[5820 rows x 7 columns]\n",
      "('114', 6)\n",
      "                                    time  methodID  modelID  luminance  \\\n",
      "UserID trial                                                             \n",
      "114    6     0    0 days 23:44:07.413000       2.0      3.0   0.133908   \n",
      "             1    0 days 23:44:07.424000       2.0      3.0   0.135930   \n",
      "             2    0 days 23:44:07.435700       2.0      3.0   0.139607   \n",
      "             3    0 days 23:44:07.445700       2.0      3.0   0.144252   \n",
      "             4    0 days 23:44:07.457800       2.0      3.0   0.147229   \n",
      "...                                  ...       ...      ...        ...   \n",
      "             5433 0 days 23:45:15.559100       2.0      3.0   0.170309   \n",
      "             5434 0 days 23:45:15.569500       2.0      3.0   0.169184   \n",
      "             5435 0 days 23:45:15.580500       2.0      3.0   0.167755   \n",
      "             5436 0 days 23:45:15.591100       2.0      3.0   0.165986   \n",
      "             5437 0 days 23:45:15.602100       2.0      3.0   0.163783   \n",
      "\n",
      "                   pupilDiameter       plr      tepr  \n",
      "UserID trial                                          \n",
      "114    6     0          3.722794  4.159372 -0.436579  \n",
      "             1          3.885933  4.152231 -0.266298  \n",
      "             2          3.856148  4.139353 -0.283205  \n",
      "             3          3.883904  4.123300 -0.239396  \n",
      "             4          3.853325  4.113132 -0.259807  \n",
      "...                          ...       ...       ...  \n",
      "             5433       3.978416  4.037441 -0.059025  \n",
      "             5434       3.949966  4.041004 -0.091037  \n",
      "             5435       3.955093  4.045550 -0.090457  \n",
      "             5436       4.002289  4.051203 -0.048914  \n",
      "             5437       4.008560  4.058290 -0.049730  \n",
      "\n",
      "[5438 rows x 7 columns]\n",
      "('114', 7)\n",
      "                                       time  methodID  modelID  luminance  \\\n",
      "UserID trial                                                                \n",
      "114    7     0       0 days 23:50:06.584900       3.0      3.0   0.195640   \n",
      "             1       0 days 23:50:06.596400       3.0      3.0   0.194932   \n",
      "             2       0 days 23:50:06.607800       3.0      3.0   0.195343   \n",
      "             3       0 days 23:50:06.618300       3.0      3.0   0.197483   \n",
      "             4       0 days 23:50:06.629400       3.0      3.0   0.200299   \n",
      "...                                     ...       ...      ...        ...   \n",
      "             3901    0 days 23:50:54.240300       3.0      3.0   0.110209   \n",
      "             3902 0 days 23:50:54.250699999       3.0      3.0   0.108743   \n",
      "             3903    0 days 23:50:54.262200       3.0      3.0   0.107625   \n",
      "             3904    0 days 23:50:54.273700       3.0      3.0   0.106651   \n",
      "             3905    0 days 23:50:54.284200       3.0      3.0   0.105890   \n",
      "\n",
      "                   pupilDiameter       plr      tepr  \n",
      "UserID trial                                          \n",
      "114    7     0          4.021034  3.960426  0.060608  \n",
      "             1          4.104332  3.962499  0.141833  \n",
      "             2          4.076370  3.961296  0.115074  \n",
      "             3          4.044395  3.955059  0.089336  \n",
      "             4          4.112434  3.946917  0.165517  \n",
      "...                          ...       ...       ...  \n",
      "             3901       4.070908  4.246563 -0.175655  \n",
      "             3902       4.011909  4.252173 -0.240264  \n",
      "             3903       4.055649  4.256466 -0.200818  \n",
      "             3904       4.047478  4.260221 -0.212744  \n",
      "             3905       4.036377  4.263162 -0.226785  \n",
      "\n",
      "[3906 rows x 7 columns]\n",
      "('116', 0)\n",
      "                                     time  methodID  modelID  luminance  \\\n",
      "UserID trial                                                              \n",
      "116    0     0     0 days 23:01:24.320000       2.0      0.0   0.139652   \n",
      "             1     0 days 23:01:24.341700       2.0      0.0   0.143031   \n",
      "             2     0 days 23:01:24.364500       2.0      0.0   0.146290   \n",
      "             3     0 days 23:01:24.387700       2.0      0.0   0.149675   \n",
      "             4     0 days 23:01:24.410900       2.0      0.0   0.153715   \n",
      "...                                   ...       ...      ...        ...   \n",
      "             14030 0 days 23:04:12.732300       2.0      0.0   0.133595   \n",
      "             14031 0 days 23:04:12.743400       2.0      0.0   0.132090   \n",
      "             14032 0 days 23:04:12.755100       2.0      0.0   0.130626   \n",
      "             14033 0 days 23:04:12.766300       2.0      0.0   0.129250   \n",
      "             14034 0 days 23:04:12.776400       2.0      0.0   0.127714   \n",
      "\n",
      "                    pupilDiameter       plr      tepr  \n",
      "UserID trial                                           \n",
      "116    0     0           3.527756  3.347817  0.179938  \n",
      "             1           3.457291  3.338130  0.119161  \n",
      "             2           3.390945  3.328906  0.062039  \n",
      "             3           3.345413  3.319446  0.025967  \n",
      "             4           3.305817  3.308317 -0.002500  \n",
      "...                           ...       ...       ...  \n",
      "             14030       3.492554  3.365504  0.127049  \n",
      "             14031       3.432350  3.369964  0.062386  \n",
      "             14032       3.438515  3.374326  0.064188  \n",
      "             14033       3.328751  3.378448 -0.049698  \n",
      "             14034       3.300163  3.383079 -0.082916  \n",
      "\n",
      "[14035 rows x 7 columns]\n",
      "('116', 1)\n",
      "                                    time  methodID  modelID  luminance  \\\n",
      "UserID trial                                                             \n",
      "116    1     0    0 days 23:09:23.817100       3.0      0.0   0.186316   \n",
      "             1    0 days 23:09:23.828900       3.0      0.0   0.166420   \n",
      "             2    0 days 23:09:23.839400       3.0      0.0   0.165407   \n",
      "             3    0 days 23:09:23.850500       3.0      0.0   0.185361   \n",
      "             4    0 days 23:09:23.862000       3.0      0.0   0.199156   \n",
      "...                                  ...       ...      ...        ...   \n",
      "             6239 0 days 23:10:37.415300       3.0      0.0   0.150231   \n",
      "             6240 0 days 23:10:37.425800       3.0      0.0   0.148541   \n",
      "             6241 0 days 23:10:37.437300       3.0      0.0   0.146827   \n",
      "             6242 0 days 23:10:37.447900       3.0      0.0   0.145449   \n",
      "             6243 0 days 23:10:37.459400       3.0      0.0   0.143914   \n",
      "\n",
      "                   pupilDiameter       plr      tepr  \n",
      "UserID trial                                          \n",
      "116    1     0          3.498611  3.224600  0.274011  \n",
      "             1          3.431488  3.274430  0.157058  \n",
      "             2          3.370773  3.277073  0.093700  \n",
      "             3          3.409081  3.226906  0.182175  \n",
      "             4          3.384209  3.194419  0.189789  \n",
      "...                          ...       ...       ...  \n",
      "             6239       3.419823  3.317904  0.101919  \n",
      "             6240       3.471405  3.322600  0.148805  \n",
      "             6241       3.440552  3.327396  0.113156  \n",
      "             6242       3.428169  3.331273  0.096896  \n",
      "             6243       3.437111  3.335618  0.101493  \n",
      "\n",
      "[6244 rows x 7 columns]\n",
      "('116', 2)\n",
      "                                    time  methodID  modelID  luminance  \\\n",
      "UserID trial                                                             \n",
      "116    2     0    0 days 23:04:19.319000       2.0      1.0   0.116830   \n",
      "             1    0 days 23:04:19.329500       2.0      1.0   0.117325   \n",
      "             2    0 days 23:04:19.341000       2.0      1.0   0.119753   \n",
      "             3    0 days 23:04:19.351500       2.0      1.0   0.123529   \n",
      "             4    0 days 23:04:19.363000       2.0      1.0   0.128388   \n",
      "...                                  ...       ...      ...        ...   \n",
      "             4847 0 days 23:05:15.613500       2.0      1.0   0.145483   \n",
      "             4848 0 days 23:05:15.625000       2.0      1.0   0.144450   \n",
      "             4849 0 days 23:05:15.635900       2.0      1.0   0.143085   \n",
      "             4850 0 days 23:05:15.647200       2.0      1.0   0.141962   \n",
      "             4851 0 days 23:05:15.657900       2.0      1.0   0.141264   \n",
      "\n",
      "                   pupilDiameter       plr      tepr  \n",
      "UserID trial                                          \n",
      "116    2     0          3.553299  3.416674  0.136625  \n",
      "             1          3.662338  3.415116  0.247222  \n",
      "             2          3.658134  3.407515  0.250620  \n",
      "             3          3.643242  3.395831  0.247411  \n",
      "             4          3.543877  3.381045  0.162832  \n",
      "...                          ...       ...       ...  \n",
      "             4847       3.474312  3.331178  0.143133  \n",
      "             4848       3.421196  3.334098  0.087098  \n",
      "             4849       3.417320  3.337976  0.079344  \n",
      "             4850       3.388000  3.341180  0.046821  \n",
      "             4851       3.411652  3.343180  0.068471  \n",
      "\n",
      "[4852 rows x 7 columns]\n",
      "('116', 3)\n",
      "                                    time  methodID  modelID  luminance  \\\n",
      "UserID trial                                                             \n",
      "116    3     0    0 days 23:10:43.956200       3.0      1.0   0.132178   \n",
      "             1    0 days 23:10:43.967700       3.0      1.0   0.131487   \n",
      "             2    0 days 23:10:43.978200       3.0      1.0   0.137085   \n",
      "             3    0 days 23:10:43.989800       3.0      1.0   0.138483   \n",
      "             4    0 days 23:10:44.000800       3.0      1.0   0.138015   \n",
      "...                                  ...       ...      ...        ...   \n",
      "             8428 0 days 23:12:22.365600       3.0      1.0   0.173648   \n",
      "             8429 0 days 23:12:22.376100       3.0      1.0   0.172228   \n",
      "             8430 0 days 23:12:22.386900       3.0      1.0   0.170589   \n",
      "             8431 0 days 23:12:22.398400       3.0      1.0   0.169132   \n",
      "             8432 0 days 23:12:22.409000       3.0      1.0   0.167431   \n",
      "\n",
      "                   pupilDiameter       plr      tepr  \n",
      "UserID trial                                          \n",
      "116    3     0          3.712608  3.369701  0.342907  \n",
      "             1          3.737473  3.371757  0.365715  \n",
      "             2          3.775322  3.355263  0.420059  \n",
      "             3          3.762459  3.351198  0.411261  \n",
      "             4          3.767105  3.352556  0.414549  \n",
      "...                          ...       ...       ...  \n",
      "             8428       3.193954  3.255883 -0.061929  \n",
      "             8429       3.159729  3.259485 -0.099756  \n",
      "             8430       3.158554  3.263669 -0.105114  \n",
      "             8431       3.141945  3.267411 -0.125466  \n",
      "             8432       3.187202  3.271806 -0.084604  \n",
      "\n",
      "[8433 rows x 7 columns]\n",
      "('116', 4)\n",
      "                                    time  methodID  modelID  luminance  \\\n",
      "UserID trial                                                             \n",
      "116    4     0    0 days 23:05:22.376500       2.0      2.0   0.148338   \n",
      "             1    0 days 23:05:22.388500       2.0      2.0   0.154974   \n",
      "             2    0 days 23:05:22.399500       2.0      2.0   0.159168   \n",
      "             3    0 days 23:05:22.410000       2.0      2.0   0.162965   \n",
      "             4    0 days 23:05:22.433000       2.0      2.0   0.167522   \n",
      "...                                  ...       ...      ...        ...   \n",
      "             5451 0 days 23:06:25.813300       2.0      2.0   0.159719   \n",
      "             5452 0 days 23:06:25.824900       2.0      2.0   0.157120   \n",
      "             5453 0 days 23:06:25.835000       2.0      2.0   0.153743   \n",
      "             5454 0 days 23:06:25.847000       2.0      2.0   0.151032   \n",
      "             5455 0 days 23:06:25.857900       2.0      2.0   0.148782   \n",
      "\n",
      "                   pupilDiameter       plr      tepr  \n",
      "UserID trial                                          \n",
      "116    4     0          3.774010  3.323168  0.450842  \n",
      "             1          3.747726  3.304883  0.442844  \n",
      "             2          3.902954  3.293569  0.609385  \n",
      "             3          3.924728  3.283481  0.641247  \n",
      "             4          3.976814  3.271570  0.705244  \n",
      "...                          ...       ...       ...  \n",
      "             5451       3.344170  3.292095  0.052075  \n",
      "             5452       3.345078  3.299072  0.046005  \n",
      "             5453       3.239372  3.308239 -0.068867  \n",
      "             5454       3.340172  3.315689  0.024483  \n",
      "             5455       3.370255  3.321929  0.048325  \n",
      "\n",
      "[5456 rows x 7 columns]\n",
      "('116', 5)\n",
      "                                    time  methodID  modelID  luminance  \\\n",
      "UserID trial                                                             \n",
      "116    5     0    0 days 23:12:28.950700       3.0      2.0   0.202639   \n",
      "             1    0 days 23:12:28.962000       3.0      2.0   0.204201   \n",
      "             2    0 days 23:12:28.972700       3.0      2.0   0.203734   \n",
      "             3    0 days 23:12:28.983600       3.0      2.0   0.203040   \n",
      "             4    0 days 23:12:28.994600       3.0      2.0   0.202963   \n",
      "...                                  ...       ...      ...        ...   \n",
      "             5915 0 days 23:13:37.362200       3.0      2.0   0.150032   \n",
      "             5916 0 days 23:13:37.373200       3.0      2.0   0.149681   \n",
      "             5917 0 days 23:13:37.384100       3.0      2.0   0.148984   \n",
      "             5918 0 days 23:13:37.395600       3.0      2.0   0.148307   \n",
      "             5919 0 days 23:13:37.407100       3.0      2.0   0.147660   \n",
      "\n",
      "                   pupilDiameter       plr      tepr  \n",
      "UserID trial                                          \n",
      "116    5     0          3.244980  3.186489  0.058491  \n",
      "             1          3.277191  3.182965  0.094226  \n",
      "             2          3.302170  3.184017  0.118153  \n",
      "             3          3.314766  3.185583  0.129183  \n",
      "             4          3.304741  3.185755  0.118986  \n",
      "...                          ...       ...       ...  \n",
      "             5915       3.629631  3.318456  0.311175  \n",
      "             5916       3.660362  3.319430  0.340932  \n",
      "             5917       3.611923  3.321367  0.290556  \n",
      "             5918       3.618401  3.323254  0.295147  \n",
      "             5919       3.561020  3.325061  0.235959  \n",
      "\n",
      "[5920 rows x 7 columns]\n",
      "('116', 6)\n",
      "                                       time  methodID  modelID  luminance  \\\n",
      "UserID trial                                                                \n",
      "116    6     0       0 days 23:06:32.332300       2.0      3.0   0.142186   \n",
      "             1       0 days 23:06:32.343900       2.0      3.0   0.139751   \n",
      "             2       0 days 23:06:32.354400       2.0      3.0   0.139209   \n",
      "             3       0 days 23:06:32.365900       2.0      3.0   0.143848   \n",
      "             4       0 days 23:06:32.376400       2.0      3.0   0.150195   \n",
      "...                                     ...       ...      ...        ...   \n",
      "             5942    0 days 23:07:42.488000       2.0      3.0   0.166802   \n",
      "             5943    0 days 23:07:42.499500       2.0      3.0   0.165743   \n",
      "             5944    0 days 23:07:42.510000       2.0      3.0   0.164286   \n",
      "             5945 0 days 23:07:42.520599999       2.0      3.0   0.162875   \n",
      "             5946    0 days 23:07:42.532200       2.0      3.0   0.161283   \n",
      "\n",
      "                   pupilDiameter       plr      tepr  \n",
      "UserID trial                                          \n",
      "116    6     0          3.511757  3.340540  0.171217  \n",
      "             1          3.243134  3.347531 -0.104398  \n",
      "             2          3.242271  3.349097 -0.106826  \n",
      "             3          3.442596  3.335806  0.106790  \n",
      "             4          3.527657  3.318004  0.209653  \n",
      "...                          ...       ...       ...  \n",
      "             5942       3.290016  3.273437  0.016580  \n",
      "             5943       3.220016  3.276195 -0.056179  \n",
      "             5944       3.224854  3.280007 -0.055153  \n",
      "             5945       3.151260  3.283719 -0.132459  \n",
      "             5946       3.205299  3.287933 -0.082633  \n",
      "\n",
      "[5947 rows x 7 columns]\n",
      "('116', 7)\n",
      "                                    time  methodID  modelID  luminance  \\\n",
      "UserID trial                                                             \n",
      "116    7     0    0 days 23:13:44.081200       3.0      3.0   0.231315   \n",
      "             1    0 days 23:13:44.092900       3.0      3.0   0.239771   \n",
      "             2    0 days 23:13:44.103700       3.0      3.0   0.244116   \n",
      "             3    0 days 23:13:44.114300       3.0      3.0   0.245846   \n",
      "             4    0 days 23:13:44.126400       3.0      3.0   0.246355   \n",
      "...                                  ...       ...      ...        ...   \n",
      "             5766 0 days 23:14:52.993000       3.0      3.0   0.155753   \n",
      "             5767 0 days 23:14:53.003500       3.0      3.0   0.154852   \n",
      "             5768 0 days 23:14:53.015100       3.0      3.0   0.153875   \n",
      "             5769 0 days 23:14:53.025600       3.0      3.0   0.152817   \n",
      "             5770 0 days 23:14:53.037100       3.0      3.0   0.152035   \n",
      "\n",
      "                   pupilDiameter       plr      tepr  \n",
      "UserID trial                                          \n",
      "116    7     0          3.790459  3.125091  0.665368  \n",
      "             1          3.781219  3.108248  0.672971  \n",
      "             2          3.872711  3.099806  0.772905  \n",
      "             3          3.779190  3.096484  0.682706  \n",
      "             4          3.800194  3.095512  0.704682  \n",
      "...                          ...       ...       ...  \n",
      "             5766       3.153900  3.302767 -0.148867  \n",
      "             5767       3.157005  3.305215 -0.148210  \n",
      "             5768       3.075897  3.307881 -0.231983  \n",
      "             5769       3.070808  3.310774 -0.239966  \n",
      "             5770       2.999580  3.312923 -0.313343  \n",
      "\n",
      "[5771 rows x 7 columns]\n",
      "('117', 0)\n",
      "                                    time  methodID  modelID  luminance  \\\n",
      "UserID trial                                                             \n",
      "117    0     0    0 days 23:57:09.921900       2.0      0.0   0.145344   \n",
      "             1    0 days 23:57:09.933900       2.0      0.0   0.147062   \n",
      "             2    0 days 23:57:09.944400       2.0      0.0   0.150157   \n",
      "             3    0 days 23:57:09.955900       2.0      0.0   0.153574   \n",
      "             4    0 days 23:57:09.966400       2.0      0.0   0.155639   \n",
      "...                                  ...       ...      ...        ...   \n",
      "             5637 0 days 23:58:15.924300       2.0      0.0   0.161730   \n",
      "             5638 0 days 23:58:15.934700       2.0      0.0   0.160156   \n",
      "             5639 0 days 23:58:15.946300       2.0      0.0   0.158649   \n",
      "             5640 0 days 23:58:15.956800       2.0      0.0   0.157163   \n",
      "             5641 0 days 23:58:15.968800       2.0      0.0   0.155622   \n",
      "\n",
      "                   pupilDiameter       plr      tepr  \n",
      "UserID trial                                          \n",
      "117    0     0          4.340515  4.522741 -0.182226  \n",
      "             1          4.396957  4.512152 -0.115195  \n",
      "             2          4.367699  4.493401 -0.125702  \n",
      "             3          4.321274  4.473181 -0.151907  \n",
      "             4          4.383934  4.461198 -0.077264  \n",
      "...                          ...       ...       ...  \n",
      "             5637       4.312637  4.426889 -0.114252  \n",
      "             5638       4.320000  4.435613 -0.115613  \n",
      "             5639       4.350395  4.444053 -0.093657  \n",
      "             5640       4.240791  4.452474 -0.211683  \n",
      "             5641       4.270699  4.461295 -0.190597  \n",
      "\n",
      "[5642 rows x 7 columns]\n",
      "('117', 1)\n",
      "                                       time  methodID  modelID  luminance  \\\n",
      "UserID trial                                                                \n",
      "117    1     0       0 days 23:48:26.539200       3.0      0.0   0.172434   \n",
      "             1       0 days 23:48:26.550200       3.0      0.0   0.174351   \n",
      "             2       0 days 23:48:26.561200       3.0      0.0   0.176263   \n",
      "             3       0 days 23:48:26.572700       3.0      0.0   0.178214   \n",
      "             4       0 days 23:48:26.583700       3.0      0.0   0.179859   \n",
      "...                                     ...       ...      ...        ...   \n",
      "             7053    0 days 23:49:48.488800       3.0      0.0   0.153794   \n",
      "             7054 0 days 23:49:48.500299999       3.0      0.0   0.151512   \n",
      "             7055    0 days 23:49:48.510800       3.0      0.0   0.149820   \n",
      "             7056    0 days 23:49:48.522300       3.0      0.0   0.148593   \n",
      "             7057    0 days 23:49:48.533800       3.0      0.0   0.147382   \n",
      "\n",
      "                   pupilDiameter       plr      tepr  \n",
      "UserID trial                                          \n",
      "117    1     0          4.591606  4.370132  0.221474  \n",
      "             1          4.591476  4.360422  0.231055  \n",
      "             2          4.590134  4.350874  0.239260  \n",
      "             3          4.588211  4.341262  0.246949  \n",
      "             4          4.591370  4.333264  0.258105  \n",
      "...                          ...       ...       ...  \n",
      "             7053       3.883301  4.471896 -0.588595  \n",
      "             7054       3.837463  4.485323 -0.647860  \n",
      "             7055       3.822586  4.495421 -0.672835  \n",
      "             7056       3.933449  4.502824 -0.569375  \n",
      "             7057       3.785965  4.510193 -0.724228  \n",
      "\n",
      "[7058 rows x 7 columns]\n",
      "('117', 2)\n",
      "                                    time  methodID  modelID  luminance  \\\n",
      "UserID trial                                                             \n",
      "117    2     0    0 days 23:58:22.609600       2.0      1.0   0.149760   \n",
      "             1    0 days 23:58:22.621100       2.0      1.0   0.146173   \n",
      "             2    0 days 23:58:22.632200       2.0      1.0   0.144651   \n",
      "             3    0 days 23:58:22.643700       2.0      1.0   0.144312   \n",
      "             4    0 days 23:58:22.654200       2.0      1.0   0.142675   \n",
      "...                                  ...       ...      ...        ...   \n",
      "             4084 0 days 23:59:12.474400       2.0      1.0   0.162054   \n",
      "             4085 0 days 23:59:12.485900       2.0      1.0   0.157679   \n",
      "             4086 0 days 23:59:12.496400       2.0      1.0   0.152806   \n",
      "             4087 0 days 23:59:12.507900       2.0      1.0   0.149271   \n",
      "             4088 0 days 23:59:12.520000       2.0      1.0   0.144069   \n",
      "\n",
      "                   pupilDiameter       plr      tepr  \n",
      "UserID trial                                          \n",
      "117    2     0          4.917046  4.495785  0.421260  \n",
      "             1          4.925980  4.517614  0.408366  \n",
      "             2          4.926399  4.527054  0.399345  \n",
      "             3          4.954300  4.529168  0.425132  \n",
      "             4          5.005112  4.539464  0.465648  \n",
      "...                          ...       ...       ...  \n",
      "             4084       4.338898  4.425105 -0.086207  \n",
      "             4085       4.300774  4.449540 -0.148767  \n",
      "             4086       4.258049  4.477680 -0.219631  \n",
      "             4087       4.241943  4.498724 -0.256780  \n",
      "             4088       4.224617  4.530691 -0.306074  \n",
      "\n",
      "[4089 rows x 7 columns]\n",
      "('117', 3)\n",
      "                                       time  methodID  modelID  luminance  \\\n",
      "UserID trial                                                                \n",
      "117    3     0       0 days 23:49:55.141500       3.0      1.0   0.165045   \n",
      "             1       0 days 23:49:55.152500       3.0      1.0   0.160332   \n",
      "             2       0 days 23:49:55.164000       3.0      1.0   0.155699   \n",
      "             3       0 days 23:49:55.175000       3.0      1.0   0.151885   \n",
      "             4       0 days 23:49:55.186500       3.0      1.0   0.149558   \n",
      "...                                     ...       ...      ...        ...   \n",
      "             5972    0 days 23:51:04.108500       3.0      1.0   0.235993   \n",
      "             5973    0 days 23:51:04.219600       3.0      1.0   0.201416   \n",
      "             5974    0 days 23:51:04.230100       3.0      1.0   0.199552   \n",
      "             5975    0 days 23:51:04.242100       3.0      1.0   0.197006   \n",
      "             5976 0 days 23:51:04.253199999       3.0      1.0   0.193964   \n",
      "\n",
      "                   pupilDiameter       plr      tepr  \n",
      "UserID trial                                          \n",
      "117    3     0          4.151794  4.408841 -0.257047  \n",
      "             1          4.173576  4.434629 -0.261053  \n",
      "             2          4.196495  4.460854 -0.264359  \n",
      "             3          4.294975  4.483114 -0.188139  \n",
      "             4          4.103577  4.496994 -0.393418  \n",
      "...                          ...       ...       ...  \n",
      "             5972       4.098419  4.110284 -0.011865  \n",
      "             5973       4.071075  4.236797 -0.165721  \n",
      "             5974       4.093391  4.244556 -0.151165  \n",
      "             5975       4.068733  4.255328 -0.186595  \n",
      "             5976       4.086365  4.268457 -0.182092  \n",
      "\n",
      "[5977 rows x 7 columns]\n",
      "('117', 4)\n",
      "                                       time  methodID  modelID  luminance  \\\n",
      "UserID trial                                                                \n",
      "117    4     0       0 days 23:59:19.082000       2.0      2.0   0.167738   \n",
      "             1       0 days 23:59:19.093500       2.0      2.0   0.170973   \n",
      "             2       0 days 23:59:19.105100       2.0      2.0   0.173334   \n",
      "             3       0 days 23:59:19.115600       2.0      2.0   0.174578   \n",
      "             4    0 days 23:59:19.127099999       2.0      2.0   0.175953   \n",
      "...                                     ...       ...      ...        ...   \n",
      "             3987    1 days 00:00:09.370100       2.0      2.0   0.243442   \n",
      "             3988    1 days 00:00:09.380600       2.0      2.0   0.240780   \n",
      "             3989    1 days 00:00:09.402600       2.0      2.0   0.235614   \n",
      "             3990    1 days 00:00:09.414200       2.0      2.0   0.233299   \n",
      "             3991    1 days 00:00:09.536300       2.0      2.0   0.203905   \n",
      "\n",
      "                   pupilDiameter       plr      tepr  \n",
      "UserID trial                                          \n",
      "117    4     0          4.796112  4.394493  0.401619  \n",
      "             1          4.791039  4.377622  0.413417  \n",
      "             2          4.732880  4.365556  0.367324  \n",
      "             3          4.546204  4.359281  0.186923  \n",
      "             4          4.603188  4.352411  0.250776  \n",
      "...                          ...       ...       ...  \n",
      "             3987       4.344940  4.086930  0.258010  \n",
      "             3988       4.337769  4.095132  0.242636  \n",
      "             3989       4.291183  4.111507  0.179677  \n",
      "             3990       4.386711  4.119046  0.267665  \n",
      "             3991       4.301239  4.226593  0.074646  \n",
      "\n",
      "[3992 rows x 7 columns]\n",
      "('117', 5)\n",
      "                                     time  methodID  modelID  luminance  \\\n",
      "UserID trial                                                              \n",
      "117    5     0     0 days 23:51:27.031600       3.0      2.0   0.091618   \n",
      "             1     0 days 23:51:27.041600       3.0      2.0   0.093581   \n",
      "             2     0 days 23:51:27.053600       3.0      2.0   0.094754   \n",
      "             3     0 days 23:51:27.064100       3.0      2.0   0.096062   \n",
      "             4     0 days 23:51:27.076100       3.0      2.0   0.097661   \n",
      "...                                   ...       ...      ...        ...   \n",
      "             10063 0 days 23:53:25.163200       3.0      2.0   0.157215   \n",
      "             10064 0 days 23:53:25.173900       3.0      2.0   0.155671   \n",
      "             10065 0 days 23:53:25.185200       3.0      2.0   0.154006   \n",
      "             10066 0 days 23:53:25.196800       3.0      2.0   0.152463   \n",
      "             10067 0 days 23:53:25.207300       3.0      2.0   0.150631   \n",
      "\n",
      "                    pupilDiameter       plr      tepr  \n",
      "UserID trial                                           \n",
      "117    5     0           4.819588  4.930038 -0.110451  \n",
      "             1           4.916435  4.912211  0.004224  \n",
      "             2           4.825516  4.901674 -0.076158  \n",
      "             3           4.926704  4.890033  0.036672  \n",
      "             4           4.921440  4.875943  0.045497  \n",
      "...                           ...       ...       ...  \n",
      "             10063       3.985779  4.452175 -0.466396  \n",
      "             10064       3.920448  4.461016 -0.540568  \n",
      "             10065       3.951080  4.470657 -0.519577  \n",
      "             10066       3.934845  4.479699 -0.544854  \n",
      "             10067       3.969002  4.490566 -0.521564  \n",
      "\n",
      "[10068 rows x 7 columns]\n",
      "('117', 6)\n",
      "                                    time  methodID  modelID  luminance  \\\n",
      "UserID trial                                                             \n",
      "117    6     0    1 days 00:00:16.076900       2.0      3.0   0.167998   \n",
      "             1    1 days 00:00:16.088400       2.0      3.0   0.169167   \n",
      "             2    1 days 00:00:16.100400       2.0      3.0   0.170991   \n",
      "             3    1 days 00:00:16.110900       2.0      3.0   0.172212   \n",
      "             4    1 days 00:00:16.122400       2.0      3.0   0.173638   \n",
      "...                                  ...       ...      ...        ...   \n",
      "             1486 1 days 00:00:33.880000       2.0      3.0   0.168460   \n",
      "             1487 1 days 00:00:33.891000       2.0      3.0   0.166764   \n",
      "             1488 1 days 00:00:33.902100       2.0      3.0   0.165256   \n",
      "             1489 1 days 00:00:33.913200       2.0      3.0   0.164066   \n",
      "             1490 1 days 00:00:33.924600       2.0      3.0   0.162729   \n",
      "\n",
      "                   pupilDiameter       plr      tepr  \n",
      "UserID trial                                          \n",
      "117    6     0          4.495300  4.393122  0.102179  \n",
      "             1          4.463150  4.386991  0.076159  \n",
      "             2          4.440598  4.377528  0.063069  \n",
      "             3          4.573235  4.371265  0.201969  \n",
      "             4          4.627960  4.364019  0.263941  \n",
      "...                          ...       ...       ...  \n",
      "             1486       4.076233  4.390691 -0.314458  \n",
      "             1487       4.059341  4.399651 -0.340309  \n",
      "             1488       4.130997  4.407703 -0.276707  \n",
      "             1489       4.075996  4.414127 -0.338130  \n",
      "             1490       4.085495  4.421403 -0.335908  \n",
      "\n",
      "[1491 rows x 7 columns]\n",
      "('117', 7)\n",
      "                                     time  methodID  modelID  luminance  \\\n",
      "UserID trial                                                              \n",
      "117    7     0     0 days 23:53:31.881600       3.0      3.0   0.153085   \n",
      "             1     0 days 23:53:31.893200       3.0      3.0   0.155352   \n",
      "             2     0 days 23:53:31.904700       3.0      3.0   0.157844   \n",
      "             3     0 days 23:53:31.915200       3.0      3.0   0.160411   \n",
      "             4     0 days 23:53:31.926700       3.0      3.0   0.162594   \n",
      "...                                   ...       ...      ...        ...   \n",
      "             10871 0 days 23:55:37.756200       3.0      3.0   0.193280   \n",
      "             10872 0 days 23:55:37.766700       3.0      3.0   0.189375   \n",
      "             10873 0 days 23:55:37.777200       3.0      3.0   0.185731   \n",
      "             10874 0 days 23:55:37.788700       3.0      3.0   0.182804   \n",
      "             10875 0 days 23:55:37.799200       3.0      3.0   0.179480   \n",
      "\n",
      "                    pupilDiameter       plr      tepr  \n",
      "UserID trial                                           \n",
      "117    7     0           4.807549  4.476045  0.331504  \n",
      "             1           4.792740  4.462852  0.329888  \n",
      "             2           4.817230  4.448603  0.368628  \n",
      "             3           4.840294  4.434190  0.406104  \n",
      "             4           4.823105  4.422142  0.400963  \n",
      "...                           ...       ...       ...  \n",
      "             10871       4.082115  4.271452 -0.189337  \n",
      "             10872       4.130249  4.288820 -0.158571  \n",
      "             10873       4.049271  4.305479 -0.256208  \n",
      "             10874       3.856796  4.319186 -0.462389  \n",
      "             10875       3.996384  4.335099 -0.338716  \n",
      "\n",
      "[10876 rows x 7 columns]\n",
      "('118', 0)\n",
      "                                    time  methodID  modelID  luminance  \\\n",
      "UserID trial                                                             \n",
      "118    0     0    0 days 00:30:37.569700       2.0      0.0   0.143017   \n",
      "             1    0 days 00:30:37.580200       2.0      0.0   0.141807   \n",
      "             2    0 days 00:30:37.590800       2.0      0.0   0.141847   \n",
      "             3    0 days 00:30:37.602300       2.0      0.0   0.142099   \n",
      "             4    0 days 00:30:37.613800       2.0      0.0   0.142226   \n",
      "...                                  ...       ...      ...        ...   \n",
      "             8645 0 days 00:32:21.863300       2.0      0.0   0.224413   \n",
      "             8646 0 days 00:32:21.874800       2.0      0.0   0.222067   \n",
      "             8647 0 days 00:32:21.885800       2.0      0.0   0.218886   \n",
      "             8648 0 days 00:32:21.896900       2.0      0.0   0.215712   \n",
      "             8649 0 days 00:32:21.907900       2.0      0.0   0.212237   \n",
      "\n",
      "                   pupilDiameter       plr      tepr  \n",
      "UserID trial                                          \n",
      "118    0     0          4.176453  4.420682 -0.244230  \n",
      "             1          4.159782  4.426005 -0.266223  \n",
      "             2          4.178329  4.425827 -0.247498  \n",
      "             3          4.134369  4.424717 -0.290348  \n",
      "             4          4.114563  4.424158 -0.309595  \n",
      "...                          ...       ...       ...  \n",
      "             8645       3.956398  4.102324 -0.145926  \n",
      "             8646       3.919640  4.110487 -0.190847  \n",
      "             8647       4.022957  4.121642 -0.098685  \n",
      "             8648       3.824379  4.132877 -0.308498  \n",
      "             8649       3.848427  4.145296 -0.296869  \n",
      "\n",
      "[8650 rows x 7 columns]\n",
      "('118', 1)\n",
      "                                       time  methodID  modelID  luminance  \\\n",
      "UserID trial                                                                \n",
      "118    1     0    0 days 00:40:41.524599999       3.0      0.0   0.168499   \n",
      "             1    0 days 00:40:41.535699999       3.0      0.0   0.163757   \n",
      "             2       0 days 00:40:41.546200       3.0      0.0   0.166248   \n",
      "             3       0 days 00:40:41.557700       3.0      0.0   0.171104   \n",
      "             4       0 days 00:40:41.568200       3.0      0.0   0.188652   \n",
      "...                                     ...       ...      ...        ...   \n",
      "             7908    0 days 00:42:18.066500       3.0      0.0   0.160708   \n",
      "             7909    0 days 00:42:18.078000       3.0      0.0   0.158500   \n",
      "             7910    0 days 00:42:18.088500       3.0      0.0   0.156557   \n",
      "             7911    0 days 00:42:18.099600       3.0      0.0   0.154505   \n",
      "             7912    0 days 00:42:18.112100       3.0      0.0   0.153067   \n",
      "\n",
      "                   pupilDiameter       plr      tepr  \n",
      "UserID trial                                          \n",
      "118    1     0          4.459572  4.312812  0.146760  \n",
      "             1          4.469696  4.332286  0.137410  \n",
      "             2          4.482864  4.322022  0.160842  \n",
      "             3          4.463043  4.302227  0.160816  \n",
      "             4          4.472092  4.232981  0.239111  \n",
      "...                          ...       ...       ...  \n",
      "             7908       3.973480  4.344950 -0.371469  \n",
      "             7909       3.934647  4.354189 -0.419542  \n",
      "             7910       3.991425  4.362372 -0.370948  \n",
      "             7911       3.984665  4.371063 -0.386398  \n",
      "             7912       4.029434  4.377184 -0.347750  \n",
      "\n",
      "[7913 rows x 7 columns]\n",
      "('118', 2)\n",
      "                                     time  methodID  modelID  luminance  \\\n",
      "UserID trial                                                              \n",
      "118    2     0     0 days 00:32:29.159600       2.0      1.0   0.210889   \n",
      "             1     0 days 00:32:29.171000       2.0      1.0   0.213528   \n",
      "             2     0 days 00:32:29.182500       2.0      1.0   0.215889   \n",
      "             3     0 days 00:32:29.193000       2.0      1.0   0.218055   \n",
      "             4     0 days 00:32:29.204500       2.0      1.0   0.220011   \n",
      "...                                   ...       ...      ...        ...   \n",
      "             11081 0 days 00:34:45.994500       2.0      1.0   0.164724   \n",
      "             11082 0 days 00:34:46.006000       2.0      1.0   0.161628   \n",
      "             11083 0 days 00:34:46.016500       2.0      1.0   0.156154   \n",
      "             11084 0 days 00:34:46.027000       2.0      1.0   0.148519   \n",
      "             11085 0 days 00:34:46.038500       2.0      1.0   0.139470   \n",
      "\n",
      "                    pupilDiameter       plr      tepr  \n",
      "UserID trial                                           \n",
      "118    2     0           4.486755  4.150146  0.336610  \n",
      "             1           4.466423  4.140666  0.325758  \n",
      "             2           4.217033  4.132248  0.084785  \n",
      "             3           4.263115  4.124573  0.138542  \n",
      "             4           4.367432  4.117684  0.249748  \n",
      "...                           ...       ...       ...  \n",
      "             11081       3.811234  4.328294 -0.517061  \n",
      "             11082       3.823120  4.341117 -0.517997  \n",
      "             11083       4.431801  4.364075  0.067726  \n",
      "             11084       4.166756  4.396709 -0.229953  \n",
      "             11085       4.363441  4.436341 -0.072900  \n",
      "\n",
      "[11086 rows x 7 columns]\n",
      "('118', 3)\n",
      "                                    time  methodID  modelID  luminance  \\\n",
      "UserID trial                                                             \n",
      "118    3     0    0 days 00:42:41.528100       3.0      1.0   0.167185   \n",
      "             1    0 days 00:42:41.538600       3.0      1.0   0.169527   \n",
      "             2    0 days 00:42:41.550200       3.0      1.0   0.172516   \n",
      "             3    0 days 00:42:41.562200       3.0      1.0   0.177561   \n",
      "             4    0 days 00:42:41.572700       3.0      1.0   0.181026   \n",
      "...                                  ...       ...      ...        ...   \n",
      "             7526 0 days 00:44:13.666600       3.0      1.0   0.218555   \n",
      "             7527 0 days 00:44:13.678100       3.0      1.0   0.216906   \n",
      "             7528 0 days 00:44:13.689600       3.0      1.0   0.215295   \n",
      "             7529 0 days 00:44:13.700100       3.0      1.0   0.213786   \n",
      "             7530 0 days 00:44:13.711200       3.0      1.0   0.212241   \n",
      "\n",
      "                   pupilDiameter       plr      tepr  \n",
      "UserID trial                                          \n",
      "118    3     0          4.637459  4.318181  0.319278  \n",
      "             1          4.584923  4.308624  0.276299  \n",
      "             2          4.389236  4.296523  0.092714  \n",
      "             3          4.464500  4.276336  0.188165  \n",
      "             4          4.473061  4.262640  0.210421  \n",
      "...                          ...       ...       ...  \n",
      "             7526       4.028175  4.122808 -0.094633  \n",
      "             7527       4.046158  4.128639 -0.082481  \n",
      "             7528       4.013077  4.134361 -0.121284  \n",
      "             7529       3.864220  4.139744 -0.275524  \n",
      "             7530       3.619736  4.145281 -0.525545  \n",
      "\n",
      "[7531 rows x 7 columns]\n",
      "('118', 4)\n",
      "                                    time  methodID  modelID  luminance  \\\n",
      "UserID trial                                                             \n",
      "118    4     0    0 days 00:34:53.246000       2.0      2.0   0.139169   \n",
      "             1    0 days 00:34:53.257500       2.0      2.0   0.140179   \n",
      "             2    0 days 00:34:53.268100       2.0      2.0   0.141192   \n",
      "             3    0 days 00:34:53.279500       2.0      2.0   0.142453   \n",
      "             4    0 days 00:34:53.291100       2.0      2.0   0.143664   \n",
      "...                                  ...       ...      ...        ...   \n",
      "             8875 0 days 00:36:40.405600       2.0      2.0   0.155328   \n",
      "             8876 0 days 00:36:40.417200       2.0      2.0   0.152880   \n",
      "             8877 0 days 00:36:40.428700       2.0      2.0   0.150708   \n",
      "             8878 0 days 00:36:40.439200       2.0      2.0   0.148494   \n",
      "             8879 0 days 00:36:40.451300       2.0      2.0   0.146743   \n",
      "\n",
      "                   pupilDiameter       plr      tepr  \n",
      "UserID trial                                          \n",
      "118    4     0          4.721375  4.437675  0.283700  \n",
      "             1          4.706940  4.433198  0.273742  \n",
      "             2          4.761742  4.428716  0.333026  \n",
      "             3          4.674957  4.423162  0.251796  \n",
      "             4          4.707085  4.417842  0.289243  \n",
      "...                          ...       ...       ...  \n",
      "             8875       3.932434  4.367571 -0.435137  \n",
      "             8876       3.904549  4.377980 -0.473432  \n",
      "             8877       3.918663  4.387280 -0.468616  \n",
      "             8878       3.915474  4.396819 -0.481345  \n",
      "             8879       3.958565  4.404404 -0.445839  \n",
      "\n",
      "[8880 rows x 7 columns]\n",
      "('118', 5)\n",
      "                                    time  methodID  modelID  luminance  \\\n",
      "UserID trial                                                             \n",
      "118    5     0    0 days 00:44:20.919100       3.0      2.0   0.132152   \n",
      "             1    0 days 00:44:20.930600       3.0      2.0   0.131175   \n",
      "             2    0 days 00:44:20.940600       3.0      2.0   0.130828   \n",
      "             3    0 days 00:44:20.951800       3.0      2.0   0.131438   \n",
      "             4    0 days 00:44:20.963300       3.0      2.0   0.131469   \n",
      "...                                  ...       ...      ...        ...   \n",
      "             5690 0 days 00:45:29.941000       3.0      2.0   0.120395   \n",
      "             5691 0 days 00:45:29.952100       3.0      2.0   0.119073   \n",
      "             5692 0 days 00:45:29.963600       3.0      2.0   0.117681   \n",
      "             5693 0 days 00:45:29.975000       3.0      2.0   0.116529   \n",
      "             5694 0 days 00:45:29.986100       3.0      2.0   0.115425   \n",
      "\n",
      "                   pupilDiameter       plr      tepr  \n",
      "UserID trial                                          \n",
      "118    5     0          4.258865  4.469156 -0.210290  \n",
      "             1          4.367256  4.473593 -0.106337  \n",
      "             2          4.365005  4.475173 -0.110167  \n",
      "             3          4.375336  4.472398 -0.097062  \n",
      "             4          4.287163  4.472258 -0.185095  \n",
      "...                          ...       ...       ...  \n",
      "             5690       3.857605  4.523366 -0.665761  \n",
      "             5691       3.832710  4.529581 -0.696871  \n",
      "             5692       3.867142  4.536146 -0.669004  \n",
      "             5693       3.853935  4.541602 -0.687667  \n",
      "             5694       3.852486  4.546843 -0.694357  \n",
      "\n",
      "[5695 rows x 7 columns]\n",
      "('118', 6)\n",
      "                                    time  methodID  modelID  luminance  \\\n",
      "UserID trial                                                             \n",
      "118    6     0    0 days 00:36:47.569400       2.0      3.0   0.143938   \n",
      "             1    0 days 00:36:47.581500       2.0      3.0   0.143097   \n",
      "             2    0 days 00:36:47.592000       2.0      3.0   0.143002   \n",
      "             3    0 days 00:36:47.602600       2.0      3.0   0.143055   \n",
      "             4    0 days 00:36:47.614000       2.0      3.0   0.140506   \n",
      "...                                  ...       ...      ...        ...   \n",
      "             9658 0 days 00:38:49.411200       2.0      3.0   0.230084   \n",
      "             9659 0 days 00:38:49.421700       2.0      3.0   0.224871   \n",
      "             9660 0 days 00:38:49.433200       2.0      3.0   0.219608   \n",
      "             9661 0 days 00:38:49.622000       2.0      3.0   0.157395   \n",
      "             9662 0 days 00:38:49.633500       2.0      3.0   0.155967   \n",
      "\n",
      "                   pupilDiameter       plr      tepr  \n",
      "UserID trial                                          \n",
      "118    6     0          3.978561  4.416644 -0.438083  \n",
      "             1          3.730202  4.420331 -0.690130  \n",
      "             2          3.884399  4.420749 -0.536349  \n",
      "             3          3.756561  4.420516 -0.663955  \n",
      "             4          3.949959  4.431747 -0.481789  \n",
      "...                          ...       ...       ...  \n",
      "             9658       4.413536  4.082825  0.330711  \n",
      "             9659       4.399162  4.100739  0.298424  \n",
      "             9660       4.065697  4.119100 -0.053403  \n",
      "             9661       4.204742  4.358838 -0.154096  \n",
      "             9662       4.332420  4.364863 -0.032443  \n",
      "\n",
      "[9663 rows x 7 columns]\n",
      "('118', 7)\n",
      "                                    time  methodID  modelID  luminance  \\\n",
      "UserID trial                                                             \n",
      "118    7     0    0 days 00:45:36.993800       3.0      3.0   0.184787   \n",
      "             1    0 days 00:45:37.004800       3.0      3.0   0.201281   \n",
      "             2    0 days 00:45:37.015800       3.0      3.0   0.204374   \n",
      "             3    0 days 00:45:37.027900       3.0      3.0   0.201739   \n",
      "             4    0 days 00:45:37.037800       3.0      3.0   0.202131   \n",
      "...                                  ...       ...      ...        ...   \n",
      "             6532 0 days 00:46:57.332400       3.0      3.0   0.169400   \n",
      "             6533 0 days 00:46:57.345000       3.0      3.0   0.165233   \n",
      "             6534 0 days 00:46:57.355400       3.0      3.0   0.162467   \n",
      "             6535 0 days 00:46:57.366000       3.0      3.0   0.161354   \n",
      "             6536 0 days 00:46:57.376500       3.0      3.0   0.162994   \n",
      "\n",
      "                   pupilDiameter       plr      tepr  \n",
      "UserID trial                                          \n",
      "118    7     0          4.258888  4.247928  0.010961  \n",
      "             1          4.260109  4.185281  0.074828  \n",
      "             2          4.356949  4.173864  0.183084  \n",
      "             3          4.192062  4.183584  0.008479  \n",
      "             4          4.206039  4.182132  0.023907  \n",
      "...                          ...       ...       ...  \n",
      "             6532       3.926552  4.309142 -0.382590  \n",
      "             6533       3.950218  4.326196 -0.375978  \n",
      "             6534       3.949173  4.337632 -0.388459  \n",
      "             6535       3.929787  4.342256 -0.412469  \n",
      "             6536       3.936508  4.335443 -0.398934  \n",
      "\n",
      "[6537 rows x 7 columns]\n",
      "('119', 0)\n",
      "                                    time  methodID  modelID  luminance  \\\n",
      "UserID trial                                                             \n",
      "119    0     0    0 days 02:29:20.088400       2.0      0.0   0.117985   \n",
      "             1    0 days 02:29:20.098700       2.0      0.0   0.117633   \n",
      "             2    0 days 02:29:20.110200       2.0      0.0   0.117116   \n",
      "             3    0 days 02:29:20.121400       2.0      0.0   0.119018   \n",
      "             4    0 days 02:29:20.132500       2.0      0.0   0.121670   \n",
      "...                                  ...       ...      ...        ...   \n",
      "             3041 0 days 02:29:57.281100       2.0      0.0   0.142202   \n",
      "             3042 0 days 02:29:57.292600       2.0      0.0   0.141199   \n",
      "             3043 0 days 02:29:57.303100       2.0      0.0   0.141270   \n",
      "             3044 0 days 02:29:57.314600       2.0      0.0   0.141826   \n",
      "             3045 0 days 02:29:57.336700       2.0      0.0   0.145269   \n",
      "\n",
      "                   pupilDiameter       plr      tepr  \n",
      "UserID trial                                          \n",
      "119    0     0          3.664642  3.413655  0.250987  \n",
      "             1          3.633942  3.415406  0.218536  \n",
      "             2          3.632790  3.417975  0.214815  \n",
      "             3          3.651993  3.408545  0.243448  \n",
      "             4          3.652756  3.395541  0.257215  \n",
      "...                          ...       ...       ...  \n",
      "             3041       3.128395  3.300487 -0.172092  \n",
      "             3042       2.477730  3.304905 -0.827175  \n",
      "             3043       2.606880  3.304594 -0.697713  \n",
      "             3044       2.812599  3.302141 -0.489542  \n",
      "             3045       2.890533  3.287101 -0.396568  \n",
      "\n",
      "[3046 rows x 7 columns]\n",
      "('119', 1)\n",
      "                                    time  methodID  modelID  luminance  \\\n",
      "UserID trial                                                             \n",
      "119    1     0    0 days 02:24:35.647300       3.0      0.0   0.173179   \n",
      "             1    0 days 02:24:35.657700       3.0      0.0   0.176458   \n",
      "             2    0 days 02:24:35.669200       3.0      0.0   0.179749   \n",
      "             3    0 days 02:24:35.680300       3.0      0.0   0.182885   \n",
      "             4    0 days 02:24:35.690800       3.0      0.0   0.185851   \n",
      "...                                  ...       ...      ...        ...   \n",
      "             4147 0 days 02:25:23.290100       3.0      0.0   0.208003   \n",
      "             4148 0 days 02:25:23.301600       3.0      0.0   0.203709   \n",
      "             4149 0 days 02:25:23.312800       3.0      0.0   0.202011   \n",
      "             4150 0 days 02:25:23.324900       3.0      0.0   0.204535   \n",
      "             4151 0 days 02:25:23.334500       3.0      0.0   0.206792   \n",
      "\n",
      "                   pupilDiameter       plr      tepr  \n",
      "UserID trial                                          \n",
      "119    1     0          3.454231  3.174259  0.279972  \n",
      "             1          3.495598  3.162002  0.333596  \n",
      "             2          3.542915  3.149900  0.393016  \n",
      "             3          3.490463  3.138550  0.351913  \n",
      "             4          3.479347  3.127979  0.351368  \n",
      "...                          ...       ...       ...  \n",
      "             4147       3.106117  3.053767  0.052350  \n",
      "             4148       3.057304  3.067519 -0.010215  \n",
      "             4149       3.067413  3.073039 -0.005626  \n",
      "             4150       3.109497  3.064851  0.044646  \n",
      "             4151       3.004333  3.057616 -0.053283  \n",
      "\n",
      "[4152 rows x 7 columns]\n",
      "('119', 2)\n",
      "                                    time  methodID  modelID  luminance  \\\n",
      "UserID trial                                                             \n",
      "119    2     0    0 days 02:30:04.434200       2.0      1.0   0.111762   \n",
      "             1    0 days 02:30:04.445300       2.0      1.0   0.111891   \n",
      "             2    0 days 02:30:04.455300       2.0      1.0   0.112384   \n",
      "             3    0 days 02:30:04.466900       2.0      1.0   0.113347   \n",
      "             4    0 days 02:30:04.477800       2.0      1.0   0.115563   \n",
      "...                                  ...       ...      ...        ...   \n",
      "             5816 0 days 02:31:15.099700       2.0      1.0   0.140047   \n",
      "             5817 0 days 02:31:15.110700       2.0      1.0   0.139139   \n",
      "             5818 0 days 02:31:15.122700       2.0      1.0   0.138406   \n",
      "             5819 0 days 02:31:15.132700       2.0      1.0   0.138123   \n",
      "             5820 0 days 02:31:15.145100       2.0      1.0   0.137829   \n",
      "\n",
      "                   pupilDiameter       plr      tepr  \n",
      "UserID trial                                          \n",
      "119    2     0          3.785156  3.445006  0.340150  \n",
      "             1          3.511749  3.444346  0.067403  \n",
      "             2          3.169220  3.441831 -0.272611  \n",
      "             3          3.126282  3.436929 -0.310647  \n",
      "             4          3.745651  3.425742  0.319909  \n",
      "...                          ...       ...       ...  \n",
      "             5816       3.044647  3.310013 -0.265366  \n",
      "             5817       3.066597  3.314055 -0.247458  \n",
      "             5818       3.118362  3.317338 -0.198975  \n",
      "             5819       3.062500  3.318603 -0.256103  \n",
      "             5820       3.060226  3.319924 -0.259698  \n",
      "\n",
      "[5821 rows x 7 columns]\n",
      "('119', 3)\n",
      "                                    time  methodID  modelID  luminance  \\\n",
      "UserID trial                                                             \n",
      "119    3     0    0 days 02:25:30.408800       3.0      1.0   0.123767   \n",
      "             1    0 days 02:25:30.420400       3.0      1.0   0.124338   \n",
      "             2    0 days 02:25:30.432900       3.0      1.0   0.124690   \n",
      "             3    0 days 02:25:30.443500       3.0      1.0   0.125575   \n",
      "             4    0 days 02:25:30.454000       3.0      1.0   0.126531   \n",
      "...                                  ...       ...      ...        ...   \n",
      "             5082 0 days 02:26:29.658400       3.0      1.0   0.109333   \n",
      "             5083 0 days 02:26:29.669900       3.0      1.0   0.108658   \n",
      "             5084 0 days 02:26:29.681400       3.0      1.0   0.108247   \n",
      "             5085 0 days 02:26:29.692300       3.0      1.0   0.107691   \n",
      "             5086 0 days 02:26:29.702900       3.0      1.0   0.106578   \n",
      "\n",
      "                   pupilDiameter       plr      tepr  \n",
      "UserID trial                                          \n",
      "119    3     0          3.250603  3.385384 -0.134781  \n",
      "             1          3.271255  3.382636 -0.111381  \n",
      "             2          3.201683  3.380943 -0.179260  \n",
      "             3          3.238022  3.376709 -0.138687  \n",
      "             4          3.199409  3.372153 -0.172743  \n",
      "...                          ...       ...       ...  \n",
      "             5082       3.490280  3.457510  0.032770  \n",
      "             5083       3.466721  3.461013  0.005708  \n",
      "             5084       3.403748  3.463151 -0.059403  \n",
      "             5085       3.491364  3.466051  0.025313  \n",
      "             5086       3.462616  3.471878 -0.009262  \n",
      "\n",
      "[5087 rows x 7 columns]\n",
      "('119', 4)\n",
      "                                    time  methodID  modelID  luminance  \\\n",
      "UserID trial                                                             \n",
      "119    4     0    0 days 02:31:22.274800       2.0      2.0   0.257989   \n",
      "             1    0 days 02:31:22.285800       2.0      2.0   0.262218   \n",
      "             2    0 days 02:31:22.296300       2.0      2.0   0.266410   \n",
      "             3    0 days 02:31:22.307200       2.0      2.0   0.270981   \n",
      "             4    0 days 02:31:22.318100       2.0      2.0   0.275582   \n",
      "...                                  ...       ...      ...        ...   \n",
      "             5298 0 days 02:32:26.820700       2.0      2.0   0.269746   \n",
      "             5299 0 days 02:32:26.832700       2.0      2.0   0.266926   \n",
      "             5300 0 days 02:32:26.853600       2.0      2.0   0.262455   \n",
      "             5301 0 days 02:32:26.865000       2.0      2.0   0.260455   \n",
      "             5302 0 days 02:32:26.876500       2.0      2.0   0.257751   \n",
      "\n",
      "                   pupilDiameter       plr      tepr  \n",
      "UserID trial                                          \n",
      "119    4     0          2.976692  2.913541  0.063151  \n",
      "             1          3.130257  2.903203  0.227053  \n",
      "             2          3.097321  2.893167  0.204154  \n",
      "             3          3.120255  2.882458  0.237796  \n",
      "             4          3.108353  2.871924  0.236429  \n",
      "...                          ...       ...       ...  \n",
      "             5298       2.845497  2.885328 -0.039831  \n",
      "             5299       2.815697  2.891945 -0.076249  \n",
      "             5300       2.871567  2.902631 -0.031064  \n",
      "             5301       2.862015  2.907486 -0.045471  \n",
      "             5302       2.924896  2.914129  0.010767  \n",
      "\n",
      "[5303 rows x 7 columns]\n",
      "('119', 5)\n",
      "                                       time  methodID  modelID  luminance  \\\n",
      "UserID trial                                                                \n",
      "119    5     0       0 days 02:26:36.644900       3.0      2.0   0.141544   \n",
      "             1       0 days 02:26:36.655400       3.0      2.0   0.143127   \n",
      "             2       0 days 02:26:36.665900       3.0      2.0   0.150343   \n",
      "             3       0 days 02:26:36.677400       3.0      2.0   0.155904   \n",
      "             4       0 days 02:26:36.689400       3.0      2.0   0.153851   \n",
      "...                                     ...       ...      ...        ...   \n",
      "             5278 0 days 02:27:37.515499999       3.0      2.0   0.150869   \n",
      "             5279    0 days 02:27:37.526000       3.0      2.0   0.149964   \n",
      "             5280    0 days 02:27:37.536500       3.0      2.0   0.149121   \n",
      "             5281    0 days 02:27:37.548100       3.0      2.0   0.148289   \n",
      "             5282    0 days 02:27:37.560100       3.0      2.0   0.147612   \n",
      "\n",
      "                   pupilDiameter       plr      tepr  \n",
      "UserID trial                                          \n",
      "119    5     0          3.102921  3.303386 -0.200465  \n",
      "             1          3.030693  3.296427 -0.265734  \n",
      "             2          3.049492  3.265403 -0.215911  \n",
      "             3          3.099281  3.242247 -0.142965  \n",
      "             4          3.415588  3.250720  0.164868  \n",
      "...                          ...       ...       ...  \n",
      "             5278       2.947548  3.263188 -0.315640  \n",
      "             5279       2.918709  3.267005 -0.348296  \n",
      "             5280       2.996452  3.270579 -0.274126  \n",
      "             5281       2.997536  3.274122 -0.276587  \n",
      "             5282       3.020340  3.277017 -0.256677  \n",
      "\n",
      "[5283 rows x 7 columns]\n",
      "('119', 6)\n",
      "                                    time  methodID  modelID  luminance  \\\n",
      "UserID trial                                                             \n",
      "119    6     0    0 days 02:32:33.906600       2.0      3.0   0.143888   \n",
      "             1    0 days 02:32:33.917700       2.0      3.0   0.149730   \n",
      "             2    0 days 02:32:33.928200       2.0      3.0   0.155417   \n",
      "             3    0 days 02:32:33.940200       2.0      3.0   0.159119   \n",
      "             4    0 days 02:32:33.950200       2.0      3.0   0.163418   \n",
      "...                                  ...       ...      ...        ...   \n",
      "             4457 0 days 02:33:28.047200       2.0      3.0   0.136531   \n",
      "             4458 0 days 02:33:28.057700       2.0      3.0   0.135226   \n",
      "             4459 0 days 02:33:28.069200       2.0      3.0   0.134207   \n",
      "             4460 0 days 02:33:28.080200       2.0      3.0   0.132984   \n",
      "             4461 0 days 02:33:28.091700       2.0      3.0   0.131859   \n",
      "\n",
      "                   pupilDiameter       plr      tepr  \n",
      "UserID trial                                          \n",
      "119    6     0          3.223335  3.293102 -0.069767  \n",
      "             1          3.242325  3.267996 -0.025671  \n",
      "             2          3.129158  3.244249 -0.115091  \n",
      "             3          3.114311  3.229145 -0.114833  \n",
      "             4          3.258797  3.211953  0.046843  \n",
      "...                          ...       ...       ...  \n",
      "             4457       3.226692  3.325777 -0.099084  \n",
      "             4458       3.309532  3.331698 -0.022166  \n",
      "             4459       3.274818  3.336350 -0.061532  \n",
      "             4460       3.272079  3.341961 -0.069881  \n",
      "             4461       3.223473  3.347159 -0.123686  \n",
      "\n",
      "[4462 rows x 7 columns]\n",
      "('119', 7)\n",
      "                                    time  methodID  modelID  luminance  \\\n",
      "UserID trial                                                             \n",
      "119    7     0    0 days 02:27:44.595300       3.0      3.0   0.111744   \n",
      "             1    0 days 02:27:44.618900       3.0      3.0   0.115027   \n",
      "             2    0 days 02:27:44.641400       3.0      3.0   0.117824   \n",
      "             3    0 days 02:27:44.686500       3.0      3.0   0.122250   \n",
      "             4    0 days 02:27:44.710100       3.0      3.0   0.123482   \n",
      "...                                  ...       ...      ...        ...   \n",
      "             3638 0 days 02:28:27.269200       3.0      3.0   0.135475   \n",
      "             3639 0 days 02:28:27.279900       3.0      3.0   0.135196   \n",
      "             3640 0 days 02:28:27.290800       3.0      3.0   0.135291   \n",
      "             3641 0 days 02:28:27.301800       3.0      3.0   0.134431   \n",
      "             3642 0 days 02:28:27.313800       3.0      3.0   0.132441   \n",
      "\n",
      "                   pupilDiameter       plr      tepr  \n",
      "UserID trial                                          \n",
      "119    7     0          3.341255  3.445099 -0.103844  \n",
      "             1          3.407150  3.428439 -0.021289  \n",
      "             2          3.438255  3.414457  0.023798  \n",
      "             3          3.502731  3.392724  0.110007  \n",
      "             4          3.457649  3.386756  0.070893  \n",
      "...                          ...       ...       ...  \n",
      "             3638       3.141273  3.330566 -0.189292  \n",
      "             3639       2.976944  3.331837 -0.354893  \n",
      "             3640       2.996902  3.331405 -0.334503  \n",
      "             3641       2.871483  3.335325 -0.463843  \n",
      "             3642       3.124176  3.344466 -0.220290  \n",
      "\n",
      "[3643 rows x 7 columns]\n",
      "('120', 0)\n",
      "                                       time  methodID  modelID  luminance  \\\n",
      "UserID trial                                                                \n",
      "120    0     0       0 days 03:38:42.691400       2.0      0.0   0.162839   \n",
      "             1       0 days 03:38:42.701800       2.0      0.0   0.164952   \n",
      "             2       0 days 03:38:42.713400       2.0      0.0   0.167133   \n",
      "             3       0 days 03:38:42.724400       2.0      0.0   0.169046   \n",
      "             4       0 days 03:38:42.734900       2.0      0.0   0.171068   \n",
      "...                                     ...       ...      ...        ...   \n",
      "             5890    0 days 03:39:51.501800       2.0      0.0   0.158822   \n",
      "             5891    0 days 03:39:51.513900       2.0      0.0   0.157233   \n",
      "             5892    0 days 03:39:51.524900       2.0      0.0   0.155751   \n",
      "             5893 0 days 03:39:51.536699999       2.0      0.0   0.154434   \n",
      "             5894    0 days 03:39:51.546900       2.0      0.0   0.152972   \n",
      "\n",
      "                   pupilDiameter       plr      tepr  \n",
      "UserID trial                                          \n",
      "120    0     0          2.566025  2.491397  0.074627  \n",
      "             1          2.609467  2.486708  0.122759  \n",
      "             2          2.567703  2.481907  0.085796  \n",
      "             3          2.544052  2.477731  0.066321  \n",
      "             4          2.625168  2.473350  0.151818  \n",
      "...                          ...       ...       ...  \n",
      "             5890       2.668228  2.500419  0.167809  \n",
      "             5891       2.739616  2.504028  0.235588  \n",
      "             5892       2.761581  2.507413  0.254168  \n",
      "             5893       2.752625  2.510439  0.242186  \n",
      "             5894       2.647644  2.513813  0.133831  \n",
      "\n",
      "[5895 rows x 7 columns]\n",
      "('120', 1)\n",
      "                                    time  methodID  modelID  luminance  \\\n",
      "UserID trial                                                             \n",
      "120    1     0    0 days 03:44:17.674200       3.0      0.0   0.117243   \n",
      "             1    0 days 03:44:17.685700       3.0      0.0   0.117251   \n",
      "             2    0 days 03:44:17.696700       3.0      0.0   0.117994   \n",
      "             3    0 days 03:44:17.708100       3.0      0.0   0.119762   \n",
      "             4    0 days 03:44:17.720100       3.0      0.0   0.121442   \n",
      "...                                  ...       ...      ...        ...   \n",
      "             7554 0 days 03:45:49.597600       3.0      0.0   0.167370   \n",
      "             7555 0 days 03:45:49.608700       3.0      0.0   0.165976   \n",
      "             7556 0 days 03:45:49.619700       3.0      0.0   0.164487   \n",
      "             7557 0 days 03:45:49.642200       3.0      0.0   0.162015   \n",
      "             7558 0 days 03:45:49.653200       3.0      0.0   0.160736   \n",
      "\n",
      "                   pupilDiameter       plr      tepr  \n",
      "UserID trial                                          \n",
      "120    1     0          2.562439  2.602587 -0.040148  \n",
      "             1          2.636177  2.602566  0.033611  \n",
      "             2          2.673874  2.600592  0.073282  \n",
      "             3          2.504013  2.595916 -0.091903  \n",
      "             4          2.554115  2.591502 -0.037386  \n",
      "...                          ...       ...       ...  \n",
      "             7554       2.856491  2.481389  0.375103  \n",
      "             7555       2.885071  2.484450  0.400621  \n",
      "             7556       2.913521  2.487736  0.425785  \n",
      "             7557       2.903709  2.493237  0.410473  \n",
      "             7558       2.913231  2.496104  0.417127  \n",
      "\n",
      "[7559 rows x 7 columns]\n",
      "('120', 2)\n",
      "                                    time  methodID  modelID  luminance  \\\n",
      "UserID trial                                                             \n",
      "120    2     0    0 days 03:39:58.710100       2.0      1.0   0.106371   \n",
      "             1    0 days 03:39:58.720600       2.0      1.0   0.107456   \n",
      "             2    0 days 03:39:58.732600       2.0      1.0   0.108431   \n",
      "             3    0 days 03:39:58.743100       2.0      1.0   0.109248   \n",
      "             4    0 days 03:39:58.754700       2.0      1.0   0.110227   \n",
      "...                                  ...       ...      ...        ...   \n",
      "             5317 0 days 03:41:01.769000       2.0      1.0   0.153042   \n",
      "             5318 0 days 03:41:01.780000       2.0      1.0   0.151539   \n",
      "             5319 0 days 03:41:01.790400       2.0      1.0   0.150089   \n",
      "             5320 0 days 03:41:01.801700       2.0      1.0   0.148081   \n",
      "             5321 0 days 03:41:01.813000       2.0      1.0   0.146593   \n",
      "\n",
      "                   pupilDiameter       plr      tepr  \n",
      "UserID trial                                          \n",
      "120    2     0          2.808685  2.632145  0.176541  \n",
      "             1          2.810486  2.629138  0.181347  \n",
      "             2          2.888916  2.626448  0.262468  \n",
      "             3          2.883896  2.624201  0.259695  \n",
      "             4          2.893669  2.621518  0.272151  \n",
      "...                          ...       ...       ...  \n",
      "             5317       2.485428  2.513653 -0.028225  \n",
      "             5318       2.562531  2.517142  0.045389  \n",
      "             5319       2.519562  2.520529 -0.000967  \n",
      "             5320       2.543381  2.525249  0.018132  \n",
      "             5321       2.550026  2.528773  0.021253  \n",
      "\n",
      "[5322 rows x 7 columns]\n",
      "('120', 3)\n",
      "                                    time  methodID  modelID  luminance  \\\n",
      "UserID trial                                                             \n",
      "120    3     0    0 days 03:45:56.582500       3.0      1.0   0.106180   \n",
      "             1    0 days 03:45:56.605600       3.0      1.0   0.106959   \n",
      "             2    0 days 03:45:56.627700       3.0      1.0   0.109216   \n",
      "             3    0 days 03:45:56.649400       3.0      1.0   0.109192   \n",
      "             4    0 days 03:45:56.660800       3.0      1.0   0.108437   \n",
      "...                                  ...       ...      ...        ...   \n",
      "             6524 0 days 03:47:16.933200       3.0      1.0   0.148299   \n",
      "             6525 0 days 03:47:16.945500       3.0      1.0   0.146883   \n",
      "             6526 0 days 03:47:16.955700       3.0      1.0   0.145581   \n",
      "             6527 0 days 03:47:16.966200       3.0      1.0   0.144467   \n",
      "             6528 0 days 03:47:16.977300       3.0      1.0   0.143573   \n",
      "\n",
      "                   pupilDiameter       plr      tepr  \n",
      "UserID trial                                          \n",
      "120    3     0          3.064926  2.632675  0.432251  \n",
      "             1          3.100716  2.630513  0.470202  \n",
      "             2          3.111298  2.624289  0.487009  \n",
      "             3          3.009720  2.624355  0.385365  \n",
      "             4          3.110123  2.626431  0.483692  \n",
      "...                          ...       ...       ...  \n",
      "             6524       2.976875  2.524735  0.452140  \n",
      "             6525       2.937103  2.528083  0.409020  \n",
      "             6526       2.955833  2.531179  0.424654  \n",
      "             6527       2.914330  2.533839  0.380490  \n",
      "             6528       2.953239  2.535984  0.417255  \n",
      "\n",
      "[6529 rows x 7 columns]\n",
      "('120', 4)\n",
      "                                       time  methodID  modelID  luminance  \\\n",
      "UserID trial                                                                \n",
      "120    4     0       0 days 03:41:09.043000       2.0      2.0   0.167298   \n",
      "             1       0 days 03:41:09.054900       2.0      2.0   0.168683   \n",
      "             2       0 days 03:41:09.065300       2.0      2.0   0.170997   \n",
      "             3       0 days 03:41:09.077100       2.0      2.0   0.174121   \n",
      "             4       0 days 03:41:09.087700       2.0      2.0   0.176815   \n",
      "...                                     ...       ...      ...        ...   \n",
      "             4151    0 days 03:41:57.475100       2.0      2.0   0.157984   \n",
      "             4152    0 days 03:41:57.486600       2.0      2.0   0.156945   \n",
      "             4153    0 days 03:41:57.497300       2.0      2.0   0.156205   \n",
      "             4154    0 days 03:41:57.509100       2.0      2.0   0.155602   \n",
      "             4155 0 days 03:41:57.519599999       2.0      2.0   0.155151   \n",
      "\n",
      "                   pupilDiameter       plr      tepr  \n",
      "UserID trial                                          \n",
      "120    4     0          2.974464  2.481545  0.492919  \n",
      "             1          2.928780  2.478520  0.450260  \n",
      "             2          2.909882  2.473502  0.436380  \n",
      "             3          2.844925  2.466800  0.378125  \n",
      "             4          2.874084  2.461084  0.413001  \n",
      "...                          ...       ...       ...  \n",
      "             4151       2.515465  2.502320  0.013144  \n",
      "             4152       2.453667  2.504685 -0.051018  \n",
      "             4153       2.407524  2.506373 -0.098849  \n",
      "             4154       2.452950  2.507756 -0.054806  \n",
      "             4155       2.441910  2.508790 -0.066880  \n",
      "\n",
      "[4156 rows x 7 columns]\n",
      "('120', 5)\n",
      "                                    time  methodID  modelID  luminance  \\\n",
      "UserID trial                                                             \n",
      "120    5     0    0 days 03:47:24.130300       3.0      2.0   0.163264   \n",
      "             1    0 days 03:47:24.141300       3.0      2.0   0.163807   \n",
      "             2    0 days 03:47:24.152200       3.0      2.0   0.164809   \n",
      "             3    0 days 03:47:24.164200       3.0      2.0   0.165569   \n",
      "             4    0 days 03:47:24.174200       3.0      2.0   0.166530   \n",
      "...                                  ...       ...      ...        ...   \n",
      "             5545 0 days 03:48:30.197900       3.0      2.0   0.186609   \n",
      "             5546 0 days 03:48:30.208700       3.0      2.0   0.185569   \n",
      "             5547 0 days 03:48:30.221200       3.0      2.0   0.184757   \n",
      "             5548 0 days 03:48:30.232300       3.0      2.0   0.183515   \n",
      "             5549 0 days 03:48:30.243000       3.0      2.0   0.182576   \n",
      "\n",
      "                   pupilDiameter       plr      tepr  \n",
      "UserID trial                                          \n",
      "120    5     0          2.437683  2.490450 -0.052767  \n",
      "             1          2.481323  2.489244 -0.007921  \n",
      "             2          2.458244  2.487024 -0.028780  \n",
      "             3          2.437798  2.485345 -0.047548  \n",
      "             4          2.483818  2.483230  0.000588  \n",
      "...                          ...       ...       ...  \n",
      "             5545       2.520676  2.440802  0.079874  \n",
      "             5546       2.519325  2.442919  0.076406  \n",
      "             5547       2.506714  2.444579  0.062135  \n",
      "             5548       2.497520  2.447125  0.050395  \n",
      "             5549       2.507584  2.449060  0.058524  \n",
      "\n",
      "[5550 rows x 7 columns]\n",
      "('120', 6)\n",
      "                                       time  methodID  modelID  luminance  \\\n",
      "UserID trial                                                                \n",
      "120    6     0       0 days 03:42:04.649200       2.0      3.0   0.131579   \n",
      "             1       0 days 03:42:04.660200       2.0      3.0   0.131893   \n",
      "             2       0 days 03:42:04.671400       2.0      3.0   0.132357   \n",
      "             3       0 days 03:42:04.682400       2.0      3.0   0.132626   \n",
      "             4       0 days 03:42:04.693400       2.0      3.0   0.132884   \n",
      "...                                     ...       ...      ...        ...   \n",
      "             4205    0 days 03:42:54.459100       2.0      3.0   0.202745   \n",
      "             4206    0 days 03:42:54.470900       2.0      3.0   0.198480   \n",
      "             4207    0 days 03:42:54.482100       2.0      3.0   0.194866   \n",
      "             4208    0 days 03:42:54.492300       2.0      3.0   0.191289   \n",
      "             4209 0 days 03:42:54.504399999       2.0      3.0   0.186972   \n",
      "\n",
      "                   pupilDiameter       plr      tepr  \n",
      "UserID trial                                          \n",
      "120    6     0          2.719505  2.565479  0.154027  \n",
      "             1          2.764557  2.564688  0.199869  \n",
      "             2          2.800133  2.563523  0.236610  \n",
      "             3          2.788040  2.562848  0.225192  \n",
      "             4          2.872513  2.562202  0.310311  \n",
      "...                          ...       ...       ...  \n",
      "             4205       2.487259  2.409029  0.078229  \n",
      "             4206       2.453491  2.417235  0.036256  \n",
      "             4207       2.467285  2.424294  0.042991  \n",
      "             4208       2.440094  2.431380  0.008714  \n",
      "             4209       2.410316  2.440066 -0.029749  \n",
      "\n",
      "[4210 rows x 7 columns]\n",
      "('120', 7)\n",
      "                                       time  methodID  modelID  luminance  \\\n",
      "UserID trial                                                                \n",
      "120    7     0       0 days 03:48:37.472300       3.0      3.0   0.226242   \n",
      "             1       0 days 03:48:37.483700       3.0      3.0   0.237107   \n",
      "             2       0 days 03:48:37.494400       3.0      3.0   0.240183   \n",
      "             3       0 days 03:48:37.705600       3.0      3.0   0.212969   \n",
      "             4       0 days 03:48:37.717100       3.0      3.0   0.223001   \n",
      "...                                     ...       ...      ...        ...   \n",
      "             7148    0 days 03:50:04.042600       3.0      3.0   0.237888   \n",
      "             7149    0 days 03:50:04.053100       3.0      3.0   0.236174   \n",
      "             7150 0 days 03:50:04.064699999       3.0      3.0   0.234443   \n",
      "             7151    0 days 03:50:04.075200       3.0      3.0   0.233061   \n",
      "             7152    0 days 03:50:04.086300       3.0      3.0   0.231317   \n",
      "\n",
      "                   pupilDiameter       plr      tepr  \n",
      "UserID trial                                          \n",
      "120    7     0          2.817535  2.366189  0.451346  \n",
      "             1          2.768074  2.347667  0.420408  \n",
      "             2          2.775970  2.342564  0.433406  \n",
      "             3          2.815636  2.389906  0.425730  \n",
      "             4          2.830139  2.371867  0.458272  \n",
      "...                          ...       ...       ...  \n",
      "             7148       2.533401  2.346366  0.187036  \n",
      "             7149       2.537140  2.349226  0.187914  \n",
      "             7150       2.569878  2.352137  0.217741  \n",
      "             7151       2.589668  2.354474  0.235194  \n",
      "             7152       2.576057  2.357440  0.218617  \n",
      "\n",
      "[7153 rows x 7 columns]\n",
      "('121', 0)\n",
      "                                    time  methodID  modelID  luminance  \\\n",
      "UserID trial                                                             \n",
      "121    0     0    3 days 00:33:04.386900       2.0      0.0   0.116351   \n",
      "             1    3 days 00:33:04.399000       2.0      0.0   0.111308   \n",
      "             2    3 days 00:33:04.410000       2.0      0.0   0.105728   \n",
      "             3    3 days 00:33:04.420600       2.0      0.0   0.102918   \n",
      "             4    3 days 00:33:04.432000       2.0      0.0   0.101554   \n",
      "...                                  ...       ...      ...        ...   \n",
      "             4342 3 days 00:33:56.972800       2.0      0.0   0.141516   \n",
      "             4343 3 days 00:33:56.983800       2.0      0.0   0.137721   \n",
      "             4344 3 days 00:33:56.995300       2.0      0.0   0.134580   \n",
      "             4345 3 days 00:33:57.007400       2.0      0.0   0.131772   \n",
      "             4346 3 days 00:33:57.017800       2.0      0.0   0.127959   \n",
      "\n",
      "                   pupilDiameter       plr      tepr  \n",
      "UserID trial                                          \n",
      "121    0     0          3.214470  3.337507 -0.123037  \n",
      "             1          3.204628  3.368036 -0.163408  \n",
      "             2          3.257233  3.403215 -0.145982  \n",
      "             3          3.248337  3.421505 -0.173168  \n",
      "             4          3.228752  3.430525 -0.201773  \n",
      "...                          ...       ...       ...  \n",
      "             4342       2.931923  3.201541 -0.269618  \n",
      "             4343       2.867981  3.220413 -0.352432  \n",
      "             4344       2.880592  3.236447 -0.355855  \n",
      "             4345       2.893539  3.251112 -0.357572  \n",
      "             4346       2.883980  3.271536 -0.387557  \n",
      "\n",
      "[4347 rows x 7 columns]\n",
      "('121', 1)\n",
      "                                    time  methodID  modelID  luminance  \\\n",
      "UserID trial                                                             \n",
      "121    1     0    3 days 00:25:35.014200       3.0      0.0   0.142766   \n",
      "             1    3 days 00:25:35.024700       3.0      0.0   0.135935   \n",
      "             2    3 days 00:25:35.036200       3.0      0.0   0.132269   \n",
      "             3    3 days 00:25:35.046700       3.0      0.0   0.134074   \n",
      "             4    3 days 00:25:35.058200       3.0      0.0   0.137868   \n",
      "...                                  ...       ...      ...        ...   \n",
      "             6934 3 days 00:26:56.452400       3.0      0.0   0.164993   \n",
      "             6935 3 days 00:26:56.463900       3.0      0.0   0.159607   \n",
      "             6936 3 days 00:26:56.474400       3.0      0.0   0.155690   \n",
      "             6937 3 days 00:26:56.485900       3.0      0.0   0.151107   \n",
      "             6938 3 days 00:26:56.497400       3.0      0.0   0.148451   \n",
      "\n",
      "                   pupilDiameter       plr      tepr  \n",
      "UserID trial                                          \n",
      "121    1     0          3.289230  3.195443  0.093787  \n",
      "             1          3.199234  3.229481 -0.030246  \n",
      "             2          3.279427  3.248495  0.030931  \n",
      "             3          3.185066  3.239069 -0.054003  \n",
      "             4          3.185898  3.219669 -0.033771  \n",
      "...                          ...       ...       ...  \n",
      "             6934       2.674477  3.096194 -0.421718  \n",
      "             6935       2.715820  3.118725 -0.402905  \n",
      "             6936       2.767815  3.135698 -0.367884  \n",
      "             6937       2.713974  3.156213 -0.442239  \n",
      "             6938       2.663902  3.168437 -0.504534  \n",
      "\n",
      "[6939 rows x 7 columns]\n",
      "('121', 2)\n",
      "                                    time  methodID  modelID  luminance  \\\n",
      "UserID trial                                                             \n",
      "121    2     0    3 days 00:34:04.236200       2.0      1.0   0.175825   \n",
      "             1    3 days 00:34:04.248200       2.0      1.0   0.174593   \n",
      "             2    3 days 00:34:04.258700       2.0      1.0   0.170892   \n",
      "             3    3 days 00:34:04.269200       2.0      1.0   0.166013   \n",
      "             4    3 days 00:34:04.280700       2.0      1.0   0.162177   \n",
      "...                                  ...       ...      ...        ...   \n",
      "             4745 3 days 00:35:00.077100       2.0      1.0   0.158961   \n",
      "             4746 3 days 00:35:00.087700       2.0      1.0   0.157108   \n",
      "             4747 3 days 00:35:00.098200       2.0      1.0   0.155381   \n",
      "             4748 3 days 00:35:00.109700       2.0      1.0   0.154036   \n",
      "             4749 3 days 00:35:00.121200       2.0      1.0   0.152611   \n",
      "\n",
      "                   pupilDiameter       plr      tepr  \n",
      "UserID trial                                          \n",
      "121    2     0          3.051308  3.053597 -0.002290  \n",
      "             1          3.004089  3.058267 -0.054178  \n",
      "             2          3.154251  3.072560  0.081691  \n",
      "             3          3.055878  3.092031 -0.036153  \n",
      "             4          3.029739  3.107857 -0.078117  \n",
      "...                          ...       ...       ...  \n",
      "             4745       2.765579  3.121486 -0.355907  \n",
      "             4746       2.761047  3.129495 -0.368448  \n",
      "             4747       2.724731  3.137057 -0.412326  \n",
      "             4748       2.735573  3.143019 -0.407446  \n",
      "             4749       2.740067  3.149404 -0.409337  \n",
      "\n",
      "[4750 rows x 7 columns]\n",
      "('121', 3)\n",
      "                                    time  methodID  modelID  luminance  \\\n",
      "UserID trial                                                             \n",
      "121    3     0    3 days 00:27:03.405100       3.0      1.0   0.149808   \n",
      "             1    3 days 00:27:03.415600       3.0      1.0   0.155472   \n",
      "             2    3 days 00:27:03.427100       3.0      1.0   0.158850   \n",
      "             3    3 days 00:27:03.438200       3.0      1.0   0.160041   \n",
      "             4    3 days 00:27:03.449600       3.0      1.0   0.160535   \n",
      "...                                  ...       ...      ...        ...   \n",
      "             8802 3 days 00:28:45.789300       3.0      1.0   0.194134   \n",
      "             8803 3 days 00:28:45.799800       3.0      1.0   0.190865   \n",
      "             8804 3 days 00:28:45.811300       3.0      1.0   0.187181   \n",
      "             8805 3 days 00:28:45.821800       3.0      1.0   0.183028   \n",
      "             8806 3 days 00:28:45.834500       3.0      1.0   0.178941   \n",
      "\n",
      "                   pupilDiameter       plr      tepr  \n",
      "UserID trial                                          \n",
      "121    3     0          3.046944  3.162161 -0.115217  \n",
      "             1          3.133293  3.136658 -0.003365  \n",
      "             2          3.119041  3.121965 -0.002923  \n",
      "             3          3.032211  3.116874 -0.084663  \n",
      "             4          2.941528  3.114777 -0.173249  \n",
      "...                          ...       ...       ...  \n",
      "             8802       2.897232  2.989137 -0.091905  \n",
      "             8803       2.852890  2.999995 -0.147105  \n",
      "             8804       2.823692  3.012560 -0.188868  \n",
      "             8805       2.809776  3.027158 -0.217382  \n",
      "             8806       2.841202  3.041983 -0.200781  \n",
      "\n",
      "[8807 rows x 7 columns]\n",
      "('121', 4)\n",
      "                                       time  methodID  modelID  luminance  \\\n",
      "UserID trial                                                                \n",
      "121    4     0       3 days 00:35:07.206200       2.0      2.0   0.165795   \n",
      "             1       3 days 00:35:07.217700       2.0      2.0   0.159852   \n",
      "             2       3 days 00:35:07.228200       2.0      2.0   0.161205   \n",
      "             3       3 days 00:35:07.239700       2.0      2.0   0.165920   \n",
      "             4    3 days 00:35:07.250199999       2.0      2.0   0.171375   \n",
      "...                                     ...       ...      ...        ...   \n",
      "             4798    3 days 00:36:04.978300       2.0      2.0   0.127090   \n",
      "             4799    3 days 00:36:04.989800       2.0      2.0   0.127325   \n",
      "             4800    3 days 00:36:05.000300       2.0      2.0   0.127699   \n",
      "             4801    3 days 00:36:05.011900       2.0      2.0   0.127142   \n",
      "             4802    3 days 00:36:05.022400       2.0      2.0   0.125493   \n",
      "\n",
      "                   pupilDiameter       plr      tepr  \n",
      "UserID trial                                          \n",
      "121    4     0          3.336174  3.092918  0.243256  \n",
      "             1          3.369530  3.117678  0.251852  \n",
      "             2          3.358971  3.111941  0.247030  \n",
      "             3          3.363556  3.092412  0.271144  \n",
      "             4          3.345116  3.070671  0.274445  \n",
      "...                          ...       ...       ...  \n",
      "             4798       2.768120  3.276277 -0.508157  \n",
      "             4799       2.773643  3.274992 -0.501349  \n",
      "             4800       2.897598  3.272951 -0.375353  \n",
      "             4801       2.801682  3.275995 -0.474314  \n",
      "             4802       2.872345  3.285067 -0.412722  \n",
      "\n",
      "[4803 rows x 7 columns]\n",
      "('121', 5)\n",
      "                                    time  methodID  modelID  luminance  \\\n",
      "UserID trial                                                             \n",
      "121    5     0    3 days 00:28:52.974200       3.0      2.0   0.118815   \n",
      "             1    3 days 00:28:52.986300       3.0      2.0   0.122506   \n",
      "             2    3 days 00:28:52.996800       3.0      2.0   0.123611   \n",
      "             3    3 days 00:28:53.008300       3.0      2.0   0.124748   \n",
      "             4    3 days 00:28:53.018800       3.0      2.0   0.127524   \n",
      "...                                  ...       ...      ...        ...   \n",
      "             7583 3 days 00:30:19.987900       3.0      2.0   0.125619   \n",
      "             7584 3 days 00:30:19.999400       3.0      2.0   0.123775   \n",
      "             7585 3 days 00:30:20.009900       3.0      2.0   0.122468   \n",
      "             7586 3 days 00:30:20.021900       3.0      2.0   0.121497   \n",
      "             7587 3 days 00:30:20.033500       3.0      2.0   0.120256   \n",
      "\n",
      "                   pupilDiameter       plr      tepr  \n",
      "UserID trial                                          \n",
      "121    5     0          3.587601  3.323008  0.264593  \n",
      "             1          3.538521  3.301798  0.236723  \n",
      "             2          3.486702  3.295568  0.191133  \n",
      "             3          3.400368  3.289205  0.111163  \n",
      "             4          3.457588  3.273909  0.183680  \n",
      "...                          ...       ...       ...  \n",
      "             7583       2.932701  3.284370 -0.351669  \n",
      "             7584       2.945007  3.294644 -0.349637  \n",
      "             7585       2.928513  3.302019 -0.373506  \n",
      "             7586       3.003342  3.307539 -0.304197  \n",
      "             7587       2.995285  3.314659 -0.319374  \n",
      "\n",
      "[7588 rows x 7 columns]\n",
      "('121', 6)\n",
      "                                    time  methodID  modelID  luminance  \\\n",
      "UserID trial                                                             \n",
      "121    6     0    3 days 00:36:12.185600       2.0      3.0   0.134077   \n",
      "             1    3 days 00:36:12.197100       2.0      3.0   0.134957   \n",
      "             2    3 days 00:36:12.208600       2.0      3.0   0.135886   \n",
      "             3    3 days 00:36:12.219100       2.0      3.0   0.137232   \n",
      "             4    3 days 00:36:12.230600       2.0      3.0   0.138712   \n",
      "...                                  ...       ...      ...        ...   \n",
      "             5062 3 days 00:37:11.280200       2.0      3.0   0.111174   \n",
      "             5063 3 days 00:37:11.290800       2.0      3.0   0.109784   \n",
      "             5064 3 days 00:37:11.302800       2.0      3.0   0.108190   \n",
      "             5065 3 days 00:37:11.313300       2.0      3.0   0.106782   \n",
      "             5066 3 days 00:37:11.324800       2.0      3.0   0.105682   \n",
      "\n",
      "                   pupilDiameter       plr      tepr  \n",
      "UserID trial                                          \n",
      "121    6     0          3.301720  3.239052  0.062667  \n",
      "             1          3.272583  3.234504  0.038080  \n",
      "             2          3.290085  3.229734  0.060351  \n",
      "             3          3.253281  3.222883  0.030398  \n",
      "             4          3.272377  3.215428  0.056949  \n",
      "...                          ...       ...       ...  \n",
      "             5062       2.965042  3.368864 -0.403822  \n",
      "             5063       2.951286  3.377494 -0.426208  \n",
      "             5064       3.025093  3.387504 -0.362411  \n",
      "             5065       2.957123  3.396454 -0.439332  \n",
      "             5066       2.945343  3.403510 -0.458167  \n",
      "\n",
      "[5067 rows x 7 columns]\n",
      "('121', 7)\n",
      "                                    time  methodID  modelID  luminance  \\\n",
      "UserID trial                                                             \n",
      "121    7     0    3 days 00:30:27.363000       3.0      3.0   0.143455   \n",
      "             1    3 days 00:30:27.374600       3.0      3.0   0.145386   \n",
      "             2    3 days 00:30:27.385100       3.0      3.0   0.147643   \n",
      "             3    3 days 00:30:27.396100       3.0      3.0   0.149930   \n",
      "             4    3 days 00:30:27.406600       3.0      3.0   0.152926   \n",
      "...                                  ...       ...      ...        ...   \n",
      "             8863 3 days 00:32:08.547800       3.0      3.0   0.174558   \n",
      "             8864 3 days 00:32:08.558300       3.0      3.0   0.176277   \n",
      "             8865 3 days 00:32:08.570300       3.0      3.0   0.177489   \n",
      "             8866 3 days 00:32:08.580800       3.0      3.0   0.178447   \n",
      "             8867 3 days 00:32:08.591300       3.0      3.0   0.178737   \n",
      "\n",
      "                   pupilDiameter       plr      tepr  \n",
      "UserID trial                                          \n",
      "121    7     0          3.116364  3.192106 -0.075742  \n",
      "             1          3.111588  3.182852 -0.071264  \n",
      "             2          3.109520  3.172201 -0.062681  \n",
      "             3          3.110405  3.161600 -0.051195  \n",
      "             4          3.115417  3.147984 -0.032566  \n",
      "...                          ...       ...       ...  \n",
      "             8863       2.811256  3.058401 -0.247144  \n",
      "             8864       2.794807  3.051895 -0.257087  \n",
      "             8865       2.727959  3.047359 -0.319401  \n",
      "             8866       2.724342  3.043806 -0.319463  \n",
      "             8867       2.779495  3.042734 -0.263239  \n",
      "\n",
      "[8868 rows x 7 columns]\n",
      "('122', 0)\n",
      "                                    time  methodID  modelID  luminance  \\\n",
      "UserID trial                                                             \n",
      "122    0     0    3 days 01:24:53.163800       2.0      0.0   0.151291   \n",
      "             1    3 days 01:24:53.174900       2.0      0.0   0.154958   \n",
      "             2    3 days 01:24:53.185400       2.0      0.0   0.155700   \n",
      "             3    3 days 01:24:53.197400       2.0      0.0   0.155190   \n",
      "             4    3 days 01:24:53.207400       2.0      0.0   0.160169   \n",
      "...                                  ...       ...      ...        ...   \n",
      "             6457 3 days 01:26:06.638900       2.0      0.0   0.210303   \n",
      "             6458 3 days 01:26:06.650700       2.0      0.0   0.207321   \n",
      "             6459 3 days 01:26:06.661800       2.0      0.0   0.204222   \n",
      "             6460 3 days 01:26:06.672800       2.0      0.0   0.201012   \n",
      "             6461 3 days 01:26:06.684300       2.0      0.0   0.198255   \n",
      "\n",
      "                   pupilDiameter       plr      tepr  \n",
      "UserID trial                                          \n",
      "122    0     0          3.999893  3.657740  0.342153  \n",
      "             1          4.056618  3.641376  0.415242  \n",
      "             2          4.011673  3.638101  0.373572  \n",
      "             3          3.942337  3.640352  0.301986  \n",
      "             4          3.914459  3.618598  0.295861  \n",
      "...                          ...       ...       ...  \n",
      "             6457       3.604111  3.425488  0.178623  \n",
      "             6458       3.572136  3.435756  0.136380  \n",
      "             6459       3.546021  3.446580  0.099441  \n",
      "             6460       3.606026  3.457959  0.148067  \n",
      "             6461       3.460297  3.467869 -0.007572  \n",
      "\n",
      "[6462 rows x 7 columns]\n",
      "('122', 1)\n",
      "                                    time  methodID  modelID  luminance  \\\n",
      "UserID trial                                                             \n",
      "122    1     0    3 days 01:32:02.379500       3.0      0.0   0.163544   \n",
      "             1    3 days 01:32:02.390600       3.0      0.0   0.162558   \n",
      "             2    3 days 01:32:02.402600       3.0      0.0   0.162119   \n",
      "             3    3 days 01:32:02.413100       3.0      0.0   0.161982   \n",
      "             4    3 days 01:32:02.424600       3.0      0.0   0.157757   \n",
      "...                                  ...       ...      ...        ...   \n",
      "             5103 3 days 01:33:00.851500       3.0      0.0   0.132701   \n",
      "             5104 3 days 01:33:00.863500       3.0      0.0   0.133603   \n",
      "             5105 3 days 01:33:00.875000       3.0      0.0   0.133996   \n",
      "             5106 3 days 01:33:00.885100       3.0      0.0   0.132623   \n",
      "             5107 3 days 01:33:00.897400       3.0      0.0   0.129891   \n",
      "\n",
      "                   pupilDiameter       plr      tepr  \n",
      "UserID trial                                          \n",
      "122    1     0          4.166275  3.604134  0.562141  \n",
      "             1          4.291809  3.608335  0.683474  \n",
      "             2          4.251076  3.610212  0.640863  \n",
      "             3          4.306107  3.610800  0.695307  \n",
      "             4          4.161728  3.629071  0.532657  \n",
      "...                          ...       ...       ...  \n",
      "             5103       3.462013  3.745144 -0.283131  \n",
      "             5104       3.578285  3.740723 -0.162437  \n",
      "             5105       3.508102  3.738804 -0.230702  \n",
      "             5106       3.549347  3.745527 -0.196180  \n",
      "             5107       3.535652  3.759022 -0.223369  \n",
      "\n",
      "[5108 rows x 7 columns]\n",
      "('122', 2)\n",
      "                                    time  methodID  modelID  luminance  \\\n",
      "UserID trial                                                             \n",
      "122    2     0    3 days 01:26:13.868700       2.0      1.0   0.162785   \n",
      "             1    3 days 01:26:13.880300       2.0      1.0   0.165038   \n",
      "             2    3 days 01:26:13.891800       2.0      1.0   0.167198   \n",
      "             3    3 days 01:26:13.902600       2.0      1.0   0.169076   \n",
      "             4    3 days 01:26:13.913700       2.0      1.0   0.170401   \n",
      "...                                  ...       ...      ...        ...   \n",
      "             8495 3 days 01:27:50.167800       2.0      1.0   0.264399   \n",
      "             8496 3 days 01:27:50.178300       2.0      1.0   0.260660   \n",
      "             8497 3 days 01:27:50.190000       2.0      1.0   0.256527   \n",
      "             8498 3 days 01:27:50.200900       2.0      1.0   0.252869   \n",
      "             8499 3 days 01:27:50.212100       2.0      1.0   0.249420   \n",
      "\n",
      "                   pupilDiameter       plr      tepr  \n",
      "UserID trial                                          \n",
      "122    2     0          3.912727  3.607369  0.305358  \n",
      "             1          3.988762  3.597806  0.390956  \n",
      "             2          3.888519  3.588731  0.299788  \n",
      "             3          3.982254  3.580915  0.401339  \n",
      "             4          3.916451  3.575442  0.341009  \n",
      "...                          ...       ...       ...  \n",
      "             8495       3.575798  3.261939  0.313859  \n",
      "             8496       3.521172  3.271966  0.249206  \n",
      "             8497       3.542145  3.283255  0.258889  \n",
      "             8498       3.601646  3.293430  0.308216  \n",
      "             8499       3.517105  3.303183  0.213922  \n",
      "\n",
      "[8500 rows x 7 columns]\n",
      "('122', 3)\n",
      "                                    time  methodID  modelID  luminance  \\\n",
      "UserID trial                                                             \n",
      "122    3     0    3 days 01:33:07.926200       3.0      1.0   0.157840   \n",
      "             1    3 days 01:33:07.938500       3.0      1.0   0.158328   \n",
      "             2    3 days 01:33:07.948100       3.0      1.0   0.159339   \n",
      "             3    3 days 01:33:07.959400       3.0      1.0   0.160206   \n",
      "             4    3 days 01:33:07.970900       3.0      1.0   0.161165   \n",
      "...                                  ...       ...      ...        ...   \n",
      "             6330 3 days 01:34:19.891200       3.0      1.0   0.101482   \n",
      "             6331 3 days 01:34:19.903200       3.0      1.0   0.100744   \n",
      "             6332 3 days 01:34:19.913900       3.0      1.0   0.098818   \n",
      "             6333 3 days 01:34:19.925000       3.0      1.0   0.096102   \n",
      "             6334 3 days 01:34:19.936300       3.0      1.0   0.092858   \n",
      "\n",
      "                   pupilDiameter       plr      tepr  \n",
      "UserID trial                                          \n",
      "122    3     0          3.613182  3.628708 -0.015526  \n",
      "             1          3.919121  3.626585  0.292536  \n",
      "             2          3.878448  3.622190  0.256258  \n",
      "             3          4.037956  3.618437  0.419519  \n",
      "             4          4.051125  3.614304  0.436820  \n",
      "...                          ...       ...       ...  \n",
      "             6330       4.819023  3.910050  0.908973  \n",
      "             6331       4.713913  3.914244  0.799669  \n",
      "             6332       4.602966  3.925261  0.677705  \n",
      "             6333       4.642258  3.940972  0.701286  \n",
      "             6334       4.409256  3.959991  0.449265  \n",
      "\n",
      "[6335 rows x 7 columns]\n",
      "('122', 4)\n",
      "                                    time  methodID  modelID  luminance  \\\n",
      "UserID trial                                                             \n",
      "122    4     0    3 days 01:27:57.264000       2.0      2.0   0.150341   \n",
      "             1    3 days 01:27:57.275200       2.0      2.0   0.152936   \n",
      "             2    3 days 01:27:57.286000       2.0      2.0   0.155091   \n",
      "             3    3 days 01:27:57.297300       2.0      2.0   0.158352   \n",
      "             4    3 days 01:27:57.308300       2.0      2.0   0.162309   \n",
      "...                                  ...       ...      ...        ...   \n",
      "             7144 3 days 01:29:18.535900       2.0      2.0   0.144932   \n",
      "             7145 3 days 01:29:18.546900       2.0      2.0   0.143555   \n",
      "             7146 3 days 01:29:18.558400       2.0      2.0   0.144100   \n",
      "             7147 3 days 01:29:18.569300       2.0      2.0   0.145469   \n",
      "             7148 3 days 01:29:18.580800       2.0      2.0   0.144684   \n",
      "\n",
      "                   pupilDiameter       plr      tepr  \n",
      "UserID trial                                          \n",
      "122    4     0          4.197884  3.662027  0.535857  \n",
      "             1          4.132538  3.650367  0.482171  \n",
      "             2          4.096481  3.640789  0.455693  \n",
      "             3          4.146988  3.626477  0.520511  \n",
      "             4          4.240639  3.609401  0.631238  \n",
      "...                          ...       ...       ...  \n",
      "             7144       3.731300  3.686794  0.044507  \n",
      "             7145       3.928993  3.693198  0.235795  \n",
      "             7146       3.940689  3.690658  0.250031  \n",
      "             7147       3.950279  3.684304  0.265976  \n",
      "             7148       4.097099  3.687942  0.409158  \n",
      "\n",
      "[7149 rows x 7 columns]\n",
      "('122', 5)\n",
      "                                    time  methodID  modelID  luminance  \\\n",
      "UserID trial                                                             \n",
      "122    5     0    3 days 01:34:27.066800       3.0      2.0   0.147502   \n",
      "             1    3 days 01:34:27.077900       3.0      2.0   0.148251   \n",
      "             2    3 days 01:34:27.088400       3.0      2.0   0.148765   \n",
      "             3    3 days 01:34:27.099900       3.0      2.0   0.148574   \n",
      "             4    3 days 01:34:27.110400       3.0      2.0   0.147992   \n",
      "...                                  ...       ...      ...        ...   \n",
      "             7097 3 days 01:35:48.205300       3.0      2.0   0.145469   \n",
      "             7098 3 days 01:35:48.215800       3.0      2.0   0.144297   \n",
      "             7099 3 days 01:35:48.226800       3.0      2.0   0.142950   \n",
      "             7100 3 days 01:35:48.238200       3.0      2.0   0.141725   \n",
      "             7101 3 days 01:35:48.249700       3.0      2.0   0.140243   \n",
      "\n",
      "                   pupilDiameter       plr      tepr  \n",
      "UserID trial                                          \n",
      "122    5     0          4.191864  3.674948  0.516916  \n",
      "             1          4.099030  3.671522  0.427507  \n",
      "             2          4.041512  3.669179  0.372332  \n",
      "             3          4.071800  3.670050  0.401750  \n",
      "             4          4.078728  3.672706  0.406022  \n",
      "...                          ...       ...       ...  \n",
      "             7097       3.692574  3.684306  0.008268  \n",
      "             7098       3.737785  3.689742  0.048043  \n",
      "             7099       3.771111  3.696022  0.075088  \n",
      "             7100       3.791779  3.701769  0.090009  \n",
      "             7101       3.716682  3.708768  0.007915  \n",
      "\n",
      "[7102 rows x 7 columns]\n",
      "('122', 6)\n",
      "                                    time  methodID  modelID  luminance  \\\n",
      "UserID trial                                                             \n",
      "122    6     0    3 days 01:29:25.632700       2.0      3.0   0.195129   \n",
      "             1    3 days 01:29:25.643700       2.0      3.0   0.189710   \n",
      "             2    3 days 01:29:25.810700       2.0      3.0   0.179620   \n",
      "             3    3 days 01:29:25.822200       2.0      3.0   0.181706   \n",
      "             4    3 days 01:29:25.832700       2.0      3.0   0.180280   \n",
      "...                                  ...       ...      ...        ...   \n",
      "             7351 3 days 01:30:50.148300       2.0      3.0   0.199144   \n",
      "             7352 3 days 01:30:50.159200       2.0      3.0   0.197008   \n",
      "             7353 3 days 01:30:50.170800       2.0      3.0   0.194593   \n",
      "             7354 3 days 01:30:50.181300       2.0      3.0   0.192329   \n",
      "             7355 3 days 01:30:50.191800       2.0      3.0   0.189570   \n",
      "\n",
      "                   pupilDiameter       plr      tepr  \n",
      "UserID trial                                          \n",
      "122    6     0          4.198692  3.479259  0.719433  \n",
      "             1          3.972900  3.499400  0.473500  \n",
      "             2          4.237007  3.538283  0.698724  \n",
      "             3          4.146469  3.530096  0.616373  \n",
      "             4          4.259506  3.535686  0.723821  \n",
      "...                          ...       ...       ...  \n",
      "             7351       3.594704  3.464659  0.130045  \n",
      "             7352       3.543045  3.472393  0.070652  \n",
      "             7353       3.578873  3.481226  0.097647  \n",
      "             7354       3.508125  3.489600  0.018525  \n",
      "             7355       3.625259  3.499928  0.125332  \n",
      "\n",
      "[7356 rows x 7 columns]\n",
      "('122', 7)\n",
      "                                    time  methodID  modelID  luminance  \\\n",
      "UserID trial                                                             \n",
      "122    7     0    3 days 01:35:55.634500       3.0      3.0   0.141259   \n",
      "             1    3 days 01:35:55.646300       3.0      3.0   0.145066   \n",
      "             2    3 days 01:35:55.656800       3.0      3.0   0.148156   \n",
      "             3    3 days 01:35:55.668300       3.0      3.0   0.149821   \n",
      "             4    3 days 01:35:55.680300       3.0      3.0   0.149373   \n",
      "...                                  ...       ...      ...        ...   \n",
      "             5638 3 days 01:37:00.781400       3.0      3.0   0.202781   \n",
      "             5639 3 days 01:37:00.792000       3.0      3.0   0.201894   \n",
      "             5640 3 days 01:37:00.803200       3.0      3.0   0.201219   \n",
      "             5641 3 days 01:37:00.814700       3.0      3.0   0.199988   \n",
      "             5642 3 days 01:37:00.825200       3.0      3.0   0.198612   \n",
      "\n",
      "                   pupilDiameter       plr      tepr  \n",
      "UserID trial                                          \n",
      "122    7     0          4.232536  3.703969  0.528568  \n",
      "             1          4.305092  3.686173  0.618919  \n",
      "             2          4.327255  3.671957  0.655298  \n",
      "             3          4.383362  3.664384  0.718978  \n",
      "             4          4.290062  3.666414  0.623648  \n",
      "...                          ...       ...       ...  \n",
      "             5638       4.357285  3.451669  0.905615  \n",
      "             5639       4.343376  3.454817  0.888560  \n",
      "             5640       4.381195  3.457219  0.923976  \n",
      "             5641       4.350273  3.461625  0.888649  \n",
      "             5642       4.407326  3.466576  0.940749  \n",
      "\n",
      "[5643 rows x 7 columns]\n",
      "('124', 0)\n",
      "                                    time  methodID  modelID  luminance  \\\n",
      "UserID trial                                                             \n",
      "124    0     0    3 days 05:29:15.759800       2.0      0.0   0.161117   \n",
      "             1    3 days 05:29:15.770200       2.0      0.0   0.162099   \n",
      "             2    3 days 05:29:15.781700       2.0      0.0   0.163848   \n",
      "             3    3 days 05:29:15.803700       2.0      0.0   0.168896   \n",
      "             4    3 days 05:29:15.815100       2.0      0.0   0.169867   \n",
      "...                                  ...       ...      ...        ...   \n",
      "             8650 3 days 05:30:59.287200       2.0      0.0   0.147466   \n",
      "             8651 3 days 05:30:59.298700       2.0      0.0   0.145949   \n",
      "             8652 3 days 05:30:59.309800       2.0      0.0   0.144426   \n",
      "             8653 3 days 05:30:59.321800       2.0      0.0   0.142845   \n",
      "             8654 3 days 05:30:59.332400       2.0      0.0   0.141466   \n",
      "\n",
      "                   pupilDiameter       plr      tepr  \n",
      "UserID trial                                          \n",
      "124    0     0          3.364388  2.975339  0.389048  \n",
      "             1          3.416893  2.971777  0.445116  \n",
      "             2          3.278183  2.965478  0.312705  \n",
      "             3          3.225319  2.947635  0.277683  \n",
      "             4          3.406647  2.944263  0.462384  \n",
      "...                          ...       ...       ...  \n",
      "             8650       2.887779  3.026953 -0.139174  \n",
      "             8651       2.872993  3.032935 -0.159942  \n",
      "             8652       2.844788  3.038989 -0.194201  \n",
      "             8653       2.899384  3.045331 -0.145947  \n",
      "             8654       2.908386  3.050910 -0.142523  \n",
      "\n",
      "[8655 rows x 7 columns]\n",
      "('124', 1)\n",
      "                                    time  methodID  modelID  luminance  \\\n",
      "UserID trial                                                             \n",
      "124    1     0    3 days 05:38:15.112500       3.0      0.0   0.164479   \n",
      "             1    3 days 05:38:15.123000       3.0      0.0   0.166774   \n",
      "             2    3 days 05:38:15.134500       3.0      0.0   0.167172   \n",
      "             3    3 days 05:38:15.145000       3.0      0.0   0.163843   \n",
      "             4    3 days 05:38:15.156500       3.0      0.0   0.160021   \n",
      "...                                  ...       ...      ...        ...   \n",
      "             8501 3 days 05:39:52.666300       3.0      0.0   0.161207   \n",
      "             8502 3 days 05:39:52.676500       3.0      0.0   0.159504   \n",
      "             8503 3 days 05:39:52.688300       3.0      0.0   0.157704   \n",
      "             8504 3 days 05:39:52.698400       3.0      0.0   0.155941   \n",
      "             8505 3 days 05:39:52.709300       3.0      0.0   0.153824   \n",
      "\n",
      "                   pupilDiameter       plr      tepr  \n",
      "UserID trial                                          \n",
      "124    1     0          3.490402  2.963221  0.527181  \n",
      "             1          3.502274  2.955075  0.547199  \n",
      "             2          3.463913  2.953674  0.510239  \n",
      "             3          3.477531  2.965495  0.512037  \n",
      "             4          3.442360  2.979340  0.463020  \n",
      "...                          ...       ...       ...  \n",
      "             8501       2.815025  2.975013 -0.159987  \n",
      "             8502       2.803520  2.981236 -0.177716  \n",
      "             8503       2.783035  2.987879 -0.204844  \n",
      "             8504       2.822670  2.994451 -0.171781  \n",
      "             8505       2.850807  3.002426 -0.151619  \n",
      "\n",
      "[8506 rows x 7 columns]\n",
      "('124', 2)\n",
      "                                    time  methodID  modelID  luminance  \\\n",
      "UserID trial                                                             \n",
      "124    2     0    3 days 05:31:06.440200       2.0      1.0   0.145165   \n",
      "             1    3 days 05:31:06.450800       2.0      1.0   0.147999   \n",
      "             2    3 days 05:31:06.461900       2.0      1.0   0.149615   \n",
      "             3    3 days 05:31:06.473400       2.0      1.0   0.151715   \n",
      "             4    3 days 05:31:06.483900       2.0      1.0   0.153289   \n",
      "...                                  ...       ...      ...        ...   \n",
      "             9144 3 days 05:33:02.272700       2.0      1.0   0.130807   \n",
      "             9145 3 days 05:33:02.284200       2.0      1.0   0.129488   \n",
      "             9146 3 days 05:33:02.295700       2.0      1.0   0.128221   \n",
      "             9147 3 days 05:33:02.306700       2.0      1.0   0.126845   \n",
      "             9148 3 days 05:33:02.318200       2.0      1.0   0.125548   \n",
      "\n",
      "                   pupilDiameter       plr      tepr  \n",
      "UserID trial                                          \n",
      "124    2     0          3.468842  3.036045  0.432797  \n",
      "             1          3.411865  3.024866  0.387000  \n",
      "             2          3.387642  3.018567  0.369075  \n",
      "             3          3.489182  3.010468  0.478714  \n",
      "             4          3.456703  3.004457  0.452246  \n",
      "...                          ...       ...       ...  \n",
      "             9144       2.999199  3.095490 -0.096292  \n",
      "             9145       3.032394  3.101193 -0.068798  \n",
      "             9146       2.947006  3.106712 -0.159706  \n",
      "             9147       2.977020  3.112750 -0.135730  \n",
      "             9148       2.970337  3.118484 -0.148147  \n",
      "\n",
      "[9149 rows x 7 columns]\n",
      "('124', 3)\n",
      "                                    time  methodID  modelID  luminance  \\\n",
      "UserID trial                                                             \n",
      "124    3     0    3 days 05:39:59.729200       3.0      1.0   0.164110   \n",
      "             1    3 days 05:39:59.739600       3.0      1.0   0.164856   \n",
      "             2    3 days 05:39:59.751200       3.0      1.0   0.163796   \n",
      "             3    3 days 05:39:59.762300       3.0      1.0   0.161805   \n",
      "             4    3 days 05:39:59.772700       3.0      1.0   0.160185   \n",
      "...                                  ...       ...      ...        ...   \n",
      "             2586 3 days 05:40:30.436300       3.0      1.0   0.244779   \n",
      "             2587 3 days 05:40:30.447400       3.0      1.0   0.242460   \n",
      "             2588 3 days 05:40:30.457900       3.0      1.0   0.239908   \n",
      "             2589 3 days 05:40:30.469900       3.0      1.0   0.237479   \n",
      "             2590 3 days 05:40:30.480400       3.0      1.0   0.235047   \n",
      "\n",
      "                   pupilDiameter       plr      tepr  \n",
      "UserID trial                                          \n",
      "124    3     0          3.068161  2.964539  0.103622  \n",
      "             1          3.041267  2.961876  0.079391  \n",
      "             2          3.110306  2.965663  0.144642  \n",
      "             3          3.093086  2.972843  0.120244  \n",
      "             4          3.065689  2.978741  0.086948  \n",
      "...                          ...       ...       ...  \n",
      "             2586       2.728912  2.731957 -0.003045  \n",
      "             2587       2.725815  2.737288 -0.011473  \n",
      "             2588       2.631271  2.743235 -0.111964  \n",
      "             2589       2.694962  2.748974 -0.054013  \n",
      "             2590       2.696114  2.754800 -0.058686  \n",
      "\n",
      "[2591 rows x 7 columns]\n",
      "('124', 4)\n",
      "                                    time  methodID  modelID  luminance  \\\n",
      "UserID trial                                                             \n",
      "124    4     0    3 days 05:33:09.469900       2.0      2.0   0.210660   \n",
      "             1    3 days 05:33:09.480600       2.0      2.0   0.213027   \n",
      "             2    3 days 05:33:09.491600       2.0      2.0   0.214994   \n",
      "             3    3 days 05:33:09.502700       2.0      2.0   0.216718   \n",
      "             4    3 days 05:33:09.514200       2.0      2.0   0.217604   \n",
      "...                                  ...       ...      ...        ...   \n",
      "             9115 3 days 05:34:55.529800       2.0      2.0   0.222052   \n",
      "             9116 3 days 05:34:55.541400       2.0      2.0   0.214464   \n",
      "             9117 3 days 05:34:55.552300       2.0      2.0   0.207180   \n",
      "             9118 3 days 05:34:55.562900       2.0      2.0   0.199163   \n",
      "             9119 3 days 05:34:55.574900       2.0      2.0   0.191069   \n",
      "\n",
      "                   pupilDiameter       plr      tepr  \n",
      "UserID trial                                          \n",
      "124    4     0          3.189636  2.817780  0.371856  \n",
      "             1          3.167236  2.811284  0.355952  \n",
      "             2          3.215523  2.805952  0.409571  \n",
      "             3          3.165962  2.801328  0.364635  \n",
      "             4          3.191780  2.798968  0.392812  \n",
      "...                          ...       ...       ...  \n",
      "             9115       2.592834  2.787293 -0.194458  \n",
      "             9116       2.534393  2.807384 -0.272991  \n",
      "             9117       2.689545  2.827485 -0.137940  \n",
      "             9118       2.794006  2.850571 -0.056564  \n",
      "             9119       2.762428  2.874948 -0.112520  \n",
      "\n",
      "[9120 rows x 7 columns]\n",
      "('124', 5)\n",
      "                                     time  methodID  modelID  luminance  \\\n",
      "UserID trial                                                              \n",
      "124    5     0     3 days 05:40:37.555400       3.0      2.0   0.159208   \n",
      "             1     3 days 05:40:37.566900       3.0      2.0   0.161347   \n",
      "             2     3 days 05:40:37.577400       3.0      2.0   0.166961   \n",
      "             3     3 days 05:40:37.588400       3.0      2.0   0.175460   \n",
      "             4     3 days 05:40:37.599000       3.0      2.0   0.181047   \n",
      "...                                   ...       ...      ...        ...   \n",
      "             13924 3 days 05:43:22.465100       3.0      2.0   0.081459   \n",
      "             13925 3 days 05:43:22.475600       3.0      2.0   0.086300   \n",
      "             13926 3 days 05:43:22.487100       3.0      2.0   0.094638   \n",
      "             13927 3 days 05:43:22.497600       3.0      2.0   0.099110   \n",
      "             13928 3 days 05:43:22.509100       3.0      2.0   0.097424   \n",
      "\n",
      "                    pupilDiameter       plr      tepr  \n",
      "UserID trial                                           \n",
      "124    5     0           2.665985  2.982324 -0.316339  \n",
      "             1           2.602646  2.974504 -0.371858  \n",
      "             2           2.709358  2.954417 -0.245059  \n",
      "             3           2.623138  2.925174 -0.302036  \n",
      "             4           2.598114  2.906694 -0.308580  \n",
      "...                           ...       ...       ...  \n",
      "             13924       3.437225  3.340152  0.097073  \n",
      "             13925       3.470062  3.313069  0.156993  \n",
      "             13926       3.461464  3.268101  0.193363  \n",
      "             13927       3.548691  3.244831  0.303860  \n",
      "             13928       3.489136  3.253534  0.235601  \n",
      "\n",
      "[13929 rows x 7 columns]\n",
      "('124', 6)\n",
      "                                    time  methodID  modelID  luminance  \\\n",
      "UserID trial                                                             \n",
      "124    6     0    3 days 05:35:02.582600       2.0      3.0   0.147613   \n",
      "             1    3 days 05:35:02.594100       2.0      3.0   0.151080   \n",
      "             2    3 days 05:35:02.604600       2.0      3.0   0.154673   \n",
      "             3    3 days 05:35:02.615400       2.0      3.0   0.157852   \n",
      "             4    3 days 05:35:02.627000       2.0      3.0   0.160284   \n",
      "...                                  ...       ...      ...        ...   \n",
      "             7507 3 days 05:36:30.052200       2.0      3.0   0.211419   \n",
      "             7508 3 days 05:36:30.063000       2.0      3.0   0.210281   \n",
      "             7509 3 days 05:36:30.073600       2.0      3.0   0.208842   \n",
      "             7510 3 days 05:36:30.085100       2.0      3.0   0.207860   \n",
      "             7511 3 days 05:36:30.096500       2.0      3.0   0.206539   \n",
      "\n",
      "                   pupilDiameter       plr      tepr  \n",
      "UserID trial                                          \n",
      "124    6     0          3.342422  3.026376  0.316046  \n",
      "             1          3.323578  3.012906  0.310672  \n",
      "             2          3.359871  2.999217  0.360654  \n",
      "             3          3.364967  2.987330  0.377637  \n",
      "             4          3.416588  2.978378  0.438210  \n",
      "...                          ...       ...       ...  \n",
      "             7507       2.661232  2.815688 -0.154456  \n",
      "             7508       2.627319  2.818829 -0.191509  \n",
      "             7509       2.673134  2.822827 -0.149693  \n",
      "             7510       2.656456  2.825573 -0.169117  \n",
      "             7511       2.655838  2.829293 -0.173455  \n",
      "\n",
      "[7512 rows x 7 columns]\n",
      "('124', 7)\n",
      "                                    time  methodID  modelID  luminance  \\\n",
      "UserID trial                                                             \n",
      "124    7     0    3 days 05:43:29.627900       3.0      3.0   0.187011   \n",
      "             1    3 days 05:43:29.638900       3.0      3.0   0.190018   \n",
      "             2    3 days 05:43:29.651300       3.0      3.0   0.194546   \n",
      "             3    3 days 05:43:29.661800       3.0      3.0   0.200020   \n",
      "             4    3 days 05:43:29.672800       3.0      3.0   0.203548   \n",
      "...                                  ...       ...      ...        ...   \n",
      "             6362 3 days 05:44:43.392600       3.0      3.0   0.235325   \n",
      "             6363 3 days 05:44:43.404100       3.0      3.0   0.235291   \n",
      "             6364 3 days 05:44:43.414600       3.0      3.0   0.233287   \n",
      "             6365 3 days 05:44:43.426100       3.0      3.0   0.227551   \n",
      "             6366 3 days 05:44:43.436600       3.0      3.0   0.223236   \n",
      "\n",
      "                   pupilDiameter       plr      tepr  \n",
      "UserID trial                                          \n",
      "124    7     0          3.278587  2.887589  0.390998  \n",
      "             1          3.276520  2.878194  0.398325  \n",
      "             2          3.209686  2.864343  0.345344  \n",
      "             3          3.240921  2.848052  0.392869  \n",
      "             4          3.261032  2.837816  0.423216  \n",
      "...                          ...       ...       ...  \n",
      "             6362       2.490189  2.754130 -0.263941  \n",
      "             6363       2.458168  2.754211 -0.296043  \n",
      "             6364       2.475624  2.759063 -0.283439  \n",
      "             6365       2.431686  2.773255 -0.341569  \n",
      "             6366       2.428810  2.784235 -0.355425  \n",
      "\n",
      "[6367 rows x 7 columns]\n",
      "('125', 0)\n",
      "                                    time  methodID  modelID  luminance  \\\n",
      "UserID trial                                                             \n",
      "125    0     0    0 days 20:43:11.140000       2.0      0.0   0.147095   \n",
      "             1    0 days 20:43:11.152000       2.0      0.0   0.151594   \n",
      "             2    0 days 20:43:11.162500       2.0      0.0   0.156522   \n",
      "             3    0 days 20:43:11.174100       2.0      0.0   0.161144   \n",
      "             4    0 days 20:43:11.184600       2.0      0.0   0.165096   \n",
      "...                                  ...       ...      ...        ...   \n",
      "             5453 0 days 20:44:17.909200       2.0      0.0   0.199099   \n",
      "             5454 0 days 20:44:17.919600       2.0      0.0   0.196770   \n",
      "             5455 0 days 20:44:17.930200       2.0      0.0   0.194176   \n",
      "             5456 0 days 20:44:17.941700       2.0      0.0   0.191289   \n",
      "             5457 0 days 20:44:17.953200       2.0      0.0   0.188744   \n",
      "\n",
      "                   pupilDiameter       plr      tepr  \n",
      "UserID trial                                          \n",
      "125    0     0          4.141228  4.123387  0.017841  \n",
      "             1          3.960510  4.102625 -0.142115  \n",
      "             2          4.148193  4.080266  0.067927  \n",
      "             3          4.105705  4.059659  0.046046  \n",
      "             4          4.105438  4.042308  0.063130  \n",
      "...                          ...       ...       ...  \n",
      "             5453       3.694649  3.902908 -0.208260  \n",
      "             5454       3.754845  3.911918 -0.157074  \n",
      "             5455       3.667198  3.922042 -0.254844  \n",
      "             5456       3.788925  3.933421 -0.144495  \n",
      "             5457       3.812141  3.943551 -0.131409  \n",
      "\n",
      "[5458 rows x 7 columns]\n",
      "('125', 1)\n",
      "                                        time  methodID  modelID  luminance  \\\n",
      "UserID trial                                                                 \n",
      "125    1     0        0 days 20:34:19.117700       3.0      0.0   0.140723   \n",
      "             1        0 days 20:34:19.129200       3.0      0.0   0.142737   \n",
      "             2        0 days 20:34:19.139700       3.0      0.0   0.144663   \n",
      "             3        0 days 20:34:19.151700       3.0      0.0   0.145840   \n",
      "             4        0 days 20:34:19.162300       3.0      0.0   0.145709   \n",
      "...                                      ...       ...      ...        ...   \n",
      "             11161    0 days 20:36:26.245300       3.0      0.0   0.162969   \n",
      "             11162 0 days 20:36:26.256799999       3.0      0.0   0.160661   \n",
      "             11163 0 days 20:36:26.267299999       3.0      0.0   0.157787   \n",
      "             11164    0 days 20:36:26.278800       3.0      0.0   0.155154   \n",
      "             11165    0 days 20:36:26.290300       3.0      0.0   0.152418   \n",
      "\n",
      "                    pupilDiameter       plr      tepr  \n",
      "UserID trial                                           \n",
      "125    1     0           3.880440  4.153383 -0.272943  \n",
      "             1           3.890144  4.143828 -0.253684  \n",
      "             2           3.885986  4.134751 -0.248765  \n",
      "             3           3.884705  4.129240 -0.244535  \n",
      "             4           3.879074  4.129854 -0.250780  \n",
      "...                           ...       ...       ...  \n",
      "             11161       3.743942  4.051617 -0.307674  \n",
      "             11162       3.681030  4.061796 -0.380766  \n",
      "             11163       3.765656  4.074589 -0.308934  \n",
      "             11164       3.797165  4.086431 -0.289266  \n",
      "             11165       3.745850  4.098855 -0.353005  \n",
      "\n",
      "[11166 rows x 7 columns]\n",
      "('125', 2)\n",
      "                                    time  methodID  modelID  luminance  \\\n",
      "UserID trial                                                             \n",
      "125    2     0    0 days 20:44:25.061000       2.0      1.0   0.148860   \n",
      "             1    0 days 20:44:25.071100       2.0      1.0   0.161707   \n",
      "             2    0 days 20:44:25.082600       2.0      1.0   0.174530   \n",
      "             3    0 days 20:44:25.094100       2.0      1.0   0.183532   \n",
      "             4    0 days 20:44:25.104600       2.0      1.0   0.190811   \n",
      "...                                  ...       ...      ...        ...   \n",
      "             5677 0 days 20:45:32.184000       2.0      1.0   0.181671   \n",
      "             5678 0 days 20:45:32.195800       2.0      1.0   0.180712   \n",
      "             5679 0 days 20:45:32.206600       2.0      1.0   0.179299   \n",
      "             5680 0 days 20:45:32.218100       2.0      1.0   0.178475   \n",
      "             5681 0 days 20:45:32.228600       2.0      1.0   0.177572   \n",
      "\n",
      "                   pupilDiameter       plr      tepr  \n",
      "UserID trial                                          \n",
      "125    2     0          3.672180  4.115200 -0.443020  \n",
      "             1          3.636459  4.057172 -0.420713  \n",
      "             2          3.664040  4.001890 -0.337851  \n",
      "             3          3.672379  3.964593 -0.292215  \n",
      "             4          3.784927  3.935314 -0.150387  \n",
      "...                          ...       ...       ...  \n",
      "             5677       3.934601  3.972207 -0.037606  \n",
      "             5678       3.934196  3.976147 -0.041950  \n",
      "             5679       3.901695  3.981982 -0.080287  \n",
      "             5680       3.890160  3.985397 -0.095237  \n",
      "             5681       3.846611  3.989148 -0.142537  \n",
      "\n",
      "[5682 rows x 7 columns]\n",
      "('125', 3)\n",
      "                                       time  methodID  modelID  luminance  \\\n",
      "UserID trial                                                                \n",
      "125    3     0       0 days 20:36:33.498100       3.0      1.0   0.154317   \n",
      "             1       0 days 20:36:33.508600       3.0      1.0   0.155073   \n",
      "             2       0 days 20:36:33.520200       3.0      1.0   0.155684   \n",
      "             3    0 days 20:36:33.531699999       3.0      1.0   0.156799   \n",
      "             4       0 days 20:36:33.542200       3.0      1.0   0.158585   \n",
      "...                                     ...       ...      ...        ...   \n",
      "             8589    0 days 20:38:13.095000       3.0      1.0   0.175049   \n",
      "             8590    0 days 20:38:13.105500       3.0      1.0   0.172848   \n",
      "             8591    0 days 20:38:13.117500       3.0      1.0   0.170741   \n",
      "             8592    0 days 20:38:13.127500       3.0      1.0   0.168695   \n",
      "             8593    0 days 20:38:13.149600       3.0      1.0   0.164806   \n",
      "\n",
      "                   pupilDiameter       plr      tepr  \n",
      "UserID trial                                          \n",
      "125    3     0          3.757835  4.090219 -0.332384  \n",
      "             1          3.729317  4.086797 -0.357480  \n",
      "             2          3.751991  4.084039 -0.332047  \n",
      "             3          3.804550  4.079020 -0.274470  \n",
      "             4          3.780609  4.071024 -0.290415  \n",
      "...                          ...       ...       ...  \n",
      "             8589       3.673935  3.999706 -0.325771  \n",
      "             8590       3.660286  4.008996 -0.348710  \n",
      "             8591       3.601051  4.017957 -0.416905  \n",
      "             8592       3.687553  4.026725 -0.339171  \n",
      "             8593       3.690941  4.043572 -0.352631  \n",
      "\n",
      "[8594 rows x 7 columns]\n",
      "('125', 4)\n",
      "                                    time  methodID  modelID  luminance  \\\n",
      "UserID trial                                                             \n",
      "125    4     0    0 days 20:45:39.136200       2.0      2.0   0.137535   \n",
      "             1    0 days 20:45:39.147700       2.0      2.0   0.137519   \n",
      "             2    0 days 20:45:39.158200       2.0      2.0   0.137541   \n",
      "             3    0 days 20:45:39.169200       2.0      2.0   0.138385   \n",
      "             4    0 days 20:45:39.180700       2.0      2.0   0.139499   \n",
      "...                                  ...       ...      ...        ...   \n",
      "             5149 0 days 20:46:40.706800       2.0      2.0   0.171829   \n",
      "             5150 0 days 20:46:40.717500       2.0      2.0   0.167400   \n",
      "             5151 0 days 20:46:40.750600       2.0      2.0   0.153483   \n",
      "             5152 0 days 20:46:40.761600       2.0      2.0   0.148362   \n",
      "             5153 0 days 20:46:40.773600       2.0      2.0   0.144307   \n",
      "\n",
      "                   pupilDiameter       plr      tepr  \n",
      "UserID trial                                          \n",
      "125    4     0          4.250214  4.168653  0.081560  \n",
      "             1          4.341972  4.168729  0.173244  \n",
      "             2          4.287392  4.168625  0.118767  \n",
      "             3          4.270058  4.164563  0.105494  \n",
      "             4          4.383110  4.159223  0.223887  \n",
      "...                          ...       ...       ...  \n",
      "             5149       3.327248  4.013320 -0.686072  \n",
      "             5150       3.398384  4.032309 -0.633924  \n",
      "             5151       3.602135  4.094003 -0.491868  \n",
      "             5152       2.900879  4.117507 -1.216628  \n",
      "             5153       3.000793  4.136424 -1.135631  \n",
      "\n",
      "[5154 rows x 7 columns]\n",
      "('125', 5)\n",
      "                                    time  methodID  modelID  luminance  \\\n",
      "UserID trial                                                             \n",
      "125    5     0    0 days 20:38:20.169400       3.0      2.0   0.186501   \n",
      "             1    0 days 20:38:20.179900       3.0      2.0   0.192902   \n",
      "             2    0 days 20:38:20.190400       3.0      2.0   0.196356   \n",
      "             3    0 days 20:38:20.201900       3.0      2.0   0.197238   \n",
      "             4    0 days 20:38:20.213500       3.0      2.0   0.194289   \n",
      "...                                  ...       ...      ...        ...   \n",
      "             6778 0 days 20:39:39.653100       3.0      2.0   0.196690   \n",
      "             6779 0 days 20:39:39.663600       3.0      2.0   0.194716   \n",
      "             6780 0 days 20:39:39.675600       3.0      2.0   0.192555   \n",
      "             6781 0 days 20:39:39.687200       3.0      2.0   0.190619   \n",
      "             6782 0 days 20:39:39.697600       3.0      2.0   0.188410   \n",
      "\n",
      "                   pupilDiameter       plr      tepr  \n",
      "UserID trial                                          \n",
      "125    5     0          3.445808  3.952559 -0.506750  \n",
      "             1          3.504730  3.927049 -0.422319  \n",
      "             2          3.546898  3.913525 -0.366627  \n",
      "             3          3.608528  3.910101 -0.301573  \n",
      "             4          3.625549  3.921598 -0.296048  \n",
      "...                          ...       ...       ...  \n",
      "             6778       3.800583  3.912229 -0.111646  \n",
      "             6779       3.815414  3.919925 -0.104510  \n",
      "             6780       3.809723  3.928416 -0.118693  \n",
      "             6781       3.784264  3.936078 -0.151814  \n",
      "             6782       3.826477  3.944887 -0.118410  \n",
      "\n",
      "[6783 rows x 7 columns]\n",
      "('125', 6)\n",
      "                                    time  methodID  modelID  luminance  \\\n",
      "UserID trial                                                             \n",
      "125    6     0    0 days 20:46:47.899900       2.0      3.0   0.182773   \n",
      "             1    0 days 20:46:47.922400       2.0      3.0   0.189528   \n",
      "             2    0 days 20:46:47.945600       2.0      3.0   0.194640   \n",
      "             3    0 days 20:46:47.968600       2.0      3.0   0.198971   \n",
      "             4    0 days 20:46:47.991500       2.0      3.0   0.203917   \n",
      "...                                  ...       ...      ...        ...   \n",
      "             6055 0 days 20:47:59.090500       2.0      3.0   0.099239   \n",
      "             6056 0 days 20:47:59.102500       2.0      3.0   0.098056   \n",
      "             6057 0 days 20:47:59.114100       2.0      3.0   0.096934   \n",
      "             6058 0 days 20:47:59.124600       2.0      3.0   0.095499   \n",
      "             6059 0 days 20:47:59.135100       2.0      3.0   0.094135   \n",
      "\n",
      "                   pupilDiameter       plr      tepr  \n",
      "UserID trial                                          \n",
      "125    6     0          3.555725  3.967692 -0.411967  \n",
      "             1          3.476517  3.940422 -0.463905  \n",
      "             2          3.517334  3.920225 -0.402891  \n",
      "             3          3.527191  3.903402 -0.376211  \n",
      "             4          3.455704  3.884516 -0.428813  \n",
      "...                          ...       ...       ...  \n",
      "             6055       4.801025  4.366611  0.434414  \n",
      "             6056       4.809639  4.373175  0.436464  \n",
      "             6057       4.809937  4.379429  0.430507  \n",
      "             6058       4.823029  4.387466  0.435562  \n",
      "             6059       4.824402  4.395139  0.429263  \n",
      "\n",
      "[6060 rows x 7 columns]\n",
      "('125', 7)\n",
      "                                     time  methodID  modelID  luminance  \\\n",
      "UserID trial                                                              \n",
      "125    7     0     0 days 20:39:46.905500       3.0      3.0   0.182749   \n",
      "             1     0 days 20:39:46.917000       3.0      3.0   0.182923   \n",
      "             2     0 days 20:39:46.927500       3.0      3.0   0.182945   \n",
      "             3     0 days 20:39:47.104300       3.0      3.0   0.152814   \n",
      "             4     0 days 20:39:47.116300       3.0      3.0   0.153908   \n",
      "...                                   ...       ...      ...        ...   \n",
      "             11438 0 days 20:41:58.442800       3.0      3.0   0.161942   \n",
      "             11439 0 days 20:41:58.453300       3.0      3.0   0.160225   \n",
      "             11440 0 days 20:41:58.463800       3.0      3.0   0.158561   \n",
      "             11441 0 days 20:41:58.475300       3.0      3.0   0.157352   \n",
      "             11442 0 days 20:41:58.486800       3.0      3.0   0.156152   \n",
      "\n",
      "                    pupilDiameter       plr      tepr  \n",
      "UserID trial                                           \n",
      "125    7     0           4.010544  3.967790  0.042754  \n",
      "             1           3.988739  3.967081  0.021658  \n",
      "             2           3.976059  3.966990  0.009069  \n",
      "             3           3.520363  4.097053 -0.576690  \n",
      "             4           3.640564  4.092072 -0.451509  \n",
      "...                           ...       ...       ...  \n",
      "             11438       3.491013  4.056136 -0.565123  \n",
      "             11439       3.489059  4.063726 -0.574667  \n",
      "             11440       3.494965  4.071133 -0.576168  \n",
      "             11441       3.483376  4.076538 -0.593163  \n",
      "             11442       3.479782  4.081932 -0.602150  \n",
      "\n",
      "[11443 rows x 7 columns]\n",
      "('126', 0)\n",
      "                                    time  methodID  modelID  luminance  \\\n",
      "UserID trial                                                             \n",
      "126    0     0    1 days 00:34:21.169700       2.0      0.0   0.205979   \n",
      "             1    1 days 00:34:21.181200       2.0      0.0   0.208118   \n",
      "             2    1 days 00:34:21.192700       2.0      0.0   0.210750   \n",
      "             3    1 days 00:34:21.203700       2.0      0.0   0.213529   \n",
      "             4    1 days 00:34:21.215200       2.0      0.0   0.216139   \n",
      "...                                  ...       ...      ...        ...   \n",
      "             7347 1 days 00:36:05.053300       2.0      0.0   0.203147   \n",
      "             7348 1 days 00:36:05.064800       2.0      0.0   0.196966   \n",
      "             7349 1 days 00:36:05.075300       2.0      0.0   0.190643   \n",
      "             7350 1 days 00:36:05.087300       2.0      0.0   0.184677   \n",
      "             7351 1 days 00:36:05.097900       2.0      0.0   0.179947   \n",
      "\n",
      "                   pupilDiameter       plr      tepr  \n",
      "UserID trial                                          \n",
      "126    0     0          2.449623  2.410263  0.039360  \n",
      "             1          2.521156  2.405977  0.115180  \n",
      "             2          2.523186  2.400764  0.122422  \n",
      "             3          2.516876  2.395337  0.121540  \n",
      "             4          2.548225  2.390312  0.157913  \n",
      "...                          ...       ...       ...  \n",
      "             7347       2.535393  2.416015  0.119378  \n",
      "             7348       2.479736  2.428864  0.050873  \n",
      "             7349       2.471344  2.442440  0.028904  \n",
      "             7350       2.504112  2.455663  0.048449  \n",
      "             7351       2.395470  2.466440 -0.070971  \n",
      "\n",
      "[7352 rows x 7 columns]\n",
      "('126', 1)\n",
      "                                    time  methodID  modelID  luminance  \\\n",
      "UserID trial                                                             \n",
      "126    1     0    1 days 00:43:47.209900       3.0      0.0   0.237872   \n",
      "             1    1 days 00:43:47.220400       3.0      0.0   0.240717   \n",
      "             2    1 days 00:43:47.231900       3.0      0.0   0.243496   \n",
      "             3    1 days 00:43:47.243400       3.0      0.0   0.246925   \n",
      "             4    1 days 00:43:47.253900       3.0      0.0   0.250801   \n",
      "...                                  ...       ...      ...        ...   \n",
      "             6387 1 days 00:45:12.213600       3.0      0.0   0.076447   \n",
      "             6388 1 days 00:45:12.224100       3.0      0.0   0.075491   \n",
      "             6389 1 days 00:45:12.235600       3.0      0.0   0.074909   \n",
      "             6390 1 days 00:45:12.247600       3.0      0.0   0.074337   \n",
      "             6391 1 days 00:45:12.258100       3.0      0.0   0.073443   \n",
      "\n",
      "                   pupilDiameter       plr      tepr  \n",
      "UserID trial                                          \n",
      "126    1     0          3.232811  2.350996  0.881815  \n",
      "             1          3.224648  2.346167  0.878480  \n",
      "             2          3.172829  2.341520  0.831308  \n",
      "             3          3.139374  2.335877  0.803496  \n",
      "             4          3.151413  2.329618  0.821795  \n",
      "...                          ...       ...       ...  \n",
      "             6387       2.706223  2.782181 -0.075958  \n",
      "             6388       2.724716  2.785955 -0.061239  \n",
      "             6389       2.706161  2.788265 -0.082104  \n",
      "             6390       2.619667  2.790541 -0.170874  \n",
      "             6391       2.653114  2.794108 -0.140994  \n",
      "\n",
      "[6392 rows x 7 columns]\n",
      "('126', 2)\n",
      "                                    time  methodID  modelID  luminance  \\\n",
      "UserID trial                                                             \n",
      "126    2     0    1 days 00:36:12.383700       2.0      1.0   0.220675   \n",
      "             1    1 days 00:36:12.394200       2.0      1.0   0.223485   \n",
      "             2    1 days 00:36:12.405700       2.0      1.0   0.226921   \n",
      "             3    1 days 00:36:12.417300       2.0      1.0   0.232116   \n",
      "             4    1 days 00:36:12.427800       2.0      1.0   0.239121   \n",
      "...                                  ...       ...      ...        ...   \n",
      "             9179 1 days 00:38:17.934800       2.0      1.0   0.184587   \n",
      "             9180 1 days 00:38:17.945300       2.0      1.0   0.181125   \n",
      "             9181 1 days 00:38:17.957300       2.0      1.0   0.177811   \n",
      "             9182 1 days 00:38:17.968400       2.0      1.0   0.175439   \n",
      "             9183 1 days 00:38:17.978900       2.0      1.0   0.173416   \n",
      "\n",
      "                   pupilDiameter       plr      tepr  \n",
      "UserID trial                                          \n",
      "126    2     0          2.723724  2.381737  0.341987  \n",
      "             1          2.679649  2.376524  0.303125  \n",
      "             2          2.679993  2.370254  0.309739  \n",
      "             3          2.771744  2.360981  0.410763  \n",
      "             4          2.745552  2.348866  0.396686  \n",
      "...                          ...       ...       ...  \n",
      "             9179       2.453590  2.455864 -0.002274  \n",
      "             9180       2.552055  2.463731  0.088325  \n",
      "             9181       2.556450  2.471393  0.085057  \n",
      "             9182       2.511536  2.476960  0.034576  \n",
      "             9183       2.559998  2.481760  0.078238  \n",
      "\n",
      "[9184 rows x 7 columns]\n",
      "('126', 3)\n",
      "                                     time  methodID  modelID  luminance  \\\n",
      "UserID trial                                                              \n",
      "126    3     0     1 days 00:45:19.388100       3.0      1.0   0.163163   \n",
      "             1     1 days 00:45:19.398700       3.0      1.0   0.165813   \n",
      "             2     1 days 00:45:19.410200       3.0      1.0   0.168441   \n",
      "             3     1 days 00:45:19.420700       3.0      1.0   0.171151   \n",
      "             4     1 days 00:45:19.432200       3.0      1.0   0.173551   \n",
      "...                                   ...       ...      ...        ...   \n",
      "             11517 1 days 00:47:54.591500       3.0      1.0   0.084118   \n",
      "             11518 1 days 00:47:54.602500       3.0      1.0   0.083296   \n",
      "             11519 1 days 00:47:54.614000       3.0      1.0   0.082002   \n",
      "             11520 1 days 00:47:54.624600       3.0      1.0   0.080394   \n",
      "             11521 1 days 00:47:54.635000       3.0      1.0   0.079159   \n",
      "\n",
      "                    pupilDiameter       plr      tepr  \n",
      "UserID trial                                           \n",
      "126    3     0           2.599319  2.506883  0.092436  \n",
      "             1           2.603111  2.500261  0.102851  \n",
      "             2           2.608200  2.493783  0.114417  \n",
      "             3           2.609398  2.487196  0.122202  \n",
      "             4           2.612305  2.481440  0.130865  \n",
      "...                           ...       ...       ...  \n",
      "             11517       3.084900  2.752551  0.332349  \n",
      "             11518       3.002266  2.755668  0.246598  \n",
      "             11519       3.149307  2.760608  0.388699  \n",
      "             11520       3.172485  2.766788  0.405697  \n",
      "             11521       3.004288  2.771570  0.232718  \n",
      "\n",
      "[11522 rows x 7 columns]\n",
      "('126', 4)\n",
      "                                    time  methodID  modelID  luminance  \\\n",
      "UserID trial                                                             \n",
      "126    4     0    1 days 00:38:25.064600       2.0      2.0   0.144648   \n",
      "             1    1 days 00:38:25.076200       2.0      2.0   0.147375   \n",
      "             2    1 days 00:38:25.086200       2.0      2.0   0.150368   \n",
      "             3    1 days 00:38:25.098300       2.0      2.0   0.152890   \n",
      "             4    1 days 00:38:25.108800       2.0      2.0   0.155419   \n",
      "...                                  ...       ...      ...        ...   \n",
      "             8983 1 days 00:40:32.848200       2.0      2.0   0.146574   \n",
      "             8984 1 days 00:40:32.858700       2.0      2.0   0.145945   \n",
      "             8985 1 days 00:40:32.870200       2.0      2.0   0.145755   \n",
      "             8986 1 days 00:40:32.880700       2.0      2.0   0.146089   \n",
      "             8987 1 days 00:40:32.892200       2.0      2.0   0.145796   \n",
      "\n",
      "                   pupilDiameter       plr      tepr  \n",
      "UserID trial                                          \n",
      "126    4     0          3.108215  2.555763  0.552452  \n",
      "             1          3.131187  2.548267  0.582921  \n",
      "             2          3.144051  2.540160  0.603891  \n",
      "             3          3.172974  2.533426  0.639548  \n",
      "             4          3.099571  2.526760  0.572812  \n",
      "...                          ...       ...       ...  \n",
      "             8983       2.822327  2.550457  0.271869  \n",
      "             8984       2.830078  2.552185  0.277893  \n",
      "             8985       2.795288  2.552708  0.242580  \n",
      "             8986       2.839806  2.551788  0.288017  \n",
      "             8987       2.773956  2.552595  0.221362  \n",
      "\n",
      "[8988 rows x 7 columns]\n",
      "('126', 5)\n",
      "                                    time  methodID  modelID  luminance  \\\n",
      "UserID trial                                                             \n",
      "126    5     0    1 days 00:48:01.632500       3.0      2.0   0.134916   \n",
      "             1    1 days 00:48:01.644000       3.0      2.0   0.134938   \n",
      "             2    1 days 00:48:01.654500       3.0      2.0   0.134243   \n",
      "             3    1 days 00:48:01.665100       3.0      2.0   0.133526   \n",
      "             4    1 days 00:48:01.676600       3.0      2.0   0.132660   \n",
      "...                                  ...       ...      ...        ...   \n",
      "             8464 1 days 00:49:53.756000       3.0      2.0   0.151446   \n",
      "             8465 1 days 00:49:53.767600       3.0      2.0   0.149919   \n",
      "             8466 1 days 00:49:53.778600       3.0      2.0   0.148679   \n",
      "             8467 1 days 00:49:53.790100       3.0      2.0   0.147083   \n",
      "             8468 1 days 00:49:53.800700       3.0      2.0   0.145633   \n",
      "\n",
      "                   pupilDiameter       plr      tepr  \n",
      "UserID trial                                          \n",
      "126    5     0          2.917839  2.583397  0.334442  \n",
      "             1          2.851028  2.583333  0.267696  \n",
      "             2          2.841812  2.585361  0.256451  \n",
      "             3          2.718643  2.587459  0.131184  \n",
      "             4          2.747787  2.590003  0.157784  \n",
      "...                          ...       ...       ...  \n",
      "             8464       2.830292  2.537271  0.293020  \n",
      "             8465       2.791481  2.541367  0.250114  \n",
      "             8466       2.891525  2.544721  0.346805  \n",
      "             8467       2.572021  2.549065  0.022957  \n",
      "             8468       2.815269  2.553045  0.262224  \n",
      "\n",
      "[8469 rows x 7 columns]\n",
      "('126', 6)\n",
      "                                    time  methodID  modelID  luminance  \\\n",
      "UserID trial                                                             \n",
      "126    6     0    1 days 00:40:40.244900       2.0      3.0   0.126389   \n",
      "             1    1 days 00:40:40.255000       2.0      3.0   0.128042   \n",
      "             2    1 days 00:40:40.266600       2.0      3.0   0.130432   \n",
      "             3    1 days 00:40:40.276800       2.0      3.0   0.133224   \n",
      "             4    1 days 00:40:40.288300       2.0      3.0   0.135781   \n",
      "...                                  ...       ...      ...        ...   \n",
      "             8241 1 days 00:42:36.643900       2.0      3.0   0.151254   \n",
      "             8242 1 days 00:42:36.654800       2.0      3.0   0.148676   \n",
      "             8243 1 days 00:42:36.665800       2.0      3.0   0.146046   \n",
      "             8244 1 days 00:42:36.677300       2.0      3.0   0.143298   \n",
      "             8245 1 days 00:42:36.687900       2.0      3.0   0.140548   \n",
      "\n",
      "                   pupilDiameter       plr      tepr  \n",
      "UserID trial                                          \n",
      "126    6     0          2.992622  2.608781  0.383841  \n",
      "             1          2.955772  2.603770  0.352002  \n",
      "             2          2.897064  2.596605  0.300460  \n",
      "             3          2.962860  2.588345  0.374515  \n",
      "             4          2.963120  2.580886  0.382234  \n",
      "...                          ...       ...       ...  \n",
      "             8241       3.239899  2.537785  0.702114  \n",
      "             8242       3.146622  2.544729  0.601893  \n",
      "             8243       3.095642  2.551909  0.543733  \n",
      "             8244       3.002968  2.559516  0.443452  \n",
      "             8245       2.736237  2.567238  0.168999  \n",
      "\n",
      "[8246 rows x 7 columns]\n",
      "('126', 7)\n",
      "                                    time  methodID  modelID  luminance  \\\n",
      "UserID trial                                                             \n",
      "126    7     0    1 days 00:50:00.830200       3.0      3.0   0.087297   \n",
      "             1    1 days 00:50:00.841200       3.0      3.0   0.088448   \n",
      "             2    1 days 00:50:00.852700       3.0      3.0   0.089515   \n",
      "             3    1 days 00:50:00.864300       3.0      3.0   0.090586   \n",
      "             4    1 days 00:50:00.875800       3.0      3.0   0.091775   \n",
      "...                                  ...       ...      ...        ...   \n",
      "             8341 1 days 00:51:51.499600       3.0      3.0   0.187333   \n",
      "             8342 1 days 00:51:51.511200       3.0      3.0   0.186202   \n",
      "             8343 1 days 00:51:51.521800       3.0      3.0   0.185046   \n",
      "             8344 1 days 00:51:51.533200       3.0      3.0   0.183964   \n",
      "             8345 1 days 00:51:51.543700       3.0      3.0   0.183197   \n",
      "\n",
      "                   pupilDiameter       plr      tepr  \n",
      "UserID trial                                          \n",
      "126    7     0          2.977699  2.740610  0.237089  \n",
      "             1          2.956879  2.736336  0.220542  \n",
      "             2          2.936752  2.732395  0.204357  \n",
      "             3          3.033112  2.728464  0.304647  \n",
      "             4          2.863907  2.724123  0.139784  \n",
      "...                          ...       ...       ...  \n",
      "             8341       2.474922  2.449724  0.025198  \n",
      "             8342       2.562996  2.452244  0.110752  \n",
      "             8343       2.450485  2.454833 -0.004347  \n",
      "             8344       2.528885  2.457269  0.071615  \n",
      "             8345       2.400200  2.459006 -0.058806  \n",
      "\n",
      "[8346 rows x 7 columns]\n",
      "('127', 0)\n",
      "                                    time  methodID  modelID  luminance  \\\n",
      "UserID trial                                                             \n",
      "127    0     0    0 days 19:44:37.178800       2.0      0.0   0.173172   \n",
      "             1    0 days 19:44:37.189300       2.0      0.0   0.174045   \n",
      "             2    0 days 19:44:37.200800       2.0      0.0   0.174639   \n",
      "             3    0 days 19:44:37.211900       2.0      0.0   0.174870   \n",
      "             4    0 days 19:44:37.223400       2.0      0.0   0.175301   \n",
      "...                                  ...       ...      ...        ...   \n",
      "             4611 0 days 19:45:32.619200       2.0      0.0   0.179728   \n",
      "             4612 0 days 19:45:32.629700       2.0      0.0   0.182506   \n",
      "             4613 0 days 19:45:32.641200       2.0      0.0   0.184806   \n",
      "             4614 0 days 19:45:32.651700       2.0      0.0   0.189840   \n",
      "             4615 0 days 19:45:32.663800       2.0      0.0   0.186519   \n",
      "\n",
      "                   pupilDiameter       plr      tepr  \n",
      "UserID trial                                          \n",
      "127    0     0          3.422775  3.544356 -0.121581  \n",
      "             1          3.445396  3.541484 -0.096087  \n",
      "             2          3.445686  3.539534 -0.093848  \n",
      "             3          3.474998  3.538777 -0.063779  \n",
      "             4          3.507721  3.537366 -0.029645  \n",
      "...                          ...       ...       ...  \n",
      "             4611       3.662025  3.522972  0.139053  \n",
      "             4612       3.552162  3.514030  0.038132  \n",
      "             4613       3.596313  3.506680  0.089634  \n",
      "             4614       3.550644  3.490759  0.059885  \n",
      "             4615       3.591003  3.501237  0.089767  \n",
      "\n",
      "[4616 rows x 7 columns]\n",
      "('127', 1)\n",
      "                                    time  methodID  modelID  luminance  \\\n",
      "UserID trial                                                             \n",
      "127    1     0    0 days 19:38:21.792600       3.0      0.0   0.167969   \n",
      "             1    0 days 19:38:21.803100       3.0      0.0   0.170649   \n",
      "             2    0 days 19:38:21.815200       3.0      0.0   0.173147   \n",
      "             3    0 days 19:38:21.825100       3.0      0.0   0.175745   \n",
      "             4    0 days 19:38:21.848000       3.0      0.0   0.181038   \n",
      "...                                  ...       ...      ...        ...   \n",
      "             4734 0 days 19:39:20.952400       3.0      0.0   0.194693   \n",
      "             4735 0 days 19:39:20.963500       3.0      0.0   0.193142   \n",
      "             4736 0 days 19:39:20.974600       3.0      0.0   0.190031   \n",
      "             4737 0 days 19:39:20.985600       3.0      0.0   0.187121   \n",
      "             4738 0 days 19:39:20.997100       3.0      0.0   0.184544   \n",
      "\n",
      "                   pupilDiameter       plr      tepr  \n",
      "UserID trial                                          \n",
      "127    1     0          3.122269  3.561610 -0.439342  \n",
      "             1          3.064865  3.552691 -0.487826  \n",
      "             2          3.088364  3.544437 -0.456074  \n",
      "             3          3.121300  3.535913 -0.414614  \n",
      "             4          3.145447  3.518747 -0.373301  \n",
      "...                          ...       ...       ...  \n",
      "             4734       3.545807  3.475626  0.070181  \n",
      "             4735       3.505035  3.480438  0.024598  \n",
      "             4736       3.436897  3.490160 -0.053263  \n",
      "             4737       3.495827  3.499331 -0.003505  \n",
      "             4738       3.452202  3.507514 -0.055312  \n",
      "\n",
      "[4739 rows x 7 columns]\n",
      "('127', 2)\n",
      "                                    time  methodID  modelID  luminance  \\\n",
      "UserID trial                                                             \n",
      "127    2     0    0 days 19:45:39.393500       2.0      1.0   0.217194   \n",
      "             1    0 days 19:45:39.404500       2.0      1.0   0.219008   \n",
      "             2    0 days 19:45:39.415600       2.0      1.0   0.220264   \n",
      "             3    0 days 19:45:39.426600       2.0      1.0   0.221361   \n",
      "             4    0 days 19:45:39.437700       2.0      1.0   0.222239   \n",
      "...                                  ...       ...      ...        ...   \n",
      "             4257 0 days 19:46:31.601100       2.0      1.0   0.182205   \n",
      "             4258 0 days 19:46:31.613200       2.0      1.0   0.180495   \n",
      "             4259 0 days 19:46:31.635200       2.0      1.0   0.177081   \n",
      "             4260 0 days 19:46:31.645700       2.0      1.0   0.175388   \n",
      "             4261 0 days 19:46:31.657200       2.0      1.0   0.173640   \n",
      "\n",
      "                   pupilDiameter       plr      tepr  \n",
      "UserID trial                                          \n",
      "127    2     0          3.453438  3.408111  0.045327  \n",
      "             1          3.455322  3.402853  0.052469  \n",
      "             2          3.460632  3.399230  0.061402  \n",
      "             3          3.530022  3.396074  0.133948  \n",
      "             4          3.548264  3.393557  0.154706  \n",
      "...                          ...       ...       ...  \n",
      "             4257       3.593849  3.514997  0.078852  \n",
      "             4258       3.562683  3.520497  0.042186  \n",
      "             4259       3.531563  3.531557  0.000006  \n",
      "             4260       3.428436  3.537084 -0.108647  \n",
      "             4261       3.292442  3.542815 -0.250373  \n",
      "\n",
      "[4262 rows x 7 columns]\n",
      "('127', 3)\n",
      "                                    time  methodID  modelID  luminance  \\\n",
      "UserID trial                                                             \n",
      "127    3     0    0 days 19:39:27.760800       3.0      1.0   0.174262   \n",
      "             1    0 days 19:39:27.771300       3.0      1.0   0.177785   \n",
      "             2    0 days 19:39:27.783400       3.0      1.0   0.177180   \n",
      "             3    0 days 19:39:27.794900       3.0      1.0   0.174842   \n",
      "             4    0 days 19:39:27.805400       3.0      1.0   0.175564   \n",
      "...                                  ...       ...      ...        ...   \n",
      "             5402 0 days 19:40:34.440200       3.0      1.0   0.154087   \n",
      "             5403 0 days 19:40:34.450700       3.0      1.0   0.152267   \n",
      "             5404 0 days 19:40:34.473200       3.0      1.0   0.146104   \n",
      "             5405 0 days 19:40:34.483700       3.0      1.0   0.142809   \n",
      "             5406 0 days 19:40:34.495300       3.0      1.0   0.140840   \n",
      "\n",
      "                   pupilDiameter       plr      tepr  \n",
      "UserID trial                                          \n",
      "127    3     0          3.257408  3.540772 -0.283364  \n",
      "             1          3.254692  3.529269 -0.274576  \n",
      "             2          3.369812  3.531236 -0.161424  \n",
      "             3          3.297852  3.538870 -0.241019  \n",
      "             4          3.369362  3.536508 -0.167146  \n",
      "...                          ...       ...       ...  \n",
      "             5402       3.513588  3.608914 -0.095326  \n",
      "             5403       3.507851  3.615254 -0.107403  \n",
      "             5404       3.338875  3.636974 -0.298099  \n",
      "             5405       3.428299  3.648739 -0.220440  \n",
      "             5406       3.437874  3.655823 -0.217949  \n",
      "\n",
      "[5407 rows x 7 columns]\n",
      "('127', 4)\n",
      "                                    time  methodID  modelID  luminance  \\\n",
      "UserID trial                                                             \n",
      "127    4     0    0 days 19:46:38.609100       2.0      2.0   0.249818   \n",
      "             1    0 days 19:46:38.620600       2.0      2.0   0.254607   \n",
      "             2    0 days 19:46:38.631700       2.0      2.0   0.255740   \n",
      "             3    0 days 19:46:38.643200       2.0      2.0   0.254680   \n",
      "             4    0 days 19:46:38.653700       2.0      2.0   0.252070   \n",
      "...                                  ...       ...      ...        ...   \n",
      "             5914 0 days 19:47:51.074800       2.0      2.0   0.067097   \n",
      "             5915 0 days 19:47:51.085800       2.0      2.0   0.066533   \n",
      "             5916 0 days 19:47:51.096300       2.0      2.0   0.065911   \n",
      "             5917 0 days 19:47:51.108300       2.0      2.0   0.065356   \n",
      "             5918 0 days 19:47:51.119200       2.0      2.0   0.064651   \n",
      "\n",
      "                   pupilDiameter       plr      tepr  \n",
      "UserID trial                                          \n",
      "127    4     0          3.411514  3.317566  0.093948  \n",
      "             1          3.519684  3.304965  0.214718  \n",
      "             2          3.416214  3.302010  0.114204  \n",
      "             3          3.462715  3.304776  0.157939  \n",
      "             4          3.425644  3.311619  0.114025  \n",
      "...                          ...       ...       ...  \n",
      "             5914       3.443062  3.951752 -0.508691  \n",
      "             5915       3.442276  3.954263 -0.511987  \n",
      "             5916       3.435463  3.957037 -0.521574  \n",
      "             5917       3.443062  3.959515 -0.516453  \n",
      "             5918       3.450356  3.962671 -0.512316  \n",
      "\n",
      "[5919 rows x 7 columns]\n",
      "('127', 5)\n",
      "                                    time  methodID  modelID  luminance  \\\n",
      "UserID trial                                                             \n",
      "127    5     0    0 days 19:40:41.136100       3.0      2.0   0.108311   \n",
      "             1    0 days 19:40:41.147600       3.0      2.0   0.108463   \n",
      "             2    0 days 19:40:41.159100       3.0      2.0   0.109075   \n",
      "             3    0 days 19:40:41.169600       3.0      2.0   0.110045   \n",
      "             4    0 days 19:40:41.181200       3.0      2.0   0.111027   \n",
      "...                                  ...       ...      ...        ...   \n",
      "             5104 0 days 19:41:46.393600       3.0      2.0   0.196529   \n",
      "             5105 0 days 19:41:46.405100       3.0      2.0   0.195309   \n",
      "             5106 0 days 19:41:46.416600       3.0      2.0   0.194239   \n",
      "             5107 0 days 19:41:46.427200       3.0      2.0   0.192785   \n",
      "             5108 0 days 19:41:46.438600       3.0      2.0   0.191833   \n",
      "\n",
      "                   pupilDiameter       plr      tepr  \n",
      "UserID trial                                          \n",
      "127    5     0          3.476410  3.778775 -0.302365  \n",
      "             1          3.504784  3.778174 -0.273390  \n",
      "             2          3.559227  3.775753 -0.216526  \n",
      "             3          3.584602  3.771930 -0.187328  \n",
      "             4          3.560028  3.768069 -0.208041  \n",
      "...                          ...       ...       ...  \n",
      "             5104       3.072952  3.469954 -0.397002  \n",
      "             5105       2.915268  3.473719 -0.558451  \n",
      "             5106       2.918350  3.477032 -0.558682  \n",
      "             5107       2.970192  3.481551 -0.511359  \n",
      "             5108       2.950577  3.484520 -0.533943  \n",
      "\n",
      "[5109 rows x 7 columns]\n",
      "('127', 6)\n",
      "                                    time  methodID  modelID  luminance  \\\n",
      "UserID trial                                                             \n",
      "127    6     0    0 days 19:47:57.837700       2.0      3.0   0.155093   \n",
      "             1    0 days 19:47:57.849700       2.0      3.0   0.168129   \n",
      "             2    0 days 19:47:57.859900       2.0      3.0   0.180517   \n",
      "             3    0 days 19:47:57.871500       2.0      3.0   0.186391   \n",
      "             4    0 days 19:47:57.882300       2.0      3.0   0.189400   \n",
      "...                                  ...       ...      ...        ...   \n",
      "             3748 0 days 19:48:45.348400       2.0      3.0   0.130904   \n",
      "             3749 0 days 19:48:45.360500       2.0      3.0   0.133187   \n",
      "             3750 0 days 19:48:45.371000       2.0      3.0   0.138489   \n",
      "             3751 0 days 19:48:45.381500       2.0      3.0   0.138098   \n",
      "             3752 0 days 19:48:45.393500       2.0      3.0   0.136575   \n",
      "\n",
      "                   pupilDiameter       plr      tepr  \n",
      "UserID trial                                          \n",
      "127    6     0          3.168533  3.605423 -0.436890  \n",
      "             1          3.159889  3.561076 -0.401187  \n",
      "             2          3.241287  3.520426 -0.279139  \n",
      "             3          3.179123  3.501641 -0.322518  \n",
      "             4          3.166054  3.492142 -0.326088  \n",
      "...                          ...       ...       ...  \n",
      "             3748       3.208733  3.692182 -0.483449  \n",
      "             3749       3.053032  3.683738 -0.630706  \n",
      "             3750       3.375877  3.664334 -0.288457  \n",
      "             3751       3.290886  3.665757 -0.374871  \n",
      "             3752       3.496452  3.671307 -0.174855  \n",
      "\n",
      "[3753 rows x 7 columns]\n",
      "('127', 7)\n",
      "                                       time  methodID  modelID  luminance  \\\n",
      "UserID trial                                                                \n",
      "127    7     0       0 days 19:41:53.213500       3.0      3.0   0.121150   \n",
      "             1       0 days 19:41:53.223500       3.0      3.0   0.124157   \n",
      "             2       0 days 19:41:53.235400       3.0      3.0   0.128014   \n",
      "             3       0 days 19:41:53.246400       3.0      3.0   0.131845   \n",
      "             4       0 days 19:41:53.257400       3.0      3.0   0.133907   \n",
      "...                                     ...       ...      ...        ...   \n",
      "             5792    0 days 19:43:04.501200       3.0      3.0   0.136576   \n",
      "             5793    0 days 19:43:04.511800       3.0      3.0   0.135666   \n",
      "             5794    0 days 19:43:04.523200       3.0      3.0   0.134765   \n",
      "             5795 0 days 19:43:04.534599999       3.0      3.0   0.133904   \n",
      "             5796    0 days 19:43:04.545700       3.0      3.0   0.133126   \n",
      "\n",
      "                   pupilDiameter       plr      tepr  \n",
      "UserID trial                                          \n",
      "127    7     0          3.295647  3.728886 -0.433239  \n",
      "             1          3.261597  3.717466 -0.455869  \n",
      "             2          3.309021  3.702951 -0.393930  \n",
      "             3          3.238029  3.688698 -0.450668  \n",
      "             4          3.227699  3.681085 -0.453385  \n",
      "...                          ...       ...       ...  \n",
      "             5792       3.390457  3.671302 -0.280845  \n",
      "             5793       3.382271  3.674628 -0.292357  \n",
      "             5794       3.393700  3.677932 -0.284233  \n",
      "             5795       3.383865  3.681098 -0.297233  \n",
      "             5796       3.371071  3.683964 -0.312893  \n",
      "\n",
      "[5797 rows x 7 columns]\n",
      "('128', 0)\n",
      "                                    time  methodID  modelID  luminance  \\\n",
      "UserID trial                                                             \n",
      "128    0     0    0 days 20:35:43.795400       2.0      0.0   0.157743   \n",
      "             1    0 days 20:35:43.806500       2.0      0.0   0.159860   \n",
      "             2    0 days 20:35:43.817000       2.0      0.0   0.162499   \n",
      "             3    0 days 20:35:43.828800       2.0      0.0   0.164788   \n",
      "             4    0 days 20:35:43.839300       2.0      0.0   0.167424   \n",
      "...                                  ...       ...      ...        ...   \n",
      "             5761 0 days 20:36:49.718500       2.0      0.0   0.086295   \n",
      "             5762 0 days 20:36:49.763100       2.0      0.0   0.088015   \n",
      "             5763 0 days 20:36:49.774600       2.0      0.0   0.088527   \n",
      "             5764 0 days 20:36:49.785100       2.0      0.0   0.088022   \n",
      "             5765 0 days 20:36:49.797300       2.0      0.0   0.086636   \n",
      "\n",
      "                   pupilDiameter       plr      tepr  \n",
      "UserID trial                                          \n",
      "128    0     0          3.515533  3.305361  0.210172  \n",
      "             1          3.587395  3.298086  0.289309  \n",
      "             2          3.579475  3.289084  0.290391  \n",
      "             3          3.558464  3.281337  0.277127  \n",
      "             4          3.549103  3.272480  0.276622  \n",
      "...                          ...       ...       ...  \n",
      "             5761       3.917046  3.580886  0.336159  \n",
      "             5762       4.331787  3.573516  0.758271  \n",
      "             5763       4.288994  3.571328  0.717666  \n",
      "             5764       4.391273  3.573488  0.817786  \n",
      "             5765       4.350342  3.579423  0.770919  \n",
      "\n",
      "[5766 rows x 7 columns]\n",
      "('128', 1)\n",
      "                                       time  methodID  modelID  luminance  \\\n",
      "UserID trial                                                                \n",
      "128    1     0       0 days 20:41:14.169700       3.0      0.0   0.162211   \n",
      "             1       0 days 20:41:14.180900       3.0      0.0   0.162112   \n",
      "             2       0 days 20:41:14.191700       3.0      0.0   0.159707   \n",
      "             3       0 days 20:41:14.202700       3.0      0.0   0.158541   \n",
      "             4       0 days 20:41:14.213800       3.0      0.0   0.162326   \n",
      "...                                     ...       ...      ...        ...   \n",
      "             8738    0 days 20:42:53.010500       3.0      0.0   0.158274   \n",
      "             8739    0 days 20:42:53.022100       3.0      0.0   0.156840   \n",
      "             8740 0 days 20:42:53.033099999       3.0      0.0   0.158132   \n",
      "             8741    0 days 20:42:53.044100       3.0      0.0   0.158677   \n",
      "             8742    0 days 20:42:53.055700       3.0      0.0   0.156006   \n",
      "\n",
      "                   pupilDiameter       plr      tepr  \n",
      "UserID trial                                          \n",
      "128    1     0          3.899086  3.290063  0.609023  \n",
      "             1          3.784554  3.290400  0.494153  \n",
      "             2          3.761070  3.298610  0.462461  \n",
      "             3          3.775810  3.302613  0.473197  \n",
      "             4          3.720032  3.289673  0.430359  \n",
      "...                          ...       ...       ...  \n",
      "             8738       3.616180  3.303532  0.312648  \n",
      "             8739       3.476128  3.308478  0.167650  \n",
      "             8740       3.647362  3.304018  0.343343  \n",
      "             8741       3.677841  3.302146  0.375695  \n",
      "             8742       3.613029  3.311362  0.301667  \n",
      "\n",
      "[8743 rows x 7 columns]\n",
      "('128', 2)\n",
      "                                       time  methodID  modelID  luminance  \\\n",
      "UserID trial                                                                \n",
      "128    2     0       0 days 20:36:56.493500       2.0      1.0   0.126611   \n",
      "             1    0 days 20:36:56.504499999       2.0      1.0   0.128445   \n",
      "             2       0 days 20:36:56.515100       2.0      1.0   0.130616   \n",
      "             3    0 days 20:36:56.526599999       2.0      1.0   0.132915   \n",
      "             4       0 days 20:36:56.537100       2.0      1.0   0.135603   \n",
      "...                                     ...       ...      ...        ...   \n",
      "             6400    0 days 20:38:09.181500       2.0      1.0   0.156851   \n",
      "             6401    0 days 20:38:09.191500       2.0      1.0   0.155293   \n",
      "             6402    0 days 20:38:09.203000       2.0      1.0   0.153791   \n",
      "             6403    0 days 20:38:09.214000       2.0      1.0   0.152206   \n",
      "             6404    0 days 20:38:09.224500       2.0      1.0   0.150807   \n",
      "\n",
      "                   pupilDiameter       plr      tepr  \n",
      "UserID trial                                          \n",
      "128    2     0          3.760590  3.417997  0.342592  \n",
      "             1          3.758583  3.411057  0.347526  \n",
      "             2          3.768181  3.402891  0.365290  \n",
      "             3          3.707840  3.394306  0.313534  \n",
      "             4          3.684822  3.384345  0.300478  \n",
      "...                          ...       ...       ...  \n",
      "             6400       3.718361  3.308438  0.409923  \n",
      "             6401       3.736565  3.313837  0.422728  \n",
      "             6402       3.693504  3.319067  0.374437  \n",
      "             6403       3.775711  3.324611  0.451100  \n",
      "             6404       3.817772  3.329525  0.488246  \n",
      "\n",
      "[6405 rows x 7 columns]\n",
      "('128', 3)\n",
      "                                    time  methodID  modelID  luminance  \\\n",
      "UserID trial                                                             \n",
      "128    3     0    0 days 20:42:59.774600       3.0      1.0   0.145577   \n",
      "             1    0 days 20:42:59.785100       3.0      1.0   0.146750   \n",
      "             2    0 days 20:42:59.796700       3.0      1.0   0.148646   \n",
      "             3    0 days 20:42:59.808200       3.0      1.0   0.150533   \n",
      "             4    0 days 20:42:59.818700       3.0      1.0   0.152474   \n",
      "...                                  ...       ...      ...        ...   \n",
      "             5622 0 days 20:44:02.866700       3.0      1.0   0.182867   \n",
      "             5623 0 days 20:44:02.877600       3.0      1.0   0.181433   \n",
      "             5624 0 days 20:44:02.888500       3.0      1.0   0.179951   \n",
      "             5625 0 days 20:44:02.900000       3.0      1.0   0.178704   \n",
      "             5626 0 days 20:44:02.911000       3.0      1.0   0.177239   \n",
      "\n",
      "                   pupilDiameter       plr      tepr  \n",
      "UserID trial                                          \n",
      "128    3     0          3.647377  3.348093  0.299284  \n",
      "             1          3.575310  3.343902  0.231408  \n",
      "             2          3.573616  3.337161  0.236455  \n",
      "             3          3.537231  3.330492  0.206739  \n",
      "             4          3.484871  3.323670  0.161201  \n",
      "...                          ...       ...       ...  \n",
      "             5622       3.428429  3.222021  0.206408  \n",
      "             5623       3.420158  3.226606  0.193552  \n",
      "             5624       3.403023  3.231369  0.171654  \n",
      "             5625       3.367409  3.235388  0.132021  \n",
      "             5626       3.365662  3.240132  0.125530  \n",
      "\n",
      "[5627 rows x 7 columns]\n",
      "('128', 4)\n",
      "                                    time  methodID  modelID  luminance  \\\n",
      "UserID trial                                                             \n",
      "128    4     0    0 days 20:38:16.111100       2.0      2.0   0.175615   \n",
      "             1    0 days 20:38:16.121800       2.0      2.0   0.176922   \n",
      "             2    0 days 20:38:16.132300       2.0      2.0   0.178242   \n",
      "             3    0 days 20:38:16.144400       2.0      2.0   0.180111   \n",
      "             4    0 days 20:38:16.155400       2.0      2.0   0.181740   \n",
      "...                                  ...       ...      ...        ...   \n",
      "             2860 0 days 20:38:48.562000       2.0      2.0   0.225286   \n",
      "             2861 0 days 20:38:48.572500       2.0      2.0   0.219204   \n",
      "             2862 0 days 20:38:48.584000       2.0      2.0   0.215466   \n",
      "             2863 0 days 20:38:48.594600       2.0      2.0   0.213043   \n",
      "             2864 0 days 20:38:48.606000       2.0      2.0   0.210890   \n",
      "\n",
      "                   pupilDiameter       plr      tepr  \n",
      "UserID trial                                          \n",
      "128    4     0          3.709343  3.245418  0.463925  \n",
      "             1          3.704155  3.241163  0.462992  \n",
      "             2          3.696190  3.236884  0.459306  \n",
      "             3          3.709938  3.230852  0.479086  \n",
      "             4          3.696304  3.225624  0.470680  \n",
      "...                          ...       ...       ...  \n",
      "             2860       3.684334  3.095173  0.589161  \n",
      "             2861       3.692162  3.112358  0.579803  \n",
      "             2862       3.703018  3.123080  0.579938  \n",
      "             2863       3.819450  3.130098  0.689353  \n",
      "             2864       3.746239  3.136375  0.609864  \n",
      "\n",
      "[2865 rows x 7 columns]\n",
      "('128', 5)\n",
      "                                    time  methodID  modelID  luminance  \\\n",
      "UserID trial                                                             \n",
      "128    5     0    0 days 20:44:09.707500       3.0      2.0   0.122874   \n",
      "             1    0 days 20:44:09.719000       3.0      2.0   0.122790   \n",
      "             2    0 days 20:44:09.730000       3.0      2.0   0.120981   \n",
      "             3    0 days 20:44:09.741500       3.0      2.0   0.118520   \n",
      "             4    0 days 20:44:09.752000       3.0      2.0   0.115592   \n",
      "...                                  ...       ...      ...        ...   \n",
      "             5933 0 days 20:45:16.974900       3.0      2.0   0.081256   \n",
      "             5934 0 days 20:45:16.986300       3.0      2.0   0.080175   \n",
      "             5935 0 days 20:45:16.996800       3.0      2.0   0.078798   \n",
      "             5936 0 days 20:45:17.009400       3.0      2.0   0.075800   \n",
      "             5937 0 days 20:45:17.019900       3.0      2.0   0.073021   \n",
      "\n",
      "                   pupilDiameter       plr      tepr  \n",
      "UserID trial                                          \n",
      "128    5     0          3.888550  3.432257  0.456293  \n",
      "             1          3.928482  3.432581  0.495901  \n",
      "             2          3.914886  3.439546  0.475341  \n",
      "             3          3.922737  3.449082  0.473655  \n",
      "             4          3.979630  3.460524  0.519105  \n",
      "...                          ...       ...       ...  \n",
      "             5933       4.446869  3.602707  0.844162  \n",
      "             5934       4.426727  3.607432  0.819295  \n",
      "             5935       4.354958  3.613475  0.741482  \n",
      "             5936       4.358276  3.626718  0.731558  \n",
      "             5937       4.317146  3.639106  0.678040  \n",
      "\n",
      "[5938 rows x 7 columns]\n",
      "('128', 6)\n",
      "                                    time  methodID  modelID  luminance  \\\n",
      "UserID trial                                                             \n",
      "128    6     0    0 days 20:38:55.314000       2.0      3.0   0.121996   \n",
      "             1    0 days 20:38:55.325500       2.0      3.0   0.123190   \n",
      "             2    0 days 20:38:55.336000       2.0      3.0   0.124246   \n",
      "             3    0 days 20:38:55.348100       2.0      3.0   0.125331   \n",
      "             4    0 days 20:38:55.358100       2.0      3.0   0.126358   \n",
      "...                                  ...       ...      ...        ...   \n",
      "             5651 0 days 20:40:00.582800       2.0      3.0   0.195757   \n",
      "             5652 0 days 20:40:00.593800       2.0      3.0   0.193589   \n",
      "             5653 0 days 20:40:00.605200       2.0      3.0   0.190899   \n",
      "             5654 0 days 20:40:00.615700       2.0      3.0   0.187684   \n",
      "             5655 0 days 20:40:00.626500       2.0      3.0   0.183252   \n",
      "\n",
      "                   pupilDiameter       plr      tepr  \n",
      "UserID trial                                          \n",
      "128    6     0          3.641014  3.435633  0.205381  \n",
      "             1          3.685799  3.431044  0.254755  \n",
      "             2          3.658943  3.427001  0.231942  \n",
      "             3          3.687599  3.422861  0.264738  \n",
      "             4          3.694138  3.418956  0.275182  \n",
      "...                          ...       ...       ...  \n",
      "             5651       3.872238  3.181705  0.690533  \n",
      "             5652       3.913948  3.188375  0.725573  \n",
      "             5653       3.873161  3.196715  0.676446  \n",
      "             5654       3.887611  3.206768  0.680844  \n",
      "             5655       3.791519  3.220794  0.570725  \n",
      "\n",
      "[5656 rows x 7 columns]\n",
      "('128', 7)\n",
      "                                    time  methodID  modelID  luminance  \\\n",
      "UserID trial                                                             \n",
      "128    7     0    0 days 20:45:23.761100       3.0      3.0   0.192698   \n",
      "             1    0 days 20:45:23.771500       3.0      3.0   0.192610   \n",
      "             2    0 days 20:45:23.783100       3.0      3.0   0.190603   \n",
      "             3    0 days 20:45:23.794100       3.0      3.0   0.188396   \n",
      "             4    0 days 20:45:23.805600       3.0      3.0   0.184691   \n",
      "...                                  ...       ...      ...        ...   \n",
      "             6724 0 days 20:46:39.468800       3.0      3.0   0.186110   \n",
      "             6725 0 days 20:46:39.480300       3.0      3.0   0.183513   \n",
      "             6726 0 days 20:46:39.491300       3.0      3.0   0.179972   \n",
      "             6727 0 days 20:46:39.502800       3.0      3.0   0.176647   \n",
      "             6728 0 days 20:46:39.513300       3.0      3.0   0.173467   \n",
      "\n",
      "                   pupilDiameter       plr      tepr  \n",
      "UserID trial                                          \n",
      "128    7     0          3.952362  3.191129  0.761233  \n",
      "             1          3.824188  3.191404  0.632784  \n",
      "             2          3.909599  3.197634  0.711966  \n",
      "             3          3.840897  3.204532  0.636365  \n",
      "             4          3.880554  3.216218  0.664336  \n",
      "...                          ...       ...       ...  \n",
      "             6724       3.658279  3.211729  0.446551  \n",
      "             6725       3.656532  3.219965  0.436568  \n",
      "             6726       3.677353  3.231300  0.446053  \n",
      "             6727       3.588783  3.242056  0.346727  \n",
      "             6728       3.687096  3.252449  0.434647  \n",
      "\n",
      "[6729 rows x 7 columns]\n"
     ]
    }
   ],
   "source": [
    "nav_adj = nav_data.groupby(['UserID', 'trial']).get_group(('',0))\n",
    "for name, group in nav_adj:\n",
    "    print(name)\n",
    "    print(group)"
   ]
  },
  {
   "cell_type": "code",
   "execution_count": 15,
   "metadata": {},
   "outputs": [
    {
     "name": "stdout",
     "output_type": "stream",
     "text": [
      "Shapiro-Wilk M2 = 0.948, p = 0.389\n",
      "Shapiro-Wilk M3 = 0.905, p = 0.070\n",
      "Wilcoxon M2 = 0.000, p = 0.00001\n",
      "Wilcoxon M3 = 0.000, p = 0.00001\n",
      "Paired t-test = 7.599, p = 0.000001\n",
      "Paired t-test = 7.855, p = 0.000000\n"
     ]
    }
   ],
   "source": [
    "method_nav_tepr = method_data_nav.loc[(slice(None), slice(None)), ('pupilDiameter', 'plr', 'tepr')]\n",
    "\n",
    "method_tepr_2 = method_data_nav.loc[(slice(None), 2), 'tepr']\n",
    "method_tepr_3 = method_data_nav.loc[(slice(None), 3), 'tepr']\n",
    "method_tepr_2.reset_index(drop=True, inplace=True)\n",
    "method_tepr_3.reset_index(drop=True, inplace=True)\n",
    "\n",
    "#shapiro-wilk test\n",
    "stat, p = stats.shapiro(method_tepr_2)\n",
    "print('Shapiro-Wilk M2 = %.3f, p = %.3f' % (stat, p))\n",
    "\n",
    "stat, p = stats.shapiro(method_tepr_3)\n",
    "print('Shapiro-Wilk M3 = %.3f, p = %.3f' % (stat, p))\n",
    "\n",
    "#wilcoxon test\n",
    "stat, p = stats.wilcoxon(method_tepr_2)\n",
    "print('Wilcoxon M2 = %.3f, p = %.5f' % (stat, p))\n",
    "\n",
    "stat, p = stats.wilcoxon(method_tepr_2)\n",
    "print('Wilcoxon M3 = %.3f, p = %.5f' % (stat, p))\n",
    "\n",
    "#paired t-test\n",
    "t_stat, p_val = stats.ttest_rel(method_data_nav.loc[(slice(None), 2), 'pupilDiameter'].reset_index(drop=True), method_data_nav.loc[(slice(None), 2), 'plr'].reset_index(drop=True))\n",
    "print('Paired t-test = %.3f, p = %.6f' % (t_stat, p_val))\n",
    "t_stat, p_val = stats.ttest_rel(method_data_nav.loc[(slice(None), 3), 'pupilDiameter'].reset_index(drop=True), method_data_nav.loc[(slice(None), 3), 'plr'].reset_index(drop=True))\n",
    "print('Paired t-test = %.3f, p = %.6f' % (t_stat, p_val))"
   ]
  },
  {
   "cell_type": "markdown",
   "metadata": {},
   "source": [
    "### Navigation Workload by Method"
   ]
  },
  {
   "cell_type": "code",
   "execution_count": 16,
   "metadata": {},
   "outputs": [
    {
     "name": "stdout",
     "output_type": "stream",
     "text": [
      "Method 2\n",
      "Mean = 0.508\n",
      "Median = 0.466\n",
      "Std = 0.283\n",
      "Method 3\n",
      "Mean = 0.517\n",
      "Median = 0.467\n",
      "Std = 0.279\n",
      "Shapiro-Wilk T = 0.864, p = 0.000\n",
      "Shapiro-Wilk M2 = 0.948, p = 0.389\n",
      "Shapiro-Wilk M3 = 0.905, p = 0.070\n",
      "Wilcoxon = 82.000, p = 0.899\n",
      "Paired t-test = -0.280, p = 0.783\n"
     ]
    }
   ],
   "source": [
    "# //Method Map:\n",
    "# //Bulldozer: 0\n",
    "# //Spatula: 1\n",
    "# //FourDoF: 2\n",
    "# //SixDoF: 3\n",
    "\n",
    "#shapiro-wilk test\n",
    "statt, pt = stats.shapiro(method_nav_tepr)\n",
    "stat0, p0 = stats.shapiro(method_tepr_2)\n",
    "stat1, p1 = stats.shapiro(method_tepr_3)\n",
    "\n",
    "#wilcoxon test\n",
    "stat, p = stats.wilcoxon(method_tepr_2, method_tepr_3)\n",
    "\n",
    "#paired t-test\n",
    "t_stat, p_val = stats.ttest_rel(method_tepr_2, method_tepr_3)\n",
    "\n",
    "#descriptive stats (avg, median, std)\n",
    "print('Method 2')\n",
    "print('Mean = %.3f' % method_tepr_2.mean())\n",
    "print('Median = %.3f' % method_tepr_2.median())\n",
    "print('Std = %.3f' % method_tepr_2.std())\n",
    "\n",
    "print('Method 3')\n",
    "print('Mean = %.3f' % method_tepr_3.mean())\n",
    "print('Median = %.3f' % method_tepr_3.median())\n",
    "print('Std = %.3f' % method_tepr_3.std())\n",
    "\n",
    "print('Shapiro-Wilk T = %.3f, p = %.3f' % (statt, pt))\n",
    "print('Shapiro-Wilk M2 = %.3f, p = %.3f' % (stat0, p0))\n",
    "print('Shapiro-Wilk M3 = %.3f, p = %.3f' % (stat1, p1))\n",
    "print('Wilcoxon = %.3f, p = %.3f' % (stat, p))\n",
    "print('Paired t-test = %.3f, p = %.3f' % (t_stat, p_val))\n",
    "\n",
    "# values = [['4 DoF', '6 DoF'], ['%.3f ± %.3f' % (method_tepr_2.mean(),  method_tepr_2.std()), '%.3f ± %.3f' % (method_tepr_3.mean(),  method_tepr_3.std())]]\n",
    "# fig = go.Figure(data=[go.Table(\n",
    "#     columnwidth = [1,2],\n",
    "#     header=dict(\n",
    "#         values=['Method', 'Mean TEPR'],\n",
    "#         align=['center', 'center'],\n",
    "#         ),\n",
    "#     cells=dict(\n",
    "#         values= values,\n",
    "#         align=['center', 'center'],\n",
    "#         ))])\n",
    "# fig.update_layout(width=600, height=300)\n",
    "# fig.show()"
   ]
  },
  {
   "cell_type": "code",
   "execution_count": 17,
   "metadata": {},
   "outputs": [
    {
     "data": {
      "application/vnd.plotly.v1+json": {
       "config": {
        "plotlyServerURL": "https://plot.ly"
       },
       "data": [
        {
         "alignmentgroup": "True",
         "hovertemplate": "methodID=%{x}<br>tepr=%{y}<extra></extra>",
         "legendgroup": "2.0",
         "marker": {
          "color": "#1F77B4"
         },
         "name": "2.0",
         "notched": true,
         "offsetgroup": "2.0",
         "orientation": "v",
         "showlegend": true,
         "type": "box",
         "x": [
          2,
          2,
          2,
          2,
          2,
          2,
          2,
          2,
          2,
          2,
          2,
          2,
          2,
          2,
          2,
          2,
          2,
          2
         ],
         "x0": " ",
         "xaxis": "x",
         "y": [
          0.9606078267097473,
          0.43263882398605347,
          0.8632329702377319,
          0.7294593453407288,
          0.49931323528289795,
          0.134945347905159,
          0.5770185589790344,
          0.271797239780426,
          0.4171880781650543,
          0.0937597006559372,
          0.6315298080444336,
          0.08089610934257507,
          0.7006435394287109,
          0.4320162534713745,
          0.3396891951560974,
          0.8621932864189148,
          0.2383817434310913,
          0.8732372522354126
         ],
         "y0": " ",
         "yaxis": "y"
        },
        {
         "alignmentgroup": "True",
         "hovertemplate": "methodID=%{x}<br>tepr=%{y}<extra></extra>",
         "legendgroup": "3.0",
         "marker": {
          "color": "#FF7F0E"
         },
         "name": "3.0",
         "notched": true,
         "offsetgroup": "3.0",
         "orientation": "v",
         "showlegend": true,
         "type": "box",
         "x": [
          3,
          3,
          3,
          3,
          3,
          3,
          3,
          3,
          3,
          3,
          3,
          3,
          3,
          3,
          3,
          3,
          3,
          3
         ],
         "x0": " ",
         "xaxis": "x",
         "y": [
          0.7562499046325684,
          0.4424772262573242,
          0.8005844354629517,
          0.9436517357826233,
          0.6467686891555786,
          0.1069406121969223,
          0.42547595500946045,
          0.2003675401210785,
          0.19578513503074646,
          0.23084479570388794,
          0.8462499380111694,
          0.17718856036663055,
          0.7702077031135559,
          0.33317428827285767,
          0.332176148891449,
          0.8180819153785706,
          0.49138182401657104,
          0.7915458083152771
         ],
         "y0": " ",
         "yaxis": "y"
        }
       ],
       "layout": {
        "boxmode": "overlay",
        "legend": {
         "title": {
          "text": "methodID"
         },
         "tracegroupgap": 0
        },
        "template": {
         "data": {
          "bar": [
           {
            "error_x": {
             "color": "#2a3f5f"
            },
            "error_y": {
             "color": "#2a3f5f"
            },
            "marker": {
             "line": {
              "color": "#E5ECF6",
              "width": 0.5
             },
             "pattern": {
              "fillmode": "overlay",
              "size": 10,
              "solidity": 0.2
             }
            },
            "type": "bar"
           }
          ],
          "barpolar": [
           {
            "marker": {
             "line": {
              "color": "#E5ECF6",
              "width": 0.5
             },
             "pattern": {
              "fillmode": "overlay",
              "size": 10,
              "solidity": 0.2
             }
            },
            "type": "barpolar"
           }
          ],
          "carpet": [
           {
            "aaxis": {
             "endlinecolor": "#2a3f5f",
             "gridcolor": "white",
             "linecolor": "white",
             "minorgridcolor": "white",
             "startlinecolor": "#2a3f5f"
            },
            "baxis": {
             "endlinecolor": "#2a3f5f",
             "gridcolor": "white",
             "linecolor": "white",
             "minorgridcolor": "white",
             "startlinecolor": "#2a3f5f"
            },
            "type": "carpet"
           }
          ],
          "choropleth": [
           {
            "colorbar": {
             "outlinewidth": 0,
             "ticks": ""
            },
            "type": "choropleth"
           }
          ],
          "contour": [
           {
            "colorbar": {
             "outlinewidth": 0,
             "ticks": ""
            },
            "colorscale": [
             [
              0,
              "#0d0887"
             ],
             [
              0.1111111111111111,
              "#46039f"
             ],
             [
              0.2222222222222222,
              "#7201a8"
             ],
             [
              0.3333333333333333,
              "#9c179e"
             ],
             [
              0.4444444444444444,
              "#bd3786"
             ],
             [
              0.5555555555555556,
              "#d8576b"
             ],
             [
              0.6666666666666666,
              "#ed7953"
             ],
             [
              0.7777777777777778,
              "#fb9f3a"
             ],
             [
              0.8888888888888888,
              "#fdca26"
             ],
             [
              1,
              "#f0f921"
             ]
            ],
            "type": "contour"
           }
          ],
          "contourcarpet": [
           {
            "colorbar": {
             "outlinewidth": 0,
             "ticks": ""
            },
            "type": "contourcarpet"
           }
          ],
          "heatmap": [
           {
            "colorbar": {
             "outlinewidth": 0,
             "ticks": ""
            },
            "colorscale": [
             [
              0,
              "#0d0887"
             ],
             [
              0.1111111111111111,
              "#46039f"
             ],
             [
              0.2222222222222222,
              "#7201a8"
             ],
             [
              0.3333333333333333,
              "#9c179e"
             ],
             [
              0.4444444444444444,
              "#bd3786"
             ],
             [
              0.5555555555555556,
              "#d8576b"
             ],
             [
              0.6666666666666666,
              "#ed7953"
             ],
             [
              0.7777777777777778,
              "#fb9f3a"
             ],
             [
              0.8888888888888888,
              "#fdca26"
             ],
             [
              1,
              "#f0f921"
             ]
            ],
            "type": "heatmap"
           }
          ],
          "heatmapgl": [
           {
            "colorbar": {
             "outlinewidth": 0,
             "ticks": ""
            },
            "colorscale": [
             [
              0,
              "#0d0887"
             ],
             [
              0.1111111111111111,
              "#46039f"
             ],
             [
              0.2222222222222222,
              "#7201a8"
             ],
             [
              0.3333333333333333,
              "#9c179e"
             ],
             [
              0.4444444444444444,
              "#bd3786"
             ],
             [
              0.5555555555555556,
              "#d8576b"
             ],
             [
              0.6666666666666666,
              "#ed7953"
             ],
             [
              0.7777777777777778,
              "#fb9f3a"
             ],
             [
              0.8888888888888888,
              "#fdca26"
             ],
             [
              1,
              "#f0f921"
             ]
            ],
            "type": "heatmapgl"
           }
          ],
          "histogram": [
           {
            "marker": {
             "pattern": {
              "fillmode": "overlay",
              "size": 10,
              "solidity": 0.2
             }
            },
            "type": "histogram"
           }
          ],
          "histogram2d": [
           {
            "colorbar": {
             "outlinewidth": 0,
             "ticks": ""
            },
            "colorscale": [
             [
              0,
              "#0d0887"
             ],
             [
              0.1111111111111111,
              "#46039f"
             ],
             [
              0.2222222222222222,
              "#7201a8"
             ],
             [
              0.3333333333333333,
              "#9c179e"
             ],
             [
              0.4444444444444444,
              "#bd3786"
             ],
             [
              0.5555555555555556,
              "#d8576b"
             ],
             [
              0.6666666666666666,
              "#ed7953"
             ],
             [
              0.7777777777777778,
              "#fb9f3a"
             ],
             [
              0.8888888888888888,
              "#fdca26"
             ],
             [
              1,
              "#f0f921"
             ]
            ],
            "type": "histogram2d"
           }
          ],
          "histogram2dcontour": [
           {
            "colorbar": {
             "outlinewidth": 0,
             "ticks": ""
            },
            "colorscale": [
             [
              0,
              "#0d0887"
             ],
             [
              0.1111111111111111,
              "#46039f"
             ],
             [
              0.2222222222222222,
              "#7201a8"
             ],
             [
              0.3333333333333333,
              "#9c179e"
             ],
             [
              0.4444444444444444,
              "#bd3786"
             ],
             [
              0.5555555555555556,
              "#d8576b"
             ],
             [
              0.6666666666666666,
              "#ed7953"
             ],
             [
              0.7777777777777778,
              "#fb9f3a"
             ],
             [
              0.8888888888888888,
              "#fdca26"
             ],
             [
              1,
              "#f0f921"
             ]
            ],
            "type": "histogram2dcontour"
           }
          ],
          "mesh3d": [
           {
            "colorbar": {
             "outlinewidth": 0,
             "ticks": ""
            },
            "type": "mesh3d"
           }
          ],
          "parcoords": [
           {
            "line": {
             "colorbar": {
              "outlinewidth": 0,
              "ticks": ""
             }
            },
            "type": "parcoords"
           }
          ],
          "pie": [
           {
            "automargin": true,
            "type": "pie"
           }
          ],
          "scatter": [
           {
            "fillpattern": {
             "fillmode": "overlay",
             "size": 10,
             "solidity": 0.2
            },
            "type": "scatter"
           }
          ],
          "scatter3d": [
           {
            "line": {
             "colorbar": {
              "outlinewidth": 0,
              "ticks": ""
             }
            },
            "marker": {
             "colorbar": {
              "outlinewidth": 0,
              "ticks": ""
             }
            },
            "type": "scatter3d"
           }
          ],
          "scattercarpet": [
           {
            "marker": {
             "colorbar": {
              "outlinewidth": 0,
              "ticks": ""
             }
            },
            "type": "scattercarpet"
           }
          ],
          "scattergeo": [
           {
            "marker": {
             "colorbar": {
              "outlinewidth": 0,
              "ticks": ""
             }
            },
            "type": "scattergeo"
           }
          ],
          "scattergl": [
           {
            "marker": {
             "colorbar": {
              "outlinewidth": 0,
              "ticks": ""
             }
            },
            "type": "scattergl"
           }
          ],
          "scattermapbox": [
           {
            "marker": {
             "colorbar": {
              "outlinewidth": 0,
              "ticks": ""
             }
            },
            "type": "scattermapbox"
           }
          ],
          "scatterpolar": [
           {
            "marker": {
             "colorbar": {
              "outlinewidth": 0,
              "ticks": ""
             }
            },
            "type": "scatterpolar"
           }
          ],
          "scatterpolargl": [
           {
            "marker": {
             "colorbar": {
              "outlinewidth": 0,
              "ticks": ""
             }
            },
            "type": "scatterpolargl"
           }
          ],
          "scatterternary": [
           {
            "marker": {
             "colorbar": {
              "outlinewidth": 0,
              "ticks": ""
             }
            },
            "type": "scatterternary"
           }
          ],
          "surface": [
           {
            "colorbar": {
             "outlinewidth": 0,
             "ticks": ""
            },
            "colorscale": [
             [
              0,
              "#0d0887"
             ],
             [
              0.1111111111111111,
              "#46039f"
             ],
             [
              0.2222222222222222,
              "#7201a8"
             ],
             [
              0.3333333333333333,
              "#9c179e"
             ],
             [
              0.4444444444444444,
              "#bd3786"
             ],
             [
              0.5555555555555556,
              "#d8576b"
             ],
             [
              0.6666666666666666,
              "#ed7953"
             ],
             [
              0.7777777777777778,
              "#fb9f3a"
             ],
             [
              0.8888888888888888,
              "#fdca26"
             ],
             [
              1,
              "#f0f921"
             ]
            ],
            "type": "surface"
           }
          ],
          "table": [
           {
            "cells": {
             "fill": {
              "color": "#EBF0F8"
             },
             "line": {
              "color": "white"
             }
            },
            "header": {
             "fill": {
              "color": "#C8D4E3"
             },
             "line": {
              "color": "white"
             }
            },
            "type": "table"
           }
          ]
         },
         "layout": {
          "annotationdefaults": {
           "arrowcolor": "#2a3f5f",
           "arrowhead": 0,
           "arrowwidth": 1
          },
          "autotypenumbers": "strict",
          "coloraxis": {
           "colorbar": {
            "outlinewidth": 0,
            "ticks": ""
           }
          },
          "colorscale": {
           "diverging": [
            [
             0,
             "#8e0152"
            ],
            [
             0.1,
             "#c51b7d"
            ],
            [
             0.2,
             "#de77ae"
            ],
            [
             0.3,
             "#f1b6da"
            ],
            [
             0.4,
             "#fde0ef"
            ],
            [
             0.5,
             "#f7f7f7"
            ],
            [
             0.6,
             "#e6f5d0"
            ],
            [
             0.7,
             "#b8e186"
            ],
            [
             0.8,
             "#7fbc41"
            ],
            [
             0.9,
             "#4d9221"
            ],
            [
             1,
             "#276419"
            ]
           ],
           "sequential": [
            [
             0,
             "#0d0887"
            ],
            [
             0.1111111111111111,
             "#46039f"
            ],
            [
             0.2222222222222222,
             "#7201a8"
            ],
            [
             0.3333333333333333,
             "#9c179e"
            ],
            [
             0.4444444444444444,
             "#bd3786"
            ],
            [
             0.5555555555555556,
             "#d8576b"
            ],
            [
             0.6666666666666666,
             "#ed7953"
            ],
            [
             0.7777777777777778,
             "#fb9f3a"
            ],
            [
             0.8888888888888888,
             "#fdca26"
            ],
            [
             1,
             "#f0f921"
            ]
           ],
           "sequentialminus": [
            [
             0,
             "#0d0887"
            ],
            [
             0.1111111111111111,
             "#46039f"
            ],
            [
             0.2222222222222222,
             "#7201a8"
            ],
            [
             0.3333333333333333,
             "#9c179e"
            ],
            [
             0.4444444444444444,
             "#bd3786"
            ],
            [
             0.5555555555555556,
             "#d8576b"
            ],
            [
             0.6666666666666666,
             "#ed7953"
            ],
            [
             0.7777777777777778,
             "#fb9f3a"
            ],
            [
             0.8888888888888888,
             "#fdca26"
            ],
            [
             1,
             "#f0f921"
            ]
           ]
          },
          "colorway": [
           "#636efa",
           "#EF553B",
           "#00cc96",
           "#ab63fa",
           "#FFA15A",
           "#19d3f3",
           "#FF6692",
           "#B6E880",
           "#FF97FF",
           "#FECB52"
          ],
          "font": {
           "color": "#2a3f5f"
          },
          "geo": {
           "bgcolor": "white",
           "lakecolor": "white",
           "landcolor": "#E5ECF6",
           "showlakes": true,
           "showland": true,
           "subunitcolor": "white"
          },
          "hoverlabel": {
           "align": "left"
          },
          "hovermode": "closest",
          "mapbox": {
           "style": "light"
          },
          "paper_bgcolor": "white",
          "plot_bgcolor": "#E5ECF6",
          "polar": {
           "angularaxis": {
            "gridcolor": "white",
            "linecolor": "white",
            "ticks": ""
           },
           "bgcolor": "#E5ECF6",
           "radialaxis": {
            "gridcolor": "white",
            "linecolor": "white",
            "ticks": ""
           }
          },
          "scene": {
           "xaxis": {
            "backgroundcolor": "#E5ECF6",
            "gridcolor": "white",
            "gridwidth": 2,
            "linecolor": "white",
            "showbackground": true,
            "ticks": "",
            "zerolinecolor": "white"
           },
           "yaxis": {
            "backgroundcolor": "#E5ECF6",
            "gridcolor": "white",
            "gridwidth": 2,
            "linecolor": "white",
            "showbackground": true,
            "ticks": "",
            "zerolinecolor": "white"
           },
           "zaxis": {
            "backgroundcolor": "#E5ECF6",
            "gridcolor": "white",
            "gridwidth": 2,
            "linecolor": "white",
            "showbackground": true,
            "ticks": "",
            "zerolinecolor": "white"
           }
          },
          "shapedefaults": {
           "line": {
            "color": "#2a3f5f"
           }
          },
          "ternary": {
           "aaxis": {
            "gridcolor": "white",
            "linecolor": "white",
            "ticks": ""
           },
           "baxis": {
            "gridcolor": "white",
            "linecolor": "white",
            "ticks": ""
           },
           "bgcolor": "#E5ECF6",
           "caxis": {
            "gridcolor": "white",
            "linecolor": "white",
            "ticks": ""
           }
          },
          "title": {
           "x": 0.05
          },
          "xaxis": {
           "automargin": true,
           "gridcolor": "white",
           "linecolor": "white",
           "ticks": "",
           "title": {
            "standoff": 15
           },
           "zerolinecolor": "white",
           "zerolinewidth": 2
          },
          "yaxis": {
           "automargin": true,
           "gridcolor": "white",
           "linecolor": "white",
           "ticks": "",
           "title": {
            "standoff": 15
           },
           "zerolinecolor": "white",
           "zerolinewidth": 2
          }
         }
        },
        "title": {
         "text": "TEPR by Navigation Method"
        },
        "width": 600,
        "xaxis": {
         "anchor": "y",
         "categoryarray": [
          2,
          3
         ],
         "categoryorder": "array",
         "domain": [
          0,
          1
         ],
         "title": {
          "text": "Method"
         }
        },
        "yaxis": {
         "anchor": "x",
         "domain": [
          0,
          1
         ],
         "range": [
          0,
          1
         ],
         "title": {
          "text": "TEPR"
         }
        }
       }
      }
     },
     "metadata": {},
     "output_type": "display_data"
    }
   ],
   "source": [
    "df = method_data_nav.loc[(slice(None), slice(None)), 'tepr'].reset_index('methodID')\n",
    "nav_tepr_fig = px.box(df, x='methodID', y ='tepr', color='methodID', notched=True, title='TEPR by Navigation Method', color_discrete_sequence=px.colors.qualitative.D3)\n",
    "nav_tepr_fig.update_yaxes(range=[0,1.0])\n",
    "nav_tepr_fig.update_layout(\n",
    "    xaxis_title='Method',\n",
    "    yaxis_title='TEPR',\n",
    "    width=600,\n",
    ")\n",
    "nav_tepr_fig.show()"
   ]
  },
  {
   "cell_type": "code",
   "execution_count": 18,
   "metadata": {},
   "outputs": [
    {
     "name": "stdout",
     "output_type": "stream",
     "text": [
      "Shapiro-Wilk total = 0.937, p = 0.001\n",
      "Shapiro-Wilk M0 = 0.925, p = 0.157\n",
      "Shapiro-Wilk M1 = 0.874, p = 0.021\n",
      "Shapiro-Wilk M2 = 0.951, p = 0.442\n",
      "Shapiro-Wilk M3 = 0.921, p = 0.137\n",
      "Friedman = 4.733, p = 0.192398\n"
     ]
    }
   ],
   "source": [
    "model_nav_tepr = model_data_nav.loc[(slice(None), slice(None)), ('pupilDiameter', 'plr', 'tepr')]\n",
    "\n",
    "model_tepr_0 = model_nav_tepr.loc[(slice(None), 0), 'tepr']\n",
    "model_tepr_1 = model_nav_tepr.loc[(slice(None), 1), 'tepr']\n",
    "model_tepr_2 = model_nav_tepr.loc[(slice(None), 2), 'tepr']\n",
    "model_tepr_3 = model_nav_tepr.loc[(slice(None), 3), 'tepr']\n",
    "\n",
    "#shapiro-wilk test\n",
    "stat, p = stats.shapiro(model_nav_tepr['tepr'])\n",
    "print('Shapiro-Wilk total = %.3f, p = %.3f' % (stat, p))\n",
    "\n",
    "stat, p = stats.shapiro(model_tepr_0)\n",
    "print('Shapiro-Wilk M0 = %.3f, p = %.3f' % (stat, p))\n",
    "\n",
    "stat, p = stats.shapiro(model_tepr_1)\n",
    "print('Shapiro-Wilk M1 = %.3f, p = %.3f' % (stat, p))\n",
    "\n",
    "stat, p = stats.shapiro(model_tepr_2)\n",
    "print('Shapiro-Wilk M2 = %.3f, p = %.3f' % (stat, p))\n",
    "\n",
    "stat, p = stats.shapiro(model_tepr_3)\n",
    "print('Shapiro-Wilk M3 = %.3f, p = %.3f' % (stat, p))\n",
    "\n",
    "#Friedman test\n",
    "stat, p = stats.friedmanchisquare(model_tepr_0, model_tepr_1, model_tepr_2, model_tepr_3)\n",
    "print('Friedman = %.3f, p = %.6f' % (stat, p))\n"
   ]
  },
  {
   "cell_type": "markdown",
   "metadata": {},
   "source": [
    "### Creation vs Baseline Workload\n",
    "\n",
    "Calculated from TEPR, which was calculated from the difference between the measured pupil dilation and the predicted pupil dilation for the given luminance value. \n"
   ]
  },
  {
   "cell_type": "code",
   "execution_count": 19,
   "metadata": {},
   "outputs": [
    {
     "name": "stdout",
     "output_type": "stream",
     "text": [
      "Shapiro-Wilk M0 = 0.978, p = 0.931\n",
      "Shapiro-Wilk M1 = 0.959, p = 0.591\n",
      "Wilcoxon M0 = 0.000, p = 0.00001\n",
      "Wilcoxon M1 = 1.000, p = 0.00002\n",
      "Paired t-test = 8.302, p = 0.000000\n",
      "Paired t-test = 7.374, p = 0.000001\n"
     ]
    },
    {
     "data": {
      "application/vnd.plotly.v1+json": {
       "config": {
        "plotlyServerURL": "https://plot.ly"
       },
       "data": [
        {
         "alignmentgroup": "True",
         "hovertemplate": "methodID=%{x}<br>tepr=%{y}<extra></extra>",
         "legendgroup": "0.0",
         "marker": {
          "color": "#1F77B4"
         },
         "name": "0.0",
         "notched": true,
         "offsetgroup": "0.0",
         "orientation": "v",
         "showlegend": true,
         "type": "box",
         "x": [
          0,
          0,
          0,
          0,
          0,
          0,
          0,
          0,
          0,
          0,
          0,
          0,
          0,
          0,
          0,
          0,
          0,
          0
         ],
         "x0": " ",
         "xaxis": "x",
         "y": [
          1.227273941040039,
          0.6131488084793091,
          0.9899187088012695,
          0.9654049873352051,
          0.6196732521057129,
          0.06893584877252579,
          0.6003628969192505,
          0.32450079917907715,
          0.1975889652967453,
          0.2544536292552948,
          0.5915446281433105,
          0.455917626619339,
          0.6589441895484924,
          0.373954176902771,
          0.719454288482666,
          0.5360550284385681,
          0.859069287776947,
          1.072921633720398
         ],
         "y0": " ",
         "yaxis": "y"
        },
        {
         "alignmentgroup": "True",
         "hovertemplate": "methodID=%{x}<br>tepr=%{y}<extra></extra>",
         "legendgroup": "1.0",
         "marker": {
          "color": "#FF7F0E"
         },
         "name": "1.0",
         "notched": true,
         "offsetgroup": "1.0",
         "orientation": "v",
         "showlegend": true,
         "type": "box",
         "x": [
          1,
          1,
          1,
          1,
          1,
          1,
          1,
          1,
          1,
          1,
          1,
          1,
          1,
          1,
          1,
          1,
          1,
          1
         ],
         "x0": " ",
         "xaxis": "x",
         "y": [
          0.6582885980606079,
          0.5195658802986145,
          0.9442088603973389,
          0.9877976179122925,
          0.2573286294937134,
          -0.0071441419422626495,
          0.4776589274406433,
          0.09995613992214203,
          0.20578815042972565,
          0.20818057656288147,
          0.5030357241630554,
          0.3109663128852844,
          0.5918079614639282,
          0.3197654187679291,
          0.4886346161365509,
          0.4793926477432251,
          0.5271281003952026,
          0.6275349259376526
         ],
         "y0": " ",
         "yaxis": "y"
        }
       ],
       "layout": {
        "boxmode": "overlay",
        "legend": {
         "title": {
          "text": "methodID"
         },
         "tracegroupgap": 0
        },
        "template": {
         "data": {
          "bar": [
           {
            "error_x": {
             "color": "#2a3f5f"
            },
            "error_y": {
             "color": "#2a3f5f"
            },
            "marker": {
             "line": {
              "color": "#E5ECF6",
              "width": 0.5
             },
             "pattern": {
              "fillmode": "overlay",
              "size": 10,
              "solidity": 0.2
             }
            },
            "type": "bar"
           }
          ],
          "barpolar": [
           {
            "marker": {
             "line": {
              "color": "#E5ECF6",
              "width": 0.5
             },
             "pattern": {
              "fillmode": "overlay",
              "size": 10,
              "solidity": 0.2
             }
            },
            "type": "barpolar"
           }
          ],
          "carpet": [
           {
            "aaxis": {
             "endlinecolor": "#2a3f5f",
             "gridcolor": "white",
             "linecolor": "white",
             "minorgridcolor": "white",
             "startlinecolor": "#2a3f5f"
            },
            "baxis": {
             "endlinecolor": "#2a3f5f",
             "gridcolor": "white",
             "linecolor": "white",
             "minorgridcolor": "white",
             "startlinecolor": "#2a3f5f"
            },
            "type": "carpet"
           }
          ],
          "choropleth": [
           {
            "colorbar": {
             "outlinewidth": 0,
             "ticks": ""
            },
            "type": "choropleth"
           }
          ],
          "contour": [
           {
            "colorbar": {
             "outlinewidth": 0,
             "ticks": ""
            },
            "colorscale": [
             [
              0,
              "#0d0887"
             ],
             [
              0.1111111111111111,
              "#46039f"
             ],
             [
              0.2222222222222222,
              "#7201a8"
             ],
             [
              0.3333333333333333,
              "#9c179e"
             ],
             [
              0.4444444444444444,
              "#bd3786"
             ],
             [
              0.5555555555555556,
              "#d8576b"
             ],
             [
              0.6666666666666666,
              "#ed7953"
             ],
             [
              0.7777777777777778,
              "#fb9f3a"
             ],
             [
              0.8888888888888888,
              "#fdca26"
             ],
             [
              1,
              "#f0f921"
             ]
            ],
            "type": "contour"
           }
          ],
          "contourcarpet": [
           {
            "colorbar": {
             "outlinewidth": 0,
             "ticks": ""
            },
            "type": "contourcarpet"
           }
          ],
          "heatmap": [
           {
            "colorbar": {
             "outlinewidth": 0,
             "ticks": ""
            },
            "colorscale": [
             [
              0,
              "#0d0887"
             ],
             [
              0.1111111111111111,
              "#46039f"
             ],
             [
              0.2222222222222222,
              "#7201a8"
             ],
             [
              0.3333333333333333,
              "#9c179e"
             ],
             [
              0.4444444444444444,
              "#bd3786"
             ],
             [
              0.5555555555555556,
              "#d8576b"
             ],
             [
              0.6666666666666666,
              "#ed7953"
             ],
             [
              0.7777777777777778,
              "#fb9f3a"
             ],
             [
              0.8888888888888888,
              "#fdca26"
             ],
             [
              1,
              "#f0f921"
             ]
            ],
            "type": "heatmap"
           }
          ],
          "heatmapgl": [
           {
            "colorbar": {
             "outlinewidth": 0,
             "ticks": ""
            },
            "colorscale": [
             [
              0,
              "#0d0887"
             ],
             [
              0.1111111111111111,
              "#46039f"
             ],
             [
              0.2222222222222222,
              "#7201a8"
             ],
             [
              0.3333333333333333,
              "#9c179e"
             ],
             [
              0.4444444444444444,
              "#bd3786"
             ],
             [
              0.5555555555555556,
              "#d8576b"
             ],
             [
              0.6666666666666666,
              "#ed7953"
             ],
             [
              0.7777777777777778,
              "#fb9f3a"
             ],
             [
              0.8888888888888888,
              "#fdca26"
             ],
             [
              1,
              "#f0f921"
             ]
            ],
            "type": "heatmapgl"
           }
          ],
          "histogram": [
           {
            "marker": {
             "pattern": {
              "fillmode": "overlay",
              "size": 10,
              "solidity": 0.2
             }
            },
            "type": "histogram"
           }
          ],
          "histogram2d": [
           {
            "colorbar": {
             "outlinewidth": 0,
             "ticks": ""
            },
            "colorscale": [
             [
              0,
              "#0d0887"
             ],
             [
              0.1111111111111111,
              "#46039f"
             ],
             [
              0.2222222222222222,
              "#7201a8"
             ],
             [
              0.3333333333333333,
              "#9c179e"
             ],
             [
              0.4444444444444444,
              "#bd3786"
             ],
             [
              0.5555555555555556,
              "#d8576b"
             ],
             [
              0.6666666666666666,
              "#ed7953"
             ],
             [
              0.7777777777777778,
              "#fb9f3a"
             ],
             [
              0.8888888888888888,
              "#fdca26"
             ],
             [
              1,
              "#f0f921"
             ]
            ],
            "type": "histogram2d"
           }
          ],
          "histogram2dcontour": [
           {
            "colorbar": {
             "outlinewidth": 0,
             "ticks": ""
            },
            "colorscale": [
             [
              0,
              "#0d0887"
             ],
             [
              0.1111111111111111,
              "#46039f"
             ],
             [
              0.2222222222222222,
              "#7201a8"
             ],
             [
              0.3333333333333333,
              "#9c179e"
             ],
             [
              0.4444444444444444,
              "#bd3786"
             ],
             [
              0.5555555555555556,
              "#d8576b"
             ],
             [
              0.6666666666666666,
              "#ed7953"
             ],
             [
              0.7777777777777778,
              "#fb9f3a"
             ],
             [
              0.8888888888888888,
              "#fdca26"
             ],
             [
              1,
              "#f0f921"
             ]
            ],
            "type": "histogram2dcontour"
           }
          ],
          "mesh3d": [
           {
            "colorbar": {
             "outlinewidth": 0,
             "ticks": ""
            },
            "type": "mesh3d"
           }
          ],
          "parcoords": [
           {
            "line": {
             "colorbar": {
              "outlinewidth": 0,
              "ticks": ""
             }
            },
            "type": "parcoords"
           }
          ],
          "pie": [
           {
            "automargin": true,
            "type": "pie"
           }
          ],
          "scatter": [
           {
            "fillpattern": {
             "fillmode": "overlay",
             "size": 10,
             "solidity": 0.2
            },
            "type": "scatter"
           }
          ],
          "scatter3d": [
           {
            "line": {
             "colorbar": {
              "outlinewidth": 0,
              "ticks": ""
             }
            },
            "marker": {
             "colorbar": {
              "outlinewidth": 0,
              "ticks": ""
             }
            },
            "type": "scatter3d"
           }
          ],
          "scattercarpet": [
           {
            "marker": {
             "colorbar": {
              "outlinewidth": 0,
              "ticks": ""
             }
            },
            "type": "scattercarpet"
           }
          ],
          "scattergeo": [
           {
            "marker": {
             "colorbar": {
              "outlinewidth": 0,
              "ticks": ""
             }
            },
            "type": "scattergeo"
           }
          ],
          "scattergl": [
           {
            "marker": {
             "colorbar": {
              "outlinewidth": 0,
              "ticks": ""
             }
            },
            "type": "scattergl"
           }
          ],
          "scattermapbox": [
           {
            "marker": {
             "colorbar": {
              "outlinewidth": 0,
              "ticks": ""
             }
            },
            "type": "scattermapbox"
           }
          ],
          "scatterpolar": [
           {
            "marker": {
             "colorbar": {
              "outlinewidth": 0,
              "ticks": ""
             }
            },
            "type": "scatterpolar"
           }
          ],
          "scatterpolargl": [
           {
            "marker": {
             "colorbar": {
              "outlinewidth": 0,
              "ticks": ""
             }
            },
            "type": "scatterpolargl"
           }
          ],
          "scatterternary": [
           {
            "marker": {
             "colorbar": {
              "outlinewidth": 0,
              "ticks": ""
             }
            },
            "type": "scatterternary"
           }
          ],
          "surface": [
           {
            "colorbar": {
             "outlinewidth": 0,
             "ticks": ""
            },
            "colorscale": [
             [
              0,
              "#0d0887"
             ],
             [
              0.1111111111111111,
              "#46039f"
             ],
             [
              0.2222222222222222,
              "#7201a8"
             ],
             [
              0.3333333333333333,
              "#9c179e"
             ],
             [
              0.4444444444444444,
              "#bd3786"
             ],
             [
              0.5555555555555556,
              "#d8576b"
             ],
             [
              0.6666666666666666,
              "#ed7953"
             ],
             [
              0.7777777777777778,
              "#fb9f3a"
             ],
             [
              0.8888888888888888,
              "#fdca26"
             ],
             [
              1,
              "#f0f921"
             ]
            ],
            "type": "surface"
           }
          ],
          "table": [
           {
            "cells": {
             "fill": {
              "color": "#EBF0F8"
             },
             "line": {
              "color": "white"
             }
            },
            "header": {
             "fill": {
              "color": "#C8D4E3"
             },
             "line": {
              "color": "white"
             }
            },
            "type": "table"
           }
          ]
         },
         "layout": {
          "annotationdefaults": {
           "arrowcolor": "#2a3f5f",
           "arrowhead": 0,
           "arrowwidth": 1
          },
          "autotypenumbers": "strict",
          "coloraxis": {
           "colorbar": {
            "outlinewidth": 0,
            "ticks": ""
           }
          },
          "colorscale": {
           "diverging": [
            [
             0,
             "#8e0152"
            ],
            [
             0.1,
             "#c51b7d"
            ],
            [
             0.2,
             "#de77ae"
            ],
            [
             0.3,
             "#f1b6da"
            ],
            [
             0.4,
             "#fde0ef"
            ],
            [
             0.5,
             "#f7f7f7"
            ],
            [
             0.6,
             "#e6f5d0"
            ],
            [
             0.7,
             "#b8e186"
            ],
            [
             0.8,
             "#7fbc41"
            ],
            [
             0.9,
             "#4d9221"
            ],
            [
             1,
             "#276419"
            ]
           ],
           "sequential": [
            [
             0,
             "#0d0887"
            ],
            [
             0.1111111111111111,
             "#46039f"
            ],
            [
             0.2222222222222222,
             "#7201a8"
            ],
            [
             0.3333333333333333,
             "#9c179e"
            ],
            [
             0.4444444444444444,
             "#bd3786"
            ],
            [
             0.5555555555555556,
             "#d8576b"
            ],
            [
             0.6666666666666666,
             "#ed7953"
            ],
            [
             0.7777777777777778,
             "#fb9f3a"
            ],
            [
             0.8888888888888888,
             "#fdca26"
            ],
            [
             1,
             "#f0f921"
            ]
           ],
           "sequentialminus": [
            [
             0,
             "#0d0887"
            ],
            [
             0.1111111111111111,
             "#46039f"
            ],
            [
             0.2222222222222222,
             "#7201a8"
            ],
            [
             0.3333333333333333,
             "#9c179e"
            ],
            [
             0.4444444444444444,
             "#bd3786"
            ],
            [
             0.5555555555555556,
             "#d8576b"
            ],
            [
             0.6666666666666666,
             "#ed7953"
            ],
            [
             0.7777777777777778,
             "#fb9f3a"
            ],
            [
             0.8888888888888888,
             "#fdca26"
            ],
            [
             1,
             "#f0f921"
            ]
           ]
          },
          "colorway": [
           "#636efa",
           "#EF553B",
           "#00cc96",
           "#ab63fa",
           "#FFA15A",
           "#19d3f3",
           "#FF6692",
           "#B6E880",
           "#FF97FF",
           "#FECB52"
          ],
          "font": {
           "color": "#2a3f5f"
          },
          "geo": {
           "bgcolor": "white",
           "lakecolor": "white",
           "landcolor": "#E5ECF6",
           "showlakes": true,
           "showland": true,
           "subunitcolor": "white"
          },
          "hoverlabel": {
           "align": "left"
          },
          "hovermode": "closest",
          "mapbox": {
           "style": "light"
          },
          "paper_bgcolor": "white",
          "plot_bgcolor": "#E5ECF6",
          "polar": {
           "angularaxis": {
            "gridcolor": "white",
            "linecolor": "white",
            "ticks": ""
           },
           "bgcolor": "#E5ECF6",
           "radialaxis": {
            "gridcolor": "white",
            "linecolor": "white",
            "ticks": ""
           }
          },
          "scene": {
           "xaxis": {
            "backgroundcolor": "#E5ECF6",
            "gridcolor": "white",
            "gridwidth": 2,
            "linecolor": "white",
            "showbackground": true,
            "ticks": "",
            "zerolinecolor": "white"
           },
           "yaxis": {
            "backgroundcolor": "#E5ECF6",
            "gridcolor": "white",
            "gridwidth": 2,
            "linecolor": "white",
            "showbackground": true,
            "ticks": "",
            "zerolinecolor": "white"
           },
           "zaxis": {
            "backgroundcolor": "#E5ECF6",
            "gridcolor": "white",
            "gridwidth": 2,
            "linecolor": "white",
            "showbackground": true,
            "ticks": "",
            "zerolinecolor": "white"
           }
          },
          "shapedefaults": {
           "line": {
            "color": "#2a3f5f"
           }
          },
          "ternary": {
           "aaxis": {
            "gridcolor": "white",
            "linecolor": "white",
            "ticks": ""
           },
           "baxis": {
            "gridcolor": "white",
            "linecolor": "white",
            "ticks": ""
           },
           "bgcolor": "#E5ECF6",
           "caxis": {
            "gridcolor": "white",
            "linecolor": "white",
            "ticks": ""
           }
          },
          "title": {
           "x": 0.05
          },
          "xaxis": {
           "automargin": true,
           "gridcolor": "white",
           "linecolor": "white",
           "ticks": "",
           "title": {
            "standoff": 15
           },
           "zerolinecolor": "white",
           "zerolinewidth": 2
          },
          "yaxis": {
           "automargin": true,
           "gridcolor": "white",
           "linecolor": "white",
           "ticks": "",
           "title": {
            "standoff": 15
           },
           "zerolinecolor": "white",
           "zerolinewidth": 2
          }
         }
        },
        "title": {
         "text": "TEPR by Navigation Model"
        },
        "width": 600,
        "xaxis": {
         "anchor": "y",
         "categoryarray": [
          0,
          1
         ],
         "categoryorder": "array",
         "domain": [
          0,
          1
         ],
         "title": {
          "text": "methodID"
         }
        },
        "yaxis": {
         "anchor": "x",
         "domain": [
          0,
          1
         ],
         "title": {
          "text": "tepr"
         }
        }
       }
      }
     },
     "metadata": {},
     "output_type": "display_data"
    }
   ],
   "source": [
    "model_crt_tepr = model_data_crt.loc[(slice(None), slice(None)), ('pupilDiameter', 'plr', 'tepr')]\n",
    "method_crt_tepr = method_data_crt.loc[(slice(None), slice(None)), ('pupilDiameter', 'plr', 'tepr')]\n",
    "\n",
    "method_tepr_0 = method_data_crt.loc[(slice(None), 0), 'tepr']\n",
    "method_tepr_1 = method_data_crt.loc[(slice(None), 1), 'tepr']\n",
    "method_tepr_0.reset_index(drop=True, inplace=True)\n",
    "method_tepr_1.reset_index(drop=True, inplace=True)\n",
    "\n",
    "#shapiro-wilk test\n",
    "stat0, p0 = stats.shapiro(method_tepr_0)\n",
    "stat1, p1 = stats.shapiro(method_tepr_1)\n",
    "\n",
    "#shapiro-wilk test\n",
    "stat, p = stats.shapiro(method_tepr_0)\n",
    "print('Shapiro-Wilk M0 = %.3f, p = %.3f' % (stat, p))\n",
    "\n",
    "stat, p = stats.shapiro(method_tepr_1)\n",
    "print('Shapiro-Wilk M1 = %.3f, p = %.3f' % (stat, p))\n",
    "\n",
    "#wilcoxon test\n",
    "stat, p = stats.wilcoxon(method_tepr_0)\n",
    "print('Wilcoxon M0 = %.3f, p = %.5f' % (stat, p))\n",
    "\n",
    "stat, p = stats.wilcoxon(method_tepr_1)\n",
    "print('Wilcoxon M1 = %.3f, p = %.5f' % (stat, p))\n",
    "\n",
    "#paired t-test\n",
    "t_stat, p_val = stats.ttest_rel(method_data_crt.loc[(slice(None), 0), 'pupilDiameter'].reset_index(drop=True), method_data_crt.loc[(slice(None), 0), 'plr'].reset_index(drop=True))\n",
    "print('Paired t-test = %.3f, p = %.6f' % (t_stat, p_val))\n",
    "t_stat, p_val = stats.ttest_rel(method_data_crt.loc[(slice(None), 1), 'pupilDiameter'].reset_index(drop=True), method_data_crt.loc[(slice(None), 1), 'plr'].reset_index(drop=True))\n",
    "print('Paired t-test = %.3f, p = %.6f' % (t_stat, p_val))\n",
    "\n",
    "box_fig = px.box(method_crt_tepr.reset_index('methodID'), x='methodID', y='tepr', color='methodID', notched=True, title='TEPR by Navigation Model', color_discrete_sequence=px.colors.qualitative.D3)\n",
    "box_fig.update_layout(width=600)\n",
    "box_fig.show()"
   ]
  },
  {
   "cell_type": "markdown",
   "metadata": {},
   "source": [
    "### Creation Workload by Method"
   ]
  },
  {
   "cell_type": "code",
   "execution_count": 20,
   "metadata": {},
   "outputs": [
    {
     "name": "stdout",
     "output_type": "stream",
     "text": [
      "Method 0\n",
      "Mean = 0.618\n",
      "Median = 0.607\n",
      "Std = 0.316\n",
      "Method 1\n",
      "Mean = 0.456\n",
      "Median = 0.484\n",
      "Std = 0.262\n",
      "Shapiro-Wilk total = 0.877, p = 0.00000\n",
      "Wilcoxon = 3.000, p = 0.00004\n",
      "Paired t-test = 4.177, p = 0.00063\n"
     ]
    }
   ],
   "source": [
    "#descriptive stats (avg, median, std)\n",
    "print('Method 0')\n",
    "print('Mean = %.3f' % method_tepr_0.mean())\n",
    "print('Median = %.3f' % method_tepr_0.median())\n",
    "print('Std = %.3f' % method_tepr_0.std())\n",
    "\n",
    "print('Method 1')\n",
    "print('Mean = %.3f' % method_tepr_1.mean())\n",
    "print('Median = %.3f' % method_tepr_1.median())\n",
    "print('Std = %.3f' % method_tepr_1.std())\n",
    "\n",
    "#shapiro-wilk test\n",
    "stat, p = stats.shapiro(method_crt_tepr)\n",
    "print('Shapiro-Wilk total = %.3f, p = %.5f' % (stat, p))\n",
    "\n",
    "#wilcoxon test\n",
    "stat, p = stats.wilcoxon(method_tepr_0, method_tepr_1)\n",
    "print('Wilcoxon = %.3f, p = %.5f' % (stat, p))\n",
    "\n",
    "#paired t-test\n",
    "t_stat, p_val = stats.ttest_rel(method_tepr_0, method_tepr_1)\n",
    "print('Paired t-test = %.3f, p = %.5f' % (t_stat, p_val))\n"
   ]
  },
  {
   "cell_type": "code",
   "execution_count": 21,
   "metadata": {},
   "outputs": [
    {
     "data": {
      "application/vnd.plotly.v1+json": {
       "config": {
        "plotlyServerURL": "https://plot.ly"
       },
       "data": [
        {
         "alignmentgroup": "True",
         "hovertemplate": "methodID=%{x}<br>tepr=%{y}<extra></extra>",
         "legendgroup": "0.0",
         "marker": {
          "color": "#1F77B4"
         },
         "name": "0.0",
         "notched": true,
         "offsetgroup": "0.0",
         "orientation": "v",
         "showlegend": true,
         "type": "box",
         "x": [
          0,
          0,
          0,
          0,
          0,
          0,
          0,
          0,
          0,
          0,
          0,
          0,
          0,
          0,
          0,
          0,
          0,
          0
         ],
         "x0": " ",
         "xaxis": "x",
         "y": [
          1.227273941040039,
          0.6131488084793091,
          0.9899187088012695,
          0.9654049873352051,
          0.6196732521057129,
          0.06893584877252579,
          0.6003628969192505,
          0.32450079917907715,
          0.1975889652967453,
          0.2544536292552948,
          0.5915446281433105,
          0.455917626619339,
          0.6589441895484924,
          0.373954176902771,
          0.719454288482666,
          0.5360550284385681,
          0.859069287776947,
          1.072921633720398
         ],
         "y0": " ",
         "yaxis": "y"
        },
        {
         "alignmentgroup": "True",
         "hovertemplate": "methodID=%{x}<br>tepr=%{y}<extra></extra>",
         "legendgroup": "1.0",
         "marker": {
          "color": "#FF7F0E"
         },
         "name": "1.0",
         "notched": true,
         "offsetgroup": "1.0",
         "orientation": "v",
         "showlegend": true,
         "type": "box",
         "x": [
          1,
          1,
          1,
          1,
          1,
          1,
          1,
          1,
          1,
          1,
          1,
          1,
          1,
          1,
          1,
          1,
          1,
          1
         ],
         "x0": " ",
         "xaxis": "x",
         "y": [
          0.6582885980606079,
          0.5195658802986145,
          0.9442088603973389,
          0.9877976179122925,
          0.2573286294937134,
          -0.0071441419422626495,
          0.4776589274406433,
          0.09995613992214203,
          0.20578815042972565,
          0.20818057656288147,
          0.5030357241630554,
          0.3109663128852844,
          0.5918079614639282,
          0.3197654187679291,
          0.4886346161365509,
          0.4793926477432251,
          0.5271281003952026,
          0.6275349259376526
         ],
         "y0": " ",
         "yaxis": "y"
        }
       ],
       "layout": {
        "boxmode": "overlay",
        "legend": {
         "title": {
          "text": "methodID"
         },
         "tracegroupgap": 0
        },
        "template": {
         "data": {
          "bar": [
           {
            "error_x": {
             "color": "#2a3f5f"
            },
            "error_y": {
             "color": "#2a3f5f"
            },
            "marker": {
             "line": {
              "color": "#E5ECF6",
              "width": 0.5
             },
             "pattern": {
              "fillmode": "overlay",
              "size": 10,
              "solidity": 0.2
             }
            },
            "type": "bar"
           }
          ],
          "barpolar": [
           {
            "marker": {
             "line": {
              "color": "#E5ECF6",
              "width": 0.5
             },
             "pattern": {
              "fillmode": "overlay",
              "size": 10,
              "solidity": 0.2
             }
            },
            "type": "barpolar"
           }
          ],
          "carpet": [
           {
            "aaxis": {
             "endlinecolor": "#2a3f5f",
             "gridcolor": "white",
             "linecolor": "white",
             "minorgridcolor": "white",
             "startlinecolor": "#2a3f5f"
            },
            "baxis": {
             "endlinecolor": "#2a3f5f",
             "gridcolor": "white",
             "linecolor": "white",
             "minorgridcolor": "white",
             "startlinecolor": "#2a3f5f"
            },
            "type": "carpet"
           }
          ],
          "choropleth": [
           {
            "colorbar": {
             "outlinewidth": 0,
             "ticks": ""
            },
            "type": "choropleth"
           }
          ],
          "contour": [
           {
            "colorbar": {
             "outlinewidth": 0,
             "ticks": ""
            },
            "colorscale": [
             [
              0,
              "#0d0887"
             ],
             [
              0.1111111111111111,
              "#46039f"
             ],
             [
              0.2222222222222222,
              "#7201a8"
             ],
             [
              0.3333333333333333,
              "#9c179e"
             ],
             [
              0.4444444444444444,
              "#bd3786"
             ],
             [
              0.5555555555555556,
              "#d8576b"
             ],
             [
              0.6666666666666666,
              "#ed7953"
             ],
             [
              0.7777777777777778,
              "#fb9f3a"
             ],
             [
              0.8888888888888888,
              "#fdca26"
             ],
             [
              1,
              "#f0f921"
             ]
            ],
            "type": "contour"
           }
          ],
          "contourcarpet": [
           {
            "colorbar": {
             "outlinewidth": 0,
             "ticks": ""
            },
            "type": "contourcarpet"
           }
          ],
          "heatmap": [
           {
            "colorbar": {
             "outlinewidth": 0,
             "ticks": ""
            },
            "colorscale": [
             [
              0,
              "#0d0887"
             ],
             [
              0.1111111111111111,
              "#46039f"
             ],
             [
              0.2222222222222222,
              "#7201a8"
             ],
             [
              0.3333333333333333,
              "#9c179e"
             ],
             [
              0.4444444444444444,
              "#bd3786"
             ],
             [
              0.5555555555555556,
              "#d8576b"
             ],
             [
              0.6666666666666666,
              "#ed7953"
             ],
             [
              0.7777777777777778,
              "#fb9f3a"
             ],
             [
              0.8888888888888888,
              "#fdca26"
             ],
             [
              1,
              "#f0f921"
             ]
            ],
            "type": "heatmap"
           }
          ],
          "heatmapgl": [
           {
            "colorbar": {
             "outlinewidth": 0,
             "ticks": ""
            },
            "colorscale": [
             [
              0,
              "#0d0887"
             ],
             [
              0.1111111111111111,
              "#46039f"
             ],
             [
              0.2222222222222222,
              "#7201a8"
             ],
             [
              0.3333333333333333,
              "#9c179e"
             ],
             [
              0.4444444444444444,
              "#bd3786"
             ],
             [
              0.5555555555555556,
              "#d8576b"
             ],
             [
              0.6666666666666666,
              "#ed7953"
             ],
             [
              0.7777777777777778,
              "#fb9f3a"
             ],
             [
              0.8888888888888888,
              "#fdca26"
             ],
             [
              1,
              "#f0f921"
             ]
            ],
            "type": "heatmapgl"
           }
          ],
          "histogram": [
           {
            "marker": {
             "pattern": {
              "fillmode": "overlay",
              "size": 10,
              "solidity": 0.2
             }
            },
            "type": "histogram"
           }
          ],
          "histogram2d": [
           {
            "colorbar": {
             "outlinewidth": 0,
             "ticks": ""
            },
            "colorscale": [
             [
              0,
              "#0d0887"
             ],
             [
              0.1111111111111111,
              "#46039f"
             ],
             [
              0.2222222222222222,
              "#7201a8"
             ],
             [
              0.3333333333333333,
              "#9c179e"
             ],
             [
              0.4444444444444444,
              "#bd3786"
             ],
             [
              0.5555555555555556,
              "#d8576b"
             ],
             [
              0.6666666666666666,
              "#ed7953"
             ],
             [
              0.7777777777777778,
              "#fb9f3a"
             ],
             [
              0.8888888888888888,
              "#fdca26"
             ],
             [
              1,
              "#f0f921"
             ]
            ],
            "type": "histogram2d"
           }
          ],
          "histogram2dcontour": [
           {
            "colorbar": {
             "outlinewidth": 0,
             "ticks": ""
            },
            "colorscale": [
             [
              0,
              "#0d0887"
             ],
             [
              0.1111111111111111,
              "#46039f"
             ],
             [
              0.2222222222222222,
              "#7201a8"
             ],
             [
              0.3333333333333333,
              "#9c179e"
             ],
             [
              0.4444444444444444,
              "#bd3786"
             ],
             [
              0.5555555555555556,
              "#d8576b"
             ],
             [
              0.6666666666666666,
              "#ed7953"
             ],
             [
              0.7777777777777778,
              "#fb9f3a"
             ],
             [
              0.8888888888888888,
              "#fdca26"
             ],
             [
              1,
              "#f0f921"
             ]
            ],
            "type": "histogram2dcontour"
           }
          ],
          "mesh3d": [
           {
            "colorbar": {
             "outlinewidth": 0,
             "ticks": ""
            },
            "type": "mesh3d"
           }
          ],
          "parcoords": [
           {
            "line": {
             "colorbar": {
              "outlinewidth": 0,
              "ticks": ""
             }
            },
            "type": "parcoords"
           }
          ],
          "pie": [
           {
            "automargin": true,
            "type": "pie"
           }
          ],
          "scatter": [
           {
            "fillpattern": {
             "fillmode": "overlay",
             "size": 10,
             "solidity": 0.2
            },
            "type": "scatter"
           }
          ],
          "scatter3d": [
           {
            "line": {
             "colorbar": {
              "outlinewidth": 0,
              "ticks": ""
             }
            },
            "marker": {
             "colorbar": {
              "outlinewidth": 0,
              "ticks": ""
             }
            },
            "type": "scatter3d"
           }
          ],
          "scattercarpet": [
           {
            "marker": {
             "colorbar": {
              "outlinewidth": 0,
              "ticks": ""
             }
            },
            "type": "scattercarpet"
           }
          ],
          "scattergeo": [
           {
            "marker": {
             "colorbar": {
              "outlinewidth": 0,
              "ticks": ""
             }
            },
            "type": "scattergeo"
           }
          ],
          "scattergl": [
           {
            "marker": {
             "colorbar": {
              "outlinewidth": 0,
              "ticks": ""
             }
            },
            "type": "scattergl"
           }
          ],
          "scattermapbox": [
           {
            "marker": {
             "colorbar": {
              "outlinewidth": 0,
              "ticks": ""
             }
            },
            "type": "scattermapbox"
           }
          ],
          "scatterpolar": [
           {
            "marker": {
             "colorbar": {
              "outlinewidth": 0,
              "ticks": ""
             }
            },
            "type": "scatterpolar"
           }
          ],
          "scatterpolargl": [
           {
            "marker": {
             "colorbar": {
              "outlinewidth": 0,
              "ticks": ""
             }
            },
            "type": "scatterpolargl"
           }
          ],
          "scatterternary": [
           {
            "marker": {
             "colorbar": {
              "outlinewidth": 0,
              "ticks": ""
             }
            },
            "type": "scatterternary"
           }
          ],
          "surface": [
           {
            "colorbar": {
             "outlinewidth": 0,
             "ticks": ""
            },
            "colorscale": [
             [
              0,
              "#0d0887"
             ],
             [
              0.1111111111111111,
              "#46039f"
             ],
             [
              0.2222222222222222,
              "#7201a8"
             ],
             [
              0.3333333333333333,
              "#9c179e"
             ],
             [
              0.4444444444444444,
              "#bd3786"
             ],
             [
              0.5555555555555556,
              "#d8576b"
             ],
             [
              0.6666666666666666,
              "#ed7953"
             ],
             [
              0.7777777777777778,
              "#fb9f3a"
             ],
             [
              0.8888888888888888,
              "#fdca26"
             ],
             [
              1,
              "#f0f921"
             ]
            ],
            "type": "surface"
           }
          ],
          "table": [
           {
            "cells": {
             "fill": {
              "color": "#EBF0F8"
             },
             "line": {
              "color": "white"
             }
            },
            "header": {
             "fill": {
              "color": "#C8D4E3"
             },
             "line": {
              "color": "white"
             }
            },
            "type": "table"
           }
          ]
         },
         "layout": {
          "annotationdefaults": {
           "arrowcolor": "#2a3f5f",
           "arrowhead": 0,
           "arrowwidth": 1
          },
          "autotypenumbers": "strict",
          "coloraxis": {
           "colorbar": {
            "outlinewidth": 0,
            "ticks": ""
           }
          },
          "colorscale": {
           "diverging": [
            [
             0,
             "#8e0152"
            ],
            [
             0.1,
             "#c51b7d"
            ],
            [
             0.2,
             "#de77ae"
            ],
            [
             0.3,
             "#f1b6da"
            ],
            [
             0.4,
             "#fde0ef"
            ],
            [
             0.5,
             "#f7f7f7"
            ],
            [
             0.6,
             "#e6f5d0"
            ],
            [
             0.7,
             "#b8e186"
            ],
            [
             0.8,
             "#7fbc41"
            ],
            [
             0.9,
             "#4d9221"
            ],
            [
             1,
             "#276419"
            ]
           ],
           "sequential": [
            [
             0,
             "#0d0887"
            ],
            [
             0.1111111111111111,
             "#46039f"
            ],
            [
             0.2222222222222222,
             "#7201a8"
            ],
            [
             0.3333333333333333,
             "#9c179e"
            ],
            [
             0.4444444444444444,
             "#bd3786"
            ],
            [
             0.5555555555555556,
             "#d8576b"
            ],
            [
             0.6666666666666666,
             "#ed7953"
            ],
            [
             0.7777777777777778,
             "#fb9f3a"
            ],
            [
             0.8888888888888888,
             "#fdca26"
            ],
            [
             1,
             "#f0f921"
            ]
           ],
           "sequentialminus": [
            [
             0,
             "#0d0887"
            ],
            [
             0.1111111111111111,
             "#46039f"
            ],
            [
             0.2222222222222222,
             "#7201a8"
            ],
            [
             0.3333333333333333,
             "#9c179e"
            ],
            [
             0.4444444444444444,
             "#bd3786"
            ],
            [
             0.5555555555555556,
             "#d8576b"
            ],
            [
             0.6666666666666666,
             "#ed7953"
            ],
            [
             0.7777777777777778,
             "#fb9f3a"
            ],
            [
             0.8888888888888888,
             "#fdca26"
            ],
            [
             1,
             "#f0f921"
            ]
           ]
          },
          "colorway": [
           "#636efa",
           "#EF553B",
           "#00cc96",
           "#ab63fa",
           "#FFA15A",
           "#19d3f3",
           "#FF6692",
           "#B6E880",
           "#FF97FF",
           "#FECB52"
          ],
          "font": {
           "color": "#2a3f5f"
          },
          "geo": {
           "bgcolor": "white",
           "lakecolor": "white",
           "landcolor": "#E5ECF6",
           "showlakes": true,
           "showland": true,
           "subunitcolor": "white"
          },
          "hoverlabel": {
           "align": "left"
          },
          "hovermode": "closest",
          "mapbox": {
           "style": "light"
          },
          "paper_bgcolor": "white",
          "plot_bgcolor": "#E5ECF6",
          "polar": {
           "angularaxis": {
            "gridcolor": "white",
            "linecolor": "white",
            "ticks": ""
           },
           "bgcolor": "#E5ECF6",
           "radialaxis": {
            "gridcolor": "white",
            "linecolor": "white",
            "ticks": ""
           }
          },
          "scene": {
           "xaxis": {
            "backgroundcolor": "#E5ECF6",
            "gridcolor": "white",
            "gridwidth": 2,
            "linecolor": "white",
            "showbackground": true,
            "ticks": "",
            "zerolinecolor": "white"
           },
           "yaxis": {
            "backgroundcolor": "#E5ECF6",
            "gridcolor": "white",
            "gridwidth": 2,
            "linecolor": "white",
            "showbackground": true,
            "ticks": "",
            "zerolinecolor": "white"
           },
           "zaxis": {
            "backgroundcolor": "#E5ECF6",
            "gridcolor": "white",
            "gridwidth": 2,
            "linecolor": "white",
            "showbackground": true,
            "ticks": "",
            "zerolinecolor": "white"
           }
          },
          "shapedefaults": {
           "line": {
            "color": "#2a3f5f"
           }
          },
          "ternary": {
           "aaxis": {
            "gridcolor": "white",
            "linecolor": "white",
            "ticks": ""
           },
           "baxis": {
            "gridcolor": "white",
            "linecolor": "white",
            "ticks": ""
           },
           "bgcolor": "#E5ECF6",
           "caxis": {
            "gridcolor": "white",
            "linecolor": "white",
            "ticks": ""
           }
          },
          "title": {
           "x": 0.05
          },
          "xaxis": {
           "automargin": true,
           "gridcolor": "white",
           "linecolor": "white",
           "ticks": "",
           "title": {
            "standoff": 15
           },
           "zerolinecolor": "white",
           "zerolinewidth": 2
          },
          "yaxis": {
           "automargin": true,
           "gridcolor": "white",
           "linecolor": "white",
           "ticks": "",
           "title": {
            "standoff": 15
           },
           "zerolinecolor": "white",
           "zerolinewidth": 2
          }
         }
        },
        "title": {
         "text": "TEPR by Creation Method"
        },
        "width": 600,
        "xaxis": {
         "anchor": "y",
         "categoryarray": [
          0,
          1
         ],
         "categoryorder": "array",
         "domain": [
          0,
          1
         ],
         "title": {
          "text": "Method"
         }
        },
        "yaxis": {
         "anchor": "x",
         "domain": [
          0,
          1
         ],
         "range": [
          0,
          1.3
         ],
         "title": {
          "text": "TEPR"
         }
        }
       }
      }
     },
     "metadata": {},
     "output_type": "display_data"
    }
   ],
   "source": [
    "df = method_data_crt.loc[(slice(None), slice(None)), 'tepr'].reset_index('methodID')\n",
    "crt_tepr_fig = px.box(df, x='methodID', y ='tepr', color='methodID', notched=True, title='TEPR by Creation Method', color_discrete_sequence=px.colors.qualitative.D3)\n",
    "crt_tepr_fig.update_yaxes(range=[0,1.3])\n",
    "crt_tepr_fig.update_layout(\n",
    "    xaxis_title='Method',\n",
    "    yaxis_title='TEPR',\n",
    "    width=600,\n",
    ")\n",
    "crt_tepr_fig.show()\n"
   ]
  },
  {
   "cell_type": "code",
   "execution_count": 22,
   "metadata": {},
   "outputs": [
    {
     "name": "stdout",
     "output_type": "stream",
     "text": [
      "Shapiro-Wilk total = 0.971, p = 0.089\n",
      "Friedman = 4.067, p = 0.254355\n"
     ]
    }
   ],
   "source": [
    "model_crt_tepr = model_data_crt.loc[(slice(None), slice(None)), ('pupilDiameter', 'plr', 'tepr')]\n",
    "\n",
    "model_tepr_0 = model_crt_tepr.loc[(slice(None), 0), 'tepr']\n",
    "model_tepr_1 = model_crt_tepr.loc[(slice(None), 1), 'tepr']\n",
    "model_tepr_2 = model_crt_tepr.loc[(slice(None), 2), 'tepr']\n",
    "model_tepr_3 = model_crt_tepr.loc[(slice(None), 3), 'tepr']\n",
    "\n",
    "#shapiro-wilk test\n",
    "stat, p = stats.shapiro(model_crt_tepr['tepr'])\n",
    "print('Shapiro-Wilk total = %.3f, p = %.3f' % (stat, p))\n",
    "\n",
    "#Friedman test\n",
    "stat, p = stats.friedmanchisquare(model_tepr_0, model_tepr_1, model_tepr_2, model_tepr_3)\n",
    "print('Friedman = %.3f, p = %.6f' % (stat, p))"
   ]
  },
  {
   "cell_type": "markdown",
   "metadata": {},
   "source": [
    "### Discomfort Scores"
   ]
  },
  {
   "cell_type": "code",
   "execution_count": 23,
   "metadata": {},
   "outputs": [
    {
     "name": "stdout",
     "output_type": "stream",
     "text": [
      "Method 2\n",
      "Mean = 1.844\n",
      "Median = 0.900\n",
      "Std = 1.904\n",
      "Method 3\n",
      "Mean = 2.367\n",
      "Median = 2.000\n",
      "Std = 2.327\n",
      "Shapiro-Wilk total = 0.864, p = 0.00041\n",
      "Wilcoxon = 36.000, p = 0.03096\n",
      "Paired t-test = -2.645, p = 0.01703\n"
     ]
    },
    {
     "name": "stderr",
     "output_type": "stream",
     "text": [
      "c:\\Users\\court\\Documents\\Github Projects\\CurrentStudy\\.venv\\Lib\\site-packages\\scipy\\stats\\_morestats.py:4088: UserWarning:\n",
      "\n",
      "Exact p-value calculation does not work if there are zeros. Switching to normal approximation.\n",
      "\n"
     ]
    }
   ],
   "source": [
    "discomfort_method = discomfort_data.loc[(slice(None), slice(None)), ['Value', 'MethodID', 'ModelID']]\n",
    "discomfort_method['Value'] = discomfort_method['Value'].astype(float)\n",
    "discomfort_method['MethodID'] = discomfort_method['MethodID'].astype(float)\n",
    "discomfort_method['ModelID'] = discomfort_method['ModelID'].astype(float)\n",
    "\n",
    "# find the average for each user for each method\n",
    "discomfort_avg = discomfort_method.groupby(['UserID', 'MethodID']).mean()\n",
    "discomfort_method_2 = discomfort_avg.loc[(slice(None), 2), 'Value']\n",
    "discomfort_method_3 = discomfort_avg.loc[(slice(None), 3), 'Value']\n",
    "\n",
    "print('Method 2')\n",
    "print('Mean = %.3f' % discomfort_method_2.mean())\n",
    "print('Median = %.3f' % discomfort_method_2.median())\n",
    "print('Std = %.3f' % discomfort_method_2.std())\n",
    "\n",
    "print('Method 3')\n",
    "print('Mean = %.3f' % discomfort_method_3.mean())\n",
    "print('Median = %.3f' % discomfort_method_3.median())\n",
    "print('Std = %.3f' % discomfort_method_3.std())\n",
    "\n",
    "#shapiro-wilk test\n",
    "stat, p = stats.shapiro(discomfort_avg['Value'])\n",
    "print('Shapiro-Wilk total = %.3f, p = %.5f' % (stat, p))\n",
    "\n",
    "#wilcoxon test\n",
    "stat, p = stats.wilcoxon(discomfort_method_2, discomfort_method_3, zero_method='zsplit')\n",
    "print('Wilcoxon = %.3f, p = %.5f' % (stat, p))\n",
    "\n",
    "#paired t-test\n",
    "t_stat, p_val = stats.ttest_rel(discomfort_method_2, discomfort_method_3)\n",
    "print('Paired t-test = %.3f, p = %.5f' % (t_stat, p_val))\n",
    "\n",
    "\n"
   ]
  },
  {
   "cell_type": "code",
   "execution_count": 24,
   "metadata": {},
   "outputs": [
    {
     "data": {
      "application/vnd.plotly.v1+json": {
       "config": {
        "plotlyServerURL": "https://plot.ly"
       },
       "data": [
        {
         "alignmentgroup": "True",
         "hovertemplate": "MethodID=%{x}<br>Value=%{y}<extra></extra>",
         "legendgroup": "2.0",
         "marker": {
          "color": "#1F77B4"
         },
         "name": "2.0",
         "notched": true,
         "offsetgroup": "2.0",
         "orientation": "v",
         "showlegend": true,
         "type": "box",
         "x": [
          2,
          2,
          2,
          2,
          2,
          2,
          2,
          2,
          2,
          2,
          2,
          2,
          2,
          2,
          2,
          2,
          2,
          2,
          2,
          2,
          2,
          2,
          2,
          2,
          2,
          2,
          2,
          2,
          2,
          2,
          2,
          2,
          2,
          2,
          2,
          2,
          2,
          2,
          2,
          2,
          2,
          2,
          2,
          2,
          2,
          2,
          2,
          2,
          2,
          2,
          2,
          2,
          2,
          2,
          2,
          2,
          2,
          2,
          2,
          2,
          2,
          2,
          2,
          2,
          2,
          2,
          2,
          2,
          2,
          2,
          2,
          2,
          2,
          2,
          2,
          2,
          2,
          2,
          2,
          2,
          2,
          2,
          2,
          2,
          2,
          2,
          2,
          2,
          2,
          2
         ],
         "x0": " ",
         "xaxis": "x",
         "y": [
          2,
          1,
          2,
          1,
          2,
          0,
          0,
          0,
          0,
          0,
          4,
          5,
          5,
          5,
          5,
          1,
          2,
          1,
          0,
          0,
          4,
          4,
          5,
          5,
          4,
          1,
          1,
          1,
          0,
          0,
          1,
          0,
          0,
          0,
          0,
          1,
          3,
          2,
          1,
          1,
          3,
          1,
          1,
          0,
          0,
          0,
          0,
          0,
          0,
          0,
          2,
          1,
          0,
          1,
          0,
          2,
          1,
          0,
          0,
          1,
          2,
          3,
          4,
          4,
          5,
          6,
          7,
          8,
          6,
          7,
          1,
          0,
          1,
          0,
          1,
          2,
          1,
          2,
          2,
          3,
          3,
          3,
          3,
          3,
          2,
          1,
          2,
          1,
          0,
          0
         ],
         "y0": " ",
         "yaxis": "y"
        },
        {
         "alignmentgroup": "True",
         "hovertemplate": "MethodID=%{x}<br>Value=%{y}<extra></extra>",
         "legendgroup": "3.0",
         "marker": {
          "color": "#FF7F0E"
         },
         "name": "3.0",
         "notched": true,
         "offsetgroup": "3.0",
         "orientation": "v",
         "showlegend": true,
         "type": "box",
         "x": [
          3,
          3,
          3,
          3,
          3,
          3,
          3,
          3,
          3,
          3,
          3,
          3,
          3,
          3,
          3,
          3,
          3,
          3,
          3,
          3,
          3,
          3,
          3,
          3,
          3,
          3,
          3,
          3,
          3,
          3,
          3,
          3,
          3,
          3,
          3,
          3,
          3,
          3,
          3,
          3,
          3,
          3,
          3,
          3,
          3,
          3,
          3,
          3,
          3,
          3,
          3,
          3,
          3,
          3,
          3,
          3,
          3,
          3,
          3,
          3,
          3,
          3,
          3,
          3,
          3,
          3,
          3,
          3,
          3,
          3,
          3,
          3,
          3,
          3,
          3,
          3,
          3,
          3,
          3,
          3,
          3,
          3,
          3,
          3,
          3,
          3,
          3,
          3,
          3,
          3
         ],
         "x0": " ",
         "xaxis": "x",
         "y": [
          1,
          1,
          1,
          2,
          1,
          1,
          0,
          0,
          0,
          0,
          6,
          5,
          5,
          6,
          6,
          2,
          4,
          1,
          2,
          1,
          5,
          5,
          5,
          5,
          5,
          0,
          0,
          0,
          0,
          0,
          0,
          0,
          0,
          0,
          0,
          2,
          1,
          2,
          2,
          3,
          0,
          0,
          0,
          0,
          0,
          0,
          0,
          0,
          0,
          0,
          0,
          0,
          4,
          5,
          4,
          1,
          1,
          2,
          0,
          0,
          5,
          4,
          6,
          5,
          6,
          7,
          8,
          8,
          9,
          6,
          1,
          2,
          2,
          3,
          2,
          2,
          3,
          3,
          3,
          4,
          6,
          4,
          4,
          5,
          4,
          1,
          0,
          1,
          1,
          1
         ],
         "y0": " ",
         "yaxis": "y"
        }
       ],
       "layout": {
        "boxmode": "overlay",
        "legend": {
         "title": {
          "text": "MethodID"
         },
         "tracegroupgap": 0
        },
        "template": {
         "data": {
          "bar": [
           {
            "error_x": {
             "color": "#2a3f5f"
            },
            "error_y": {
             "color": "#2a3f5f"
            },
            "marker": {
             "line": {
              "color": "#E5ECF6",
              "width": 0.5
             },
             "pattern": {
              "fillmode": "overlay",
              "size": 10,
              "solidity": 0.2
             }
            },
            "type": "bar"
           }
          ],
          "barpolar": [
           {
            "marker": {
             "line": {
              "color": "#E5ECF6",
              "width": 0.5
             },
             "pattern": {
              "fillmode": "overlay",
              "size": 10,
              "solidity": 0.2
             }
            },
            "type": "barpolar"
           }
          ],
          "carpet": [
           {
            "aaxis": {
             "endlinecolor": "#2a3f5f",
             "gridcolor": "white",
             "linecolor": "white",
             "minorgridcolor": "white",
             "startlinecolor": "#2a3f5f"
            },
            "baxis": {
             "endlinecolor": "#2a3f5f",
             "gridcolor": "white",
             "linecolor": "white",
             "minorgridcolor": "white",
             "startlinecolor": "#2a3f5f"
            },
            "type": "carpet"
           }
          ],
          "choropleth": [
           {
            "colorbar": {
             "outlinewidth": 0,
             "ticks": ""
            },
            "type": "choropleth"
           }
          ],
          "contour": [
           {
            "colorbar": {
             "outlinewidth": 0,
             "ticks": ""
            },
            "colorscale": [
             [
              0,
              "#0d0887"
             ],
             [
              0.1111111111111111,
              "#46039f"
             ],
             [
              0.2222222222222222,
              "#7201a8"
             ],
             [
              0.3333333333333333,
              "#9c179e"
             ],
             [
              0.4444444444444444,
              "#bd3786"
             ],
             [
              0.5555555555555556,
              "#d8576b"
             ],
             [
              0.6666666666666666,
              "#ed7953"
             ],
             [
              0.7777777777777778,
              "#fb9f3a"
             ],
             [
              0.8888888888888888,
              "#fdca26"
             ],
             [
              1,
              "#f0f921"
             ]
            ],
            "type": "contour"
           }
          ],
          "contourcarpet": [
           {
            "colorbar": {
             "outlinewidth": 0,
             "ticks": ""
            },
            "type": "contourcarpet"
           }
          ],
          "heatmap": [
           {
            "colorbar": {
             "outlinewidth": 0,
             "ticks": ""
            },
            "colorscale": [
             [
              0,
              "#0d0887"
             ],
             [
              0.1111111111111111,
              "#46039f"
             ],
             [
              0.2222222222222222,
              "#7201a8"
             ],
             [
              0.3333333333333333,
              "#9c179e"
             ],
             [
              0.4444444444444444,
              "#bd3786"
             ],
             [
              0.5555555555555556,
              "#d8576b"
             ],
             [
              0.6666666666666666,
              "#ed7953"
             ],
             [
              0.7777777777777778,
              "#fb9f3a"
             ],
             [
              0.8888888888888888,
              "#fdca26"
             ],
             [
              1,
              "#f0f921"
             ]
            ],
            "type": "heatmap"
           }
          ],
          "heatmapgl": [
           {
            "colorbar": {
             "outlinewidth": 0,
             "ticks": ""
            },
            "colorscale": [
             [
              0,
              "#0d0887"
             ],
             [
              0.1111111111111111,
              "#46039f"
             ],
             [
              0.2222222222222222,
              "#7201a8"
             ],
             [
              0.3333333333333333,
              "#9c179e"
             ],
             [
              0.4444444444444444,
              "#bd3786"
             ],
             [
              0.5555555555555556,
              "#d8576b"
             ],
             [
              0.6666666666666666,
              "#ed7953"
             ],
             [
              0.7777777777777778,
              "#fb9f3a"
             ],
             [
              0.8888888888888888,
              "#fdca26"
             ],
             [
              1,
              "#f0f921"
             ]
            ],
            "type": "heatmapgl"
           }
          ],
          "histogram": [
           {
            "marker": {
             "pattern": {
              "fillmode": "overlay",
              "size": 10,
              "solidity": 0.2
             }
            },
            "type": "histogram"
           }
          ],
          "histogram2d": [
           {
            "colorbar": {
             "outlinewidth": 0,
             "ticks": ""
            },
            "colorscale": [
             [
              0,
              "#0d0887"
             ],
             [
              0.1111111111111111,
              "#46039f"
             ],
             [
              0.2222222222222222,
              "#7201a8"
             ],
             [
              0.3333333333333333,
              "#9c179e"
             ],
             [
              0.4444444444444444,
              "#bd3786"
             ],
             [
              0.5555555555555556,
              "#d8576b"
             ],
             [
              0.6666666666666666,
              "#ed7953"
             ],
             [
              0.7777777777777778,
              "#fb9f3a"
             ],
             [
              0.8888888888888888,
              "#fdca26"
             ],
             [
              1,
              "#f0f921"
             ]
            ],
            "type": "histogram2d"
           }
          ],
          "histogram2dcontour": [
           {
            "colorbar": {
             "outlinewidth": 0,
             "ticks": ""
            },
            "colorscale": [
             [
              0,
              "#0d0887"
             ],
             [
              0.1111111111111111,
              "#46039f"
             ],
             [
              0.2222222222222222,
              "#7201a8"
             ],
             [
              0.3333333333333333,
              "#9c179e"
             ],
             [
              0.4444444444444444,
              "#bd3786"
             ],
             [
              0.5555555555555556,
              "#d8576b"
             ],
             [
              0.6666666666666666,
              "#ed7953"
             ],
             [
              0.7777777777777778,
              "#fb9f3a"
             ],
             [
              0.8888888888888888,
              "#fdca26"
             ],
             [
              1,
              "#f0f921"
             ]
            ],
            "type": "histogram2dcontour"
           }
          ],
          "mesh3d": [
           {
            "colorbar": {
             "outlinewidth": 0,
             "ticks": ""
            },
            "type": "mesh3d"
           }
          ],
          "parcoords": [
           {
            "line": {
             "colorbar": {
              "outlinewidth": 0,
              "ticks": ""
             }
            },
            "type": "parcoords"
           }
          ],
          "pie": [
           {
            "automargin": true,
            "type": "pie"
           }
          ],
          "scatter": [
           {
            "fillpattern": {
             "fillmode": "overlay",
             "size": 10,
             "solidity": 0.2
            },
            "type": "scatter"
           }
          ],
          "scatter3d": [
           {
            "line": {
             "colorbar": {
              "outlinewidth": 0,
              "ticks": ""
             }
            },
            "marker": {
             "colorbar": {
              "outlinewidth": 0,
              "ticks": ""
             }
            },
            "type": "scatter3d"
           }
          ],
          "scattercarpet": [
           {
            "marker": {
             "colorbar": {
              "outlinewidth": 0,
              "ticks": ""
             }
            },
            "type": "scattercarpet"
           }
          ],
          "scattergeo": [
           {
            "marker": {
             "colorbar": {
              "outlinewidth": 0,
              "ticks": ""
             }
            },
            "type": "scattergeo"
           }
          ],
          "scattergl": [
           {
            "marker": {
             "colorbar": {
              "outlinewidth": 0,
              "ticks": ""
             }
            },
            "type": "scattergl"
           }
          ],
          "scattermapbox": [
           {
            "marker": {
             "colorbar": {
              "outlinewidth": 0,
              "ticks": ""
             }
            },
            "type": "scattermapbox"
           }
          ],
          "scatterpolar": [
           {
            "marker": {
             "colorbar": {
              "outlinewidth": 0,
              "ticks": ""
             }
            },
            "type": "scatterpolar"
           }
          ],
          "scatterpolargl": [
           {
            "marker": {
             "colorbar": {
              "outlinewidth": 0,
              "ticks": ""
             }
            },
            "type": "scatterpolargl"
           }
          ],
          "scatterternary": [
           {
            "marker": {
             "colorbar": {
              "outlinewidth": 0,
              "ticks": ""
             }
            },
            "type": "scatterternary"
           }
          ],
          "surface": [
           {
            "colorbar": {
             "outlinewidth": 0,
             "ticks": ""
            },
            "colorscale": [
             [
              0,
              "#0d0887"
             ],
             [
              0.1111111111111111,
              "#46039f"
             ],
             [
              0.2222222222222222,
              "#7201a8"
             ],
             [
              0.3333333333333333,
              "#9c179e"
             ],
             [
              0.4444444444444444,
              "#bd3786"
             ],
             [
              0.5555555555555556,
              "#d8576b"
             ],
             [
              0.6666666666666666,
              "#ed7953"
             ],
             [
              0.7777777777777778,
              "#fb9f3a"
             ],
             [
              0.8888888888888888,
              "#fdca26"
             ],
             [
              1,
              "#f0f921"
             ]
            ],
            "type": "surface"
           }
          ],
          "table": [
           {
            "cells": {
             "fill": {
              "color": "#EBF0F8"
             },
             "line": {
              "color": "white"
             }
            },
            "header": {
             "fill": {
              "color": "#C8D4E3"
             },
             "line": {
              "color": "white"
             }
            },
            "type": "table"
           }
          ]
         },
         "layout": {
          "annotationdefaults": {
           "arrowcolor": "#2a3f5f",
           "arrowhead": 0,
           "arrowwidth": 1
          },
          "autotypenumbers": "strict",
          "coloraxis": {
           "colorbar": {
            "outlinewidth": 0,
            "ticks": ""
           }
          },
          "colorscale": {
           "diverging": [
            [
             0,
             "#8e0152"
            ],
            [
             0.1,
             "#c51b7d"
            ],
            [
             0.2,
             "#de77ae"
            ],
            [
             0.3,
             "#f1b6da"
            ],
            [
             0.4,
             "#fde0ef"
            ],
            [
             0.5,
             "#f7f7f7"
            ],
            [
             0.6,
             "#e6f5d0"
            ],
            [
             0.7,
             "#b8e186"
            ],
            [
             0.8,
             "#7fbc41"
            ],
            [
             0.9,
             "#4d9221"
            ],
            [
             1,
             "#276419"
            ]
           ],
           "sequential": [
            [
             0,
             "#0d0887"
            ],
            [
             0.1111111111111111,
             "#46039f"
            ],
            [
             0.2222222222222222,
             "#7201a8"
            ],
            [
             0.3333333333333333,
             "#9c179e"
            ],
            [
             0.4444444444444444,
             "#bd3786"
            ],
            [
             0.5555555555555556,
             "#d8576b"
            ],
            [
             0.6666666666666666,
             "#ed7953"
            ],
            [
             0.7777777777777778,
             "#fb9f3a"
            ],
            [
             0.8888888888888888,
             "#fdca26"
            ],
            [
             1,
             "#f0f921"
            ]
           ],
           "sequentialminus": [
            [
             0,
             "#0d0887"
            ],
            [
             0.1111111111111111,
             "#46039f"
            ],
            [
             0.2222222222222222,
             "#7201a8"
            ],
            [
             0.3333333333333333,
             "#9c179e"
            ],
            [
             0.4444444444444444,
             "#bd3786"
            ],
            [
             0.5555555555555556,
             "#d8576b"
            ],
            [
             0.6666666666666666,
             "#ed7953"
            ],
            [
             0.7777777777777778,
             "#fb9f3a"
            ],
            [
             0.8888888888888888,
             "#fdca26"
            ],
            [
             1,
             "#f0f921"
            ]
           ]
          },
          "colorway": [
           "#636efa",
           "#EF553B",
           "#00cc96",
           "#ab63fa",
           "#FFA15A",
           "#19d3f3",
           "#FF6692",
           "#B6E880",
           "#FF97FF",
           "#FECB52"
          ],
          "font": {
           "color": "#2a3f5f"
          },
          "geo": {
           "bgcolor": "white",
           "lakecolor": "white",
           "landcolor": "#E5ECF6",
           "showlakes": true,
           "showland": true,
           "subunitcolor": "white"
          },
          "hoverlabel": {
           "align": "left"
          },
          "hovermode": "closest",
          "mapbox": {
           "style": "light"
          },
          "paper_bgcolor": "white",
          "plot_bgcolor": "#E5ECF6",
          "polar": {
           "angularaxis": {
            "gridcolor": "white",
            "linecolor": "white",
            "ticks": ""
           },
           "bgcolor": "#E5ECF6",
           "radialaxis": {
            "gridcolor": "white",
            "linecolor": "white",
            "ticks": ""
           }
          },
          "scene": {
           "xaxis": {
            "backgroundcolor": "#E5ECF6",
            "gridcolor": "white",
            "gridwidth": 2,
            "linecolor": "white",
            "showbackground": true,
            "ticks": "",
            "zerolinecolor": "white"
           },
           "yaxis": {
            "backgroundcolor": "#E5ECF6",
            "gridcolor": "white",
            "gridwidth": 2,
            "linecolor": "white",
            "showbackground": true,
            "ticks": "",
            "zerolinecolor": "white"
           },
           "zaxis": {
            "backgroundcolor": "#E5ECF6",
            "gridcolor": "white",
            "gridwidth": 2,
            "linecolor": "white",
            "showbackground": true,
            "ticks": "",
            "zerolinecolor": "white"
           }
          },
          "shapedefaults": {
           "line": {
            "color": "#2a3f5f"
           }
          },
          "ternary": {
           "aaxis": {
            "gridcolor": "white",
            "linecolor": "white",
            "ticks": ""
           },
           "baxis": {
            "gridcolor": "white",
            "linecolor": "white",
            "ticks": ""
           },
           "bgcolor": "#E5ECF6",
           "caxis": {
            "gridcolor": "white",
            "linecolor": "white",
            "ticks": ""
           }
          },
          "title": {
           "x": 0.05
          },
          "xaxis": {
           "automargin": true,
           "gridcolor": "white",
           "linecolor": "white",
           "ticks": "",
           "title": {
            "standoff": 15
           },
           "zerolinecolor": "white",
           "zerolinewidth": 2
          },
          "yaxis": {
           "automargin": true,
           "gridcolor": "white",
           "linecolor": "white",
           "ticks": "",
           "title": {
            "standoff": 15
           },
           "zerolinecolor": "white",
           "zerolinewidth": 2
          }
         }
        },
        "title": {
         "text": "Discomfort Ratings by Navigation Method"
        },
        "width": 600,
        "xaxis": {
         "anchor": "y",
         "categoryarray": [
          2,
          3
         ],
         "categoryorder": "array",
         "domain": [
          0,
          1
         ],
         "title": {
          "text": "Method"
         }
        },
        "yaxis": {
         "anchor": "x",
         "domain": [
          0,
          1
         ],
         "range": [
          0,
          10
         ],
         "title": {
          "text": "Discomfort Rating"
         }
        }
       }
      }
     },
     "metadata": {},
     "output_type": "display_data"
    }
   ],
   "source": [
    "discomfort_fig = px.box(discomfort_method, x='MethodID', y='Value', color='MethodID', title='Discomfort Ratings by Navigation Method', notched=True, color_discrete_sequence=px.colors.qualitative.D3)\n",
    "discomfort_fig.update_yaxes(range=[0,10])\n",
    "discomfort_fig.update_layout(\n",
    "    xaxis_title='Method',\n",
    "    yaxis_title='Discomfort Rating',\n",
    "    width=600,\n",
    ")\n",
    "discomfort_fig.show()"
   ]
  },
  {
   "cell_type": "code",
   "execution_count": 25,
   "metadata": {},
   "outputs": [
    {
     "name": "stdout",
     "output_type": "stream",
     "text": [
      "Shapiro-Wilk total = 0.865, p = 0.000000\n",
      "Friedman = 3.984, p = 0.263240\n"
     ]
    }
   ],
   "source": [
    "model_discomfort = discomfort_method.groupby(['UserID', 'ModelID']).mean()\n",
    "\n",
    "discomfort_model_0 = model_discomfort.loc[(slice(None), 0), 'Value']\n",
    "discomfort_model_1 = model_discomfort.loc[(slice(None), 1), 'Value']\n",
    "discomfort_model_2 = model_discomfort.loc[(slice(None), 2), 'Value']\n",
    "discomfort_model_3 = model_discomfort.loc[(slice(None), 3), 'Value']\n",
    "\n",
    "#shapiro-wilk test\n",
    "stat, p = stats.shapiro(model_discomfort['Value'])\n",
    "print('Shapiro-Wilk total = %.3f, p = %.6f' % (stat, p))\n",
    "\n",
    "#Friedman test\n",
    "stat, p = stats.friedmanchisquare(discomfort_model_0, discomfort_model_1, discomfort_model_2, discomfort_model_3)\n",
    "print('Friedman = %.3f, p = %.6f' % (stat, p))"
   ]
  },
  {
   "cell_type": "code",
   "execution_count": 26,
   "metadata": {},
   "outputs": [
    {
     "name": "stderr",
     "output_type": "stream",
     "text": [
      "c:\\Users\\court\\Documents\\Github Projects\\CurrentStudy\\.venv\\Lib\\site-packages\\scipy\\stats\\_morestats.py:4088: UserWarning:\n",
      "\n",
      "Exact p-value calculation does not work if there are zeros. Switching to normal approximation.\n",
      "\n"
     ]
    },
    {
     "name": "stdout",
     "output_type": "stream",
     "text": [
      "Method 0\n",
      "Mean = 0.639\n",
      "Median = 0.500\n",
      "Std = 0.708\n",
      "Method 1\n",
      "Mean = 0.986\n",
      "Median = 0.750\n",
      "Std = 1.086\n",
      "Method 2\n",
      "Mean = 0.431\n",
      "Median = 0.125\n",
      "Std = 0.593\n",
      "Method 3\n",
      "Mean = 0.847\n",
      "Median = 0.500\n",
      "Std = 0.904\n",
      "Shapiro-Wilk 01 = 0.835, p = 0.00009\n",
      "Shapiro-Wilk 23 = 0.806, p = 0.00002\n",
      "Wilcoxon 01 = 26.500, p = 0.08727\n",
      "Wilcoxon 23 = 44.000, p = 0.10681\n"
     ]
    }
   ],
   "source": [
    "seq_method = seq_data.loc[(slice(None), slice(None)), ['Value', 'MethodID', 'ModelID']]\n",
    "seq_method['Value'] = seq_method['Value'].astype(float)\n",
    "seq_method['MethodID'] = seq_method['MethodID'].astype(float)\n",
    "seq_method['ModelID'] = seq_method['ModelID'].astype(float)\n",
    "\n",
    "# find the average for each user for each method\n",
    "seq_avg = seq_method.groupby(['UserID', 'MethodID']).mean()\n",
    "seq_method_0 = seq_avg.loc[(slice(None), 0), 'Value']\n",
    "seq_method_1 = seq_avg.loc[(slice(None), 1), 'Value']\n",
    "seq_method_2 = seq_avg.loc[(slice(None), 2), 'Value']\n",
    "seq_method_3 = seq_avg.loc[(slice(None), 3), 'Value']\n",
    "\n",
    "#shapiro-wilk test\n",
    "statt01, pt01 = stats.shapiro(seq_avg.loc[(slice(None), [0,1]), 'Value'])\n",
    "statt23, pt23 = stats.shapiro(seq_avg.loc[(slice(None), [2,3]), 'Value'])\n",
    "\n",
    "#wilcoxon test\n",
    "statw_01, p_w_01 = stats.wilcoxon(seq_method_0, seq_method_1, zero_method='pratt')\n",
    "statw_23, p_w_23 = stats.wilcoxon(seq_method_2, seq_method_3, zero_method='pratt')\n",
    "\n",
    "#paired t-test\n",
    "t_stat, p_val = stats.ttest_rel(seq_method_0, seq_method_1)\n",
    "t_stat2, p_val2 = stats.ttest_rel(seq_method_2, seq_method_3)\n",
    "\n",
    "#descriptive stats (avg, median, std)\n",
    "print('Method 0')\n",
    "print('Mean = %.3f' % seq_method_0.mean())\n",
    "print('Median = %.3f' % seq_method_0.median())\n",
    "print('Std = %.3f' % seq_method_0.std())\n",
    "\n",
    "print('Method 1')\n",
    "print('Mean = %.3f' % seq_method_1.mean())\n",
    "print('Median = %.3f' % seq_method_1.median())\n",
    "print('Std = %.3f' % seq_method_1.std())\n",
    "\n",
    "print('Method 2')\n",
    "print('Mean = %.3f' % seq_method_2.mean())\n",
    "print('Median = %.3f' % seq_method_2.median())\n",
    "print('Std = %.3f' % seq_method_2.std())\n",
    "\n",
    "print('Method 3')\n",
    "print('Mean = %.3f' % seq_method_3.mean())\n",
    "print('Median = %.3f' % seq_method_3.median())\n",
    "print('Std = %.3f' % seq_method_3.std())\n",
    "\n",
    "print('Shapiro-Wilk 01 = %.3f, p = %.5f' % (statt01, pt01))\n",
    "print('Shapiro-Wilk 23 = %.3f, p = %.5f' % (statt23, pt23))\n",
    "\n",
    "print('Wilcoxon 01 = %.3f, p = %.5f' % (statw_01, p_w_01))\n",
    "print('Wilcoxon 23 = %.3f, p = %.5f' % (statw_23, p_w_23))"
   ]
  },
  {
   "cell_type": "code",
   "execution_count": 27,
   "metadata": {},
   "outputs": [
    {
     "data": {
      "application/vnd.plotly.v1+json": {
       "config": {
        "plotlyServerURL": "https://plot.ly"
       },
       "data": [
        {
         "alignmentgroup": "True",
         "hovertemplate": "MethodID=%{x}<br>Value=%{y}<extra></extra>",
         "legendgroup": "0.0",
         "marker": {
          "color": "#1F77B4"
         },
         "name": "0.0",
         "notched": true,
         "offsetgroup": "0.0",
         "orientation": "v",
         "showlegend": true,
         "type": "box",
         "x": [
          0,
          0,
          0,
          0,
          0,
          0,
          0,
          0,
          0,
          0,
          0,
          0,
          0,
          0,
          0,
          0,
          0,
          0,
          0,
          0,
          0,
          0,
          0,
          0,
          0,
          0,
          0,
          0,
          0,
          0,
          0,
          0,
          0,
          0,
          0,
          0,
          0,
          0,
          0,
          0,
          0,
          0,
          0,
          0,
          0,
          0,
          0,
          0,
          0,
          0,
          0,
          0,
          0,
          0,
          0,
          0,
          0,
          0,
          0,
          0,
          0,
          0,
          0,
          0,
          0,
          0,
          0,
          0,
          0,
          0,
          0,
          0
         ],
         "x0": " ",
         "xaxis": "x",
         "y": [
          2,
          2,
          2,
          1,
          1,
          0,
          0,
          0,
          0,
          0,
          0,
          0,
          0,
          0,
          0,
          0,
          3,
          0,
          2,
          2,
          0,
          0,
          0,
          0,
          0,
          0,
          0,
          0,
          2,
          0,
          1,
          0,
          0,
          0,
          0,
          0,
          0,
          0,
          0,
          0,
          0,
          0,
          0,
          0,
          0,
          0,
          0,
          0,
          2,
          1,
          1,
          1,
          1,
          1,
          1,
          1,
          1,
          2,
          1,
          0,
          0,
          2,
          1,
          1,
          1,
          2,
          3,
          2,
          0,
          3,
          0,
          0
         ],
         "y0": " ",
         "yaxis": "y"
        },
        {
         "alignmentgroup": "True",
         "hovertemplate": "MethodID=%{x}<br>Value=%{y}<extra></extra>",
         "legendgroup": "1.0",
         "marker": {
          "color": "#FF7F0E"
         },
         "name": "1.0",
         "notched": true,
         "offsetgroup": "1.0",
         "orientation": "v",
         "showlegend": true,
         "type": "box",
         "x": [
          1,
          1,
          1,
          1,
          1,
          1,
          1,
          1,
          1,
          1,
          1,
          1,
          1,
          1,
          1,
          1,
          1,
          1,
          1,
          1,
          1,
          1,
          1,
          1,
          1,
          1,
          1,
          1,
          1,
          1,
          1,
          1,
          1,
          1,
          1,
          1,
          1,
          1,
          1,
          1,
          1,
          1,
          1,
          1,
          1,
          1,
          1,
          1,
          1,
          1,
          1,
          1,
          1,
          1,
          1,
          1,
          1,
          1,
          1,
          1,
          1,
          1,
          1,
          1,
          1,
          1,
          1,
          1,
          1,
          1,
          1,
          1
         ],
         "x0": " ",
         "xaxis": "x",
         "y": [
          2,
          1,
          1,
          1,
          1,
          0,
          0,
          0,
          1,
          0,
          0,
          0,
          0,
          0,
          0,
          0,
          4,
          4,
          3,
          4,
          0,
          0,
          0,
          0,
          0,
          0,
          0,
          0,
          0,
          0,
          2,
          1,
          1,
          0,
          0,
          0,
          2,
          1,
          1,
          0,
          3,
          2,
          2,
          1,
          0,
          0,
          0,
          0,
          4,
          3,
          2,
          2,
          1,
          2,
          3,
          1,
          0,
          0,
          0,
          0,
          1,
          1,
          1,
          1,
          2,
          2,
          2,
          2,
          2,
          0,
          1,
          0
         ],
         "y0": " ",
         "yaxis": "y"
        },
        {
         "alignmentgroup": "True",
         "hovertemplate": "MethodID=%{x}<br>Value=%{y}<extra></extra>",
         "legendgroup": "2.0",
         "marker": {
          "color": "#2CA02C"
         },
         "name": "2.0",
         "notched": true,
         "offsetgroup": "2.0",
         "orientation": "v",
         "showlegend": true,
         "type": "box",
         "x": [
          2,
          2,
          2,
          2,
          2,
          2,
          2,
          2,
          2,
          2,
          2,
          2,
          2,
          2,
          2,
          2,
          2,
          2,
          2,
          2,
          2,
          2,
          2,
          2,
          2,
          2,
          2,
          2,
          2,
          2,
          2,
          2,
          2,
          2,
          2,
          2,
          2,
          2,
          2,
          2,
          2,
          2,
          2,
          2,
          2,
          2,
          2,
          2,
          2,
          2,
          2,
          2,
          2,
          2,
          2,
          2,
          2,
          2,
          2,
          2,
          2,
          2,
          2,
          2,
          2,
          2,
          2,
          2,
          2,
          2,
          2,
          2
         ],
         "x0": " ",
         "xaxis": "x",
         "y": [
          1,
          1,
          0,
          0,
          0,
          0,
          0,
          1,
          1,
          0,
          0,
          0,
          0,
          0,
          0,
          0,
          3,
          2,
          1,
          1,
          0,
          0,
          0,
          0,
          0,
          0,
          0,
          0,
          3,
          2,
          1,
          0,
          1,
          0,
          0,
          0,
          0,
          0,
          0,
          0,
          0,
          0,
          0,
          0,
          0,
          0,
          0,
          0,
          1,
          1,
          1,
          1,
          2,
          2,
          1,
          0,
          0,
          0,
          0,
          0,
          0,
          0,
          0,
          0,
          1,
          1,
          1,
          1,
          0,
          0,
          0,
          0
         ],
         "y0": " ",
         "yaxis": "y"
        },
        {
         "alignmentgroup": "True",
         "hovertemplate": "MethodID=%{x}<br>Value=%{y}<extra></extra>",
         "legendgroup": "3.0",
         "marker": {
          "color": "#D62728"
         },
         "name": "3.0",
         "notched": true,
         "offsetgroup": "3.0",
         "orientation": "v",
         "showlegend": true,
         "type": "box",
         "x": [
          3,
          3,
          3,
          3,
          3,
          3,
          3,
          3,
          3,
          3,
          3,
          3,
          3,
          3,
          3,
          3,
          3,
          3,
          3,
          3,
          3,
          3,
          3,
          3,
          3,
          3,
          3,
          3,
          3,
          3,
          3,
          3,
          3,
          3,
          3,
          3,
          3,
          3,
          3,
          3,
          3,
          3,
          3,
          3,
          3,
          3,
          3,
          3,
          3,
          3,
          3,
          3,
          3,
          3,
          3,
          3,
          3,
          3,
          3,
          3,
          3,
          3,
          3,
          3,
          3,
          3,
          3,
          3,
          3,
          3,
          3,
          3
         ],
         "x0": " ",
         "xaxis": "x",
         "y": [
          0,
          0,
          0,
          0,
          0,
          0,
          0,
          0,
          0,
          0,
          0,
          0,
          1,
          0,
          0,
          0,
          2,
          2,
          1,
          1,
          0,
          0,
          0,
          0,
          0,
          0,
          0,
          0,
          1,
          2,
          4,
          4,
          0,
          0,
          0,
          0,
          0,
          0,
          1,
          0,
          3,
          2,
          2,
          1,
          1,
          1,
          0,
          1,
          1,
          1,
          1,
          1,
          1,
          1,
          2,
          1,
          1,
          1,
          1,
          2,
          2,
          2,
          2,
          1,
          3,
          2,
          2,
          2,
          1,
          0,
          0,
          0
         ],
         "y0": " ",
         "yaxis": "y"
        }
       ],
       "layout": {
        "boxmode": "overlay",
        "legend": {
         "title": {
          "text": "MethodID"
         },
         "tracegroupgap": 0
        },
        "template": {
         "data": {
          "bar": [
           {
            "error_x": {
             "color": "#2a3f5f"
            },
            "error_y": {
             "color": "#2a3f5f"
            },
            "marker": {
             "line": {
              "color": "#E5ECF6",
              "width": 0.5
             },
             "pattern": {
              "fillmode": "overlay",
              "size": 10,
              "solidity": 0.2
             }
            },
            "type": "bar"
           }
          ],
          "barpolar": [
           {
            "marker": {
             "line": {
              "color": "#E5ECF6",
              "width": 0.5
             },
             "pattern": {
              "fillmode": "overlay",
              "size": 10,
              "solidity": 0.2
             }
            },
            "type": "barpolar"
           }
          ],
          "carpet": [
           {
            "aaxis": {
             "endlinecolor": "#2a3f5f",
             "gridcolor": "white",
             "linecolor": "white",
             "minorgridcolor": "white",
             "startlinecolor": "#2a3f5f"
            },
            "baxis": {
             "endlinecolor": "#2a3f5f",
             "gridcolor": "white",
             "linecolor": "white",
             "minorgridcolor": "white",
             "startlinecolor": "#2a3f5f"
            },
            "type": "carpet"
           }
          ],
          "choropleth": [
           {
            "colorbar": {
             "outlinewidth": 0,
             "ticks": ""
            },
            "type": "choropleth"
           }
          ],
          "contour": [
           {
            "colorbar": {
             "outlinewidth": 0,
             "ticks": ""
            },
            "colorscale": [
             [
              0,
              "#0d0887"
             ],
             [
              0.1111111111111111,
              "#46039f"
             ],
             [
              0.2222222222222222,
              "#7201a8"
             ],
             [
              0.3333333333333333,
              "#9c179e"
             ],
             [
              0.4444444444444444,
              "#bd3786"
             ],
             [
              0.5555555555555556,
              "#d8576b"
             ],
             [
              0.6666666666666666,
              "#ed7953"
             ],
             [
              0.7777777777777778,
              "#fb9f3a"
             ],
             [
              0.8888888888888888,
              "#fdca26"
             ],
             [
              1,
              "#f0f921"
             ]
            ],
            "type": "contour"
           }
          ],
          "contourcarpet": [
           {
            "colorbar": {
             "outlinewidth": 0,
             "ticks": ""
            },
            "type": "contourcarpet"
           }
          ],
          "heatmap": [
           {
            "colorbar": {
             "outlinewidth": 0,
             "ticks": ""
            },
            "colorscale": [
             [
              0,
              "#0d0887"
             ],
             [
              0.1111111111111111,
              "#46039f"
             ],
             [
              0.2222222222222222,
              "#7201a8"
             ],
             [
              0.3333333333333333,
              "#9c179e"
             ],
             [
              0.4444444444444444,
              "#bd3786"
             ],
             [
              0.5555555555555556,
              "#d8576b"
             ],
             [
              0.6666666666666666,
              "#ed7953"
             ],
             [
              0.7777777777777778,
              "#fb9f3a"
             ],
             [
              0.8888888888888888,
              "#fdca26"
             ],
             [
              1,
              "#f0f921"
             ]
            ],
            "type": "heatmap"
           }
          ],
          "heatmapgl": [
           {
            "colorbar": {
             "outlinewidth": 0,
             "ticks": ""
            },
            "colorscale": [
             [
              0,
              "#0d0887"
             ],
             [
              0.1111111111111111,
              "#46039f"
             ],
             [
              0.2222222222222222,
              "#7201a8"
             ],
             [
              0.3333333333333333,
              "#9c179e"
             ],
             [
              0.4444444444444444,
              "#bd3786"
             ],
             [
              0.5555555555555556,
              "#d8576b"
             ],
             [
              0.6666666666666666,
              "#ed7953"
             ],
             [
              0.7777777777777778,
              "#fb9f3a"
             ],
             [
              0.8888888888888888,
              "#fdca26"
             ],
             [
              1,
              "#f0f921"
             ]
            ],
            "type": "heatmapgl"
           }
          ],
          "histogram": [
           {
            "marker": {
             "pattern": {
              "fillmode": "overlay",
              "size": 10,
              "solidity": 0.2
             }
            },
            "type": "histogram"
           }
          ],
          "histogram2d": [
           {
            "colorbar": {
             "outlinewidth": 0,
             "ticks": ""
            },
            "colorscale": [
             [
              0,
              "#0d0887"
             ],
             [
              0.1111111111111111,
              "#46039f"
             ],
             [
              0.2222222222222222,
              "#7201a8"
             ],
             [
              0.3333333333333333,
              "#9c179e"
             ],
             [
              0.4444444444444444,
              "#bd3786"
             ],
             [
              0.5555555555555556,
              "#d8576b"
             ],
             [
              0.6666666666666666,
              "#ed7953"
             ],
             [
              0.7777777777777778,
              "#fb9f3a"
             ],
             [
              0.8888888888888888,
              "#fdca26"
             ],
             [
              1,
              "#f0f921"
             ]
            ],
            "type": "histogram2d"
           }
          ],
          "histogram2dcontour": [
           {
            "colorbar": {
             "outlinewidth": 0,
             "ticks": ""
            },
            "colorscale": [
             [
              0,
              "#0d0887"
             ],
             [
              0.1111111111111111,
              "#46039f"
             ],
             [
              0.2222222222222222,
              "#7201a8"
             ],
             [
              0.3333333333333333,
              "#9c179e"
             ],
             [
              0.4444444444444444,
              "#bd3786"
             ],
             [
              0.5555555555555556,
              "#d8576b"
             ],
             [
              0.6666666666666666,
              "#ed7953"
             ],
             [
              0.7777777777777778,
              "#fb9f3a"
             ],
             [
              0.8888888888888888,
              "#fdca26"
             ],
             [
              1,
              "#f0f921"
             ]
            ],
            "type": "histogram2dcontour"
           }
          ],
          "mesh3d": [
           {
            "colorbar": {
             "outlinewidth": 0,
             "ticks": ""
            },
            "type": "mesh3d"
           }
          ],
          "parcoords": [
           {
            "line": {
             "colorbar": {
              "outlinewidth": 0,
              "ticks": ""
             }
            },
            "type": "parcoords"
           }
          ],
          "pie": [
           {
            "automargin": true,
            "type": "pie"
           }
          ],
          "scatter": [
           {
            "fillpattern": {
             "fillmode": "overlay",
             "size": 10,
             "solidity": 0.2
            },
            "type": "scatter"
           }
          ],
          "scatter3d": [
           {
            "line": {
             "colorbar": {
              "outlinewidth": 0,
              "ticks": ""
             }
            },
            "marker": {
             "colorbar": {
              "outlinewidth": 0,
              "ticks": ""
             }
            },
            "type": "scatter3d"
           }
          ],
          "scattercarpet": [
           {
            "marker": {
             "colorbar": {
              "outlinewidth": 0,
              "ticks": ""
             }
            },
            "type": "scattercarpet"
           }
          ],
          "scattergeo": [
           {
            "marker": {
             "colorbar": {
              "outlinewidth": 0,
              "ticks": ""
             }
            },
            "type": "scattergeo"
           }
          ],
          "scattergl": [
           {
            "marker": {
             "colorbar": {
              "outlinewidth": 0,
              "ticks": ""
             }
            },
            "type": "scattergl"
           }
          ],
          "scattermapbox": [
           {
            "marker": {
             "colorbar": {
              "outlinewidth": 0,
              "ticks": ""
             }
            },
            "type": "scattermapbox"
           }
          ],
          "scatterpolar": [
           {
            "marker": {
             "colorbar": {
              "outlinewidth": 0,
              "ticks": ""
             }
            },
            "type": "scatterpolar"
           }
          ],
          "scatterpolargl": [
           {
            "marker": {
             "colorbar": {
              "outlinewidth": 0,
              "ticks": ""
             }
            },
            "type": "scatterpolargl"
           }
          ],
          "scatterternary": [
           {
            "marker": {
             "colorbar": {
              "outlinewidth": 0,
              "ticks": ""
             }
            },
            "type": "scatterternary"
           }
          ],
          "surface": [
           {
            "colorbar": {
             "outlinewidth": 0,
             "ticks": ""
            },
            "colorscale": [
             [
              0,
              "#0d0887"
             ],
             [
              0.1111111111111111,
              "#46039f"
             ],
             [
              0.2222222222222222,
              "#7201a8"
             ],
             [
              0.3333333333333333,
              "#9c179e"
             ],
             [
              0.4444444444444444,
              "#bd3786"
             ],
             [
              0.5555555555555556,
              "#d8576b"
             ],
             [
              0.6666666666666666,
              "#ed7953"
             ],
             [
              0.7777777777777778,
              "#fb9f3a"
             ],
             [
              0.8888888888888888,
              "#fdca26"
             ],
             [
              1,
              "#f0f921"
             ]
            ],
            "type": "surface"
           }
          ],
          "table": [
           {
            "cells": {
             "fill": {
              "color": "#EBF0F8"
             },
             "line": {
              "color": "white"
             }
            },
            "header": {
             "fill": {
              "color": "#C8D4E3"
             },
             "line": {
              "color": "white"
             }
            },
            "type": "table"
           }
          ]
         },
         "layout": {
          "annotationdefaults": {
           "arrowcolor": "#2a3f5f",
           "arrowhead": 0,
           "arrowwidth": 1
          },
          "autotypenumbers": "strict",
          "coloraxis": {
           "colorbar": {
            "outlinewidth": 0,
            "ticks": ""
           }
          },
          "colorscale": {
           "diverging": [
            [
             0,
             "#8e0152"
            ],
            [
             0.1,
             "#c51b7d"
            ],
            [
             0.2,
             "#de77ae"
            ],
            [
             0.3,
             "#f1b6da"
            ],
            [
             0.4,
             "#fde0ef"
            ],
            [
             0.5,
             "#f7f7f7"
            ],
            [
             0.6,
             "#e6f5d0"
            ],
            [
             0.7,
             "#b8e186"
            ],
            [
             0.8,
             "#7fbc41"
            ],
            [
             0.9,
             "#4d9221"
            ],
            [
             1,
             "#276419"
            ]
           ],
           "sequential": [
            [
             0,
             "#0d0887"
            ],
            [
             0.1111111111111111,
             "#46039f"
            ],
            [
             0.2222222222222222,
             "#7201a8"
            ],
            [
             0.3333333333333333,
             "#9c179e"
            ],
            [
             0.4444444444444444,
             "#bd3786"
            ],
            [
             0.5555555555555556,
             "#d8576b"
            ],
            [
             0.6666666666666666,
             "#ed7953"
            ],
            [
             0.7777777777777778,
             "#fb9f3a"
            ],
            [
             0.8888888888888888,
             "#fdca26"
            ],
            [
             1,
             "#f0f921"
            ]
           ],
           "sequentialminus": [
            [
             0,
             "#0d0887"
            ],
            [
             0.1111111111111111,
             "#46039f"
            ],
            [
             0.2222222222222222,
             "#7201a8"
            ],
            [
             0.3333333333333333,
             "#9c179e"
            ],
            [
             0.4444444444444444,
             "#bd3786"
            ],
            [
             0.5555555555555556,
             "#d8576b"
            ],
            [
             0.6666666666666666,
             "#ed7953"
            ],
            [
             0.7777777777777778,
             "#fb9f3a"
            ],
            [
             0.8888888888888888,
             "#fdca26"
            ],
            [
             1,
             "#f0f921"
            ]
           ]
          },
          "colorway": [
           "#636efa",
           "#EF553B",
           "#00cc96",
           "#ab63fa",
           "#FFA15A",
           "#19d3f3",
           "#FF6692",
           "#B6E880",
           "#FF97FF",
           "#FECB52"
          ],
          "font": {
           "color": "#2a3f5f"
          },
          "geo": {
           "bgcolor": "white",
           "lakecolor": "white",
           "landcolor": "#E5ECF6",
           "showlakes": true,
           "showland": true,
           "subunitcolor": "white"
          },
          "hoverlabel": {
           "align": "left"
          },
          "hovermode": "closest",
          "mapbox": {
           "style": "light"
          },
          "paper_bgcolor": "white",
          "plot_bgcolor": "#E5ECF6",
          "polar": {
           "angularaxis": {
            "gridcolor": "white",
            "linecolor": "white",
            "ticks": ""
           },
           "bgcolor": "#E5ECF6",
           "radialaxis": {
            "gridcolor": "white",
            "linecolor": "white",
            "ticks": ""
           }
          },
          "scene": {
           "xaxis": {
            "backgroundcolor": "#E5ECF6",
            "gridcolor": "white",
            "gridwidth": 2,
            "linecolor": "white",
            "showbackground": true,
            "ticks": "",
            "zerolinecolor": "white"
           },
           "yaxis": {
            "backgroundcolor": "#E5ECF6",
            "gridcolor": "white",
            "gridwidth": 2,
            "linecolor": "white",
            "showbackground": true,
            "ticks": "",
            "zerolinecolor": "white"
           },
           "zaxis": {
            "backgroundcolor": "#E5ECF6",
            "gridcolor": "white",
            "gridwidth": 2,
            "linecolor": "white",
            "showbackground": true,
            "ticks": "",
            "zerolinecolor": "white"
           }
          },
          "shapedefaults": {
           "line": {
            "color": "#2a3f5f"
           }
          },
          "ternary": {
           "aaxis": {
            "gridcolor": "white",
            "linecolor": "white",
            "ticks": ""
           },
           "baxis": {
            "gridcolor": "white",
            "linecolor": "white",
            "ticks": ""
           },
           "bgcolor": "#E5ECF6",
           "caxis": {
            "gridcolor": "white",
            "linecolor": "white",
            "ticks": ""
           }
          },
          "title": {
           "x": 0.05
          },
          "xaxis": {
           "automargin": true,
           "gridcolor": "white",
           "linecolor": "white",
           "ticks": "",
           "title": {
            "standoff": 15
           },
           "zerolinecolor": "white",
           "zerolinewidth": 2
          },
          "yaxis": {
           "automargin": true,
           "gridcolor": "white",
           "linecolor": "white",
           "ticks": "",
           "title": {
            "standoff": 15
           },
           "zerolinecolor": "white",
           "zerolinewidth": 2
          }
         }
        },
        "title": {
         "text": "SEQ Ratings by Method"
        },
        "width": 600,
        "xaxis": {
         "anchor": "y",
         "categoryarray": [
          0,
          1,
          2,
          3
         ],
         "categoryorder": "array",
         "domain": [
          0,
          1
         ],
         "title": {
          "text": "Method"
         }
        },
        "yaxis": {
         "anchor": "x",
         "domain": [
          0,
          1
         ],
         "range": [
          0,
          6
         ],
         "title": {
          "text": "SEQ Rating"
         }
        }
       }
      }
     },
     "metadata": {},
     "output_type": "display_data"
    }
   ],
   "source": [
    "seq_fig = px.box(seq_method, x='MethodID', y='Value', color='MethodID', title='SEQ Ratings by Method', notched=True, color_discrete_sequence=px.colors.qualitative.D3)\n",
    "seq_fig.update_yaxes(range=[0,6])\n",
    "seq_fig.update_layout(\n",
    "    xaxis_title='Method',\n",
    "    yaxis_title='SEQ Rating',\n",
    "    width=600,\n",
    ")\n",
    "seq_fig.show()"
   ]
  }
 ],
 "metadata": {
  "kernelspec": {
   "display_name": ".venv",
   "language": "python",
   "name": "python3"
  },
  "language_info": {
   "codemirror_mode": {
    "name": "ipython",
    "version": 3
   },
   "file_extension": ".py",
   "mimetype": "text/x-python",
   "name": "python",
   "nbconvert_exporter": "python",
   "pygments_lexer": "ipython3",
   "version": "3.11.7"
  }
 },
 "nbformat": 4,
 "nbformat_minor": 2
}
